{
 "cells": [
  {
   "cell_type": "code",
   "execution_count": 1,
   "id": "9a3e3ed9",
   "metadata": {
    "ExecuteTime": {
     "end_time": "2022-03-04T14:25:41.533681Z",
     "start_time": "2022-03-04T14:25:41.528398Z"
    }
   },
   "outputs": [],
   "source": [
    "import project_path"
   ]
  },
  {
   "cell_type": "code",
   "execution_count": 2,
   "id": "3626008a",
   "metadata": {
    "ExecuteTime": {
     "end_time": "2022-03-04T14:25:42.909667Z",
     "start_time": "2022-03-04T14:25:41.791610Z"
    }
   },
   "outputs": [],
   "source": [
    "import matplotlib.pyplot as plt\n",
    "import numpy as np\n",
    "import os\n",
    "import pandas as pd\n",
    "import seaborn as sns\n",
    "import sqlite3 as sl\n",
    "from tqdm import tqdm\n",
    "\n",
    "from lib.utils import iterate_over\n",
    "from lib.utils import load_config_and_check\n",
    "from lib.inspector import Inspector"
   ]
  },
  {
   "cell_type": "code",
   "execution_count": 14,
   "id": "60db50a7",
   "metadata": {
    "ExecuteTime": {
     "end_time": "2022-03-04T14:28:08.279110Z",
     "start_time": "2022-03-04T14:28:08.219513Z"
    }
   },
   "outputs": [
    {
     "name": "stdout",
     "output_type": "stream",
     "text": [
      "The autoreload extension is already loaded. To reload it, use:\n",
      "  %reload_ext autoreload\n"
     ]
    }
   ],
   "source": [
    "%load_ext autoreload\n",
    "%autoreload 2"
   ]
  },
  {
   "cell_type": "code",
   "execution_count": 4,
   "id": "abc37cde",
   "metadata": {
    "ExecuteTime": {
     "end_time": "2022-03-04T14:25:47.134248Z",
     "start_time": "2022-03-04T14:25:43.795994Z"
    }
   },
   "outputs": [],
   "source": [
    "from lib.mr import ChangeQubitOrder\n",
    "config = load_config_and_check(\"../config/qmt_v09.yaml\")"
   ]
  },
  {
   "cell_type": "code",
   "execution_count": 6,
   "id": "4bcb4d2a",
   "metadata": {
    "ExecuteTime": {
     "end_time": "2022-03-02T19:55:48.287990Z",
     "start_time": "2022-03-02T19:55:48.230559Z"
    }
   },
   "outputs": [
    {
     "data": {
      "text/plain": [
       "'/home/paltenmo/projects'"
      ]
     },
     "execution_count": 6,
     "metadata": {},
     "output_type": "execute_result"
    }
   ],
   "source": [
    "module_path = os.path.abspath(os.path.join(os.pardir, os.pardir))\n",
    "module_path"
   ]
  },
  {
   "cell_type": "code",
   "execution_count": 7,
   "id": "4585675e",
   "metadata": {
    "ExecuteTime": {
     "end_time": "2022-03-02T19:56:12.758344Z",
     "start_time": "2022-03-02T19:56:12.708888Z"
    }
   },
   "outputs": [
    {
     "data": {
      "text/plain": [
       "'..'"
      ]
     },
     "execution_count": 7,
     "metadata": {},
     "output_type": "execute_result"
    }
   ],
   "source": [
    "os.pardir"
   ]
  },
  {
   "cell_type": "code",
   "execution_count": 8,
   "id": "334de693",
   "metadata": {
    "ExecuteTime": {
     "end_time": "2022-03-02T19:56:24.587364Z",
     "start_time": "2022-03-02T19:56:24.538201Z"
    }
   },
   "outputs": [
    {
     "data": {
      "text/plain": [
       "'..'"
      ]
     },
     "execution_count": 8,
     "metadata": {},
     "output_type": "execute_result"
    }
   ],
   "source": [
    "os.pardir"
   ]
  },
  {
   "cell_type": "code",
   "execution_count": 3,
   "id": "2e2a9ebf",
   "metadata": {
    "ExecuteTime": {
     "end_time": "2022-03-02T15:04:14.250164Z",
     "start_time": "2022-03-02T15:04:14.243606Z"
    }
   },
   "outputs": [],
   "source": [
    "FAKE_SOURCE = \"\"\"\n",
    "# SECTION\n",
    "# NAME: PROLOGUE\n",
    "\n",
    "import qiskit\n",
    "from qiskit import QuantumCircuit, ClassicalRegister, QuantumRegister\n",
    "from qiskit.circuit.library.standard_gates import *\n",
    "\n",
    "# SECTION\n",
    "# NAME: CIRCUIT\n",
    "\n",
    "qr_qr = QuantumRegister(9, name='qr_qr')\n",
    "cr_qr = ClassicalRegister(9, name='cr_qr')\n",
    "qc = QuantumCircuit(qr_qr, cr_qr, name='qc')\n",
    "qc.append(SXdgGate(), qargs=[qr_qr[7]], cargs=[])\n",
    "qc.append(ECRGate(), qargs=[qr_qr[2], qr_qr[6]], cargs=[])\n",
    "qc.append(iSwapGate(), qargs=[qr_qr[5], qr_qr[4]], cargs=[])\n",
    "\n",
    "# SECTION\n",
    "# NAME: OPTIMIZATION_PASSES\n",
    "\n",
    "from qiskit.transpiler import PassManager\n",
    "from qiskit.transpiler.passes import *\n",
    "passmanager = PassManager()\n",
    "qc = passmanager.run(qc)\n",
    "\n",
    "# SECTION\n",
    "# NAME: OPTIMIZATION_LEVEL\n",
    "\n",
    "from qiskit import transpile\n",
    "qc = transpile(qc, basis_gates=None, optimization_level=0)\n",
    "\n",
    "# SECTION\n",
    "# NAME: MEASUREMENT\n",
    "\n",
    "qc.measure(qr_qr, cr_qr)\n",
    "\n",
    "# SECTION\n",
    "# NAME: EXECUTION\n",
    "\n",
    "from qiskit import Aer, transpile, execute\n",
    "backend_213141889afb4ac19d274fe469f89af0 = Aer.get_backend('qasm_simulator')\n",
    "counts = execute(qc, backend=backend_213141889afb4ac19d274fe469f89af0, shots=3919).result().get_counts(qc)\n",
    "RESULT = counts\n",
    "\"\"\""
   ]
  },
  {
   "cell_type": "code",
   "execution_count": 4,
   "id": "daebcd07",
   "metadata": {
    "ExecuteTime": {
     "end_time": "2022-03-02T15:04:15.507876Z",
     "start_time": "2022-03-02T15:04:15.319568Z"
    }
   },
   "outputs": [
    {
     "ename": "TypeError",
     "evalue": "Can't instantiate abstract class ChangeQubitOrder with abstract methods check_output_relationship",
     "output_type": "error",
     "traceback": [
      "\u001b[0;31m---------------------------------------------------------------------------\u001b[0m",
      "\u001b[0;31mTypeError\u001b[0m                                 Traceback (most recent call last)",
      "\u001b[0;32m/tmp/ipykernel_751/2642011441.py\u001b[0m in \u001b[0;36m<module>\u001b[0;34m\u001b[0m\n\u001b[0;32m----> 1\u001b[0;31m \u001b[0mmr\u001b[0m \u001b[0;34m=\u001b[0m \u001b[0mChangeQubitOrder\u001b[0m\u001b[0;34m(\u001b[0m\u001b[0;34m\"prova\"\u001b[0m\u001b[0;34m,\u001b[0m \u001b[0mcode_of_source\u001b[0m\u001b[0;34m=\u001b[0m\u001b[0mFAKE_SOURCE\u001b[0m\u001b[0;34m,\u001b[0m \u001b[0mconfig\u001b[0m\u001b[0;34m=\u001b[0m\u001b[0mconfig\u001b[0m\u001b[0;34m[\u001b[0m\u001b[0;34m\"metamorphic_strategies\"\u001b[0m\u001b[0;34m]\u001b[0m\u001b[0;34m)\u001b[0m\u001b[0;34m\u001b[0m\u001b[0;34m\u001b[0m\u001b[0m\n\u001b[0m",
      "\u001b[0;31mTypeError\u001b[0m: Can't instantiate abstract class ChangeQubitOrder with abstract methods check_output_relationship"
     ]
    }
   ],
   "source": [
    "mr = ChangeQubitOrder(\"prova\", code_of_source=FAKE_SOURCE, metamorphic_strategies_config=config[\"metamorphic_strategies\"])"
   ]
  },
  {
   "cell_type": "markdown",
   "id": "2d77d3d2",
   "metadata": {},
   "source": [
    "## Separable Circuits"
   ]
  },
  {
   "cell_type": "code",
   "execution_count": 10,
   "id": "ee9faa17",
   "metadata": {
    "ExecuteTime": {
     "end_time": "2022-03-03T09:40:29.761171Z",
     "start_time": "2022-03-03T09:40:29.732002Z"
    }
   },
   "outputs": [],
   "source": [
    "circuit_code = \"\"\"qr_1 = QuantumRegister(3, name='qr_1')\n",
    "cr_1 = ClassicalRegister(3, name='cr_1')\n",
    "qc_1 = QuantumCircuit(qr_1, cr_1, name='qc_1')\n",
    "qc_1.append(SdgGate(), qargs=[qr_1[0]], cargs=[])\n",
    "qc_1.append(XGate(), qargs=[qr_1[0]], cargs=[])\n",
    "qc_1.append(RZZGate(0.4429181854627117), qargs=[qr_1[1], qr_1[0]], cargs=[])\n",
    "qc_1.append(RYYGate(2.2725577430206263), qargs=[qr_1[0], qr_1[1]], cargs=[])\n",
    "qc_1.append(TGate(), qargs=[qr_1[0]], cargs=[])\n",
    "qc_1.append(XGate(), qargs=[qr_1[2]], cargs=[])\"\"\"\n",
    "\n",
    "circuit_name = \"qc_1\"\n",
    "register_name = \"qr_1\""
   ]
  },
  {
   "cell_type": "code",
   "execution_count": 19,
   "id": "ed24f954",
   "metadata": {
    "ExecuteTime": {
     "end_time": "2022-03-03T09:49:04.496097Z",
     "start_time": "2022-03-03T09:49:04.306589Z"
    }
   },
   "outputs": [
    {
     "name": "stdout",
     "output_type": "stream",
     "text": [
      "[0]\n",
      "[0]\n",
      "[1, 0]\n",
      "add to the graph\n",
      "[0, 1]\n",
      "add to the graph\n",
      "[0]\n",
      "[2]\n"
     ]
    },
    {
     "data": {
      "image/png": "[encoded data removed]",
      "text/plain": [
       "<Figure size 432x288 with 1 Axes>"
      ]
     },
     "metadata": {},
     "output_type": "display_data"
    }
   ],
   "source": [
    "import re\n",
    "import networkx as nx\n",
    "from itertools import combinations\n",
    "\n",
    "lines = circuit_code.split(\"\\n\")\n",
    "connections = []\n",
    "circuit_related_lines = [\n",
    "    line for line in lines if f\"{circuit_name}.\" in line]\n",
    "qubit_interaction_graph = nx.Graph()\n",
    "for line in circuit_related_lines:\n",
    "    regex = f\"{register_name}\\[(\\d+)\\]\"\n",
    "    qubits_involved = re.findall(regex, line)\n",
    "    qubits_involved = [int(q) for q in qubits_involved]\n",
    "    if qubits_involved:\n",
    "        # print(qubits_involved)\n",
    "        \n",
    "        for q in qubits_involved:\n",
    "            qubit_interaction_graph.add_node(q)\n",
    "        \n",
    "        if len(qubits_involved) > 1:\n",
    "            # consider it as edge\n",
    "            print(\"add to the graph\")\n",
    "            new_edges = combinations(qubits_involved, 2)\n",
    "            qubit_interaction_graph.add_edges_from(new_edges)\n",
    "            \n",
    "nx.draw_shell(\n",
    "    qubit_interaction_graph, with_labels=True, font_weight='bold')    "
   ]
  },
  {
   "cell_type": "code",
   "execution_count": 26,
   "id": "a689b592",
   "metadata": {
    "ExecuteTime": {
     "end_time": "2022-03-03T09:51:42.899444Z",
     "start_time": "2022-03-03T09:51:42.873117Z"
    }
   },
   "outputs": [
    {
     "data": {
      "text/plain": [
       "{frozenset({0, 1}), frozenset({2})}"
      ]
     },
     "execution_count": 26,
     "metadata": {},
     "output_type": "execute_result"
    }
   ],
   "source": [
    "sub_graphs = nx.connected_components(qubit_interaction_graph)\n",
    "connected_components_set = set([frozenset(g) for g in sub_graphs])\n",
    "connected_components_set"
   ]
  },
  {
   "cell_type": "code",
   "execution_count": 27,
   "id": "65a17369",
   "metadata": {
    "ExecuteTime": {
     "end_time": "2022-03-03T09:52:01.856816Z",
     "start_time": "2022-03-03T09:52:01.830725Z"
    }
   },
   "outputs": [
    {
     "data": {
      "text/plain": [
       "{frozenset({0, 1}), frozenset({2})}"
      ]
     },
     "execution_count": 27,
     "metadata": {},
     "output_type": "execute_result"
    }
   ],
   "source": [
    "expected = {frozenset({0, 1}), frozenset({2})}\n",
    "expected"
   ]
  },
  {
   "cell_type": "code",
   "execution_count": 28,
   "id": "a67492ef",
   "metadata": {
    "ExecuteTime": {
     "end_time": "2022-03-03T09:52:14.553399Z",
     "start_time": "2022-03-03T09:52:14.527958Z"
    }
   },
   "outputs": [],
   "source": [
    "assert connected_components_set == expected"
   ]
  },
  {
   "cell_type": "code",
   "execution_count": 12,
   "id": "cd2c1673",
   "metadata": {
    "ExecuteTime": {
     "end_time": "2022-03-03T09:40:38.605066Z",
     "start_time": "2022-03-03T09:40:38.580010Z"
    }
   },
   "outputs": [
    {
     "data": {
      "text/plain": [
       "['0', '0', '1', '0', '0', '1', '0', '2']"
      ]
     },
     "execution_count": 12,
     "metadata": {},
     "output_type": "execute_result"
    }
   ],
   "source": [
    "re.findall(r\"qr_1\\[(\\d+)\\]\", circuit_code)"
   ]
  },
  {
   "cell_type": "code",
   "execution_count": 32,
   "id": "ce227fd0",
   "metadata": {
    "ExecuteTime": {
     "end_time": "2022-03-03T10:00:06.087085Z",
     "start_time": "2022-03-03T10:00:06.061161Z"
    }
   },
   "outputs": [
    {
     "name": "stdout",
     "output_type": "stream",
     "text": [
      "1\n"
     ]
    }
   ],
   "source": [
    "for x in range(1, 2):\n",
    "    print(x)"
   ]
  },
  {
   "cell_type": "markdown",
   "id": "88eff8d6",
   "metadata": {},
   "source": [
    "# Derive separated circuits"
   ]
  },
  {
   "cell_type": "code",
   "execution_count": 5,
   "id": "3765d1f5",
   "metadata": {
    "ExecuteTime": {
     "end_time": "2022-03-04T14:25:47.185165Z",
     "start_time": "2022-03-04T14:25:47.137065Z"
    }
   },
   "outputs": [],
   "source": [
    "code_of_source = \"\"\"\n",
    "\n",
    "# SECTION\n",
    "# NAME: PROLOGUE\n",
    "\n",
    "import qiskit\n",
    "from qiskit import QuantumCircuit, ClassicalRegister, QuantumRegister\n",
    "from qiskit.circuit.library.standard_gates import *\n",
    "\n",
    "# SECTION\n",
    "# NAME: CIRCUIT\n",
    "\n",
    "qr = QuantumRegister(9, name='qr')\n",
    "cr = ClassicalRegister(9, name='cr')\n",
    "qc = QuantumCircuit(qr, cr, name='qc')\n",
    "qc.append(CU3Gate(3.9641736341624023,6.167666341622349,4.176789578690695), qargs=[qr[8], qr[0]], cargs=[])\n",
    "qc.append(U3Gate(1.5736539900156161,2.6969488851398467,4.556283845054034), qargs=[qr[7]], cargs=[])\n",
    "qc.append(CXGate(), qargs=[qr[1], qr[4]], cargs=[])\n",
    "qc.append(RZGate(4.120878090041712), qargs=[qr[6]], cargs=[])\n",
    "qc.append(RCCXGate(), qargs=[qr[7], qr[3], qr[6]], cargs=[])\n",
    "qc.append(CZGate(), qargs=[qr[6], qr[5]], cargs=[])\n",
    "qc.append(DCXGate(), qargs=[qr[3], qr[7]], cargs=[])\n",
    "qc.append(ZGate(), qargs=[qr[3]], cargs=[])\n",
    "qc.append(ZGate(), qargs=[qr[6]], cargs=[])\n",
    "qc.append(TGate(), qargs=[qr[8]], cargs=[])\n",
    "qc.append(RZGate(4.7982408464889215), qargs=[qr[6]], cargs=[])\n",
    "qc.append(CU1Gate(5.872199665531033), qargs=[qr[7], qr[0]], cargs=[])\n",
    "qc.append(SGate(), qargs=[qr[0]], cargs=[])\n",
    "qc.append(CZGate(), qargs=[qr[7], qr[8]], cargs=[])\n",
    "qc.append(CRZGate(3.8424030831409595), qargs=[qr[7], qr[2]], cargs=[])\n",
    "qc.append(ZGate(), qargs=[qr[4]], cargs=[])\n",
    "qc.append(RXXGate(5.507020553946652), qargs=[qr[6], qr[8]], cargs=[])\n",
    "qc.append(CU1Gate(0.8208487059024755), qargs=[qr[0], qr[3]], cargs=[])\n",
    "\n",
    "# SECTION\n",
    "# NAME: OPTIMIZATION_PASSES\n",
    "\n",
    "from qiskit.transpiler import PassManager\n",
    "from qiskit.transpiler.passes import *\n",
    "passmanager = PassManager()\n",
    "qc = passmanager.run(qc)\n",
    "\n",
    "# SECTION\n",
    "# NAME: OPTIMIZATION_LEVEL\n",
    "\n",
    "from qiskit import transpile\n",
    "qc = transpile(qc, basis_gates=None, optimization_level=1, coupling_map=None)\n",
    "\n",
    "# SECTION\n",
    "# NAME: MEASUREMENT\n",
    "\n",
    "qc.measure(qr, cr)\n",
    "\n",
    "# SECTION\n",
    "# NAME: EXECUTION\n",
    "\n",
    "from qiskit import Aer, transpile, execute\n",
    "backend_80b3bd324dc044d8b7ff883af0ed64d0 = Aer.get_backend('qasm_simulator')\n",
    "counts = execute(qc, backend=backend_80b3bd324dc044d8b7ff883af0ed64d0, shots=3919).result().get_counts(qc)\n",
    "RESULT = counts\"\"\""
   ]
  },
  {
   "cell_type": "code",
   "execution_count": 6,
   "id": "2de7f1cb",
   "metadata": {
    "ExecuteTime": {
     "end_time": "2022-03-04T14:25:47.282989Z",
     "start_time": "2022-03-04T14:25:47.235534Z"
    }
   },
   "outputs": [],
   "source": [
    "from lib.mr import RunIndependentPartitions\n",
    "from lib.mr import AddUnusedRegister"
   ]
  },
  {
   "cell_type": "code",
   "execution_count": 7,
   "id": "a19d5860",
   "metadata": {
    "ExecuteTime": {
     "end_time": "2022-03-04T14:25:48.217710Z",
     "start_time": "2022-03-04T14:25:48.097788Z"
    }
   },
   "outputs": [],
   "source": [
    "config = load_config_and_check(\"../config/qmt_v09.yaml\")"
   ]
  },
  {
   "cell_type": "code",
   "execution_count": 25,
   "id": "5ffd6b41",
   "metadata": {
    "ExecuteTime": {
     "end_time": "2022-03-04T14:37:02.809751Z",
     "start_time": "2022-03-04T14:37:02.556818Z"
    }
   },
   "outputs": [
    {
     "name": "stdout",
     "output_type": "stream",
     "text": [
      "# SECTION\n",
      "# NAME: PROLOGUE\n",
      "\n",
      "import qiskit\n",
      "from qiskit import QuantumCircuit, ClassicalRegister, QuantumRegister\n",
      "from qiskit.circuit.library.standard_gates import *\n",
      "# SECTION\n",
      "# NAME: CIRCUIT\n",
      "\n",
      "qr = QuantumRegister(9, name='qr')\n",
      "cr = ClassicalRegister(9, name='cr')\n",
      "qc = QuantumCircuit(qr, cr, name='qc')\n",
      "qc.append(CU3Gate(3.9641736341624023, 6.167666341622349, 4.176789578690695), qargs=[qr[8], qr[0]], cargs=[])\n",
      "qc.append(U3Gate(1.5736539900156161, 2.6969488851398467, 4.556283845054034), qargs=[qr[7]], cargs=[])\n",
      "qc.append(CXGate(), qargs=[qr[1], qr[4]], cargs=[])\n",
      "qc.append(RZGate(4.120878090041712), qargs=[qr[6]], cargs=[])\n",
      "qc.append(RCCXGate(), qargs=[qr[7], qr[3], qr[6]], cargs=[])\n",
      "qc.append(CZGate(), qargs=[qr[6], qr[5]], cargs=[])\n",
      "qc.append(DCXGate(), qargs=[qr[3], qr[7]], cargs=[])\n",
      "qc.append(ZGate(), qargs=[qr[3]], cargs=[])\n",
      "qc.append(ZGate(), qargs=[qr[6]], cargs=[])\n",
      "qc.append(TGate(), qargs=[qr[8]], cargs=[])\n",
      "qc.append(RZGate(4.7982408464889215), qargs=[qr[6]], cargs=[])\n",
      "qc.append(CU1Gate(5.872199665531033), qargs=[qr[7], qr[0]], cargs=[])\n",
      "qc.append(SGate(), qargs=[qr[0]], cargs=[])\n",
      "qc.append(CZGate(), qargs=[qr[7], qr[8]], cargs=[])\n",
      "qc.append(CRZGate(3.8424030831409595), qargs=[qr[7], qr[2]], cargs=[])\n",
      "qc.append(ZGate(), qargs=[qr[4]], cargs=[])\n",
      "qc.append(RXXGate(5.507020553946652), qargs=[qr[6], qr[8]], cargs=[])\n",
      "qc.append(CU1Gate(0.8208487059024755), qargs=[qr[0], qr[3]], cargs=[])\n",
      "# SECTION\n",
      "# NAME: USELESS_ENTITIES\n",
      "\n",
      "qr_954854 = QuantumRegister(8, name='qr_954854')\n",
      "qc.add_register(qr_954854)\n",
      "# SECTION\n",
      "# NAME: OPTIMIZATION_PASSES\n",
      "\n",
      "from qiskit.transpiler import PassManager\n",
      "from qiskit.transpiler.passes import *\n",
      "passmanager = PassManager()\n",
      "qc = passmanager.run(qc)\n",
      "# SECTION\n",
      "# NAME: OPTIMIZATION_LEVEL\n",
      "\n",
      "from qiskit import transpile\n",
      "qc = transpile(qc, basis_gates=None, optimization_level=1, coupling_map=None)\n",
      "# SECTION\n",
      "# NAME: MEASUREMENT\n",
      "\n",
      "qc.measure(qr, cr)\n",
      "# SECTION\n",
      "# NAME: EXECUTION\n",
      "\n",
      "from qiskit import Aer, transpile, execute\n",
      "backend_80b3bd324dc044d8b7ff883af0ed64d0 = Aer.get_backend('qasm_simulator')\n",
      "counts = execute(qc, backend=backend_80b3bd324dc044d8b7ff883af0ed64d0, shots=3919).result().get_counts(qc)\n",
      "RESULT = counts\n",
      "\n"
     ]
    }
   ],
   "source": [
    "transf = AddUnusedRegister(\n",
    "    name=\"AddUnusedRegister\",\n",
    "    metamorphic_strategies_config=config[\"metamorphic_strategies\"],\n",
    "    detectors_config=config[\"detectors\"]        \n",
    ")\n",
    "out = transf.derive(code_of_source)\n",
    "print(out)"
   ]
  },
  {
   "cell_type": "code",
   "execution_count": 31,
   "id": "a3ac0358",
   "metadata": {
    "ExecuteTime": {
     "end_time": "2022-03-03T14:22:33.235501Z",
     "start_time": "2022-03-03T14:22:32.930203Z"
    },
    "scrolled": false
   },
   "outputs": [
    {
     "name": "stdout",
     "output_type": "stream",
     "text": [
      "{'name': 'qc', 'quantum_register': 'qr', 'classical_register': 'cr', 'size': 9}\n",
      "{frozenset({1, 4}), frozenset({0, 2, 3, 5, 6, 7, 8})}\n",
      "[0 1]\n",
      "clusters_of_this_partition [frozenset({1, 4})]\n",
      "0 partition) qubits_of_this_partition: [1, 4]\n",
      "clusters_of_this_partition [frozenset({0, 2, 3, 5, 6, 7, 8})]\n",
      "1 partition) qubits_of_this_partition: [0, 2, 3, 5, 6, 7, 8]\n",
      "# SECTION\n",
      "# NAME: PROLOGUE\n",
      "\n",
      "import qiskit\n",
      "from qiskit import QuantumCircuit, ClassicalRegister, QuantumRegister\n",
      "from qiskit.circuit.library.standard_gates import *\n",
      "# SECTION\n",
      "# NAME: CIRCUIT\n",
      "\n",
      "qr_1 = QuantumRegister(2, name='qr_1')\n",
      "cr_1 = ClassicalRegister(2, name='cr_1')\n",
      "qc_1 = QuantumCircuit(qr_1, cr_1, name='qc_1')\n",
      "\n",
      "\n",
      "qc_1.append(CXGate(), qargs=[qr_1[0], qr_1[1]], cargs=[])\n",
      "qc_1.append(ZGate(), qargs=[qr_1[1]], cargs=[])\n",
      "\n",
      "\n",
      "qr_2 = QuantumRegister(7, name='qr_2')\n",
      "cr_2 = ClassicalRegister(7, name='cr_2')\n",
      "qc_2 = QuantumCircuit(qr_2, cr_2, name='qc_2')\n",
      "\n",
      "\n",
      "qc_2.append(CU3Gate(3.9641736341624023, 6.167666341622349, \n",
      "    4.176789578690695), qargs=[qr_2[6], qr_2[0]], cargs=[])\n",
      "qc_2.append(U3Gate(1.5736539900156161, 2.6969488851398467, \n",
      "    4.556283845054034), qargs=[qr_2[5]], cargs=[])\n",
      "qc_2.append(RZGate(4.120878090041712), qargs=[qr_2[4]], cargs=[])\n",
      "qc_2.append(RCCXGate(), qargs=[qr_2[5], qr_2[2], qr_2[4]], cargs=[])\n",
      "qc_2.append(CZGate(), qargs=[qr_2[4], qr_2[3]], cargs=[])\n",
      "qc_2.append(DCXGate(), qargs=[qr_2[2], qr_2[5]], cargs=[])\n",
      "qc_2.append(ZGate(), qargs=[qr_2[2]], cargs=[])\n",
      "qc_2.append(ZGate(), qargs=[qr_2[4]], cargs=[])\n",
      "qc_2.append(TGate(), qargs=[qr_2[6]], cargs=[])\n",
      "qc_2.append(RZGate(4.7982408464889215), qargs=[qr_2[4]], cargs=[])\n",
      "qc_2.append(CU1Gate(5.872199665531033), qargs=[qr_2[5], qr_2[0]], cargs=[])\n",
      "qc_2.append(SGate(), qargs=[qr_2[0]], cargs=[])\n",
      "qc_2.append(CZGate(), qargs=[qr_2[5], qr_2[6]], cargs=[])\n",
      "qc_2.append(CRZGate(3.8424030831409595), qargs=[qr_2[5], qr_2[1]], cargs=[])\n",
      "qc_2.append(RXXGate(5.507020553946652), qargs=[qr_2[4], qr_2[6]], cargs=[])\n",
      "qc_2.append(CU1Gate(0.8208487059024755), qargs=[qr_2[0], qr_2[2]], cargs=[])\n",
      "# SECTION\n",
      "# NAME: OPTIMIZATION_PASSES\n",
      "\n",
      "from qiskit.transpiler import PassManager\n",
      "from qiskit.transpiler.passes import *\n",
      "passmanager = PassManager()\n",
      "qc_1 = passmanager.run(qc_1)\n",
      "qc_2 = passmanager.run(qc_2)\n",
      "# SECTION\n",
      "# NAME: OPTIMIZATION_LEVEL\n",
      "\n",
      "from qiskit import transpile\n",
      "qc_1 = transpile(qc_1, basis_gates=None, optimization_level=1, coupling_map=None)\n",
      "qc_2 = transpile(qc_2, basis_gates=None, optimization_level=1, coupling_map=None)\n",
      "# SECTION\n",
      "# NAME: MEASUREMENT\n",
      "\n",
      "qc_1.measure(qr_1, cr_1)\n",
      "qc_2.measure(qr_2, cr_2)\n",
      "# SECTION\n",
      "# NAME: EXECUTION\n",
      "\n",
      "from qiskit import Aer, transpile, execute\n",
      "backend_80b3bd324dc044d8b7ff883af0ed64d0 = Aer.get_backend('qasm_simulator')\n",
      "counts_1 = execute(qc_1, backend=backend_80b3bd324dc044d8b7ff883af0ed64d0, shots=3919).result().get_counts(qc_1)\n",
      "counts_2 = execute(qc_2, backend=backend_80b3bd324dc044d8b7ff883af0ed64d0, shots=3919).result().get_counts(qc_2)\n",
      "RESULT = [counts_1, counts_2]\n",
      "\n"
     ]
    }
   ],
   "source": [
    "transf = RunIndependentPartitions(\n",
    "    name=\"RunIndependentPartitions\",\n",
    "    metamorphic_strategies_config=config[\"metamorphic_strategies\"],\n",
    "    detectors_config=config[\"detectors\"]        \n",
    ")\n",
    "out = transf.derive(code_of_source)\n",
    "print(out)"
   ]
  },
  {
   "cell_type": "code",
   "execution_count": 36,
   "id": "59a07d7c",
   "metadata": {
    "ExecuteTime": {
     "end_time": "2022-03-03T14:24:50.742971Z",
     "start_time": "2022-03-03T14:24:50.589282Z"
    }
   },
   "outputs": [],
   "source": [
    "GLOBALS = {\"RESULT\": 0}\n",
    "exec(out, GLOBALS)\n",
    "result = GLOBALS[\"RESULT\"]"
   ]
  },
  {
   "cell_type": "code",
   "execution_count": 37,
   "id": "e1b070d4",
   "metadata": {
    "ExecuteTime": {
     "end_time": "2022-03-03T14:24:56.674347Z",
     "start_time": "2022-03-03T14:24:56.622242Z"
    }
   },
   "outputs": [
    {
     "data": {
      "text/plain": [
       "[{'00': 3919},\n",
       " {'1010000': 275, '0000000': 1714, '1110100': 292, '0100100': 1638}]"
      ]
     },
     "execution_count": 37,
     "metadata": {},
     "output_type": "execute_result"
    }
   ],
   "source": [
    "result"
   ]
  },
  {
   "cell_type": "code",
   "execution_count": 38,
   "id": "891f0336",
   "metadata": {
    "ExecuteTime": {
     "end_time": "2022-03-03T14:25:17.339141Z",
     "start_time": "2022-03-03T14:25:17.287717Z"
    }
   },
   "outputs": [
    {
     "data": {
      "text/plain": [
       "{'101000000': 1077725,\n",
       " '000000000': 6717166,\n",
       " '111001000': 1144348,\n",
       " '010001000': 6419322}"
      ]
     },
     "execution_count": 38,
     "metadata": {},
     "output_type": "execute_result"
    }
   ],
   "source": [
    "transf._reconstruct(result)"
   ]
  },
  {
   "cell_type": "code",
   "execution_count": 32,
   "id": "f32f50dd",
   "metadata": {
    "ExecuteTime": {
     "end_time": "2022-03-03T14:22:47.594523Z",
     "start_time": "2022-03-03T14:22:47.387544Z"
    }
   },
   "outputs": [],
   "source": [
    "# SECTION\n",
    "# NAME: PROLOGUE\n",
    "\n",
    "import qiskit\n",
    "from qiskit import QuantumCircuit, ClassicalRegister, QuantumRegister\n",
    "from qiskit.circuit.library.standard_gates import *\n",
    "# SECTION\n",
    "# NAME: CIRCUIT\n",
    "\n",
    "qr_1 = QuantumRegister(2, name='qr_1')\n",
    "cr_1 = ClassicalRegister(2, name='cr_1')\n",
    "qc_1 = QuantumCircuit(qr_1, cr_1, name='qc_1')\n",
    "\n",
    "qc_1.append(CXGate(), qargs=[qr_1[0], qr_1[1]], cargs=[])\n",
    "qc_1.append(ZGate(), qargs=[qr_1[1]], cargs=[])\n",
    "\n",
    "\n",
    "qr_2 = QuantumRegister(7, name='qr_2')\n",
    "cr_2 = ClassicalRegister(7, name='cr_2')\n",
    "qc_2 = QuantumCircuit(qr_2, cr_2, name='qc_2')\n",
    "\n",
    "\n",
    "qc_2.append(CU3Gate(3.9641736341624023, 6.167666341622349, \n",
    "    4.176789578690695), qargs=[qr_2[6], qr_2[0]], cargs=[])\n",
    "qc_2.append(U3Gate(1.5736539900156161, 2.6969488851398467, \n",
    "    4.556283845054034), qargs=[qr_2[5]], cargs=[])\n",
    "qc_2.append(RZGate(4.120878090041712), qargs=[qr_2[4]], cargs=[])\n",
    "qc_2.append(RCCXGate(), qargs=[qr_2[5], qr_2[2], qr_2[4]], cargs=[])\n",
    "qc_2.append(CZGate(), qargs=[qr_2[4], qr_2[3]], cargs=[])\n",
    "qc_2.append(DCXGate(), qargs=[qr_2[2], qr_2[5]], cargs=[])\n",
    "qc_2.append(ZGate(), qargs=[qr_2[2]], cargs=[])\n",
    "qc_2.append(ZGate(), qargs=[qr_2[4]], cargs=[])\n",
    "qc_2.append(TGate(), qargs=[qr_2[6]], cargs=[])\n",
    "qc_2.append(RZGate(4.7982408464889215), qargs=[qr_2[4]], cargs=[])\n",
    "qc_2.append(CU1Gate(5.872199665531033), qargs=[qr_2[5], qr_2[0]], cargs=[])\n",
    "qc_2.append(SGate(), qargs=[qr_2[0]], cargs=[])\n",
    "qc_2.append(CZGate(), qargs=[qr_2[5], qr_2[6]], cargs=[])\n",
    "qc_2.append(CRZGate(3.8424030831409595), qargs=[qr_2[5], qr_2[1]], cargs=[])\n",
    "qc_2.append(RXXGate(5.507020553946652), qargs=[qr_2[4], qr_2[6]], cargs=[])\n",
    "qc_2.append(CU1Gate(0.8208487059024755), qargs=[qr_2[0], qr_2[2]], cargs=[])\n",
    "# SECTION\n",
    "# NAME: OPTIMIZATION_PASSES\n",
    "\n",
    "from qiskit.transpiler import PassManager\n",
    "from qiskit.transpiler.passes import *\n",
    "passmanager = PassManager()\n",
    "qc_1 = passmanager.run(qc_1)\n",
    "qc_2 = passmanager.run(qc_2)\n",
    "# SECTION\n",
    "# NAME: OPTIMIZATION_LEVEL\n",
    "\n",
    "from qiskit import transpile\n",
    "qc_1 = transpile(qc_1, basis_gates=None, optimization_level=1, coupling_map=None)\n",
    "qc_2 = transpile(qc_2, basis_gates=None, optimization_level=1, coupling_map=None)\n",
    "# SECTION\n",
    "# NAME: MEASUREMENT\n",
    "\n",
    "qc_1.measure(qr_1, cr_1)\n",
    "qc_2.measure(qr_2, cr_2)\n",
    "# SECTION\n",
    "# NAME: EXECUTION\n",
    "\n",
    "from qiskit import Aer, transpile, execute\n",
    "backend_80b3bd324dc044d8b7ff883af0ed64d0 = Aer.get_backend('qasm_simulator')\n",
    "counts_1 = execute(qc_1, backend=backend_80b3bd324dc044d8b7ff883af0ed64d0, shots=3919).result().get_counts(qc_1)\n",
    "counts_2 = execute(qc_2, backend=backend_80b3bd324dc044d8b7ff883af0ed64d0, shots=3919).result().get_counts(qc_2)\n",
    "RESULT = [counts_1, counts_2]\n"
   ]
  },
  {
   "cell_type": "code",
   "execution_count": 33,
   "id": "32e5c92e",
   "metadata": {
    "ExecuteTime": {
     "end_time": "2022-03-03T14:22:48.609098Z",
     "start_time": "2022-03-03T14:22:48.549405Z"
    }
   },
   "outputs": [
    {
     "data": {
      "text/plain": [
       "{'101000000': 1065968,\n",
       " '010001000': 6627029,\n",
       " '111001000': 1046373,\n",
       " '000000000': 6619191}"
      ]
     },
     "execution_count": 33,
     "metadata": {},
     "output_type": "execute_result"
    }
   ],
   "source": [
    "transf._reconstruct(RESULT)"
   ]
  },
  {
   "cell_type": "code",
   "execution_count": 34,
   "id": "2207a332",
   "metadata": {
    "ExecuteTime": {
     "end_time": "2022-03-03T14:22:51.346422Z",
     "start_time": "2022-03-03T14:22:51.297452Z"
    }
   },
   "outputs": [
    {
     "data": {
      "text/plain": [
       "{'00': 3919}"
      ]
     },
     "execution_count": 34,
     "metadata": {},
     "output_type": "execute_result"
    }
   ],
   "source": [
    "RESULT[0]"
   ]
  },
  {
   "cell_type": "code",
   "execution_count": 35,
   "id": "b3008d7d",
   "metadata": {
    "ExecuteTime": {
     "end_time": "2022-03-03T14:22:52.155367Z",
     "start_time": "2022-03-03T14:22:52.104115Z"
    }
   },
   "outputs": [
    {
     "data": {
      "text/plain": [
       "{'1010000': 272, '0100100': 1691, '1110100': 267, '0000000': 1689}"
      ]
     },
     "execution_count": 35,
     "metadata": {},
     "output_type": "execute_result"
    }
   ],
   "source": [
    "RESULT[1]"
   ]
  },
  {
   "cell_type": "code",
   "execution_count": 48,
   "id": "807500f4",
   "metadata": {
    "ExecuteTime": {
     "end_time": "2022-03-03T14:50:09.463592Z",
     "start_time": "2022-03-03T14:50:09.411574Z"
    }
   },
   "outputs": [],
   "source": [
    "import ast\n",
    "import astpretty\n",
    "\n",
    "def show_tree(code: str):\n",
    "    tree = ast.parse(code)\n",
    "    astpretty.pprint(tree)"
   ]
  },
  {
   "cell_type": "code",
   "execution_count": 49,
   "id": "4e44ef3d",
   "metadata": {
    "ExecuteTime": {
     "end_time": "2022-03-03T14:50:10.332300Z",
     "start_time": "2022-03-03T14:50:10.280571Z"
    }
   },
   "outputs": [
    {
     "name": "stdout",
     "output_type": "stream",
     "text": [
      "Module(\n",
      "    body=[\n",
      "        Assign(\n",
      "            lineno=2,\n",
      "            col_offset=0,\n",
      "            end_lineno=2,\n",
      "            end_col_offset=84,\n",
      "            targets=[Name(lineno=2, col_offset=0, end_lineno=2, end_col_offset=1, id='a', ctx=Store())],\n",
      "            value=List(\n",
      "                lineno=2,\n",
      "                col_offset=4,\n",
      "                end_lineno=2,\n",
      "                end_col_offset=84,\n",
      "                elts=[\n",
      "                    List(\n",
      "                        lineno=2,\n",
      "                        col_offset=5,\n",
      "                        end_lineno=2,\n",
      "                        end_col_offset=11,\n",
      "                        elts=[\n",
      "                            Constant(lineno=2, col_offset=6, end_lineno=2, end_col_offset=7, value=0, kind=None),\n",
      "                            Constant(lineno=2, col_offset=9, end_lineno=2, end_col_offset=10, value=1, kind=None),\n",
      "                        ],\n",
      "                        ctx=Load(),\n",
      "                    ),\n",
      "                    List(\n",
      "                        lineno=2,\n",
      "                        col_offset=13,\n",
      "                        end_lineno=2,\n",
      "                        end_col_offset=19,\n",
      "                        elts=[\n",
      "                            Constant(lineno=2, col_offset=14, end_lineno=2, end_col_offset=15, value=0, kind=None),\n",
      "                            Constant(lineno=2, col_offset=17, end_lineno=2, end_col_offset=18, value=2, kind=None),\n",
      "                        ],\n",
      "                        ctx=Load(),\n",
      "                    ),\n",
      "                    List(\n",
      "                        lineno=2,\n",
      "                        col_offset=21,\n",
      "                        end_lineno=2,\n",
      "                        end_col_offset=27,\n",
      "                        elts=[\n",
      "                            Constant(lineno=2, col_offset=22, end_lineno=2, end_col_offset=23, value=0, kind=None),\n",
      "                            Constant(lineno=2, col_offset=25, end_lineno=2, end_col_offset=26, value=5, kind=None),\n",
      "                        ],\n",
      "                        ctx=Load(),\n",
      "                    ),\n",
      "                    List(\n",
      "                        lineno=2,\n",
      "                        col_offset=29,\n",
      "                        end_lineno=2,\n",
      "                        end_col_offset=35,\n",
      "                        elts=[\n",
      "                            Constant(lineno=2, col_offset=30, end_lineno=2, end_col_offset=31, value=1, kind=None),\n",
      "                            Constant(lineno=2, col_offset=33, end_lineno=2, end_col_offset=34, value=0, kind=None),\n",
      "                        ],\n",
      "                        ctx=Load(),\n",
      "                    ),\n",
      "                    List(\n",
      "                        lineno=2,\n",
      "                        col_offset=37,\n",
      "                        end_lineno=2,\n",
      "                        end_col_offset=43,\n",
      "                        elts=[\n",
      "                            Constant(lineno=2, col_offset=38, end_lineno=2, end_col_offset=39, value=2, kind=None),\n",
      "                            Constant(lineno=2, col_offset=41, end_lineno=2, end_col_offset=42, value=0, kind=None),\n",
      "                        ],\n",
      "                        ctx=Load(),\n",
      "                    ),\n",
      "                    List(\n",
      "                        lineno=2,\n",
      "                        col_offset=45,\n",
      "                        end_lineno=2,\n",
      "                        end_col_offset=51,\n",
      "                        elts=[\n",
      "                            Constant(lineno=2, col_offset=46, end_lineno=2, end_col_offset=47, value=3, kind=None),\n",
      "                            Constant(lineno=2, col_offset=49, end_lineno=2, end_col_offset=50, value=4, kind=None),\n",
      "                        ],\n",
      "                        ctx=Load(),\n",
      "                    ),\n",
      "                    List(\n",
      "                        lineno=2,\n",
      "                        col_offset=53,\n",
      "                        end_lineno=2,\n",
      "                        end_col_offset=59,\n",
      "                        elts=[\n",
      "                            Constant(lineno=2, col_offset=54, end_lineno=2, end_col_offset=55, value=4, kind=None),\n",
      "                            Constant(lineno=2, col_offset=57, end_lineno=2, end_col_offset=58, value=3, kind=None),\n",
      "                        ],\n",
      "                        ctx=Load(),\n",
      "                    ),\n",
      "                    List(\n",
      "                        lineno=2,\n",
      "                        col_offset=61,\n",
      "                        end_lineno=2,\n",
      "                        end_col_offset=67,\n",
      "                        elts=[\n",
      "                            Constant(lineno=2, col_offset=62, end_lineno=2, end_col_offset=63, value=4, kind=None),\n",
      "                            Constant(lineno=2, col_offset=65, end_lineno=2, end_col_offset=66, value=5, kind=None),\n",
      "                        ],\n",
      "                        ctx=Load(),\n",
      "                    ),\n",
      "                    List(\n",
      "                        lineno=2,\n",
      "                        col_offset=69,\n",
      "                        end_lineno=2,\n",
      "                        end_col_offset=75,\n",
      "                        elts=[\n",
      "                            Constant(lineno=2, col_offset=70, end_lineno=2, end_col_offset=71, value=5, kind=None),\n",
      "                            Constant(lineno=2, col_offset=73, end_lineno=2, end_col_offset=74, value=0, kind=None),\n",
      "                        ],\n",
      "                        ctx=Load(),\n",
      "                    ),\n",
      "                    List(\n",
      "                        lineno=2,\n",
      "                        col_offset=77,\n",
      "                        end_lineno=2,\n",
      "                        end_col_offset=83,\n",
      "                        elts=[\n",
      "                            Constant(lineno=2, col_offset=78, end_lineno=2, end_col_offset=79, value=5, kind=None),\n",
      "                            Constant(lineno=2, col_offset=81, end_lineno=2, end_col_offset=82, value=4, kind=None),\n",
      "                        ],\n",
      "                        ctx=Load(),\n",
      "                    ),\n",
      "                ],\n",
      "                ctx=Load(),\n",
      "            ),\n",
      "            type_comment=None,\n",
      "        ),\n",
      "    ],\n",
      "    type_ignores=[],\n",
      ")\n"
     ]
    }
   ],
   "source": [
    "show_tree(\"\"\"\n",
    "a = [[0, 1], [0, 2], [0, 5], [1, 0], [2, 0], [3, 4], [4, 3], [4, 5], [5, 0], [5, 4]]\n",
    "\"\"\")"
   ]
  },
  {
   "cell_type": "code",
   "execution_count": 50,
   "id": "66fa2e32",
   "metadata": {
    "ExecuteTime": {
     "end_time": "2022-03-03T16:36:27.591237Z",
     "start_time": "2022-03-03T16:36:22.328511Z"
    }
   },
   "outputs": [
    {
     "name": "stdout",
     "output_type": "stream",
     "text": [
      "Requirement already satisfied: qiskit-aer-gpu in /home/paltenmo/.conda/envs/ML4Quantum/lib/python3.8/site-packages (0.9.1)\n",
      "Requirement already satisfied: numpy>=1.16.3 in /home/paltenmo/.conda/envs/ML4Quantum/lib/python3.8/site-packages (from qiskit-aer-gpu) (1.20.0)\n",
      "Requirement already satisfied: qiskit-terra>=0.17.0 in /home/paltenmo/.conda/envs/ML4Quantum/lib/python3.8/site-packages (from qiskit-aer-gpu) (0.19.1)\n",
      "Requirement already satisfied: scipy>=1.0 in /home/paltenmo/.conda/envs/ML4Quantum/lib/python3.8/site-packages (from qiskit-aer-gpu) (1.7.3)\n",
      "Requirement already satisfied: retworkx>=0.10.1 in /home/paltenmo/.conda/envs/ML4Quantum/lib/python3.8/site-packages (from qiskit-terra>=0.17.0->qiskit-aer-gpu) (0.10.2)\n",
      "Requirement already satisfied: stevedore>=3.0.0 in /home/paltenmo/.conda/envs/ML4Quantum/lib/python3.8/site-packages (from qiskit-terra>=0.17.0->qiskit-aer-gpu) (3.5.0)\n",
      "Requirement already satisfied: ply>=3.10 in /home/paltenmo/.conda/envs/ML4Quantum/lib/python3.8/site-packages (from qiskit-terra>=0.17.0->qiskit-aer-gpu) (3.11)\n",
      "Requirement already satisfied: symengine>=0.8 in /home/paltenmo/.conda/envs/ML4Quantum/lib/python3.8/site-packages (from qiskit-terra>=0.17.0->qiskit-aer-gpu) (0.8.1)\n",
      "Requirement already satisfied: tweedledum<2.0,>=1.1 in /home/paltenmo/.conda/envs/ML4Quantum/lib/python3.8/site-packages (from qiskit-terra>=0.17.0->qiskit-aer-gpu) (1.1.1)\n",
      "Requirement already satisfied: python-dateutil>=2.8.0 in /home/paltenmo/.local/lib/python3.8/site-packages (from qiskit-terra>=0.17.0->qiskit-aer-gpu) (2.8.2)\n",
      "Requirement already satisfied: psutil>=5 in /home/paltenmo/.conda/envs/ML4Quantum/lib/python3.8/site-packages (from qiskit-terra>=0.17.0->qiskit-aer-gpu) (5.8.0)\n",
      "Requirement already satisfied: dill>=0.3 in /home/paltenmo/.conda/envs/ML4Quantum/lib/python3.8/site-packages (from qiskit-terra>=0.17.0->qiskit-aer-gpu) (0.3.4)\n",
      "Requirement already satisfied: python-constraint>=1.4 in /home/paltenmo/.conda/envs/ML4Quantum/lib/python3.8/site-packages (from qiskit-terra>=0.17.0->qiskit-aer-gpu) (1.4.0)\n",
      "Requirement already satisfied: sympy>=1.3 in /home/paltenmo/.local/lib/python3.8/site-packages (from qiskit-terra>=0.17.0->qiskit-aer-gpu) (1.8)\n",
      "Requirement already satisfied: six>=1.5 in /home/paltenmo/.conda/envs/ML4Quantum/lib/python3.8/site-packages (from python-dateutil>=2.8.0->qiskit-terra>=0.17.0->qiskit-aer-gpu) (1.16.0)\n",
      "Requirement already satisfied: pbr!=2.1.0,>=2.0.0 in /home/paltenmo/.conda/envs/ML4Quantum/lib/python3.8/site-packages (from stevedore>=3.0.0->qiskit-terra>=0.17.0->qiskit-aer-gpu) (5.8.0)\n",
      "Requirement already satisfied: mpmath>=0.19 in /home/paltenmo/.local/lib/python3.8/site-packages (from sympy>=1.3->qiskit-terra>=0.17.0->qiskit-aer-gpu) (1.2.1)\n"
     ]
    }
   ],
   "source": [
    "!pip install qiskit-aer-gpu"
   ]
  },
  {
   "cell_type": "code",
   "execution_count": null,
   "id": "26328a2b",
   "metadata": {},
   "outputs": [],
   "source": []
  }
 ],
 "metadata": {
  "kernelspec": {
   "display_name": "Python 3 (ipykernel)",
   "language": "python",
   "name": "python3"
  },
  "language_info": {
   "codemirror_mode": {
    "name": "ipython",
    "version": 3
   },
   "file_extension": ".py",
   "mimetype": "text/x-python",
   "name": "python",
   "nbconvert_exporter": "python",
   "pygments_lexer": "ipython3",
   "version": "3.8.0"
  },
  "toc": {
   "base_numbering": 1,
   "nav_menu": {},
   "number_sections": true,
   "sideBar": true,
   "skip_h1_title": false,
   "title_cell": "Table of Contents",
   "title_sidebar": "Contents",
   "toc_cell": false,
   "toc_position": {},
   "toc_section_display": true,
   "toc_window_display": true
  }
 },
 "nbformat": 4,
 "nbformat_minor": 5
}
