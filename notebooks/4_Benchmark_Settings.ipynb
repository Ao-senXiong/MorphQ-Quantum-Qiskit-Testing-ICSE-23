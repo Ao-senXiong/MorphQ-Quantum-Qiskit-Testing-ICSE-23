{
 "cells": [
  {
   "cell_type": "code",
   "execution_count": 1,
   "id": "75bfa931",
   "metadata": {
    "ExecuteTime": {
     "end_time": "2021-10-28T11:32:57.720112Z",
     "start_time": "2021-10-28T11:32:57.715706Z"
    }
   },
   "outputs": [],
   "source": [
    "# goal: use the mined dataset to create setting to verify a proposed similarity \n",
    "# measure between two outputs of platform A and platform B."
   ]
  },
  {
   "cell_type": "code",
   "execution_count": 1,
   "id": "25c988dd",
   "metadata": {
    "ExecuteTime": {
     "end_time": "2021-10-29T10:22:37.354504Z",
     "start_time": "2021-10-29T10:22:24.689681Z"
    }
   },
   "outputs": [],
   "source": [
    "import numpy as np\n",
    "import cirq\n",
    "import qiskit\n",
    "from qiskit.circuit import qpy_serialization\n",
    "from qiskit import QuantumCircuit\n",
    "from typing import List\n",
    "import math\n",
    "import pandas as pd\n",
    "from IPython.display import display\n",
    "from tqdm import tqdm\n",
    "import seaborn as sns\n",
    "import matplotlib.pyplot as plt"
   ]
  },
  {
   "cell_type": "code",
   "execution_count": 2,
   "id": "b3385c09",
   "metadata": {
    "ExecuteTime": {
     "end_time": "2021-10-29T10:22:37.362101Z",
     "start_time": "2021-10-29T10:22:37.358061Z"
    }
   },
   "outputs": [],
   "source": [
    "import os"
   ]
  },
  {
   "cell_type": "code",
   "execution_count": 3,
   "id": "c8f1e389",
   "metadata": {
    "ExecuteTime": {
     "end_time": "2021-10-29T10:22:37.377502Z",
     "start_time": "2021-10-29T10:22:37.364335Z"
    }
   },
   "outputs": [],
   "source": [
    "REAL_DATA_FOLDER = \"../data/random_program_execution\"\n",
    "RANDOM_DATA_FOLDER = \"../data/random_program_execution\""
   ]
  },
  {
   "cell_type": "code",
   "execution_count": 4,
   "id": "586743d4",
   "metadata": {
    "ExecuteTime": {
     "end_time": "2021-10-29T10:22:37.405287Z",
     "start_time": "2021-10-29T10:22:37.381409Z"
    }
   },
   "outputs": [
    {
     "name": "stdout",
     "output_type": "stream",
     "text": [
      "We have 1000 records.\n"
     ]
    },
    {
     "data": {
      "text/plain": [
       "['c4dd50fff08a5e69c61338ab4e4940baf2e1ef5e40588e509279ca210703a24d',\n",
       " '8859661d0f5ffa5a7e800954c660190aaa1ec7b012f64a65e02b57a3af8f4119',\n",
       " '00b8044c61f32593c7ed45a95f80e64d954f22d349d70df34bf7cecccfa9651f',\n",
       " '7f3448d0431c205cbdadda5ac4dcaadb30d076d6808553efb93bd29471d63608',\n",
       " '98a2731f8b61cf516471aa31e78f8b4dcb0b32e56329208bcccda4538dcf3083']"
      ]
     },
     "execution_count": 4,
     "metadata": {},
     "output_type": "execute_result"
    }
   ],
   "source": [
    "records = [\n",
    "    {\n",
    "        \"filepath\": f,\n",
    "        \"hash\": f.split(\"_\")[0],\n",
    "        \"platform\": f.split(\"_\")[1].replace(\".csv\", \"\")\n",
    "    } \n",
    "    for f in os.listdir(REAL_DATA_FOLDER)\n",
    "    if f.endswith(\".csv\")\n",
    "]\n",
    "ids = list(set([r['hash'] for r in records]))\n",
    "print(f\"We have {len(ids)} records.\")\n",
    "ids[:5]"
   ]
  },
  {
   "cell_type": "code",
   "execution_count": 5,
   "id": "4ec3a258",
   "metadata": {
    "ExecuteTime": {
     "end_time": "2021-10-29T10:22:37.419124Z",
     "start_time": "2021-10-29T10:22:37.407282Z"
    }
   },
   "outputs": [],
   "source": [
    "records_random = [\n",
    "    {\n",
    "        \"filepath\": f,\n",
    "        \"random\": f.replace(\".csv\", \"\")\n",
    "    } \n",
    "    for f in os.listdir(RANDOM_DATA_FOLDER)\n",
    "    if f.endswith(\".csv\")\n",
    "]\n",
    "ids_random = list(set([r['random'] for r in records_random]))"
   ]
  },
  {
   "cell_type": "code",
   "execution_count": 30,
   "id": "24412e2e",
   "metadata": {
    "ExecuteTime": {
     "end_time": "2021-10-29T10:47:03.296554Z",
     "start_time": "2021-10-29T10:47:03.278018Z"
    }
   },
   "outputs": [],
   "source": [
    "def create_pairs(ids_left, suffix_left, folder_left,\n",
    "                 ids_right, suffix_right, folder_right,\n",
    "                 n_samples, shared_ids=False):\n",
    "    \"\"\"Create pairs of experiments left and rights.\n",
    "    \n",
    "    shared_ids: boolean\n",
    "        whether the sampling procedure should be done once and the IDs\n",
    "        should be shared, aka we get the same circuit from the two platforms\n",
    "    \"\"\"\n",
    "    left_candidates = np.random.choice(ids_left, size=n_samples, replace=False)\n",
    "    right_candidates = np.random.choice(ids_right, size=n_samples, replace=False)\n",
    "    if shared_ids:\n",
    "        assert sorted(ids_right) == sorted(ids_left), \"IDs left and right lists are not matching\"\n",
    "        right_candidates = left_candidates\n",
    "    left_dfs = [\n",
    "        pd.read_csv(\n",
    "            os.path.join(folder_left, f\"{id_left}{suffix_left}.csv\")\n",
    "        )\n",
    "        for id_left in left_candidates\n",
    "    ]\n",
    "    right_dfs = [\n",
    "        pd.read_csv(\n",
    "            os.path.join(folder_right, f\"{id_right}{suffix_right}.csv\")\n",
    "        )\n",
    "        for id_right in right_candidates\n",
    "    ]\n",
    "    return zip(left_dfs, right_dfs)\n",
    "    "
   ]
  },
  {
   "cell_type": "code",
   "execution_count": 7,
   "id": "370d0a51",
   "metadata": {
    "ExecuteTime": {
     "end_time": "2021-10-29T10:22:48.492480Z",
     "start_time": "2021-10-29T10:22:37.429377Z"
    }
   },
   "outputs": [],
   "source": [
    "pairs = create_pairs(ids_left=ids, suffix_left=\"_qiskit\", folder_left=REAL_DATA_FOLDER,\n",
    "                     ids_right=ids_random, suffix_right=\"\", folder_right=RANDOM_DATA_FOLDER,\n",
    "                     n_samples=50)"
   ]
  },
  {
   "cell_type": "code",
   "execution_count": 8,
   "id": "d2cd150d",
   "metadata": {
    "ExecuteTime": {
     "end_time": "2021-10-29T10:22:48.500190Z",
     "start_time": "2021-10-29T10:22:48.495847Z"
    }
   },
   "outputs": [],
   "source": [
    "from IPython.display import display, HTML"
   ]
  },
  {
   "cell_type": "code",
   "execution_count": 9,
   "id": "e6fe6e05",
   "metadata": {
    "ExecuteTime": {
     "end_time": "2021-10-29T10:22:48.567224Z",
     "start_time": "2021-10-29T10:22:48.502576Z"
    }
   },
   "outputs": [
    {
     "data": {
      "text/html": [
       "<div>\n",
       "<style scoped>\n",
       "    .dataframe tbody tr th:only-of-type {\n",
       "        vertical-align: middle;\n",
       "    }\n",
       "\n",
       "    .dataframe tbody tr th {\n",
       "        vertical-align: top;\n",
       "    }\n",
       "\n",
       "    .dataframe thead th {\n",
       "        text-align: right;\n",
       "    }\n",
       "</style>\n",
       "<table border=\"1\" class=\"dataframe\">\n",
       "  <thead>\n",
       "    <tr style=\"text-align: right;\">\n",
       "      <th></th>\n",
       "      <th>Unnamed: 0</th>\n",
       "      <th>0100101001</th>\n",
       "      <th>0001001010</th>\n",
       "      <th>1010001010</th>\n",
       "      <th>1000111000</th>\n",
       "      <th>0110111110</th>\n",
       "      <th>1101011001</th>\n",
       "      <th>0111011110</th>\n",
       "      <th>1000101011</th>\n",
       "      <th>1001010111</th>\n",
       "      <th>...</th>\n",
       "      <th>0100011110</th>\n",
       "      <th>0100000100</th>\n",
       "      <th>0110100000</th>\n",
       "      <th>1000101111</th>\n",
       "      <th>0110111001</th>\n",
       "      <th>0111100101</th>\n",
       "      <th>1111000011</th>\n",
       "      <th>1110101001</th>\n",
       "      <th>1011111011</th>\n",
       "      <th>0111001001</th>\n",
       "    </tr>\n",
       "  </thead>\n",
       "  <tbody>\n",
       "    <tr>\n",
       "      <th>0</th>\n",
       "      <td>0</td>\n",
       "      <td>1.0</td>\n",
       "      <td>1.0</td>\n",
       "      <td>1.0</td>\n",
       "      <td>1.0</td>\n",
       "      <td>1.0</td>\n",
       "      <td>1.0</td>\n",
       "      <td>1.0</td>\n",
       "      <td>1.0</td>\n",
       "      <td>1.0</td>\n",
       "      <td>...</td>\n",
       "      <td>NaN</td>\n",
       "      <td>NaN</td>\n",
       "      <td>NaN</td>\n",
       "      <td>NaN</td>\n",
       "      <td>NaN</td>\n",
       "      <td>NaN</td>\n",
       "      <td>NaN</td>\n",
       "      <td>NaN</td>\n",
       "      <td>NaN</td>\n",
       "      <td>NaN</td>\n",
       "    </tr>\n",
       "    <tr>\n",
       "      <th>1</th>\n",
       "      <td>1</td>\n",
       "      <td>NaN</td>\n",
       "      <td>NaN</td>\n",
       "      <td>1.0</td>\n",
       "      <td>2.0</td>\n",
       "      <td>2.0</td>\n",
       "      <td>NaN</td>\n",
       "      <td>1.0</td>\n",
       "      <td>2.0</td>\n",
       "      <td>1.0</td>\n",
       "      <td>...</td>\n",
       "      <td>NaN</td>\n",
       "      <td>NaN</td>\n",
       "      <td>NaN</td>\n",
       "      <td>NaN</td>\n",
       "      <td>NaN</td>\n",
       "      <td>NaN</td>\n",
       "      <td>NaN</td>\n",
       "      <td>NaN</td>\n",
       "      <td>NaN</td>\n",
       "      <td>NaN</td>\n",
       "    </tr>\n",
       "    <tr>\n",
       "      <th>2</th>\n",
       "      <td>2</td>\n",
       "      <td>NaN</td>\n",
       "      <td>3.0</td>\n",
       "      <td>1.0</td>\n",
       "      <td>1.0</td>\n",
       "      <td>1.0</td>\n",
       "      <td>NaN</td>\n",
       "      <td>3.0</td>\n",
       "      <td>1.0</td>\n",
       "      <td>NaN</td>\n",
       "      <td>...</td>\n",
       "      <td>NaN</td>\n",
       "      <td>NaN</td>\n",
       "      <td>NaN</td>\n",
       "      <td>NaN</td>\n",
       "      <td>NaN</td>\n",
       "      <td>NaN</td>\n",
       "      <td>NaN</td>\n",
       "      <td>NaN</td>\n",
       "      <td>NaN</td>\n",
       "      <td>NaN</td>\n",
       "    </tr>\n",
       "    <tr>\n",
       "      <th>3</th>\n",
       "      <td>3</td>\n",
       "      <td>NaN</td>\n",
       "      <td>3.0</td>\n",
       "      <td>NaN</td>\n",
       "      <td>1.0</td>\n",
       "      <td>2.0</td>\n",
       "      <td>NaN</td>\n",
       "      <td>NaN</td>\n",
       "      <td>2.0</td>\n",
       "      <td>NaN</td>\n",
       "      <td>...</td>\n",
       "      <td>NaN</td>\n",
       "      <td>NaN</td>\n",
       "      <td>NaN</td>\n",
       "      <td>NaN</td>\n",
       "      <td>NaN</td>\n",
       "      <td>NaN</td>\n",
       "      <td>NaN</td>\n",
       "      <td>NaN</td>\n",
       "      <td>NaN</td>\n",
       "      <td>NaN</td>\n",
       "    </tr>\n",
       "    <tr>\n",
       "      <th>4</th>\n",
       "      <td>4</td>\n",
       "      <td>NaN</td>\n",
       "      <td>2.0</td>\n",
       "      <td>4.0</td>\n",
       "      <td>NaN</td>\n",
       "      <td>3.0</td>\n",
       "      <td>NaN</td>\n",
       "      <td>2.0</td>\n",
       "      <td>3.0</td>\n",
       "      <td>1.0</td>\n",
       "      <td>...</td>\n",
       "      <td>NaN</td>\n",
       "      <td>NaN</td>\n",
       "      <td>NaN</td>\n",
       "      <td>NaN</td>\n",
       "      <td>NaN</td>\n",
       "      <td>NaN</td>\n",
       "      <td>NaN</td>\n",
       "      <td>NaN</td>\n",
       "      <td>NaN</td>\n",
       "      <td>NaN</td>\n",
       "    </tr>\n",
       "  </tbody>\n",
       "</table>\n",
       "<p>5 rows × 996 columns</p>\n",
       "</div>"
      ],
      "text/plain": [
       "   Unnamed: 0  0100101001  0001001010  1010001010  1000111000  0110111110  \\\n",
       "0           0         1.0         1.0         1.0         1.0         1.0   \n",
       "1           1         NaN         NaN         1.0         2.0         2.0   \n",
       "2           2         NaN         3.0         1.0         1.0         1.0   \n",
       "3           3         NaN         3.0         NaN         1.0         2.0   \n",
       "4           4         NaN         2.0         4.0         NaN         3.0   \n",
       "\n",
       "   1101011001  0111011110  1000101011  1001010111  ...  0100011110  \\\n",
       "0         1.0         1.0         1.0         1.0  ...         NaN   \n",
       "1         NaN         1.0         2.0         1.0  ...         NaN   \n",
       "2         NaN         3.0         1.0         NaN  ...         NaN   \n",
       "3         NaN         NaN         2.0         NaN  ...         NaN   \n",
       "4         NaN         2.0         3.0         1.0  ...         NaN   \n",
       "\n",
       "   0100000100  0110100000  1000101111  0110111001  0111100101  1111000011  \\\n",
       "0         NaN         NaN         NaN         NaN         NaN         NaN   \n",
       "1         NaN         NaN         NaN         NaN         NaN         NaN   \n",
       "2         NaN         NaN         NaN         NaN         NaN         NaN   \n",
       "3         NaN         NaN         NaN         NaN         NaN         NaN   \n",
       "4         NaN         NaN         NaN         NaN         NaN         NaN   \n",
       "\n",
       "   1110101001  1011111011  0111001001  \n",
       "0         NaN         NaN         NaN  \n",
       "1         NaN         NaN         NaN  \n",
       "2         NaN         NaN         NaN  \n",
       "3         NaN         NaN         NaN  \n",
       "4         NaN         NaN         NaN  \n",
       "\n",
       "[5 rows x 996 columns]"
      ]
     },
     "metadata": {},
     "output_type": "display_data"
    },
    {
     "data": {
      "text/html": [
       "<div>\n",
       "<style scoped>\n",
       "    .dataframe tbody tr th:only-of-type {\n",
       "        vertical-align: middle;\n",
       "    }\n",
       "\n",
       "    .dataframe tbody tr th {\n",
       "        vertical-align: top;\n",
       "    }\n",
       "\n",
       "    .dataframe thead th {\n",
       "        text-align: right;\n",
       "    }\n",
       "</style>\n",
       "<table border=\"1\" class=\"dataframe\">\n",
       "  <thead>\n",
       "    <tr style=\"text-align: right;\">\n",
       "      <th></th>\n",
       "      <th>Unnamed: 0</th>\n",
       "      <th>0111001100</th>\n",
       "      <th>1000111010</th>\n",
       "      <th>1000011010</th>\n",
       "      <th>0101001101</th>\n",
       "      <th>0111101101</th>\n",
       "      <th>0111111001</th>\n",
       "      <th>0111001001</th>\n",
       "      <th>1000011100</th>\n",
       "      <th>0011010101</th>\n",
       "      <th>...</th>\n",
       "      <th>0010101001</th>\n",
       "      <th>0110010000</th>\n",
       "      <th>1001000000</th>\n",
       "      <th>1111011101</th>\n",
       "      <th>1011000100</th>\n",
       "      <th>0100010001</th>\n",
       "      <th>0000001110</th>\n",
       "      <th>1011110101</th>\n",
       "      <th>0100000100</th>\n",
       "      <th>1011010100</th>\n",
       "    </tr>\n",
       "  </thead>\n",
       "  <tbody>\n",
       "    <tr>\n",
       "      <th>0</th>\n",
       "      <td>0</td>\n",
       "      <td>15</td>\n",
       "      <td>33</td>\n",
       "      <td>21</td>\n",
       "      <td>23</td>\n",
       "      <td>13</td>\n",
       "      <td>2.0</td>\n",
       "      <td>10</td>\n",
       "      <td>10</td>\n",
       "      <td>6.0</td>\n",
       "      <td>...</td>\n",
       "      <td>NaN</td>\n",
       "      <td>NaN</td>\n",
       "      <td>NaN</td>\n",
       "      <td>NaN</td>\n",
       "      <td>NaN</td>\n",
       "      <td>NaN</td>\n",
       "      <td>NaN</td>\n",
       "      <td>NaN</td>\n",
       "      <td>NaN</td>\n",
       "      <td>NaN</td>\n",
       "    </tr>\n",
       "    <tr>\n",
       "      <th>1</th>\n",
       "      <td>1</td>\n",
       "      <td>17</td>\n",
       "      <td>35</td>\n",
       "      <td>24</td>\n",
       "      <td>13</td>\n",
       "      <td>19</td>\n",
       "      <td>3.0</td>\n",
       "      <td>9</td>\n",
       "      <td>10</td>\n",
       "      <td>1.0</td>\n",
       "      <td>...</td>\n",
       "      <td>NaN</td>\n",
       "      <td>NaN</td>\n",
       "      <td>NaN</td>\n",
       "      <td>NaN</td>\n",
       "      <td>NaN</td>\n",
       "      <td>NaN</td>\n",
       "      <td>NaN</td>\n",
       "      <td>NaN</td>\n",
       "      <td>NaN</td>\n",
       "      <td>NaN</td>\n",
       "    </tr>\n",
       "    <tr>\n",
       "      <th>2</th>\n",
       "      <td>2</td>\n",
       "      <td>24</td>\n",
       "      <td>32</td>\n",
       "      <td>26</td>\n",
       "      <td>18</td>\n",
       "      <td>18</td>\n",
       "      <td>1.0</td>\n",
       "      <td>13</td>\n",
       "      <td>6</td>\n",
       "      <td>2.0</td>\n",
       "      <td>...</td>\n",
       "      <td>NaN</td>\n",
       "      <td>NaN</td>\n",
       "      <td>NaN</td>\n",
       "      <td>NaN</td>\n",
       "      <td>NaN</td>\n",
       "      <td>NaN</td>\n",
       "      <td>NaN</td>\n",
       "      <td>NaN</td>\n",
       "      <td>NaN</td>\n",
       "      <td>NaN</td>\n",
       "    </tr>\n",
       "    <tr>\n",
       "      <th>3</th>\n",
       "      <td>3</td>\n",
       "      <td>20</td>\n",
       "      <td>47</td>\n",
       "      <td>17</td>\n",
       "      <td>20</td>\n",
       "      <td>12</td>\n",
       "      <td>3.0</td>\n",
       "      <td>12</td>\n",
       "      <td>4</td>\n",
       "      <td>2.0</td>\n",
       "      <td>...</td>\n",
       "      <td>NaN</td>\n",
       "      <td>NaN</td>\n",
       "      <td>NaN</td>\n",
       "      <td>NaN</td>\n",
       "      <td>NaN</td>\n",
       "      <td>NaN</td>\n",
       "      <td>NaN</td>\n",
       "      <td>NaN</td>\n",
       "      <td>NaN</td>\n",
       "      <td>NaN</td>\n",
       "    </tr>\n",
       "    <tr>\n",
       "      <th>4</th>\n",
       "      <td>4</td>\n",
       "      <td>19</td>\n",
       "      <td>38</td>\n",
       "      <td>20</td>\n",
       "      <td>17</td>\n",
       "      <td>14</td>\n",
       "      <td>1.0</td>\n",
       "      <td>9</td>\n",
       "      <td>8</td>\n",
       "      <td>2.0</td>\n",
       "      <td>...</td>\n",
       "      <td>NaN</td>\n",
       "      <td>NaN</td>\n",
       "      <td>NaN</td>\n",
       "      <td>NaN</td>\n",
       "      <td>NaN</td>\n",
       "      <td>NaN</td>\n",
       "      <td>NaN</td>\n",
       "      <td>NaN</td>\n",
       "      <td>NaN</td>\n",
       "      <td>NaN</td>\n",
       "    </tr>\n",
       "  </tbody>\n",
       "</table>\n",
       "<p>5 rows × 422 columns</p>\n",
       "</div>"
      ],
      "text/plain": [
       "   Unnamed: 0  0111001100  1000111010  1000011010  0101001101  0111101101  \\\n",
       "0           0          15          33          21          23          13   \n",
       "1           1          17          35          24          13          19   \n",
       "2           2          24          32          26          18          18   \n",
       "3           3          20          47          17          20          12   \n",
       "4           4          19          38          20          17          14   \n",
       "\n",
       "   0111111001  0111001001  1000011100  0011010101  ...  0010101001  \\\n",
       "0         2.0          10          10         6.0  ...         NaN   \n",
       "1         3.0           9          10         1.0  ...         NaN   \n",
       "2         1.0          13           6         2.0  ...         NaN   \n",
       "3         3.0          12           4         2.0  ...         NaN   \n",
       "4         1.0           9           8         2.0  ...         NaN   \n",
       "\n",
       "   0110010000  1001000000  1111011101  1011000100  0100010001  0000001110  \\\n",
       "0         NaN         NaN         NaN         NaN         NaN         NaN   \n",
       "1         NaN         NaN         NaN         NaN         NaN         NaN   \n",
       "2         NaN         NaN         NaN         NaN         NaN         NaN   \n",
       "3         NaN         NaN         NaN         NaN         NaN         NaN   \n",
       "4         NaN         NaN         NaN         NaN         NaN         NaN   \n",
       "\n",
       "   1011110101  0100000100  1011010100  \n",
       "0         NaN         NaN         NaN  \n",
       "1         NaN         NaN         NaN  \n",
       "2         NaN         NaN         NaN  \n",
       "3         NaN         NaN         NaN  \n",
       "4         NaN         NaN         NaN  \n",
       "\n",
       "[5 rows x 422 columns]"
      ]
     },
     "metadata": {},
     "output_type": "display_data"
    }
   ],
   "source": [
    "for df_left, df_right in pairs:\n",
    "    display(df_left.head())\n",
    "    display(df_right.head())\n",
    "    break"
   ]
  },
  {
   "cell_type": "markdown",
   "id": "cb462e98",
   "metadata": {},
   "source": [
    "# Similarity Measures"
   ]
  },
  {
   "cell_type": "code",
   "execution_count": 37,
   "id": "05fa0d5a",
   "metadata": {
    "ExecuteTime": {
     "end_time": "2021-10-29T10:53:55.776210Z",
     "start_time": "2021-10-29T10:53:55.762722Z"
    },
    "code_folding": []
   },
   "outputs": [],
   "source": [
    "from scipy.stats import ttest_ind\n",
    "\n",
    "TOP_K_SOLUTION_TO_COMPARE = 5\n",
    "\n",
    "def score_top_k(df_master, df_slave, first_k=TOP_K_SOLUTION_TO_COMPARE):\n",
    "    # get the top k occurring solutions according to the master\n",
    "    m = df_master.fillna(0).to_numpy()\n",
    "    solution_cum_freq = m.sum(axis=0)\n",
    "    most_frequent_solutions = np.argsort(solution_cum_freq)[::-1][:first_k]\n",
    "    relevant_solutions = df_master.columns[most_frequent_solutions]\n",
    "    freqs = solution_cum_freq[most_frequent_solutions]\n",
    "    # compute p-values\n",
    "    p_values = []\n",
    "    df_master = df_master.fillna(0)\n",
    "    df_slave = df_slave.fillna(0)\n",
    "    for c in relevant_solutions:\n",
    "        try:\n",
    "            stat, p = ttest_ind(df_master[c], df_slave[c])\n",
    "        except:\n",
    "            if c not in df_master.columns:\n",
    "                print(f\"{c} column was missing from result of platform master\")\n",
    "                df_master[c] = 0\n",
    "            if c not in df_slave.columns:\n",
    "                print(f\"{c} column was missing from result of platform slave\")\n",
    "                df_slave[c] = 0\n",
    "            stat, p = ttest_ind(df_master[c], df_slave[c])    \n",
    "        p_values.append(p)\n",
    "    return min(p_values)"
   ]
  },
  {
   "cell_type": "markdown",
   "id": "40ccea84",
   "metadata": {},
   "source": [
    "# Interpretation Routine"
   ]
  },
  {
   "cell_type": "code",
   "execution_count": 27,
   "id": "f93daeb7",
   "metadata": {
    "ExecuteTime": {
     "end_time": "2021-10-29T10:41:27.060328Z",
     "start_time": "2021-10-29T10:41:27.053934Z"
    }
   },
   "outputs": [],
   "source": [
    "def interpret_as_p_value(score):\n",
    "    print(f\"P-Value like interpretation for: {score}\")\n",
    "    if score > 0.05:\n",
    "        print('Probably the same distribution')\n",
    "    else:\n",
    "        print('Probably different distributions')"
   ]
  },
  {
   "cell_type": "markdown",
   "id": "cca87071",
   "metadata": {},
   "source": [
    "# Method Selection"
   ]
  },
  {
   "cell_type": "code",
   "execution_count": 23,
   "id": "d4b46585",
   "metadata": {
    "ExecuteTime": {
     "end_time": "2021-10-29T10:40:42.488835Z",
     "start_time": "2021-10-29T10:40:42.482978Z"
    }
   },
   "outputs": [],
   "source": [
    "detector = score_top_k"
   ]
  },
  {
   "cell_type": "markdown",
   "id": "feb1d35a",
   "metadata": {
    "ExecuteTime": {
     "end_time": "2021-10-28T13:31:38.134627Z",
     "start_time": "2021-10-28T13:31:38.127744Z"
    }
   },
   "source": [
    "# Distinguish between: Real Quantum vs Uniform Random "
   ]
  },
  {
   "cell_type": "code",
   "execution_count": 28,
   "id": "df964b4b",
   "metadata": {
    "ExecuteTime": {
     "end_time": "2021-10-29T10:41:40.432047Z",
     "start_time": "2021-10-29T10:41:31.538319Z"
    }
   },
   "outputs": [
    {
     "name": "stdout",
     "output_type": "stream",
     "text": [
      "0110110010 column was missing from result of platform slave\n",
      "0010010101 column was missing from result of platform slave\n",
      "1010001100 column was missing from result of platform slave\n",
      "1100111000 column was missing from result of platform slave\n",
      "1001100101 column was missing from result of platform slave\n",
      "0000110100 column was missing from result of platform slave\n",
      "1010111110 column was missing from result of platform slave\n",
      "0010110010 column was missing from result of platform slave\n",
      "0011000000 column was missing from result of platform slave\n",
      "1101001011 column was missing from result of platform slave\n",
      "1110001111 column was missing from result of platform slave\n",
      "1110010111 column was missing from result of platform slave\n",
      "1101011101 column was missing from result of platform slave\n",
      "1001011010 column was missing from result of platform slave\n",
      "0110101110 column was missing from result of platform slave\n",
      "0001100001 column was missing from result of platform slave\n",
      "1000011011 column was missing from result of platform slave\n",
      "1001111111 column was missing from result of platform slave\n",
      "1001010000 column was missing from result of platform slave\n",
      "1011011011 column was missing from result of platform slave\n",
      "P-Value like interpretation for: 0.006583940586036732\n",
      "Probably different distributions\n"
     ]
    }
   ],
   "source": [
    "pairs = create_pairs(ids_left=ids, suffix_left=\"_qiskit\", folder_left=REAL_DATA_FOLDER,\n",
    "                     ids_right=ids_random, suffix_right=\"\", folder_right=RANDOM_DATA_FOLDER,\n",
    "                     n_samples=50)\n",
    "scores = []\n",
    "for df_left, df_right in pairs:\n",
    "    score = detector(df_left, df_right)\n",
    "    scores.append(score)\n",
    "average_score = np.mean(scores)\n",
    "interpret_as_p_value(average_score)"
   ]
  },
  {
   "cell_type": "markdown",
   "id": "08df64db",
   "metadata": {},
   "source": [
    "# Distinguish between: Same (artificial) Distribution (Random)"
   ]
  },
  {
   "cell_type": "code",
   "execution_count": 29,
   "id": "083b0fc1",
   "metadata": {
    "ExecuteTime": {
     "end_time": "2021-10-29T10:41:48.465243Z",
     "start_time": "2021-10-29T10:41:40.434352Z"
    }
   },
   "outputs": [
    {
     "name": "stdout",
     "output_type": "stream",
     "text": [
      "0110000001 column was missing from result of platform slave\n",
      "0110001001 column was missing from result of platform slave\n",
      "0001111010 column was missing from result of platform slave\n",
      "0101100011 column was missing from result of platform slave\n",
      "0110101010 column was missing from result of platform slave\n",
      "0101100100 column was missing from result of platform slave\n",
      "1000111000 column was missing from result of platform slave\n",
      "1001000000 column was missing from result of platform slave\n",
      "0011111111 column was missing from result of platform slave\n",
      "0000001110 column was missing from result of platform slave\n",
      "0010001111 column was missing from result of platform slave\n",
      "0011010110 column was missing from result of platform slave\n",
      "0101010101 column was missing from result of platform slave\n",
      "0101101000 column was missing from result of platform slave\n",
      "1001110100 column was missing from result of platform slave\n",
      "1100000100 column was missing from result of platform slave\n",
      "1100100011 column was missing from result of platform slave\n",
      "P-Value like interpretation for: 4.056455651863583e-62\n",
      "Probably different distributions\n"
     ]
    }
   ],
   "source": [
    "pairs = create_pairs(ids_left=ids_random[:500], suffix_left=\"\", folder_left=RANDOM_DATA_FOLDER,\n",
    "                     ids_right=ids_random[500:], suffix_right=\"\", folder_right=RANDOM_DATA_FOLDER,\n",
    "                     n_samples=50)\n",
    "scores = []\n",
    "for df_left, df_right in pairs:\n",
    "    score = detector(df_left, df_right)\n",
    "    scores.append(score)\n",
    "average_score = np.mean(scores)\n",
    "interpret_as_p_value(average_score)"
   ]
  },
  {
   "cell_type": "markdown",
   "id": "57acdcf4",
   "metadata": {},
   "source": [
    "**OBSERVATION**: testing only the first top-k (aka 5) bitstrings suffers when the distributions are very spread (uniform distributions)"
   ]
  },
  {
   "cell_type": "markdown",
   "id": "cc4721df",
   "metadata": {},
   "source": [
    "# Distinguish: Same Platform, Same Circuit\n",
    "Assumption: there are no bug in the sampling procedure of one platform"
   ]
  },
  {
   "cell_type": "code",
   "execution_count": 40,
   "id": "ba648b1a",
   "metadata": {
    "ExecuteTime": {
     "end_time": "2021-10-29T10:58:46.614757Z",
     "start_time": "2021-10-29T10:58:38.196465Z"
    }
   },
   "outputs": [
    {
     "name": "stdout",
     "output_type": "stream",
     "text": [
      "P-Value like interpretation for: 0.06567255596699031\n",
      "Probably the same distribution\n",
      "Platform left:\n",
      "P-Value like interpretation for: 0.06502692517881836\n",
      "Probably the same distribution\n",
      "Platform right:\n",
      "P-Value like interpretation for: 0.06631818675516228\n",
      "Probably the same distribution\n"
     ]
    }
   ],
   "source": [
    "pairs = create_pairs(ids_left=ids, suffix_left=\"_qiskit\", folder_left=REAL_DATA_FOLDER,\n",
    "                     ids_right=ids, suffix_right=\"_cirq\", folder_right=REAL_DATA_FOLDER,\n",
    "                     n_samples=50, shared_ids=True)\n",
    "scores = []\n",
    "for df_left, df_right in pairs:\n",
    "\n",
    "    for df in [df_left, df_right]:\n",
    "        # NOTE THAT WE COMPARE THE SAME PLATFORM  \n",
    "        # use the first half sampling on one side and the second half on the other\n",
    "        half = int(len(df) / 2)\n",
    "        score = detector(df[:half], df[half:])\n",
    "        scores.append(score)\n",
    "    \n",
    "print('---- overall ----')\n",
    "average_score = np.mean(scores)\n",
    "interpret_as_p_value(average_score)\n",
    "print('---- platfrom specific ----')\n",
    "scores_left = [s for i, s in enumerate(scores) if i % 2 == 0]\n",
    "scores_right = [s for i, s in enumerate(scores) if i % 2 != 0]\n",
    "for name, scores in [('left', scores_left), ('right', scores_right)]:\n",
    "    print(f'Platform {name}:')\n",
    "    average_score = np.mean(scores)\n",
    "    interpret_as_p_value(average_score)"
   ]
  },
  {
   "cell_type": "code",
   "execution_count": null,
   "id": "b03d4091",
   "metadata": {},
   "outputs": [],
   "source": []
  }
 ],
 "metadata": {
  "kernelspec": {
   "display_name": "Python 3 (ipykernel)",
   "language": "python",
   "name": "python3"
  },
  "language_info": {
   "codemirror_mode": {
    "name": "ipython",
    "version": 3
   },
   "file_extension": ".py",
   "mimetype": "text/x-python",
   "name": "python",
   "nbconvert_exporter": "python",
   "pygments_lexer": "ipython3",
   "version": "3.8.0"
  },
  "toc": {
   "base_numbering": 1,
   "nav_menu": {},
   "number_sections": true,
   "sideBar": true,
   "skip_h1_title": false,
   "title_cell": "Table of Contents",
   "title_sidebar": "Contents",
   "toc_cell": false,
   "toc_position": {},
   "toc_section_display": true,
   "toc_window_display": false
  }
 },
 "nbformat": 4,
 "nbformat_minor": 5
}
