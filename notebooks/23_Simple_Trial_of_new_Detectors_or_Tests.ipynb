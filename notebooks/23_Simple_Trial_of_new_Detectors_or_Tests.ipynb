{
 "cells": [
  {
   "cell_type": "markdown",
   "id": "f97e2f72",
   "metadata": {
    "ExecuteTime": {
     "end_time": "2022-01-21T17:17:59.479413Z",
     "start_time": "2022-01-21T17:17:59.442939Z"
    }
   },
   "source": [
    "# Setup"
   ]
  },
  {
   "cell_type": "code",
   "execution_count": 1,
   "id": "55c32d42",
   "metadata": {
    "ExecuteTime": {
     "end_time": "2022-01-21T23:44:39.595637Z",
     "start_time": "2022-01-21T23:44:35.132536Z"
    }
   },
   "outputs": [],
   "source": [
    "import pandas as pd\n",
    "import sys\n",
    "sys.path.append(\"../lib\")\n",
    "import seaborn as sns\n",
    "import matplotlib.pyplot as plt\n",
    "from utils import iterate_over\n",
    "from utils import load_config_and_check\n",
    "import os"
   ]
  },
  {
   "cell_type": "markdown",
   "id": "98d7d02e",
   "metadata": {},
   "source": [
    "## short tutorial: How to profile the time of cell"
   ]
  },
  {
   "cell_type": "code",
   "execution_count": 2,
   "id": "bfdcb1a8",
   "metadata": {
    "ExecuteTime": {
     "end_time": "2022-01-21T23:44:39.605070Z",
     "start_time": "2022-01-21T23:44:39.598988Z"
    }
   },
   "outputs": [],
   "source": [
    "%load_ext snakeviz"
   ]
  },
  {
   "cell_type": "code",
   "execution_count": 3,
   "id": "8afb89b4",
   "metadata": {
    "ExecuteTime": {
     "end_time": "2022-01-21T23:44:39.618192Z",
     "start_time": "2022-01-21T23:44:39.606918Z"
    }
   },
   "outputs": [],
   "source": [
    "#import glob"
   ]
  },
  {
   "cell_type": "code",
   "execution_count": 4,
   "id": "b125369d",
   "metadata": {
    "ExecuteTime": {
     "end_time": "2022-01-21T23:44:39.630973Z",
     "start_time": "2022-01-21T23:44:39.620635Z"
    },
    "scrolled": true
   },
   "outputs": [],
   "source": [
    "#%%prun -D program.prof\n",
    "#files = glob.glob('*.txt')\n",
    "#for file in files:\n",
    "#    with open(file) as f:\n",
    "#        print(hashlib.md5(f.read().encode('utf-8')).hexdigest())"
   ]
  },
  {
   "cell_type": "code",
   "execution_count": 5,
   "id": "d4347437",
   "metadata": {
    "ExecuteTime": {
     "end_time": "2022-01-21T23:44:39.666785Z",
     "start_time": "2022-01-21T23:44:39.632946Z"
    }
   },
   "outputs": [],
   "source": [
    "%load_ext autoreload\n",
    "%autoreload 2"
   ]
  },
  {
   "cell_type": "code",
   "execution_count": 6,
   "id": "70067e1a",
   "metadata": {
    "ExecuteTime": {
     "end_time": "2022-01-21T23:44:39.687587Z",
     "start_time": "2022-01-21T23:44:39.668725Z"
    }
   },
   "outputs": [],
   "source": [
    "res_a = {\"000000101000\": 5602, \"000000101010\": 1575, \"000000000000\": 742, \"000000101001\": 56, \"000000000010\": 195, \"000000101011\": 12, \"000000000001\": 9, \"000000000011\": 1}\n",
    "res_b = {\"000000000001\": 4, \"000000101010\": 1588, \"000000101000\": 5535, \"000000000011\": 2, \"000000000000\": 767, \"000000000010\": 219, \"000000101001\": 60, \"000000101011\": 17}"
   ]
  },
  {
   "cell_type": "code",
   "execution_count": 7,
   "id": "a812645a",
   "metadata": {
    "ExecuteTime": {
     "end_time": "2022-01-21T23:44:39.704689Z",
     "start_time": "2022-01-21T23:44:39.688917Z"
    },
    "code_folding": []
   },
   "outputs": [],
   "source": [
    "res_unif = {\n",
    "    '000000000000': 1024,\n",
    "    '000000000001': 1024,\n",
    "    '000000000010': 1024,\n",
    "    '000000000011': 1024,\n",
    "    '000000101000': 1024,\n",
    "    '000000101001': 1024,\n",
    "    '000000101010': 1024,\n",
    "    '000000101011': 1024\n",
    "}"
   ]
  },
  {
   "cell_type": "code",
   "execution_count": 8,
   "id": "c25285f9",
   "metadata": {
    "ExecuteTime": {
     "end_time": "2022-01-21T23:44:44.760736Z",
     "start_time": "2022-01-21T23:44:39.706267Z"
    }
   },
   "outputs": [],
   "source": [
    "from inspector import convert_dict_to_df\n",
    "from detectors import obtain_raw_samples\n",
    "from detectors import obtain_multivariate_samples"
   ]
  },
  {
   "cell_type": "code",
   "execution_count": 9,
   "id": "3dd11391",
   "metadata": {
    "ExecuteTime": {
     "end_time": "2022-01-21T23:44:45.068446Z",
     "start_time": "2022-01-21T23:44:44.763368Z"
    }
   },
   "outputs": [
    {
     "data": {
      "image/png": "[encoded data removed]",
      "text/plain": [
       "<Figure size 432x288 with 1 Axes>"
      ]
     },
     "metadata": {
      "needs_background": "light"
     },
     "output_type": "display_data"
    }
   ],
   "source": [
    "df = convert_dict_to_df(\n",
    "    res_a, res_b, platform_a='qiskit', platform_b='cirq'\n",
    ")\n",
    "sns.barplot(x=\"string\", hue=\"name\", y=\"counter\", data=df, palette=[\"C0\", \"C1\"])\n",
    "plt.xticks(rotation=90)\n",
    "plt.show()"
   ]
  },
  {
   "cell_type": "code",
   "execution_count": 10,
   "id": "b44f151d",
   "metadata": {
    "ExecuteTime": {
     "end_time": "2022-01-21T23:44:45.331810Z",
     "start_time": "2022-01-21T23:44:45.070820Z"
    }
   },
   "outputs": [
    {
     "data": {
      "image/png": "[encoded data removed]",
      "text/plain": [
       "<Figure size 432x288 with 1 Axes>"
      ]
     },
     "metadata": {
      "needs_background": "light"
     },
     "output_type": "display_data"
    }
   ],
   "source": [
    "df = convert_dict_to_df(\n",
    "    res_a, res_unif, platform_a='qiskit', platform_b='uniform'\n",
    ")\n",
    "sns.barplot(x=\"string\", hue=\"name\", y=\"counter\", data=df, palette=[\"C0\", \"C3\"])\n",
    "\n",
    "plt.xticks(rotation=90)\n",
    "plt.show()"
   ]
  },
  {
   "cell_type": "code",
   "execution_count": 11,
   "id": "4bd97c96",
   "metadata": {
    "ExecuteTime": {
     "end_time": "2022-01-21T23:44:45.356015Z",
     "start_time": "2022-01-21T23:44:45.333473Z"
    }
   },
   "outputs": [],
   "source": [
    "sample_a = obtain_raw_samples(res_a)\n",
    "sample_b = obtain_raw_samples(res_b)\n",
    "sample_unif = obtain_raw_samples(res_unif)"
   ]
  },
  {
   "cell_type": "code",
   "execution_count": 12,
   "id": "fa02e0df",
   "metadata": {
    "ExecuteTime": {
     "end_time": "2022-01-21T23:44:45.538872Z",
     "start_time": "2022-01-21T23:44:45.357828Z"
    }
   },
   "outputs": [],
   "source": [
    "sample_a_mv = obtain_multivariate_samples(res_a)\n",
    "sample_b_mv = obtain_multivariate_samples(res_b)\n",
    "sample_unif_mv = obtain_multivariate_samples(res_unif)"
   ]
  },
  {
   "cell_type": "markdown",
   "id": "51d9494f",
   "metadata": {},
   "source": [
    "# KS Test\n",
    "- \"Two arrays of sample observations assumed to be drawn from a continuous distribution, sample sizes can be different.\"\n",
    "https://docs.scipy.org/doc/scipy/reference/generated/scipy.stats.ks_2samp.html\n",
    "\n"
   ]
  },
  {
   "cell_type": "code",
   "execution_count": 27,
   "id": "15ee2300",
   "metadata": {
    "ExecuteTime": {
     "end_time": "2022-01-21T16:28:45.301649Z",
     "start_time": "2022-01-21T16:28:45.258203Z"
    }
   },
   "outputs": [
    {
     "data": {
      "text/plain": [
       "KstestResult(statistic=0.0054931640625, pvalue=0.9996709858409564)"
      ]
     },
     "execution_count": 27,
     "metadata": {},
     "output_type": "execute_result"
    }
   ],
   "source": [
    "from scipy.stats import ks_2samp\n",
    "from scipy.stats import kstest # alias\n",
    "\n",
    "ks_2samp(sample_a, sample_b)\n",
    "# kstest(sample_a, sample_b)"
   ]
  },
  {
   "cell_type": "code",
   "execution_count": 28,
   "id": "a56a1dd5",
   "metadata": {
    "ExecuteTime": {
     "end_time": "2022-01-21T16:28:49.004576Z",
     "start_time": "2022-01-21T16:28:48.959944Z"
    }
   },
   "outputs": [
    {
     "data": {
      "text/plain": [
       "KstestResult(statistic=0.3843994140625, pvalue=0.0)"
      ]
     },
     "execution_count": 28,
     "metadata": {},
     "output_type": "execute_result"
    }
   ],
   "source": [
    "ks_2samp(sample_a, sample_unif)"
   ]
  },
  {
   "cell_type": "markdown",
   "id": "97328199",
   "metadata": {},
   "source": [
    "# Anderson K-samples Test\n",
    "\n",
    "\n",
    "## Single Sample case\n",
    "According to [Wikipedia](https://en.wikipedia.org/wiki/Anderson%E2%80%93Darling_test), it is equivalent to [Cramér–von Mises criterion](https://en.wikipedia.org/wiki/Cram%C3%A9r%E2%80%93von_Mises_criterion) which is based on empiraical distribution functions (edf).\n",
    "\"Thus, compared with the Cramér–von Mises distance, the Anderson–Darling distance places more weight on observations in the tails of the distribution.\" [Wikipedia](https://en.wikipedia.org/wiki/Anderson%E2%80%93Darling_test)\n",
    "**we use k-sample so this is not applicable**\n",
    "\n",
    "\n",
    "Even if the scipy doc mentions categoritcal, I am not sure that the [actual implementation](https://github.com/scipy/scipy/blob/v1.7.1/scipy/stats/morestats.py#L2130) uses the categorical coefficients mentioned in the seminal [paper](https://citeseerx.ist.psu.edu/viewdoc/download?doi=10.1.1.1087.8833&rep=rep1&type=pdf) (\"K-Sample Anderson-Darling Tests\", 1987).\n",
    "\n",
    "I suspect there is another formula with other coefficeints (in table 3 of the same paper) to use."
   ]
  },
  {
   "cell_type": "code",
   "execution_count": 35,
   "id": "fa7cbc35",
   "metadata": {
    "ExecuteTime": {
     "end_time": "2022-01-21T17:03:37.591751Z",
     "start_time": "2022-01-21T17:03:37.548355Z"
    }
   },
   "outputs": [
    {
     "name": "stderr",
     "output_type": "stream",
     "text": [
      "/tmp/ipykernel_33745/2634588702.py:2: UserWarning: p-value capped: true value larger than 0.25\n",
      "  anderson_ksamp([sample_a, sample_b])\n"
     ]
    },
    {
     "data": {
      "text/plain": [
       "Anderson_ksampResult(statistic=-1.0879497538259495, critical_values=array([0.325, 1.226, 1.961, 2.718, 3.752, 4.592, 6.546]), significance_level=0.25)"
      ]
     },
     "execution_count": 35,
     "metadata": {},
     "output_type": "execute_result"
    }
   ],
   "source": [
    "from scipy.stats import anderson_ksamp\n",
    "anderson_ksamp([sample_a, sample_b])"
   ]
  },
  {
   "cell_type": "code",
   "execution_count": 29,
   "id": "94a3bfe6",
   "metadata": {
    "ExecuteTime": {
     "end_time": "2022-01-21T16:28:53.899314Z",
     "start_time": "2022-01-21T16:28:53.855793Z"
    }
   },
   "outputs": [
    {
     "name": "stderr",
     "output_type": "stream",
     "text": [
      "/tmp/ipykernel_33745/1983452767.py:1: UserWarning: p-value floored: true value smaller than 0.001\n",
      "  anderson_ksamp([sample_a, sample_unif])\n"
     ]
    },
    {
     "data": {
      "text/plain": [
       "Anderson_ksampResult(statistic=704.3506103350016, critical_values=array([0.325, 1.226, 1.961, 2.718, 3.752, 4.592, 6.546]), significance_level=0.001)"
      ]
     },
     "execution_count": 29,
     "metadata": {},
     "output_type": "execute_result"
    }
   ],
   "source": [
    "anderson_ksamp([sample_a, sample_unif])"
   ]
  },
  {
   "cell_type": "markdown",
   "id": "f07d375a",
   "metadata": {},
   "source": [
    "# Energy Test\n",
    "Assumptions: multivariate data"
   ]
  },
  {
   "cell_type": "code",
   "execution_count": 13,
   "id": "672b0d3e",
   "metadata": {
    "ExecuteTime": {
     "end_time": "2022-01-21T23:44:52.168365Z",
     "start_time": "2022-01-21T23:44:52.140574Z"
    }
   },
   "outputs": [],
   "source": [
    "import torch\n",
    "from torch_two_sample import statistics_diff"
   ]
  },
  {
   "cell_type": "code",
   "execution_count": 11,
   "id": "c40bdcde",
   "metadata": {
    "ExecuteTime": {
     "end_time": "2022-01-21T17:07:15.768088Z",
     "start_time": "2022-01-21T17:06:46.950034Z"
    }
   },
   "outputs": [
    {
     "name": "stdout",
     "output_type": "stream",
     "text": [
      "statistics: tensor(0.0001)\n",
      "p-value: 1.0\n"
     ]
    }
   ],
   "source": [
    "torch_sample_1 = torch.from_numpy(sample_a_mv)\n",
    "torch_sample_2 = torch.from_numpy(sample_b_mv)\n",
    "energy_test = statistics_diff.EnergyStatistic(len(sample_a_mv), len(sample_b_mv))\n",
    "statistics, dist_matrix = energy_test.__call__(torch_sample_1, torch_sample_2, ret_matrix=True)\n",
    "dist_matrix = dist_matrix.to(torch.float32)\n",
    "p_value = energy_test.pval(dist_matrix, n_permutations=10)\n",
    "print(\"statistics:\", statistics)\n",
    "print(\"p-value:\", p_value)"
   ]
  },
  {
   "cell_type": "code",
   "execution_count": 78,
   "id": "6eb8396e",
   "metadata": {
    "ExecuteTime": {
     "end_time": "2022-01-22T00:40:19.851457Z",
     "start_time": "2022-01-22T00:40:16.484678Z"
    }
   },
   "outputs": [
    {
     "name": "stdout",
     "output_type": "stream",
     "text": [
      "statistics: tensor(0.6891)\n",
      "p-value: None\n",
      " \n",
      "*** Profile stats marshalled to file 'program.prof'. \n"
     ]
    }
   ],
   "source": [
    "%%prun -D program.prof\n",
    "\n",
    "torch_sample_1 = torch.from_numpy(sample_a_mv)\n",
    "torch_sample_2 = torch.from_numpy(sample_unif_mv)  # <-- NOTE CHANGE\n",
    "energy_test = statistics_diff.EnergyStatistic(len(sample_a_mv), len(sample_unif_mv))  # <-- NOTE CHANGE\n",
    "statistics, dist_matrix = energy_test.__call__(torch_sample_1, torch_sample_2, ret_matrix=True)\n",
    "#p_value = energy_test.pval(dist_matrix, n_1=len(sample_a_mv), n_2=len(sample_unif_mv), n_permutations=10)\n",
    "print(\"statistics:\", statistics)\n",
    "print(\"p-value:\", p_value)"
   ]
  },
  {
   "cell_type": "code",
   "execution_count": 19,
   "id": "9c0be158",
   "metadata": {
    "ExecuteTime": {
     "end_time": "2022-01-21T23:45:57.187574Z",
     "start_time": "2022-01-21T23:45:57.159249Z"
    }
   },
   "outputs": [
    {
     "data": {
      "text/plain": [
       "(16384, 16384)"
      ]
     },
     "execution_count": 19,
     "metadata": {},
     "output_type": "execute_result"
    }
   ],
   "source": [
    "dist_matrix.shape"
   ]
  },
  {
   "cell_type": "code",
   "execution_count": 56,
   "id": "9965fe52",
   "metadata": {
    "ExecuteTime": {
     "end_time": "2022-01-22T00:30:41.133075Z",
     "start_time": "2022-01-22T00:30:41.102422Z"
    }
   },
   "outputs": [
    {
     "data": {
      "text/plain": [
       "array([[0.00316228, 0.00316228, 0.00316228, ..., 1.4142171 , 1.4142171 ,\n",
       "        1.4142171 ],\n",
       "       [0.00316228, 0.00316228, 0.00316228, ..., 1.4142171 , 1.4142171 ,\n",
       "        1.4142171 ],\n",
       "       [0.00316228, 0.00316228, 0.00316228, ..., 1.4142171 , 1.4142171 ,\n",
       "        1.4142171 ],\n",
       "       ...,\n",
       "       [1.4142171 , 1.4142171 , 1.4142171 , ..., 0.00316228, 0.00316228,\n",
       "        0.00316228],\n",
       "       [1.4142171 , 1.4142171 , 1.4142171 , ..., 0.00316228, 0.00316228,\n",
       "        0.00316228],\n",
       "       [1.4142171 , 1.4142171 , 1.4142171 , ..., 0.00316228, 0.00316228,\n",
       "        0.00316228]], dtype=float32)"
      ]
     },
     "execution_count": 56,
     "metadata": {},
     "output_type": "execute_result"
    }
   ],
   "source": [
    "dist_matrix"
   ]
  },
  {
   "cell_type": "code",
   "execution_count": 20,
   "id": "199e8d6c",
   "metadata": {
    "ExecuteTime": {
     "end_time": "2022-01-21T23:45:57.213596Z",
     "start_time": "2022-01-21T23:45:57.188925Z"
    }
   },
   "outputs": [
    {
     "data": {
      "text/plain": [
       "(100, 100)"
      ]
     },
     "execution_count": 20,
     "metadata": {},
     "output_type": "execute_result"
    }
   ],
   "source": [
    "dist_matrix[:100, :100].shape"
   ]
  },
  {
   "cell_type": "code",
   "execution_count": 21,
   "id": "3372b52f",
   "metadata": {
    "ExecuteTime": {
     "end_time": "2022-01-21T23:46:55.831586Z",
     "start_time": "2022-01-21T23:46:55.335768Z"
    }
   },
   "outputs": [
    {
     "data": {
      "text/plain": [
       "<AxesSubplot:>"
      ]
     },
     "execution_count": 21,
     "metadata": {},
     "output_type": "execute_result"
    },
    {
     "data": {
      "image/png": "[encoded data removed]",
      "text/plain": [
       "<Figure size 432x288 with 2 Axes>"
      ]
     },
     "metadata": {
      "needs_background": "light"
     },
     "output_type": "display_data"
    }
   ],
   "source": [
    "sns.heatmap(\n",
    "    data=dist_matrix[:100, :100]\n",
    ")"
   ]
  },
  {
   "cell_type": "code",
   "execution_count": 45,
   "id": "5aab3b38",
   "metadata": {
    "ExecuteTime": {
     "end_time": "2022-01-21T23:41:57.469600Z",
     "start_time": "2022-01-21T23:41:57.431525Z"
    }
   },
   "outputs": [
    {
     "data": {
      "text/plain": [
       "0.0031622776"
      ]
     },
     "execution_count": 45,
     "metadata": {},
     "output_type": "execute_result"
    }
   ],
   "source": [
    "dist_matrix[0][1]"
   ]
  },
  {
   "cell_type": "code",
   "execution_count": 39,
   "id": "687d6cad",
   "metadata": {
    "ExecuteTime": {
     "end_time": "2022-01-21T23:37:40.129822Z",
     "start_time": "2022-01-21T23:37:14.466221Z"
    }
   },
   "outputs": [
    {
     "name": "stdout",
     "output_type": "stream",
     "text": [
      " \n",
      "*** Profile stats marshalled to file 'program.prof'. \n"
     ]
    }
   ],
   "source": [
    "%%prun -D program.prof\n",
    "p_value = my_pval(dist_matrix, n_1=len(sample_a_mv), n_2=len(sample_unif_mv), n_permutations=10)"
   ]
  },
  {
   "cell_type": "code",
   "execution_count": 34,
   "id": "be170b8c",
   "metadata": {
    "ExecuteTime": {
     "end_time": "2022-01-22T00:14:06.359569Z",
     "start_time": "2022-01-22T00:14:06.329136Z"
    }
   },
   "outputs": [
    {
     "data": {
      "text/plain": [
       "array([[0, 0, 0, ..., 0, 0, 0],\n",
       "       [0, 0, 0, ..., 0, 0, 0],\n",
       "       [0, 0, 0, ..., 0, 0, 0],\n",
       "       ...,\n",
       "       [0, 0, 0, ..., 0, 0, 1],\n",
       "       [0, 0, 0, ..., 0, 0, 1],\n",
       "       [0, 0, 0, ..., 0, 1, 1]])"
      ]
     },
     "execution_count": 34,
     "metadata": {},
     "output_type": "execute_result"
    }
   ],
   "source": [
    "sample_a_mv"
   ]
  },
  {
   "cell_type": "code",
   "execution_count": 74,
   "id": "810f34dc",
   "metadata": {
    "ExecuteTime": {
     "end_time": "2022-01-22T00:39:09.897388Z",
     "start_time": "2022-01-22T00:39:09.844713Z"
    }
   },
   "outputs": [],
   "source": []
  },
  {
   "cell_type": "code",
   "execution_count": 36,
   "id": "7e25ab8d",
   "metadata": {
    "ExecuteTime": {
     "end_time": "2022-01-22T00:17:08.240530Z",
     "start_time": "2022-01-22T00:17:08.202910Z"
    }
   },
   "outputs": [
    {
     "data": {
      "text/plain": [
       "('000000101000',\n",
       " '000000101010',\n",
       " '000000000000',\n",
       " '000000101001',\n",
       " '000000000010',\n",
       " '000000101011',\n",
       " '000000000001',\n",
       " '000000000011')"
      ]
     },
     "execution_count": 36,
     "metadata": {},
     "output_type": "execute_result"
    }
   ],
   "source": [
    "keys, values = zip(*res_a.items())\n",
    "keys"
   ]
  },
  {
   "cell_type": "code",
   "execution_count": 37,
   "id": "eb7fd44a",
   "metadata": {
    "ExecuteTime": {
     "end_time": "2022-01-22T00:17:14.590849Z",
     "start_time": "2022-01-22T00:17:14.555103Z"
    }
   },
   "outputs": [
    {
     "data": {
      "text/plain": [
       "(5602, 1575, 742, 56, 195, 12, 9, 1)"
      ]
     },
     "execution_count": 37,
     "metadata": {},
     "output_type": "execute_result"
    }
   ],
   "source": [
    "values"
   ]
  },
  {
   "cell_type": "code",
   "execution_count": null,
   "id": "e6947a37",
   "metadata": {},
   "outputs": [],
   "source": [
    "def unique_multivariates_and_frequencies(result_dictionary):\n",
    "    \"\"\"Return keys as multivariate vectors and their frequecies.\"\"\"\n",
    "    keys, frequencies = zip(*result_dictionary.items())\n",
    "    multivariate_keys = np.vstack([\n",
    "        np.array([int(x) for x in bin_string])\n",
    "        for bin_string in keys\n",
    "    ])\n",
    "    return multivariate_keys, frequencies\n",
    "\n",
    "\n",
    "def pdist(sample_1, sample_2, norm=2, eps=1e-5):\n",
    "    r\"\"\"Compute the matrix of all squared pairwise distances.\n",
    "    Arguments\n",
    "    ---------\n",
    "    sample_1 : torch.Tensor or Variable\n",
    "        The first sample, should be of shape ``(n_1, d)``.\n",
    "    sample_2 : torch.Tensor or Variable\n",
    "        The second sample, should be of shape ``(n_2, d)``.\n",
    "    norm : float\n",
    "        The l_p norm to be used.\n",
    "    Returns\n",
    "    -------\n",
    "    torch.Tensor or Variable\n",
    "        Matrix of shape (n_1, n_2). The [i, j]-th entry is equal to\n",
    "        ``|| sample_1[i, :] - sample_2[j, :] ||_p``.\"\"\"\n",
    "    n_1, n_2 = sample_1.size(0), sample_2.size(0)\n",
    "    norm = float(norm)\n",
    "    if norm == 2.:\n",
    "        norms_1 = torch.sum(sample_1**2, dim=1, keepdim=True)\n",
    "        norms_2 = torch.sum(sample_2**2, dim=1, keepdim=True)\n",
    "        norms = (norms_1.expand(n_1, n_2) +\n",
    "                 norms_2.transpose(0, 1).expand(n_1, n_2))\n",
    "        distances_squared = norms - 2 * sample_1.mm(sample_2.t())\n",
    "        return torch.sqrt(eps + torch.abs(distances_squared))\n",
    "    else:\n",
    "        dim = sample_1.size(1)\n",
    "        expanded_1 = sample_1.unsqueeze(1).expand(n_1, n_2, dim)\n",
    "        expanded_2 = sample_2.unsqueeze(0).expand(n_1, n_2, dim)\n",
    "        differences = torch.abs(expanded_1 - expanded_2) ** norm\n",
    "        inner = torch.sum(differences, dim=2, keepdim=False)\n",
    "        return (eps + inner) ** (1. / norm)\n",
    "    \n",
    "    \n",
    "def increase_dimension(small_matrix, record_frequencies):\n",
    "    \"\"\"Duplicate row and column based on the frquencies.\n",
    "    \n",
    "    Note that record_frequencies contains record like:\n",
    "    \n",
    "    7: 128, \n",
    "    \n",
    "    which means that the row and column 7 have to be replicated 128 times,\n",
    "    vertically and horizontally respectively.\n",
    "    \"\"\"\n",
    "    repeat_tensor = torch.tensor(np.array(record_frequencies))\n",
    "    print(repeat_tensor)\n",
    "    small_matrix = torch.repeat_interleave(small_matrix, repeat_tensor, dim=1)\n",
    "    small_matrix = torch.repeat_interleave(small_matrix, repeat_tensor, dim=0)\n",
    "    print(small_matrix)\n",
    "    return small_matrix\n",
    "        \n",
    "    \n",
    "    \n",
    "def energy_call(res_1, res_2):\n",
    "    \n",
    "        values_1, freq_1 = unique_multivariates_and_frequencies(result_dictionary=res_1)\n",
    "        values_2, freq_2 = unique_multivariates_and_frequencies(result_dictionary=res_2)\n",
    "        \n",
    "        \n",
    "        values_1 = torch.from_numpy(values_1)\n",
    "        values_2 = torch.from_numpy(values_2)\n",
    "        sample_12 = torch.cat((values_1, values_2), 0)\n",
    "        \n",
    "        small_matrix = pdist(sample_12, sample_12, norm=2)\n",
    "        distances = increase_dimension(\n",
    "            small_matrix=small_matrix, \n",
    "            record_frequencies=np.hstack((np.array(freq_1), np.array(freq_2))))\n",
    "        #distances = pdist(sample_12, sample_12, norm=2)\n",
    "\n",
    "        n_1 = sum(freq_1)\n",
    "        print(\"n_1:\", n_1)\n",
    "        n_2 = sum(freq_2)\n",
    "        a00 = - 1. / (n_1 * n_1)\n",
    "        a11 = - 1. / (n_2 * n_2)\n",
    "        a01 = 1. / (n_1 * n_2)\n",
    "        print(\"a00:\", a00)\n",
    "        print(\"a11:\", a11)\n",
    "        print(\"a01:\", a01)\n",
    "        \n",
    "        d_1 = distances[:n_1, :n_1].sum()\n",
    "        d_2 = distances[-n_2:, -n_2:].sum()\n",
    "        d_12 = distances[:n_1, -n_2:].sum()\n",
    "        print(\"d_1:\", d_1)\n",
    "        print(\"d_2:\", d_2)\n",
    "        print(\"d_12:\", d_12)\n",
    "\n",
    "        loss = 2 * a01 * d_12 + a00 * d_1 + a11 * d_2\n",
    "        print(\"loss:\", loss)\n",
    "        print(type(loss))\n",
    "        return loss"
   ]
  },
  {
   "cell_type": "code",
   "execution_count": 75,
   "id": "510cd63f",
   "metadata": {
    "ExecuteTime": {
     "end_time": "2022-01-22T00:39:13.438139Z",
     "start_time": "2022-01-22T00:39:13.394772Z"
    },
    "code_folding": [
     90,
     129
    ]
   },
   "outputs": [],
   "source": [
    "import numba\n",
    "import numpy as np\n",
    "from numba import jit\n",
    "\n",
    "@jit(nopython=True)\n",
    "def permutation_test_mat(matrix: np.ndarray,\n",
    "                         n_1: int , n_2: int, n_permutations: int,\n",
    "                         a00: float=1, a11: float=1, a01: float=0):\n",
    "    \"\"\"Compute the p-value of the following statistic (rejects when high)\n",
    "        \\sum_{i,j} a_{\\pi(i), \\pi(j)} matrix[i, j].\n",
    "    \"\"\"\n",
    "    n = n_1 + n_2\n",
    "    pi = np.zeros(n, dtype=np.int8)\n",
    "    pi[n_1:] = 1\n",
    "\n",
    "    statistic = 0\n",
    "    larger = 0.\n",
    "    count = 0\n",
    "    i = 0\n",
    "    j = 0\n",
    "    #cdef float mij\n",
    "    #cdef int sample_n\n",
    "    for sample_n in range(1 + n_permutations):\n",
    "        count = 0.\n",
    "        for i in range(n):\n",
    "            for j in range(i, n):\n",
    "                mij = matrix[i, j] + matrix[j, i]\n",
    "                if pi[i] == 0 and pi[j] == 0:\n",
    "                    count += a00 * mij\n",
    "                elif pi[i] == 1 and pi[j] == 1:\n",
    "                    count += a11 * mij\n",
    "                else:\n",
    "                    count += a01 * mij\n",
    "        if sample_n == 0:\n",
    "            statistic = count\n",
    "        elif statistic <= count:\n",
    "            larger += 1\n",
    "\n",
    "        np.random.shuffle(pi)\n",
    "\n",
    "    return larger / n_permutations\n",
    "\n",
    "\n",
    "@jit(nopython=True)\n",
    "def my_pval(distances, n_1, n_2, n_permutations=1000):\n",
    "    a00 = - 1. / (n_1 * n_1)\n",
    "    a11 = - 1. / (n_2 * n_2)\n",
    "    a01 = 1. / (n_1 * n_2)\n",
    "    permutation_test_mat(\n",
    "        distances,\n",
    "        n_1, n_2,\n",
    "        n_permutations,\n",
    "        a00=a00, a11=a11, a01=a01)"
   ]
  },
  {
   "cell_type": "code",
   "execution_count": 79,
   "id": "1ba1fa98",
   "metadata": {
    "ExecuteTime": {
     "end_time": "2022-01-22T00:40:59.431392Z",
     "start_time": "2022-01-22T00:40:59.162885Z"
    }
   },
   "outputs": [
    {
     "name": "stdout",
     "output_type": "stream",
     "text": [
      "tensor([5602, 1575,  742,   56,  195,   12,    9,    1, 1024, 1024, 1024, 1024,\n",
      "        1024, 1024, 1024, 1024])\n",
      "tensor([[0.0032, 0.0032, 0.0032,  ..., 1.4142, 1.4142, 1.4142],\n",
      "        [0.0032, 0.0032, 0.0032,  ..., 1.4142, 1.4142, 1.4142],\n",
      "        [0.0032, 0.0032, 0.0032,  ..., 1.4142, 1.4142, 1.4142],\n",
      "        ...,\n",
      "        [1.4142, 1.4142, 1.4142,  ..., 0.0032, 0.0032, 0.0032],\n",
      "        [1.4142, 1.4142, 1.4142,  ..., 0.0032, 0.0032, 0.0032],\n",
      "        [1.4142, 1.4142, 1.4142,  ..., 0.0032, 0.0032, 0.0032]])\n",
      "n_1: 8192\n",
      "a00: -1.4901161193847656e-08\n",
      "a11: -1.4901161193847656e-08\n",
      "a01: 1.4901161193847656e-08\n",
      "d_1: tensor(40122380.)\n",
      "d_2: tensor(86366544.)\n",
      "d_12: tensor(86366624.)\n",
      "loss: tensor(0.6891)\n",
      "<class 'torch.Tensor'>\n",
      " \n",
      "*** Profile stats marshalled to file 'program.prof'. \n"
     ]
    }
   ],
   "source": [
    "%%prun -D program.prof\n",
    "distances = energy_call(res_1=res_a, res_2=res_unif)"
   ]
  },
  {
   "cell_type": "code",
   "execution_count": 71,
   "id": "d579f93d",
   "metadata": {
    "ExecuteTime": {
     "end_time": "2022-01-22T00:37:47.602327Z",
     "start_time": "2022-01-22T00:37:47.574728Z"
    }
   },
   "outputs": [
    {
     "data": {
      "text/plain": [
       "1.4021299481391907"
      ]
     },
     "execution_count": 71,
     "metadata": {},
     "output_type": "execute_result"
    }
   ],
   "source": [
    "2 + 1.4901161193847656e-08 * 40122380 + -1.4901161193847656e-08 * 40122380 + -1.4901161193847656e-08 * 40122380"
   ]
  },
  {
   "cell_type": "code",
   "execution_count": 55,
   "id": "7e9f6215",
   "metadata": {
    "ExecuteTime": {
     "end_time": "2022-01-22T00:30:15.608662Z",
     "start_time": "2022-01-22T00:30:15.572968Z"
    }
   },
   "outputs": [
    {
     "data": {
      "text/plain": [
       "torch.Size([16384, 16384])"
      ]
     },
     "execution_count": 55,
     "metadata": {},
     "output_type": "execute_result"
    }
   ],
   "source": [
    "distances.shape"
   ]
  },
  {
   "cell_type": "code",
   "execution_count": 52,
   "id": "0e0832ea",
   "metadata": {
    "ExecuteTime": {
     "end_time": "2022-01-22T00:29:31.144139Z",
     "start_time": "2022-01-22T00:29:30.922151Z"
    }
   },
   "outputs": [
    {
     "name": "stdout",
     "output_type": "stream",
     "text": [
      "tensor([5602, 1575,  742,   56,  195,   12,    9,    1, 5602, 1575,  742,   56,\n",
      "         195,   12,    9,    1])\n",
      "tensor([[0.0032, 0.0032, 0.0032,  ..., 1.7321, 1.7321, 2.0000],\n",
      "        [0.0032, 0.0032, 0.0032,  ..., 1.7321, 1.7321, 2.0000],\n",
      "        [0.0032, 0.0032, 0.0032,  ..., 1.7321, 1.7321, 2.0000],\n",
      "        ...,\n",
      "        [1.7321, 1.7321, 1.7321,  ..., 0.0032, 0.0032, 1.0000],\n",
      "        [1.7321, 1.7321, 1.7321,  ..., 0.0032, 0.0032, 1.0000],\n",
      "        [2.0000, 2.0000, 2.0000,  ..., 1.0000, 1.0000, 0.0032]])\n"
     ]
    },
    {
     "data": {
      "text/plain": [
       "tensor(0.)"
      ]
     },
     "execution_count": 52,
     "metadata": {},
     "output_type": "execute_result"
    }
   ],
   "source": [
    "\n",
    "statistics= energy_call(res_1=res_a, res_2=res_b)\n",
    "statistics"
   ]
  },
  {
   "cell_type": "code",
   "execution_count": 50,
   "id": "e1a348ff",
   "metadata": {
    "ExecuteTime": {
     "end_time": "2022-01-22T00:29:14.394696Z",
     "start_time": "2022-01-22T00:29:14.202566Z"
    }
   },
   "outputs": [
    {
     "name": "stdout",
     "output_type": "stream",
     "text": [
      "tensor([5602, 1575,  742,   56,  195,   12,    9,    1, 5602, 1575,  742,   56,\n",
      "         195,   12,    9,    1])\n",
      "tensor([[0., 5., 3., 3., 3., 3., 1., 2.],\n",
      "        [5., 0., 2., 2., 2., 2., 4., 7.],\n",
      "        [3., 2., 0., 0., 0., 0., 2., 5.],\n",
      "        [3., 2., 0., 0., 0., 0., 2., 5.],\n",
      "        [3., 2., 0., 0., 0., 0., 2., 5.],\n",
      "        [3., 2., 0., 0., 0., 0., 2., 5.],\n",
      "        [1., 4., 2., 2., 2., 2., 0., 3.],\n",
      "        [2., 7., 5., 5., 5., 5., 3., 0.]])\n"
     ]
    },
    {
     "data": {
      "text/plain": [
       "tensor(0.)"
      ]
     },
     "execution_count": 50,
     "metadata": {},
     "output_type": "execute_result"
    }
   ],
   "source": [
    "statistics= energy_call(res_1=res_a, res_2=res_unif)\n",
    "statistics"
   ]
  },
  {
   "cell_type": "code",
   "execution_count": null,
   "id": "97932454",
   "metadata": {},
   "outputs": [],
   "source": []
  },
  {
   "cell_type": "code",
   "execution_count": null,
   "id": "b6339f36",
   "metadata": {},
   "outputs": [],
   "source": []
  },
  {
   "cell_type": "markdown",
   "id": "6a5e9b9f",
   "metadata": {},
   "source": [
    "## Experiment"
   ]
  },
  {
   "cell_type": "code",
   "execution_count": 22,
   "id": "70465f56",
   "metadata": {
    "ExecuteTime": {
     "end_time": "2022-01-22T00:04:04.426863Z",
     "start_time": "2022-01-22T00:04:04.375170Z"
    }
   },
   "outputs": [
    {
     "name": "stdout",
     "output_type": "stream",
     "text": [
      "tensor([[0.5580],\n",
      "        [0.0469],\n",
      "        [0.1790],\n",
      "        [0.3435]])\n",
      "tensor([[0.5580, 0.5580, 0.5580],\n",
      "        [0.0469, 0.0469, 0.0469],\n",
      "        [0.1790, 0.1790, 0.1790],\n",
      "        [0.3435, 0.3435, 0.3435]])\n"
     ]
    }
   ],
   "source": [
    "t = torch.rand(4,1)\n",
    "print(t)\n",
    "tr = t.repeat(1, 3)\n",
    "print(tr)"
   ]
  },
  {
   "cell_type": "code",
   "execution_count": 25,
   "id": "e6c36484",
   "metadata": {
    "ExecuteTime": {
     "end_time": "2022-01-22T00:08:50.671884Z",
     "start_time": "2022-01-22T00:08:50.642730Z"
    }
   },
   "outputs": [],
   "source": [
    "X = torch.FloatTensor([\n",
    "    [0,5,3,1,2],\n",
    "    [5,0,2,4,7],\n",
    "    [3,2,0,2,5],\n",
    "    [1,4,2,0,3],\n",
    "    [2,7,5,3,0]\n",
    "])"
   ]
  },
  {
   "cell_type": "code",
   "execution_count": 33,
   "id": "bbc9d10f",
   "metadata": {
    "ExecuteTime": {
     "end_time": "2022-01-22T00:12:10.416710Z",
     "start_time": "2022-01-22T00:12:10.360676Z"
    }
   },
   "outputs": [
    {
     "name": "stdout",
     "output_type": "stream",
     "text": [
      "tensor([1, 1, 4, 1, 1])\n",
      "tensor([[0., 5., 3., 3., 3., 3., 1., 2.],\n",
      "        [5., 0., 2., 2., 2., 2., 4., 7.],\n",
      "        [3., 2., 0., 0., 0., 0., 2., 5.],\n",
      "        [3., 2., 0., 0., 0., 0., 2., 5.],\n",
      "        [3., 2., 0., 0., 0., 0., 2., 5.],\n",
      "        [3., 2., 0., 0., 0., 0., 2., 5.],\n",
      "        [1., 4., 2., 2., 2., 2., 0., 3.],\n",
      "        [2., 7., 5., 5., 5., 5., 3., 0.]])\n"
     ]
    }
   ],
   "source": [
    "num_repeats = 2\n",
    "repeat_tensor = torch.tensor(num_repeats).to(X.device, torch.int64)\n",
    "repeat_tensor = torch.tensor(np.array([1,1,4,1,1]))\n",
    "print(repeat_tensor)\n",
    "X_dup_col = torch.repeat_interleave(X, repeat_tensor, dim=1)\n",
    "X_dup_all = torch.repeat_interleave(X_dup_col, repeat_tensor, dim=0)\n",
    "print(X_dup_all)"
   ]
  },
  {
   "cell_type": "code",
   "execution_count": null,
   "id": "d07b14ad",
   "metadata": {},
   "outputs": [],
   "source": []
  }
 ],
 "metadata": {
  "kernelspec": {
   "display_name": "Python 3 (ipykernel)",
   "language": "python",
   "name": "python3"
  },
  "language_info": {
   "codemirror_mode": {
    "name": "ipython",
    "version": 3
   },
   "file_extension": ".py",
   "mimetype": "text/x-python",
   "name": "python",
   "nbconvert_exporter": "python",
   "pygments_lexer": "ipython3",
   "version": "3.8.0"
  },
  "toc": {
   "base_numbering": 1,
   "nav_menu": {},
   "number_sections": true,
   "sideBar": true,
   "skip_h1_title": false,
   "title_cell": "Table of Contents",
   "title_sidebar": "Contents",
   "toc_cell": false,
   "toc_position": {},
   "toc_section_display": true,
   "toc_window_display": false
  }
 },
 "nbformat": 4,
 "nbformat_minor": 5
}
