{
 "cells": [
  {
   "cell_type": "code",
   "execution_count": 1,
   "id": "7ac04a6e",
   "metadata": {
    "ExecuteTime": {
     "end_time": "2022-02-21T16:00:55.362607Z",
     "start_time": "2022-02-21T16:00:53.596449Z"
    }
   },
   "outputs": [],
   "source": [
    "import pandas as pd\n",
    "import sys\n",
    "sys.path.append(\"../lib\")\n",
    "import seaborn as sns\n",
    "import matplotlib.pyplot as plt\n",
    "from utils import iterate_over\n",
    "from utils import load_config_and_check\n",
    "from inspector import Inspector\n",
    "from tqdm import tqdm\n",
    "import sqlite3 as sl\n",
    "import os"
   ]
  },
  {
   "cell_type": "code",
   "execution_count": 2,
   "id": "8459033e",
   "metadata": {
    "ExecuteTime": {
     "end_time": "2022-02-21T16:00:55.386732Z",
     "start_time": "2022-02-21T16:00:55.364140Z"
    }
   },
   "outputs": [],
   "source": [
    "%load_ext autoreload\n",
    "%autoreload 2"
   ]
  },
  {
   "cell_type": "code",
   "execution_count": 33,
   "id": "15ba90dd",
   "metadata": {
    "ExecuteTime": {
     "end_time": "2022-02-21T16:31:36.695475Z",
     "start_time": "2022-02-21T16:31:36.666623Z"
    }
   },
   "outputs": [],
   "source": [
    "import pathlib\n",
    "from os.path import join\n",
    "import shutil\n",
    "\n",
    "\n",
    "def retrieve_relevant_file_paths(\n",
    "        experiment_folder: str, \n",
    "        program_id: str,\n",
    "        root_folder: str = \"../data\"):\n",
    "    \"\"\"Create the file paths.\"\"\"\n",
    "    main_path = os.path.join(root_folder, experiment_folder, \"programs\")\n",
    "    path_dict = {\n",
    "        \"source\": join(main_path, \"source\", f\"{program_id}.py\"),\n",
    "        \"followup\": join(main_path, \"followup\", f\"{program_id}.py\"),\n",
    "        \"metadata\": join(main_path, \"metadata\", f\"{program_id}.json\"),\n",
    "        \"metadata_exec\": join(main_path, \"metadata_exec\", f\"{program_id}.json\")\n",
    "    }\n",
    "    return path_dict\n",
    "    \n",
    "def create_folder_in_interesting_cases(\n",
    "        experiment_folder: str, \n",
    "        program_id: str,\n",
    "        root_folder: str = \"../intersting_cases/metamorphic_testing\"):\n",
    "    \"\"\"Create destination folder for the relevant files.\"\"\"\n",
    "    number = \"\".join([c for c in experiment_folder if c.isdigit()])\n",
    "    new_folder_name = f\"{number}_{program_id[:6]}\"\n",
    "    new_folder_path = os.path.join(root_folder, new_folder_name)\n",
    "    pathlib.Path(new_folder_path).mkdir(parents=True, exist_ok=True)\n",
    "    return new_folder_path\n",
    "\n",
    "\n",
    "def copy_bug(\n",
    "        experiment_folder: str, \n",
    "        program_id: str, \n",
    "        root_data_folder: str = \"../data\",\n",
    "        root_bug_folder: str = \"../intersting_cases/metamorphic_testing\"):\n",
    "    \"\"\"Copy all the files of the interesting bug.\"\"\"\n",
    "    dest_folder = create_folder_in_interesting_cases(\n",
    "        experiment_folder=experiment_folder,\n",
    "        program_id=program_id,\n",
    "        root_folder=root_bug_folder\n",
    "    )\n",
    "    \n",
    "    original_file_paths = retrieve_relevant_file_paths(\n",
    "        experiment_folder=experiment_folder,\n",
    "        program_id=program_id,\n",
    "        root_folder=root_data_folder    \n",
    "    )\n",
    "    \n",
    "    for k, original_file_path in original_file_paths.items():\n",
    "        basename = os.path.basename(original_file_path)\n",
    "        dest_file_path = join(dest_folder, f\"{k}_{basename}\")\n",
    "        print(f\"Copying... from {original_file_path} to {dest_file_path}\")\n",
    "        shutil.copy(original_file_path, dest_file_path)"
   ]
  },
  {
   "cell_type": "code",
   "execution_count": 42,
   "id": "9e4ace0a",
   "metadata": {
    "ExecuteTime": {
     "end_time": "2022-02-21T16:59:45.767949Z",
     "start_time": "2022-02-21T16:59:45.746278Z"
    }
   },
   "outputs": [],
   "source": [
    "# copy a given program in the interesting cases folder\n",
    "EXP_FOLDER = \"qmt_v06\" \n",
    "PROGRAM_ID = \"59a0eb956a0d4e6b8720f272136f2799\""
   ]
  },
  {
   "cell_type": "code",
   "execution_count": 43,
   "id": "dc1e9f4e",
   "metadata": {
    "ExecuteTime": {
     "end_time": "2022-02-21T16:59:47.183830Z",
     "start_time": "2022-02-21T16:59:47.159266Z"
    }
   },
   "outputs": [
    {
     "data": {
      "text/plain": [
       "{'source': '../data/qmt_v06/programs/source/59a0eb956a0d4e6b8720f272136f2799.py',\n",
       " 'followup': '../data/qmt_v06/programs/followup/59a0eb956a0d4e6b8720f272136f2799.py',\n",
       " 'metadata': '../data/qmt_v06/programs/metadata/59a0eb956a0d4e6b8720f272136f2799.json',\n",
       " 'metadata_exec': '../data/qmt_v06/programs/metadata_exec/59a0eb956a0d4e6b8720f272136f2799.json'}"
      ]
     },
     "execution_count": 43,
     "metadata": {},
     "output_type": "execute_result"
    }
   ],
   "source": [
    "retrieve_relevant_file_paths(\n",
    "    experiment_folder=EXP_FOLDER,\n",
    "    program_id=PROGRAM_ID\n",
    ")"
   ]
  },
  {
   "cell_type": "code",
   "execution_count": 44,
   "id": "9ff45c47",
   "metadata": {
    "ExecuteTime": {
     "end_time": "2022-02-21T16:59:48.428694Z",
     "start_time": "2022-02-21T16:59:48.402996Z"
    }
   },
   "outputs": [
    {
     "data": {
      "text/plain": [
       "'../intersting_cases/metamorphic_testing/06_59a0eb'"
      ]
     },
     "execution_count": 44,
     "metadata": {},
     "output_type": "execute_result"
    }
   ],
   "source": [
    "create_folder_in_interesting_cases(\n",
    "    experiment_folder=EXP_FOLDER,\n",
    "    program_id=PROGRAM_ID\n",
    ")"
   ]
  },
  {
   "cell_type": "code",
   "execution_count": 45,
   "id": "79759cfd",
   "metadata": {
    "ExecuteTime": {
     "end_time": "2022-02-21T16:59:49.679694Z",
     "start_time": "2022-02-21T16:59:49.640063Z"
    }
   },
   "outputs": [
    {
     "name": "stdout",
     "output_type": "stream",
     "text": [
      "Copying... from ../data/qmt_v06/programs/source/59a0eb956a0d4e6b8720f272136f2799.py to ../intersting_cases/metamorphic_testing/06_59a0eb/source_59a0eb956a0d4e6b8720f272136f2799.py\n",
      "Copying... from ../data/qmt_v06/programs/followup/59a0eb956a0d4e6b8720f272136f2799.py to ../intersting_cases/metamorphic_testing/06_59a0eb/followup_59a0eb956a0d4e6b8720f272136f2799.py\n",
      "Copying... from ../data/qmt_v06/programs/metadata/59a0eb956a0d4e6b8720f272136f2799.json to ../intersting_cases/metamorphic_testing/06_59a0eb/metadata_59a0eb956a0d4e6b8720f272136f2799.json\n",
      "Copying... from ../data/qmt_v06/programs/metadata_exec/59a0eb956a0d4e6b8720f272136f2799.json to ../intersting_cases/metamorphic_testing/06_59a0eb/metadata_exec_59a0eb956a0d4e6b8720f272136f2799.json\n"
     ]
    }
   ],
   "source": [
    "copy_bug(\n",
    "    experiment_folder=EXP_FOLDER,\n",
    "    program_id=PROGRAM_ID\n",
    ")"
   ]
  },
  {
   "cell_type": "code",
   "execution_count": null,
   "id": "e1cc0175",
   "metadata": {},
   "outputs": [],
   "source": []
  }
 ],
 "metadata": {
  "kernelspec": {
   "display_name": "Python 3 (ipykernel)",
   "language": "python",
   "name": "python3"
  },
  "language_info": {
   "codemirror_mode": {
    "name": "ipython",
    "version": 3
   },
   "file_extension": ".py",
   "mimetype": "text/x-python",
   "name": "python",
   "nbconvert_exporter": "python",
   "pygments_lexer": "ipython3",
   "version": "3.8.0"
  },
  "toc": {
   "base_numbering": 1,
   "nav_menu": {},
   "number_sections": true,
   "sideBar": true,
   "skip_h1_title": false,
   "title_cell": "Table of Contents",
   "title_sidebar": "Contents",
   "toc_cell": false,
   "toc_position": {},
   "toc_section_display": true,
   "toc_window_display": false
  }
 },
 "nbformat": 4,
 "nbformat_minor": 5
}
