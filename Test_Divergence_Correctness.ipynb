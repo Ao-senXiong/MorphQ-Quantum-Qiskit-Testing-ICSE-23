{
 "cells": [
  {
   "cell_type": "code",
   "execution_count": 1,
   "metadata": {
    "ExecuteTime": {
     "end_time": "2022-03-13T14:15:33.210863Z",
     "start_time": "2022-03-13T14:15:33.172777Z"
    }
   },
   "outputs": [
    {
     "data": {
      "text/plain": [
       "{'00000': 1024}"
      ]
     },
     "execution_count": 1,
     "metadata": {},
     "output_type": "execute_result"
    }
   ],
   "source": [
    "import qiskit\n",
    "from qiskit import QuantumCircuit, ClassicalRegister, QuantumRegister\n",
    "from qiskit.circuit.library.standard_gates import *\n",
    "from qiskit.circuit import Parameter\n",
    "from qiskit import Aer, transpile, execute\n",
    "\n",
    "qr = QuantumRegister(5, name='qr')\n",
    "cr = ClassicalRegister(5, name='cr')\n",
    "qc = QuantumCircuit(qr, cr, name='qc')\n",
    "qc.measure(qr, cr)\n",
    "\n",
    "qc = transpile(qc, basis_gates=None, optimization_level=0, coupling_map=None, seed_transpiler=44)\n",
    "counts_A = execute(qc, backend=Aer.get_backend('qasm_simulator'), shots=1024).result().get_counts(qc)\n",
    "counts_A"
   ]
  },
  {
   "cell_type": "code",
   "execution_count": 2,
   "metadata": {
    "ExecuteTime": {
     "end_time": "2022-03-13T14:15:33.994019Z",
     "start_time": "2022-03-13T14:15:33.988790Z"
    }
   },
   "outputs": [
    {
     "data": {
      "text/plain": [
       "'0.19.1'"
      ]
     },
     "execution_count": 2,
     "metadata": {},
     "output_type": "execute_result"
    }
   ],
   "source": [
    "import qiskit\n",
    "qiskit.__version__"
   ]
  },
  {
   "cell_type": "code",
   "execution_count": 3,
   "metadata": {
    "ExecuteTime": {
     "end_time": "2022-03-13T14:15:41.084865Z",
     "start_time": "2022-03-13T14:15:41.023301Z"
    }
   },
   "outputs": [],
   "source": [
    "import qiskit\n",
    "import random\n",
    "from qiskit import QuantumCircuit, ClassicalRegister, QuantumRegister\n",
    "from qiskit.circuit.library.standard_gates import *\n",
    "from qiskit import Aer, transpile, execute\n",
    "\n",
    "#seed_i = random.randint(1, 10e10)\n",
    "SEED = 44 \n",
    "\n",
    "qr = QuantumRegister(5, name='qr')\n",
    "cr = ClassicalRegister(5, name='cr')\n",
    "qc = QuantumCircuit(qr, cr, name='qc')\n",
    "subcircuit = QuantumCircuit(qr, cr, name='subcircuit')\n",
    "subcircuit.append(CSwapGate(), qargs=[qr[0], qr[2], qr[3]], cargs=[])\n",
    "qc.append(subcircuit, qargs=qr, cargs=cr)\n",
    "qc.append(subcircuit.inverse(), qargs=qr, cargs=cr)\n",
    "qc.measure(qr, cr)\n",
    "\n",
    "#import pdb\n",
    "#pdb.set_trace()\n",
    "\n",
    "from qiskit import transpile\n",
    "qc = transpile(qc,\n",
    "               optimization_level=3, \n",
    "               #coupling_map=[[0, 1], [1, 0], [1, 3], [1, 4], [2, 3], [3, 1], [3, 2], [4, 1], [4, 6], [5, 6], [6, 4], [6, 5]], \n",
    "               seed_transpiler=SEED)\n",
    "# b /home/paltenmo/anaconda3/envs/ML4Quantum/lib/python3.8/site-packages/qiskit/transpiler/preset_passmanagers/level3.py:113\n",
    "# b /home/paltenmo/anaconda3/envs/ML4Quantum/lib/python3.8/site-packages/qiskit/transpiler/passes/routing/bip_mapping.py:257"
   ]
  },
  {
   "cell_type": "code",
   "execution_count": 4,
   "metadata": {
    "ExecuteTime": {
     "end_time": "2022-03-13T14:15:41.987478Z",
     "start_time": "2022-03-13T14:15:41.973529Z"
    }
   },
   "outputs": [
    {
     "data": {
      "text/html": [
       "<pre style=\"word-wrap: normal;white-space: pre;background: #fff0;line-height: 1.1;font-family: &quot;Courier New&quot;,Courier,monospace\">                                                      ┌───┐                                                   ┌───┐           ┌─┐      \n",
       "qr_0: ─────────────────■─────────────────────■────■───┤ T ├───■────────────────■─────────────────────■────■───┤ T ├───■───────┤M├──────\n",
       "                  ┌─┐  │                     │    │   └───┘   │                │                     │    │   └───┘   │       └╥┘      \n",
       "qr_1: ────────────┤M├──┼─────────────────────┼────┼───────────┼────────────────┼─────────────────────┼────┼───────────┼────────╫───────\n",
       "      ┌──────────┐└╥┘  │             ┌───┐   │  ┌─┴─┐┌─────┐┌─┴─┐┌──────────┐  │             ┌───┐   │  ┌─┴─┐┌─────┐┌─┴─┐┌───┐ ║ ┌─┐   \n",
       "qr_2: ┤0         ├─╫───┼─────────■───┤ T ├───┼──┤ X ├┤ Tdg ├┤ X ├┤0         ├──┼─────────■───┤ T ├───┼──┤ X ├┤ Tdg ├┤ X ├┤ X ├─╫─┤M├───\n",
       "      │  Unitary │ ║ ┌─┴─┐┌───┐┌─┴─┐┌┴───┴┐┌─┴─┐├───┤└┬───┬┘└───┘│  Unitary │┌─┴─┐┌───┐┌─┴─┐┌┴───┴┐┌─┴─┐├───┤└┬───┬┘└───┘└─┬─┘ ║ └╥┘┌─┐\n",
       "qr_3: ┤1         ├─╫─┤ X ├┤ T ├┤ X ├┤ Tdg ├┤ X ├┤ T ├─┤ H ├──────┤1         ├┤ X ├┤ T ├┤ X ├┤ Tdg ├┤ X ├┤ T ├─┤ H ├────────■───╫──╫─┤M├\n",
       "      └───┬─┬────┘ ║ └───┘└───┘└───┘└─────┘└───┘└───┘ └───┘      └──────────┘└───┘└───┘└───┘└─────┘└───┘└───┘ └───┘            ║  ║ └╥┘\n",
       "qr_4: ────┤M├──────╫───────────────────────────────────────────────────────────────────────────────────────────────────────────╫──╫──╫─\n",
       "          └╥┘      ║                                                                                                           ║  ║  ║ \n",
       "cr: 5/═════╩═══════╩═══════════════════════════════════════════════════════════════════════════════════════════════════════════╩══╩══╩═\n",
       "           4       1                                                                                                           0  2  3 </pre>"
      ],
      "text/plain": [
       "                                                      ┌───┐                                                   ┌───┐           ┌─┐      \n",
       "qr_0: ─────────────────■─────────────────────■────■───┤ T ├───■────────────────■─────────────────────■────■───┤ T ├───■───────┤M├──────\n",
       "                  ┌─┐  │                     │    │   └───┘   │                │                     │    │   └───┘   │       └╥┘      \n",
       "qr_1: ────────────┤M├──┼─────────────────────┼────┼───────────┼────────────────┼─────────────────────┼────┼───────────┼────────╫───────\n",
       "      ┌──────────┐└╥┘  │             ┌───┐   │  ┌─┴─┐┌─────┐┌─┴─┐┌──────────┐  │             ┌───┐   │  ┌─┴─┐┌─────┐┌─┴─┐┌───┐ ║ ┌─┐   \n",
       "qr_2: ┤0         ├─╫───┼─────────■───┤ T ├───┼──┤ X ├┤ Tdg ├┤ X ├┤0         ├──┼─────────■───┤ T ├───┼──┤ X ├┤ Tdg ├┤ X ├┤ X ├─╫─┤M├───\n",
       "      │  Unitary │ ║ ┌─┴─┐┌───┐┌─┴─┐┌┴───┴┐┌─┴─┐├───┤└┬───┬┘└───┘│  Unitary │┌─┴─┐┌───┐┌─┴─┐┌┴───┴┐┌─┴─┐├───┤└┬───┬┘└───┘└─┬─┘ ║ └╥┘┌─┐\n",
       "qr_3: ┤1         ├─╫─┤ X ├┤ T ├┤ X ├┤ Tdg ├┤ X ├┤ T ├─┤ H ├──────┤1         ├┤ X ├┤ T ├┤ X ├┤ Tdg ├┤ X ├┤ T ├─┤ H ├────────■───╫──╫─┤M├\n",
       "      └───┬─┬────┘ ║ └───┘└───┘└───┘└─────┘└───┘└───┘ └───┘      └──────────┘└───┘└───┘└───┘└─────┘└───┘└───┘ └───┘            ║  ║ └╥┘\n",
       "qr_4: ────┤M├──────╫───────────────────────────────────────────────────────────────────────────────────────────────────────────╫──╫──╫─\n",
       "          └╥┘      ║                                                                                                           ║  ║  ║ \n",
       "cr: 5/═════╩═══════╩═══════════════════════════════════════════════════════════════════════════════════════════════════════════╩══╩══╩═\n",
       "           4       1                                                                                                           0  2  3 "
      ]
     },
     "execution_count": 4,
     "metadata": {},
     "output_type": "execute_result"
    }
   ],
   "source": [
    "qc.draw(fold=-1)\n"
   ]
  },
  {
   "cell_type": "code",
   "execution_count": 5,
   "metadata": {
    "ExecuteTime": {
     "end_time": "2022-03-13T14:15:42.508271Z",
     "start_time": "2022-03-13T14:15:42.478337Z"
    }
   },
   "outputs": [
    {
     "name": "stdout",
     "output_type": "stream",
     "text": [
      "\u001b[92mOPENQASM\u001b[39m \u001b[96m2\u001b[39m.\u001b[96m0\u001b[39m;\n",
      "\u001b[92minclude\u001b[39m\u001b[91m \"qelib1.inc\"\u001b[39m;\n",
      "\u001b[93mgate\u001b[39m \u001b[95mu\u001b[39m\u001b[95mn\u001b[39m\u001b[95mi\u001b[39m\u001b[95mt\u001b[39m\u001b[95ma\u001b[39m\u001b[95mr\u001b[39m\u001b[95my\u001b[39m\u001b[95m1\u001b[39m\u001b[95m4\u001b[39m\u001b[95m0\u001b[39m\u001b[95m6\u001b[39m\u001b[95m8\u001b[39m\u001b[95m3\u001b[39m\u001b[95m2\u001b[39m\u001b[95m1\u001b[39m\u001b[95m4\u001b[39m\u001b[95m7\u001b[39m\u001b[95m6\u001b[39m\u001b[95m8\u001b[39m\u001b[95m7\u001b[39m\u001b[95m3\u001b[39m\u001b[95m6\u001b[39m p0,p1 {\n",
      "\t\u001b[95mu3\u001b[39m(pi/\u001b[96m2\u001b[39m,pi/\u001b[96m2\u001b[39m,-pi/\u001b[96m2\u001b[39m) p0;\n",
      "\t\u001b[95mu3\u001b[39m(pi/\u001b[96m2\u001b[39m,\u001b[96m0\u001b[39m,\u001b[96m3\u001b[39m*pi/\u001b[96m4\u001b[39m) p1;\n",
      "\t\u001b[95mcx\u001b[39m p0,p1;\n",
      "\t\u001b[95mu3\u001b[39m(pi/\u001b[96m2\u001b[39m,-pi/\u001b[96m2\u001b[39m,pi/\u001b[96m2\u001b[39m) p0;\n",
      "\t\u001b[95mu3\u001b[39m(pi/\u001b[96m4\u001b[39m,pi/\u001b[96m4\u001b[39m,-pi/\u001b[96m2\u001b[39m) p1;\n",
      "}\n",
      "\u001b[93mgate\u001b[39m \u001b[95mu\u001b[39m\u001b[95mn\u001b[39m\u001b[95mi\u001b[39m\u001b[95mt\u001b[39m\u001b[95ma\u001b[39m\u001b[95mr\u001b[39m\u001b[95my\u001b[39m\u001b[95m1\u001b[39m\u001b[95m4\u001b[39m\u001b[95m0\u001b[39m\u001b[95m6\u001b[39m\u001b[95m8\u001b[39m\u001b[95m3\u001b[39m\u001b[95m2\u001b[39m\u001b[95m1\u001b[39m\u001b[95m4\u001b[39m\u001b[95m2\u001b[39m\u001b[95m6\u001b[39m\u001b[95m7\u001b[39m\u001b[95m1\u001b[39m\u001b[95m0\u001b[39m\u001b[95m4\u001b[39m p0,p1 {\n",
      "\t\u001b[95mu3\u001b[39m(pi/\u001b[96m2\u001b[39m,\u001b[96m0\u001b[39m,\u001b[96m3\u001b[39m*pi/\u001b[96m4\u001b[39m) p0;\n",
      "\t\u001b[95mcx\u001b[39m p1,p0;\n",
      "\t\u001b[95mu3\u001b[39m(\u001b[96m0\u001b[39m,-\u001b[96m0\u001b[39m\u001b[96m.14189705\u001b[39m,\u001b[96m0\u001b[39m\u001b[96m.14189705\u001b[39m) p1;\n",
      "\t\u001b[95mu3\u001b[39m(pi/\u001b[96m4\u001b[39m,-\u001b[96m3\u001b[39m*pi/\u001b[96m4\u001b[39m,pi/\u001b[96m2\u001b[39m) p0;\n",
      "}\n",
      "\u001b[92mqreg\u001b[39m qr[\u001b[96m5\u001b[39m];\n",
      "\u001b[92mcreg\u001b[39m cr[\u001b[96m5\u001b[39m];\n",
      "\u001b[95mu\u001b[39m\u001b[95mn\u001b[39m\u001b[95mi\u001b[39m\u001b[95mt\u001b[39m\u001b[95ma\u001b[39m\u001b[95mr\u001b[39m\u001b[95my\u001b[39m\u001b[95m1\u001b[39m\u001b[95m4\u001b[39m\u001b[95m0\u001b[39m\u001b[95m6\u001b[39m\u001b[95m8\u001b[39m\u001b[95m3\u001b[39m\u001b[95m2\u001b[39m\u001b[95m1\u001b[39m\u001b[95m4\u001b[39m\u001b[95m7\u001b[39m\u001b[95m6\u001b[39m\u001b[95m8\u001b[39m\u001b[95m7\u001b[39m\u001b[95m3\u001b[39m\u001b[95m6\u001b[39m qr[\u001b[96m2\u001b[39m],qr[\u001b[96m3\u001b[39m];\n",
      "\u001b[95mcx\u001b[39m qr[\u001b[96m0\u001b[39m],qr[\u001b[96m3\u001b[39m];\n",
      "\u001b[95mt\u001b[39m qr[\u001b[96m3\u001b[39m];\n",
      "\u001b[95mcx\u001b[39m qr[\u001b[96m2\u001b[39m],qr[\u001b[96m3\u001b[39m];\n",
      "\u001b[95mt\u001b[39m qr[\u001b[96m2\u001b[39m];\n",
      "\u001b[95mtdg\u001b[39m qr[\u001b[96m3\u001b[39m];\n",
      "\u001b[95mcx\u001b[39m qr[\u001b[96m0\u001b[39m],qr[\u001b[96m3\u001b[39m];\n",
      "\u001b[95mcx\u001b[39m qr[\u001b[96m0\u001b[39m],qr[\u001b[96m2\u001b[39m];\n",
      "\u001b[95mt\u001b[39m qr[\u001b[96m0\u001b[39m];\n",
      "\u001b[95mtdg\u001b[39m qr[\u001b[96m2\u001b[39m];\n",
      "\u001b[95mcx\u001b[39m qr[\u001b[96m0\u001b[39m],qr[\u001b[96m2\u001b[39m];\n",
      "\u001b[95mt\u001b[39m qr[\u001b[96m3\u001b[39m];\n",
      "\u001b[95mh\u001b[39m qr[\u001b[96m3\u001b[39m];\n",
      "\u001b[95mu\u001b[39m\u001b[95mn\u001b[39m\u001b[95mi\u001b[39m\u001b[95mt\u001b[39m\u001b[95ma\u001b[39m\u001b[95mr\u001b[39m\u001b[95my\u001b[39m\u001b[95m1\u001b[39m\u001b[95m4\u001b[39m\u001b[95m0\u001b[39m\u001b[95m6\u001b[39m\u001b[95m8\u001b[39m\u001b[95m3\u001b[39m\u001b[95m2\u001b[39m\u001b[95m1\u001b[39m\u001b[95m4\u001b[39m\u001b[95m2\u001b[39m\u001b[95m6\u001b[39m\u001b[95m7\u001b[39m\u001b[95m1\u001b[39m\u001b[95m0\u001b[39m\u001b[95m4\u001b[39m qr[\u001b[96m2\u001b[39m],qr[\u001b[96m3\u001b[39m];\n",
      "\u001b[95mcx\u001b[39m qr[\u001b[96m0\u001b[39m],qr[\u001b[96m3\u001b[39m];\n",
      "\u001b[95mt\u001b[39m qr[\u001b[96m3\u001b[39m];\n",
      "\u001b[95mcx\u001b[39m qr[\u001b[96m2\u001b[39m],qr[\u001b[96m3\u001b[39m];\n",
      "\u001b[95mt\u001b[39m qr[\u001b[96m2\u001b[39m];\n",
      "\u001b[95mtdg\u001b[39m qr[\u001b[96m3\u001b[39m];\n",
      "\u001b[95mcx\u001b[39m qr[\u001b[96m0\u001b[39m],qr[\u001b[96m3\u001b[39m];\n",
      "\u001b[95mcx\u001b[39m qr[\u001b[96m0\u001b[39m],qr[\u001b[96m2\u001b[39m];\n",
      "\u001b[95mt\u001b[39m qr[\u001b[96m0\u001b[39m];\n",
      "\u001b[95mtdg\u001b[39m qr[\u001b[96m2\u001b[39m];\n",
      "\u001b[95mcx\u001b[39m qr[\u001b[96m0\u001b[39m],qr[\u001b[96m2\u001b[39m];\n",
      "\u001b[95mt\u001b[39m qr[\u001b[96m3\u001b[39m];\n",
      "\u001b[95mh\u001b[39m qr[\u001b[96m3\u001b[39m];\n",
      "\u001b[95mcx\u001b[39m qr[\u001b[96m3\u001b[39m],qr[\u001b[96m2\u001b[39m];\n",
      "\u001b[94mmeasure\u001b[39m qr[\u001b[96m0\u001b[39m] -> cr[\u001b[96m0\u001b[39m];\n",
      "\u001b[94mmeasure\u001b[39m qr[\u001b[96m1\u001b[39m] -> cr[\u001b[96m1\u001b[39m];\n",
      "\u001b[94mmeasure\u001b[39m qr[\u001b[96m2\u001b[39m] -> cr[\u001b[96m2\u001b[39m];\n",
      "\u001b[94mmeasure\u001b[39m qr[\u001b[96m3\u001b[39m] -> cr[\u001b[96m3\u001b[39m];\n",
      "\u001b[94mmeasure\u001b[39m qr[\u001b[96m4\u001b[39m] -> cr[\u001b[96m4\u001b[39m];\n",
      "\n"
     ]
    }
   ],
   "source": [
    "qc.qasm(formatted=True)"
   ]
  },
  {
   "cell_type": "code",
   "execution_count": 6,
   "metadata": {
    "ExecuteTime": {
     "end_time": "2022-03-13T14:15:43.264673Z",
     "start_time": "2022-03-13T14:15:43.181517Z"
    }
   },
   "outputs": [],
   "source": [
    "qc = QuantumCircuit.from_qasm_str(qc.qasm())"
   ]
  },
  {
   "cell_type": "code",
   "execution_count": 7,
   "metadata": {
    "ExecuteTime": {
     "end_time": "2022-03-13T14:15:43.980497Z",
     "start_time": "2022-03-13T14:15:43.899059Z"
    }
   },
   "outputs": [
    {
     "name": "stdout",
     "output_type": "stream",
     "text": [
      "{'01100': 245, '00100': 248, '00000': 296, '01000': 235}\n"
     ]
    }
   ],
   "source": [
    "counts_B = execute(qc, backend=Aer.get_backend('qasm_simulator'), shots=1024).result().get_counts(qc)\n",
    "print(counts_B)"
   ]
  },
  {
   "cell_type": "code",
   "execution_count": 8,
   "metadata": {
    "ExecuteTime": {
     "end_time": "2022-03-12T00:33:48.768255Z",
     "start_time": "2022-03-12T00:33:48.614954Z"
    }
   },
   "outputs": [
    {
     "name": "stdout",
     "output_type": "stream",
     "text": [
      "\u001b[92mOPENQASM\u001b[39m \u001b[96m2\u001b[39m.\u001b[96m0\u001b[39m;\n",
      "\u001b[92minclude\u001b[39m\u001b[91m \"qelib1.inc\"\u001b[39m;\n",
      "\u001b[93mgate\u001b[39m \u001b[95mu\u001b[39m\u001b[95mn\u001b[39m\u001b[95mi\u001b[39m\u001b[95mt\u001b[39m\u001b[95ma\u001b[39m\u001b[95mr\u001b[39m\u001b[95my\u001b[39m\u001b[95m1\u001b[39m\u001b[95m4\u001b[39m\u001b[95m0\u001b[39m\u001b[95m6\u001b[39m\u001b[95m8\u001b[39m\u001b[95m3\u001b[39m\u001b[95m2\u001b[39m\u001b[95m1\u001b[39m\u001b[95m4\u001b[39m\u001b[95m7\u001b[39m\u001b[95m6\u001b[39m\u001b[95m8\u001b[39m\u001b[95m7\u001b[39m\u001b[95m3\u001b[39m\u001b[95m6\u001b[39m q\u001b[95m0\u001b[39m,q\u001b[95m1\u001b[39m { \u001b[95mu\u001b[39m\u001b[95m3\u001b[39m(p\u001b[95mi\u001b[39m/\u001b[95m2\u001b[39m,p\u001b[95mi\u001b[39m/\u001b[95m2\u001b[39m,-p\u001b[95mi\u001b[39m/\u001b[95m2\u001b[39m) q\u001b[95m0\u001b[39m; \u001b[95mu\u001b[39m\u001b[95m3\u001b[39m(p\u001b[95mi\u001b[39m/\u001b[95m2\u001b[39m,\u001b[95m0\u001b[39m,\u001b[95m3\u001b[39m*p\u001b[95mi\u001b[39m/\u001b[95m4\u001b[39m) q\u001b[95m1\u001b[39m; cx q\u001b[95m0\u001b[39m,q\u001b[95m1\u001b[39m; \u001b[95mu\u001b[39m\u001b[95m3\u001b[39m(p\u001b[95mi\u001b[39m/\u001b[95m2\u001b[39m,-p\u001b[95mi\u001b[39m/\u001b[95m2\u001b[39m,p\u001b[95mi\u001b[39m/\u001b[95m2\u001b[39m) q\u001b[95m0\u001b[39m; \u001b[95mu\u001b[39m\u001b[95m3\u001b[39m(p\u001b[95mi\u001b[39m/\u001b[95m4\u001b[39m,p\u001b[95mi\u001b[39m/\u001b[95m4\u001b[39m,-p\u001b[95mi\u001b[39m/\u001b[95m2\u001b[39m) q\u001b[95m1\u001b[39m; }\n",
      "\u001b[93mgate\u001b[39m \u001b[95mu\u001b[39m\u001b[95mn\u001b[39m\u001b[95mi\u001b[39m\u001b[95mt\u001b[39m\u001b[95ma\u001b[39m\u001b[95mr\u001b[39m\u001b[95my\u001b[39m\u001b[95m1\u001b[39m\u001b[95m4\u001b[39m\u001b[95m0\u001b[39m\u001b[95m6\u001b[39m\u001b[95m8\u001b[39m\u001b[95m3\u001b[39m\u001b[95m2\u001b[39m\u001b[95m1\u001b[39m\u001b[95m4\u001b[39m\u001b[95m8\u001b[39m\u001b[95m1\u001b[39m\u001b[95m1\u001b[39m\u001b[95m7\u001b[39m\u001b[95m7\u001b[39m\u001b[95m6\u001b[39m q\u001b[95m0\u001b[39m,q\u001b[95m1\u001b[39m { \u001b[95mu\u001b[39m\u001b[95m3\u001b[39m(p\u001b[95mi\u001b[39m/\u001b[95m2\u001b[39m,\u001b[95m0\u001b[39m,\u001b[95m3\u001b[39m*p\u001b[95mi\u001b[39m/\u001b[95m4\u001b[39m) q\u001b[95m0\u001b[39m; cx q\u001b[95m1\u001b[39m,q\u001b[95m0\u001b[39m; \u001b[95mu\u001b[39m\u001b[95m3\u001b[39m(\u001b[95m0\u001b[39m,-\u001b[95m0\u001b[39m.\u001b[95m1\u001b[39m\u001b[95m4\u001b[39m\u001b[95m1\u001b[39m\u001b[95m8\u001b[39m\u001b[95m9\u001b[39m\u001b[95m7\u001b[39m\u001b[95m0\u001b[39m\u001b[95m5\u001b[39m,\u001b[95m0\u001b[39m.\u001b[95m1\u001b[39m\u001b[95m4\u001b[39m\u001b[95m1\u001b[39m\u001b[95m8\u001b[39m\u001b[95m9\u001b[39m\u001b[95m7\u001b[39m\u001b[95m0\u001b[39m\u001b[95m5\u001b[39m) q\u001b[95m1\u001b[39m; \u001b[95mu\u001b[39m\u001b[95m3\u001b[39m(p\u001b[95mi\u001b[39m/\u001b[95m4\u001b[39m,-\u001b[95m3\u001b[39m*p\u001b[95mi\u001b[39m/\u001b[95m4\u001b[39m,p\u001b[95mi\u001b[39m/\u001b[95m2\u001b[39m) q\u001b[95m0\u001b[39m; }\n",
      "\u001b[92mqreg\u001b[39m qr[\u001b[96m5\u001b[39m];\n",
      "\u001b[92mcreg\u001b[39m cr[\u001b[96m5\u001b[39m];\n",
      "\u001b[95mu\u001b[39m\u001b[95mn\u001b[39m\u001b[95mi\u001b[39m\u001b[95mt\u001b[39m\u001b[95ma\u001b[39m\u001b[95mr\u001b[39m\u001b[95my\u001b[39m\u001b[95m1\u001b[39m\u001b[95m4\u001b[39m\u001b[95m0\u001b[39m\u001b[95m6\u001b[39m\u001b[95m8\u001b[39m\u001b[95m3\u001b[39m\u001b[95m2\u001b[39m\u001b[95m1\u001b[39m\u001b[95m4\u001b[39m\u001b[95m7\u001b[39m\u001b[95m6\u001b[39m\u001b[95m8\u001b[39m\u001b[95m7\u001b[39m\u001b[95m3\u001b[39m\u001b[95m6\u001b[39m qr[\u001b[96m2\u001b[39m],qr[\u001b[96m3\u001b[39m];\n",
      "\u001b[95mcx\u001b[39m qr[\u001b[96m0\u001b[39m],qr[\u001b[96m3\u001b[39m];\n",
      "\u001b[95mt\u001b[39m qr[\u001b[96m3\u001b[39m];\n",
      "\u001b[95mcx\u001b[39m qr[\u001b[96m2\u001b[39m],qr[\u001b[96m3\u001b[39m];\n",
      "\u001b[95mt\u001b[39m qr[\u001b[96m2\u001b[39m];\n",
      "\u001b[95mtdg\u001b[39m qr[\u001b[96m3\u001b[39m];\n",
      "\u001b[95mcx\u001b[39m qr[\u001b[96m0\u001b[39m],qr[\u001b[96m3\u001b[39m];\n",
      "\u001b[95mcx\u001b[39m qr[\u001b[96m0\u001b[39m],qr[\u001b[96m2\u001b[39m];\n",
      "\u001b[95mt\u001b[39m qr[\u001b[96m0\u001b[39m];\n",
      "\u001b[95mtdg\u001b[39m qr[\u001b[96m2\u001b[39m];\n",
      "\u001b[95mcx\u001b[39m qr[\u001b[96m0\u001b[39m],qr[\u001b[96m2\u001b[39m];\n",
      "\u001b[95mt\u001b[39m qr[\u001b[96m3\u001b[39m];\n",
      "\u001b[95mh\u001b[39m qr[\u001b[96m3\u001b[39m];\n",
      "\u001b[95mu\u001b[39m\u001b[95mn\u001b[39m\u001b[95mi\u001b[39m\u001b[95mt\u001b[39m\u001b[95ma\u001b[39m\u001b[95mr\u001b[39m\u001b[95my\u001b[39m\u001b[95m1\u001b[39m\u001b[95m4\u001b[39m\u001b[95m0\u001b[39m\u001b[95m6\u001b[39m\u001b[95m8\u001b[39m\u001b[95m3\u001b[39m\u001b[95m2\u001b[39m\u001b[95m1\u001b[39m\u001b[95m4\u001b[39m\u001b[95m8\u001b[39m\u001b[95m1\u001b[39m\u001b[95m1\u001b[39m\u001b[95m7\u001b[39m\u001b[95m7\u001b[39m\u001b[95m6\u001b[39m qr[\u001b[96m2\u001b[39m],qr[\u001b[96m3\u001b[39m];\n",
      "\u001b[95mcx\u001b[39m qr[\u001b[96m0\u001b[39m],qr[\u001b[96m3\u001b[39m];\n",
      "\u001b[95mt\u001b[39m qr[\u001b[96m3\u001b[39m];\n",
      "\u001b[95mcx\u001b[39m qr[\u001b[96m2\u001b[39m],qr[\u001b[96m3\u001b[39m];\n",
      "\u001b[95mt\u001b[39m qr[\u001b[96m2\u001b[39m];\n",
      "\u001b[95mtdg\u001b[39m qr[\u001b[96m3\u001b[39m];\n",
      "\u001b[95mcx\u001b[39m qr[\u001b[96m0\u001b[39m],qr[\u001b[96m3\u001b[39m];\n",
      "\u001b[95mcx\u001b[39m qr[\u001b[96m0\u001b[39m],qr[\u001b[96m2\u001b[39m];\n",
      "\u001b[95mt\u001b[39m qr[\u001b[96m0\u001b[39m];\n",
      "\u001b[95mtdg\u001b[39m qr[\u001b[96m2\u001b[39m];\n",
      "\u001b[95mcx\u001b[39m qr[\u001b[96m0\u001b[39m],qr[\u001b[96m2\u001b[39m];\n",
      "\u001b[95mt\u001b[39m qr[\u001b[96m3\u001b[39m];\n",
      "\u001b[95mh\u001b[39m qr[\u001b[96m3\u001b[39m];\n",
      "\u001b[95mcx\u001b[39m qr[\u001b[96m3\u001b[39m],qr[\u001b[96m2\u001b[39m];\n",
      "\u001b[94mmeasure\u001b[39m qr[\u001b[96m0\u001b[39m] -> cr[\u001b[96m0\u001b[39m];\n",
      "\u001b[94mmeasure\u001b[39m qr[\u001b[96m1\u001b[39m] -> cr[\u001b[96m1\u001b[39m];\n",
      "\u001b[94mmeasure\u001b[39m qr[\u001b[96m2\u001b[39m] -> cr[\u001b[96m2\u001b[39m];\n",
      "\u001b[94mmeasure\u001b[39m qr[\u001b[96m3\u001b[39m] -> cr[\u001b[96m3\u001b[39m];\n",
      "\u001b[94mmeasure\u001b[39m qr[\u001b[96m4\u001b[39m] -> cr[\u001b[96m4\u001b[39m];\n",
      "\n"
     ]
    }
   ],
   "source": [
    "qc.qasm(formatted=True)"
   ]
  },
  {
   "cell_type": "code",
   "execution_count": 9,
   "metadata": {
    "ExecuteTime": {
     "end_time": "2022-03-12T00:33:35.162398Z",
     "start_time": "2022-03-12T00:33:35.022742Z"
    },
    "scrolled": true
   },
   "outputs": [
    {
     "data": {
      "text/plain": [
       "{'01000': 266, '00000': 248, '00100': 281, '01100': 229}"
      ]
     },
     "execution_count": 9,
     "metadata": {},
     "output_type": "execute_result"
    }
   ],
   "source": [
    "qc = QuantumCircuit.from_qasm_str(qc.qasm())\n",
    "counts_B = execute(qc, backend=Aer.get_backend('qasm_simulator'), shots=1024).result().get_counts(qc)\n",
    "counts_B"
   ]
  },
  {
   "cell_type": "code",
   "execution_count": 10,
   "metadata": {
    "ExecuteTime": {
     "end_time": "2022-03-12T00:33:22.158627Z",
     "start_time": "2022-03-12T00:33:22.026323Z"
    }
   },
   "outputs": [
    {
     "name": "stdout",
     "output_type": "stream",
     "text": [
      "/home/paltenmo/projects/ML4Quantum/venv38/bin/python\r\n"
     ]
    }
   ],
   "source": [
    "!which python"
   ]
  },
  {
   "cell_type": "code",
   "execution_count": 11,
   "metadata": {
    "ExecuteTime": {
     "end_time": "2022-03-12T01:18:51.515380Z",
     "start_time": "2022-03-12T01:18:51.144622Z"
    }
   },
   "outputs": [
    {
     "data": {
      "text/plain": [
       "{'00000': 239, '10100': 254, '11100': 280, '01000': 251}"
      ]
     },
     "execution_count": 11,
     "metadata": {},
     "output_type": "execute_result"
    }
   ],
   "source": [
    "QASM_COPIED = \"\"\"OPENQASM 2.0;\n",
    "include \"qelib1.inc\";\n",
    "gate unitary140678141631504 p0,p1 {\n",
    "\tu3(pi/2,pi/2,-pi/2) p0;\n",
    "\tu3(pi/2,0,3*pi/4) p1;\n",
    "\tcx p0,p1;\n",
    "\tu3(pi/2,-pi/2,pi/2) p0;\n",
    "\tu3(pi/4,pi/4,-pi/2) p1;\n",
    "}\n",
    "gate unitary140683064656464 p0,p1 {\n",
    "\tu3(pi/2,0,3*pi/4) p0;\n",
    "\tcx p1,p0;\n",
    "\tu3(0,-0.14189705,0.14189705) p1;\n",
    "\tu3(pi/4,-3*pi/4,pi/2) p0;\n",
    "}\n",
    "qreg qr[5];\n",
    "creg cr[5];\n",
    "cu(4.6382952,2.4816698,3.7351455,5.552501) qr[0],qr[4];\n",
    "cx qr[2],qr[4];\n",
    "unitary140678141631504 qr[2],qr[3];\n",
    "cx qr[0],qr[3];\n",
    "t qr[3];\n",
    "cx qr[2],qr[3];\n",
    "t qr[2];\n",
    "tdg qr[3];\n",
    "cx qr[0],qr[3];\n",
    "cx qr[0],qr[2];\n",
    "t qr[0];\n",
    "tdg qr[2];\n",
    "cx qr[0],qr[2];\n",
    "t qr[3];\n",
    "h qr[3];\n",
    "unitary140683064656464 qr[2],qr[3];\n",
    "cx qr[0],qr[3];\n",
    "t qr[3];\n",
    "cx qr[2],qr[3];\n",
    "t qr[2];\n",
    "tdg qr[3];\n",
    "cx qr[0],qr[3];\n",
    "cx qr[0],qr[2];\n",
    "t qr[0];\n",
    "tdg qr[2];\n",
    "cx qr[0],qr[2];\n",
    "t qr[3];\n",
    "h qr[3];\n",
    "cx qr[3],qr[2];\n",
    "cx qr[2],qr[4];\n",
    "cu(-4.6382952,-3.7351455,-2.4816698,-5.552501) qr[0],qr[4];\n",
    "measure qr[0] -> cr[0];\n",
    "measure qr[1] -> cr[1];\n",
    "measure qr[2] -> cr[2];\n",
    "measure qr[3] -> cr[3];\n",
    "measure qr[4] -> cr[4];\"\"\"\n",
    "qc = QuantumCircuit.from_qasm_str(QASM_COPIED)\n",
    "counts_B = execute(qc, backend=Aer.get_backend('qasm_simulator'), shots=1024).result().get_counts(qc)\n",
    "counts_B"
   ]
  },
  {
   "cell_type": "markdown",
   "metadata": {},
   "source": [
    "# Program A"
   ]
  },
  {
   "cell_type": "code",
   "execution_count": 12,
   "metadata": {},
   "outputs": [
    {
     "data": {
      "text/plain": [
       "{'00000': 1024}"
      ]
     },
     "execution_count": 12,
     "metadata": {},
     "output_type": "execute_result"
    }
   ],
   "source": [
    "from qiskit import QuantumCircuit, ClassicalRegister, QuantumRegister\n",
    "from qiskit.circuit.library.standard_gates import *\n",
    "from qiskit import Aer, transpile, execute\n",
    "qr = QuantumRegister(5, name='qr')\n",
    "cr = ClassicalRegister(5, name='cr')\n",
    "qc = QuantumCircuit(qr, cr, name='qc')\n",
    "qc.measure(qr, cr)\n",
    "qc = transpile(qc, optimization_level=0, seed_transpiler=44)\n",
    "counts_A = execute(qc, backend=Aer.get_backend('qasm_simulator'), shots=1024).result().get_counts(qc)\n",
    "counts_A  # OUTPUT: {'00000': 1024}"
   ]
  },
  {
   "cell_type": "markdown",
   "metadata": {},
   "source": [
    "# Program B"
   ]
  },
  {
   "cell_type": "code",
   "execution_count": 13,
   "metadata": {},
   "outputs": [
    {
     "data": {
      "text/plain": [
       "{'01000': 260, '00000': 264, '01100': 234, '00100': 266}"
      ]
     },
     "execution_count": 13,
     "metadata": {},
     "output_type": "execute_result"
    }
   ],
   "source": [
    "from qiskit import QuantumCircuit, ClassicalRegister, QuantumRegister\n",
    "from qiskit.circuit.library.standard_gates import *\n",
    "from qiskit import Aer, transpile, execute\n",
    "qr = QuantumRegister(5, name='qr')\n",
    "cr = ClassicalRegister(5, name='cr')\n",
    "qc = QuantumCircuit(qr, cr, name='qc')\n",
    "subcircuit = QuantumCircuit(qr, cr, name='subcircuit')\n",
    "subcircuit.append(CSwapGate(), qargs=[qr[0], qr[2], qr[3]], cargs=[])\n",
    "qc.append(subcircuit, qargs=qr, cargs=cr)\n",
    "qc.append(subcircuit.inverse(), qargs=qr, cargs=cr)\n",
    "qc.measure(qr, cr)\n",
    "qc = transpile(qc, optimization_level=3, seed_transpiler=44)\n",
    "qc = QuantumCircuit.from_qasm_str(qc.qasm())\n",
    "counts_B = execute(qc, backend=Aer.get_backend('qasm_simulator'), shots=1024).result().get_counts(qc)\n",
    "counts_B  # OUTPUT: {'01000': 255, '00000': 269, '00100': 251, '01100': 249}"
   ]
  },
  {
   "cell_type": "code",
   "execution_count": null,
   "metadata": {},
   "outputs": [],
   "source": []
  }
 ],
 "metadata": {
  "kernelspec": {
   "display_name": "Python 3 (ipykernel)",
   "language": "python",
   "name": "python3"
  },
  "language_info": {
   "codemirror_mode": {
    "name": "ipython",
    "version": 3
   },
   "file_extension": ".py",
   "mimetype": "text/x-python",
   "name": "python",
   "nbconvert_exporter": "python",
   "pygments_lexer": "ipython3",
   "version": "3.8.0"
  },
  "toc": {
   "base_numbering": 1,
   "nav_menu": {},
   "number_sections": true,
   "sideBar": true,
   "skip_h1_title": false,
   "title_cell": "Table of Contents",
   "title_sidebar": "Contents",
   "toc_cell": false,
   "toc_position": {},
   "toc_section_display": true,
   "toc_window_display": false
  },
  "varInspector": {
   "cols": {
    "lenName": "20",
    "lenType": 16,
    "lenVar": 40
   },
   "kernels_config": {
    "python": {
     "delete_cmd_postfix": "",
     "delete_cmd_prefix": "del ",
     "library": "var_list.py",
     "varRefreshCmd": "print(var_dic_list())"
    },
    "r": {
     "delete_cmd_postfix": ") ",
     "delete_cmd_prefix": "rm(",
     "library": "var_list.r",
     "varRefreshCmd": "cat(var_dic_list()) "
    }
   },
   "types_to_exclude": [
    "module",
    "function",
    "builtin_function_or_method",
    "instance",
    "_Feature"
   ],
   "window_display": false
  }
 },
 "nbformat": 4,
 "nbformat_minor": 4
}
