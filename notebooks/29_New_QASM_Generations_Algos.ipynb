{
 "cells": [
  {
   "cell_type": "code",
   "execution_count": 1,
   "id": "b87e399c",
   "metadata": {
    "ExecuteTime": {
     "end_time": "2022-02-02T15:29:46.987843Z",
     "start_time": "2022-02-02T15:29:44.106654Z"
    }
   },
   "outputs": [],
   "source": [
    "import pandas as pd\n",
    "import numpy as np\n",
    "import sys\n",
    "sys.path.append(\"../lib\")\n",
    "import seaborn as sns\n",
    "import matplotlib.pyplot as plt\n",
    "from utils import iterate_over\n",
    "from utils import load_config_and_check\n",
    "from inspector import Inspector\n",
    "from tqdm import tqdm\n",
    "import sqlite3 as sl\n",
    "import os"
   ]
  },
  {
   "cell_type": "code",
   "execution_count": 2,
   "id": "9f01d66f",
   "metadata": {
    "ExecuteTime": {
     "end_time": "2022-02-02T15:29:49.148620Z",
     "start_time": "2022-02-02T15:29:49.121489Z"
    }
   },
   "outputs": [],
   "source": [
    "%load_ext autoreload\n",
    "%autoreload 2"
   ]
  },
  {
   "cell_type": "code",
   "execution_count": null,
   "id": "aeb781e6",
   "metadata": {},
   "outputs": [],
   "source": [
    "# GOAL: experiment with various generation algortihms in QASM language.\n",
    "# some examples are: \n",
    "# - use new gates\n",
    "# - create particular sequences (present in the optimization routines)\n",
    "# - use gates with very small or very big floating numbers\n",
    "# - in circuit measurment (not only at the end)\n",
    "# - simmetric circuit with compute and uncompute\n",
    "# - completely deterministic circuit\n",
    "# - multiple registers (classical and quantum)"
   ]
  },
  {
   "cell_type": "code",
   "execution_count": 4,
   "id": "93fcbd22",
   "metadata": {
    "ExecuteTime": {
     "end_time": "2022-02-02T15:43:56.501677Z",
     "start_time": "2022-02-02T15:43:56.479485Z"
    }
   },
   "outputs": [
    {
     "name": "stdout",
     "output_type": "stream",
     "text": [
      "OPENQASM 2.0;\n",
      "include \"qelib1.inc\";\n",
      "qreg q[4];\n",
      "creg c[4];\n",
      "h q[0];\n",
      "cx q[0], q[1];\n",
      "ry(1.11) q[2];\n",
      "rz(2.22) q[2];\n",
      "cx q[2], q[3];\n",
      "h q[3];\n",
      "h q[1];\n",
      "barrier q;\n",
      "measure q -> c;\n"
     ]
    }
   ],
   "source": [
    "QASM_PATH = \"stub_files/easy_example.qasm\"\n",
    "QASM_CONTENT = open(QASM_PATH, 'r').read()\n",
    "print(QASM_CONTENT)"
   ]
  },
  {
   "cell_type": "markdown",
   "id": "ccfb02a2",
   "metadata": {},
   "source": [
    "## Test Existing Generator"
   ]
  },
  {
   "cell_type": "code",
   "execution_count": 5,
   "id": "82a436b9",
   "metadata": {
    "ExecuteTime": {
     "end_time": "2022-02-02T15:45:24.102017Z",
     "start_time": "2022-02-02T15:45:24.065567Z"
    }
   },
   "outputs": [],
   "source": [
    "from generation_strategy import WeightedRandomCircuitGenerator"
   ]
  },
  {
   "cell_type": "code",
   "execution_count": 7,
   "id": "9f0c2a83",
   "metadata": {
    "ExecuteTime": {
     "end_time": "2022-02-02T15:54:06.104537Z",
     "start_time": "2022-02-02T15:54:05.934514Z"
    }
   },
   "outputs": [],
   "source": [
    "gate_set ={\n",
    "    \"cx\": 3,\n",
    "    \"rx\": 1,\n",
    "    \"ry\": 1,\n",
    "    \"rz\": 1,\n",
    "    \"p\": 1,\n",
    "}"
   ]
  },
  {
   "cell_type": "code",
   "execution_count": 22,
   "id": "0534b44a",
   "metadata": {
    "ExecuteTime": {
     "end_time": "2022-02-02T15:59:23.531324Z",
     "start_time": "2022-02-02T15:59:23.507131Z"
    }
   },
   "outputs": [
    {
     "name": "stdout",
     "output_type": "stream",
     "text": [
      "--------------------------------------------------------------------------------\n",
      "Creating circuit: 5_gates\n"
     ]
    }
   ],
   "source": [
    "generator = WeightedRandomCircuitGenerator(\n",
    "    out_folder=\"stub_files\", benchmark_name=\"5_gates_generator\")\n",
    "qasm_content, metadata = generator.generate(\n",
    "    n_qubits=5, n_ops_range=(10, 20), gate_set=gate_set, random_seed=42, \n",
    "    circuit_id=\"5_gates\", in_memory=True)"
   ]
  },
  {
   "cell_type": "code",
   "execution_count": 23,
   "id": "49035baf",
   "metadata": {
    "ExecuteTime": {
     "end_time": "2022-02-02T15:59:25.471731Z",
     "start_time": "2022-02-02T15:59:25.450454Z"
    }
   },
   "outputs": [
    {
     "name": "stdout",
     "output_type": "stream",
     "text": [
      "OPENQASM 2.0;\n",
      "include \"qelib1.inc\";\n",
      "qreg q[5];\n",
      "creg c[5];\n",
      "cx q[4], q[2];\n",
      "ry(0.9801424781769557) q[0];\n",
      "cx q[4], q[2];\n",
      "ry(6.094123332392967) q[0];\n",
      "rz(1.1424399624340646) q[1];\n",
      "cx q[1], q[3];\n",
      "rx(3.844385118274953) q[1];\n",
      "cx q[1], q[2];\n",
      "rx(1.2545873742863833) q[3];\n",
      "rx(0.29185655071471744) q[2];\n",
      "ry(0.4087312132537349) q[0];\n",
      "U(0,5.0793103400482895,0) q[4];\n",
      "cx q[0], q[3];\n",
      "rx(3.1112882860657196) q[0];\n",
      "cx q[4], q[1];\n",
      "ry(3.267683749398383) q[1];\n",
      "rx(6.092079887237463) q[0];\n",
      "rz(5.622366060669442) q[4];\n",
      "ry(0.55601478868818) q[4];\n",
      "cx q[0], q[2];\n",
      "barrier q;\n",
      "measure q -> c;\n",
      "\n"
     ]
    }
   ],
   "source": [
    "print(qasm_content)"
   ]
  },
  {
   "cell_type": "markdown",
   "id": "ba643894",
   "metadata": {},
   "source": [
    "## New Gates"
   ]
  },
  {
   "cell_type": "code",
   "execution_count": null,
   "id": "6e1de891",
   "metadata": {},
   "outputs": [],
   "source": [
    "# GOAL: experiment with various generation algortihms in QASM language.\n",
    "# some examples are: \n",
    "# - use new gates (X, Y, Z, id, )"
   ]
  },
  {
   "cell_type": "code",
   "execution_count": 53,
   "id": "e5e95465",
   "metadata": {
    "ExecuteTime": {
     "end_time": "2022-02-02T17:15:52.004242Z",
     "start_time": "2022-02-02T17:15:51.905387Z"
    }
   },
   "outputs": [],
   "source": [
    "from tket_interface import convert_and_execute_qiskit_and_cirq_via_tket"
   ]
  },
  {
   "cell_type": "code",
   "execution_count": 25,
   "id": "2d21ba91",
   "metadata": {
    "ExecuteTime": {
     "end_time": "2022-02-02T16:23:13.792621Z",
     "start_time": "2022-02-02T16:23:13.750893Z"
    }
   },
   "outputs": [],
   "source": [
    "from generation_strategy import GenerationStrategy"
   ]
  },
  {
   "cell_type": "code",
   "execution_count": 123,
   "id": "17b2be54",
   "metadata": {
    "ExecuteTime": {
     "end_time": "2022-02-02T17:54:59.322726Z",
     "start_time": "2022-02-02T17:54:59.275007Z"
    }
   },
   "outputs": [],
   "source": [
    "import math\n",
    "import random\n",
    "\n",
    "\n",
    "OMNI_GATES = [\n",
    "    #{\"name\": \"cxx\", \"n_params\": 0, \"n_bits\": 3},\n",
    "    \n",
    "    {\"name\": \"cx\", \"n_params\": 0, \"n_bits\": 2},\n",
    "    #{\"name\": \"cy\", \"n_params\": 0, \"n_bits\": 2},\n",
    "    #{\"name\": \"cz\", \"n_params\": 0, \"n_bits\": 2},\n",
    "    #{\"name\": \"ch\", \"n_params\": 0, \"n_bits\": 2},\n",
    "    {\"name\": \"swap\", \"n_params\": 0, \"n_bits\": 2},\n",
    "    #{\"name\": \"rxx\", \"n_params\": 1, \"n_bits\": 2},\n",
    "    #{\"name\": \"ryy\", \"n_params\": 1, \"n_bits\": 2},\n",
    "    \n",
    "    {\"name\": \"id\", \"n_params\": 0, \"n_bits\": 1},\n",
    "    #{\"name\": \"u0\", \"n_params\": 1, \"n_bits\": 1},\n",
    "    {\"name\": \"u1\", \"n_params\": 1, \"n_bits\": 1},\n",
    "    {\"name\": \"u2\", \"n_params\": 2, \"n_bits\": 1},\n",
    "    {\"name\": \"u3\", \"n_params\": 3, \"n_bits\": 1},\n",
    "    \n",
    "    {\"name\": \"x\", \"n_params\": 0, \"n_bits\": 1},\n",
    "    {\"name\": \"y\", \"n_params\": 0, \"n_bits\": 1},\n",
    "    {\"name\": \"z\", \"n_params\": 0, \"n_bits\": 1},\n",
    "    {\"name\": \"h\", \"n_params\": 0, \"n_bits\": 1},\n",
    "    {\"name\": \"s\", \"n_params\": 0, \"n_bits\": 1},\n",
    "    #{\"name\": \"sdg\", \"n_params\": 0, \"n_bits\": 1},\n",
    "    {\"name\": \"t\", \"n_params\": 0, \"n_bits\": 1},\n",
    "    #{\"name\": \"tdg\", \"n_params\": 0, \"n_bits\": 1},\n",
    "    \n",
    "    #{\"name\": \"p\", \"n_params\": 1, \"n_bits\": 1},\n",
    "    {\"name\": \"rx\", \"n_params\": 1, \"n_bits\": 1},\n",
    "    {\"name\": \"ry\", \"n_params\": 1, \"n_bits\": 1},\n",
    "    {\"name\": \"rz\", \"n_params\": 1, \"n_bits\": 1},\n",
    "]\n",
    "\n",
    "\n",
    "class OmniGateCircuitGenerator(GenerationStrategy):\n",
    "    \n",
    "    def _generate_n_params(self, n_params: int):\n",
    "        numeric_prams = np.random.uniform(\n",
    "            low=0, high=2 * math.pi, size=n_params)\n",
    "        str_params = [str(e) for e in numeric_prams]\n",
    "        return \"(\" + \",\".join(str_params) + \")\"\n",
    "    \n",
    "    def _generate_n_qubits(self, n_qubits: int, total_qubits: int):\n",
    "        numeric_qubits = np.random.choice(np.arange(total_qubits), n_qubits, replace=False)\n",
    "        str_qubits = [f\"q[{e}]\" for e in numeric_qubits]\n",
    "        return \", \".join(str_qubits)\n",
    "\n",
    "    def _random_concatenation(self, n_qubits: int, n_ops: int):\n",
    "        \"\"\"Random strategy: select a gate according to its weight.\"\"\"\n",
    "        circuit_qasm = 'OPENQASM 2.0;\\ninclude \"qelib1.inc\";\\n'\n",
    "        \n",
    "        np.random.seed(self.random_seed)\n",
    "        \n",
    "        qubits = range(n_qubits)\n",
    "        circuit_qasm += f\"qreg q[{n_qubits}];\\n\"\n",
    "        circuit_qasm += f\"creg c[{n_qubits}];\\n\"\n",
    "        \n",
    "        for i_op in range(n_ops):\n",
    "            op = np.random.choice(self.gate_set, 1)[0]\n",
    "            print(op)\n",
    "            i_instr = f'{op[\"name\"]}'\n",
    "            if op[\"n_params\"] > 0:\n",
    "                i_instr += f'{self._generate_n_params(n_params=op[\"n_params\"])}'\n",
    "            i_instr += f' {self._generate_n_qubits(n_qubits=op[\"n_bits\"], total_qubits=n_qubits)}'\n",
    "            i_instr += ';\\n'\n",
    "            \n",
    "            circuit_qasm += i_instr\n",
    "            \n",
    "        # circuit_qasm += f\"barrier q;\\n\"\n",
    "        # Measure\n",
    "        circuit_qasm += f\"measure q -> c;\\n\"\n",
    "        return circuit_qasm\n",
    "\n",
    "    def _generate_single_program(self, circuit_id: str):\n",
    "        \"\"\"Generate a single QASM program.\"\"\"\n",
    "        print(\"-\" * 80)\n",
    "        print(f\"Creating circuit: {circuit_id}\")\n",
    "\n",
    "        random.seed(self.random_seed)\n",
    "        n_ops = random.randint(self.min_n_ops, self.max_n_ops)\n",
    "\n",
    "        # generate a random circuit\n",
    "        random_circuit_qasm_str = self._random_concatenation(\n",
    "            n_qubits=self.n_qubits,\n",
    "            n_ops=n_ops)\n",
    "\n",
    "        metadata_dict = {\n",
    "            \"n_qubits\": self.n_qubits,\n",
    "            \"n_ops\": n_ops,\n",
    "            \"gate_set\": self.gate_set,\n",
    "            \"strategy_program_generation\": self.__class__.__name__\n",
    "        }\n",
    "\n",
    "        return random_circuit_qasm_str, metadata_dict"
   ]
  },
  {
   "cell_type": "code",
   "execution_count": 124,
   "id": "b75e8c16",
   "metadata": {
    "ExecuteTime": {
     "end_time": "2022-02-02T17:55:05.065638Z",
     "start_time": "2022-02-02T17:55:05.011135Z"
    }
   },
   "outputs": [
    {
     "name": "stdout",
     "output_type": "stream",
     "text": [
      "--------------------------------------------------------------------------------\n",
      "Creating circuit: omni_gates\n",
      "{'name': 'x', 'n_params': 0, 'n_bits': 1}\n",
      "{'name': 'y', 'n_params': 0, 'n_bits': 1}\n",
      "{'name': 'id', 'n_params': 0, 'n_bits': 1}\n",
      "{'name': 'y', 'n_params': 0, 'n_bits': 1}\n",
      "{'name': 'y', 'n_params': 0, 'n_bits': 1}\n",
      "{'name': 't', 'n_params': 0, 'n_bits': 1}\n",
      "{'name': 'rx', 'n_params': 1, 'n_bits': 1}\n",
      "{'name': 'h', 'n_params': 0, 'n_bits': 1}\n",
      "{'name': 'ry', 'n_params': 1, 'n_bits': 1}\n",
      "{'name': 'z', 'n_params': 0, 'n_bits': 1}\n",
      "{'name': 'u2', 'n_params': 2, 'n_bits': 1}\n",
      "{'name': 'h', 'n_params': 0, 'n_bits': 1}\n",
      "{'name': 'u1', 'n_params': 1, 'n_bits': 1}\n",
      "{'name': 'rz', 'n_params': 1, 'n_bits': 1}\n",
      "{'name': 'u1', 'n_params': 1, 'n_bits': 1}\n",
      "{'name': 'rz', 'n_params': 1, 'n_bits': 1}\n",
      "{'name': 'u1', 'n_params': 1, 'n_bits': 1}\n",
      "{'name': 'u2', 'n_params': 2, 'n_bits': 1}\n",
      "{'name': 't', 'n_params': 0, 'n_bits': 1}\n",
      "{'name': 'rx', 'n_params': 1, 'n_bits': 1}\n"
     ]
    }
   ],
   "source": [
    "generator = OmniGateCircuitGenerator(\n",
    "    out_folder=\"stub_files\", benchmark_name=\"omni_gates_generator\")\n",
    "qasm_content, metadata = generator.generate(\n",
    "    n_qubits=5, n_ops_range=(10, 20), gate_set=OMNI_GATES, random_seed=42, \n",
    "    circuit_id=\"omni_gates\", in_memory=False)"
   ]
  },
  {
   "cell_type": "code",
   "execution_count": 125,
   "id": "3ebff7e4",
   "metadata": {
    "ExecuteTime": {
     "end_time": "2022-02-02T17:55:08.475963Z",
     "start_time": "2022-02-02T17:55:08.430626Z"
    }
   },
   "outputs": [
    {
     "name": "stdout",
     "output_type": "stream",
     "text": [
      "OPENQASM 2.0;\n",
      "include \"qelib1.inc\";\n",
      "qreg q[5];\n",
      "creg c[5];\n",
      "x q[1];\n",
      "y q[3];\n",
      "id q[3];\n",
      "y q[4];\n",
      "y q[0];\n",
      "t q[3];\n",
      "rx(2.713990594641554) q[1];\n",
      "h q[0];\n",
      "ry(4.933406064175189) q[0];\n",
      "z q[1];\n",
      "u2(2.8305702808704267,0.08334620905998126) q[4];\n",
      "h q[2];\n",
      "u1(1.5144076667907493) q[4];\n",
      "rz(1.0892822437043135) q[4];\n",
      "u1(1.9585384533701249) q[2];\n",
      "rz(5.292231320196365) q[0];\n",
      "u1(3.756716362028796) q[4];\n",
      "u2(2.442131435811337,1.7049362495591496) q[2];\n",
      "t q[1];\n",
      "rx(5.040352282937607) q[1];\n",
      "measure q -> c;\n",
      "\n"
     ]
    }
   ],
   "source": [
    "print(qasm_content)"
   ]
  },
  {
   "cell_type": "code",
   "execution_count": 100,
   "id": "e21236f6",
   "metadata": {
    "ExecuteTime": {
     "end_time": "2022-02-02T17:40:45.943630Z",
     "start_time": "2022-02-02T17:40:45.491758Z"
    }
   },
   "outputs": [
    {
     "data": {
      "text/plain": [
       "dict_keys(['qiskit', 'cirq', 'profile_output', 'profile_function_calls', 'profile_n_function_calls', 'profile_time'])"
      ]
     },
     "execution_count": 100,
     "metadata": {},
     "output_type": "execute_result"
    }
   ],
   "source": [
    "res = convert_and_execute_qiskit_and_cirq_via_tket(\n",
    "    qasm_path=\"stub_files/omni_gates.qasm\", shots=8192\n",
    ")\n",
    "res.keys()"
   ]
  },
  {
   "cell_type": "code",
   "execution_count": 102,
   "id": "ae719912",
   "metadata": {
    "ExecuteTime": {
     "end_time": "2022-02-02T17:41:31.999248Z",
     "start_time": "2022-02-02T17:41:27.055122Z"
    }
   },
   "outputs": [],
   "source": [
    "from detectors import KS_Detector\n",
    "detector = KS_Detector()"
   ]
  },
  {
   "cell_type": "code",
   "execution_count": 104,
   "id": "539911d4",
   "metadata": {
    "ExecuteTime": {
     "end_time": "2022-02-02T17:42:10.313716Z",
     "start_time": "2022-02-02T17:42:10.255154Z"
    }
   },
   "outputs": [
    {
     "data": {
      "text/plain": [
       "(0.5206298828125, 0.0)"
      ]
     },
     "execution_count": 104,
     "metadata": {},
     "output_type": "execute_result"
    }
   ],
   "source": [
    "stat, pval = detector.check(res['qiskit'], res['cirq'])\n",
    "stat, pval "
   ]
  },
  {
   "cell_type": "code",
   "execution_count": 108,
   "id": "e153992e",
   "metadata": {
    "ExecuteTime": {
     "end_time": "2022-02-02T17:45:58.597417Z",
     "start_time": "2022-02-02T17:45:58.552710Z"
    }
   },
   "outputs": [],
   "source": [
    "from inspector import convert_dict_to_df\n",
    "from inspector import Inspector"
   ]
  },
  {
   "cell_type": "code",
   "execution_count": 117,
   "id": "628a2a4d",
   "metadata": {
    "ExecuteTime": {
     "end_time": "2022-02-02T17:51:28.367700Z",
     "start_time": "2022-02-02T17:51:28.319162Z"
    }
   },
   "outputs": [],
   "source": [
    "sherlock = Inspector(folder_executions=\"stub_files/\")\n",
    "sherlock.df_melted = convert_dict_to_df(\n",
    "    res_a=res[\"cirq\"],res_b=res[\"qiskit\"], \n",
    "    platform_a='cirq', platform_b='qiskit'\n",
    ")"
   ]
  },
  {
   "cell_type": "markdown",
   "id": "847789d5",
   "metadata": {},
   "source": [
    "```qasm\n",
    "OPENQASM 2.0;\n",
    "include \"qelib1.inc\";\n",
    "qreg q[5];\n",
    "creg c[5];\n",
    "x q[1];\n",
    "y q[3];\n",
    "id q[3];\n",
    "y q[4];\n",
    "y q[0];\n",
    "t q[3];\n",
    "rx(2.713990594641554) q[1];\n",
    "h q[0];\n",
    "ry(4.933406064175189) q[0];\n",
    "z q[1];\n",
    "u2(2.8305702808704267,0.08334620905998126) q[4];\n",
    "h q[2];\n",
    "u1(1.5144076667907493) q[4];\n",
    "rz(1.0892822437043135) q[4];\n",
    "u1(1.9585384533701249) q[2];\n",
    "rz(5.292231320196365) q[0];\n",
    "u1(3.756716362028796) q[4];\n",
    "u2(2.442131435811337,1.7049362495591496) q[2];\n",
    "t q[1];\n",
    "rx(5.040352282937607) q[1];\n",
    "barrier q;\n",
    "measure q -> c;\n",
    "```"
   ]
  },
  {
   "cell_type": "code",
   "execution_count": 118,
   "id": "e04f45b0",
   "metadata": {
    "ExecuteTime": {
     "end_time": "2022-02-02T17:51:29.335944Z",
     "start_time": "2022-02-02T17:51:28.848923Z"
    }
   },
   "outputs": [
    {
     "name": "stdout",
     "output_type": "stream",
     "text": [
      "n_qubits: 5\n",
      "n_shots: 8192.0\n",
      "Uniform threshold: 256.0\n"
     ]
    },
    {
     "data": {
      "image/png": "[encoded data removed]",
      "text/plain": [
       "<Figure size 720x432 with 1 Axes>"
      ]
     },
     "metadata": {
      "needs_background": "light"
     },
     "output_type": "display_data"
    }
   ],
   "source": [
    "sherlock.plot_histogram_together()"
   ]
  },
  {
   "cell_type": "markdown",
   "id": "820426f1",
   "metadata": {},
   "source": [
    "### Execution in Qiskit Native"
   ]
  },
  {
   "cell_type": "code",
   "execution_count": 113,
   "id": "8d2c473a",
   "metadata": {
    "ExecuteTime": {
     "end_time": "2022-02-02T17:48:43.041579Z",
     "start_time": "2022-02-02T17:48:42.997158Z"
    }
   },
   "outputs": [],
   "source": [
    "import qiskit\n",
    "from qiskit import QuantumCircuit\n",
    "from qiskit import Aer, transpile\n"
   ]
  },
  {
   "cell_type": "code",
   "execution_count": 153,
   "id": "325e981f",
   "metadata": {
    "ExecuteTime": {
     "end_time": "2022-02-02T18:08:28.538650Z",
     "start_time": "2022-02-02T18:08:28.374128Z"
    }
   },
   "outputs": [
    {
     "name": "stdout",
     "output_type": "stream",
     "text": [
      "     ┌───┐         ┌───┐             ┌────────────┐   ┌────────────┐                               ┌─┐      \n",
      "q_0: ┤ Y ├─────────┤ H ├─────────────┤ Ry(4.9334) ├───┤ Rz(5.2922) ├───────────────────────────────┤M├──────\n",
      "     ├───┤     ┌───┴───┴───┐         └───┬───┬────┘   └───┬───┬────┘┌────────────┐                 └╥┘┌─┐   \n",
      "q_1: ┤ X ├─────┤ Rx(2.714) ├─────────────┤ Z ├────────────┤ T ├─────┤ Rx(5.0404) ├──────────────────╫─┤M├───\n",
      "     ├───┤     ├───────────┴┐    ┌───────┴───┴───────┐    └───┘     └────┬─┬─────┘                  ║ └╥┘   \n",
      "q_2: ┤ H ├─────┤ U1(1.9585) ├────┤ U2(2.4421,1.7049) ├───────────────────┤M├────────────────────────╫──╫────\n",
      "     ├───┤     └───┬───┬────┘    └───────┬───┬───────┘                   └╥┘      ┌─┐               ║  ║    \n",
      "q_3: ┤ Y ├─────────┤ I ├─────────────────┤ T ├────────────────────────────╫───────┤M├───────────────╫──╫────\n",
      "     ├───┤┌────────┴───┴────────┐    ┌───┴───┴────┐   ┌────────────┐      ║       └╥┘┌────────────┐ ║  ║ ┌─┐\n",
      "q_4: ┤ Y ├┤ U2(2.8306,0.083346) ├────┤ U1(1.5144) ├───┤ Rz(1.0893) ├──────╫────────╫─┤ U1(3.7567) ├─╫──╫─┤M├\n",
      "     └───┘└─────────────────────┘    └────────────┘   └────────────┘      ║        ║ └────────────┘ ║  ║ └╥┘\n",
      "c: 5/═════════════════════════════════════════════════════════════════════╩════════╩════════════════╩══╩══╩═\n",
      "                                                                          2        3                0  1  4 \n"
     ]
    }
   ],
   "source": [
    "qc = QuantumCircuit.from_qasm_file(\"stub_files/omni_gates.qasm\")\n",
    "# Transpile for simulator\n",
    "simulator = Aer.get_backend('aer_simulator')\n",
    "#qc = transpile(qc, simulator)\n",
    "print(qc.draw(fold=-1))\n",
    "# Run and get counts\n",
    "result = simulator.run(qc, shots=8192).result()\n",
    "counts_qiskit = result.get_counts(qc)"
   ]
  },
  {
   "cell_type": "code",
   "execution_count": 148,
   "id": "c16511a7",
   "metadata": {
    "ExecuteTime": {
     "end_time": "2022-02-02T18:05:32.058520Z",
     "start_time": "2022-02-02T18:05:32.013172Z"
    }
   },
   "outputs": [
    {
     "data": {
      "text/plain": [
       "{'11001': 2977,\n",
       " '01001': 2968,\n",
       " '11011': 822,\n",
       " '01011': 785,\n",
       " '11101': 222,\n",
       " '01101': 196,\n",
       " '01111': 64,\n",
       " '11111': 52,\n",
       " '11000': 41,\n",
       " '01000': 39,\n",
       " '11010': 13,\n",
       " '01010': 7,\n",
       " '11100': 4,\n",
       " '01100': 1,\n",
       " '11110': 1}"
      ]
     },
     "execution_count": 148,
     "metadata": {},
     "output_type": "execute_result"
    }
   ],
   "source": [
    "counts_qiskit = dict(sorted(counts_qiskit.items(), key=lambda item: item[1], reverse=True))\n",
    "\n",
    "counts_qiskit"
   ]
  },
  {
   "cell_type": "markdown",
   "id": "bddd2005",
   "metadata": {
    "ExecuteTime": {
     "end_time": "2022-02-02T17:52:07.022741Z",
     "start_time": "2022-02-02T17:52:06.977415Z"
    }
   },
   "source": [
    "### Native Cirq execution"
   ]
  },
  {
   "cell_type": "code",
   "execution_count": 150,
   "id": "afd80b35",
   "metadata": {
    "ExecuteTime": {
     "end_time": "2022-02-02T18:07:59.249302Z",
     "start_time": "2022-02-02T18:07:59.094559Z"
    }
   },
   "outputs": [
    {
     "data": {
      "text/html": [
       "<style>div.output_area pre {white-space: pre;}</style>"
      ],
      "text/plain": [
       "<IPython.core.display.HTML object>"
      ]
     },
     "metadata": {},
     "output_type": "display_data"
    },
    {
     "name": "stdout",
     "output_type": "stream",
     "text": [
      "q_0: ───Y───H─────────────────────────────────────────────────────────────────────────────────────────────────Ry(1.57π)────────────────────────────────────────────────────────────────────────────────────────Rz(1.69π)────M('c_0')──────────────────────────────────────────────────────────────────────────────────\n",
      "\n",
      "q_1: ───X───Rx(0.864π)────────────────────────────────────────────────────────────────────────────────────────Z────────────────────────────────────────────────────────────────────────────────────────────────T────────────Rx(1.6π)───────────────────────────────────────────────────────────────────────M('c_1')───\n",
      "\n",
      "q_2: ───H───cirq.circuits.qasm_output.QasmUGate(theta=0, phi=0, lmda=0.6234221521788219)──────────────────────cirq.circuits.qasm_output.QasmUGate(theta=0.5, phi=0.777354579378964, lmda=0.5426980635477918)───M('c_2')───────────────────────────────────────────────────────────────────────────────────────────────\n",
      "\n",
      "q_3: ───Y───I─────────────────────────────────────────────────────────────────────────────────────────────────T────────────────────────────────────────────────────────────────────────────────────────────────M('c_3')───────────────────────────────────────────────────────────────────────────────────────────────\n",
      "\n",
      "q_4: ───Y───cirq.circuits.qasm_output.QasmUGate(theta=0.5, phi=0.900998503939086, lmda=0.02652992231973306)───cirq.circuits.qasm_output.QasmUGate(theta=0, phi=0, lmda=0.48205093205202343)────────────────────Rz(0.347π)───cirq.circuits.qasm_output.QasmUGate(theta=0, phi=0, lmda=1.1957999576221703)───M('c_4')───\n"
     ]
    }
   ],
   "source": [
    "import cirq\n",
    "from cirq.contrib.qasm_import import circuit_from_qasm\n",
    "import re\n",
    "\n",
    "from IPython.core.display import display, HTML\n",
    "display(HTML(\"<style>div.output_area pre {white-space: pre;}</style>\"))\n",
    "\n",
    "qc_cirq = circuit_from_qasm(qasm_content)\n",
    "print(qc_cirq)\n",
    "\n",
    "simulator = cirq.Simulator()\n",
    "result = simulator.run(qc_cirq, repetitions=8192)"
   ]
  },
  {
   "cell_type": "code",
   "execution_count": 141,
   "id": "5356f7a3",
   "metadata": {
    "ExecuteTime": {
     "end_time": "2022-02-02T18:01:00.244161Z",
     "start_time": "2022-02-02T18:01:00.120863Z"
    }
   },
   "outputs": [
    {
     "name": "stdout",
     "output_type": "stream",
     "text": [
      "['c_2', 'c_4', 'c_3', 'c_1', 'c_0']\n"
     ]
    },
    {
     "data": {
      "text/plain": [
       "{'10110': 2944,\n",
       " '10100': 3010,\n",
       " '11110': 788,\n",
       " '11100': 833,\n",
       " '10101': 207,\n",
       " '10111': 209,\n",
       " '00100': 43,\n",
       " '01110': 11,\n",
       " '00110': 34,\n",
       " '11111': 55,\n",
       " '11101': 47,\n",
       " '01100': 5,\n",
       " '00111': 2,\n",
       " '00101': 2,\n",
       " '01111': 1,\n",
       " '01101': 1}"
      ]
     },
     "execution_count": 141,
     "metadata": {},
     "output_type": "execute_result"
    }
   ],
   "source": [
    "from functools import reduce\n",
    "\n",
    "measurement_keys = list(qc_cirq.all_measurement_key_names())\n",
    "print(measurement_keys)\n",
    "result_dict = dict(result.multi_measurement_histogram(keys=measurement_keys))\n",
    "keys = list(map(lambda arr: reduce(lambda x, y: str(x) + str(y), arr[::-1]), result_dict.keys()))\n",
    "counts_cirq = dict(zip(keys,[value for value in result_dict.values()]))\n",
    "counts_cirq"
   ]
  },
  {
   "cell_type": "code",
   "execution_count": null,
   "id": "65abaade",
   "metadata": {},
   "outputs": [],
   "source": [
    "# - create particular sequences (present in the optimization routines)\n",
    "# - use gates with very small or very big floating numbers\n",
    "# - in circuit measurment (not only at the end)\n",
    "# - simmetric circuit with compute and uncompute\n",
    "# - completely deterministic circuit"
   ]
  }
 ],
 "metadata": {
  "kernelspec": {
   "display_name": "Python 3 (ipykernel)",
   "language": "python",
   "name": "python3"
  },
  "language_info": {
   "codemirror_mode": {
    "name": "ipython",
    "version": 3
   },
   "file_extension": ".py",
   "mimetype": "text/x-python",
   "name": "python",
   "nbconvert_exporter": "python",
   "pygments_lexer": "ipython3",
   "version": "3.8.0"
  },
  "toc": {
   "base_numbering": 1,
   "nav_menu": {},
   "number_sections": true,
   "sideBar": true,
   "skip_h1_title": false,
   "title_cell": "Table of Contents",
   "title_sidebar": "Contents",
   "toc_cell": false,
   "toc_position": {},
   "toc_section_display": true,
   "toc_window_display": false
  }
 },
 "nbformat": 4,
 "nbformat_minor": 5
}
