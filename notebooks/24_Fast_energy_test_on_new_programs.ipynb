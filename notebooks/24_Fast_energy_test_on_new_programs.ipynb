{
 "cells": [
  {
   "cell_type": "code",
   "execution_count": 1,
   "id": "d2f1f91a",
   "metadata": {
    "ExecuteTime": {
     "end_time": "2022-01-22T01:18:57.446291Z",
     "start_time": "2022-01-22T01:18:55.455662Z"
    }
   },
   "outputs": [],
   "source": [
    "import pandas as pd\n",
    "import sys\n",
    "sys.path.append(\"../lib\")\n",
    "import seaborn as sns\n",
    "import matplotlib.pyplot as plt\n",
    "from utils import iterate_over\n",
    "from utils import load_config_and_check\n",
    "import os"
   ]
  },
  {
   "cell_type": "code",
   "execution_count": 2,
   "id": "321593a1",
   "metadata": {
    "ExecuteTime": {
     "end_time": "2022-01-22T01:19:16.121886Z",
     "start_time": "2022-01-22T01:19:16.081727Z"
    }
   },
   "outputs": [],
   "source": [
    "config = load_config_and_check(\"../config/experiment_v11.yaml\")"
   ]
  },
  {
   "cell_type": "code",
   "execution_count": 3,
   "id": "55a5bbb2",
   "metadata": {
    "ExecuteTime": {
     "end_time": "2022-01-22T01:19:16.715780Z",
     "start_time": "2022-01-22T01:19:16.686665Z"
    }
   },
   "outputs": [],
   "source": [
    "%load_ext autoreload\n",
    "%autoreload 2"
   ]
  },
  {
   "cell_type": "code",
   "execution_count": 10,
   "id": "9ebd0d02",
   "metadata": {
    "ExecuteTime": {
     "end_time": "2022-01-22T01:26:57.615364Z",
     "start_time": "2022-01-22T01:26:57.582659Z"
    }
   },
   "outputs": [],
   "source": [
    "FOLDER_DETECTION = os.path.join(config[\"experiment_folder\"], \"cross_platform\", \"predictions\")\n",
    "all_detectors = os.listdir(FOLDER_DETECTION)\n",
    "all_records = [] \n",
    "\n",
    "assert config[\"n_executions\"] == 1\n",
    "# we assume there is only one executions per program\n",
    "# platform a vs b only once\n",
    "\n",
    "for detector_name in all_detectors:\n",
    "    path_detector = os.path.join(FOLDER_DETECTION, detector_name)\n",
    "    \n",
    "    for program_id, content in iterate_over(path_detector, filetype=\".json\", parse_json=True):\n",
    "        comparison = content.pop(\"comparisons\")\n",
    "        new_content = {**content, **comparison[0]}\n",
    "        all_records.append(new_content)\n",
    "        \n",
    "df = pd.DataFrame.from_records(all_records)"
   ]
  },
  {
   "cell_type": "code",
   "execution_count": 11,
   "id": "123580e7",
   "metadata": {
    "ExecuteTime": {
     "end_time": "2022-01-22T01:26:59.958737Z",
     "start_time": "2022-01-22T01:26:59.922531Z"
    }
   },
   "outputs": [
    {
     "data": {
      "text/html": [
       "<div>\n",
       "<style scoped>\n",
       "    .dataframe tbody tr th:only-of-type {\n",
       "        vertical-align: middle;\n",
       "    }\n",
       "\n",
       "    .dataframe tbody tr th {\n",
       "        vertical-align: top;\n",
       "    }\n",
       "\n",
       "    .dataframe thead th {\n",
       "        text-align: right;\n",
       "    }\n",
       "</style>\n",
       "<table border=\"1\" class=\"dataframe\">\n",
       "  <thead>\n",
       "    <tr style=\"text-align: right;\">\n",
       "      <th></th>\n",
       "      <th>test</th>\n",
       "      <th>test_long_name</th>\n",
       "      <th>comparison_name</th>\n",
       "      <th>circuit_id</th>\n",
       "      <th>random_seed</th>\n",
       "      <th>platform_a</th>\n",
       "      <th>platform_b</th>\n",
       "      <th>path_exec_a</th>\n",
       "      <th>path_exec_b</th>\n",
       "      <th>time</th>\n",
       "      <th>statistic</th>\n",
       "      <th>p_value</th>\n",
       "    </tr>\n",
       "  </thead>\n",
       "  <tbody>\n",
       "    <tr>\n",
       "      <th>0</th>\n",
       "      <td>fast_energy</td>\n",
       "      <td>Faster Energy Test</td>\n",
       "      <td>cross_platform</td>\n",
       "      <td>8</td>\n",
       "      <td>4321.0</td>\n",
       "      <td>cirq</td>\n",
       "      <td>qiskit</td>\n",
       "      <td>../data/experiment_v11/cross_platform/executio...</td>\n",
       "      <td>../data/experiment_v11/cross_platform/executio...</td>\n",
       "      <td>0.183410</td>\n",
       "      <td>0.608710</td>\n",
       "      <td>0.00001</td>\n",
       "    </tr>\n",
       "    <tr>\n",
       "      <th>1</th>\n",
       "      <td>fast_energy</td>\n",
       "      <td>Faster Energy Test</td>\n",
       "      <td>cross_platform</td>\n",
       "      <td>0</td>\n",
       "      <td>4321.0</td>\n",
       "      <td>cirq</td>\n",
       "      <td>qiskit</td>\n",
       "      <td>../data/experiment_v11/cross_platform/executio...</td>\n",
       "      <td>../data/experiment_v11/cross_platform/executio...</td>\n",
       "      <td>0.180246</td>\n",
       "      <td>0.115605</td>\n",
       "      <td>0.00001</td>\n",
       "    </tr>\n",
       "    <tr>\n",
       "      <th>2</th>\n",
       "      <td>fast_energy</td>\n",
       "      <td>Faster Energy Test</td>\n",
       "      <td>cross_platform</td>\n",
       "      <td>4</td>\n",
       "      <td>4321.0</td>\n",
       "      <td>cirq</td>\n",
       "      <td>qiskit</td>\n",
       "      <td>../data/experiment_v11/cross_platform/executio...</td>\n",
       "      <td>../data/experiment_v11/cross_platform/executio...</td>\n",
       "      <td>0.123734</td>\n",
       "      <td>0.096143</td>\n",
       "      <td>0.00001</td>\n",
       "    </tr>\n",
       "    <tr>\n",
       "      <th>3</th>\n",
       "      <td>fast_energy</td>\n",
       "      <td>Faster Energy Test</td>\n",
       "      <td>cross_platform</td>\n",
       "      <td>5</td>\n",
       "      <td>4321.0</td>\n",
       "      <td>cirq</td>\n",
       "      <td>qiskit</td>\n",
       "      <td>../data/experiment_v11/cross_platform/executio...</td>\n",
       "      <td>../data/experiment_v11/cross_platform/executio...</td>\n",
       "      <td>0.808558</td>\n",
       "      <td>0.061381</td>\n",
       "      <td>0.00001</td>\n",
       "    </tr>\n",
       "    <tr>\n",
       "      <th>4</th>\n",
       "      <td>fast_energy</td>\n",
       "      <td>Faster Energy Test</td>\n",
       "      <td>cross_platform</td>\n",
       "      <td>1</td>\n",
       "      <td>4321.0</td>\n",
       "      <td>cirq</td>\n",
       "      <td>qiskit</td>\n",
       "      <td>../data/experiment_v11/cross_platform/executio...</td>\n",
       "      <td>../data/experiment_v11/cross_platform/executio...</td>\n",
       "      <td>1.052885</td>\n",
       "      <td>0.221009</td>\n",
       "      <td>0.00001</td>\n",
       "    </tr>\n",
       "  </tbody>\n",
       "</table>\n",
       "</div>"
      ],
      "text/plain": [
       "          test      test_long_name comparison_name circuit_id  random_seed  \\\n",
       "0  fast_energy  Faster Energy Test  cross_platform          8       4321.0   \n",
       "1  fast_energy  Faster Energy Test  cross_platform          0       4321.0   \n",
       "2  fast_energy  Faster Energy Test  cross_platform          4       4321.0   \n",
       "3  fast_energy  Faster Energy Test  cross_platform          5       4321.0   \n",
       "4  fast_energy  Faster Energy Test  cross_platform          1       4321.0   \n",
       "\n",
       "  platform_a platform_b                                        path_exec_a  \\\n",
       "0       cirq     qiskit  ../data/experiment_v11/cross_platform/executio...   \n",
       "1       cirq     qiskit  ../data/experiment_v11/cross_platform/executio...   \n",
       "2       cirq     qiskit  ../data/experiment_v11/cross_platform/executio...   \n",
       "3       cirq     qiskit  ../data/experiment_v11/cross_platform/executio...   \n",
       "4       cirq     qiskit  ../data/experiment_v11/cross_platform/executio...   \n",
       "\n",
       "                                         path_exec_b      time  statistic  \\\n",
       "0  ../data/experiment_v11/cross_platform/executio...  0.183410   0.608710   \n",
       "1  ../data/experiment_v11/cross_platform/executio...  0.180246   0.115605   \n",
       "2  ../data/experiment_v11/cross_platform/executio...  0.123734   0.096143   \n",
       "3  ../data/experiment_v11/cross_platform/executio...  0.808558   0.061381   \n",
       "4  ../data/experiment_v11/cross_platform/executio...  1.052885   0.221009   \n",
       "\n",
       "   p_value  \n",
       "0  0.00001  \n",
       "1  0.00001  \n",
       "2  0.00001  \n",
       "3  0.00001  \n",
       "4  0.00001  "
      ]
     },
     "execution_count": 11,
     "metadata": {},
     "output_type": "execute_result"
    }
   ],
   "source": [
    "df.head()"
   ]
  },
  {
   "cell_type": "code",
   "execution_count": 18,
   "id": "7abe31c1",
   "metadata": {
    "ExecuteTime": {
     "end_time": "2022-01-22T01:31:33.380944Z",
     "start_time": "2022-01-22T01:31:33.348033Z"
    }
   },
   "outputs": [
    {
     "data": {
      "text/html": [
       "<div>\n",
       "<style scoped>\n",
       "    .dataframe tbody tr th:only-of-type {\n",
       "        vertical-align: middle;\n",
       "    }\n",
       "\n",
       "    .dataframe tbody tr th {\n",
       "        vertical-align: top;\n",
       "    }\n",
       "\n",
       "    .dataframe thead th {\n",
       "        text-align: right;\n",
       "    }\n",
       "</style>\n",
       "<table border=\"1\" class=\"dataframe\">\n",
       "  <thead>\n",
       "    <tr style=\"text-align: right;\">\n",
       "      <th></th>\n",
       "      <th>circuit_id</th>\n",
       "      <th>test</th>\n",
       "      <th>statistic</th>\n",
       "    </tr>\n",
       "  </thead>\n",
       "  <tbody>\n",
       "    <tr>\n",
       "      <th>0</th>\n",
       "      <td>8</td>\n",
       "      <td>fast_energy</td>\n",
       "      <td>0.608710</td>\n",
       "    </tr>\n",
       "    <tr>\n",
       "      <th>1</th>\n",
       "      <td>0</td>\n",
       "      <td>fast_energy</td>\n",
       "      <td>0.115605</td>\n",
       "    </tr>\n",
       "    <tr>\n",
       "      <th>2</th>\n",
       "      <td>4</td>\n",
       "      <td>fast_energy</td>\n",
       "      <td>0.096143</td>\n",
       "    </tr>\n",
       "    <tr>\n",
       "      <th>3</th>\n",
       "      <td>5</td>\n",
       "      <td>fast_energy</td>\n",
       "      <td>0.061381</td>\n",
       "    </tr>\n",
       "    <tr>\n",
       "      <th>4</th>\n",
       "      <td>1</td>\n",
       "      <td>fast_energy</td>\n",
       "      <td>0.221009</td>\n",
       "    </tr>\n",
       "    <tr>\n",
       "      <th>5</th>\n",
       "      <td>7</td>\n",
       "      <td>fast_energy</td>\n",
       "      <td>0.356990</td>\n",
       "    </tr>\n",
       "    <tr>\n",
       "      <th>6</th>\n",
       "      <td>2</td>\n",
       "      <td>fast_energy</td>\n",
       "      <td>0.181518</td>\n",
       "    </tr>\n",
       "    <tr>\n",
       "      <th>7</th>\n",
       "      <td>3</td>\n",
       "      <td>fast_energy</td>\n",
       "      <td>0.001506</td>\n",
       "    </tr>\n",
       "    <tr>\n",
       "      <th>8</th>\n",
       "      <td>9</td>\n",
       "      <td>fast_energy</td>\n",
       "      <td>0.264325</td>\n",
       "    </tr>\n",
       "    <tr>\n",
       "      <th>9</th>\n",
       "      <td>6</td>\n",
       "      <td>fast_energy</td>\n",
       "      <td>0.565299</td>\n",
       "    </tr>\n",
       "    <tr>\n",
       "      <th>10</th>\n",
       "      <td>8</td>\n",
       "      <td>energy</td>\n",
       "      <td>0.608710</td>\n",
       "    </tr>\n",
       "    <tr>\n",
       "      <th>11</th>\n",
       "      <td>0</td>\n",
       "      <td>energy</td>\n",
       "      <td>0.115605</td>\n",
       "    </tr>\n",
       "    <tr>\n",
       "      <th>12</th>\n",
       "      <td>4</td>\n",
       "      <td>energy</td>\n",
       "      <td>0.096143</td>\n",
       "    </tr>\n",
       "    <tr>\n",
       "      <th>13</th>\n",
       "      <td>5</td>\n",
       "      <td>energy</td>\n",
       "      <td>0.061381</td>\n",
       "    </tr>\n",
       "    <tr>\n",
       "      <th>14</th>\n",
       "      <td>1</td>\n",
       "      <td>energy</td>\n",
       "      <td>0.221009</td>\n",
       "    </tr>\n",
       "    <tr>\n",
       "      <th>15</th>\n",
       "      <td>7</td>\n",
       "      <td>energy</td>\n",
       "      <td>0.356990</td>\n",
       "    </tr>\n",
       "    <tr>\n",
       "      <th>16</th>\n",
       "      <td>2</td>\n",
       "      <td>energy</td>\n",
       "      <td>0.181518</td>\n",
       "    </tr>\n",
       "    <tr>\n",
       "      <th>17</th>\n",
       "      <td>3</td>\n",
       "      <td>energy</td>\n",
       "      <td>0.001506</td>\n",
       "    </tr>\n",
       "    <tr>\n",
       "      <th>18</th>\n",
       "      <td>9</td>\n",
       "      <td>energy</td>\n",
       "      <td>0.264325</td>\n",
       "    </tr>\n",
       "    <tr>\n",
       "      <th>19</th>\n",
       "      <td>6</td>\n",
       "      <td>energy</td>\n",
       "      <td>0.565299</td>\n",
       "    </tr>\n",
       "    <tr>\n",
       "      <th>20</th>\n",
       "      <td>8</td>\n",
       "      <td>ks</td>\n",
       "      <td>0.388062</td>\n",
       "    </tr>\n",
       "    <tr>\n",
       "      <th>21</th>\n",
       "      <td>0</td>\n",
       "      <td>ks</td>\n",
       "      <td>0.243286</td>\n",
       "    </tr>\n",
       "    <tr>\n",
       "      <th>22</th>\n",
       "      <td>4</td>\n",
       "      <td>ks</td>\n",
       "      <td>0.178101</td>\n",
       "    </tr>\n",
       "    <tr>\n",
       "      <th>23</th>\n",
       "      <td>5</td>\n",
       "      <td>ks</td>\n",
       "      <td>0.033081</td>\n",
       "    </tr>\n",
       "    <tr>\n",
       "      <th>24</th>\n",
       "      <td>1</td>\n",
       "      <td>ks</td>\n",
       "      <td>0.219360</td>\n",
       "    </tr>\n",
       "    <tr>\n",
       "      <th>25</th>\n",
       "      <td>7</td>\n",
       "      <td>ks</td>\n",
       "      <td>0.272217</td>\n",
       "    </tr>\n",
       "    <tr>\n",
       "      <th>26</th>\n",
       "      <td>2</td>\n",
       "      <td>ks</td>\n",
       "      <td>0.231567</td>\n",
       "    </tr>\n",
       "    <tr>\n",
       "      <th>27</th>\n",
       "      <td>3</td>\n",
       "      <td>ks</td>\n",
       "      <td>0.013794</td>\n",
       "    </tr>\n",
       "    <tr>\n",
       "      <th>28</th>\n",
       "      <td>9</td>\n",
       "      <td>ks</td>\n",
       "      <td>0.301025</td>\n",
       "    </tr>\n",
       "    <tr>\n",
       "      <th>29</th>\n",
       "      <td>6</td>\n",
       "      <td>ks</td>\n",
       "      <td>0.327026</td>\n",
       "    </tr>\n",
       "  </tbody>\n",
       "</table>\n",
       "</div>"
      ],
      "text/plain": [
       "   circuit_id         test  statistic\n",
       "0           8  fast_energy   0.608710\n",
       "1           0  fast_energy   0.115605\n",
       "2           4  fast_energy   0.096143\n",
       "3           5  fast_energy   0.061381\n",
       "4           1  fast_energy   0.221009\n",
       "5           7  fast_energy   0.356990\n",
       "6           2  fast_energy   0.181518\n",
       "7           3  fast_energy   0.001506\n",
       "8           9  fast_energy   0.264325\n",
       "9           6  fast_energy   0.565299\n",
       "10          8       energy   0.608710\n",
       "11          0       energy   0.115605\n",
       "12          4       energy   0.096143\n",
       "13          5       energy   0.061381\n",
       "14          1       energy   0.221009\n",
       "15          7       energy   0.356990\n",
       "16          2       energy   0.181518\n",
       "17          3       energy   0.001506\n",
       "18          9       energy   0.264325\n",
       "19          6       energy   0.565299\n",
       "20          8           ks   0.388062\n",
       "21          0           ks   0.243286\n",
       "22          4           ks   0.178101\n",
       "23          5           ks   0.033081\n",
       "24          1           ks   0.219360\n",
       "25          7           ks   0.272217\n",
       "26          2           ks   0.231567\n",
       "27          3           ks   0.013794\n",
       "28          9           ks   0.301025\n",
       "29          6           ks   0.327026"
      ]
     },
     "execution_count": 18,
     "metadata": {},
     "output_type": "execute_result"
    }
   ],
   "source": [
    "df[[\"circuit_id\", \"test\", \"statistic\"]].head(30)"
   ]
  },
  {
   "cell_type": "code",
   "execution_count": 37,
   "id": "a1900cc7",
   "metadata": {
    "ExecuteTime": {
     "end_time": "2022-01-22T01:43:21.051709Z",
     "start_time": "2022-01-22T01:43:20.676435Z"
    }
   },
   "outputs": [
    {
     "name": "stdout",
     "output_type": "stream",
     "text": [
      "coefficient: 0.9999999999999999, p_value: 6.646897422032013e-64\n",
      "coefficient: 0.9393939393939393, p_value: 5.484052998513666e-05\n"
     ]
    },
    {
     "data": {
      "image/png": "[encoded data removed]",
      "text/plain": [
       "<Figure size 360x360 with 1 Axes>"
      ]
     },
     "metadata": {
      "needs_background": "light"
     },
     "output_type": "display_data"
    },
    {
     "data": {
      "image/png": "[encoded data removed]",
      "text/plain": [
       "<Figure size 360x360 with 1 Axes>"
      ]
     },
     "metadata": {
      "needs_background": "light"
     },
     "output_type": "display_data"
    }
   ],
   "source": [
    "from scipy.stats import spearmanr\n",
    "\n",
    "\n",
    "def compare_correlation(df, test_1, test_2):\n",
    "    df = df[[\"circuit_id\", \"test\", \"statistic\"]]\n",
    "    df_1 = df[df[\"test\"] == test_1]\n",
    "    df_2 = df[df[\"test\"] == test_2]\n",
    "    df_join = pd.merge(\n",
    "        df_1, df_2, on=\"circuit_id\"\n",
    "    )\n",
    "    coefficient, p_value = spearmanr(df_join[\"statistic_x\"], df_join[\"statistic_y\"])\n",
    "    print(f\"coefficient: {coefficient}, p_value: {p_value}\")\n",
    "    fig, ax = plt.subplots(figsize=(5,5))\n",
    "    sns.scatterplot(\n",
    "        data=df_join,\n",
    "        x='statistic_x',\n",
    "        y='statistic_y',\n",
    "        ax=ax\n",
    "    )\n",
    "    ax.set_xlabel(f\"Test {test_1}\")\n",
    "    ax.set_ylabel(f\"Test {test_2}\")\n",
    "    ax.set_title(\"Spearman Rank Correlation\")\n",
    "    \n",
    "    \n",
    "\n",
    "compare_correlation(df, test_1=\"energy\", test_2=\"fast_energy\")\n",
    "\n",
    "compare_correlation(df, test_1=\"ks\", test_2=\"fast_energy\")"
   ]
  },
  {
   "cell_type": "code",
   "execution_count": 30,
   "id": "352823a2",
   "metadata": {
    "ExecuteTime": {
     "end_time": "2022-01-22T01:41:51.884355Z",
     "start_time": "2022-01-22T01:41:51.849169Z"
    }
   },
   "outputs": [
    {
     "data": {
      "text/html": [
       "<div>\n",
       "<style scoped>\n",
       "    .dataframe tbody tr th:only-of-type {\n",
       "        vertical-align: middle;\n",
       "    }\n",
       "\n",
       "    .dataframe tbody tr th {\n",
       "        vertical-align: top;\n",
       "    }\n",
       "\n",
       "    .dataframe thead th {\n",
       "        text-align: right;\n",
       "    }\n",
       "</style>\n",
       "<table border=\"1\" class=\"dataframe\">\n",
       "  <thead>\n",
       "    <tr style=\"text-align: right;\">\n",
       "      <th></th>\n",
       "      <th>circuit_id</th>\n",
       "      <th>test_x</th>\n",
       "      <th>statistic_x</th>\n",
       "      <th>test_y</th>\n",
       "      <th>statistic_y</th>\n",
       "    </tr>\n",
       "  </thead>\n",
       "  <tbody>\n",
       "    <tr>\n",
       "      <th>0</th>\n",
       "      <td>8</td>\n",
       "      <td>energy</td>\n",
       "      <td>0.608710</td>\n",
       "      <td>fast_energy</td>\n",
       "      <td>0.608710</td>\n",
       "    </tr>\n",
       "    <tr>\n",
       "      <th>1</th>\n",
       "      <td>0</td>\n",
       "      <td>energy</td>\n",
       "      <td>0.115605</td>\n",
       "      <td>fast_energy</td>\n",
       "      <td>0.115605</td>\n",
       "    </tr>\n",
       "    <tr>\n",
       "      <th>2</th>\n",
       "      <td>4</td>\n",
       "      <td>energy</td>\n",
       "      <td>0.096143</td>\n",
       "      <td>fast_energy</td>\n",
       "      <td>0.096143</td>\n",
       "    </tr>\n",
       "    <tr>\n",
       "      <th>3</th>\n",
       "      <td>5</td>\n",
       "      <td>energy</td>\n",
       "      <td>0.061381</td>\n",
       "      <td>fast_energy</td>\n",
       "      <td>0.061381</td>\n",
       "    </tr>\n",
       "    <tr>\n",
       "      <th>4</th>\n",
       "      <td>1</td>\n",
       "      <td>energy</td>\n",
       "      <td>0.221009</td>\n",
       "      <td>fast_energy</td>\n",
       "      <td>0.221009</td>\n",
       "    </tr>\n",
       "  </tbody>\n",
       "</table>\n",
       "</div>"
      ],
      "text/plain": [
       "  circuit_id  test_x  statistic_x       test_y  statistic_y\n",
       "0          8  energy     0.608710  fast_energy     0.608710\n",
       "1          0  energy     0.115605  fast_energy     0.115605\n",
       "2          4  energy     0.096143  fast_energy     0.096143\n",
       "3          5  energy     0.061381  fast_energy     0.061381\n",
       "4          1  energy     0.221009  fast_energy     0.221009"
      ]
     },
     "execution_count": 30,
     "metadata": {},
     "output_type": "execute_result"
    }
   ],
   "source": [
    "df_join.head()"
   ]
  },
  {
   "cell_type": "code",
   "execution_count": 35,
   "id": "a6f7e9eb",
   "metadata": {
    "ExecuteTime": {
     "end_time": "2022-01-22T01:42:55.347679Z",
     "start_time": "2022-01-22T01:42:55.150368Z"
    }
   },
   "outputs": [
    {
     "ename": "NameError",
     "evalue": "name 'test_1' is not defined",
     "output_type": "error",
     "traceback": [
      "\u001b[0;31m---------------------------------------------------------------------------\u001b[0m",
      "\u001b[0;31mNameError\u001b[0m                                 Traceback (most recent call last)",
      "\u001b[0;32m/tmp/ipykernel_48244/457664620.py\u001b[0m in \u001b[0;36m<module>\u001b[0;34m\u001b[0m\n\u001b[1;32m      6\u001b[0m     \u001b[0max\u001b[0m\u001b[0;34m=\u001b[0m\u001b[0max\u001b[0m\u001b[0;34m\u001b[0m\u001b[0;34m\u001b[0m\u001b[0m\n\u001b[1;32m      7\u001b[0m )\n\u001b[0;32m----> 8\u001b[0;31m \u001b[0max\u001b[0m\u001b[0;34m.\u001b[0m\u001b[0mset_xlabel\u001b[0m\u001b[0;34m(\u001b[0m\u001b[0;34mf\"Test {test_1}\"\u001b[0m\u001b[0;34m)\u001b[0m\u001b[0;34m\u001b[0m\u001b[0;34m\u001b[0m\u001b[0m\n\u001b[0m\u001b[1;32m      9\u001b[0m \u001b[0max\u001b[0m\u001b[0;34m.\u001b[0m\u001b[0mset_ylabel\u001b[0m\u001b[0;34m(\u001b[0m\u001b[0;34mf\"Test {test_2}\"\u001b[0m\u001b[0;34m)\u001b[0m\u001b[0;34m\u001b[0m\u001b[0;34m\u001b[0m\u001b[0m\n\u001b[1;32m     10\u001b[0m \u001b[0max\u001b[0m\u001b[0;34m.\u001b[0m\u001b[0mset_title\u001b[0m\u001b[0;34m(\u001b[0m\u001b[0;34m\"Spearman Rank Correlation\"\u001b[0m\u001b[0;34m)\u001b[0m\u001b[0;34m\u001b[0m\u001b[0;34m\u001b[0m\u001b[0m\n",
      "\u001b[0;31mNameError\u001b[0m: name 'test_1' is not defined"
     ]
    },
    {
     "data": {
      "image/png": "[encoded data removed]",
      "text/plain": [
       "<Figure size 360x360 with 1 Axes>"
      ]
     },
     "metadata": {
      "needs_background": "light"
     },
     "output_type": "display_data"
    }
   ],
   "source": []
  },
  {
   "cell_type": "code",
   "execution_count": 15,
   "id": "f2384a3f",
   "metadata": {
    "ExecuteTime": {
     "end_time": "2022-01-22T01:28:26.711413Z",
     "start_time": "2022-01-22T01:28:26.509885Z"
    }
   },
   "outputs": [
    {
     "data": {
      "text/plain": [
       "<AxesSubplot:xlabel='test', ylabel='time'>"
      ]
     },
     "execution_count": 15,
     "metadata": {},
     "output_type": "execute_result"
    },
    {
     "data": {
      "image/png": "[encoded data removed]",
      "text/plain": [
       "<Figure size 720x360 with 1 Axes>"
      ]
     },
     "metadata": {
      "needs_background": "light"
     },
     "output_type": "display_data"
    }
   ],
   "source": [
    "fig, ax = plt.subplots(figsize=(10,5))\n",
    "\n",
    "sns.boxplot(\n",
    "    data=df,\n",
    "    y='time',\n",
    "    x='test',\n",
    "    ax=ax\n",
    ")"
   ]
  },
  {
   "cell_type": "code",
   "execution_count": null,
   "id": "07002620",
   "metadata": {},
   "outputs": [],
   "source": []
  }
 ],
 "metadata": {
  "kernelspec": {
   "display_name": "Python 3 (ipykernel)",
   "language": "python",
   "name": "python3"
  },
  "language_info": {
   "codemirror_mode": {
    "name": "ipython",
    "version": 3
   },
   "file_extension": ".py",
   "mimetype": "text/x-python",
   "name": "python",
   "nbconvert_exporter": "python",
   "pygments_lexer": "ipython3",
   "version": "3.8.0"
  },
  "toc": {
   "base_numbering": 1,
   "nav_menu": {},
   "number_sections": true,
   "sideBar": true,
   "skip_h1_title": false,
   "title_cell": "Table of Contents",
   "title_sidebar": "Contents",
   "toc_cell": false,
   "toc_position": {},
   "toc_section_display": true,
   "toc_window_display": false
  }
 },
 "nbformat": 4,
 "nbformat_minor": 5
}
