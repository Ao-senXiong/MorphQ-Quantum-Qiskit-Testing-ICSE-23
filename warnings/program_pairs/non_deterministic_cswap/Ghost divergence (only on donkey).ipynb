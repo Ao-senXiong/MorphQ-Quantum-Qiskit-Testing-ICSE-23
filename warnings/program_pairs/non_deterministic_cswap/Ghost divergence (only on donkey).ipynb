{
 "cells": [
  {
   "cell_type": "code",
   "execution_count": 1,
   "metadata": {
    "ExecuteTime": {
     "end_time": "2022-06-28T20:00:04.107859Z",
     "start_time": "2022-06-28T20:00:03.635943Z"
    }
   },
   "outputs": [],
   "source": [
    "import symengine"
   ]
  },
  {
   "cell_type": "code",
   "execution_count": 1,
   "metadata": {
    "ExecuteTime": {
     "end_time": "2022-06-28T20:16:52.138333Z",
     "start_time": "2022-06-28T20:16:51.561532Z"
    }
   },
   "outputs": [],
   "source": [
    "import sympy"
   ]
  },
  {
   "cell_type": "markdown",
   "metadata": {},
   "source": [
    "# How to expose the correct behavior\n",
    "\n",
    "Install the conda environment EnvNoBug which was derived from the laptop via:\n",
    "```\n",
    "conda env create -f environment_correct.yml\n",
    "```\n",
    "Install termcolor:\n",
    "```\n",
    "!pip install termcolor\n",
    "```\n",
    "Uninstall sympy:\n",
    "```\n",
    "!pip uninstall -y sympy\n",
    "```\n",
    "Install sympy again (version 1.10.1):\n",
    "```\n",
    "!pip install sympy\n",
    "```\n",
    "\n",
    "Run this notebook from the runnable section to the bottom (MULTIPLE TIMES!).\n",
    "Non deterministically sometime:\n",
    "- will give the wrong distribution\n",
    "- will fail with error\n",
    "- will give the correct result"
   ]
  },
  {
   "cell_type": "code",
   "execution_count": 7,
   "metadata": {
    "ExecuteTime": {
     "end_time": "2022-06-28T22:11:14.992869Z",
     "start_time": "2022-06-28T22:11:12.038518Z"
    }
   },
   "outputs": [
    {
     "name": "stdout",
     "output_type": "stream",
     "text": [
      "Collecting termcolor\n",
      "  Using cached termcolor-1.1.0-py3-none-any.whl\n",
      "Installing collected packages: termcolor\n",
      "Successfully installed termcolor-1.1.0\n"
     ]
    }
   ],
   "source": [
    "!pip install termcolor"
   ]
  },
  {
   "cell_type": "code",
   "execution_count": 10,
   "metadata": {
    "ExecuteTime": {
     "end_time": "2022-06-28T20:41:01.870297Z",
     "start_time": "2022-06-28T20:41:00.039124Z"
    }
   },
   "outputs": [
    {
     "name": "stdout",
     "output_type": "stream",
     "text": [
      "Found existing installation: sympy 1.10.1\n",
      "Uninstalling sympy-1.10.1:\n",
      "  Successfully uninstalled sympy-1.10.1\n"
     ]
    }
   ],
   "source": [
    "!pip uninstall -y sympy"
   ]
  },
  {
   "cell_type": "code",
   "execution_count": 38,
   "metadata": {
    "ExecuteTime": {
     "end_time": "2022-06-28T20:47:56.332396Z",
     "start_time": "2022-06-28T20:47:32.200858Z"
    }
   },
   "outputs": [
    {
     "name": "stdout",
     "output_type": "stream",
     "text": [
      "Collecting sympy==1.10\n",
      "  Using cached sympy-1.10-py3-none-any.whl (6.4 MB)\n",
      "Requirement already satisfied: mpmath>=0.19 in /home/paltenmo/.local/lib/python3.8/site-packages (from sympy==1.10) (1.2.1)\n",
      "Installing collected packages: sympy\n",
      "  Attempting uninstall: sympy\n",
      "    Found existing installation: sympy 1.10.1\n",
      "    Uninstalling sympy-1.10.1:\n",
      "      Successfully uninstalled sympy-1.10.1\n",
      "Successfully installed sympy-1.10\n"
     ]
    }
   ],
   "source": [
    "!pip install sympy==1.10"
   ]
  },
  {
   "cell_type": "markdown",
   "metadata": {},
   "source": [
    "# Takeaways\n",
    "\n",
    "1. The bug is in the .qasm() or in the from_qasm_str() functions because the qc object from the source program passed to the executor runs correctly, whereas if I get its qasm variant via (qc.qasm()) and read it back to qasm and run it fails (aka wrong result).\n",
    "1. the bug is in the CSwap used in a sequence.\n",
    "1. after the optimizer, the qc circuit is the same of the correct one if we plot it, and also if we scrutinize the two unitaries matrices, they are identical to the correct ones. Thus the problem is the conversion of qc into ist qasm form.\n",
    "1. since laptop and donkey produce different syntesis in qasm for the same unitary, we know that laptop and donkey use different decomposer, with different fidelity. But why? and when is the divergence visible."
   ]
  },
  {
   "cell_type": "markdown",
   "metadata": {},
   "source": [
    "## Bug in the unitary construction"
   ]
  },
  {
   "cell_type": "markdown",
   "metadata": {},
   "source": [
    "If we use decompose before qasm, even donkey is correct.\n",
    "\n",
    "The WORKING version  qc.decompose().qasm()\n",
    "contains:\n",
    "```\n",
    "qreg qr[8];\n",
    "creg cr[8];\n",
    "u3(pi/4,-pi/2,-pi) qr[2];\n",
    "cx qr[1],qr[2];\n",
    "u3(pi/2,-pi/4,pi/2) qr[1];\n",
    "u3(pi/4,0,-pi/2) qr[2];\n",
    "```\n",
    "The FAILING version qc.qasm()\n",
    "contains:\n",
    "```\n",
    "qreg qr[8];\n",
    "creg cr[8];\n",
    "unitary140594307130272 qr[1],qr[2];\n",
    "\n",
    "which is defined as:\n",
    "u3(pi/4,-pi/2,-pi) p0;\n",
    "cx p1,p0;\n",
    "u3(pi/2,-pi/4,pi/2) p1;\n",
    "u3(pi/4,0,-pi/2) p0;\n",
    "```\n",
    "The problem is that qr[1],qr[2] should be swapped.\n",
    "\n",
    "\n",
    "The qc.qasm() decomposes the gates via the file: unitary.py:105"
   ]
  },
  {
   "cell_type": "markdown",
   "metadata": {},
   "source": [
    "Another lead can be that in file two_qubit_decompose.py the they use TwoQubitBasisDecomposer(CXGate()) for the qc.qasm method, whereas for the qc.decompose() they use the (other stuff).\n",
    "\n",
    "And the initialization of the object TwoQubitBasisDecomposer depends on the passed euler_basis:\n",
    "\n",
    "```python\n",
    "class TwoQubitBasisDecomposer:\n",
    "    def init(self, gate, basis_fidelity=1.0, euler_basis=None, pulse_optimize=None):\n",
    "        basis = self.basis = TwoQubitWeylDecomposition(Operator(gate).data)\n",
    "        if euler_basis is not None:\n",
    "            self._decomposer1q = OneQubitEulerDecomposer(euler_basis)\n",
    "        else:\n",
    "            self._decomposer1q = OneQubitEulerDecomposer(\"U3\")\n",
    "```\n",
    "\n",
    "So qc.qasm() aka the buggy case uses `OneQubitEulerDecomposer(\"U3\")` because no euler base is passed: `TwoQubitBasisDecomposer(CXGate())`.\n"
   ]
  },
  {
   "cell_type": "markdown",
   "metadata": {},
   "source": [
    "# Runnable Section"
   ]
  },
  {
   "cell_type": "code",
   "execution_count": 1,
   "metadata": {
    "ExecuteTime": {
     "end_time": "2022-06-29T19:30:43.495637Z",
     "start_time": "2022-06-29T19:30:32.135496Z"
    }
   },
   "outputs": [
    {
     "name": "stdout",
     "output_type": "stream",
     "text": [
      "--Return--\n",
      "None\n",
      "> \u001b[0;32m/tmp/ipykernel_22733/3351801987.py\u001b[0m(65)\u001b[0;36m<module>\u001b[0;34m()\u001b[0m\n",
      "\u001b[0;32m     62 \u001b[0;31m\u001b[0;31m# at this point the decomposer is used by the consolidator, here we initialize it\u001b[0m\u001b[0;34m\u001b[0m\u001b[0;34m\u001b[0m\u001b[0;34m\u001b[0m\u001b[0m\n",
      "\u001b[0m\u001b[0;32m     63 \u001b[0;31m\u001b[0;31m# b /home/paltenmo/.conda/envs/ML4Quantum/lib/python3.8/site-packages/qiskit/transpiler/passes/optimization/consolidate_blocks.py:54\u001b[0m\u001b[0;34m\u001b[0m\u001b[0;34m\u001b[0m\u001b[0;34m\u001b[0m\u001b[0m\n",
      "\u001b[0m\u001b[0;32m     64 \u001b[0;31m\u001b[0;32mimport\u001b[0m \u001b[0mpdb\u001b[0m\u001b[0;34m\u001b[0m\u001b[0;34m\u001b[0m\u001b[0m\n",
      "\u001b[0m\u001b[0;32m---> 65 \u001b[0;31m\u001b[0mpdb\u001b[0m\u001b[0;34m.\u001b[0m\u001b[0mset_trace\u001b[0m\u001b[0;34m(\u001b[0m\u001b[0;34m)\u001b[0m\u001b[0;34m\u001b[0m\u001b[0;34m\u001b[0m\u001b[0m\n",
      "\u001b[0m\u001b[0;32m     66 \u001b[0;31m\u001b[0mqc\u001b[0m\u001b[0;34m.\u001b[0m\u001b[0mqasm\u001b[0m\u001b[0;34m(\u001b[0m\u001b[0;34m)\u001b[0m\u001b[0;34m\u001b[0m\u001b[0;34m\u001b[0m\u001b[0m\n",
      "\u001b[0m\n",
      "ipdb> /home/paltenmo/.conda/envs/ML4Quantum/lib/python3.8/site-packages/qiskit/transpiler/passes/optimization/consolidate_blocks.py:54\n",
      "*** SyntaxError: invalid syntax\n",
      "ipdb> b /home/paltenmo/.conda/envs/ML4Quantum/lib/python3.8/site-packages/qiskit/transpiler/passes/optimization/consolidate_blocks.py:54\n",
      "Breakpoint 1 at /home/paltenmo/.conda/envs/ML4Quantum/lib/python3.8/site-packages/qiskit/transpiler/passes/optimization/consolidate_blocks.py:54\n",
      "ipdb> c\n"
     ]
    },
    {
     "data": {
      "text/plain": [
       "'OPENQASM 2.0;\\ninclude \"qelib1.inc\";\\ngate unitary139679492407984 p0,p1 {\\n\\tu3(pi/4,-pi/2,-pi) p0;\\n\\tcx p1,p0;\\n\\tu3(pi/2,-pi/4,pi/2) p1;\\n\\tu3(pi/4,0,-pi/2) p0;\\n}\\ngate unitary139679507754864 p0,p1 {\\n\\tu3(pi,-2.8126403,0.32895233) p0;\\n\\tu3(pi/2,-pi,-3*pi/4) p1;\\n\\tcx p0,p1;\\n\\tu3(pi/2,3*pi/4,0) p0;\\n\\tu3(pi/2,3*pi/4,0) p1;\\n}\\nqreg qr[8];\\ncreg cr[8];\\nunitary139679492407984 qr[1],qr[2];\\ncx qr[3],qr[1];\\nt qr[1];\\ncx qr[2],qr[1];\\ntdg qr[1];\\nt qr[2];\\ncx qr[3],qr[1];\\nt qr[1];\\nh qr[1];\\ncx qr[3],qr[2];\\ntdg qr[2];\\nt qr[3];\\ncx qr[3],qr[2];\\nunitary139679507754864 qr[1],qr[2];\\ncx qr[3],qr[1];\\nt qr[1];\\ncx qr[2],qr[1];\\ntdg qr[1];\\nt qr[2];\\ncx qr[3],qr[1];\\nt qr[1];\\nh qr[1];\\ncx qr[3],qr[2];\\ntdg qr[2];\\nt qr[3];\\ncx qr[3],qr[2];\\ncx qr[1],qr[2];\\nmeasure qr[0] -> cr[0];\\nmeasure qr[1] -> cr[1];\\nmeasure qr[2] -> cr[2];\\nmeasure qr[3] -> cr[3];\\nmeasure qr[4] -> cr[4];\\nmeasure qr[5] -> cr[5];\\nmeasure qr[6] -> cr[6];\\nmeasure qr[7] -> cr[7];\\n'"
      ]
     },
     "execution_count": 1,
     "metadata": {},
     "output_type": "execute_result"
    }
   ],
   "source": [
    "# SECTION\n",
    "# NAME: PROLOGUE\n",
    "\n",
    "import qiskit\n",
    "from qiskit import QuantumCircuit, ClassicalRegister, QuantumRegister\n",
    "from qiskit.circuit.library.standard_gates import *\n",
    "from qiskit.circuit import Parameter\n",
    "\n",
    "# SECTION\n",
    "# NAME: CIRCUIT\n",
    "\n",
    "qr = QuantumRegister(8, name='qr')\n",
    "cr = ClassicalRegister(8, name='cr')\n",
    "qc = QuantumCircuit(qr, cr, name='qc')\n",
    "\n",
    "\n",
    "# SECTION\n",
    "# NAME: MEASUREMENT\n",
    "\n",
    "qc.append(CSwapGate(), qargs=[qr[3], qr[2], qr[1]], cargs=[])\n",
    "qc.append(CSwapGate(), qargs=[qr[3], qr[2], qr[1]], cargs=[])\n",
    "qc.measure(qr, cr)\n",
    "\n",
    "# SECTION\n",
    "# NAME: OPTIMIZATION_LEVEL\n",
    "\n",
    "from qiskit import transpile\n",
    "\n",
    "\n",
    "qc = transpile(qc, basis_gates=None, optimization_level=3, coupling_map=None)\n",
    "\n",
    "# at the following breakpoint the unitary is decomposed:\n",
    "# b /home/paltenmo/.conda/envs/ML4Quantum/lib/python3.8/site-packages/qiskit/quantum_info/synthesis/two_qubit_decompose.py:1112 \n",
    "\n",
    "# at the following point the unitary calls the decomposition of the matrices of 2 bits\n",
    "# b /home/paltenmo/.conda/envs/ML4Quantum/lib/python3.8/site-packages/qiskit/transpiler/passes/synthesis/unitary_synthesis.py:458\n",
    "\n",
    "# at this point the actual qasm code is produced\n",
    "# b /home/paltenmo/.conda/envs/ML4Quantum/lib/python3.8/site-packages/qiskit/extensions/unitary.py:195\n",
    "# check the order of ordered dict\n",
    "# reg_to_qasm.values()\n",
    "\n",
    "# at this point a circuit is converted to qasm and all the instructions are checked\n",
    "# if they are in the vocabulary of qasm or if they need to be syntehthized\n",
    "# b /home/paltenmo/.conda/envs/ML4Quantum/lib/python3.8/site-packages/qiskit/circuit/quantumcircuit.py:1695\n",
    "\n",
    "# at this points each instruction which is not in OPENQasm2 is translated\n",
    "# b /home/paltenmo/.conda/envs/ML4Quantum/lib/python3.8/site-packages/qiskit/circuit/quantumcircuit.py:4806\n",
    "\n",
    "\n",
    "# at this point each unitary in qc decides which is its matrix, this will be reused for the translation in qasm \n",
    "# b /home/paltenmo/.conda/envs/ML4Quantum/lib/python3.8/site-packages/qiskit/extensions/unitary.py:107\n",
    "\n",
    "# at this point the decomposer is initialized (in general class def)\n",
    "# b /home/paltenmo/.conda/envs/ML4Quantum/lib/python3.8/site-packages/qiskit/quantum_info/synthesis/two_qubit_decompose.py:861\n",
    "\n",
    "\n",
    "# at this point the decomposer is initialized in the unitary class\n",
    "# b /home/paltenmo/.conda/envs/ML4Quantum/lib/python3.8/site-packages/qiskit/transpiler/passes/synthesis/unitary_synthesis.py:92\n",
    "\n",
    "\n",
    "# at this point the decomposer is used by the consolidator, here we initialize it\n",
    "# b /home/paltenmo/.conda/envs/ML4Quantum/lib/python3.8/site-packages/qiskit/transpiler/passes/optimization/consolidate_blocks.py:54\n",
    "import pdb\n",
    "pdb.set_trace()\n",
    "qc.qasm()"
   ]
  },
  {
   "cell_type": "code",
   "execution_count": 2,
   "metadata": {
    "ExecuteTime": {
     "end_time": "2022-06-29T19:43:58.554932Z",
     "start_time": "2022-06-29T19:43:58.444846Z"
    }
   },
   "outputs": [
    {
     "data": {
      "text/plain": [
       "{'gate': Instruction(name='cx', num_qubits=2, num_clbits=0, params=[]),\n",
       " 'basis_fidelity': 1.0,\n",
       " 'pulse_optimize': None,\n",
       " 'basis': TwoQubitWeylControlledEquiv.from_bytes(\n",
       "     # TwoQubitWeylControlledEquiv(\n",
       "     # \tglobal phase: 5π/4\n",
       "     # \t     ┌──────────┐┌────────┐┌────────────┐┌─────────┐ ┌─────────┐\n",
       "     # \tq_0: ┤ Ry(-π/2) ├┤ Rx(-π) ├┤0           ├┤ Rx(π/2) ├─┤ Ry(π/2) ├\n",
       "     # \t     ├─────────┬┘├───────┬┘│  Rxx(-π/2) │├─────────┴┐└┬───────┬┘\n",
       "     # \tq_1: ┤ Rx(π/4) ├─┤ Ry(π) ├─┤1           ├┤ Rx(-π/4) ├─┤ Ry(π) ├─\n",
       "     # \t     └─────────┘ └───────┘ └────────────┘└──────────┘ └───────┘\n",
       "     # )\n",
       "     b'k05VTVBZAQB2AHsnZGVzY3InOiAnPGMxNicsICdmb3J0cmFuX29yZGVyJzogRmFsc2UsICdzaGFw'\n",
       "     b'ZSc6ICg0LCA0KSwgfSAgICAgICAgICAgICAgICAgICAgICAgICAgICAgICAgICAgICAgICAgICAg'\n",
       "     b'ICAgICAgICAgICAgIAoAAAAAAADwPwAAAAAAAAAAAAAAAAAAAAAAAAAAAAAAAAAAAAAAAAAAAAAA'\n",
       "     b'AAAAAAAAAAAAAAAAAAAAAAAAAAAAAAAAAAAAAAAAAAAAAAAAAAAAAAAAAAAAAAAAAAAAAAAAAAAA'\n",
       "     b'AAAAAAAAAAAAAAAAAAAAAAAA8D8AAAAAAAAAAAAAAAAAAAAAAAAAAAAAAAAAAAAAAAAAAAAAAAAA'\n",
       "     b'AAAAAAAAAAAA8D8AAAAAAAAAAAAAAAAAAAAAAAAAAAAAAAAAAAAAAAAAAAAAAAAAAAAAAAAAAAAA'\n",
       "     b'8D8AAAAAAAAAAAAAAAAAAAAAAAAAAAAAAAAAAAAAAAAAAAAAAAAAAAAA',\n",
       "     requested_fidelity=None,\n",
       "     calculated_fidelity=1.0,\n",
       "     actual_fidelity=1.0,\n",
       "     abc=(0.7853981633974483, 0, 0)),\n",
       " '_decomposer1q': <qiskit.quantum_info.synthesis.one_qubit_decompose.OneQubitEulerDecomposer at 0x7f0ad04f2c40>,\n",
       " 'is_supercontrolled': True,\n",
       " 'u0l': array([[ 0.65328148-0.27059805j, -0.65328148+0.27059805j],\n",
       "        [ 0.65328148+0.27059805j,  0.65328148+0.27059805j]]),\n",
       " 'u0r': array([[-0.5-0.5j,  0.5-0.5j],\n",
       "        [-0.5-0.5j, -0.5+0.5j]]),\n",
       " 'u1l': array([[ 5.00000000e-01-0.70710678j, -4.76756202e-17+0.5j       ],\n",
       "        [ 1.83522491e-16+0.5j       ,  5.00000000e-01+0.70710678j]]),\n",
       " 'u1ra': array([[-7.07106781e-01+3.38622498e-17j,  7.71600526e-17-7.07106781e-01j],\n",
       "        [-3.38622498e-17-7.07106781e-01j, -7.07106781e-01-7.71600526e-17j]]),\n",
       " 'u1rb': array([[ 0.5+0.5j, -0.5-0.5j],\n",
       "        [ 0.5-0.5j,  0.5-0.5j]]),\n",
       " 'u2la': array([[ 0.65328148-0.27059805j,  0.65328148+0.27059805j],\n",
       "        [-0.65328148+0.27059805j,  0.65328148+0.27059805j]]),\n",
       " 'u2lb': array([[ 0.27059805-0.27059805j,  0.65328148+0.65328148j],\n",
       "        [-0.65328148+0.65328148j,  0.27059805+0.27059805j]]),\n",
       " 'u2ra': array([[-4.32978028e-17+0.70710678j,  4.32978028e-17+0.70710678j],\n",
       "        [-4.32978028e-17+0.70710678j, -4.32978028e-17-0.70710678j]]),\n",
       " 'u2rb': array([[-0.70710678+1.34015774e-16j,  0.70710678+0.00000000e+00j],\n",
       "        [-0.70710678+5.55111512e-17j, -0.70710678-9.47634627e-17j]]),\n",
       " 'u3l': array([[-0.27059805+0.27059805j,  0.65328148-0.65328148j],\n",
       "        [-0.65328148-0.65328148j, -0.27059805-0.27059805j]]),\n",
       " 'u3r': array([[-0.5+0.5j, -0.5+0.5j],\n",
       "        [ 0.5+0.5j, -0.5-0.5j]]),\n",
       " 'q0l': array([[-0.65328148-0.65328148j, -0.27059805+0.27059805j],\n",
       "        [ 0.27059805+0.27059805j, -0.65328148+0.65328148j]]),\n",
       " 'q0r': array([[ 1.34015774e-16+0.70710678j,  0.00000000e+00-0.70710678j],\n",
       "        [-5.55111512e-17-0.70710678j,  9.47634627e-17-0.70710678j]]),\n",
       " 'q1la': array([[ 0.65328148+0.65328148j, -0.27059805-0.27059805j],\n",
       "        [ 0.27059805-0.27059805j,  0.65328148-0.65328148j]]),\n",
       " 'q1lb': array([[ 0.27059805-0.27059805j,  0.65328148+0.65328148j],\n",
       "        [-0.65328148+0.65328148j,  0.27059805+0.27059805j]]),\n",
       " 'q1ra': array([[ 0.5+0.5j, -0.5-0.5j],\n",
       "        [ 0.5-0.5j,  0.5-0.5j]]),\n",
       " 'q1rb': array([[-0.70710678+1.34015774e-16j,  0.70710678+0.00000000e+00j],\n",
       "        [-0.70710678+5.55111512e-17j, -0.70710678-9.47634627e-17j]]),\n",
       " 'q2l': array([[-0.27059805+0.27059805j,  0.65328148-0.65328148j],\n",
       "        [-0.65328148-0.65328148j, -0.27059805-0.27059805j]]),\n",
       " 'q2r': array([[-0.5+0.5j, -0.5+0.5j],\n",
       "        [ 0.5+0.5j, -0.5-0.5j]]),\n",
       " 'decomposition_fns': [<function qiskit.quantum_info.synthesis.two_qubit_decompose.TwoQubitBasisDecomposer.decomp0(target)>,\n",
       "  <bound method TwoQubitBasisDecomposer.decomp1 of <qiskit.quantum_info.synthesis.two_qubit_decompose.TwoQubitBasisDecomposer object at 0x7f0ad04f28e0>>,\n",
       "  <bound method TwoQubitBasisDecomposer.decomp2_supercontrolled of <qiskit.quantum_info.synthesis.two_qubit_decompose.TwoQubitBasisDecomposer object at 0x7f0ad04f28e0>>,\n",
       "  <bound method TwoQubitBasisDecomposer.decomp3_supercontrolled of <qiskit.quantum_info.synthesis.two_qubit_decompose.TwoQubitBasisDecomposer object at 0x7f0ad04f28e0>>],\n",
       " '_rqc': None}"
      ]
     },
     "execution_count": 2,
     "metadata": {},
     "output_type": "execute_result"
    }
   ],
   "source": [
    "from qiskit.quantum_info.synthesis.two_qubit_decompose import TwoQubitBasisDecomposer\n",
    "from qiskit.circuit.library.standard_gates import CXGate\n",
    "new_decomposer = TwoQubitBasisDecomposer(CXGate())\n",
    "new_decomposer.__dict__"
   ]
  },
  {
   "cell_type": "code",
   "execution_count": 7,
   "metadata": {
    "ExecuteTime": {
     "end_time": "2022-06-29T19:54:48.438558Z",
     "start_time": "2022-06-29T19:54:48.381142Z"
    }
   },
   "outputs": [
    {
     "data": {
      "text/plain": [
       "{'_original_decomposition': TwoQubitWeylDecomposition.from_bytes(\n",
       "     # TwoQubitWeylDecomposition(\n",
       "     # \tglobal phase: π/4\n",
       "     # \t     ┌──────────┐┌──────────┐            ┌────────────┐┌────────┐┌──────────┐\n",
       "     # \tq_0: ┤ Rz(-π/2) ├┤ Ry(-π/2) ├────────────┤0           ├┤ Rz(-π) ├┤ Ry(-π/2) ├\n",
       "     # \t     ├──────────┤├─────────┬┘┌──────────┐│  Rxx(-π/2) │├───────┬┘└──────────┘\n",
       "     # \tq_1: ┤ Rz(-π/2) ├┤ Ry(π/2) ├─┤ Rz(-π/2) ├┤1           ├┤ Ry(π) ├─────────────\n",
       "     # \t     └──────────┘└─────────┘ └──────────┘└────────────┘└───────┘\n",
       "     # )\n",
       "     b'k05VTVBZAQB2AHsnZGVzY3InOiAnPGMxNicsICdmb3J0cmFuX29yZGVyJzogRmFsc2UsICdzaGFw'\n",
       "     b'ZSc6ICg0LCA0KSwgfSAgICAgICAgICAgICAgICAgICAgICAgICAgICAgICAgICAgICAgICAgICAg'\n",
       "     b'ICAgICAgICAgICAgIAoAAAAAAADwPwAAAAAAAAAAAAAAAAAAAAAAAAAAAAAAAAAAAAAAAAAAAAAA'\n",
       "     b'AAAAAAAAAAAAAAAAAAAAAAAAAAAAAAAAAAAAAAAAAAAAAAAAAAAAAAAAAAAAAAAAAAAAAAAAAAAA'\n",
       "     b'AAAAAAAAAAAAAAAAAAAAAAAA8D8AAAAAAAAAAAAAAAAAAAAAAAAAAAAAAAAAAAAAAAAAAAAAAAAA'\n",
       "     b'AAAAAAAAAAAA8D8AAAAAAAAAAAAAAAAAAAAAAAAAAAAAAAAAAAAAAAAAAAAAAAAAAAAAAAAAAAAA'\n",
       "     b'8D8AAAAAAAAAAAAAAAAAAAAAAAAAAAAAAAAAAAAAAAAAAAAAAAAAAAAA',\n",
       "     requested_fidelity=0.999999999,\n",
       "     calculated_fidelity=1.0,\n",
       "     actual_fidelity=0.9999999999999997,\n",
       "     abc=(0.7853981633974483, 0.0, 0.0)),\n",
       " 'a': 0.7853981633974483,\n",
       " 'b': 0,\n",
       " 'c': 0,\n",
       " 'K1l': array([[-1.05226633e-16+3.82683432e-01j,  9.23879533e-01-5.36741351e-17j],\n",
       "        [-9.23879533e-01+6.41070206e-18j,  3.98309960e-17-3.82683432e-01j]]),\n",
       " 'K1r': array([[-0.5-0.5j,  0.5+0.5j],\n",
       "        [-0.5+0.5j, -0.5+0.5j]]),\n",
       " 'K2l': array([[ 5.65713056e-17+3.82683432e-01j, -9.23879533e-01-2.34326020e-17j],\n",
       "        [ 9.23879533e-01-2.34326020e-17j,  5.65713056e-17-3.82683432e-01j]]),\n",
       " 'K2r': array([[ 4.32978028e-17-0.70710678j, -4.32978028e-17+0.70710678j],\n",
       "        [ 4.32978028e-17+0.70710678j,  4.32978028e-17+0.70710678j]]),\n",
       " 'global_phase': -2.356194490192345,\n",
       " 'unitary_matrix': array([[1.+0.j, 0.+0.j, 0.+0.j, 0.+0.j],\n",
       "        [0.+0.j, 0.+0.j, 0.+0.j, 1.+0.j],\n",
       "        [0.+0.j, 0.+0.j, 1.+0.j, 0.+0.j],\n",
       "        [0.+0.j, 1.+0.j, 0.+0.j, 0.+0.j]]),\n",
       " 'requested_fidelity': None,\n",
       " '_is_flipped_from_original': False,\n",
       " 'calculated_fidelity': 1.0}"
      ]
     },
     "execution_count": 7,
     "metadata": {},
     "output_type": "execute_result"
    }
   ],
   "source": [
    "from qiskit.quantum_info.synthesis.two_qubit_decompose import TwoQubitWeylDecomposition\n",
    "from qiskit.quantum_info.operators import Operator\n",
    "from qiskit.circuit.library.standard_gates import CXGate\n",
    "\n",
    "gate = CXGate()\n",
    "weyl = TwoQubitWeylDecomposition(Operator(gate).data)\n",
    "weyl.__dict__"
   ]
  },
  {
   "cell_type": "code",
   "execution_count": 24,
   "metadata": {
    "ExecuteTime": {
     "end_time": "2022-06-29T20:34:16.597127Z",
     "start_time": "2022-06-29T20:34:16.538725Z"
    }
   },
   "outputs": [
    {
     "data": {
      "text/html": [
       "<pre style=\"word-wrap: normal;white-space: pre;background: #fff0;line-height: 1.1;font-family: &quot;Courier New&quot;,Courier,monospace\">      ┌──────────┐┌──────────┐            ┌────────────┐┌────────┐┌──────────┐ ░ \n",
       "qr_0: ┤ Rz(-π/2) ├┤ Ry(-π/2) ├────────────┤0           ├┤ Rz(-π) ├┤ Ry(-π/2) ├─░─\n",
       "      ├──────────┤├─────────┬┘┌──────────┐│  Rxx(-π/2) │├───────┬┘└──────────┘ ░ \n",
       "qr_1: ┤ Rz(-π/2) ├┤ Ry(π/2) ├─┤ Rz(-π/2) ├┤1           ├┤ Ry(π) ├──────────────░─\n",
       "      └──────────┘└─────────┘ └──────────┘└────────────┘└───────┘              ░ \n",
       "cr: 2/═══════════════════════════════════════════════════════════════════════════\n",
       "                                                                                 </pre>"
      ],
      "text/plain": [
       "      ┌──────────┐┌──────────┐            ┌────────────┐┌────────┐┌──────────┐ ░ \n",
       "qr_0: ┤ Rz(-π/2) ├┤ Ry(-π/2) ├────────────┤0           ├┤ Rz(-π) ├┤ Ry(-π/2) ├─░─\n",
       "      ├──────────┤├─────────┬┘┌──────────┐│  Rxx(-π/2) │├───────┬┘└──────────┘ ░ \n",
       "qr_1: ┤ Rz(-π/2) ├┤ Ry(π/2) ├─┤ Rz(-π/2) ├┤1           ├┤ Ry(π) ├──────────────░─\n",
       "      └──────────┘└─────────┘ └──────────┘└────────────┘└───────┘              ░ \n",
       "cr: 2/═══════════════════════════════════════════════════════════════════════════\n",
       "                                                                                 "
      ]
     },
     "execution_count": 24,
     "metadata": {},
     "output_type": "execute_result"
    }
   ],
   "source": [
    "from math import pi\n",
    "qr = QuantumRegister(2, name='qr')\n",
    "cr = ClassicalRegister(2, name='cr')\n",
    "qc = QuantumCircuit(qr, cr, name='qc')\n",
    "\n",
    "\n",
    "# SECTION\n",
    "# NAME: MEASUREMENT\n",
    "\n",
    "qc.append(RZGate(-pi/2), qargs=[qr[0]], cargs=[])\n",
    "qc.append(RYGate(-pi/2), qargs=[qr[0]], cargs=[])\n",
    "qc.append(RZGate(-pi/2), qargs=[qr[1]], cargs=[])\n",
    "qc.append(RYGate(pi/2), qargs=[qr[1]], cargs=[])\n",
    "qc.append(RZGate(-pi/2), qargs=[qr[1]], cargs=[])\n",
    "\n",
    "qc.append(RXXGate(-pi/2), qargs=[qr[0], qr[1]], cargs=[])\n",
    "\n",
    "qc.append(RZGate(-pi), qargs=[qr[0]], cargs=[])\n",
    "qc.append(RYGate(pi), qargs=[qr[1]], cargs=[])\n",
    "qc.append(RYGate(-pi/2), qargs=[qr[0]], cargs=[])\n",
    "qc.save_unitary()\n",
    "#qc.measure(qr, cr)\n",
    "qc.draw(fold=-1)"
   ]
  },
  {
   "cell_type": "code",
   "execution_count": 14,
   "metadata": {
    "ExecuteTime": {
     "end_time": "2022-06-29T20:23:32.420210Z",
     "start_time": "2022-06-29T20:23:32.302577Z"
    }
   },
   "outputs": [
    {
     "name": "stdout",
     "output_type": "stream",
     "text": [
      "{'00': 1024}\n"
     ]
    }
   ],
   "source": [
    "\n",
    "from qiskit import Aer, transpile, execute\n",
    "backend = Aer.get_backend('qasm_simulator')\n",
    "counts = execute(qc, backend=backend, max_parallel_threads=1, shots=1024).result().get_counts(qc)\n",
    "print(counts)"
   ]
  },
  {
   "cell_type": "code",
   "execution_count": 18,
   "metadata": {
    "ExecuteTime": {
     "end_time": "2022-06-29T20:31:22.488162Z",
     "start_time": "2022-06-29T20:31:22.360301Z"
    }
   },
   "outputs": [
    {
     "data": {
      "text/plain": [
       "array([[ 7.07106781e-01-7.07106781e-01j,  9.75980418e-34+6.70078871e-17j,\n",
       "         5.18672754e-17-2.35174251e-16j, -6.50353591e-17+7.85046229e-17j],\n",
       "       [ 6.62912745e-17-1.62588398e-17j, -4.23815048e-17+7.20465508e-17j,\n",
       "         4.73817313e-17-1.62464020e-32j,  7.07106781e-01-7.07106781e-01j],\n",
       "       [-2.67754988e-16+1.31296464e-17j, -5.55111512e-17+5.55111512e-17j,\n",
       "         7.07106781e-01-7.07106781e-01j, -1.02350467e-32+2.77555756e-17j],\n",
       "       [ 2.77555756e-17+1.16264517e-33j,  7.07106781e-01-7.07106781e-01j,\n",
       "         3.37735950e-17-6.50353591e-17j,  7.48991843e-17-6.53119189e-17j]])"
      ]
     },
     "execution_count": 18,
     "metadata": {},
     "output_type": "execute_result"
    }
   ],
   "source": [
    "simulator = Aer.get_backend('aer_simulator')\n",
    "qc_trans = transpile(qc, simulator)\n",
    "\n",
    "# Run and get unitary\n",
    "unitary = simulator.run(qc_trans).result().get_unitary(qc)\n",
    "unitary"
   ]
  },
  {
   "cell_type": "code",
   "execution_count": 26,
   "metadata": {
    "ExecuteTime": {
     "end_time": "2022-06-29T20:37:50.514410Z",
     "start_time": "2022-06-29T20:37:50.486761Z"
    }
   },
   "outputs": [
    {
     "data": {
      "text/plain": [
       "False"
      ]
     },
     "execution_count": 26,
     "metadata": {},
     "output_type": "execute_result"
    }
   ],
   "source": [
    "import numpy as np\n",
    "mat_a = np.array([[ 7.07106781e-01-7.07106781e-01j,  9.75980418e-34+6.70078871e-17j,\n",
    "         5.18672754e-17-2.35174251e-16j, -6.50353591e-17+7.85046229e-17j],\n",
    "       [ 6.62912745e-17-1.62588398e-17j, -4.23815048e-17+7.20465508e-17j,\n",
    "         4.73817313e-17-1.62464020e-32j,  7.07106781e-01-7.07106781e-01j],\n",
    "       [-2.67754988e-16+1.31296464e-17j, -5.55111512e-17+5.55111512e-17j,\n",
    "         7.07106781e-01-7.07106781e-01j, -1.02350467e-32+2.77555756e-17j],\n",
    "       [ 2.77555756e-17+1.16264517e-33j,  7.07106781e-01-7.07106781e-01j,\n",
    "         3.37735950e-17-6.50353591e-17j,  7.48991843e-17-6.53119189e-17j]])\n",
    "mat_b = np.array([[ 7.07105482e-01-7.07108080e-01j, -6.65772178e-17+1.30397053e-17j,\n",
    "         1.51769418e-05+1.51768860e-05j, -1.27068414e-16-1.80165683e-17j],\n",
    "       [-2.97362235e-17-8.14854106e-17j,  1.51768860e-05+1.51769418e-05j,\n",
    "         5.36602501e-17-9.77166068e-17j,  7.07108080e-01-7.07105482e-01j],\n",
    "       [ 1.51769418e-05+1.51768860e-05j, -1.27170614e-16-1.80165683e-17j,\n",
    "         7.07105482e-01-7.07108080e-01j, -6.65772178e-17+9.15442617e-17j],\n",
    "       [ 5.36602501e-17-1.25433065e-16j,  7.07108080e-01-7.07105482e-01j,\n",
    "        -1.94750686e-18-8.14854106e-17j,  1.51768860e-05+1.51769418e-05j]])\n",
    "\n",
    "np.allclose(mat_a, mat_b)"
   ]
  },
  {
   "cell_type": "code",
   "execution_count": 37,
   "metadata": {
    "ExecuteTime": {
     "end_time": "2022-06-29T18:46:16.144458Z",
     "start_time": "2022-06-29T18:46:16.139489Z"
    }
   },
   "outputs": [],
   "source": [
    "# BUGGY EXECUTION"
   ]
  },
  {
   "cell_type": "code",
   "execution_count": 26,
   "metadata": {
    "ExecuteTime": {
     "end_time": "2022-06-29T18:16:04.935299Z",
     "start_time": "2022-06-29T17:59:16.735825Z"
    }
   },
   "outputs": [
    {
     "name": "stdout",
     "output_type": "stream",
     "text": [
      "--Return--\n",
      "None\n",
      "> \u001b[0;32m/tmp/ipykernel_35788/259794970.py\u001b[0m(31)\u001b[0;36m<module>\u001b[0;34m()\u001b[0m\n",
      "\u001b[0;32m     28 \u001b[0;31m\u001b[0mqc\u001b[0m \u001b[0;34m=\u001b[0m \u001b[0mtranspile\u001b[0m\u001b[0;34m(\u001b[0m\u001b[0mqc\u001b[0m\u001b[0;34m,\u001b[0m \u001b[0mbasis_gates\u001b[0m\u001b[0;34m=\u001b[0m\u001b[0;32mNone\u001b[0m\u001b[0;34m,\u001b[0m \u001b[0moptimization_level\u001b[0m\u001b[0;34m=\u001b[0m\u001b[0;36m3\u001b[0m\u001b[0;34m,\u001b[0m \u001b[0mcoupling_map\u001b[0m\u001b[0;34m=\u001b[0m\u001b[0;32mNone\u001b[0m\u001b[0;34m)\u001b[0m\u001b[0;34m\u001b[0m\u001b[0;34m\u001b[0m\u001b[0m\n",
      "\u001b[0m\u001b[0;32m     29 \u001b[0;31m\u001b[0;34m\u001b[0m\u001b[0m\n",
      "\u001b[0m\u001b[0;32m     30 \u001b[0;31m\u001b[0;32mimport\u001b[0m \u001b[0mpdb\u001b[0m\u001b[0;34m\u001b[0m\u001b[0;34m\u001b[0m\u001b[0m\n",
      "\u001b[0m\u001b[0;32m---> 31 \u001b[0;31m\u001b[0mpdb\u001b[0m\u001b[0;34m.\u001b[0m\u001b[0mset_trace\u001b[0m\u001b[0;34m(\u001b[0m\u001b[0;34m)\u001b[0m\u001b[0;34m\u001b[0m\u001b[0;34m\u001b[0m\u001b[0m\n",
      "\u001b[0m\u001b[0;32m     32 \u001b[0;31m\u001b[0mqc\u001b[0m\u001b[0;34m.\u001b[0m\u001b[0mqasm\u001b[0m\u001b[0;34m(\u001b[0m\u001b[0;34m)\u001b[0m\u001b[0;34m\u001b[0m\u001b[0;34m\u001b[0m\u001b[0m\n",
      "\u001b[0m\n",
      "ipdb> b /home/paltenmo/.conda/envs/ML4Quantum/lib/python3.8/site-packages/qiskit/quantum_info/synthesis/two_qubit_decompose.py:1112\n",
      "Breakpoint 1 at /home/paltenmo/.conda/envs/ML4Quantum/lib/python3.8/site-packages/qiskit/quantum_info/synthesis/two_qubit_decompose.py:1112\n",
      "ipdb> c\n",
      "> \u001b[0;32m/home/paltenmo/.conda/envs/ML4Quantum/lib/python3.8/site-packages/qiskit/quantum_info/synthesis/two_qubit_decompose.py\u001b[0m(1112)\u001b[0;36m__call__\u001b[0;34m()\u001b[0m\n",
      "\u001b[0;32m   1110 \u001b[0;31m        \u001b[0;31m# do default decomposition\u001b[0m\u001b[0;34m\u001b[0m\u001b[0;34m\u001b[0m\u001b[0;34m\u001b[0m\u001b[0m\n",
      "\u001b[0m\u001b[0;32m   1111 \u001b[0;31m        \u001b[0mq\u001b[0m \u001b[0;34m=\u001b[0m \u001b[0mQuantumRegister\u001b[0m\u001b[0;34m(\u001b[0m\u001b[0;36m2\u001b[0m\u001b[0;34m)\u001b[0m\u001b[0;34m\u001b[0m\u001b[0;34m\u001b[0m\u001b[0m\n",
      "\u001b[0m\u001b[1;31m1\u001b[0;32m> 1112 \u001b[0;31m        \u001b[0mdecomposition_euler\u001b[0m \u001b[0;34m=\u001b[0m \u001b[0;34m[\u001b[0m\u001b[0mself\u001b[0m\u001b[0;34m.\u001b[0m\u001b[0m_decomposer1q\u001b[0m\u001b[0;34m.\u001b[0m\u001b[0m_decompose\u001b[0m\u001b[0;34m(\u001b[0m\u001b[0mx\u001b[0m\u001b[0;34m)\u001b[0m \u001b[0;32mfor\u001b[0m \u001b[0mx\u001b[0m \u001b[0;32min\u001b[0m \u001b[0mdecomposition\u001b[0m\u001b[0;34m]\u001b[0m\u001b[0;34m\u001b[0m\u001b[0;34m\u001b[0m\u001b[0m\n",
      "\u001b[0m\u001b[0;32m   1113 \u001b[0;31m        \u001b[0mreturn_circuit\u001b[0m \u001b[0;34m=\u001b[0m \u001b[0mQuantumCircuit\u001b[0m\u001b[0;34m(\u001b[0m\u001b[0mq\u001b[0m\u001b[0;34m)\u001b[0m\u001b[0;34m\u001b[0m\u001b[0;34m\u001b[0m\u001b[0m\n",
      "\u001b[0m\u001b[0;32m   1114 \u001b[0;31m        \u001b[0mreturn_circuit\u001b[0m\u001b[0;34m.\u001b[0m\u001b[0mglobal_phase\u001b[0m \u001b[0;34m=\u001b[0m \u001b[0mtarget_decomposed\u001b[0m\u001b[0;34m.\u001b[0m\u001b[0mglobal_phase\u001b[0m\u001b[0;34m\u001b[0m\u001b[0;34m\u001b[0m\u001b[0m\n",
      "\u001b[0m\n",
      "ipdb> n\n",
      "> \u001b[0;32m/home/paltenmo/.conda/envs/ML4Quantum/lib/python3.8/site-packages/qiskit/quantum_info/synthesis/two_qubit_decompose.py\u001b[0m(1112)\u001b[0;36m<listcomp>\u001b[0;34m()\u001b[0m\n",
      "\u001b[0;32m   1110 \u001b[0;31m        \u001b[0;31m# do default decomposition\u001b[0m\u001b[0;34m\u001b[0m\u001b[0;34m\u001b[0m\u001b[0;34m\u001b[0m\u001b[0m\n",
      "\u001b[0m\u001b[0;32m   1111 \u001b[0;31m        \u001b[0mq\u001b[0m \u001b[0;34m=\u001b[0m \u001b[0mQuantumRegister\u001b[0m\u001b[0;34m(\u001b[0m\u001b[0;36m2\u001b[0m\u001b[0;34m)\u001b[0m\u001b[0;34m\u001b[0m\u001b[0;34m\u001b[0m\u001b[0m\n",
      "\u001b[0m\u001b[1;31m1\u001b[0;32m> 1112 \u001b[0;31m        \u001b[0mdecomposition_euler\u001b[0m \u001b[0;34m=\u001b[0m \u001b[0;34m[\u001b[0m\u001b[0mself\u001b[0m\u001b[0;34m.\u001b[0m\u001b[0m_decomposer1q\u001b[0m\u001b[0;34m.\u001b[0m\u001b[0m_decompose\u001b[0m\u001b[0;34m(\u001b[0m\u001b[0mx\u001b[0m\u001b[0;34m)\u001b[0m \u001b[0;32mfor\u001b[0m \u001b[0mx\u001b[0m \u001b[0;32min\u001b[0m \u001b[0mdecomposition\u001b[0m\u001b[0;34m]\u001b[0m\u001b[0;34m\u001b[0m\u001b[0;34m\u001b[0m\u001b[0m\n",
      "\u001b[0m\u001b[0;32m   1113 \u001b[0;31m        \u001b[0mreturn_circuit\u001b[0m \u001b[0;34m=\u001b[0m \u001b[0mQuantumCircuit\u001b[0m\u001b[0;34m(\u001b[0m\u001b[0mq\u001b[0m\u001b[0;34m)\u001b[0m\u001b[0;34m\u001b[0m\u001b[0;34m\u001b[0m\u001b[0m\n",
      "\u001b[0m\u001b[0;32m   1114 \u001b[0;31m        \u001b[0mreturn_circuit\u001b[0m\u001b[0;34m.\u001b[0m\u001b[0mglobal_phase\u001b[0m \u001b[0;34m=\u001b[0m \u001b[0mtarget_decomposed\u001b[0m\u001b[0;34m.\u001b[0m\u001b[0mglobal_phase\u001b[0m\u001b[0;34m\u001b[0m\u001b[0;34m\u001b[0m\u001b[0m\n",
      "\u001b[0m\n",
      "ipdb> decomposition-euler\n",
      "*** NameError: name 'decomposition' is not defined\n",
      "ipdb> decomposition_euler\n",
      "*** NameError: name 'decomposition_euler' is not defined\n",
      "ipdb> n\n",
      "> \u001b[0;32m/home/paltenmo/.conda/envs/ML4Quantum/lib/python3.8/site-packages/qiskit/quantum_info/synthesis/two_qubit_decompose.py\u001b[0m(1112)\u001b[0;36m<listcomp>\u001b[0;34m()\u001b[0m\n",
      "\u001b[0;32m   1110 \u001b[0;31m        \u001b[0;31m# do default decomposition\u001b[0m\u001b[0;34m\u001b[0m\u001b[0;34m\u001b[0m\u001b[0;34m\u001b[0m\u001b[0m\n",
      "\u001b[0m\u001b[0;32m   1111 \u001b[0;31m        \u001b[0mq\u001b[0m \u001b[0;34m=\u001b[0m \u001b[0mQuantumRegister\u001b[0m\u001b[0;34m(\u001b[0m\u001b[0;36m2\u001b[0m\u001b[0;34m)\u001b[0m\u001b[0;34m\u001b[0m\u001b[0;34m\u001b[0m\u001b[0m\n",
      "\u001b[0m\u001b[1;31m1\u001b[0;32m> 1112 \u001b[0;31m        \u001b[0mdecomposition_euler\u001b[0m \u001b[0;34m=\u001b[0m \u001b[0;34m[\u001b[0m\u001b[0mself\u001b[0m\u001b[0;34m.\u001b[0m\u001b[0m_decomposer1q\u001b[0m\u001b[0;34m.\u001b[0m\u001b[0m_decompose\u001b[0m\u001b[0;34m(\u001b[0m\u001b[0mx\u001b[0m\u001b[0;34m)\u001b[0m \u001b[0;32mfor\u001b[0m \u001b[0mx\u001b[0m \u001b[0;32min\u001b[0m \u001b[0mdecomposition\u001b[0m\u001b[0;34m]\u001b[0m\u001b[0;34m\u001b[0m\u001b[0;34m\u001b[0m\u001b[0m\n",
      "\u001b[0m\u001b[0;32m   1113 \u001b[0;31m        \u001b[0mreturn_circuit\u001b[0m \u001b[0;34m=\u001b[0m \u001b[0mQuantumCircuit\u001b[0m\u001b[0;34m(\u001b[0m\u001b[0mq\u001b[0m\u001b[0;34m)\u001b[0m\u001b[0;34m\u001b[0m\u001b[0;34m\u001b[0m\u001b[0m\n",
      "\u001b[0m\u001b[0;32m   1114 \u001b[0;31m        \u001b[0mreturn_circuit\u001b[0m\u001b[0;34m.\u001b[0m\u001b[0mglobal_phase\u001b[0m \u001b[0;34m=\u001b[0m \u001b[0mtarget_decomposed\u001b[0m\u001b[0;34m.\u001b[0m\u001b[0mglobal_phase\u001b[0m\u001b[0;34m\u001b[0m\u001b[0;34m\u001b[0m\u001b[0m\n",
      "\u001b[0m\n",
      "ipdb> decomposition_euler\n",
      "*** NameError: name 'decomposition_euler' is not defined\n",
      "ipdb> n\n",
      "> \u001b[0;32m/home/paltenmo/.conda/envs/ML4Quantum/lib/python3.8/site-packages/qiskit/quantum_info/synthesis/two_qubit_decompose.py\u001b[0m(1112)\u001b[0;36m<listcomp>\u001b[0;34m()\u001b[0m\n",
      "\u001b[0;32m   1110 \u001b[0;31m        \u001b[0;31m# do default decomposition\u001b[0m\u001b[0;34m\u001b[0m\u001b[0;34m\u001b[0m\u001b[0;34m\u001b[0m\u001b[0m\n",
      "\u001b[0m\u001b[0;32m   1111 \u001b[0;31m        \u001b[0mq\u001b[0m \u001b[0;34m=\u001b[0m \u001b[0mQuantumRegister\u001b[0m\u001b[0;34m(\u001b[0m\u001b[0;36m2\u001b[0m\u001b[0;34m)\u001b[0m\u001b[0;34m\u001b[0m\u001b[0;34m\u001b[0m\u001b[0m\n",
      "\u001b[0m\u001b[1;31m1\u001b[0;32m> 1112 \u001b[0;31m        \u001b[0mdecomposition_euler\u001b[0m \u001b[0;34m=\u001b[0m \u001b[0;34m[\u001b[0m\u001b[0mself\u001b[0m\u001b[0;34m.\u001b[0m\u001b[0m_decomposer1q\u001b[0m\u001b[0;34m.\u001b[0m\u001b[0m_decompose\u001b[0m\u001b[0;34m(\u001b[0m\u001b[0mx\u001b[0m\u001b[0;34m)\u001b[0m \u001b[0;32mfor\u001b[0m \u001b[0mx\u001b[0m \u001b[0;32min\u001b[0m \u001b[0mdecomposition\u001b[0m\u001b[0;34m]\u001b[0m\u001b[0;34m\u001b[0m\u001b[0;34m\u001b[0m\u001b[0m\n",
      "\u001b[0m\u001b[0;32m   1113 \u001b[0;31m        \u001b[0mreturn_circuit\u001b[0m \u001b[0;34m=\u001b[0m \u001b[0mQuantumCircuit\u001b[0m\u001b[0;34m(\u001b[0m\u001b[0mq\u001b[0m\u001b[0;34m)\u001b[0m\u001b[0;34m\u001b[0m\u001b[0;34m\u001b[0m\u001b[0m\n",
      "\u001b[0m\u001b[0;32m   1114 \u001b[0;31m        \u001b[0mreturn_circuit\u001b[0m\u001b[0;34m.\u001b[0m\u001b[0mglobal_phase\u001b[0m \u001b[0;34m=\u001b[0m \u001b[0mtarget_decomposed\u001b[0m\u001b[0;34m.\u001b[0m\u001b[0mglobal_phase\u001b[0m\u001b[0;34m\u001b[0m\u001b[0;34m\u001b[0m\u001b[0m\n",
      "\u001b[0m\n",
      "ipdb> n\n",
      "> \u001b[0;32m/home/paltenmo/.conda/envs/ML4Quantum/lib/python3.8/site-packages/qiskit/quantum_info/synthesis/two_qubit_decompose.py\u001b[0m(1112)\u001b[0;36m<listcomp>\u001b[0;34m()\u001b[0m\n",
      "\u001b[0;32m   1110 \u001b[0;31m        \u001b[0;31m# do default decomposition\u001b[0m\u001b[0;34m\u001b[0m\u001b[0;34m\u001b[0m\u001b[0;34m\u001b[0m\u001b[0m\n",
      "\u001b[0m\u001b[0;32m   1111 \u001b[0;31m        \u001b[0mq\u001b[0m \u001b[0;34m=\u001b[0m \u001b[0mQuantumRegister\u001b[0m\u001b[0;34m(\u001b[0m\u001b[0;36m2\u001b[0m\u001b[0;34m)\u001b[0m\u001b[0;34m\u001b[0m\u001b[0;34m\u001b[0m\u001b[0m\n",
      "\u001b[0m\u001b[1;31m1\u001b[0;32m> 1112 \u001b[0;31m        \u001b[0mdecomposition_euler\u001b[0m \u001b[0;34m=\u001b[0m \u001b[0;34m[\u001b[0m\u001b[0mself\u001b[0m\u001b[0;34m.\u001b[0m\u001b[0m_decomposer1q\u001b[0m\u001b[0;34m.\u001b[0m\u001b[0m_decompose\u001b[0m\u001b[0;34m(\u001b[0m\u001b[0mx\u001b[0m\u001b[0;34m)\u001b[0m \u001b[0;32mfor\u001b[0m \u001b[0mx\u001b[0m \u001b[0;32min\u001b[0m \u001b[0mdecomposition\u001b[0m\u001b[0;34m]\u001b[0m\u001b[0;34m\u001b[0m\u001b[0;34m\u001b[0m\u001b[0m\n",
      "\u001b[0m\u001b[0;32m   1113 \u001b[0;31m        \u001b[0mreturn_circuit\u001b[0m \u001b[0;34m=\u001b[0m \u001b[0mQuantumCircuit\u001b[0m\u001b[0;34m(\u001b[0m\u001b[0mq\u001b[0m\u001b[0;34m)\u001b[0m\u001b[0;34m\u001b[0m\u001b[0;34m\u001b[0m\u001b[0m\n",
      "\u001b[0m\u001b[0;32m   1114 \u001b[0;31m        \u001b[0mreturn_circuit\u001b[0m\u001b[0;34m.\u001b[0m\u001b[0mglobal_phase\u001b[0m \u001b[0;34m=\u001b[0m \u001b[0mtarget_decomposed\u001b[0m\u001b[0;34m.\u001b[0m\u001b[0mglobal_phase\u001b[0m\u001b[0;34m\u001b[0m\u001b[0;34m\u001b[0m\u001b[0m\n",
      "\u001b[0m\n",
      "ipdb> n\n",
      "> \u001b[0;32m/home/paltenmo/.conda/envs/ML4Quantum/lib/python3.8/site-packages/qiskit/quantum_info/synthesis/two_qubit_decompose.py\u001b[0m(1112)\u001b[0;36m<listcomp>\u001b[0;34m()\u001b[0m\n",
      "\u001b[0;32m   1110 \u001b[0;31m        \u001b[0;31m# do default decomposition\u001b[0m\u001b[0;34m\u001b[0m\u001b[0;34m\u001b[0m\u001b[0;34m\u001b[0m\u001b[0m\n",
      "\u001b[0m\u001b[0;32m   1111 \u001b[0;31m        \u001b[0mq\u001b[0m \u001b[0;34m=\u001b[0m \u001b[0mQuantumRegister\u001b[0m\u001b[0;34m(\u001b[0m\u001b[0;36m2\u001b[0m\u001b[0;34m)\u001b[0m\u001b[0;34m\u001b[0m\u001b[0;34m\u001b[0m\u001b[0m\n",
      "\u001b[0m\u001b[1;31m1\u001b[0;32m> 1112 \u001b[0;31m        \u001b[0mdecomposition_euler\u001b[0m \u001b[0;34m=\u001b[0m \u001b[0;34m[\u001b[0m\u001b[0mself\u001b[0m\u001b[0;34m.\u001b[0m\u001b[0m_decomposer1q\u001b[0m\u001b[0;34m.\u001b[0m\u001b[0m_decompose\u001b[0m\u001b[0;34m(\u001b[0m\u001b[0mx\u001b[0m\u001b[0;34m)\u001b[0m \u001b[0;32mfor\u001b[0m \u001b[0mx\u001b[0m \u001b[0;32min\u001b[0m \u001b[0mdecomposition\u001b[0m\u001b[0;34m]\u001b[0m\u001b[0;34m\u001b[0m\u001b[0;34m\u001b[0m\u001b[0m\n",
      "\u001b[0m\u001b[0;32m   1113 \u001b[0;31m        \u001b[0mreturn_circuit\u001b[0m \u001b[0;34m=\u001b[0m \u001b[0mQuantumCircuit\u001b[0m\u001b[0;34m(\u001b[0m\u001b[0mq\u001b[0m\u001b[0;34m)\u001b[0m\u001b[0;34m\u001b[0m\u001b[0;34m\u001b[0m\u001b[0m\n",
      "\u001b[0m\u001b[0;32m   1114 \u001b[0;31m        \u001b[0mreturn_circuit\u001b[0m\u001b[0;34m.\u001b[0m\u001b[0mglobal_phase\u001b[0m \u001b[0;34m=\u001b[0m \u001b[0mtarget_decomposed\u001b[0m\u001b[0;34m.\u001b[0m\u001b[0mglobal_phase\u001b[0m\u001b[0;34m\u001b[0m\u001b[0;34m\u001b[0m\u001b[0m\n",
      "\u001b[0m\n",
      "ipdb> n\n",
      "--Return--\n",
      "[<qiskit.circu...x7fdfceb04790>, <qiskit.circu...x7fdece95afd0>, <qiskit.circu...x7fdea9aa19d0>, <qiskit.circu...x7fdea9dd2160>]\n",
      "> \u001b[0;32m/home/paltenmo/.conda/envs/ML4Quantum/lib/python3.8/site-packages/qiskit/quantum_info/synthesis/two_qubit_decompose.py\u001b[0m(1112)\u001b[0;36m<listcomp>\u001b[0;34m()\u001b[0m\n",
      "\u001b[0;32m   1110 \u001b[0;31m        \u001b[0;31m# do default decomposition\u001b[0m\u001b[0;34m\u001b[0m\u001b[0;34m\u001b[0m\u001b[0;34m\u001b[0m\u001b[0m\n",
      "\u001b[0m\u001b[0;32m   1111 \u001b[0;31m        \u001b[0mq\u001b[0m \u001b[0;34m=\u001b[0m \u001b[0mQuantumRegister\u001b[0m\u001b[0;34m(\u001b[0m\u001b[0;36m2\u001b[0m\u001b[0;34m)\u001b[0m\u001b[0;34m\u001b[0m\u001b[0;34m\u001b[0m\u001b[0m\n",
      "\u001b[0m\u001b[1;31m1\u001b[0;32m> 1112 \u001b[0;31m        \u001b[0mdecomposition_euler\u001b[0m \u001b[0;34m=\u001b[0m \u001b[0;34m[\u001b[0m\u001b[0mself\u001b[0m\u001b[0;34m.\u001b[0m\u001b[0m_decomposer1q\u001b[0m\u001b[0;34m.\u001b[0m\u001b[0m_decompose\u001b[0m\u001b[0;34m(\u001b[0m\u001b[0mx\u001b[0m\u001b[0;34m)\u001b[0m \u001b[0;32mfor\u001b[0m \u001b[0mx\u001b[0m \u001b[0;32min\u001b[0m \u001b[0mdecomposition\u001b[0m\u001b[0;34m]\u001b[0m\u001b[0;34m\u001b[0m\u001b[0;34m\u001b[0m\u001b[0m\n",
      "\u001b[0m\u001b[0;32m   1113 \u001b[0;31m        \u001b[0mreturn_circuit\u001b[0m \u001b[0;34m=\u001b[0m \u001b[0mQuantumCircuit\u001b[0m\u001b[0;34m(\u001b[0m\u001b[0mq\u001b[0m\u001b[0;34m)\u001b[0m\u001b[0;34m\u001b[0m\u001b[0;34m\u001b[0m\u001b[0m\n",
      "\u001b[0m\u001b[0;32m   1114 \u001b[0;31m        \u001b[0mreturn_circuit\u001b[0m\u001b[0;34m.\u001b[0m\u001b[0mglobal_phase\u001b[0m \u001b[0;34m=\u001b[0m \u001b[0mtarget_decomposed\u001b[0m\u001b[0;34m.\u001b[0m\u001b[0mglobal_phase\u001b[0m\u001b[0;34m\u001b[0m\u001b[0;34m\u001b[0m\u001b[0m\n",
      "\u001b[0m\n"
     ]
    },
    {
     "name": "stdout",
     "output_type": "stream",
     "text": [
      "ipdb> b 1113\n",
      "Breakpoint 2 at /home/paltenmo/.conda/envs/ML4Quantum/lib/python3.8/site-packages/qiskit/quantum_info/synthesis/two_qubit_decompose.py:1113\n",
      "ipdb> c\n",
      "> \u001b[0;32m/home/paltenmo/.conda/envs/ML4Quantum/lib/python3.8/site-packages/qiskit/quantum_info/synthesis/two_qubit_decompose.py\u001b[0m(1113)\u001b[0;36m__call__\u001b[0;34m()\u001b[0m\n",
      "\u001b[0;32m   1111 \u001b[0;31m        \u001b[0mq\u001b[0m \u001b[0;34m=\u001b[0m \u001b[0mQuantumRegister\u001b[0m\u001b[0;34m(\u001b[0m\u001b[0;36m2\u001b[0m\u001b[0;34m)\u001b[0m\u001b[0;34m\u001b[0m\u001b[0;34m\u001b[0m\u001b[0m\n",
      "\u001b[0m\u001b[1;31m1\u001b[0;32m  1112 \u001b[0;31m        \u001b[0mdecomposition_euler\u001b[0m \u001b[0;34m=\u001b[0m \u001b[0;34m[\u001b[0m\u001b[0mself\u001b[0m\u001b[0;34m.\u001b[0m\u001b[0m_decomposer1q\u001b[0m\u001b[0;34m.\u001b[0m\u001b[0m_decompose\u001b[0m\u001b[0;34m(\u001b[0m\u001b[0mx\u001b[0m\u001b[0;34m)\u001b[0m \u001b[0;32mfor\u001b[0m \u001b[0mx\u001b[0m \u001b[0;32min\u001b[0m \u001b[0mdecomposition\u001b[0m\u001b[0;34m]\u001b[0m\u001b[0;34m\u001b[0m\u001b[0;34m\u001b[0m\u001b[0m\n",
      "\u001b[0m\u001b[1;31m2\u001b[0;32m> 1113 \u001b[0;31m        \u001b[0mreturn_circuit\u001b[0m \u001b[0;34m=\u001b[0m \u001b[0mQuantumCircuit\u001b[0m\u001b[0;34m(\u001b[0m\u001b[0mq\u001b[0m\u001b[0;34m)\u001b[0m\u001b[0;34m\u001b[0m\u001b[0;34m\u001b[0m\u001b[0m\n",
      "\u001b[0m\u001b[0;32m   1114 \u001b[0;31m        \u001b[0mreturn_circuit\u001b[0m\u001b[0;34m.\u001b[0m\u001b[0mglobal_phase\u001b[0m \u001b[0;34m=\u001b[0m \u001b[0mtarget_decomposed\u001b[0m\u001b[0;34m.\u001b[0m\u001b[0mglobal_phase\u001b[0m\u001b[0;34m\u001b[0m\u001b[0;34m\u001b[0m\u001b[0m\n",
      "\u001b[0m\u001b[0;32m   1115 \u001b[0;31m        \u001b[0mreturn_circuit\u001b[0m\u001b[0;34m.\u001b[0m\u001b[0mglobal_phase\u001b[0m \u001b[0;34m-=\u001b[0m \u001b[0mbest_nbasis\u001b[0m \u001b[0;34m*\u001b[0m \u001b[0mself\u001b[0m\u001b[0;34m.\u001b[0m\u001b[0mbasis\u001b[0m\u001b[0;34m.\u001b[0m\u001b[0mglobal_phase\u001b[0m\u001b[0;34m\u001b[0m\u001b[0;34m\u001b[0m\u001b[0m\n",
      "\u001b[0m\n",
      "ipdb> decomposition_euler\n",
      "[<qiskit.circuit.quantumcircuit.QuantumCircuit object at 0x7fdfceb04790>, <qiskit.circuit.quantumcircuit.QuantumCircuit object at 0x7fdece95afd0>, <qiskit.circuit.quantumcircuit.QuantumCircuit object at 0x7fdea9aa19d0>, <qiskit.circuit.quantumcircuit.QuantumCircuit object at 0x7fdea9dd2160>]\n",
      "ipdb> decomposition_euler.draw()\n",
      "*** AttributeError: 'list' object has no attribute 'draw'\n",
      "ipdb> decomposition_euler[0].draw()\n",
      "global phase: 0\n",
      "    \n",
      "qr: \n",
      "    \n",
      "ipdb> decomposition_euler[1].draw()\n",
      "global phase: 7π/4\n",
      "    ┌─────────────────┐\n",
      "qr: ┤ U3(π/4,-π/2,-π) ├\n",
      "    └─────────────────┘\n",
      "ipdb> decomposition_euler[2].draw()\n",
      "global phase: 7π/8\n",
      "    ┌──────────────────┐\n",
      "qr: ┤ U3(π/2,-π/4,π/2) ├\n",
      "    └──────────────────┘\n",
      "ipdb> decomposition_euler[3].draw()\n",
      "global phase: π/4\n",
      "    ┌────────────────┐\n",
      "qr: ┤ U3(π/4,0,-π/2) ├\n",
      "    └────────────────┘\n",
      "ipdb> decomposition_euler[4].draw()\n",
      "*** IndexError: list index out of range\n",
      "ipdb> b 1124\n",
      "Breakpoint 3 at /home/paltenmo/.conda/envs/ML4Quantum/lib/python3.8/site-packages/qiskit/quantum_info/synthesis/two_qubit_decompose.py:1124\n",
      "ipdb> c\n",
      "> \u001b[0;32m/home/paltenmo/.conda/envs/ML4Quantum/lib/python3.8/site-packages/qiskit/quantum_info/synthesis/two_qubit_decompose.py\u001b[0m(1124)\u001b[0;36m__call__\u001b[0;34m()\u001b[0m\n",
      "\u001b[0;32m   1122 \u001b[0;31m        \u001b[0mreturn_circuit\u001b[0m\u001b[0;34m.\u001b[0m\u001b[0mcompose\u001b[0m\u001b[0;34m(\u001b[0m\u001b[0mdecomposition_euler\u001b[0m\u001b[0;34m[\u001b[0m\u001b[0;36m2\u001b[0m \u001b[0;34m*\u001b[0m \u001b[0mbest_nbasis\u001b[0m\u001b[0;34m]\u001b[0m\u001b[0;34m,\u001b[0m \u001b[0;34m[\u001b[0m\u001b[0mq\u001b[0m\u001b[0;34m[\u001b[0m\u001b[0;36m0\u001b[0m\u001b[0;34m]\u001b[0m\u001b[0;34m]\u001b[0m\u001b[0;34m,\u001b[0m \u001b[0minplace\u001b[0m\u001b[0;34m=\u001b[0m\u001b[0;32mTrue\u001b[0m\u001b[0;34m)\u001b[0m\u001b[0;34m\u001b[0m\u001b[0;34m\u001b[0m\u001b[0m\n",
      "\u001b[0m\u001b[0;32m   1123 \u001b[0;31m        \u001b[0mreturn_circuit\u001b[0m\u001b[0;34m.\u001b[0m\u001b[0mcompose\u001b[0m\u001b[0;34m(\u001b[0m\u001b[0mdecomposition_euler\u001b[0m\u001b[0;34m[\u001b[0m\u001b[0;36m2\u001b[0m \u001b[0;34m*\u001b[0m \u001b[0mbest_nbasis\u001b[0m \u001b[0;34m+\u001b[0m \u001b[0;36m1\u001b[0m\u001b[0;34m]\u001b[0m\u001b[0;34m,\u001b[0m \u001b[0;34m[\u001b[0m\u001b[0mq\u001b[0m\u001b[0;34m[\u001b[0m\u001b[0;36m1\u001b[0m\u001b[0;34m]\u001b[0m\u001b[0;34m]\u001b[0m\u001b[0;34m,\u001b[0m \u001b[0minplace\u001b[0m\u001b[0;34m=\u001b[0m\u001b[0;32mTrue\u001b[0m\u001b[0;34m)\u001b[0m\u001b[0;34m\u001b[0m\u001b[0;34m\u001b[0m\u001b[0m\n",
      "\u001b[0m\u001b[1;31m3\u001b[0;32m> 1124 \u001b[0;31m        \u001b[0;32mreturn\u001b[0m \u001b[0mreturn_circuit\u001b[0m\u001b[0;34m\u001b[0m\u001b[0;34m\u001b[0m\u001b[0m\n",
      "\u001b[0m\u001b[0;32m   1125 \u001b[0;31m\u001b[0;34m\u001b[0m\u001b[0m\n",
      "\u001b[0m\u001b[0;32m   1126 \u001b[0;31m    \u001b[0;32mdef\u001b[0m \u001b[0m_pulse_optimal_chooser\u001b[0m\u001b[0;34m(\u001b[0m\u001b[0mself\u001b[0m\u001b[0;34m,\u001b[0m \u001b[0mbest_nbasis\u001b[0m\u001b[0;34m,\u001b[0m \u001b[0mdecomposition\u001b[0m\u001b[0;34m,\u001b[0m \u001b[0mtarget_decomposed\u001b[0m\u001b[0;34m)\u001b[0m\u001b[0;34m:\u001b[0m\u001b[0;34m\u001b[0m\u001b[0;34m\u001b[0m\u001b[0m\n",
      "\u001b[0m\n",
      "ipdb> return_circuit.draw()\n",
      "global phase: 2π\n",
      "                                ┌──────────────────┐\n",
      "q927_0: ─────────────────────■──┤ U3(π/2,-π/4,π/2) ├\n",
      "        ┌─────────────────┐┌─┴─┐└┬────────────────┬┘\n",
      "q927_1: ┤ U3(π/4,-π/2,-π) ├┤ X ├─┤ U3(π/4,0,-π/2) ├─\n",
      "        └─────────────────┘└───┘ └────────────────┘ \n",
      "ipdb> n\n",
      "--Return--\n",
      "<qiskit.circu...x7fdea9f4bd90>\n",
      "> \u001b[0;32m/home/paltenmo/.conda/envs/ML4Quantum/lib/python3.8/site-packages/qiskit/quantum_info/synthesis/two_qubit_decompose.py\u001b[0m(1124)\u001b[0;36m__call__\u001b[0;34m()\u001b[0m\n",
      "\u001b[0;32m   1122 \u001b[0;31m        \u001b[0mreturn_circuit\u001b[0m\u001b[0;34m.\u001b[0m\u001b[0mcompose\u001b[0m\u001b[0;34m(\u001b[0m\u001b[0mdecomposition_euler\u001b[0m\u001b[0;34m[\u001b[0m\u001b[0;36m2\u001b[0m \u001b[0;34m*\u001b[0m \u001b[0mbest_nbasis\u001b[0m\u001b[0;34m]\u001b[0m\u001b[0;34m,\u001b[0m \u001b[0;34m[\u001b[0m\u001b[0mq\u001b[0m\u001b[0;34m[\u001b[0m\u001b[0;36m0\u001b[0m\u001b[0;34m]\u001b[0m\u001b[0;34m]\u001b[0m\u001b[0;34m,\u001b[0m \u001b[0minplace\u001b[0m\u001b[0;34m=\u001b[0m\u001b[0;32mTrue\u001b[0m\u001b[0;34m)\u001b[0m\u001b[0;34m\u001b[0m\u001b[0;34m\u001b[0m\u001b[0m\n",
      "\u001b[0m\u001b[0;32m   1123 \u001b[0;31m        \u001b[0mreturn_circuit\u001b[0m\u001b[0;34m.\u001b[0m\u001b[0mcompose\u001b[0m\u001b[0;34m(\u001b[0m\u001b[0mdecomposition_euler\u001b[0m\u001b[0;34m[\u001b[0m\u001b[0;36m2\u001b[0m \u001b[0;34m*\u001b[0m \u001b[0mbest_nbasis\u001b[0m \u001b[0;34m+\u001b[0m \u001b[0;36m1\u001b[0m\u001b[0;34m]\u001b[0m\u001b[0;34m,\u001b[0m \u001b[0;34m[\u001b[0m\u001b[0mq\u001b[0m\u001b[0;34m[\u001b[0m\u001b[0;36m1\u001b[0m\u001b[0;34m]\u001b[0m\u001b[0;34m]\u001b[0m\u001b[0;34m,\u001b[0m \u001b[0minplace\u001b[0m\u001b[0;34m=\u001b[0m\u001b[0;32mTrue\u001b[0m\u001b[0;34m)\u001b[0m\u001b[0;34m\u001b[0m\u001b[0;34m\u001b[0m\u001b[0m\n",
      "\u001b[0m\u001b[1;31m3\u001b[0;32m> 1124 \u001b[0;31m        \u001b[0;32mreturn\u001b[0m \u001b[0mreturn_circuit\u001b[0m\u001b[0;34m\u001b[0m\u001b[0;34m\u001b[0m\u001b[0m\n",
      "\u001b[0m\u001b[0;32m   1125 \u001b[0;31m\u001b[0;34m\u001b[0m\u001b[0m\n",
      "\u001b[0m\u001b[0;32m   1126 \u001b[0;31m    \u001b[0;32mdef\u001b[0m \u001b[0m_pulse_optimal_chooser\u001b[0m\u001b[0;34m(\u001b[0m\u001b[0mself\u001b[0m\u001b[0;34m,\u001b[0m \u001b[0mbest_nbasis\u001b[0m\u001b[0;34m,\u001b[0m \u001b[0mdecomposition\u001b[0m\u001b[0;34m,\u001b[0m \u001b[0mtarget_decomposed\u001b[0m\u001b[0;34m)\u001b[0m\u001b[0;34m:\u001b[0m\u001b[0;34m\u001b[0m\u001b[0;34m\u001b[0m\u001b[0m\n",
      "\u001b[0m\n",
      "ipdb> n\n",
      "--Call--\n",
      "> \u001b[0;32m/home/paltenmo/.conda/envs/ML4Quantum/lib/python3.8/site-packages/qiskit/circuit/instruction.py\u001b[0m(235)\u001b[0;36mdefinition\u001b[0;34m()\u001b[0m\n",
      "\u001b[0;32m    233 \u001b[0;31m        \u001b[0;32mreturn\u001b[0m \u001b[0mself\u001b[0m\u001b[0;34m.\u001b[0m\u001b[0m_definition\u001b[0m\u001b[0;34m\u001b[0m\u001b[0;34m\u001b[0m\u001b[0m\n",
      "\u001b[0m\u001b[0;32m    234 \u001b[0;31m\u001b[0;34m\u001b[0m\u001b[0m\n",
      "\u001b[0m\u001b[0;32m--> 235 \u001b[0;31m    \u001b[0;34m@\u001b[0m\u001b[0mdefinition\u001b[0m\u001b[0;34m.\u001b[0m\u001b[0msetter\u001b[0m\u001b[0;34m\u001b[0m\u001b[0;34m\u001b[0m\u001b[0m\n",
      "\u001b[0m\u001b[0;32m    236 \u001b[0;31m    \u001b[0;32mdef\u001b[0m \u001b[0mdefinition\u001b[0m\u001b[0;34m(\u001b[0m\u001b[0mself\u001b[0m\u001b[0;34m,\u001b[0m \u001b[0marray\u001b[0m\u001b[0;34m)\u001b[0m\u001b[0;34m:\u001b[0m\u001b[0;34m\u001b[0m\u001b[0;34m\u001b[0m\u001b[0m\n",
      "\u001b[0m\u001b[0;32m    237 \u001b[0;31m        \u001b[0;34m\"\"\"Set gate representation\"\"\"\u001b[0m\u001b[0;34m\u001b[0m\u001b[0;34m\u001b[0m\u001b[0m\n",
      "\u001b[0m\n",
      "ipdb> n\n",
      "> \u001b[0;32m/home/paltenmo/.conda/envs/ML4Quantum/lib/python3.8/site-packages/qiskit/circuit/instruction.py\u001b[0m(238)\u001b[0;36mdefinition\u001b[0;34m()\u001b[0m\n",
      "\u001b[0;32m    236 \u001b[0;31m    \u001b[0;32mdef\u001b[0m \u001b[0mdefinition\u001b[0m\u001b[0;34m(\u001b[0m\u001b[0mself\u001b[0m\u001b[0;34m,\u001b[0m \u001b[0marray\u001b[0m\u001b[0;34m)\u001b[0m\u001b[0;34m:\u001b[0m\u001b[0;34m\u001b[0m\u001b[0;34m\u001b[0m\u001b[0m\n",
      "\u001b[0m\u001b[0;32m    237 \u001b[0;31m        \u001b[0;34m\"\"\"Set gate representation\"\"\"\u001b[0m\u001b[0;34m\u001b[0m\u001b[0;34m\u001b[0m\u001b[0m\n",
      "\u001b[0m\u001b[0;32m--> 238 \u001b[0;31m        \u001b[0mself\u001b[0m\u001b[0;34m.\u001b[0m\u001b[0m_definition\u001b[0m \u001b[0;34m=\u001b[0m \u001b[0marray\u001b[0m\u001b[0;34m\u001b[0m\u001b[0;34m\u001b[0m\u001b[0m\n",
      "\u001b[0m\u001b[0;32m    239 \u001b[0;31m\u001b[0;34m\u001b[0m\u001b[0m\n",
      "\u001b[0m\u001b[0;32m    240 \u001b[0;31m    \u001b[0;34m@\u001b[0m\u001b[0mproperty\u001b[0m\u001b[0;34m\u001b[0m\u001b[0;34m\u001b[0m\u001b[0m\n",
      "\u001b[0m\n",
      "ipdb> n\n",
      "--Return--\n",
      "None\n",
      "> \u001b[0;32m/home/paltenmo/.conda/envs/ML4Quantum/lib/python3.8/site-packages/qiskit/circuit/instruction.py\u001b[0m(238)\u001b[0;36mdefinition\u001b[0;34m()\u001b[0m\n",
      "\u001b[0;32m    236 \u001b[0;31m    \u001b[0;32mdef\u001b[0m \u001b[0mdefinition\u001b[0m\u001b[0;34m(\u001b[0m\u001b[0mself\u001b[0m\u001b[0;34m,\u001b[0m \u001b[0marray\u001b[0m\u001b[0;34m)\u001b[0m\u001b[0;34m:\u001b[0m\u001b[0;34m\u001b[0m\u001b[0;34m\u001b[0m\u001b[0m\n",
      "\u001b[0m\u001b[0;32m    237 \u001b[0;31m        \u001b[0;34m\"\"\"Set gate representation\"\"\"\u001b[0m\u001b[0;34m\u001b[0m\u001b[0;34m\u001b[0m\u001b[0m\n",
      "\u001b[0m\u001b[0;32m--> 238 \u001b[0;31m        \u001b[0mself\u001b[0m\u001b[0;34m.\u001b[0m\u001b[0m_definition\u001b[0m \u001b[0;34m=\u001b[0m \u001b[0marray\u001b[0m\u001b[0;34m\u001b[0m\u001b[0;34m\u001b[0m\u001b[0m\n",
      "\u001b[0m\u001b[0;32m    239 \u001b[0;31m\u001b[0;34m\u001b[0m\u001b[0m\n",
      "\u001b[0m\u001b[0;32m    240 \u001b[0;31m    \u001b[0;34m@\u001b[0m\u001b[0mproperty\u001b[0m\u001b[0;34m\u001b[0m\u001b[0;34m\u001b[0m\u001b[0m\n",
      "\u001b[0m\n",
      "ipdb> n\n",
      "--Call--\n",
      "> \u001b[0;32m/home/paltenmo/.conda/envs/ML4Quantum/lib/python3.8/site-packages/qiskit/circuit/quantumcircuit.py\u001b[0m(1061)\u001b[0;36m__getitem__\u001b[0;34m()\u001b[0m\n",
      "\u001b[0;32m   1059 \u001b[0;31m        \u001b[0;34m...\u001b[0m\u001b[0;34m\u001b[0m\u001b[0;34m\u001b[0m\u001b[0m\n",
      "\u001b[0m\u001b[0;32m   1060 \u001b[0;31m\u001b[0;34m\u001b[0m\u001b[0m\n",
      "\u001b[0m\u001b[0;32m-> 1061 \u001b[0;31m    \u001b[0;32mdef\u001b[0m \u001b[0m__getitem__\u001b[0m\u001b[0;34m(\u001b[0m\u001b[0mself\u001b[0m\u001b[0;34m,\u001b[0m \u001b[0mitem\u001b[0m\u001b[0;34m)\u001b[0m\u001b[0;34m:\u001b[0m\u001b[0;34m\u001b[0m\u001b[0;34m\u001b[0m\u001b[0m\n",
      "\u001b[0m\u001b[0;32m   1062 \u001b[0;31m        \u001b[0;34m\"\"\"Return indexed operation.\"\"\"\u001b[0m\u001b[0;34m\u001b[0m\u001b[0;34m\u001b[0m\u001b[0m\n",
      "\u001b[0m\u001b[0;32m   1063 \u001b[0;31m        \u001b[0;32mreturn\u001b[0m \u001b[0mself\u001b[0m\u001b[0;34m.\u001b[0m\u001b[0m_data\u001b[0m\u001b[0;34m[\u001b[0m\u001b[0mitem\u001b[0m\u001b[0;34m]\u001b[0m\u001b[0;34m\u001b[0m\u001b[0;34m\u001b[0m\u001b[0m\n",
      "\u001b[0m\n"
     ]
    },
    {
     "name": "stdout",
     "output_type": "stream",
     "text": [
      "ipdb> n\n",
      "> \u001b[0;32m/home/paltenmo/.conda/envs/ML4Quantum/lib/python3.8/site-packages/qiskit/circuit/quantumcircuit.py\u001b[0m(1063)\u001b[0;36m__getitem__\u001b[0;34m()\u001b[0m\n",
      "\u001b[0;32m   1061 \u001b[0;31m    \u001b[0;32mdef\u001b[0m \u001b[0m__getitem__\u001b[0m\u001b[0;34m(\u001b[0m\u001b[0mself\u001b[0m\u001b[0;34m,\u001b[0m \u001b[0mitem\u001b[0m\u001b[0;34m)\u001b[0m\u001b[0;34m:\u001b[0m\u001b[0;34m\u001b[0m\u001b[0;34m\u001b[0m\u001b[0m\n",
      "\u001b[0m\u001b[0;32m   1062 \u001b[0;31m        \u001b[0;34m\"\"\"Return indexed operation.\"\"\"\u001b[0m\u001b[0;34m\u001b[0m\u001b[0;34m\u001b[0m\u001b[0m\n",
      "\u001b[0m\u001b[0;32m-> 1063 \u001b[0;31m        \u001b[0;32mreturn\u001b[0m \u001b[0mself\u001b[0m\u001b[0;34m.\u001b[0m\u001b[0m_data\u001b[0m\u001b[0;34m[\u001b[0m\u001b[0mitem\u001b[0m\u001b[0;34m]\u001b[0m\u001b[0;34m\u001b[0m\u001b[0;34m\u001b[0m\u001b[0m\n",
      "\u001b[0m\u001b[0;32m   1064 \u001b[0;31m\u001b[0;34m\u001b[0m\u001b[0m\n",
      "\u001b[0m\u001b[0;32m   1065 \u001b[0;31m    \u001b[0;34m@\u001b[0m\u001b[0mstaticmethod\u001b[0m\u001b[0;34m\u001b[0m\u001b[0;34m\u001b[0m\u001b[0m\n",
      "\u001b[0m\n",
      "ipdb> n\n",
      "--Return--\n",
      "(Instruction(n...592653589793]), [Qubit(Quantum...2, 'q927'), 1)], [])\n",
      "> \u001b[0;32m/home/paltenmo/.conda/envs/ML4Quantum/lib/python3.8/site-packages/qiskit/circuit/quantumcircuit.py\u001b[0m(1063)\u001b[0;36m__getitem__\u001b[0;34m()\u001b[0m\n",
      "\u001b[0;32m   1061 \u001b[0;31m    \u001b[0;32mdef\u001b[0m \u001b[0m__getitem__\u001b[0m\u001b[0;34m(\u001b[0m\u001b[0mself\u001b[0m\u001b[0;34m,\u001b[0m \u001b[0mitem\u001b[0m\u001b[0;34m)\u001b[0m\u001b[0;34m:\u001b[0m\u001b[0;34m\u001b[0m\u001b[0;34m\u001b[0m\u001b[0m\n",
      "\u001b[0m\u001b[0;32m   1062 \u001b[0;31m        \u001b[0;34m\"\"\"Return indexed operation.\"\"\"\u001b[0m\u001b[0;34m\u001b[0m\u001b[0;34m\u001b[0m\u001b[0m\n",
      "\u001b[0m\u001b[0;32m-> 1063 \u001b[0;31m        \u001b[0;32mreturn\u001b[0m \u001b[0mself\u001b[0m\u001b[0;34m.\u001b[0m\u001b[0m_data\u001b[0m\u001b[0;34m[\u001b[0m\u001b[0mitem\u001b[0m\u001b[0;34m]\u001b[0m\u001b[0;34m\u001b[0m\u001b[0;34m\u001b[0m\u001b[0m\n",
      "\u001b[0m\u001b[0;32m   1064 \u001b[0;31m\u001b[0;34m\u001b[0m\u001b[0m\n",
      "\u001b[0m\u001b[0;32m   1065 \u001b[0;31m    \u001b[0;34m@\u001b[0m\u001b[0mstaticmethod\u001b[0m\u001b[0;34m\u001b[0m\u001b[0;34m\u001b[0m\u001b[0m\n",
      "\u001b[0m\n",
      "ipdb> nn\n",
      "*** NameError: name 'nn' is not defined\n",
      "ipdb> n\n",
      "--Call--\n",
      "> \u001b[0;32m/home/paltenmo/.conda/envs/ML4Quantum/lib/python3.8/site-packages/qiskit/circuit/quantumcircuit.py\u001b[0m(1061)\u001b[0;36m__getitem__\u001b[0;34m()\u001b[0m\n",
      "\u001b[0;32m   1059 \u001b[0;31m        \u001b[0;34m...\u001b[0m\u001b[0;34m\u001b[0m\u001b[0;34m\u001b[0m\u001b[0m\n",
      "\u001b[0m\u001b[0;32m   1060 \u001b[0;31m\u001b[0;34m\u001b[0m\u001b[0m\n",
      "\u001b[0m\u001b[0;32m-> 1061 \u001b[0;31m    \u001b[0;32mdef\u001b[0m \u001b[0m__getitem__\u001b[0m\u001b[0;34m(\u001b[0m\u001b[0mself\u001b[0m\u001b[0;34m,\u001b[0m \u001b[0mitem\u001b[0m\u001b[0;34m)\u001b[0m\u001b[0;34m:\u001b[0m\u001b[0;34m\u001b[0m\u001b[0;34m\u001b[0m\u001b[0m\n",
      "\u001b[0m\u001b[0;32m   1062 \u001b[0;31m        \u001b[0;34m\"\"\"Return indexed operation.\"\"\"\u001b[0m\u001b[0;34m\u001b[0m\u001b[0;34m\u001b[0m\u001b[0m\n",
      "\u001b[0m\u001b[0;32m   1063 \u001b[0;31m        \u001b[0;32mreturn\u001b[0m \u001b[0mself\u001b[0m\u001b[0;34m.\u001b[0m\u001b[0m_data\u001b[0m\u001b[0;34m[\u001b[0m\u001b[0mitem\u001b[0m\u001b[0;34m]\u001b[0m\u001b[0;34m\u001b[0m\u001b[0;34m\u001b[0m\u001b[0m\n",
      "\u001b[0m\n",
      "ipdb> n\n",
      "> \u001b[0;32m/home/paltenmo/.conda/envs/ML4Quantum/lib/python3.8/site-packages/qiskit/circuit/quantumcircuit.py\u001b[0m(1063)\u001b[0;36m__getitem__\u001b[0;34m()\u001b[0m\n",
      "\u001b[0;32m   1061 \u001b[0;31m    \u001b[0;32mdef\u001b[0m \u001b[0m__getitem__\u001b[0m\u001b[0;34m(\u001b[0m\u001b[0mself\u001b[0m\u001b[0;34m,\u001b[0m \u001b[0mitem\u001b[0m\u001b[0;34m)\u001b[0m\u001b[0;34m:\u001b[0m\u001b[0;34m\u001b[0m\u001b[0;34m\u001b[0m\u001b[0m\n",
      "\u001b[0m\u001b[0;32m   1062 \u001b[0;31m        \u001b[0;34m\"\"\"Return indexed operation.\"\"\"\u001b[0m\u001b[0;34m\u001b[0m\u001b[0;34m\u001b[0m\u001b[0m\n",
      "\u001b[0m\u001b[0;32m-> 1063 \u001b[0;31m        \u001b[0;32mreturn\u001b[0m \u001b[0mself\u001b[0m\u001b[0;34m.\u001b[0m\u001b[0m_data\u001b[0m\u001b[0;34m[\u001b[0m\u001b[0mitem\u001b[0m\u001b[0;34m]\u001b[0m\u001b[0;34m\u001b[0m\u001b[0;34m\u001b[0m\u001b[0m\n",
      "\u001b[0m\u001b[0;32m   1064 \u001b[0;31m\u001b[0;34m\u001b[0m\u001b[0m\n",
      "\u001b[0m\u001b[0;32m   1065 \u001b[0;31m    \u001b[0;34m@\u001b[0m\u001b[0mstaticmethod\u001b[0m\u001b[0;34m\u001b[0m\u001b[0;34m\u001b[0m\u001b[0m\n",
      "\u001b[0m\n",
      "ipdb> n\n",
      "--Return--\n",
      "(Instruction(n...=0, params=[]), [Qubit(Quantum...2, 'q927'), 0), Qubit(Quantum...2, 'q927'), 1)], [])\n",
      "> \u001b[0;32m/home/paltenmo/.conda/envs/ML4Quantum/lib/python3.8/site-packages/qiskit/circuit/quantumcircuit.py\u001b[0m(1063)\u001b[0;36m__getitem__\u001b[0;34m()\u001b[0m\n",
      "\u001b[0;32m   1061 \u001b[0;31m    \u001b[0;32mdef\u001b[0m \u001b[0m__getitem__\u001b[0m\u001b[0;34m(\u001b[0m\u001b[0mself\u001b[0m\u001b[0;34m,\u001b[0m \u001b[0mitem\u001b[0m\u001b[0;34m)\u001b[0m\u001b[0;34m:\u001b[0m\u001b[0;34m\u001b[0m\u001b[0;34m\u001b[0m\u001b[0m\n",
      "\u001b[0m\u001b[0;32m   1062 \u001b[0;31m        \u001b[0;34m\"\"\"Return indexed operation.\"\"\"\u001b[0m\u001b[0;34m\u001b[0m\u001b[0;34m\u001b[0m\u001b[0m\n",
      "\u001b[0m\u001b[0;32m-> 1063 \u001b[0;31m        \u001b[0;32mreturn\u001b[0m \u001b[0mself\u001b[0m\u001b[0;34m.\u001b[0m\u001b[0m_data\u001b[0m\u001b[0;34m[\u001b[0m\u001b[0mitem\u001b[0m\u001b[0;34m]\u001b[0m\u001b[0;34m\u001b[0m\u001b[0;34m\u001b[0m\u001b[0m\n",
      "\u001b[0m\u001b[0;32m   1064 \u001b[0;31m\u001b[0;34m\u001b[0m\u001b[0m\n",
      "\u001b[0m\u001b[0;32m   1065 \u001b[0;31m    \u001b[0;34m@\u001b[0m\u001b[0mstaticmethod\u001b[0m\u001b[0;34m\u001b[0m\u001b[0;34m\u001b[0m\u001b[0m\n",
      "\u001b[0m\n",
      "ipdb> n\n",
      "--Call--\n",
      "> \u001b[0;32m/home/paltenmo/.conda/envs/ML4Quantum/lib/python3.8/site-packages/qiskit/circuit/controlledgate.py\u001b[0m(135)\u001b[0;36mname\u001b[0;34m()\u001b[0m\n",
      "\u001b[0;32m    133 \u001b[0;31m        \u001b[0mself\u001b[0m\u001b[0;34m.\u001b[0m\u001b[0m_definition\u001b[0m \u001b[0;34m=\u001b[0m \u001b[0mexcited_def\u001b[0m\u001b[0;34m\u001b[0m\u001b[0;34m\u001b[0m\u001b[0m\n",
      "\u001b[0m\u001b[0;32m    134 \u001b[0;31m\u001b[0;34m\u001b[0m\u001b[0m\n",
      "\u001b[0m\u001b[0;32m--> 135 \u001b[0;31m    \u001b[0;34m@\u001b[0m\u001b[0mproperty\u001b[0m\u001b[0;34m\u001b[0m\u001b[0;34m\u001b[0m\u001b[0m\n",
      "\u001b[0m\u001b[0;32m    136 \u001b[0;31m    \u001b[0;32mdef\u001b[0m \u001b[0mname\u001b[0m\u001b[0;34m(\u001b[0m\u001b[0mself\u001b[0m\u001b[0;34m)\u001b[0m \u001b[0;34m->\u001b[0m \u001b[0mstr\u001b[0m\u001b[0;34m:\u001b[0m\u001b[0;34m\u001b[0m\u001b[0;34m\u001b[0m\u001b[0m\n",
      "\u001b[0m\u001b[0;32m    137 \u001b[0;31m        \"\"\"Get name of gate. If the gate has open controls the gate name\n",
      "\u001b[0m\n",
      "ipdb> n\n",
      "> \u001b[0;32m/home/paltenmo/.conda/envs/ML4Quantum/lib/python3.8/site-packages/qiskit/circuit/controlledgate.py\u001b[0m(146)\u001b[0;36mname\u001b[0;34m()\u001b[0m\n",
      "\u001b[0;32m    144 \u001b[0;31m        \u001b[0mthe\u001b[0m \u001b[0mcontrol\u001b[0m \u001b[0mstate\u001b[0m \u001b[0;32mfor\u001b[0m \u001b[0mthe\u001b[0m \u001b[0mgate\u001b[0m\u001b[0;34m.\u001b[0m\u001b[0;34m\u001b[0m\u001b[0;34m\u001b[0m\u001b[0m\n",
      "\u001b[0m\u001b[0;32m    145 \u001b[0;31m        \"\"\"\n",
      "\u001b[0m\u001b[0;32m--> 146 \u001b[0;31m        \u001b[0;32mif\u001b[0m \u001b[0mself\u001b[0m\u001b[0;34m.\u001b[0m\u001b[0m_open_ctrl\u001b[0m\u001b[0;34m:\u001b[0m\u001b[0;34m\u001b[0m\u001b[0;34m\u001b[0m\u001b[0m\n",
      "\u001b[0m\u001b[0;32m    147 \u001b[0;31m            \u001b[0;32mreturn\u001b[0m \u001b[0;34mf\"{self._name}_o{self.ctrl_state}\"\u001b[0m\u001b[0;34m\u001b[0m\u001b[0;34m\u001b[0m\u001b[0m\n",
      "\u001b[0m\u001b[0;32m    148 \u001b[0;31m        \u001b[0;32melse\u001b[0m\u001b[0;34m:\u001b[0m\u001b[0;34m\u001b[0m\u001b[0;34m\u001b[0m\u001b[0m\n",
      "\u001b[0m\n",
      "ipdb> n\n",
      "> \u001b[0;32m/home/paltenmo/.conda/envs/ML4Quantum/lib/python3.8/site-packages/qiskit/circuit/controlledgate.py\u001b[0m(149)\u001b[0;36mname\u001b[0;34m()\u001b[0m\n",
      "\u001b[0;32m    147 \u001b[0;31m            \u001b[0;32mreturn\u001b[0m \u001b[0;34mf\"{self._name}_o{self.ctrl_state}\"\u001b[0m\u001b[0;34m\u001b[0m\u001b[0;34m\u001b[0m\u001b[0m\n",
      "\u001b[0m\u001b[0;32m    148 \u001b[0;31m        \u001b[0;32melse\u001b[0m\u001b[0;34m:\u001b[0m\u001b[0;34m\u001b[0m\u001b[0;34m\u001b[0m\u001b[0m\n",
      "\u001b[0m\u001b[0;32m--> 149 \u001b[0;31m            \u001b[0;32mreturn\u001b[0m \u001b[0mself\u001b[0m\u001b[0;34m.\u001b[0m\u001b[0m_name\u001b[0m\u001b[0;34m\u001b[0m\u001b[0;34m\u001b[0m\u001b[0m\n",
      "\u001b[0m\u001b[0;32m    150 \u001b[0;31m\u001b[0;34m\u001b[0m\u001b[0m\n",
      "\u001b[0m\u001b[0;32m    151 \u001b[0;31m    \u001b[0;34m@\u001b[0m\u001b[0mname\u001b[0m\u001b[0;34m.\u001b[0m\u001b[0msetter\u001b[0m\u001b[0;34m\u001b[0m\u001b[0;34m\u001b[0m\u001b[0m\n",
      "\u001b[0m\n",
      "ipdb> self._name\n",
      "'cx'\n",
      "ipdb> n\n",
      "--Return--\n",
      "'cx'\n",
      "> \u001b[0;32m/home/paltenmo/.conda/envs/ML4Quantum/lib/python3.8/site-packages/qiskit/circuit/controlledgate.py\u001b[0m(149)\u001b[0;36mname\u001b[0;34m()\u001b[0m\n",
      "\u001b[0;32m    147 \u001b[0;31m            \u001b[0;32mreturn\u001b[0m \u001b[0;34mf\"{self._name}_o{self.ctrl_state}\"\u001b[0m\u001b[0;34m\u001b[0m\u001b[0;34m\u001b[0m\u001b[0m\n",
      "\u001b[0m\u001b[0;32m    148 \u001b[0;31m        \u001b[0;32melse\u001b[0m\u001b[0;34m:\u001b[0m\u001b[0;34m\u001b[0m\u001b[0;34m\u001b[0m\u001b[0m\n",
      "\u001b[0m\u001b[0;32m--> 149 \u001b[0;31m            \u001b[0;32mreturn\u001b[0m \u001b[0mself\u001b[0m\u001b[0;34m.\u001b[0m\u001b[0m_name\u001b[0m\u001b[0;34m\u001b[0m\u001b[0;34m\u001b[0m\u001b[0m\n",
      "\u001b[0m\u001b[0;32m    150 \u001b[0;31m\u001b[0;34m\u001b[0m\u001b[0m\n",
      "\u001b[0m\u001b[0;32m    151 \u001b[0;31m    \u001b[0;34m@\u001b[0m\u001b[0mname\u001b[0m\u001b[0;34m.\u001b[0m\u001b[0msetter\u001b[0m\u001b[0;34m\u001b[0m\u001b[0;34m\u001b[0m\u001b[0m\n",
      "\u001b[0m\n",
      "ipdb> n\n",
      "--Call--\n",
      "> \u001b[0;32m/home/paltenmo/.conda/envs/ML4Quantum/lib/python3.8/site-packages/qiskit/circuit/controlledgate.py\u001b[0m(135)\u001b[0;36mname\u001b[0;34m()\u001b[0m\n",
      "\u001b[0;32m    133 \u001b[0;31m        \u001b[0mself\u001b[0m\u001b[0;34m.\u001b[0m\u001b[0m_definition\u001b[0m \u001b[0;34m=\u001b[0m \u001b[0mexcited_def\u001b[0m\u001b[0;34m\u001b[0m\u001b[0;34m\u001b[0m\u001b[0m\n",
      "\u001b[0m\u001b[0;32m    134 \u001b[0;31m\u001b[0;34m\u001b[0m\u001b[0m\n",
      "\u001b[0m\u001b[0;32m--> 135 \u001b[0;31m    \u001b[0;34m@\u001b[0m\u001b[0mproperty\u001b[0m\u001b[0;34m\u001b[0m\u001b[0;34m\u001b[0m\u001b[0m\n",
      "\u001b[0m\u001b[0;32m    136 \u001b[0;31m    \u001b[0;32mdef\u001b[0m \u001b[0mname\u001b[0m\u001b[0;34m(\u001b[0m\u001b[0mself\u001b[0m\u001b[0;34m)\u001b[0m \u001b[0;34m->\u001b[0m \u001b[0mstr\u001b[0m\u001b[0;34m:\u001b[0m\u001b[0;34m\u001b[0m\u001b[0;34m\u001b[0m\u001b[0m\n",
      "\u001b[0m\u001b[0;32m    137 \u001b[0;31m        \"\"\"Get name of gate. If the gate has open controls the gate name\n",
      "\u001b[0m\n",
      "ipdb> n\n",
      "> \u001b[0;32m/home/paltenmo/.conda/envs/ML4Quantum/lib/python3.8/site-packages/qiskit/circuit/controlledgate.py\u001b[0m(146)\u001b[0;36mname\u001b[0;34m()\u001b[0m\n",
      "\u001b[0;32m    144 \u001b[0;31m        \u001b[0mthe\u001b[0m \u001b[0mcontrol\u001b[0m \u001b[0mstate\u001b[0m \u001b[0;32mfor\u001b[0m \u001b[0mthe\u001b[0m \u001b[0mgate\u001b[0m\u001b[0;34m.\u001b[0m\u001b[0;34m\u001b[0m\u001b[0;34m\u001b[0m\u001b[0m\n",
      "\u001b[0m\u001b[0;32m    145 \u001b[0;31m        \"\"\"\n",
      "\u001b[0m\u001b[0;32m--> 146 \u001b[0;31m        \u001b[0;32mif\u001b[0m \u001b[0mself\u001b[0m\u001b[0;34m.\u001b[0m\u001b[0m_open_ctrl\u001b[0m\u001b[0;34m:\u001b[0m\u001b[0;34m\u001b[0m\u001b[0;34m\u001b[0m\u001b[0m\n",
      "\u001b[0m\u001b[0;32m    147 \u001b[0;31m            \u001b[0;32mreturn\u001b[0m \u001b[0;34mf\"{self._name}_o{self.ctrl_state}\"\u001b[0m\u001b[0;34m\u001b[0m\u001b[0;34m\u001b[0m\u001b[0m\n",
      "\u001b[0m\u001b[0;32m    148 \u001b[0;31m        \u001b[0;32melse\u001b[0m\u001b[0;34m:\u001b[0m\u001b[0;34m\u001b[0m\u001b[0;34m\u001b[0m\u001b[0m\n",
      "\u001b[0m\n",
      "ipdb> n\n",
      "> \u001b[0;32m/home/paltenmo/.conda/envs/ML4Quantum/lib/python3.8/site-packages/qiskit/circuit/controlledgate.py\u001b[0m(149)\u001b[0;36mname\u001b[0;34m()\u001b[0m\n",
      "\u001b[0;32m    147 \u001b[0;31m            \u001b[0;32mreturn\u001b[0m \u001b[0;34mf\"{self._name}_o{self.ctrl_state}\"\u001b[0m\u001b[0;34m\u001b[0m\u001b[0;34m\u001b[0m\u001b[0m\n",
      "\u001b[0m\u001b[0;32m    148 \u001b[0;31m        \u001b[0;32melse\u001b[0m\u001b[0;34m:\u001b[0m\u001b[0;34m\u001b[0m\u001b[0;34m\u001b[0m\u001b[0m\n",
      "\u001b[0m\u001b[0;32m--> 149 \u001b[0;31m            \u001b[0;32mreturn\u001b[0m \u001b[0mself\u001b[0m\u001b[0;34m.\u001b[0m\u001b[0m_name\u001b[0m\u001b[0;34m\u001b[0m\u001b[0;34m\u001b[0m\u001b[0m\n",
      "\u001b[0m\u001b[0;32m    150 \u001b[0;31m\u001b[0;34m\u001b[0m\u001b[0m\n",
      "\u001b[0m\u001b[0;32m    151 \u001b[0;31m    \u001b[0;34m@\u001b[0m\u001b[0mname\u001b[0m\u001b[0;34m.\u001b[0m\u001b[0msetter\u001b[0m\u001b[0;34m\u001b[0m\u001b[0;34m\u001b[0m\u001b[0m\n",
      "\u001b[0m\n"
     ]
    },
    {
     "name": "stdout",
     "output_type": "stream",
     "text": [
      "ipdb> n\n",
      "--Return--\n",
      "'cx'\n",
      "> \u001b[0;32m/home/paltenmo/.conda/envs/ML4Quantum/lib/python3.8/site-packages/qiskit/circuit/controlledgate.py\u001b[0m(149)\u001b[0;36mname\u001b[0;34m()\u001b[0m\n",
      "\u001b[0;32m    147 \u001b[0;31m            \u001b[0;32mreturn\u001b[0m \u001b[0;34mf\"{self._name}_o{self.ctrl_state}\"\u001b[0m\u001b[0;34m\u001b[0m\u001b[0;34m\u001b[0m\u001b[0m\n",
      "\u001b[0m\u001b[0;32m    148 \u001b[0;31m        \u001b[0;32melse\u001b[0m\u001b[0;34m:\u001b[0m\u001b[0;34m\u001b[0m\u001b[0;34m\u001b[0m\u001b[0m\n",
      "\u001b[0m\u001b[0;32m--> 149 \u001b[0;31m            \u001b[0;32mreturn\u001b[0m \u001b[0mself\u001b[0m\u001b[0;34m.\u001b[0m\u001b[0m_name\u001b[0m\u001b[0;34m\u001b[0m\u001b[0;34m\u001b[0m\u001b[0m\n",
      "\u001b[0m\u001b[0;32m    150 \u001b[0;31m\u001b[0;34m\u001b[0m\u001b[0m\n",
      "\u001b[0m\u001b[0;32m    151 \u001b[0;31m    \u001b[0;34m@\u001b[0m\u001b[0mname\u001b[0m\u001b[0;34m.\u001b[0m\u001b[0msetter\u001b[0m\u001b[0;34m\u001b[0m\u001b[0;34m\u001b[0m\u001b[0m\n",
      "\u001b[0m\n",
      "ipdb> b /home/paltenmo/.conda/envs/ML4Quantum/lib/python3.8/site-packages/qiskit/transpiler/passes/synthesis/unitary_synthesis.py:458\n",
      "Breakpoint 4 at /home/paltenmo/.conda/envs/ML4Quantum/lib/python3.8/site-packages/qiskit/transpiler/passes/synthesis/unitary_synthesis.py:458\n",
      "ipdb> c\n",
      "> \u001b[0;32m/home/paltenmo/.conda/envs/ML4Quantum/lib/python3.8/site-packages/qiskit/quantum_info/synthesis/two_qubit_decompose.py\u001b[0m(1112)\u001b[0;36m__call__\u001b[0;34m()\u001b[0m\n",
      "\u001b[0;32m   1110 \u001b[0;31m        \u001b[0;31m# do default decomposition\u001b[0m\u001b[0;34m\u001b[0m\u001b[0;34m\u001b[0m\u001b[0;34m\u001b[0m\u001b[0m\n",
      "\u001b[0m\u001b[0;32m   1111 \u001b[0;31m        \u001b[0mq\u001b[0m \u001b[0;34m=\u001b[0m \u001b[0mQuantumRegister\u001b[0m\u001b[0;34m(\u001b[0m\u001b[0;36m2\u001b[0m\u001b[0;34m)\u001b[0m\u001b[0;34m\u001b[0m\u001b[0;34m\u001b[0m\u001b[0m\n",
      "\u001b[0m\u001b[1;31m1\u001b[0;32m> 1112 \u001b[0;31m        \u001b[0mdecomposition_euler\u001b[0m \u001b[0;34m=\u001b[0m \u001b[0;34m[\u001b[0m\u001b[0mself\u001b[0m\u001b[0;34m.\u001b[0m\u001b[0m_decomposer1q\u001b[0m\u001b[0;34m.\u001b[0m\u001b[0m_decompose\u001b[0m\u001b[0;34m(\u001b[0m\u001b[0mx\u001b[0m\u001b[0;34m)\u001b[0m \u001b[0;32mfor\u001b[0m \u001b[0mx\u001b[0m \u001b[0;32min\u001b[0m \u001b[0mdecomposition\u001b[0m\u001b[0;34m]\u001b[0m\u001b[0;34m\u001b[0m\u001b[0;34m\u001b[0m\u001b[0m\n",
      "\u001b[0m\u001b[1;31m2\u001b[0;32m  1113 \u001b[0;31m        \u001b[0mreturn_circuit\u001b[0m \u001b[0;34m=\u001b[0m \u001b[0mQuantumCircuit\u001b[0m\u001b[0;34m(\u001b[0m\u001b[0mq\u001b[0m\u001b[0;34m)\u001b[0m\u001b[0;34m\u001b[0m\u001b[0;34m\u001b[0m\u001b[0m\n",
      "\u001b[0m\u001b[0;32m   1114 \u001b[0;31m        \u001b[0mreturn_circuit\u001b[0m\u001b[0;34m.\u001b[0m\u001b[0mglobal_phase\u001b[0m \u001b[0;34m=\u001b[0m \u001b[0mtarget_decomposed\u001b[0m\u001b[0;34m.\u001b[0m\u001b[0mglobal_phase\u001b[0m\u001b[0;34m\u001b[0m\u001b[0;34m\u001b[0m\u001b[0m\n",
      "\u001b[0m\n",
      "ipdb> c\n",
      "> \u001b[0;32m/home/paltenmo/.conda/envs/ML4Quantum/lib/python3.8/site-packages/qiskit/quantum_info/synthesis/two_qubit_decompose.py\u001b[0m(1112)\u001b[0;36m<listcomp>\u001b[0;34m()\u001b[0m\n",
      "\u001b[0;32m   1110 \u001b[0;31m        \u001b[0;31m# do default decomposition\u001b[0m\u001b[0;34m\u001b[0m\u001b[0;34m\u001b[0m\u001b[0;34m\u001b[0m\u001b[0m\n",
      "\u001b[0m\u001b[0;32m   1111 \u001b[0;31m        \u001b[0mq\u001b[0m \u001b[0;34m=\u001b[0m \u001b[0mQuantumRegister\u001b[0m\u001b[0;34m(\u001b[0m\u001b[0;36m2\u001b[0m\u001b[0;34m)\u001b[0m\u001b[0;34m\u001b[0m\u001b[0;34m\u001b[0m\u001b[0m\n",
      "\u001b[0m\u001b[1;31m1\u001b[0;32m> 1112 \u001b[0;31m        \u001b[0mdecomposition_euler\u001b[0m \u001b[0;34m=\u001b[0m \u001b[0;34m[\u001b[0m\u001b[0mself\u001b[0m\u001b[0;34m.\u001b[0m\u001b[0m_decomposer1q\u001b[0m\u001b[0;34m.\u001b[0m\u001b[0m_decompose\u001b[0m\u001b[0;34m(\u001b[0m\u001b[0mx\u001b[0m\u001b[0;34m)\u001b[0m \u001b[0;32mfor\u001b[0m \u001b[0mx\u001b[0m \u001b[0;32min\u001b[0m \u001b[0mdecomposition\u001b[0m\u001b[0;34m]\u001b[0m\u001b[0;34m\u001b[0m\u001b[0;34m\u001b[0m\u001b[0m\n",
      "\u001b[0m\u001b[1;31m2\u001b[0;32m  1113 \u001b[0;31m        \u001b[0mreturn_circuit\u001b[0m \u001b[0;34m=\u001b[0m \u001b[0mQuantumCircuit\u001b[0m\u001b[0;34m(\u001b[0m\u001b[0mq\u001b[0m\u001b[0;34m)\u001b[0m\u001b[0;34m\u001b[0m\u001b[0;34m\u001b[0m\u001b[0m\n",
      "\u001b[0m\u001b[0;32m   1114 \u001b[0;31m        \u001b[0mreturn_circuit\u001b[0m\u001b[0;34m.\u001b[0m\u001b[0mglobal_phase\u001b[0m \u001b[0;34m=\u001b[0m \u001b[0mtarget_decomposed\u001b[0m\u001b[0;34m.\u001b[0m\u001b[0mglobal_phase\u001b[0m\u001b[0;34m\u001b[0m\u001b[0;34m\u001b[0m\u001b[0m\n",
      "\u001b[0m\n",
      "ipdb> c\n",
      "> \u001b[0;32m/home/paltenmo/.conda/envs/ML4Quantum/lib/python3.8/site-packages/qiskit/quantum_info/synthesis/two_qubit_decompose.py\u001b[0m(1112)\u001b[0;36m<listcomp>\u001b[0;34m()\u001b[0m\n",
      "\u001b[0;32m   1110 \u001b[0;31m        \u001b[0;31m# do default decomposition\u001b[0m\u001b[0;34m\u001b[0m\u001b[0;34m\u001b[0m\u001b[0;34m\u001b[0m\u001b[0m\n",
      "\u001b[0m\u001b[0;32m   1111 \u001b[0;31m        \u001b[0mq\u001b[0m \u001b[0;34m=\u001b[0m \u001b[0mQuantumRegister\u001b[0m\u001b[0;34m(\u001b[0m\u001b[0;36m2\u001b[0m\u001b[0;34m)\u001b[0m\u001b[0;34m\u001b[0m\u001b[0;34m\u001b[0m\u001b[0m\n",
      "\u001b[0m\u001b[1;31m1\u001b[0;32m> 1112 \u001b[0;31m        \u001b[0mdecomposition_euler\u001b[0m \u001b[0;34m=\u001b[0m \u001b[0;34m[\u001b[0m\u001b[0mself\u001b[0m\u001b[0;34m.\u001b[0m\u001b[0m_decomposer1q\u001b[0m\u001b[0;34m.\u001b[0m\u001b[0m_decompose\u001b[0m\u001b[0;34m(\u001b[0m\u001b[0mx\u001b[0m\u001b[0;34m)\u001b[0m \u001b[0;32mfor\u001b[0m \u001b[0mx\u001b[0m \u001b[0;32min\u001b[0m \u001b[0mdecomposition\u001b[0m\u001b[0;34m]\u001b[0m\u001b[0;34m\u001b[0m\u001b[0;34m\u001b[0m\u001b[0m\n",
      "\u001b[0m\u001b[1;31m2\u001b[0;32m  1113 \u001b[0;31m        \u001b[0mreturn_circuit\u001b[0m \u001b[0;34m=\u001b[0m \u001b[0mQuantumCircuit\u001b[0m\u001b[0;34m(\u001b[0m\u001b[0mq\u001b[0m\u001b[0;34m)\u001b[0m\u001b[0;34m\u001b[0m\u001b[0;34m\u001b[0m\u001b[0m\n",
      "\u001b[0m\u001b[0;32m   1114 \u001b[0;31m        \u001b[0mreturn_circuit\u001b[0m\u001b[0;34m.\u001b[0m\u001b[0mglobal_phase\u001b[0m \u001b[0;34m=\u001b[0m \u001b[0mtarget_decomposed\u001b[0m\u001b[0;34m.\u001b[0m\u001b[0mglobal_phase\u001b[0m\u001b[0;34m\u001b[0m\u001b[0;34m\u001b[0m\u001b[0m\n",
      "\u001b[0m\n",
      "ipdb> c\n",
      "> \u001b[0;32m/home/paltenmo/.conda/envs/ML4Quantum/lib/python3.8/site-packages/qiskit/quantum_info/synthesis/two_qubit_decompose.py\u001b[0m(1112)\u001b[0;36m<listcomp>\u001b[0;34m()\u001b[0m\n",
      "\u001b[0;32m   1110 \u001b[0;31m        \u001b[0;31m# do default decomposition\u001b[0m\u001b[0;34m\u001b[0m\u001b[0;34m\u001b[0m\u001b[0;34m\u001b[0m\u001b[0m\n",
      "\u001b[0m\u001b[0;32m   1111 \u001b[0;31m        \u001b[0mq\u001b[0m \u001b[0;34m=\u001b[0m \u001b[0mQuantumRegister\u001b[0m\u001b[0;34m(\u001b[0m\u001b[0;36m2\u001b[0m\u001b[0;34m)\u001b[0m\u001b[0;34m\u001b[0m\u001b[0;34m\u001b[0m\u001b[0m\n",
      "\u001b[0m\u001b[1;31m1\u001b[0;32m> 1112 \u001b[0;31m        \u001b[0mdecomposition_euler\u001b[0m \u001b[0;34m=\u001b[0m \u001b[0;34m[\u001b[0m\u001b[0mself\u001b[0m\u001b[0;34m.\u001b[0m\u001b[0m_decomposer1q\u001b[0m\u001b[0;34m.\u001b[0m\u001b[0m_decompose\u001b[0m\u001b[0;34m(\u001b[0m\u001b[0mx\u001b[0m\u001b[0;34m)\u001b[0m \u001b[0;32mfor\u001b[0m \u001b[0mx\u001b[0m \u001b[0;32min\u001b[0m \u001b[0mdecomposition\u001b[0m\u001b[0;34m]\u001b[0m\u001b[0;34m\u001b[0m\u001b[0;34m\u001b[0m\u001b[0m\n",
      "\u001b[0m\u001b[1;31m2\u001b[0;32m  1113 \u001b[0;31m        \u001b[0mreturn_circuit\u001b[0m \u001b[0;34m=\u001b[0m \u001b[0mQuantumCircuit\u001b[0m\u001b[0;34m(\u001b[0m\u001b[0mq\u001b[0m\u001b[0;34m)\u001b[0m\u001b[0;34m\u001b[0m\u001b[0;34m\u001b[0m\u001b[0m\n",
      "\u001b[0m\u001b[0;32m   1114 \u001b[0;31m        \u001b[0mreturn_circuit\u001b[0m\u001b[0;34m.\u001b[0m\u001b[0mglobal_phase\u001b[0m \u001b[0;34m=\u001b[0m \u001b[0mtarget_decomposed\u001b[0m\u001b[0;34m.\u001b[0m\u001b[0mglobal_phase\u001b[0m\u001b[0;34m\u001b[0m\u001b[0;34m\u001b[0m\u001b[0m\n",
      "\u001b[0m\n",
      "ipdb> c\n",
      "> \u001b[0;32m/home/paltenmo/.conda/envs/ML4Quantum/lib/python3.8/site-packages/qiskit/quantum_info/synthesis/two_qubit_decompose.py\u001b[0m(1112)\u001b[0;36m<listcomp>\u001b[0;34m()\u001b[0m\n",
      "\u001b[0;32m   1110 \u001b[0;31m        \u001b[0;31m# do default decomposition\u001b[0m\u001b[0;34m\u001b[0m\u001b[0;34m\u001b[0m\u001b[0;34m\u001b[0m\u001b[0m\n",
      "\u001b[0m\u001b[0;32m   1111 \u001b[0;31m        \u001b[0mq\u001b[0m \u001b[0;34m=\u001b[0m \u001b[0mQuantumRegister\u001b[0m\u001b[0;34m(\u001b[0m\u001b[0;36m2\u001b[0m\u001b[0;34m)\u001b[0m\u001b[0;34m\u001b[0m\u001b[0;34m\u001b[0m\u001b[0m\n",
      "\u001b[0m\u001b[1;31m1\u001b[0;32m> 1112 \u001b[0;31m        \u001b[0mdecomposition_euler\u001b[0m \u001b[0;34m=\u001b[0m \u001b[0;34m[\u001b[0m\u001b[0mself\u001b[0m\u001b[0;34m.\u001b[0m\u001b[0m_decomposer1q\u001b[0m\u001b[0;34m.\u001b[0m\u001b[0m_decompose\u001b[0m\u001b[0;34m(\u001b[0m\u001b[0mx\u001b[0m\u001b[0;34m)\u001b[0m \u001b[0;32mfor\u001b[0m \u001b[0mx\u001b[0m \u001b[0;32min\u001b[0m \u001b[0mdecomposition\u001b[0m\u001b[0;34m]\u001b[0m\u001b[0;34m\u001b[0m\u001b[0;34m\u001b[0m\u001b[0m\n",
      "\u001b[0m\u001b[1;31m2\u001b[0;32m  1113 \u001b[0;31m        \u001b[0mreturn_circuit\u001b[0m \u001b[0;34m=\u001b[0m \u001b[0mQuantumCircuit\u001b[0m\u001b[0;34m(\u001b[0m\u001b[0mq\u001b[0m\u001b[0;34m)\u001b[0m\u001b[0;34m\u001b[0m\u001b[0;34m\u001b[0m\u001b[0m\n",
      "\u001b[0m\u001b[0;32m   1114 \u001b[0;31m        \u001b[0mreturn_circuit\u001b[0m\u001b[0;34m.\u001b[0m\u001b[0mglobal_phase\u001b[0m \u001b[0;34m=\u001b[0m \u001b[0mtarget_decomposed\u001b[0m\u001b[0;34m.\u001b[0m\u001b[0mglobal_phase\u001b[0m\u001b[0;34m\u001b[0m\u001b[0;34m\u001b[0m\u001b[0m\n",
      "\u001b[0m\n",
      "ipdb> c\n",
      "> \u001b[0;32m/home/paltenmo/.conda/envs/ML4Quantum/lib/python3.8/site-packages/qiskit/quantum_info/synthesis/two_qubit_decompose.py\u001b[0m(1112)\u001b[0;36m<listcomp>\u001b[0;34m()\u001b[0m\n",
      "\u001b[0;32m   1110 \u001b[0;31m        \u001b[0;31m# do default decomposition\u001b[0m\u001b[0;34m\u001b[0m\u001b[0;34m\u001b[0m\u001b[0;34m\u001b[0m\u001b[0m\n",
      "\u001b[0m\u001b[0;32m   1111 \u001b[0;31m        \u001b[0mq\u001b[0m \u001b[0;34m=\u001b[0m \u001b[0mQuantumRegister\u001b[0m\u001b[0;34m(\u001b[0m\u001b[0;36m2\u001b[0m\u001b[0;34m)\u001b[0m\u001b[0;34m\u001b[0m\u001b[0;34m\u001b[0m\u001b[0m\n",
      "\u001b[0m\u001b[1;31m1\u001b[0;32m> 1112 \u001b[0;31m        \u001b[0mdecomposition_euler\u001b[0m \u001b[0;34m=\u001b[0m \u001b[0;34m[\u001b[0m\u001b[0mself\u001b[0m\u001b[0;34m.\u001b[0m\u001b[0m_decomposer1q\u001b[0m\u001b[0;34m.\u001b[0m\u001b[0m_decompose\u001b[0m\u001b[0;34m(\u001b[0m\u001b[0mx\u001b[0m\u001b[0;34m)\u001b[0m \u001b[0;32mfor\u001b[0m \u001b[0mx\u001b[0m \u001b[0;32min\u001b[0m \u001b[0mdecomposition\u001b[0m\u001b[0;34m]\u001b[0m\u001b[0;34m\u001b[0m\u001b[0;34m\u001b[0m\u001b[0m\n",
      "\u001b[0m\u001b[1;31m2\u001b[0;32m  1113 \u001b[0;31m        \u001b[0mreturn_circuit\u001b[0m \u001b[0;34m=\u001b[0m \u001b[0mQuantumCircuit\u001b[0m\u001b[0;34m(\u001b[0m\u001b[0mq\u001b[0m\u001b[0;34m)\u001b[0m\u001b[0;34m\u001b[0m\u001b[0;34m\u001b[0m\u001b[0m\n",
      "\u001b[0m\u001b[0;32m   1114 \u001b[0;31m        \u001b[0mreturn_circuit\u001b[0m\u001b[0;34m.\u001b[0m\u001b[0mglobal_phase\u001b[0m \u001b[0;34m=\u001b[0m \u001b[0mtarget_decomposed\u001b[0m\u001b[0;34m.\u001b[0m\u001b[0mglobal_phase\u001b[0m\u001b[0;34m\u001b[0m\u001b[0;34m\u001b[0m\u001b[0m\n",
      "\u001b[0m\n",
      "ipdb> c\n",
      "> \u001b[0;32m/home/paltenmo/.conda/envs/ML4Quantum/lib/python3.8/site-packages/qiskit/quantum_info/synthesis/two_qubit_decompose.py\u001b[0m(1113)\u001b[0;36m__call__\u001b[0;34m()\u001b[0m\n",
      "\u001b[0;32m   1111 \u001b[0;31m        \u001b[0mq\u001b[0m \u001b[0;34m=\u001b[0m \u001b[0mQuantumRegister\u001b[0m\u001b[0;34m(\u001b[0m\u001b[0;36m2\u001b[0m\u001b[0;34m)\u001b[0m\u001b[0;34m\u001b[0m\u001b[0;34m\u001b[0m\u001b[0m\n",
      "\u001b[0m\u001b[1;31m1\u001b[0;32m  1112 \u001b[0;31m        \u001b[0mdecomposition_euler\u001b[0m \u001b[0;34m=\u001b[0m \u001b[0;34m[\u001b[0m\u001b[0mself\u001b[0m\u001b[0;34m.\u001b[0m\u001b[0m_decomposer1q\u001b[0m\u001b[0;34m.\u001b[0m\u001b[0m_decompose\u001b[0m\u001b[0;34m(\u001b[0m\u001b[0mx\u001b[0m\u001b[0;34m)\u001b[0m \u001b[0;32mfor\u001b[0m \u001b[0mx\u001b[0m \u001b[0;32min\u001b[0m \u001b[0mdecomposition\u001b[0m\u001b[0;34m]\u001b[0m\u001b[0;34m\u001b[0m\u001b[0;34m\u001b[0m\u001b[0m\n",
      "\u001b[0m\u001b[1;31m2\u001b[0;32m> 1113 \u001b[0;31m        \u001b[0mreturn_circuit\u001b[0m \u001b[0;34m=\u001b[0m \u001b[0mQuantumCircuit\u001b[0m\u001b[0;34m(\u001b[0m\u001b[0mq\u001b[0m\u001b[0;34m)\u001b[0m\u001b[0;34m\u001b[0m\u001b[0;34m\u001b[0m\u001b[0m\n",
      "\u001b[0m\u001b[0;32m   1114 \u001b[0;31m        \u001b[0mreturn_circuit\u001b[0m\u001b[0;34m.\u001b[0m\u001b[0mglobal_phase\u001b[0m \u001b[0;34m=\u001b[0m \u001b[0mtarget_decomposed\u001b[0m\u001b[0;34m.\u001b[0m\u001b[0mglobal_phase\u001b[0m\u001b[0;34m\u001b[0m\u001b[0;34m\u001b[0m\u001b[0m\n",
      "\u001b[0m\u001b[0;32m   1115 \u001b[0;31m        \u001b[0mreturn_circuit\u001b[0m\u001b[0;34m.\u001b[0m\u001b[0mglobal_phase\u001b[0m \u001b[0;34m-=\u001b[0m \u001b[0mbest_nbasis\u001b[0m \u001b[0;34m*\u001b[0m \u001b[0mself\u001b[0m\u001b[0;34m.\u001b[0m\u001b[0mbasis\u001b[0m\u001b[0;34m.\u001b[0m\u001b[0mglobal_phase\u001b[0m\u001b[0;34m\u001b[0m\u001b[0;34m\u001b[0m\u001b[0m\n",
      "\u001b[0m\n"
     ]
    },
    {
     "name": "stdout",
     "output_type": "stream",
     "text": [
      "ipdb> c\n",
      "> \u001b[0;32m/home/paltenmo/.conda/envs/ML4Quantum/lib/python3.8/site-packages/qiskit/quantum_info/synthesis/two_qubit_decompose.py\u001b[0m(1124)\u001b[0;36m__call__\u001b[0;34m()\u001b[0m\n",
      "\u001b[0;32m   1122 \u001b[0;31m        \u001b[0mreturn_circuit\u001b[0m\u001b[0;34m.\u001b[0m\u001b[0mcompose\u001b[0m\u001b[0;34m(\u001b[0m\u001b[0mdecomposition_euler\u001b[0m\u001b[0;34m[\u001b[0m\u001b[0;36m2\u001b[0m \u001b[0;34m*\u001b[0m \u001b[0mbest_nbasis\u001b[0m\u001b[0;34m]\u001b[0m\u001b[0;34m,\u001b[0m \u001b[0;34m[\u001b[0m\u001b[0mq\u001b[0m\u001b[0;34m[\u001b[0m\u001b[0;36m0\u001b[0m\u001b[0;34m]\u001b[0m\u001b[0;34m]\u001b[0m\u001b[0;34m,\u001b[0m \u001b[0minplace\u001b[0m\u001b[0;34m=\u001b[0m\u001b[0;32mTrue\u001b[0m\u001b[0;34m)\u001b[0m\u001b[0;34m\u001b[0m\u001b[0;34m\u001b[0m\u001b[0m\n",
      "\u001b[0m\u001b[0;32m   1123 \u001b[0;31m        \u001b[0mreturn_circuit\u001b[0m\u001b[0;34m.\u001b[0m\u001b[0mcompose\u001b[0m\u001b[0;34m(\u001b[0m\u001b[0mdecomposition_euler\u001b[0m\u001b[0;34m[\u001b[0m\u001b[0;36m2\u001b[0m \u001b[0;34m*\u001b[0m \u001b[0mbest_nbasis\u001b[0m \u001b[0;34m+\u001b[0m \u001b[0;36m1\u001b[0m\u001b[0;34m]\u001b[0m\u001b[0;34m,\u001b[0m \u001b[0;34m[\u001b[0m\u001b[0mq\u001b[0m\u001b[0;34m[\u001b[0m\u001b[0;36m1\u001b[0m\u001b[0;34m]\u001b[0m\u001b[0;34m]\u001b[0m\u001b[0;34m,\u001b[0m \u001b[0minplace\u001b[0m\u001b[0;34m=\u001b[0m\u001b[0;32mTrue\u001b[0m\u001b[0;34m)\u001b[0m\u001b[0;34m\u001b[0m\u001b[0;34m\u001b[0m\u001b[0m\n",
      "\u001b[0m\u001b[1;31m3\u001b[0;32m> 1124 \u001b[0;31m        \u001b[0;32mreturn\u001b[0m \u001b[0mreturn_circuit\u001b[0m\u001b[0;34m\u001b[0m\u001b[0;34m\u001b[0m\u001b[0m\n",
      "\u001b[0m\u001b[0;32m   1125 \u001b[0;31m\u001b[0;34m\u001b[0m\u001b[0m\n",
      "\u001b[0m\u001b[0;32m   1126 \u001b[0;31m    \u001b[0;32mdef\u001b[0m \u001b[0m_pulse_optimal_chooser\u001b[0m\u001b[0;34m(\u001b[0m\u001b[0mself\u001b[0m\u001b[0;34m,\u001b[0m \u001b[0mbest_nbasis\u001b[0m\u001b[0;34m,\u001b[0m \u001b[0mdecomposition\u001b[0m\u001b[0;34m,\u001b[0m \u001b[0mtarget_decomposed\u001b[0m\u001b[0;34m)\u001b[0m\u001b[0;34m:\u001b[0m\u001b[0;34m\u001b[0m\u001b[0;34m\u001b[0m\u001b[0m\n",
      "\u001b[0m\n",
      "ipdb> c\n"
     ]
    },
    {
     "data": {
      "text/plain": [
       "'OPENQASM 2.0;\\ninclude \"qelib1.inc\";\\ngate unitary140594925951392 p0,p1 {\\n\\tu3(pi/4,-pi/2,-pi) p0;\\n\\tcx p1,p0;\\n\\tu3(pi/2,-pi/4,pi/2) p1;\\n\\tu3(pi/4,0,-pi/2) p0;\\n}\\ngate unitary140599222337440 p0,p1 {\\n\\tu3(pi,-2.8126403,0.32895233) p0;\\n\\tu3(pi/2,-pi,-3*pi/4) p1;\\n\\tcx p0,p1;\\n\\tu3(pi/2,3*pi/4,0) p0;\\n\\tu3(pi/2,3*pi/4,0) p1;\\n}\\nqreg qr[8];\\ncreg cr[8];\\nunitary140594925951392 qr[1],qr[2];\\ncx qr[3],qr[1];\\nt qr[1];\\ncx qr[2],qr[1];\\ntdg qr[1];\\nt qr[2];\\ncx qr[3],qr[1];\\nt qr[1];\\nh qr[1];\\ncx qr[3],qr[2];\\ntdg qr[2];\\nt qr[3];\\ncx qr[3],qr[2];\\nunitary140599222337440 qr[1],qr[2];\\ncx qr[3],qr[1];\\nt qr[1];\\ncx qr[2],qr[1];\\ntdg qr[1];\\nt qr[2];\\ncx qr[3],qr[1];\\nt qr[1];\\nh qr[1];\\ncx qr[3],qr[2];\\ntdg qr[2];\\nt qr[3];\\ncx qr[3],qr[2];\\ncx qr[1],qr[2];\\nmeasure qr[0] -> cr[0];\\nmeasure qr[1] -> cr[1];\\nmeasure qr[2] -> cr[2];\\nmeasure qr[3] -> cr[3];\\nmeasure qr[4] -> cr[4];\\nmeasure qr[5] -> cr[5];\\nmeasure qr[6] -> cr[6];\\nmeasure qr[7] -> cr[7];\\n'"
      ]
     },
     "execution_count": 26,
     "metadata": {},
     "output_type": "execute_result"
    }
   ],
   "source": [
    "# BUGGY EXECUTION"
   ]
  },
  {
   "cell_type": "code",
   "execution_count": null,
   "metadata": {},
   "outputs": [],
   "source": []
  },
  {
   "cell_type": "code",
   "execution_count": 19,
   "metadata": {
    "ExecuteTime": {
     "end_time": "2022-06-29T14:57:35.691005Z",
     "start_time": "2022-06-29T14:57:35.682042Z"
    }
   },
   "outputs": [
    {
     "data": {
      "text/plain": [
       "array([[ 0.70710678+0.j ,  0.        +0.j ,  0.        +0.j ,\n",
       "         0.70710678+0.j ],\n",
       "       [ 0.5       -0.5j,  0.        +0.j ,  0.        +0.j ,\n",
       "        -0.5       +0.5j],\n",
       "       [ 0.        +0.j , -0.70710678+0.j ,  0.70710678+0.j ,\n",
       "         0.        +0.j ],\n",
       "       [ 0.        +0.j ,  0.5       -0.5j,  0.5       -0.5j,\n",
       "         0.        +0.j ]])"
      ]
     },
     "execution_count": 19,
     "metadata": {},
     "output_type": "execute_result"
    }
   ],
   "source": [
    "first_matrix = qc._data[0][0]._params[0]\n",
    "first_matrix"
   ]
  },
  {
   "cell_type": "code",
   "execution_count": 22,
   "metadata": {
    "ExecuteTime": {
     "end_time": "2022-06-29T14:58:53.509289Z",
     "start_time": "2022-06-29T14:58:53.500682Z"
    }
   },
   "outputs": [
    {
     "data": {
      "text/plain": [
       "array([[ 0.70710678+0.j ,  0.70710678+0.j ,  0.        +0.j ,\n",
       "         0.        +0.j ],\n",
       "       [ 0.5       -0.5j, -0.5       +0.5j,  0.        +0.j ,\n",
       "         0.        +0.j ],\n",
       "       [ 0.        +0.j ,  0.        +0.j ,  0.70710678+0.j ,\n",
       "        -0.70710678+0.j ],\n",
       "       [ 0.        +0.j ,  0.        +0.j ,  0.5       -0.5j,\n",
       "         0.5       -0.5j]])"
      ]
     },
     "execution_count": 22,
     "metadata": {},
     "output_type": "execute_result"
    }
   ],
   "source": [
    "second_matrix = qc._data[13][0]._params[0]\n",
    "second_matrix"
   ]
  },
  {
   "cell_type": "code",
   "execution_count": 15,
   "metadata": {
    "ExecuteTime": {
     "end_time": "2022-06-29T13:52:37.940192Z",
     "start_time": "2022-06-29T13:52:37.708548Z"
    }
   },
   "outputs": [
    {
     "name": "stdout",
     "output_type": "stream",
     "text": [
      "OPENQASM 2.0;\n",
      "include \"qelib1.inc\";\n",
      "gate unitary140594307274832 p0,p1 {\n",
      "\tu3(pi/4,-pi/2,-pi) p0;\n",
      "\tcx p1,p0;\n",
      "\tu3(pi/2,-pi/4,pi/2) p1;\n",
      "\tu3(pi/4,0,-pi/2) p0;\n",
      "}\n",
      "gate unitary140594310642704 p0,p1 {\n",
      "\tu3(pi,-2.8126403,0.32895233) p0;\n",
      "\tu3(pi/2,-pi,-3*pi/4) p1;\n",
      "\tcx p0,p1;\n",
      "\tu3(pi/2,3*pi/4,0) p0;\n",
      "\tu3(pi/2,3*pi/4,0) p1;\n",
      "}\n",
      "qreg qr[8];\n",
      "creg cr[8];\n",
      "unitary140594307274832 qr[1],qr[2];\n",
      "cx qr[3],qr[1];\n",
      "t qr[1];\n",
      "cx qr[2],qr[1];\n",
      "tdg qr[1];\n",
      "t qr[2];\n",
      "cx qr[3],qr[1];\n",
      "t qr[1];\n",
      "h qr[1];\n",
      "cx qr[3],qr[2];\n",
      "tdg qr[2];\n",
      "t qr[3];\n",
      "cx qr[3],qr[2];\n",
      "unitary140594310642704 qr[1],qr[2];\n",
      "cx qr[3],qr[1];\n",
      "t qr[1];\n",
      "cx qr[2],qr[1];\n",
      "tdg qr[1];\n",
      "t qr[2];\n",
      "cx qr[3],qr[1];\n",
      "t qr[1];\n",
      "h qr[1];\n",
      "cx qr[3],qr[2];\n",
      "tdg qr[2];\n",
      "t qr[3];\n",
      "cx qr[3],qr[2];\n",
      "cx qr[1],qr[2];\n",
      "measure qr[0] -> cr[0];\n",
      "measure qr[1] -> cr[1];\n",
      "measure qr[2] -> cr[2];\n",
      "measure qr[3] -> cr[3];\n",
      "measure qr[4] -> cr[4];\n",
      "measure qr[5] -> cr[5];\n",
      "measure qr[6] -> cr[6];\n",
      "measure qr[7] -> cr[7];\n",
      "\n",
      "{'00000100': 718, '00000110': 708, '00000010': 694, '00000000': 651}\n"
     ]
    }
   ],
   "source": [
    "# SECTION\n",
    "# NAME: PROLOGUE\n",
    "\n",
    "import qiskit\n",
    "from qiskit import QuantumCircuit, ClassicalRegister, QuantumRegister\n",
    "from qiskit.circuit.library.standard_gates import *\n",
    "from qiskit.circuit import Parameter\n",
    "\n",
    "# SECTION\n",
    "# NAME: CIRCUIT\n",
    "\n",
    "qr = QuantumRegister(8, name='qr')\n",
    "cr = ClassicalRegister(8, name='cr')\n",
    "qc = QuantumCircuit(qr, cr, name='qc')\n",
    "\n",
    "\n",
    "# SECTION\n",
    "# NAME: MEASUREMENT\n",
    "\n",
    "qc.append(CSwapGate(), qargs=[qr[3], qr[2], qr[1]], cargs=[])\n",
    "qc.append(CSwapGate(), qargs=[qr[3], qr[2], qr[1]], cargs=[])\n",
    "qc.measure(qr, cr)\n",
    "\n",
    "# SECTION\n",
    "# NAME: OPTIMIZATION_LEVEL\n",
    "\n",
    "from qiskit import transpile\n",
    "qc = transpile(qc, basis_gates=None, optimization_level=3, coupling_map=None)\n",
    "\n",
    "qc_decomposed = qc#.decompose()\n",
    "my_qasm = qc_decomposed.qasm()\n",
    "qc = QuantumCircuit.from_qasm_str(my_qasm)\n",
    "print(my_qasm)\n",
    "\n",
    "from qiskit import Aer, transpile, execute\n",
    "backend_8dfab384f53945fab40deaf20a4011b1 = Aer.get_backend('qasm_simulator', max_parallel_threads=1)\n",
    "counts_failing = execute(qc, backend=backend_8dfab384f53945fab40deaf20a4011b1, max_parallel_threads=1, shots=2771).result().get_counts(qc)\n",
    "print(counts_failing)"
   ]
  },
  {
   "cell_type": "code",
   "execution_count": 196,
   "metadata": {
    "ExecuteTime": {
     "end_time": "2022-06-29T13:17:55.621847Z",
     "start_time": "2022-06-29T13:17:55.589494Z"
    }
   },
   "outputs": [
    {
     "data": {
      "text/html": [
       "<pre style=\"word-wrap: normal;white-space: pre;background: #fff0;line-height: 1.1;font-family: &quot;Courier New&quot;,Courier,monospace\">                  ┌─┐                                                                                                               \n",
       "qr_0: ────────────┤M├───────────────────────────────────────────────────────────────────────────────────────────────────────────────\n",
       "      ┌──────────┐└╥┘┌───┐┌───┐┌───┐┌─────┐┌───┐┌───┐ ┌───┐      ┌──────────┐┌───┐┌───┐┌───┐┌─────┐┌───┐┌───┐ ┌───┐           ┌─┐   \n",
       "qr_1: ┤0         ├─╫─┤ X ├┤ T ├┤ X ├┤ Tdg ├┤ X ├┤ T ├─┤ H ├──────┤0         ├┤ X ├┤ T ├┤ X ├┤ Tdg ├┤ X ├┤ T ├─┤ H ├────────■──┤M├───\n",
       "      │  Unitary │ ║ └─┬─┘└───┘└─┬─┘└┬───┬┘└─┬─┘├───┤┌┴───┴┐┌───┐│  Unitary │└─┬─┘└───┘└─┬─┘└┬───┬┘└─┬─┘├───┤┌┴───┴┐┌───┐┌─┴─┐└╥┘┌─┐\n",
       "qr_2: ┤1         ├─╫───┼─────────■───┤ T ├───┼──┤ X ├┤ Tdg ├┤ X ├┤1         ├──┼─────────■───┤ T ├───┼──┤ X ├┤ Tdg ├┤ X ├┤ X ├─╫─┤M├\n",
       "      └──────────┘ ║   │             └───┘   │  └─┬─┘└┬───┬┘└─┬─┘└──────────┘  │             └───┘   │  └─┬─┘└┬───┬┘└─┬─┘└┬─┬┘ ║ └╥┘\n",
       "qr_3: ─────────────╫───■─────────────────────■────■───┤ T ├───■────────────────■─────────────────────■────■───┤ T ├───■───┤M├──╫──╫─\n",
       "          ┌─┐      ║                                  └───┘                                                   └───┘       └╥┘  ║  ║ \n",
       "qr_4: ────┤M├──────╫───────────────────────────────────────────────────────────────────────────────────────────────────────╫───╫──╫─\n",
       "          └╥┘      ║  ┌─┐                                                                                                  ║   ║  ║ \n",
       "qr_5: ─────╫───────╫──┤M├──────────────────────────────────────────────────────────────────────────────────────────────────╫───╫──╫─\n",
       "           ║       ║  └╥┘  ┌─┐                                                                                             ║   ║  ║ \n",
       "qr_6: ─────╫───────╫───╫───┤M├─────────────────────────────────────────────────────────────────────────────────────────────╫───╫──╫─\n",
       "           ║       ║   ║   └╥┘  ┌─┐                                                                                        ║   ║  ║ \n",
       "qr_7: ─────╫───────╫───╫────╫───┤M├────────────────────────────────────────────────────────────────────────────────────────╫───╫──╫─\n",
       "           ║       ║   ║    ║   └╥┘                                                                                        ║   ║  ║ \n",
       "cr: 8/═════╩═══════╩═══╩════╩════╩═════════════════════════════════════════════════════════════════════════════════════════╩═══╩══╩═\n",
       "           4       0   5    6    7                                                                                         3   1  2 </pre>"
      ],
      "text/plain": [
       "                  ┌─┐                                                                                                               \n",
       "qr_0: ────────────┤M├───────────────────────────────────────────────────────────────────────────────────────────────────────────────\n",
       "      ┌──────────┐└╥┘┌───┐┌───┐┌───┐┌─────┐┌───┐┌───┐ ┌───┐      ┌──────────┐┌───┐┌───┐┌───┐┌─────┐┌───┐┌───┐ ┌───┐           ┌─┐   \n",
       "qr_1: ┤0         ├─╫─┤ X ├┤ T ├┤ X ├┤ Tdg ├┤ X ├┤ T ├─┤ H ├──────┤0         ├┤ X ├┤ T ├┤ X ├┤ Tdg ├┤ X ├┤ T ├─┤ H ├────────■──┤M├───\n",
       "      │  Unitary │ ║ └─┬─┘└───┘└─┬─┘└┬───┬┘└─┬─┘├───┤┌┴───┴┐┌───┐│  Unitary │└─┬─┘└───┘└─┬─┘└┬───┬┘└─┬─┘├───┤┌┴───┴┐┌───┐┌─┴─┐└╥┘┌─┐\n",
       "qr_2: ┤1         ├─╫───┼─────────■───┤ T ├───┼──┤ X ├┤ Tdg ├┤ X ├┤1         ├──┼─────────■───┤ T ├───┼──┤ X ├┤ Tdg ├┤ X ├┤ X ├─╫─┤M├\n",
       "      └──────────┘ ║   │             └───┘   │  └─┬─┘└┬───┬┘└─┬─┘└──────────┘  │             └───┘   │  └─┬─┘└┬───┬┘└─┬─┘└┬─┬┘ ║ └╥┘\n",
       "qr_3: ─────────────╫───■─────────────────────■────■───┤ T ├───■────────────────■─────────────────────■────■───┤ T ├───■───┤M├──╫──╫─\n",
       "          ┌─┐      ║                                  └───┘                                                   └───┘       └╥┘  ║  ║ \n",
       "qr_4: ────┤M├──────╫───────────────────────────────────────────────────────────────────────────────────────────────────────╫───╫──╫─\n",
       "          └╥┘      ║  ┌─┐                                                                                                  ║   ║  ║ \n",
       "qr_5: ─────╫───────╫──┤M├──────────────────────────────────────────────────────────────────────────────────────────────────╫───╫──╫─\n",
       "           ║       ║  └╥┘  ┌─┐                                                                                             ║   ║  ║ \n",
       "qr_6: ─────╫───────╫───╫───┤M├─────────────────────────────────────────────────────────────────────────────────────────────╫───╫──╫─\n",
       "           ║       ║   ║   └╥┘  ┌─┐                                                                                        ║   ║  ║ \n",
       "qr_7: ─────╫───────╫───╫────╫───┤M├────────────────────────────────────────────────────────────────────────────────────────╫───╫──╫─\n",
       "           ║       ║   ║    ║   └╥┘                                                                                        ║   ║  ║ \n",
       "cr: 8/═════╩═══════╩═══╩════╩════╩═════════════════════════════════════════════════════════════════════════════════════════╩═══╩══╩═\n",
       "           4       0   5    6    7                                                                                         3   1  2 "
      ]
     },
     "execution_count": 196,
     "metadata": {},
     "output_type": "execute_result"
    }
   ],
   "source": [
    "qc.draw(fold=-1)"
   ]
  },
  {
   "cell_type": "code",
   "execution_count": 197,
   "metadata": {
    "ExecuteTime": {
     "end_time": "2022-06-29T13:18:08.684929Z",
     "start_time": "2022-06-29T13:18:08.632234Z"
    }
   },
   "outputs": [
    {
     "data": {
      "text/html": [
       "<pre style=\"word-wrap: normal;white-space: pre;background: #fff0;line-height: 1.1;font-family: &quot;Courier New&quot;,Courier,monospace\">global phase: 2.8126\n",
       "                         ┌─┐                                                                                                                                                                                                                                       \n",
       "qr_0: ───────────────────┤M├───────────────────────────────────────────────────────────────────────────────────────────────────────────────────────────────────────────────────────────────────────────────────────────────────────────────────────────────────────\n",
       "                         └╥┘     ┌──────────────────┐┌───┐┌─────────┐┌───┐┌──────────┐┌───┐┌─────────┐┌─────────┐ ┌───────────────────────┐                         ┌────────────────┐┌───┐┌─────────┐┌───┐┌──────────┐┌───┐┌─────────┐┌─────────┐           ┌─┐   \n",
       "qr_1: ────────────────────╫───■──┤ U3(π/2,-π/4,π/2) ├┤ X ├┤ U1(π/4) ├┤ X ├┤ U1(-π/4) ├┤ X ├┤ U1(π/4) ├┤ U2(0,π) ├─┤ U3(π,-2.8126,0.32895) ├──────────────────────■──┤ U3(π/2,3π/4,0) ├┤ X ├┤ U1(π/4) ├┤ X ├┤ U1(-π/4) ├┤ X ├┤ U1(π/4) ├┤ U2(0,π) ├────────■──┤M├───\n",
       "      ┌─────────────────┐ ║ ┌─┴─┐└┬────────────────┬┘└─┬─┘└─────────┘└─┬─┘├─────────┬┘└─┬─┘└──┬───┬──┘├─────────┴┐└─────────┬───┬─────────┘┌──────────────────┐┌─┴─┐├────────────────┤└─┬─┘└─────────┘└─┬─┘├─────────┬┘└─┬─┘└──┬───┬──┘├─────────┴┐┌───┐┌─┴─┐└╥┘┌─┐\n",
       "qr_2: ┤ U3(π/4,-π/2,-π) ├─╫─┤ X ├─┤ U3(π/4,0,-π/2) ├───┼───────────────■──┤ U1(π/4) ├───┼─────┤ X ├───┤ U1(-π/4) ├──────────┤ X ├──────────┤ U3(π/2,-π,-3π/4) ├┤ X ├┤ U3(π/2,3π/4,0) ├──┼───────────────■──┤ U1(π/4) ├───┼─────┤ X ├───┤ U1(-π/4) ├┤ X ├┤ X ├─╫─┤M├\n",
       "      └─────────────────┘ ║ └───┘ └────────────────┘   │                  └─────────┘   │     └─┬─┘   ├─────────┬┘          └─┬─┘          └──────────────────┘└───┘└────────────────┘  │                  └─────────┘   │     └─┬─┘   ├─────────┬┘└─┬─┘└┬─┬┘ ║ └╥┘\n",
       "qr_3: ────────────────────╫────────────────────────────■────────────────────────────────■───────■─────┤ U1(π/4) ├─────────────■─────────────────────────────────────────────────────────■────────────────────────────────■───────■─────┤ U1(π/4) ├───■───┤M├──╫──╫─\n",
       "              ┌─┐         ║                                                                           └─────────┘                                                                                                                      └─────────┘       └╥┘  ║  ║ \n",
       "qr_4: ────────┤M├─────────╫───────────────────────────────────────────────────────────────────────────────────────────────────────────────────────────────────────────────────────────────────────────────────────────────────────────────────────────────╫───╫──╫─\n",
       "              └╥┘         ║  ┌─┐                                                                                                                                                                                                                          ║   ║  ║ \n",
       "qr_5: ─────────╫──────────╫──┤M├──────────────────────────────────────────────────────────────────────────────────────────────────────────────────────────────────────────────────────────────────────────────────────────────────────────────────────────╫───╫──╫─\n",
       "               ║          ║  └╥┘         ┌─┐                                                                                                                                                                                                              ║   ║  ║ \n",
       "qr_6: ─────────╫──────────╫───╫──────────┤M├──────────────────────────────────────────────────────────────────────────────────────────────────────────────────────────────────────────────────────────────────────────────────────────────────────────────╫───╫──╫─\n",
       "               ║          ║   ║          └╥┘          ┌─┐                                                                                                                                                                                                 ║   ║  ║ \n",
       "qr_7: ─────────╫──────────╫───╫───────────╫───────────┤M├─────────────────────────────────────────────────────────────────────────────────────────────────────────────────────────────────────────────────────────────────────────────────────────────────╫───╫──╫─\n",
       "               ║          ║   ║           ║           └╥┘                                                                                                                                                                                                 ║   ║  ║ \n",
       "cr: 8/═════════╩══════════╩═══╩═══════════╩════════════╩══════════════════════════════════════════════════════════════════════════════════════════════════════════════════════════════════════════════════════════════════════════════════════════════════╩═══╩══╩═\n",
       "               4          0   5           6            7                                                                                                                                                                                                  3   1  2 </pre>"
      ],
      "text/plain": [
       "global phase: 2.8126\n",
       "                         ┌─┐                                                                                                                                                                                                                                       \n",
       "qr_0: ───────────────────┤M├───────────────────────────────────────────────────────────────────────────────────────────────────────────────────────────────────────────────────────────────────────────────────────────────────────────────────────────────────────\n",
       "                         └╥┘     ┌──────────────────┐┌───┐┌─────────┐┌───┐┌──────────┐┌───┐┌─────────┐┌─────────┐ ┌───────────────────────┐                         ┌────────────────┐┌───┐┌─────────┐┌───┐┌──────────┐┌───┐┌─────────┐┌─────────┐           ┌─┐   \n",
       "qr_1: ────────────────────╫───■──┤ U3(π/2,-π/4,π/2) ├┤ X ├┤ U1(π/4) ├┤ X ├┤ U1(-π/4) ├┤ X ├┤ U1(π/4) ├┤ U2(0,π) ├─┤ U3(π,-2.8126,0.32895) ├──────────────────────■──┤ U3(π/2,3π/4,0) ├┤ X ├┤ U1(π/4) ├┤ X ├┤ U1(-π/4) ├┤ X ├┤ U1(π/4) ├┤ U2(0,π) ├────────■──┤M├───\n",
       "      ┌─────────────────┐ ║ ┌─┴─┐└┬────────────────┬┘└─┬─┘└─────────┘└─┬─┘├─────────┬┘└─┬─┘└──┬───┬──┘├─────────┴┐└─────────┬───┬─────────┘┌──────────────────┐┌─┴─┐├────────────────┤└─┬─┘└─────────┘└─┬─┘├─────────┬┘└─┬─┘└──┬───┬──┘├─────────┴┐┌───┐┌─┴─┐└╥┘┌─┐\n",
       "qr_2: ┤ U3(π/4,-π/2,-π) ├─╫─┤ X ├─┤ U3(π/4,0,-π/2) ├───┼───────────────■──┤ U1(π/4) ├───┼─────┤ X ├───┤ U1(-π/4) ├──────────┤ X ├──────────┤ U3(π/2,-π,-3π/4) ├┤ X ├┤ U3(π/2,3π/4,0) ├──┼───────────────■──┤ U1(π/4) ├───┼─────┤ X ├───┤ U1(-π/4) ├┤ X ├┤ X ├─╫─┤M├\n",
       "      └─────────────────┘ ║ └───┘ └────────────────┘   │                  └─────────┘   │     └─┬─┘   ├─────────┬┘          └─┬─┘          └──────────────────┘└───┘└────────────────┘  │                  └─────────┘   │     └─┬─┘   ├─────────┬┘└─┬─┘└┬─┬┘ ║ └╥┘\n",
       "qr_3: ────────────────────╫────────────────────────────■────────────────────────────────■───────■─────┤ U1(π/4) ├─────────────■─────────────────────────────────────────────────────────■────────────────────────────────■───────■─────┤ U1(π/4) ├───■───┤M├──╫──╫─\n",
       "              ┌─┐         ║                                                                           └─────────┘                                                                                                                      └─────────┘       └╥┘  ║  ║ \n",
       "qr_4: ────────┤M├─────────╫───────────────────────────────────────────────────────────────────────────────────────────────────────────────────────────────────────────────────────────────────────────────────────────────────────────────────────────────╫───╫──╫─\n",
       "              └╥┘         ║  ┌─┐                                                                                                                                                                                                                          ║   ║  ║ \n",
       "qr_5: ─────────╫──────────╫──┤M├──────────────────────────────────────────────────────────────────────────────────────────────────────────────────────────────────────────────────────────────────────────────────────────────────────────────────────────╫───╫──╫─\n",
       "               ║          ║  └╥┘         ┌─┐                                                                                                                                                                                                              ║   ║  ║ \n",
       "qr_6: ─────────╫──────────╫───╫──────────┤M├──────────────────────────────────────────────────────────────────────────────────────────────────────────────────────────────────────────────────────────────────────────────────────────────────────────────╫───╫──╫─\n",
       "               ║          ║   ║          └╥┘          ┌─┐                                                                                                                                                                                                 ║   ║  ║ \n",
       "qr_7: ─────────╫──────────╫───╫───────────╫───────────┤M├─────────────────────────────────────────────────────────────────────────────────────────────────────────────────────────────────────────────────────────────────────────────────────────────────╫───╫──╫─\n",
       "               ║          ║   ║           ║           └╥┘                                                                                                                                                                                                 ║   ║  ║ \n",
       "cr: 8/═════════╩══════════╩═══╩═══════════╩════════════╩══════════════════════════════════════════════════════════════════════════════════════════════════════════════════════════════════════════════════════════════════════════════════════════════════╩═══╩══╩═\n",
       "               4          0   5           6            7                                                                                                                                                                                                  3   1  2 "
      ]
     },
     "execution_count": 197,
     "metadata": {},
     "output_type": "execute_result"
    }
   ],
   "source": [
    "qc.decompose().draw(fold=-1)"
   ]
  },
  {
   "cell_type": "code",
   "execution_count": 202,
   "metadata": {
    "ExecuteTime": {
     "end_time": "2022-06-29T13:21:22.909569Z",
     "start_time": "2022-06-29T13:21:22.884942Z"
    }
   },
   "outputs": [
    {
     "name": "stdout",
     "output_type": "stream",
     "text": [
      "\u001b[92mOPENQASM\u001b[39m \u001b[96m2\u001b[39m.\u001b[96m0\u001b[39m;\n",
      "\u001b[92minclude\u001b[39m\u001b[91m \"qelib1.inc\"\u001b[39m;\n",
      "\u001b[92mqreg\u001b[39m qr[\u001b[96m8\u001b[39m];\n",
      "\u001b[92mcreg\u001b[39m cr[\u001b[96m8\u001b[39m];\n",
      "\u001b[95mu3\u001b[39m(pi/\u001b[96m4\u001b[39m,-pi/\u001b[96m2\u001b[39m,-pi) qr[\u001b[96m2\u001b[39m];\n",
      "\u001b[95mcx\u001b[39m qr[\u001b[96m1\u001b[39m],qr[\u001b[96m2\u001b[39m];\n",
      "\u001b[95mu3\u001b[39m(pi/\u001b[96m2\u001b[39m,-pi/\u001b[96m4\u001b[39m,pi/\u001b[96m2\u001b[39m) qr[\u001b[96m1\u001b[39m];\n",
      "\u001b[95mu3\u001b[39m(pi/\u001b[96m4\u001b[39m,\u001b[96m0\u001b[39m,-pi/\u001b[96m2\u001b[39m) qr[\u001b[96m2\u001b[39m];\n",
      "\u001b[95mcx\u001b[39m qr[\u001b[96m3\u001b[39m],qr[\u001b[96m1\u001b[39m];\n",
      "\u001b[95mu1\u001b[39m(pi/\u001b[96m4\u001b[39m) qr[\u001b[96m1\u001b[39m];\n",
      "\u001b[95mcx\u001b[39m qr[\u001b[96m2\u001b[39m],qr[\u001b[96m1\u001b[39m];\n",
      "\u001b[95mu1\u001b[39m(-pi/\u001b[96m4\u001b[39m) qr[\u001b[96m1\u001b[39m];\n",
      "\u001b[95mu1\u001b[39m(pi/\u001b[96m4\u001b[39m) qr[\u001b[96m2\u001b[39m];\n",
      "\u001b[95mcx\u001b[39m qr[\u001b[96m3\u001b[39m],qr[\u001b[96m1\u001b[39m];\n",
      "\u001b[95mu1\u001b[39m(pi/\u001b[96m4\u001b[39m) qr[\u001b[96m1\u001b[39m];\n",
      "\u001b[95mu2\u001b[39m(\u001b[96m0\u001b[39m,pi) qr[\u001b[96m1\u001b[39m];\n",
      "\u001b[95mu3\u001b[39m(pi,-\u001b[96m2\u001b[39m\u001b[96m.8126403\u001b[39m,\u001b[96m0\u001b[39m\u001b[96m.32895233\u001b[39m) qr[\u001b[96m1\u001b[39m];\n",
      "\u001b[95mcx\u001b[39m qr[\u001b[96m3\u001b[39m],qr[\u001b[96m2\u001b[39m];\n",
      "\u001b[95mu1\u001b[39m(-pi/\u001b[96m4\u001b[39m) qr[\u001b[96m2\u001b[39m];\n",
      "\u001b[95mu1\u001b[39m(pi/\u001b[96m4\u001b[39m) qr[\u001b[96m3\u001b[39m];\n",
      "\u001b[95mcx\u001b[39m qr[\u001b[96m3\u001b[39m],qr[\u001b[96m2\u001b[39m];\n",
      "\u001b[95mu3\u001b[39m(pi/\u001b[96m2\u001b[39m,-pi,-\u001b[96m3\u001b[39m*pi/\u001b[96m4\u001b[39m) qr[\u001b[96m2\u001b[39m];\n",
      "\u001b[95mcx\u001b[39m qr[\u001b[96m1\u001b[39m],qr[\u001b[96m2\u001b[39m];\n",
      "\u001b[95mu3\u001b[39m(pi/\u001b[96m2\u001b[39m,\u001b[96m3\u001b[39m*pi/\u001b[96m4\u001b[39m,\u001b[96m0\u001b[39m) qr[\u001b[96m1\u001b[39m];\n",
      "\u001b[95mu3\u001b[39m(pi/\u001b[96m2\u001b[39m,\u001b[96m3\u001b[39m*pi/\u001b[96m4\u001b[39m,\u001b[96m0\u001b[39m) qr[\u001b[96m2\u001b[39m];\n",
      "\u001b[95mcx\u001b[39m qr[\u001b[96m3\u001b[39m],qr[\u001b[96m1\u001b[39m];\n",
      "\u001b[95mu1\u001b[39m(pi/\u001b[96m4\u001b[39m) qr[\u001b[96m1\u001b[39m];\n",
      "\u001b[95mcx\u001b[39m qr[\u001b[96m2\u001b[39m],qr[\u001b[96m1\u001b[39m];\n",
      "\u001b[95mu1\u001b[39m(-pi/\u001b[96m4\u001b[39m) qr[\u001b[96m1\u001b[39m];\n",
      "\u001b[95mu1\u001b[39m(pi/\u001b[96m4\u001b[39m) qr[\u001b[96m2\u001b[39m];\n",
      "\u001b[95mcx\u001b[39m qr[\u001b[96m3\u001b[39m],qr[\u001b[96m1\u001b[39m];\n",
      "\u001b[95mu1\u001b[39m(pi/\u001b[96m4\u001b[39m) qr[\u001b[96m1\u001b[39m];\n",
      "\u001b[95mu2\u001b[39m(\u001b[96m0\u001b[39m,pi) qr[\u001b[96m1\u001b[39m];\n",
      "\u001b[95mcx\u001b[39m qr[\u001b[96m3\u001b[39m],qr[\u001b[96m2\u001b[39m];\n",
      "\u001b[95mu1\u001b[39m(-pi/\u001b[96m4\u001b[39m) qr[\u001b[96m2\u001b[39m];\n",
      "\u001b[95mu1\u001b[39m(pi/\u001b[96m4\u001b[39m) qr[\u001b[96m3\u001b[39m];\n",
      "\u001b[95mcx\u001b[39m qr[\u001b[96m3\u001b[39m],qr[\u001b[96m2\u001b[39m];\n",
      "\u001b[95mcx\u001b[39m qr[\u001b[96m1\u001b[39m],qr[\u001b[96m2\u001b[39m];\n",
      "\u001b[94mmeasure\u001b[39m qr[\u001b[96m0\u001b[39m] -> cr[\u001b[96m0\u001b[39m];\n",
      "\u001b[94mmeasure\u001b[39m qr[\u001b[96m1\u001b[39m] -> cr[\u001b[96m1\u001b[39m];\n",
      "\u001b[94mmeasure\u001b[39m qr[\u001b[96m2\u001b[39m] -> cr[\u001b[96m2\u001b[39m];\n",
      "\u001b[94mmeasure\u001b[39m qr[\u001b[96m3\u001b[39m] -> cr[\u001b[96m3\u001b[39m];\n",
      "\u001b[94mmeasure\u001b[39m qr[\u001b[96m4\u001b[39m] -> cr[\u001b[96m4\u001b[39m];\n",
      "\u001b[94mmeasure\u001b[39m qr[\u001b[96m5\u001b[39m] -> cr[\u001b[96m5\u001b[39m];\n",
      "\u001b[94mmeasure\u001b[39m qr[\u001b[96m6\u001b[39m] -> cr[\u001b[96m6\u001b[39m];\n",
      "\u001b[94mmeasure\u001b[39m qr[\u001b[96m7\u001b[39m] -> cr[\u001b[96m7\u001b[39m];\n",
      "\n"
     ]
    }
   ],
   "source": [
    "my_qasm_source = qc.decompose().qasm()\n",
    "qc.decompose().qasm(formatted=True)"
   ]
  },
  {
   "cell_type": "code",
   "execution_count": 209,
   "metadata": {
    "ExecuteTime": {
     "end_time": "2022-06-29T13:24:31.156383Z",
     "start_time": "2022-06-29T13:24:31.061259Z"
    }
   },
   "outputs": [
    {
     "data": {
      "text/plain": [
       "{'00000100': 710, '00000110': 689, '00000010': 705, '00000000': 667}"
      ]
     },
     "execution_count": 209,
     "metadata": {},
     "output_type": "execute_result"
    }
   ],
   "source": [
    "from qiskit import Aer, transpile, execute\n",
    "backend_8dfab384f53945fab40deaf20a4011b1 = Aer.get_backend('qasm_simulator')\n",
    "counts_source = execute(qc, backend=backend_8dfab384f53945fab40deaf20a4011b1, shots=2771).result().get_counts(qc)\n",
    "counts_source"
   ]
  },
  {
   "cell_type": "markdown",
   "metadata": {},
   "source": [
    "# Manual Run"
   ]
  },
  {
   "cell_type": "code",
   "execution_count": 206,
   "metadata": {
    "ExecuteTime": {
     "end_time": "2022-06-29T13:21:35.033296Z",
     "start_time": "2022-06-29T13:21:34.860621Z"
    }
   },
   "outputs": [
    {
     "data": {
      "text/plain": [
       "{'00000000': 2771}"
      ]
     },
     "execution_count": 206,
     "metadata": {},
     "output_type": "execute_result"
    }
   ],
   "source": [
    "qc = QuantumCircuit.from_qasm_str(my_qasm_source)\n",
    "\n",
    "backend_8dfab384f53945fab40deaf20a4011b1 = Aer.get_backend('qasm_simulator')\n",
    "counts_f = execute(qc, backend=backend_8dfab384f53945fab40deaf20a4011b1, shots=2771).result().get_counts(qc)\n",
    "counts_f\n"
   ]
  },
  {
   "cell_type": "code",
   "execution_count": null,
   "metadata": {},
   "outputs": [],
   "source": []
  },
  {
   "cell_type": "code",
   "execution_count": 165,
   "metadata": {
    "ExecuteTime": {
     "end_time": "2022-06-29T12:57:10.380671Z",
     "start_time": "2022-06-29T12:57:09.644928Z"
    }
   },
   "outputs": [
    {
     "name": "stdout",
     "output_type": "stream",
     "text": [
      "         4650 function calls (4591 primitive calls) in 0.007 seconds\n",
      "\n",
      "   Ordered by: standard name\n",
      "\n",
      "   ncalls  tottime  percall  cumtime  percall filename:lineno(function)\n",
      "        9    0.000    0.000    0.000    0.000 <__array_function__ internals>:2(all)\n",
      "        3    0.000    0.000    0.000    0.000 <__array_function__ internals>:2(allclose)\n",
      "        4    0.000    0.000    0.000    0.000 <__array_function__ internals>:2(angle)\n",
      "        2    0.000    0.000    0.000    0.000 <__array_function__ internals>:2(argmax)\n",
      "        2    0.000    0.000    0.000    0.000 <__array_function__ internals>:2(argsort)\n",
      "       18    0.000    0.000    0.000    0.000 <__array_function__ internals>:2(concatenate)\n",
      "        4    0.000    0.000    0.000    0.000 <__array_function__ internals>:2(diag)\n",
      "        2    0.000    0.000    0.000    0.000 <__array_function__ internals>:2(eigh)\n",
      "        3    0.000    0.000    0.000    0.000 <__array_function__ internals>:2(isclose)\n",
      "        8    0.000    0.000    0.001    0.000 <__array_function__ internals>:2(kron)\n",
      "        8    0.000    0.000    0.000    0.000 <__array_function__ internals>:2(outer)\n",
      "        2    0.000    0.000    0.000    0.000 <__array_function__ internals>:2(real)\n",
      "        8    0.000    0.000    0.000    0.000 <__array_function__ internals>:2(reshape)\n",
      "        3    0.000    0.000    0.000    0.000 <__array_function__ internals>:2(result_type)\n",
      "        7    0.000    0.000    0.000    0.000 <__array_function__ internals>:2(where)\n",
      "        1    0.000    0.000    0.007    0.007 <string>:1(<module>)\n",
      "       12    0.000    0.000    0.000    0.000 <string>:1(__new__)\n",
      "        2    0.000    0.000    0.000    0.000 __init__.py:1677(isEnabledFor)\n",
      "       22    0.000    0.000    0.000    0.000 _asarray.py:110(asanyarray)\n",
      "       54    0.000    0.000    0.000    0.000 _asarray.py:23(asarray)\n",
      "       26    0.000    0.000    0.000    0.000 _collections_abc.py:870(__iter__)\n",
      "       16    0.000    0.000    0.000    0.000 _methods.py:59(_all)\n",
      "       10    0.000    0.000    0.000    0.000 _ufunc_config.py:132(geterr)\n",
      "       10    0.000    0.000    0.000    0.000 _ufunc_config.py:32(seterr)\n",
      "        3    0.000    0.000    0.000    0.000 _ufunc_config.py:429(__init__)\n",
      "        5    0.000    0.000    0.000    0.000 _ufunc_config.py:433(__enter__)\n",
      "        5    0.000    0.000    0.000    0.000 _ufunc_config.py:438(__exit__)\n",
      "       16    0.000    0.000    0.000    0.000 _util.py:247(_asarray_validated)\n",
      "        2    0.000    0.000    0.000    0.000 abc.py:96(__instancecheck__)\n",
      "       16    0.000    0.000    0.000    0.000 base.py:1205(isspmatrix)\n",
      "       16    0.000    0.000    0.001    0.000 basic.py:977(det)\n",
      "       12    0.000    0.000    0.000    0.000 bit.py:26(__init__)\n",
      "      218    0.000    0.000    0.000    0.000 bit.py:94(__hash__)\n",
      "        1    0.000    0.000    0.000    0.000 classicalregister.py:54(qasm)\n",
      "        2    0.000    0.000    0.000    0.000 contextlib.py:59(_recreate_cm)\n",
      "        2    0.000    0.000    0.000    0.000 contextlib.py:72(inner)\n",
      "       50    0.000    0.000    0.000    0.000 controlledgate.py:135(name)\n",
      "       50    0.000    0.000    0.000    0.000 controlledgate.py:158(num_ctrl_qubits)\n",
      "       50    0.000    0.000    0.000    0.000 controlledgate.py:182(ctrl_state)\n",
      "       19    0.000    0.000    0.000    0.000 controlledgate.py:199(params)\n",
      "       50    0.000    0.000    0.000    0.000 controlledgate.py:236(_open_ctrl)\n",
      "        8    0.000    0.000    0.000    0.000 copy.py:257(_reconstruct)\n",
      "       16    0.000    0.000    0.000    0.000 copy.py:66(copy)\n",
      "        8    0.000    0.000    0.000    0.000 copyreg.py:90(__newobj__)\n",
      "       16    0.000    0.000    0.000    0.000 core.py:6370(isMaskedArray)\n",
      "        2    0.000    0.000    0.000    0.000 exceptions.py:22(__init__)\n",
      "       16    0.000    0.000    0.000    0.000 flinalg.py:20(has_column_major_storage)\n",
      "       16    0.000    0.000    0.000    0.000 flinalg.py:27(get_flinalg_funcs)\n",
      "        2    0.000    0.000    0.000    0.000 fromnumeric.py:1000(_argsort_dispatcher)\n",
      "        2    0.000    0.000    0.000    0.000 fromnumeric.py:1004(argsort)\n",
      "        2    0.000    0.000    0.000    0.000 fromnumeric.py:1115(_argmax_dispatcher)\n",
      "        2    0.000    0.000    0.000    0.000 fromnumeric.py:1119(argmax)\n",
      "        8    0.000    0.000    0.000    0.000 fromnumeric.py:194(_reshape_dispatcher)\n",
      "        8    0.000    0.000    0.000    0.000 fromnumeric.py:199(reshape)\n",
      "        9    0.000    0.000    0.000    0.000 fromnumeric.py:2350(_all_dispatcher)\n",
      "        9    0.000    0.000    0.000    0.000 fromnumeric.py:2355(all)\n",
      "        2    0.000    0.000    0.000    0.000 fromnumeric.py:39(_wrapit)\n",
      "       12    0.000    0.000    0.000    0.000 fromnumeric.py:52(_wrapfunc)\n",
      "        9    0.000    0.000    0.000    0.000 fromnumeric.py:70(_wrapreduction)\n",
      "        9    0.000    0.000    0.000    0.000 fromnumeric.py:71(<dictcomp>)\n",
      "        4    0.000    0.000    0.000    0.000 function_base.py:1431(_angle_dispatcher)\n",
      "        4    0.000    0.000    0.000    0.000 function_base.py:1435(angle)\n",
      "       16    0.000    0.000    0.000    0.000 function_base.py:422(asarray_chkfinite)\n",
      "        4    0.000    0.000    0.000    0.000 gate.py:132(_broadcast_2_arguments)\n",
      "        2    0.000    0.000    0.000    0.000 gate.py:162(broadcast_arguments)\n",
      "        6    0.000    0.000    0.000    0.000 gate.py:205(<genexpr>)\n",
      "       33    0.000    0.000    0.000    0.000 gate.py:217(validate_parameter)\n",
      "       19    0.000    0.000    0.000    0.000 gate.py:28(__init__)\n",
      "        2    0.000    0.000    0.000    0.000 gate.py:45(to_matrix)\n",
      "       97    0.000    0.000    0.000    0.000 instruction.py:204(params)\n",
      "       19    0.000    0.000    0.000    0.000 instruction.py:209(params)\n",
      "        4    0.000    0.000    0.006    0.001 instruction.py:228(definition)\n",
      "       21    0.000    0.000    0.000    0.000 instruction.py:235(definition)\n",
      "        4    0.000    0.000    0.000    0.000 instruction.py:305(label)\n",
      "        8    0.000    0.000    0.000    0.000 instruction.py:426(copy)\n",
      "        8    0.000    0.000    0.000    0.000 instruction.py:444(__deepcopy__)\n",
      "       44    0.000    0.000    0.000    0.000 instruction.py:451(_qasmif)\n",
      "       42    0.000    0.000    0.000    0.000 instruction.py:457(qasm)\n",
      "        7    0.000    0.000    0.000    0.000 instruction.py:467(<listcomp>)\n",
      "       19    0.000    0.000    0.000    0.000 instruction.py:57(__init__)\n",
      "        2    0.000    0.000    0.000    0.000 instructionset.py:151(add)\n",
      "        2    0.000    0.000    0.000    0.000 instructionset.py:94(__init__)\n",
      "        2    0.000    0.000    0.000    0.000 linalg.py:102(get_linalg_error_extobj)\n",
      "        2    0.000    0.000    0.000    0.000 linalg.py:107(_makearray)\n",
      "        2    0.000    0.000    0.000    0.000 linalg.py:1080(_eigvalsh_dispatcher)\n",
      "        4    0.000    0.000    0.000    0.000 linalg.py:112(isComplexType)\n",
      "        4    0.000    0.000    0.000    0.000 linalg.py:125(_realType)\n",
      "        2    0.000    0.000    0.000    0.000 linalg.py:1336(eigh)\n",
      "        2    0.000    0.000    0.000    0.000 linalg.py:135(_commonType)\n",
      "        2    0.000    0.000    0.000    0.000 linalg.py:193(_assert_stacked_2d)\n",
      "        2    0.000    0.000    0.000    0.000 linalg.py:199(_assert_stacked_square)\n",
      "       16    0.000    0.000    0.000    0.000 misc.py:180(_datacopied)\n",
      "       18    0.000    0.000    0.000    0.000 multiarray.py:143(concatenate)\n",
      "        7    0.000    0.000    0.000    0.000 multiarray.py:321(where)\n",
      "        3    0.000    0.000    0.000    0.000 multiarray.py:644(result_type)\n",
      "       10    0.000    0.000    0.000    0.000 multiprocessing.py:42(is_main_process)\n",
      "        3    0.000    0.000    0.000    0.000 numeric.py:2182(_allclose_dispatcher)\n",
      "        3    0.000    0.000    0.000    0.000 numeric.py:2186(allclose)\n",
      "        3    0.000    0.000    0.000    0.000 numeric.py:2260(_isclose_dispatcher)\n",
      "        3    0.000    0.000    0.000    0.000 numeric.py:2264(isclose)\n",
      "        3    0.000    0.000    0.000    0.000 numeric.py:2344(within_tol)\n",
      "        8    0.000    0.000    0.000    0.000 numeric.py:853(_outer_dispatcher)\n",
      "        8    0.000    0.000    0.000    0.000 numeric.py:857(outer)\n",
      "        8    0.000    0.000    0.001    0.000 one_qubit_decompose.py:166(_decompose)\n",
      "        4    0.000    0.000    0.000    0.000 one_qubit_decompose.py:171(basis)\n",
      "        4    0.000    0.000    0.000    0.000 one_qubit_decompose.py:210(angles_and_phase)\n",
      "       12    0.000    0.000    0.001    0.000 one_qubit_decompose.py:221(_params_zyz)\n",
      "        4    0.000    0.000    0.000    0.000 one_qubit_decompose.py:247(_params_xyx)\n",
      "        8    0.000    0.000    0.000    0.000 one_qubit_decompose.py:278(_params_u3)\n",
      "        8    0.000    0.000    0.001    0.000 one_qubit_decompose.py:428(_circuit_u3)\n",
      "       24    0.000    0.000    0.000    0.000 one_qubit_decompose.py:591(_mod_2pi)\n",
      "       10    0.000    0.000    0.000    0.000 parametertable.py:27(__init__)\n",
      "       10    0.000    0.000    0.000    0.000 parametertable.py:34(<setcomp>)\n",
      "        1    0.000    0.000    0.000    0.000 parametertable.py:76(__iter__)\n",
      "       21    0.000    0.000    0.000    0.000 pi_check.py:28(pi_check)\n",
      "       42    0.000    0.000    0.000    0.000 pi_check.py:68(normalize)\n",
      "       10    0.000    0.000    0.000    0.000 platform.py:746(uname)\n",
      "       10    0.000    0.000    0.000    0.000 platform.py:884(system)\n",
      "        1    0.000    0.000    0.000    0.000 predicates.py:23(matrix_equal)\n",
      "       10    0.000    0.000    0.000    0.000 process.py:37(current_process)\n",
      "       11    0.000    0.000    0.000    0.000 quantumcircuit.py:1061(__getitem__)\n",
      "        4    0.000    0.000    0.000    0.000 quantumcircuit.py:1073(_bit_argument_conversion)\n",
      "        4    0.000    0.000    0.000    0.000 quantumcircuit.py:1113(qbit_argument_conversion)\n",
      "        2    0.000    0.000    0.000    0.000 quantumcircuit.py:1179(append)\n",
      "        2    0.000    0.000    0.000    0.000 quantumcircuit.py:1216(<genexpr>)\n",
      "        2    0.000    0.000    0.000    0.000 quantumcircuit.py:1220(<listcomp>)\n",
      "        2    0.000    0.000    0.000    0.000 quantumcircuit.py:1221(<listcomp>)\n",
      "        9    0.000    0.000    0.000    0.000 quantumcircuit.py:1234(_append)\n",
      "       16    0.000    0.000    0.000    0.000 quantumcircuit.py:1282(_update_parameter_table)\n",
      "       10    0.000    0.000    0.000    0.000 quantumcircuit.py:1317(add_register)\n",
      "       20    0.000    0.000    0.000    0.000 quantumcircuit.py:1322(<genexpr>)\n",
      "       10    0.000    0.000    0.000    0.000 quantumcircuit.py:1349(<genexpr>)\n",
      "        9    0.000    0.000    0.000    0.000 quantumcircuit.py:1442(_check_dups)\n",
      "        9    0.000    0.000    0.000    0.000 quantumcircuit.py:1448(_check_qargs)\n",
      "       20    0.000    0.000    0.000    0.000 quantumcircuit.py:1450(<genexpr>)\n",
      "        9    0.000    0.000    0.000    0.000 quantumcircuit.py:1455(_check_cargs)\n",
      "        9    0.000    0.000    0.000    0.000 quantumcircuit.py:1457(<genexpr>)\n",
      "        1    0.000    0.000    0.007    0.007 quantumcircuit.py:1561(qasm)\n",
      "        1    0.000    0.000    0.000    0.000 quantumcircuit.py:1648(<dictcomp>)\n",
      "        1    0.000    0.000    0.000    0.000 quantumcircuit.py:1654(<setcomp>)\n",
      "        1    0.000    0.000    0.000    0.000 quantumcircuit.py:1655(<setcomp>)\n",
      "        2    0.000    0.000    0.000    0.000 quantumcircuit.py:1689(<listcomp>)\n",
      "       27    0.000    0.000    0.000    0.000 quantumcircuit.py:1703(<listcomp>)\n",
      "       16    0.000    0.000    0.000    0.000 quantumcircuit.py:1973(num_qubits)\n",
      "       16    0.000    0.000    0.000    0.000 quantumcircuit.py:1983(num_clbits)\n",
      "       10    0.000    0.000    0.001    0.000 quantumcircuit.py:210(__init__)\n",
      "       20    0.000    0.000    0.000    0.000 quantumcircuit.py:217(<genexpr>)\n",
      "       19    0.000    0.000    0.000    0.000 quantumcircuit.py:2366(global_phase)\n",
      "       22    0.000    0.000    0.000    0.000 quantumcircuit.py:2371(global_phase)\n",
      "        1    0.000    0.000    0.000    0.000 quantumcircuit.py:2399(num_parameters)\n",
      "        1    0.000    0.000    0.000    0.000 quantumcircuit.py:2404(_unsorted_parameters)\n",
      "       10    0.000    0.000    0.000    0.000 quantumcircuit.py:289(data)\n",
      "        8    0.000    0.000    0.000    0.000 quantumcircuit.py:324(calibrations)\n",
      "       10    0.000    0.000    0.000    0.000 quantumcircuit.py:375(_increment_instances)\n",
      "       10    0.000    0.000    0.000    0.000 quantumcircuit.py:379(cls_instances)\n",
      "       10    0.000    0.000    0.000    0.000 quantumcircuit.py:385(cls_prefix)\n",
      "       10    0.000    0.000    0.000    0.000 quantumcircuit.py:390(_name_update)\n",
      "        2    0.000    0.000    0.006    0.003 quantumcircuit.py:4720(_add_sub_instruction_to_existing_composite_circuits)\n",
      "        1    0.000    0.000    0.000    0.000 quantumcircuit.py:4801(_insert_composite_gate_definition_qasm)\n",
      "        8    0.000    0.000    0.000    0.000 quantumcircuit.py:749(compose)\n",
      "        8    0.000    0.000    0.000    0.000 quantumcircuit.py:849(<dictcomp>)\n",
      "        7    0.000    0.000    0.000    0.000 quantumcircuit.py:870(<listcomp>)\n",
      "        7    0.000    0.000    0.000    0.000 quantumcircuit.py:871(<listcomp>)\n",
      "       53    0.000    0.000    0.000    0.000 quantumcircuit.py:992(qubits)\n",
      "       33    0.000    0.000    0.000    0.000 quantumcircuit.py:999(clbits)\n",
      "       10    0.000    0.000    0.000    0.000 quantumcircuitdata.py:26(__init__)\n",
      "       26    0.000    0.000    0.000    0.000 quantumcircuitdata.py:29(__getitem__)\n",
      "       12    0.000    0.000    0.000    0.000 quantumregister.py:26(__init__)\n",
      "        1    0.000    0.000    0.000    0.000 quantumregister.py:54(qasm)\n",
      "       10    0.000    0.000    0.000    0.000 register.py:120(<listcomp>)\n",
      "       28    0.000    0.000    0.000    0.000 register.py:128(name)\n",
      "       24    0.000    0.000    0.000    0.000 register.py:133(size)\n",
      "       12    0.000    0.000    0.000    0.000 register.py:138(__repr__)\n",
      "       19    0.000    0.000    0.000    0.000 register.py:146(__getitem__)\n",
      "       58    0.000    0.000    0.000    0.000 register.py:171(__iter__)\n",
      "       12    0.000    0.000    0.000    0.000 register.py:191(__eq__)\n",
      "       12    0.000    0.000    0.000    0.000 register.py:221(__hash__)\n",
      "       10    0.000    0.000    0.000    0.000 register.py:40(__init__)\n",
      "        8    0.000    0.000    0.000    0.000 rx.py:100(__array__)\n",
      "        8    0.000    0.000    0.000    0.000 rx.py:50(__init__)\n",
      "        4    0.000    0.000    0.000    0.000 ry.py:49(__init__)\n",
      "        4    0.000    0.000    0.000    0.000 ry.py:99(__array__)\n",
      "        8    0.000    0.000    0.000    0.000 shape_base.py:1038(get_array_prepare)\n",
      "       24    0.000    0.000    0.000    0.000 shape_base.py:1043(<genexpr>)\n",
      "        8    0.000    0.000    0.000    0.000 shape_base.py:1050(get_array_wrap)\n",
      "       24    0.000    0.000    0.000    0.000 shape_base.py:1055(<genexpr>)\n",
      "        8    0.000    0.000    0.000    0.000 shape_base.py:1063(_kron_dispatcher)\n",
      "        8    0.000    0.000    0.001    0.000 shape_base.py:1067(kron)\n",
      "        2    0.000    0.000    0.000    0.000 two_qubit_decompose.py:1023(decomp1)\n",
      "        2    0.000    0.000    0.006    0.003 two_qubit_decompose.py:1080(__call__)\n",
      "        2    0.000    0.000    0.000    0.000 two_qubit_decompose.py:1091(<listcomp>)\n",
      "        2    0.000    0.000    0.001    0.001 two_qubit_decompose.py:1112(<listcomp>)\n",
      "        2    0.000    0.000    0.000    0.000 two_qubit_decompose.py:1126(_pulse_optimal_chooser)\n",
      "        2    0.000    0.000    0.002    0.001 two_qubit_decompose.py:135(__new__)\n",
      "       12    0.000    0.000    0.000    0.000 two_qubit_decompose.py:276(is_close)\n",
      "        2    0.000    0.000    0.000    0.000 two_qubit_decompose.py:293(<lambda>)\n",
      "        2    0.000    0.000    0.000    0.000 two_qubit_decompose.py:295(<lambda>)\n",
      "        2    0.000    0.000    0.001    0.000 two_qubit_decompose.py:313(__init__)\n",
      "        4    0.000    0.000    0.000    0.000 two_qubit_decompose.py:489(_closest_partial_swap)\n",
      "        4    0.000    0.000    0.001    0.000 two_qubit_decompose.py:52(decompose_two_qubit_product_gate)\n",
      "        2    0.000    0.000    0.001    0.000 two_qubit_decompose.py:548(specialize)\n",
      "       22    0.000    0.000    0.000    0.000 two_qubit_decompose.py:827(trace_to_fid)\n",
      "        2    0.000    0.000    0.000    0.000 two_qubit_decompose.py:989(traces)\n",
      "        4    0.000    0.000    0.000    0.000 twodim_base.py:156(eye)\n",
      "        4    0.000    0.000    0.000    0.000 twodim_base.py:225(_diag_dispatcher)\n",
      "        4    0.000    0.000    0.000    0.000 twodim_base.py:229(diag)\n",
      "        2    0.000    0.000    0.000    0.000 type_check.py:117(_real_dispatcher)\n",
      "        2    0.000    0.000    0.000    0.000 type_check.py:121(real)\n",
      "        7    0.000    0.000    0.000    0.000 u3.py:63(__init__)\n",
      "        2    0.000    0.000    0.006    0.003 unitary.py:105(_define)\n",
      "        2    0.000    0.000    0.001    0.000 unitary.py:164(qasm)\n",
      "        9    0.000    0.000    0.000    0.000 unitary.py:190(<listcomp>)\n",
      "        1    0.000    0.000    0.000    0.000 unitary.py:75(__eq__)\n",
      "        2    0.000    0.000    0.000    0.000 unitary.py:84(__array__)\n",
      "        6    0.000    0.000    0.000    0.000 weyl.py:30(transform_to_magic_basis)\n",
      "       24    0.000    0.000    0.000    0.000 {built-in method __new__ of type object at 0x55fc5b883ac0}\n",
      "        2    0.000    0.000    0.000    0.000 {built-in method _abc._abc_instancecheck}\n",
      "      279    0.000    0.000    0.000    0.000 {built-in method builtins.abs}\n",
      "       18    0.000    0.000    0.000    0.000 {built-in method builtins.all}\n",
      "       34    0.000    0.000    0.000    0.000 {built-in method builtins.any}\n",
      "        1    0.000    0.000    0.007    0.007 {built-in method builtins.exec}\n",
      "       96    0.000    0.000    0.000    0.000 {built-in method builtins.getattr}\n",
      "       65    0.000    0.000    0.000    0.000 {built-in method builtins.hasattr}\n",
      "       22    0.000    0.000    0.000    0.000 {built-in method builtins.hash}\n",
      "        3    0.000    0.000    0.000    0.000 {built-in method builtins.id}\n",
      "      480    0.000    0.000    0.000    0.000 {built-in method builtins.isinstance}\n",
      "       18    0.000    0.000    0.000    0.000 {built-in method builtins.issubclass}\n",
      "        1    0.000    0.000    0.000    0.000 {built-in method builtins.iter}\n",
      "      125    0.000    0.000    0.000    0.000 {built-in method builtins.len}\n",
      "        2    0.000    0.000    0.000    0.000 {built-in method builtins.next}\n",
      "       31    0.000    0.000    0.000    0.000 {built-in method builtins.round}\n",
      "       16    0.000    0.000    0.000    0.000 {built-in method builtins.sorted}\n",
      "       44    0.000    0.000    0.000    0.000 {built-in method cmath.phase}\n",
      "       12    0.000    0.000    0.000    0.000 {built-in method math.atan2}\n",
      "       68    0.000    0.000    0.000    0.000 {built-in method math.cos}\n",
      "       66    0.000    0.000    0.000    0.000 {built-in method math.sin}\n",
      "   107/95    0.000    0.000    0.000    0.000 {built-in method numpy.array}\n",
      "    83/36    0.000    0.000    0.001    0.000 {built-in method numpy.core._multiarray_umath.implement_array_function}\n",
      "       20    0.000    0.000    0.000    0.000 {built-in method numpy.geterrobj}\n",
      "       10    0.000    0.000    0.000    0.000 {built-in method numpy.seterrobj}\n",
      "        8    0.000    0.000    0.000    0.000 {built-in method numpy.zeros}\n",
      "        2    0.000    0.000    0.000    0.000 {function SeedSequence.generate_state at 0x7f73a4054ee0}\n",
      "       10    0.000    0.000    0.000    0.000 {method '__array_prepare__' of 'numpy.ndarray' objects}\n",
      "        8    0.000    0.000    0.000    0.000 {method '__array_wrap__' of 'numpy.ndarray' objects}\n",
      "        8    0.000    0.000    0.000    0.000 {method '__reduce_ex__' of 'object' objects}\n",
      "       16    0.000    0.000    0.000    0.000 {method 'all' of 'numpy.ndarray' objects}\n",
      "      111    0.000    0.000    0.000    0.000 {method 'append' of 'list' objects}\n",
      "        2    0.000    0.000    0.000    0.000 {method 'argmax' of 'numpy.ndarray' objects}\n",
      "        2    0.000    0.000    0.000    0.000 {method 'argsort' of 'numpy.ndarray' objects}\n",
      "        4    0.000    0.000    0.000    0.000 {method 'astype' of 'numpy.ndarray' objects}\n",
      "       16    0.000    0.000    0.000    0.000 {method 'conj' of 'numpy.ndarray' objects}\n",
      "        8    0.000    0.000    0.000    0.000 {method 'copy' of 'list' objects}\n",
      "        7    0.000    0.000    0.000    0.000 {method 'copy' of 'numpy.ndarray' objects}\n",
      "        2    0.000    0.000    0.000    0.000 {method 'diagonal' of 'numpy.ndarray' objects}\n",
      "        1    0.000    0.000    0.000    0.000 {method 'disable' of '_lsprof.Profiler' objects}\n",
      "       30    0.000    0.000    0.000    0.000 {method 'dot' of 'numpy.ndarray' objects}\n",
      "       54    0.000    0.000    0.000    0.000 {method 'format' of 'str' objects}\n",
      "       36    0.000    0.000    0.000    0.000 {method 'fullmatch' of 're.Pattern' objects}\n",
      "       28    0.000    0.000    0.000    0.000 {method 'get' of 'dict' objects}\n",
      "       17    0.000    0.000    0.000    0.000 {method 'items' of 'dict' objects}\n",
      "       49    0.000    0.000    0.000    0.000 {method 'join' of 'str' objects}\n",
      "       18    0.000    0.000    0.000    0.000 {method 'keys' of 'dict' objects}\n",
      "        8    0.000    0.000    0.000    0.000 {method 'match' of 're.Pattern' objects}\n",
      "        4    0.000    0.000    0.000    0.000 {method 'normal' of 'numpy.random._generator.Generator' objects}\n",
      "       16    0.000    0.000    0.000    0.000 {method 'ravel' of 'numpy.ndarray' objects}\n",
      "       25    0.000    0.000    0.000    0.000 {method 'reduce' of 'numpy.ufunc' objects}\n",
      "        1    0.000    0.000    0.000    0.000 {method 'replace' of 'str' objects}\n",
      "       16    0.000    0.000    0.000    0.000 {method 'reshape' of 'numpy.ndarray' objects}\n",
      "        2    0.000    0.000    0.000    0.000 {method 'setflags' of 'numpy.ndarray' objects}\n",
      "       16    0.000    0.000    0.000    0.000 {method 'sort' of 'list' objects}\n",
      "        4    0.000    0.000    0.000    0.000 {method 'trace' of 'numpy.ndarray' objects}\n",
      "        8    0.000    0.000    0.000    0.000 {method 'update' of 'dict' objects}\n",
      "        2    0.000    0.000    0.000    0.000 {method 'upper' of 'str' objects}\n",
      "        2    0.000    0.000    0.000    0.000 {method 'values' of 'collections.OrderedDict' objects}\n",
      "        2    0.000    0.000    0.000    0.000 {numpy.random._generator.default_rng}\n",
      "\n",
      "\n"
     ]
    },
    {
     "name": "stdout",
     "output_type": "stream",
     "text": [
      "         134712 function calls (132849 primitive calls) in 0.134 seconds\n",
      "\n",
      "   Ordered by: standard name\n",
      "\n",
      "   ncalls  tottime  percall  cumtime  percall filename:lineno(function)\n",
      "        2    0.000    0.000    0.000    0.000 <__array_function__ internals>:2(iscomplex)\n",
      "        2    0.000    0.000    0.000    0.000 <frozen importlib._bootstrap>:1017(_handle_fromlist)\n",
      "        1    0.000    0.000    0.000    0.000 <frozen importlib._bootstrap>:103(release)\n",
      "        1    0.000    0.000    0.000    0.000 <frozen importlib._bootstrap>:143(__init__)\n",
      "        1    0.000    0.000    0.000    0.000 <frozen importlib._bootstrap>:147(__enter__)\n",
      "        1    0.000    0.000    0.000    0.000 <frozen importlib._bootstrap>:151(__exit__)\n",
      "        1    0.000    0.000    0.000    0.000 <frozen importlib._bootstrap>:157(_get_module_lock)\n",
      "        1    0.000    0.000    0.000    0.000 <frozen importlib._bootstrap>:176(cb)\n",
      "        5    0.000    0.000    0.000    0.000 <frozen importlib._bootstrap>:222(_verbose_message)\n",
      "       72    0.000    0.000    0.000    0.000 <frozen importlib._bootstrap>:269(_module_repr)\n",
      "        1    0.000    0.000    0.000    0.000 <frozen importlib._bootstrap>:342(__init__)\n",
      "       72    0.000    0.000    0.000    0.000 <frozen importlib._bootstrap>:397(has_location)\n",
      "       72    0.000    0.000    0.000    0.000 <frozen importlib._bootstrap>:566(_module_repr_from_spec)\n",
      "        1    0.000    0.000    0.000    0.000 <frozen importlib._bootstrap>:58(__init__)\n",
      "        1    0.000    0.000    0.000    0.000 <frozen importlib._bootstrap>:725(find_spec)\n",
      "        1    0.000    0.000    0.000    0.000 <frozen importlib._bootstrap>:78(acquire)\n",
      "        1    0.000    0.000    0.000    0.000 <frozen importlib._bootstrap>:800(find_spec)\n",
      "        5    0.000    0.000    0.000    0.000 <frozen importlib._bootstrap>:863(__enter__)\n",
      "        5    0.000    0.000    0.000    0.000 <frozen importlib._bootstrap>:867(__exit__)\n",
      "        1    0.000    0.000    0.000    0.000 <frozen importlib._bootstrap>:890(_find_spec)\n",
      "        1    0.000    0.000    0.000    0.000 <frozen importlib._bootstrap>:956(_find_and_load_unlocked)\n",
      "        1    0.000    0.000    0.000    0.000 <frozen importlib._bootstrap>:986(_find_and_load)\n",
      "        1    0.000    0.000    0.000    0.000 <frozen importlib._bootstrap_external>:1265(_path_importer_cache)\n",
      "        1    0.000    0.000    0.000    0.000 <frozen importlib._bootstrap_external>:1302(_get_spec)\n",
      "        1    0.000    0.000    0.000    0.000 <frozen importlib._bootstrap_external>:1334(find_spec)\n",
      "        1    0.000    0.000    0.000    0.000 <frozen importlib._bootstrap_external>:1431(find_spec)\n",
      "        1    0.000    0.000    0.000    0.000 <frozen importlib._bootstrap_external>:40(_relax_case)\n",
      "        5    0.000    0.000    0.000    0.000 <frozen importlib._bootstrap_external>:62(_path_join)\n",
      "        5    0.000    0.000    0.000    0.000 <frozen importlib._bootstrap_external>:64(<listcomp>)\n",
      "        1    0.000    0.000    0.000    0.000 <frozen importlib._bootstrap_external>:80(_path_stat)\n",
      "        1    0.000    0.000    0.000    0.000 <string>:1(<module>)\n",
      "       24    0.000    0.000    0.000    0.000 <string>:1(__new__)\n",
      "        1    0.000    0.000    0.000    0.000 __init__.py:24(_module_matches_namespace)\n",
      "        4    0.000    0.000    0.000    0.000 __init__.py:427(__getnewargs__)\n",
      "        1    0.000    0.000    0.000    0.000 __init__.py:57(find_spec)\n",
      "        2    0.000    0.000    0.000    0.000 _asarray.py:110(asanyarray)\n",
      "        2    0.000    0.000    0.000    0.000 _bootlocale.py:33(getpreferredencoding)\n",
      "       13    0.000    0.000    0.000    0.000 _utils.py:65(_ctrl_state_to_int)\n",
      "        1    0.000    0.000    0.000    0.000 ast_to_dag.py:147(__init__)\n",
      "       56    0.000    0.000    0.000    0.000 ast_to_dag.py:162(_process_bit_id)\n",
      "       27    0.000    0.000    0.003    0.000 ast_to_dag.py:195(_process_custom_unitary)\n",
      "       27    0.000    0.000    0.000    0.000 ast_to_dag.py:202(<listcomp>)\n",
      "       27    0.000    0.000    0.003    0.000 ast_to_dag.py:218(_arguments)\n",
      "       27    0.000    0.000    0.000    0.000 ast_to_dag.py:224(<dictcomp>)\n",
      "       27    0.000    0.000    0.000    0.000 ast_to_dag.py:226(<listcomp>)\n",
      "       27    0.000    0.000    0.000    0.000 ast_to_dag.py:227(<dictcomp>)\n",
      "       27    0.000    0.000    0.000    0.000 ast_to_dag.py:230(<listcomp>)\n",
      "       27    0.000    0.000    0.000    0.000 ast_to_dag.py:231(<listcomp>)\n",
      "       44    0.000    0.000    0.000    0.000 ast_to_dag.py:236(_process_gate)\n",
      "       18    0.000    0.000    0.000    0.000 ast_to_dag.py:248(<listcomp>)\n",
      "       44    0.000    0.000    0.000    0.000 ast_to_dag.py:251(<listcomp>)\n",
      "        8    0.000    0.000    0.000    0.000 ast_to_dag.py:278(_process_measure)\n",
      "        1    0.000    0.000    0.004    0.004 ast_to_dag.py:300(_process_children)\n",
      "     83/1    0.000    0.000    0.004    0.004 ast_to_dag.py:305(_process_node)\n",
      "        2    0.000    0.000    0.001    0.000 ast_to_dag.py:398(_gate_rules_to_qiskit_circuit)\n",
      "        2    0.000    0.000    0.000    0.000 ast_to_dag.py:402(<dictcomp>)\n",
      "        2    0.000    0.000    0.000    0.000 ast_to_dag.py:403(<dictcomp>)\n",
      "        9    0.000    0.000    0.000    0.000 ast_to_dag.py:410(<listcomp>)\n",
      "       27    0.000    0.000    0.002    0.000 ast_to_dag.py:421(_create_dag_op)\n",
      "    36/27    0.000    0.000    0.002    0.000 ast_to_dag.py:437(_create_op)\n",
      "        1    0.000    0.000    0.004    0.004 ast_to_dag.py:66(ast_to_dag)\n",
      "       94    0.000    0.000    0.000    0.000 binaryop.py:27(__init__)\n",
      "    16/13    0.000    0.000    0.000    0.000 binaryop.py:54(sym)\n",
      "       94    0.000    0.000    0.000    0.000 binaryoperator.py:36(__init__)\n",
      "       16    0.000    0.000    0.000    0.000 binaryoperator.py:41(operation)\n",
      "       20    0.000    0.000    0.000    0.000 bit.py:26(__init__)\n",
      "       48    0.000    0.000    0.000    0.000 bit.py:87(__repr__)\n",
      "      469    0.000    0.000    0.000    0.000 bit.py:94(__hash__)\n",
      "        8    0.000    0.000    0.000    0.000 classicalregister.py:26(__init__)\n",
      "        1    0.000    0.000    0.000    0.000 cnot.py:25(__init__)\n",
      "        1    0.000    0.000    0.000    0.000 codecs.py:186(__init__)\n",
      "        1    0.000    0.000    0.000    0.000 codecs.py:260(__init__)\n",
      "        1    0.000    0.000    0.000    0.000 codecs.py:309(__init__)\n",
      "        1    0.000    0.000    0.000    0.000 codecs.py:319(decode)\n",
      "        3    0.000    0.000    0.000    0.000 compilerop.py:181(check_linecache_ipython)\n",
      "       26    0.000    0.000    0.000    0.000 controlledgate.py:127(definition)\n",
      "       33    0.000    0.000    0.000    0.000 controlledgate.py:135(name)\n",
      "       13    0.000    0.000    0.000    0.000 controlledgate.py:151(name)\n",
      "       46    0.000    0.000    0.000    0.000 controlledgate.py:158(num_ctrl_qubits)\n",
      "       13    0.000    0.000    0.000    0.000 controlledgate.py:167(num_ctrl_qubits)\n",
      "       33    0.000    0.000    0.000    0.000 controlledgate.py:182(ctrl_state)\n",
      "       13    0.000    0.000    0.000    0.000 controlledgate.py:187(ctrl_state)\n",
      "       13    0.000    0.000    0.000    0.000 controlledgate.py:199(params)\n",
      "       13    0.000    0.000    0.000    0.000 controlledgate.py:214(params)\n",
      "       13    0.000    0.000    0.000    0.000 controlledgate.py:229(__deepcopy__)\n",
      "       33    0.000    0.000    0.000    0.000 controlledgate.py:236(_open_ctrl)\n",
      "       13    0.000    0.000    0.001    0.000 controlledgate.py:30(__init__)\n",
      "   272/15    0.000    0.000    0.001    0.000 copy.py:128(deepcopy)\n",
      "      139    0.000    0.000    0.000    0.000 copy.py:182(_deepcopy_atomic)\n",
      "    42/22    0.000    0.000    0.001    0.000 copy.py:199(_deepcopy_list)\n",
      "    21/15    0.000    0.000    0.001    0.000 copy.py:208(_deepcopy_tuple)\n",
      "    21/15    0.000    0.000    0.001    0.000 copy.py:209(<listcomp>)\n",
      "     14/2    0.000    0.000    0.001    0.001 copy.py:225(_deepcopy_dict)\n",
      "      106    0.000    0.000    0.000    0.000 copy.py:241(_keep_alive)\n",
      "    90/61    0.000    0.000    0.001    0.000 copy.py:257(_reconstruct)\n",
      "       48    0.000    0.000    0.000    0.000 copy.py:262(<genexpr>)\n",
      "      127    0.000    0.000    0.001    0.000 copy.py:66(copy)\n",
      "       84    0.000    0.000    0.000    0.000 copyreg.py:90(__newobj__)\n",
      "        1    0.000    0.000    0.000    0.000 creg.py:23(__init__)\n",
      "      234    0.000    0.000    0.001    0.000 customunitary.py:31(__init__)\n",
      "        1    0.000    0.000    0.003    0.003 dag_to_circuit.py:18(dag_to_circuit)\n",
      "       67    0.000    0.000    0.000    0.000 dagcircuit.py:1002(_key)\n",
      "        1    0.000    0.000    0.000    0.000 dagcircuit.py:1010(topological_op_nodes)\n",
      "       36    0.000    0.000    0.000    0.000 dagcircuit.py:1025(<genexpr>)\n",
      "        1    0.000    0.000    0.000    0.000 dagcircuit.py:165(global_phase)\n",
      "        1    0.000    0.000    0.000    0.000 dagcircuit.py:187(calibrations)\n",
      "        1    0.000    0.000    0.000    0.000 dagcircuit.py:270(add_qreg)\n",
      "        1    0.000    0.000    0.000    0.000 dagcircuit.py:283(add_creg)\n",
      "       16    0.000    0.000    0.000    0.000 dagcircuit.py:296(_add_wire)\n",
      "       35    0.000    0.000    0.000    0.000 dagcircuit.py:416(_check_condition)\n",
      "       70    0.000    0.000    0.000    0.000 dagcircuit.py:433(_check_bits)\n",
      "       35    0.000    0.000    0.000    0.000 dagcircuit.py:450(_bits_in_condition)\n",
      "       35    0.000    0.000    0.000    0.000 dagcircuit.py:473(_increment_op)\n",
      "       35    0.000    0.000    0.000    0.000 dagcircuit.py:485(_add_op_node)\n",
      "        1    0.000    0.000    0.000    0.000 dagcircuit.py:52(__init__)\n",
      "       35    0.000    0.000    0.001    0.000 dagcircuit.py:521(apply_operation_back)\n",
      "       35    0.000    0.000    0.000    0.000 dagcircuit.py:553(<listcomp>)\n",
      "        1    0.000    0.000    0.000    0.000 dagcircuit.py:988(topological_nodes)\n",
      "       67    0.000    0.000    0.000    0.000 dagnode.py:27(__init__)\n",
      "       35    0.000    0.000    0.000    0.000 dagnode.py:325(__init__)\n",
      "       16    0.000    0.000    0.000    0.000 dagnode.py:350(__init__)\n",
      "       16    0.000    0.000    0.000    0.000 dagnode.py:365(__init__)\n",
      "       94    0.000    0.000    0.000    0.000 expressionlist.py:23(__init__)\n",
      "       87    0.000    0.000    0.000    0.000 expressionlist.py:27(size)\n",
      "        1    0.000    0.000    0.000    0.000 format.py:23(__init__)\n",
      "        1    0.000    0.000    0.000    0.000 format.py:31(version)\n",
      "       21    0.000    0.000    0.000    0.000 gate.py:217(validate_parameter)\n",
      "       44    0.000    0.000    0.000    0.000 gate.py:27(__init__)\n",
      "       49    0.000    0.000    0.000    0.000 gate.py:28(__init__)\n",
      "      322    0.000    0.000    0.000    0.000 gate.py:45(n_args)\n",
      "      278    0.000    0.000    0.000    0.000 gate.py:51(n_bits)\n",
      "       44    0.000    0.000    0.000    0.000 gatebody.py:24(__init__)\n",
      "       77    0.000    0.000    0.018    0.000 genericpath.py:16(exists)\n",
      "        1    0.000    0.000    0.000    0.000 genericpath.py:87(samestat)\n",
      "        2    0.000    0.000    0.000    0.000 h.py:51(__init__)\n",
      "      793    0.001    0.000    0.002    0.000 id.py:26(__init__)\n",
      "      269    0.000    0.000    0.000    0.000 idlist.py:23(__init__)\n",
      "      608    0.000    0.000    0.000    0.000 idlist.py:27(size)\n",
      "       58    0.000    0.000    0.000    0.000 indexedid.py:25(__init__)\n",
      "        3    0.000    0.000    0.000    0.000 inspect.py:236(istraceback)\n",
      "        3    0.000    0.000    0.000    0.000 inspect.py:493(unwrap)\n",
      "        3    0.000    0.000    0.000    0.000 inspect.py:510(_is_wrapper)\n",
      "      183    0.000    0.000    0.000    0.000 inspect.py:63(ismodule)\n",
      "       75    0.000    0.000    0.000    0.000 inspect.py:654(getfile)\n",
      "       75    0.000    0.000    0.019    0.000 inspect.py:692(getsourcefile)\n",
      "      225    0.000    0.000    0.000    0.000 inspect.py:699(<genexpr>)\n",
      "      300    0.000    0.000    0.000    0.000 inspect.py:702(<genexpr>)\n",
      "      102    0.000    0.000    0.000    0.000 inspect.py:726(getmodule)\n",
      "        3    0.000    0.000    0.018    0.006 inspect.py:772(findsource)\n",
      "        3    0.000    0.000    0.018    0.006 inspect.py:958(getsourcelines)\n",
      "       44    0.000    0.000    0.000    0.000 instruction.py:204(params)\n",
      "       57    0.000    0.000    0.000    0.000 instruction.py:209(params)\n",
      "       38    0.000    0.000    0.000    0.000 instruction.py:235(definition)\n",
      "    61/48    0.000    0.000    0.002    0.000 instruction.py:426(copy)\n",
      "    57/48    0.000    0.000    0.002    0.000 instruction.py:444(__deepcopy__)\n",
      "       57    0.000    0.000    0.000    0.000 instruction.py:57(__init__)\n",
      "      176    0.000    0.000    0.000    0.000 intnode.py:24(__init__)\n",
      "       19    0.000    0.000    0.000    0.000 intnode.py:43(sym)\n",
      "        2    0.000    0.000    0.000    0.000 lex.py:116(__init__)\n",
      "        2    0.000    0.000    0.000    0.000 lex.py:251(input)\n",
      "2154/2150    0.008    0.000    0.019    0.000 lex.py:305(token)\n",
      "       72    0.000    0.000    0.000    0.000 lex.py:439(_get_regex)\n",
      "        2    0.000    0.000    0.000    0.000 lex.py:493(_form_master_re)\n",
      "       30    0.000    0.000    0.000    0.000 lex.py:533(_statetoken)\n",
      "        2    0.000    0.000    0.000    0.000 lex.py:558(__init__)\n",
      "        2    0.000    0.000    0.000    0.000 lex.py:569(get_all)\n",
      "        2    0.000    0.000    0.019    0.010 lex.py:576(validate_all)\n",
      "        2    0.000    0.000    0.000    0.000 lex.py:583(get_tokens)\n",
      "        2    0.000    0.000    0.000    0.000 lex.py:603(validate_tokens)\n",
      "        2    0.000    0.000    0.000    0.000 lex.py:614(get_literals)\n",
      "        2    0.000    0.000    0.000    0.000 lex.py:620(validate_literals)\n",
      "        2    0.000    0.000    0.000    0.000 lex.py:631(get_states)\n",
      "        2    0.000    0.000    0.000    0.000 lex.py:662(get_rules)\n",
      "        2    0.000    0.000    0.000    0.000 lex.py:663(<listcomp>)\n",
      "       24    0.000    0.000    0.000    0.000 lex.py:721(<lambda>)\n",
      "        2    0.000    0.000    0.019    0.009 lex.py:728(validate_rules)\n",
      "        2    0.000    0.000    0.000    0.000 lex.py:76(__init__)\n",
      "        2    0.000    0.000    0.018    0.009 lex.py:831(validate_module)\n",
      "        2    0.000    0.000    0.020    0.010 lex.py:862(lex)\n",
      "        2    0.000    0.000    0.000    0.000 lex.py:889(<listcomp>)\n",
      "        3    0.000    0.000    0.000    0.000 linecache.py:37(getlines)\n",
      "        3    0.000    0.000    0.000    0.000 linecache.py:53(checkcache)\n",
      "        8    0.000    0.000    0.000    0.000 measure.py:24(__init__)\n",
      "        8    0.000    0.000    0.000    0.000 measure.py:26(__init__)\n",
      "        3    0.000    0.000    0.000    0.000 multiprocessing.py:42(is_main_process)\n",
      "     2105    0.001    0.000    0.001    0.000 node.py:19(__init__)\n",
      "      283    0.000    0.000    0.000    0.000 node.py:35(add_child)\n",
      "        3    0.000    0.000    0.000    0.000 parametertable.py:27(__init__)\n",
      "        3    0.000    0.000    0.000    0.000 parametertable.py:34(<setcomp>)\n",
      "        3    0.000    0.000    0.000    0.000 platform.py:746(uname)\n",
      "        3    0.000    0.000    0.000    0.000 platform.py:884(system)\n",
      "       99    0.000    0.000    0.000    0.000 posixpath.py:140(basename)\n",
      "      103    0.000    0.000    0.000    0.000 posixpath.py:41(_get_sep)\n",
      "        4    0.000    0.000    0.000    0.000 posixpath.py:71(join)\n",
      "       39    0.000    0.000    0.000    0.000 prefix.py:26(__init__)\n",
      "        7    0.000    0.000    0.000    0.000 prefix.py:50(sym)\n",
      "       27    0.000    0.000    0.000    0.000 primarylist.py:23(__init__)\n",
      "       27    0.000    0.000    0.000    0.000 primarylist.py:27(size)\n",
      "        3    0.000    0.000    0.000    0.000 process.py:37(current_process)\n",
      "        1    0.000    0.000    0.000    0.000 program.py:23(__init__)\n",
      "        1    0.000    0.000    0.000    0.000 qasm.py:23(__init__)\n",
      "        1    0.000    0.000    0.127    0.127 qasm.py:45(parse)\n",
      "        2    0.000    0.000    0.000    0.000 qasmlexer.py:106(t_REAL)\n",
      "      176    0.000    0.000    0.000    0.000 qasmlexer.py:113(t_NNINTEGER)\n",
      "        8    0.000    0.000    0.000    0.000 qasmlexer.py:118(t_ASSIGN)\n",
      "        1    0.000    0.000    0.000    0.000 qasmlexer.py:126(t_STRING)\n",
      "        1    0.000    0.000    0.001    0.001 qasmlexer.py:130(t_INCLUDE)\n",
      "        1    0.000    0.000    0.000    0.000 qasmlexer.py:162(t_FORMAT)\n",
      "       48    0.000    0.000    0.000    0.000 qasmlexer.py:166(t_COMMENT)\n",
      "        1    0.000    0.000    0.000    0.000 qasmlexer.py:170(t_CX)\n",
      "        7    0.000    0.000    0.000    0.000 qasmlexer.py:174(t_U)\n",
      "      925    0.002    0.000    0.003    0.000 qasmlexer.py:178(t_ID)\n",
      "      311    0.000    0.000    0.000    0.000 qasmlexer.py:186(t_newline)\n",
      "        2    0.000    0.000    0.000    0.000 qasmlexer.py:191(t_eof)\n",
      "        2    0.000    0.000    0.020    0.010 qasmlexer.py:42(__mklexer__)\n",
      "        1    0.000    0.000    0.019    0.019 qasmlexer.py:53(__init__)\n",
      "        1    0.000    0.000    0.000    0.000 qasmlexer.py:58(input)\n",
      "     2150    0.001    0.000    0.020    0.000 qasmlexer.py:63(token)\n",
      "        1    0.000    0.000    0.000    0.000 qasmlexer.py:68(pop)\n",
      "        1    0.000    0.000    0.001    0.001 qasmlexer.py:74(push)\n",
      "      207    0.000    0.000    0.000    0.000 qasmparser.py:100(verify_bit_list)\n",
      "      118    0.000    0.000    0.001    0.000 qasmparser.py:1004(p_unary_0)\n",
      "        2    0.000    0.000    0.000    0.000 qasmparser.py:1010(p_unary_1)\n",
      "       78    0.000    0.000    0.000    0.000 qasmparser.py:1016(p_unary_2)\n",
      "       48    0.000    0.000    0.000    0.000 qasmparser.py:1022(p_unary_3)\n",
      "        6    0.000    0.000    0.000    0.000 qasmparser.py:1028(p_unary_4)\n",
      "       39    0.000    0.000    0.000    0.000 qasmparser.py:1047(p_expression_1)\n",
      "       94    0.000    0.000    0.001    0.000 qasmparser.py:1054(p_expression_0)\n",
      "      252    0.000    0.000    0.000    0.000 qasmparser.py:1064(p_expression_2)\n",
      "       94    0.000    0.000    0.000    0.000 qasmparser.py:1074(p_exp_list_0)\n",
      "   558/94    0.001    0.000    0.001    0.000 qasmparser.py:108(verify_exp_list)\n",
      "       58    0.000    0.000    0.000    0.000 qasmparser.py:1080(p_exp_list_1)\n",
      "        1    0.000    0.000    0.000    0.000 qasmparser.py:1129(parse_debug)\n",
      "        1    0.000    0.000    0.054    0.054 qasmparser.py:1138(parse)\n",
      "      234    0.001    0.000    0.001    0.000 qasmparser.py:135(verify_as_gate)\n",
      "       56    0.000    0.000    0.000    0.000 qasmparser.py:199(verify_reg)\n",
      "       27    0.000    0.000    0.000    0.000 qasmparser.py:247(verify_reg_list)\n",
      "      294    0.000    0.000    0.000    0.000 qasmparser.py:255(id_tuple_list)\n",
      "      235    0.001    0.000    0.001    0.000 qasmparser.py:273(verify_distinct)\n",
      "       44    0.000    0.000    0.000    0.000 qasmparser.py:316(pop_scope)\n",
      "        1    0.000    0.000    0.073    0.073 qasmparser.py:32(__init__)\n",
      "       44    0.000    0.000    0.000    0.000 qasmparser.py:320(push_scope)\n",
      "        1    0.000    0.000    0.000    0.000 qasmparser.py:328(p_main)\n",
      "        1    0.000    0.000    0.000    0.000 qasmparser.py:338(p_program_0)\n",
      "       81    0.000    0.000    0.000    0.000 qasmparser.py:344(p_program_1)\n",
      "       82    0.000    0.000    0.000    0.000 qasmparser.py:356(p_statement)\n",
      "        1    0.000    0.000    0.000    0.000 qasmparser.py:372(p_format)\n",
      "      793    0.001    0.000    0.002    0.000 qasmparser.py:390(p_id)\n",
      "       58    0.000    0.000    0.001    0.000 qasmparser.py:405(p_indexed_id)\n",
      "       56    0.000    0.000    0.000    0.000 qasmparser.py:421(p_primary)\n",
      "      207    0.000    0.000    0.001    0.000 qasmparser.py:432(p_id_list_0)\n",
      "       85    0.000    0.000    0.000    0.000 qasmparser.py:438(p_id_list_1)\n",
      "       18    0.000    0.000    0.000    0.000 qasmparser.py:449(p_gate_id_list_0)\n",
      "       10    0.000    0.000    0.000    0.000 qasmparser.py:456(p_gate_id_list_1)\n",
      "       44    0.000    0.000    0.000    0.000 qasmparser.py:468(p_bit_list_0)\n",
      "       36    0.000    0.000    0.000    0.000 qasmparser.py:476(p_bit_list_1)\n",
      "       27    0.000    0.000    0.000    0.000 qasmparser.py:489(p_primary_list_0)\n",
      "       13    0.000    0.000    0.000    0.000 qasmparser.py:495(p_primary_list_1)\n",
      "       46    0.000    0.000    0.000    0.000 qasmparser.py:507(p_decl)\n",
      "        1    0.000    0.000    0.000    0.000 qasmparser.py:526(p_qreg_decl)\n",
      "        1    0.000    0.000    0.000    0.000 qasmparser.py:54(__enter__)\n",
      "        1    0.000    0.000    0.000    0.000 qasmparser.py:550(p_creg_decl)\n",
      "        1    0.000    0.000    0.000    0.000 qasmparser.py:57(__exit__)\n",
      "       26    0.000    0.000    0.000    0.000 qasmparser.py:581(p_gate_decl_0)\n",
      "       18    0.000    0.000    0.000    0.000 qasmparser.py:605(p_gate_decl_2)\n",
      "      154    0.000    0.000    0.000    0.000 qasmparser.py:61(update_symtab)\n",
      "       44    0.000    0.000    0.000    0.000 qasmparser.py:617(p_gate_scope)\n",
      "       44    0.000    0.000    0.000    0.000 qasmparser.py:643(p_gate_body_1)\n",
      "       44    0.000    0.000    0.000    0.000 qasmparser.py:656(p_gate_op_list_0)\n",
      "      171    0.000    0.000    0.001    0.000 qasmparser.py:662(p_gate_op_list_1)\n",
      "       27    0.000    0.000    0.001    0.000 qasmparser.py:701(p_unitary_op_2)\n",
      "        7    0.000    0.000    0.000    0.000 qasmparser.py:740(p_gate_op_0)\n",
      "        1    0.000    0.000    0.000    0.000 qasmparser.py:760(p_gate_op_1)\n",
      "      120    0.001    0.000    0.003    0.000 qasmparser.py:791(p_gate_op_2)\n",
      "       87    0.001    0.000    0.003    0.000 qasmparser.py:818(p_gate_op_4)\n",
      "      301    0.000    0.000    0.000    0.000 qasmparser.py:82(verify_declared_bit)\n",
      "        8    0.000    0.000    0.000    0.000 qasmparser.py:903(p_measure)\n",
      "       35    0.000    0.000    0.000    0.000 qasmparser.py:983(p_quantum_op)\n",
      "        1    0.000    0.000    0.000    0.000 qreg.py:23(__init__)\n",
      "        2    0.000    0.000    0.000    0.000 quantumcircuit.py:1049(__len__)\n",
      "       44    0.000    0.000    0.001    0.000 quantumcircuit.py:1234(_append)\n",
      "       44    0.000    0.000    0.000    0.000 quantumcircuit.py:1282(_update_parameter_table)\n",
      "        3    0.000    0.000    0.000    0.000 quantumcircuit.py:1317(add_register)\n",
      "        9    0.000    0.000    0.000    0.000 quantumcircuit.py:1322(<genexpr>)\n",
      "        5    0.000    0.000    0.000    0.000 quantumcircuit.py:1349(<genexpr>)\n",
      "        2    0.000    0.000    0.000    0.000 quantumcircuit.py:1386(add_bits)\n",
      "       44    0.000    0.000    0.000    0.000 quantumcircuit.py:1442(_check_dups)\n",
      "       44    0.000    0.000    0.000    0.000 quantumcircuit.py:1448(_check_qargs)\n",
      "      103    0.000    0.000    0.000    0.000 quantumcircuit.py:1450(<genexpr>)\n",
      "       44    0.000    0.000    0.000    0.000 quantumcircuit.py:1455(_check_cargs)\n",
      "       52    0.000    0.000    0.000    0.000 quantumcircuit.py:1457(<genexpr>)\n",
      "        3    0.000    0.000    0.000    0.000 quantumcircuit.py:210(__init__)\n",
      "        9    0.000    0.000    0.000    0.000 quantumcircuit.py:217(<genexpr>)\n",
      "        1    0.000    0.000    0.134    0.134 quantumcircuit.py:2354(from_qasm_str)\n",
      "        3    0.000    0.000    0.000    0.000 quantumcircuit.py:2371(global_phase)\n",
      "        1    0.000    0.000    0.000    0.000 quantumcircuit.py:333(calibrations)\n",
      "        1    0.000    0.000    0.000    0.000 quantumcircuit.py:356(metadata)\n",
      "        3    0.000    0.000    0.000    0.000 quantumcircuit.py:375(_increment_instances)\n",
      "        3    0.000    0.000    0.000    0.000 quantumcircuit.py:379(cls_instances)\n",
      "        3    0.000    0.000    0.000    0.000 quantumcircuit.py:385(cls_prefix)\n",
      "        3    0.000    0.000    0.000    0.000 quantumcircuit.py:390(_name_update)\n",
      "        1    0.000    0.000    0.134    0.134 quantumcircuit.py:4692(_circuit_from_qasm)\n",
      "       12    0.000    0.000    0.000    0.000 quantumregister.py:26(__init__)\n",
      "        8    0.000    0.000    0.000    0.000 random.py:250(_randbelow_with_getrandbits)\n",
      "        8    0.000    0.000    0.000    0.000 random.py:285(choice)\n",
      "        1    0.000    0.000    0.000    0.000 re.py:186(match)\n",
      "       31    0.000    0.000    0.000    0.000 re.py:248(compile)\n",
      "       32    0.000    0.000    0.000    0.000 re.py:287(_compile)\n",
      "       80    0.000    0.000    0.000    0.000 real.py:27(__init__)\n",
      "       18    0.000    0.000    0.000    0.000 real.py:55(sym)\n",
      "        4    0.000    0.000    0.000    0.000 register.py:120(<listcomp>)\n",
      "       10    0.000    0.000    0.000    0.000 register.py:128(name)\n",
      "       26    0.000    0.000    0.000    0.000 register.py:133(size)\n",
      "       20    0.000    0.000    0.000    0.000 register.py:138(__repr__)\n",
      "      104    0.000    0.000    0.000    0.000 register.py:146(__getitem__)\n",
      "       30    0.000    0.000    0.000    0.000 register.py:171(__iter__)\n",
      "       68    0.000    0.000    0.000    0.000 register.py:191(__eq__)\n",
      "       20    0.000    0.000    0.000    0.000 register.py:221(__hash__)\n",
      "        2    0.000    0.000    0.000    0.000 register.py:225(__getstate__)\n",
      "        2    0.000    0.000    0.000    0.000 register.py:231(__setstate__)\n",
      "        4    0.000    0.000    0.000    0.000 register.py:40(__init__)\n",
      "        1    0.000    0.000    0.000    0.000 shutil.py:615(_rmtree_safe_fd)\n",
      "        1    0.000    0.000    0.000    0.000 shutil.py:672(rmtree)\n",
      "        1    0.000    0.000    0.000    0.000 six.py:194(find_spec)\n",
      "        4    0.000    0.000    0.000    0.000 t.py:106(__init__)\n",
      "        8    0.000    0.000    0.000    0.000 t.py:50(__init__)\n",
      "        1    0.000    0.000    0.000    0.000 tempfile.py:105(_sanitize_params)\n",
      "        1    0.000    0.000    0.000    0.000 tempfile.py:133(rng)\n",
      "        1    0.000    0.000    0.000    0.000 tempfile.py:144(__next__)\n",
      "        1    0.000    0.000    0.000    0.000 tempfile.py:147(<listcomp>)\n",
      "        1    0.000    0.000    0.000    0.000 tempfile.py:224(_get_candidate_names)\n",
      "        1    0.000    0.000    0.000    0.000 tempfile.py:279(gettempdir)\n",
      "        1    0.000    0.000    0.000    0.000 tempfile.py:335(mkdtemp)\n",
      "        1    0.000    0.000    0.000    0.000 tempfile.py:84(_infer_return_type)\n",
      "        2    0.000    0.000    0.000    0.000 type_check.py:206(_is_type_dispatcher)\n",
      "        2    0.000    0.000    0.000    0.000 type_check.py:210(iscomplex)\n",
      "        7    0.000    0.000    0.000    0.000 u3.py:63(__init__)\n",
      "       39    0.000    0.000    0.000    0.000 unaryoperator.py:33(__init__)\n",
      "        7    0.000    0.000    0.000    0.000 unaryoperator.py:38(operation)\n",
      "        7    0.000    0.000    0.000    0.000 universalunitary.py:24(__init__)\n",
      "       13    0.000    0.000    0.001    0.000 x.py:186(__init__)\n",
      "       13    0.000    0.000    0.000    0.000 x.py:75(__init__)\n",
      "        1    0.013    0.013    0.054    0.054 yacc.py:1003(parseopt_notrack)\n",
      "        1    0.000    0.000    0.000    0.000 yacc.py:109(__init__)\n",
      "     3030    0.000    0.000    0.000    0.000 yacc.py:127(__getattribute__)\n",
      "     3030    0.000    0.000    0.000    0.000 yacc.py:130(__call__)\n",
      "       99    0.000    0.000    0.001    0.000 yacc.py:1313(__init__)\n",
      "        1    0.000    0.000    0.000    0.000 yacc.py:1343(__str__)\n",
      "      565    0.000    0.000    0.000    0.000 yacc.py:1349(__len__)\n",
      "       99    0.000    0.000    0.000    0.000 yacc.py:1375(bind)\n",
      "      367    0.001    0.000    0.001    0.000 yacc.py:1430(__init__)\n",
      "      659    0.000    0.000    0.001    0.000 yacc.py:1441(__str__)\n",
      "       96    0.000    0.000    0.000    0.000 yacc.py:1456(rightmost_terminal)\n",
      "        1    0.000    0.000    0.000    0.000 yacc.py:1476(__init__)\n",
      "        7    0.000    0.000    0.000    0.000 yacc.py:1526(set_precedence)\n",
      "       98    0.001    0.000    0.003    0.000 yacc.py:1551(add_production)\n",
      "        1    0.000    0.000    0.000    0.000 yacc.py:1635(set_start)\n",
      "        1    0.000    0.000    0.000    0.000 yacc.py:1651(find_unreachable)\n",
      "    268/1    0.000    0.000    0.000    0.000 yacc.py:1654(mark_reachable_from)\n",
      "        1    0.000    0.000    0.000    0.000 yacc.py:1664(<listcomp>)\n",
      "        1    0.000    0.000    0.000    0.000 yacc.py:1674(infinite_cycles)\n",
      "        1    0.000    0.000    0.000    0.000 yacc.py:1738(undefined_symbols)\n",
      "        1    0.000    0.000    0.000    0.000 yacc.py:1755(unused_terminals)\n",
      "        1    0.000    0.000    0.000    0.000 yacc.py:1770(unused_rules)\n",
      "        1    0.000    0.000    0.000    0.000 yacc.py:1787(unused_precedence)\n",
      "      975    0.001    0.000    0.001    0.000 yacc.py:1803(_first)\n",
      "        1    0.001    0.001    0.001    0.001 yacc.py:1838(compute_first)\n",
      "        1    0.001    0.001    0.001    0.001 yacc.py:1875(compute_follow)\n",
      "        1    0.001    0.001    0.003    0.003 yacc.py:1934(build_lritems)\n",
      "        1    0.000    0.000    0.000    0.000 yacc.py:1974(__init__)\n",
      "        1    0.000    0.000    0.001    0.001 yacc.py:1980(read_table)\n",
      "        1    0.000    0.000    0.000    0.000 yacc.py:2028(bind_callables)\n",
      "        2    0.000    0.000    0.003    0.002 yacc.py:2057(digraph)\n",
      "  340/311    0.001    0.000    0.003    0.000 yacc.py:2068(traverse)\n",
      "        1    0.000    0.000    0.035    0.035 yacc.py:2102(__init__)\n",
      "      185    0.001    0.000    0.001    0.000 yacc.py:2139(lr0_closure)\n",
      "     3742    0.006    0.000    0.010    0.000 yacc.py:2165(lr0_goto)\n",
      "        1    0.001    0.001    0.008    0.008 yacc.py:2200(lr0_items)\n",
      "        1    0.000    0.000    0.000    0.000 yacc.py:2256(compute_nullable_nonterminals)\n",
      "        1    0.001    0.001    0.002    0.002 yacc.py:2285(find_nonterminal_transitions)\n",
      "      170    0.000    0.000    0.001    0.000 yacc.py:2305(dr_relation)\n",
      "      170    0.000    0.000    0.001    0.000 yacc.py:2329(reads_relation)\n",
      "        1    0.000    0.000    0.000    0.000 yacc.py:233(__init__)\n",
      "        1    0.003    0.003    0.005    0.005 yacc.py:2372(compute_lookback_includes)\n",
      "     6018    0.003    0.000    0.004    0.000 yacc.py:239(__getitem__)\n",
      "        1    0.000    0.000    0.002    0.002 yacc.py:2452(compute_read_sets)\n",
      "      170    0.000    0.000    0.001    0.000 yacc.py:2453(<lambda>)\n",
      "      170    0.000    0.000    0.001    0.000 yacc.py:2454(<lambda>)\n",
      "     2937    0.001    0.000    0.001    0.000 yacc.py:247(__setitem__)\n",
      "        1    0.000    0.000    0.001    0.001 yacc.py:2474(compute_follow_sets)\n",
      "      170    0.000    0.000    0.000    0.000 yacc.py:2475(<lambda>)\n",
      "      170    0.000    0.000    0.000    0.000 yacc.py:2476(<lambda>)\n",
      "        1    0.001    0.001    0.002    0.002 yacc.py:2492(add_lookaheads)\n",
      "        1    0.000    0.000    0.012    0.012 yacc.py:2510(add_lalr_lookaheads)\n",
      "      186    0.000    0.000    0.000    0.000 yacc.py:253(__len__)\n",
      "        1    0.006    0.006    0.030    0.030 yacc.py:2534(lr_parse_table)\n",
      "        1    0.002    0.002    0.008    0.008 yacc.py:2727(write_table)\n",
      "        1    0.000    0.000    0.000    0.000 yacc.py:288(__init__)\n",
      "       72    0.000    0.000    0.001    0.000 yacc.py:2897(parse_grammar)\n",
      "        1    0.000    0.000    0.000    0.000 yacc.py:2939(__init__)\n",
      "        1    0.000    0.000    0.002    0.002 yacc.py:2954(get_all)\n",
      "        1    0.000    0.000    0.004    0.004 yacc.py:2962(validate_all)\n",
      "        1    0.000    0.000    0.000    0.000 yacc.py:2972(signature)\n",
      "        1    0.000    0.000    0.000    0.000 yacc.py:2978(<listcomp>)\n",
      "        1    0.000    0.000    0.001    0.001 yacc.py:2999(validate_modules)\n",
      "        1    0.000    0.000    0.000    0.000 yacc.py:3024(get_start)\n",
      "        1    0.000    0.000    0.000    0.000 yacc.py:3028(validate_start)\n",
      "        1    0.000    0.000    0.000    0.000 yacc.py:3034(get_error_func)\n",
      "        1    0.000    0.000    0.000    0.000 yacc.py:3038(validate_error_func)\n",
      "        1    0.000    0.000    0.000    0.000 yacc.py:3060(get_tokens)\n",
      "        1    0.000    0.000    0.000    0.000 yacc.py:3080(validate_tokens)\n",
      "        1    0.000    0.000    0.000    0.000 yacc.py:3094(get_precedence)\n",
      "        1    0.000    0.000    0.000    0.000 yacc.py:3098(validate_precedence)\n",
      "        1    0.000    0.000    0.001    0.001 yacc.py:3129(get_pfunctions)\n",
      "       72    0.000    0.000    0.001    0.000 yacc.py:3142(<lambda>)\n",
      "        1    0.000    0.000    0.000    0.000 yacc.py:315(set_defaulted_states)\n",
      "        1    0.001    0.001    0.003    0.003 yacc.py:3150(validate_pfunctions)\n",
      "        1    0.000    0.000    0.054    0.054 yacc.py:3216(yacc)\n",
      "        1    0.000    0.000    0.000    0.000 yacc.py:3235(<listcomp>)\n",
      "        1    0.000    0.000    0.054    0.054 yacc.py:325(parse)\n",
      "      104    0.000    0.000    0.000    0.000 {built-in method __new__ of type object at 0x55fc5b883ac0}\n",
      "        1    0.000    0.000    0.000    0.000 {built-in method _codecs.utf_8_decode}\n",
      "        7    0.000    0.000    0.000    0.000 {built-in method _imp.acquire_lock}\n",
      "        1    0.000    0.000    0.000    0.000 {built-in method _imp.is_frozen}\n",
      "        7    0.000    0.000    0.000    0.000 {built-in method _imp.release_lock}\n",
      "        2    0.000    0.000    0.000    0.000 {built-in method _locale.nl_langinfo}\n",
      "        3    0.000    0.000    0.000    0.000 {built-in method _operator.mul}\n"
     ]
    },
    {
     "name": "stdout",
     "output_type": "stream",
     "text": [
      "        7    0.000    0.000    0.000    0.000 {built-in method _operator.neg}\n",
      "       13    0.000    0.000    0.000    0.000 {built-in method _operator.truediv}\n",
      "        2    0.000    0.000    0.000    0.000 {built-in method _thread.allocate_lock}\n",
      "        2    0.000    0.000    0.000    0.000 {built-in method _thread.get_ident}\n",
      "       88    0.000    0.000    0.000    0.000 {built-in method builtins.all}\n",
      "      160    0.000    0.000    0.001    0.000 {built-in method builtins.any}\n",
      "        3    0.000    0.000    0.000    0.000 {built-in method builtins.dir}\n",
      "       69    0.001    0.000    0.001    0.000 {built-in method builtins.eval}\n",
      "      2/1    0.000    0.000    0.134    0.134 {built-in method builtins.exec}\n",
      "     3410    0.001    0.000    0.001    0.000 {built-in method builtins.getattr}\n",
      "      809    0.000    0.000    0.000    0.000 {built-in method builtins.hasattr}\n",
      "       24    0.000    0.000    0.000    0.000 {built-in method builtins.hash}\n",
      "     9924    0.001    0.000    0.001    0.000 {built-in method builtins.id}\n",
      "     8260    0.001    0.000    0.001    0.000 {built-in method builtins.isinstance}\n",
      "      103    0.000    0.000    0.000    0.000 {built-in method builtins.issubclass}\n",
      "        1    0.000    0.000    0.000    0.000 {built-in method builtins.iter}\n",
      "5358/4706    0.001    0.000    0.001    0.000 {built-in method builtins.len}\n",
      "       29    0.000    0.000    0.000    0.000 {built-in method builtins.max}\n",
      "      278    0.000    0.000    0.000    0.000 {built-in method builtins.min}\n",
      "        3    0.000    0.000    0.000    0.000 {built-in method builtins.next}\n",
      "       22    0.000    0.000    0.000    0.000 {built-in method builtins.setattr}\n",
      "        1    0.000    0.000    0.000    0.000 {built-in method builtins.sorted}\n",
      "        2    0.001    0.001    0.001    0.001 {built-in method io.open}\n",
      "        2    0.000    0.000    0.000    0.000 {built-in method numpy.array}\n",
      "        2    0.000    0.000    0.000    0.000 {built-in method numpy.core._multiarray_umath.implement_array_function}\n",
      "        2    0.000    0.000    0.000    0.000 {built-in method numpy.zeros}\n",
      "        1    0.000    0.000    0.000    0.000 {built-in method posix.close}\n",
      "      103    0.000    0.000    0.000    0.000 {built-in method posix.fspath}\n",
      "        1    0.000    0.000    0.000    0.000 {built-in method posix.fstat}\n",
      "        1    0.000    0.000    0.000    0.000 {built-in method posix.getpid}\n",
      "        1    0.000    0.000    0.000    0.000 {built-in method posix.lstat}\n",
      "        1    0.000    0.000    0.000    0.000 {built-in method posix.mkdir}\n",
      "        1    0.000    0.000    0.000    0.000 {built-in method posix.open}\n",
      "        1    0.000    0.000    0.000    0.000 {built-in method posix.rmdir}\n",
      "        1    0.000    0.000    0.000    0.000 {built-in method posix.scandir}\n",
      "       81    0.018    0.000    0.018    0.000 {built-in method posix.stat}\n",
      "        1    0.000    0.000    0.000    0.000 {built-in method posix.unlink}\n",
      "        2    0.000    0.000    0.000    0.000 {built-in method sys.audit}\n",
      "        3    0.000    0.000    0.000    0.000 {built-in method sys.getrecursionlimit}\n",
      "        1    0.000    0.000    0.000    0.000 {lexicographical_topological_sort}\n",
      "       90    0.000    0.000    0.000    0.000 {method '__reduce_ex__' of 'object' objects}\n",
      "      235    0.000    0.000    0.000    0.000 {method 'add' of 'set' objects}\n",
      "       16    0.000    0.000    0.000    0.000 {method 'add_edge' of 'retworkx.PyDiGraph' objects}\n",
      "       35    0.000    0.000    0.000    0.000 {method 'add_node' of 'retworkx.PyDiGraph' objects}\n",
      "       16    0.000    0.000    0.000    0.000 {method 'add_nodes_from' of 'retworkx.PyDiGraph' objects}\n",
      "    23436    0.003    0.000    0.003    0.000 {method 'append' of 'list' objects}\n",
      "        8    0.000    0.000    0.000    0.000 {method 'bit_length' of 'int' objects}\n",
      "        1    0.004    0.004    0.004    0.004 {method 'close' of '_io.TextIOWrapper' objects}\n",
      "       57    0.000    0.000    0.000    0.000 {method 'copy' of 'list' objects}\n",
      "        1    0.000    0.000    0.000    0.000 {method 'disable' of '_lsprof.Profiler' objects}\n",
      "     1481    0.000    0.000    0.000    0.000 {method 'end' of 're.Match' objects}\n",
      "      379    0.000    0.000    0.000    0.000 {method 'endswith' of 'str' objects}\n",
      "      294    0.000    0.000    0.000    0.000 {method 'extend' of 'list' objects}\n",
      "       73    0.000    0.000    0.000    0.000 {method 'format' of 'str' objects}\n",
      "    20741    0.004    0.000    0.004    0.000 {method 'get' of 'dict' objects}\n",
      "       12    0.000    0.000    0.000    0.000 {method 'getrandbits' of '_random.Random' objects}\n",
      "     1587    0.000    0.000    0.000    0.000 {method 'group' of 're.Match' objects}\n",
      "      367    0.000    0.000    0.000    0.000 {method 'insert' of 'list' objects}\n",
      "       35    0.000    0.000    0.000    0.000 {method 'insert_node_on_in_edges_multiple' of 'retworkx.PyDiGraph' objects}\n",
      "        2    0.000    0.000    0.000    0.000 {method 'intersection' of 'set' objects}\n",
      "        1    0.000    0.000    0.000    0.000 {method 'is_dir' of 'posix.DirEntry' objects}\n",
      "      410    0.000    0.000    0.000    0.000 {method 'items' of 'dict' objects}\n",
      "        2    0.000    0.000    0.000    0.000 {method 'items' of 'mappingproxy' objects}\n",
      "      802    0.000    0.000    0.000    0.000 {method 'join' of 'str' objects}\n",
      "       88    0.000    0.000    0.000    0.000 {method 'keys' of 'dict' objects}\n",
      "     4817    0.006    0.000    0.006    0.000 {method 'match' of 're.Pattern' objects}\n",
      "        1    0.000    0.000    0.000    0.000 {method 'partition' of 'str' objects}\n",
      "      439    0.000    0.000    0.000    0.000 {method 'pop' of 'list' objects}\n",
      "        1    0.000    0.000    0.000    0.000 {method 'read' of '_io.TextIOWrapper' objects}\n",
      "       99    0.000    0.000    0.000    0.000 {method 'rfind' of 'str' objects}\n",
      "        2    0.000    0.000    0.000    0.000 {method 'rpartition' of 'str' objects}\n",
      "       10    0.000    0.000    0.000    0.000 {method 'rstrip' of 'str' objects}\n",
      "        5    0.000    0.000    0.001    0.000 {method 'sort' of 'list' objects}\n",
      "      283    0.000    0.000    0.000    0.000 {method 'split' of 'str' objects}\n",
      "       72    0.000    0.000    0.000    0.000 {method 'splitlines' of 'str' objects}\n",
      "      358    0.000    0.000    0.000    0.000 {method 'startswith' of 'str' objects}\n",
      "        1    0.000    0.000    0.000    0.000 {method 'strip' of 'str' objects}\n",
      "       37    0.000    0.000    0.000    0.000 {method 'union' of 'set' objects}\n",
      "       75    0.000    0.000    0.000    0.000 {method 'update' of 'dict' objects}\n",
      "        2    0.000    0.000    0.000    0.000 {method 'values' of 'collections.OrderedDict' objects}\n",
      "      189    0.000    0.000    0.000    0.000 {method 'values' of 'dict' objects}\n",
      "        2    0.000    0.000    0.000    0.000 {method 'values' of 'mappingproxy' objects}\n",
      "     2607    0.000    0.000    0.000    0.000 {method 'write' of '_io.TextIOWrapper' objects}\n",
      "\n",
      "\n",
      "OPENQASM 2.0;\n",
      "include \"qelib1.inc\";\n",
      "gate unitary140128848498448 p0,p1 {\n",
      "\tu3(pi/4,-pi/2,-pi) p0;\n",
      "\tcx p1,p0;\n",
      "\tu3(pi/2,-pi/4,pi/2) p1;\n",
      "\tu3(pi/4,0,-pi/2) p0;\n",
      "}\n",
      "gate unitary140128845345792 p0,p1 {\n",
      "\tu3(pi,-2.8126403,0.32895233) p0;\n",
      "\tu3(pi/2,-pi,-3*pi/4) p1;\n",
      "\tcx p0,p1;\n",
      "\tu3(pi/2,3*pi/4,0) p0;\n",
      "\tu3(pi/2,3*pi/4,0) p1;\n",
      "}\n",
      "qreg qr[8];\n",
      "creg cr[8];\n",
      "unitary140128848498448 qr[1],qr[2];\n",
      "cx qr[3],qr[1];\n",
      "t qr[1];\n",
      "cx qr[2],qr[1];\n",
      "tdg qr[1];\n",
      "t qr[2];\n",
      "cx qr[3],qr[1];\n",
      "t qr[1];\n",
      "h qr[1];\n",
      "cx qr[3],qr[2];\n",
      "tdg qr[2];\n",
      "t qr[3];\n",
      "cx qr[3],qr[2];\n",
      "unitary140128845345792 qr[1],qr[2];\n",
      "cx qr[3],qr[1];\n",
      "t qr[1];\n",
      "cx qr[2],qr[1];\n",
      "tdg qr[1];\n",
      "t qr[2];\n",
      "cx qr[3],qr[1];\n",
      "t qr[1];\n",
      "h qr[1];\n",
      "cx qr[3],qr[2];\n",
      "tdg qr[2];\n",
      "t qr[3];\n",
      "cx qr[3],qr[2];\n",
      "cx qr[1],qr[2];\n",
      "measure qr[0] -> cr[0];\n",
      "measure qr[1] -> cr[1];\n",
      "measure qr[2] -> cr[2];\n",
      "measure qr[3] -> cr[3];\n",
      "measure qr[4] -> cr[4];\n",
      "measure qr[5] -> cr[5];\n",
      "measure qr[6] -> cr[6];\n",
      "measure qr[7] -> cr[7];\n",
      "\n"
     ]
    },
    {
     "data": {
      "text/plain": [
       "{'00000100': 731, '00000010': 673, '00000110': 690, '00000000': 677}"
      ]
     },
     "execution_count": 165,
     "metadata": {},
     "output_type": "execute_result"
    }
   ],
   "source": [
    "# SECTION\n",
    "# NAME: PROLOGUE\n",
    "\n",
    "import qiskit\n",
    "from qiskit import QuantumCircuit, ClassicalRegister, QuantumRegister\n",
    "from qiskit.circuit.library.standard_gates import *\n",
    "from qiskit.circuit import Parameter\n",
    "# SECTION\n",
    "# NAME: PARAMETERS\n",
    "\n",
    "p_c6941b = Parameter('p_c6941b')\n",
    "p_23e413 = Parameter('p_23e413')\n",
    "p_555b62 = Parameter('p_555b62')\n",
    "p_3b9eb3 = Parameter('p_3b9eb3')\n",
    "p_d4ebb8 = Parameter('p_d4ebb8')\n",
    "p_9c2de8 = Parameter('p_9c2de8')\n",
    "p_3c4a4a = Parameter('p_3c4a4a')\n",
    "# SECTION\n",
    "# NAME: CIRCUIT\n",
    "\n",
    "qr = QuantumRegister(8, name='qr')\n",
    "cr = ClassicalRegister(8, name='cr')\n",
    "qc = QuantumCircuit(qr, cr, name='qc')\n",
    "\n",
    "subcircuit = QuantumCircuit(qr, cr, name='subcircuit')\n",
    "subcircuit.append(CSwapGate(), qargs=[qr[3], qr[2], qr[1]], cargs=[])\n",
    "qc.append(subcircuit, qargs=qr, cargs=cr)\n",
    "qc.append(subcircuit.inverse(), qargs=qr, cargs=cr)\n",
    "# SECTION\n",
    "# NAME: MEASUREMENT\n",
    "\n",
    "qc.measure(qr, cr)\n",
    "# SECTION\n",
    "# NAME: PARAMETER_BINDING\n",
    "\n",
    "# SECTION\n",
    "# NAME: OPTIMIZATION_LEVEL\n",
    "from qiskit import transpile\n",
    "qc = transpile(qc, optimization_level=3)\n",
    "# SECTION\n",
    "# NAME: QASM_CONVERSION\n",
    "\n",
    "\n",
    "import cProfile\n",
    "cProfile.run(\"my_qasm_follow = qc.qasm()\")\n",
    "cProfile.run(\"qc_new = QuantumCircuit.from_qasm_str(my_qasm_follow)\")\n",
    "# SECTION\n",
    "# NAME: EXECUTION\n",
    "#qc_new = QuantumCircuit.from_qasm_str(qc.qasm())\n",
    "\n",
    "from qiskit import Aer, transpile, execute\n",
    "backend_8dfab384f53945fab40deaf20a4011b1 = Aer.get_backend('qasm_simulator')\n",
    "counts_follow = execute(qc_new, backend=backend_8dfab384f53945fab40deaf20a4011b1, shots=2771).result().get_counts(qc_new)\n",
    "print(my_qasm_follow)\n",
    "counts_follow\n"
   ]
  },
  {
   "cell_type": "code",
   "execution_count": 96,
   "metadata": {
    "ExecuteTime": {
     "end_time": "2022-06-29T12:18:34.878622Z",
     "start_time": "2022-06-29T12:18:34.875378Z"
    }
   },
   "outputs": [],
   "source": [
    "#import pdb\n",
    "#pdb.set_trace()\n",
    "#qc = QuantumCircuit.from_qasm_str(qc.qasm())\n",
    "# b /home/paltenmo/.conda/envs/ML4Quantum/lib/python3.8/site-packages/qiskit/transpiler/passes/synthesis/unitary_synthesis.py:64\n",
    "# b /home/paltenmo/.conda/envs/ML4Quantum/lib/python3.8/site-packages/qiskit/quantum_info/synthesis/weyl.py:44"
   ]
  },
  {
   "cell_type": "code",
   "execution_count": 99,
   "metadata": {
    "ExecuteTime": {
     "end_time": "2022-06-29T12:18:35.729942Z",
     "start_time": "2022-06-29T12:18:35.722800Z"
    }
   },
   "outputs": [
    {
     "name": "stdout",
     "output_type": "stream",
     "text": [
      "{'00000000': 274, '00010000': 756, '01000000': 498, '01010000': 1243}\n"
     ]
    }
   ],
   "source": [
    "from pprint import pprint\n",
    "pprint(counts_follow)"
   ]
  },
  {
   "cell_type": "code",
   "execution_count": 100,
   "metadata": {
    "ExecuteTime": {
     "end_time": "2022-06-29T12:18:35.749700Z",
     "start_time": "2022-06-29T12:18:35.743734Z"
    }
   },
   "outputs": [
    {
     "data": {
      "text/plain": [
       "'1.10.1'"
      ]
     },
     "execution_count": 100,
     "metadata": {},
     "output_type": "execute_result"
    }
   ],
   "source": [
    "import sympy\n",
    "sympy.__version__"
   ]
  },
  {
   "cell_type": "code",
   "execution_count": 5,
   "metadata": {
    "ExecuteTime": {
     "end_time": "2022-06-28T22:11:03.153313Z",
     "start_time": "2022-06-28T22:11:03.147134Z"
    },
    "scrolled": true
   },
   "outputs": [
    {
     "data": {
      "text/plain": [
       "'0.8.1'"
      ]
     },
     "execution_count": 5,
     "metadata": {},
     "output_type": "execute_result"
    }
   ],
   "source": [
    "import symengine\n",
    "symengine.__version__"
   ]
  },
  {
   "cell_type": "markdown",
   "metadata": {},
   "source": [
    "# Def additional code"
   ]
  },
  {
   "cell_type": "code",
   "execution_count": 74,
   "metadata": {
    "ExecuteTime": {
     "end_time": "2022-06-29T12:16:44.958510Z",
     "start_time": "2022-06-29T12:16:44.905657Z"
    }
   },
   "outputs": [],
   "source": [
    "\"\"\"\n",
    "This file inspects a specific divergent comparison to find the root cause.\n",
    "\n",
    "It includes also methods to store copies of interesting files in a\n",
    "separate folder.\n",
    "\"\"\"\n",
    "\n",
    "\n",
    "# import libraries\n",
    "from copy import deepcopy\n",
    "import matplotlib.pyplot as plt\n",
    "import matplotlib.patches as mpatches\n",
    "import numpy as np\n",
    "import os\n",
    "from os.path import join\n",
    "import pandas as pd\n",
    "import pathlib\n",
    "from termcolor import colored\n",
    "import seaborn as sns\n",
    "import shutil\n",
    "from typing import List, Tuple, Dict, Any\n",
    "\n",
    "\n",
    "def convert_dict_to_df(res_a, res_b, platform_a, platform_b):\n",
    "    \"\"\"Convert two dictionary of execturions in a dataframe.\n",
    "\n",
    "    Note that each record fives info about:\n",
    "    - platform (column name: \"name\")\n",
    "    - output string (column name: \"string\")\n",
    "    - frequency (column name: \"counter\")\n",
    "    \"\"\"\n",
    "    p1_strings, p1_counters = list(zip(*list(res_a.items())))\n",
    "    p1_names = [f\"{platform_a}\"\n",
    "                for _ in range(len(p1_strings))]\n",
    "    p2_strings, p2_counters = list(zip(*list(res_b.items())))\n",
    "    p2_names = [f\"{platform_b}\"\n",
    "                for _ in range(len(p2_strings))]\n",
    "    all_strings = p1_strings + p2_strings\n",
    "    all_counters = p1_counters + p2_counters\n",
    "    all_names = p1_names + p2_names\n",
    "    df = pd.DataFrame(zip(all_strings, all_counters, all_names), columns=[\"string\", \"counter\", \"name\"])\n",
    "    df = df.sort_values(by=[\"counter\"], ascending=False)\n",
    "    return df\n",
    "\n",
    "\n",
    "def retrieve_relevant_file_paths(\n",
    "        experiment_folder: str,\n",
    "        program_id: str,\n",
    "        root_folder: str = \"../data\"):\n",
    "    \"\"\"Create the file paths.\"\"\"\n",
    "    main_path = os.path.join(root_folder, experiment_folder, \"programs\")\n",
    "    path_dict = {\n",
    "        \"source\": join(main_path, \"source\", f\"{program_id}.py\"),\n",
    "        \"followup\": join(main_path, \"followup\", f\"{program_id}.py\"),\n",
    "        \"metadata\": join(main_path, \"metadata\", f\"{program_id}.json\"),\n",
    "        \"metadata_exec\": join(main_path, \"metadata_exec\", f\"{program_id}.json\")\n",
    "    }\n",
    "    return path_dict\n",
    "\n",
    "\n",
    "def read_program(path: str, color='black'):\n",
    "    file_content = open(path, 'r').read()\n",
    "    print(colored(file_content, color))\n",
    "    return file_content\n",
    "\n",
    "\n",
    "\n",
    "def create_folder_in_interesting_cases(\n",
    "        experiment_folder: str,\n",
    "        program_id: str,\n",
    "        root_folder: str = \"../intersting_cases/metamorphic_testing\"):\n",
    "    \"\"\"Create destination folder for the relevant files.\"\"\"\n",
    "    number = \"\".join([c for c in experiment_folder if c.isdigit()])\n",
    "    new_folder_name = f\"{number}_{program_id[:6]}\"\n",
    "    new_folder_path = os.path.join(root_folder, new_folder_name)\n",
    "    pathlib.Path(new_folder_path).mkdir(parents=True, exist_ok=True)\n",
    "    return new_folder_path\n",
    "\n",
    "\n",
    "def copy_bug(\n",
    "        experiment_folder: str,\n",
    "        program_id: str,\n",
    "        root_data_folder: str = \"../data\",\n",
    "        root_bug_folder: str = \"../intersting_cases/metamorphic_testing\"):\n",
    "    \"\"\"Copy all the files of the interesting bug.\"\"\"\n",
    "    dest_folder = create_folder_in_interesting_cases(\n",
    "        experiment_folder=experiment_folder,\n",
    "        program_id=program_id,\n",
    "        root_folder=root_bug_folder\n",
    "    )\n",
    "\n",
    "    original_file_paths = retrieve_relevant_file_paths(\n",
    "        experiment_folder=experiment_folder,\n",
    "        program_id=program_id,\n",
    "        root_folder=root_data_folder\n",
    "    )\n",
    "\n",
    "    for k, original_file_path in original_file_paths.items():\n",
    "        basename = os.path.basename(original_file_path)\n",
    "        dest_file_path = join(dest_folder, f\"{k}_{basename}\")\n",
    "        print(f\"Copying... from {original_file_path} to {dest_file_path}\")\n",
    "        try:\n",
    "            shutil.copy(original_file_path, dest_file_path)\n",
    "        except FileNotFoundError as e:\n",
    "            print(e)\n",
    "\n",
    "\n",
    "def normalize_names(df: pd.DataFrame,\n",
    "                    col: str, mapping: List[Tuple[str, str]]):\n",
    "    \"\"\"Replace the value of the given column according to the mapping.\n",
    "\n",
    "    Each cell that contains the first string, will be replaced completely\n",
    "    with the second string of the tuple.\"\"\"\n",
    "    df = deepcopy(df)\n",
    "    for hook, replacement in mapping:\n",
    "        df.loc[df[col].str.contains(hook), col] = replacement\n",
    "    return df\n",
    "\n",
    "\n",
    "def cluster_warnings(\n",
    "        df: pd.DataFrame, warning_col: str, cluster_config: Dict[str, Any]):\n",
    "    \"\"\"Cluster the warnings based the given cluster configuration.\n",
    "\n",
    "    Return: pd.DataFrame\n",
    "        initial dataframe with new columns:\n",
    "        - cluster_id\n",
    "        - category: BUG, FP, UNCLEAR\n",
    "        - short_desc: short description\n",
    "        - etc. the other columns can be see in the configuration file\n",
    "        in the cluster section\n",
    "    \"\"\"\n",
    "    df = deepcopy(df)\n",
    "    df_clusters = pd.json_normalize(cluster_config[\"clusters\"])\n",
    "    # create a default no cluster category\n",
    "    df[\"cluster_id\"] = \"C_0\"\n",
    "    for cluster_rule in cluster_config[\"clustering_rules\"]:\n",
    "        hook = cluster_rule[\"hook\"]\n",
    "        replacement = cluster_rule[\"cluster_id\"]\n",
    "        if cluster_rule[\"type\"] == \"substring\":\n",
    "            df.loc[df[warning_col].str.contains(hook), \"cluster_id\"] = \\\n",
    "                replacement\n",
    "        elif cluster_rule[\"type\"] == \"regex\":\n",
    "            df.loc[df[warning_col].str.match(hook), \"cluster_id\"] = replacement\n",
    "    df_augmented = pd.merge(\n",
    "        left=df,\n",
    "        right=df_clusters,\n",
    "        on=\"cluster_id\"\n",
    "    )\n",
    "    return df_augmented\n",
    "\n",
    "\n",
    "def inspec_column_of(df, program_id: str, target_col: str):\n",
    "    \"\"\"Inspect the value of a specific column given the program id.\"\"\"\n",
    "    df_single = df[df[\"program_id\"] == program_id]\n",
    "    print(f\"n hits: {len(df_single)}\")\n",
    "    df_single = df_single.iloc[0]\n",
    "    print(df_single[target_col])\n",
    "\n",
    "\n",
    "def scan_log_for(log_lines: List[str],\n",
    "                 target_string: str,\n",
    "                 exclude_string: str = None,\n",
    "                 neighborhood: int = 3):\n",
    "    \"\"\"Returns all the lines with the target string.\"\"\"\n",
    "    relevant_lines: List[List[str]] = []\n",
    "    i: int = 0\n",
    "    for line in log_lines:\n",
    "        if target_string in line:\n",
    "            if exclude_string is not None and exclude_string in line:\n",
    "                continue\n",
    "            relevant_lines.append(log_lines[i-neighborhood : i+neighborhood])\n",
    "        i = i + 1\n",
    "    return relevant_lines\n",
    "\n",
    "\n",
    "def get_alarms_with_method(df, pval_col: str, alpha_level: float, method: str):\n",
    "    \"\"\"Get the program ids of the warnings raised by a method.\"\"\"\n",
    "    df_sorted_pvals = df.sort_values(by=[pval_col])\n",
    "    k = len(df_sorted_pvals)\n",
    "    i_star = None\n",
    "    program_ids = []\n",
    "    for i, (idx, row) in enumerate(df_sorted_pvals.iterrows()):\n",
    "        ordinal_i = i + 1\n",
    "        P_i = row[pval_col]\n",
    "        if method == 'holm':\n",
    "            threshold = alpha_level / (k - ordinal_i + 1)\n",
    "        elif method == 'bonferroni':\n",
    "            threshold = alpha_level / (k)\n",
    "        elif method == 'bh':\n",
    "            threshold = (alpha_level / (k)) * ordinal_i\n",
    "        # print(f\"(i: {ordinal_i}) current p-value: {P_i} vs threshold: {threshold}\")\n",
    "        elif method == 'static':\n",
    "            threshold = alpha_level\n",
    "        if P_i > threshold:\n",
    "            i_star = i\n",
    "            #print(f\"i*: {i_star}\")\n",
    "            break\n",
    "        program_ids.append(row[\"program_id\"])\n",
    "    return program_ids\n",
    "\n",
    "\n",
    "def count_alarms_with_method(df, pval_col: str, alpha_level: float, method: str):\n",
    "    \"\"\"Count the number of warnings raised by a method.\"\"\"\n",
    "    return len(get_alarms_with_method(\n",
    "        df=df,\n",
    "        pval_col=pval_col,\n",
    "        alpha_level=alpha_level,\n",
    "        method=method\n",
    "    ))\n",
    "\n",
    "\n",
    "def get_first_n(df, col_time: str, n=1000):\n",
    "    \"\"\"Get the first n records as ordered by the time column.\"\"\"\n",
    "    return df.sort_values(by=col_time).iloc[:n]\n",
    "\n",
    "\n",
    "class Inspector(object):\n",
    "\n",
    "    def __init__(self,\n",
    "                 folder_executions: str,\n",
    "                 platform_names: Tuple[str, str] = [\"qiskit\", \"cirq\"]) -> None:\n",
    "        super().__init__()\n",
    "        self.folder_executions = folder_executions\n",
    "        self.platform_names = platform_names\n",
    "\n",
    "    def inspect(self,\n",
    "                df: pd.DataFrame,\n",
    "                divergent_id: int,\n",
    "                colname_pvalue: str,\n",
    "                colname_id: str = \"program_id\") -> None:\n",
    "        \"\"\"Select a program form a dataframe and load the results.\"\"\"\n",
    "        df[colname_id] = df[colname_id].astype(int)\n",
    "        df_to_inspect = df[df[colname_id] == divergent_id]\n",
    "        if len(df_to_inspect) > 1:\n",
    "            print(f\"There are {len(df_to_inspect)} records for program: {divergent_id}\")\n",
    "        divergent_record = df_to_inspect.iloc[0]\n",
    "        self.p_value = divergent_record[colname_pvalue]\n",
    "        self.p1_results, self.p2_results = [\n",
    "            self.get_results(\n",
    "                divergent_id=divergent_id,\n",
    "                platform_name=platform_name)\n",
    "            for platform_name in self.platform_names\n",
    "        ]\n",
    "        self._create_dataframes()\n",
    "\n",
    "    def _create_dataframes(self):\n",
    "        df = convert_dict_to_df(\n",
    "            res_a=self.p1_results,\n",
    "            res_b=self.p2_results,\n",
    "            platform_a=self.platform_names[0],\n",
    "            platform_b=self.platform_names[1]\n",
    "        )\n",
    "        self.df_melted = df\n",
    "        self.df_p1 = df[df[\"name\"] == f\"{self.platform_names[0]}\"]\n",
    "        self.df_p2 = df[df[\"name\"] == f\"{self.platform_names[1]}\"]\n",
    "        self.df_joined = pd.merge(self.df_p1, self.df_p2, on=\"string\")\n",
    "\n",
    "    def get_results(self, divergent_id, platform_name):\n",
    "        \"\"\"Read the results for the program with this id and platform name.\"\"\"\n",
    "        path_platform = os.path.join(\n",
    "            self.folder_executions, platform_name\n",
    "        )\n",
    "        all_executions = os.listdir(path_platform)\n",
    "        if f\"{divergent_id}.json\" in all_executions:\n",
    "            return load_json(\n",
    "                filename=f\"{divergent_id}.json\", folder=path_platform)\n",
    "        elif f\"{divergent_id}_0.json\" in all_executions:\n",
    "            return load_multiple_json(\n",
    "                program_id=divergent_id, folder=path_platform)\n",
    "        else:\n",
    "            return {}\n",
    "\n",
    "    def plot_execution_top_k(self, k=10, confidence_level=0.95):\n",
    "        \"\"\"Print histogram results of the two distributions.\"\"\"\n",
    "        self._plot_result_single_platform(\n",
    "            self.p1_results, platform_name=self.platform_names[0],\n",
    "            top_k=k, confidence_level=confidence_level)\n",
    "        self._plot_result_single_platform(\n",
    "            self.p2_results, platform_name=self.platform_names[1],\n",
    "            top_k=k, confidence_level=confidence_level)\n",
    "\n",
    "    def plot_histogram_together(self, top_perc=.25, max_solutions=50, figsize=(10, 6)):\n",
    "        \"\"\"Plot the histogram together for both platforms.\n",
    "\n",
    "        The histogram will contain the top_perc of the solutions or at max\n",
    "        a certain number of solutions (max_solution). Whatever is smaller.\n",
    "\n",
    "        Note that the top_perc is the percentage of the top solutions to plot.\n",
    "        \"\"\"\n",
    "        df = self.df_melted\n",
    "        # to compute with the full dataset\n",
    "        n_shots = df[\"counter\"].sum() / 2  # because we have two platforms\n",
    "        max_value = df[\"counter\"].max()\n",
    "        n_qubits = len(str(df.iloc[0][\"string\"]))\n",
    "\n",
    "        df = self._cap_top_perc(df, top_perc)\n",
    "        if len(df) > max_solutions:\n",
    "            df = df.iloc[:max_solutions]\n",
    "\n",
    "        print(f\"n_qubits: {n_qubits}\")\n",
    "        print(f\"n_shots: {n_shots}\")\n",
    "        uniform_threshold = ((1 / (2 ** n_qubits)) * n_shots)\n",
    "        print(f\"Uniform threshold: {uniform_threshold}\")\n",
    "        plt.figure(figsize=figsize)\n",
    "        sns.barplot(x=\"string\", hue=\"name\", y=\"counter\", data=df)\n",
    "        if uniform_threshold < max_value * 1.1:\n",
    "            plt.axhline(y=uniform_threshold, color=\"red\", linestyle=\"--\")\n",
    "        else:\n",
    "            plt.gca().set_facecolor(\"violet\")\n",
    "        # rotate labels 90\n",
    "        plt.xticks(rotation=90)\n",
    "        plt.show()\n",
    "\n",
    "    def _plot_result_single_platform(self, execution_dict, platform_name,\n",
    "                                     top_k=10, confidence_level=0.95):\n",
    "        \"\"\"Print results single execution.\"\"\"\n",
    "        pairs_solution_frequency = list(execution_dict.items())\n",
    "        occurrences = [e[1] for e in pairs_solution_frequency]\n",
    "        total = sum(occurrences)\n",
    "        max_value = max(occurrences)\n",
    "        n_qubits = len(pairs_solution_frequency[0][0])\n",
    "        expected_uniform_occurency = (float(1)/2**n_qubits) * 100\n",
    "        if len(pairs_solution_frequency) > top_k:\n",
    "            pairs_solution_frequency = sorted(pairs_solution_frequency, key=lambda x: x[1], reverse=True)[:top_k]\n",
    "        else:\n",
    "            pairs_solution_frequency = sorted(pairs_solution_frequency)\n",
    "        strings, occurrences = list(zip(*pairs_solution_frequency))\n",
    "        error = self._compute_error_bars(occurrences, total, confidence_level)\n",
    "        plt.bar(x=range(len(strings)), height=occurrences,\n",
    "                tick_label=strings, yerr=error, align='center', alpha=0.5, ecolor='black', capsize=10)\n",
    "        plt.xticks(rotation=90)\n",
    "        plt.title(f\"{platform_name} (n_qubits: {n_qubits})\")\n",
    "        for i, (k, v) in enumerate(pairs_solution_frequency):\n",
    "            perc = ((float(v) / total) * 100)\n",
    "            plt.text(i, max_value / 5, f\"{perc:.1f}%\", color='black', fontweight='bold', rotation=90)\n",
    "        plt.text(int(top_k/2), max_value * .8,\n",
    "                 f\"Uniform threshold: {expected_uniform_occurency:.1f}%\",\n",
    "                 color='black', fontweight='bold')\n",
    "        plt.hlines(expected_uniform_occurency * total / 100, -1, top_k, colors='red')\n",
    "\n",
    "        plt.show()\n",
    "\n",
    "    def _compute_error_bars(self, y, n_shots, confidence_level=0.95):\n",
    "        \"\"\"Compute the error bars for the histogram.\"\"\"\n",
    "        prob_y = [float(e/n_shots) for e in y]\n",
    "        err = [\n",
    "           confidence_level * np.sqrt(prob_y[i] * (1 - prob_y[i]) / n_shots)\n",
    "           for i in range(len(y))\n",
    "        ]\n",
    "        scaled_up_error = [e * n_shots for e in err]\n",
    "        return scaled_up_error\n",
    "\n",
    "    def _cap_top_perc(self, df, top_perc):\n",
    "        df_grouped = df.groupby([\"string\"])[\"counter\"].max().reset_index()\n",
    "        df_grouped = df_grouped.sort_values(by=\"counter\", ascending=False)\n",
    "        all_strings_appeared = df_grouped[\"string\"].tolist()\n",
    "        strings_to_remove = all_strings_appeared[int(len(df) * top_perc):]\n",
    "        df = df[~df[\"string\"].isin(strings_to_remove)]\n",
    "        return df\n",
    "\n",
    "    def plot_most_divergent_output(self, top_perc=.25, figsize=(10, 6)):\n",
    "        plt.figure(figsize=figsize)\n",
    "        df = self.df_joined\n",
    "        df[\"diff\"] = df[\"counter_x\"] - df[\"counter_y\"]\n",
    "        df[\"diff\"] = df[\"diff\"].abs()\n",
    "        df.sort_values(by=\"diff\", ascending=False, inplace=True)\n",
    "        df = self._cap_top_perc(df, top_perc)\n",
    "        plt.figure(figsize=figsize)\n",
    "        sns.barplot(x=\"string\", y=\"diff\", data=df)\n",
    "        plt.xticks(rotation=90)\n",
    "        plt.show()\n",
    "\n",
    "\n",
    "class OneNightStandInspector(object):\n",
    "\n",
    "    def __init__(self, count_res_a, count_res_b, name_a='exec_a', name_b='exec_b', top_perc=.25, max_solutions=50, figsize=(10, 6)):\n",
    "        \"\"\"Plot the histogram together for both platforms.\n",
    "\n",
    "        The histogram will contain the top_perc of the solutions or at max\n",
    "        a certain number of solutions (max_solution). Whatever is smaller.\n",
    "\n",
    "        Note that the top_perc is the percentage of the top solutions to plot.\n",
    "        \"\"\"\n",
    "        df = convert_dict_to_df(\n",
    "            res_a=count_res_a,\n",
    "            res_b=count_res_b,\n",
    "            platform_a=name_a,\n",
    "            platform_b=name_b\n",
    "        )\n",
    "        # to compute with the full dataset\n",
    "        n_shots_platform_a = df.where(df[\"name\"] == name_a)[\"counter\"].sum()\n",
    "        n_shots_platform_b = df.where(df[\"name\"] == name_b)[\"counter\"].sum()\n",
    "        df_normalized = df.copy()\n",
    "        df_normalized[\"counter\"] = df_normalized.apply(\n",
    "            lambda row:\n",
    "                row[\"counter\"] / n_shots_platform_a\n",
    "                if row[\"name\"] == name_a\n",
    "                else row[\"counter\"] / n_shots_platform_b,\n",
    "            axis=1)\n",
    "        df = df_normalized\n",
    "        max_value = df[\"counter\"].max()\n",
    "        n_qubits = len(str(df.iloc[0][\"string\"]))\n",
    "\n",
    "        df = self._cap_top_perc(df, top_perc)\n",
    "        if len(df) > max_solutions:\n",
    "            df = df.iloc[:max_solutions]\n",
    "\n",
    "        print(f\"n_qubits: {n_qubits}\")\n",
    "        print(f\"n_shots_platform_a: {n_shots_platform_a}\")\n",
    "        print(f\"n_shots_platform_b: {n_shots_platform_b}\")\n",
    "        uniform_threshold = ((1 / (2 ** n_qubits)))\n",
    "        print(f\"Uniform threshold: {uniform_threshold}\")\n",
    "        plt.figure(figsize=figsize)\n",
    "        sns.barplot(x=\"string\", hue=\"name\", y=\"counter\", data=df)\n",
    "        if uniform_threshold < max_value * 1.1:\n",
    "            plt.axhline(y=uniform_threshold, color=\"red\", linestyle=\"--\")\n",
    "        else:\n",
    "            plt.gca().set_facecolor(\"violet\")\n",
    "        # rotate labels 90\n",
    "        plt.xticks(rotation=90)\n",
    "        plt.show()\n",
    "\n",
    "    def _cap_top_perc(self, df, top_perc):\n",
    "        df_grouped = df.groupby([\"string\"])[\"counter\"].max().reset_index()\n",
    "        df_grouped = df_grouped.sort_values(by=\"counter\", ascending=False)\n",
    "        all_strings_appeared = df_grouped[\"string\"].tolist()\n",
    "        strings_to_remove = all_strings_appeared[int(len(df) * top_perc):]\n",
    "        df = df[~df[\"string\"].isin(strings_to_remove)]\n",
    "        return df"
   ]
  },
  {
   "cell_type": "markdown",
   "metadata": {},
   "source": [
    "# Compare"
   ]
  },
  {
   "cell_type": "code",
   "execution_count": 75,
   "metadata": {
    "ExecuteTime": {
     "end_time": "2022-06-29T12:16:46.063326Z",
     "start_time": "2022-06-29T12:16:45.644917Z"
    }
   },
   "outputs": [
    {
     "name": "stdout",
     "output_type": "stream",
     "text": [
      "n_qubits: 8\n",
      "n_shots_platform_a: 2771.0\n",
      "n_shots_platform_b: 2771.0\n",
      "Uniform threshold: 0.00390625\n"
     ]
    },
    {
     "data": {
      "image/png": "[encoded data removed]",
      "text/plain": [
       "<Figure size 720x432 with 1 Axes>"
      ]
     },
     "metadata": {
      "needs_background": "light"
     },
     "output_type": "display_data"
    },
    {
     "data": {
      "text/plain": [
       "<__main__.OneNightStandInspector at 0x7f724a27f4f0>"
      ]
     },
     "execution_count": 75,
     "metadata": {},
     "output_type": "execute_result"
    }
   ],
   "source": [
    "OneNightStandInspector(counts_source, counts_follow, top_perc=1)"
   ]
  },
  {
   "cell_type": "code",
   "execution_count": 116,
   "metadata": {
    "ExecuteTime": {
     "end_time": "2022-06-28T22:42:26.126099Z",
     "start_time": "2022-06-28T22:42:26.115142Z"
    }
   },
   "outputs": [
    {
     "data": {
      "text/plain": [
       "'CPython'"
      ]
     },
     "execution_count": 116,
     "metadata": {},
     "output_type": "execute_result"
    }
   ],
   "source": [
    "import platform    \n",
    "platform.python_implementation()"
   ]
  },
  {
   "cell_type": "code",
   "execution_count": 117,
   "metadata": {
    "ExecuteTime": {
     "end_time": "2022-06-28T22:43:10.562098Z",
     "start_time": "2022-06-28T22:43:10.474462Z"
    }
   },
   "outputs": [
    {
     "data": {
      "text/plain": [
       "('64bit', 'ELF')"
      ]
     },
     "execution_count": 117,
     "metadata": {},
     "output_type": "execute_result"
    }
   ],
   "source": [
    "platform.architecture()"
   ]
  },
  {
   "cell_type": "code",
   "execution_count": 118,
   "metadata": {
    "ExecuteTime": {
     "end_time": "2022-06-28T22:43:33.180708Z",
     "start_time": "2022-06-28T22:43:33.168228Z"
    }
   },
   "outputs": [
    {
     "data": {
      "text/plain": [
       "'x86_64'"
      ]
     },
     "execution_count": 118,
     "metadata": {},
     "output_type": "execute_result"
    }
   ],
   "source": [
    "platform.machine()"
   ]
  },
  {
   "cell_type": "code",
   "execution_count": 120,
   "metadata": {
    "ExecuteTime": {
     "end_time": "2022-06-28T22:43:48.951797Z",
     "start_time": "2022-06-28T22:43:48.935817Z"
    }
   },
   "outputs": [
    {
     "data": {
      "text/plain": [
       "'GCC 7.3.0'"
      ]
     },
     "execution_count": 120,
     "metadata": {},
     "output_type": "execute_result"
    }
   ],
   "source": [
    "platform.python_compiler()"
   ]
  },
  {
   "cell_type": "code",
   "execution_count": 121,
   "metadata": {
    "ExecuteTime": {
     "end_time": "2022-06-28T22:44:06.042365Z",
     "start_time": "2022-06-28T22:44:06.027162Z"
    }
   },
   "outputs": [
    {
     "data": {
      "text/plain": [
       "('3', '8', '0')"
      ]
     },
     "execution_count": 121,
     "metadata": {},
     "output_type": "execute_result"
    }
   ],
   "source": [
    "platform.python_version_tuple()"
   ]
  },
  {
   "cell_type": "code",
   "execution_count": 123,
   "metadata": {
    "ExecuteTime": {
     "end_time": "2022-06-28T22:44:22.238412Z",
     "start_time": "2022-06-28T22:44:22.222810Z"
    }
   },
   "outputs": [
    {
     "data": {
      "text/plain": [
       "''"
      ]
     },
     "execution_count": 123,
     "metadata": {},
     "output_type": "execute_result"
    }
   ],
   "source": [
    "platform.python_revision()"
   ]
  },
  {
   "cell_type": "code",
   "execution_count": 124,
   "metadata": {
    "ExecuteTime": {
     "end_time": "2022-06-28T22:44:59.602151Z",
     "start_time": "2022-06-28T22:44:59.588364Z"
    }
   },
   "outputs": [
    {
     "data": {
      "text/plain": [
       "'Linux'"
      ]
     },
     "execution_count": 124,
     "metadata": {},
     "output_type": "execute_result"
    }
   ],
   "source": [
    "platform.system()"
   ]
  },
  {
   "cell_type": "code",
   "execution_count": 125,
   "metadata": {
    "ExecuteTime": {
     "end_time": "2022-06-28T22:45:43.337807Z",
     "start_time": "2022-06-28T22:45:43.323600Z"
    }
   },
   "outputs": [
    {
     "data": {
      "text/plain": [
       "'x86_64'"
      ]
     },
     "execution_count": 125,
     "metadata": {},
     "output_type": "execute_result"
    }
   ],
   "source": [
    "platform.processor()"
   ]
  },
  {
   "cell_type": "code",
   "execution_count": 127,
   "metadata": {
    "ExecuteTime": {
     "end_time": "2022-06-28T22:46:12.303381Z",
     "start_time": "2022-06-28T22:46:12.289750Z"
    }
   },
   "outputs": [
    {
     "data": {
      "text/plain": [
       "('default', 'Nov 22 2019 19:11:38')"
      ]
     },
     "execution_count": 127,
     "metadata": {},
     "output_type": "execute_result"
    }
   ],
   "source": [
    "platform.python_build()"
   ]
  },
  {
   "cell_type": "code",
   "execution_count": null,
   "metadata": {},
   "outputs": [],
   "source": []
  }
 ],
 "metadata": {
  "kernelspec": {
   "display_name": "Python 3 (ipykernel)",
   "language": "python",
   "name": "python3"
  },
  "language_info": {
   "codemirror_mode": {
    "name": "ipython",
    "version": 3
   },
   "file_extension": ".py",
   "mimetype": "text/x-python",
   "name": "python",
   "nbconvert_exporter": "python",
   "pygments_lexer": "ipython3",
   "version": "3.8.0"
  },
  "toc": {
   "base_numbering": 1,
   "nav_menu": {},
   "number_sections": true,
   "sideBar": true,
   "skip_h1_title": false,
   "title_cell": "Table of Contents",
   "title_sidebar": "Contents",
   "toc_cell": false,
   "toc_position": {
    "height": "calc(100% - 180px)",
    "left": "10px",
    "top": "150px",
    "width": "384px"
   },
   "toc_section_display": true,
   "toc_window_display": true
  },
  "varInspector": {
   "cols": {
    "lenName": "20",
    "lenType": 16,
    "lenVar": 40
   },
   "kernels_config": {
    "python": {
     "delete_cmd_postfix": "",
     "delete_cmd_prefix": "del ",
     "library": "var_list.py",
     "varRefreshCmd": "print(var_dic_list())"
    },
    "r": {
     "delete_cmd_postfix": ") ",
     "delete_cmd_prefix": "rm(",
     "library": "var_list.r",
     "varRefreshCmd": "cat(var_dic_list()) "
    }
   },
   "types_to_exclude": [
    "module",
    "function",
    "builtin_function_or_method",
    "instance",
    "_Feature"
   ],
   "window_display": false
  }
 },
 "nbformat": 4,
 "nbformat_minor": 4
}
