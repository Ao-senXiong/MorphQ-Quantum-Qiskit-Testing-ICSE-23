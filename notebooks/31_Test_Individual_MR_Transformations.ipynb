{
 "cells": [
  {
   "cell_type": "code",
   "execution_count": 1,
   "id": "0d030168",
   "metadata": {
    "ExecuteTime": {
     "end_time": "2022-02-09T09:14:48.784146Z",
     "start_time": "2022-02-09T09:14:47.079172Z"
    }
   },
   "outputs": [],
   "source": [
    "import pandas as pd\n",
    "import sys\n",
    "sys.path.append(\"../lib\")\n",
    "import seaborn as sns\n",
    "import matplotlib.pyplot as plt\n",
    "from utils import iterate_over\n",
    "from utils import load_config_and_check\n",
    "from inspector import Inspector\n",
    "from tqdm import tqdm\n",
    "import sqlite3 as sl\n",
    "import os"
   ]
  },
  {
   "cell_type": "code",
   "execution_count": 2,
   "id": "0c112b19",
   "metadata": {
    "ExecuteTime": {
     "end_time": "2022-02-09T09:14:52.504964Z",
     "start_time": "2022-02-09T09:14:52.476134Z"
    }
   },
   "outputs": [],
   "source": [
    "%load_ext autoreload\n",
    "%autoreload 2"
   ]
  },
  {
   "cell_type": "code",
   "execution_count": null,
   "id": "ca57b719",
   "metadata": {},
   "outputs": [],
   "source": []
  },
  {
   "cell_type": "markdown",
   "id": "3c7cb420",
   "metadata": {},
   "source": [
    "## Inspect AST Manually"
   ]
  },
  {
   "cell_type": "code",
   "execution_count": 3,
   "id": "31ad2d9a",
   "metadata": {
    "ExecuteTime": {
     "end_time": "2022-02-09T09:16:11.725256Z",
     "start_time": "2022-02-09T09:16:11.701741Z"
    }
   },
   "outputs": [],
   "source": [
    "import ast\n",
    "import astpretty"
   ]
  },
  {
   "cell_type": "code",
   "execution_count": 8,
   "id": "0c970649",
   "metadata": {
    "ExecuteTime": {
     "end_time": "2022-02-09T09:24:42.175920Z",
     "start_time": "2022-02-09T09:24:42.151078Z"
    }
   },
   "outputs": [],
   "source": [
    "def show_tree(code: str):\n",
    "    tree = ast.parse(code)\n",
    "    astpretty.pprint(tree)"
   ]
  },
  {
   "cell_type": "code",
   "execution_count": 10,
   "id": "2896292c",
   "metadata": {
    "ExecuteTime": {
     "end_time": "2022-02-09T09:25:04.844666Z",
     "start_time": "2022-02-09T09:25:04.820328Z"
    }
   },
   "outputs": [
    {
     "name": "stdout",
     "output_type": "stream",
     "text": [
      "Module(\n",
      "    body=[\n",
      "        ImportFrom(\n",
      "            lineno=2,\n",
      "            col_offset=0,\n",
      "            end_lineno=2,\n",
      "            end_col_offset=28,\n",
      "            module='qiskit',\n",
      "            names=[alias(name='transpile', asname=None)],\n",
      "            level=0,\n",
      "        ),\n",
      "        Assign(\n",
      "            lineno=3,\n",
      "            col_offset=0,\n",
      "            end_lineno=3,\n",
      "            end_col_offset=58,\n",
      "            targets=[Name(lineno=3, col_offset=0, end_lineno=3, end_col_offset=2, id='qc', ctx=Store())],\n",
      "            value=Call(\n",
      "                lineno=3,\n",
      "                col_offset=5,\n",
      "                end_lineno=3,\n",
      "                end_col_offset=58,\n",
      "                func=Name(lineno=3, col_offset=5, end_lineno=3, end_col_offset=14, id='transpile', ctx=Load()),\n",
      "                args=[Name(lineno=3, col_offset=15, end_lineno=3, end_col_offset=17, id='qc', ctx=Load())],\n",
      "                keywords=[\n",
      "                    keyword(\n",
      "                        arg='basis_gates',\n",
      "                        value=Constant(lineno=3, col_offset=31, end_lineno=3, end_col_offset=35, value=None, kind=None),\n",
      "                    ),\n",
      "                    keyword(\n",
      "                        arg='optimization_level',\n",
      "                        value=Constant(lineno=3, col_offset=56, end_lineno=3, end_col_offset=57, value=0, kind=None),\n",
      "                    ),\n",
      "                ],\n",
      "            ),\n",
      "            type_comment=None,\n",
      "        ),\n",
      "    ],\n",
      "    type_ignores=[],\n",
      ")\n"
     ]
    }
   ],
   "source": [
    "show_tree(\"\"\"\n",
    "from qiskit import transpile\n",
    "qc = transpile(qc, basis_gates=None, optimization_level=0)\n",
    "\"\"\")"
   ]
  },
  {
   "cell_type": "code",
   "execution_count": 12,
   "id": "e74c4f46",
   "metadata": {
    "ExecuteTime": {
     "end_time": "2022-02-09T09:27:28.122192Z",
     "start_time": "2022-02-09T09:27:28.079523Z"
    }
   },
   "outputs": [
    {
     "name": "stdout",
     "output_type": "stream",
     "text": [
      "Module(\n",
      "    body=[\n",
      "        ImportFrom(\n",
      "            lineno=2,\n",
      "            col_offset=0,\n",
      "            end_lineno=2,\n",
      "            end_col_offset=28,\n",
      "            module='qiskit',\n",
      "            names=[alias(name='transpile', asname=None)],\n",
      "            level=0,\n",
      "        ),\n",
      "        Assign(\n",
      "            lineno=3,\n",
      "            col_offset=0,\n",
      "            end_lineno=3,\n",
      "            end_col_offset=83,\n",
      "            targets=[Name(lineno=3, col_offset=0, end_lineno=3, end_col_offset=2, id='qc', ctx=Store())],\n",
      "            value=Call(\n",
      "                lineno=3,\n",
      "                col_offset=5,\n",
      "                end_lineno=3,\n",
      "                end_col_offset=83,\n",
      "                func=Name(lineno=3, col_offset=5, end_lineno=3, end_col_offset=14, id='transpile', ctx=Load()),\n",
      "                args=[Name(lineno=3, col_offset=15, end_lineno=3, end_col_offset=17, id='qc', ctx=Load())],\n",
      "                keywords=[\n",
      "                    keyword(\n",
      "                        arg='basis_gates',\n",
      "                        value=List(\n",
      "                            lineno=3,\n",
      "                            col_offset=31,\n",
      "                            end_lineno=3,\n",
      "                            end_col_offset=60,\n",
      "                            elts=[\n",
      "                                Constant(lineno=3, col_offset=32, end_lineno=3, end_col_offset=36, value='rx', kind=None),\n",
      "                                Constant(lineno=3, col_offset=38, end_lineno=3, end_col_offset=42, value='ry', kind=None),\n",
      "                                Constant(lineno=3, col_offset=44, end_lineno=3, end_col_offset=48, value='rz', kind=None),\n",
      "                                Constant(lineno=3, col_offset=50, end_lineno=3, end_col_offset=53, value='h', kind=None),\n",
      "                                Constant(lineno=3, col_offset=55, end_lineno=3, end_col_offset=59, value='cx', kind=None),\n",
      "                            ],\n",
      "                            ctx=Load(),\n",
      "                        ),\n",
      "                    ),\n",
      "                    keyword(\n",
      "                        arg='optimization_level',\n",
      "                        value=Constant(lineno=3, col_offset=81, end_lineno=3, end_col_offset=82, value=0, kind=None),\n",
      "                    ),\n",
      "                ],\n",
      "            ),\n",
      "            type_comment=None,\n",
      "        ),\n",
      "    ],\n",
      "    type_ignores=[],\n",
      ")\n"
     ]
    }
   ],
   "source": [
    "show_tree(\"\"\"\n",
    "from qiskit import transpile\n",
    "qc = transpile(qc, basis_gates=['rx', 'ry', 'rz', 'h', 'cx'], optimization_level=0)\n",
    "\"\"\")"
   ]
  },
  {
   "cell_type": "markdown",
   "id": "244480ac",
   "metadata": {},
   "source": [
    "## Change Target Basis"
   ]
  },
  {
   "cell_type": "code",
   "execution_count": 35,
   "id": "6156fbfa",
   "metadata": {
    "ExecuteTime": {
     "end_time": "2022-02-09T09:44:10.838862Z",
     "start_time": "2022-02-09T09:44:10.789011Z"
    }
   },
   "outputs": [],
   "source": [
    "from qmt import get_mr_function_and_kwargs"
   ]
  },
  {
   "cell_type": "code",
   "execution_count": 32,
   "id": "f1bc155b",
   "metadata": {
    "ExecuteTime": {
     "end_time": "2022-02-09T09:43:50.538177Z",
     "start_time": "2022-02-09T09:43:50.485816Z"
    }
   },
   "outputs": [],
   "source": [
    "from metamorph import *"
   ]
  },
  {
   "cell_type": "code",
   "execution_count": 33,
   "id": "bbef3b51",
   "metadata": {
    "ExecuteTime": {
     "end_time": "2022-02-09T09:43:54.087393Z",
     "start_time": "2022-02-09T09:43:53.987921Z"
    }
   },
   "outputs": [],
   "source": [
    "config = load_config_and_check(\"../config/qmt_v01.yaml\")"
   ]
  },
  {
   "cell_type": "code",
   "execution_count": 50,
   "id": "cbb1ccac",
   "metadata": {
    "ExecuteTime": {
     "end_time": "2022-02-09T09:58:04.701919Z",
     "start_time": "2022-02-09T09:58:04.650282Z"
    },
    "scrolled": false
   },
   "outputs": [
    {
     "name": "stdout",
     "output_type": "stream",
     "text": [
      "Follow: gateset replaced with:  ['rx', 'ry', 'rz', 'p', 'cx']\n",
      "# SECTION\n",
      "# NAME: OPTIMIZATION_PASSES\n",
      "\n",
      "from qiskit.transpiler import PassManager\n",
      "from qiskit.transpiler.passes import *\n",
      "passmanager = PassManager()\n",
      "qc = passmanager.run(qc)\n",
      "# SECTION\n",
      "# NAME: OPTIMIZATION_LEVEL\n",
      "from qiskit import transpile\n",
      "qc = transpile(qc, basis_gates=['rx', 'ry', 'rz', 'p', 'cx'],\n",
      "    optimization_level=0)\n",
      "\n"
     ]
    }
   ],
   "source": [
    "morph, kwargs = get_mr_function_and_kwargs(config, metamorphic_strategy=\"change_basis\")\n",
    "print(morph(\"\"\"\n",
    "# SECTION\n",
    "# NAME: OPTIMIZATION_PASSES\n",
    "\n",
    "from qiskit.transpiler import PassManager\n",
    "from qiskit.transpiler.passes import *\n",
    "passmanager = PassManager()\n",
    "qc = passmanager.run(qc)\n",
    "\n",
    "# SECTION\n",
    "# NAME: OPTIMIZATION_LEVEL\n",
    "\n",
    "from qiskit import transpile\n",
    "qc = transpile(qc, basis_gates=None, optimization_level=0)\n",
    "\"\"\", **kwargs))"
   ]
  },
  {
   "cell_type": "markdown",
   "id": "979eb0be",
   "metadata": {},
   "source": [
    "## Change Optimization Level"
   ]
  },
  {
   "cell_type": "code",
   "execution_count": 48,
   "id": "db1697c3",
   "metadata": {
    "ExecuteTime": {
     "end_time": "2022-02-09T09:57:49.416244Z",
     "start_time": "2022-02-09T09:57:49.358486Z"
    }
   },
   "outputs": [
    {
     "name": "stdout",
     "output_type": "stream",
     "text": [
      "Follow: optimization level changed: 0 -> 1\n",
      "# SECTION\n",
      "# NAME: OPTIMIZATION_PASSES\n",
      "\n",
      "from qiskit.transpiler import PassManager\n",
      "from qiskit.transpiler.passes import *\n",
      "passmanager = PassManager()\n",
      "qc = passmanager.run(qc)\n",
      "# SECTION\n",
      "# NAME: OPTIMIZATION_LEVEL\n",
      "from qiskit import transpile\n",
      "qc = transpile(qc, basis_gates=1, optimization_level=0)\n",
      "\n"
     ]
    }
   ],
   "source": [
    "morph, kwargs = get_mr_function_and_kwargs(config, metamorphic_strategy=\"change_opt_level\")\n",
    "print(morph(\"\"\"\n",
    "# SECTION\n",
    "# NAME: OPTIMIZATION_PASSES\n",
    "\n",
    "from qiskit.transpiler import PassManager\n",
    "from qiskit.transpiler.passes import *\n",
    "passmanager = PassManager()\n",
    "qc = passmanager.run(qc)\n",
    "\n",
    "# SECTION\n",
    "# NAME: OPTIMIZATION_LEVEL\n",
    "\n",
    "from qiskit import transpile\n",
    "qc = transpile(qc, basis_gates=None, optimization_level=0)\n",
    "\"\"\", **kwargs))"
   ]
  },
  {
   "cell_type": "code",
   "execution_count": null,
   "id": "614f5902",
   "metadata": {},
   "outputs": [],
   "source": []
  }
 ],
 "metadata": {
  "kernelspec": {
   "display_name": "Python 3 (ipykernel)",
   "language": "python",
   "name": "python3"
  },
  "language_info": {
   "codemirror_mode": {
    "name": "ipython",
    "version": 3
   },
   "file_extension": ".py",
   "mimetype": "text/x-python",
   "name": "python",
   "nbconvert_exporter": "python",
   "pygments_lexer": "ipython3",
   "version": "3.8.0"
  },
  "toc": {
   "base_numbering": 1,
   "nav_menu": {},
   "number_sections": true,
   "sideBar": true,
   "skip_h1_title": false,
   "title_cell": "Table of Contents",
   "title_sidebar": "Contents",
   "toc_cell": false,
   "toc_position": {},
   "toc_section_display": true,
   "toc_window_display": false
  }
 },
 "nbformat": 4,
 "nbformat_minor": 5
}
