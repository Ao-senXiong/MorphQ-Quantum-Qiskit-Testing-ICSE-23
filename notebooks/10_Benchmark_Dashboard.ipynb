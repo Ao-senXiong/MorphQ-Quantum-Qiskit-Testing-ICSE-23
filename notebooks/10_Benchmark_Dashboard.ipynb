{
 "cells": [
  {
   "cell_type": "code",
   "execution_count": 1,
   "id": "91daf41f",
   "metadata": {
    "ExecuteTime": {
     "end_time": "2021-12-15T13:16:28.043606Z",
     "start_time": "2021-12-15T13:16:24.455973Z"
    }
   },
   "outputs": [],
   "source": [
    "import matplotlib.pyplot as plt\n",
    "import seaborn as sns\n",
    "import os\n",
    "import yaml\n",
    "import json\n",
    "import pandas as pd\n",
    "import numpy as np\n",
    "import sys\n",
    "sys.path.append(\"../lib\")\n",
    "from benchmark import *"
   ]
  },
  {
   "cell_type": "code",
   "execution_count": 2,
   "id": "0560a0f5",
   "metadata": {
    "ExecuteTime": {
     "end_time": "2021-12-15T13:16:28.071030Z",
     "start_time": "2021-12-15T13:16:28.047372Z"
    }
   },
   "outputs": [],
   "source": [
    "CONFIG = \"../config/experiment_v01.yaml\"\n",
    "with open(CONFIG, \"r\") as f:\n",
    "    config = yaml.load(f, Loader=yaml.FullLoader)"
   ]
  },
  {
   "cell_type": "code",
   "execution_count": 3,
   "id": "84ca9da7",
   "metadata": {
    "ExecuteTime": {
     "end_time": "2021-12-15T13:16:28.083649Z",
     "start_time": "2021-12-15T13:16:28.072957Z"
    }
   },
   "outputs": [],
   "source": [
    "BENCHMARKS = config[\"benchmarks_configurations\"]\n",
    "DETECTORS = config[\"detectors\"]"
   ]
  },
  {
   "cell_type": "code",
   "execution_count": 58,
   "id": "4de35fcf",
   "metadata": {
    "ExecuteTime": {
     "end_time": "2021-12-15T13:36:48.238684Z",
     "start_time": "2021-12-15T13:36:48.017167Z"
    }
   },
   "outputs": [
    {
     "name": "stdout",
     "output_type": "stream",
     "text": [
      "BENCHMARK:  program_vs_random\n",
      "GROUND TRUTH - reading ...  \n",
      "({'expected_divergence': True, 'circuit_id': '8', 'benchmark_name': 'program_vs_random'}, {'expected_divergence': True, 'circuit_id': '19', 'benchmark_name': 'program_vs_random'}, {'expected_divergence': True, 'circuit_id': '0', 'benchmark_name': 'program_vs_random'}, {'expected_divergence': True, 'circuit_id': '16', 'benchmark_name': 'program_vs_random'}, {'expected_divergence': True, 'circuit_id': '4', 'benchmark_name': 'program_vs_random'}, {'expected_divergence': True, 'circuit_id': '12', 'benchmark_name': 'program_vs_random'}, {'expected_divergence': True, 'circuit_id': '5', 'benchmark_name': 'program_vs_random'}, {'expected_divergence': True, 'circuit_id': '1', 'benchmark_name': 'program_vs_random'}, {'expected_divergence': True, 'circuit_id': '11', 'benchmark_name': 'program_vs_random'}, {'expected_divergence': True, 'circuit_id': '7', 'benchmark_name': 'program_vs_random'}, {'expected_divergence': True, 'circuit_id': '2', 'benchmark_name': 'program_vs_random'}, {'expected_divergence': True, 'circuit_id': '18', 'benchmark_name': 'program_vs_random'}, {'expected_divergence': True, 'circuit_id': '3', 'benchmark_name': 'program_vs_random'}, {'expected_divergence': True, 'circuit_id': '13', 'benchmark_name': 'program_vs_random'}, {'expected_divergence': True, 'circuit_id': '17', 'benchmark_name': 'program_vs_random'}, {'expected_divergence': True, 'circuit_id': '15', 'benchmark_name': 'program_vs_random'}, {'expected_divergence': True, 'circuit_id': '10', 'benchmark_name': 'program_vs_random'}, {'expected_divergence': True, 'circuit_id': '14', 'benchmark_name': 'program_vs_random'}, {'expected_divergence': True, 'circuit_id': '9', 'benchmark_name': 'program_vs_random'}, {'expected_divergence': True, 'circuit_id': '6', 'benchmark_name': 'program_vs_random'})\n",
      "PROGRAM INFO - reading ...  \n",
      "[{'n_qubits': 18, 'circuit_id': '8', 'benchmark_name': 'program_vs_random', 'strategy_a': 'WeightedRandomCircuitGenerator', 'strategy_b': 'FakeCircuitGenerator'}, {'n_qubits': 14, 'circuit_id': '19', 'benchmark_name': 'program_vs_random', 'strategy_a': 'WeightedRandomCircuitGenerator', 'strategy_b': 'FakeCircuitGenerator'}, {'n_qubits': 5, 'circuit_id': '0', 'benchmark_name': 'program_vs_random', 'strategy_a': 'WeightedRandomCircuitGenerator', 'strategy_b': 'FakeCircuitGenerator'}, {'n_qubits': 10, 'circuit_id': '16', 'benchmark_name': 'program_vs_random', 'strategy_a': 'WeightedRandomCircuitGenerator', 'strategy_b': 'FakeCircuitGenerator'}, {'n_qubits': 4, 'circuit_id': '4', 'benchmark_name': 'program_vs_random', 'strategy_a': 'WeightedRandomCircuitGenerator', 'strategy_b': 'FakeCircuitGenerator'}, {'n_qubits': 9, 'circuit_id': '12', 'benchmark_name': 'program_vs_random', 'strategy_a': 'WeightedRandomCircuitGenerator', 'strategy_b': 'FakeCircuitGenerator'}, {'n_qubits': 15, 'circuit_id': '5', 'benchmark_name': 'program_vs_random', 'strategy_a': 'WeightedRandomCircuitGenerator', 'strategy_b': 'FakeCircuitGenerator'}, {'n_qubits': 10, 'circuit_id': '1', 'benchmark_name': 'program_vs_random', 'strategy_a': 'WeightedRandomCircuitGenerator', 'strategy_b': 'FakeCircuitGenerator'}, {'n_qubits': 19, 'circuit_id': '11', 'benchmark_name': 'program_vs_random', 'strategy_a': 'WeightedRandomCircuitGenerator', 'strategy_b': 'FakeCircuitGenerator'}, {'n_qubits': 8, 'circuit_id': '7', 'benchmark_name': 'program_vs_random', 'strategy_a': 'WeightedRandomCircuitGenerator', 'strategy_b': 'FakeCircuitGenerator'}, {'n_qubits': 9, 'circuit_id': '2', 'benchmark_name': 'program_vs_random', 'strategy_a': 'WeightedRandomCircuitGenerator', 'strategy_b': 'FakeCircuitGenerator'}, {'n_qubits': 5, 'circuit_id': '18', 'benchmark_name': 'program_vs_random', 'strategy_a': 'WeightedRandomCircuitGenerator', 'strategy_b': 'FakeCircuitGenerator'}, {'n_qubits': 5, 'circuit_id': '3', 'benchmark_name': 'program_vs_random', 'strategy_a': 'WeightedRandomCircuitGenerator', 'strategy_b': 'FakeCircuitGenerator'}, {'n_qubits': 20, 'circuit_id': '13', 'benchmark_name': 'program_vs_random', 'strategy_a': 'WeightedRandomCircuitGenerator', 'strategy_b': 'FakeCircuitGenerator'}, {'n_qubits': 8, 'circuit_id': '17', 'benchmark_name': 'program_vs_random', 'strategy_a': 'WeightedRandomCircuitGenerator', 'strategy_b': 'FakeCircuitGenerator'}, {'n_qubits': 15, 'circuit_id': '15', 'benchmark_name': 'program_vs_random', 'strategy_a': 'WeightedRandomCircuitGenerator', 'strategy_b': 'FakeCircuitGenerator'}, {'n_qubits': 8, 'circuit_id': '10', 'benchmark_name': 'program_vs_random', 'strategy_a': 'WeightedRandomCircuitGenerator', 'strategy_b': 'FakeCircuitGenerator'}, {'n_qubits': 2, 'circuit_id': '14', 'benchmark_name': 'program_vs_random', 'strategy_a': 'WeightedRandomCircuitGenerator', 'strategy_b': 'FakeCircuitGenerator'}, {'n_qubits': 2, 'circuit_id': '9', 'benchmark_name': 'program_vs_random', 'strategy_a': 'WeightedRandomCircuitGenerator', 'strategy_b': 'FakeCircuitGenerator'}, {'n_qubits': 2, 'circuit_id': '6', 'benchmark_name': 'program_vs_random', 'strategy_a': 'WeightedRandomCircuitGenerator', 'strategy_b': 'FakeCircuitGenerator'}]\n",
      "EXECUTION INFO - reading ...  \n",
      "DETECTOR:  ks\n",
      "({'test': 'ks', 'test_long_name': 'Kolmogorov–Smirnov Test', 'circuit_id': '8', 'benchmark_name': 'program_vs_random', 'random_seed': None, 'statistic': 0.3492431640625, 'p_value': 0.0}, {'test': 'ks', 'test_long_name': 'Kolmogorov–Smirnov Test', 'circuit_id': '19', 'benchmark_name': 'program_vs_random', 'random_seed': None, 'statistic': 0.799072265625, 'p_value': 0.0}, {'test': 'ks', 'test_long_name': 'Kolmogorov–Smirnov Test', 'circuit_id': '0', 'benchmark_name': 'program_vs_random', 'random_seed': None, 'statistic': 0.41162109375, 'p_value': 0.0}, {'test': 'ks', 'test_long_name': 'Kolmogorov–Smirnov Test', 'circuit_id': '16', 'benchmark_name': 'program_vs_random', 'random_seed': None, 'statistic': 0.0260009765625, 'p_value': 0.007864888268120686}, {'test': 'ks', 'test_long_name': 'Kolmogorov–Smirnov Test', 'circuit_id': '4', 'benchmark_name': 'program_vs_random', 'random_seed': None, 'statistic': 0.1444091796875, 'p_value': 7.118719377405133e-75}, {'test': 'ks', 'test_long_name': 'Kolmogorov–Smirnov Test', 'circuit_id': '12', 'benchmark_name': 'program_vs_random', 'random_seed': None, 'statistic': 0.0545654296875, 'p_value': 5.054147044038356e-11}, {'test': 'ks', 'test_long_name': 'Kolmogorov–Smirnov Test', 'circuit_id': '5', 'benchmark_name': 'program_vs_random', 'random_seed': None, 'statistic': 0.7384033203125, 'p_value': 0.0}, {'test': 'ks', 'test_long_name': 'Kolmogorov–Smirnov Test', 'circuit_id': '1', 'benchmark_name': 'program_vs_random', 'random_seed': None, 'statistic': 0.052734375, 'p_value': 2.530887169402512e-10}, {'test': 'ks', 'test_long_name': 'Kolmogorov–Smirnov Test', 'circuit_id': '11', 'benchmark_name': 'program_vs_random', 'random_seed': None, 'statistic': 0.2020263671875, 'p_value': 1.2528004459048024e-146}, {'test': 'ks', 'test_long_name': 'Kolmogorov–Smirnov Test', 'circuit_id': '7', 'benchmark_name': 'program_vs_random', 'random_seed': None, 'statistic': 0.05712890625, 'p_value': 4.830318132628788e-12}, {'test': 'ks', 'test_long_name': 'Kolmogorov–Smirnov Test', 'circuit_id': '2', 'benchmark_name': 'program_vs_random', 'random_seed': None, 'statistic': 0.107666015625, 'p_value': 9.600391541975222e-42}, {'test': 'ks', 'test_long_name': 'Kolmogorov–Smirnov Test', 'circuit_id': '18', 'benchmark_name': 'program_vs_random', 'random_seed': None, 'statistic': 0.131591796875, 'p_value': 3.3000296664127475e-62}, {'test': 'ks', 'test_long_name': 'Kolmogorov–Smirnov Test', 'circuit_id': '3', 'benchmark_name': 'program_vs_random', 'random_seed': None, 'statistic': 0.1024169921875, 'p_value': 8.314016927138842e-38}, {'test': 'ks', 'test_long_name': 'Kolmogorov–Smirnov Test', 'circuit_id': '13', 'benchmark_name': 'program_vs_random', 'random_seed': None, 'statistic': 0.511962890625, 'p_value': 0.0}, {'test': 'ks', 'test_long_name': 'Kolmogorov–Smirnov Test', 'circuit_id': '17', 'benchmark_name': 'program_vs_random', 'random_seed': None, 'statistic': 0.0340576171875, 'p_value': 0.00014920557019404998}, {'test': 'ks', 'test_long_name': 'Kolmogorov–Smirnov Test', 'circuit_id': '15', 'benchmark_name': 'program_vs_random', 'random_seed': None, 'statistic': 0.0899658203125, 'p_value': 2.937721190701783e-29}, {'test': 'ks', 'test_long_name': 'Kolmogorov–Smirnov Test', 'circuit_id': '10', 'benchmark_name': 'program_vs_random', 'random_seed': None, 'statistic': 0.0806884765625, 'p_value': 1.3005167981288487e-23}, {'test': 'ks', 'test_long_name': 'Kolmogorov–Smirnov Test', 'circuit_id': '14', 'benchmark_name': 'program_vs_random', 'random_seed': None, 'statistic': 0.199951171875, 'p_value': 1.2777837620315046e-143}, {'test': 'ks', 'test_long_name': 'Kolmogorov–Smirnov Test', 'circuit_id': '9', 'benchmark_name': 'program_vs_random', 'random_seed': None, 'statistic': 0.221923828125, 'p_value': 4.2194161827687305e-177}, {'test': 'ks', 'test_long_name': 'Kolmogorov–Smirnov Test', 'circuit_id': '6', 'benchmark_name': 'program_vs_random', 'random_seed': None, 'statistic': 0.1444091796875, 'p_value': 7.118719377405133e-75})\n",
      "DETECTOR:  energy\n",
      "({'test': 'energy', 'test_long_name': 'Energy Test', 'circuit_id': '8', 'benchmark_name': 'program_vs_random', 'random_seed': 1234, 'statistic': 0.09410786628723145, 'p_value': 0.003000000026077032}, {'test': 'energy', 'test_long_name': 'Energy Test', 'circuit_id': '19', 'benchmark_name': 'program_vs_random', 'random_seed': 1234, 'statistic': 0.921328067779541, 'p_value': 0.0}, {'test': 'energy', 'test_long_name': 'Energy Test', 'circuit_id': '0', 'benchmark_name': 'program_vs_random', 'random_seed': 1234, 'statistic': 0.2562747001647949, 'p_value': 0.0}, {'test': 'energy', 'test_long_name': 'Energy Test', 'circuit_id': '16', 'benchmark_name': 'program_vs_random', 'random_seed': 1234, 'statistic': 0.1658930778503418, 'p_value': 0.0}, {'test': 'energy', 'test_long_name': 'Energy Test', 'circuit_id': '4', 'benchmark_name': 'program_vs_random', 'random_seed': 1234, 'statistic': 0.1126413345336914, 'p_value': 0.0}, {'test': 'energy', 'test_long_name': 'Energy Test', 'circuit_id': '12', 'benchmark_name': 'program_vs_random', 'random_seed': 1234, 'statistic': 0.06500816345214844, 'p_value': 0.028999999165534973}, {'test': 'energy', 'test_long_name': 'Energy Test', 'circuit_id': '5', 'benchmark_name': 'program_vs_random', 'random_seed': 1234, 'statistic': 1.264310598373413, 'p_value': 0.0}, {'test': 'energy', 'test_long_name': 'Energy Test', 'circuit_id': '1', 'benchmark_name': 'program_vs_random', 'random_seed': 1234, 'statistic': 0.07581853866577148, 'p_value': 0.013000000268220901}, {'test': 'energy', 'test_long_name': 'Energy Test', 'circuit_id': '11', 'benchmark_name': 'program_vs_random', 'random_seed': 1234, 'statistic': 0.16425752639770508, 'p_value': 0.0}, {'test': 'energy', 'test_long_name': 'Energy Test', 'circuit_id': '7', 'benchmark_name': 'program_vs_random', 'random_seed': 1234, 'statistic': 0.05075371265411377, 'p_value': 0.15299999713897705}, {'test': 'energy', 'test_long_name': 'Energy Test', 'circuit_id': '2', 'benchmark_name': 'program_vs_random', 'random_seed': 1234, 'statistic': 0.17275333404541016, 'p_value': 0.0}, {'test': 'energy', 'test_long_name': 'Energy Test', 'circuit_id': '18', 'benchmark_name': 'program_vs_random', 'random_seed': 1234, 'statistic': 0.09709048271179199, 'p_value': 0.003000000026077032}, {'test': 'energy', 'test_long_name': 'Energy Test', 'circuit_id': '3', 'benchmark_name': 'program_vs_random', 'random_seed': 1234, 'statistic': 0.14901018142700195, 'p_value': 0.0}, {'test': 'energy', 'test_long_name': 'Energy Test', 'circuit_id': '13', 'benchmark_name': 'program_vs_random', 'random_seed': 1234, 'statistic': 0.5205204486846924, 'p_value': 0.0}, {'test': 'energy', 'test_long_name': 'Energy Test', 'circuit_id': '17', 'benchmark_name': 'program_vs_random', 'random_seed': 1234, 'statistic': 0.03317892551422119, 'p_value': 0.6600000262260437}, {'test': 'energy', 'test_long_name': 'Energy Test', 'circuit_id': '15', 'benchmark_name': 'program_vs_random', 'random_seed': 1234, 'statistic': 0.13992571830749512, 'p_value': 0.0}, {'test': 'energy', 'test_long_name': 'Energy Test', 'circuit_id': '10', 'benchmark_name': 'program_vs_random', 'random_seed': 1234, 'statistic': 0.035277724266052246, 'p_value': 0.6069999933242798}, {'test': 'energy', 'test_long_name': 'Energy Test', 'circuit_id': '14', 'benchmark_name': 'program_vs_random', 'random_seed': 1234, 'statistic': 0.03538697957992554, 'p_value': 0.07699999958276749}, {'test': 'energy', 'test_long_name': 'Energy Test', 'circuit_id': '9', 'benchmark_name': 'program_vs_random', 'random_seed': 1234, 'statistic': 0.22982066869735718, 'p_value': 0.0}, {'test': 'energy', 'test_long_name': 'Energy Test', 'circuit_id': '6', 'benchmark_name': 'program_vs_random', 'random_seed': 1234, 'statistic': 0.10027486085891724, 'p_value': 0.0020000000949949026})\n",
      "BENCHMARK:  famous_algos\n",
      "GROUND TRUTH - reading ...  \n",
      "({'expected_divergence': False, 'circuit_id': '8', 'benchmark_name': 'famous_algos'}, {'expected_divergence': False, 'circuit_id': '19', 'benchmark_name': 'famous_algos'}, {'expected_divergence': False, 'circuit_id': '0', 'benchmark_name': 'famous_algos'}, {'expected_divergence': False, 'circuit_id': '16', 'benchmark_name': 'famous_algos'}, {'expected_divergence': False, 'circuit_id': '4', 'benchmark_name': 'famous_algos'}, {'expected_divergence': False, 'circuit_id': '12', 'benchmark_name': 'famous_algos'}, {'expected_divergence': False, 'circuit_id': '5', 'benchmark_name': 'famous_algos'}, {'expected_divergence': False, 'circuit_id': '1', 'benchmark_name': 'famous_algos'}, {'expected_divergence': False, 'circuit_id': '11', 'benchmark_name': 'famous_algos'}, {'expected_divergence': False, 'circuit_id': '7', 'benchmark_name': 'famous_algos'}, {'expected_divergence': False, 'circuit_id': '2', 'benchmark_name': 'famous_algos'}, {'expected_divergence': False, 'circuit_id': '18', 'benchmark_name': 'famous_algos'}, {'expected_divergence': False, 'circuit_id': '3', 'benchmark_name': 'famous_algos'}, {'expected_divergence': False, 'circuit_id': '13', 'benchmark_name': 'famous_algos'}, {'expected_divergence': False, 'circuit_id': '17', 'benchmark_name': 'famous_algos'}, {'expected_divergence': False, 'circuit_id': '15', 'benchmark_name': 'famous_algos'}, {'expected_divergence': False, 'circuit_id': '10', 'benchmark_name': 'famous_algos'}, {'expected_divergence': False, 'circuit_id': '14', 'benchmark_name': 'famous_algos'}, {'expected_divergence': False, 'circuit_id': '9', 'benchmark_name': 'famous_algos'}, {'expected_divergence': False, 'circuit_id': '6', 'benchmark_name': 'famous_algos'})\n",
      "PROGRAM INFO - reading ...  \n",
      "[{'n_qubits': 8, 'circuit_id': '8', 'benchmark_name': 'famous_algos', 'strategy_a': 'FamousCircuitGenerator', 'strategy_b': 'FamousCircuitGenerator'}, {'n_qubits': 6, 'circuit_id': '0', 'benchmark_name': 'famous_algos', 'strategy_a': 'FamousCircuitGenerator', 'strategy_b': 'FamousCircuitGenerator'}, {'n_qubits': 6, 'circuit_id': '4', 'benchmark_name': 'famous_algos', 'strategy_a': 'FamousCircuitGenerator', 'strategy_b': 'FamousCircuitGenerator'}, {'n_qubits': 13, 'circuit_id': '5', 'benchmark_name': 'famous_algos', 'strategy_a': 'FamousCircuitGenerator', 'strategy_b': 'FamousCircuitGenerator'}, {'n_qubits': 11, 'circuit_id': '1', 'benchmark_name': 'famous_algos', 'strategy_a': 'FamousCircuitGenerator', 'strategy_b': 'FamousCircuitGenerator'}, {'n_qubits': 10, 'circuit_id': '11', 'benchmark_name': 'famous_algos', 'strategy_a': 'FamousCircuitGenerator', 'strategy_b': 'FamousCircuitGenerator'}, {'n_qubits': 10, 'circuit_id': '7', 'benchmark_name': 'famous_algos', 'strategy_a': 'FamousCircuitGenerator', 'strategy_b': 'FamousCircuitGenerator'}, {'n_qubits': 11, 'circuit_id': '2', 'benchmark_name': 'famous_algos', 'strategy_a': 'FamousCircuitGenerator', 'strategy_b': 'FamousCircuitGenerator'}, {'n_qubits': 15, 'circuit_id': '3', 'benchmark_name': 'famous_algos', 'strategy_a': 'FamousCircuitGenerator', 'strategy_b': 'FamousCircuitGenerator'}, {'n_qubits': 8, 'circuit_id': '10', 'benchmark_name': 'famous_algos', 'strategy_a': 'FamousCircuitGenerator', 'strategy_b': 'FamousCircuitGenerator'}, {'n_qubits': 14, 'circuit_id': '9', 'benchmark_name': 'famous_algos', 'strategy_a': 'FamousCircuitGenerator', 'strategy_b': 'FamousCircuitGenerator'}, {'n_qubits': 15, 'circuit_id': '6', 'benchmark_name': 'famous_algos', 'strategy_a': 'FamousCircuitGenerator', 'strategy_b': 'FamousCircuitGenerator'}]\n",
      "EXECUTION INFO - reading ...  \n",
      "DETECTOR:  ks\n",
      "({'test': 'ks', 'test_long_name': 'Kolmogorov–Smirnov Test', 'circuit_id': '8', 'benchmark_name': 'famous_algos', 'random_seed': None, 'statistic': 0.0118408203125, 'p_value': 0.6140616957273421}, {'test': 'ks', 'test_long_name': 'Kolmogorov–Smirnov Test', 'circuit_id': '0', 'benchmark_name': 'famous_algos', 'random_seed': None, 'statistic': 0.5098876953125, 'p_value': 0.0}, {'test': 'ks', 'test_long_name': 'Kolmogorov–Smirnov Test', 'circuit_id': '4', 'benchmark_name': 'famous_algos', 'random_seed': None, 'statistic': 0.0528564453125, 'p_value': 2.277064861978376e-10}, {'test': 'ks', 'test_long_name': 'Kolmogorov–Smirnov Test', 'circuit_id': '5', 'benchmark_name': 'famous_algos', 'random_seed': None, 'statistic': 0.0, 'p_value': 1.0}, {'test': 'ks', 'test_long_name': 'Kolmogorov–Smirnov Test', 'circuit_id': '1', 'benchmark_name': 'famous_algos', 'random_seed': None, 'statistic': 0.25439453125, 'p_value': 3.31682478227085e-233}, {'test': 'ks', 'test_long_name': 'Kolmogorov–Smirnov Test', 'circuit_id': '11', 'benchmark_name': 'famous_algos', 'random_seed': None, 'statistic': 1.0, 'p_value': 0.0}, {'test': 'ks', 'test_long_name': 'Kolmogorov–Smirnov Test', 'circuit_id': '7', 'benchmark_name': 'famous_algos', 'random_seed': None, 'statistic': 0.5838623046875, 'p_value': 0.0}, {'test': 'ks', 'test_long_name': 'Kolmogorov–Smirnov Test', 'circuit_id': '2', 'benchmark_name': 'famous_algos', 'random_seed': None, 'statistic': 0.185791015625, 'p_value': 6.0960269622204194e-124}, {'test': 'ks', 'test_long_name': 'Kolmogorov–Smirnov Test', 'circuit_id': '3', 'benchmark_name': 'famous_algos', 'random_seed': None, 'statistic': 0.0091552734375, 'p_value': 0.88236634428761}, {'test': 'ks', 'test_long_name': 'Kolmogorov–Smirnov Test', 'circuit_id': '10', 'benchmark_name': 'famous_algos', 'random_seed': None, 'statistic': 1.0, 'p_value': 0.0}, {'test': 'ks', 'test_long_name': 'Kolmogorov–Smirnov Test', 'circuit_id': '9', 'benchmark_name': 'famous_algos', 'random_seed': None, 'statistic': 0.0, 'p_value': 1.0}, {'test': 'ks', 'test_long_name': 'Kolmogorov–Smirnov Test', 'circuit_id': '6', 'benchmark_name': 'famous_algos', 'random_seed': None, 'statistic': 1.0, 'p_value': 0.0})\n",
      "DETECTOR:  energy\n",
      "({'test': 'energy', 'test_long_name': 'Energy Test', 'circuit_id': '8', 'benchmark_name': 'famous_algos', 'random_seed': 1234, 'statistic': 0.0322643518447876, 'p_value': 0.3659999966621399}, {'test': 'energy', 'test_long_name': 'Energy Test', 'circuit_id': '0', 'benchmark_name': 'famous_algos', 'random_seed': 1234, 'statistic': 0.5065345764160156, 'p_value': 0.0}, {'test': 'energy', 'test_long_name': 'Energy Test', 'circuit_id': '4', 'benchmark_name': 'famous_algos', 'random_seed': 1234, 'statistic': 0.06566619873046875, 'p_value': 0.014000000432133675}, {'test': 'energy', 'test_long_name': 'Energy Test', 'circuit_id': '5', 'benchmark_name': 'famous_algos', 'random_seed': 1234, 'statistic': 0.0, 'p_value': 0.0}, {'test': 'energy', 'test_long_name': 'Energy Test', 'circuit_id': '1', 'benchmark_name': 'famous_algos', 'random_seed': 1234, 'statistic': 0, 'p_value': -1, 'exception': 'Sizes of tensors must match except in dimension 0. Expected size 3 but got size 11 for tensor number 1 in the list.'}, {'test': 'energy', 'test_long_name': 'Energy Test', 'circuit_id': '11', 'benchmark_name': 'famous_algos', 'random_seed': 1234, 'statistic': 2.8221116065979004, 'p_value': 0.0}, {'test': 'energy', 'test_long_name': 'Energy Test', 'circuit_id': '7', 'benchmark_name': 'famous_algos', 'random_seed': 1234, 'statistic': 0.6988321542739868, 'p_value': 0.0}, {'test': 'energy', 'test_long_name': 'Energy Test', 'circuit_id': '2', 'benchmark_name': 'famous_algos', 'random_seed': 1234, 'statistic': 0.046862125396728516, 'p_value': 0.07699999958276749}, {'test': 'energy', 'test_long_name': 'Energy Test', 'circuit_id': '3', 'benchmark_name': 'famous_algos', 'random_seed': 1234, 'statistic': 0.0453028678894043, 'p_value': 0.7919999957084656}, {'test': 'energy', 'test_long_name': 'Energy Test', 'circuit_id': '10', 'benchmark_name': 'famous_algos', 'random_seed': 1234, 'statistic': 0, 'p_value': -1, 'exception': \"invalid literal for int() with base 10: ' '\"}, {'test': 'energy', 'test_long_name': 'Energy Test', 'circuit_id': '9', 'benchmark_name': 'famous_algos', 'random_seed': 1234, 'statistic': 0.0, 'p_value': 0.0}, {'test': 'energy', 'test_long_name': 'Energy Test', 'circuit_id': '6', 'benchmark_name': 'famous_algos', 'random_seed': 1234, 'statistic': 2.8221116065979004, 'p_value': 0.0})\n",
      "BENCHMARK:  across_runs_cirq\n",
      "GROUND TRUTH - reading ...  \n",
      "({'expected_divergence': False, 'circuit_id': '8', 'benchmark_name': 'across_runs_cirq'}, {'expected_divergence': False, 'circuit_id': '19', 'benchmark_name': 'across_runs_cirq'}, {'expected_divergence': False, 'circuit_id': '0', 'benchmark_name': 'across_runs_cirq'}, {'expected_divergence': False, 'circuit_id': '16', 'benchmark_name': 'across_runs_cirq'}, {'expected_divergence': False, 'circuit_id': '4', 'benchmark_name': 'across_runs_cirq'}, {'expected_divergence': False, 'circuit_id': '12', 'benchmark_name': 'across_runs_cirq'}, {'expected_divergence': False, 'circuit_id': '5', 'benchmark_name': 'across_runs_cirq'}, {'expected_divergence': False, 'circuit_id': '1', 'benchmark_name': 'across_runs_cirq'}, {'expected_divergence': False, 'circuit_id': '11', 'benchmark_name': 'across_runs_cirq'}, {'expected_divergence': False, 'circuit_id': '7', 'benchmark_name': 'across_runs_cirq'}, {'expected_divergence': False, 'circuit_id': '2', 'benchmark_name': 'across_runs_cirq'}, {'expected_divergence': False, 'circuit_id': '18', 'benchmark_name': 'across_runs_cirq'}, {'expected_divergence': False, 'circuit_id': '3', 'benchmark_name': 'across_runs_cirq'}, {'expected_divergence': False, 'circuit_id': '13', 'benchmark_name': 'across_runs_cirq'}, {'expected_divergence': False, 'circuit_id': '17', 'benchmark_name': 'across_runs_cirq'}, {'expected_divergence': False, 'circuit_id': '15', 'benchmark_name': 'across_runs_cirq'}, {'expected_divergence': False, 'circuit_id': '10', 'benchmark_name': 'across_runs_cirq'}, {'expected_divergence': False, 'circuit_id': '14', 'benchmark_name': 'across_runs_cirq'}, {'expected_divergence': False, 'circuit_id': '9', 'benchmark_name': 'across_runs_cirq'}, {'expected_divergence': False, 'circuit_id': '6', 'benchmark_name': 'across_runs_cirq'})\n",
      "PROGRAM INFO - reading ...  \n",
      "[{'n_qubits': 18, 'circuit_id': '8', 'benchmark_name': 'across_runs_cirq', 'strategy_a': 'WeightedRandomCircuitGenerator', 'strategy_b': 'WeightedRandomCircuitGenerator'}, {'n_qubits': 14, 'circuit_id': '19', 'benchmark_name': 'across_runs_cirq', 'strategy_a': 'WeightedRandomCircuitGenerator', 'strategy_b': 'WeightedRandomCircuitGenerator'}, {'n_qubits': 5, 'circuit_id': '0', 'benchmark_name': 'across_runs_cirq', 'strategy_a': 'WeightedRandomCircuitGenerator', 'strategy_b': 'WeightedRandomCircuitGenerator'}, {'n_qubits': 10, 'circuit_id': '16', 'benchmark_name': 'across_runs_cirq', 'strategy_a': 'WeightedRandomCircuitGenerator', 'strategy_b': 'WeightedRandomCircuitGenerator'}, {'n_qubits': 4, 'circuit_id': '4', 'benchmark_name': 'across_runs_cirq', 'strategy_a': 'WeightedRandomCircuitGenerator', 'strategy_b': 'WeightedRandomCircuitGenerator'}, {'n_qubits': 9, 'circuit_id': '12', 'benchmark_name': 'across_runs_cirq', 'strategy_a': 'WeightedRandomCircuitGenerator', 'strategy_b': 'WeightedRandomCircuitGenerator'}, {'n_qubits': 15, 'circuit_id': '5', 'benchmark_name': 'across_runs_cirq', 'strategy_a': 'WeightedRandomCircuitGenerator', 'strategy_b': 'WeightedRandomCircuitGenerator'}, {'n_qubits': 10, 'circuit_id': '1', 'benchmark_name': 'across_runs_cirq', 'strategy_a': 'WeightedRandomCircuitGenerator', 'strategy_b': 'WeightedRandomCircuitGenerator'}, {'n_qubits': 19, 'circuit_id': '11', 'benchmark_name': 'across_runs_cirq', 'strategy_a': 'WeightedRandomCircuitGenerator', 'strategy_b': 'WeightedRandomCircuitGenerator'}, {'n_qubits': 8, 'circuit_id': '7', 'benchmark_name': 'across_runs_cirq', 'strategy_a': 'WeightedRandomCircuitGenerator', 'strategy_b': 'WeightedRandomCircuitGenerator'}, {'n_qubits': 9, 'circuit_id': '2', 'benchmark_name': 'across_runs_cirq', 'strategy_a': 'WeightedRandomCircuitGenerator', 'strategy_b': 'WeightedRandomCircuitGenerator'}, {'n_qubits': 5, 'circuit_id': '18', 'benchmark_name': 'across_runs_cirq', 'strategy_a': 'WeightedRandomCircuitGenerator', 'strategy_b': 'WeightedRandomCircuitGenerator'}, {'n_qubits': 5, 'circuit_id': '3', 'benchmark_name': 'across_runs_cirq', 'strategy_a': 'WeightedRandomCircuitGenerator', 'strategy_b': 'WeightedRandomCircuitGenerator'}, {'n_qubits': 20, 'circuit_id': '13', 'benchmark_name': 'across_runs_cirq', 'strategy_a': 'WeightedRandomCircuitGenerator', 'strategy_b': 'WeightedRandomCircuitGenerator'}, {'n_qubits': 8, 'circuit_id': '17', 'benchmark_name': 'across_runs_cirq', 'strategy_a': 'WeightedRandomCircuitGenerator', 'strategy_b': 'WeightedRandomCircuitGenerator'}, {'n_qubits': 15, 'circuit_id': '15', 'benchmark_name': 'across_runs_cirq', 'strategy_a': 'WeightedRandomCircuitGenerator', 'strategy_b': 'WeightedRandomCircuitGenerator'}, {'n_qubits': 8, 'circuit_id': '10', 'benchmark_name': 'across_runs_cirq', 'strategy_a': 'WeightedRandomCircuitGenerator', 'strategy_b': 'WeightedRandomCircuitGenerator'}, {'n_qubits': 2, 'circuit_id': '14', 'benchmark_name': 'across_runs_cirq', 'strategy_a': 'WeightedRandomCircuitGenerator', 'strategy_b': 'WeightedRandomCircuitGenerator'}, {'n_qubits': 2, 'circuit_id': '9', 'benchmark_name': 'across_runs_cirq', 'strategy_a': 'WeightedRandomCircuitGenerator', 'strategy_b': 'WeightedRandomCircuitGenerator'}, {'n_qubits': 2, 'circuit_id': '6', 'benchmark_name': 'across_runs_cirq', 'strategy_a': 'WeightedRandomCircuitGenerator', 'strategy_b': 'WeightedRandomCircuitGenerator'}]\n",
      "EXECUTION INFO - reading ...  \n",
      "DETECTOR:  ks\n",
      "({'test': 'ks', 'test_long_name': 'Kolmogorov–Smirnov Test', 'circuit_id': '8', 'benchmark_name': 'across_runs_cirq', 'random_seed': None, 'statistic': 0.01123046875, 'p_value': 0.6798702803949036}, {'test': 'ks', 'test_long_name': 'Kolmogorov–Smirnov Test', 'circuit_id': '19', 'benchmark_name': 'across_runs_cirq', 'random_seed': None, 'statistic': 0.0126953125, 'p_value': 0.5239719103668086}, {'test': 'ks', 'test_long_name': 'Kolmogorov–Smirnov Test', 'circuit_id': '0', 'benchmark_name': 'across_runs_cirq', 'random_seed': None, 'statistic': 0.0113525390625, 'p_value': 0.6667138794733032}, {'test': 'ks', 'test_long_name': 'Kolmogorov–Smirnov Test', 'circuit_id': '16', 'benchmark_name': 'across_runs_cirq', 'random_seed': None, 'statistic': 0.0096435546875, 'p_value': 0.8407711775241374}, {'test': 'ks', 'test_long_name': 'Kolmogorov–Smirnov Test', 'circuit_id': '4', 'benchmark_name': 'across_runs_cirq', 'random_seed': None, 'statistic': 0.017578125, 'p_value': 0.1590428460651771}, {'test': 'ks', 'test_long_name': 'Kolmogorov–Smirnov Test', 'circuit_id': '12', 'benchmark_name': 'across_runs_cirq', 'random_seed': None, 'statistic': 0.017333984375, 'p_value': 0.17052525173869346}, {'test': 'ks', 'test_long_name': 'Kolmogorov–Smirnov Test', 'circuit_id': '5', 'benchmark_name': 'across_runs_cirq', 'random_seed': None, 'statistic': 0.0035400390625, 'p_value': 0.9999999996011742}, {'test': 'ks', 'test_long_name': 'Kolmogorov–Smirnov Test', 'circuit_id': '1', 'benchmark_name': 'across_runs_cirq', 'random_seed': None, 'statistic': 0.00830078125, 'p_value': 0.9404074755447145}, {'test': 'ks', 'test_long_name': 'Kolmogorov–Smirnov Test', 'circuit_id': '11', 'benchmark_name': 'across_runs_cirq', 'random_seed': None, 'statistic': 0.008056640625, 'p_value': 0.9530824559228417}, {'test': 'ks', 'test_long_name': 'Kolmogorov–Smirnov Test', 'circuit_id': '7', 'benchmark_name': 'across_runs_cirq', 'random_seed': None, 'statistic': 0.010498046875, 'p_value': 0.7574317561832505}, {'test': 'ks', 'test_long_name': 'Kolmogorov–Smirnov Test', 'circuit_id': '2', 'benchmark_name': 'across_runs_cirq', 'random_seed': None, 'statistic': 0.0213623046875, 'p_value': 0.04758081096215976}, {'test': 'ks', 'test_long_name': 'Kolmogorov–Smirnov Test', 'circuit_id': '18', 'benchmark_name': 'across_runs_cirq', 'random_seed': None, 'statistic': 0.0101318359375, 'p_value': 0.7944615728126316}, {'test': 'ks', 'test_long_name': 'Kolmogorov–Smirnov Test', 'circuit_id': '3', 'benchmark_name': 'across_runs_cirq', 'random_seed': None, 'statistic': 0.0108642578125, 'p_value': 0.7190567913713779}, {'test': 'ks', 'test_long_name': 'Kolmogorov–Smirnov Test', 'circuit_id': '13', 'benchmark_name': 'across_runs_cirq', 'random_seed': None, 'statistic': 0.010986328125, 'p_value': 0.706059589389606}, {'test': 'ks', 'test_long_name': 'Kolmogorov–Smirnov Test', 'circuit_id': '17', 'benchmark_name': 'across_runs_cirq', 'random_seed': None, 'statistic': 0.009521484375, 'p_value': 0.8516620187185037}, {'test': 'ks', 'test_long_name': 'Kolmogorov–Smirnov Test', 'circuit_id': '15', 'benchmark_name': 'across_runs_cirq', 'random_seed': None, 'statistic': 0.009765625, 'p_value': 0.8295850516832404}, {'test': 'ks', 'test_long_name': 'Kolmogorov–Smirnov Test', 'circuit_id': '10', 'benchmark_name': 'across_runs_cirq', 'random_seed': None, 'statistic': 0.0125732421875, 'p_value': 0.5365621224389928}, {'test': 'ks', 'test_long_name': 'Kolmogorov–Smirnov Test', 'circuit_id': '14', 'benchmark_name': 'across_runs_cirq', 'random_seed': None, 'statistic': 0.0123291015625, 'p_value': 0.5620645265308637}, {'test': 'ks', 'test_long_name': 'Kolmogorov–Smirnov Test', 'circuit_id': '9', 'benchmark_name': 'across_runs_cirq', 'random_seed': None, 'statistic': 0.0108642578125, 'p_value': 0.7190567913713779}, {'test': 'ks', 'test_long_name': 'Kolmogorov–Smirnov Test', 'circuit_id': '6', 'benchmark_name': 'across_runs_cirq', 'random_seed': None, 'statistic': 0.008056640625, 'p_value': 0.9530824559228417})\n",
      "DETECTOR:  energy\n",
      "({'test': 'energy', 'test_long_name': 'Energy Test', 'circuit_id': '8', 'benchmark_name': 'across_runs_cirq', 'random_seed': 1234, 'statistic': 0.05364847183227539, 'p_value': 0.6819999814033508}, {'test': 'energy', 'test_long_name': 'Energy Test', 'circuit_id': '19', 'benchmark_name': 'across_runs_cirq', 'random_seed': 1234, 'statistic': 0.037964582443237305, 'p_value': 0.3059999942779541}, {'test': 'energy', 'test_long_name': 'Energy Test', 'circuit_id': '0', 'benchmark_name': 'across_runs_cirq', 'random_seed': 1234, 'statistic': 0.06874418258666992, 'p_value': 0.029999999329447746}, {'test': 'energy', 'test_long_name': 'Energy Test', 'circuit_id': '16', 'benchmark_name': 'across_runs_cirq', 'random_seed': 1234, 'statistic': 0.06146812438964844, 'p_value': 0.07599999755620956}, {'test': 'energy', 'test_long_name': 'Energy Test', 'circuit_id': '4', 'benchmark_name': 'across_runs_cirq', 'random_seed': 1234, 'statistic': 0.020702362060546875, 'p_value': 0.4830000102519989}, {'test': 'energy', 'test_long_name': 'Energy Test', 'circuit_id': '12', 'benchmark_name': 'across_runs_cirq', 'random_seed': 1234, 'statistic': 0.07300424575805664, 'p_value': 0.009999999776482582}, {'test': 'energy', 'test_long_name': 'Energy Test', 'circuit_id': '5', 'benchmark_name': 'across_runs_cirq', 'random_seed': 1234, 'statistic': 0.027056574821472168, 'p_value': 0.328000009059906}, {'test': 'energy', 'test_long_name': 'Energy Test', 'circuit_id': '1', 'benchmark_name': 'across_runs_cirq', 'random_seed': 1234, 'statistic': 0.04263663291931152, 'p_value': 0.4620000123977661}, {'test': 'energy', 'test_long_name': 'Energy Test', 'circuit_id': '11', 'benchmark_name': 'across_runs_cirq', 'random_seed': 1234, 'statistic': 0.06275701522827148, 'p_value': 0.33899998664855957}, {'test': 'energy', 'test_long_name': 'Energy Test', 'circuit_id': '7', 'benchmark_name': 'across_runs_cirq', 'random_seed': 1234, 'statistic': 0.04363059997558594, 'p_value': 0.3059999942779541}, {'test': 'energy', 'test_long_name': 'Energy Test', 'circuit_id': '2', 'benchmark_name': 'across_runs_cirq', 'random_seed': 1234, 'statistic': 0.03457653522491455, 'p_value': 0.5429999828338623}, {'test': 'energy', 'test_long_name': 'Energy Test', 'circuit_id': '18', 'benchmark_name': 'across_runs_cirq', 'random_seed': 1234, 'statistic': 0.04654419422149658, 'p_value': 0.11900000274181366}, {'test': 'energy', 'test_long_name': 'Energy Test', 'circuit_id': '3', 'benchmark_name': 'across_runs_cirq', 'random_seed': 1234, 'statistic': 0.03643214702606201, 'p_value': 0.2280000001192093}, {'test': 'energy', 'test_long_name': 'Energy Test', 'circuit_id': '13', 'benchmark_name': 'across_runs_cirq', 'random_seed': 1234, 'statistic': 0.0579991340637207, 'p_value': 0.335999995470047}, {'test': 'energy', 'test_long_name': 'Energy Test', 'circuit_id': '17', 'benchmark_name': 'across_runs_cirq', 'random_seed': 1234, 'statistic': 0.02888345718383789, 'p_value': 0.8109999895095825}, {'test': 'energy', 'test_long_name': 'Energy Test', 'circuit_id': '15', 'benchmark_name': 'across_runs_cirq', 'random_seed': 1234, 'statistic': 0.05263519287109375, 'p_value': 0.44200000166893005}, {'test': 'energy', 'test_long_name': 'Energy Test', 'circuit_id': '10', 'benchmark_name': 'across_runs_cirq', 'random_seed': 1234, 'statistic': 0.04031515121459961, 'p_value': 0.39100000262260437}, {'test': 'energy', 'test_long_name': 'Energy Test', 'circuit_id': '14', 'benchmark_name': 'across_runs_cirq', 'random_seed': 1234, 'statistic': 0.029590904712677002, 'p_value': 0.13600000739097595}, {'test': 'energy', 'test_long_name': 'Energy Test', 'circuit_id': '9', 'benchmark_name': 'across_runs_cirq', 'random_seed': 1234, 'statistic': 0.04931044578552246, 'p_value': 0.02800000086426735}, {'test': 'energy', 'test_long_name': 'Energy Test', 'circuit_id': '6', 'benchmark_name': 'across_runs_cirq', 'random_seed': 1234, 'statistic': 0.02758026123046875, 'p_value': 0.1459999978542328})\n",
      "BENCHMARK:  across_runs_qiskit\n",
      "GROUND TRUTH - reading ...  \n",
      "({'expected_divergence': False, 'circuit_id': '8', 'benchmark_name': 'across_runs_qiskit'}, {'expected_divergence': False, 'circuit_id': '19', 'benchmark_name': 'across_runs_qiskit'}, {'expected_divergence': False, 'circuit_id': '0', 'benchmark_name': 'across_runs_qiskit'}, {'expected_divergence': False, 'circuit_id': '16', 'benchmark_name': 'across_runs_qiskit'}, {'expected_divergence': False, 'circuit_id': '4', 'benchmark_name': 'across_runs_qiskit'}, {'expected_divergence': False, 'circuit_id': '12', 'benchmark_name': 'across_runs_qiskit'}, {'expected_divergence': False, 'circuit_id': '5', 'benchmark_name': 'across_runs_qiskit'}, {'expected_divergence': False, 'circuit_id': '1', 'benchmark_name': 'across_runs_qiskit'}, {'expected_divergence': False, 'circuit_id': '11', 'benchmark_name': 'across_runs_qiskit'}, {'expected_divergence': False, 'circuit_id': '7', 'benchmark_name': 'across_runs_qiskit'}, {'expected_divergence': False, 'circuit_id': '2', 'benchmark_name': 'across_runs_qiskit'}, {'expected_divergence': False, 'circuit_id': '18', 'benchmark_name': 'across_runs_qiskit'}, {'expected_divergence': False, 'circuit_id': '3', 'benchmark_name': 'across_runs_qiskit'}, {'expected_divergence': False, 'circuit_id': '13', 'benchmark_name': 'across_runs_qiskit'}, {'expected_divergence': False, 'circuit_id': '17', 'benchmark_name': 'across_runs_qiskit'}, {'expected_divergence': False, 'circuit_id': '15', 'benchmark_name': 'across_runs_qiskit'}, {'expected_divergence': False, 'circuit_id': '10', 'benchmark_name': 'across_runs_qiskit'}, {'expected_divergence': False, 'circuit_id': '14', 'benchmark_name': 'across_runs_qiskit'}, {'expected_divergence': False, 'circuit_id': '9', 'benchmark_name': 'across_runs_qiskit'}, {'expected_divergence': False, 'circuit_id': '6', 'benchmark_name': 'across_runs_qiskit'})\n",
      "PROGRAM INFO - reading ...  \n",
      "[{'n_qubits': 18, 'circuit_id': '8', 'benchmark_name': 'across_runs_qiskit', 'strategy_a': 'WeightedRandomCircuitGenerator', 'strategy_b': 'WeightedRandomCircuitGenerator'}, {'n_qubits': 14, 'circuit_id': '19', 'benchmark_name': 'across_runs_qiskit', 'strategy_a': 'WeightedRandomCircuitGenerator', 'strategy_b': 'WeightedRandomCircuitGenerator'}, {'n_qubits': 5, 'circuit_id': '0', 'benchmark_name': 'across_runs_qiskit', 'strategy_a': 'WeightedRandomCircuitGenerator', 'strategy_b': 'WeightedRandomCircuitGenerator'}, {'n_qubits': 10, 'circuit_id': '16', 'benchmark_name': 'across_runs_qiskit', 'strategy_a': 'WeightedRandomCircuitGenerator', 'strategy_b': 'WeightedRandomCircuitGenerator'}, {'n_qubits': 4, 'circuit_id': '4', 'benchmark_name': 'across_runs_qiskit', 'strategy_a': 'WeightedRandomCircuitGenerator', 'strategy_b': 'WeightedRandomCircuitGenerator'}, {'n_qubits': 9, 'circuit_id': '12', 'benchmark_name': 'across_runs_qiskit', 'strategy_a': 'WeightedRandomCircuitGenerator', 'strategy_b': 'WeightedRandomCircuitGenerator'}, {'n_qubits': 15, 'circuit_id': '5', 'benchmark_name': 'across_runs_qiskit', 'strategy_a': 'WeightedRandomCircuitGenerator', 'strategy_b': 'WeightedRandomCircuitGenerator'}, {'n_qubits': 10, 'circuit_id': '1', 'benchmark_name': 'across_runs_qiskit', 'strategy_a': 'WeightedRandomCircuitGenerator', 'strategy_b': 'WeightedRandomCircuitGenerator'}, {'n_qubits': 19, 'circuit_id': '11', 'benchmark_name': 'across_runs_qiskit', 'strategy_a': 'WeightedRandomCircuitGenerator', 'strategy_b': 'WeightedRandomCircuitGenerator'}, {'n_qubits': 8, 'circuit_id': '7', 'benchmark_name': 'across_runs_qiskit', 'strategy_a': 'WeightedRandomCircuitGenerator', 'strategy_b': 'WeightedRandomCircuitGenerator'}, {'n_qubits': 9, 'circuit_id': '2', 'benchmark_name': 'across_runs_qiskit', 'strategy_a': 'WeightedRandomCircuitGenerator', 'strategy_b': 'WeightedRandomCircuitGenerator'}, {'n_qubits': 5, 'circuit_id': '18', 'benchmark_name': 'across_runs_qiskit', 'strategy_a': 'WeightedRandomCircuitGenerator', 'strategy_b': 'WeightedRandomCircuitGenerator'}, {'n_qubits': 5, 'circuit_id': '3', 'benchmark_name': 'across_runs_qiskit', 'strategy_a': 'WeightedRandomCircuitGenerator', 'strategy_b': 'WeightedRandomCircuitGenerator'}, {'n_qubits': 20, 'circuit_id': '13', 'benchmark_name': 'across_runs_qiskit', 'strategy_a': 'WeightedRandomCircuitGenerator', 'strategy_b': 'WeightedRandomCircuitGenerator'}, {'n_qubits': 8, 'circuit_id': '17', 'benchmark_name': 'across_runs_qiskit', 'strategy_a': 'WeightedRandomCircuitGenerator', 'strategy_b': 'WeightedRandomCircuitGenerator'}, {'n_qubits': 15, 'circuit_id': '15', 'benchmark_name': 'across_runs_qiskit', 'strategy_a': 'WeightedRandomCircuitGenerator', 'strategy_b': 'WeightedRandomCircuitGenerator'}, {'n_qubits': 8, 'circuit_id': '10', 'benchmark_name': 'across_runs_qiskit', 'strategy_a': 'WeightedRandomCircuitGenerator', 'strategy_b': 'WeightedRandomCircuitGenerator'}, {'n_qubits': 2, 'circuit_id': '14', 'benchmark_name': 'across_runs_qiskit', 'strategy_a': 'WeightedRandomCircuitGenerator', 'strategy_b': 'WeightedRandomCircuitGenerator'}, {'n_qubits': 2, 'circuit_id': '9', 'benchmark_name': 'across_runs_qiskit', 'strategy_a': 'WeightedRandomCircuitGenerator', 'strategy_b': 'WeightedRandomCircuitGenerator'}, {'n_qubits': 2, 'circuit_id': '6', 'benchmark_name': 'across_runs_qiskit', 'strategy_a': 'WeightedRandomCircuitGenerator', 'strategy_b': 'WeightedRandomCircuitGenerator'}]\n",
      "EXECUTION INFO - reading ...  \n",
      "DETECTOR:  ks\n",
      "({'test': 'ks', 'test_long_name': 'Kolmogorov–Smirnov Test', 'circuit_id': '8', 'benchmark_name': 'across_runs_qiskit', 'random_seed': None, 'statistic': 0.01416015625, 'p_value': 0.38417809391529467}, {'test': 'ks', 'test_long_name': 'Kolmogorov–Smirnov Test', 'circuit_id': '19', 'benchmark_name': 'across_runs_qiskit', 'random_seed': None, 'statistic': 0.0238037109375, 'p_value': 0.019279124282117834}, {'test': 'ks', 'test_long_name': 'Kolmogorov–Smirnov Test', 'circuit_id': '0', 'benchmark_name': 'across_runs_qiskit', 'random_seed': None, 'statistic': 0.013671875, 'p_value': 0.42817891076724507}, {'test': 'ks', 'test_long_name': 'Kolmogorov–Smirnov Test', 'circuit_id': '16', 'benchmark_name': 'across_runs_qiskit', 'random_seed': None, 'statistic': 0.019287109375, 'p_value': 0.09495749925613423}, {'test': 'ks', 'test_long_name': 'Kolmogorov–Smirnov Test', 'circuit_id': '4', 'benchmark_name': 'across_runs_qiskit', 'random_seed': None, 'statistic': 0.0098876953125, 'p_value': 0.8181241442446051}, {'test': 'ks', 'test_long_name': 'Kolmogorov–Smirnov Test', 'circuit_id': '12', 'benchmark_name': 'across_runs_qiskit', 'random_seed': None, 'statistic': 0.014892578125, 'p_value': 0.3236790530216593}, {'test': 'ks', 'test_long_name': 'Kolmogorov–Smirnov Test', 'circuit_id': '5', 'benchmark_name': 'across_runs_qiskit', 'random_seed': None, 'statistic': 0.01318359375, 'p_value': 0.47488709291176073}, {'test': 'ks', 'test_long_name': 'Kolmogorov–Smirnov Test', 'circuit_id': '1', 'benchmark_name': 'across_runs_qiskit', 'random_seed': None, 'statistic': 0.0113525390625, 'p_value': 0.6667138794733032}, {'test': 'ks', 'test_long_name': 'Kolmogorov–Smirnov Test', 'circuit_id': '11', 'benchmark_name': 'across_runs_qiskit', 'random_seed': None, 'statistic': 0.0125732421875, 'p_value': 0.5365621224389928}, {'test': 'ks', 'test_long_name': 'Kolmogorov–Smirnov Test', 'circuit_id': '7', 'benchmark_name': 'across_runs_qiskit', 'random_seed': None, 'statistic': 0.0089111328125, 'p_value': 0.9010141169700785}, {'test': 'ks', 'test_long_name': 'Kolmogorov–Smirnov Test', 'circuit_id': '2', 'benchmark_name': 'across_runs_qiskit', 'random_seed': None, 'statistic': 0.0174560546875, 'p_value': 0.16470458587539735}, {'test': 'ks', 'test_long_name': 'Kolmogorov–Smirnov Test', 'circuit_id': '18', 'benchmark_name': 'across_runs_qiskit', 'random_seed': None, 'statistic': 0.008056640625, 'p_value': 0.9530824559228417}, {'test': 'ks', 'test_long_name': 'Kolmogorov–Smirnov Test', 'circuit_id': '3', 'benchmark_name': 'across_runs_qiskit', 'random_seed': None, 'statistic': 0.0130615234375, 'p_value': 0.4869514417808664}, {'test': 'ks', 'test_long_name': 'Kolmogorov–Smirnov Test', 'circuit_id': '13', 'benchmark_name': 'across_runs_qiskit', 'random_seed': None, 'statistic': 0.013671875, 'p_value': 0.42817891076724507}, {'test': 'ks', 'test_long_name': 'Kolmogorov–Smirnov Test', 'circuit_id': '17', 'benchmark_name': 'across_runs_qiskit', 'random_seed': None, 'statistic': 0.012939453125, 'p_value': 0.49915853307475466}, {'test': 'ks', 'test_long_name': 'Kolmogorov–Smirnov Test', 'circuit_id': '15', 'benchmark_name': 'across_runs_qiskit', 'random_seed': None, 'statistic': 0.017822265625, 'p_value': 0.1481856811921419}, {'test': 'ks', 'test_long_name': 'Kolmogorov–Smirnov Test', 'circuit_id': '10', 'benchmark_name': 'across_runs_qiskit', 'random_seed': None, 'statistic': 0.015380859375, 'p_value': 0.28713961837751134}, {'test': 'ks', 'test_long_name': 'Kolmogorov–Smirnov Test', 'circuit_id': '14', 'benchmark_name': 'across_runs_qiskit', 'random_seed': None, 'statistic': 0.0045166015625, 'p_value': 0.9999966586188888}, {'test': 'ks', 'test_long_name': 'Kolmogorov–Smirnov Test', 'circuit_id': '9', 'benchmark_name': 'across_runs_qiskit', 'random_seed': None, 'statistic': 0.01513671875, 'p_value': 0.3050278910696564}, {'test': 'ks', 'test_long_name': 'Kolmogorov–Smirnov Test', 'circuit_id': '6', 'benchmark_name': 'across_runs_qiskit', 'random_seed': None, 'statistic': 0.0108642578125, 'p_value': 0.7190567913713779})\n",
      "DETECTOR:  energy\n",
      "({'test': 'energy', 'test_long_name': 'Energy Test', 'circuit_id': '8', 'benchmark_name': 'across_runs_qiskit', 'random_seed': 1234, 'statistic': 0.06026506423950195, 'p_value': 0.4009999930858612}, {'test': 'energy', 'test_long_name': 'Energy Test', 'circuit_id': '19', 'benchmark_name': 'across_runs_qiskit', 'random_seed': 1234, 'statistic': 0.03183400630950928, 'p_value': 0.5220000147819519}, {'test': 'energy', 'test_long_name': 'Energy Test', 'circuit_id': '0', 'benchmark_name': 'across_runs_qiskit', 'random_seed': 1234, 'statistic': 0.026514649391174316, 'p_value': 0.32100000977516174}, {'test': 'energy', 'test_long_name': 'Energy Test', 'circuit_id': '16', 'benchmark_name': 'across_runs_qiskit', 'random_seed': 1234, 'statistic': 0.03474926948547363, 'p_value': 0.6610000133514404}, {'test': 'energy', 'test_long_name': 'Energy Test', 'circuit_id': '4', 'benchmark_name': 'across_runs_qiskit', 'random_seed': 1234, 'statistic': 0.06404221057891846, 'p_value': 0.03099999949336052}, {'test': 'energy', 'test_long_name': 'Energy Test', 'circuit_id': '12', 'benchmark_name': 'across_runs_qiskit', 'random_seed': 1234, 'statistic': 0.03551006317138672, 'p_value': 0.6919999718666077}, {'test': 'energy', 'test_long_name': 'Energy Test', 'circuit_id': '5', 'benchmark_name': 'across_runs_qiskit', 'random_seed': 1234, 'statistic': 0.04571044445037842, 'p_value': 0.09399999678134918}, {'test': 'energy', 'test_long_name': 'Energy Test', 'circuit_id': '1', 'benchmark_name': 'across_runs_qiskit', 'random_seed': 1234, 'statistic': 0.05067563056945801, 'p_value': 0.23899999260902405}, {'test': 'energy', 'test_long_name': 'Energy Test', 'circuit_id': '11', 'benchmark_name': 'across_runs_qiskit', 'random_seed': 1234, 'statistic': 0.050092220306396484, 'p_value': 0.6840000152587891}, {'test': 'energy', 'test_long_name': 'Energy Test', 'circuit_id': '7', 'benchmark_name': 'across_runs_qiskit', 'random_seed': 1234, 'statistic': 0.03847849369049072, 'p_value': 0.44600000977516174}, {'test': 'energy', 'test_long_name': 'Energy Test', 'circuit_id': '2', 'benchmark_name': 'across_runs_qiskit', 'random_seed': 1234, 'statistic': 0.03213071823120117, 'p_value': 0.6679999828338623}, {'test': 'energy', 'test_long_name': 'Energy Test', 'circuit_id': '18', 'benchmark_name': 'across_runs_qiskit', 'random_seed': 1234, 'statistic': 0.04826760292053223, 'p_value': 0.10499999672174454}, {'test': 'energy', 'test_long_name': 'Energy Test', 'circuit_id': '3', 'benchmark_name': 'across_runs_qiskit', 'random_seed': 1234, 'statistic': 0.05637538433074951, 'p_value': 0.03700000047683716}, {'test': 'energy', 'test_long_name': 'Energy Test', 'circuit_id': '13', 'benchmark_name': 'across_runs_qiskit', 'random_seed': 1234, 'statistic': 0.039107561111450195, 'p_value': 0.8600000143051147}, {'test': 'energy', 'test_long_name': 'Energy Test', 'circuit_id': '17', 'benchmark_name': 'across_runs_qiskit', 'random_seed': 1234, 'statistic': 0.039399147033691406, 'p_value': 0.42399999499320984}, {'test': 'energy', 'test_long_name': 'Energy Test', 'circuit_id': '15', 'benchmark_name': 'across_runs_qiskit', 'random_seed': 1234, 'statistic': 0.05396008491516113, 'p_value': 0.3540000021457672}, {'test': 'energy', 'test_long_name': 'Energy Test', 'circuit_id': '10', 'benchmark_name': 'across_runs_qiskit', 'random_seed': 1234, 'statistic': 0.03233778476715088, 'p_value': 0.703000009059906}, {'test': 'energy', 'test_long_name': 'Energy Test', 'circuit_id': '14', 'benchmark_name': 'across_runs_qiskit', 'random_seed': 1234, 'statistic': 0.027607619762420654, 'p_value': 0.12600000202655792}, {'test': 'energy', 'test_long_name': 'Energy Test', 'circuit_id': '9', 'benchmark_name': 'across_runs_qiskit', 'random_seed': 1234, 'statistic': 0.04420638084411621, 'p_value': 0.03099999949336052}, {'test': 'energy', 'test_long_name': 'Energy Test', 'circuit_id': '6', 'benchmark_name': 'across_runs_qiskit', 'random_seed': 1234, 'statistic': 0.022991061210632324, 'p_value': 0.25099998712539673})\n",
      "BENCHMARK:  negation\n",
      "GROUND TRUTH - reading ...  \n",
      "({'expected_divergence': True, 'circuit_id': '8', 'benchmark_name': 'negation'}, {'expected_divergence': True, 'circuit_id': '19', 'benchmark_name': 'negation'}, {'expected_divergence': True, 'circuit_id': '0', 'benchmark_name': 'negation'}, {'expected_divergence': True, 'circuit_id': '16', 'benchmark_name': 'negation'}, {'expected_divergence': True, 'circuit_id': '4', 'benchmark_name': 'negation'}, {'expected_divergence': True, 'circuit_id': '12', 'benchmark_name': 'negation'}, {'expected_divergence': True, 'circuit_id': '5', 'benchmark_name': 'negation'}, {'expected_divergence': True, 'circuit_id': '1', 'benchmark_name': 'negation'}, {'expected_divergence': True, 'circuit_id': '11', 'benchmark_name': 'negation'}, {'expected_divergence': True, 'circuit_id': '7', 'benchmark_name': 'negation'}, {'expected_divergence': True, 'circuit_id': '2', 'benchmark_name': 'negation'}, {'expected_divergence': True, 'circuit_id': '18', 'benchmark_name': 'negation'}, {'expected_divergence': True, 'circuit_id': '3', 'benchmark_name': 'negation'}, {'expected_divergence': True, 'circuit_id': '13', 'benchmark_name': 'negation'}, {'expected_divergence': True, 'circuit_id': '17', 'benchmark_name': 'negation'}, {'expected_divergence': True, 'circuit_id': '15', 'benchmark_name': 'negation'}, {'expected_divergence': True, 'circuit_id': '10', 'benchmark_name': 'negation'}, {'expected_divergence': True, 'circuit_id': '14', 'benchmark_name': 'negation'}, {'expected_divergence': True, 'circuit_id': '9', 'benchmark_name': 'negation'}, {'expected_divergence': True, 'circuit_id': '6', 'benchmark_name': 'negation'})\n",
      "PROGRAM INFO - reading ...  \n",
      "[{'n_qubits': 18, 'circuit_id': '8', 'benchmark_name': 'negation', 'strategy_a': 'WeightedRandomCircuitGenerator', 'strategy_b': 'WeightedRandomCircuitGenerator'}, {'n_qubits': 14, 'circuit_id': '19', 'benchmark_name': 'negation', 'strategy_a': 'WeightedRandomCircuitGenerator', 'strategy_b': 'WeightedRandomCircuitGenerator'}, {'n_qubits': 5, 'circuit_id': '0', 'benchmark_name': 'negation', 'strategy_a': 'WeightedRandomCircuitGenerator', 'strategy_b': 'WeightedRandomCircuitGenerator'}, {'n_qubits': 10, 'circuit_id': '16', 'benchmark_name': 'negation', 'strategy_a': 'WeightedRandomCircuitGenerator', 'strategy_b': 'WeightedRandomCircuitGenerator'}, {'n_qubits': 4, 'circuit_id': '4', 'benchmark_name': 'negation', 'strategy_a': 'WeightedRandomCircuitGenerator', 'strategy_b': 'WeightedRandomCircuitGenerator'}, {'n_qubits': 9, 'circuit_id': '12', 'benchmark_name': 'negation', 'strategy_a': 'WeightedRandomCircuitGenerator', 'strategy_b': 'WeightedRandomCircuitGenerator'}, {'n_qubits': 15, 'circuit_id': '5', 'benchmark_name': 'negation', 'strategy_a': 'WeightedRandomCircuitGenerator', 'strategy_b': 'WeightedRandomCircuitGenerator'}, {'n_qubits': 10, 'circuit_id': '1', 'benchmark_name': 'negation', 'strategy_a': 'WeightedRandomCircuitGenerator', 'strategy_b': 'WeightedRandomCircuitGenerator'}, {'n_qubits': 19, 'circuit_id': '11', 'benchmark_name': 'negation', 'strategy_a': 'WeightedRandomCircuitGenerator', 'strategy_b': 'WeightedRandomCircuitGenerator'}, {'n_qubits': 8, 'circuit_id': '7', 'benchmark_name': 'negation', 'strategy_a': 'WeightedRandomCircuitGenerator', 'strategy_b': 'WeightedRandomCircuitGenerator'}, {'n_qubits': 9, 'circuit_id': '2', 'benchmark_name': 'negation', 'strategy_a': 'WeightedRandomCircuitGenerator', 'strategy_b': 'WeightedRandomCircuitGenerator'}, {'n_qubits': 5, 'circuit_id': '18', 'benchmark_name': 'negation', 'strategy_a': 'WeightedRandomCircuitGenerator', 'strategy_b': 'WeightedRandomCircuitGenerator'}, {'n_qubits': 5, 'circuit_id': '3', 'benchmark_name': 'negation', 'strategy_a': 'WeightedRandomCircuitGenerator', 'strategy_b': 'WeightedRandomCircuitGenerator'}, {'n_qubits': 20, 'circuit_id': '13', 'benchmark_name': 'negation', 'strategy_a': 'WeightedRandomCircuitGenerator', 'strategy_b': 'WeightedRandomCircuitGenerator'}, {'n_qubits': 8, 'circuit_id': '17', 'benchmark_name': 'negation', 'strategy_a': 'WeightedRandomCircuitGenerator', 'strategy_b': 'WeightedRandomCircuitGenerator'}, {'n_qubits': 15, 'circuit_id': '15', 'benchmark_name': 'negation', 'strategy_a': 'WeightedRandomCircuitGenerator', 'strategy_b': 'WeightedRandomCircuitGenerator'}, {'n_qubits': 8, 'circuit_id': '10', 'benchmark_name': 'negation', 'strategy_a': 'WeightedRandomCircuitGenerator', 'strategy_b': 'WeightedRandomCircuitGenerator'}, {'n_qubits': 2, 'circuit_id': '14', 'benchmark_name': 'negation', 'strategy_a': 'WeightedRandomCircuitGenerator', 'strategy_b': 'WeightedRandomCircuitGenerator'}, {'n_qubits': 2, 'circuit_id': '9', 'benchmark_name': 'negation', 'strategy_a': 'WeightedRandomCircuitGenerator', 'strategy_b': 'WeightedRandomCircuitGenerator'}, {'n_qubits': 2, 'circuit_id': '6', 'benchmark_name': 'negation', 'strategy_a': 'WeightedRandomCircuitGenerator', 'strategy_b': 'WeightedRandomCircuitGenerator'}]\n",
      "EXECUTION INFO - reading ...  \n",
      "DETECTOR:  ks\n",
      "({'test': 'ks', 'test_long_name': 'Kolmogorov–Smirnov Test', 'circuit_id': '8', 'benchmark_name': 'negation', 'random_seed': None, 'statistic': 0.7222900390625, 'p_value': 0.0}, {'test': 'ks', 'test_long_name': 'Kolmogorov–Smirnov Test', 'circuit_id': '19', 'benchmark_name': 'negation', 'random_seed': None, 'statistic': 0.98095703125, 'p_value': 0.0}, {'test': 'ks', 'test_long_name': 'Kolmogorov–Smirnov Test', 'circuit_id': '0', 'benchmark_name': 'negation', 'random_seed': None, 'statistic': 0.5030517578125, 'p_value': 0.0}, {'test': 'ks', 'test_long_name': 'Kolmogorov–Smirnov Test', 'circuit_id': '16', 'benchmark_name': 'negation', 'random_seed': None, 'statistic': 0.0382080078125, 'p_value': 1.2773468780611149e-05}, {'test': 'ks', 'test_long_name': 'Kolmogorov–Smirnov Test', 'circuit_id': '4', 'benchmark_name': 'negation', 'random_seed': None, 'statistic': 0.16552734375, 'p_value': 2.3843146546843233e-98}, {'test': 'ks', 'test_long_name': 'Kolmogorov–Smirnov Test', 'circuit_id': '12', 'benchmark_name': 'negation', 'random_seed': None, 'statistic': 0.049072265625, 'p_value': 5.379753938144545e-09}, {'test': 'ks', 'test_long_name': 'Kolmogorov–Smirnov Test', 'circuit_id': '5', 'benchmark_name': 'negation', 'random_seed': None, 'statistic': 0.85302734375, 'p_value': 0.0}, {'test': 'ks', 'test_long_name': 'Kolmogorov–Smirnov Test', 'circuit_id': '1', 'benchmark_name': 'negation', 'random_seed': None, 'statistic': 0.0230712890625, 'p_value': 0.02554153723346739}, {'test': 'ks', 'test_long_name': 'Kolmogorov–Smirnov Test', 'circuit_id': '11', 'benchmark_name': 'negation', 'random_seed': None, 'statistic': 0.10302734375, 'p_value': 2.9658048662386566e-38}, {'test': 'ks', 'test_long_name': 'Kolmogorov–Smirnov Test', 'circuit_id': '7', 'benchmark_name': 'negation', 'random_seed': None, 'statistic': 0.087646484375, 'p_value': 8.657191920550106e-28}, {'test': 'ks', 'test_long_name': 'Kolmogorov–Smirnov Test', 'circuit_id': '2', 'benchmark_name': 'negation', 'random_seed': None, 'statistic': 0.137451171875, 'p_value': 7.518670150271598e-68}, {'test': 'ks', 'test_long_name': 'Kolmogorov–Smirnov Test', 'circuit_id': '18', 'benchmark_name': 'negation', 'random_seed': None, 'statistic': 0.0982666015625, 'p_value': 7.815104449566416e-35}, {'test': 'ks', 'test_long_name': 'Kolmogorov–Smirnov Test', 'circuit_id': '3', 'benchmark_name': 'negation', 'random_seed': None, 'statistic': 0.2010498046875, 'p_value': 3.2935147858267974e-145}, {'test': 'ks', 'test_long_name': 'Kolmogorov–Smirnov Test', 'circuit_id': '13', 'benchmark_name': 'negation', 'random_seed': None, 'statistic': 1.0, 'p_value': 0.0}, {'test': 'ks', 'test_long_name': 'Kolmogorov–Smirnov Test', 'circuit_id': '17', 'benchmark_name': 'negation', 'random_seed': None, 'statistic': 0.0526123046875, 'p_value': 2.812314257045131e-10}, {'test': 'ks', 'test_long_name': 'Kolmogorov–Smirnov Test', 'circuit_id': '15', 'benchmark_name': 'negation', 'random_seed': None, 'statistic': 0.05908203125, 'p_value': 7.509274664132606e-13}, {'test': 'ks', 'test_long_name': 'Kolmogorov–Smirnov Test', 'circuit_id': '10', 'benchmark_name': 'negation', 'random_seed': None, 'statistic': 0.0797119140625, 'p_value': 4.705104631403321e-23}, {'test': 'ks', 'test_long_name': 'Kolmogorov–Smirnov Test', 'circuit_id': '14', 'benchmark_name': 'negation', 'random_seed': None, 'statistic': 0.33837890625, 'p_value': 0.0}, {'test': 'ks', 'test_long_name': 'Kolmogorov–Smirnov Test', 'circuit_id': '9', 'benchmark_name': 'negation', 'random_seed': None, 'statistic': 0.468505859375, 'p_value': 0.0}, {'test': 'ks', 'test_long_name': 'Kolmogorov–Smirnov Test', 'circuit_id': '6', 'benchmark_name': 'negation', 'random_seed': None, 'statistic': 0.2523193359375, 'p_value': 2.2122260836381176e-229})\n",
      "DETECTOR:  energy\n",
      "({'test': 'energy', 'test_long_name': 'Energy Test', 'circuit_id': '8', 'benchmark_name': 'negation', 'random_seed': 1234, 'statistic': 0.2557072639465332, 'p_value': 0.0}, {'test': 'energy', 'test_long_name': 'Energy Test', 'circuit_id': '19', 'benchmark_name': 'negation', 'random_seed': 1234, 'statistic': 3.1542725563049316, 'p_value': 0.0}, {'test': 'energy', 'test_long_name': 'Energy Test', 'circuit_id': '0', 'benchmark_name': 'negation', 'random_seed': 1234, 'statistic': 0.8596150875091553, 'p_value': 0.0}, {'test': 'energy', 'test_long_name': 'Energy Test', 'circuit_id': '16', 'benchmark_name': 'negation', 'random_seed': 1234, 'statistic': 0.4945969581604004, 'p_value': 0.0}, {'test': 'energy', 'test_long_name': 'Energy Test', 'circuit_id': '4', 'benchmark_name': 'negation', 'random_seed': 1234, 'statistic': 0.13862860202789307, 'p_value': 0.0}, {'test': 'energy', 'test_long_name': 'Energy Test', 'circuit_id': '12', 'benchmark_name': 'negation', 'random_seed': 1234, 'statistic': 0.03878211975097656, 'p_value': 0.5289999842643738}, {'test': 'energy', 'test_long_name': 'Energy Test', 'circuit_id': '5', 'benchmark_name': 'negation', 'random_seed': 1234, 'statistic': 4.161273956298828, 'p_value': 0.0}, {'test': 'energy', 'test_long_name': 'Energy Test', 'circuit_id': '1', 'benchmark_name': 'negation', 'random_seed': 1234, 'statistic': 0.04412436485290527, 'p_value': 0.4000000059604645}, {'test': 'energy', 'test_long_name': 'Energy Test', 'circuit_id': '11', 'benchmark_name': 'negation', 'random_seed': 1234, 'statistic': 0.4080772399902344, 'p_value': 0.0}, {'test': 'energy', 'test_long_name': 'Energy Test', 'circuit_id': '7', 'benchmark_name': 'negation', 'random_seed': 1234, 'statistic': 0.0816415548324585, 'p_value': 0.0}, {'test': 'energy', 'test_long_name': 'Energy Test', 'circuit_id': '2', 'benchmark_name': 'negation', 'random_seed': 1234, 'statistic': 0.7235884666442871, 'p_value': 0.0}, {'test': 'energy', 'test_long_name': 'Energy Test', 'circuit_id': '18', 'benchmark_name': 'negation', 'random_seed': 1234, 'statistic': 0.04546976089477539, 'p_value': 0.13199999928474426}, {'test': 'energy', 'test_long_name': 'Energy Test', 'circuit_id': '3', 'benchmark_name': 'negation', 'random_seed': 1234, 'statistic': 0.12164080142974854, 'p_value': 0.0}, {'test': 'energy', 'test_long_name': 'Energy Test', 'circuit_id': '13', 'benchmark_name': 'negation', 'random_seed': 1234, 'statistic': 1.2007880210876465, 'p_value': 0.0}, {'test': 'energy', 'test_long_name': 'Energy Test', 'circuit_id': '17', 'benchmark_name': 'negation', 'random_seed': 1234, 'statistic': 0.048268914222717285, 'p_value': 0.15800000727176666}, {'test': 'energy', 'test_long_name': 'Energy Test', 'circuit_id': '15', 'benchmark_name': 'negation', 'random_seed': 1234, 'statistic': 0.39552736282348633, 'p_value': 0.0}, {'test': 'energy', 'test_long_name': 'Energy Test', 'circuit_id': '10', 'benchmark_name': 'negation', 'random_seed': 1234, 'statistic': 0.04992413520812988, 'p_value': 0.16599999368190765}, {'test': 'energy', 'test_long_name': 'Energy Test', 'circuit_id': '14', 'benchmark_name': 'negation', 'random_seed': 1234, 'statistic': 0.6144362092018127, 'p_value': 0.0}, {'test': 'energy', 'test_long_name': 'Energy Test', 'circuit_id': '9', 'benchmark_name': 'negation', 'random_seed': 1234, 'statistic': 0.42049455642700195, 'p_value': 0.0}, {'test': 'energy', 'test_long_name': 'Energy Test', 'circuit_id': '6', 'benchmark_name': 'negation', 'random_seed': 1234, 'statistic': 0.14483457803726196, 'p_value': 0.0})\n",
      "BENCHMARK:  program_x_vs_program_y\n",
      "GROUND TRUTH - reading ...  \n",
      "({'expected_divergence': True, 'circuit_id': '8', 'benchmark_name': 'program_x_vs_program_y'}, {'expected_divergence': True, 'circuit_id': '19', 'benchmark_name': 'program_x_vs_program_y'}, {'expected_divergence': True, 'circuit_id': '0', 'benchmark_name': 'program_x_vs_program_y'}, {'expected_divergence': True, 'circuit_id': '16', 'benchmark_name': 'program_x_vs_program_y'}, {'expected_divergence': True, 'circuit_id': '4', 'benchmark_name': 'program_x_vs_program_y'}, {'expected_divergence': True, 'circuit_id': '12', 'benchmark_name': 'program_x_vs_program_y'}, {'expected_divergence': True, 'circuit_id': '5', 'benchmark_name': 'program_x_vs_program_y'}, {'expected_divergence': True, 'circuit_id': '1', 'benchmark_name': 'program_x_vs_program_y'}, {'expected_divergence': True, 'circuit_id': '11', 'benchmark_name': 'program_x_vs_program_y'}, {'expected_divergence': True, 'circuit_id': '7', 'benchmark_name': 'program_x_vs_program_y'}, {'expected_divergence': True, 'circuit_id': '2', 'benchmark_name': 'program_x_vs_program_y'}, {'expected_divergence': True, 'circuit_id': '18', 'benchmark_name': 'program_x_vs_program_y'}, {'expected_divergence': True, 'circuit_id': '3', 'benchmark_name': 'program_x_vs_program_y'}, {'expected_divergence': True, 'circuit_id': '13', 'benchmark_name': 'program_x_vs_program_y'}, {'expected_divergence': True, 'circuit_id': '17', 'benchmark_name': 'program_x_vs_program_y'}, {'expected_divergence': True, 'circuit_id': '15', 'benchmark_name': 'program_x_vs_program_y'}, {'expected_divergence': True, 'circuit_id': '10', 'benchmark_name': 'program_x_vs_program_y'}, {'expected_divergence': True, 'circuit_id': '14', 'benchmark_name': 'program_x_vs_program_y'}, {'expected_divergence': True, 'circuit_id': '9', 'benchmark_name': 'program_x_vs_program_y'}, {'expected_divergence': True, 'circuit_id': '6', 'benchmark_name': 'program_x_vs_program_y'})\n",
      "PROGRAM INFO - reading ...  \n",
      "[{'n_qubits': 16, 'circuit_id': '8', 'benchmark_name': 'program_x_vs_program_y', 'strategy_a': 'WeightedRandomCircuitGenerator', 'strategy_b': 'WeightedRandomCircuitGenerator'}, {'n_qubits': 9, 'circuit_id': '19', 'benchmark_name': 'program_x_vs_program_y', 'strategy_a': 'WeightedRandomCircuitGenerator', 'strategy_b': 'WeightedRandomCircuitGenerator'}, {'n_qubits': 5, 'circuit_id': '0', 'benchmark_name': 'program_x_vs_program_y', 'strategy_a': 'WeightedRandomCircuitGenerator', 'strategy_b': 'WeightedRandomCircuitGenerator'}, {'n_qubits': 4, 'circuit_id': '16', 'benchmark_name': 'program_x_vs_program_y', 'strategy_a': 'WeightedRandomCircuitGenerator', 'strategy_b': 'WeightedRandomCircuitGenerator'}, {'n_qubits': 2, 'circuit_id': '4', 'benchmark_name': 'program_x_vs_program_y', 'strategy_a': 'WeightedRandomCircuitGenerator', 'strategy_b': 'WeightedRandomCircuitGenerator'}, {'n_qubits': 4, 'circuit_id': '12', 'benchmark_name': 'program_x_vs_program_y', 'strategy_a': 'WeightedRandomCircuitGenerator', 'strategy_b': 'WeightedRandomCircuitGenerator'}, {'n_qubits': 9, 'circuit_id': '5', 'benchmark_name': 'program_x_vs_program_y', 'strategy_a': 'WeightedRandomCircuitGenerator', 'strategy_b': 'WeightedRandomCircuitGenerator'}, {'n_qubits': 9, 'circuit_id': '1', 'benchmark_name': 'program_x_vs_program_y', 'strategy_a': 'WeightedRandomCircuitGenerator', 'strategy_b': 'WeightedRandomCircuitGenerator'}, {'n_qubits': 8, 'circuit_id': '11', 'benchmark_name': 'program_x_vs_program_y', 'strategy_a': 'WeightedRandomCircuitGenerator', 'strategy_b': 'WeightedRandomCircuitGenerator'}, {'n_qubits': 19, 'circuit_id': '7', 'benchmark_name': 'program_x_vs_program_y', 'strategy_a': 'WeightedRandomCircuitGenerator', 'strategy_b': 'WeightedRandomCircuitGenerator'}, {'n_qubits': 5, 'circuit_id': '2', 'benchmark_name': 'program_x_vs_program_y', 'strategy_a': 'WeightedRandomCircuitGenerator', 'strategy_b': 'WeightedRandomCircuitGenerator'}, {'n_qubits': 4, 'circuit_id': '18', 'benchmark_name': 'program_x_vs_program_y', 'strategy_a': 'WeightedRandomCircuitGenerator', 'strategy_b': 'WeightedRandomCircuitGenerator'}, {'n_qubits': 20, 'circuit_id': '3', 'benchmark_name': 'program_x_vs_program_y', 'strategy_a': 'WeightedRandomCircuitGenerator', 'strategy_b': 'WeightedRandomCircuitGenerator'}, {'n_qubits': 13, 'circuit_id': '13', 'benchmark_name': 'program_x_vs_program_y', 'strategy_a': 'WeightedRandomCircuitGenerator', 'strategy_b': 'WeightedRandomCircuitGenerator'}, {'n_qubits': 13, 'circuit_id': '17', 'benchmark_name': 'program_x_vs_program_y', 'strategy_a': 'WeightedRandomCircuitGenerator', 'strategy_b': 'WeightedRandomCircuitGenerator'}, {'n_qubits': 19, 'circuit_id': '15', 'benchmark_name': 'program_x_vs_program_y', 'strategy_a': 'WeightedRandomCircuitGenerator', 'strategy_b': 'WeightedRandomCircuitGenerator'}, {'n_qubits': 12, 'circuit_id': '10', 'benchmark_name': 'program_x_vs_program_y', 'strategy_a': 'WeightedRandomCircuitGenerator', 'strategy_b': 'WeightedRandomCircuitGenerator'}, {'n_qubits': 10, 'circuit_id': '14', 'benchmark_name': 'program_x_vs_program_y', 'strategy_a': 'WeightedRandomCircuitGenerator', 'strategy_b': 'WeightedRandomCircuitGenerator'}, {'n_qubits': 2, 'circuit_id': '9', 'benchmark_name': 'program_x_vs_program_y', 'strategy_a': 'WeightedRandomCircuitGenerator', 'strategy_b': 'WeightedRandomCircuitGenerator'}, {'n_qubits': 2, 'circuit_id': '6', 'benchmark_name': 'program_x_vs_program_y', 'strategy_a': 'WeightedRandomCircuitGenerator', 'strategy_b': 'WeightedRandomCircuitGenerator'}]\n",
      "EXECUTION INFO - reading ...  \n",
      "DETECTOR:  ks\n",
      "({'test': 'ks', 'test_long_name': 'Kolmogorov–Smirnov Test', 'circuit_id': '8', 'benchmark_name': 'program_x_vs_program_y', 'random_seed': None, 'statistic': 0.1793212890625, 'p_value': 1.922344794548557e-115}, {'test': 'ks', 'test_long_name': 'Kolmogorov–Smirnov Test', 'circuit_id': '19', 'benchmark_name': 'program_x_vs_program_y', 'random_seed': None, 'statistic': 0.0435791015625, 'p_value': 3.4886885071690225e-07}, {'test': 'ks', 'test_long_name': 'Kolmogorov–Smirnov Test', 'circuit_id': '0', 'benchmark_name': 'program_x_vs_program_y', 'random_seed': None, 'statistic': 0.562744140625, 'p_value': 0.0}, {'test': 'ks', 'test_long_name': 'Kolmogorov–Smirnov Test', 'circuit_id': '16', 'benchmark_name': 'program_x_vs_program_y', 'random_seed': None, 'statistic': 0.2852783203125, 'p_value': 5.203028658983334e-294}, {'test': 'ks', 'test_long_name': 'Kolmogorov–Smirnov Test', 'circuit_id': '4', 'benchmark_name': 'program_x_vs_program_y', 'random_seed': None, 'statistic': 0.27978515625, 'p_value': 1.1681557860646473e-282}, {'test': 'ks', 'test_long_name': 'Kolmogorov–Smirnov Test', 'circuit_id': '12', 'benchmark_name': 'program_x_vs_program_y', 'random_seed': None, 'statistic': 0.13623046875, 'p_value': 1.1807417398492453e-66}, {'test': 'ks', 'test_long_name': 'Kolmogorov–Smirnov Test', 'circuit_id': '5', 'benchmark_name': 'program_x_vs_program_y', 'random_seed': None, 'statistic': 0.045654296875, 'p_value': 7.64634406931618e-08}, {'test': 'ks', 'test_long_name': 'Kolmogorov–Smirnov Test', 'circuit_id': '1', 'benchmark_name': 'program_x_vs_program_y', 'random_seed': None, 'statistic': 0.134033203125, 'p_value': 1.576737984335019e-64}, {'test': 'ks', 'test_long_name': 'Kolmogorov–Smirnov Test', 'circuit_id': '11', 'benchmark_name': 'program_x_vs_program_y', 'random_seed': None, 'statistic': 0.118408203125, 'p_value': 2.0210113889130098e-50}, {'test': 'ks', 'test_long_name': 'Kolmogorov–Smirnov Test', 'circuit_id': '7', 'benchmark_name': 'program_x_vs_program_y', 'random_seed': None, 'statistic': 0.465576171875, 'p_value': 0.0}, {'test': 'ks', 'test_long_name': 'Kolmogorov–Smirnov Test', 'circuit_id': '2', 'benchmark_name': 'program_x_vs_program_y', 'random_seed': None, 'statistic': 0.19873046875, 'p_value': 7.266024058077426e-142}, {'test': 'ks', 'test_long_name': 'Kolmogorov–Smirnov Test', 'circuit_id': '18', 'benchmark_name': 'program_x_vs_program_y', 'random_seed': None, 'statistic': 0.264892578125, 'p_value': 4.703288616677268e-253}, {'test': 'ks', 'test_long_name': 'Kolmogorov–Smirnov Test', 'circuit_id': '3', 'benchmark_name': 'program_x_vs_program_y', 'random_seed': None, 'statistic': 0.27783203125, 'p_value': 1.1151308893311294e-278}, {'test': 'ks', 'test_long_name': 'Kolmogorov–Smirnov Test', 'circuit_id': '13', 'benchmark_name': 'program_x_vs_program_y', 'random_seed': None, 'statistic': 0.0455322265625, 'p_value': 8.376849123642715e-08}, {'test': 'ks', 'test_long_name': 'Kolmogorov–Smirnov Test', 'circuit_id': '17', 'benchmark_name': 'program_x_vs_program_y', 'random_seed': None, 'statistic': 0.256103515625, 'p_value': 2.2225981818091115e-236}, {'test': 'ks', 'test_long_name': 'Kolmogorov–Smirnov Test', 'circuit_id': '15', 'benchmark_name': 'program_x_vs_program_y', 'random_seed': None, 'statistic': 0.6090087890625, 'p_value': 0.0}, {'test': 'ks', 'test_long_name': 'Kolmogorov–Smirnov Test', 'circuit_id': '10', 'benchmark_name': 'program_x_vs_program_y', 'random_seed': None, 'statistic': 0.22314453125, 'p_value': 4.5664548481080055e-179}, {'test': 'ks', 'test_long_name': 'Kolmogorov–Smirnov Test', 'circuit_id': '14', 'benchmark_name': 'program_x_vs_program_y', 'random_seed': None, 'statistic': 0.4097900390625, 'p_value': 0.0}, {'test': 'ks', 'test_long_name': 'Kolmogorov–Smirnov Test', 'circuit_id': '9', 'benchmark_name': 'program_x_vs_program_y', 'random_seed': None, 'statistic': 0.4466552734375, 'p_value': 0.0}, {'test': 'ks', 'test_long_name': 'Kolmogorov–Smirnov Test', 'circuit_id': '6', 'benchmark_name': 'program_x_vs_program_y', 'random_seed': None, 'statistic': 0.45361328125, 'p_value': 0.0})\n",
      "DETECTOR:  energy\n",
      "({'test': 'energy', 'test_long_name': 'Energy Test', 'circuit_id': '8', 'benchmark_name': 'program_x_vs_program_y', 'random_seed': 1234, 'statistic': 0.3109114170074463, 'p_value': 0.0}, {'test': 'energy', 'test_long_name': 'Energy Test', 'circuit_id': '19', 'benchmark_name': 'program_x_vs_program_y', 'random_seed': 1234, 'statistic': 0.25253117084503174, 'p_value': 0.0}, {'test': 'energy', 'test_long_name': 'Energy Test', 'circuit_id': '0', 'benchmark_name': 'program_x_vs_program_y', 'random_seed': 1234, 'statistic': 0.48105740547180176, 'p_value': 0.0}, {'test': 'energy', 'test_long_name': 'Energy Test', 'circuit_id': '16', 'benchmark_name': 'program_x_vs_program_y', 'random_seed': 1234, 'statistic': 0.3442540168762207, 'p_value': 0.0}, {'test': 'energy', 'test_long_name': 'Energy Test', 'circuit_id': '4', 'benchmark_name': 'program_x_vs_program_y', 'random_seed': 1234, 'statistic': 0.23515653610229492, 'p_value': 0.0}, {'test': 'energy', 'test_long_name': 'Energy Test', 'circuit_id': '12', 'benchmark_name': 'program_x_vs_program_y', 'random_seed': 1234, 'statistic': 0.18011021614074707, 'p_value': 0.0}, {'test': 'energy', 'test_long_name': 'Energy Test', 'circuit_id': '5', 'benchmark_name': 'program_x_vs_program_y', 'random_seed': 1234, 'statistic': 0.057342529296875, 'p_value': 0.10100000351667404}, {'test': 'energy', 'test_long_name': 'Energy Test', 'circuit_id': '1', 'benchmark_name': 'program_x_vs_program_y', 'random_seed': 1234, 'statistic': 0.3207824230194092, 'p_value': 0.0}, {'test': 'energy', 'test_long_name': 'Energy Test', 'circuit_id': '11', 'benchmark_name': 'program_x_vs_program_y', 'random_seed': 1234, 'statistic': 0.24577581882476807, 'p_value': 0.0}, {'test': 'energy', 'test_long_name': 'Energy Test', 'circuit_id': '7', 'benchmark_name': 'program_x_vs_program_y', 'random_seed': 1234, 'statistic': 0.7175071239471436, 'p_value': 0.0}, {'test': 'energy', 'test_long_name': 'Energy Test', 'circuit_id': '2', 'benchmark_name': 'program_x_vs_program_y', 'random_seed': 1234, 'statistic': 0.13948607444763184, 'p_value': 0.0}, {'test': 'energy', 'test_long_name': 'Energy Test', 'circuit_id': '18', 'benchmark_name': 'program_x_vs_program_y', 'random_seed': 1234, 'statistic': 0.07665669918060303, 'p_value': 0.00800000037997961}, {'test': 'energy', 'test_long_name': 'Energy Test', 'circuit_id': '3', 'benchmark_name': 'program_x_vs_program_y', 'random_seed': 1234, 'statistic': 1.7255083322525024, 'p_value': 0.0}, {'test': 'energy', 'test_long_name': 'Energy Test', 'circuit_id': '13', 'benchmark_name': 'program_x_vs_program_y', 'random_seed': 1234, 'statistic': 0.04439997673034668, 'p_value': 0.6890000104904175}, {'test': 'energy', 'test_long_name': 'Energy Test', 'circuit_id': '17', 'benchmark_name': 'program_x_vs_program_y', 'random_seed': 1234, 'statistic': 0.2019176483154297, 'p_value': 0.0}, {'test': 'energy', 'test_long_name': 'Energy Test', 'circuit_id': '15', 'benchmark_name': 'program_x_vs_program_y', 'random_seed': 1234, 'statistic': 1.1127305030822754, 'p_value': 0.0}, {'test': 'energy', 'test_long_name': 'Energy Test', 'circuit_id': '10', 'benchmark_name': 'program_x_vs_program_y', 'random_seed': 1234, 'statistic': 0.5248472690582275, 'p_value': 0.0}, {'test': 'energy', 'test_long_name': 'Energy Test', 'circuit_id': '14', 'benchmark_name': 'program_x_vs_program_y', 'random_seed': 1234, 'statistic': 0.44495248794555664, 'p_value': 0.0}, {'test': 'energy', 'test_long_name': 'Energy Test', 'circuit_id': '9', 'benchmark_name': 'program_x_vs_program_y', 'random_seed': 1234, 'statistic': 0.4705163836479187, 'p_value': 0.0}, {'test': 'energy', 'test_long_name': 'Energy Test', 'circuit_id': '6', 'benchmark_name': 'program_x_vs_program_y', 'random_seed': 1234, 'statistic': 0.2766018509864807, 'p_value': 0.0})\n"
     ]
    }
   ],
   "source": [
    "detector_result = {}\n",
    "ground_truth = []\n",
    "program_info = []\n",
    "execution_info = []\n",
    "\n",
    "for benchmark in BENCHMARKS:\n",
    "    print(\"BENCHMARK: \", benchmark[\"name\"])\n",
    "    \n",
    "    print(\"GROUND TRUTH - reading ...  \")\n",
    "    ground_truth_folder = get_benchmark_folder(config, benchmark[\"name\"], \"ground_truth\")\n",
    "    _, records_ground_truth = zip(*list(\n",
    "        iterate_over(ground_truth_folder, \".json\", parse_json=True)))\n",
    "    print(records_ground_truth)\n",
    "    ground_truth.extend(records_ground_truth)\n",
    "    \n",
    "    print(\"PROGRAM INFO - reading ...  \")\n",
    "    folder_a = get_benchmark_folder(config, benchmark[\"name\"], \"programs\", \"sample_a\")\n",
    "    folder_b = get_benchmark_folder(config, benchmark[\"name\"], \"programs\", \"sample_b\")\n",
    "    pairs_program_info = list(\n",
    "        iterate_parallel(folder_a, folder_b, \".json\", parse_json=True))\n",
    "    records_program_info = [ \n",
    "        {\n",
    "            \"n_qubits\": program_a[\"n_qubits\"],\n",
    "            \"circuit_id\": program_a[\"circuit_id\"],\n",
    "            \"benchmark_name\": program_a[\"benchmark_name\"],\n",
    "            \"strategy_a\": program_a[\"strategy_program_generation\"],\n",
    "            \"strategy_b\": program_b[\"strategy_program_generation\"],\n",
    "        }\n",
    "        for _, program_a, program_b in pairs_program_info\n",
    "    ] \n",
    "    print(records_program_info)\n",
    "    program_info.extend(records_program_info)\n",
    "    \n",
    "    print(\"EXECUTION INFO - reading ...  \")\n",
    "    folder_a = get_benchmark_folder(config, benchmark[\"name\"], \"executions\", \"sample_a\")\n",
    "    folder_b = get_benchmark_folder(config, benchmark[\"name\"], \"executions\", \"sample_b\")\n",
    "    pairs_execution_info = list(\n",
    "        iterate_parallel(folder_a, folder_b, \".json\", parse_json=True))\n",
    "    records_execution_info = [ \n",
    "        {\n",
    "            \"circuit_id\": circuit_id,\n",
    "            \"benchmark_name\": benchmark[\"name\"],\n",
    "            \"execution_a\": res_a,\n",
    "            \"execution_b\": res_b,\n",
    "        }\n",
    "        for circuit_id, res_a, res_b in pairs_execution_info\n",
    "    ] \n",
    "    #print(records_execution_info)\n",
    "    execution_info.extend(records_execution_info)\n",
    "    \n",
    "    \n",
    "    \n",
    "    for detector in DETECTORS:\n",
    "        old_detector_predictions = detector_result.get(detector[\"name\"], [])\n",
    "        print(\"DETECTOR: \", detector[\"name\"])\n",
    "        # READ PREDICTIONS\n",
    "        pred_folder = get_benchmark_folder(config, benchmark[\"name\"], \"predictions\")\n",
    "        detector_prediction_folder = os.path.join(pred_folder, detector[\"name\"])\n",
    "        _, records_predictions = zip(*list(\n",
    "            iterate_over(detector_prediction_folder, \".json\", parse_json=True)))\n",
    "        print(records_predictions)\n",
    "        old_detector_predictions.extend(records_predictions)\n",
    "        detector_result[detector[\"name\"]] = old_detector_predictions\n",
    "        "
   ]
  },
  {
   "cell_type": "code",
   "execution_count": 59,
   "id": "7a3f3b7a",
   "metadata": {
    "ExecuteTime": {
     "end_time": "2021-12-15T13:36:53.474783Z",
     "start_time": "2021-12-15T13:36:53.468348Z"
    }
   },
   "outputs": [
    {
     "data": {
      "text/plain": [
       "dict_keys(['ks', 'energy'])"
      ]
     },
     "execution_count": 59,
     "metadata": {},
     "output_type": "execute_result"
    }
   ],
   "source": [
    "detector_result.keys()"
   ]
  },
  {
   "cell_type": "code",
   "execution_count": 60,
   "id": "ae4cafc3",
   "metadata": {
    "ExecuteTime": {
     "end_time": "2021-12-15T13:36:57.215196Z",
     "start_time": "2021-12-15T13:36:57.199881Z"
    }
   },
   "outputs": [
    {
     "data": {
      "text/html": [
       "<div>\n",
       "<style scoped>\n",
       "    .dataframe tbody tr th:only-of-type {\n",
       "        vertical-align: middle;\n",
       "    }\n",
       "\n",
       "    .dataframe tbody tr th {\n",
       "        vertical-align: top;\n",
       "    }\n",
       "\n",
       "    .dataframe thead th {\n",
       "        text-align: right;\n",
       "    }\n",
       "</style>\n",
       "<table border=\"1\" class=\"dataframe\">\n",
       "  <thead>\n",
       "    <tr style=\"text-align: right;\">\n",
       "      <th></th>\n",
       "      <th>expected_divergence</th>\n",
       "      <th>circuit_id</th>\n",
       "      <th>benchmark_name</th>\n",
       "    </tr>\n",
       "  </thead>\n",
       "  <tbody>\n",
       "    <tr>\n",
       "      <th>0</th>\n",
       "      <td>True</td>\n",
       "      <td>8</td>\n",
       "      <td>program_vs_random</td>\n",
       "    </tr>\n",
       "    <tr>\n",
       "      <th>1</th>\n",
       "      <td>True</td>\n",
       "      <td>19</td>\n",
       "      <td>program_vs_random</td>\n",
       "    </tr>\n",
       "    <tr>\n",
       "      <th>2</th>\n",
       "      <td>True</td>\n",
       "      <td>0</td>\n",
       "      <td>program_vs_random</td>\n",
       "    </tr>\n",
       "  </tbody>\n",
       "</table>\n",
       "</div>"
      ],
      "text/plain": [
       "   expected_divergence circuit_id     benchmark_name\n",
       "0                 True          8  program_vs_random\n",
       "1                 True         19  program_vs_random\n",
       "2                 True          0  program_vs_random"
      ]
     },
     "execution_count": 60,
     "metadata": {},
     "output_type": "execute_result"
    }
   ],
   "source": [
    "df_truth = pd.DataFrame.from_records(ground_truth)\n",
    "df_truth.head(3)"
   ]
  },
  {
   "cell_type": "code",
   "execution_count": 62,
   "id": "4521dcc3",
   "metadata": {
    "ExecuteTime": {
     "end_time": "2021-12-15T13:37:02.848062Z",
     "start_time": "2021-12-15T13:37:02.820486Z"
    }
   },
   "outputs": [
    {
     "data": {
      "text/html": [
       "<div>\n",
       "<style scoped>\n",
       "    .dataframe tbody tr th:only-of-type {\n",
       "        vertical-align: middle;\n",
       "    }\n",
       "\n",
       "    .dataframe tbody tr th {\n",
       "        vertical-align: top;\n",
       "    }\n",
       "\n",
       "    .dataframe thead th {\n",
       "        text-align: right;\n",
       "    }\n",
       "</style>\n",
       "<table border=\"1\" class=\"dataframe\">\n",
       "  <thead>\n",
       "    <tr style=\"text-align: right;\">\n",
       "      <th></th>\n",
       "      <th>circuit_id</th>\n",
       "      <th>benchmark_name</th>\n",
       "      <th>execution_a</th>\n",
       "      <th>execution_b</th>\n",
       "    </tr>\n",
       "  </thead>\n",
       "  <tbody>\n",
       "    <tr>\n",
       "      <th>0</th>\n",
       "      <td>8</td>\n",
       "      <td>program_vs_random</td>\n",
       "      <td>{'110011101001001001': 1, '010111110100011000'...</td>\n",
       "      <td>{'111011100110011101': 1, '000001010011111111'...</td>\n",
       "    </tr>\n",
       "    <tr>\n",
       "      <th>1</th>\n",
       "      <td>19</td>\n",
       "      <td>program_vs_random</td>\n",
       "      <td>{'00100100100111': 482, '00001101110111': 116,...</td>\n",
       "      <td>{'10110111110011': 1, '10110000000110': 1, '10...</td>\n",
       "    </tr>\n",
       "    <tr>\n",
       "      <th>2</th>\n",
       "      <td>0</td>\n",
       "      <td>program_vs_random</td>\n",
       "      <td>{'00100': 1528, '11101': 56, '01001': 108, '11...</td>\n",
       "      <td>{'00110': 255, '01010': 259, '01001': 249, '10...</td>\n",
       "    </tr>\n",
       "  </tbody>\n",
       "</table>\n",
       "</div>"
      ],
      "text/plain": [
       "  circuit_id     benchmark_name  \\\n",
       "0          8  program_vs_random   \n",
       "1         19  program_vs_random   \n",
       "2          0  program_vs_random   \n",
       "\n",
       "                                         execution_a  \\\n",
       "0  {'110011101001001001': 1, '010111110100011000'...   \n",
       "1  {'00100100100111': 482, '00001101110111': 116,...   \n",
       "2  {'00100': 1528, '11101': 56, '01001': 108, '11...   \n",
       "\n",
       "                                         execution_b  \n",
       "0  {'111011100110011101': 1, '000001010011111111'...  \n",
       "1  {'10110111110011': 1, '10110000000110': 1, '10...  \n",
       "2  {'00110': 255, '01010': 259, '01001': 249, '10...  "
      ]
     },
     "execution_count": 62,
     "metadata": {},
     "output_type": "execute_result"
    }
   ],
   "source": [
    "df_execution_info = pd.DataFrame.from_records(execution_info)\n",
    "df_execution_info.head(3)"
   ]
  },
  {
   "cell_type": "code",
   "execution_count": 63,
   "id": "21951ad7",
   "metadata": {
    "ExecuteTime": {
     "end_time": "2021-12-15T13:37:11.328664Z",
     "start_time": "2021-12-15T13:37:11.313293Z"
    }
   },
   "outputs": [
    {
     "data": {
      "text/html": [
       "<div>\n",
       "<style scoped>\n",
       "    .dataframe tbody tr th:only-of-type {\n",
       "        vertical-align: middle;\n",
       "    }\n",
       "\n",
       "    .dataframe tbody tr th {\n",
       "        vertical-align: top;\n",
       "    }\n",
       "\n",
       "    .dataframe thead th {\n",
       "        text-align: right;\n",
       "    }\n",
       "</style>\n",
       "<table border=\"1\" class=\"dataframe\">\n",
       "  <thead>\n",
       "    <tr style=\"text-align: right;\">\n",
       "      <th></th>\n",
       "      <th>n_qubits</th>\n",
       "      <th>circuit_id</th>\n",
       "      <th>benchmark_name</th>\n",
       "      <th>strategy_a</th>\n",
       "      <th>strategy_b</th>\n",
       "    </tr>\n",
       "  </thead>\n",
       "  <tbody>\n",
       "    <tr>\n",
       "      <th>0</th>\n",
       "      <td>18</td>\n",
       "      <td>8</td>\n",
       "      <td>program_vs_random</td>\n",
       "      <td>WeightedRandomCircuitGenerator</td>\n",
       "      <td>FakeCircuitGenerator</td>\n",
       "    </tr>\n",
       "    <tr>\n",
       "      <th>1</th>\n",
       "      <td>14</td>\n",
       "      <td>19</td>\n",
       "      <td>program_vs_random</td>\n",
       "      <td>WeightedRandomCircuitGenerator</td>\n",
       "      <td>FakeCircuitGenerator</td>\n",
       "    </tr>\n",
       "    <tr>\n",
       "      <th>2</th>\n",
       "      <td>5</td>\n",
       "      <td>0</td>\n",
       "      <td>program_vs_random</td>\n",
       "      <td>WeightedRandomCircuitGenerator</td>\n",
       "      <td>FakeCircuitGenerator</td>\n",
       "    </tr>\n",
       "  </tbody>\n",
       "</table>\n",
       "</div>"
      ],
      "text/plain": [
       "   n_qubits circuit_id     benchmark_name                      strategy_a  \\\n",
       "0        18          8  program_vs_random  WeightedRandomCircuitGenerator   \n",
       "1        14         19  program_vs_random  WeightedRandomCircuitGenerator   \n",
       "2         5          0  program_vs_random  WeightedRandomCircuitGenerator   \n",
       "\n",
       "             strategy_b  \n",
       "0  FakeCircuitGenerator  \n",
       "1  FakeCircuitGenerator  \n",
       "2  FakeCircuitGenerator  "
      ]
     },
     "execution_count": 63,
     "metadata": {},
     "output_type": "execute_result"
    }
   ],
   "source": [
    "df_program_info = pd.DataFrame.from_records(program_info)\n",
    "df_program_info.head(3)"
   ]
  },
  {
   "cell_type": "code",
   "execution_count": 64,
   "id": "9404c646",
   "metadata": {
    "ExecuteTime": {
     "end_time": "2021-12-15T13:37:14.370178Z",
     "start_time": "2021-12-15T13:37:14.350871Z"
    }
   },
   "outputs": [
    {
     "data": {
      "text/html": [
       "<div>\n",
       "<style scoped>\n",
       "    .dataframe tbody tr th:only-of-type {\n",
       "        vertical-align: middle;\n",
       "    }\n",
       "\n",
       "    .dataframe tbody tr th {\n",
       "        vertical-align: top;\n",
       "    }\n",
       "\n",
       "    .dataframe thead th {\n",
       "        text-align: right;\n",
       "    }\n",
       "</style>\n",
       "<table border=\"1\" class=\"dataframe\">\n",
       "  <thead>\n",
       "    <tr style=\"text-align: right;\">\n",
       "      <th></th>\n",
       "      <th>test</th>\n",
       "      <th>test_long_name</th>\n",
       "      <th>circuit_id</th>\n",
       "      <th>benchmark_name</th>\n",
       "      <th>random_seed</th>\n",
       "      <th>statistic</th>\n",
       "      <th>p_value</th>\n",
       "    </tr>\n",
       "  </thead>\n",
       "  <tbody>\n",
       "    <tr>\n",
       "      <th>0</th>\n",
       "      <td>ks</td>\n",
       "      <td>Kolmogorov–Smirnov Test</td>\n",
       "      <td>8</td>\n",
       "      <td>program_vs_random</td>\n",
       "      <td>None</td>\n",
       "      <td>0.349243</td>\n",
       "      <td>0.0</td>\n",
       "    </tr>\n",
       "    <tr>\n",
       "      <th>1</th>\n",
       "      <td>ks</td>\n",
       "      <td>Kolmogorov–Smirnov Test</td>\n",
       "      <td>19</td>\n",
       "      <td>program_vs_random</td>\n",
       "      <td>None</td>\n",
       "      <td>0.799072</td>\n",
       "      <td>0.0</td>\n",
       "    </tr>\n",
       "    <tr>\n",
       "      <th>2</th>\n",
       "      <td>ks</td>\n",
       "      <td>Kolmogorov–Smirnov Test</td>\n",
       "      <td>0</td>\n",
       "      <td>program_vs_random</td>\n",
       "      <td>None</td>\n",
       "      <td>0.411621</td>\n",
       "      <td>0.0</td>\n",
       "    </tr>\n",
       "  </tbody>\n",
       "</table>\n",
       "</div>"
      ],
      "text/plain": [
       "  test           test_long_name circuit_id     benchmark_name random_seed  \\\n",
       "0   ks  Kolmogorov–Smirnov Test          8  program_vs_random        None   \n",
       "1   ks  Kolmogorov–Smirnov Test         19  program_vs_random        None   \n",
       "2   ks  Kolmogorov–Smirnov Test          0  program_vs_random        None   \n",
       "\n",
       "   statistic  p_value  \n",
       "0   0.349243      0.0  \n",
       "1   0.799072      0.0  \n",
       "2   0.411621      0.0  "
      ]
     },
     "execution_count": 64,
     "metadata": {},
     "output_type": "execute_result"
    }
   ],
   "source": [
    "TEST_TO_INSPECT = 'ks' # ks | energy\n",
    "df_single_test = pd.DataFrame.from_records(detector_result[TEST_TO_INSPECT])\n",
    "df_single_test.head(3)"
   ]
  },
  {
   "cell_type": "code",
   "execution_count": 128,
   "id": "0d5207df",
   "metadata": {
    "ExecuteTime": {
     "end_time": "2021-12-15T14:05:26.298889Z",
     "start_time": "2021-12-15T14:05:26.270956Z"
    }
   },
   "outputs": [],
   "source": [
    "from sklearn.metrics import RocCurveDisplay \n",
    "# import libraries\n",
    "import seaborn as sns\n",
    "import numpy as np\n",
    "import matplotlib.pyplot as plt\n",
    "import matplotlib.patches as mpatches\n",
    "\n",
    "\n",
    "\n",
    "\n",
    "class Analyzer(object):\n",
    "    \n",
    "    def __init__(self, detector_name, df_detector, df_ground_truth, df_program_info, df_execution_info):\n",
    "        # derive the column label form the ground truth\n",
    "        df_ground_truth = self._create_label(df_ground_truth)\n",
    "        # derive the output size\n",
    "        df_execution_info = self._measure_output_size(df_execution_info)\n",
    "        \n",
    "        \n",
    "        self.detector_name = detector_name\n",
    "        self.df_detector = df_detector\n",
    "        self.df_ground_truth = df_ground_truth\n",
    "        self.df_program_info = program_info\n",
    "        self.df_execution_info = df_execution_info\n",
    "        self.df_all = pd.merge(df_detector, df_ground_truth, on=[\"circuit_id\", \"benchmark_name\"])\n",
    "        self.df_all = pd.merge(self.df_all, df_program_info, on=[\"circuit_id\", \"benchmark_name\"])\n",
    "        self.df_all = pd.merge(self.df_all, df_execution_info, on=[\"circuit_id\", \"benchmark_name\"])\n",
    "        \n",
    "        # measure coverage (relative output size)\n",
    "        self.df_all = self._measure_output_coverage(self.df_all)\n",
    "        \n",
    "    # START SECTION: internal manipulation to enrich with new columns  \n",
    "        \n",
    "    def _create_label(self, df_ground_truth):\n",
    "        df_ground_truth[\"label\"] = df_ground_truth[\"expected_divergence\"].apply(\n",
    "            lambda e: 1 if e else 0)\n",
    "        return df_ground_truth\n",
    "    \n",
    "    def _measure_output_size(self, df_execution_info):\n",
    "        df_execution_info[\"output_size_a\"] = df_execution_info[\"execution_a\"].apply(\n",
    "            lambda e: len(e))\n",
    "        df_execution_info[\"output_size_b\"] = df_execution_info[\"execution_b\"].apply(\n",
    "            lambda e: len(e))\n",
    "        return df_execution_info\n",
    "        \n",
    "    def _measure_output_coverage(self, df_all):\n",
    "        df_all[\"output_size_total\"] = df_all[\"n_qubits\"].apply(\n",
    "            lambda e: 2**e)\n",
    "        df_all[\"output_coverage_a\"] = df_all.apply(\n",
    "            lambda row: round(row[\"output_size_a\"] / row[\"output_size_total\"], 6), axis=1\n",
    "        )\n",
    "        df_all[\"output_coverage_b\"] = df_all.apply(\n",
    "            lambda row: round(row[\"output_size_a\"] / row[\"output_size_total\"], 6), axis=1\n",
    "        )\n",
    "        return df_all\n",
    "    \n",
    "     # END SECTION\n",
    "        \n",
    "    def plot_ROC(self, prediction_column=\"p_value\"):\n",
    "        RocCurveDisplay.from_predictions(self.df_all[\"label\"], self.df_all[prediction_column])\n",
    "        \n",
    "    def classify_based_on_pvalue(self, treshold=0.05):\n",
    "        self.df_all[\"prediction_divergence\"] = self.df_all[\"p_value\"].apply(lambda e: e < treshold)\n",
    "        self.df_all[\"correct_prediction\"] = self.df_all.apply(\n",
    "            lambda row: row[\"prediction_divergence\"] == row[\"expected_divergence\"],\n",
    "            axis=1\n",
    "        )\n",
    "        \n",
    "    def plot_benchmark_categories(self):\n",
    "        \n",
    "        df = self.df_all\n",
    "        \n",
    "        # set the figure size\n",
    "        fig, ax = plt.subplots(figsize=(7, 3))\n",
    "\n",
    "        # from raw value to percentage\n",
    "        total = df.groupby('benchmark_name')['correct_prediction'].count().reset_index()\n",
    "        correct = df[df[\"correct_prediction\"]].groupby('benchmark_name')['correct_prediction'].count().reset_index()\n",
    "        \n",
    "        difference = set(total[\"benchmark_name\"]).difference(set(correct[\"benchmark_name\"]))\n",
    "        if len(difference) > 0:\n",
    "            for missing_bench in list(difference):\n",
    "                new_row = {'benchmark_name':missing_bench, 'correct_prediction':0, 'samples':0}\n",
    "                #append row to the dataframe\n",
    "                correct = correct.append(new_row, ignore_index=True)\n",
    "        \n",
    "        correct['samples'] = [i / j * 100 for i,j in zip(correct['correct_prediction'], total['correct_prediction'])]\n",
    "        total['samples'] = [i / j * 100 for i,j in zip(total['correct_prediction'], total['correct_prediction'])]\n",
    "        \n",
    "        # bar chart 1 -> top bars (group of 'smoker=No')\n",
    "        sns.barplot(y=\"benchmark_name\",  x=\"samples\", data=total, color='orange', ax=ax)\n",
    "\n",
    "\n",
    "        # bar chart 2 -> bottom bars (group of 'smoker=Yes')\n",
    "        sns.barplot(y=\"benchmark_name\", x=\"samples\", data=correct, color='blue', ax=ax)\n",
    "        \n",
    "        # add legend\n",
    "        top_bar = mpatches.Patch(color='orange', label='Wrong predictions')\n",
    "        bottom_bar = mpatches.Patch(color='blue', label='Correct predictions')\n",
    "        fig.legend(handles=[top_bar, bottom_bar])\n",
    "        \n",
    "        ax.set_xlabel(\"% of samples\")\n",
    "        ax.set_ylabel(\"Benchmark Name\")\n",
    "        ax.set_xlim(0,100)\n",
    "        ax.set_title(f\"Test: {self.detector_name}\")\n",
    "        \n",
    "        # show the graph\n",
    "        fig.show()\n",
    "        \n",
    "    def inspect_mispredictions(self, variable_to_inspect=\"n_qubits\", benchmark_name=None):\n",
    "        mispredictions = self.df_all[~self.df_all[\"correct_prediction\"]]\n",
    "        self.inspect(variable_to_inspect, benchmark_name, mispredictions)\n",
    "        \n",
    "    def inspect(self, variable_to_inspect=\"n_qubits\", benchmark_name=None, df=None):\n",
    "        if df is None:\n",
    "            df = self.df_all\n",
    "        if benchmark_name is not None:\n",
    "            if isinstance(benchmark_name, list):\n",
    "                df = df[df[\"benchmark_name\"].isin(benchmark_name)]\n",
    "            else:\n",
    "                df = df[df[\"benchmark_name\"] == benchmark_name]\n",
    "        df[variable_to_inspect] = np.around(df[variable_to_inspect], decimals=6)\n",
    "        try:\n",
    "            sns.histplot(data=df, x=variable_to_inspect)\n",
    "        except ValueError:\n",
    "            print(\"Scale of the data was too small or too big to plot.\")\n",
    "            print(\"Raw data: \", sorted(df[variable_to_inspect]))\n",
    "        tot = len(self.df_all)\n",
    "        print(f\"We have displayed {len(df)}/{tot} datapoints.\")\n",
    "        print(f\"[resticted to: {benchmark_name}\")\n",
    "        \n",
    "    def get_mispredictions(self):\n",
    "        return self.df_all[~self.df_all[\"correct_prediction\"]]"
   ]
  },
  {
   "cell_type": "code",
   "execution_count": 129,
   "id": "5dfbf3c8",
   "metadata": {
    "ExecuteTime": {
     "end_time": "2021-12-15T14:05:26.568584Z",
     "start_time": "2021-12-15T14:05:26.524681Z"
    }
   },
   "outputs": [],
   "source": [
    "analyzer = Analyzer(TEST_TO_INSPECT, df_single_test, df_truth, df_program_info, df_execution_info)\n",
    "analyzer.classify_based_on_pvalue(treshold=0.05)"
   ]
  },
  {
   "cell_type": "code",
   "execution_count": 130,
   "id": "511ac9bb",
   "metadata": {
    "ExecuteTime": {
     "end_time": "2021-12-15T14:05:27.025371Z",
     "start_time": "2021-12-15T14:05:26.964858Z"
    }
   },
   "outputs": [
    {
     "data": {
      "text/html": [
       "<div>\n",
       "<style scoped>\n",
       "    .dataframe tbody tr th:only-of-type {\n",
       "        vertical-align: middle;\n",
       "    }\n",
       "\n",
       "    .dataframe tbody tr th {\n",
       "        vertical-align: top;\n",
       "    }\n",
       "\n",
       "    .dataframe thead th {\n",
       "        text-align: right;\n",
       "    }\n",
       "</style>\n",
       "<table border=\"1\" class=\"dataframe\">\n",
       "  <thead>\n",
       "    <tr style=\"text-align: right;\">\n",
       "      <th></th>\n",
       "      <th>test</th>\n",
       "      <th>test_long_name</th>\n",
       "      <th>circuit_id</th>\n",
       "      <th>benchmark_name</th>\n",
       "      <th>random_seed</th>\n",
       "      <th>statistic</th>\n",
       "      <th>p_value</th>\n",
       "      <th>expected_divergence</th>\n",
       "      <th>label</th>\n",
       "      <th>n_qubits</th>\n",
       "      <th>...</th>\n",
       "      <th>strategy_b</th>\n",
       "      <th>execution_a</th>\n",
       "      <th>execution_b</th>\n",
       "      <th>output_size_a</th>\n",
       "      <th>output_size_b</th>\n",
       "      <th>output_size_total</th>\n",
       "      <th>output_coverage_a</th>\n",
       "      <th>output_coverage_b</th>\n",
       "      <th>prediction_divergence</th>\n",
       "      <th>correct_prediction</th>\n",
       "    </tr>\n",
       "  </thead>\n",
       "  <tbody>\n",
       "    <tr>\n",
       "      <th>0</th>\n",
       "      <td>ks</td>\n",
       "      <td>Kolmogorov–Smirnov Test</td>\n",
       "      <td>8</td>\n",
       "      <td>program_vs_random</td>\n",
       "      <td>None</td>\n",
       "      <td>0.349243</td>\n",
       "      <td>0.000000e+00</td>\n",
       "      <td>True</td>\n",
       "      <td>1</td>\n",
       "      <td>18</td>\n",
       "      <td>...</td>\n",
       "      <td>FakeCircuitGenerator</td>\n",
       "      <td>{'110011101001001001': 1, '010111110100011000'...</td>\n",
       "      <td>{'111011100110011101': 1, '000001010011111111'...</td>\n",
       "      <td>7375</td>\n",
       "      <td>8073</td>\n",
       "      <td>262144</td>\n",
       "      <td>0.028133</td>\n",
       "      <td>0.028133</td>\n",
       "      <td>True</td>\n",
       "      <td>True</td>\n",
       "    </tr>\n",
       "    <tr>\n",
       "      <th>1</th>\n",
       "      <td>ks</td>\n",
       "      <td>Kolmogorov–Smirnov Test</td>\n",
       "      <td>19</td>\n",
       "      <td>program_vs_random</td>\n",
       "      <td>None</td>\n",
       "      <td>0.799072</td>\n",
       "      <td>0.000000e+00</td>\n",
       "      <td>True</td>\n",
       "      <td>1</td>\n",
       "      <td>14</td>\n",
       "      <td>...</td>\n",
       "      <td>FakeCircuitGenerator</td>\n",
       "      <td>{'00100100100111': 482, '00001101110111': 116,...</td>\n",
       "      <td>{'10110111110011': 1, '10110000000110': 1, '10...</td>\n",
       "      <td>188</td>\n",
       "      <td>6443</td>\n",
       "      <td>16384</td>\n",
       "      <td>0.011475</td>\n",
       "      <td>0.011475</td>\n",
       "      <td>True</td>\n",
       "      <td>True</td>\n",
       "    </tr>\n",
       "    <tr>\n",
       "      <th>2</th>\n",
       "      <td>ks</td>\n",
       "      <td>Kolmogorov–Smirnov Test</td>\n",
       "      <td>0</td>\n",
       "      <td>program_vs_random</td>\n",
       "      <td>None</td>\n",
       "      <td>0.411621</td>\n",
       "      <td>0.000000e+00</td>\n",
       "      <td>True</td>\n",
       "      <td>1</td>\n",
       "      <td>5</td>\n",
       "      <td>...</td>\n",
       "      <td>FakeCircuitGenerator</td>\n",
       "      <td>{'00100': 1528, '11101': 56, '01001': 108, '11...</td>\n",
       "      <td>{'00110': 255, '01010': 259, '01001': 249, '10...</td>\n",
       "      <td>32</td>\n",
       "      <td>32</td>\n",
       "      <td>32</td>\n",
       "      <td>1.000000</td>\n",
       "      <td>1.000000</td>\n",
       "      <td>True</td>\n",
       "      <td>True</td>\n",
       "    </tr>\n",
       "    <tr>\n",
       "      <th>3</th>\n",
       "      <td>ks</td>\n",
       "      <td>Kolmogorov–Smirnov Test</td>\n",
       "      <td>16</td>\n",
       "      <td>program_vs_random</td>\n",
       "      <td>None</td>\n",
       "      <td>0.026001</td>\n",
       "      <td>7.864888e-03</td>\n",
       "      <td>True</td>\n",
       "      <td>1</td>\n",
       "      <td>10</td>\n",
       "      <td>...</td>\n",
       "      <td>FakeCircuitGenerator</td>\n",
       "      <td>{'1000100000': 29, '1011001011': 20, '10101101...</td>\n",
       "      <td>{'1111100101': 6, '1011110100': 6, '0111110000...</td>\n",
       "      <td>588</td>\n",
       "      <td>1023</td>\n",
       "      <td>1024</td>\n",
       "      <td>0.574219</td>\n",
       "      <td>0.574219</td>\n",
       "      <td>True</td>\n",
       "      <td>True</td>\n",
       "    </tr>\n",
       "    <tr>\n",
       "      <th>4</th>\n",
       "      <td>ks</td>\n",
       "      <td>Kolmogorov–Smirnov Test</td>\n",
       "      <td>4</td>\n",
       "      <td>program_vs_random</td>\n",
       "      <td>None</td>\n",
       "      <td>0.144409</td>\n",
       "      <td>7.118719e-75</td>\n",
       "      <td>True</td>\n",
       "      <td>1</td>\n",
       "      <td>4</td>\n",
       "      <td>...</td>\n",
       "      <td>FakeCircuitGenerator</td>\n",
       "      <td>{'0011': 322, '0100': 166, '1001': 510, '1011'...</td>\n",
       "      <td>{'0000': 575, '1100': 500, '1111': 509, '0111'...</td>\n",
       "      <td>16</td>\n",
       "      <td>16</td>\n",
       "      <td>16</td>\n",
       "      <td>1.000000</td>\n",
       "      <td>1.000000</td>\n",
       "      <td>True</td>\n",
       "      <td>True</td>\n",
       "    </tr>\n",
       "  </tbody>\n",
       "</table>\n",
       "<p>5 rows × 21 columns</p>\n",
       "</div>"
      ],
      "text/plain": [
       "  test           test_long_name circuit_id     benchmark_name random_seed  \\\n",
       "0   ks  Kolmogorov–Smirnov Test          8  program_vs_random        None   \n",
       "1   ks  Kolmogorov–Smirnov Test         19  program_vs_random        None   \n",
       "2   ks  Kolmogorov–Smirnov Test          0  program_vs_random        None   \n",
       "3   ks  Kolmogorov–Smirnov Test         16  program_vs_random        None   \n",
       "4   ks  Kolmogorov–Smirnov Test          4  program_vs_random        None   \n",
       "\n",
       "   statistic       p_value  expected_divergence  label  n_qubits  ...  \\\n",
       "0   0.349243  0.000000e+00                 True      1        18  ...   \n",
       "1   0.799072  0.000000e+00                 True      1        14  ...   \n",
       "2   0.411621  0.000000e+00                 True      1         5  ...   \n",
       "3   0.026001  7.864888e-03                 True      1        10  ...   \n",
       "4   0.144409  7.118719e-75                 True      1         4  ...   \n",
       "\n",
       "             strategy_b                                        execution_a  \\\n",
       "0  FakeCircuitGenerator  {'110011101001001001': 1, '010111110100011000'...   \n",
       "1  FakeCircuitGenerator  {'00100100100111': 482, '00001101110111': 116,...   \n",
       "2  FakeCircuitGenerator  {'00100': 1528, '11101': 56, '01001': 108, '11...   \n",
       "3  FakeCircuitGenerator  {'1000100000': 29, '1011001011': 20, '10101101...   \n",
       "4  FakeCircuitGenerator  {'0011': 322, '0100': 166, '1001': 510, '1011'...   \n",
       "\n",
       "                                         execution_b output_size_a  \\\n",
       "0  {'111011100110011101': 1, '000001010011111111'...          7375   \n",
       "1  {'10110111110011': 1, '10110000000110': 1, '10...           188   \n",
       "2  {'00110': 255, '01010': 259, '01001': 249, '10...            32   \n",
       "3  {'1111100101': 6, '1011110100': 6, '0111110000...           588   \n",
       "4  {'0000': 575, '1100': 500, '1111': 509, '0111'...            16   \n",
       "\n",
       "   output_size_b  output_size_total  output_coverage_a  output_coverage_b  \\\n",
       "0           8073             262144           0.028133           0.028133   \n",
       "1           6443              16384           0.011475           0.011475   \n",
       "2             32                 32           1.000000           1.000000   \n",
       "3           1023               1024           0.574219           0.574219   \n",
       "4             16                 16           1.000000           1.000000   \n",
       "\n",
       "   prediction_divergence  correct_prediction  \n",
       "0                   True                True  \n",
       "1                   True                True  \n",
       "2                   True                True  \n",
       "3                   True                True  \n",
       "4                   True                True  \n",
       "\n",
       "[5 rows x 21 columns]"
      ]
     },
     "execution_count": 130,
     "metadata": {},
     "output_type": "execute_result"
    }
   ],
   "source": [
    "analyzer.df_all.head()"
   ]
  },
  {
   "cell_type": "code",
   "execution_count": 131,
   "id": "41da7bac",
   "metadata": {
    "ExecuteTime": {
     "end_time": "2021-12-15T14:05:27.366709Z",
     "start_time": "2021-12-15T14:05:27.146449Z"
    }
   },
   "outputs": [
    {
     "data": {
      "image/png": "[encoded data removed]",
      "text/plain": [
       "<Figure size 504x216 with 1 Axes>"
      ]
     },
     "metadata": {
      "needs_background": "light"
     },
     "output_type": "display_data"
    }
   ],
   "source": [
    "# see performance of the selected test to inspect\n",
    "analyzer.plot_benchmark_categories()"
   ]
  },
  {
   "cell_type": "code",
   "execution_count": 132,
   "id": "e8003058",
   "metadata": {
    "ExecuteTime": {
     "end_time": "2021-12-15T14:05:27.378050Z",
     "start_time": "2021-12-15T14:05:27.370601Z"
    }
   },
   "outputs": [
    {
     "data": {
      "text/plain": [
       "102"
      ]
     },
     "execution_count": 132,
     "metadata": {},
     "output_type": "execute_result"
    }
   ],
   "source": [
    "sum(analyzer.df_all[\"correct_prediction\"])"
   ]
  },
  {
   "cell_type": "code",
   "execution_count": 133,
   "id": "ff5a4088",
   "metadata": {
    "ExecuteTime": {
     "end_time": "2021-12-15T14:05:27.570704Z",
     "start_time": "2021-12-15T14:05:27.408935Z"
    }
   },
   "outputs": [
    {
     "data": {
      "image/png": "[encoded data removed]",
      "text/plain": [
       "<Figure size 432x288 with 1 Axes>"
      ]
     },
     "metadata": {
      "needs_background": "light"
     },
     "output_type": "display_data"
    }
   ],
   "source": [
    "analyzer.plot_ROC()"
   ]
  },
  {
   "cell_type": "markdown",
   "id": "24ee2102",
   "metadata": {},
   "source": [
    "## Inspect Wrong Predictions"
   ]
  },
  {
   "cell_type": "code",
   "execution_count": 134,
   "id": "8aa3d09e",
   "metadata": {
    "ExecuteTime": {
     "end_time": "2021-12-15T14:05:27.871740Z",
     "start_time": "2021-12-15T14:05:27.697930Z"
    }
   },
   "outputs": [
    {
     "name": "stdout",
     "output_type": "stream",
     "text": [
      "We have displayed 10/112 datapoints.\n",
      "[resticted to: None\n"
     ]
    },
    {
     "name": "stderr",
     "output_type": "stream",
     "text": [
      "/tmp/ipykernel_16308/3521100860.py:122: SettingWithCopyWarning: \n",
      "A value is trying to be set on a copy of a slice from a DataFrame.\n",
      "Try using .loc[row_indexer,col_indexer] = value instead\n",
      "\n",
      "See the caveats in the documentation: https://pandas.pydata.org/pandas-docs/stable/user_guide/indexing.html#returning-a-view-versus-a-copy\n",
      "  df[variable_to_inspect] = np.around(df[variable_to_inspect], decimals=6)\n"
     ]
    },
    {
     "data": {
      "image/png": "[encoded data removed]",
      "text/plain": [
       "<Figure size 432x288 with 1 Axes>"
      ]
     },
     "metadata": {
      "needs_background": "light"
     },
     "output_type": "display_data"
    }
   ],
   "source": [
    "analyzer.inspect_mispredictions(variable_to_inspect=\"n_qubits\")"
   ]
  },
  {
   "cell_type": "code",
   "execution_count": 135,
   "id": "4d025cbf",
   "metadata": {
    "ExecuteTime": {
     "end_time": "2021-12-15T14:05:28.046962Z",
     "start_time": "2021-12-15T14:05:27.873614Z"
    }
   },
   "outputs": [
    {
     "name": "stderr",
     "output_type": "stream",
     "text": [
      "/tmp/ipykernel_16308/3521100860.py:122: SettingWithCopyWarning: \n",
      "A value is trying to be set on a copy of a slice from a DataFrame.\n",
      "Try using .loc[row_indexer,col_indexer] = value instead\n",
      "\n",
      "See the caveats in the documentation: https://pandas.pydata.org/pandas-docs/stable/user_guide/indexing.html#returning-a-view-versus-a-copy\n",
      "  df[variable_to_inspect] = np.around(df[variable_to_inspect], decimals=6)\n"
     ]
    },
    {
     "name": "stdout",
     "output_type": "stream",
     "text": [
      "We have displayed 10/112 datapoints.\n",
      "[resticted to: None\n"
     ]
    },
    {
     "data": {
      "image/png": "[encoded data removed]",
      "text/plain": [
       "<Figure size 432x288 with 1 Axes>"
      ]
     },
     "metadata": {
      "needs_background": "light"
     },
     "output_type": "display_data"
    }
   ],
   "source": [
    "analyzer.inspect_mispredictions(variable_to_inspect=\"p_value\")"
   ]
  },
  {
   "cell_type": "code",
   "execution_count": 136,
   "id": "5e9eb22b",
   "metadata": {
    "ExecuteTime": {
     "end_time": "2021-12-15T14:05:28.346196Z",
     "start_time": "2021-12-15T14:05:28.171851Z"
    }
   },
   "outputs": [
    {
     "name": "stdout",
     "output_type": "stream",
     "text": [
      "We have displayed 8/112 datapoints.\n",
      "[resticted to: famous_algos\n"
     ]
    },
    {
     "name": "stderr",
     "output_type": "stream",
     "text": [
      "/tmp/ipykernel_16308/3521100860.py:122: SettingWithCopyWarning: \n",
      "A value is trying to be set on a copy of a slice from a DataFrame.\n",
      "Try using .loc[row_indexer,col_indexer] = value instead\n",
      "\n",
      "See the caveats in the documentation: https://pandas.pydata.org/pandas-docs/stable/user_guide/indexing.html#returning-a-view-versus-a-copy\n",
      "  df[variable_to_inspect] = np.around(df[variable_to_inspect], decimals=6)\n"
     ]
    },
    {
     "data": {
      "image/png": "[encoded data removed]",
      "text/plain": [
       "<Figure size 432x288 with 1 Axes>"
      ]
     },
     "metadata": {
      "needs_background": "light"
     },
     "output_type": "display_data"
    }
   ],
   "source": [
    "analyzer.inspect_mispredictions(variable_to_inspect=\"output_coverage_b\", benchmark_name=\"famous_algos\")"
   ]
  },
  {
   "cell_type": "code",
   "execution_count": 137,
   "id": "9c6a6819",
   "metadata": {
    "ExecuteTime": {
     "end_time": "2021-12-15T14:05:28.412019Z",
     "start_time": "2021-12-15T14:05:28.370219Z"
    }
   },
   "outputs": [
    {
     "data": {
      "text/html": [
       "<div>\n",
       "<style scoped>\n",
       "    .dataframe tbody tr th:only-of-type {\n",
       "        vertical-align: middle;\n",
       "    }\n",
       "\n",
       "    .dataframe tbody tr th {\n",
       "        vertical-align: top;\n",
       "    }\n",
       "\n",
       "    .dataframe thead th {\n",
       "        text-align: right;\n",
       "    }\n",
       "</style>\n",
       "<table border=\"1\" class=\"dataframe\">\n",
       "  <thead>\n",
       "    <tr style=\"text-align: right;\">\n",
       "      <th></th>\n",
       "      <th>test</th>\n",
       "      <th>test_long_name</th>\n",
       "      <th>circuit_id</th>\n",
       "      <th>benchmark_name</th>\n",
       "      <th>random_seed</th>\n",
       "      <th>statistic</th>\n",
       "      <th>p_value</th>\n",
       "      <th>expected_divergence</th>\n",
       "      <th>label</th>\n",
       "      <th>n_qubits</th>\n",
       "      <th>...</th>\n",
       "      <th>strategy_b</th>\n",
       "      <th>execution_a</th>\n",
       "      <th>execution_b</th>\n",
       "      <th>output_size_a</th>\n",
       "      <th>output_size_b</th>\n",
       "      <th>output_size_total</th>\n",
       "      <th>output_coverage_a</th>\n",
       "      <th>output_coverage_b</th>\n",
       "      <th>prediction_divergence</th>\n",
       "      <th>correct_prediction</th>\n",
       "    </tr>\n",
       "  </thead>\n",
       "  <tbody>\n",
       "    <tr>\n",
       "      <th>21</th>\n",
       "      <td>ks</td>\n",
       "      <td>Kolmogorov–Smirnov Test</td>\n",
       "      <td>0</td>\n",
       "      <td>famous_algos</td>\n",
       "      <td>None</td>\n",
       "      <td>0.509888</td>\n",
       "      <td>0.000000e+00</td>\n",
       "      <td>False</td>\n",
       "      <td>0</td>\n",
       "      <td>6</td>\n",
       "      <td>...</td>\n",
       "      <td>FamousCircuitGenerator</td>\n",
       "      <td>{'111011': 526, '100010': 484, '000010': 482, ...</td>\n",
       "      <td>{'010011': 492, '000000': 553, '001100': 512, ...</td>\n",
       "      <td>16</td>\n",
       "      <td>16</td>\n",
       "      <td>64</td>\n",
       "      <td>0.250000</td>\n",
       "      <td>0.250000</td>\n",
       "      <td>True</td>\n",
       "      <td>False</td>\n",
       "    </tr>\n",
       "    <tr>\n",
       "      <th>22</th>\n",
       "      <td>ks</td>\n",
       "      <td>Kolmogorov–Smirnov Test</td>\n",
       "      <td>4</td>\n",
       "      <td>famous_algos</td>\n",
       "      <td>None</td>\n",
       "      <td>0.052856</td>\n",
       "      <td>2.277065e-10</td>\n",
       "      <td>False</td>\n",
       "      <td>0</td>\n",
       "      <td>6</td>\n",
       "      <td>...</td>\n",
       "      <td>FamousCircuitGenerator</td>\n",
       "      <td>{'010001': 216, '100111': 97, '111100': 89, '0...</td>\n",
       "      <td>{'000111': 51, '010100': 41, '111010': 92, '00...</td>\n",
       "      <td>64</td>\n",
       "      <td>64</td>\n",
       "      <td>64</td>\n",
       "      <td>1.000000</td>\n",
       "      <td>1.000000</td>\n",
       "      <td>True</td>\n",
       "      <td>False</td>\n",
       "    </tr>\n",
       "    <tr>\n",
       "      <th>24</th>\n",
       "      <td>ks</td>\n",
       "      <td>Kolmogorov–Smirnov Test</td>\n",
       "      <td>1</td>\n",
       "      <td>famous_algos</td>\n",
       "      <td>None</td>\n",
       "      <td>0.254395</td>\n",
       "      <td>3.316825e-233</td>\n",
       "      <td>False</td>\n",
       "      <td>0</td>\n",
       "      <td>11</td>\n",
       "      <td>...</td>\n",
       "      <td>FamousCircuitGenerator</td>\n",
       "      <td>{'110': 2005, '100': 2084, '111': 2084, '101':...</td>\n",
       "      <td>{'10000000000': 2059, '11000000001': 2085, '10...</td>\n",
       "      <td>4</td>\n",
       "      <td>4</td>\n",
       "      <td>2048</td>\n",
       "      <td>0.001953</td>\n",
       "      <td>0.001953</td>\n",
       "      <td>True</td>\n",
       "      <td>False</td>\n",
       "    </tr>\n",
       "    <tr>\n",
       "      <th>25</th>\n",
       "      <td>ks</td>\n",
       "      <td>Kolmogorov–Smirnov Test</td>\n",
       "      <td>11</td>\n",
       "      <td>famous_algos</td>\n",
       "      <td>None</td>\n",
       "      <td>1.000000</td>\n",
       "      <td>0.000000e+00</td>\n",
       "      <td>False</td>\n",
       "      <td>0</td>\n",
       "      <td>10</td>\n",
       "      <td>...</td>\n",
       "      <td>FamousCircuitGenerator</td>\n",
       "      <td>{'00001': 8192}</td>\n",
       "      <td>{'10000': 8192}</td>\n",
       "      <td>1</td>\n",
       "      <td>1</td>\n",
       "      <td>1024</td>\n",
       "      <td>0.000977</td>\n",
       "      <td>0.000977</td>\n",
       "      <td>True</td>\n",
       "      <td>False</td>\n",
       "    </tr>\n",
       "    <tr>\n",
       "      <th>26</th>\n",
       "      <td>ks</td>\n",
       "      <td>Kolmogorov–Smirnov Test</td>\n",
       "      <td>7</td>\n",
       "      <td>famous_algos</td>\n",
       "      <td>None</td>\n",
       "      <td>0.583862</td>\n",
       "      <td>0.000000e+00</td>\n",
       "      <td>False</td>\n",
       "      <td>0</td>\n",
       "      <td>10</td>\n",
       "      <td>...</td>\n",
       "      <td>FamousCircuitGenerator</td>\n",
       "      <td>{'0001110110': 4, '0010101111': 297, '01101111...</td>\n",
       "      <td>{'0001110000': 1, '0001100100': 1, '0100101011...</td>\n",
       "      <td>674</td>\n",
       "      <td>664</td>\n",
       "      <td>1024</td>\n",
       "      <td>0.658203</td>\n",
       "      <td>0.658203</td>\n",
       "      <td>True</td>\n",
       "      <td>False</td>\n",
       "    </tr>\n",
       "    <tr>\n",
       "      <th>27</th>\n",
       "      <td>ks</td>\n",
       "      <td>Kolmogorov–Smirnov Test</td>\n",
       "      <td>2</td>\n",
       "      <td>famous_algos</td>\n",
       "      <td>None</td>\n",
       "      <td>0.185791</td>\n",
       "      <td>6.096027e-124</td>\n",
       "      <td>False</td>\n",
       "      <td>0</td>\n",
       "      <td>11</td>\n",
       "      <td>...</td>\n",
       "      <td>FamousCircuitGenerator</td>\n",
       "      <td>{'0100': 32, '0111': 824, '1101': 859, '1011':...</td>\n",
       "      <td>{'0000': 24, '1010': 35, '1111': 853, '0001': ...</td>\n",
       "      <td>16</td>\n",
       "      <td>16</td>\n",
       "      <td>2048</td>\n",
       "      <td>0.007812</td>\n",
       "      <td>0.007812</td>\n",
       "      <td>True</td>\n",
       "      <td>False</td>\n",
       "    </tr>\n",
       "    <tr>\n",
       "      <th>29</th>\n",
       "      <td>ks</td>\n",
       "      <td>Kolmogorov–Smirnov Test</td>\n",
       "      <td>10</td>\n",
       "      <td>famous_algos</td>\n",
       "      <td>None</td>\n",
       "      <td>1.000000</td>\n",
       "      <td>0.000000e+00</td>\n",
       "      <td>False</td>\n",
       "      <td>0</td>\n",
       "      <td>8</td>\n",
       "      <td>...</td>\n",
       "      <td>FamousCircuitGenerator</td>\n",
       "      <td>{'0001000111001010': 114, '0100100101001110': ...</td>\n",
       "      <td>{'0 0 1 1 0 0 0 0': 272, '0 0 1 0 0 0 0 0': 26...</td>\n",
       "      <td>64</td>\n",
       "      <td>32</td>\n",
       "      <td>256</td>\n",
       "      <td>0.250000</td>\n",
       "      <td>0.250000</td>\n",
       "      <td>True</td>\n",
       "      <td>False</td>\n",
       "    </tr>\n",
       "    <tr>\n",
       "      <th>31</th>\n",
       "      <td>ks</td>\n",
       "      <td>Kolmogorov–Smirnov Test</td>\n",
       "      <td>6</td>\n",
       "      <td>famous_algos</td>\n",
       "      <td>None</td>\n",
       "      <td>1.000000</td>\n",
       "      <td>0.000000e+00</td>\n",
       "      <td>False</td>\n",
       "      <td>0</td>\n",
       "      <td>15</td>\n",
       "      <td>...</td>\n",
       "      <td>FamousCircuitGenerator</td>\n",
       "      <td>{'100': 8192}</td>\n",
       "      <td>{'001': 8192}</td>\n",
       "      <td>1</td>\n",
       "      <td>1</td>\n",
       "      <td>32768</td>\n",
       "      <td>0.000031</td>\n",
       "      <td>0.000031</td>\n",
       "      <td>True</td>\n",
       "      <td>False</td>\n",
       "    </tr>\n",
       "    <tr>\n",
       "      <th>42</th>\n",
       "      <td>ks</td>\n",
       "      <td>Kolmogorov–Smirnov Test</td>\n",
       "      <td>2</td>\n",
       "      <td>across_runs_cirq</td>\n",
       "      <td>None</td>\n",
       "      <td>0.021362</td>\n",
       "      <td>4.758081e-02</td>\n",
       "      <td>False</td>\n",
       "      <td>0</td>\n",
       "      <td>9</td>\n",
       "      <td>...</td>\n",
       "      <td>WeightedRandomCircuitGenerator</td>\n",
       "      <td>{'000001011': 72, '101010011': 20, '101000010'...</td>\n",
       "      <td>{'110001000': 146, '110001010': 155, '10001000...</td>\n",
       "      <td>373</td>\n",
       "      <td>375</td>\n",
       "      <td>512</td>\n",
       "      <td>0.728516</td>\n",
       "      <td>0.728516</td>\n",
       "      <td>True</td>\n",
       "      <td>False</td>\n",
       "    </tr>\n",
       "    <tr>\n",
       "      <th>53</th>\n",
       "      <td>ks</td>\n",
       "      <td>Kolmogorov–Smirnov Test</td>\n",
       "      <td>19</td>\n",
       "      <td>across_runs_qiskit</td>\n",
       "      <td>None</td>\n",
       "      <td>0.023804</td>\n",
       "      <td>1.927912e-02</td>\n",
       "      <td>False</td>\n",
       "      <td>0</td>\n",
       "      <td>14</td>\n",
       "      <td>...</td>\n",
       "      <td>WeightedRandomCircuitGenerator</td>\n",
       "      <td>{'00000000000111': 1, '10010000000011': 2, '10...</td>\n",
       "      <td>{'11011110000010': 1, '11011100010110': 1, '00...</td>\n",
       "      <td>192</td>\n",
       "      <td>195</td>\n",
       "      <td>16384</td>\n",
       "      <td>0.011719</td>\n",
       "      <td>0.011719</td>\n",
       "      <td>True</td>\n",
       "      <td>False</td>\n",
       "    </tr>\n",
       "  </tbody>\n",
       "</table>\n",
       "<p>10 rows × 21 columns</p>\n",
       "</div>"
      ],
      "text/plain": [
       "   test           test_long_name circuit_id      benchmark_name random_seed  \\\n",
       "21   ks  Kolmogorov–Smirnov Test          0        famous_algos        None   \n",
       "22   ks  Kolmogorov–Smirnov Test          4        famous_algos        None   \n",
       "24   ks  Kolmogorov–Smirnov Test          1        famous_algos        None   \n",
       "25   ks  Kolmogorov–Smirnov Test         11        famous_algos        None   \n",
       "26   ks  Kolmogorov–Smirnov Test          7        famous_algos        None   \n",
       "27   ks  Kolmogorov–Smirnov Test          2        famous_algos        None   \n",
       "29   ks  Kolmogorov–Smirnov Test         10        famous_algos        None   \n",
       "31   ks  Kolmogorov–Smirnov Test          6        famous_algos        None   \n",
       "42   ks  Kolmogorov–Smirnov Test          2    across_runs_cirq        None   \n",
       "53   ks  Kolmogorov–Smirnov Test         19  across_runs_qiskit        None   \n",
       "\n",
       "    statistic        p_value  expected_divergence  label  n_qubits  ...  \\\n",
       "21   0.509888   0.000000e+00                False      0         6  ...   \n",
       "22   0.052856   2.277065e-10                False      0         6  ...   \n",
       "24   0.254395  3.316825e-233                False      0        11  ...   \n",
       "25   1.000000   0.000000e+00                False      0        10  ...   \n",
       "26   0.583862   0.000000e+00                False      0        10  ...   \n",
       "27   0.185791  6.096027e-124                False      0        11  ...   \n",
       "29   1.000000   0.000000e+00                False      0         8  ...   \n",
       "31   1.000000   0.000000e+00                False      0        15  ...   \n",
       "42   0.021362   4.758081e-02                False      0         9  ...   \n",
       "53   0.023804   1.927912e-02                False      0        14  ...   \n",
       "\n",
       "                        strategy_b  \\\n",
       "21          FamousCircuitGenerator   \n",
       "22          FamousCircuitGenerator   \n",
       "24          FamousCircuitGenerator   \n",
       "25          FamousCircuitGenerator   \n",
       "26          FamousCircuitGenerator   \n",
       "27          FamousCircuitGenerator   \n",
       "29          FamousCircuitGenerator   \n",
       "31          FamousCircuitGenerator   \n",
       "42  WeightedRandomCircuitGenerator   \n",
       "53  WeightedRandomCircuitGenerator   \n",
       "\n",
       "                                          execution_a  \\\n",
       "21  {'111011': 526, '100010': 484, '000010': 482, ...   \n",
       "22  {'010001': 216, '100111': 97, '111100': 89, '0...   \n",
       "24  {'110': 2005, '100': 2084, '111': 2084, '101':...   \n",
       "25                                    {'00001': 8192}   \n",
       "26  {'0001110110': 4, '0010101111': 297, '01101111...   \n",
       "27  {'0100': 32, '0111': 824, '1101': 859, '1011':...   \n",
       "29  {'0001000111001010': 114, '0100100101001110': ...   \n",
       "31                                      {'100': 8192}   \n",
       "42  {'000001011': 72, '101010011': 20, '101000010'...   \n",
       "53  {'00000000000111': 1, '10010000000011': 2, '10...   \n",
       "\n",
       "                                          execution_b output_size_a  \\\n",
       "21  {'010011': 492, '000000': 553, '001100': 512, ...            16   \n",
       "22  {'000111': 51, '010100': 41, '111010': 92, '00...            64   \n",
       "24  {'10000000000': 2059, '11000000001': 2085, '10...             4   \n",
       "25                                    {'10000': 8192}             1   \n",
       "26  {'0001110000': 1, '0001100100': 1, '0100101011...           674   \n",
       "27  {'0000': 24, '1010': 35, '1111': 853, '0001': ...            16   \n",
       "29  {'0 0 1 1 0 0 0 0': 272, '0 0 1 0 0 0 0 0': 26...            64   \n",
       "31                                      {'001': 8192}             1   \n",
       "42  {'110001000': 146, '110001010': 155, '10001000...           373   \n",
       "53  {'11011110000010': 1, '11011100010110': 1, '00...           192   \n",
       "\n",
       "    output_size_b  output_size_total  output_coverage_a  output_coverage_b  \\\n",
       "21             16                 64           0.250000           0.250000   \n",
       "22             64                 64           1.000000           1.000000   \n",
       "24              4               2048           0.001953           0.001953   \n",
       "25              1               1024           0.000977           0.000977   \n",
       "26            664               1024           0.658203           0.658203   \n",
       "27             16               2048           0.007812           0.007812   \n",
       "29             32                256           0.250000           0.250000   \n",
       "31              1              32768           0.000031           0.000031   \n",
       "42            375                512           0.728516           0.728516   \n",
       "53            195              16384           0.011719           0.011719   \n",
       "\n",
       "    prediction_divergence  correct_prediction  \n",
       "21                   True               False  \n",
       "22                   True               False  \n",
       "24                   True               False  \n",
       "25                   True               False  \n",
       "26                   True               False  \n",
       "27                   True               False  \n",
       "29                   True               False  \n",
       "31                   True               False  \n",
       "42                   True               False  \n",
       "53                   True               False  \n",
       "\n",
       "[10 rows x 21 columns]"
      ]
     },
     "execution_count": 137,
     "metadata": {},
     "output_type": "execute_result"
    }
   ],
   "source": [
    "df_mispredictions = analyzer.get_mispredictions()\n",
    "df_mispredictions.head(20)"
   ]
  },
  {
   "cell_type": "markdown",
   "id": "b202beab",
   "metadata": {},
   "source": [
    "# Check all data"
   ]
  },
  {
   "cell_type": "markdown",
   "id": "fd8efa08",
   "metadata": {},
   "source": [
    "## Are difficult programs more peaked or speard?"
   ]
  },
  {
   "cell_type": "code",
   "execution_count": 139,
   "id": "b022de42",
   "metadata": {
    "ExecuteTime": {
     "end_time": "2021-12-15T14:05:52.174667Z",
     "start_time": "2021-12-15T14:05:51.992212Z"
    }
   },
   "outputs": [
    {
     "name": "stdout",
     "output_type": "stream",
     "text": [
      "We have displayed 12/112 datapoints.\n",
      "[resticted to: famous_algos\n"
     ]
    },
    {
     "name": "stderr",
     "output_type": "stream",
     "text": [
      "/tmp/ipykernel_16308/3521100860.py:122: SettingWithCopyWarning: \n",
      "A value is trying to be set on a copy of a slice from a DataFrame.\n",
      "Try using .loc[row_indexer,col_indexer] = value instead\n",
      "\n",
      "See the caveats in the documentation: https://pandas.pydata.org/pandas-docs/stable/user_guide/indexing.html#returning-a-view-versus-a-copy\n",
      "  df[variable_to_inspect] = np.around(df[variable_to_inspect], decimals=6)\n"
     ]
    },
    {
     "data": {
      "image/png": "[encoded data removed]",
      "text/plain": [
       "<Figure size 432x288 with 1 Axes>"
      ]
     },
     "metadata": {
      "needs_background": "light"
     },
     "output_type": "display_data"
    }
   ],
   "source": [
    "analyzer.inspect(variable_to_inspect=\"output_coverage_b\", benchmark_name=\"famous_algos\")"
   ]
  },
  {
   "cell_type": "code",
   "execution_count": 143,
   "id": "1dcc70ad",
   "metadata": {
    "ExecuteTime": {
     "end_time": "2021-12-15T14:07:48.760571Z",
     "start_time": "2021-12-15T14:07:48.576814Z"
    }
   },
   "outputs": [
    {
     "name": "stdout",
     "output_type": "stream",
     "text": [
      "['program_vs_random', 'across_runs_cirq', 'across_runs_qiskit', 'negation', 'program_x_vs_program_y']\n",
      "We have displayed 100/112 datapoints.\n",
      "[resticted to: ['program_vs_random', 'across_runs_cirq', 'across_runs_qiskit', 'negation', 'program_x_vs_program_y']\n"
     ]
    },
    {
     "name": "stderr",
     "output_type": "stream",
     "text": [
      "/tmp/ipykernel_16308/3521100860.py:122: SettingWithCopyWarning: \n",
      "A value is trying to be set on a copy of a slice from a DataFrame.\n",
      "Try using .loc[row_indexer,col_indexer] = value instead\n",
      "\n",
      "See the caveats in the documentation: https://pandas.pydata.org/pandas-docs/stable/user_guide/indexing.html#returning-a-view-versus-a-copy\n",
      "  df[variable_to_inspect] = np.around(df[variable_to_inspect], decimals=6)\n"
     ]
    },
    {
     "data": {
      "image/png": "[encoded data removed]",
      "text/plain": [
       "<Figure size 432x288 with 1 Axes>"
      ]
     },
     "metadata": {
      "needs_background": "light"
     },
     "output_type": "display_data"
    }
   ],
   "source": [
    "benchmarks_considered = list(analyzer.df_all.benchmark_name.unique())\n",
    "benchmarks_considered.remove(\"famous_algos\")\n",
    "print(benchmarks_considered)\n",
    "analyzer.inspect(variable_to_inspect=\"output_coverage_b\", benchmark_name=benchmarks_considered)"
   ]
  },
  {
   "cell_type": "code",
   "execution_count": null,
   "id": "9329e05c",
   "metadata": {},
   "outputs": [],
   "source": []
  }
 ],
 "metadata": {
  "kernelspec": {
   "display_name": "Python 3 (ipykernel)",
   "language": "python",
   "name": "python3"
  },
  "language_info": {
   "codemirror_mode": {
    "name": "ipython",
    "version": 3
   },
   "file_extension": ".py",
   "mimetype": "text/x-python",
   "name": "python",
   "nbconvert_exporter": "python",
   "pygments_lexer": "ipython3",
   "version": "3.8.0"
  },
  "toc": {
   "base_numbering": 1,
   "nav_menu": {},
   "number_sections": true,
   "sideBar": true,
   "skip_h1_title": false,
   "title_cell": "Table of Contents",
   "title_sidebar": "Contents",
   "toc_cell": false,
   "toc_position": {},
   "toc_section_display": true,
   "toc_window_display": false
  }
 },
 "nbformat": 4,
 "nbformat_minor": 5
}
