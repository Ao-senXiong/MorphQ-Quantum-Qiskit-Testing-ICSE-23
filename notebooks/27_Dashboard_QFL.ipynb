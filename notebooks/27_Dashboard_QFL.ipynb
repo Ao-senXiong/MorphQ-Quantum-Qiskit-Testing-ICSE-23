{
 "cells": [
  {
   "cell_type": "code",
   "execution_count": 1,
   "id": "54101033",
   "metadata": {
    "ExecuteTime": {
     "end_time": "2022-01-26T23:38:02.269122Z",
     "start_time": "2022-01-26T23:37:58.960202Z"
    }
   },
   "outputs": [],
   "source": [
    "import pandas as pd\n",
    "import sys\n",
    "sys.path.append(\"../lib\")\n",
    "import seaborn as sns\n",
    "import matplotlib.pyplot as plt\n",
    "from utils import iterate_over\n",
    "from utils import load_config_and_check\n",
    "from inspector import Inspector\n",
    "from tqdm import tqdm\n",
    "import os"
   ]
  },
  {
   "cell_type": "code",
   "execution_count": 2,
   "id": "f6fc5180",
   "metadata": {
    "ExecuteTime": {
     "end_time": "2022-01-26T23:38:02.296054Z",
     "start_time": "2022-01-26T23:38:02.271546Z"
    }
   },
   "outputs": [],
   "source": [
    "%load_ext autoreload\n",
    "%autoreload 2"
   ]
  },
  {
   "cell_type": "code",
   "execution_count": 3,
   "id": "3338b039",
   "metadata": {
    "ExecuteTime": {
     "end_time": "2022-01-26T23:38:02.325135Z",
     "start_time": "2022-01-26T23:38:02.297949Z"
    }
   },
   "outputs": [],
   "source": [
    "config = load_config_and_check(\"../config/qfl_v00.yaml\")"
   ]
  },
  {
   "cell_type": "code",
   "execution_count": 4,
   "id": "4aa669cd",
   "metadata": {
    "ExecuteTime": {
     "end_time": "2022-01-26T23:38:02.403146Z",
     "start_time": "2022-01-26T23:38:02.328399Z"
    }
   },
   "outputs": [
    {
     "data": {
      "text/plain": [
       "['../data/qfl_v00/programs/metadata/3609ac949618472bb6857d359999c2cf.json',\n",
       " '../data/qfl_v00/programs/metadata/3500e0b90b4842c1876f5cc900bef734.json',\n",
       " '../data/qfl_v00/programs/metadata/cfd51249268e489aad7dc4484ba7c3d5.json',\n",
       " '../data/qfl_v00/programs/metadata/913f568e7fef43a19db2675417a01e52.json',\n",
       " '../data/qfl_v00/programs/metadata/ce8324545ff84047ae618f1ce1ae2ff3.json',\n",
       " '../data/qfl_v00/programs/metadata/c73f02d1e5f149a386334990fdd7c5b6.json',\n",
       " '../data/qfl_v00/programs/metadata/c242e783799147e79efc9d9c87680816.json',\n",
       " '../data/qfl_v00/programs/metadata/1788609540e94adb89e0cb88edba062c.json',\n",
       " '../data/qfl_v00/programs/metadata/bdc63e3b3db04fb0a496b4c594a13302.json',\n",
       " '../data/qfl_v00/programs/metadata/9f179d7c4dee462f95c6cb3f80c79dab.json']"
      ]
     },
     "execution_count": 4,
     "metadata": {},
     "output_type": "execute_result"
    }
   ],
   "source": [
    "PATH_TESTED = os.path.join(\n",
    "    config[\"experiment_folder\"], \"programs\", \"metadata\"\n",
    ")\n",
    "metadata_files = [\n",
    "    os.path.join(PATH_TESTED, filename) \n",
    "    for filename in os.listdir(PATH_TESTED)\n",
    "    if not filename.endswith(\"_exec.json\")\n",
    "]\n",
    "metadata_files[:10]"
   ]
  },
  {
   "cell_type": "code",
   "execution_count": 6,
   "id": "c68382e8",
   "metadata": {
    "ExecuteTime": {
     "end_time": "2022-01-26T23:38:22.452171Z",
     "start_time": "2022-01-26T23:38:08.385135Z"
    }
   },
   "outputs": [
    {
     "name": "stderr",
     "output_type": "stream",
     "text": [
      "100%|█████████████████████████████████████████████████████████████████████████████████████████████████████████████████████| 15537/15537 [00:13<00:00, 1139.73it/s]\n"
     ]
    }
   ],
   "source": [
    "def pandize(file_list):\n",
    "    \"\"\"Create a pandas dataframe with the json file passed.\"\"\"\n",
    "    records = []\n",
    "    for filepaths in tqdm(file_list):\n",
    "        with open(filepaths, 'r') as in_file:\n",
    "            data = json.load(in_file)\n",
    "        records.append(data)\n",
    "    return pd.json_normalize(records)\n",
    "    # return pd.DataFrame.from_records(records)\n",
    "    \n",
    "df = pandize(file_list=metadata_files)"
   ]
  },
  {
   "cell_type": "code",
   "execution_count": 7,
   "id": "aaffd497",
   "metadata": {
    "ExecuteTime": {
     "end_time": "2022-01-26T23:38:22.498139Z",
     "start_time": "2022-01-26T23:38:22.456042Z"
    }
   },
   "outputs": [
    {
     "data": {
      "text/html": [
       "<div>\n",
       "<style scoped>\n",
       "    .dataframe tbody tr th:only-of-type {\n",
       "        vertical-align: middle;\n",
       "    }\n",
       "\n",
       "    .dataframe tbody tr th {\n",
       "        vertical-align: top;\n",
       "    }\n",
       "\n",
       "    .dataframe thead th {\n",
       "        text-align: right;\n",
       "    }\n",
       "</style>\n",
       "<table border=\"1\" class=\"dataframe\">\n",
       "  <thead>\n",
       "    <tr style=\"text-align: right;\">\n",
       "      <th></th>\n",
       "      <th>program_id</th>\n",
       "      <th>platform_names</th>\n",
       "      <th>shots</th>\n",
       "      <th>qasm.program_id</th>\n",
       "      <th>qasm.qasm_filepath</th>\n",
       "      <th>qasm.n_qubits</th>\n",
       "      <th>qasm.n_ops</th>\n",
       "      <th>qasm.gate_set.cx</th>\n",
       "      <th>qasm.gate_set.rx</th>\n",
       "      <th>qasm.gate_set.ry</th>\n",
       "      <th>qasm.gate_set.rz</th>\n",
       "      <th>qasm.gate_set.p</th>\n",
       "      <th>qasm.strategy_program_generation</th>\n",
       "      <th>qasm.circuit_id</th>\n",
       "      <th>qasm.benchmark_name</th>\n",
       "      <th>divergence.ks.statistic</th>\n",
       "      <th>divergence.ks.p-value</th>\n",
       "    </tr>\n",
       "  </thead>\n",
       "  <tbody>\n",
       "    <tr>\n",
       "      <th>0</th>\n",
       "      <td>3609ac949618472bb6857d359999c2cf</td>\n",
       "      <td>[qiskit, cirq]</td>\n",
       "      <td>8192</td>\n",
       "      <td>3609ac949618472bb6857d359999c2cf</td>\n",
       "      <td>../data/qfl_v00/programs/qasm/3609ac949618472b...</td>\n",
       "      <td>3</td>\n",
       "      <td>124</td>\n",
       "      <td>3</td>\n",
       "      <td>1</td>\n",
       "      <td>1</td>\n",
       "      <td>1</td>\n",
       "      <td>1</td>\n",
       "      <td>WeightedRandomCircuitGenerator</td>\n",
       "      <td>3609ac949618472bb6857d359999c2cf</td>\n",
       "      <td>seed_42</td>\n",
       "      <td>0.011353</td>\n",
       "      <td>0.666714</td>\n",
       "    </tr>\n",
       "    <tr>\n",
       "      <th>1</th>\n",
       "      <td>3500e0b90b4842c1876f5cc900bef734</td>\n",
       "      <td>[qiskit, cirq]</td>\n",
       "      <td>8192</td>\n",
       "      <td>3500e0b90b4842c1876f5cc900bef734</td>\n",
       "      <td>../data/qfl_v00/programs/qasm/3500e0b90b4842c1...</td>\n",
       "      <td>18</td>\n",
       "      <td>102</td>\n",
       "      <td>3</td>\n",
       "      <td>1</td>\n",
       "      <td>1</td>\n",
       "      <td>1</td>\n",
       "      <td>1</td>\n",
       "      <td>WeightedRandomCircuitGenerator</td>\n",
       "      <td>3500e0b90b4842c1876f5cc900bef734</td>\n",
       "      <td>seed_42</td>\n",
       "      <td>0.015015</td>\n",
       "      <td>0.314258</td>\n",
       "    </tr>\n",
       "    <tr>\n",
       "      <th>2</th>\n",
       "      <td>cfd51249268e489aad7dc4484ba7c3d5</td>\n",
       "      <td>[qiskit, cirq]</td>\n",
       "      <td>8192</td>\n",
       "      <td>cfd51249268e489aad7dc4484ba7c3d5</td>\n",
       "      <td>../data/qfl_v00/programs/qasm/cfd51249268e489a...</td>\n",
       "      <td>2</td>\n",
       "      <td>32</td>\n",
       "      <td>3</td>\n",
       "      <td>1</td>\n",
       "      <td>1</td>\n",
       "      <td>1</td>\n",
       "      <td>1</td>\n",
       "      <td>WeightedRandomCircuitGenerator</td>\n",
       "      <td>cfd51249268e489aad7dc4484ba7c3d5</td>\n",
       "      <td>seed_42</td>\n",
       "      <td>0.016846</td>\n",
       "      <td>0.195448</td>\n",
       "    </tr>\n",
       "    <tr>\n",
       "      <th>3</th>\n",
       "      <td>913f568e7fef43a19db2675417a01e52</td>\n",
       "      <td>[qiskit, cirq]</td>\n",
       "      <td>8192</td>\n",
       "      <td>913f568e7fef43a19db2675417a01e52</td>\n",
       "      <td>../data/qfl_v00/programs/qasm/913f568e7fef43a1...</td>\n",
       "      <td>12</td>\n",
       "      <td>125</td>\n",
       "      <td>3</td>\n",
       "      <td>1</td>\n",
       "      <td>1</td>\n",
       "      <td>1</td>\n",
       "      <td>1</td>\n",
       "      <td>WeightedRandomCircuitGenerator</td>\n",
       "      <td>913f568e7fef43a19db2675417a01e52</td>\n",
       "      <td>seed_42</td>\n",
       "      <td>0.010498</td>\n",
       "      <td>0.757432</td>\n",
       "    </tr>\n",
       "    <tr>\n",
       "      <th>4</th>\n",
       "      <td>ce8324545ff84047ae618f1ce1ae2ff3</td>\n",
       "      <td>[qiskit, cirq]</td>\n",
       "      <td>8192</td>\n",
       "      <td>ce8324545ff84047ae618f1ce1ae2ff3</td>\n",
       "      <td>../data/qfl_v00/programs/qasm/ce8324545ff84047...</td>\n",
       "      <td>5</td>\n",
       "      <td>66</td>\n",
       "      <td>3</td>\n",
       "      <td>1</td>\n",
       "      <td>1</td>\n",
       "      <td>1</td>\n",
       "      <td>1</td>\n",
       "      <td>WeightedRandomCircuitGenerator</td>\n",
       "      <td>ce8324545ff84047ae618f1ce1ae2ff3</td>\n",
       "      <td>seed_42</td>\n",
       "      <td>0.012817</td>\n",
       "      <td>0.511501</td>\n",
       "    </tr>\n",
       "  </tbody>\n",
       "</table>\n",
       "</div>"
      ],
      "text/plain": [
       "                         program_id  platform_names  shots  \\\n",
       "0  3609ac949618472bb6857d359999c2cf  [qiskit, cirq]   8192   \n",
       "1  3500e0b90b4842c1876f5cc900bef734  [qiskit, cirq]   8192   \n",
       "2  cfd51249268e489aad7dc4484ba7c3d5  [qiskit, cirq]   8192   \n",
       "3  913f568e7fef43a19db2675417a01e52  [qiskit, cirq]   8192   \n",
       "4  ce8324545ff84047ae618f1ce1ae2ff3  [qiskit, cirq]   8192   \n",
       "\n",
       "                    qasm.program_id  \\\n",
       "0  3609ac949618472bb6857d359999c2cf   \n",
       "1  3500e0b90b4842c1876f5cc900bef734   \n",
       "2  cfd51249268e489aad7dc4484ba7c3d5   \n",
       "3  913f568e7fef43a19db2675417a01e52   \n",
       "4  ce8324545ff84047ae618f1ce1ae2ff3   \n",
       "\n",
       "                                  qasm.qasm_filepath  qasm.n_qubits  \\\n",
       "0  ../data/qfl_v00/programs/qasm/3609ac949618472b...              3   \n",
       "1  ../data/qfl_v00/programs/qasm/3500e0b90b4842c1...             18   \n",
       "2  ../data/qfl_v00/programs/qasm/cfd51249268e489a...              2   \n",
       "3  ../data/qfl_v00/programs/qasm/913f568e7fef43a1...             12   \n",
       "4  ../data/qfl_v00/programs/qasm/ce8324545ff84047...              5   \n",
       "\n",
       "   qasm.n_ops  qasm.gate_set.cx  qasm.gate_set.rx  qasm.gate_set.ry  \\\n",
       "0         124                 3                 1                 1   \n",
       "1         102                 3                 1                 1   \n",
       "2          32                 3                 1                 1   \n",
       "3         125                 3                 1                 1   \n",
       "4          66                 3                 1                 1   \n",
       "\n",
       "   qasm.gate_set.rz  qasm.gate_set.p qasm.strategy_program_generation  \\\n",
       "0                 1                1   WeightedRandomCircuitGenerator   \n",
       "1                 1                1   WeightedRandomCircuitGenerator   \n",
       "2                 1                1   WeightedRandomCircuitGenerator   \n",
       "3                 1                1   WeightedRandomCircuitGenerator   \n",
       "4                 1                1   WeightedRandomCircuitGenerator   \n",
       "\n",
       "                    qasm.circuit_id qasm.benchmark_name  \\\n",
       "0  3609ac949618472bb6857d359999c2cf             seed_42   \n",
       "1  3500e0b90b4842c1876f5cc900bef734             seed_42   \n",
       "2  cfd51249268e489aad7dc4484ba7c3d5             seed_42   \n",
       "3  913f568e7fef43a19db2675417a01e52             seed_42   \n",
       "4  ce8324545ff84047ae618f1ce1ae2ff3             seed_42   \n",
       "\n",
       "   divergence.ks.statistic  divergence.ks.p-value  \n",
       "0                 0.011353               0.666714  \n",
       "1                 0.015015               0.314258  \n",
       "2                 0.016846               0.195448  \n",
       "3                 0.010498               0.757432  \n",
       "4                 0.012817               0.511501  "
      ]
     },
     "execution_count": 7,
     "metadata": {},
     "output_type": "execute_result"
    }
   ],
   "source": [
    "df.head()"
   ]
  },
  {
   "cell_type": "code",
   "execution_count": 8,
   "id": "1112e9d6",
   "metadata": {
    "ExecuteTime": {
     "end_time": "2022-01-26T23:38:59.655339Z",
     "start_time": "2022-01-26T23:38:59.225834Z"
    }
   },
   "outputs": [
    {
     "data": {
      "text/plain": [
       "<AxesSubplot:xlabel='divergence.ks.statistic', ylabel='Count'>"
      ]
     },
     "execution_count": 8,
     "metadata": {},
     "output_type": "execute_result"
    },
    {
     "data": {
      "image/png": "[encoded data removed]",
      "text/plain": [
       "<Figure size 432x288 with 1 Axes>"
      ]
     },
     "metadata": {
      "needs_background": "light"
     },
     "output_type": "display_data"
    }
   ],
   "source": [
    "sns.histplot(\n",
    "    data=df,\n",
    "    x='divergence.ks.statistic'\n",
    ")"
   ]
  },
  {
   "cell_type": "code",
   "execution_count": 9,
   "id": "06e97ae8",
   "metadata": {
    "ExecuteTime": {
     "end_time": "2022-01-26T23:39:13.070865Z",
     "start_time": "2022-01-26T23:39:12.861836Z"
    }
   },
   "outputs": [
    {
     "data": {
      "text/plain": [
       "<AxesSubplot:xlabel='divergence.ks.p-value', ylabel='Count'>"
      ]
     },
     "execution_count": 9,
     "metadata": {},
     "output_type": "execute_result"
    },
    {
     "data": {
      "image/png": "[encoded data removed]",
      "text/plain": [
       "<Figure size 432x288 with 1 Axes>"
      ]
     },
     "metadata": {
      "needs_background": "light"
     },
     "output_type": "display_data"
    }
   ],
   "source": [
    "sns.histplot(\n",
    "    data=df,\n",
    "    x='divergence.ks.p-value'\n",
    ")"
   ]
  },
  {
   "cell_type": "code",
   "execution_count": null,
   "id": "d0fa0aa3",
   "metadata": {},
   "outputs": [],
   "source": []
  }
 ],
 "metadata": {
  "kernelspec": {
   "display_name": "Python 3 (ipykernel)",
   "language": "python",
   "name": "python3"
  },
  "language_info": {
   "codemirror_mode": {
    "name": "ipython",
    "version": 3
   },
   "file_extension": ".py",
   "mimetype": "text/x-python",
   "name": "python",
   "nbconvert_exporter": "python",
   "pygments_lexer": "ipython3",
   "version": "3.8.0"
  },
  "toc": {
   "base_numbering": 1,
   "nav_menu": {},
   "number_sections": true,
   "sideBar": true,
   "skip_h1_title": false,
   "title_cell": "Table of Contents",
   "title_sidebar": "Contents",
   "toc_cell": false,
   "toc_position": {},
   "toc_section_display": true,
   "toc_window_display": false
  }
 },
 "nbformat": 4,
 "nbformat_minor": 5
}
