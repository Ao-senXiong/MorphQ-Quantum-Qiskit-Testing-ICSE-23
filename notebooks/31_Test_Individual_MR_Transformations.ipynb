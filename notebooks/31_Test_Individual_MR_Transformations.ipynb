{
 "cells": [
  {
   "cell_type": "code",
   "execution_count": 1,
   "id": "38356dbe",
   "metadata": {
    "ExecuteTime": {
     "end_time": "2022-02-09T10:50:25.137059Z",
     "start_time": "2022-02-09T10:50:23.025722Z"
    }
   },
   "outputs": [],
   "source": [
    "import pandas as pd\n",
    "import sys\n",
    "sys.path.append(\"../lib\")\n",
    "import seaborn as sns\n",
    "import matplotlib.pyplot as plt\n",
    "from utils import iterate_over\n",
    "from utils import load_config_and_check\n",
    "from inspector import Inspector\n",
    "from tqdm import tqdm\n",
    "import sqlite3 as sl\n",
    "import os"
   ]
  },
  {
   "cell_type": "code",
   "execution_count": 2,
   "id": "29f03fe6",
   "metadata": {
    "ExecuteTime": {
     "end_time": "2022-02-09T10:50:25.169088Z",
     "start_time": "2022-02-09T10:50:25.139358Z"
    }
   },
   "outputs": [],
   "source": [
    "%load_ext autoreload\n",
    "%autoreload 2"
   ]
  },
  {
   "cell_type": "code",
   "execution_count": null,
   "id": "a5762ca4",
   "metadata": {},
   "outputs": [],
   "source": []
  },
  {
   "cell_type": "markdown",
   "id": "15cb3837",
   "metadata": {},
   "source": [
    "## Inspect AST Manually"
   ]
  },
  {
   "cell_type": "code",
   "execution_count": 3,
   "id": "88d0f2e6",
   "metadata": {
    "ExecuteTime": {
     "end_time": "2022-02-09T10:50:25.226381Z",
     "start_time": "2022-02-09T10:50:25.206077Z"
    }
   },
   "outputs": [],
   "source": [
    "import ast\n",
    "import astpretty"
   ]
  },
  {
   "cell_type": "code",
   "execution_count": 4,
   "id": "4d87d9ae",
   "metadata": {
    "ExecuteTime": {
     "end_time": "2022-02-09T10:50:25.247833Z",
     "start_time": "2022-02-09T10:50:25.229009Z"
    }
   },
   "outputs": [],
   "source": [
    "def show_tree(code: str):\n",
    "    tree = ast.parse(code)\n",
    "    astpretty.pprint(tree)"
   ]
  },
  {
   "cell_type": "code",
   "execution_count": 5,
   "id": "266ad50e",
   "metadata": {
    "ExecuteTime": {
     "end_time": "2022-02-09T10:50:25.268302Z",
     "start_time": "2022-02-09T10:50:25.249803Z"
    }
   },
   "outputs": [
    {
     "name": "stdout",
     "output_type": "stream",
     "text": [
      "Module(\n",
      "    body=[\n",
      "        ImportFrom(\n",
      "            lineno=2,\n",
      "            col_offset=0,\n",
      "            end_lineno=2,\n",
      "            end_col_offset=28,\n",
      "            module='qiskit',\n",
      "            names=[alias(name='transpile', asname=None)],\n",
      "            level=0,\n",
      "        ),\n",
      "        Assign(\n",
      "            lineno=3,\n",
      "            col_offset=0,\n",
      "            end_lineno=3,\n",
      "            end_col_offset=58,\n",
      "            targets=[Name(lineno=3, col_offset=0, end_lineno=3, end_col_offset=2, id='qc', ctx=Store())],\n",
      "            value=Call(\n",
      "                lineno=3,\n",
      "                col_offset=5,\n",
      "                end_lineno=3,\n",
      "                end_col_offset=58,\n",
      "                func=Name(lineno=3, col_offset=5, end_lineno=3, end_col_offset=14, id='transpile', ctx=Load()),\n",
      "                args=[Name(lineno=3, col_offset=15, end_lineno=3, end_col_offset=17, id='qc', ctx=Load())],\n",
      "                keywords=[\n",
      "                    keyword(\n",
      "                        arg='basis_gates',\n",
      "                        value=Constant(lineno=3, col_offset=31, end_lineno=3, end_col_offset=35, value=None, kind=None),\n",
      "                    ),\n",
      "                    keyword(\n",
      "                        arg='optimization_level',\n",
      "                        value=Constant(lineno=3, col_offset=56, end_lineno=3, end_col_offset=57, value=0, kind=None),\n",
      "                    ),\n",
      "                ],\n",
      "            ),\n",
      "            type_comment=None,\n",
      "        ),\n",
      "    ],\n",
      "    type_ignores=[],\n",
      ")\n"
     ]
    }
   ],
   "source": [
    "show_tree(\"\"\"\n",
    "from qiskit import transpile\n",
    "qc = transpile(qc, basis_gates=None, optimization_level=0)\n",
    "\"\"\")"
   ]
  },
  {
   "cell_type": "code",
   "execution_count": 6,
   "id": "6d54b22c",
   "metadata": {
    "ExecuteTime": {
     "end_time": "2022-02-09T10:50:25.288830Z",
     "start_time": "2022-02-09T10:50:25.270428Z"
    }
   },
   "outputs": [
    {
     "name": "stdout",
     "output_type": "stream",
     "text": [
      "Module(\n",
      "    body=[\n",
      "        ImportFrom(\n",
      "            lineno=2,\n",
      "            col_offset=0,\n",
      "            end_lineno=2,\n",
      "            end_col_offset=28,\n",
      "            module='qiskit',\n",
      "            names=[alias(name='transpile', asname=None)],\n",
      "            level=0,\n",
      "        ),\n",
      "        Assign(\n",
      "            lineno=3,\n",
      "            col_offset=0,\n",
      "            end_lineno=3,\n",
      "            end_col_offset=83,\n",
      "            targets=[Name(lineno=3, col_offset=0, end_lineno=3, end_col_offset=2, id='qc', ctx=Store())],\n",
      "            value=Call(\n",
      "                lineno=3,\n",
      "                col_offset=5,\n",
      "                end_lineno=3,\n",
      "                end_col_offset=83,\n",
      "                func=Name(lineno=3, col_offset=5, end_lineno=3, end_col_offset=14, id='transpile', ctx=Load()),\n",
      "                args=[Name(lineno=3, col_offset=15, end_lineno=3, end_col_offset=17, id='qc', ctx=Load())],\n",
      "                keywords=[\n",
      "                    keyword(\n",
      "                        arg='basis_gates',\n",
      "                        value=List(\n",
      "                            lineno=3,\n",
      "                            col_offset=31,\n",
      "                            end_lineno=3,\n",
      "                            end_col_offset=60,\n",
      "                            elts=[\n",
      "                                Constant(lineno=3, col_offset=32, end_lineno=3, end_col_offset=36, value='rx', kind=None),\n",
      "                                Constant(lineno=3, col_offset=38, end_lineno=3, end_col_offset=42, value='ry', kind=None),\n",
      "                                Constant(lineno=3, col_offset=44, end_lineno=3, end_col_offset=48, value='rz', kind=None),\n",
      "                                Constant(lineno=3, col_offset=50, end_lineno=3, end_col_offset=53, value='h', kind=None),\n",
      "                                Constant(lineno=3, col_offset=55, end_lineno=3, end_col_offset=59, value='cx', kind=None),\n",
      "                            ],\n",
      "                            ctx=Load(),\n",
      "                        ),\n",
      "                    ),\n",
      "                    keyword(\n",
      "                        arg='optimization_level',\n",
      "                        value=Constant(lineno=3, col_offset=81, end_lineno=3, end_col_offset=82, value=0, kind=None),\n",
      "                    ),\n",
      "                ],\n",
      "            ),\n",
      "            type_comment=None,\n",
      "        ),\n",
      "    ],\n",
      "    type_ignores=[],\n",
      ")\n"
     ]
    }
   ],
   "source": [
    "show_tree(\"\"\"\n",
    "from qiskit import transpile\n",
    "qc = transpile(qc, basis_gates=['rx', 'ry', 'rz', 'h', 'cx'], optimization_level=0)\n",
    "\"\"\")"
   ]
  },
  {
   "cell_type": "markdown",
   "id": "e91587b2",
   "metadata": {},
   "source": [
    "## Change Target Basis"
   ]
  },
  {
   "cell_type": "code",
   "execution_count": 7,
   "id": "b41c5b35",
   "metadata": {
    "ExecuteTime": {
     "end_time": "2022-02-09T10:50:33.431166Z",
     "start_time": "2022-02-09T10:50:26.298001Z"
    }
   },
   "outputs": [],
   "source": [
    "from qmt import get_mr_function_and_kwargs"
   ]
  },
  {
   "cell_type": "code",
   "execution_count": 8,
   "id": "ca082a29",
   "metadata": {
    "ExecuteTime": {
     "end_time": "2022-02-09T10:50:33.483248Z",
     "start_time": "2022-02-09T10:50:33.434207Z"
    }
   },
   "outputs": [],
   "source": [
    "from metamorph import *"
   ]
  },
  {
   "cell_type": "code",
   "execution_count": 9,
   "id": "10c8da8c",
   "metadata": {
    "ExecuteTime": {
     "end_time": "2022-02-09T10:50:33.574308Z",
     "start_time": "2022-02-09T10:50:33.485241Z"
    }
   },
   "outputs": [],
   "source": [
    "config = load_config_and_check(\"../config/qmt_v01.yaml\")"
   ]
  },
  {
   "cell_type": "code",
   "execution_count": 154,
   "id": "888409ea",
   "metadata": {
    "ExecuteTime": {
     "end_time": "2022-02-09T14:57:40.230428Z",
     "start_time": "2022-02-09T14:57:40.174831Z"
    }
   },
   "outputs": [
    {
     "data": {
      "text/plain": [
       "[{'name': 'change_backend',\n",
       "  'function': 'mr_change_backend',\n",
       "  'kwargs': {'available_backends': ['aer_simulator',\n",
       "    'aer_simulator_statevector',\n",
       "    'aer_simulator_statevector_gpu',\n",
       "    'aer_simulator_density_matrix_gpu',\n",
       "    'aer_simulator_stabilizer',\n",
       "    'aer_simulator_matrix_product_state']}},\n",
       " {'name': 'change_basis',\n",
       "  'function': 'mr_change_basis',\n",
       "  'kwargs': {'universal_gate_sets': [{'gates': ['rx', 'ry', 'rz', 'p', 'cx']},\n",
       "    {'gates': ['cx', 'h', 's', 't']},\n",
       "    {'gates': ['ccx', 'h']}]}},\n",
       " {'name': 'change_opt_level',\n",
       "  'function': 'mr_change_opt_level',\n",
       "  'kwargs': {'levels': [0, 1, 2, 3]}},\n",
       " {'name': 'change_qubit_order',\n",
       "  'function': 'mr_change_qubit_order',\n",
       "  'kwargs': {'scramble_percentage': 0.5}}]"
      ]
     },
     "execution_count": 154,
     "metadata": {},
     "output_type": "execute_result"
    }
   ],
   "source": [
    "config[\"metamorphic_strategies\"]"
   ]
  },
  {
   "cell_type": "code",
   "execution_count": 10,
   "id": "2c13bdcc",
   "metadata": {
    "ExecuteTime": {
     "end_time": "2022-02-09T10:50:33.638226Z",
     "start_time": "2022-02-09T10:50:33.576835Z"
    },
    "scrolled": false
   },
   "outputs": [
    {
     "name": "stdout",
     "output_type": "stream",
     "text": [
      "Follow: gateset replaced with:  ['cx', 'h', 's', 't']\n",
      "# SECTION\n",
      "# NAME: OPTIMIZATION_PASSES\n",
      "\n",
      "from qiskit.transpiler import PassManager\n",
      "from qiskit.transpiler.passes import *\n",
      "passmanager = PassManager()\n",
      "qc = passmanager.run(qc)\n",
      "# SECTION\n",
      "# NAME: OPTIMIZATION_LEVEL\n",
      "from qiskit import transpile\n",
      "qc = transpile(qc, basis_gates=['cx', 'h', 's', 't'], optimization_level=0)\n",
      "\n"
     ]
    }
   ],
   "source": [
    "morph, kwargs = get_mr_function_and_kwargs(config, metamorphic_strategy=\"change_basis\")\n",
    "print(morph(\"\"\"\n",
    "# SECTION\n",
    "# NAME: OPTIMIZATION_PASSES\n",
    "\n",
    "from qiskit.transpiler import PassManager\n",
    "from qiskit.transpiler.passes import *\n",
    "passmanager = PassManager()\n",
    "qc = passmanager.run(qc)\n",
    "\n",
    "# SECTION\n",
    "# NAME: OPTIMIZATION_LEVEL\n",
    "\n",
    "from qiskit import transpile\n",
    "qc = transpile(qc, basis_gates=None, optimization_level=0)\n",
    "\"\"\", **kwargs)[0])"
   ]
  },
  {
   "cell_type": "markdown",
   "id": "9695dfd6",
   "metadata": {},
   "source": [
    "## Change Optimization Level"
   ]
  },
  {
   "cell_type": "code",
   "execution_count": 162,
   "id": "253677c3",
   "metadata": {
    "ExecuteTime": {
     "end_time": "2022-02-09T15:05:13.627294Z",
     "start_time": "2022-02-09T15:05:13.570505Z"
    }
   },
   "outputs": [
    {
     "name": "stdout",
     "output_type": "stream",
     "text": [
      "Follow: optimization level changed: 1 -> 3\n",
      "# SECTION\n",
      "# NAME: OPTIMIZATION_PASSES\n",
      "\n",
      "from qiskit.transpiler import PassManager\n",
      "from qiskit.transpiler.passes import *\n",
      "passmanager = PassManager()\n",
      "qc = passmanager.run(qc)\n",
      "# SECTION\n",
      "# NAME: OPTIMIZATION_LEVEL\n",
      "from qiskit import transpile\n",
      "qc = transpile(qc, basis_gates=3, optimization_level=1)\n",
      "\n"
     ]
    }
   ],
   "source": [
    "morph, kwargs = get_mr_function_and_kwargs(config, metamorphic_strategy=\"change_opt_level\")\n",
    "\n",
    "np.random.seed(42)\n",
    "print(morph(\"\"\"\n",
    "# SECTION\n",
    "# NAME: OPTIMIZATION_PASSES\n",
    "\n",
    "from qiskit.transpiler import PassManager\n",
    "from qiskit.transpiler.passes import *\n",
    "passmanager = PassManager()\n",
    "qc = passmanager.run(qc)\n",
    "\n",
    "# SECTION\n",
    "# NAME: OPTIMIZATION_LEVEL\n",
    "\n",
    "from qiskit import transpile\n",
    "qc = transpile(qc, basis_gates=None, optimization_level=1)\n",
    "\"\"\", **kwargs)[0])"
   ]
  },
  {
   "cell_type": "markdown",
   "id": "786af06f",
   "metadata": {
    "ExecuteTime": {
     "end_time": "2022-02-09T09:59:02.220769Z",
     "start_time": "2022-02-09T09:59:02.166852Z"
    }
   },
   "source": [
    "## Change Qubit Order"
   ]
  },
  {
   "cell_type": "code",
   "execution_count": 12,
   "id": "01cdf4f7",
   "metadata": {
    "ExecuteTime": {
     "end_time": "2022-02-09T10:50:35.647237Z",
     "start_time": "2022-02-09T10:50:35.592141Z"
    }
   },
   "outputs": [
    {
     "name": "stdout",
     "output_type": "stream",
     "text": [
      "Module(\n",
      "    body=[\n",
      "        Assign(\n",
      "            lineno=2,\n",
      "            col_offset=0,\n",
      "            end_lineno=2,\n",
      "            end_col_offset=41,\n",
      "            targets=[Name(lineno=2, col_offset=0, end_lineno=2, end_col_offset=5, id='qr_qr', ctx=Store())],\n",
      "            value=Call(\n",
      "                lineno=2,\n",
      "                col_offset=8,\n",
      "                end_lineno=2,\n",
      "                end_col_offset=41,\n",
      "                func=Name(lineno=2, col_offset=8, end_lineno=2, end_col_offset=23, id='QuantumRegister', ctx=Load()),\n",
      "                args=[Constant(lineno=2, col_offset=24, end_lineno=2, end_col_offset=26, value=16, kind=None)],\n",
      "                keywords=[\n",
      "                    keyword(\n",
      "                        arg='name',\n",
      "                        value=Constant(lineno=2, col_offset=33, end_lineno=2, end_col_offset=40, value='qr_qr', kind=None),\n",
      "                    ),\n",
      "                ],\n",
      "            ),\n",
      "            type_comment=None,\n",
      "        ),\n",
      "        Assign(\n",
      "            lineno=3,\n",
      "            col_offset=0,\n",
      "            end_lineno=3,\n",
      "            end_col_offset=43,\n",
      "            targets=[Name(lineno=3, col_offset=0, end_lineno=3, end_col_offset=5, id='cr_qr', ctx=Store())],\n",
      "            value=Call(\n",
      "                lineno=3,\n",
      "                col_offset=8,\n",
      "                end_lineno=3,\n",
      "                end_col_offset=43,\n",
      "                func=Name(lineno=3, col_offset=8, end_lineno=3, end_col_offset=25, id='ClassicalRegister', ctx=Load()),\n",
      "                args=[Constant(lineno=3, col_offset=26, end_lineno=3, end_col_offset=28, value=16, kind=None)],\n",
      "                keywords=[\n",
      "                    keyword(\n",
      "                        arg='name',\n",
      "                        value=Constant(lineno=3, col_offset=35, end_lineno=3, end_col_offset=42, value='cr_qr', kind=None),\n",
      "                    ),\n",
      "                ],\n",
      "            ),\n",
      "            type_comment=None,\n",
      "        ),\n",
      "        Assign(\n",
      "            lineno=4,\n",
      "            col_offset=0,\n",
      "            end_lineno=4,\n",
      "            end_col_offset=44,\n",
      "            targets=[Name(lineno=4, col_offset=0, end_lineno=4, end_col_offset=2, id='qc', ctx=Store())],\n",
      "            value=Call(\n",
      "                lineno=4,\n",
      "                col_offset=5,\n",
      "                end_lineno=4,\n",
      "                end_col_offset=44,\n",
      "                func=Name(lineno=4, col_offset=5, end_lineno=4, end_col_offset=19, id='QuantumCircuit', ctx=Load()),\n",
      "                args=[\n",
      "                    Name(lineno=4, col_offset=20, end_lineno=4, end_col_offset=25, id='qr_qr', ctx=Load()),\n",
      "                    Name(lineno=4, col_offset=27, end_lineno=4, end_col_offset=32, id='cr_qr', ctx=Load()),\n",
      "                ],\n",
      "                keywords=[\n",
      "                    keyword(\n",
      "                        arg='name',\n",
      "                        value=Constant(lineno=4, col_offset=39, end_lineno=4, end_col_offset=43, value='qc', kind=None),\n",
      "                    ),\n",
      "                ],\n",
      "            ),\n",
      "            type_comment=None,\n",
      "        ),\n",
      "        Expr(\n",
      "            lineno=5,\n",
      "            col_offset=0,\n",
      "            end_lineno=5,\n",
      "            end_col_offset=96,\n",
      "            value=Call(\n",
      "                lineno=5,\n",
      "                col_offset=0,\n",
      "                end_lineno=5,\n",
      "                end_col_offset=96,\n",
      "                func=Attribute(\n",
      "                    lineno=5,\n",
      "                    col_offset=0,\n",
      "                    end_lineno=5,\n",
      "                    end_col_offset=9,\n",
      "                    value=Name(lineno=5, col_offset=0, end_lineno=5, end_col_offset=2, id='qc', ctx=Load()),\n",
      "                    attr='append',\n",
      "                    ctx=Load(),\n",
      "                ),\n",
      "                args=[\n",
      "                    Call(\n",
      "                        lineno=5,\n",
      "                        col_offset=10,\n",
      "                        end_lineno=5,\n",
      "                        end_col_offset=36,\n",
      "                        func=Name(lineno=5, col_offset=10, end_lineno=5, end_col_offset=17, id='C3XGate', ctx=Load()),\n",
      "                        args=[Constant(lineno=5, col_offset=18, end_lineno=5, end_col_offset=35, value=3.907524998275438, kind=None)],\n",
      "                        keywords=[],\n",
      "                    ),\n",
      "                ],\n",
      "                keywords=[\n",
      "                    keyword(\n",
      "                        arg='qargs',\n",
      "                        value=List(\n",
      "                            lineno=5,\n",
      "                            col_offset=44,\n",
      "                            end_lineno=5,\n",
      "                            end_col_offset=85,\n",
      "                            elts=[\n",
      "                                Subscript(\n",
      "                                    lineno=5,\n",
      "                                    col_offset=45,\n",
      "                                    end_lineno=5,\n",
      "                                    end_col_offset=54,\n",
      "                                    value=Name(lineno=5, col_offset=45, end_lineno=5, end_col_offset=50, id='qr_qr', ctx=Load()),\n",
      "                                    slice=Index(\n",
      "                                        value=Constant(lineno=5, col_offset=51, end_lineno=5, end_col_offset=53, value=11, kind=None),\n",
      "                                    ),\n",
      "                                    ctx=Load(),\n",
      "                                ),\n",
      "                                Subscript(\n",
      "                                    lineno=5,\n",
      "                                    col_offset=56,\n",
      "                                    end_lineno=5,\n",
      "                                    end_col_offset=64,\n",
      "                                    value=Name(lineno=5, col_offset=56, end_lineno=5, end_col_offset=61, id='qr_qr', ctx=Load()),\n",
      "                                    slice=Index(\n",
      "                                        value=Constant(lineno=5, col_offset=62, end_lineno=5, end_col_offset=63, value=8, kind=None),\n",
      "                                    ),\n",
      "                                    ctx=Load(),\n",
      "                                ),\n",
      "                                Subscript(\n",
      "                                    lineno=5,\n",
      "                                    col_offset=66,\n",
      "                                    end_lineno=5,\n",
      "                                    end_col_offset=74,\n",
      "                                    value=Name(lineno=5, col_offset=66, end_lineno=5, end_col_offset=71, id='qr_qr', ctx=Load()),\n",
      "                                    slice=Index(\n",
      "                                        value=Constant(lineno=5, col_offset=72, end_lineno=5, end_col_offset=73, value=7, kind=None),\n",
      "                                    ),\n",
      "                                    ctx=Load(),\n",
      "                                ),\n",
      "                                Subscript(\n",
      "                                    lineno=5,\n",
      "                                    col_offset=76,\n",
      "                                    end_lineno=5,\n",
      "                                    end_col_offset=84,\n",
      "                                    value=Name(lineno=5, col_offset=76, end_lineno=5, end_col_offset=81, id='qr_qr', ctx=Load()),\n",
      "                                    slice=Index(\n",
      "                                        value=Constant(lineno=5, col_offset=82, end_lineno=5, end_col_offset=83, value=0, kind=None),\n",
      "                                    ),\n",
      "                                    ctx=Load(),\n",
      "                                ),\n",
      "                            ],\n",
      "                            ctx=Load(),\n",
      "                        ),\n",
      "                    ),\n",
      "                    keyword(\n",
      "                        arg='cargs',\n",
      "                        value=List(lineno=5, col_offset=93, end_lineno=5, end_col_offset=95, elts=[], ctx=Load()),\n",
      "                    ),\n",
      "                ],\n",
      "            ),\n",
      "        ),\n",
      "    ],\n",
      "    type_ignores=[],\n",
      ")\n"
     ]
    }
   ],
   "source": [
    "show_tree(\"\"\"\n",
    "qr_qr = QuantumRegister(16, name='qr_qr')\n",
    "cr_qr = ClassicalRegister(16, name='cr_qr')\n",
    "qc = QuantumCircuit(qr_qr, cr_qr, name='qc')\n",
    "qc.append(C3XGate(3.907524998275438), qargs=[qr_qr[11], qr_qr[8], qr_qr[7], qr_qr[0]], cargs=[])\n",
    "\"\"\")"
   ]
  },
  {
   "cell_type": "code",
   "execution_count": 17,
   "id": "6ed85bb3",
   "metadata": {
    "ExecuteTime": {
     "end_time": "2022-02-09T11:06:27.702180Z",
     "start_time": "2022-02-09T11:06:27.629233Z"
    }
   },
   "outputs": [
    {
     "name": "stdout",
     "output_type": "stream",
     "text": [
      "Follow: indices mapping:  {13: 1, 1: 13, 11: 0, 3: 12, 6: 11, 0: 2, 12: 3, 2: 6}\n",
      "# SECTION\n",
      "# NAME: PROLOGUE\n",
      "\n",
      "import qiskit\n",
      "from qiskit import QuantumCircuit, ClassicalRegister, QuantumRegister\n",
      "from qiskit.circuit.library.standard_gates import *\n",
      "# SECTION\n",
      "# NAME: CIRCUIT\n",
      "qr_qr = QuantumRegister(16, name='qr_qr')\n",
      "cr_qr = ClassicalRegister(16, name='cr_qr')\n",
      "qc = QuantumCircuit(qr_qr, cr_qr, name='qc')\n",
      "qc.append(C3XGate(3.907524998275438), qargs=[qr_qr[0], qr_qr[8], qr_qr[7],\n",
      "    qr_qr[2]], cargs=[])\n",
      "qc.append(RC3XGate(), qargs=[qr_qr[8], qr_qr[15], qr_qr[5], qr_qr[14]],\n",
      "    cargs=[])\n",
      "qc.append(CHGate(), qargs=[qr_qr[10], qr_qr[15]], cargs=[])\n",
      "qc.append(CU1Gate(4.818142106647685), qargs=[qr_qr[2], qr_qr[11]], cargs=[])\n",
      "qc.append(RYGate(1.0309627158294603), qargs=[qr_qr[4]], cargs=[])\n",
      "qc.append(CU1Gate(5.752429763184833), qargs=[qr_qr[8], qr_qr[3]], cargs=[])\n",
      "qc.append(CRZGate(2.729319301936734), qargs=[qr_qr[15], qr_qr[7]], cargs=[])\n",
      "qc.append(CUGate(1.7865204421912357, 2.217990729902729, 5.83693248435634, \n",
      "    2.9917879555121014), qargs=[qr_qr[13], qr_qr[2]], cargs=[])\n",
      "qc.append(PhaseGate(2.924195801896616), qargs=[qr_qr[1]], cargs=[])\n",
      "qc.append(SwapGate(), qargs=[qr_qr[3], qr_qr[12]], cargs=[])\n",
      "qc.append(PhaseGate(3.5869222695753247), qargs=[qr_qr[7]], cargs=[])\n",
      "qc.append(CRYGate(0.5425198941315491), qargs=[qr_qr[10], qr_qr[9]], cargs=[])\n",
      "qc.append(CRZGate(2.6246855324310436), qargs=[qr_qr[9], qr_qr[5]], cargs=[])\n",
      "qc.append(RZGate(3.5664487201467474), qargs=[qr_qr[10]], cargs=[])\n",
      "qc.append(C3XGate(5.123156258149011), qargs=[qr_qr[9], qr_qr[8], qr_qr[1],\n",
      "    qr_qr[6]], cargs=[])\n",
      "qc.append(RZGate(4.063125348530302), qargs=[qr_qr[12]], cargs=[])\n",
      "qc.append(RYGate(5.596839547865737), qargs=[qr_qr[6]], cargs=[])\n",
      "qc.append(CRYGate(3.107299163630677), qargs=[qr_qr[4], qr_qr[5]], cargs=[])\n",
      "qc.append(CHGate(), qargs=[qr_qr[14], qr_qr[2]], cargs=[])\n",
      "qc.append(CRXGate(1.5360054846340931), qargs=[qr_qr[11], qr_qr[0]], cargs=[])\n",
      "qc.append(PhaseGate(1.8699138522602958), qargs=[qr_qr[11]], cargs=[])\n",
      "qc.append(SwapGate(), qargs=[qr_qr[6], qr_qr[15]], cargs=[])\n",
      "qc.append(CRZGate(1.4596411939138862), qargs=[qr_qr[12], qr_qr[13]], cargs=[])\n",
      "qc.append(CU1Gate(2.0594298214588345), qargs=[qr_qr[2], qr_qr[11]], cargs=[])\n",
      "qc.append(YGate(), qargs=[qr_qr[6]], cargs=[])\n",
      "qc.append(CUGate(1.736098146392435, 0.3890656207668619, 2.9043239431659917,\n",
      "    1.346317026764786), qargs=[qr_qr[3], qr_qr[1]], cargs=[])\n",
      "qc.append(TGate(), qargs=[qr_qr[14]], cargs=[])\n",
      "qc.append(RYGate(4.549942261513976), qargs=[qr_qr[2]], cargs=[])\n",
      "qc.append(iSwapGate(), qargs=[qr_qr[5], qr_qr[1]], cargs=[])\n",
      "qc.append(C3XGate(3.5495149923548728), qargs=[qr_qr[3], qr_qr[14], qr_qr[9],\n",
      "    qr_qr[7]], cargs=[])\n",
      "# SECTION\n",
      "# NAME: OPTIMIZATION_PASSES\n",
      "\n",
      "from qiskit.transpiler import PassManager\n",
      "from qiskit.transpiler.passes import *\n",
      "passmanager = PassManager()\n",
      "qc = passmanager.run(qc)\n",
      "# SECTION\n",
      "# NAME: OPTIMIZATION_LEVEL\n",
      "\n",
      "from qiskit import transpile\n",
      "qc = transpile(qc, basis_gates=['tdggate', 'sxdggate', 'chgate', 'rzgate', 'phasegate'], optimization_level=0)\n",
      "# SECTION\n",
      "# NAME: MEASUREMENT\n",
      "\n",
      "qc.measure(qr_qr, cr_qr)\n",
      "# SECTION\n",
      "# NAME: EXECUTION\n",
      "\n",
      "from qiskit import Aer, transpile, execute\n",
      "backend_efb784840b7d41c9b4f9139f73da3c40 = Aer.get_backend('qasm_simulator')\n",
      "counts = execute(qc, backend=backend_efb784840b7d41c9b4f9139f73da3c40, shots=44340).result().get_counts(qc)\n",
      "\n",
      "def read_str_with_mapping(bitstring: str, direct_mapping: Dict[int, int]):\n",
      "    \"\"\"Given a bitstring convert it to the original mapping.\"\"\"\n",
      "    n_bits = len(bitstring)\n",
      "    return \"\".join([bitstring[direct_mapping[i]] for i in range(n_bits)])\n",
      "    \n",
      "counts = {\n",
      "    read_str_with_mapping(bitstring, {13: 1, 1: 13, 11: 0, 3: 12, 6: 11, 0: 2, 12: 3, 2: 6}): freq\n",
      "    for bitstring, freq in counts.items()\n",
      "}\n",
      "RESULT = counts\n",
      "    \n",
      "\n"
     ]
    }
   ],
   "source": [
    "morph, kwargs = get_mr_function_and_kwargs(config, metamorphic_strategy=\"change_qubit_order\")\n",
    "print(morph(\"\"\"\n",
    "# SECTION\n",
    "# NAME: PROLOGUE\n",
    "\n",
    "import qiskit\n",
    "from qiskit import QuantumCircuit, ClassicalRegister, QuantumRegister\n",
    "from qiskit.circuit.library.standard_gates import *\n",
    "\n",
    "# SECTION\n",
    "# NAME: CIRCUIT\n",
    "\n",
    "qr_qr = QuantumRegister(16, name='qr_qr')\n",
    "cr_qr = ClassicalRegister(16, name='cr_qr')\n",
    "qc = QuantumCircuit(qr_qr, cr_qr, name='qc')\n",
    "qc.append(C3XGate(3.907524998275438), qargs=[qr_qr[11], qr_qr[8], qr_qr[7], qr_qr[0]], cargs=[])\n",
    "qc.append(RC3XGate(), qargs=[qr_qr[8], qr_qr[15], qr_qr[5], qr_qr[14]], cargs=[])\n",
    "qc.append(CHGate(), qargs=[qr_qr[10], qr_qr[15]], cargs=[])\n",
    "qc.append(CU1Gate(4.818142106647685), qargs=[qr_qr[0], qr_qr[6]], cargs=[])\n",
    "qc.append(RYGate(1.0309627158294603), qargs=[qr_qr[4]], cargs=[])\n",
    "qc.append(CU1Gate(5.752429763184833), qargs=[qr_qr[8], qr_qr[12]], cargs=[])\n",
    "qc.append(CRZGate(2.729319301936734), qargs=[qr_qr[15], qr_qr[7]], cargs=[])\n",
    "qc.append(CUGate(1.7865204421912357,2.217990729902729,5.83693248435634,2.9917879555121014), qargs=[qr_qr[1], qr_qr[0]], cargs=[])\n",
    "qc.append(PhaseGate(2.924195801896616), qargs=[qr_qr[13]], cargs=[])\n",
    "qc.append(SwapGate(), qargs=[qr_qr[12], qr_qr[3]], cargs=[])\n",
    "qc.append(PhaseGate(3.5869222695753247), qargs=[qr_qr[7]], cargs=[])\n",
    "qc.append(CRYGate(0.5425198941315491), qargs=[qr_qr[10], qr_qr[9]], cargs=[])\n",
    "qc.append(CRZGate(2.6246855324310436), qargs=[qr_qr[9], qr_qr[5]], cargs=[])\n",
    "qc.append(RZGate(3.5664487201467474), qargs=[qr_qr[10]], cargs=[])\n",
    "qc.append(C3XGate(5.123156258149011), qargs=[qr_qr[9], qr_qr[8], qr_qr[13], qr_qr[2]], cargs=[])\n",
    "qc.append(RZGate(4.063125348530302), qargs=[qr_qr[3]], cargs=[])\n",
    "qc.append(RYGate(5.596839547865737), qargs=[qr_qr[2]], cargs=[])\n",
    "qc.append(CRYGate(3.107299163630677), qargs=[qr_qr[4], qr_qr[5]], cargs=[])\n",
    "qc.append(CHGate(), qargs=[qr_qr[14], qr_qr[0]], cargs=[])\n",
    "qc.append(CRXGate(1.5360054846340931), qargs=[qr_qr[6], qr_qr[11]], cargs=[])\n",
    "qc.append(PhaseGate(1.8699138522602958), qargs=[qr_qr[6]], cargs=[])\n",
    "qc.append(SwapGate(), qargs=[qr_qr[2], qr_qr[15]], cargs=[])\n",
    "qc.append(CRZGate(1.4596411939138862), qargs=[qr_qr[3], qr_qr[1]], cargs=[])\n",
    "qc.append(CU1Gate(2.0594298214588345), qargs=[qr_qr[0], qr_qr[6]], cargs=[])\n",
    "qc.append(YGate(), qargs=[qr_qr[2]], cargs=[])\n",
    "qc.append(CUGate(1.736098146392435,0.3890656207668619,2.9043239431659917,1.346317026764786), qargs=[qr_qr[12], qr_qr[13]], cargs=[])\n",
    "qc.append(TGate(), qargs=[qr_qr[14]], cargs=[])\n",
    "qc.append(RYGate(4.549942261513976), qargs=[qr_qr[0]], cargs=[])\n",
    "qc.append(iSwapGate(), qargs=[qr_qr[5], qr_qr[13]], cargs=[])\n",
    "qc.append(C3XGate(3.5495149923548728), qargs=[qr_qr[12], qr_qr[14], qr_qr[9], qr_qr[7]], cargs=[])\n",
    "\n",
    "\n",
    "# SECTION\n",
    "# NAME: OPTIMIZATION_PASSES\n",
    "\n",
    "from qiskit.transpiler import PassManager\n",
    "from qiskit.transpiler.passes import *\n",
    "passmanager = PassManager()\n",
    "qc = passmanager.run(qc)\n",
    "\n",
    "# SECTION\n",
    "# NAME: OPTIMIZATION_LEVEL\n",
    "\n",
    "from qiskit import transpile\n",
    "qc = transpile(qc, basis_gates=['tdggate', 'sxdggate', 'chgate', 'rzgate', 'phasegate'], optimization_level=0)\n",
    "\n",
    "# SECTION\n",
    "# NAME: MEASUREMENT\n",
    "\n",
    "qc.measure(qr_qr, cr_qr)\n",
    "\n",
    "# SECTION\n",
    "# NAME: EXECUTION\n",
    "\n",
    "from qiskit import Aer, transpile, execute\n",
    "backend_efb784840b7d41c9b4f9139f73da3c40 = Aer.get_backend('qasm_simulator')\n",
    "counts = execute(qc, backend=backend_efb784840b7d41c9b4f9139f73da3c40, shots=44340).result().get_counts(qc)\n",
    "RESULT = counts\n",
    "\n",
    "\"\"\", **kwargs)[0])"
   ]
  },
  {
   "cell_type": "markdown",
   "id": "730d18a6",
   "metadata": {},
   "source": [
    "## How to use unitary"
   ]
  },
  {
   "cell_type": "code",
   "execution_count": 125,
   "id": "37d7cd4c",
   "metadata": {
    "ExecuteTime": {
     "end_time": "2022-02-09T13:54:36.712609Z",
     "start_time": "2022-02-09T13:54:36.607417Z"
    },
    "scrolled": true
   },
   "outputs": [
    {
     "name": "stdout",
     "output_type": "stream",
     "text": [
      "[0.00000000e+00+0.00000000e+00j 0.00000000e+00+0.00000000e+00j\n",
      " 0.00000000e+00+0.00000000e+00j 0.00000000e+00+0.00000000e+00j\n",
      " 0.00000000e+00+0.00000000e+00j 0.00000000e+00+0.00000000e+00j\n",
      " 1.71008777e-17-1.00000000e+00j 8.51765664e-17+1.01465364e-17j]\n"
     ]
    },
    {
     "data": {
      "text/plain": [
       "array([0.00000000e+00, 0.00000000e+00, 0.00000000e+00, 0.00000000e+00,\n",
       "       0.00000000e+00, 0.00000000e+00, 1.00000000e+00, 7.35799967e-33])"
      ]
     },
     "execution_count": 125,
     "metadata": {},
     "output_type": "execute_result"
    }
   ],
   "source": [
    "q = QuantumRegister(3)\n",
    "qc = QuantumCircuit(q)\n",
    "\n",
    "_id = np.eye(2, 2)\n",
    "_not = np.matrix([[0, 1], [1, 0]])\n",
    "squs = [_id, _not, _id, _not]\n",
    "\n",
    "qc.uc(squs, q[1:], q[0])\n",
    "# Decompose the gate\n",
    "qc = transpile(qc, basis_gates=[\"u1\", \"u3\", \"u2\", \"cx\", \"id\"])\n",
    "# Simulate the decomposed gate\n",
    "simulator = Aer.get_backend(\"unitary_simulator\")\n",
    "result = execute(qc, simulator).result()\n",
    "unitary = result.get_unitary(qc)\n",
    "\n",
    "last_statevector = unitary[-1]\n",
    "\n",
    "print(last_statevector)\n",
    "proabilities = np.real(np.multiply(last_statevector, np.conjugate(last_statevector)))"
   ]
  },
  {
   "cell_type": "markdown",
   "id": "f21a82cf",
   "metadata": {},
   "source": [
    "## Manual Run"
   ]
  },
  {
   "cell_type": "markdown",
   "id": "46588648",
   "metadata": {},
   "source": [
    "### SOURCE"
   ]
  },
  {
   "cell_type": "code",
   "execution_count": 205,
   "id": "f57feda3",
   "metadata": {
    "ExecuteTime": {
     "end_time": "2022-02-09T15:25:15.137374Z",
     "start_time": "2022-02-09T15:25:15.082482Z"
    }
   },
   "outputs": [],
   "source": [
    "# ID: qmt_v01 d51ec01569ed4b89a52aa79d7ba57331"
   ]
  },
  {
   "cell_type": "code",
   "execution_count": 198,
   "id": "8d5ef436",
   "metadata": {
    "ExecuteTime": {
     "end_time": "2022-02-09T15:22:26.804573Z",
     "start_time": "2022-02-09T15:22:26.732401Z"
    }
   },
   "outputs": [
    {
     "data": {
      "text/html": [
       "<pre style=\"word-wrap: normal;white-space: pre;background: #fff0;line-height: 1.1;font-family: &quot;Courier New&quot;,Courier,monospace\">                                                  ┌─┐   \n",
       " qr_qr_0: ───────────────────────X────────────────┤M├───\n",
       "                          ┌─┐    │                └╥┘   \n",
       " qr_qr_1: ────────────────┤M├────┼─────────────────╫────\n",
       "          ┌──────────────┐└╥┘    │             ┌─┐ ║    \n",
       " qr_qr_2: ┤0             ├─╫─────┼─────────────┤M├─╫────\n",
       "          │              │ ║ ┌─┐ │             └╥┘ ║    \n",
       " qr_qr_3: ┤  Rxx(1.2143) ├─╫─┤M├─┼──────────────╫──╫────\n",
       "          │              │ ║ └╥┘ │              ║  ║ ┌─┐\n",
       " qr_qr_4: ┤1             ├─╫──╫──X──────────────╫──╫─┤M├\n",
       "          └─────┬─┬──────┘ ║  ║                 ║  ║ └╥┘\n",
       " qr_qr_5: ──────┤M├────────╫──╫─────────────────╫──╫──╫─\n",
       "                └╥┘        ║  ║ ┌─┐             ║  ║  ║ \n",
       " qr_qr_6: ───────╫─────────╫──╫─┤M├─────────────╫──╫──╫─\n",
       "                 ║         ║  ║ └╥┘┌─┐          ║  ║  ║ \n",
       " qr_qr_7: ───────╫─────────╫──╫──╫─┤M├──────────╫──╫──╫─\n",
       "                 ║         ║  ║  ║ └╥┘┌─┐       ║  ║  ║ \n",
       " qr_qr_8: ───────╫─────────╫──╫──╫──╫─┤M├───────╫──╫──╫─\n",
       "                 ║         ║  ║  ║  ║ └╥┘┌─┐    ║  ║  ║ \n",
       " qr_qr_9: ───────╫─────────╫──╫──╫──╫──╫─┤M├────╫──╫──╫─\n",
       "                 ║         ║  ║  ║  ║  ║ └╥┘┌─┐ ║  ║  ║ \n",
       "qr_qr_10: ───────╫─────────╫──╫──╫──╫──╫──╫─┤M├─╫──╫──╫─\n",
       "                 ║         ║  ║  ║  ║  ║  ║ └╥┘ ║  ║  ║ \n",
       "cr_qr: 11/═══════╩═════════╩══╩══╩══╩══╩══╩══╩══╩══╩══╩═\n",
       "                 5         1  3  6  7  8  9  10 2  0  4 </pre>"
      ],
      "text/plain": [
       "                                                  ┌─┐   \n",
       " qr_qr_0: ───────────────────────X────────────────┤M├───\n",
       "                          ┌─┐    │                └╥┘   \n",
       " qr_qr_1: ────────────────┤M├────┼─────────────────╫────\n",
       "          ┌──────────────┐└╥┘    │             ┌─┐ ║    \n",
       " qr_qr_2: ┤0             ├─╫─────┼─────────────┤M├─╫────\n",
       "          │              │ ║ ┌─┐ │             └╥┘ ║    \n",
       " qr_qr_3: ┤  Rxx(1.2143) ├─╫─┤M├─┼──────────────╫──╫────\n",
       "          │              │ ║ └╥┘ │              ║  ║ ┌─┐\n",
       " qr_qr_4: ┤1             ├─╫──╫──X──────────────╫──╫─┤M├\n",
       "          └─────┬─┬──────┘ ║  ║                 ║  ║ └╥┘\n",
       " qr_qr_5: ──────┤M├────────╫──╫─────────────────╫──╫──╫─\n",
       "                └╥┘        ║  ║ ┌─┐             ║  ║  ║ \n",
       " qr_qr_6: ───────╫─────────╫──╫─┤M├─────────────╫──╫──╫─\n",
       "                 ║         ║  ║ └╥┘┌─┐          ║  ║  ║ \n",
       " qr_qr_7: ───────╫─────────╫──╫──╫─┤M├──────────╫──╫──╫─\n",
       "                 ║         ║  ║  ║ └╥┘┌─┐       ║  ║  ║ \n",
       " qr_qr_8: ───────╫─────────╫──╫──╫──╫─┤M├───────╫──╫──╫─\n",
       "                 ║         ║  ║  ║  ║ └╥┘┌─┐    ║  ║  ║ \n",
       " qr_qr_9: ───────╫─────────╫──╫──╫──╫──╫─┤M├────╫──╫──╫─\n",
       "                 ║         ║  ║  ║  ║  ║ └╥┘┌─┐ ║  ║  ║ \n",
       "qr_qr_10: ───────╫─────────╫──╫──╫──╫──╫──╫─┤M├─╫──╫──╫─\n",
       "                 ║         ║  ║  ║  ║  ║  ║ └╥┘ ║  ║  ║ \n",
       "cr_qr: 11/═══════╩═════════╩══╩══╩══╩══╩══╩══╩══╩══╩══╩═\n",
       "                 5         1  3  6  7  8  9  10 2  0  4 "
      ]
     },
     "execution_count": 198,
     "metadata": {},
     "output_type": "execute_result"
    }
   ],
   "source": [
    "\n",
    "# SECTION\n",
    "# NAME: PROLOGUE\n",
    "\n",
    "import qiskit\n",
    "from qiskit import QuantumCircuit, ClassicalRegister, QuantumRegister\n",
    "from qiskit.circuit.library.standard_gates import *\n",
    "\n",
    "# SECTION\n",
    "# NAME: CIRCUIT\n",
    "\n",
    "qr_qr = QuantumRegister(11, name='qr_qr')\n",
    "cr_qr = ClassicalRegister(11, name='cr_qr')\n",
    "qc = QuantumCircuit(qr_qr, cr_qr, name='qc')\n",
    "#qc.append(CCXGate(), qargs=[qr_qr[10], qr_qr[0], qr_qr[9]], cargs=[])\n",
    "qc.append(RXXGate(1.214286075933729), qargs=[qr_qr[2], qr_qr[4]], cargs=[])\n",
    "#qc.append(RZZGate(1.5279295607940084), qargs=[qr_qr[2], qr_qr[8]], cargs=[])\n",
    "qc.append(SwapGate(), qargs=[qr_qr[4], qr_qr[0]], cargs=[])\n",
    "#qc.append(SdgGate(), qargs=[qr_qr[6]], cargs=[])\n",
    "\n",
    "# SECTION\n",
    "# NAME: OPTIMIZATION_PASSES\n",
    "\n",
    "from qiskit.transpiler import PassManager\n",
    "from qiskit.transpiler.passes import *\n",
    "passmanager = PassManager()\n",
    "qc = passmanager.run(qc)\n",
    "\n",
    "# SECTION\n",
    "# NAME: OPTIMIZATION_LEVEL\n",
    "\n",
    "from qiskit import transpile\n",
    "qc = transpile(qc, basis_gates=None, optimization_level=0)\n",
    "\n",
    "# SECTION\n",
    "# NAME: MEASUREMENT\n",
    "\n",
    "qc.measure(qr_qr, cr_qr)\n",
    "qc.draw(fold=-1)"
   ]
  },
  {
   "cell_type": "code",
   "execution_count": 199,
   "id": "6f9c748b",
   "metadata": {
    "ExecuteTime": {
     "end_time": "2022-02-09T15:22:27.384922Z",
     "start_time": "2022-02-09T15:22:27.277640Z"
    }
   },
   "outputs": [
    {
     "data": {
      "text/plain": [
       "{'00000000101': 2591, '00000000000': 5247}"
      ]
     },
     "execution_count": 199,
     "metadata": {},
     "output_type": "execute_result"
    }
   ],
   "source": [
    "\n",
    "\n",
    "# SECTION\n",
    "# NAME: EXECUTION\n",
    "\n",
    "from qiskit import Aer, transpile, execute\n",
    "backend_6b172cc212eb423a8286969be00ac37f = Aer.get_backend('qasm_simulator')\n",
    "counts_source = execute(qc, backend=backend_6b172cc212eb423a8286969be00ac37f, shots=7838).result().get_counts(qc)\n",
    "counts_source"
   ]
  },
  {
   "cell_type": "markdown",
   "id": "fc719b71",
   "metadata": {},
   "source": [
    "### FOLLOW"
   ]
  },
  {
   "cell_type": "code",
   "execution_count": 200,
   "id": "57f83557",
   "metadata": {
    "ExecuteTime": {
     "end_time": "2022-02-09T15:22:28.369879Z",
     "start_time": "2022-02-09T15:22:28.289967Z"
    }
   },
   "outputs": [
    {
     "data": {
      "text/html": [
       "<pre style=\"word-wrap: normal;white-space: pre;background: #fff0;line-height: 1.1;font-family: &quot;Courier New&quot;,Courier,monospace\">                          ┌─┐                           \n",
       " qr_qr_0: ────────────────┤M├───────────────────────────\n",
       "                          └╥┘┌─┐                        \n",
       " qr_qr_1: ─────────────────╫─┤M├────────────────────────\n",
       "          ┌──────────────┐ ║ └╥┘                  ┌─┐   \n",
       " qr_qr_2: ┤0             ├─╫──╫───────────────────┤M├───\n",
       "          │              │ ║  ║ ┌─┐               └╥┘   \n",
       " qr_qr_3: ┤  Rxx(1.2143) ├─╫──╫─┤M├────────────────╫────\n",
       "          │              │ ║  ║ └╥┘                ║ ┌─┐\n",
       " qr_qr_4: ┤1             ├─╫──╫──╫─────────────────╫─┤M├\n",
       "          └─────┬─┬──────┘ ║  ║  ║                 ║ └╥┘\n",
       " qr_qr_5: ──────┤M├────────╫──╫──╫─────────────────╫──╫─\n",
       "                └╥┘        ║  ║  ║ ┌─┐             ║  ║ \n",
       " qr_qr_6: ───────╫─────────╫──╫──╫─┤M├─────────────╫──╫─\n",
       "                 ║         ║  ║  ║ └╥┘┌─┐          ║  ║ \n",
       " qr_qr_7: ───────╫─────────╫──╫──╫──╫─┤M├──────────╫──╫─\n",
       "                 ║         ║  ║  ║  ║ └╥┘┌─┐       ║  ║ \n",
       " qr_qr_8: ───────╫─────────╫──╫──╫──╫──╫─┤M├───────╫──╫─\n",
       "                 ║         ║  ║  ║  ║  ║ └╥┘┌─┐    ║  ║ \n",
       " qr_qr_9: ───────╫─────────╫──╫──╫──╫──╫──╫─┤M├────╫──╫─\n",
       "                 ║         ║  ║  ║  ║  ║  ║ └╥┘┌─┐ ║  ║ \n",
       "qr_qr_10: ───────╫─────────╫──╫──╫──╫──╫──╫──╫─┤M├─╫──╫─\n",
       "                 ║         ║  ║  ║  ║  ║  ║  ║ └╥┘ ║  ║ \n",
       "cr_qr: 11/═══════╩═════════╩══╩══╩══╩══╩══╩══╩══╩══╩══╩═\n",
       "                 5         0  1  3  6  7  8  9  10 2  4 </pre>"
      ],
      "text/plain": [
       "                          ┌─┐                           \n",
       " qr_qr_0: ────────────────┤M├───────────────────────────\n",
       "                          └╥┘┌─┐                        \n",
       " qr_qr_1: ─────────────────╫─┤M├────────────────────────\n",
       "          ┌──────────────┐ ║ └╥┘                  ┌─┐   \n",
       " qr_qr_2: ┤0             ├─╫──╫───────────────────┤M├───\n",
       "          │              │ ║  ║ ┌─┐               └╥┘   \n",
       " qr_qr_3: ┤  Rxx(1.2143) ├─╫──╫─┤M├────────────────╫────\n",
       "          │              │ ║  ║ └╥┘                ║ ┌─┐\n",
       " qr_qr_4: ┤1             ├─╫──╫──╫─────────────────╫─┤M├\n",
       "          └─────┬─┬──────┘ ║  ║  ║                 ║ └╥┘\n",
       " qr_qr_5: ──────┤M├────────╫──╫──╫─────────────────╫──╫─\n",
       "                └╥┘        ║  ║  ║ ┌─┐             ║  ║ \n",
       " qr_qr_6: ───────╫─────────╫──╫──╫─┤M├─────────────╫──╫─\n",
       "                 ║         ║  ║  ║ └╥┘┌─┐          ║  ║ \n",
       " qr_qr_7: ───────╫─────────╫──╫──╫──╫─┤M├──────────╫──╫─\n",
       "                 ║         ║  ║  ║  ║ └╥┘┌─┐       ║  ║ \n",
       " qr_qr_8: ───────╫─────────╫──╫──╫──╫──╫─┤M├───────╫──╫─\n",
       "                 ║         ║  ║  ║  ║  ║ └╥┘┌─┐    ║  ║ \n",
       " qr_qr_9: ───────╫─────────╫──╫──╫──╫──╫──╫─┤M├────╫──╫─\n",
       "                 ║         ║  ║  ║  ║  ║  ║ └╥┘┌─┐ ║  ║ \n",
       "qr_qr_10: ───────╫─────────╫──╫──╫──╫──╫──╫──╫─┤M├─╫──╫─\n",
       "                 ║         ║  ║  ║  ║  ║  ║  ║ └╥┘ ║  ║ \n",
       "cr_qr: 11/═══════╩═════════╩══╩══╩══╩══╩══╩══╩══╩══╩══╩═\n",
       "                 5         0  1  3  6  7  8  9  10 2  4 "
      ]
     },
     "execution_count": 200,
     "metadata": {},
     "output_type": "execute_result"
    }
   ],
   "source": [
    "# SECTION\n",
    "# NAME: PROLOGUE\n",
    "\n",
    "import qiskit\n",
    "from qiskit import QuantumCircuit, ClassicalRegister, QuantumRegister\n",
    "from qiskit.circuit.library.standard_gates import *\n",
    "# SECTION\n",
    "# NAME: CIRCUIT\n",
    "\n",
    "qr_qr = QuantumRegister(11, name='qr_qr')\n",
    "cr_qr = ClassicalRegister(11, name='cr_qr')\n",
    "qc = QuantumCircuit(qr_qr, cr_qr, name='qc')\n",
    "#qc.append(CCXGate(), qargs=[qr_qr[10], qr_qr[0], qr_qr[9]], cargs=[])\n",
    "qc.append(RXXGate(1.214286075933729), qargs=[qr_qr[2], qr_qr[4]], cargs=[])\n",
    "#qc.append(RZZGate(1.5279295607940084), qargs=[qr_qr[2], qr_qr[8]], cargs=[])\n",
    "qc.append(SwapGate(), qargs=[qr_qr[4], qr_qr[0]], cargs=[])\n",
    "#qc.append(SdgGate(), qargs=[qr_qr[6]], cargs=[])\n",
    "# SECTION\n",
    "# NAME: OPTIMIZATION_PASSES\n",
    "\n",
    "from qiskit.transpiler import PassManager\n",
    "from qiskit.transpiler.passes import *\n",
    "passmanager = PassManager()\n",
    "qc = passmanager.run(qc)\n",
    "# SECTION\n",
    "# NAME: OPTIMIZATION_LEVEL\n",
    "from qiskit import transpile\n",
    "qc = transpile(qc, basis_gates=None, optimization_level=3)\n",
    "# SECTION\n",
    "# NAME: MEASUREMENT\n",
    "\n",
    "qc.measure(qr_qr, cr_qr)\n",
    "qc.draw(fold=-1)"
   ]
  },
  {
   "cell_type": "code",
   "execution_count": 201,
   "id": "5a78ba27",
   "metadata": {
    "ExecuteTime": {
     "end_time": "2022-02-09T15:22:30.723498Z",
     "start_time": "2022-02-09T15:22:30.614976Z"
    }
   },
   "outputs": [
    {
     "data": {
      "text/plain": [
       "{'00000000000': 5319, '00000010100': 2519}"
      ]
     },
     "execution_count": 201,
     "metadata": {},
     "output_type": "execute_result"
    }
   ],
   "source": [
    "\n",
    "# SECTION\n",
    "# NAME: EXECUTION\n",
    "\n",
    "from qiskit import Aer, transpile, execute\n",
    "backend_6b172cc212eb423a8286969be00ac37f = Aer.get_backend('qasm_simulator')\n",
    "counts_follow = execute(qc, backend=backend_6b172cc212eb423a8286969be00ac37f, shots=7838).result().get_counts(qc)\n",
    "counts_follow\n"
   ]
  },
  {
   "cell_type": "code",
   "execution_count": 202,
   "id": "cb9fc4e7",
   "metadata": {
    "ExecuteTime": {
     "end_time": "2022-02-09T15:22:30.989141Z",
     "start_time": "2022-02-09T15:22:30.934687Z"
    }
   },
   "outputs": [
    {
     "data": {
      "text/plain": [
       "{'00000010100': 2519, '00000000000': 5319}"
      ]
     },
     "execution_count": 202,
     "metadata": {},
     "output_type": "execute_result"
    }
   ],
   "source": [
    "counts_follow\n",
    "{k: v for k, v in sorted(counts_follow.items(), key=lambda item: item[1])}"
   ]
  },
  {
   "cell_type": "code",
   "execution_count": 203,
   "id": "a4a8d195",
   "metadata": {
    "ExecuteTime": {
     "end_time": "2022-02-09T15:22:31.622801Z",
     "start_time": "2022-02-09T15:22:31.568684Z"
    },
    "scrolled": true
   },
   "outputs": [
    {
     "data": {
      "text/plain": [
       "{'00000000101': 2591, '00000000000': 5247}"
      ]
     },
     "execution_count": 203,
     "metadata": {},
     "output_type": "execute_result"
    }
   ],
   "source": [
    "counts_source\n",
    "{k: v for k, v in sorted(counts_source.items(), key=lambda item: item[1])}"
   ]
  },
  {
   "cell_type": "code",
   "execution_count": null,
   "id": "367ca1b8",
   "metadata": {},
   "outputs": [],
   "source": [
    "# SECTION\n",
    "# NAME: PROLOGUE\n",
    "\n",
    "import qiskit\n",
    "from qiskit import QuantumCircuit, ClassicalRegister, QuantumRegister\n",
    "from qiskit.circuit.library.standard_gates import *\n",
    "# SECTION\n",
    "# NAME: CIRCUIT\n",
    "\n",
    "qr_qr = QuantumRegister(3, name='qr_qr')\n",
    "cr_qr = ClassicalRegister(3, name='cr_qr')\n",
    "qc = QuantumCircuit(qr_qr, cr_qr, name='qc')\n",
    "qc.append(RCCXGate(), qargs=[qr_qr[1], qr_qr[0], qr_qr[2]], cargs=[])\n",
    "qc.append(TGate(), qargs=[qr_qr[2]], cargs=[])\n",
    "qc.append(IGate(), qargs=[qr_qr[0]], cargs=[])\n",
    "qc.append(ECRGate(), qargs=[qr_qr[2], qr_qr[1]], cargs=[])\n",
    "qc.append(TGate(), qargs=[qr_qr[2]], cargs=[])\n",
    "qc.append(UGate(0.9807528981981786, 2.567185003403143, 1.2508606990611186), qargs=[qr_qr[0]], cargs=[])\n",
    "qc.append(CSwapGate(), qargs=[qr_qr[0], qr_qr[2], qr_qr[1]], cargs=[])\n",
    "qc.append(RCCXGate(), qargs=[qr_qr[1], qr_qr[0], qr_qr[2]], cargs=[])\n",
    "qc.append(ECRGate(), qargs=[qr_qr[1], qr_qr[0]], cargs=[])\n",
    "qc.append(ECRGate(), qargs=[qr_qr[2], qr_qr[1]], cargs=[])\n",
    "qc.append(RYYGate(4.3059217797542395), qargs=[qr_qr[0], qr_qr[2]], cargs=[])\n",
    "qc.append(RXGate(1.385141564493705), qargs=[qr_qr[1]], cargs=[])\n",
    "qc.append(ECRGate(), qargs=[qr_qr[0], qr_qr[1]], cargs=[])\n",
    "qc.append(iSwapGate(), qargs=[qr_qr[0], qr_qr[2]], cargs=[])\n",
    "qc.append(RCCXGate(), qargs=[qr_qr[2], qr_qr[0], qr_qr[1]], cargs=[])\n",
    "qc.append(ECRGate(), qargs=[qr_qr[0], qr_qr[2]], cargs=[])\n",
    "qc.append(SGate(), qargs=[qr_qr[2]], cargs=[])\n",
    "qc.append(UGate(0.11393195140691285, 4.68908149414998, 0.18104047437188872), qargs=[qr_qr[0]], cargs=[])\n",
    "# SECTION\n",
    "# NAME: OPTIMIZATION_PASSES\n",
    "\n",
    "from qiskit.transpiler import PassManager\n",
    "from qiskit.transpiler.passes import *\n",
    "passmanager = PassManager()\n",
    "qc = passmanager.run(qc)\n",
    "# SECTION\n",
    "# NAME: OPTIMIZATION_LEVEL\n",
    "from qiskit import transpile\n",
    "qc = transpile(qc, basis_gates=None, optimization_level=1)\n",
    "# SECTION\n",
    "# NAME: MEASUREMENT\n",
    "\n",
    "qc.measure(qr_qr, cr_qr)\n",
    "# SECTION\n",
    "# NAME: EXECUTION\n",
    "\n",
    "from qiskit import Aer, transpile, execute\n",
    "backend_fccdde1d54a445c0a68091c036637e3c = Aer.get_backend('qasm_simulator')\n",
    "counts = execute(qc, backend=backend_fccdde1d54a445c0a68091c036637e3c, shots=489).result().get_counts(qc)\n",
    "RESULT = counts"
   ]
  },
  {
   "cell_type": "markdown",
   "id": "5f70b0a9",
   "metadata": {},
   "source": [
    "# READ SOURCE CODE"
   ]
  },
  {
   "cell_type": "code",
   "execution_count": 334,
   "id": "aca993fd",
   "metadata": {
    "ExecuteTime": {
     "end_time": "2022-02-09T17:39:19.008516Z",
     "start_time": "2022-02-09T17:39:18.957889Z"
    },
    "scrolled": true
   },
   "outputs": [
    {
     "name": "stdout",
     "output_type": "stream",
     "text": [
      "\n",
      "# SECTION\n",
      "# NAME: PROLOGUE\n",
      "\n",
      "import qiskit\n",
      "from qiskit import QuantumCircuit, ClassicalRegister, QuantumRegister\n",
      "from qiskit.circuit.library.standard_gates import *\n",
      "\n",
      "# SECTION\n",
      "# NAME: CIRCUIT\n",
      "\n",
      "qr_qr = QuantumRegister(3, name='qr_qr')\n",
      "cr_qr = ClassicalRegister(3, name='cr_qr')\n",
      "qc = QuantumCircuit(qr_qr, cr_qr, name='qc')\n",
      "qc.append(RCCXGate(), qargs=[qr_qr[1], qr_qr[0], qr_qr[2]], cargs=[])\n",
      "qc.append(TGate(), qargs=[qr_qr[2]], cargs=[])\n",
      "qc.append(IGate(), qargs=[qr_qr[0]], cargs=[])\n",
      "qc.append(ECRGate(), qargs=[qr_qr[2], qr_qr[1]], cargs=[])\n",
      "qc.append(TGate(), qargs=[qr_qr[2]], cargs=[])\n",
      "qc.append(UGate(0.9807528981981786,2.567185003403143,1.2508606990611186), qargs=[qr_qr[0]], cargs=[])\n",
      "qc.append(CSwapGate(), qargs=[qr_qr[0], qr_qr[2], qr_qr[1]], cargs=[])\n",
      "qc.append(RCCXGate(), qargs=[qr_qr[1], qr_qr[0], qr_qr[2]], cargs=[])\n",
      "qc.append(ECRGate(), qargs=[qr_qr[1], qr_qr[0]], cargs=[])\n",
      "qc.append(ECRGate(), qargs=[qr_qr[2], qr_qr[1]], cargs=[])\n",
      "qc.append(RYYGate(4.3059217797542395), qargs=[qr_qr[0], qr_qr[2]], cargs=[])\n",
      "qc.append(RXGate(1.385141564493705), qargs=[qr_qr[1]], cargs=[])\n",
      "\n",
      "# SECTION\n",
      "# NAME: OPTIMIZATION_PASSES\n",
      "\n",
      "from qiskit.transpiler import PassManager\n",
      "from qiskit.transpiler.passes import *\n",
      "passmanager = PassManager()\n",
      "qc = passmanager.run(qc)\n",
      "\n",
      "# SECTION\n",
      "# NAME: OPTIMIZATION_LEVEL\n",
      "\n",
      "from qiskit import transpile\n",
      "qc = transpile(qc, basis_gates=None, optimization_level=0)\n",
      "\n",
      "# SECTION\n",
      "# NAME: MEASUREMENT\n",
      "\n",
      "qc.measure(qr_qr, cr_qr)\n",
      "\n",
      "# SECTION\n",
      "# NAME: EXECUTION\n",
      "\n",
      "from qiskit import Aer, transpile, execute\n",
      "backend_d3ff37282d7e43d19cf389b7e5b42747 = Aer.get_backend('qasm_simulator')\n",
      "counts = execute(qc, backend=backend_d3ff37282d7e43d19cf389b7e5b42747, shots=489).result().get_counts(qc)\n",
      "RESULT = counts\n",
      "--------------------------------------------------------------------------------\n",
      "# SECTION\n",
      "# NAME: PROLOGUE\n",
      "\n",
      "import qiskit\n",
      "from qiskit import QuantumCircuit, ClassicalRegister, QuantumRegister\n",
      "from qiskit.circuit.library.standard_gates import *\n",
      "# SECTION\n",
      "# NAME: CIRCUIT\n",
      "\n",
      "qr_qr = QuantumRegister(3, name='qr_qr')\n",
      "cr_qr = ClassicalRegister(3, name='cr_qr')\n",
      "qc = QuantumCircuit(qr_qr, cr_qr, name='qc')\n",
      "qc.append(RCCXGate(), qargs=[qr_qr[1], qr_qr[0], qr_qr[2]], cargs=[])\n",
      "qc.append(TGate(), qargs=[qr_qr[2]], cargs=[])\n",
      "qc.append(IGate(), qargs=[qr_qr[0]], cargs=[])\n",
      "qc.append(ECRGate(), qargs=[qr_qr[2], qr_qr[1]], cargs=[])\n",
      "qc.append(TGate(), qargs=[qr_qr[2]], cargs=[])\n",
      "qc.append(UGate(0.9807528981981786, 2.567185003403143, 1.2508606990611186), qargs=[qr_qr[0]], cargs=[])\n",
      "qc.append(CSwapGate(), qargs=[qr_qr[0], qr_qr[2], qr_qr[1]], cargs=[])\n",
      "qc.append(RCCXGate(), qargs=[qr_qr[1], qr_qr[0], qr_qr[2]], cargs=[])\n",
      "qc.append(ECRGate(), qargs=[qr_qr[1], qr_qr[0]], cargs=[])\n",
      "qc.append(ECRGate(), qargs=[qr_qr[2], qr_qr[1]], cargs=[])\n",
      "qc.append(RYYGate(4.3059217797542395), qargs=[qr_qr[0], qr_qr[2]], cargs=[])\n",
      "qc.append(RXGate(1.385141564493705), qargs=[qr_qr[1]], cargs=[])\n",
      "# SECTION\n",
      "# NAME: OPTIMIZATION_PASSES\n",
      "\n",
      "from qiskit.transpiler import PassManager\n",
      "from qiskit.transpiler.passes import *\n",
      "passmanager = PassManager()\n",
      "qc = passmanager.run(qc)\n",
      "# SECTION\n",
      "# NAME: OPTIMIZATION_LEVEL\n",
      "from qiskit import transpile\n",
      "qc = transpile(qc, basis_gates=['rx', 'ry', 'rz', 'p', 'cx'],\n",
      "    optimization_level=0)\n",
      "# SECTION\n",
      "# NAME: MEASUREMENT\n",
      "\n",
      "qc.measure(qr_qr, cr_qr)\n",
      "# SECTION\n",
      "# NAME: EXECUTION\n",
      "\n",
      "from qiskit import Aer, transpile, execute\n",
      "backend_d3ff37282d7e43d19cf389b7e5b42747 = Aer.get_backend('qasm_simulator')\n",
      "counts = execute(qc, backend=backend_d3ff37282d7e43d19cf389b7e5b42747, shots=489).result().get_counts(qc)\n",
      "RESULT = counts\n",
      "\n"
     ]
    }
   ],
   "source": [
    "PROGRAM_ID = \"6e8363d301e44b0c833f51d6918af826\"\n",
    "PATH_SOURCE = os.path.join(config[\"experiment_folder\"], \"programs\", \"source\", f\"{PROGRAM_ID}.py\")\n",
    "print(open(PATH_SOURCE, 'r').read())\n",
    "print(\"-\" * 80)\n",
    "PATH_FOLLOWUP = os.path.join(config[\"experiment_folder\"], \"programs\", \"followup\", f\"{PROGRAM_ID}.py\")\n",
    "print(open(PATH_FOLLOWUP, 'r').read())"
   ]
  },
  {
   "cell_type": "markdown",
   "id": "fabc3ee9",
   "metadata": {},
   "source": [
    "# MINIMIZATION - SWAP"
   ]
  },
  {
   "cell_type": "markdown",
   "id": "c357b1bc",
   "metadata": {},
   "source": [
    "### SOURCE"
   ]
  },
  {
   "cell_type": "code",
   "execution_count": 205,
   "id": "67e3fe9e",
   "metadata": {
    "ExecuteTime": {
     "end_time": "2022-02-09T15:25:15.137374Z",
     "start_time": "2022-02-09T15:25:15.082482Z"
    }
   },
   "outputs": [],
   "source": [
    "# ID: qmt_v01 d51ec01569ed4b89a52aa79d7ba57331"
   ]
  },
  {
   "cell_type": "code",
   "execution_count": 387,
   "id": "27c1ee5d",
   "metadata": {
    "ExecuteTime": {
     "end_time": "2022-02-09T19:37:13.539268Z",
     "start_time": "2022-02-09T19:37:13.485952Z"
    }
   },
   "outputs": [
    {
     "data": {
      "text/html": [
       "<pre style=\"word-wrap: normal;white-space: pre;background: #fff0;line-height: 1.1;font-family: &quot;Courier New&quot;,Courier,monospace\">        ┌───┐    ░ ┌─┐      \n",
       "   q_0: ┤ X ├─X──░─┤M├──────\n",
       "        └───┘ │  ░ └╥┘┌─┐   \n",
       "   q_1: ──────X──░──╫─┤M├───\n",
       "                 ░  ║ └╥┘┌─┐\n",
       "   q_2: ─────────░──╫──╫─┤M├\n",
       "                 ░  ║  ║ └╥┘\n",
       "meas: 3/════════════╩══╩══╩═\n",
       "                    0  1  2 </pre>"
      ],
      "text/plain": [
       "        ┌───┐    ░ ┌─┐      \n",
       "   q_0: ┤ X ├─X──░─┤M├──────\n",
       "        └───┘ │  ░ └╥┘┌─┐   \n",
       "   q_1: ──────X──░──╫─┤M├───\n",
       "                 ░  ║ └╥┘┌─┐\n",
       "   q_2: ─────────░──╫──╫─┤M├\n",
       "                 ░  ║  ║ └╥┘\n",
       "meas: 3/════════════╩══╩══╩═\n",
       "                    0  1  2 "
      ]
     },
     "execution_count": 387,
     "metadata": {},
     "output_type": "execute_result"
    }
   ],
   "source": [
    "from qiskit import QuantumCircuit, transpile, Aer, execute\n",
    "from qiskit.circuit.library.standard_gates import *\n",
    "qc = QuantumCircuit(3)\n",
    "qc.x(0)\n",
    "qc.swap(0,1)\n",
    "qc = transpile(qc, optimization_level=0)\n",
    "qc.measure_all()\n",
    "qc.draw(fold=-1)"
   ]
  },
  {
   "cell_type": "code",
   "execution_count": 388,
   "id": "ab25fd02",
   "metadata": {
    "ExecuteTime": {
     "end_time": "2022-02-09T19:37:16.887548Z",
     "start_time": "2022-02-09T19:37:16.816931Z"
    }
   },
   "outputs": [
    {
     "data": {
      "text/plain": [
       "{'010': 1024}"
      ]
     },
     "execution_count": 388,
     "metadata": {},
     "output_type": "execute_result"
    }
   ],
   "source": [
    "counts = execute(qc, backend=Aer.get_backend('qasm_simulator'), shots=1024).result().get_counts(qc)\n",
    "counts"
   ]
  },
  {
   "cell_type": "markdown",
   "id": "97d341b5",
   "metadata": {},
   "source": [
    "### FOLLOW"
   ]
  },
  {
   "cell_type": "code",
   "execution_count": 389,
   "id": "8742c0da",
   "metadata": {
    "ExecuteTime": {
     "end_time": "2022-02-09T19:37:30.531424Z",
     "start_time": "2022-02-09T19:37:28.372916Z"
    }
   },
   "outputs": [
    {
     "name": "stdout",
     "output_type": "stream",
     "text": [
      "--Return--\n",
      "None\n",
      "> \u001b[0;32m/tmp/ipykernel_48930/3381773960.py\u001b[0m(7)\u001b[0;36m<module>\u001b[0;34m()\u001b[0m\n",
      "\u001b[0;32m      5 \u001b[0;31m\u001b[0mqc\u001b[0m\u001b[0;34m.\u001b[0m\u001b[0mswap\u001b[0m\u001b[0;34m(\u001b[0m\u001b[0;36m0\u001b[0m\u001b[0;34m,\u001b[0m\u001b[0;36m1\u001b[0m\u001b[0;34m)\u001b[0m\u001b[0;34m\u001b[0m\u001b[0;34m\u001b[0m\u001b[0m\n",
      "\u001b[0m\u001b[0;32m      6 \u001b[0;31m\u001b[0;32mimport\u001b[0m \u001b[0mpdb\u001b[0m\u001b[0;34m\u001b[0m\u001b[0;34m\u001b[0m\u001b[0m\n",
      "\u001b[0m\u001b[0;32m----> 7 \u001b[0;31m\u001b[0mpdb\u001b[0m\u001b[0;34m.\u001b[0m\u001b[0mset_trace\u001b[0m\u001b[0;34m(\u001b[0m\u001b[0;34m)\u001b[0m\u001b[0;34m\u001b[0m\u001b[0;34m\u001b[0m\u001b[0m\n",
      "\u001b[0m\u001b[0;32m      8 \u001b[0;31m\u001b[0mqc\u001b[0m \u001b[0;34m=\u001b[0m \u001b[0mtranspile\u001b[0m\u001b[0;34m(\u001b[0m\u001b[0mqc\u001b[0m\u001b[0;34m,\u001b[0m \u001b[0moptimization_level\u001b[0m\u001b[0;34m=\u001b[0m\u001b[0;36m3\u001b[0m\u001b[0;34m)\u001b[0m\u001b[0;34m\u001b[0m\u001b[0;34m\u001b[0m\u001b[0m\n",
      "\u001b[0m\u001b[0;32m      9 \u001b[0;31m\u001b[0mqc\u001b[0m\u001b[0;34m.\u001b[0m\u001b[0mmeasure_all\u001b[0m\u001b[0;34m(\u001b[0m\u001b[0;34m)\u001b[0m\u001b[0;34m\u001b[0m\u001b[0;34m\u001b[0m\u001b[0m\n",
      "\u001b[0m\n",
      "ipdb> c\n"
     ]
    },
    {
     "data": {
      "text/html": [
       "<pre style=\"word-wrap: normal;white-space: pre;background: #fff0;line-height: 1.1;font-family: &quot;Courier New&quot;,Courier,monospace\">        ┌───┐ ░ ┌─┐      \n",
       "   q_0: ┤ X ├─░─┤M├──────\n",
       "        └───┘ ░ └╥┘┌─┐   \n",
       "   q_1: ──────░──╫─┤M├───\n",
       "              ░  ║ └╥┘┌─┐\n",
       "   q_2: ──────░──╫──╫─┤M├\n",
       "              ░  ║  ║ └╥┘\n",
       "meas: 3/═════════╩══╩══╩═\n",
       "                 0  1  2 </pre>"
      ],
      "text/plain": [
       "        ┌───┐ ░ ┌─┐      \n",
       "   q_0: ┤ X ├─░─┤M├──────\n",
       "        └───┘ ░ └╥┘┌─┐   \n",
       "   q_1: ──────░──╫─┤M├───\n",
       "              ░  ║ └╥┘┌─┐\n",
       "   q_2: ──────░──╫──╫─┤M├\n",
       "              ░  ║  ║ └╥┘\n",
       "meas: 3/═════════╩══╩══╩═\n",
       "                 0  1  2 "
      ]
     },
     "execution_count": 389,
     "metadata": {},
     "output_type": "execute_result"
    }
   ],
   "source": [
    "from qiskit import QuantumCircuit, transpile, Aer, execute\n",
    "from qiskit.circuit.library.standard_gates import *\n",
    "qc = QuantumCircuit(3)\n",
    "qc.x(0)\n",
    "qc.swap(0,1)\n",
    "import pdb\n",
    "pdb.set_trace()\n",
    "qc = transpile(qc, optimization_level=3)\n",
    "qc.measure_all()\n",
    "qc.draw(fold=-1)"
   ]
  },
  {
   "cell_type": "code",
   "execution_count": null,
   "id": "45a287b0",
   "metadata": {},
   "outputs": [],
   "source": [
    "# dag_to_circuit(dag).draw(fold=-1)\n",
    "\n",
    "# b /home/paltenmo/.conda/envs/ML4Quantum/lib/python3.8/site-packages/qiskit/transpiler/passmanager.py:218\n",
    "# run()\n",
    "\n",
    "# self.working_list\n",
    "[<qiskit.transpiler.runningpassmanager.FlowControllerLinear object at 0x7fb92b015850>, \n",
    " <qiskit.transpiler.runningpassmanager.FlowControllerLinear object at 0x7fb92b015940>, \n",
    " <qiskit.transpiler.runningpassmanager.FlowControllerLinear object at 0x7fb92b0159a0>, \n",
    " <qiskit.transpiler.runningpassmanager.FlowControllerLinear object at 0x7fb92b015c70>, \n",
    " <qiskit.transpiler.runningpassmanager.DoWhileController object at 0x7fb92b015ca0>, \n",
    " <qiskit.transpiler.runningpassmanager.FlowControllerLinear object at 0x7fb92b0151f0>, \n",
    " <qiskit.transpiler.runningpassmanager.ConditionalController object at 0x7fb92b015550>, \n",
    " <qiskit.transpiler.runningpassmanager.FlowControllerLinear object at 0x7fb92b015b50>]\n",
    "\n",
    "# b /home/paltenmo/.conda/envs/ML4Quantum/lib/python3.8/site-packages/qiskit/transpiler/runningpassmanager.py:123\n",
    "# run()\n",
    "\n",
    "qiskit.transpiler.passes.optimization.optimize_swap_before_measure.OptimizeSwapBeforeMeasure\n",
    "\n",
    "# b /home/paltenmo/.conda/envs/ML4Quantum/lib/python3.8/site-packages/qiskit/transpiler/passes/optimization/optimize_swap_before_measure.py:29\n",
    "# run()\n",
    "\n",
    "# b /home/paltenmo/.conda/envs/ML4Quantum/lib/python3.8/site-packages/qiskit/transpiler/passes/optimization/optimize_swap_before_measure.py:44"
   ]
  },
  {
   "cell_type": "code",
   "execution_count": 390,
   "id": "874caa6d",
   "metadata": {
    "ExecuteTime": {
     "end_time": "2022-02-09T19:37:37.296639Z",
     "start_time": "2022-02-09T19:37:37.229031Z"
    }
   },
   "outputs": [
    {
     "data": {
      "text/plain": [
       "{'001': 1024}"
      ]
     },
     "execution_count": 390,
     "metadata": {},
     "output_type": "execute_result"
    }
   ],
   "source": [
    "counts = execute(qc, backend=Aer.get_backend('qasm_simulator'), shots=1024).result().get_counts(qc)\n",
    "counts"
   ]
  },
  {
   "cell_type": "code",
   "execution_count": 370,
   "id": "87ec05b6",
   "metadata": {
    "ExecuteTime": {
     "end_time": "2022-02-09T18:47:49.821790Z",
     "start_time": "2022-02-09T18:47:49.775420Z"
    }
   },
   "outputs": [
    {
     "data": {
      "text/plain": [
       "{'100': 7838}"
      ]
     },
     "execution_count": 370,
     "metadata": {},
     "output_type": "execute_result"
    }
   ],
   "source": [
    "counts_follow\n",
    "{k: v for k, v in sorted(counts_follow.items(), key=lambda item: item[1])}"
   ]
  },
  {
   "cell_type": "code",
   "execution_count": 371,
   "id": "244e13ba",
   "metadata": {
    "ExecuteTime": {
     "end_time": "2022-02-09T18:47:50.349791Z",
     "start_time": "2022-02-09T18:47:50.302874Z"
    },
    "scrolled": true
   },
   "outputs": [
    {
     "data": {
      "text/plain": [
       "{'001': 7838}"
      ]
     },
     "execution_count": 371,
     "metadata": {},
     "output_type": "execute_result"
    }
   ],
   "source": [
    "counts_source\n",
    "{k: v for k, v in sorted(counts_source.items(), key=lambda item: item[1])}"
   ]
  },
  {
   "cell_type": "markdown",
   "id": "30186a5a",
   "metadata": {},
   "source": [
    "# MINIMIZATION - ID with CHANGE OF BASIS"
   ]
  },
  {
   "cell_type": "markdown",
   "id": "bf05a036",
   "metadata": {},
   "source": [
    "### SOURCE"
   ]
  },
  {
   "cell_type": "code",
   "execution_count": 312,
   "id": "38657ea6",
   "metadata": {
    "ExecuteTime": {
     "end_time": "2022-02-09T17:21:45.357914Z",
     "start_time": "2022-02-09T17:21:45.298610Z"
    }
   },
   "outputs": [],
   "source": [
    "# ID: qmt_v01 6e8363d301e44b0c833f51d6918af826"
   ]
  },
  {
   "cell_type": "code",
   "execution_count": 362,
   "id": "9481257c",
   "metadata": {
    "ExecuteTime": {
     "end_time": "2022-02-09T17:55:27.763687Z",
     "start_time": "2022-02-09T17:55:27.694616Z"
    }
   },
   "outputs": [
    {
     "data": {
      "text/plain": [
       "{'0': 1024}"
      ]
     },
     "execution_count": 362,
     "metadata": {},
     "output_type": "execute_result"
    }
   ],
   "source": [
    "import qiskit\n",
    "from qiskit import QuantumCircuit, transpile, Aer, execute\n",
    "qc = QuantumCircuit(1)\n",
    "qc.id(0)\n",
    "qc.measure_all()\n",
    "qc = transpile(qc, basis_gates=None, optimization_level=0)\n",
    "qc.draw(fold=-1)\n",
    "counts = execute(qc, backend=Aer.get_backend('qasm_simulator'), shots=1024).result().get_counts(qc)\n",
    "counts"
   ]
  },
  {
   "cell_type": "code",
   "execution_count": 358,
   "id": "de9270ad",
   "metadata": {
    "ExecuteTime": {
     "end_time": "2022-02-09T17:52:54.511922Z",
     "start_time": "2022-02-09T17:52:54.447532Z"
    }
   },
   "outputs": [
    {
     "data": {
      "text/plain": [
       "{'0': 489}"
      ]
     },
     "execution_count": 358,
     "metadata": {},
     "output_type": "execute_result"
    }
   ],
   "source": []
  },
  {
   "cell_type": "markdown",
   "id": "7b55764e",
   "metadata": {},
   "source": [
    "### FOLLOW"
   ]
  },
  {
   "cell_type": "code",
   "execution_count": 359,
   "id": "279ac95a",
   "metadata": {
    "ExecuteTime": {
     "end_time": "2022-02-09T17:53:17.939386Z",
     "start_time": "2022-02-09T17:53:17.851139Z"
    },
    "scrolled": true
   },
   "outputs": [
    {
     "ename": "QiskitError",
     "evalue": "\"Cannot unroll the circuit to the given basis, ['rx', 'ry', 'rz', 'p', 'cx']. Instruction id not found in equivalence library and no rule found to expand.\"",
     "output_type": "error",
     "traceback": [
      "\u001b[0;31m---------------------------------------------------------------------------\u001b[0m",
      "\u001b[0;31mQiskitError\u001b[0m                               Traceback (most recent call last)",
      "\u001b[0;32m/tmp/ipykernel_48930/2610570280.py\u001b[0m in \u001b[0;36m<module>\u001b[0;34m\u001b[0m\n\u001b[1;32m      5\u001b[0m \u001b[0mqc\u001b[0m\u001b[0;34m.\u001b[0m\u001b[0mid\u001b[0m\u001b[0;34m(\u001b[0m\u001b[0;36m0\u001b[0m\u001b[0;34m)\u001b[0m\u001b[0;34m\u001b[0m\u001b[0;34m\u001b[0m\u001b[0m\n\u001b[1;32m      6\u001b[0m \u001b[0mqc\u001b[0m\u001b[0;34m.\u001b[0m\u001b[0mmeasure_all\u001b[0m\u001b[0;34m(\u001b[0m\u001b[0;34m)\u001b[0m\u001b[0;34m\u001b[0m\u001b[0;34m\u001b[0m\u001b[0m\n\u001b[0;32m----> 7\u001b[0;31m \u001b[0mqc\u001b[0m \u001b[0;34m=\u001b[0m \u001b[0mtranspile\u001b[0m\u001b[0;34m(\u001b[0m\u001b[0mqc\u001b[0m\u001b[0;34m,\u001b[0m \u001b[0mbasis_gates\u001b[0m\u001b[0;34m=\u001b[0m\u001b[0;34m[\u001b[0m\u001b[0;34m'rx'\u001b[0m\u001b[0;34m,\u001b[0m \u001b[0;34m'ry'\u001b[0m\u001b[0;34m,\u001b[0m \u001b[0;34m'rz'\u001b[0m\u001b[0;34m,\u001b[0m \u001b[0;34m'p'\u001b[0m\u001b[0;34m,\u001b[0m \u001b[0;34m'cx'\u001b[0m\u001b[0;34m]\u001b[0m\u001b[0;34m,\u001b[0m \u001b[0moptimization_level\u001b[0m\u001b[0;34m=\u001b[0m\u001b[0;36m0\u001b[0m\u001b[0;34m)\u001b[0m\u001b[0;34m\u001b[0m\u001b[0;34m\u001b[0m\u001b[0m\n\u001b[0m\u001b[1;32m      8\u001b[0m \u001b[0mqc\u001b[0m\u001b[0;34m.\u001b[0m\u001b[0mdraw\u001b[0m\u001b[0;34m(\u001b[0m\u001b[0mfold\u001b[0m\u001b[0;34m=\u001b[0m\u001b[0;34m-\u001b[0m\u001b[0;36m1\u001b[0m\u001b[0;34m)\u001b[0m\u001b[0;34m\u001b[0m\u001b[0;34m\u001b[0m\u001b[0m\n",
      "\u001b[0;32m~/.conda/envs/ML4Quantum/lib/python3.8/site-packages/qiskit/compiler/transpiler.py\u001b[0m in \u001b[0;36mtranspile\u001b[0;34m(circuits, backend, basis_gates, inst_map, coupling_map, backend_properties, initial_layout, layout_method, routing_method, translation_method, scheduling_method, instruction_durations, dt, approximation_degree, timing_constraints, seed_transpiler, optimization_level, pass_manager, callback, output_name, unitary_synthesis_method, unitary_synthesis_plugin_config, target)\u001b[0m\n\u001b[1;32m    333\u001b[0m \u001b[0;34m\u001b[0m\u001b[0m\n\u001b[1;32m    334\u001b[0m     \u001b[0;31m# Transpile circuits in parallel\u001b[0m\u001b[0;34m\u001b[0m\u001b[0;34m\u001b[0m\u001b[0;34m\u001b[0m\u001b[0m\n\u001b[0;32m--> 335\u001b[0;31m     \u001b[0mcircuits\u001b[0m \u001b[0;34m=\u001b[0m \u001b[0mparallel_map\u001b[0m\u001b[0;34m(\u001b[0m\u001b[0m_transpile_circuit\u001b[0m\u001b[0;34m,\u001b[0m \u001b[0mlist\u001b[0m\u001b[0;34m(\u001b[0m\u001b[0mzip\u001b[0m\u001b[0;34m(\u001b[0m\u001b[0mcircuits\u001b[0m\u001b[0;34m,\u001b[0m \u001b[0mtranspile_args\u001b[0m\u001b[0;34m)\u001b[0m\u001b[0;34m)\u001b[0m\u001b[0;34m)\u001b[0m\u001b[0;34m\u001b[0m\u001b[0;34m\u001b[0m\u001b[0m\n\u001b[0m\u001b[1;32m    336\u001b[0m \u001b[0;34m\u001b[0m\u001b[0m\n\u001b[1;32m    337\u001b[0m     \u001b[0mend_time\u001b[0m \u001b[0;34m=\u001b[0m \u001b[0mtime\u001b[0m\u001b[0;34m(\u001b[0m\u001b[0;34m)\u001b[0m\u001b[0;34m\u001b[0m\u001b[0;34m\u001b[0m\u001b[0m\n",
      "\u001b[0;32m~/.conda/envs/ML4Quantum/lib/python3.8/site-packages/qiskit/tools/parallel.py\u001b[0m in \u001b[0;36mparallel_map\u001b[0;34m(task, values, task_args, task_kwargs, num_processes)\u001b[0m\n\u001b[1;32m    130\u001b[0m         \u001b[0;32mreturn\u001b[0m \u001b[0;34m[\u001b[0m\u001b[0;34m]\u001b[0m\u001b[0;34m\u001b[0m\u001b[0;34m\u001b[0m\u001b[0m\n\u001b[1;32m    131\u001b[0m     \u001b[0;32mif\u001b[0m \u001b[0mlen\u001b[0m\u001b[0;34m(\u001b[0m\u001b[0mvalues\u001b[0m\u001b[0;34m)\u001b[0m \u001b[0;34m==\u001b[0m \u001b[0;36m1\u001b[0m\u001b[0;34m:\u001b[0m\u001b[0;34m\u001b[0m\u001b[0;34m\u001b[0m\u001b[0m\n\u001b[0;32m--> 132\u001b[0;31m         \u001b[0;32mreturn\u001b[0m \u001b[0;34m[\u001b[0m\u001b[0mtask\u001b[0m\u001b[0;34m(\u001b[0m\u001b[0mvalues\u001b[0m\u001b[0;34m[\u001b[0m\u001b[0;36m0\u001b[0m\u001b[0;34m]\u001b[0m\u001b[0;34m,\u001b[0m \u001b[0;34m*\u001b[0m\u001b[0mtask_args\u001b[0m\u001b[0;34m,\u001b[0m \u001b[0;34m**\u001b[0m\u001b[0mtask_kwargs\u001b[0m\u001b[0;34m)\u001b[0m\u001b[0;34m]\u001b[0m\u001b[0;34m\u001b[0m\u001b[0;34m\u001b[0m\u001b[0m\n\u001b[0m\u001b[1;32m    133\u001b[0m \u001b[0;34m\u001b[0m\u001b[0m\n\u001b[1;32m    134\u001b[0m     \u001b[0mPublisher\u001b[0m\u001b[0;34m(\u001b[0m\u001b[0;34m)\u001b[0m\u001b[0;34m.\u001b[0m\u001b[0mpublish\u001b[0m\u001b[0;34m(\u001b[0m\u001b[0;34m\"terra.parallel.start\"\u001b[0m\u001b[0;34m,\u001b[0m \u001b[0mlen\u001b[0m\u001b[0;34m(\u001b[0m\u001b[0mvalues\u001b[0m\u001b[0;34m)\u001b[0m\u001b[0;34m)\u001b[0m\u001b[0;34m\u001b[0m\u001b[0;34m\u001b[0m\u001b[0m\n",
      "\u001b[0;32m~/.conda/envs/ML4Quantum/lib/python3.8/site-packages/qiskit/compiler/transpiler.py\u001b[0m in \u001b[0;36m_transpile_circuit\u001b[0;34m(circuit_config_tuple)\u001b[0m\n\u001b[1;32m    427\u001b[0m         \u001b[0;32mraise\u001b[0m \u001b[0mTranspilerError\u001b[0m\u001b[0;34m(\u001b[0m\u001b[0;34m\"optimization_level can range from 0 to 3.\"\u001b[0m\u001b[0;34m)\u001b[0m\u001b[0;34m\u001b[0m\u001b[0;34m\u001b[0m\u001b[0m\n\u001b[1;32m    428\u001b[0m \u001b[0;34m\u001b[0m\u001b[0m\n\u001b[0;32m--> 429\u001b[0;31m     result = pass_manager.run(\n\u001b[0m\u001b[1;32m    430\u001b[0m         \u001b[0mcircuit\u001b[0m\u001b[0;34m,\u001b[0m \u001b[0mcallback\u001b[0m\u001b[0;34m=\u001b[0m\u001b[0mtranspile_config\u001b[0m\u001b[0;34m[\u001b[0m\u001b[0;34m\"callback\"\u001b[0m\u001b[0;34m]\u001b[0m\u001b[0;34m,\u001b[0m \u001b[0moutput_name\u001b[0m\u001b[0;34m=\u001b[0m\u001b[0mtranspile_config\u001b[0m\u001b[0;34m[\u001b[0m\u001b[0;34m\"output_name\"\u001b[0m\u001b[0;34m]\u001b[0m\u001b[0;34m\u001b[0m\u001b[0;34m\u001b[0m\u001b[0m\n\u001b[1;32m    431\u001b[0m     )\n",
      "\u001b[0;32m~/.conda/envs/ML4Quantum/lib/python3.8/site-packages/qiskit/transpiler/passmanager.py\u001b[0m in \u001b[0;36mrun\u001b[0;34m(self, circuits, output_name, callback)\u001b[0m\n\u001b[1;32m    216\u001b[0m             \u001b[0;32mreturn\u001b[0m \u001b[0mcircuits\u001b[0m\u001b[0;34m\u001b[0m\u001b[0;34m\u001b[0m\u001b[0m\n\u001b[1;32m    217\u001b[0m         \u001b[0;32mif\u001b[0m \u001b[0misinstance\u001b[0m\u001b[0;34m(\u001b[0m\u001b[0mcircuits\u001b[0m\u001b[0;34m,\u001b[0m \u001b[0mQuantumCircuit\u001b[0m\u001b[0;34m)\u001b[0m\u001b[0;34m:\u001b[0m\u001b[0;34m\u001b[0m\u001b[0;34m\u001b[0m\u001b[0m\n\u001b[0;32m--> 218\u001b[0;31m             \u001b[0;32mreturn\u001b[0m \u001b[0mself\u001b[0m\u001b[0;34m.\u001b[0m\u001b[0m_run_single_circuit\u001b[0m\u001b[0;34m(\u001b[0m\u001b[0mcircuits\u001b[0m\u001b[0;34m,\u001b[0m \u001b[0moutput_name\u001b[0m\u001b[0;34m,\u001b[0m \u001b[0mcallback\u001b[0m\u001b[0;34m)\u001b[0m\u001b[0;34m\u001b[0m\u001b[0;34m\u001b[0m\u001b[0m\n\u001b[0m\u001b[1;32m    219\u001b[0m         \u001b[0;32mif\u001b[0m \u001b[0mlen\u001b[0m\u001b[0;34m(\u001b[0m\u001b[0mcircuits\u001b[0m\u001b[0;34m)\u001b[0m \u001b[0;34m==\u001b[0m \u001b[0;36m1\u001b[0m\u001b[0;34m:\u001b[0m\u001b[0;34m\u001b[0m\u001b[0;34m\u001b[0m\u001b[0m\n\u001b[1;32m    220\u001b[0m             \u001b[0;32mreturn\u001b[0m \u001b[0mself\u001b[0m\u001b[0;34m.\u001b[0m\u001b[0m_run_single_circuit\u001b[0m\u001b[0;34m(\u001b[0m\u001b[0mcircuits\u001b[0m\u001b[0;34m[\u001b[0m\u001b[0;36m0\u001b[0m\u001b[0;34m]\u001b[0m\u001b[0;34m,\u001b[0m \u001b[0moutput_name\u001b[0m\u001b[0;34m,\u001b[0m \u001b[0mcallback\u001b[0m\u001b[0;34m)\u001b[0m\u001b[0;34m\u001b[0m\u001b[0;34m\u001b[0m\u001b[0m\n",
      "\u001b[0;32m~/.conda/envs/ML4Quantum/lib/python3.8/site-packages/qiskit/transpiler/passmanager.py\u001b[0m in \u001b[0;36m_run_single_circuit\u001b[0;34m(self, circuit, output_name, callback)\u001b[0m\n\u001b[1;32m    271\u001b[0m         \"\"\"\n\u001b[1;32m    272\u001b[0m         \u001b[0mrunning_passmanager\u001b[0m \u001b[0;34m=\u001b[0m \u001b[0mself\u001b[0m\u001b[0;34m.\u001b[0m\u001b[0m_create_running_passmanager\u001b[0m\u001b[0;34m(\u001b[0m\u001b[0;34m)\u001b[0m\u001b[0;34m\u001b[0m\u001b[0;34m\u001b[0m\u001b[0m\n\u001b[0;32m--> 273\u001b[0;31m         \u001b[0mresult\u001b[0m \u001b[0;34m=\u001b[0m \u001b[0mrunning_passmanager\u001b[0m\u001b[0;34m.\u001b[0m\u001b[0mrun\u001b[0m\u001b[0;34m(\u001b[0m\u001b[0mcircuit\u001b[0m\u001b[0;34m,\u001b[0m \u001b[0moutput_name\u001b[0m\u001b[0;34m=\u001b[0m\u001b[0moutput_name\u001b[0m\u001b[0;34m,\u001b[0m \u001b[0mcallback\u001b[0m\u001b[0;34m=\u001b[0m\u001b[0mcallback\u001b[0m\u001b[0;34m)\u001b[0m\u001b[0;34m\u001b[0m\u001b[0;34m\u001b[0m\u001b[0m\n\u001b[0m\u001b[1;32m    274\u001b[0m         \u001b[0mself\u001b[0m\u001b[0;34m.\u001b[0m\u001b[0mproperty_set\u001b[0m \u001b[0;34m=\u001b[0m \u001b[0mrunning_passmanager\u001b[0m\u001b[0;34m.\u001b[0m\u001b[0mproperty_set\u001b[0m\u001b[0;34m\u001b[0m\u001b[0;34m\u001b[0m\u001b[0m\n\u001b[1;32m    275\u001b[0m         \u001b[0;32mreturn\u001b[0m \u001b[0mresult\u001b[0m\u001b[0;34m\u001b[0m\u001b[0;34m\u001b[0m\u001b[0m\n",
      "\u001b[0;32m~/.conda/envs/ML4Quantum/lib/python3.8/site-packages/qiskit/transpiler/runningpassmanager.py\u001b[0m in \u001b[0;36mrun\u001b[0;34m(***failed resolving arguments***)\u001b[0m\n\u001b[1;32m    121\u001b[0m         \u001b[0;32mfor\u001b[0m \u001b[0mpassset\u001b[0m \u001b[0;32min\u001b[0m \u001b[0mself\u001b[0m\u001b[0;34m.\u001b[0m\u001b[0mworking_list\u001b[0m\u001b[0;34m:\u001b[0m\u001b[0;34m\u001b[0m\u001b[0;34m\u001b[0m\u001b[0m\n\u001b[1;32m    122\u001b[0m             \u001b[0;32mfor\u001b[0m \u001b[0mpass_\u001b[0m \u001b[0;32min\u001b[0m \u001b[0mpassset\u001b[0m\u001b[0;34m:\u001b[0m\u001b[0;34m\u001b[0m\u001b[0;34m\u001b[0m\u001b[0m\n\u001b[0;32m--> 123\u001b[0;31m                 \u001b[0mdag\u001b[0m \u001b[0;34m=\u001b[0m \u001b[0mself\u001b[0m\u001b[0;34m.\u001b[0m\u001b[0m_do_pass\u001b[0m\u001b[0;34m(\u001b[0m\u001b[0mpass_\u001b[0m\u001b[0;34m,\u001b[0m \u001b[0mdag\u001b[0m\u001b[0;34m,\u001b[0m \u001b[0mpassset\u001b[0m\u001b[0;34m.\u001b[0m\u001b[0moptions\u001b[0m\u001b[0;34m)\u001b[0m\u001b[0;34m\u001b[0m\u001b[0;34m\u001b[0m\u001b[0m\n\u001b[0m\u001b[1;32m    124\u001b[0m \u001b[0;34m\u001b[0m\u001b[0m\n\u001b[1;32m    125\u001b[0m         \u001b[0mcircuit\u001b[0m \u001b[0;34m=\u001b[0m \u001b[0mdag_to_circuit\u001b[0m\u001b[0;34m(\u001b[0m\u001b[0mdag\u001b[0m\u001b[0;34m)\u001b[0m\u001b[0;34m\u001b[0m\u001b[0;34m\u001b[0m\u001b[0m\n",
      "\u001b[0;32m~/.conda/envs/ML4Quantum/lib/python3.8/site-packages/qiskit/transpiler/runningpassmanager.py\u001b[0m in \u001b[0;36m_do_pass\u001b[0;34m(self, pass_, dag, options)\u001b[0m\n\u001b[1;32m    152\u001b[0m         \u001b[0;31m# Run the pass itself, if not already run\u001b[0m\u001b[0;34m\u001b[0m\u001b[0;34m\u001b[0m\u001b[0;34m\u001b[0m\u001b[0m\n\u001b[1;32m    153\u001b[0m         \u001b[0;32mif\u001b[0m \u001b[0mpass_\u001b[0m \u001b[0;32mnot\u001b[0m \u001b[0;32min\u001b[0m \u001b[0mself\u001b[0m\u001b[0;34m.\u001b[0m\u001b[0mvalid_passes\u001b[0m\u001b[0;34m:\u001b[0m\u001b[0;34m\u001b[0m\u001b[0;34m\u001b[0m\u001b[0m\n\u001b[0;32m--> 154\u001b[0;31m             \u001b[0mdag\u001b[0m \u001b[0;34m=\u001b[0m \u001b[0mself\u001b[0m\u001b[0;34m.\u001b[0m\u001b[0m_run_this_pass\u001b[0m\u001b[0;34m(\u001b[0m\u001b[0mpass_\u001b[0m\u001b[0;34m,\u001b[0m \u001b[0mdag\u001b[0m\u001b[0;34m)\u001b[0m\u001b[0;34m\u001b[0m\u001b[0;34m\u001b[0m\u001b[0m\n\u001b[0m\u001b[1;32m    155\u001b[0m \u001b[0;34m\u001b[0m\u001b[0m\n\u001b[1;32m    156\u001b[0m             \u001b[0;31m# update the valid_passes property\u001b[0m\u001b[0;34m\u001b[0m\u001b[0;34m\u001b[0m\u001b[0;34m\u001b[0m\u001b[0m\n",
      "\u001b[0;32m~/.conda/envs/ML4Quantum/lib/python3.8/site-packages/qiskit/transpiler/runningpassmanager.py\u001b[0m in \u001b[0;36m_run_this_pass\u001b[0;34m(self, pass_, dag)\u001b[0m\n\u001b[1;32m    164\u001b[0m             \u001b[0;31m# Measure time if we have a callback or logging set\u001b[0m\u001b[0;34m\u001b[0m\u001b[0;34m\u001b[0m\u001b[0;34m\u001b[0m\u001b[0m\n\u001b[1;32m    165\u001b[0m             \u001b[0mstart_time\u001b[0m \u001b[0;34m=\u001b[0m \u001b[0mtime\u001b[0m\u001b[0;34m(\u001b[0m\u001b[0;34m)\u001b[0m\u001b[0;34m\u001b[0m\u001b[0;34m\u001b[0m\u001b[0m\n\u001b[0;32m--> 166\u001b[0;31m             \u001b[0mnew_dag\u001b[0m \u001b[0;34m=\u001b[0m \u001b[0mpass_\u001b[0m\u001b[0;34m.\u001b[0m\u001b[0mrun\u001b[0m\u001b[0;34m(\u001b[0m\u001b[0mdag\u001b[0m\u001b[0;34m)\u001b[0m\u001b[0;34m\u001b[0m\u001b[0;34m\u001b[0m\u001b[0m\n\u001b[0m\u001b[1;32m    167\u001b[0m             \u001b[0mend_time\u001b[0m \u001b[0;34m=\u001b[0m \u001b[0mtime\u001b[0m\u001b[0;34m(\u001b[0m\u001b[0;34m)\u001b[0m\u001b[0;34m\u001b[0m\u001b[0;34m\u001b[0m\u001b[0m\n\u001b[1;32m    168\u001b[0m             \u001b[0mrun_time\u001b[0m \u001b[0;34m=\u001b[0m \u001b[0mend_time\u001b[0m \u001b[0;34m-\u001b[0m \u001b[0mstart_time\u001b[0m\u001b[0;34m\u001b[0m\u001b[0;34m\u001b[0m\u001b[0m\n",
      "\u001b[0;32m~/.conda/envs/ML4Quantum/lib/python3.8/site-packages/qiskit/transpiler/passes/basis/unroll_custom_definitions.py\u001b[0m in \u001b[0;36mrun\u001b[0;34m(self, dag)\u001b[0m\n\u001b[1;32m     84\u001b[0m \u001b[0;34m\u001b[0m\u001b[0m\n\u001b[1;32m     85\u001b[0m                 \u001b[0;31m# opaque node\u001b[0m\u001b[0;34m\u001b[0m\u001b[0;34m\u001b[0m\u001b[0;34m\u001b[0m\u001b[0m\n\u001b[0;32m---> 86\u001b[0;31m                 raise QiskitError(\n\u001b[0m\u001b[1;32m     87\u001b[0m                     \u001b[0;34m\"Cannot unroll the circuit to the given basis, %s. \"\u001b[0m\u001b[0;34m\u001b[0m\u001b[0;34m\u001b[0m\u001b[0m\n\u001b[1;32m     88\u001b[0m                     \u001b[0;34m\"Instruction %s not found in equivalence library \"\u001b[0m\u001b[0;34m\u001b[0m\u001b[0;34m\u001b[0m\u001b[0m\n",
      "\u001b[0;31mQiskitError\u001b[0m: \"Cannot unroll the circuit to the given basis, ['rx', 'ry', 'rz', 'p', 'cx']. Instruction id not found in equivalence library and no rule found to expand.\""
     ]
    }
   ],
   "source": [
    "import qiskit\n",
    "from qiskit import QuantumCircuit\n",
    "from qiskit import transpile\n",
    "qc = QuantumCircuit(1)\n",
    "qc.id(0)\n",
    "qc.measure_all()\n",
    "qc = transpile(qc, basis_gates=['rx', 'ry', 'rz', 'p', 'cx'], optimization_level=0)\n",
    "qc.draw(fold=-1)"
   ]
  },
  {
   "cell_type": "code",
   "execution_count": 349,
   "id": "565222da",
   "metadata": {
    "ExecuteTime": {
     "end_time": "2022-02-09T17:43:02.931433Z",
     "start_time": "2022-02-09T17:43:02.867738Z"
    }
   },
   "outputs": [
    {
     "data": {
      "text/plain": [
       "{'000': 489}"
      ]
     },
     "execution_count": 349,
     "metadata": {},
     "output_type": "execute_result"
    }
   ],
   "source": [
    "\n",
    "# SECTION\n",
    "# NAME: EXECUTION\n",
    "\n",
    "from qiskit import Aer, transpile, execute\n",
    "backend_d3ff37282d7e43d19cf389b7e5b42747 = Aer.get_backend('qasm_simulator')\n",
    "counts_follow = execute(qc, backend=backend_d3ff37282d7e43d19cf389b7e5b42747, shots=489).result().get_counts(qc)\n",
    "counts_follow\n"
   ]
  },
  {
   "cell_type": "markdown",
   "id": "7a409350",
   "metadata": {},
   "source": [
    "### COMPARE"
   ]
  },
  {
   "cell_type": "code",
   "execution_count": 341,
   "id": "8eb5df8c",
   "metadata": {
    "ExecuteTime": {
     "end_time": "2022-02-09T17:41:24.583491Z",
     "start_time": "2022-02-09T17:41:24.530167Z"
    }
   },
   "outputs": [
    {
     "data": {
      "text/plain": [
       "{'010': 14,\n",
       " '011': 17,\n",
       " '000': 21,\n",
       " '001': 47,\n",
       " '101': 55,\n",
       " '111': 95,\n",
       " '100': 104,\n",
       " '110': 136}"
      ]
     },
     "execution_count": 341,
     "metadata": {},
     "output_type": "execute_result"
    }
   ],
   "source": [
    "counts_follow\n",
    "{k: v for k, v in sorted(counts_follow.items(), key=lambda item: item[1])}"
   ]
  },
  {
   "cell_type": "code",
   "execution_count": 342,
   "id": "f2772a7b",
   "metadata": {
    "ExecuteTime": {
     "end_time": "2022-02-09T17:41:25.182644Z",
     "start_time": "2022-02-09T17:41:25.131154Z"
    },
    "scrolled": false
   },
   "outputs": [
    {
     "data": {
      "text/plain": [
       "{'011': 8,\n",
       " '010': 8,\n",
       " '000': 22,\n",
       " '001': 37,\n",
       " '101': 58,\n",
       " '111': 104,\n",
       " '100': 118,\n",
       " '110': 134}"
      ]
     },
     "execution_count": 342,
     "metadata": {},
     "output_type": "execute_result"
    }
   ],
   "source": [
    "counts_source\n",
    "{k: v for k, v in sorted(counts_source.items(), key=lambda item: item[1])}"
   ]
  },
  {
   "cell_type": "code",
   "execution_count": 343,
   "id": "8163d30b",
   "metadata": {
    "ExecuteTime": {
     "end_time": "2022-02-09T17:41:25.718775Z",
     "start_time": "2022-02-09T17:41:25.670506Z"
    }
   },
   "outputs": [],
   "source": [
    "from inspector import OneNightStandInspector\n",
    "from detectors import KS_Detector, Energy_Detector"
   ]
  },
  {
   "cell_type": "code",
   "execution_count": 346,
   "id": "8c61263f",
   "metadata": {
    "ExecuteTime": {
     "end_time": "2022-02-09T17:42:04.771422Z",
     "start_time": "2022-02-09T17:42:04.720411Z"
    }
   },
   "outputs": [
    {
     "name": "stdout",
     "output_type": "stream",
     "text": [
      "stat: 0.049079754601226995, pval: 0.5984096532139881\n"
     ]
    }
   ],
   "source": [
    "detector = KS_Detector()\n",
    "stat, pval = detector.check(counts_source, counts_follow)\n",
    "print(f\"stat: {stat}, pval: {pval}\")"
   ]
  },
  {
   "cell_type": "code",
   "execution_count": 347,
   "id": "3bb50e39",
   "metadata": {
    "ExecuteTime": {
     "end_time": "2022-02-09T17:42:06.025584Z",
     "start_time": "2022-02-09T17:42:05.717530Z"
    }
   },
   "outputs": [
    {
     "name": "stdout",
     "output_type": "stream",
     "text": [
      "n_qubits: 3\n",
      "n_shots: 489.0\n",
      "Uniform threshold: 61.125\n"
     ]
    },
    {
     "data": {
      "image/png": "[encoded data removed]",
      "text/plain": [
       "<Figure size 720x432 with 1 Axes>"
      ]
     },
     "metadata": {
      "needs_background": "light"
     },
     "output_type": "display_data"
    },
    {
     "data": {
      "text/plain": [
       "<inspector.OneNightStandInspector at 0x7fb92a47ac70>"
      ]
     },
     "execution_count": 347,
     "metadata": {},
     "output_type": "execute_result"
    }
   ],
   "source": [
    "OneNightStandInspector(counts_source, counts_follow, name_a=\"source\", name_b=\"follow\", top_perc=1)"
   ]
  },
  {
   "cell_type": "markdown",
   "id": "1fc07412",
   "metadata": {},
   "source": [
    "# FALSE ALARMS"
   ]
  },
  {
   "cell_type": "code",
   "execution_count": 236,
   "id": "a462ebd0",
   "metadata": {
    "ExecuteTime": {
     "end_time": "2022-02-09T16:54:22.852507Z",
     "start_time": "2022-02-09T16:54:22.790968Z"
    },
    "code_folding": [
     0
    ]
   },
   "outputs": [
    {
     "data": {
      "text/plain": [
       "''"
      ]
     },
     "execution_count": 236,
     "metadata": {},
     "output_type": "execute_result"
    }
   ],
   "source": [
    "# ID: qmt_v01 771e36d9d8de4524ba3c14e71f984a46\n",
    "\n",
    "#SOURCE\n",
    "{'001': 4,\n",
    " '011': 18,\n",
    " '111': 22,\n",
    " '101': 23,\n",
    " '000': 53,\n",
    " '110': 99,\n",
    " '100': 121,\n",
    " '010': 149}\n",
    "\n",
    "#FOLLOW\n",
    "{'001': 3,\n",
    " '011': 19,\n",
    " '101': 31,\n",
    " '111': 36,\n",
    " '000': 43,\n",
    " '110': 97,\n",
    " '100': 103,\n",
    " '010': 157}\n",
    "\n",
    "\"\""
   ]
  },
  {
   "cell_type": "code",
   "execution_count": 327,
   "id": "a5a930c6",
   "metadata": {
    "ExecuteTime": {
     "end_time": "2022-02-09T17:25:06.912000Z",
     "start_time": "2022-02-09T17:25:06.214651Z"
    },
    "code_folding": [
     0,
     2,
     32
    ]
   },
   "outputs": [
    {
     "name": "stdout",
     "output_type": "stream",
     "text": [
      "stat: 0.015878744135691087, pval: 0.8760028027498028\n",
      "n_qubits: 8\n",
      "n_shots: 2771.0\n",
      "Uniform threshold: 10.82421875\n"
     ]
    },
    {
     "data": {
      "image/png": "[encoded data removed]",
      "text/plain": [
       "<Figure size 720x432 with 1 Axes>"
      ]
     },
     "metadata": {
      "needs_background": "light"
     },
     "output_type": "display_data"
    },
    {
     "data": {
      "text/plain": [
       "<inspector.OneNightStandInspector at 0x7fb8ec8f4640>"
      ]
     },
     "execution_count": 327,
     "metadata": {},
     "output_type": "execute_result"
    }
   ],
   "source": [
    "# ID: qmt_v01 7626fc0fb4044fc89a3b8fc6c2b243fa\n",
    "\n",
    "counts_source = {'11000100': 1,\n",
    " '11000111': 1,\n",
    " '10100110': 1,\n",
    " '10000100': 2,\n",
    " '11000110': 2,\n",
    " '10100100': 3,\n",
    " '10000111': 3,\n",
    " '10100111': 3,\n",
    " '11100110': 3,\n",
    " '11100101': 4,\n",
    " '10100101': 4,\n",
    " '11100111': 5,\n",
    " '10000110': 5,\n",
    " '10000011': 121,\n",
    " '10000000': 122,\n",
    " '11000000': 126,\n",
    " '11000011': 133,\n",
    " '10000010': 141,\n",
    " '11000001': 143,\n",
    " '10000001': 144,\n",
    " '11000010': 145,\n",
    " '11100011': 189,\n",
    " '11100001': 196,\n",
    " '10100011': 204,\n",
    " '10100000': 204,\n",
    " '10100001': 209,\n",
    " '10100010': 216,\n",
    " '11100010': 219,\n",
    " '11100000': 222}\n",
    "\n",
    "counts_follow = {'11000101': 1,\n",
    " '10100110': 1,\n",
    " '10000111': 2,\n",
    " '11100110': 2,\n",
    " '10000110': 2,\n",
    " '11000100': 2,\n",
    " '11100111': 3,\n",
    " '10100111': 3,\n",
    " '11100101': 3,\n",
    " '10100101': 3,\n",
    " '10000100': 4,\n",
    " '11000111': 4,\n",
    " '11000110': 5,\n",
    " '10000101': 6,\n",
    " '11100100': 7,\n",
    " '10100100': 7,\n",
    " '10000001': 128,\n",
    " '11000000': 131,\n",
    " '11000001': 132,\n",
    " '10000010': 137,\n",
    " '10000011': 138,\n",
    " '11000011': 144,\n",
    " '11000010': 154,\n",
    " '10000000': 161,\n",
    " '11100001': 186,\n",
    " '10100010': 191,\n",
    " '11100011': 194,\n",
    " '10100011': 195,\n",
    " '10100000': 201,\n",
    " '11100010': 203,\n",
    " '10100001': 203,\n",
    " '11100000': 218}\n",
    "\n",
    "from inspector import OneNightStandInspector\n",
    "from detectors import KS_Detector, Energy_Detector\n",
    "\n",
    "detector = KS_Detector()\n",
    "stat, pval = detector.check(counts_source, counts_follow)\n",
    "print(f\"stat: {stat}, pval: {pval}\")\n",
    "OneNightStandInspector(counts_source, counts_follow, name_a=\"source\", name_b=\"follow\", top_perc=1)"
   ]
  },
  {
   "cell_type": "markdown",
   "id": "4982dc36",
   "metadata": {},
   "source": [
    "## FOLLOW (BASIC GATES)"
   ]
  },
  {
   "cell_type": "code",
   "execution_count": 151,
   "id": "fe40d133",
   "metadata": {
    "ExecuteTime": {
     "end_time": "2022-02-09T14:25:55.977349Z",
     "start_time": "2022-02-09T14:25:55.904575Z"
    }
   },
   "outputs": [
    {
     "data": {
      "text/html": [
       "<pre style=\"word-wrap: normal;white-space: pre;background: #fff0;line-height: 1.1;font-family: &quot;Courier New&quot;,Courier,monospace\">                                                                                             ┌────┐              ┌────────────┐           \n",
       "qr_qr_0: ──■─────────────────────────────────────────────────────────■─────■─────────────────┤ √X ├──────────────┤ P(0.80295) ├──■────────\n",
       "           │                                                       ┌─┴──┐  │                 └────┘              └────────────┘  │        \n",
       "qr_qr_1: ──■───────────────────────────────────────────────────────┤ Sx ├──■─────────────────────────────────────────────────────┼────────\n",
       "                                                                   └─┬──┘┌─┴──┐                                                ┌─┴─┐      \n",
       "qr_qr_2: ───────────────────────────────────────────────────────■────■───┤ Sx ├────────────────────────────────────────────────┤ X ├──────\n",
       "                                                 ┌───────────┐  │    │   └─┬──┘┌────────────────────────────────┐              └─┬─┘┌────┐\n",
       "qr_qr_3: ──────────────────────■─────────────────┤ P(4.1499) ├──┼────┼─────┼───┤ U(3.8082,3.8538,3.9815,5.6314) ├────────────────■──┤ Sx ├\n",
       "         ┌───┐┌────────────────┴────────────────┐└───────────┘┌─┴─┐  │     │   └───────────────┬────────────────┘                   └─┬──┘\n",
       "qr_qr_4: ┤ H ├┤ U(0.87432,3.6462,1.0458,1.1064) ├─────────────┤ X ├──■─────■───────────────────■──────────────────────────────────────■───\n",
       "         └───┘└─────────────────────────────────┘             └───┘                                                                       \n",
       "cr_qr: 5/═════════════════════════════════════════════════════════════════════════════════════════════════════════════════════════════════\n",
       "                                                                                                                                          </pre>"
      ],
      "text/plain": [
       "                                                                                             ┌────┐              ┌────────────┐           \n",
       "qr_qr_0: ──■─────────────────────────────────────────────────────────■─────■─────────────────┤ √X ├──────────────┤ P(0.80295) ├──■────────\n",
       "           │                                                       ┌─┴──┐  │                 └────┘              └────────────┘  │        \n",
       "qr_qr_1: ──■───────────────────────────────────────────────────────┤ Sx ├──■─────────────────────────────────────────────────────┼────────\n",
       "                                                                   └─┬──┘┌─┴──┐                                                ┌─┴─┐      \n",
       "qr_qr_2: ───────────────────────────────────────────────────────■────■───┤ Sx ├────────────────────────────────────────────────┤ X ├──────\n",
       "                                                 ┌───────────┐  │    │   └─┬──┘┌────────────────────────────────┐              └─┬─┘┌────┐\n",
       "qr_qr_3: ──────────────────────■─────────────────┤ P(4.1499) ├──┼────┼─────┼───┤ U(3.8082,3.8538,3.9815,5.6314) ├────────────────■──┤ Sx ├\n",
       "         ┌───┐┌────────────────┴────────────────┐└───────────┘┌─┴─┐  │     │   └───────────────┬────────────────┘                   └─┬──┘\n",
       "qr_qr_4: ┤ H ├┤ U(0.87432,3.6462,1.0458,1.1064) ├─────────────┤ X ├──■─────■───────────────────■──────────────────────────────────────■───\n",
       "         └───┘└─────────────────────────────────┘             └───┘                                                                       \n",
       "cr_qr: 5/═════════════════════════════════════════════════════════════════════════════════════════════════════════════════════════════════\n",
       "                                                                                                                                          "
      ]
     },
     "execution_count": 151,
     "metadata": {},
     "output_type": "execute_result"
    }
   ],
   "source": [
    "# SECTION\n",
    "# NAME: PROLOGUE\n",
    "\n",
    "import qiskit\n",
    "from qiskit import QuantumCircuit, ClassicalRegister, QuantumRegister\n",
    "from qiskit.circuit.library.standard_gates import *\n",
    "# SECTION\n",
    "# NAME: CIRCUIT\n",
    "\n",
    "qr_qr = QuantumRegister(5, name='qr_qr')\n",
    "cr_qr = ClassicalRegister(5, name='cr_qr')\n",
    "qc = QuantumCircuit(qr_qr, cr_qr, name='qc')\n",
    "qc.append(CZGate(), qargs=[qr_qr[0], qr_qr[1]], cargs=[])\n",
    "qc.append(HGate(), qargs=[qr_qr[4]], cargs=[])\n",
    "qc.append(CUGate(0.8743215461586589, 3.6461526174144714, 1.0457574994884162, 1.1064426019797104), qargs=[qr_qr[3], qr_qr[4]], cargs=[])\n",
    "qc.append(PhaseGate(4.14990597292941), qargs=[qr_qr[3]], cargs=[])\n",
    "qc.append(CXGate(), qargs=[qr_qr[2], qr_qr[4]], cargs=[])\n",
    "qc.append(C3XGate(3.685827592928898), qargs=[qr_qr[0], qr_qr[4], qr_qr[2], qr_qr[1]], cargs=[])\n",
    "qc.append(C3XGate(4.616110935538422), qargs=[qr_qr[1], qr_qr[0], qr_qr[4], qr_qr[2]], cargs=[])\n",
    "qc.append(CUGate(3.808150863427504, 3.853799014455113, 3.9815403169823433, 5.631402019842159), qargs=[qr_qr[4], qr_qr[3]], cargs=[])\n",
    "qc.append(SXGate(), qargs=[qr_qr[0]], cargs=[])\n",
    "qc.append(PhaseGate(0.8029501314368291), qargs=[qr_qr[0]], cargs=[])\n",
    "qc.append(CCXGate(), qargs=[qr_qr[0], qr_qr[3], qr_qr[2]], cargs=[])\n",
    "qc.append(CSXGate(), qargs=[qr_qr[4], qr_qr[3]], cargs=[])\n",
    "# SECTION\n",
    "# NAME: OPTIMIZATION_PASSES\n",
    "\n",
    "from qiskit.transpiler import PassManager\n",
    "from qiskit.transpiler.passes import *\n",
    "passmanager = PassManager()\n",
    "qc = passmanager.run(qc)\n",
    "qc.draw(fold=-1)"
   ]
  },
  {
   "cell_type": "code",
   "execution_count": 148,
   "id": "ac25b1db",
   "metadata": {
    "ExecuteTime": {
     "end_time": "2022-02-09T14:23:42.682995Z",
     "start_time": "2022-02-09T14:23:42.630398Z"
    }
   },
   "outputs": [],
   "source": [
    "import logging\n",
    "logging.getLogger().setLevel(logging.DEBUG)"
   ]
  },
  {
   "cell_type": "code",
   "execution_count": 150,
   "id": "e021adc6",
   "metadata": {
    "ExecuteTime": {
     "end_time": "2022-02-09T14:25:53.060140Z",
     "start_time": "2022-02-09T14:24:37.278134Z"
    }
   },
   "outputs": [
    {
     "name": "stdout",
     "output_type": "stream",
     "text": [
      "--Return--\n",
      "None\n",
      "> \u001b[0;32m/tmp/ipykernel_48930/3525238346.py\u001b[0m(5)\u001b[0;36m<module>\u001b[0;34m()\u001b[0m\n",
      "\u001b[0;32m      2 \u001b[0;31m\u001b[0;31m# NAME: OPTIMIZATION_LEVEL\u001b[0m\u001b[0;34m\u001b[0m\u001b[0;34m\u001b[0m\u001b[0;34m\u001b[0m\u001b[0m\n",
      "\u001b[0m\u001b[0;32m      3 \u001b[0;31m\u001b[0;32mfrom\u001b[0m \u001b[0mqiskit\u001b[0m \u001b[0;32mimport\u001b[0m \u001b[0mtranspile\u001b[0m\u001b[0;34m\u001b[0m\u001b[0;34m\u001b[0m\u001b[0m\n",
      "\u001b[0m\u001b[0;32m      4 \u001b[0;31m\u001b[0;32mimport\u001b[0m \u001b[0mpdb\u001b[0m\u001b[0;34m\u001b[0m\u001b[0;34m\u001b[0m\u001b[0m\n",
      "\u001b[0m\u001b[0;32m----> 5 \u001b[0;31m\u001b[0mpdb\u001b[0m\u001b[0;34m.\u001b[0m\u001b[0mset_trace\u001b[0m\u001b[0;34m(\u001b[0m\u001b[0;34m)\u001b[0m\u001b[0;34m\u001b[0m\u001b[0;34m\u001b[0m\u001b[0m\n",
      "\u001b[0m\u001b[0;32m      6 \u001b[0;31m\u001b[0mqc\u001b[0m \u001b[0;34m=\u001b[0m \u001b[0mtranspile\u001b[0m\u001b[0;34m(\u001b[0m\u001b[0mqc\u001b[0m\u001b[0;34m,\u001b[0m \u001b[0mbasis_gates\u001b[0m\u001b[0;34m=\u001b[0m\u001b[0;34m[\u001b[0m\u001b[0;34m'cx'\u001b[0m\u001b[0;34m,\u001b[0m \u001b[0;34m'h'\u001b[0m\u001b[0;34m,\u001b[0m \u001b[0;34m's'\u001b[0m\u001b[0;34m,\u001b[0m \u001b[0;34m't'\u001b[0m\u001b[0;34m]\u001b[0m\u001b[0;34m,\u001b[0m \u001b[0moptimization_level\u001b[0m\u001b[0;34m=\u001b[0m\u001b[0;36m2\u001b[0m\u001b[0;34m)\u001b[0m\u001b[0;34m\u001b[0m\u001b[0;34m\u001b[0m\u001b[0m\n",
      "\u001b[0m\n",
      "ipdb> b /home/paltenmo/.conda/envs/ML4Quantum/lib/python3.8/site-packages/qiskit/transpiler/passes/basis/basis_translator.py:367\n",
      "Breakpoint 1 at /home/paltenmo/.conda/envs/ML4Quantum/lib/python3.8/site-packages/qiskit/transpiler/passes/basis/basis_translator.py:367\n",
      "ipdb> c\n",
      "> \u001b[0;32m/home/paltenmo/.conda/envs/ML4Quantum/lib/python3.8/site-packages/qiskit/transpiler/passes/basis/basis_translator.py\u001b[0m(367)\u001b[0;36m_basis_search\u001b[0;34m()\u001b[0m\n",
      "\u001b[0;32m    365 \u001b[0;31m            \u001b[0;32mreturn\u001b[0m \u001b[0mrtn\u001b[0m\u001b[0;34m\u001b[0m\u001b[0;34m\u001b[0m\u001b[0m\n",
      "\u001b[0m\u001b[0;32m    366 \u001b[0;31m\u001b[0;34m\u001b[0m\u001b[0m\n",
      "\u001b[0m\u001b[1;31m1\u001b[0;32m-> 367 \u001b[0;31m        \u001b[0mlogger\u001b[0m\u001b[0;34m.\u001b[0m\u001b[0mdebug\u001b[0m\u001b[0;34m(\u001b[0m\u001b[0;34m\"Inspecting basis %s.\"\u001b[0m\u001b[0;34m,\u001b[0m \u001b[0mcurrent_basis\u001b[0m\u001b[0;34m)\u001b[0m\u001b[0;34m\u001b[0m\u001b[0;34m\u001b[0m\u001b[0m\n",
      "\u001b[0m\u001b[0;32m    368 \u001b[0;31m        \u001b[0mopen_set\u001b[0m\u001b[0;34m.\u001b[0m\u001b[0mremove\u001b[0m\u001b[0;34m(\u001b[0m\u001b[0mcurrent_basis\u001b[0m\u001b[0;34m)\u001b[0m\u001b[0;34m\u001b[0m\u001b[0;34m\u001b[0m\u001b[0m\n",
      "\u001b[0m\u001b[0;32m    369 \u001b[0;31m        \u001b[0mclosed_set\u001b[0m\u001b[0;34m.\u001b[0m\u001b[0madd\u001b[0m\u001b[0;34m(\u001b[0m\u001b[0mcurrent_basis\u001b[0m\u001b[0;34m)\u001b[0m\u001b[0;34m\u001b[0m\u001b[0;34m\u001b[0m\u001b[0m\n",
      "\u001b[0m\n",
      "ipdb> logger..setLevel(logging.DEBUG)\n",
      "*** SyntaxError: invalid syntax\n",
      "ipdb> logger.setLevel(logging.DEBUG)\n",
      "ipdb> c\n",
      "> \u001b[0;32m/home/paltenmo/.conda/envs/ML4Quantum/lib/python3.8/site-packages/qiskit/transpiler/passes/basis/basis_translator.py\u001b[0m(367)\u001b[0;36m_basis_search\u001b[0;34m()\u001b[0m\n",
      "\u001b[0;32m    365 \u001b[0;31m            \u001b[0;32mreturn\u001b[0m \u001b[0mrtn\u001b[0m\u001b[0;34m\u001b[0m\u001b[0;34m\u001b[0m\u001b[0m\n",
      "\u001b[0m\u001b[0;32m    366 \u001b[0;31m\u001b[0;34m\u001b[0m\u001b[0m\n",
      "\u001b[0m\u001b[1;31m1\u001b[0;32m-> 367 \u001b[0;31m        \u001b[0mlogger\u001b[0m\u001b[0;34m.\u001b[0m\u001b[0mdebug\u001b[0m\u001b[0;34m(\u001b[0m\u001b[0;34m\"Inspecting basis %s.\"\u001b[0m\u001b[0;34m,\u001b[0m \u001b[0mcurrent_basis\u001b[0m\u001b[0;34m)\u001b[0m\u001b[0;34m\u001b[0m\u001b[0;34m\u001b[0m\u001b[0m\n",
      "\u001b[0m\u001b[0;32m    368 \u001b[0;31m        \u001b[0mopen_set\u001b[0m\u001b[0;34m.\u001b[0m\u001b[0mremove\u001b[0m\u001b[0;34m(\u001b[0m\u001b[0mcurrent_basis\u001b[0m\u001b[0;34m)\u001b[0m\u001b[0;34m\u001b[0m\u001b[0;34m\u001b[0m\u001b[0m\n",
      "\u001b[0m\u001b[0;32m    369 \u001b[0;31m        \u001b[0mclosed_set\u001b[0m\u001b[0;34m.\u001b[0m\u001b[0madd\u001b[0m\u001b[0;34m(\u001b[0m\u001b[0mcurrent_basis\u001b[0m\u001b[0;34m)\u001b[0m\u001b[0;34m\u001b[0m\u001b[0;34m\u001b[0m\u001b[0m\n",
      "\u001b[0m\n",
      "ipdb> c\n",
      "> \u001b[0;32m/home/paltenmo/.conda/envs/ML4Quantum/lib/python3.8/site-packages/qiskit/transpiler/passes/basis/basis_translator.py\u001b[0m(367)\u001b[0;36m_basis_search\u001b[0;34m()\u001b[0m\n",
      "\u001b[0;32m    365 \u001b[0;31m            \u001b[0;32mreturn\u001b[0m \u001b[0mrtn\u001b[0m\u001b[0;34m\u001b[0m\u001b[0;34m\u001b[0m\u001b[0m\n",
      "\u001b[0m\u001b[0;32m    366 \u001b[0;31m\u001b[0;34m\u001b[0m\u001b[0m\n",
      "\u001b[0m\u001b[1;31m1\u001b[0;32m-> 367 \u001b[0;31m        \u001b[0mlogger\u001b[0m\u001b[0;34m.\u001b[0m\u001b[0mdebug\u001b[0m\u001b[0;34m(\u001b[0m\u001b[0;34m\"Inspecting basis %s.\"\u001b[0m\u001b[0;34m,\u001b[0m \u001b[0mcurrent_basis\u001b[0m\u001b[0;34m)\u001b[0m\u001b[0;34m\u001b[0m\u001b[0;34m\u001b[0m\u001b[0m\n",
      "\u001b[0m\u001b[0;32m    368 \u001b[0;31m        \u001b[0mopen_set\u001b[0m\u001b[0;34m.\u001b[0m\u001b[0mremove\u001b[0m\u001b[0;34m(\u001b[0m\u001b[0mcurrent_basis\u001b[0m\u001b[0;34m)\u001b[0m\u001b[0;34m\u001b[0m\u001b[0;34m\u001b[0m\u001b[0m\n",
      "\u001b[0m\u001b[0;32m    369 \u001b[0;31m        \u001b[0mclosed_set\u001b[0m\u001b[0;34m.\u001b[0m\u001b[0madd\u001b[0m\u001b[0;34m(\u001b[0m\u001b[0mcurrent_basis\u001b[0m\u001b[0;34m)\u001b[0m\u001b[0;34m\u001b[0m\u001b[0;34m\u001b[0m\u001b[0m\n",
      "\u001b[0m\n",
      "ipdb> c\n",
      "> \u001b[0;32m/home/paltenmo/.conda/envs/ML4Quantum/lib/python3.8/site-packages/qiskit/transpiler/passes/basis/basis_translator.py\u001b[0m(367)\u001b[0;36m_basis_search\u001b[0;34m()\u001b[0m\n",
      "\u001b[0;32m    365 \u001b[0;31m            \u001b[0;32mreturn\u001b[0m \u001b[0mrtn\u001b[0m\u001b[0;34m\u001b[0m\u001b[0;34m\u001b[0m\u001b[0m\n",
      "\u001b[0m\u001b[0;32m    366 \u001b[0;31m\u001b[0;34m\u001b[0m\u001b[0m\n",
      "\u001b[0m\u001b[1;31m1\u001b[0;32m-> 367 \u001b[0;31m        \u001b[0mlogger\u001b[0m\u001b[0;34m.\u001b[0m\u001b[0mdebug\u001b[0m\u001b[0;34m(\u001b[0m\u001b[0;34m\"Inspecting basis %s.\"\u001b[0m\u001b[0;34m,\u001b[0m \u001b[0mcurrent_basis\u001b[0m\u001b[0;34m)\u001b[0m\u001b[0;34m\u001b[0m\u001b[0;34m\u001b[0m\u001b[0m\n",
      "\u001b[0m\u001b[0;32m    368 \u001b[0;31m        \u001b[0mopen_set\u001b[0m\u001b[0;34m.\u001b[0m\u001b[0mremove\u001b[0m\u001b[0;34m(\u001b[0m\u001b[0mcurrent_basis\u001b[0m\u001b[0;34m)\u001b[0m\u001b[0;34m\u001b[0m\u001b[0;34m\u001b[0m\u001b[0m\n",
      "\u001b[0m\u001b[0;32m    369 \u001b[0;31m        \u001b[0mclosed_set\u001b[0m\u001b[0;34m.\u001b[0m\u001b[0madd\u001b[0m\u001b[0;34m(\u001b[0m\u001b[0mcurrent_basis\u001b[0m\u001b[0;34m)\u001b[0m\u001b[0;34m\u001b[0m\u001b[0;34m\u001b[0m\u001b[0m\n",
      "\u001b[0m\n",
      "ipdb> c\n",
      "> \u001b[0;32m/home/paltenmo/.conda/envs/ML4Quantum/lib/python3.8/site-packages/qiskit/transpiler/passes/basis/basis_translator.py\u001b[0m(367)\u001b[0;36m_basis_search\u001b[0;34m()\u001b[0m\n",
      "\u001b[0;32m    365 \u001b[0;31m            \u001b[0;32mreturn\u001b[0m \u001b[0mrtn\u001b[0m\u001b[0;34m\u001b[0m\u001b[0;34m\u001b[0m\u001b[0m\n",
      "\u001b[0m\u001b[0;32m    366 \u001b[0;31m\u001b[0;34m\u001b[0m\u001b[0m\n",
      "\u001b[0m\u001b[1;31m1\u001b[0;32m-> 367 \u001b[0;31m        \u001b[0mlogger\u001b[0m\u001b[0;34m.\u001b[0m\u001b[0mdebug\u001b[0m\u001b[0;34m(\u001b[0m\u001b[0;34m\"Inspecting basis %s.\"\u001b[0m\u001b[0;34m,\u001b[0m \u001b[0mcurrent_basis\u001b[0m\u001b[0;34m)\u001b[0m\u001b[0;34m\u001b[0m\u001b[0;34m\u001b[0m\u001b[0m\n",
      "\u001b[0m\u001b[0;32m    368 \u001b[0;31m        \u001b[0mopen_set\u001b[0m\u001b[0;34m.\u001b[0m\u001b[0mremove\u001b[0m\u001b[0;34m(\u001b[0m\u001b[0mcurrent_basis\u001b[0m\u001b[0;34m)\u001b[0m\u001b[0;34m\u001b[0m\u001b[0;34m\u001b[0m\u001b[0m\n",
      "\u001b[0m\u001b[0;32m    369 \u001b[0;31m        \u001b[0mclosed_set\u001b[0m\u001b[0;34m.\u001b[0m\u001b[0madd\u001b[0m\u001b[0;34m(\u001b[0m\u001b[0mcurrent_basis\u001b[0m\u001b[0;34m)\u001b[0m\u001b[0;34m\u001b[0m\u001b[0;34m\u001b[0m\u001b[0m\n",
      "\u001b[0m\n",
      "ipdb> c\n",
      "> \u001b[0;32m/home/paltenmo/.conda/envs/ML4Quantum/lib/python3.8/site-packages/qiskit/transpiler/passes/basis/basis_translator.py\u001b[0m(367)\u001b[0;36m_basis_search\u001b[0;34m()\u001b[0m\n",
      "\u001b[0;32m    365 \u001b[0;31m            \u001b[0;32mreturn\u001b[0m \u001b[0mrtn\u001b[0m\u001b[0;34m\u001b[0m\u001b[0;34m\u001b[0m\u001b[0m\n",
      "\u001b[0m\u001b[0;32m    366 \u001b[0;31m\u001b[0;34m\u001b[0m\u001b[0m\n",
      "\u001b[0m\u001b[1;31m1\u001b[0;32m-> 367 \u001b[0;31m        \u001b[0mlogger\u001b[0m\u001b[0;34m.\u001b[0m\u001b[0mdebug\u001b[0m\u001b[0;34m(\u001b[0m\u001b[0;34m\"Inspecting basis %s.\"\u001b[0m\u001b[0;34m,\u001b[0m \u001b[0mcurrent_basis\u001b[0m\u001b[0;34m)\u001b[0m\u001b[0;34m\u001b[0m\u001b[0;34m\u001b[0m\u001b[0m\n",
      "\u001b[0m\u001b[0;32m    368 \u001b[0;31m        \u001b[0mopen_set\u001b[0m\u001b[0;34m.\u001b[0m\u001b[0mremove\u001b[0m\u001b[0;34m(\u001b[0m\u001b[0mcurrent_basis\u001b[0m\u001b[0;34m)\u001b[0m\u001b[0;34m\u001b[0m\u001b[0;34m\u001b[0m\u001b[0m\n",
      "\u001b[0m\u001b[0;32m    369 \u001b[0;31m        \u001b[0mclosed_set\u001b[0m\u001b[0;34m.\u001b[0m\u001b[0madd\u001b[0m\u001b[0;34m(\u001b[0m\u001b[0mcurrent_basis\u001b[0m\u001b[0;34m)\u001b[0m\u001b[0;34m\u001b[0m\u001b[0;34m\u001b[0m\u001b[0m\n",
      "\u001b[0m\n",
      "ipdb> current_basis\n",
      "frozenset({('tdg', 1), ('h', 1), ('sx', 1), ('t', 1), ('cu1', 2), ('u', 1), ('cx', 2)})\n",
      "ipdb> c\n",
      "> \u001b[0;32m/home/paltenmo/.conda/envs/ML4Quantum/lib/python3.8/site-packages/qiskit/transpiler/passes/basis/basis_translator.py\u001b[0m(367)\u001b[0;36m_basis_search\u001b[0;34m()\u001b[0m\n",
      "\u001b[0;32m    365 \u001b[0;31m            \u001b[0;32mreturn\u001b[0m \u001b[0mrtn\u001b[0m\u001b[0;34m\u001b[0m\u001b[0;34m\u001b[0m\u001b[0m\n",
      "\u001b[0m\u001b[0;32m    366 \u001b[0;31m\u001b[0;34m\u001b[0m\u001b[0m\n",
      "\u001b[0m\u001b[1;31m1\u001b[0;32m-> 367 \u001b[0;31m        \u001b[0mlogger\u001b[0m\u001b[0;34m.\u001b[0m\u001b[0mdebug\u001b[0m\u001b[0;34m(\u001b[0m\u001b[0;34m\"Inspecting basis %s.\"\u001b[0m\u001b[0;34m,\u001b[0m \u001b[0mcurrent_basis\u001b[0m\u001b[0;34m)\u001b[0m\u001b[0;34m\u001b[0m\u001b[0;34m\u001b[0m\u001b[0m\n",
      "\u001b[0m\u001b[0;32m    368 \u001b[0;31m        \u001b[0mopen_set\u001b[0m\u001b[0;34m.\u001b[0m\u001b[0mremove\u001b[0m\u001b[0;34m(\u001b[0m\u001b[0mcurrent_basis\u001b[0m\u001b[0;34m)\u001b[0m\u001b[0;34m\u001b[0m\u001b[0;34m\u001b[0m\u001b[0m\n",
      "\u001b[0m\u001b[0;32m    369 \u001b[0;31m        \u001b[0mclosed_set\u001b[0m\u001b[0;34m.\u001b[0m\u001b[0madd\u001b[0m\u001b[0;34m(\u001b[0m\u001b[0mcurrent_basis\u001b[0m\u001b[0;34m)\u001b[0m\u001b[0;34m\u001b[0m\u001b[0;34m\u001b[0m\u001b[0m\n",
      "\u001b[0m\n",
      "ipdb> current_basis\n",
      "frozenset({('u1', 1), ('h', 1), ('sx', 1), ('t', 1), ('cu1', 2), ('u', 1), ('cx', 2)})\n",
      "ipdb> c\n",
      "> \u001b[0;32m/home/paltenmo/.conda/envs/ML4Quantum/lib/python3.8/site-packages/qiskit/transpiler/passes/basis/basis_translator.py\u001b[0m(367)\u001b[0;36m_basis_search\u001b[0;34m()\u001b[0m\n",
      "\u001b[0;32m    365 \u001b[0;31m            \u001b[0;32mreturn\u001b[0m \u001b[0mrtn\u001b[0m\u001b[0;34m\u001b[0m\u001b[0;34m\u001b[0m\u001b[0m\n",
      "\u001b[0m\u001b[0;32m    366 \u001b[0;31m\u001b[0;34m\u001b[0m\u001b[0m\n",
      "\u001b[0m\u001b[1;31m1\u001b[0;32m-> 367 \u001b[0;31m        \u001b[0mlogger\u001b[0m\u001b[0;34m.\u001b[0m\u001b[0mdebug\u001b[0m\u001b[0;34m(\u001b[0m\u001b[0;34m\"Inspecting basis %s.\"\u001b[0m\u001b[0;34m,\u001b[0m \u001b[0mcurrent_basis\u001b[0m\u001b[0;34m)\u001b[0m\u001b[0;34m\u001b[0m\u001b[0;34m\u001b[0m\u001b[0m\n",
      "\u001b[0m\u001b[0;32m    368 \u001b[0;31m        \u001b[0mopen_set\u001b[0m\u001b[0;34m.\u001b[0m\u001b[0mremove\u001b[0m\u001b[0;34m(\u001b[0m\u001b[0mcurrent_basis\u001b[0m\u001b[0;34m)\u001b[0m\u001b[0;34m\u001b[0m\u001b[0;34m\u001b[0m\u001b[0m\n",
      "\u001b[0m\u001b[0;32m    369 \u001b[0;31m        \u001b[0mclosed_set\u001b[0m\u001b[0;34m.\u001b[0m\u001b[0madd\u001b[0m\u001b[0;34m(\u001b[0m\u001b[0mcurrent_basis\u001b[0m\u001b[0;34m)\u001b[0m\u001b[0;34m\u001b[0m\u001b[0;34m\u001b[0m\u001b[0m\n",
      "\u001b[0m\n",
      "ipdb> c\n",
      "> \u001b[0;32m/home/paltenmo/.conda/envs/ML4Quantum/lib/python3.8/site-packages/qiskit/transpiler/passes/basis/basis_translator.py\u001b[0m(367)\u001b[0;36m_basis_search\u001b[0;34m()\u001b[0m\n",
      "\u001b[0;32m    365 \u001b[0;31m            \u001b[0;32mreturn\u001b[0m \u001b[0mrtn\u001b[0m\u001b[0;34m\u001b[0m\u001b[0;34m\u001b[0m\u001b[0m\n",
      "\u001b[0m\u001b[0;32m    366 \u001b[0;31m\u001b[0;34m\u001b[0m\u001b[0m\n",
      "\u001b[0m\u001b[1;31m1\u001b[0;32m-> 367 \u001b[0;31m        \u001b[0mlogger\u001b[0m\u001b[0;34m.\u001b[0m\u001b[0mdebug\u001b[0m\u001b[0;34m(\u001b[0m\u001b[0;34m\"Inspecting basis %s.\"\u001b[0m\u001b[0;34m,\u001b[0m \u001b[0mcurrent_basis\u001b[0m\u001b[0;34m)\u001b[0m\u001b[0;34m\u001b[0m\u001b[0;34m\u001b[0m\u001b[0m\n",
      "\u001b[0m\u001b[0;32m    368 \u001b[0;31m        \u001b[0mopen_set\u001b[0m\u001b[0;34m.\u001b[0m\u001b[0mremove\u001b[0m\u001b[0;34m(\u001b[0m\u001b[0mcurrent_basis\u001b[0m\u001b[0;34m)\u001b[0m\u001b[0;34m\u001b[0m\u001b[0;34m\u001b[0m\u001b[0m\n",
      "\u001b[0m\u001b[0;32m    369 \u001b[0;31m        \u001b[0mclosed_set\u001b[0m\u001b[0;34m.\u001b[0m\u001b[0madd\u001b[0m\u001b[0;34m(\u001b[0m\u001b[0mcurrent_basis\u001b[0m\u001b[0;34m)\u001b[0m\u001b[0;34m\u001b[0m\u001b[0;34m\u001b[0m\u001b[0m\n",
      "\u001b[0m\n"
     ]
    },
    {
     "name": "stdout",
     "output_type": "stream",
     "text": [
      "ipdb> c\n",
      "> \u001b[0;32m/home/paltenmo/.conda/envs/ML4Quantum/lib/python3.8/site-packages/qiskit/transpiler/passes/basis/basis_translator.py\u001b[0m(367)\u001b[0;36m_basis_search\u001b[0;34m()\u001b[0m\n",
      "\u001b[0;32m    365 \u001b[0;31m            \u001b[0;32mreturn\u001b[0m \u001b[0mrtn\u001b[0m\u001b[0;34m\u001b[0m\u001b[0;34m\u001b[0m\u001b[0m\n",
      "\u001b[0m\u001b[0;32m    366 \u001b[0;31m\u001b[0;34m\u001b[0m\u001b[0m\n",
      "\u001b[0m\u001b[1;31m1\u001b[0;32m-> 367 \u001b[0;31m        \u001b[0mlogger\u001b[0m\u001b[0;34m.\u001b[0m\u001b[0mdebug\u001b[0m\u001b[0;34m(\u001b[0m\u001b[0;34m\"Inspecting basis %s.\"\u001b[0m\u001b[0;34m,\u001b[0m \u001b[0mcurrent_basis\u001b[0m\u001b[0;34m)\u001b[0m\u001b[0;34m\u001b[0m\u001b[0;34m\u001b[0m\u001b[0m\n",
      "\u001b[0m\u001b[0;32m    368 \u001b[0;31m        \u001b[0mopen_set\u001b[0m\u001b[0;34m.\u001b[0m\u001b[0mremove\u001b[0m\u001b[0;34m(\u001b[0m\u001b[0mcurrent_basis\u001b[0m\u001b[0;34m)\u001b[0m\u001b[0;34m\u001b[0m\u001b[0;34m\u001b[0m\u001b[0m\n",
      "\u001b[0m\u001b[0;32m    369 \u001b[0;31m        \u001b[0mclosed_set\u001b[0m\u001b[0;34m.\u001b[0m\u001b[0madd\u001b[0m\u001b[0;34m(\u001b[0m\u001b[0mcurrent_basis\u001b[0m\u001b[0;34m)\u001b[0m\u001b[0;34m\u001b[0m\u001b[0;34m\u001b[0m\u001b[0m\n",
      "\u001b[0m\n",
      "ipdb> c\n",
      "> \u001b[0;32m/home/paltenmo/.conda/envs/ML4Quantum/lib/python3.8/site-packages/qiskit/transpiler/passes/basis/basis_translator.py\u001b[0m(367)\u001b[0;36m_basis_search\u001b[0;34m()\u001b[0m\n",
      "\u001b[0;32m    365 \u001b[0;31m            \u001b[0;32mreturn\u001b[0m \u001b[0mrtn\u001b[0m\u001b[0;34m\u001b[0m\u001b[0;34m\u001b[0m\u001b[0m\n",
      "\u001b[0m\u001b[0;32m    366 \u001b[0;31m\u001b[0;34m\u001b[0m\u001b[0m\n",
      "\u001b[0m\u001b[1;31m1\u001b[0;32m-> 367 \u001b[0;31m        \u001b[0mlogger\u001b[0m\u001b[0;34m.\u001b[0m\u001b[0mdebug\u001b[0m\u001b[0;34m(\u001b[0m\u001b[0;34m\"Inspecting basis %s.\"\u001b[0m\u001b[0;34m,\u001b[0m \u001b[0mcurrent_basis\u001b[0m\u001b[0;34m)\u001b[0m\u001b[0;34m\u001b[0m\u001b[0;34m\u001b[0m\u001b[0m\n",
      "\u001b[0m\u001b[0;32m    368 \u001b[0;31m        \u001b[0mopen_set\u001b[0m\u001b[0;34m.\u001b[0m\u001b[0mremove\u001b[0m\u001b[0;34m(\u001b[0m\u001b[0mcurrent_basis\u001b[0m\u001b[0;34m)\u001b[0m\u001b[0;34m\u001b[0m\u001b[0;34m\u001b[0m\u001b[0m\n",
      "\u001b[0m\u001b[0;32m    369 \u001b[0;31m        \u001b[0mclosed_set\u001b[0m\u001b[0;34m.\u001b[0m\u001b[0madd\u001b[0m\u001b[0;34m(\u001b[0m\u001b[0mcurrent_basis\u001b[0m\u001b[0;34m)\u001b[0m\u001b[0;34m\u001b[0m\u001b[0;34m\u001b[0m\u001b[0m\n",
      "\u001b[0m\n",
      "ipdb> c\n",
      "> \u001b[0;32m/home/paltenmo/.conda/envs/ML4Quantum/lib/python3.8/site-packages/qiskit/transpiler/passes/basis/basis_translator.py\u001b[0m(367)\u001b[0;36m_basis_search\u001b[0;34m()\u001b[0m\n",
      "\u001b[0;32m    365 \u001b[0;31m            \u001b[0;32mreturn\u001b[0m \u001b[0mrtn\u001b[0m\u001b[0;34m\u001b[0m\u001b[0;34m\u001b[0m\u001b[0m\n",
      "\u001b[0m\u001b[0;32m    366 \u001b[0;31m\u001b[0;34m\u001b[0m\u001b[0m\n",
      "\u001b[0m\u001b[1;31m1\u001b[0;32m-> 367 \u001b[0;31m        \u001b[0mlogger\u001b[0m\u001b[0;34m.\u001b[0m\u001b[0mdebug\u001b[0m\u001b[0;34m(\u001b[0m\u001b[0;34m\"Inspecting basis %s.\"\u001b[0m\u001b[0;34m,\u001b[0m \u001b[0mcurrent_basis\u001b[0m\u001b[0;34m)\u001b[0m\u001b[0;34m\u001b[0m\u001b[0;34m\u001b[0m\u001b[0m\n",
      "\u001b[0m\u001b[0;32m    368 \u001b[0;31m        \u001b[0mopen_set\u001b[0m\u001b[0;34m.\u001b[0m\u001b[0mremove\u001b[0m\u001b[0;34m(\u001b[0m\u001b[0mcurrent_basis\u001b[0m\u001b[0;34m)\u001b[0m\u001b[0;34m\u001b[0m\u001b[0;34m\u001b[0m\u001b[0m\n",
      "\u001b[0m\u001b[0;32m    369 \u001b[0;31m        \u001b[0mclosed_set\u001b[0m\u001b[0;34m.\u001b[0m\u001b[0madd\u001b[0m\u001b[0;34m(\u001b[0m\u001b[0mcurrent_basis\u001b[0m\u001b[0;34m)\u001b[0m\u001b[0;34m\u001b[0m\u001b[0;34m\u001b[0m\u001b[0m\n",
      "\u001b[0m\n",
      "ipdb> \n",
      "> \u001b[0;32m/home/paltenmo/.conda/envs/ML4Quantum/lib/python3.8/site-packages/qiskit/transpiler/passes/basis/basis_translator.py\u001b[0m(367)\u001b[0;36m_basis_search\u001b[0;34m()\u001b[0m\n",
      "\u001b[0;32m    365 \u001b[0;31m            \u001b[0;32mreturn\u001b[0m \u001b[0mrtn\u001b[0m\u001b[0;34m\u001b[0m\u001b[0;34m\u001b[0m\u001b[0m\n",
      "\u001b[0m\u001b[0;32m    366 \u001b[0;31m\u001b[0;34m\u001b[0m\u001b[0m\n",
      "\u001b[0m\u001b[1;31m1\u001b[0;32m-> 367 \u001b[0;31m        \u001b[0mlogger\u001b[0m\u001b[0;34m.\u001b[0m\u001b[0mdebug\u001b[0m\u001b[0;34m(\u001b[0m\u001b[0;34m\"Inspecting basis %s.\"\u001b[0m\u001b[0;34m,\u001b[0m \u001b[0mcurrent_basis\u001b[0m\u001b[0;34m)\u001b[0m\u001b[0;34m\u001b[0m\u001b[0;34m\u001b[0m\u001b[0m\n",
      "\u001b[0m\u001b[0;32m    368 \u001b[0;31m        \u001b[0mopen_set\u001b[0m\u001b[0;34m.\u001b[0m\u001b[0mremove\u001b[0m\u001b[0;34m(\u001b[0m\u001b[0mcurrent_basis\u001b[0m\u001b[0;34m)\u001b[0m\u001b[0;34m\u001b[0m\u001b[0;34m\u001b[0m\u001b[0m\n",
      "\u001b[0m\u001b[0;32m    369 \u001b[0;31m        \u001b[0mclosed_set\u001b[0m\u001b[0;34m.\u001b[0m\u001b[0madd\u001b[0m\u001b[0;34m(\u001b[0m\u001b[0mcurrent_basis\u001b[0m\u001b[0;34m)\u001b[0m\u001b[0;34m\u001b[0m\u001b[0;34m\u001b[0m\u001b[0m\n",
      "\u001b[0m\n",
      "ipdb> \n",
      "> \u001b[0;32m/home/paltenmo/.conda/envs/ML4Quantum/lib/python3.8/site-packages/qiskit/transpiler/passes/basis/basis_translator.py\u001b[0m(367)\u001b[0;36m_basis_search\u001b[0;34m()\u001b[0m\n",
      "\u001b[0;32m    365 \u001b[0;31m            \u001b[0;32mreturn\u001b[0m \u001b[0mrtn\u001b[0m\u001b[0;34m\u001b[0m\u001b[0;34m\u001b[0m\u001b[0m\n",
      "\u001b[0m\u001b[0;32m    366 \u001b[0;31m\u001b[0;34m\u001b[0m\u001b[0m\n",
      "\u001b[0m\u001b[1;31m1\u001b[0;32m-> 367 \u001b[0;31m        \u001b[0mlogger\u001b[0m\u001b[0;34m.\u001b[0m\u001b[0mdebug\u001b[0m\u001b[0;34m(\u001b[0m\u001b[0;34m\"Inspecting basis %s.\"\u001b[0m\u001b[0;34m,\u001b[0m \u001b[0mcurrent_basis\u001b[0m\u001b[0;34m)\u001b[0m\u001b[0;34m\u001b[0m\u001b[0;34m\u001b[0m\u001b[0m\n",
      "\u001b[0m\u001b[0;32m    368 \u001b[0;31m        \u001b[0mopen_set\u001b[0m\u001b[0;34m.\u001b[0m\u001b[0mremove\u001b[0m\u001b[0;34m(\u001b[0m\u001b[0mcurrent_basis\u001b[0m\u001b[0;34m)\u001b[0m\u001b[0;34m\u001b[0m\u001b[0;34m\u001b[0m\u001b[0m\n",
      "\u001b[0m\u001b[0;32m    369 \u001b[0;31m        \u001b[0mclosed_set\u001b[0m\u001b[0;34m.\u001b[0m\u001b[0madd\u001b[0m\u001b[0;34m(\u001b[0m\u001b[0mcurrent_basis\u001b[0m\u001b[0;34m)\u001b[0m\u001b[0;34m\u001b[0m\u001b[0;34m\u001b[0m\u001b[0m\n",
      "\u001b[0m\n",
      "ipdb> \n",
      "> \u001b[0;32m/home/paltenmo/.conda/envs/ML4Quantum/lib/python3.8/site-packages/qiskit/transpiler/passes/basis/basis_translator.py\u001b[0m(367)\u001b[0;36m_basis_search\u001b[0;34m()\u001b[0m\n",
      "\u001b[0;32m    365 \u001b[0;31m            \u001b[0;32mreturn\u001b[0m \u001b[0mrtn\u001b[0m\u001b[0;34m\u001b[0m\u001b[0;34m\u001b[0m\u001b[0m\n",
      "\u001b[0m\u001b[0;32m    366 \u001b[0;31m\u001b[0;34m\u001b[0m\u001b[0m\n",
      "\u001b[0m\u001b[1;31m1\u001b[0;32m-> 367 \u001b[0;31m        \u001b[0mlogger\u001b[0m\u001b[0;34m.\u001b[0m\u001b[0mdebug\u001b[0m\u001b[0;34m(\u001b[0m\u001b[0;34m\"Inspecting basis %s.\"\u001b[0m\u001b[0;34m,\u001b[0m \u001b[0mcurrent_basis\u001b[0m\u001b[0;34m)\u001b[0m\u001b[0;34m\u001b[0m\u001b[0;34m\u001b[0m\u001b[0m\n",
      "\u001b[0m\u001b[0;32m    368 \u001b[0;31m        \u001b[0mopen_set\u001b[0m\u001b[0;34m.\u001b[0m\u001b[0mremove\u001b[0m\u001b[0;34m(\u001b[0m\u001b[0mcurrent_basis\u001b[0m\u001b[0;34m)\u001b[0m\u001b[0;34m\u001b[0m\u001b[0;34m\u001b[0m\u001b[0m\n",
      "\u001b[0m\u001b[0;32m    369 \u001b[0;31m        \u001b[0mclosed_set\u001b[0m\u001b[0;34m.\u001b[0m\u001b[0madd\u001b[0m\u001b[0;34m(\u001b[0m\u001b[0mcurrent_basis\u001b[0m\u001b[0;34m)\u001b[0m\u001b[0;34m\u001b[0m\u001b[0;34m\u001b[0m\u001b[0m\n",
      "\u001b[0m\n",
      "ipdb> \n",
      "> \u001b[0;32m/home/paltenmo/.conda/envs/ML4Quantum/lib/python3.8/site-packages/qiskit/transpiler/passes/basis/basis_translator.py\u001b[0m(367)\u001b[0;36m_basis_search\u001b[0;34m()\u001b[0m\n",
      "\u001b[0;32m    365 \u001b[0;31m            \u001b[0;32mreturn\u001b[0m \u001b[0mrtn\u001b[0m\u001b[0;34m\u001b[0m\u001b[0;34m\u001b[0m\u001b[0m\n",
      "\u001b[0m\u001b[0;32m    366 \u001b[0;31m\u001b[0;34m\u001b[0m\u001b[0m\n",
      "\u001b[0m\u001b[1;31m1\u001b[0;32m-> 367 \u001b[0;31m        \u001b[0mlogger\u001b[0m\u001b[0;34m.\u001b[0m\u001b[0mdebug\u001b[0m\u001b[0;34m(\u001b[0m\u001b[0;34m\"Inspecting basis %s.\"\u001b[0m\u001b[0;34m,\u001b[0m \u001b[0mcurrent_basis\u001b[0m\u001b[0;34m)\u001b[0m\u001b[0;34m\u001b[0m\u001b[0;34m\u001b[0m\u001b[0m\n",
      "\u001b[0m\u001b[0;32m    368 \u001b[0;31m        \u001b[0mopen_set\u001b[0m\u001b[0;34m.\u001b[0m\u001b[0mremove\u001b[0m\u001b[0;34m(\u001b[0m\u001b[0mcurrent_basis\u001b[0m\u001b[0;34m)\u001b[0m\u001b[0;34m\u001b[0m\u001b[0;34m\u001b[0m\u001b[0m\n",
      "\u001b[0m\u001b[0;32m    369 \u001b[0;31m        \u001b[0mclosed_set\u001b[0m\u001b[0;34m.\u001b[0m\u001b[0madd\u001b[0m\u001b[0;34m(\u001b[0m\u001b[0mcurrent_basis\u001b[0m\u001b[0;34m)\u001b[0m\u001b[0;34m\u001b[0m\u001b[0;34m\u001b[0m\u001b[0m\n",
      "\u001b[0m\n",
      "ipdb> c\n",
      "> \u001b[0;32m/home/paltenmo/.conda/envs/ML4Quantum/lib/python3.8/site-packages/qiskit/transpiler/passes/basis/basis_translator.py\u001b[0m(367)\u001b[0;36m_basis_search\u001b[0;34m()\u001b[0m\n",
      "\u001b[0;32m    365 \u001b[0;31m            \u001b[0;32mreturn\u001b[0m \u001b[0mrtn\u001b[0m\u001b[0;34m\u001b[0m\u001b[0;34m\u001b[0m\u001b[0m\n",
      "\u001b[0m\u001b[0;32m    366 \u001b[0;31m\u001b[0;34m\u001b[0m\u001b[0m\n",
      "\u001b[0m\u001b[1;31m1\u001b[0;32m-> 367 \u001b[0;31m        \u001b[0mlogger\u001b[0m\u001b[0;34m.\u001b[0m\u001b[0mdebug\u001b[0m\u001b[0;34m(\u001b[0m\u001b[0;34m\"Inspecting basis %s.\"\u001b[0m\u001b[0;34m,\u001b[0m \u001b[0mcurrent_basis\u001b[0m\u001b[0;34m)\u001b[0m\u001b[0;34m\u001b[0m\u001b[0;34m\u001b[0m\u001b[0m\n",
      "\u001b[0m\u001b[0;32m    368 \u001b[0;31m        \u001b[0mopen_set\u001b[0m\u001b[0;34m.\u001b[0m\u001b[0mremove\u001b[0m\u001b[0;34m(\u001b[0m\u001b[0mcurrent_basis\u001b[0m\u001b[0;34m)\u001b[0m\u001b[0;34m\u001b[0m\u001b[0;34m\u001b[0m\u001b[0m\n",
      "\u001b[0m\u001b[0;32m    369 \u001b[0;31m        \u001b[0mclosed_set\u001b[0m\u001b[0;34m.\u001b[0m\u001b[0madd\u001b[0m\u001b[0;34m(\u001b[0m\u001b[0mcurrent_basis\u001b[0m\u001b[0;34m)\u001b[0m\u001b[0;34m\u001b[0m\u001b[0;34m\u001b[0m\u001b[0m\n",
      "\u001b[0m\n",
      "ipdb> c\n",
      "> \u001b[0;32m/home/paltenmo/.conda/envs/ML4Quantum/lib/python3.8/site-packages/qiskit/transpiler/passes/basis/basis_translator.py\u001b[0m(367)\u001b[0;36m_basis_search\u001b[0;34m()\u001b[0m\n",
      "\u001b[0;32m    365 \u001b[0;31m            \u001b[0;32mreturn\u001b[0m \u001b[0mrtn\u001b[0m\u001b[0;34m\u001b[0m\u001b[0;34m\u001b[0m\u001b[0m\n",
      "\u001b[0m\u001b[0;32m    366 \u001b[0;31m\u001b[0;34m\u001b[0m\u001b[0m\n",
      "\u001b[0m\u001b[1;31m1\u001b[0;32m-> 367 \u001b[0;31m        \u001b[0mlogger\u001b[0m\u001b[0;34m.\u001b[0m\u001b[0mdebug\u001b[0m\u001b[0;34m(\u001b[0m\u001b[0;34m\"Inspecting basis %s.\"\u001b[0m\u001b[0;34m,\u001b[0m \u001b[0mcurrent_basis\u001b[0m\u001b[0;34m)\u001b[0m\u001b[0;34m\u001b[0m\u001b[0;34m\u001b[0m\u001b[0m\n",
      "\u001b[0m\u001b[0;32m    368 \u001b[0;31m        \u001b[0mopen_set\u001b[0m\u001b[0;34m.\u001b[0m\u001b[0mremove\u001b[0m\u001b[0;34m(\u001b[0m\u001b[0mcurrent_basis\u001b[0m\u001b[0;34m)\u001b[0m\u001b[0;34m\u001b[0m\u001b[0;34m\u001b[0m\u001b[0m\n",
      "\u001b[0m\u001b[0;32m    369 \u001b[0;31m        \u001b[0mclosed_set\u001b[0m\u001b[0;34m.\u001b[0m\u001b[0madd\u001b[0m\u001b[0;34m(\u001b[0m\u001b[0mcurrent_basis\u001b[0m\u001b[0;34m)\u001b[0m\u001b[0;34m\u001b[0m\u001b[0;34m\u001b[0m\u001b[0m\n",
      "\u001b[0m\n",
      "ipdb> \n",
      "> \u001b[0;32m/home/paltenmo/.conda/envs/ML4Quantum/lib/python3.8/site-packages/qiskit/transpiler/passes/basis/basis_translator.py\u001b[0m(367)\u001b[0;36m_basis_search\u001b[0;34m()\u001b[0m\n",
      "\u001b[0;32m    365 \u001b[0;31m            \u001b[0;32mreturn\u001b[0m \u001b[0mrtn\u001b[0m\u001b[0;34m\u001b[0m\u001b[0;34m\u001b[0m\u001b[0m\n",
      "\u001b[0m\u001b[0;32m    366 \u001b[0;31m\u001b[0;34m\u001b[0m\u001b[0m\n",
      "\u001b[0m\u001b[1;31m1\u001b[0;32m-> 367 \u001b[0;31m        \u001b[0mlogger\u001b[0m\u001b[0;34m.\u001b[0m\u001b[0mdebug\u001b[0m\u001b[0;34m(\u001b[0m\u001b[0;34m\"Inspecting basis %s.\"\u001b[0m\u001b[0;34m,\u001b[0m \u001b[0mcurrent_basis\u001b[0m\u001b[0;34m)\u001b[0m\u001b[0;34m\u001b[0m\u001b[0;34m\u001b[0m\u001b[0m\n",
      "\u001b[0m\u001b[0;32m    368 \u001b[0;31m        \u001b[0mopen_set\u001b[0m\u001b[0;34m.\u001b[0m\u001b[0mremove\u001b[0m\u001b[0;34m(\u001b[0m\u001b[0mcurrent_basis\u001b[0m\u001b[0;34m)\u001b[0m\u001b[0;34m\u001b[0m\u001b[0;34m\u001b[0m\u001b[0m\n",
      "\u001b[0m\u001b[0;32m    369 \u001b[0;31m        \u001b[0mclosed_set\u001b[0m\u001b[0;34m.\u001b[0m\u001b[0madd\u001b[0m\u001b[0;34m(\u001b[0m\u001b[0mcurrent_basis\u001b[0m\u001b[0;34m)\u001b[0m\u001b[0;34m\u001b[0m\u001b[0;34m\u001b[0m\u001b[0m\n",
      "\u001b[0m\n",
      "ipdb> \n",
      "> \u001b[0;32m/home/paltenmo/.conda/envs/ML4Quantum/lib/python3.8/site-packages/qiskit/transpiler/passes/basis/basis_translator.py\u001b[0m(367)\u001b[0;36m_basis_search\u001b[0;34m()\u001b[0m\n",
      "\u001b[0;32m    365 \u001b[0;31m            \u001b[0;32mreturn\u001b[0m \u001b[0mrtn\u001b[0m\u001b[0;34m\u001b[0m\u001b[0;34m\u001b[0m\u001b[0m\n",
      "\u001b[0m\u001b[0;32m    366 \u001b[0;31m\u001b[0;34m\u001b[0m\u001b[0m\n",
      "\u001b[0m\u001b[1;31m1\u001b[0;32m-> 367 \u001b[0;31m        \u001b[0mlogger\u001b[0m\u001b[0;34m.\u001b[0m\u001b[0mdebug\u001b[0m\u001b[0;34m(\u001b[0m\u001b[0;34m\"Inspecting basis %s.\"\u001b[0m\u001b[0;34m,\u001b[0m \u001b[0mcurrent_basis\u001b[0m\u001b[0;34m)\u001b[0m\u001b[0;34m\u001b[0m\u001b[0;34m\u001b[0m\u001b[0m\n",
      "\u001b[0m\u001b[0;32m    368 \u001b[0;31m        \u001b[0mopen_set\u001b[0m\u001b[0;34m.\u001b[0m\u001b[0mremove\u001b[0m\u001b[0;34m(\u001b[0m\u001b[0mcurrent_basis\u001b[0m\u001b[0;34m)\u001b[0m\u001b[0;34m\u001b[0m\u001b[0;34m\u001b[0m\u001b[0m\n",
      "\u001b[0m\u001b[0;32m    369 \u001b[0;31m        \u001b[0mclosed_set\u001b[0m\u001b[0;34m.\u001b[0m\u001b[0madd\u001b[0m\u001b[0;34m(\u001b[0m\u001b[0mcurrent_basis\u001b[0m\u001b[0;34m)\u001b[0m\u001b[0;34m\u001b[0m\u001b[0;34m\u001b[0m\u001b[0m\n",
      "\u001b[0m\n"
     ]
    },
    {
     "name": "stdout",
     "output_type": "stream",
     "text": [
      "ipdb> c\n",
      "> \u001b[0;32m/home/paltenmo/.conda/envs/ML4Quantum/lib/python3.8/site-packages/qiskit/transpiler/passes/basis/basis_translator.py\u001b[0m(367)\u001b[0;36m_basis_search\u001b[0;34m()\u001b[0m\n",
      "\u001b[0;32m    365 \u001b[0;31m            \u001b[0;32mreturn\u001b[0m \u001b[0mrtn\u001b[0m\u001b[0;34m\u001b[0m\u001b[0;34m\u001b[0m\u001b[0m\n",
      "\u001b[0m\u001b[0;32m    366 \u001b[0;31m\u001b[0;34m\u001b[0m\u001b[0m\n",
      "\u001b[0m\u001b[1;31m1\u001b[0;32m-> 367 \u001b[0;31m        \u001b[0mlogger\u001b[0m\u001b[0;34m.\u001b[0m\u001b[0mdebug\u001b[0m\u001b[0;34m(\u001b[0m\u001b[0;34m\"Inspecting basis %s.\"\u001b[0m\u001b[0;34m,\u001b[0m \u001b[0mcurrent_basis\u001b[0m\u001b[0;34m)\u001b[0m\u001b[0;34m\u001b[0m\u001b[0;34m\u001b[0m\u001b[0m\n",
      "\u001b[0m\u001b[0;32m    368 \u001b[0;31m        \u001b[0mopen_set\u001b[0m\u001b[0;34m.\u001b[0m\u001b[0mremove\u001b[0m\u001b[0;34m(\u001b[0m\u001b[0mcurrent_basis\u001b[0m\u001b[0;34m)\u001b[0m\u001b[0;34m\u001b[0m\u001b[0;34m\u001b[0m\u001b[0m\n",
      "\u001b[0m\u001b[0;32m    369 \u001b[0;31m        \u001b[0mclosed_set\u001b[0m\u001b[0;34m.\u001b[0m\u001b[0madd\u001b[0m\u001b[0;34m(\u001b[0m\u001b[0mcurrent_basis\u001b[0m\u001b[0;34m)\u001b[0m\u001b[0;34m\u001b[0m\u001b[0;34m\u001b[0m\u001b[0m\n",
      "\u001b[0m\n",
      "ipdb> c\n",
      "> \u001b[0;32m/home/paltenmo/.conda/envs/ML4Quantum/lib/python3.8/site-packages/qiskit/transpiler/passes/basis/basis_translator.py\u001b[0m(367)\u001b[0;36m_basis_search\u001b[0;34m()\u001b[0m\n",
      "\u001b[0;32m    365 \u001b[0;31m            \u001b[0;32mreturn\u001b[0m \u001b[0mrtn\u001b[0m\u001b[0;34m\u001b[0m\u001b[0;34m\u001b[0m\u001b[0m\n",
      "\u001b[0m\u001b[0;32m    366 \u001b[0;31m\u001b[0;34m\u001b[0m\u001b[0m\n",
      "\u001b[0m\u001b[1;31m1\u001b[0;32m-> 367 \u001b[0;31m        \u001b[0mlogger\u001b[0m\u001b[0;34m.\u001b[0m\u001b[0mdebug\u001b[0m\u001b[0;34m(\u001b[0m\u001b[0;34m\"Inspecting basis %s.\"\u001b[0m\u001b[0;34m,\u001b[0m \u001b[0mcurrent_basis\u001b[0m\u001b[0;34m)\u001b[0m\u001b[0;34m\u001b[0m\u001b[0;34m\u001b[0m\u001b[0m\n",
      "\u001b[0m\u001b[0;32m    368 \u001b[0;31m        \u001b[0mopen_set\u001b[0m\u001b[0;34m.\u001b[0m\u001b[0mremove\u001b[0m\u001b[0;34m(\u001b[0m\u001b[0mcurrent_basis\u001b[0m\u001b[0;34m)\u001b[0m\u001b[0;34m\u001b[0m\u001b[0;34m\u001b[0m\u001b[0m\n",
      "\u001b[0m\u001b[0;32m    369 \u001b[0;31m        \u001b[0mclosed_set\u001b[0m\u001b[0;34m.\u001b[0m\u001b[0madd\u001b[0m\u001b[0;34m(\u001b[0m\u001b[0mcurrent_basis\u001b[0m\u001b[0;34m)\u001b[0m\u001b[0;34m\u001b[0m\u001b[0;34m\u001b[0m\u001b[0m\n",
      "\u001b[0m\n",
      "ipdb> \n",
      "> \u001b[0;32m/home/paltenmo/.conda/envs/ML4Quantum/lib/python3.8/site-packages/qiskit/transpiler/passes/basis/basis_translator.py\u001b[0m(367)\u001b[0;36m_basis_search\u001b[0;34m()\u001b[0m\n",
      "\u001b[0;32m    365 \u001b[0;31m            \u001b[0;32mreturn\u001b[0m \u001b[0mrtn\u001b[0m\u001b[0;34m\u001b[0m\u001b[0;34m\u001b[0m\u001b[0m\n",
      "\u001b[0m\u001b[0;32m    366 \u001b[0;31m\u001b[0;34m\u001b[0m\u001b[0m\n",
      "\u001b[0m\u001b[1;31m1\u001b[0;32m-> 367 \u001b[0;31m        \u001b[0mlogger\u001b[0m\u001b[0;34m.\u001b[0m\u001b[0mdebug\u001b[0m\u001b[0;34m(\u001b[0m\u001b[0;34m\"Inspecting basis %s.\"\u001b[0m\u001b[0;34m,\u001b[0m \u001b[0mcurrent_basis\u001b[0m\u001b[0;34m)\u001b[0m\u001b[0;34m\u001b[0m\u001b[0;34m\u001b[0m\u001b[0m\n",
      "\u001b[0m\u001b[0;32m    368 \u001b[0;31m        \u001b[0mopen_set\u001b[0m\u001b[0;34m.\u001b[0m\u001b[0mremove\u001b[0m\u001b[0;34m(\u001b[0m\u001b[0mcurrent_basis\u001b[0m\u001b[0;34m)\u001b[0m\u001b[0;34m\u001b[0m\u001b[0;34m\u001b[0m\u001b[0m\n",
      "\u001b[0m\u001b[0;32m    369 \u001b[0;31m        \u001b[0mclosed_set\u001b[0m\u001b[0;34m.\u001b[0m\u001b[0madd\u001b[0m\u001b[0;34m(\u001b[0m\u001b[0mcurrent_basis\u001b[0m\u001b[0;34m)\u001b[0m\u001b[0;34m\u001b[0m\u001b[0;34m\u001b[0m\u001b[0m\n",
      "\u001b[0m\n",
      "ipdb> c\n",
      "> \u001b[0;32m/home/paltenmo/.conda/envs/ML4Quantum/lib/python3.8/site-packages/qiskit/transpiler/passes/basis/basis_translator.py\u001b[0m(367)\u001b[0;36m_basis_search\u001b[0;34m()\u001b[0m\n",
      "\u001b[0;32m    365 \u001b[0;31m            \u001b[0;32mreturn\u001b[0m \u001b[0mrtn\u001b[0m\u001b[0;34m\u001b[0m\u001b[0;34m\u001b[0m\u001b[0m\n",
      "\u001b[0m\u001b[0;32m    366 \u001b[0;31m\u001b[0;34m\u001b[0m\u001b[0m\n",
      "\u001b[0m\u001b[1;31m1\u001b[0;32m-> 367 \u001b[0;31m        \u001b[0mlogger\u001b[0m\u001b[0;34m.\u001b[0m\u001b[0mdebug\u001b[0m\u001b[0;34m(\u001b[0m\u001b[0;34m\"Inspecting basis %s.\"\u001b[0m\u001b[0;34m,\u001b[0m \u001b[0mcurrent_basis\u001b[0m\u001b[0;34m)\u001b[0m\u001b[0;34m\u001b[0m\u001b[0;34m\u001b[0m\u001b[0m\n",
      "\u001b[0m\u001b[0;32m    368 \u001b[0;31m        \u001b[0mopen_set\u001b[0m\u001b[0;34m.\u001b[0m\u001b[0mremove\u001b[0m\u001b[0;34m(\u001b[0m\u001b[0mcurrent_basis\u001b[0m\u001b[0;34m)\u001b[0m\u001b[0;34m\u001b[0m\u001b[0;34m\u001b[0m\u001b[0m\n",
      "\u001b[0m\u001b[0;32m    369 \u001b[0;31m        \u001b[0mclosed_set\u001b[0m\u001b[0;34m.\u001b[0m\u001b[0madd\u001b[0m\u001b[0;34m(\u001b[0m\u001b[0mcurrent_basis\u001b[0m\u001b[0;34m)\u001b[0m\u001b[0;34m\u001b[0m\u001b[0;34m\u001b[0m\u001b[0m\n",
      "\u001b[0m\n",
      "ipdb> c\n",
      "> \u001b[0;32m/home/paltenmo/.conda/envs/ML4Quantum/lib/python3.8/site-packages/qiskit/transpiler/passes/basis/basis_translator.py\u001b[0m(367)\u001b[0;36m_basis_search\u001b[0;34m()\u001b[0m\n",
      "\u001b[0;32m    365 \u001b[0;31m            \u001b[0;32mreturn\u001b[0m \u001b[0mrtn\u001b[0m\u001b[0;34m\u001b[0m\u001b[0;34m\u001b[0m\u001b[0m\n",
      "\u001b[0m\u001b[0;32m    366 \u001b[0;31m\u001b[0;34m\u001b[0m\u001b[0m\n",
      "\u001b[0m\u001b[1;31m1\u001b[0;32m-> 367 \u001b[0;31m        \u001b[0mlogger\u001b[0m\u001b[0;34m.\u001b[0m\u001b[0mdebug\u001b[0m\u001b[0;34m(\u001b[0m\u001b[0;34m\"Inspecting basis %s.\"\u001b[0m\u001b[0;34m,\u001b[0m \u001b[0mcurrent_basis\u001b[0m\u001b[0;34m)\u001b[0m\u001b[0;34m\u001b[0m\u001b[0;34m\u001b[0m\u001b[0m\n",
      "\u001b[0m\u001b[0;32m    368 \u001b[0;31m        \u001b[0mopen_set\u001b[0m\u001b[0;34m.\u001b[0m\u001b[0mremove\u001b[0m\u001b[0;34m(\u001b[0m\u001b[0mcurrent_basis\u001b[0m\u001b[0;34m)\u001b[0m\u001b[0;34m\u001b[0m\u001b[0;34m\u001b[0m\u001b[0m\n",
      "\u001b[0m\u001b[0;32m    369 \u001b[0;31m        \u001b[0mclosed_set\u001b[0m\u001b[0;34m.\u001b[0m\u001b[0madd\u001b[0m\u001b[0;34m(\u001b[0m\u001b[0mcurrent_basis\u001b[0m\u001b[0;34m)\u001b[0m\u001b[0;34m\u001b[0m\u001b[0;34m\u001b[0m\u001b[0m\n",
      "\u001b[0m\n",
      "ipdb> c\n",
      "> \u001b[0;32m/home/paltenmo/.conda/envs/ML4Quantum/lib/python3.8/site-packages/qiskit/transpiler/passes/basis/basis_translator.py\u001b[0m(367)\u001b[0;36m_basis_search\u001b[0;34m()\u001b[0m\n",
      "\u001b[0;32m    365 \u001b[0;31m            \u001b[0;32mreturn\u001b[0m \u001b[0mrtn\u001b[0m\u001b[0;34m\u001b[0m\u001b[0;34m\u001b[0m\u001b[0m\n",
      "\u001b[0m\u001b[0;32m    366 \u001b[0;31m\u001b[0;34m\u001b[0m\u001b[0m\n",
      "\u001b[0m\u001b[1;31m1\u001b[0;32m-> 367 \u001b[0;31m        \u001b[0mlogger\u001b[0m\u001b[0;34m.\u001b[0m\u001b[0mdebug\u001b[0m\u001b[0;34m(\u001b[0m\u001b[0;34m\"Inspecting basis %s.\"\u001b[0m\u001b[0;34m,\u001b[0m \u001b[0mcurrent_basis\u001b[0m\u001b[0;34m)\u001b[0m\u001b[0;34m\u001b[0m\u001b[0;34m\u001b[0m\u001b[0m\n",
      "\u001b[0m\u001b[0;32m    368 \u001b[0;31m        \u001b[0mopen_set\u001b[0m\u001b[0;34m.\u001b[0m\u001b[0mremove\u001b[0m\u001b[0;34m(\u001b[0m\u001b[0mcurrent_basis\u001b[0m\u001b[0;34m)\u001b[0m\u001b[0;34m\u001b[0m\u001b[0;34m\u001b[0m\u001b[0m\n",
      "\u001b[0m\u001b[0;32m    369 \u001b[0;31m        \u001b[0mclosed_set\u001b[0m\u001b[0;34m.\u001b[0m\u001b[0madd\u001b[0m\u001b[0;34m(\u001b[0m\u001b[0mcurrent_basis\u001b[0m\u001b[0;34m)\u001b[0m\u001b[0;34m\u001b[0m\u001b[0;34m\u001b[0m\u001b[0m\n",
      "\u001b[0m\n",
      "ipdb> c\n",
      "> \u001b[0;32m/home/paltenmo/.conda/envs/ML4Quantum/lib/python3.8/site-packages/qiskit/transpiler/passes/basis/basis_translator.py\u001b[0m(367)\u001b[0;36m_basis_search\u001b[0;34m()\u001b[0m\n",
      "\u001b[0;32m    365 \u001b[0;31m            \u001b[0;32mreturn\u001b[0m \u001b[0mrtn\u001b[0m\u001b[0;34m\u001b[0m\u001b[0;34m\u001b[0m\u001b[0m\n",
      "\u001b[0m\u001b[0;32m    366 \u001b[0;31m\u001b[0;34m\u001b[0m\u001b[0m\n",
      "\u001b[0m\u001b[1;31m1\u001b[0;32m-> 367 \u001b[0;31m        \u001b[0mlogger\u001b[0m\u001b[0;34m.\u001b[0m\u001b[0mdebug\u001b[0m\u001b[0;34m(\u001b[0m\u001b[0;34m\"Inspecting basis %s.\"\u001b[0m\u001b[0;34m,\u001b[0m \u001b[0mcurrent_basis\u001b[0m\u001b[0;34m)\u001b[0m\u001b[0;34m\u001b[0m\u001b[0;34m\u001b[0m\u001b[0m\n",
      "\u001b[0m\u001b[0;32m    368 \u001b[0;31m        \u001b[0mopen_set\u001b[0m\u001b[0;34m.\u001b[0m\u001b[0mremove\u001b[0m\u001b[0;34m(\u001b[0m\u001b[0mcurrent_basis\u001b[0m\u001b[0;34m)\u001b[0m\u001b[0;34m\u001b[0m\u001b[0;34m\u001b[0m\u001b[0m\n",
      "\u001b[0m\u001b[0;32m    369 \u001b[0;31m        \u001b[0mclosed_set\u001b[0m\u001b[0;34m.\u001b[0m\u001b[0madd\u001b[0m\u001b[0;34m(\u001b[0m\u001b[0mcurrent_basis\u001b[0m\u001b[0;34m)\u001b[0m\u001b[0;34m\u001b[0m\u001b[0;34m\u001b[0m\u001b[0m\n",
      "\u001b[0m\n",
      "ipdb> c\n",
      "> \u001b[0;32m/home/paltenmo/.conda/envs/ML4Quantum/lib/python3.8/site-packages/qiskit/transpiler/passes/basis/basis_translator.py\u001b[0m(367)\u001b[0;36m_basis_search\u001b[0;34m()\u001b[0m\n",
      "\u001b[0;32m    365 \u001b[0;31m            \u001b[0;32mreturn\u001b[0m \u001b[0mrtn\u001b[0m\u001b[0;34m\u001b[0m\u001b[0;34m\u001b[0m\u001b[0m\n",
      "\u001b[0m\u001b[0;32m    366 \u001b[0;31m\u001b[0;34m\u001b[0m\u001b[0m\n",
      "\u001b[0m\u001b[1;31m1\u001b[0;32m-> 367 \u001b[0;31m        \u001b[0mlogger\u001b[0m\u001b[0;34m.\u001b[0m\u001b[0mdebug\u001b[0m\u001b[0;34m(\u001b[0m\u001b[0;34m\"Inspecting basis %s.\"\u001b[0m\u001b[0;34m,\u001b[0m \u001b[0mcurrent_basis\u001b[0m\u001b[0;34m)\u001b[0m\u001b[0;34m\u001b[0m\u001b[0;34m\u001b[0m\u001b[0m\n",
      "\u001b[0m\u001b[0;32m    368 \u001b[0;31m        \u001b[0mopen_set\u001b[0m\u001b[0;34m.\u001b[0m\u001b[0mremove\u001b[0m\u001b[0;34m(\u001b[0m\u001b[0mcurrent_basis\u001b[0m\u001b[0;34m)\u001b[0m\u001b[0;34m\u001b[0m\u001b[0;34m\u001b[0m\u001b[0m\n",
      "\u001b[0m\u001b[0;32m    369 \u001b[0;31m        \u001b[0mclosed_set\u001b[0m\u001b[0;34m.\u001b[0m\u001b[0madd\u001b[0m\u001b[0;34m(\u001b[0m\u001b[0mcurrent_basis\u001b[0m\u001b[0;34m)\u001b[0m\u001b[0;34m\u001b[0m\u001b[0;34m\u001b[0m\u001b[0m\n",
      "\u001b[0m\n",
      "ipdb> current_basis\n",
      "frozenset({('rx', 1), ('rz', 1), ('h', 1), ('t', 1), ('s', 1), ('cx', 2)})\n",
      "ipdb> c\n",
      "> \u001b[0;32m/home/paltenmo/.conda/envs/ML4Quantum/lib/python3.8/site-packages/qiskit/transpiler/passes/basis/basis_translator.py\u001b[0m(367)\u001b[0;36m_basis_search\u001b[0;34m()\u001b[0m\n",
      "\u001b[0;32m    365 \u001b[0;31m            \u001b[0;32mreturn\u001b[0m \u001b[0mrtn\u001b[0m\u001b[0;34m\u001b[0m\u001b[0;34m\u001b[0m\u001b[0m\n",
      "\u001b[0m\u001b[0;32m    366 \u001b[0;31m\u001b[0;34m\u001b[0m\u001b[0m\n",
      "\u001b[0m\u001b[1;31m1\u001b[0;32m-> 367 \u001b[0;31m        \u001b[0mlogger\u001b[0m\u001b[0;34m.\u001b[0m\u001b[0mdebug\u001b[0m\u001b[0;34m(\u001b[0m\u001b[0;34m\"Inspecting basis %s.\"\u001b[0m\u001b[0;34m,\u001b[0m \u001b[0mcurrent_basis\u001b[0m\u001b[0;34m)\u001b[0m\u001b[0;34m\u001b[0m\u001b[0;34m\u001b[0m\u001b[0m\n",
      "\u001b[0m\u001b[0;32m    368 \u001b[0;31m        \u001b[0mopen_set\u001b[0m\u001b[0;34m.\u001b[0m\u001b[0mremove\u001b[0m\u001b[0;34m(\u001b[0m\u001b[0mcurrent_basis\u001b[0m\u001b[0;34m)\u001b[0m\u001b[0;34m\u001b[0m\u001b[0;34m\u001b[0m\u001b[0m\n",
      "\u001b[0m\u001b[0;32m    369 \u001b[0;31m        \u001b[0mclosed_set\u001b[0m\u001b[0;34m.\u001b[0m\u001b[0madd\u001b[0m\u001b[0;34m(\u001b[0m\u001b[0mcurrent_basis\u001b[0m\u001b[0;34m)\u001b[0m\u001b[0;34m\u001b[0m\u001b[0;34m\u001b[0m\u001b[0m\n",
      "\u001b[0m\n",
      "ipdb> c\n",
      "> \u001b[0;32m/home/paltenmo/.conda/envs/ML4Quantum/lib/python3.8/site-packages/qiskit/transpiler/passes/basis/basis_translator.py\u001b[0m(367)\u001b[0;36m_basis_search\u001b[0;34m()\u001b[0m\n",
      "\u001b[0;32m    365 \u001b[0;31m            \u001b[0;32mreturn\u001b[0m \u001b[0mrtn\u001b[0m\u001b[0;34m\u001b[0m\u001b[0;34m\u001b[0m\u001b[0m\n",
      "\u001b[0m\u001b[0;32m    366 \u001b[0;31m\u001b[0;34m\u001b[0m\u001b[0m\n",
      "\u001b[0m\u001b[1;31m1\u001b[0;32m-> 367 \u001b[0;31m        \u001b[0mlogger\u001b[0m\u001b[0;34m.\u001b[0m\u001b[0mdebug\u001b[0m\u001b[0;34m(\u001b[0m\u001b[0;34m\"Inspecting basis %s.\"\u001b[0m\u001b[0;34m,\u001b[0m \u001b[0mcurrent_basis\u001b[0m\u001b[0;34m)\u001b[0m\u001b[0;34m\u001b[0m\u001b[0;34m\u001b[0m\u001b[0m\n",
      "\u001b[0m\u001b[0;32m    368 \u001b[0;31m        \u001b[0mopen_set\u001b[0m\u001b[0;34m.\u001b[0m\u001b[0mremove\u001b[0m\u001b[0;34m(\u001b[0m\u001b[0mcurrent_basis\u001b[0m\u001b[0;34m)\u001b[0m\u001b[0;34m\u001b[0m\u001b[0;34m\u001b[0m\u001b[0m\n",
      "\u001b[0m\u001b[0;32m    369 \u001b[0;31m        \u001b[0mclosed_set\u001b[0m\u001b[0;34m.\u001b[0m\u001b[0madd\u001b[0m\u001b[0;34m(\u001b[0m\u001b[0mcurrent_basis\u001b[0m\u001b[0;34m)\u001b[0m\u001b[0;34m\u001b[0m\u001b[0;34m\u001b[0m\u001b[0m\n",
      "\u001b[0m\n",
      "ipdb> c\n",
      "> \u001b[0;32m/home/paltenmo/.conda/envs/ML4Quantum/lib/python3.8/site-packages/qiskit/transpiler/passes/basis/basis_translator.py\u001b[0m(367)\u001b[0;36m_basis_search\u001b[0;34m()\u001b[0m\n",
      "\u001b[0;32m    365 \u001b[0;31m            \u001b[0;32mreturn\u001b[0m \u001b[0mrtn\u001b[0m\u001b[0;34m\u001b[0m\u001b[0;34m\u001b[0m\u001b[0m\n",
      "\u001b[0m\u001b[0;32m    366 \u001b[0;31m\u001b[0;34m\u001b[0m\u001b[0m\n",
      "\u001b[0m\u001b[1;31m1\u001b[0;32m-> 367 \u001b[0;31m        \u001b[0mlogger\u001b[0m\u001b[0;34m.\u001b[0m\u001b[0mdebug\u001b[0m\u001b[0;34m(\u001b[0m\u001b[0;34m\"Inspecting basis %s.\"\u001b[0m\u001b[0;34m,\u001b[0m \u001b[0mcurrent_basis\u001b[0m\u001b[0;34m)\u001b[0m\u001b[0;34m\u001b[0m\u001b[0;34m\u001b[0m\u001b[0m\n",
      "\u001b[0m\u001b[0;32m    368 \u001b[0;31m        \u001b[0mopen_set\u001b[0m\u001b[0;34m.\u001b[0m\u001b[0mremove\u001b[0m\u001b[0;34m(\u001b[0m\u001b[0mcurrent_basis\u001b[0m\u001b[0;34m)\u001b[0m\u001b[0;34m\u001b[0m\u001b[0;34m\u001b[0m\u001b[0m\n",
      "\u001b[0m\u001b[0;32m    369 \u001b[0;31m        \u001b[0mclosed_set\u001b[0m\u001b[0;34m.\u001b[0m\u001b[0madd\u001b[0m\u001b[0;34m(\u001b[0m\u001b[0mcurrent_basis\u001b[0m\u001b[0;34m)\u001b[0m\u001b[0;34m\u001b[0m\u001b[0;34m\u001b[0m\u001b[0m\n",
      "\u001b[0m\n"
     ]
    },
    {
     "name": "stdout",
     "output_type": "stream",
     "text": [
      "ipdb> c\n",
      "> \u001b[0;32m/home/paltenmo/.conda/envs/ML4Quantum/lib/python3.8/site-packages/qiskit/transpiler/passes/basis/basis_translator.py\u001b[0m(367)\u001b[0;36m_basis_search\u001b[0;34m()\u001b[0m\n",
      "\u001b[0;32m    365 \u001b[0;31m            \u001b[0;32mreturn\u001b[0m \u001b[0mrtn\u001b[0m\u001b[0;34m\u001b[0m\u001b[0;34m\u001b[0m\u001b[0m\n",
      "\u001b[0m\u001b[0;32m    366 \u001b[0;31m\u001b[0;34m\u001b[0m\u001b[0m\n",
      "\u001b[0m\u001b[1;31m1\u001b[0;32m-> 367 \u001b[0;31m        \u001b[0mlogger\u001b[0m\u001b[0;34m.\u001b[0m\u001b[0mdebug\u001b[0m\u001b[0;34m(\u001b[0m\u001b[0;34m\"Inspecting basis %s.\"\u001b[0m\u001b[0;34m,\u001b[0m \u001b[0mcurrent_basis\u001b[0m\u001b[0;34m)\u001b[0m\u001b[0;34m\u001b[0m\u001b[0;34m\u001b[0m\u001b[0m\n",
      "\u001b[0m\u001b[0;32m    368 \u001b[0;31m        \u001b[0mopen_set\u001b[0m\u001b[0;34m.\u001b[0m\u001b[0mremove\u001b[0m\u001b[0;34m(\u001b[0m\u001b[0mcurrent_basis\u001b[0m\u001b[0;34m)\u001b[0m\u001b[0;34m\u001b[0m\u001b[0;34m\u001b[0m\u001b[0m\n",
      "\u001b[0m\u001b[0;32m    369 \u001b[0;31m        \u001b[0mclosed_set\u001b[0m\u001b[0;34m.\u001b[0m\u001b[0madd\u001b[0m\u001b[0;34m(\u001b[0m\u001b[0mcurrent_basis\u001b[0m\u001b[0;34m)\u001b[0m\u001b[0;34m\u001b[0m\u001b[0;34m\u001b[0m\u001b[0m\n",
      "\u001b[0m\n",
      "ipdb> c\n",
      "> \u001b[0;32m/home/paltenmo/.conda/envs/ML4Quantum/lib/python3.8/site-packages/qiskit/transpiler/passes/basis/basis_translator.py\u001b[0m(367)\u001b[0;36m_basis_search\u001b[0;34m()\u001b[0m\n",
      "\u001b[0;32m    365 \u001b[0;31m            \u001b[0;32mreturn\u001b[0m \u001b[0mrtn\u001b[0m\u001b[0;34m\u001b[0m\u001b[0;34m\u001b[0m\u001b[0m\n",
      "\u001b[0m\u001b[0;32m    366 \u001b[0;31m\u001b[0;34m\u001b[0m\u001b[0m\n",
      "\u001b[0m\u001b[1;31m1\u001b[0;32m-> 367 \u001b[0;31m        \u001b[0mlogger\u001b[0m\u001b[0;34m.\u001b[0m\u001b[0mdebug\u001b[0m\u001b[0;34m(\u001b[0m\u001b[0;34m\"Inspecting basis %s.\"\u001b[0m\u001b[0;34m,\u001b[0m \u001b[0mcurrent_basis\u001b[0m\u001b[0;34m)\u001b[0m\u001b[0;34m\u001b[0m\u001b[0;34m\u001b[0m\u001b[0m\n",
      "\u001b[0m\u001b[0;32m    368 \u001b[0;31m        \u001b[0mopen_set\u001b[0m\u001b[0;34m.\u001b[0m\u001b[0mremove\u001b[0m\u001b[0;34m(\u001b[0m\u001b[0mcurrent_basis\u001b[0m\u001b[0;34m)\u001b[0m\u001b[0;34m\u001b[0m\u001b[0;34m\u001b[0m\u001b[0m\n",
      "\u001b[0m\u001b[0;32m    369 \u001b[0;31m        \u001b[0mclosed_set\u001b[0m\u001b[0;34m.\u001b[0m\u001b[0madd\u001b[0m\u001b[0;34m(\u001b[0m\u001b[0mcurrent_basis\u001b[0m\u001b[0;34m)\u001b[0m\u001b[0;34m\u001b[0m\u001b[0;34m\u001b[0m\u001b[0m\n",
      "\u001b[0m\n",
      "ipdb> c\n",
      "> \u001b[0;32m/home/paltenmo/.conda/envs/ML4Quantum/lib/python3.8/site-packages/qiskit/transpiler/passes/basis/basis_translator.py\u001b[0m(367)\u001b[0;36m_basis_search\u001b[0;34m()\u001b[0m\n",
      "\u001b[0;32m    365 \u001b[0;31m            \u001b[0;32mreturn\u001b[0m \u001b[0mrtn\u001b[0m\u001b[0;34m\u001b[0m\u001b[0;34m\u001b[0m\u001b[0m\n",
      "\u001b[0m\u001b[0;32m    366 \u001b[0;31m\u001b[0;34m\u001b[0m\u001b[0m\n",
      "\u001b[0m\u001b[1;31m1\u001b[0;32m-> 367 \u001b[0;31m        \u001b[0mlogger\u001b[0m\u001b[0;34m.\u001b[0m\u001b[0mdebug\u001b[0m\u001b[0;34m(\u001b[0m\u001b[0;34m\"Inspecting basis %s.\"\u001b[0m\u001b[0;34m,\u001b[0m \u001b[0mcurrent_basis\u001b[0m\u001b[0;34m)\u001b[0m\u001b[0;34m\u001b[0m\u001b[0;34m\u001b[0m\u001b[0m\n",
      "\u001b[0m\u001b[0;32m    368 \u001b[0;31m        \u001b[0mopen_set\u001b[0m\u001b[0;34m.\u001b[0m\u001b[0mremove\u001b[0m\u001b[0;34m(\u001b[0m\u001b[0mcurrent_basis\u001b[0m\u001b[0;34m)\u001b[0m\u001b[0;34m\u001b[0m\u001b[0;34m\u001b[0m\u001b[0m\n",
      "\u001b[0m\u001b[0;32m    369 \u001b[0;31m        \u001b[0mclosed_set\u001b[0m\u001b[0;34m.\u001b[0m\u001b[0madd\u001b[0m\u001b[0;34m(\u001b[0m\u001b[0mcurrent_basis\u001b[0m\u001b[0;34m)\u001b[0m\u001b[0;34m\u001b[0m\u001b[0;34m\u001b[0m\u001b[0m\n",
      "\u001b[0m\n",
      "ipdb> c\n",
      "> \u001b[0;32m/home/paltenmo/.conda/envs/ML4Quantum/lib/python3.8/site-packages/qiskit/transpiler/passes/basis/basis_translator.py\u001b[0m(367)\u001b[0;36m_basis_search\u001b[0;34m()\u001b[0m\n",
      "\u001b[0;32m    365 \u001b[0;31m            \u001b[0;32mreturn\u001b[0m \u001b[0mrtn\u001b[0m\u001b[0;34m\u001b[0m\u001b[0;34m\u001b[0m\u001b[0m\n",
      "\u001b[0m\u001b[0;32m    366 \u001b[0;31m\u001b[0;34m\u001b[0m\u001b[0m\n",
      "\u001b[0m\u001b[1;31m1\u001b[0;32m-> 367 \u001b[0;31m        \u001b[0mlogger\u001b[0m\u001b[0;34m.\u001b[0m\u001b[0mdebug\u001b[0m\u001b[0;34m(\u001b[0m\u001b[0;34m\"Inspecting basis %s.\"\u001b[0m\u001b[0;34m,\u001b[0m \u001b[0mcurrent_basis\u001b[0m\u001b[0;34m)\u001b[0m\u001b[0;34m\u001b[0m\u001b[0;34m\u001b[0m\u001b[0m\n",
      "\u001b[0m\u001b[0;32m    368 \u001b[0;31m        \u001b[0mopen_set\u001b[0m\u001b[0;34m.\u001b[0m\u001b[0mremove\u001b[0m\u001b[0;34m(\u001b[0m\u001b[0mcurrent_basis\u001b[0m\u001b[0;34m)\u001b[0m\u001b[0;34m\u001b[0m\u001b[0;34m\u001b[0m\u001b[0m\n",
      "\u001b[0m\u001b[0;32m    369 \u001b[0;31m        \u001b[0mclosed_set\u001b[0m\u001b[0;34m.\u001b[0m\u001b[0madd\u001b[0m\u001b[0;34m(\u001b[0m\u001b[0mcurrent_basis\u001b[0m\u001b[0;34m)\u001b[0m\u001b[0;34m\u001b[0m\u001b[0;34m\u001b[0m\u001b[0m\n",
      "\u001b[0m\n",
      "ipdb> c\n",
      "> \u001b[0;32m/home/paltenmo/.conda/envs/ML4Quantum/lib/python3.8/site-packages/qiskit/transpiler/passes/basis/basis_translator.py\u001b[0m(367)\u001b[0;36m_basis_search\u001b[0;34m()\u001b[0m\n",
      "\u001b[0;32m    365 \u001b[0;31m            \u001b[0;32mreturn\u001b[0m \u001b[0mrtn\u001b[0m\u001b[0;34m\u001b[0m\u001b[0;34m\u001b[0m\u001b[0m\n",
      "\u001b[0m\u001b[0;32m    366 \u001b[0;31m\u001b[0;34m\u001b[0m\u001b[0m\n",
      "\u001b[0m\u001b[1;31m1\u001b[0;32m-> 367 \u001b[0;31m        \u001b[0mlogger\u001b[0m\u001b[0;34m.\u001b[0m\u001b[0mdebug\u001b[0m\u001b[0;34m(\u001b[0m\u001b[0;34m\"Inspecting basis %s.\"\u001b[0m\u001b[0;34m,\u001b[0m \u001b[0mcurrent_basis\u001b[0m\u001b[0;34m)\u001b[0m\u001b[0;34m\u001b[0m\u001b[0;34m\u001b[0m\u001b[0m\n",
      "\u001b[0m\u001b[0;32m    368 \u001b[0;31m        \u001b[0mopen_set\u001b[0m\u001b[0;34m.\u001b[0m\u001b[0mremove\u001b[0m\u001b[0;34m(\u001b[0m\u001b[0mcurrent_basis\u001b[0m\u001b[0;34m)\u001b[0m\u001b[0;34m\u001b[0m\u001b[0;34m\u001b[0m\u001b[0m\n",
      "\u001b[0m\u001b[0;32m    369 \u001b[0;31m        \u001b[0mclosed_set\u001b[0m\u001b[0;34m.\u001b[0m\u001b[0madd\u001b[0m\u001b[0;34m(\u001b[0m\u001b[0mcurrent_basis\u001b[0m\u001b[0;34m)\u001b[0m\u001b[0;34m\u001b[0m\u001b[0;34m\u001b[0m\u001b[0m\n",
      "\u001b[0m\n",
      "ipdb> ccurrent_basis\n",
      "*** NameError: name 'ccurrent_basis' is not defined\n",
      "ipdb> current_basis\n",
      "frozenset({('rz', 1), ('h', 1), ('z', 1), ('t', 1), ('s', 1), ('cx', 2)})\n",
      "ipdb> q\n"
     ]
    },
    {
     "ename": "BdbQuit",
     "evalue": "",
     "output_type": "error",
     "traceback": [
      "\u001b[0;31m---------------------------------------------------------------------------\u001b[0m",
      "\u001b[0;31mBdbQuit\u001b[0m                                   Traceback (most recent call last)",
      "\u001b[0;32m/tmp/ipykernel_48930/3525238346.py\u001b[0m in \u001b[0;36m<module>\u001b[0;34m\u001b[0m\n\u001b[1;32m      4\u001b[0m \u001b[0;32mimport\u001b[0m \u001b[0mpdb\u001b[0m\u001b[0;34m\u001b[0m\u001b[0;34m\u001b[0m\u001b[0m\n\u001b[1;32m      5\u001b[0m \u001b[0mpdb\u001b[0m\u001b[0;34m.\u001b[0m\u001b[0mset_trace\u001b[0m\u001b[0;34m(\u001b[0m\u001b[0;34m)\u001b[0m\u001b[0;34m\u001b[0m\u001b[0;34m\u001b[0m\u001b[0m\n\u001b[0;32m----> 6\u001b[0;31m \u001b[0mqc\u001b[0m \u001b[0;34m=\u001b[0m \u001b[0mtranspile\u001b[0m\u001b[0;34m(\u001b[0m\u001b[0mqc\u001b[0m\u001b[0;34m,\u001b[0m \u001b[0mbasis_gates\u001b[0m\u001b[0;34m=\u001b[0m\u001b[0;34m[\u001b[0m\u001b[0;34m'cx'\u001b[0m\u001b[0;34m,\u001b[0m \u001b[0;34m'h'\u001b[0m\u001b[0;34m,\u001b[0m \u001b[0;34m's'\u001b[0m\u001b[0;34m,\u001b[0m \u001b[0;34m't'\u001b[0m\u001b[0;34m]\u001b[0m\u001b[0;34m,\u001b[0m \u001b[0moptimization_level\u001b[0m\u001b[0;34m=\u001b[0m\u001b[0;36m2\u001b[0m\u001b[0;34m)\u001b[0m\u001b[0;34m\u001b[0m\u001b[0;34m\u001b[0m\u001b[0m\n\u001b[0m",
      "\u001b[0;32m~/.conda/envs/ML4Quantum/lib/python3.8/site-packages/qiskit/compiler/transpiler.py\u001b[0m in \u001b[0;36mtranspile\u001b[0;34m(circuits, backend, basis_gates, inst_map, coupling_map, backend_properties, initial_layout, layout_method, routing_method, translation_method, scheduling_method, instruction_durations, dt, approximation_degree, timing_constraints, seed_transpiler, optimization_level, pass_manager, callback, output_name, unitary_synthesis_method, unitary_synthesis_plugin_config, target)\u001b[0m\n\u001b[1;32m    333\u001b[0m \u001b[0;34m\u001b[0m\u001b[0m\n\u001b[1;32m    334\u001b[0m     \u001b[0;31m# Transpile circuits in parallel\u001b[0m\u001b[0;34m\u001b[0m\u001b[0;34m\u001b[0m\u001b[0;34m\u001b[0m\u001b[0m\n\u001b[0;32m--> 335\u001b[0;31m     \u001b[0mcircuits\u001b[0m \u001b[0;34m=\u001b[0m \u001b[0mparallel_map\u001b[0m\u001b[0;34m(\u001b[0m\u001b[0m_transpile_circuit\u001b[0m\u001b[0;34m,\u001b[0m \u001b[0mlist\u001b[0m\u001b[0;34m(\u001b[0m\u001b[0mzip\u001b[0m\u001b[0;34m(\u001b[0m\u001b[0mcircuits\u001b[0m\u001b[0;34m,\u001b[0m \u001b[0mtranspile_args\u001b[0m\u001b[0;34m)\u001b[0m\u001b[0;34m)\u001b[0m\u001b[0;34m)\u001b[0m\u001b[0;34m\u001b[0m\u001b[0;34m\u001b[0m\u001b[0m\n\u001b[0m\u001b[1;32m    336\u001b[0m \u001b[0;34m\u001b[0m\u001b[0m\n\u001b[1;32m    337\u001b[0m     \u001b[0mend_time\u001b[0m \u001b[0;34m=\u001b[0m \u001b[0mtime\u001b[0m\u001b[0;34m(\u001b[0m\u001b[0;34m)\u001b[0m\u001b[0;34m\u001b[0m\u001b[0;34m\u001b[0m\u001b[0m\n",
      "\u001b[0;32m~/.conda/envs/ML4Quantum/lib/python3.8/site-packages/qiskit/tools/parallel.py\u001b[0m in \u001b[0;36mparallel_map\u001b[0;34m(task, values, task_args, task_kwargs, num_processes)\u001b[0m\n\u001b[1;32m    130\u001b[0m         \u001b[0;32mreturn\u001b[0m \u001b[0;34m[\u001b[0m\u001b[0;34m]\u001b[0m\u001b[0;34m\u001b[0m\u001b[0;34m\u001b[0m\u001b[0m\n\u001b[1;32m    131\u001b[0m     \u001b[0;32mif\u001b[0m \u001b[0mlen\u001b[0m\u001b[0;34m(\u001b[0m\u001b[0mvalues\u001b[0m\u001b[0;34m)\u001b[0m \u001b[0;34m==\u001b[0m \u001b[0;36m1\u001b[0m\u001b[0;34m:\u001b[0m\u001b[0;34m\u001b[0m\u001b[0;34m\u001b[0m\u001b[0m\n\u001b[0;32m--> 132\u001b[0;31m         \u001b[0;32mreturn\u001b[0m \u001b[0;34m[\u001b[0m\u001b[0mtask\u001b[0m\u001b[0;34m(\u001b[0m\u001b[0mvalues\u001b[0m\u001b[0;34m[\u001b[0m\u001b[0;36m0\u001b[0m\u001b[0;34m]\u001b[0m\u001b[0;34m,\u001b[0m \u001b[0;34m*\u001b[0m\u001b[0mtask_args\u001b[0m\u001b[0;34m,\u001b[0m \u001b[0;34m**\u001b[0m\u001b[0mtask_kwargs\u001b[0m\u001b[0;34m)\u001b[0m\u001b[0;34m]\u001b[0m\u001b[0;34m\u001b[0m\u001b[0;34m\u001b[0m\u001b[0m\n\u001b[0m\u001b[1;32m    133\u001b[0m \u001b[0;34m\u001b[0m\u001b[0m\n\u001b[1;32m    134\u001b[0m     \u001b[0mPublisher\u001b[0m\u001b[0;34m(\u001b[0m\u001b[0;34m)\u001b[0m\u001b[0;34m.\u001b[0m\u001b[0mpublish\u001b[0m\u001b[0;34m(\u001b[0m\u001b[0;34m\"terra.parallel.start\"\u001b[0m\u001b[0;34m,\u001b[0m \u001b[0mlen\u001b[0m\u001b[0;34m(\u001b[0m\u001b[0mvalues\u001b[0m\u001b[0;34m)\u001b[0m\u001b[0;34m)\u001b[0m\u001b[0;34m\u001b[0m\u001b[0;34m\u001b[0m\u001b[0m\n",
      "\u001b[0;32m~/.conda/envs/ML4Quantum/lib/python3.8/site-packages/qiskit/compiler/transpiler.py\u001b[0m in \u001b[0;36m_transpile_circuit\u001b[0;34m(circuit_config_tuple)\u001b[0m\n\u001b[1;32m    427\u001b[0m         \u001b[0;32mraise\u001b[0m \u001b[0mTranspilerError\u001b[0m\u001b[0;34m(\u001b[0m\u001b[0;34m\"optimization_level can range from 0 to 3.\"\u001b[0m\u001b[0;34m)\u001b[0m\u001b[0;34m\u001b[0m\u001b[0;34m\u001b[0m\u001b[0m\n\u001b[1;32m    428\u001b[0m \u001b[0;34m\u001b[0m\u001b[0m\n\u001b[0;32m--> 429\u001b[0;31m     result = pass_manager.run(\n\u001b[0m\u001b[1;32m    430\u001b[0m         \u001b[0mcircuit\u001b[0m\u001b[0;34m,\u001b[0m \u001b[0mcallback\u001b[0m\u001b[0;34m=\u001b[0m\u001b[0mtranspile_config\u001b[0m\u001b[0;34m[\u001b[0m\u001b[0;34m\"callback\"\u001b[0m\u001b[0;34m]\u001b[0m\u001b[0;34m,\u001b[0m \u001b[0moutput_name\u001b[0m\u001b[0;34m=\u001b[0m\u001b[0mtranspile_config\u001b[0m\u001b[0;34m[\u001b[0m\u001b[0;34m\"output_name\"\u001b[0m\u001b[0;34m]\u001b[0m\u001b[0;34m\u001b[0m\u001b[0;34m\u001b[0m\u001b[0m\n\u001b[1;32m    431\u001b[0m     )\n",
      "\u001b[0;32m~/.conda/envs/ML4Quantum/lib/python3.8/site-packages/qiskit/transpiler/passmanager.py\u001b[0m in \u001b[0;36mrun\u001b[0;34m(self, circuits, output_name, callback)\u001b[0m\n\u001b[1;32m    216\u001b[0m             \u001b[0;32mreturn\u001b[0m \u001b[0mcircuits\u001b[0m\u001b[0;34m\u001b[0m\u001b[0;34m\u001b[0m\u001b[0m\n\u001b[1;32m    217\u001b[0m         \u001b[0;32mif\u001b[0m \u001b[0misinstance\u001b[0m\u001b[0;34m(\u001b[0m\u001b[0mcircuits\u001b[0m\u001b[0;34m,\u001b[0m \u001b[0mQuantumCircuit\u001b[0m\u001b[0;34m)\u001b[0m\u001b[0;34m:\u001b[0m\u001b[0;34m\u001b[0m\u001b[0;34m\u001b[0m\u001b[0m\n\u001b[0;32m--> 218\u001b[0;31m             \u001b[0;32mreturn\u001b[0m \u001b[0mself\u001b[0m\u001b[0;34m.\u001b[0m\u001b[0m_run_single_circuit\u001b[0m\u001b[0;34m(\u001b[0m\u001b[0mcircuits\u001b[0m\u001b[0;34m,\u001b[0m \u001b[0moutput_name\u001b[0m\u001b[0;34m,\u001b[0m \u001b[0mcallback\u001b[0m\u001b[0;34m)\u001b[0m\u001b[0;34m\u001b[0m\u001b[0;34m\u001b[0m\u001b[0m\n\u001b[0m\u001b[1;32m    219\u001b[0m         \u001b[0;32mif\u001b[0m \u001b[0mlen\u001b[0m\u001b[0;34m(\u001b[0m\u001b[0mcircuits\u001b[0m\u001b[0;34m)\u001b[0m \u001b[0;34m==\u001b[0m \u001b[0;36m1\u001b[0m\u001b[0;34m:\u001b[0m\u001b[0;34m\u001b[0m\u001b[0;34m\u001b[0m\u001b[0m\n\u001b[1;32m    220\u001b[0m             \u001b[0;32mreturn\u001b[0m \u001b[0mself\u001b[0m\u001b[0;34m.\u001b[0m\u001b[0m_run_single_circuit\u001b[0m\u001b[0;34m(\u001b[0m\u001b[0mcircuits\u001b[0m\u001b[0;34m[\u001b[0m\u001b[0;36m0\u001b[0m\u001b[0;34m]\u001b[0m\u001b[0;34m,\u001b[0m \u001b[0moutput_name\u001b[0m\u001b[0;34m,\u001b[0m \u001b[0mcallback\u001b[0m\u001b[0;34m)\u001b[0m\u001b[0;34m\u001b[0m\u001b[0;34m\u001b[0m\u001b[0m\n",
      "\u001b[0;32m~/.conda/envs/ML4Quantum/lib/python3.8/site-packages/qiskit/transpiler/passmanager.py\u001b[0m in \u001b[0;36m_run_single_circuit\u001b[0;34m(self, circuit, output_name, callback)\u001b[0m\n\u001b[1;32m    271\u001b[0m         \"\"\"\n\u001b[1;32m    272\u001b[0m         \u001b[0mrunning_passmanager\u001b[0m \u001b[0;34m=\u001b[0m \u001b[0mself\u001b[0m\u001b[0;34m.\u001b[0m\u001b[0m_create_running_passmanager\u001b[0m\u001b[0;34m(\u001b[0m\u001b[0;34m)\u001b[0m\u001b[0;34m\u001b[0m\u001b[0;34m\u001b[0m\u001b[0m\n\u001b[0;32m--> 273\u001b[0;31m         \u001b[0mresult\u001b[0m \u001b[0;34m=\u001b[0m \u001b[0mrunning_passmanager\u001b[0m\u001b[0;34m.\u001b[0m\u001b[0mrun\u001b[0m\u001b[0;34m(\u001b[0m\u001b[0mcircuit\u001b[0m\u001b[0;34m,\u001b[0m \u001b[0moutput_name\u001b[0m\u001b[0;34m=\u001b[0m\u001b[0moutput_name\u001b[0m\u001b[0;34m,\u001b[0m \u001b[0mcallback\u001b[0m\u001b[0;34m=\u001b[0m\u001b[0mcallback\u001b[0m\u001b[0;34m)\u001b[0m\u001b[0;34m\u001b[0m\u001b[0;34m\u001b[0m\u001b[0m\n\u001b[0m\u001b[1;32m    274\u001b[0m         \u001b[0mself\u001b[0m\u001b[0;34m.\u001b[0m\u001b[0mproperty_set\u001b[0m \u001b[0;34m=\u001b[0m \u001b[0mrunning_passmanager\u001b[0m\u001b[0;34m.\u001b[0m\u001b[0mproperty_set\u001b[0m\u001b[0;34m\u001b[0m\u001b[0;34m\u001b[0m\u001b[0m\n\u001b[1;32m    275\u001b[0m         \u001b[0;32mreturn\u001b[0m \u001b[0mresult\u001b[0m\u001b[0;34m\u001b[0m\u001b[0;34m\u001b[0m\u001b[0m\n",
      "\u001b[0;32m~/.conda/envs/ML4Quantum/lib/python3.8/site-packages/qiskit/transpiler/runningpassmanager.py\u001b[0m in \u001b[0;36mrun\u001b[0;34m(***failed resolving arguments***)\u001b[0m\n\u001b[1;32m    121\u001b[0m         \u001b[0;32mfor\u001b[0m \u001b[0mpassset\u001b[0m \u001b[0;32min\u001b[0m \u001b[0mself\u001b[0m\u001b[0;34m.\u001b[0m\u001b[0mworking_list\u001b[0m\u001b[0;34m:\u001b[0m\u001b[0;34m\u001b[0m\u001b[0;34m\u001b[0m\u001b[0m\n\u001b[1;32m    122\u001b[0m             \u001b[0;32mfor\u001b[0m \u001b[0mpass_\u001b[0m \u001b[0;32min\u001b[0m \u001b[0mpassset\u001b[0m\u001b[0;34m:\u001b[0m\u001b[0;34m\u001b[0m\u001b[0;34m\u001b[0m\u001b[0m\n\u001b[0;32m--> 123\u001b[0;31m                 \u001b[0mdag\u001b[0m \u001b[0;34m=\u001b[0m \u001b[0mself\u001b[0m\u001b[0;34m.\u001b[0m\u001b[0m_do_pass\u001b[0m\u001b[0;34m(\u001b[0m\u001b[0mpass_\u001b[0m\u001b[0;34m,\u001b[0m \u001b[0mdag\u001b[0m\u001b[0;34m,\u001b[0m \u001b[0mpassset\u001b[0m\u001b[0;34m.\u001b[0m\u001b[0moptions\u001b[0m\u001b[0;34m)\u001b[0m\u001b[0;34m\u001b[0m\u001b[0;34m\u001b[0m\u001b[0m\n\u001b[0m\u001b[1;32m    124\u001b[0m \u001b[0;34m\u001b[0m\u001b[0m\n\u001b[1;32m    125\u001b[0m         \u001b[0mcircuit\u001b[0m \u001b[0;34m=\u001b[0m \u001b[0mdag_to_circuit\u001b[0m\u001b[0;34m(\u001b[0m\u001b[0mdag\u001b[0m\u001b[0;34m)\u001b[0m\u001b[0;34m\u001b[0m\u001b[0;34m\u001b[0m\u001b[0m\n",
      "\u001b[0;32m~/.conda/envs/ML4Quantum/lib/python3.8/site-packages/qiskit/transpiler/runningpassmanager.py\u001b[0m in \u001b[0;36m_do_pass\u001b[0;34m(self, pass_, dag, options)\u001b[0m\n\u001b[1;32m    152\u001b[0m         \u001b[0;31m# Run the pass itself, if not already run\u001b[0m\u001b[0;34m\u001b[0m\u001b[0;34m\u001b[0m\u001b[0;34m\u001b[0m\u001b[0m\n\u001b[1;32m    153\u001b[0m         \u001b[0;32mif\u001b[0m \u001b[0mpass_\u001b[0m \u001b[0;32mnot\u001b[0m \u001b[0;32min\u001b[0m \u001b[0mself\u001b[0m\u001b[0;34m.\u001b[0m\u001b[0mvalid_passes\u001b[0m\u001b[0;34m:\u001b[0m\u001b[0;34m\u001b[0m\u001b[0;34m\u001b[0m\u001b[0m\n\u001b[0;32m--> 154\u001b[0;31m             \u001b[0mdag\u001b[0m \u001b[0;34m=\u001b[0m \u001b[0mself\u001b[0m\u001b[0;34m.\u001b[0m\u001b[0m_run_this_pass\u001b[0m\u001b[0;34m(\u001b[0m\u001b[0mpass_\u001b[0m\u001b[0;34m,\u001b[0m \u001b[0mdag\u001b[0m\u001b[0;34m)\u001b[0m\u001b[0;34m\u001b[0m\u001b[0;34m\u001b[0m\u001b[0m\n\u001b[0m\u001b[1;32m    155\u001b[0m \u001b[0;34m\u001b[0m\u001b[0m\n\u001b[1;32m    156\u001b[0m             \u001b[0;31m# update the valid_passes property\u001b[0m\u001b[0;34m\u001b[0m\u001b[0;34m\u001b[0m\u001b[0;34m\u001b[0m\u001b[0m\n",
      "\u001b[0;32m~/.conda/envs/ML4Quantum/lib/python3.8/site-packages/qiskit/transpiler/runningpassmanager.py\u001b[0m in \u001b[0;36m_run_this_pass\u001b[0;34m(self, pass_, dag)\u001b[0m\n\u001b[1;32m    164\u001b[0m             \u001b[0;31m# Measure time if we have a callback or logging set\u001b[0m\u001b[0;34m\u001b[0m\u001b[0;34m\u001b[0m\u001b[0;34m\u001b[0m\u001b[0m\n\u001b[1;32m    165\u001b[0m             \u001b[0mstart_time\u001b[0m \u001b[0;34m=\u001b[0m \u001b[0mtime\u001b[0m\u001b[0;34m(\u001b[0m\u001b[0;34m)\u001b[0m\u001b[0;34m\u001b[0m\u001b[0;34m\u001b[0m\u001b[0m\n\u001b[0;32m--> 166\u001b[0;31m             \u001b[0mnew_dag\u001b[0m \u001b[0;34m=\u001b[0m \u001b[0mpass_\u001b[0m\u001b[0;34m.\u001b[0m\u001b[0mrun\u001b[0m\u001b[0;34m(\u001b[0m\u001b[0mdag\u001b[0m\u001b[0;34m)\u001b[0m\u001b[0;34m\u001b[0m\u001b[0;34m\u001b[0m\u001b[0m\n\u001b[0m\u001b[1;32m    167\u001b[0m             \u001b[0mend_time\u001b[0m \u001b[0;34m=\u001b[0m \u001b[0mtime\u001b[0m\u001b[0;34m(\u001b[0m\u001b[0;34m)\u001b[0m\u001b[0;34m\u001b[0m\u001b[0;34m\u001b[0m\u001b[0m\n\u001b[1;32m    168\u001b[0m             \u001b[0mrun_time\u001b[0m \u001b[0;34m=\u001b[0m \u001b[0mend_time\u001b[0m \u001b[0;34m-\u001b[0m \u001b[0mstart_time\u001b[0m\u001b[0;34m\u001b[0m\u001b[0;34m\u001b[0m\u001b[0m\n",
      "\u001b[0;32m~/.conda/envs/ML4Quantum/lib/python3.8/site-packages/qiskit/transpiler/passes/basis/basis_translator.py\u001b[0m in \u001b[0;36mrun\u001b[0;34m(self, dag)\u001b[0m\n\u001b[1;32m    163\u001b[0m         \u001b[0;31m# Search for a path from source to target basis.\u001b[0m\u001b[0;34m\u001b[0m\u001b[0;34m\u001b[0m\u001b[0;34m\u001b[0m\u001b[0m\n\u001b[1;32m    164\u001b[0m         \u001b[0msearch_start_time\u001b[0m \u001b[0;34m=\u001b[0m \u001b[0mtime\u001b[0m\u001b[0;34m.\u001b[0m\u001b[0mtime\u001b[0m\u001b[0;34m(\u001b[0m\u001b[0;34m)\u001b[0m\u001b[0;34m\u001b[0m\u001b[0;34m\u001b[0m\u001b[0m\n\u001b[0;32m--> 165\u001b[0;31m         basis_transforms = _basis_search(\n\u001b[0m\u001b[1;32m    166\u001b[0m             \u001b[0mself\u001b[0m\u001b[0;34m.\u001b[0m\u001b[0m_equiv_lib\u001b[0m\u001b[0;34m,\u001b[0m \u001b[0msource_basis\u001b[0m\u001b[0;34m,\u001b[0m \u001b[0mtarget_basis\u001b[0m\u001b[0;34m,\u001b[0m \u001b[0m_basis_heuristic\u001b[0m\u001b[0;34m\u001b[0m\u001b[0;34m\u001b[0m\u001b[0m\n\u001b[1;32m    167\u001b[0m         )\n",
      "\u001b[0;32m~/.conda/envs/ML4Quantum/lib/python3.8/site-packages/qiskit/transpiler/passes/basis/basis_translator.py\u001b[0m in \u001b[0;36m_basis_search\u001b[0;34m(equiv_lib, source_basis, target_basis, heuristic)\u001b[0m\n\u001b[1;32m    365\u001b[0m             \u001b[0;32mreturn\u001b[0m \u001b[0mrtn\u001b[0m\u001b[0;34m\u001b[0m\u001b[0;34m\u001b[0m\u001b[0m\n\u001b[1;32m    366\u001b[0m \u001b[0;34m\u001b[0m\u001b[0m\n\u001b[0;32m--> 367\u001b[0;31m         \u001b[0mlogger\u001b[0m\u001b[0;34m.\u001b[0m\u001b[0mdebug\u001b[0m\u001b[0;34m(\u001b[0m\u001b[0;34m\"Inspecting basis %s.\"\u001b[0m\u001b[0;34m,\u001b[0m \u001b[0mcurrent_basis\u001b[0m\u001b[0;34m)\u001b[0m\u001b[0;34m\u001b[0m\u001b[0;34m\u001b[0m\u001b[0m\n\u001b[0m\u001b[1;32m    368\u001b[0m         \u001b[0mopen_set\u001b[0m\u001b[0;34m.\u001b[0m\u001b[0mremove\u001b[0m\u001b[0;34m(\u001b[0m\u001b[0mcurrent_basis\u001b[0m\u001b[0;34m)\u001b[0m\u001b[0;34m\u001b[0m\u001b[0;34m\u001b[0m\u001b[0m\n\u001b[1;32m    369\u001b[0m         \u001b[0mclosed_set\u001b[0m\u001b[0;34m.\u001b[0m\u001b[0madd\u001b[0m\u001b[0;34m(\u001b[0m\u001b[0mcurrent_basis\u001b[0m\u001b[0;34m)\u001b[0m\u001b[0;34m\u001b[0m\u001b[0;34m\u001b[0m\u001b[0m\n",
      "\u001b[0;32m~/.conda/envs/ML4Quantum/lib/python3.8/site-packages/qiskit/transpiler/passes/basis/basis_translator.py\u001b[0m in \u001b[0;36m_basis_search\u001b[0;34m(equiv_lib, source_basis, target_basis, heuristic)\u001b[0m\n\u001b[1;32m    365\u001b[0m             \u001b[0;32mreturn\u001b[0m \u001b[0mrtn\u001b[0m\u001b[0;34m\u001b[0m\u001b[0;34m\u001b[0m\u001b[0m\n\u001b[1;32m    366\u001b[0m \u001b[0;34m\u001b[0m\u001b[0m\n\u001b[0;32m--> 367\u001b[0;31m         \u001b[0mlogger\u001b[0m\u001b[0;34m.\u001b[0m\u001b[0mdebug\u001b[0m\u001b[0;34m(\u001b[0m\u001b[0;34m\"Inspecting basis %s.\"\u001b[0m\u001b[0;34m,\u001b[0m \u001b[0mcurrent_basis\u001b[0m\u001b[0;34m)\u001b[0m\u001b[0;34m\u001b[0m\u001b[0;34m\u001b[0m\u001b[0m\n\u001b[0m\u001b[1;32m    368\u001b[0m         \u001b[0mopen_set\u001b[0m\u001b[0;34m.\u001b[0m\u001b[0mremove\u001b[0m\u001b[0;34m(\u001b[0m\u001b[0mcurrent_basis\u001b[0m\u001b[0;34m)\u001b[0m\u001b[0;34m\u001b[0m\u001b[0;34m\u001b[0m\u001b[0m\n\u001b[1;32m    369\u001b[0m         \u001b[0mclosed_set\u001b[0m\u001b[0;34m.\u001b[0m\u001b[0madd\u001b[0m\u001b[0;34m(\u001b[0m\u001b[0mcurrent_basis\u001b[0m\u001b[0;34m)\u001b[0m\u001b[0;34m\u001b[0m\u001b[0;34m\u001b[0m\u001b[0m\n",
      "\u001b[0;32m~/.conda/envs/ML4Quantum/lib/python3.8/bdb.py\u001b[0m in \u001b[0;36mtrace_dispatch\u001b[0;34m(self, frame, event, arg)\u001b[0m\n\u001b[1;32m     86\u001b[0m             \u001b[0;32mreturn\u001b[0m \u001b[0;31m# None\u001b[0m\u001b[0;34m\u001b[0m\u001b[0;34m\u001b[0m\u001b[0m\n\u001b[1;32m     87\u001b[0m         \u001b[0;32mif\u001b[0m \u001b[0mevent\u001b[0m \u001b[0;34m==\u001b[0m \u001b[0;34m'line'\u001b[0m\u001b[0;34m:\u001b[0m\u001b[0;34m\u001b[0m\u001b[0;34m\u001b[0m\u001b[0m\n\u001b[0;32m---> 88\u001b[0;31m             \u001b[0;32mreturn\u001b[0m \u001b[0mself\u001b[0m\u001b[0;34m.\u001b[0m\u001b[0mdispatch_line\u001b[0m\u001b[0;34m(\u001b[0m\u001b[0mframe\u001b[0m\u001b[0;34m)\u001b[0m\u001b[0;34m\u001b[0m\u001b[0;34m\u001b[0m\u001b[0m\n\u001b[0m\u001b[1;32m     89\u001b[0m         \u001b[0;32mif\u001b[0m \u001b[0mevent\u001b[0m \u001b[0;34m==\u001b[0m \u001b[0;34m'call'\u001b[0m\u001b[0;34m:\u001b[0m\u001b[0;34m\u001b[0m\u001b[0;34m\u001b[0m\u001b[0m\n\u001b[1;32m     90\u001b[0m             \u001b[0;32mreturn\u001b[0m \u001b[0mself\u001b[0m\u001b[0;34m.\u001b[0m\u001b[0mdispatch_call\u001b[0m\u001b[0;34m(\u001b[0m\u001b[0mframe\u001b[0m\u001b[0;34m,\u001b[0m \u001b[0marg\u001b[0m\u001b[0;34m)\u001b[0m\u001b[0;34m\u001b[0m\u001b[0;34m\u001b[0m\u001b[0m\n",
      "\u001b[0;32m~/.conda/envs/ML4Quantum/lib/python3.8/bdb.py\u001b[0m in \u001b[0;36mdispatch_line\u001b[0;34m(self, frame)\u001b[0m\n\u001b[1;32m    111\u001b[0m         \u001b[0;32mif\u001b[0m \u001b[0mself\u001b[0m\u001b[0;34m.\u001b[0m\u001b[0mstop_here\u001b[0m\u001b[0;34m(\u001b[0m\u001b[0mframe\u001b[0m\u001b[0;34m)\u001b[0m \u001b[0;32mor\u001b[0m \u001b[0mself\u001b[0m\u001b[0;34m.\u001b[0m\u001b[0mbreak_here\u001b[0m\u001b[0;34m(\u001b[0m\u001b[0mframe\u001b[0m\u001b[0;34m)\u001b[0m\u001b[0;34m:\u001b[0m\u001b[0;34m\u001b[0m\u001b[0;34m\u001b[0m\u001b[0m\n\u001b[1;32m    112\u001b[0m             \u001b[0mself\u001b[0m\u001b[0;34m.\u001b[0m\u001b[0muser_line\u001b[0m\u001b[0;34m(\u001b[0m\u001b[0mframe\u001b[0m\u001b[0;34m)\u001b[0m\u001b[0;34m\u001b[0m\u001b[0;34m\u001b[0m\u001b[0m\n\u001b[0;32m--> 113\u001b[0;31m             \u001b[0;32mif\u001b[0m \u001b[0mself\u001b[0m\u001b[0;34m.\u001b[0m\u001b[0mquitting\u001b[0m\u001b[0;34m:\u001b[0m \u001b[0;32mraise\u001b[0m \u001b[0mBdbQuit\u001b[0m\u001b[0;34m\u001b[0m\u001b[0;34m\u001b[0m\u001b[0m\n\u001b[0m\u001b[1;32m    114\u001b[0m         \u001b[0;32mreturn\u001b[0m \u001b[0mself\u001b[0m\u001b[0;34m.\u001b[0m\u001b[0mtrace_dispatch\u001b[0m\u001b[0;34m\u001b[0m\u001b[0;34m\u001b[0m\u001b[0m\n\u001b[1;32m    115\u001b[0m \u001b[0;34m\u001b[0m\u001b[0m\n",
      "\u001b[0;31mBdbQuit\u001b[0m: "
     ]
    }
   ],
   "source": [
    "# SECTION\n",
    "# NAME: OPTIMIZATION_LEVEL\n",
    "from qiskit import transpilec\n",
    "import pdb\n",
    "pdb.set_trace()\n",
    "qc = transpile(qc, basis_gates=['cx', 'h', 's', 't'], optimization_level=2)"
   ]
  },
  {
   "cell_type": "code",
   "execution_count": 146,
   "id": "c1abf8e2",
   "metadata": {
    "ExecuteTime": {
     "end_time": "2022-02-09T14:23:02.625254Z",
     "start_time": "2022-02-09T14:22:51.748493Z"
    }
   },
   "outputs": [
    {
     "ename": "KeyboardInterrupt",
     "evalue": "",
     "output_type": "error",
     "traceback": [
      "\u001b[0;31m---------------------------------------------------------------------------\u001b[0m",
      "\u001b[0;31mKeyboardInterrupt\u001b[0m                         Traceback (most recent call last)",
      "\u001b[0;32m/tmp/ipykernel_48930/3209328967.py\u001b[0m in \u001b[0;36m<module>\u001b[0;34m\u001b[0m\n\u001b[1;32m     33\u001b[0m \u001b[0;31m# NAME: OPTIMIZATION_LEVEL\u001b[0m\u001b[0;34m\u001b[0m\u001b[0;34m\u001b[0m\u001b[0;34m\u001b[0m\u001b[0m\n\u001b[1;32m     34\u001b[0m \u001b[0;32mfrom\u001b[0m \u001b[0mqiskit\u001b[0m \u001b[0;32mimport\u001b[0m \u001b[0mtranspile\u001b[0m\u001b[0;34m\u001b[0m\u001b[0;34m\u001b[0m\u001b[0m\n\u001b[0;32m---> 35\u001b[0;31m \u001b[0mqc\u001b[0m \u001b[0;34m=\u001b[0m \u001b[0mtranspile\u001b[0m\u001b[0;34m(\u001b[0m\u001b[0mqc\u001b[0m\u001b[0;34m,\u001b[0m \u001b[0mbasis_gates\u001b[0m\u001b[0;34m=\u001b[0m\u001b[0;34m[\u001b[0m\u001b[0;34m'cx'\u001b[0m\u001b[0;34m,\u001b[0m \u001b[0;34m'h'\u001b[0m\u001b[0;34m,\u001b[0m \u001b[0;34m's'\u001b[0m\u001b[0;34m,\u001b[0m \u001b[0;34m't'\u001b[0m\u001b[0;34m]\u001b[0m\u001b[0;34m,\u001b[0m \u001b[0moptimization_level\u001b[0m\u001b[0;34m=\u001b[0m\u001b[0;36m2\u001b[0m\u001b[0;34m)\u001b[0m\u001b[0;34m\u001b[0m\u001b[0;34m\u001b[0m\u001b[0m\n\u001b[0m\u001b[1;32m     36\u001b[0m \u001b[0;31m# SECTION\u001b[0m\u001b[0;34m\u001b[0m\u001b[0;34m\u001b[0m\u001b[0;34m\u001b[0m\u001b[0m\n\u001b[1;32m     37\u001b[0m \u001b[0;31m# NAME: MEASUREMENT\u001b[0m\u001b[0;34m\u001b[0m\u001b[0;34m\u001b[0m\u001b[0;34m\u001b[0m\u001b[0m\n",
      "\u001b[0;32m~/.conda/envs/ML4Quantum/lib/python3.8/site-packages/qiskit/compiler/transpiler.py\u001b[0m in \u001b[0;36mtranspile\u001b[0;34m(circuits, backend, basis_gates, inst_map, coupling_map, backend_properties, initial_layout, layout_method, routing_method, translation_method, scheduling_method, instruction_durations, dt, approximation_degree, timing_constraints, seed_transpiler, optimization_level, pass_manager, callback, output_name, unitary_synthesis_method, unitary_synthesis_plugin_config, target)\u001b[0m\n\u001b[1;32m    333\u001b[0m \u001b[0;34m\u001b[0m\u001b[0m\n\u001b[1;32m    334\u001b[0m     \u001b[0;31m# Transpile circuits in parallel\u001b[0m\u001b[0;34m\u001b[0m\u001b[0;34m\u001b[0m\u001b[0;34m\u001b[0m\u001b[0m\n\u001b[0;32m--> 335\u001b[0;31m     \u001b[0mcircuits\u001b[0m \u001b[0;34m=\u001b[0m \u001b[0mparallel_map\u001b[0m\u001b[0;34m(\u001b[0m\u001b[0m_transpile_circuit\u001b[0m\u001b[0;34m,\u001b[0m \u001b[0mlist\u001b[0m\u001b[0;34m(\u001b[0m\u001b[0mzip\u001b[0m\u001b[0;34m(\u001b[0m\u001b[0mcircuits\u001b[0m\u001b[0;34m,\u001b[0m \u001b[0mtranspile_args\u001b[0m\u001b[0;34m)\u001b[0m\u001b[0;34m)\u001b[0m\u001b[0;34m)\u001b[0m\u001b[0;34m\u001b[0m\u001b[0;34m\u001b[0m\u001b[0m\n\u001b[0m\u001b[1;32m    336\u001b[0m \u001b[0;34m\u001b[0m\u001b[0m\n\u001b[1;32m    337\u001b[0m     \u001b[0mend_time\u001b[0m \u001b[0;34m=\u001b[0m \u001b[0mtime\u001b[0m\u001b[0;34m(\u001b[0m\u001b[0;34m)\u001b[0m\u001b[0;34m\u001b[0m\u001b[0;34m\u001b[0m\u001b[0m\n",
      "\u001b[0;32m~/.conda/envs/ML4Quantum/lib/python3.8/site-packages/qiskit/tools/parallel.py\u001b[0m in \u001b[0;36mparallel_map\u001b[0;34m(task, values, task_args, task_kwargs, num_processes)\u001b[0m\n\u001b[1;32m    130\u001b[0m         \u001b[0;32mreturn\u001b[0m \u001b[0;34m[\u001b[0m\u001b[0;34m]\u001b[0m\u001b[0;34m\u001b[0m\u001b[0;34m\u001b[0m\u001b[0m\n\u001b[1;32m    131\u001b[0m     \u001b[0;32mif\u001b[0m \u001b[0mlen\u001b[0m\u001b[0;34m(\u001b[0m\u001b[0mvalues\u001b[0m\u001b[0;34m)\u001b[0m \u001b[0;34m==\u001b[0m \u001b[0;36m1\u001b[0m\u001b[0;34m:\u001b[0m\u001b[0;34m\u001b[0m\u001b[0;34m\u001b[0m\u001b[0m\n\u001b[0;32m--> 132\u001b[0;31m         \u001b[0;32mreturn\u001b[0m \u001b[0;34m[\u001b[0m\u001b[0mtask\u001b[0m\u001b[0;34m(\u001b[0m\u001b[0mvalues\u001b[0m\u001b[0;34m[\u001b[0m\u001b[0;36m0\u001b[0m\u001b[0;34m]\u001b[0m\u001b[0;34m,\u001b[0m \u001b[0;34m*\u001b[0m\u001b[0mtask_args\u001b[0m\u001b[0;34m,\u001b[0m \u001b[0;34m**\u001b[0m\u001b[0mtask_kwargs\u001b[0m\u001b[0;34m)\u001b[0m\u001b[0;34m]\u001b[0m\u001b[0;34m\u001b[0m\u001b[0;34m\u001b[0m\u001b[0m\n\u001b[0m\u001b[1;32m    133\u001b[0m \u001b[0;34m\u001b[0m\u001b[0m\n\u001b[1;32m    134\u001b[0m     \u001b[0mPublisher\u001b[0m\u001b[0;34m(\u001b[0m\u001b[0;34m)\u001b[0m\u001b[0;34m.\u001b[0m\u001b[0mpublish\u001b[0m\u001b[0;34m(\u001b[0m\u001b[0;34m\"terra.parallel.start\"\u001b[0m\u001b[0;34m,\u001b[0m \u001b[0mlen\u001b[0m\u001b[0;34m(\u001b[0m\u001b[0mvalues\u001b[0m\u001b[0;34m)\u001b[0m\u001b[0;34m)\u001b[0m\u001b[0;34m\u001b[0m\u001b[0;34m\u001b[0m\u001b[0m\n",
      "\u001b[0;32m~/.conda/envs/ML4Quantum/lib/python3.8/site-packages/qiskit/compiler/transpiler.py\u001b[0m in \u001b[0;36m_transpile_circuit\u001b[0;34m(circuit_config_tuple)\u001b[0m\n\u001b[1;32m    427\u001b[0m         \u001b[0;32mraise\u001b[0m \u001b[0mTranspilerError\u001b[0m\u001b[0;34m(\u001b[0m\u001b[0;34m\"optimization_level can range from 0 to 3.\"\u001b[0m\u001b[0;34m)\u001b[0m\u001b[0;34m\u001b[0m\u001b[0;34m\u001b[0m\u001b[0m\n\u001b[1;32m    428\u001b[0m \u001b[0;34m\u001b[0m\u001b[0m\n\u001b[0;32m--> 429\u001b[0;31m     result = pass_manager.run(\n\u001b[0m\u001b[1;32m    430\u001b[0m         \u001b[0mcircuit\u001b[0m\u001b[0;34m,\u001b[0m \u001b[0mcallback\u001b[0m\u001b[0;34m=\u001b[0m\u001b[0mtranspile_config\u001b[0m\u001b[0;34m[\u001b[0m\u001b[0;34m\"callback\"\u001b[0m\u001b[0;34m]\u001b[0m\u001b[0;34m,\u001b[0m \u001b[0moutput_name\u001b[0m\u001b[0;34m=\u001b[0m\u001b[0mtranspile_config\u001b[0m\u001b[0;34m[\u001b[0m\u001b[0;34m\"output_name\"\u001b[0m\u001b[0;34m]\u001b[0m\u001b[0;34m\u001b[0m\u001b[0;34m\u001b[0m\u001b[0m\n\u001b[1;32m    431\u001b[0m     )\n",
      "\u001b[0;32m~/.conda/envs/ML4Quantum/lib/python3.8/site-packages/qiskit/transpiler/passmanager.py\u001b[0m in \u001b[0;36mrun\u001b[0;34m(self, circuits, output_name, callback)\u001b[0m\n\u001b[1;32m    216\u001b[0m             \u001b[0;32mreturn\u001b[0m \u001b[0mcircuits\u001b[0m\u001b[0;34m\u001b[0m\u001b[0;34m\u001b[0m\u001b[0m\n\u001b[1;32m    217\u001b[0m         \u001b[0;32mif\u001b[0m \u001b[0misinstance\u001b[0m\u001b[0;34m(\u001b[0m\u001b[0mcircuits\u001b[0m\u001b[0;34m,\u001b[0m \u001b[0mQuantumCircuit\u001b[0m\u001b[0;34m)\u001b[0m\u001b[0;34m:\u001b[0m\u001b[0;34m\u001b[0m\u001b[0;34m\u001b[0m\u001b[0m\n\u001b[0;32m--> 218\u001b[0;31m             \u001b[0;32mreturn\u001b[0m \u001b[0mself\u001b[0m\u001b[0;34m.\u001b[0m\u001b[0m_run_single_circuit\u001b[0m\u001b[0;34m(\u001b[0m\u001b[0mcircuits\u001b[0m\u001b[0;34m,\u001b[0m \u001b[0moutput_name\u001b[0m\u001b[0;34m,\u001b[0m \u001b[0mcallback\u001b[0m\u001b[0;34m)\u001b[0m\u001b[0;34m\u001b[0m\u001b[0;34m\u001b[0m\u001b[0m\n\u001b[0m\u001b[1;32m    219\u001b[0m         \u001b[0;32mif\u001b[0m \u001b[0mlen\u001b[0m\u001b[0;34m(\u001b[0m\u001b[0mcircuits\u001b[0m\u001b[0;34m)\u001b[0m \u001b[0;34m==\u001b[0m \u001b[0;36m1\u001b[0m\u001b[0;34m:\u001b[0m\u001b[0;34m\u001b[0m\u001b[0;34m\u001b[0m\u001b[0m\n\u001b[1;32m    220\u001b[0m             \u001b[0;32mreturn\u001b[0m \u001b[0mself\u001b[0m\u001b[0;34m.\u001b[0m\u001b[0m_run_single_circuit\u001b[0m\u001b[0;34m(\u001b[0m\u001b[0mcircuits\u001b[0m\u001b[0;34m[\u001b[0m\u001b[0;36m0\u001b[0m\u001b[0;34m]\u001b[0m\u001b[0;34m,\u001b[0m \u001b[0moutput_name\u001b[0m\u001b[0;34m,\u001b[0m \u001b[0mcallback\u001b[0m\u001b[0;34m)\u001b[0m\u001b[0;34m\u001b[0m\u001b[0;34m\u001b[0m\u001b[0m\n",
      "\u001b[0;32m~/.conda/envs/ML4Quantum/lib/python3.8/site-packages/qiskit/transpiler/passmanager.py\u001b[0m in \u001b[0;36m_run_single_circuit\u001b[0;34m(self, circuit, output_name, callback)\u001b[0m\n\u001b[1;32m    271\u001b[0m         \"\"\"\n\u001b[1;32m    272\u001b[0m         \u001b[0mrunning_passmanager\u001b[0m \u001b[0;34m=\u001b[0m \u001b[0mself\u001b[0m\u001b[0;34m.\u001b[0m\u001b[0m_create_running_passmanager\u001b[0m\u001b[0;34m(\u001b[0m\u001b[0;34m)\u001b[0m\u001b[0;34m\u001b[0m\u001b[0;34m\u001b[0m\u001b[0m\n\u001b[0;32m--> 273\u001b[0;31m         \u001b[0mresult\u001b[0m \u001b[0;34m=\u001b[0m \u001b[0mrunning_passmanager\u001b[0m\u001b[0;34m.\u001b[0m\u001b[0mrun\u001b[0m\u001b[0;34m(\u001b[0m\u001b[0mcircuit\u001b[0m\u001b[0;34m,\u001b[0m \u001b[0moutput_name\u001b[0m\u001b[0;34m=\u001b[0m\u001b[0moutput_name\u001b[0m\u001b[0;34m,\u001b[0m \u001b[0mcallback\u001b[0m\u001b[0;34m=\u001b[0m\u001b[0mcallback\u001b[0m\u001b[0;34m)\u001b[0m\u001b[0;34m\u001b[0m\u001b[0;34m\u001b[0m\u001b[0m\n\u001b[0m\u001b[1;32m    274\u001b[0m         \u001b[0mself\u001b[0m\u001b[0;34m.\u001b[0m\u001b[0mproperty_set\u001b[0m \u001b[0;34m=\u001b[0m \u001b[0mrunning_passmanager\u001b[0m\u001b[0;34m.\u001b[0m\u001b[0mproperty_set\u001b[0m\u001b[0;34m\u001b[0m\u001b[0;34m\u001b[0m\u001b[0m\n\u001b[1;32m    275\u001b[0m         \u001b[0;32mreturn\u001b[0m \u001b[0mresult\u001b[0m\u001b[0;34m\u001b[0m\u001b[0;34m\u001b[0m\u001b[0m\n",
      "\u001b[0;32m~/.conda/envs/ML4Quantum/lib/python3.8/site-packages/qiskit/transpiler/runningpassmanager.py\u001b[0m in \u001b[0;36mrun\u001b[0;34m(***failed resolving arguments***)\u001b[0m\n\u001b[1;32m    121\u001b[0m         \u001b[0;32mfor\u001b[0m \u001b[0mpassset\u001b[0m \u001b[0;32min\u001b[0m \u001b[0mself\u001b[0m\u001b[0;34m.\u001b[0m\u001b[0mworking_list\u001b[0m\u001b[0;34m:\u001b[0m\u001b[0;34m\u001b[0m\u001b[0;34m\u001b[0m\u001b[0m\n\u001b[1;32m    122\u001b[0m             \u001b[0;32mfor\u001b[0m \u001b[0mpass_\u001b[0m \u001b[0;32min\u001b[0m \u001b[0mpassset\u001b[0m\u001b[0;34m:\u001b[0m\u001b[0;34m\u001b[0m\u001b[0;34m\u001b[0m\u001b[0m\n\u001b[0;32m--> 123\u001b[0;31m                 \u001b[0mdag\u001b[0m \u001b[0;34m=\u001b[0m \u001b[0mself\u001b[0m\u001b[0;34m.\u001b[0m\u001b[0m_do_pass\u001b[0m\u001b[0;34m(\u001b[0m\u001b[0mpass_\u001b[0m\u001b[0;34m,\u001b[0m \u001b[0mdag\u001b[0m\u001b[0;34m,\u001b[0m \u001b[0mpassset\u001b[0m\u001b[0;34m.\u001b[0m\u001b[0moptions\u001b[0m\u001b[0;34m)\u001b[0m\u001b[0;34m\u001b[0m\u001b[0;34m\u001b[0m\u001b[0m\n\u001b[0m\u001b[1;32m    124\u001b[0m \u001b[0;34m\u001b[0m\u001b[0m\n\u001b[1;32m    125\u001b[0m         \u001b[0mcircuit\u001b[0m \u001b[0;34m=\u001b[0m \u001b[0mdag_to_circuit\u001b[0m\u001b[0;34m(\u001b[0m\u001b[0mdag\u001b[0m\u001b[0;34m)\u001b[0m\u001b[0;34m\u001b[0m\u001b[0;34m\u001b[0m\u001b[0m\n",
      "\u001b[0;32m~/.conda/envs/ML4Quantum/lib/python3.8/site-packages/qiskit/transpiler/runningpassmanager.py\u001b[0m in \u001b[0;36m_do_pass\u001b[0;34m(self, pass_, dag, options)\u001b[0m\n\u001b[1;32m    152\u001b[0m         \u001b[0;31m# Run the pass itself, if not already run\u001b[0m\u001b[0;34m\u001b[0m\u001b[0;34m\u001b[0m\u001b[0;34m\u001b[0m\u001b[0m\n\u001b[1;32m    153\u001b[0m         \u001b[0;32mif\u001b[0m \u001b[0mpass_\u001b[0m \u001b[0;32mnot\u001b[0m \u001b[0;32min\u001b[0m \u001b[0mself\u001b[0m\u001b[0;34m.\u001b[0m\u001b[0mvalid_passes\u001b[0m\u001b[0;34m:\u001b[0m\u001b[0;34m\u001b[0m\u001b[0;34m\u001b[0m\u001b[0m\n\u001b[0;32m--> 154\u001b[0;31m             \u001b[0mdag\u001b[0m \u001b[0;34m=\u001b[0m \u001b[0mself\u001b[0m\u001b[0;34m.\u001b[0m\u001b[0m_run_this_pass\u001b[0m\u001b[0;34m(\u001b[0m\u001b[0mpass_\u001b[0m\u001b[0;34m,\u001b[0m \u001b[0mdag\u001b[0m\u001b[0;34m)\u001b[0m\u001b[0;34m\u001b[0m\u001b[0;34m\u001b[0m\u001b[0m\n\u001b[0m\u001b[1;32m    155\u001b[0m \u001b[0;34m\u001b[0m\u001b[0m\n\u001b[1;32m    156\u001b[0m             \u001b[0;31m# update the valid_passes property\u001b[0m\u001b[0;34m\u001b[0m\u001b[0;34m\u001b[0m\u001b[0;34m\u001b[0m\u001b[0m\n",
      "\u001b[0;32m~/.conda/envs/ML4Quantum/lib/python3.8/site-packages/qiskit/transpiler/runningpassmanager.py\u001b[0m in \u001b[0;36m_run_this_pass\u001b[0;34m(self, pass_, dag)\u001b[0m\n\u001b[1;32m    164\u001b[0m             \u001b[0;31m# Measure time if we have a callback or logging set\u001b[0m\u001b[0;34m\u001b[0m\u001b[0;34m\u001b[0m\u001b[0;34m\u001b[0m\u001b[0m\n\u001b[1;32m    165\u001b[0m             \u001b[0mstart_time\u001b[0m \u001b[0;34m=\u001b[0m \u001b[0mtime\u001b[0m\u001b[0;34m(\u001b[0m\u001b[0;34m)\u001b[0m\u001b[0;34m\u001b[0m\u001b[0;34m\u001b[0m\u001b[0m\n\u001b[0;32m--> 166\u001b[0;31m             \u001b[0mnew_dag\u001b[0m \u001b[0;34m=\u001b[0m \u001b[0mpass_\u001b[0m\u001b[0;34m.\u001b[0m\u001b[0mrun\u001b[0m\u001b[0;34m(\u001b[0m\u001b[0mdag\u001b[0m\u001b[0;34m)\u001b[0m\u001b[0;34m\u001b[0m\u001b[0;34m\u001b[0m\u001b[0m\n\u001b[0m\u001b[1;32m    167\u001b[0m             \u001b[0mend_time\u001b[0m \u001b[0;34m=\u001b[0m \u001b[0mtime\u001b[0m\u001b[0;34m(\u001b[0m\u001b[0;34m)\u001b[0m\u001b[0;34m\u001b[0m\u001b[0;34m\u001b[0m\u001b[0m\n\u001b[1;32m    168\u001b[0m             \u001b[0mrun_time\u001b[0m \u001b[0;34m=\u001b[0m \u001b[0mend_time\u001b[0m \u001b[0;34m-\u001b[0m \u001b[0mstart_time\u001b[0m\u001b[0;34m\u001b[0m\u001b[0;34m\u001b[0m\u001b[0m\n",
      "\u001b[0;32m~/.conda/envs/ML4Quantum/lib/python3.8/site-packages/qiskit/transpiler/passes/basis/basis_translator.py\u001b[0m in \u001b[0;36mrun\u001b[0;34m(self, dag)\u001b[0m\n\u001b[1;32m    163\u001b[0m         \u001b[0;31m# Search for a path from source to target basis.\u001b[0m\u001b[0;34m\u001b[0m\u001b[0;34m\u001b[0m\u001b[0;34m\u001b[0m\u001b[0m\n\u001b[1;32m    164\u001b[0m         \u001b[0msearch_start_time\u001b[0m \u001b[0;34m=\u001b[0m \u001b[0mtime\u001b[0m\u001b[0;34m.\u001b[0m\u001b[0mtime\u001b[0m\u001b[0;34m(\u001b[0m\u001b[0;34m)\u001b[0m\u001b[0;34m\u001b[0m\u001b[0;34m\u001b[0m\u001b[0m\n\u001b[0;32m--> 165\u001b[0;31m         basis_transforms = _basis_search(\n\u001b[0m\u001b[1;32m    166\u001b[0m             \u001b[0mself\u001b[0m\u001b[0;34m.\u001b[0m\u001b[0m_equiv_lib\u001b[0m\u001b[0;34m,\u001b[0m \u001b[0msource_basis\u001b[0m\u001b[0;34m,\u001b[0m \u001b[0mtarget_basis\u001b[0m\u001b[0;34m,\u001b[0m \u001b[0m_basis_heuristic\u001b[0m\u001b[0;34m\u001b[0m\u001b[0;34m\u001b[0m\u001b[0m\n\u001b[1;32m    167\u001b[0m         )\n",
      "\u001b[0;32m~/.conda/envs/ML4Quantum/lib/python3.8/site-packages/qiskit/transpiler/passes/basis/basis_translator.py\u001b[0m in \u001b[0;36m_basis_search\u001b[0;34m(equiv_lib, source_basis, target_basis, heuristic)\u001b[0m\n\u001b[1;32m    376\u001b[0m \u001b[0;34m\u001b[0m\u001b[0m\n\u001b[1;32m    377\u001b[0m             \u001b[0mbasis_remain\u001b[0m \u001b[0;34m=\u001b[0m \u001b[0mcurrent_basis\u001b[0m \u001b[0;34m-\u001b[0m \u001b[0;34m{\u001b[0m\u001b[0;34m(\u001b[0m\u001b[0mgate_name\u001b[0m\u001b[0;34m,\u001b[0m \u001b[0mgate_num_qubits\u001b[0m\u001b[0;34m)\u001b[0m\u001b[0;34m}\u001b[0m\u001b[0;34m\u001b[0m\u001b[0;34m\u001b[0m\u001b[0m\n\u001b[0;32m--> 378\u001b[0;31m             neighbors = [\n\u001b[0m\u001b[1;32m    379\u001b[0m                 (\n\u001b[1;32m    380\u001b[0m                     frozenset(\n",
      "\u001b[0;32m~/.conda/envs/ML4Quantum/lib/python3.8/site-packages/qiskit/transpiler/passes/basis/basis_translator.py\u001b[0m in \u001b[0;36m<listcomp>\u001b[0;34m(.0)\u001b[0m\n\u001b[1;32m    380\u001b[0m                     frozenset(\n\u001b[1;32m    381\u001b[0m                         \u001b[0mbasis_remain\u001b[0m\u001b[0;34m\u001b[0m\u001b[0;34m\u001b[0m\u001b[0m\n\u001b[0;32m--> 382\u001b[0;31m                         \u001b[0;34m|\u001b[0m \u001b[0;34m{\u001b[0m\u001b[0;34m(\u001b[0m\u001b[0minst\u001b[0m\u001b[0;34m.\u001b[0m\u001b[0mname\u001b[0m\u001b[0;34m,\u001b[0m \u001b[0minst\u001b[0m\u001b[0;34m.\u001b[0m\u001b[0mnum_qubits\u001b[0m\u001b[0;34m)\u001b[0m \u001b[0;32mfor\u001b[0m \u001b[0minst\u001b[0m\u001b[0;34m,\u001b[0m \u001b[0mqargs\u001b[0m\u001b[0;34m,\u001b[0m \u001b[0mcargs\u001b[0m \u001b[0;32min\u001b[0m \u001b[0mequiv\u001b[0m\u001b[0;34m.\u001b[0m\u001b[0mdata\u001b[0m\u001b[0;34m}\u001b[0m\u001b[0;34m\u001b[0m\u001b[0;34m\u001b[0m\u001b[0m\n\u001b[0m\u001b[1;32m    383\u001b[0m                     ),\n\u001b[1;32m    384\u001b[0m                     \u001b[0mparams\u001b[0m\u001b[0;34m,\u001b[0m\u001b[0;34m\u001b[0m\u001b[0;34m\u001b[0m\u001b[0m\n",
      "\u001b[0;32m~/.conda/envs/ML4Quantum/lib/python3.8/site-packages/qiskit/circuit/quantumcircuit.py\u001b[0m in \u001b[0;36mdata\u001b[0;34m(self)\u001b[0m\n\u001b[1;32m    287\u001b[0m         \u001b[0mself\u001b[0m\u001b[0;34m.\u001b[0m\u001b[0m_metadata\u001b[0m \u001b[0;34m=\u001b[0m \u001b[0mmetadata\u001b[0m\u001b[0;34m\u001b[0m\u001b[0;34m\u001b[0m\u001b[0m\n\u001b[1;32m    288\u001b[0m \u001b[0;34m\u001b[0m\u001b[0m\n\u001b[0;32m--> 289\u001b[0;31m     \u001b[0;34m@\u001b[0m\u001b[0mproperty\u001b[0m\u001b[0;34m\u001b[0m\u001b[0;34m\u001b[0m\u001b[0m\n\u001b[0m\u001b[1;32m    290\u001b[0m     \u001b[0;32mdef\u001b[0m \u001b[0mdata\u001b[0m\u001b[0;34m(\u001b[0m\u001b[0mself\u001b[0m\u001b[0;34m)\u001b[0m \u001b[0;34m->\u001b[0m \u001b[0mQuantumCircuitData\u001b[0m\u001b[0;34m:\u001b[0m\u001b[0;34m\u001b[0m\u001b[0;34m\u001b[0m\u001b[0m\n\u001b[1;32m    291\u001b[0m         \"\"\"Return the circuit data (instructions and context).\n",
      "\u001b[0;31mKeyboardInterrupt\u001b[0m: "
     ]
    }
   ],
   "source": [
    "# SECTION\n",
    "# NAME: MEASUREMENT\n",
    "\n",
    "qc.measure(qr_qr, cr_qr)\n",
    "# SECTION\n",
    "# NAME: EXECUTION\n",
    "\n",
    "from qiskit import Aer, transpile, execute\n",
    "backend_d20de290415b4d84810e4a91b288727a = Aer.get_backend('qasm_simulator')\n",
    "counts = execute(qc, backend=backend_d20de290415b4d84810e4a91b288727a, shots=979).result().get_counts(qc)\n",
    "RESULT = counts"
   ]
  },
  {
   "cell_type": "code",
   "execution_count": null,
   "id": "72f4d754",
   "metadata": {},
   "outputs": [],
   "source": []
  }
 ],
 "metadata": {
  "kernelspec": {
   "display_name": "Python 3 (ipykernel)",
   "language": "python",
   "name": "python3"
  },
  "language_info": {
   "codemirror_mode": {
    "name": "ipython",
    "version": 3
   },
   "file_extension": ".py",
   "mimetype": "text/x-python",
   "name": "python",
   "nbconvert_exporter": "python",
   "pygments_lexer": "ipython3",
   "version": "3.8.0"
  },
  "toc": {
   "base_numbering": 1,
   "nav_menu": {},
   "number_sections": true,
   "sideBar": true,
   "skip_h1_title": false,
   "title_cell": "Table of Contents",
   "title_sidebar": "Contents",
   "toc_cell": false,
   "toc_position": {},
   "toc_section_display": true,
   "toc_window_display": true
  }
 },
 "nbformat": 4,
 "nbformat_minor": 5
}
