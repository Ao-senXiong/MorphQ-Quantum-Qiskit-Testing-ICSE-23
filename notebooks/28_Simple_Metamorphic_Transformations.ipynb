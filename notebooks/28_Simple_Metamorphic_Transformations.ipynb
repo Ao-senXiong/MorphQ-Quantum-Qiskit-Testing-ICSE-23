{
 "cells": [
  {
   "cell_type": "code",
   "execution_count": 1,
   "id": "1bb18cf9",
   "metadata": {
    "ExecuteTime": {
     "end_time": "2022-01-28T12:25:04.037004Z",
     "start_time": "2022-01-28T12:25:04.033117Z"
    }
   },
   "outputs": [],
   "source": [
    "# GOAL: \n",
    "# Given a qasm file content apply the transformation, then run the program \n",
    "# on the same platform (QISKIT), which has a perfect reading of QASM files\n",
    "# and them:\n",
    "# - run program VS\n",
    "# - run matamorph(program)\n",
    "\n",
    "# Metamorphic relationship \n",
    "# - 'qubit_order': permute the order of qubits but fix the mapping to HW\n",
    "# - ''"
   ]
  },
  {
   "cell_type": "code",
   "execution_count": 41,
   "id": "e0391a6a",
   "metadata": {
    "ExecuteTime": {
     "end_time": "2022-01-28T13:28:06.840939Z",
     "start_time": "2022-01-28T13:28:04.791675Z"
    }
   },
   "outputs": [],
   "source": [
    "import pandas as pd\n",
    "import sys\n",
    "sys.path.append(\"../lib\")\n",
    "import seaborn as sns\n",
    "import matplotlib.pyplot as plt\n",
    "from utils import iterate_over\n",
    "from utils import load_config_and_check\n",
    "from inspector import Inspector\n",
    "from tqdm import tqdm\n",
    "import sqlite3 as sl\n",
    "import os"
   ]
  },
  {
   "cell_type": "code",
   "execution_count": 42,
   "id": "c40b9736",
   "metadata": {
    "ExecuteTime": {
     "end_time": "2022-01-28T13:28:08.431121Z",
     "start_time": "2022-01-28T13:28:08.386071Z"
    }
   },
   "outputs": [],
   "source": [
    "%load_ext autoreload\n",
    "%autoreload 2"
   ]
  },
  {
   "cell_type": "code",
   "execution_count": 43,
   "id": "e4cc9edf",
   "metadata": {
    "ExecuteTime": {
     "end_time": "2022-01-28T13:28:25.280050Z",
     "start_time": "2022-01-28T13:28:20.569756Z"
    }
   },
   "outputs": [],
   "source": [
    "from detectors import KS_Detector"
   ]
  },
  {
   "cell_type": "code",
   "execution_count": 68,
   "id": "4e750466",
   "metadata": {
    "ExecuteTime": {
     "end_time": "2022-01-28T13:36:41.268039Z",
     "start_time": "2022-01-28T13:36:41.234079Z"
    }
   },
   "outputs": [],
   "source": [
    "#QASM_PATH = \"stub_files/example.qasm\"\n",
    "QASM_PATH = \"stub_files/easy_example.qasm\"\n",
    "QASM_CONTENT = open(QASM_PATH, 'r').read()"
   ]
  },
  {
   "cell_type": "code",
   "execution_count": 69,
   "id": "b2046d2c",
   "metadata": {
    "ExecuteTime": {
     "end_time": "2022-01-28T13:36:41.544863Z",
     "start_time": "2022-01-28T13:36:41.511912Z"
    }
   },
   "outputs": [
    {
     "name": "stdout",
     "output_type": "stream",
     "text": [
      "OPENQASM 2.0;\n",
      "include \"qelib1.inc\";\n",
      "qreg q[4];\n",
      "creg c[4];\n",
      "h q[0];\n",
      "cx q[0], q[1];\n",
      "ry(1.11) q[2];\n",
      "rz(2.22) q[2];\n",
      "cx q[2], q[3];\n",
      "h q[3];\n",
      "h q[1];\n",
      "barrier q;\n",
      "measure q -> c;\n"
     ]
    }
   ],
   "source": [
    "print(QASM_CONTENT)"
   ]
  },
  {
   "cell_type": "code",
   "execution_count": 70,
   "id": "140c59c4",
   "metadata": {
    "ExecuteTime": {
     "end_time": "2022-01-28T13:36:42.100140Z",
     "start_time": "2022-01-28T13:36:42.067149Z"
    }
   },
   "outputs": [],
   "source": [
    "import qiskit\n",
    "from qiskit import QuantumCircuit\n",
    "from qiskit import Aer, transpile\n"
   ]
  },
  {
   "cell_type": "code",
   "execution_count": 71,
   "id": "e591d050",
   "metadata": {
    "ExecuteTime": {
     "end_time": "2022-01-28T13:36:43.177080Z",
     "start_time": "2022-01-28T13:36:43.133039Z"
    }
   },
   "outputs": [
    {
     "data": {
      "text/plain": [
       "'110'"
      ]
     },
     "execution_count": 71,
     "metadata": {},
     "output_type": "execute_result"
    }
   ],
   "source": [
    "import re\n",
    "import uuid\n",
    "from typing import Dict, Any, List\n",
    "import numpy as np\n",
    "\n",
    "def get_n_qubits(qasm_content: str) -> int:\n",
    "    m = re.search(\"qreg q\\[(\\d*)\", qasm_content)\n",
    "    if m:\n",
    "        return int(m.group(1))\n",
    "    return -1\n",
    "\n",
    "def replace_all_reg_occurrences(qasm_content: str, start: str, end: str) -> str:\n",
    "    qasm_content = qasm_content.replace(f\"q[{start}]\", f\"q[{end}]\")\n",
    "    qasm_content = qasm_content.replace(f\"c[{start}]\", f\"c[{end}]\")\n",
    "    return qasm_content\n",
    "\n",
    "def scramble_qubits(qasm_content: str, qubits_mapping: Dict[int, int]):\n",
    "    \"\"\"Swap the qubits based on order.\"\"\"\n",
    "    pairs = [{\"start\": k, \"end\": v} for k, v in qubits_mapping.items()]\n",
    "    triplets = [ {\"tmp\": uuid.uuid4().hex, **p} for p in pairs]\n",
    "    print(\"-\" * 80)\n",
    "    print(qubits_mapping)\n",
    "    for triplet in triplets:\n",
    "        qasm_content = replace_all_reg_occurrences(\n",
    "            qasm_content, start=triplet[\"start\"], end=triplet[\"tmp\"])\n",
    "    for triplet in triplets:\n",
    "        qasm_content = replace_all_reg_occurrences(\n",
    "            qasm_content, start=triplet[\"tmp\"], end=triplet[\"end\"])\n",
    "    return qasm_content\n",
    "        \n",
    "def create_random_mapping(qasm_content: str, seed: int = None) -> Dict[int, int]:\n",
    "    max_qubits = get_n_qubits(qasm_content)\n",
    "    if seed: \n",
    "        np.random.seed(seed)\n",
    "    start_qubits = np.arange(max_qubits)\n",
    "    np.random.shuffle(start_qubits)\n",
    "    end_qubits = np.arange(max_qubits)\n",
    "    np.random.shuffle(end_qubits)\n",
    "    return {f: s for f, s in zip(start_qubits, end_qubits)}\n",
    "  \n",
    "def read_str_with_mapping(bitstring: str, direct_mapping: Dict[int, int]):\n",
    "    \"\"\"Given a bitstring convert it to the original mapping.\"\"\"\n",
    "    n_bits = len(bitstring)\n",
    "    return \"\".join([bitstring[direct_mapping[i]] for i in range(n_bits)])\n",
    "    \n",
    "def convert_result_to_mapping(result: Dict[str, int], qubits_mapping: Dict[int, int]):\n",
    "    \"\"\"Convert the result via the given mapping.\n",
    "    \n",
    "    because a qubit maping will make also the result scrambled thus we have\n",
    "    to reverse the mapping and read the results.\n",
    "    \"\"\"\n",
    "    return {\n",
    "        read_str_with_mapping(bitstring, qubits_mapping): freq\n",
    "        for bitstring, freq in result.items()\n",
    "    }\n",
    "\n",
    "read_str_with_mapping(\"011\", {0:1, 1:2, 2:0})"
   ]
  },
  {
   "cell_type": "code",
   "execution_count": 78,
   "id": "512a4f02",
   "metadata": {
    "ExecuteTime": {
     "end_time": "2022-01-28T13:38:44.515864Z",
     "start_time": "2022-01-28T13:38:44.406028Z"
    }
   },
   "outputs": [
    {
     "name": "stdout",
     "output_type": "stream",
     "text": [
      "--------------------------------------------------------------------------------\n",
      "BEFORE\n",
      "OPENQASM 2.0;\n",
      "include \"qelib1.inc\";\n",
      "qreg q[4];\n",
      "creg c[4];\n",
      "h q[0];\n",
      "cx q[0], q[1];\n",
      "ry(1.11) q[2];\n",
      "rz(2.22) q[2];\n",
      "cx q[2], q[3];\n",
      "h q[3];\n",
      "h q[1];\n",
      "barrier q;\n",
      "measure q -> c;\n",
      "--------------------------------------------------------------------------------\n",
      "{1: 3, 2: 0, 0: 1, 3: 2}\n",
      "--------------------------------------------------------------------------------\n",
      "AFTER\n",
      "OPENQASM 2.0;\n",
      "include \"qelib1.inc\";\n",
      "qreg q[4];\n",
      "creg c[4];\n",
      "h q[1];\n",
      "cx q[1], q[3];\n",
      "ry(1.11) q[0];\n",
      "rz(2.22) q[0];\n",
      "cx q[0], q[2];\n",
      "h q[2];\n",
      "h q[3];\n",
      "barrier q;\n",
      "measure q -> c;\n",
      "Morphed version saved here: stub_files/easy_example.qasm_morphed\n"
     ]
    }
   ],
   "source": [
    "def morph_qubit_order(qasm_path, seed: int = 42):\n",
    "    \"\"\"Change the qubit order\"\"\"\n",
    "    content = open(qasm_path, 'r').read()\n",
    "    print(\"-\" * 80)\n",
    "    print(\"BEFORE\")\n",
    "    print(content)\n",
    "    random_mapping = create_random_mapping(qasm_content=content, seed=seed) \n",
    "    new_qasm = scramble_qubits(qasm_content=content, qubits_mapping=random_mapping)\n",
    "    new_qasm_path = qasm_path + \"_morphed\"\n",
    "    with open(new_qasm_path, 'w') as out_file:\n",
    "        out_file.write(new_qasm)\n",
    "    print(\"-\" * 80)\n",
    "    print(\"AFTER\")\n",
    "    print(new_qasm)\n",
    "    print(f\"Morphed version saved here: {new_qasm_path}\")\n",
    "    new_qc = QuantumCircuit.from_qasm_file(new_qasm_path)\n",
    "    return new_qc, random_mapping\n",
    "\n",
    "new_qc, new_mapping = morph_qubit_order(qasm_path=QASM_PATH, seed=14)"
   ]
  },
  {
   "cell_type": "code",
   "execution_count": 79,
   "id": "4e8088c1",
   "metadata": {
    "ExecuteTime": {
     "end_time": "2022-01-28T13:38:47.321848Z",
     "start_time": "2022-01-28T13:38:47.286576Z"
    }
   },
   "outputs": [
    {
     "data": {
      "text/html": [
       "<pre style=\"word-wrap: normal;white-space: pre;background: #fff0;line-height: 1.1;font-family: &quot;Courier New&quot;,Courier,monospace\">     ┌──────────┐┌──────────┐           ░ ┌─┐         \n",
       "q_0: ┤ Ry(1.11) ├┤ Rz(2.22) ├──■────────░─┤M├─────────\n",
       "     └──┬───┬───┘└──────────┘  │        ░ └╥┘┌─┐      \n",
       "q_1: ───┤ H ├─────────■────────┼────────░──╫─┤M├──────\n",
       "        └───┘         │      ┌─┴─┐┌───┐ ░  ║ └╥┘┌─┐   \n",
       "q_2: ─────────────────┼──────┤ X ├┤ H ├─░──╫──╫─┤M├───\n",
       "                    ┌─┴─┐    ├───┤└───┘ ░  ║  ║ └╥┘┌─┐\n",
       "q_3: ───────────────┤ X ├────┤ H ├──────░──╫──╫──╫─┤M├\n",
       "                    └───┘    └───┘      ░  ║  ║  ║ └╥┘\n",
       "c: 4/══════════════════════════════════════╩══╩══╩══╩═\n",
       "                                           0  1  2  3 </pre>"
      ],
      "text/plain": [
       "     ┌──────────┐┌──────────┐           ░ ┌─┐         \n",
       "q_0: ┤ Ry(1.11) ├┤ Rz(2.22) ├──■────────░─┤M├─────────\n",
       "     └──┬───┬───┘└──────────┘  │        ░ └╥┘┌─┐      \n",
       "q_1: ───┤ H ├─────────■────────┼────────░──╫─┤M├──────\n",
       "        └───┘         │      ┌─┴─┐┌───┐ ░  ║ └╥┘┌─┐   \n",
       "q_2: ─────────────────┼──────┤ X ├┤ H ├─░──╫──╫─┤M├───\n",
       "                    ┌─┴─┐    ├───┤└───┘ ░  ║  ║ └╥┘┌─┐\n",
       "q_3: ───────────────┤ X ├────┤ H ├──────░──╫──╫──╫─┤M├\n",
       "                    └───┘    └───┘      ░  ║  ║  ║ └╥┘\n",
       "c: 4/══════════════════════════════════════╩══╩══╩══╩═\n",
       "                                           0  1  2  3 "
      ]
     },
     "execution_count": 79,
     "metadata": {},
     "output_type": "execute_result"
    }
   ],
   "source": [
    "new_qc.draw(fold=-1)"
   ]
  },
  {
   "cell_type": "code",
   "execution_count": 80,
   "id": "6574ba15",
   "metadata": {
    "ExecuteTime": {
     "end_time": "2022-01-28T13:38:47.804600Z",
     "start_time": "2022-01-28T13:38:47.718683Z"
    }
   },
   "outputs": [],
   "source": [
    "qc = QuantumCircuit.from_qasm_file(QASM_PATH)"
   ]
  },
  {
   "cell_type": "code",
   "execution_count": 81,
   "id": "02524111",
   "metadata": {
    "ExecuteTime": {
     "end_time": "2022-01-28T13:38:48.326105Z",
     "start_time": "2022-01-28T13:38:48.294740Z"
    }
   },
   "outputs": [
    {
     "data": {
      "text/html": [
       "<pre style=\"word-wrap: normal;white-space: pre;background: #fff0;line-height: 1.1;font-family: &quot;Courier New&quot;,Courier,monospace\">        ┌───┐                           ░ ┌─┐         \n",
       "q_0: ───┤ H ├─────────■─────────────────░─┤M├─────────\n",
       "        └───┘       ┌─┴─┐    ┌───┐      ░ └╥┘┌─┐      \n",
       "q_1: ───────────────┤ X ├────┤ H ├──────░──╫─┤M├──────\n",
       "     ┌──────────┐┌──┴───┴───┐└───┘      ░  ║ └╥┘┌─┐   \n",
       "q_2: ┤ Ry(1.11) ├┤ Rz(2.22) ├──■────────░──╫──╫─┤M├───\n",
       "     └──────────┘└──────────┘┌─┴─┐┌───┐ ░  ║  ║ └╥┘┌─┐\n",
       "q_3: ────────────────────────┤ X ├┤ H ├─░──╫──╫──╫─┤M├\n",
       "                             └───┘└───┘ ░  ║  ║  ║ └╥┘\n",
       "c: 4/══════════════════════════════════════╩══╩══╩══╩═\n",
       "                                           0  1  2  3 </pre>"
      ],
      "text/plain": [
       "        ┌───┐                           ░ ┌─┐         \n",
       "q_0: ───┤ H ├─────────■─────────────────░─┤M├─────────\n",
       "        └───┘       ┌─┴─┐    ┌───┐      ░ └╥┘┌─┐      \n",
       "q_1: ───────────────┤ X ├────┤ H ├──────░──╫─┤M├──────\n",
       "     ┌──────────┐┌──┴───┴───┐└───┘      ░  ║ └╥┘┌─┐   \n",
       "q_2: ┤ Ry(1.11) ├┤ Rz(2.22) ├──■────────░──╫──╫─┤M├───\n",
       "     └──────────┘└──────────┘┌─┴─┐┌───┐ ░  ║  ║ └╥┘┌─┐\n",
       "q_3: ────────────────────────┤ X ├┤ H ├─░──╫──╫──╫─┤M├\n",
       "                             └───┘└───┘ ░  ║  ║  ║ └╥┘\n",
       "c: 4/══════════════════════════════════════╩══╩══╩══╩═\n",
       "                                           0  1  2  3 "
      ]
     },
     "execution_count": 81,
     "metadata": {},
     "output_type": "execute_result"
    }
   ],
   "source": [
    "qc.draw(fold=-1)"
   ]
  },
  {
   "cell_type": "code",
   "execution_count": 106,
   "id": "786d023d",
   "metadata": {
    "ExecuteTime": {
     "end_time": "2022-01-28T13:47:01.336537Z",
     "start_time": "2022-01-28T13:47:01.304561Z"
    }
   },
   "outputs": [],
   "source": [
    "def execute_circuit(circuit_to_execute: QuantumCircuit, shots: int = 8192):\n",
    "    # Transpile for simulator\n",
    "    simulator = Aer.get_backend('aer_simulator')\n",
    "    circ = transpile(circuit_to_execute, simulator)\n",
    "    print(circ)\n",
    "    # Run and get counts\n",
    "    result = simulator.run(circ, shots=shots).result()\n",
    "    counts = result.get_counts(circ)\n",
    "    return counts"
   ]
  },
  {
   "cell_type": "code",
   "execution_count": 107,
   "id": "2960836b",
   "metadata": {
    "ExecuteTime": {
     "end_time": "2022-01-28T13:47:02.385414Z",
     "start_time": "2022-01-28T13:47:02.242028Z"
    }
   },
   "outputs": [
    {
     "name": "stdout",
     "output_type": "stream",
     "text": [
      "global phase: 5.1732\n",
      "            ┌───┐                  ░ ┌─┐         \n",
      "q_0: ───────┤ H ├─────────■────────░─┤M├─────────\n",
      "            └───┘       ┌─┴─┐┌───┐ ░ └╥┘┌─┐      \n",
      "q_1: ───────────────────┤ X ├┤ H ├─░──╫─┤M├──────\n",
      "     ┌─────────────────┐└───┘└───┘ ░  ║ └╥┘┌─┐   \n",
      "q_2: ┤ U3(1.11,2.22,0) ├──■────────░──╫──╫─┤M├───\n",
      "     └─────────────────┘┌─┴─┐┌───┐ ░  ║  ║ └╥┘┌─┐\n",
      "q_3: ───────────────────┤ X ├┤ H ├─░──╫──╫──╫─┤M├\n",
      "                        └───┘└───┘ ░  ║  ║  ║ └╥┘\n",
      "c: 4/═════════════════════════════════╩══╩══╩══╩═\n",
      "                                      0  1  2  3 \n",
      "global phase: 5.1732\n",
      "     ┌─────────────────┐                ░ ┌─┐         \n",
      "q_0: ┤ U3(1.11,2.22,0) ├──■─────────────░─┤M├─────────\n",
      "     └──────┬───┬──────┘  │             ░ └╥┘┌─┐      \n",
      "q_1: ───────┤ H ├─────────┼────■────────░──╫─┤M├──────\n",
      "            └───┘       ┌─┴─┐  │  ┌───┐ ░  ║ └╥┘┌─┐   \n",
      "q_2: ───────────────────┤ X ├──┼──┤ H ├─░──╫──╫─┤M├───\n",
      "                        └───┘┌─┴─┐├───┤ ░  ║  ║ └╥┘┌─┐\n",
      "q_3: ────────────────────────┤ X ├┤ H ├─░──╫──╫──╫─┤M├\n",
      "                             └───┘└───┘ ░  ║  ║  ║ └╥┘\n",
      "c: 4/══════════════════════════════════════╩══╩══╩══╩═\n",
      "                                           0  1  2  3 \n"
     ]
    }
   ],
   "source": [
    "original_res = execute_circuit(circuit_to_execute=qc)\n",
    "morphed_res = execute_circuit(circuit_to_execute=new_qc)\n",
    "reordered_morphed_res = convert_result_to_mapping(morphed_res, new_mapping)"
   ]
  },
  {
   "cell_type": "code",
   "execution_count": 91,
   "id": "3fa15111",
   "metadata": {
    "ExecuteTime": {
     "end_time": "2022-01-28T13:39:30.745871Z",
     "start_time": "2022-01-28T13:39:30.707777Z"
    }
   },
   "outputs": [
    {
     "data": {
      "text/plain": [
       "{'1001': 698,\n",
       " '0001': 707,\n",
       " '1000': 740,\n",
       " '0000': 726,\n",
       " '0111': 265,\n",
       " '0011': 719,\n",
       " '1111': 278,\n",
       " '1010': 763,\n",
       " '0110': 306,\n",
       " '0100': 286,\n",
       " '1011': 796,\n",
       " '0010': 734,\n",
       " '1101': 284,\n",
       " '0101': 319,\n",
       " '1100': 275,\n",
       " '1110': 296}"
      ]
     },
     "execution_count": 91,
     "metadata": {},
     "output_type": "execute_result"
    }
   ],
   "source": [
    "original_res"
   ]
  },
  {
   "cell_type": "code",
   "execution_count": 92,
   "id": "5766b46d",
   "metadata": {
    "ExecuteTime": {
     "end_time": "2022-01-28T13:39:31.006174Z",
     "start_time": "2022-01-28T13:39:30.973009Z"
    }
   },
   "outputs": [
    {
     "data": {
      "text/plain": [
       "{'1101': 281,\n",
       " '1000': 739,\n",
       " '1001': 279,\n",
       " '1110': 797,\n",
       " '0111': 288,\n",
       " '0000': 684,\n",
       " '0011': 313,\n",
       " '0010': 681,\n",
       " '1100': 746,\n",
       " '0101': 274,\n",
       " '0001': 283,\n",
       " '0100': 753,\n",
       " '0110': 744,\n",
       " '1011': 288,\n",
       " '1111': 293,\n",
       " '1010': 749}"
      ]
     },
     "execution_count": 92,
     "metadata": {},
     "output_type": "execute_result"
    }
   ],
   "source": [
    "morphed_res"
   ]
  },
  {
   "cell_type": "code",
   "execution_count": 93,
   "id": "aa6a700b",
   "metadata": {
    "ExecuteTime": {
     "end_time": "2022-01-28T13:39:31.478543Z",
     "start_time": "2022-01-28T13:39:31.441184Z"
    }
   },
   "outputs": [
    {
     "data": {
      "text/plain": [
       "{'1110': 281,\n",
       " '0010': 739,\n",
       " '0110': 279,\n",
       " '1011': 797,\n",
       " '1101': 288,\n",
       " '0000': 684,\n",
       " '0101': 313,\n",
       " '0001': 681,\n",
       " '1010': 746,\n",
       " '1100': 274,\n",
       " '0100': 283,\n",
       " '1000': 753,\n",
       " '1001': 744,\n",
       " '0111': 288,\n",
       " '1111': 293,\n",
       " '0011': 749}"
      ]
     },
     "execution_count": 93,
     "metadata": {},
     "output_type": "execute_result"
    }
   ],
   "source": [
    "reordered_morphed_res"
   ]
  },
  {
   "cell_type": "code",
   "execution_count": 99,
   "id": "3e9a9903",
   "metadata": {
    "ExecuteTime": {
     "end_time": "2022-01-28T13:43:51.967883Z",
     "start_time": "2022-01-28T13:43:51.924290Z"
    }
   },
   "outputs": [
    {
     "name": "stdout",
     "output_type": "stream",
     "text": [
      "p_val_with_scrambled: 7.054386755060708e-52\n",
      "very low pvalue = divergent programs\n"
     ]
    }
   ],
   "source": [
    "detector = KS_Detector()\n",
    "stat, p_val_with_scrambled = detector.check(original_res, morphed_res)\n",
    "print(f\"p_val_with_scrambled: {p_val_with_scrambled}\")\n",
    "print(\"very low pvalue = divergent programs\")"
   ]
  },
  {
   "cell_type": "code",
   "execution_count": 98,
   "id": "177c06a1",
   "metadata": {
    "ExecuteTime": {
     "end_time": "2022-01-28T13:43:47.557455Z",
     "start_time": "2022-01-28T13:43:47.512813Z"
    }
   },
   "outputs": [
    {
     "name": "stdout",
     "output_type": "stream",
     "text": [
      "p_val_with_reordered: 0.9333976435134347\n",
      "more than 0.05 pvalue = no divergence\n"
     ]
    }
   ],
   "source": [
    "detector = KS_Detector()\n",
    "stat, p_val_with_reordered  = detector.check(original_res, reordered_morphed_res)\n",
    "print(f\"p_val_with_reordered: {p_val_with_reordered}\")\n",
    "print(\"more than 0.05 pvalue = no divergence\")"
   ]
  },
  {
   "cell_type": "markdown",
   "id": "ec892d83",
   "metadata": {},
   "source": [
    "# Bank of generated programs"
   ]
  },
  {
   "cell_type": "code",
   "execution_count": null,
   "id": "bc38025e",
   "metadata": {},
   "outputs": [],
   "source": [
    "PATH_PROGRAMS = \"../data/q\""
   ]
  },
  {
   "cell_type": "code",
   "execution_count": null,
   "id": "426d04aa",
   "metadata": {},
   "outputs": [],
   "source": [
    "def motamorphic_run"
   ]
  }
 ],
 "metadata": {
  "kernelspec": {
   "display_name": "Python 3 (ipykernel)",
   "language": "python",
   "name": "python3"
  },
  "language_info": {
   "codemirror_mode": {
    "name": "ipython",
    "version": 3
   },
   "file_extension": ".py",
   "mimetype": "text/x-python",
   "name": "python",
   "nbconvert_exporter": "python",
   "pygments_lexer": "ipython3",
   "version": "3.8.0"
  },
  "toc": {
   "base_numbering": 1,
   "nav_menu": {},
   "number_sections": true,
   "sideBar": true,
   "skip_h1_title": false,
   "title_cell": "Table of Contents",
   "title_sidebar": "Contents",
   "toc_cell": false,
   "toc_position": {},
   "toc_section_display": true,
   "toc_window_display": false
  }
 },
 "nbformat": 4,
 "nbformat_minor": 5
}
