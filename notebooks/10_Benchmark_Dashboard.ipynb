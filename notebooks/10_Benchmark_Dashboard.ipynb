{
 "cells": [
  {
   "cell_type": "code",
   "execution_count": 139,
   "id": "91daf41f",
   "metadata": {
    "ExecuteTime": {
     "end_time": "2021-12-13T16:25:36.527155Z",
     "start_time": "2021-12-13T16:25:36.520734Z"
    }
   },
   "outputs": [],
   "source": [
    "import matplotlib.pyplot as plt\n",
    "import seaborn as sns\n",
    "import os\n",
    "import yaml\n",
    "import json\n",
    "import pandas as pd\n",
    "import numpy as np\n",
    "import sys\n",
    "sys.path.append(\"../lib\")\n",
    "from benchmark import *"
   ]
  },
  {
   "cell_type": "code",
   "execution_count": 140,
   "id": "0560a0f5",
   "metadata": {
    "ExecuteTime": {
     "end_time": "2021-12-13T16:25:36.951816Z",
     "start_time": "2021-12-13T16:25:36.928809Z"
    }
   },
   "outputs": [],
   "source": [
    "CONFIG = \"../config/experiment_v01.yaml\"\n",
    "with open(CONFIG, \"r\") as f:\n",
    "    config = yaml.load(f, Loader=yaml.FullLoader)"
   ]
  },
  {
   "cell_type": "code",
   "execution_count": 141,
   "id": "84ca9da7",
   "metadata": {
    "ExecuteTime": {
     "end_time": "2021-12-13T16:25:37.553274Z",
     "start_time": "2021-12-13T16:25:37.548420Z"
    }
   },
   "outputs": [],
   "source": [
    "BENCHMARKS = config[\"benchmarks_configurations\"]\n",
    "DETECTORS = config[\"detectors\"]"
   ]
  },
  {
   "cell_type": "code",
   "execution_count": 142,
   "id": "4de35fcf",
   "metadata": {
    "ExecuteTime": {
     "end_time": "2021-12-13T16:25:38.332764Z",
     "start_time": "2021-12-13T16:25:38.135952Z"
    }
   },
   "outputs": [
    {
     "name": "stdout",
     "output_type": "stream",
     "text": [
      "BENCHMARK:  program_vs_random\n",
      "GROUND TRUTH - reading ...  \n",
      "({'expected_divergence': True, 'circuit_id': '8', 'benchmark_name': 'program_vs_random'}, {'expected_divergence': True, 'circuit_id': '19', 'benchmark_name': 'program_vs_random'}, {'expected_divergence': True, 'circuit_id': '0', 'benchmark_name': 'program_vs_random'}, {'expected_divergence': True, 'circuit_id': '16', 'benchmark_name': 'program_vs_random'}, {'expected_divergence': True, 'circuit_id': '4', 'benchmark_name': 'program_vs_random'}, {'expected_divergence': True, 'circuit_id': '12', 'benchmark_name': 'program_vs_random'}, {'expected_divergence': True, 'circuit_id': '5', 'benchmark_name': 'program_vs_random'}, {'expected_divergence': True, 'circuit_id': '1', 'benchmark_name': 'program_vs_random'}, {'expected_divergence': True, 'circuit_id': '11', 'benchmark_name': 'program_vs_random'}, {'expected_divergence': True, 'circuit_id': '7', 'benchmark_name': 'program_vs_random'}, {'expected_divergence': True, 'circuit_id': '2', 'benchmark_name': 'program_vs_random'}, {'expected_divergence': True, 'circuit_id': '18', 'benchmark_name': 'program_vs_random'}, {'expected_divergence': True, 'circuit_id': '3', 'benchmark_name': 'program_vs_random'}, {'expected_divergence': True, 'circuit_id': '13', 'benchmark_name': 'program_vs_random'}, {'expected_divergence': True, 'circuit_id': '17', 'benchmark_name': 'program_vs_random'}, {'expected_divergence': True, 'circuit_id': '15', 'benchmark_name': 'program_vs_random'}, {'expected_divergence': True, 'circuit_id': '10', 'benchmark_name': 'program_vs_random'}, {'expected_divergence': True, 'circuit_id': '14', 'benchmark_name': 'program_vs_random'}, {'expected_divergence': True, 'circuit_id': '9', 'benchmark_name': 'program_vs_random'}, {'expected_divergence': True, 'circuit_id': '6', 'benchmark_name': 'program_vs_random'})\n",
      "PROGRAM INFO - reading ...  \n",
      "[{'n_qubits': 18, 'circuit_id': '8', 'benchmark_name': 'program_vs_random', 'strategy_a': 'WeightedRandomCircuitGenerator', 'strategy_b': 'FakeCircuitGenerator'}, {'n_qubits': 14, 'circuit_id': '19', 'benchmark_name': 'program_vs_random', 'strategy_a': 'WeightedRandomCircuitGenerator', 'strategy_b': 'FakeCircuitGenerator'}, {'n_qubits': 5, 'circuit_id': '0', 'benchmark_name': 'program_vs_random', 'strategy_a': 'WeightedRandomCircuitGenerator', 'strategy_b': 'FakeCircuitGenerator'}, {'n_qubits': 10, 'circuit_id': '16', 'benchmark_name': 'program_vs_random', 'strategy_a': 'WeightedRandomCircuitGenerator', 'strategy_b': 'FakeCircuitGenerator'}, {'n_qubits': 4, 'circuit_id': '4', 'benchmark_name': 'program_vs_random', 'strategy_a': 'WeightedRandomCircuitGenerator', 'strategy_b': 'FakeCircuitGenerator'}, {'n_qubits': 9, 'circuit_id': '12', 'benchmark_name': 'program_vs_random', 'strategy_a': 'WeightedRandomCircuitGenerator', 'strategy_b': 'FakeCircuitGenerator'}, {'n_qubits': 15, 'circuit_id': '5', 'benchmark_name': 'program_vs_random', 'strategy_a': 'WeightedRandomCircuitGenerator', 'strategy_b': 'FakeCircuitGenerator'}, {'n_qubits': 10, 'circuit_id': '1', 'benchmark_name': 'program_vs_random', 'strategy_a': 'WeightedRandomCircuitGenerator', 'strategy_b': 'FakeCircuitGenerator'}, {'n_qubits': 19, 'circuit_id': '11', 'benchmark_name': 'program_vs_random', 'strategy_a': 'WeightedRandomCircuitGenerator', 'strategy_b': 'FakeCircuitGenerator'}, {'n_qubits': 8, 'circuit_id': '7', 'benchmark_name': 'program_vs_random', 'strategy_a': 'WeightedRandomCircuitGenerator', 'strategy_b': 'FakeCircuitGenerator'}, {'n_qubits': 9, 'circuit_id': '2', 'benchmark_name': 'program_vs_random', 'strategy_a': 'WeightedRandomCircuitGenerator', 'strategy_b': 'FakeCircuitGenerator'}, {'n_qubits': 5, 'circuit_id': '18', 'benchmark_name': 'program_vs_random', 'strategy_a': 'WeightedRandomCircuitGenerator', 'strategy_b': 'FakeCircuitGenerator'}, {'n_qubits': 5, 'circuit_id': '3', 'benchmark_name': 'program_vs_random', 'strategy_a': 'WeightedRandomCircuitGenerator', 'strategy_b': 'FakeCircuitGenerator'}, {'n_qubits': 20, 'circuit_id': '13', 'benchmark_name': 'program_vs_random', 'strategy_a': 'WeightedRandomCircuitGenerator', 'strategy_b': 'FakeCircuitGenerator'}, {'n_qubits': 8, 'circuit_id': '17', 'benchmark_name': 'program_vs_random', 'strategy_a': 'WeightedRandomCircuitGenerator', 'strategy_b': 'FakeCircuitGenerator'}, {'n_qubits': 15, 'circuit_id': '15', 'benchmark_name': 'program_vs_random', 'strategy_a': 'WeightedRandomCircuitGenerator', 'strategy_b': 'FakeCircuitGenerator'}, {'n_qubits': 8, 'circuit_id': '10', 'benchmark_name': 'program_vs_random', 'strategy_a': 'WeightedRandomCircuitGenerator', 'strategy_b': 'FakeCircuitGenerator'}, {'n_qubits': 2, 'circuit_id': '14', 'benchmark_name': 'program_vs_random', 'strategy_a': 'WeightedRandomCircuitGenerator', 'strategy_b': 'FakeCircuitGenerator'}, {'n_qubits': 2, 'circuit_id': '9', 'benchmark_name': 'program_vs_random', 'strategy_a': 'WeightedRandomCircuitGenerator', 'strategy_b': 'FakeCircuitGenerator'}, {'n_qubits': 2, 'circuit_id': '6', 'benchmark_name': 'program_vs_random', 'strategy_a': 'WeightedRandomCircuitGenerator', 'strategy_b': 'FakeCircuitGenerator'}]\n",
      "DETECTOR:  ks\n",
      "({'statistic': 0.35498046875, 'p_value': 0.0, 'test': 'ks', 'test_long_name': 'Kolmogorov–Smirnov Test', 'circuit_id': '8', 'benchmark_name': 'program_vs_random'}, {'statistic': 0.80224609375, 'p_value': 0.0, 'test': 'ks', 'test_long_name': 'Kolmogorov–Smirnov Test', 'circuit_id': '19', 'benchmark_name': 'program_vs_random'}, {'statistic': 0.4068603515625, 'p_value': 0.0, 'test': 'ks', 'test_long_name': 'Kolmogorov–Smirnov Test', 'circuit_id': '0', 'benchmark_name': 'program_vs_random'}, {'statistic': 0.0291748046875, 'p_value': 0.0018730355076824652, 'test': 'ks', 'test_long_name': 'Kolmogorov–Smirnov Test', 'circuit_id': '16', 'benchmark_name': 'program_vs_random'}, {'statistic': 0.15283203125, 'p_value': 7.572049367340077e-84, 'test': 'ks', 'test_long_name': 'Kolmogorov–Smirnov Test', 'circuit_id': '4', 'benchmark_name': 'program_vs_random'}, {'statistic': 0.051513671875, 'p_value': 7.184546164228911e-10, 'test': 'ks', 'test_long_name': 'Kolmogorov–Smirnov Test', 'circuit_id': '12', 'benchmark_name': 'program_vs_random'}, {'statistic': 0.73779296875, 'p_value': 0.0, 'test': 'ks', 'test_long_name': 'Kolmogorov–Smirnov Test', 'circuit_id': '5', 'benchmark_name': 'program_vs_random'}, {'statistic': 0.056396484375, 'p_value': 9.552051755034634e-12, 'test': 'ks', 'test_long_name': 'Kolmogorov–Smirnov Test', 'circuit_id': '1', 'benchmark_name': 'program_vs_random'}, {'statistic': 0.205810546875, 'p_value': 3.383758631410991e-152, 'test': 'ks', 'test_long_name': 'Kolmogorov–Smirnov Test', 'circuit_id': '11', 'benchmark_name': 'program_vs_random'}, {'statistic': 0.0555419921875, 'p_value': 2.0928191338946004e-11, 'test': 'ks', 'test_long_name': 'Kolmogorov–Smirnov Test', 'circuit_id': '7', 'benchmark_name': 'program_vs_random'}, {'statistic': 0.1083984375, 'p_value': 2.6127888813600573e-42, 'test': 'ks', 'test_long_name': 'Kolmogorov–Smirnov Test', 'circuit_id': '2', 'benchmark_name': 'program_vs_random'}, {'statistic': 0.130126953125, 'p_value': 7.767048790582657e-61, 'test': 'ks', 'test_long_name': 'Kolmogorov–Smirnov Test', 'circuit_id': '18', 'benchmark_name': 'program_vs_random'}, {'statistic': 0.10302734375, 'p_value': 2.9658048662386566e-38, 'test': 'ks', 'test_long_name': 'Kolmogorov–Smirnov Test', 'circuit_id': '3', 'benchmark_name': 'program_vs_random'}, {'statistic': 0.511962890625, 'p_value': 0.0, 'test': 'ks', 'test_long_name': 'Kolmogorov–Smirnov Test', 'circuit_id': '13', 'benchmark_name': 'program_vs_random'}, {'statistic': 0.03466796875, 'p_value': 0.00010580340790465846, 'test': 'ks', 'test_long_name': 'Kolmogorov–Smirnov Test', 'circuit_id': '17', 'benchmark_name': 'program_vs_random'}, {'statistic': 0.095458984375, 'p_value': 6.823135232273194e-33, 'test': 'ks', 'test_long_name': 'Kolmogorov–Smirnov Test', 'circuit_id': '15', 'benchmark_name': 'program_vs_random'}, {'statistic': 0.07470703125, 'p_value': 2.6759916294028494e-20, 'test': 'ks', 'test_long_name': 'Kolmogorov–Smirnov Test', 'circuit_id': '10', 'benchmark_name': 'program_vs_random'}, {'statistic': 0.1998291015625, 'p_value': 1.9161883113302348e-143, 'test': 'ks', 'test_long_name': 'Kolmogorov–Smirnov Test', 'circuit_id': '14', 'benchmark_name': 'program_vs_random'}, {'statistic': 0.2198486328125, 'p_value': 8.735901959181634e-174, 'test': 'ks', 'test_long_name': 'Kolmogorov–Smirnov Test', 'circuit_id': '9', 'benchmark_name': 'program_vs_random'}, {'statistic': 0.1463623046875, 'p_value': 6.570841065494246e-77, 'test': 'ks', 'test_long_name': 'Kolmogorov–Smirnov Test', 'circuit_id': '6', 'benchmark_name': 'program_vs_random'})\n",
      "BENCHMARK:  famous_algos\n",
      "GROUND TRUTH - reading ...  \n",
      "({'expected_divergence': False, 'circuit_id': '8', 'benchmark_name': 'famous_algos'}, {'expected_divergence': False, 'circuit_id': '19', 'benchmark_name': 'famous_algos'}, {'expected_divergence': False, 'circuit_id': '0', 'benchmark_name': 'famous_algos'}, {'expected_divergence': False, 'circuit_id': '16', 'benchmark_name': 'famous_algos'}, {'expected_divergence': False, 'circuit_id': '4', 'benchmark_name': 'famous_algos'}, {'expected_divergence': False, 'circuit_id': '12', 'benchmark_name': 'famous_algos'}, {'expected_divergence': False, 'circuit_id': '5', 'benchmark_name': 'famous_algos'}, {'expected_divergence': False, 'circuit_id': '1', 'benchmark_name': 'famous_algos'}, {'expected_divergence': False, 'circuit_id': '11', 'benchmark_name': 'famous_algos'}, {'expected_divergence': False, 'circuit_id': '7', 'benchmark_name': 'famous_algos'}, {'expected_divergence': False, 'circuit_id': '2', 'benchmark_name': 'famous_algos'}, {'expected_divergence': False, 'circuit_id': '18', 'benchmark_name': 'famous_algos'}, {'expected_divergence': False, 'circuit_id': '3', 'benchmark_name': 'famous_algos'}, {'expected_divergence': False, 'circuit_id': '13', 'benchmark_name': 'famous_algos'}, {'expected_divergence': False, 'circuit_id': '17', 'benchmark_name': 'famous_algos'}, {'expected_divergence': False, 'circuit_id': '15', 'benchmark_name': 'famous_algos'}, {'expected_divergence': False, 'circuit_id': '10', 'benchmark_name': 'famous_algos'}, {'expected_divergence': False, 'circuit_id': '14', 'benchmark_name': 'famous_algos'}, {'expected_divergence': False, 'circuit_id': '9', 'benchmark_name': 'famous_algos'}, {'expected_divergence': False, 'circuit_id': '6', 'benchmark_name': 'famous_algos'})\n",
      "PROGRAM INFO - reading ...  \n",
      "[{'n_qubits': 8, 'circuit_id': '8', 'benchmark_name': 'famous_algos', 'strategy_a': 'FamousCircuitGenerator', 'strategy_b': 'FamousCircuitGenerator'}, {'n_qubits': 6, 'circuit_id': '0', 'benchmark_name': 'famous_algos', 'strategy_a': 'FamousCircuitGenerator', 'strategy_b': 'FamousCircuitGenerator'}, {'n_qubits': 6, 'circuit_id': '4', 'benchmark_name': 'famous_algos', 'strategy_a': 'FamousCircuitGenerator', 'strategy_b': 'FamousCircuitGenerator'}, {'n_qubits': 13, 'circuit_id': '5', 'benchmark_name': 'famous_algos', 'strategy_a': 'FamousCircuitGenerator', 'strategy_b': 'FamousCircuitGenerator'}, {'n_qubits': 11, 'circuit_id': '1', 'benchmark_name': 'famous_algos', 'strategy_a': 'FamousCircuitGenerator', 'strategy_b': 'FamousCircuitGenerator'}, {'n_qubits': 10, 'circuit_id': '11', 'benchmark_name': 'famous_algos', 'strategy_a': 'FamousCircuitGenerator', 'strategy_b': 'FamousCircuitGenerator'}, {'n_qubits': 10, 'circuit_id': '7', 'benchmark_name': 'famous_algos', 'strategy_a': 'FamousCircuitGenerator', 'strategy_b': 'FamousCircuitGenerator'}, {'n_qubits': 11, 'circuit_id': '2', 'benchmark_name': 'famous_algos', 'strategy_a': 'FamousCircuitGenerator', 'strategy_b': 'FamousCircuitGenerator'}, {'n_qubits': 15, 'circuit_id': '3', 'benchmark_name': 'famous_algos', 'strategy_a': 'FamousCircuitGenerator', 'strategy_b': 'FamousCircuitGenerator'}, {'n_qubits': 8, 'circuit_id': '10', 'benchmark_name': 'famous_algos', 'strategy_a': 'FamousCircuitGenerator', 'strategy_b': 'FamousCircuitGenerator'}, {'n_qubits': 14, 'circuit_id': '9', 'benchmark_name': 'famous_algos', 'strategy_a': 'FamousCircuitGenerator', 'strategy_b': 'FamousCircuitGenerator'}, {'n_qubits': 15, 'circuit_id': '6', 'benchmark_name': 'famous_algos', 'strategy_a': 'FamousCircuitGenerator', 'strategy_b': 'FamousCircuitGenerator'}]\n",
      "DETECTOR:  ks\n",
      "({'statistic': 0.0072021484375, 'p_value': 0.9836559249545108, 'test': 'ks', 'test_long_name': 'Kolmogorov–Smirnov Test', 'circuit_id': '8', 'benchmark_name': 'famous_algos'}, {'statistic': 0.5125732421875, 'p_value': 0.0, 'test': 'ks', 'test_long_name': 'Kolmogorov–Smirnov Test', 'circuit_id': '0', 'benchmark_name': 'famous_algos'}, {'statistic': 0.06298828125, 'p_value': 1.503576733933397e-14, 'test': 'ks', 'test_long_name': 'Kolmogorov–Smirnov Test', 'circuit_id': '4', 'benchmark_name': 'famous_algos'}, {'statistic': 0.0, 'p_value': 1.0, 'test': 'ks', 'test_long_name': 'Kolmogorov–Smirnov Test', 'circuit_id': '5', 'benchmark_name': 'famous_algos'}, {'statistic': 0.2518310546875, 'p_value': 1.7372501190088177e-228, 'test': 'ks', 'test_long_name': 'Kolmogorov–Smirnov Test', 'circuit_id': '1', 'benchmark_name': 'famous_algos'}, {'statistic': 1.0, 'p_value': 0.0, 'test': 'ks', 'test_long_name': 'Kolmogorov–Smirnov Test', 'circuit_id': '11', 'benchmark_name': 'famous_algos'}, {'statistic': 0.5880126953125, 'p_value': 0.0, 'test': 'ks', 'test_long_name': 'Kolmogorov–Smirnov Test', 'circuit_id': '7', 'benchmark_name': 'famous_algos'}, {'statistic': 0.1998291015625, 'p_value': 1.9161883113302348e-143, 'test': 'ks', 'test_long_name': 'Kolmogorov–Smirnov Test', 'circuit_id': '2', 'benchmark_name': 'famous_algos'}, {'statistic': 0.009765625, 'p_value': 0.8295850516832404, 'test': 'ks', 'test_long_name': 'Kolmogorov–Smirnov Test', 'circuit_id': '3', 'benchmark_name': 'famous_algos'}, {'statistic': 1.0, 'p_value': 0.0, 'test': 'ks', 'test_long_name': 'Kolmogorov–Smirnov Test', 'circuit_id': '10', 'benchmark_name': 'famous_algos'}, {'statistic': 0.0, 'p_value': 1.0, 'test': 'ks', 'test_long_name': 'Kolmogorov–Smirnov Test', 'circuit_id': '9', 'benchmark_name': 'famous_algos'}, {'statistic': 1.0, 'p_value': 0.0, 'test': 'ks', 'test_long_name': 'Kolmogorov–Smirnov Test', 'circuit_id': '6', 'benchmark_name': 'famous_algos'})\n",
      "BENCHMARK:  across_runs\n",
      "GROUND TRUTH - reading ...  \n",
      "({'expected_divergence': False, 'circuit_id': '8', 'benchmark_name': 'across_runs'}, {'expected_divergence': False, 'circuit_id': '19', 'benchmark_name': 'across_runs'}, {'expected_divergence': False, 'circuit_id': '0', 'benchmark_name': 'across_runs'}, {'expected_divergence': False, 'circuit_id': '16', 'benchmark_name': 'across_runs'}, {'expected_divergence': False, 'circuit_id': '4', 'benchmark_name': 'across_runs'}, {'expected_divergence': False, 'circuit_id': '12', 'benchmark_name': 'across_runs'}, {'expected_divergence': False, 'circuit_id': '5', 'benchmark_name': 'across_runs'}, {'expected_divergence': False, 'circuit_id': '1', 'benchmark_name': 'across_runs'}, {'expected_divergence': False, 'circuit_id': '11', 'benchmark_name': 'across_runs'}, {'expected_divergence': False, 'circuit_id': '7', 'benchmark_name': 'across_runs'}, {'expected_divergence': False, 'circuit_id': '2', 'benchmark_name': 'across_runs'}, {'expected_divergence': False, 'circuit_id': '18', 'benchmark_name': 'across_runs'}, {'expected_divergence': False, 'circuit_id': '3', 'benchmark_name': 'across_runs'}, {'expected_divergence': False, 'circuit_id': '13', 'benchmark_name': 'across_runs'}, {'expected_divergence': False, 'circuit_id': '17', 'benchmark_name': 'across_runs'}, {'expected_divergence': False, 'circuit_id': '15', 'benchmark_name': 'across_runs'}, {'expected_divergence': False, 'circuit_id': '10', 'benchmark_name': 'across_runs'}, {'expected_divergence': False, 'circuit_id': '14', 'benchmark_name': 'across_runs'}, {'expected_divergence': False, 'circuit_id': '9', 'benchmark_name': 'across_runs'}, {'expected_divergence': False, 'circuit_id': '6', 'benchmark_name': 'across_runs'})\n",
      "PROGRAM INFO - reading ...  \n",
      "[{'n_qubits': 18, 'circuit_id': '8', 'benchmark_name': 'across_runs', 'strategy_a': 'WeightedRandomCircuitGenerator', 'strategy_b': 'WeightedRandomCircuitGenerator'}, {'n_qubits': 14, 'circuit_id': '19', 'benchmark_name': 'across_runs', 'strategy_a': 'WeightedRandomCircuitGenerator', 'strategy_b': 'WeightedRandomCircuitGenerator'}, {'n_qubits': 5, 'circuit_id': '0', 'benchmark_name': 'across_runs', 'strategy_a': 'WeightedRandomCircuitGenerator', 'strategy_b': 'WeightedRandomCircuitGenerator'}, {'n_qubits': 10, 'circuit_id': '16', 'benchmark_name': 'across_runs', 'strategy_a': 'WeightedRandomCircuitGenerator', 'strategy_b': 'WeightedRandomCircuitGenerator'}, {'n_qubits': 4, 'circuit_id': '4', 'benchmark_name': 'across_runs', 'strategy_a': 'WeightedRandomCircuitGenerator', 'strategy_b': 'WeightedRandomCircuitGenerator'}, {'n_qubits': 9, 'circuit_id': '12', 'benchmark_name': 'across_runs', 'strategy_a': 'WeightedRandomCircuitGenerator', 'strategy_b': 'WeightedRandomCircuitGenerator'}, {'n_qubits': 15, 'circuit_id': '5', 'benchmark_name': 'across_runs', 'strategy_a': 'WeightedRandomCircuitGenerator', 'strategy_b': 'WeightedRandomCircuitGenerator'}, {'n_qubits': 10, 'circuit_id': '1', 'benchmark_name': 'across_runs', 'strategy_a': 'WeightedRandomCircuitGenerator', 'strategy_b': 'WeightedRandomCircuitGenerator'}, {'n_qubits': 19, 'circuit_id': '11', 'benchmark_name': 'across_runs', 'strategy_a': 'WeightedRandomCircuitGenerator', 'strategy_b': 'WeightedRandomCircuitGenerator'}, {'n_qubits': 8, 'circuit_id': '7', 'benchmark_name': 'across_runs', 'strategy_a': 'WeightedRandomCircuitGenerator', 'strategy_b': 'WeightedRandomCircuitGenerator'}, {'n_qubits': 9, 'circuit_id': '2', 'benchmark_name': 'across_runs', 'strategy_a': 'WeightedRandomCircuitGenerator', 'strategy_b': 'WeightedRandomCircuitGenerator'}, {'n_qubits': 5, 'circuit_id': '18', 'benchmark_name': 'across_runs', 'strategy_a': 'WeightedRandomCircuitGenerator', 'strategy_b': 'WeightedRandomCircuitGenerator'}, {'n_qubits': 5, 'circuit_id': '3', 'benchmark_name': 'across_runs', 'strategy_a': 'WeightedRandomCircuitGenerator', 'strategy_b': 'WeightedRandomCircuitGenerator'}, {'n_qubits': 20, 'circuit_id': '13', 'benchmark_name': 'across_runs', 'strategy_a': 'WeightedRandomCircuitGenerator', 'strategy_b': 'WeightedRandomCircuitGenerator'}, {'n_qubits': 8, 'circuit_id': '17', 'benchmark_name': 'across_runs', 'strategy_a': 'WeightedRandomCircuitGenerator', 'strategy_b': 'WeightedRandomCircuitGenerator'}, {'n_qubits': 15, 'circuit_id': '15', 'benchmark_name': 'across_runs', 'strategy_a': 'WeightedRandomCircuitGenerator', 'strategy_b': 'WeightedRandomCircuitGenerator'}, {'n_qubits': 8, 'circuit_id': '10', 'benchmark_name': 'across_runs', 'strategy_a': 'WeightedRandomCircuitGenerator', 'strategy_b': 'WeightedRandomCircuitGenerator'}, {'n_qubits': 2, 'circuit_id': '14', 'benchmark_name': 'across_runs', 'strategy_a': 'WeightedRandomCircuitGenerator', 'strategy_b': 'WeightedRandomCircuitGenerator'}, {'n_qubits': 2, 'circuit_id': '9', 'benchmark_name': 'across_runs', 'strategy_a': 'WeightedRandomCircuitGenerator', 'strategy_b': 'WeightedRandomCircuitGenerator'}, {'n_qubits': 2, 'circuit_id': '6', 'benchmark_name': 'across_runs', 'strategy_a': 'WeightedRandomCircuitGenerator', 'strategy_b': 'WeightedRandomCircuitGenerator'}]\n",
      "DETECTOR:  ks\n",
      "({'statistic': 0.0186767578125, 'p_value': 0.11479844481956498, 'test': 'ks', 'test_long_name': 'Kolmogorov–Smirnov Test', 'circuit_id': '8', 'benchmark_name': 'across_runs'}, {'statistic': 0.009765625, 'p_value': 0.8295850516832404, 'test': 'ks', 'test_long_name': 'Kolmogorov–Smirnov Test', 'circuit_id': '19', 'benchmark_name': 'across_runs'}, {'statistic': 0.0107421875, 'p_value': 0.731964190519527, 'test': 'ks', 'test_long_name': 'Kolmogorov–Smirnov Test', 'circuit_id': '0', 'benchmark_name': 'across_runs'}, {'statistic': 0.0162353515625, 'p_value': 0.23046546851445962, 'test': 'ks', 'test_long_name': 'Kolmogorov–Smirnov Test', 'circuit_id': '16', 'benchmark_name': 'across_runs'}, {'statistic': 0.0054931640625, 'p_value': 0.9996709858409564, 'test': 'ks', 'test_long_name': 'Kolmogorov–Smirnov Test', 'circuit_id': '4', 'benchmark_name': 'across_runs'}, {'statistic': 0.013671875, 'p_value': 0.42817891076724507, 'test': 'ks', 'test_long_name': 'Kolmogorov–Smirnov Test', 'circuit_id': '12', 'benchmark_name': 'across_runs'}, {'statistic': 0.012451171875, 'p_value': 0.5492628888324342, 'test': 'ks', 'test_long_name': 'Kolmogorov–Smirnov Test', 'circuit_id': '5', 'benchmark_name': 'across_runs'}, {'statistic': 0.0064697265625, 'p_value': 0.9954659645437626, 'test': 'ks', 'test_long_name': 'Kolmogorov–Smirnov Test', 'circuit_id': '1', 'benchmark_name': 'across_runs'}, {'statistic': 0.0098876953125, 'p_value': 0.8181241442446051, 'test': 'ks', 'test_long_name': 'Kolmogorov–Smirnov Test', 'circuit_id': '11', 'benchmark_name': 'across_runs'}, {'statistic': 0.0169677734375, 'p_value': 0.18896615715816123, 'test': 'ks', 'test_long_name': 'Kolmogorov–Smirnov Test', 'circuit_id': '7', 'benchmark_name': 'across_runs'}, {'statistic': 0.0130615234375, 'p_value': 0.4869514417808664, 'test': 'ks', 'test_long_name': 'Kolmogorov–Smirnov Test', 'circuit_id': '2', 'benchmark_name': 'across_runs'}, {'statistic': 0.0155029296875, 'p_value': 0.2784807658262099, 'test': 'ks', 'test_long_name': 'Kolmogorov–Smirnov Test', 'circuit_id': '18', 'benchmark_name': 'across_runs'}, {'statistic': 0.016845703125, 'p_value': 0.19544759683169796, 'test': 'ks', 'test_long_name': 'Kolmogorov–Smirnov Test', 'circuit_id': '3', 'benchmark_name': 'across_runs'}, {'statistic': 0.014404296875, 'p_value': 0.3632620017823705, 'test': 'ks', 'test_long_name': 'Kolmogorov–Smirnov Test', 'circuit_id': '13', 'benchmark_name': 'across_runs'}, {'statistic': 0.0135498046875, 'p_value': 0.4396127784516494, 'test': 'ks', 'test_long_name': 'Kolmogorov–Smirnov Test', 'circuit_id': '17', 'benchmark_name': 'across_runs'}, {'statistic': 0.009765625, 'p_value': 0.8295850516832404, 'test': 'ks', 'test_long_name': 'Kolmogorov–Smirnov Test', 'circuit_id': '15', 'benchmark_name': 'across_runs'}, {'statistic': 0.011962890625, 'p_value': 0.6009674042550142, 'test': 'ks', 'test_long_name': 'Kolmogorov–Smirnov Test', 'circuit_id': '10', 'benchmark_name': 'across_runs'}, {'statistic': 0.0093994140625, 'p_value': 0.862237573795513, 'test': 'ks', 'test_long_name': 'Kolmogorov–Smirnov Test', 'circuit_id': '14', 'benchmark_name': 'across_runs'}, {'statistic': 0.0125732421875, 'p_value': 0.5365621224389928, 'test': 'ks', 'test_long_name': 'Kolmogorov–Smirnov Test', 'circuit_id': '9', 'benchmark_name': 'across_runs'}, {'statistic': 0.0107421875, 'p_value': 0.731964190519527, 'test': 'ks', 'test_long_name': 'Kolmogorov–Smirnov Test', 'circuit_id': '6', 'benchmark_name': 'across_runs'})\n",
      "BENCHMARK:  negation\n",
      "GROUND TRUTH - reading ...  \n",
      "({'expected_divergence': True, 'circuit_id': '8', 'benchmark_name': 'negation'}, {'expected_divergence': True, 'circuit_id': '19', 'benchmark_name': 'negation'}, {'expected_divergence': True, 'circuit_id': '0', 'benchmark_name': 'negation'}, {'expected_divergence': True, 'circuit_id': '16', 'benchmark_name': 'negation'}, {'expected_divergence': True, 'circuit_id': '4', 'benchmark_name': 'negation'}, {'expected_divergence': True, 'circuit_id': '12', 'benchmark_name': 'negation'}, {'expected_divergence': True, 'circuit_id': '5', 'benchmark_name': 'negation'}, {'expected_divergence': True, 'circuit_id': '1', 'benchmark_name': 'negation'}, {'expected_divergence': True, 'circuit_id': '11', 'benchmark_name': 'negation'}, {'expected_divergence': True, 'circuit_id': '7', 'benchmark_name': 'negation'}, {'expected_divergence': True, 'circuit_id': '2', 'benchmark_name': 'negation'}, {'expected_divergence': True, 'circuit_id': '18', 'benchmark_name': 'negation'}, {'expected_divergence': True, 'circuit_id': '3', 'benchmark_name': 'negation'}, {'expected_divergence': True, 'circuit_id': '13', 'benchmark_name': 'negation'}, {'expected_divergence': True, 'circuit_id': '17', 'benchmark_name': 'negation'}, {'expected_divergence': True, 'circuit_id': '15', 'benchmark_name': 'negation'}, {'expected_divergence': True, 'circuit_id': '10', 'benchmark_name': 'negation'}, {'expected_divergence': True, 'circuit_id': '14', 'benchmark_name': 'negation'}, {'expected_divergence': True, 'circuit_id': '9', 'benchmark_name': 'negation'}, {'expected_divergence': True, 'circuit_id': '6', 'benchmark_name': 'negation'})\n",
      "PROGRAM INFO - reading ...  \n",
      "[{'n_qubits': 18, 'circuit_id': '8', 'benchmark_name': 'negation', 'strategy_a': 'WeightedRandomCircuitGenerator', 'strategy_b': 'WeightedRandomCircuitGenerator'}, {'n_qubits': 14, 'circuit_id': '19', 'benchmark_name': 'negation', 'strategy_a': 'WeightedRandomCircuitGenerator', 'strategy_b': 'WeightedRandomCircuitGenerator'}, {'n_qubits': 5, 'circuit_id': '0', 'benchmark_name': 'negation', 'strategy_a': 'WeightedRandomCircuitGenerator', 'strategy_b': 'WeightedRandomCircuitGenerator'}, {'n_qubits': 10, 'circuit_id': '16', 'benchmark_name': 'negation', 'strategy_a': 'WeightedRandomCircuitGenerator', 'strategy_b': 'WeightedRandomCircuitGenerator'}, {'n_qubits': 4, 'circuit_id': '4', 'benchmark_name': 'negation', 'strategy_a': 'WeightedRandomCircuitGenerator', 'strategy_b': 'WeightedRandomCircuitGenerator'}, {'n_qubits': 9, 'circuit_id': '12', 'benchmark_name': 'negation', 'strategy_a': 'WeightedRandomCircuitGenerator', 'strategy_b': 'WeightedRandomCircuitGenerator'}, {'n_qubits': 15, 'circuit_id': '5', 'benchmark_name': 'negation', 'strategy_a': 'WeightedRandomCircuitGenerator', 'strategy_b': 'WeightedRandomCircuitGenerator'}, {'n_qubits': 10, 'circuit_id': '1', 'benchmark_name': 'negation', 'strategy_a': 'WeightedRandomCircuitGenerator', 'strategy_b': 'WeightedRandomCircuitGenerator'}, {'n_qubits': 19, 'circuit_id': '11', 'benchmark_name': 'negation', 'strategy_a': 'WeightedRandomCircuitGenerator', 'strategy_b': 'WeightedRandomCircuitGenerator'}, {'n_qubits': 8, 'circuit_id': '7', 'benchmark_name': 'negation', 'strategy_a': 'WeightedRandomCircuitGenerator', 'strategy_b': 'WeightedRandomCircuitGenerator'}, {'n_qubits': 9, 'circuit_id': '2', 'benchmark_name': 'negation', 'strategy_a': 'WeightedRandomCircuitGenerator', 'strategy_b': 'WeightedRandomCircuitGenerator'}, {'n_qubits': 5, 'circuit_id': '18', 'benchmark_name': 'negation', 'strategy_a': 'WeightedRandomCircuitGenerator', 'strategy_b': 'WeightedRandomCircuitGenerator'}, {'n_qubits': 5, 'circuit_id': '3', 'benchmark_name': 'negation', 'strategy_a': 'WeightedRandomCircuitGenerator', 'strategy_b': 'WeightedRandomCircuitGenerator'}, {'n_qubits': 20, 'circuit_id': '13', 'benchmark_name': 'negation', 'strategy_a': 'WeightedRandomCircuitGenerator', 'strategy_b': 'WeightedRandomCircuitGenerator'}, {'n_qubits': 8, 'circuit_id': '17', 'benchmark_name': 'negation', 'strategy_a': 'WeightedRandomCircuitGenerator', 'strategy_b': 'WeightedRandomCircuitGenerator'}, {'n_qubits': 15, 'circuit_id': '15', 'benchmark_name': 'negation', 'strategy_a': 'WeightedRandomCircuitGenerator', 'strategy_b': 'WeightedRandomCircuitGenerator'}, {'n_qubits': 8, 'circuit_id': '10', 'benchmark_name': 'negation', 'strategy_a': 'WeightedRandomCircuitGenerator', 'strategy_b': 'WeightedRandomCircuitGenerator'}, {'n_qubits': 2, 'circuit_id': '14', 'benchmark_name': 'negation', 'strategy_a': 'WeightedRandomCircuitGenerator', 'strategy_b': 'WeightedRandomCircuitGenerator'}, {'n_qubits': 2, 'circuit_id': '9', 'benchmark_name': 'negation', 'strategy_a': 'WeightedRandomCircuitGenerator', 'strategy_b': 'WeightedRandomCircuitGenerator'}, {'n_qubits': 2, 'circuit_id': '6', 'benchmark_name': 'negation', 'strategy_a': 'WeightedRandomCircuitGenerator', 'strategy_b': 'WeightedRandomCircuitGenerator'}]\n",
      "DETECTOR:  ks\n",
      "({'statistic': 0.712646484375, 'p_value': 0.0, 'test': 'ks', 'test_long_name': 'Kolmogorov–Smirnov Test', 'circuit_id': '8', 'benchmark_name': 'negation'}, {'statistic': 0.9818115234375, 'p_value': 0.0, 'test': 'ks', 'test_long_name': 'Kolmogorov–Smirnov Test', 'circuit_id': '19', 'benchmark_name': 'negation'}, {'statistic': 0.51806640625, 'p_value': 0.0, 'test': 'ks', 'test_long_name': 'Kolmogorov–Smirnov Test', 'circuit_id': '0', 'benchmark_name': 'negation'}, {'statistic': 0.048583984375, 'p_value': 7.953043076648953e-09, 'test': 'ks', 'test_long_name': 'Kolmogorov–Smirnov Test', 'circuit_id': '16', 'benchmark_name': 'negation'}, {'statistic': 0.1666259765625, 'p_value': 1.1669067475895033e-99, 'test': 'ks', 'test_long_name': 'Kolmogorov–Smirnov Test', 'circuit_id': '4', 'benchmark_name': 'negation'}, {'statistic': 0.058837890625, 'p_value': 9.50899442418484e-13, 'test': 'ks', 'test_long_name': 'Kolmogorov–Smirnov Test', 'circuit_id': '12', 'benchmark_name': 'negation'}, {'statistic': 0.853759765625, 'p_value': 0.0, 'test': 'ks', 'test_long_name': 'Kolmogorov–Smirnov Test', 'circuit_id': '5', 'benchmark_name': 'negation'}, {'statistic': 0.033935546875, 'p_value': 0.00015970689728502413, 'test': 'ks', 'test_long_name': 'Kolmogorov–Smirnov Test', 'circuit_id': '1', 'benchmark_name': 'negation'}, {'statistic': 0.1021728515625, 'p_value': 1.2535111298299398e-37, 'test': 'ks', 'test_long_name': 'Kolmogorov–Smirnov Test', 'circuit_id': '11', 'benchmark_name': 'negation'}, {'statistic': 0.0804443359375, 'p_value': 1.7962614803391317e-23, 'test': 'ks', 'test_long_name': 'Kolmogorov–Smirnov Test', 'circuit_id': '7', 'benchmark_name': 'negation'}, {'statistic': 0.1353759765625, 'p_value': 7.997178791391936e-66, 'test': 'ks', 'test_long_name': 'Kolmogorov–Smirnov Test', 'circuit_id': '2', 'benchmark_name': 'negation'}, {'statistic': 0.10400390625, 'p_value': 5.62730938636249e-39, 'test': 'ks', 'test_long_name': 'Kolmogorov–Smirnov Test', 'circuit_id': '18', 'benchmark_name': 'negation'}, {'statistic': 0.1988525390625, 'p_value': 4.856346799431853e-142, 'test': 'ks', 'test_long_name': 'Kolmogorov–Smirnov Test', 'circuit_id': '3', 'benchmark_name': 'negation'}, {'statistic': 1.0, 'p_value': 0.0, 'test': 'ks', 'test_long_name': 'Kolmogorov–Smirnov Test', 'circuit_id': '13', 'benchmark_name': 'negation'}, {'statistic': 0.0421142578125, 'p_value': 9.76118171725829e-07, 'test': 'ks', 'test_long_name': 'Kolmogorov–Smirnov Test', 'circuit_id': '17', 'benchmark_name': 'negation'}, {'statistic': 0.0645751953125, 'p_value': 2.857518744954864e-15, 'test': 'ks', 'test_long_name': 'Kolmogorov–Smirnov Test', 'circuit_id': '15', 'benchmark_name': 'negation'}, {'statistic': 0.0762939453125, 'p_value': 3.7444312819712125e-21, 'test': 'ks', 'test_long_name': 'Kolmogorov–Smirnov Test', 'circuit_id': '10', 'benchmark_name': 'negation'}, {'statistic': 0.3411865234375, 'p_value': 0.0, 'test': 'ks', 'test_long_name': 'Kolmogorov–Smirnov Test', 'circuit_id': '14', 'benchmark_name': 'negation'}, {'statistic': 0.461181640625, 'p_value': 0.0, 'test': 'ks', 'test_long_name': 'Kolmogorov–Smirnov Test', 'circuit_id': '9', 'benchmark_name': 'negation'}, {'statistic': 0.2525634765625, 'p_value': 7.88195108489325e-230, 'test': 'ks', 'test_long_name': 'Kolmogorov–Smirnov Test', 'circuit_id': '6', 'benchmark_name': 'negation'})\n",
      "BENCHMARK:  program_x_vs_program_y\n",
      "GROUND TRUTH - reading ...  \n",
      "({'expected_divergence': True, 'circuit_id': '8', 'benchmark_name': 'program_x_vs_program_y'}, {'expected_divergence': True, 'circuit_id': '19', 'benchmark_name': 'program_x_vs_program_y'}, {'expected_divergence': True, 'circuit_id': '0', 'benchmark_name': 'program_x_vs_program_y'}, {'expected_divergence': True, 'circuit_id': '16', 'benchmark_name': 'program_x_vs_program_y'}, {'expected_divergence': True, 'circuit_id': '4', 'benchmark_name': 'program_x_vs_program_y'}, {'expected_divergence': True, 'circuit_id': '12', 'benchmark_name': 'program_x_vs_program_y'}, {'expected_divergence': True, 'circuit_id': '5', 'benchmark_name': 'program_x_vs_program_y'}, {'expected_divergence': True, 'circuit_id': '1', 'benchmark_name': 'program_x_vs_program_y'}, {'expected_divergence': True, 'circuit_id': '11', 'benchmark_name': 'program_x_vs_program_y'}, {'expected_divergence': True, 'circuit_id': '7', 'benchmark_name': 'program_x_vs_program_y'}, {'expected_divergence': True, 'circuit_id': '2', 'benchmark_name': 'program_x_vs_program_y'}, {'expected_divergence': True, 'circuit_id': '18', 'benchmark_name': 'program_x_vs_program_y'}, {'expected_divergence': True, 'circuit_id': '3', 'benchmark_name': 'program_x_vs_program_y'}, {'expected_divergence': True, 'circuit_id': '13', 'benchmark_name': 'program_x_vs_program_y'}, {'expected_divergence': True, 'circuit_id': '17', 'benchmark_name': 'program_x_vs_program_y'}, {'expected_divergence': True, 'circuit_id': '15', 'benchmark_name': 'program_x_vs_program_y'}, {'expected_divergence': True, 'circuit_id': '10', 'benchmark_name': 'program_x_vs_program_y'}, {'expected_divergence': True, 'circuit_id': '14', 'benchmark_name': 'program_x_vs_program_y'}, {'expected_divergence': True, 'circuit_id': '9', 'benchmark_name': 'program_x_vs_program_y'}, {'expected_divergence': True, 'circuit_id': '6', 'benchmark_name': 'program_x_vs_program_y'})\n",
      "PROGRAM INFO - reading ...  \n",
      "[{'n_qubits': 16, 'circuit_id': '8', 'benchmark_name': 'program_x_vs_program_y', 'strategy_a': 'WeightedRandomCircuitGenerator', 'strategy_b': 'WeightedRandomCircuitGenerator'}, {'n_qubits': 9, 'circuit_id': '19', 'benchmark_name': 'program_x_vs_program_y', 'strategy_a': 'WeightedRandomCircuitGenerator', 'strategy_b': 'WeightedRandomCircuitGenerator'}, {'n_qubits': 5, 'circuit_id': '0', 'benchmark_name': 'program_x_vs_program_y', 'strategy_a': 'WeightedRandomCircuitGenerator', 'strategy_b': 'WeightedRandomCircuitGenerator'}, {'n_qubits': 4, 'circuit_id': '16', 'benchmark_name': 'program_x_vs_program_y', 'strategy_a': 'WeightedRandomCircuitGenerator', 'strategy_b': 'WeightedRandomCircuitGenerator'}, {'n_qubits': 2, 'circuit_id': '4', 'benchmark_name': 'program_x_vs_program_y', 'strategy_a': 'WeightedRandomCircuitGenerator', 'strategy_b': 'WeightedRandomCircuitGenerator'}, {'n_qubits': 4, 'circuit_id': '12', 'benchmark_name': 'program_x_vs_program_y', 'strategy_a': 'WeightedRandomCircuitGenerator', 'strategy_b': 'WeightedRandomCircuitGenerator'}, {'n_qubits': 9, 'circuit_id': '5', 'benchmark_name': 'program_x_vs_program_y', 'strategy_a': 'WeightedRandomCircuitGenerator', 'strategy_b': 'WeightedRandomCircuitGenerator'}, {'n_qubits': 9, 'circuit_id': '1', 'benchmark_name': 'program_x_vs_program_y', 'strategy_a': 'WeightedRandomCircuitGenerator', 'strategy_b': 'WeightedRandomCircuitGenerator'}, {'n_qubits': 8, 'circuit_id': '11', 'benchmark_name': 'program_x_vs_program_y', 'strategy_a': 'WeightedRandomCircuitGenerator', 'strategy_b': 'WeightedRandomCircuitGenerator'}, {'n_qubits': 19, 'circuit_id': '7', 'benchmark_name': 'program_x_vs_program_y', 'strategy_a': 'WeightedRandomCircuitGenerator', 'strategy_b': 'WeightedRandomCircuitGenerator'}, {'n_qubits': 5, 'circuit_id': '2', 'benchmark_name': 'program_x_vs_program_y', 'strategy_a': 'WeightedRandomCircuitGenerator', 'strategy_b': 'WeightedRandomCircuitGenerator'}, {'n_qubits': 4, 'circuit_id': '18', 'benchmark_name': 'program_x_vs_program_y', 'strategy_a': 'WeightedRandomCircuitGenerator', 'strategy_b': 'WeightedRandomCircuitGenerator'}, {'n_qubits': 20, 'circuit_id': '3', 'benchmark_name': 'program_x_vs_program_y', 'strategy_a': 'WeightedRandomCircuitGenerator', 'strategy_b': 'WeightedRandomCircuitGenerator'}, {'n_qubits': 13, 'circuit_id': '13', 'benchmark_name': 'program_x_vs_program_y', 'strategy_a': 'WeightedRandomCircuitGenerator', 'strategy_b': 'WeightedRandomCircuitGenerator'}, {'n_qubits': 13, 'circuit_id': '17', 'benchmark_name': 'program_x_vs_program_y', 'strategy_a': 'WeightedRandomCircuitGenerator', 'strategy_b': 'WeightedRandomCircuitGenerator'}, {'n_qubits': 19, 'circuit_id': '15', 'benchmark_name': 'program_x_vs_program_y', 'strategy_a': 'WeightedRandomCircuitGenerator', 'strategy_b': 'WeightedRandomCircuitGenerator'}, {'n_qubits': 12, 'circuit_id': '10', 'benchmark_name': 'program_x_vs_program_y', 'strategy_a': 'WeightedRandomCircuitGenerator', 'strategy_b': 'WeightedRandomCircuitGenerator'}, {'n_qubits': 10, 'circuit_id': '14', 'benchmark_name': 'program_x_vs_program_y', 'strategy_a': 'WeightedRandomCircuitGenerator', 'strategy_b': 'WeightedRandomCircuitGenerator'}, {'n_qubits': 2, 'circuit_id': '9', 'benchmark_name': 'program_x_vs_program_y', 'strategy_a': 'WeightedRandomCircuitGenerator', 'strategy_b': 'WeightedRandomCircuitGenerator'}, {'n_qubits': 2, 'circuit_id': '6', 'benchmark_name': 'program_x_vs_program_y', 'strategy_a': 'WeightedRandomCircuitGenerator', 'strategy_b': 'WeightedRandomCircuitGenerator'}]\n",
      "DETECTOR:  ks\n",
      "({'statistic': 0.1790771484375, 'p_value': 3.967441219509777e-115, 'test': 'ks', 'test_long_name': 'Kolmogorov–Smirnov Test', 'circuit_id': '8', 'benchmark_name': 'program_x_vs_program_y'}, {'statistic': 0.04052734375, 'p_value': 2.8596974014927666e-06, 'test': 'ks', 'test_long_name': 'Kolmogorov–Smirnov Test', 'circuit_id': '19', 'benchmark_name': 'program_x_vs_program_y'}, {'statistic': 0.552978515625, 'p_value': 0.0, 'test': 'ks', 'test_long_name': 'Kolmogorov–Smirnov Test', 'circuit_id': '0', 'benchmark_name': 'program_x_vs_program_y'}, {'statistic': 0.292236328125, 'p_value': 1.005539529380286e-308, 'test': 'ks', 'test_long_name': 'Kolmogorov–Smirnov Test', 'circuit_id': '16', 'benchmark_name': 'program_x_vs_program_y'}, {'statistic': 0.2716064453125, 'p_value': 3.442674487861324e-266, 'test': 'ks', 'test_long_name': 'Kolmogorov–Smirnov Test', 'circuit_id': '4', 'benchmark_name': 'program_x_vs_program_y'}, {'statistic': 0.12841796875, 'p_value': 2.957939269345935e-59, 'test': 'ks', 'test_long_name': 'Kolmogorov–Smirnov Test', 'circuit_id': '12', 'benchmark_name': 'program_x_vs_program_y'}, {'statistic': 0.0606689453125, 'p_value': 1.5802875552563293e-13, 'test': 'ks', 'test_long_name': 'Kolmogorov–Smirnov Test', 'circuit_id': '5', 'benchmark_name': 'program_x_vs_program_y'}, {'statistic': 0.1337890625, 'p_value': 2.7025777711961416e-64, 'test': 'ks', 'test_long_name': 'Kolmogorov–Smirnov Test', 'circuit_id': '1', 'benchmark_name': 'program_x_vs_program_y'}, {'statistic': 0.127685546875, 'p_value': 1.3866849297627204e-58, 'test': 'ks', 'test_long_name': 'Kolmogorov–Smirnov Test', 'circuit_id': '11', 'benchmark_name': 'program_x_vs_program_y'}, {'statistic': 0.4659423828125, 'p_value': 0.0, 'test': 'ks', 'test_long_name': 'Kolmogorov–Smirnov Test', 'circuit_id': '7', 'benchmark_name': 'program_x_vs_program_y'}, {'statistic': 0.2064208984375, 'p_value': 4.181166999088901e-153, 'test': 'ks', 'test_long_name': 'Kolmogorov–Smirnov Test', 'circuit_id': '2', 'benchmark_name': 'program_x_vs_program_y'}, {'statistic': 0.251220703125, 'p_value': 2.2704212512739065e-227, 'test': 'ks', 'test_long_name': 'Kolmogorov–Smirnov Test', 'circuit_id': '18', 'benchmark_name': 'program_x_vs_program_y'}, {'statistic': 0.288818359375, 'p_value': 1.8933012573174005e-301, 'test': 'ks', 'test_long_name': 'Kolmogorov–Smirnov Test', 'circuit_id': '3', 'benchmark_name': 'program_x_vs_program_y'}, {'statistic': 0.0369873046875, 'p_value': 2.710266724306341e-05, 'test': 'ks', 'test_long_name': 'Kolmogorov–Smirnov Test', 'circuit_id': '13', 'benchmark_name': 'program_x_vs_program_y'}, {'statistic': 0.2618408203125, 'p_value': 3.3805209327407383e-247, 'test': 'ks', 'test_long_name': 'Kolmogorov–Smirnov Test', 'circuit_id': '17', 'benchmark_name': 'program_x_vs_program_y'}, {'statistic': 0.60791015625, 'p_value': 0.0, 'test': 'ks', 'test_long_name': 'Kolmogorov–Smirnov Test', 'circuit_id': '15', 'benchmark_name': 'program_x_vs_program_y'}, {'statistic': 0.2242431640625, 'p_value': 7.602100112626157e-181, 'test': 'ks', 'test_long_name': 'Kolmogorov–Smirnov Test', 'circuit_id': '10', 'benchmark_name': 'program_x_vs_program_y'}, {'statistic': 0.4107666015625, 'p_value': 0.0, 'test': 'ks', 'test_long_name': 'Kolmogorov–Smirnov Test', 'circuit_id': '14', 'benchmark_name': 'program_x_vs_program_y'}, {'statistic': 0.436279296875, 'p_value': 0.0, 'test': 'ks', 'test_long_name': 'Kolmogorov–Smirnov Test', 'circuit_id': '9', 'benchmark_name': 'program_x_vs_program_y'}, {'statistic': 0.452392578125, 'p_value': 0.0, 'test': 'ks', 'test_long_name': 'Kolmogorov–Smirnov Test', 'circuit_id': '6', 'benchmark_name': 'program_x_vs_program_y'})\n"
     ]
    }
   ],
   "source": [
    "detector_result = {}\n",
    "ground_truth = []\n",
    "program_info = []\n",
    "\n",
    "for benchmark in BENCHMARK:\n",
    "    print(\"BENCHMARK: \", benchmark[\"name\"])\n",
    "    \n",
    "    print(\"GROUND TRUTH - reading ...  \")\n",
    "    ground_truth_folder = get_benchmark_folder(config, benchmark[\"name\"], \"ground_truth\")\n",
    "    _, records_ground_truth = zip(*list(\n",
    "        iterate_over(ground_truth_folder, \".json\", parse_json=True)))\n",
    "    print(records_ground_truth)\n",
    "    ground_truth.extend(records_ground_truth)\n",
    "    \n",
    "    print(\"PROGRAM INFO - reading ...  \")\n",
    "    folder_a = get_benchmark_folder(config, benchmark[\"name\"], \"programs\", \"sample_a\")\n",
    "    folder_b = get_benchmark_folder(config, benchmark[\"name\"], \"programs\", \"sample_b\")\n",
    "    pairs_program_info = list(\n",
    "        iterate_parallel(folder_a, folder_b, \".json\", parse_json=True))\n",
    "    records_program_info = [ \n",
    "        {\n",
    "            \"n_qubits\": program_a[\"n_qubits\"],\n",
    "            \"circuit_id\": program_a[\"circuit_id\"],\n",
    "            \"benchmark_name\": program_a[\"benchmark_name\"],\n",
    "            \"strategy_a\": program_a[\"strategy_program_generation\"],\n",
    "            \"strategy_b\": program_b[\"strategy_program_generation\"],\n",
    "        }\n",
    "        for _, program_a, program_b in pairs_program_info\n",
    "    ] \n",
    "    print(records_program_info)\n",
    "    program_info.extend(records_program_info)\n",
    "    \n",
    "    \n",
    "    for detector in DETECTORS:\n",
    "        old_detector_predictions = detector_result.get(detector[\"name\"], [])\n",
    "        print(\"DETECTOR: \", detector[\"name\"])\n",
    "        # READ PREDICTIONS\n",
    "        pred_folder = get_benchmark_folder(config, benchmark[\"name\"], \"predictions\")\n",
    "        detector_prediction_folder = os.path.join(pred_folder, detector[\"name\"])\n",
    "        _, records_predictions = zip(*list(\n",
    "            iterate_over(detector_prediction_folder, \".json\", parse_json=True)))\n",
    "        print(records_predictions)\n",
    "        old_detector_predictions.extend(records_predictions)\n",
    "        detector_result[detector[\"name\"]] = old_detector_predictions\n",
    "        "
   ]
  },
  {
   "cell_type": "code",
   "execution_count": 143,
   "id": "7a3f3b7a",
   "metadata": {
    "ExecuteTime": {
     "end_time": "2021-12-13T16:25:38.980286Z",
     "start_time": "2021-12-13T16:25:38.973495Z"
    }
   },
   "outputs": [
    {
     "data": {
      "text/plain": [
       "dict_keys(['ks'])"
      ]
     },
     "execution_count": 143,
     "metadata": {},
     "output_type": "execute_result"
    }
   ],
   "source": [
    "detector_result.keys()"
   ]
  },
  {
   "cell_type": "code",
   "execution_count": 144,
   "id": "ae4cafc3",
   "metadata": {
    "ExecuteTime": {
     "end_time": "2021-12-13T16:25:40.031218Z",
     "start_time": "2021-12-13T16:25:40.017039Z"
    }
   },
   "outputs": [
    {
     "data": {
      "text/html": [
       "<div>\n",
       "<style scoped>\n",
       "    .dataframe tbody tr th:only-of-type {\n",
       "        vertical-align: middle;\n",
       "    }\n",
       "\n",
       "    .dataframe tbody tr th {\n",
       "        vertical-align: top;\n",
       "    }\n",
       "\n",
       "    .dataframe thead th {\n",
       "        text-align: right;\n",
       "    }\n",
       "</style>\n",
       "<table border=\"1\" class=\"dataframe\">\n",
       "  <thead>\n",
       "    <tr style=\"text-align: right;\">\n",
       "      <th></th>\n",
       "      <th>expected_divergence</th>\n",
       "      <th>circuit_id</th>\n",
       "      <th>benchmark_name</th>\n",
       "    </tr>\n",
       "  </thead>\n",
       "  <tbody>\n",
       "    <tr>\n",
       "      <th>0</th>\n",
       "      <td>True</td>\n",
       "      <td>8</td>\n",
       "      <td>program_vs_random</td>\n",
       "    </tr>\n",
       "    <tr>\n",
       "      <th>1</th>\n",
       "      <td>True</td>\n",
       "      <td>19</td>\n",
       "      <td>program_vs_random</td>\n",
       "    </tr>\n",
       "    <tr>\n",
       "      <th>2</th>\n",
       "      <td>True</td>\n",
       "      <td>0</td>\n",
       "      <td>program_vs_random</td>\n",
       "    </tr>\n",
       "  </tbody>\n",
       "</table>\n",
       "</div>"
      ],
      "text/plain": [
       "   expected_divergence circuit_id     benchmark_name\n",
       "0                 True          8  program_vs_random\n",
       "1                 True         19  program_vs_random\n",
       "2                 True          0  program_vs_random"
      ]
     },
     "execution_count": 144,
     "metadata": {},
     "output_type": "execute_result"
    }
   ],
   "source": [
    "df_truth = pd.DataFrame.from_records(ground_truth)\n",
    "df_truth.head(3)"
   ]
  },
  {
   "cell_type": "code",
   "execution_count": 145,
   "id": "21951ad7",
   "metadata": {
    "ExecuteTime": {
     "end_time": "2021-12-13T16:25:40.749464Z",
     "start_time": "2021-12-13T16:25:40.733757Z"
    }
   },
   "outputs": [
    {
     "data": {
      "text/html": [
       "<div>\n",
       "<style scoped>\n",
       "    .dataframe tbody tr th:only-of-type {\n",
       "        vertical-align: middle;\n",
       "    }\n",
       "\n",
       "    .dataframe tbody tr th {\n",
       "        vertical-align: top;\n",
       "    }\n",
       "\n",
       "    .dataframe thead th {\n",
       "        text-align: right;\n",
       "    }\n",
       "</style>\n",
       "<table border=\"1\" class=\"dataframe\">\n",
       "  <thead>\n",
       "    <tr style=\"text-align: right;\">\n",
       "      <th></th>\n",
       "      <th>n_qubits</th>\n",
       "      <th>circuit_id</th>\n",
       "      <th>benchmark_name</th>\n",
       "      <th>strategy_a</th>\n",
       "      <th>strategy_b</th>\n",
       "    </tr>\n",
       "  </thead>\n",
       "  <tbody>\n",
       "    <tr>\n",
       "      <th>0</th>\n",
       "      <td>18</td>\n",
       "      <td>8</td>\n",
       "      <td>program_vs_random</td>\n",
       "      <td>WeightedRandomCircuitGenerator</td>\n",
       "      <td>FakeCircuitGenerator</td>\n",
       "    </tr>\n",
       "    <tr>\n",
       "      <th>1</th>\n",
       "      <td>14</td>\n",
       "      <td>19</td>\n",
       "      <td>program_vs_random</td>\n",
       "      <td>WeightedRandomCircuitGenerator</td>\n",
       "      <td>FakeCircuitGenerator</td>\n",
       "    </tr>\n",
       "    <tr>\n",
       "      <th>2</th>\n",
       "      <td>5</td>\n",
       "      <td>0</td>\n",
       "      <td>program_vs_random</td>\n",
       "      <td>WeightedRandomCircuitGenerator</td>\n",
       "      <td>FakeCircuitGenerator</td>\n",
       "    </tr>\n",
       "  </tbody>\n",
       "</table>\n",
       "</div>"
      ],
      "text/plain": [
       "   n_qubits circuit_id     benchmark_name                      strategy_a  \\\n",
       "0        18          8  program_vs_random  WeightedRandomCircuitGenerator   \n",
       "1        14         19  program_vs_random  WeightedRandomCircuitGenerator   \n",
       "2         5          0  program_vs_random  WeightedRandomCircuitGenerator   \n",
       "\n",
       "             strategy_b  \n",
       "0  FakeCircuitGenerator  \n",
       "1  FakeCircuitGenerator  \n",
       "2  FakeCircuitGenerator  "
      ]
     },
     "execution_count": 145,
     "metadata": {},
     "output_type": "execute_result"
    }
   ],
   "source": [
    "df_program_info = pd.DataFrame.from_records(program_info)\n",
    "df_program_info.head(3)"
   ]
  },
  {
   "cell_type": "code",
   "execution_count": 146,
   "id": "9404c646",
   "metadata": {
    "ExecuteTime": {
     "end_time": "2021-12-13T16:25:41.841354Z",
     "start_time": "2021-12-13T16:25:41.822589Z"
    }
   },
   "outputs": [
    {
     "data": {
      "text/html": [
       "<div>\n",
       "<style scoped>\n",
       "    .dataframe tbody tr th:only-of-type {\n",
       "        vertical-align: middle;\n",
       "    }\n",
       "\n",
       "    .dataframe tbody tr th {\n",
       "        vertical-align: top;\n",
       "    }\n",
       "\n",
       "    .dataframe thead th {\n",
       "        text-align: right;\n",
       "    }\n",
       "</style>\n",
       "<table border=\"1\" class=\"dataframe\">\n",
       "  <thead>\n",
       "    <tr style=\"text-align: right;\">\n",
       "      <th></th>\n",
       "      <th>statistic</th>\n",
       "      <th>p_value</th>\n",
       "      <th>test</th>\n",
       "      <th>test_long_name</th>\n",
       "      <th>circuit_id</th>\n",
       "      <th>benchmark_name</th>\n",
       "    </tr>\n",
       "  </thead>\n",
       "  <tbody>\n",
       "    <tr>\n",
       "      <th>0</th>\n",
       "      <td>0.354980</td>\n",
       "      <td>0.0</td>\n",
       "      <td>ks</td>\n",
       "      <td>Kolmogorov–Smirnov Test</td>\n",
       "      <td>8</td>\n",
       "      <td>program_vs_random</td>\n",
       "    </tr>\n",
       "    <tr>\n",
       "      <th>1</th>\n",
       "      <td>0.802246</td>\n",
       "      <td>0.0</td>\n",
       "      <td>ks</td>\n",
       "      <td>Kolmogorov–Smirnov Test</td>\n",
       "      <td>19</td>\n",
       "      <td>program_vs_random</td>\n",
       "    </tr>\n",
       "    <tr>\n",
       "      <th>2</th>\n",
       "      <td>0.406860</td>\n",
       "      <td>0.0</td>\n",
       "      <td>ks</td>\n",
       "      <td>Kolmogorov–Smirnov Test</td>\n",
       "      <td>0</td>\n",
       "      <td>program_vs_random</td>\n",
       "    </tr>\n",
       "  </tbody>\n",
       "</table>\n",
       "</div>"
      ],
      "text/plain": [
       "   statistic  p_value test           test_long_name circuit_id  \\\n",
       "0   0.354980      0.0   ks  Kolmogorov–Smirnov Test          8   \n",
       "1   0.802246      0.0   ks  Kolmogorov–Smirnov Test         19   \n",
       "2   0.406860      0.0   ks  Kolmogorov–Smirnov Test          0   \n",
       "\n",
       "      benchmark_name  \n",
       "0  program_vs_random  \n",
       "1  program_vs_random  \n",
       "2  program_vs_random  "
      ]
     },
     "execution_count": 146,
     "metadata": {},
     "output_type": "execute_result"
    }
   ],
   "source": [
    "df_ks = pd.DataFrame.from_records(detector_result['ks'])\n",
    "df_ks.head(3)"
   ]
  },
  {
   "cell_type": "code",
   "execution_count": 178,
   "id": "0d5207df",
   "metadata": {
    "ExecuteTime": {
     "end_time": "2021-12-13T16:52:14.758871Z",
     "start_time": "2021-12-13T16:52:14.736035Z"
    }
   },
   "outputs": [],
   "source": [
    "from sklearn.metrics import RocCurveDisplay \n",
    "# import libraries\n",
    "import seaborn as sns\n",
    "import numpy as np\n",
    "import matplotlib.pyplot as plt\n",
    "import matplotlib.patches as mpatches\n",
    "\n",
    "\n",
    "\n",
    "\n",
    "class Analyzer(object):\n",
    "    \n",
    "    def __init__(self, df_detector, df_ground_truth, df_program_info):\n",
    "        # derive the column label form the ground truth\n",
    "        df_ground_truth = self._create_label(df_ground_truth)\n",
    "        \n",
    "        self.df_detector = df_detector\n",
    "        self.df_ground_truth = df_ground_truth\n",
    "        self.df_program_info = program_info\n",
    "        self.df_all = pd.merge(df_detector, df_ground_truth, on=[\"circuit_id\", \"benchmark_name\"])\n",
    "        self.df_all = pd.merge(self.df_all, df_program_info, on=[\"circuit_id\", \"benchmark_name\"])\n",
    "        \n",
    "    def _create_label(self, df_ground_truth):\n",
    "        df_ground_truth[\"label\"] = df_ground_truth[\"expected_divergence\"].apply(\n",
    "            lambda e: 1 if e else 0)\n",
    "        return df_ground_truth\n",
    "        \n",
    "    def plot_ROC(self, prediction_column=\"p_value\"):\n",
    "        RocCurveDisplay.from_predictions(self.df_all[\"label\"], self.df_all[prediction_column])\n",
    "        \n",
    "    def classify_based_on_pvalue(self, treshold=0.05):\n",
    "        self.df_all[\"prediction_divergence\"] = self.df_all[\"p_value\"].apply(lambda e: e < treshold)\n",
    "        self.df_all[\"correct_prediction\"] = self.df_all.apply(\n",
    "            lambda row: row[\"prediction_divergence\"] == row[\"expected_divergence\"],\n",
    "            axis=1\n",
    "        )\n",
    "        \n",
    "    def plot_benchmark_categories(self):\n",
    "        \n",
    "        df = self.df_all\n",
    "        \n",
    "        # set the figure size\n",
    "        fig, ax = plt.subplots(figsize=(7, 3))\n",
    "\n",
    "        # from raw value to percentage\n",
    "        total = df.groupby('benchmark_name')['correct_prediction'].count().reset_index()\n",
    "        correct = df[df[\"correct_prediction\"]].groupby('benchmark_name')['correct_prediction'].count().reset_index()\n",
    "        \n",
    "        difference = set(total[\"benchmark_name\"]).difference(set(correct[\"benchmark_name\"]))\n",
    "        if len(difference) > 0:\n",
    "            for missing_bench in list(difference):\n",
    "                new_row = {'benchmark_name':missing_bench, 'correct_prediction':0, 'samples':0}\n",
    "                #append row to the dataframe\n",
    "                correct = correct.append(new_row, ignore_index=True)\n",
    "        \n",
    "        correct['samples'] = [i / j * 100 for i,j in zip(correct['correct_prediction'], total['correct_prediction'])]\n",
    "        total['samples'] = [i / j * 100 for i,j in zip(total['correct_prediction'], total['correct_prediction'])]\n",
    "        \n",
    "        # bar chart 1 -> top bars (group of 'smoker=No')\n",
    "        sns.barplot(y=\"benchmark_name\",  x=\"samples\", data=total, color='orange', ax=ax)\n",
    "\n",
    "\n",
    "        # bar chart 2 -> bottom bars (group of 'smoker=Yes')\n",
    "        sns.barplot(y=\"benchmark_name\", x=\"samples\", data=correct, color='blue', ax=ax)\n",
    "        \n",
    "        # add legend\n",
    "        top_bar = mpatches.Patch(color='orange', label='Wrong predictions')\n",
    "        bottom_bar = mpatches.Patch(color='blue', label='Correct predictions')\n",
    "        fig.legend(handles=[top_bar, bottom_bar])\n",
    "        \n",
    "        ax.set_xlabel(\"% of samples\")\n",
    "        ax.set_ylabel(\"Benchmark Name\")\n",
    "        ax.set_xlim(0,100)\n",
    "        \n",
    "        # show the graph\n",
    "        fig.show()\n",
    "        \n",
    "    def inspect_mispredictions(self, variable_to_inspect=\"n_qubits\"):\n",
    "        mispredictions = self.df_all[~self.df_all[\"correct_prediction\"]]\n",
    "        try:\n",
    "            sns.histplot(data=mispredictions, x=variable_to_inspect)\n",
    "        except ValueError:\n",
    "            print(\"Scale of the data was too small or too big to plot.\")\n",
    "            print(\"Raw data: \", sorted(mispredictions[variable_to_inspect]))\n",
    "        tot = len(self.df_all)\n",
    "        print(f\"We have {len(mispredictions)}/{tot} mispredicted datapoints.\")\n",
    "        \n",
    "    def get_mispredictions(self):\n",
    "        return self.df_all[~self.df_all[\"correct_prediction\"]]"
   ]
  },
  {
   "cell_type": "code",
   "execution_count": 179,
   "id": "5dfbf3c8",
   "metadata": {
    "ExecuteTime": {
     "end_time": "2021-12-13T16:52:15.338367Z",
     "start_time": "2021-12-13T16:52:15.320075Z"
    }
   },
   "outputs": [],
   "source": [
    "analyzer = Analyzer(df_ks, df_truth, df_program_info)\n",
    "analyzer.classify_based_on_pvalue(treshold=0.05)"
   ]
  },
  {
   "cell_type": "code",
   "execution_count": 180,
   "id": "41da7bac",
   "metadata": {
    "ExecuteTime": {
     "end_time": "2021-12-13T16:52:16.141764Z",
     "start_time": "2021-12-13T16:52:15.934316Z"
    }
   },
   "outputs": [
    {
     "data": {
      "image/png": "[encoded data removed]",
      "text/plain": [
       "<Figure size 504x216 with 1 Axes>"
      ]
     },
     "metadata": {
      "needs_background": "light"
     },
     "output_type": "display_data"
    }
   ],
   "source": [
    "\n",
    "analyzer.plot_benchmark_categories()"
   ]
  },
  {
   "cell_type": "code",
   "execution_count": 181,
   "id": "511ac9bb",
   "metadata": {
    "ExecuteTime": {
     "end_time": "2021-12-13T16:52:16.232549Z",
     "start_time": "2021-12-13T16:52:16.210410Z"
    }
   },
   "outputs": [
    {
     "data": {
      "text/html": [
       "<div>\n",
       "<style scoped>\n",
       "    .dataframe tbody tr th:only-of-type {\n",
       "        vertical-align: middle;\n",
       "    }\n",
       "\n",
       "    .dataframe tbody tr th {\n",
       "        vertical-align: top;\n",
       "    }\n",
       "\n",
       "    .dataframe thead th {\n",
       "        text-align: right;\n",
       "    }\n",
       "</style>\n",
       "<table border=\"1\" class=\"dataframe\">\n",
       "  <thead>\n",
       "    <tr style=\"text-align: right;\">\n",
       "      <th></th>\n",
       "      <th>statistic</th>\n",
       "      <th>p_value</th>\n",
       "      <th>test</th>\n",
       "      <th>test_long_name</th>\n",
       "      <th>circuit_id</th>\n",
       "      <th>benchmark_name</th>\n",
       "      <th>expected_divergence</th>\n",
       "      <th>label</th>\n",
       "      <th>n_qubits</th>\n",
       "      <th>strategy_a</th>\n",
       "      <th>strategy_b</th>\n",
       "      <th>prediction_divergence</th>\n",
       "      <th>correct_prediction</th>\n",
       "    </tr>\n",
       "  </thead>\n",
       "  <tbody>\n",
       "    <tr>\n",
       "      <th>0</th>\n",
       "      <td>0.354980</td>\n",
       "      <td>0.000000e+00</td>\n",
       "      <td>ks</td>\n",
       "      <td>Kolmogorov–Smirnov Test</td>\n",
       "      <td>8</td>\n",
       "      <td>program_vs_random</td>\n",
       "      <td>True</td>\n",
       "      <td>1</td>\n",
       "      <td>18</td>\n",
       "      <td>WeightedRandomCircuitGenerator</td>\n",
       "      <td>FakeCircuitGenerator</td>\n",
       "      <td>True</td>\n",
       "      <td>True</td>\n",
       "    </tr>\n",
       "    <tr>\n",
       "      <th>1</th>\n",
       "      <td>0.802246</td>\n",
       "      <td>0.000000e+00</td>\n",
       "      <td>ks</td>\n",
       "      <td>Kolmogorov–Smirnov Test</td>\n",
       "      <td>19</td>\n",
       "      <td>program_vs_random</td>\n",
       "      <td>True</td>\n",
       "      <td>1</td>\n",
       "      <td>14</td>\n",
       "      <td>WeightedRandomCircuitGenerator</td>\n",
       "      <td>FakeCircuitGenerator</td>\n",
       "      <td>True</td>\n",
       "      <td>True</td>\n",
       "    </tr>\n",
       "    <tr>\n",
       "      <th>2</th>\n",
       "      <td>0.406860</td>\n",
       "      <td>0.000000e+00</td>\n",
       "      <td>ks</td>\n",
       "      <td>Kolmogorov–Smirnov Test</td>\n",
       "      <td>0</td>\n",
       "      <td>program_vs_random</td>\n",
       "      <td>True</td>\n",
       "      <td>1</td>\n",
       "      <td>5</td>\n",
       "      <td>WeightedRandomCircuitGenerator</td>\n",
       "      <td>FakeCircuitGenerator</td>\n",
       "      <td>True</td>\n",
       "      <td>True</td>\n",
       "    </tr>\n",
       "    <tr>\n",
       "      <th>3</th>\n",
       "      <td>0.029175</td>\n",
       "      <td>1.873036e-03</td>\n",
       "      <td>ks</td>\n",
       "      <td>Kolmogorov–Smirnov Test</td>\n",
       "      <td>16</td>\n",
       "      <td>program_vs_random</td>\n",
       "      <td>True</td>\n",
       "      <td>1</td>\n",
       "      <td>10</td>\n",
       "      <td>WeightedRandomCircuitGenerator</td>\n",
       "      <td>FakeCircuitGenerator</td>\n",
       "      <td>True</td>\n",
       "      <td>True</td>\n",
       "    </tr>\n",
       "    <tr>\n",
       "      <th>4</th>\n",
       "      <td>0.152832</td>\n",
       "      <td>7.572049e-84</td>\n",
       "      <td>ks</td>\n",
       "      <td>Kolmogorov–Smirnov Test</td>\n",
       "      <td>4</td>\n",
       "      <td>program_vs_random</td>\n",
       "      <td>True</td>\n",
       "      <td>1</td>\n",
       "      <td>4</td>\n",
       "      <td>WeightedRandomCircuitGenerator</td>\n",
       "      <td>FakeCircuitGenerator</td>\n",
       "      <td>True</td>\n",
       "      <td>True</td>\n",
       "    </tr>\n",
       "  </tbody>\n",
       "</table>\n",
       "</div>"
      ],
      "text/plain": [
       "   statistic       p_value test           test_long_name circuit_id  \\\n",
       "0   0.354980  0.000000e+00   ks  Kolmogorov–Smirnov Test          8   \n",
       "1   0.802246  0.000000e+00   ks  Kolmogorov–Smirnov Test         19   \n",
       "2   0.406860  0.000000e+00   ks  Kolmogorov–Smirnov Test          0   \n",
       "3   0.029175  1.873036e-03   ks  Kolmogorov–Smirnov Test         16   \n",
       "4   0.152832  7.572049e-84   ks  Kolmogorov–Smirnov Test          4   \n",
       "\n",
       "      benchmark_name  expected_divergence  label  n_qubits  \\\n",
       "0  program_vs_random                 True      1        18   \n",
       "1  program_vs_random                 True      1        14   \n",
       "2  program_vs_random                 True      1         5   \n",
       "3  program_vs_random                 True      1        10   \n",
       "4  program_vs_random                 True      1         4   \n",
       "\n",
       "                       strategy_a            strategy_b  \\\n",
       "0  WeightedRandomCircuitGenerator  FakeCircuitGenerator   \n",
       "1  WeightedRandomCircuitGenerator  FakeCircuitGenerator   \n",
       "2  WeightedRandomCircuitGenerator  FakeCircuitGenerator   \n",
       "3  WeightedRandomCircuitGenerator  FakeCircuitGenerator   \n",
       "4  WeightedRandomCircuitGenerator  FakeCircuitGenerator   \n",
       "\n",
       "   prediction_divergence  correct_prediction  \n",
       "0                   True                True  \n",
       "1                   True                True  \n",
       "2                   True                True  \n",
       "3                   True                True  \n",
       "4                   True                True  "
      ]
     },
     "execution_count": 181,
     "metadata": {},
     "output_type": "execute_result"
    }
   ],
   "source": [
    "analyzer.df_all.head()"
   ]
  },
  {
   "cell_type": "code",
   "execution_count": 182,
   "id": "e8003058",
   "metadata": {
    "ExecuteTime": {
     "end_time": "2021-12-13T16:52:16.735288Z",
     "start_time": "2021-12-13T16:52:16.728315Z"
    }
   },
   "outputs": [
    {
     "data": {
      "text/plain": [
       "84"
      ]
     },
     "execution_count": 182,
     "metadata": {},
     "output_type": "execute_result"
    }
   ],
   "source": [
    "sum(analyzer.df_all[\"correct_prediction\"])"
   ]
  },
  {
   "cell_type": "code",
   "execution_count": 183,
   "id": "ff5a4088",
   "metadata": {
    "ExecuteTime": {
     "end_time": "2021-12-13T16:52:17.660530Z",
     "start_time": "2021-12-13T16:52:17.482654Z"
    }
   },
   "outputs": [
    {
     "data": {
      "image/png": "[encoded data removed]",
      "text/plain": [
       "<Figure size 432x288 with 1 Axes>"
      ]
     },
     "metadata": {
      "needs_background": "light"
     },
     "output_type": "display_data"
    }
   ],
   "source": [
    "analyzer.plot_ROC()"
   ]
  },
  {
   "cell_type": "markdown",
   "id": "24ee2102",
   "metadata": {},
   "source": [
    "## Inspect Wrong Predictions"
   ]
  },
  {
   "cell_type": "code",
   "execution_count": 184,
   "id": "8aa3d09e",
   "metadata": {
    "ExecuteTime": {
     "end_time": "2021-12-13T16:52:18.921889Z",
     "start_time": "2021-12-13T16:52:18.740070Z"
    }
   },
   "outputs": [
    {
     "name": "stdout",
     "output_type": "stream",
     "text": [
      "We have 8/92 mispredicted datapoints.\n"
     ]
    },
    {
     "data": {
      "image/png": "[encoded data removed]",
      "text/plain": [
       "<Figure size 432x288 with 1 Axes>"
      ]
     },
     "metadata": {
      "needs_background": "light"
     },
     "output_type": "display_data"
    }
   ],
   "source": [
    "analyzer.inspect_mispredictions(variable_to_inspect=\"n_qubits\")"
   ]
  },
  {
   "cell_type": "code",
   "execution_count": 185,
   "id": "4d025cbf",
   "metadata": {
    "ExecuteTime": {
     "end_time": "2021-12-13T16:52:20.134632Z",
     "start_time": "2021-12-13T16:52:19.986832Z"
    }
   },
   "outputs": [
    {
     "name": "stdout",
     "output_type": "stream",
     "text": [
      "Scale of the data was too small or too big to plot.\n",
      "Raw data:  [0.0, 0.0, 0.0, 0.0, 0.0, 1.7372501190088177e-228, 1.9161883113302348e-143, 1.503576733933397e-14]\n",
      "We have 8/92 mispredicted datapoints.\n"
     ]
    },
    {
     "data": {
      "image/png": "[encoded data removed]",
      "text/plain": [
       "<Figure size 432x288 with 1 Axes>"
      ]
     },
     "metadata": {
      "needs_background": "light"
     },
     "output_type": "display_data"
    }
   ],
   "source": [
    "analyzer.inspect_mispredictions(variable_to_inspect=\"p_value\")"
   ]
  },
  {
   "cell_type": "code",
   "execution_count": 186,
   "id": "9c6a6819",
   "metadata": {
    "ExecuteTime": {
     "end_time": "2021-12-13T16:53:02.039599Z",
     "start_time": "2021-12-13T16:53:02.015309Z"
    }
   },
   "outputs": [
    {
     "data": {
      "text/html": [
       "<div>\n",
       "<style scoped>\n",
       "    .dataframe tbody tr th:only-of-type {\n",
       "        vertical-align: middle;\n",
       "    }\n",
       "\n",
       "    .dataframe tbody tr th {\n",
       "        vertical-align: top;\n",
       "    }\n",
       "\n",
       "    .dataframe thead th {\n",
       "        text-align: right;\n",
       "    }\n",
       "</style>\n",
       "<table border=\"1\" class=\"dataframe\">\n",
       "  <thead>\n",
       "    <tr style=\"text-align: right;\">\n",
       "      <th></th>\n",
       "      <th>statistic</th>\n",
       "      <th>p_value</th>\n",
       "      <th>test</th>\n",
       "      <th>test_long_name</th>\n",
       "      <th>circuit_id</th>\n",
       "      <th>benchmark_name</th>\n",
       "      <th>expected_divergence</th>\n",
       "      <th>label</th>\n",
       "      <th>n_qubits</th>\n",
       "      <th>strategy_a</th>\n",
       "      <th>strategy_b</th>\n",
       "      <th>prediction_divergence</th>\n",
       "      <th>correct_prediction</th>\n",
       "    </tr>\n",
       "  </thead>\n",
       "  <tbody>\n",
       "    <tr>\n",
       "      <th>21</th>\n",
       "      <td>0.512573</td>\n",
       "      <td>0.000000e+00</td>\n",
       "      <td>ks</td>\n",
       "      <td>Kolmogorov–Smirnov Test</td>\n",
       "      <td>0</td>\n",
       "      <td>famous_algos</td>\n",
       "      <td>False</td>\n",
       "      <td>0</td>\n",
       "      <td>6</td>\n",
       "      <td>FamousCircuitGenerator</td>\n",
       "      <td>FamousCircuitGenerator</td>\n",
       "      <td>True</td>\n",
       "      <td>False</td>\n",
       "    </tr>\n",
       "    <tr>\n",
       "      <th>22</th>\n",
       "      <td>0.062988</td>\n",
       "      <td>1.503577e-14</td>\n",
       "      <td>ks</td>\n",
       "      <td>Kolmogorov–Smirnov Test</td>\n",
       "      <td>4</td>\n",
       "      <td>famous_algos</td>\n",
       "      <td>False</td>\n",
       "      <td>0</td>\n",
       "      <td>6</td>\n",
       "      <td>FamousCircuitGenerator</td>\n",
       "      <td>FamousCircuitGenerator</td>\n",
       "      <td>True</td>\n",
       "      <td>False</td>\n",
       "    </tr>\n",
       "    <tr>\n",
       "      <th>24</th>\n",
       "      <td>0.251831</td>\n",
       "      <td>1.737250e-228</td>\n",
       "      <td>ks</td>\n",
       "      <td>Kolmogorov–Smirnov Test</td>\n",
       "      <td>1</td>\n",
       "      <td>famous_algos</td>\n",
       "      <td>False</td>\n",
       "      <td>0</td>\n",
       "      <td>11</td>\n",
       "      <td>FamousCircuitGenerator</td>\n",
       "      <td>FamousCircuitGenerator</td>\n",
       "      <td>True</td>\n",
       "      <td>False</td>\n",
       "    </tr>\n",
       "    <tr>\n",
       "      <th>25</th>\n",
       "      <td>1.000000</td>\n",
       "      <td>0.000000e+00</td>\n",
       "      <td>ks</td>\n",
       "      <td>Kolmogorov–Smirnov Test</td>\n",
       "      <td>11</td>\n",
       "      <td>famous_algos</td>\n",
       "      <td>False</td>\n",
       "      <td>0</td>\n",
       "      <td>10</td>\n",
       "      <td>FamousCircuitGenerator</td>\n",
       "      <td>FamousCircuitGenerator</td>\n",
       "      <td>True</td>\n",
       "      <td>False</td>\n",
       "    </tr>\n",
       "    <tr>\n",
       "      <th>26</th>\n",
       "      <td>0.588013</td>\n",
       "      <td>0.000000e+00</td>\n",
       "      <td>ks</td>\n",
       "      <td>Kolmogorov–Smirnov Test</td>\n",
       "      <td>7</td>\n",
       "      <td>famous_algos</td>\n",
       "      <td>False</td>\n",
       "      <td>0</td>\n",
       "      <td>10</td>\n",
       "      <td>FamousCircuitGenerator</td>\n",
       "      <td>FamousCircuitGenerator</td>\n",
       "      <td>True</td>\n",
       "      <td>False</td>\n",
       "    </tr>\n",
       "    <tr>\n",
       "      <th>27</th>\n",
       "      <td>0.199829</td>\n",
       "      <td>1.916188e-143</td>\n",
       "      <td>ks</td>\n",
       "      <td>Kolmogorov–Smirnov Test</td>\n",
       "      <td>2</td>\n",
       "      <td>famous_algos</td>\n",
       "      <td>False</td>\n",
       "      <td>0</td>\n",
       "      <td>11</td>\n",
       "      <td>FamousCircuitGenerator</td>\n",
       "      <td>FamousCircuitGenerator</td>\n",
       "      <td>True</td>\n",
       "      <td>False</td>\n",
       "    </tr>\n",
       "    <tr>\n",
       "      <th>29</th>\n",
       "      <td>1.000000</td>\n",
       "      <td>0.000000e+00</td>\n",
       "      <td>ks</td>\n",
       "      <td>Kolmogorov–Smirnov Test</td>\n",
       "      <td>10</td>\n",
       "      <td>famous_algos</td>\n",
       "      <td>False</td>\n",
       "      <td>0</td>\n",
       "      <td>8</td>\n",
       "      <td>FamousCircuitGenerator</td>\n",
       "      <td>FamousCircuitGenerator</td>\n",
       "      <td>True</td>\n",
       "      <td>False</td>\n",
       "    </tr>\n",
       "    <tr>\n",
       "      <th>31</th>\n",
       "      <td>1.000000</td>\n",
       "      <td>0.000000e+00</td>\n",
       "      <td>ks</td>\n",
       "      <td>Kolmogorov–Smirnov Test</td>\n",
       "      <td>6</td>\n",
       "      <td>famous_algos</td>\n",
       "      <td>False</td>\n",
       "      <td>0</td>\n",
       "      <td>15</td>\n",
       "      <td>FamousCircuitGenerator</td>\n",
       "      <td>FamousCircuitGenerator</td>\n",
       "      <td>True</td>\n",
       "      <td>False</td>\n",
       "    </tr>\n",
       "  </tbody>\n",
       "</table>\n",
       "</div>"
      ],
      "text/plain": [
       "    statistic        p_value test           test_long_name circuit_id  \\\n",
       "21   0.512573   0.000000e+00   ks  Kolmogorov–Smirnov Test          0   \n",
       "22   0.062988   1.503577e-14   ks  Kolmogorov–Smirnov Test          4   \n",
       "24   0.251831  1.737250e-228   ks  Kolmogorov–Smirnov Test          1   \n",
       "25   1.000000   0.000000e+00   ks  Kolmogorov–Smirnov Test         11   \n",
       "26   0.588013   0.000000e+00   ks  Kolmogorov–Smirnov Test          7   \n",
       "27   0.199829  1.916188e-143   ks  Kolmogorov–Smirnov Test          2   \n",
       "29   1.000000   0.000000e+00   ks  Kolmogorov–Smirnov Test         10   \n",
       "31   1.000000   0.000000e+00   ks  Kolmogorov–Smirnov Test          6   \n",
       "\n",
       "   benchmark_name  expected_divergence  label  n_qubits  \\\n",
       "21   famous_algos                False      0         6   \n",
       "22   famous_algos                False      0         6   \n",
       "24   famous_algos                False      0        11   \n",
       "25   famous_algos                False      0        10   \n",
       "26   famous_algos                False      0        10   \n",
       "27   famous_algos                False      0        11   \n",
       "29   famous_algos                False      0         8   \n",
       "31   famous_algos                False      0        15   \n",
       "\n",
       "                strategy_a              strategy_b  prediction_divergence  \\\n",
       "21  FamousCircuitGenerator  FamousCircuitGenerator                   True   \n",
       "22  FamousCircuitGenerator  FamousCircuitGenerator                   True   \n",
       "24  FamousCircuitGenerator  FamousCircuitGenerator                   True   \n",
       "25  FamousCircuitGenerator  FamousCircuitGenerator                   True   \n",
       "26  FamousCircuitGenerator  FamousCircuitGenerator                   True   \n",
       "27  FamousCircuitGenerator  FamousCircuitGenerator                   True   \n",
       "29  FamousCircuitGenerator  FamousCircuitGenerator                   True   \n",
       "31  FamousCircuitGenerator  FamousCircuitGenerator                   True   \n",
       "\n",
       "    correct_prediction  \n",
       "21               False  \n",
       "22               False  \n",
       "24               False  \n",
       "25               False  \n",
       "26               False  \n",
       "27               False  \n",
       "29               False  \n",
       "31               False  "
      ]
     },
     "execution_count": 186,
     "metadata": {},
     "output_type": "execute_result"
    }
   ],
   "source": [
    "df_mispredictions = analyzer.get_mispredictions()\n",
    "df_mispredictions.head(8)"
   ]
  },
  {
   "cell_type": "code",
   "execution_count": null,
   "id": "16b4b742",
   "metadata": {},
   "outputs": [],
   "source": []
  }
 ],
 "metadata": {
  "kernelspec": {
   "display_name": "Python 3 (ipykernel)",
   "language": "python",
   "name": "python3"
  },
  "language_info": {
   "codemirror_mode": {
    "name": "ipython",
    "version": 3
   },
   "file_extension": ".py",
   "mimetype": "text/x-python",
   "name": "python",
   "nbconvert_exporter": "python",
   "pygments_lexer": "ipython3",
   "version": "3.8.0"
  },
  "toc": {
   "base_numbering": 1,
   "nav_menu": {},
   "number_sections": true,
   "sideBar": true,
   "skip_h1_title": false,
   "title_cell": "Table of Contents",
   "title_sidebar": "Contents",
   "toc_cell": false,
   "toc_position": {},
   "toc_section_display": true,
   "toc_window_display": false
  }
 },
 "nbformat": 4,
 "nbformat_minor": 5
}
