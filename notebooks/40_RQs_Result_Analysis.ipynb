{
 "cells": [
  {
   "cell_type": "code",
   "execution_count": 1,
   "id": "c5726275",
   "metadata": {
    "ExecuteTime": {
     "end_time": "2022-03-16T16:44:41.128853Z",
     "start_time": "2022-03-16T16:44:38.622436Z"
    }
   },
   "outputs": [],
   "source": [
    "import project_path\n",
    "\n",
    "import matplotlib.pyplot as plt\n",
    "import numpy as np\n",
    "from copy import deepcopy\n",
    "import os\n",
    "import re\n",
    "import pandas as pd\n",
    "import seaborn as sns\n",
    "import sqlite3 as sl\n",
    "from tqdm import tqdm\n",
    "from typing import List, Any, Tuple, Dict\n",
    "\n",
    "from lib.utils import iterate_over\n",
    "from lib.utils import load_config_and_check\n",
    "from lib.inspector import Inspector\n",
    "\n",
    "%load_ext autoreload\n",
    "%autoreload 2"
   ]
  },
  {
   "cell_type": "markdown",
   "id": "41f5a47e",
   "metadata": {},
   "source": [
    "# Parameters"
   ]
  },
  {
   "cell_type": "code",
   "execution_count": 2,
   "id": "14b6ca87",
   "metadata": {
    "ExecuteTime": {
     "end_time": "2022-03-16T16:44:41.150010Z",
     "start_time": "2022-03-16T16:44:41.130872Z"
    }
   },
   "outputs": [],
   "source": [
    "EXP_FOLDER = \"qmt_v20\" \n",
    "SQL_PATH = os.path.join(\"..\", \"data\", EXP_FOLDER, \"qfl.db\")\n",
    "#LOG_PATH = os.path.join(\"..\", \"data\", EXP_FOLDER, \"log_fuzzy.txt\")\n",
    "SQL_CONNECTION = sl.connect(SQL_PATH)\n"
   ]
  },
  {
   "cell_type": "code",
   "execution_count": 3,
   "id": "c5e64709",
   "metadata": {
    "ExecuteTime": {
     "end_time": "2022-03-16T16:44:41.171176Z",
     "start_time": "2022-03-16T16:44:41.151759Z"
    }
   },
   "outputs": [],
   "source": [
    "OUT_FOLDER = \"../data/paper_images\"\n",
    "PVAL_COL = \"divergence.ks.p-value\" \n",
    "ALPHA_LEVEL = 0.05\n",
    "\n",
    "MR_ALIAS = {\n",
    "    \"ChangeTargetBasis\": \"ChangeOfGateSet\",\n",
    "    \"ToQasmAndBack\": \"Roundtrip conversion via QASM\",\n",
    "    \"ChangeBackend\": \"Change of backend\",\n",
    "    \"ChangeCouplingMap\": \"Change of coupling map\",\n",
    "    \"ChangeOptLevel\": \"Change of optimization level\",\n",
    "    \"ChangeTargetBasis\": \"Change of gate set\",\n",
    "    \"ChangeQubitOrder\": \"Change of qubit order\",\n",
    "    \"RunIndependentPartitions\": \"Partitioned execution\",\n",
    "    \"InjectNullEffect\": \"Inject null-effect operations\",\n",
    "    \"AddUnusedRegister\": \"Add quantum register\",\n",
    "    \"InjectParameters\": \"Inject parameters\",\n",
    "    \n",
    "}\n"
   ]
  },
  {
   "cell_type": "markdown",
   "id": "8c04263e",
   "metadata": {},
   "source": [
    "# Load Data"
   ]
  },
  {
   "cell_type": "code",
   "execution_count": 4,
   "id": "a4adc75e",
   "metadata": {
    "ExecuteTime": {
     "end_time": "2022-03-16T16:44:43.296882Z",
     "start_time": "2022-03-16T16:44:41.173090Z"
    }
   },
   "outputs": [
    {
     "name": "stdout",
     "output_type": "stream",
     "text": [
      "Total (potentially divergent) comparisons: 61487\n",
      "Total crash in programs: 24889\n",
      "\tcrashing source: 0\n",
      "\tcrashing follow-up: 24889\n"
     ]
    }
   ],
   "source": [
    "df_crash = pd.read_sql(\"\"\"SELECT * from CRASHDATA\"\"\", SQL_CONNECTION)\n",
    "df_data = pd.read_sql(\"\"\"SELECT * from QFLDATA\"\"\", SQL_CONNECTION)\n",
    "#LOG_CONTENT = open(LOG_PATH, 'r').read()\n",
    "#LOG_LINES = LOG_CONTENT.split(\"\\n\")\n",
    "print(f\"Total (potentially divergent) comparisons: {len(df_data)}\")\n",
    "print(f\"Total crash in programs: {len(df_crash)}\")\n",
    "print(f\"\\tcrashing source: {len(df_crash[~df_crash['exceptions.source'].isna()])}\")\n",
    "print(f\"\\tcrashing follow-up: {len(df_crash[~df_crash['exceptions.followup'].isna()])}\")"
   ]
  },
  {
   "cell_type": "code",
   "execution_count": 5,
   "id": "dd3c1a84",
   "metadata": {
    "ExecuteTime": {
     "end_time": "2022-03-16T16:44:43.527512Z",
     "start_time": "2022-03-16T16:44:43.298505Z"
    }
   },
   "outputs": [
    {
     "name": "stdout",
     "output_type": "stream",
     "text": [
      "The fuzzying process lasted 3.75 days\n"
     ]
    }
   ],
   "source": [
    "df_generated_programs = pd.concat(\n",
    "    [\n",
    "        df_data.assign(generated_a_crash=False),\n",
    "        df_crash.assign(generated_a_crash=True)\n",
    "    ],\n",
    "    axis=0\n",
    ")\n",
    "\n",
    "total_duration_sec = \\\n",
    "    (df_generated_programs[\"abs_start_time\"].max() \n",
    "     - df_generated_programs[\"abs_start_time\"].min())\n",
    "total_duration_days = total_duration_sec / (3600 * 24)\n",
    "print(f\"The fuzzying process lasted {total_duration_days:.2f} days\")\n",
    "#df_generated_programs.info()"
   ]
  },
  {
   "cell_type": "markdown",
   "id": "a66cfc0f",
   "metadata": {},
   "source": [
    "# RQ: how many warnings in a fixed budget time (2 days)?\n",
    "2 days = as used by QDiff "
   ]
  },
  {
   "cell_type": "code",
   "execution_count": 6,
   "id": "929ded80",
   "metadata": {
    "ExecuteTime": {
     "end_time": "2022-03-16T16:44:43.957307Z",
     "start_time": "2022-03-16T16:44:43.529834Z"
    }
   },
   "outputs": [
    {
     "name": "stdout",
     "output_type": "stream",
     "text": [
      "In the first 48 hours we tested 50591 program pairs\n",
      "14651 (28.96 %) crashes\n",
      "35940 (71.04 %) complete executions\n",
      "% RQ1\n",
      "\\newcommand{\\percCrashesBenchmark}{29.0\\%}\n",
      "\\newcommand{\\totalTestedProgramPairs}{50,591}\n",
      "\\newcommand{\\totalPairsWithDistrDifference}{537}\n",
      "\n",
      "\\begin{table}[t]\n",
      "  \\centering\n",
      "  % qmt_v20\n",
      "  \\caption{Distribution of warnings produced over two days.}\n",
      "  \\begin{tabular}{@{}lrr@{}}\n",
      "  \\toprule\n",
      "  & Number & Percentage \\\\\n",
      "  \\midrule\n",
      "  Tested program pairs& 50,591& 100.0\\% \\\\\n",
      "  \\hspace{1em} $\\hookrightarrow$ Crashes in source program & 0 & 0.0 \\%\\\\\n",
      "  \\hspace{1em} $\\hookrightarrow$ Crashes in follow-up program & 14,651 & 29.0 \\%\\\\\n",
      "  \\hspace{1em} $\\hookrightarrow$ Successful executions & 35,940 & 71.0 \\%\\\\\n",
      "  \\hspace{3em} $\\hookrightarrow$ Distribution differences & 537 & 1.1 \\%\\\\\n",
      "  \\bottomrule\n",
      "  \\end{tabular}\n",
      "  \\label{tab:warnings_distribution}\n",
      "\\end{table}\n",
      "\n"
     ]
    }
   ],
   "source": [
    "from lib.inspector import get_alarms_with_method\n",
    "\n",
    "def get_program_within_first_hours(df, n_hours: int, col_time: str = \"abs_start_time\"):\n",
    "    \"\"\"Get the programs generated in the first n hours.\"\"\"\n",
    "    df = df.sort_values(by=col_time)\n",
    "    approach_start_time = int(df[col_time].min())\n",
    "    df[\"time_since_start\"] = df[col_time].apply(\n",
    "        lambda c_program_start_time: c_program_start_time - approach_start_time\n",
    "    )\n",
    "    return df[df[\"time_since_start\"] < 3600 * n_hours]\n",
    "\n",
    "N_HOURS = 48\n",
    "\n",
    "df_first_2_days = get_program_within_first_hours(\n",
    "    df=df_generated_programs,\n",
    "    n_hours=N_HOURS\n",
    ")\n",
    "df_first_2_days_crash = df_first_2_days[df_first_2_days[\"generated_a_crash\"]]\n",
    "df_first_2_days_complete = df_first_2_days[~df_first_2_days[\"generated_a_crash\"]]\n",
    "\n",
    "print(f\"In the first {N_HOURS} hours we tested {len(df_first_2_days)} program pairs\")\n",
    "\n",
    "n_tot_pairs = len(df_first_2_days)\n",
    "n_crash = len(df_first_2_days_crash)\n",
    "n_complete_execution = len(df_first_2_days_complete)\n",
    "assert n_crash + n_complete_execution == n_tot_pairs\n",
    "\n",
    "perc_crash = (n_crash / n_tot_pairs) * 100\n",
    "perc_complete_execution = (n_complete_execution / n_tot_pairs) * 100\n",
    "\n",
    "print(f\"{n_crash} ({perc_crash:.2f} %) crashes\")\n",
    "print(f\"{n_complete_execution} ({perc_complete_execution:.2f} %) complete executions\")\n",
    "\n",
    "\n",
    "n_crash_source = len(df_first_2_days_crash[~df_first_2_days_crash['exceptions.source'].isna()])\n",
    "n_crash_followup = len(df_first_2_days_crash[~df_first_2_days_crash['exceptions.followup'].isna()]) \n",
    "perc_crash_source = (n_crash_source / n_tot_pairs) * 100\n",
    "perc_crash_followup = (n_crash_followup / n_tot_pairs) * 100\n",
    "\n",
    "PVAL_COL = \"divergence.ks.p-value\"\n",
    "ALPHA_LEVEL = 0.05\n",
    "\n",
    "#program_ids_bonferroni = get_alarms_with_method(\n",
    "#    df=df_first_2_days_complete, \n",
    "#    pval_col=PVAL_COL,\n",
    "#    alpha_level=ALPHA_LEVEL,\n",
    "#    method='bonferroni')\n",
    "#n_divergence = len(program_ids_bonferroni)\n",
    "n_divergence = len(df_first_2_days_complete[\n",
    "    df_first_2_days_complete[PVAL_COL] < ALPHA_LEVEL\n",
    "])\n",
    "perc_divergence = (n_divergence / n_tot_pairs) * 100\n",
    "\n",
    "print(\"% RQ1\")\n",
    "print(\"\\\\newcommand{\\percCrashesBenchmark}{\"+f\"{perc_crash:.1f}\"+\"\\%}\")\n",
    "print(\"\\\\newcommand{\\\\totalTestedProgramPairs}{\"+f\"{len(df_first_2_days):,.0f}\"+\"}\")\n",
    "print(\"\\\\newcommand{\\\\totalPairsWithDistrDifference}{\"+f\"{n_divergence:,.0f}\"+\"}\")\n",
    "\n",
    "print(\"\"\"\n",
    "\\\\begin{table}[t]\n",
    "  \\centering\n",
    "  % \"\"\" + EXP_FOLDER + \"\"\"\n",
    "  \\caption{Distribution of warnings produced over two days.}\n",
    "  \\\\begin{tabular}{@{}lrr@{}}\n",
    "  \\\\toprule\n",
    "  & Number & Percentage \\\\\\\\\n",
    "  \\\\midrule\n",
    "  Tested program pairs& \"\"\" + f\"{len(df_first_2_days):,.0f}\"+ \"\"\"& 100.0\\\\% \\\\\\\\\n",
    "  \\hspace{1em} $\\hookrightarrow$ Crashes in source program & \"\"\" + f\"{n_crash_source:,.0f} & {perc_crash_source:.1f} \\\\%\"+ \"\"\"\\\\\\\\\n",
    "  \\hspace{1em} $\\hookrightarrow$ Crashes in follow-up program & \"\"\" + f\"{n_crash_followup:,.0f} & {perc_crash_followup:.1f} \\\\%\"+ \"\"\"\\\\\\\\\n",
    "  \\hspace{1em} $\\hookrightarrow$ Successful executions & \"\"\" + f\"{n_complete_execution:,.0f} & {perc_complete_execution:.1f} \\\\%\"+ \"\"\"\\\\\\\\\n",
    "  \\hspace{3em} $\\hookrightarrow$ Distribution differences & \"\"\" + f\"{n_divergence:,.0f} & {perc_divergence:.1f} \\\\%\"+ \"\"\"\\\\\\\\\n",
    "  \\\\bottomrule\n",
    "  \\end{tabular}\n",
    "  \\label{tab:warnings_distribution}\n",
    "\\end{table}\n",
    "\"\"\")"
   ]
  },
  {
   "cell_type": "markdown",
   "id": "7b0f4072",
   "metadata": {},
   "source": [
    "# RQ: Real bugs? (Table with warnings)\n",
    "See the warning folder with programs and reported bug issues screens."
   ]
  },
  {
   "cell_type": "code",
   "execution_count": 7,
   "id": "2dbe32d2",
   "metadata": {
    "ExecuteTime": {
     "end_time": "2022-03-16T16:44:44.004585Z",
     "start_time": "2022-03-16T16:44:43.958922Z"
    }
   },
   "outputs": [
    {
     "data": {
      "text/html": [
       "<div>\n",
       "<style scoped>\n",
       "    .dataframe tbody tr th:only-of-type {\n",
       "        vertical-align: middle;\n",
       "    }\n",
       "\n",
       "    .dataframe tbody tr th {\n",
       "        vertical-align: top;\n",
       "    }\n",
       "\n",
       "    .dataframe thead th {\n",
       "        text-align: right;\n",
       "    }\n",
       "</style>\n",
       "<table border=\"1\" class=\"dataframe\">\n",
       "  <thead>\n",
       "    <tr style=\"text-align: right;\">\n",
       "      <th></th>\n",
       "      <th>index</th>\n",
       "      <th>bug_id</th>\n",
       "      <th>experiment</th>\n",
       "      <th>program_id</th>\n",
       "      <th>date_found</th>\n",
       "      <th>date_reported</th>\n",
       "      <th>manifestation</th>\n",
       "      <th>hook_hint</th>\n",
       "      <th>crash_category</th>\n",
       "      <th>present_also_in_final_run</th>\n",
       "      <th>root_cause</th>\n",
       "      <th>API_usage</th>\n",
       "      <th>mr_used</th>\n",
       "      <th>bug_description</th>\n",
       "      <th>link_to_issue</th>\n",
       "      <th>developer_reaction</th>\n",
       "      <th>developer comment</th>\n",
       "      <th>component</th>\n",
       "      <th>known_before</th>\n",
       "      <th>status</th>\n",
       "    </tr>\n",
       "  </thead>\n",
       "  <tbody>\n",
       "    <tr>\n",
       "      <th>0</th>\n",
       "      <td>0</td>\n",
       "      <td>01_accidental</td>\n",
       "      <td>qmt_v01</td>\n",
       "      <td>-</td>\n",
       "      <td>8-feb-22</td>\n",
       "      <td>8-feb-22</td>\n",
       "      <td>timeout</td>\n",
       "      <td>-</td>\n",
       "      <td>-</td>\n",
       "      <td>False</td>\n",
       "      <td>inefficient translation basis</td>\n",
       "      <td>non-existent gate names</td>\n",
       "      <td>ChangeTargetBasis</td>\n",
       "      <td>Compiler hangs (infinite loop), when transpile...</td>\n",
       "      <td>https://github.com/Qiskit/qiskit-terra/issues/...</td>\n",
       "      <td>comment; confirmed; similar issue; fix is read...</td>\n",
       "      <td>\"This is similar to #5539, perhaps a slightly ...</td>\n",
       "      <td>-</td>\n",
       "      <td>duplicate (different manifestation)</td>\n",
       "      <td>confirmed</td>\n",
       "    </tr>\n",
       "    <tr>\n",
       "      <th>1</th>\n",
       "      <td>1</td>\n",
       "      <td>12_799857</td>\n",
       "      <td>qmt_v12</td>\n",
       "      <td>799857e40bee4c7db1b65a3c190d67ca</td>\n",
       "      <td>9-mar-22</td>\n",
       "      <td>9-mar-22</td>\n",
       "      <td>crash</td>\n",
       "      <td>Cannot find gate definition for 'c3sx'</td>\n",
       "      <td>Cannot find gate definition for 'c3sx'</td>\n",
       "      <td>True</td>\n",
       "      <td>C3SXGate</td>\n",
       "      <td>correct</td>\n",
       "      <td>ToQasmAndBack</td>\n",
       "      <td>Qasm exporter doesn't generate the definition ...</td>\n",
       "      <td>https://github.com/Qiskit/qiskit-terra/issues/...</td>\n",
       "      <td>comment; confirmed; duplicate</td>\n",
       "      <td>\"This is a duplicate of #7148, which does have...</td>\n",
       "      <td>-</td>\n",
       "      <td>duplicate</td>\n",
       "      <td>confirmed</td>\n",
       "    </tr>\n",
       "    <tr>\n",
       "      <th>2</th>\n",
       "      <td>2</td>\n",
       "      <td>11_74343b</td>\n",
       "      <td>qmt_v11</td>\n",
       "      <td>74343b53af17413d86dbdf57b8f6da86</td>\n",
       "      <td>8-mar-22</td>\n",
       "      <td>8-mar-22</td>\n",
       "      <td>crash</td>\n",
       "      <td>Duplicate declaration for gate 'rzx'</td>\n",
       "      <td>Duplicate declaration for gate 'rzx'</td>\n",
       "      <td>True</td>\n",
       "      <td>ECRGate</td>\n",
       "      <td>correct</td>\n",
       "      <td>ToQasmAndBack</td>\n",
       "      <td>Qasm exporter fails with `ECRGate` `QasmError:...</td>\n",
       "      <td>https://github.com/Qiskit/qiskit-terra/issues/...</td>\n",
       "      <td>comment; confirmed; fix coming.</td>\n",
       "      <td>\"QASM 2 exporter has had this problem for a lo...</td>\n",
       "      <td>-</td>\n",
       "      <td>duplicate (different manifestation)</td>\n",
       "      <td>confirmed</td>\n",
       "    </tr>\n",
       "    <tr>\n",
       "      <th>3</th>\n",
       "      <td>3</td>\n",
       "      <td>09_462576</td>\n",
       "      <td>qmt_v09</td>\n",
       "      <td>462576d5c97842feb25cd7a79d659969</td>\n",
       "      <td>8-mar-22</td>\n",
       "      <td>8-mar-22</td>\n",
       "      <td>crash</td>\n",
       "      <td>Cannot bind parameters</td>\n",
       "      <td>Cannot bind parameters not present in the circuit</td>\n",
       "      <td>True</td>\n",
       "      <td>C3XGate</td>\n",
       "      <td>correct</td>\n",
       "      <td>InjectParameters</td>\n",
       "      <td>C3XGate doesn't bind the angle parameter `Circ...</td>\n",
       "      <td>https://github.com/Qiskit/qiskit-terra/issues/...</td>\n",
       "      <td>comment; confirmed; uncomplete job; fix coming.</td>\n",
       "      <td>\"it should raise a DeprecationWarning due to p...</td>\n",
       "      <td>-</td>\n",
       "      <td>new</td>\n",
       "      <td>confirmed</td>\n",
       "    </tr>\n",
       "    <tr>\n",
       "      <th>4</th>\n",
       "      <td>4</td>\n",
       "      <td>09_f8a306</td>\n",
       "      <td>qmt_v09</td>\n",
       "      <td>f8a306d8953f4e46a2b8ecec434f9cc0</td>\n",
       "      <td>8-mar-22</td>\n",
       "      <td>-</td>\n",
       "      <td>crash</td>\n",
       "      <td>Mismatch between run_config.parameter_binds, u...</td>\n",
       "      <td>Mismatch between parameter_binds</td>\n",
       "      <td>True</td>\n",
       "      <td>CUGate</td>\n",
       "      <td>correct</td>\n",
       "      <td>InjectParameters</td>\n",
       "      <td>CUGate's params getter does not comply with ci...</td>\n",
       "      <td>https://github.com/Qiskit/qiskit-terra/issues/...</td>\n",
       "      <td>duplicated; confirmed by developer</td>\n",
       "      <td>-</td>\n",
       "      <td>-</td>\n",
       "      <td>duplicate</td>\n",
       "      <td>confirmed</td>\n",
       "    </tr>\n",
       "  </tbody>\n",
       "</table>\n",
       "</div>"
      ],
      "text/plain": [
       "   index         bug_id experiment                        program_id  \\\n",
       "0      0  01_accidental    qmt_v01                                 -   \n",
       "1      1      12_799857    qmt_v12  799857e40bee4c7db1b65a3c190d67ca   \n",
       "2      2      11_74343b    qmt_v11  74343b53af17413d86dbdf57b8f6da86   \n",
       "3      3      09_462576    qmt_v09  462576d5c97842feb25cd7a79d659969   \n",
       "4      4      09_f8a306    qmt_v09  f8a306d8953f4e46a2b8ecec434f9cc0   \n",
       "\n",
       "  date_found date_reported manifestation  \\\n",
       "0   8-feb-22      8-feb-22       timeout   \n",
       "1   9-mar-22      9-mar-22         crash   \n",
       "2   8-mar-22      8-mar-22         crash   \n",
       "3   8-mar-22      8-mar-22         crash   \n",
       "4   8-mar-22             -         crash   \n",
       "\n",
       "                                           hook_hint  \\\n",
       "0                                                  -   \n",
       "1             Cannot find gate definition for 'c3sx'   \n",
       "2               Duplicate declaration for gate 'rzx'   \n",
       "3                             Cannot bind parameters   \n",
       "4  Mismatch between run_config.parameter_binds, u...   \n",
       "\n",
       "                                      crash_category  \\\n",
       "0                                                  -   \n",
       "1             Cannot find gate definition for 'c3sx'   \n",
       "2               Duplicate declaration for gate 'rzx'   \n",
       "3  Cannot bind parameters not present in the circuit   \n",
       "4                   Mismatch between parameter_binds   \n",
       "\n",
       "  present_also_in_final_run                     root_cause  \\\n",
       "0                     False  inefficient translation basis   \n",
       "1                      True                       C3SXGate   \n",
       "2                      True                        ECRGate   \n",
       "3                      True                        C3XGate   \n",
       "4                      True                         CUGate   \n",
       "\n",
       "                 API_usage            mr_used  \\\n",
       "0  non-existent gate names  ChangeTargetBasis   \n",
       "1                  correct      ToQasmAndBack   \n",
       "2                  correct      ToQasmAndBack   \n",
       "3                  correct   InjectParameters   \n",
       "4                  correct   InjectParameters   \n",
       "\n",
       "                                     bug_description  \\\n",
       "0  Compiler hangs (infinite loop), when transpile...   \n",
       "1  Qasm exporter doesn't generate the definition ...   \n",
       "2  Qasm exporter fails with `ECRGate` `QasmError:...   \n",
       "3  C3XGate doesn't bind the angle parameter `Circ...   \n",
       "4  CUGate's params getter does not comply with ci...   \n",
       "\n",
       "                                       link_to_issue  \\\n",
       "0  https://github.com/Qiskit/qiskit-terra/issues/...   \n",
       "1  https://github.com/Qiskit/qiskit-terra/issues/...   \n",
       "2  https://github.com/Qiskit/qiskit-terra/issues/...   \n",
       "3  https://github.com/Qiskit/qiskit-terra/issues/...   \n",
       "4  https://github.com/Qiskit/qiskit-terra/issues/...   \n",
       "\n",
       "                                  developer_reaction  \\\n",
       "0  comment; confirmed; similar issue; fix is read...   \n",
       "1                      comment; confirmed; duplicate   \n",
       "2                    comment; confirmed; fix coming.   \n",
       "3    comment; confirmed; uncomplete job; fix coming.   \n",
       "4                 duplicated; confirmed by developer   \n",
       "\n",
       "                                   developer comment component  \\\n",
       "0  \"This is similar to #5539, perhaps a slightly ...         -   \n",
       "1  \"This is a duplicate of #7148, which does have...         -   \n",
       "2  \"QASM 2 exporter has had this problem for a lo...         -   \n",
       "3  \"it should raise a DeprecationWarning due to p...         -   \n",
       "4                                                  -         -   \n",
       "\n",
       "                          known_before     status  \n",
       "0  duplicate (different manifestation)  confirmed  \n",
       "1                            duplicate  confirmed  \n",
       "2  duplicate (different manifestation)  confirmed  \n",
       "3                                  new  confirmed  \n",
       "4                            duplicate  confirmed  "
      ]
     },
     "execution_count": 7,
     "metadata": {},
     "output_type": "execute_result"
    }
   ],
   "source": [
    "# create latex table\n",
    "PATH_DATASET = \"../miscellanea/table_artifacts/Qiskit_Bug_Dataset - main_dataset.csv\"\n",
    "df_bugs = pd.read_csv(PATH_DATASET)\n",
    "df_bugs = df_bugs.sort_values(by=[\n",
    "    \"status\"\n",
    "], ascending=True)\n",
    "df_bugs = df_bugs.reset_index(drop=True)\n",
    "df_bugs = df_bugs.reset_index(drop=False)\n",
    "df_bugs = df_bugs.fillna(\"-\")\n",
    "df_bugs.head()"
   ]
  },
  {
   "cell_type": "code",
   "execution_count": 8,
   "id": "e53a03c8",
   "metadata": {
    "ExecuteTime": {
     "end_time": "2022-03-16T16:44:44.027957Z",
     "start_time": "2022-03-16T16:44:44.006346Z"
    }
   },
   "outputs": [],
   "source": [
    "ANONYMOUS = True\n",
    "KEEP_ONLY_CONFIRMED = True \n",
    "KEEP_ONLY_CRASHES = True \n",
    "REMOVE_FALSE_POSITIVES = True\n",
    "\n",
    "col_renaming = {\n",
    "    \"index\": \"ID\",\n",
    "    \"link_to_issue\": \"Report\",\n",
    "    \"status\": \"Status\",\n",
    "    \"known_before\": \"Novelty\",\n",
    "    #\"API_usage\": \"API usage\",\n",
    "    #\"manifestation\": \"How\",\n",
    "    \"crash_category\": \"Crash message\",\n",
    "    \"mr_used\": \"Metamorphic transformations\",\n",
    "    #\"bug_description\": \"Description\",\n",
    "    #\"root_cause\": \"Root Cause\",\n",
    "}\n",
    "\n",
    "if ANONYMOUS:\n",
    "    df_bugs[\"link_to_issue\"] = \"#XXXX\"\n",
    "else:\n",
    "    df_bugs[\"link_to_issue\"] = df_bugs[\"link_to_issue\"].apply(\n",
    "        lambda e: e.replace(\"https://github.com/Qiskit/qiskit-terra/issues/\", \"#\")\n",
    "    )\n",
    "\n",
    "df_bugs[\"known_before\"] = df_bugs[\"known_before\"].apply(\n",
    "    lambda e: str(e).replace(\"duplicate (different manifestation)\", \"duplicate*\")\n",
    ")"
   ]
  },
  {
   "cell_type": "code",
   "execution_count": 9,
   "id": "c42383bc",
   "metadata": {
    "ExecuteTime": {
     "end_time": "2022-03-16T16:44:44.077433Z",
     "start_time": "2022-03-16T16:44:44.029759Z"
    }
   },
   "outputs": [
    {
     "name": "stdout",
     "output_type": "stream",
     "text": [
      "% RQ2\n",
      "\\newcommand{\\IDCannotFindGateDefinitionForCsx}{1}\n",
      "\\newcommand{\\IDDuplicateDeclarationForGateRzx}{2}\n",
      "\\newcommand{\\IDCannotBindParametersNotPresentInTheCircuit}{3}\n",
      "\\newcommand{\\IDMismatchBetweenParameterbinds}{4}\n",
      "\\newcommand{\\IDGateOrOpaqueCallToSubcircuit}{5}\n",
      "\\newcommand{\\IDQargsNotInThisCircuit}{6}\n",
      "\\newcommand{\\IDInstructionIdNotFound}{7}\n",
      "\\newcommand{\\IDTooManySubscriptsInEinsumNumpy}{8}\n",
      "\\newcommand{\\IDCannotFindGateDefinitionForRzx}{9}\n",
      "\\newcommand{\\IDDuplicateDeclarationForGateRyy}{10}\n",
      "\\newcommand{\\IDCannotFindGateDefinitionForUnitary}{11}\n",
      "\\newcommand{\\IDCannotFindGateDefinitionForRcccx}{12}\n",
      "\n",
      "\\begin{tabular}{@{}rlllp{5cm}p{7.3cm}@{}}\n",
      "\\toprule\n",
      " ID & Report &    Status &    Novelty &                                     Crash message &                                                                Metamorphic transformations \\\\\n",
      "\\midrule\n",
      "  1 &  \\#XXXX & confirmed &  duplicate &            Cannot find gate definition for `c3sx' &                                                              Roundtrip conversion via QASM \\\\\n",
      "  2 &  \\#XXXX & confirmed & duplicate* &              Duplicate declaration for gate `rzx' &                                                              Roundtrip conversion via QASM \\\\\n",
      "  3 &  \\#XXXX & confirmed &        new & Cannot bind parameters not present in the circuit &                                                                          Inject parameters \\\\\n",
      "  4 &  \\#XXXX & confirmed &  duplicate &                  Mismatch between parameter\\_binds &                                                                          Inject parameters \\\\\n",
      "  5 &  \\#XXXX & confirmed &        new &               Gate or opaque call to `subcircuit' &                               Roundtrip conversion via QASM, Inject null-effect operations \\\\\n",
      "  6 &  \\#XXXX & confirmed &        new &                         qargs not in this circuit &                                       Change of optimization level, Change of coupling map \\\\\n",
      "  7 &  \\#XXXX & confirmed &  duplicate &                          Instruction id not found &                                                                         Change of gate set \\\\\n",
      "  8 &  \\#XXXX & confirmed &        new &             too many subscripts in einsum (numpy) &                                Change of optimization level, Inject null-effect operations \\\\\n",
      "  9 &  \\#XXXX &  reported &          - &             Cannot find gate definition for `rzx' &                               Roundtrip conversion via QASM, Inject null-effect operations \\\\\n",
      " 10 &  \\#XXXX &  reported &          - &              Duplicate declaration for gate `ryy' &                               Roundtrip conversion via QASM, Inject null-effect operations \\\\\n",
      " 11 &  \\#XXXX &  reported &          - &           Cannot find gate definition for unitary & Change of optimization level, Roundtrip conversion via QASM, Inject null-effect operations \\\\\n",
      " 12 &  \\#XXXX &  reported &          - &           Cannot find gate definition for `rcccx' &                               Roundtrip conversion via QASM, Inject null-effect operations \\\\\n",
      "\\bottomrule\n",
      "\\end{tabular}\n",
      "\n"
     ]
    }
   ],
   "source": [
    "pd.set_option('display.max_colwidth', 1000)\n",
    "\n",
    "relevant_columns = col_renaming.keys()\n",
    "df_table = deepcopy(df_bugs)\n",
    "if KEEP_ONLY_CRASHES:\n",
    "    df_table = df_table[df_table[\"manifestation\"] == \"crash\"]\n",
    "if REMOVE_FALSE_POSITIVES:\n",
    "    df_table = df_table[~(df_table[\"status\"] == \"false positive\")]\n",
    "df_table = df_table.drop(columns='index')  \n",
    "\n",
    "def replace_MR_names(transf_str):\n",
    "    new_transf_str = transf_str\n",
    "    for k, v in MR_ALIAS.items():\n",
    "        new_transf_str = new_transf_str.replace(k, v)\n",
    "    return new_transf_str\n",
    "\n",
    "df_table[\"mr_used\"] = df_table[\"mr_used\"].apply(\n",
    "    lambda e: replace_MR_names(transf_str=e)\n",
    ") \n",
    "df_table = df_table.reset_index(drop=True)\n",
    "df_table = df_table.reset_index(drop=False)\n",
    "df_table = df_table[relevant_columns].rename(columns=col_renaming)\n",
    "df_table[\"ID\"] = df_table[\"ID\"].apply(lambda e: int(e) + 1)\n",
    "df_table.head()\n",
    "\n",
    "import string\n",
    "\n",
    "print(\"% RQ2\")\n",
    "for i, row in df_table.iterrows():\n",
    "    msg = row[\"Crash message\"]\n",
    "    msg = msg.translate(str.maketrans('', '', string.punctuation))\n",
    "    msg = ''.join([w.capitalize() for w in msg.lower().split()])\n",
    "    msg = ''.join(ch for ch in msg if ch.isalpha())\n",
    "    if msg != \"\":\n",
    "        print(\"\\\\newcommand{\\\\ID\" + msg + \"}{\" + str(row[\"ID\"]) + \"}\")\n",
    "\n",
    "print(\"\")\n",
    "table_code = df_table.to_latex(\n",
    "    column_format='@{}rlllp{5cm}p{7.3cm}@{}',\n",
    "    index=False)\n",
    "table_code = re.sub(\"\\s'\", \" `\", table_code)\n",
    "print(table_code)"
   ]
  },
  {
   "cell_type": "markdown",
   "id": "9daa60ca",
   "metadata": {},
   "source": [
    "# RQ: Contribution of Metamorphic Transformations\n",
    "How do the different warnings distribute over the MR?\n",
    "When a program pair fails > attributes 1 point to each MR involved, then count how many “crash-points” each MR got."
   ]
  },
  {
   "cell_type": "code",
   "execution_count": 10,
   "id": "83e5ae3c",
   "metadata": {
    "ExecuteTime": {
     "end_time": "2022-03-16T16:44:45.366732Z",
     "start_time": "2022-03-16T16:44:44.080052Z"
    }
   },
   "outputs": [
    {
     "name": "stderr",
     "output_type": "stream",
     "text": [
      "/home/paltenmo/.local/lib/python3.8/site-packages/pandas/core/indexing.py:1773: SettingWithCopyWarning: \n",
      "A value is trying to be set on a copy of a slice from a DataFrame.\n",
      "Try using .loc[row_indexer,col_indexer] = value instead\n",
      "\n",
      "See the caveats in the documentation: https://pandas.pydata.org/pandas-docs/stable/user_guide/indexing.html#returning-a-view-versus-a-copy\n",
      "  self._setitem_single_column(ilocs[0], value, pi)\n"
     ]
    },
    {
     "data": {
      "text/html": [
       "<div>\n",
       "<style scoped>\n",
       "    .dataframe tbody tr th:only-of-type {\n",
       "        vertical-align: middle;\n",
       "    }\n",
       "\n",
       "    .dataframe tbody tr th {\n",
       "        vertical-align: top;\n",
       "    }\n",
       "\n",
       "    .dataframe thead th {\n",
       "        text-align: right;\n",
       "    }\n",
       "</style>\n",
       "<table border=\"1\" class=\"dataframe\">\n",
       "  <thead>\n",
       "    <tr style=\"text-align: right;\">\n",
       "      <th></th>\n",
       "      <th>program_id</th>\n",
       "      <th>generated_a_crash</th>\n",
       "      <th>exceptions.followup</th>\n",
       "      <th>followup.metamorphic_transformations</th>\n",
       "      <th>divergence.ks.p-value</th>\n",
       "    </tr>\n",
       "  </thead>\n",
       "  <tbody>\n",
       "    <tr>\n",
       "      <th>0</th>\n",
       "      <td>dac1a10f66ad4d7d96d85e8aed8116c6</td>\n",
       "      <td>False</td>\n",
       "      <td>None</td>\n",
       "      <td>ChangeOptLevel</td>\n",
       "      <td>1.000000</td>\n",
       "    </tr>\n",
       "    <tr>\n",
       "      <th>0</th>\n",
       "      <td>dac1a10f66ad4d7d96d85e8aed8116c6</td>\n",
       "      <td>False</td>\n",
       "      <td>None</td>\n",
       "      <td>ChangeCouplingMap</td>\n",
       "      <td>1.000000</td>\n",
       "    </tr>\n",
       "    <tr>\n",
       "      <th>0</th>\n",
       "      <td>dac1a10f66ad4d7d96d85e8aed8116c6</td>\n",
       "      <td>False</td>\n",
       "      <td>None</td>\n",
       "      <td>ToQasmAndBack</td>\n",
       "      <td>1.000000</td>\n",
       "    </tr>\n",
       "    <tr>\n",
       "      <th>1</th>\n",
       "      <td>2a3a0e3151ae481f9bf00521531eeebc</td>\n",
       "      <td>False</td>\n",
       "      <td>None</td>\n",
       "      <td>ChangeQubitOrder</td>\n",
       "      <td>0.578571</td>\n",
       "    </tr>\n",
       "    <tr>\n",
       "      <th>2</th>\n",
       "      <td>0ffd6f559939492ea2435d4352b499bb</td>\n",
       "      <td>False</td>\n",
       "      <td>None</td>\n",
       "      <td>ChangeQubitOrder</td>\n",
       "      <td>1.000000</td>\n",
       "    </tr>\n",
       "  </tbody>\n",
       "</table>\n",
       "</div>"
      ],
      "text/plain": [
       "                         program_id  generated_a_crash exceptions.followup  \\\n",
       "0  dac1a10f66ad4d7d96d85e8aed8116c6              False                None   \n",
       "0  dac1a10f66ad4d7d96d85e8aed8116c6              False                None   \n",
       "0  dac1a10f66ad4d7d96d85e8aed8116c6              False                None   \n",
       "1  2a3a0e3151ae481f9bf00521531eeebc              False                None   \n",
       "2  0ffd6f559939492ea2435d4352b499bb              False                None   \n",
       "\n",
       "  followup.metamorphic_transformations  divergence.ks.p-value  \n",
       "0                       ChangeOptLevel               1.000000  \n",
       "0                    ChangeCouplingMap               1.000000  \n",
       "0                        ToQasmAndBack               1.000000  \n",
       "1                     ChangeQubitOrder               0.578571  \n",
       "2                     ChangeQubitOrder               1.000000  "
      ]
     },
     "execution_count": 10,
     "metadata": {},
     "output_type": "execute_result"
    }
   ],
   "source": [
    "import ast\n",
    "\n",
    "COL_TRANSF = \"followup.metamorphic_transformations\"\n",
    "\n",
    "relevant_columns = [\n",
    "    \"program_id\",\n",
    "    \"generated_a_crash\",\n",
    "    \"exceptions.followup\",  \n",
    "    COL_TRANSF,\n",
    "    PVAL_COL\n",
    "]\n",
    "df = df_generated_programs[relevant_columns]\n",
    "df.loc[:, COL_TRANSF] = df[COL_TRANSF].apply(ast.literal_eval)\n",
    "df.loc[:, COL_TRANSF] = df[COL_TRANSF].apply(lambda e: list(set(e)))\n",
    "df_flat = df.explode(COL_TRANSF)\n",
    "df_flat.head()"
   ]
  },
  {
   "cell_type": "code",
   "execution_count": 11,
   "id": "c5d2348b",
   "metadata": {
    "ExecuteTime": {
     "end_time": "2022-03-16T16:44:47.967011Z",
     "start_time": "2022-03-16T16:44:45.368240Z"
    }
   },
   "outputs": [
    {
     "data": {
      "image/png": "[encoded data removed]",
      "text/plain": [
       "<Figure size 360x252 with 1 Axes>"
      ]
     },
     "metadata": {
      "needs_background": "light"
     },
     "output_type": "display_data"
    }
   ],
   "source": [
    "fig, ax = plt.subplots(figsize=(5, 3.5))\n",
    "\n",
    "def assign_class(row):\n",
    "    if row[\"generated_a_crash\"]:\n",
    "        return \"Crash difference\"\n",
    "    else:\n",
    "        if row[PVAL_COL] < ALPHA_LEVEL:\n",
    "            return \"Distribution diff.\"\n",
    "    return \"Same behavior\"\n",
    "\n",
    "\n",
    "df_flat[\"Execution comparison\"] = df_flat.apply(\n",
    "    lambda row: assign_class(row),\n",
    "    axis=1\n",
    ")\n",
    "\n",
    "df_flat[COL_TRANSF] = df_flat[COL_TRANSF].apply(\n",
    "    lambda e: MR_ALIAS[e] if e in MR_ALIAS.keys() else e\n",
    ")\n",
    "\n",
    "sns.countplot(\n",
    "    data=df_flat,\n",
    "    y=COL_TRANSF,\n",
    "    hue_order = [\"Same behavior\", \"Crash difference\", \"Distribution diff.\"],\n",
    "    hue='Execution comparison',\n",
    "    order=df_flat[df_flat['Execution comparison'] == \"Crash difference\"][COL_TRANSF].value_counts(ascending=True).index,\n",
    "    #palette=[\"darkorange\", \"forestgreen\", \"dodgerblue\"],\n",
    "    ax=ax\n",
    ")\n",
    "ax.set_xlabel(\"No. program pairs\")\n",
    "ax.set_ylabel(\"Metamorphic transformation\")\n",
    "#ax.legend(title=\"Lead to crash\")\n",
    "plt.tight_layout()\n",
    "#fig.savefig(os.path.join(OUT_FOLDER, \"RQ3_quantitative_most_crashing_MR.pdf\"))"
   ]
  },
  {
   "cell_type": "markdown",
   "id": "95eef7a5",
   "metadata": {},
   "source": [
    "# RQ: Time Cost per Component"
   ]
  },
  {
   "cell_type": "code",
   "execution_count": 12,
   "id": "0595e498",
   "metadata": {
    "ExecuteTime": {
     "end_time": "2022-03-16T16:44:47.986274Z",
     "start_time": "2022-03-16T16:44:47.968404Z"
    }
   },
   "outputs": [],
   "source": [
    "# IDEA: measure the time of each step and create a barchart with percentage and one with absolute values"
   ]
  },
  {
   "cell_type": "code",
   "execution_count": 13,
   "id": "11e982e9",
   "metadata": {
    "ExecuteTime": {
     "end_time": "2022-03-16T16:44:48.018204Z",
     "start_time": "2022-03-16T16:44:47.987969Z"
    }
   },
   "outputs": [
    {
     "data": {
      "text/html": [
       "<div>\n",
       "<style scoped>\n",
       "    .dataframe tbody tr th:only-of-type {\n",
       "        vertical-align: middle;\n",
       "    }\n",
       "\n",
       "    .dataframe tbody tr th {\n",
       "        vertical-align: top;\n",
       "    }\n",
       "\n",
       "    .dataframe thead th {\n",
       "        text-align: right;\n",
       "    }\n",
       "</style>\n",
       "<table border=\"1\" class=\"dataframe\">\n",
       "  <thead>\n",
       "    <tr style=\"text-align: right;\">\n",
       "      <th></th>\n",
       "      <th>program_id</th>\n",
       "      <th>time_exec</th>\n",
       "      <th>source.time_generation</th>\n",
       "      <th>followup.time_metamorph</th>\n",
       "      <th>generated_a_crash</th>\n",
       "    </tr>\n",
       "  </thead>\n",
       "  <tbody>\n",
       "    <tr>\n",
       "      <th>0</th>\n",
       "      <td>dac1a10f66ad4d7d96d85e8aed8116c6</td>\n",
       "      <td>0.602342</td>\n",
       "      <td>0.004162</td>\n",
       "      <td>0.022669</td>\n",
       "      <td>False</td>\n",
       "    </tr>\n",
       "    <tr>\n",
       "      <th>1</th>\n",
       "      <td>2a3a0e3151ae481f9bf00521531eeebc</td>\n",
       "      <td>1.748649</td>\n",
       "      <td>0.008869</td>\n",
       "      <td>0.043745</td>\n",
       "      <td>False</td>\n",
       "    </tr>\n",
       "    <tr>\n",
       "      <th>2</th>\n",
       "      <td>0ffd6f559939492ea2435d4352b499bb</td>\n",
       "      <td>0.364280</td>\n",
       "      <td>0.004916</td>\n",
       "      <td>0.023953</td>\n",
       "      <td>False</td>\n",
       "    </tr>\n",
       "    <tr>\n",
       "      <th>3</th>\n",
       "      <td>566cab9dc28640228674c71df7cad526</td>\n",
       "      <td>0.603391</td>\n",
       "      <td>0.006900</td>\n",
       "      <td>0.039534</td>\n",
       "      <td>False</td>\n",
       "    </tr>\n",
       "    <tr>\n",
       "      <th>4</th>\n",
       "      <td>1ed4c832cc714b67974c0b32b15447c8</td>\n",
       "      <td>0.759526</td>\n",
       "      <td>0.007959</td>\n",
       "      <td>0.050385</td>\n",
       "      <td>False</td>\n",
       "    </tr>\n",
       "  </tbody>\n",
       "</table>\n",
       "</div>"
      ],
      "text/plain": [
       "                         program_id  time_exec  source.time_generation  \\\n",
       "0  dac1a10f66ad4d7d96d85e8aed8116c6   0.602342                0.004162   \n",
       "1  2a3a0e3151ae481f9bf00521531eeebc   1.748649                0.008869   \n",
       "2  0ffd6f559939492ea2435d4352b499bb   0.364280                0.004916   \n",
       "3  566cab9dc28640228674c71df7cad526   0.603391                0.006900   \n",
       "4  1ed4c832cc714b67974c0b32b15447c8   0.759526                0.007959   \n",
       "\n",
       "   followup.time_metamorph  generated_a_crash  \n",
       "0                 0.022669              False  \n",
       "1                 0.043745              False  \n",
       "2                 0.023953              False  \n",
       "3                 0.039534              False  \n",
       "4                 0.050385              False  "
      ]
     },
     "execution_count": 13,
     "metadata": {},
     "output_type": "execute_result"
    }
   ],
   "source": [
    "relevant_time_cols = [\n",
    "    'program_id',\n",
    "    'time_exec',\n",
    "    'source.time_generation',\n",
    "    #'followup.time_generation', # this attribute is statically copied form source\n",
    "    'followup.time_metamorph',\n",
    "    #'divergence.ks.time',\n",
    "    'generated_a_crash'\n",
    "]\n",
    "\n",
    "df_time = df_generated_programs[relevant_time_cols]\n",
    "df_time.head()"
   ]
  },
  {
   "cell_type": "code",
   "execution_count": 14,
   "id": "6f51f5b8",
   "metadata": {
    "ExecuteTime": {
     "end_time": "2022-03-16T16:44:48.131764Z",
     "start_time": "2022-03-16T16:44:48.019571Z"
    }
   },
   "outputs": [
    {
     "data": {
      "text/html": [
       "<div>\n",
       "<style scoped>\n",
       "    .dataframe tbody tr th:only-of-type {\n",
       "        vertical-align: middle;\n",
       "    }\n",
       "\n",
       "    .dataframe tbody tr th {\n",
       "        vertical-align: top;\n",
       "    }\n",
       "\n",
       "    .dataframe thead th {\n",
       "        text-align: right;\n",
       "    }\n",
       "</style>\n",
       "<table border=\"1\" class=\"dataframe\">\n",
       "  <thead>\n",
       "    <tr style=\"text-align: right;\">\n",
       "      <th></th>\n",
       "      <th>program_id</th>\n",
       "      <th>generated_a_crash</th>\n",
       "      <th>variable</th>\n",
       "      <th>value</th>\n",
       "    </tr>\n",
       "  </thead>\n",
       "  <tbody>\n",
       "    <tr>\n",
       "      <th>0</th>\n",
       "      <td>dac1a10f66ad4d7d96d85e8aed8116c6</td>\n",
       "      <td>False</td>\n",
       "      <td>time_exec</td>\n",
       "      <td>602.342189</td>\n",
       "    </tr>\n",
       "    <tr>\n",
       "      <th>1</th>\n",
       "      <td>2a3a0e3151ae481f9bf00521531eeebc</td>\n",
       "      <td>False</td>\n",
       "      <td>time_exec</td>\n",
       "      <td>1748.648876</td>\n",
       "    </tr>\n",
       "    <tr>\n",
       "      <th>2</th>\n",
       "      <td>0ffd6f559939492ea2435d4352b499bb</td>\n",
       "      <td>False</td>\n",
       "      <td>time_exec</td>\n",
       "      <td>364.279979</td>\n",
       "    </tr>\n",
       "    <tr>\n",
       "      <th>3</th>\n",
       "      <td>566cab9dc28640228674c71df7cad526</td>\n",
       "      <td>False</td>\n",
       "      <td>time_exec</td>\n",
       "      <td>603.390702</td>\n",
       "    </tr>\n",
       "    <tr>\n",
       "      <th>4</th>\n",
       "      <td>1ed4c832cc714b67974c0b32b15447c8</td>\n",
       "      <td>False</td>\n",
       "      <td>time_exec</td>\n",
       "      <td>759.526142</td>\n",
       "    </tr>\n",
       "    <tr>\n",
       "      <th>5</th>\n",
       "      <td>d4aec57fb3fe4c4e979013a98d5d8450</td>\n",
       "      <td>False</td>\n",
       "      <td>time_exec</td>\n",
       "      <td>983.742525</td>\n",
       "    </tr>\n",
       "    <tr>\n",
       "      <th>6</th>\n",
       "      <td>ac02d65df0f44df28c38452fb20474f2</td>\n",
       "      <td>False</td>\n",
       "      <td>time_exec</td>\n",
       "      <td>300.404136</td>\n",
       "    </tr>\n",
       "    <tr>\n",
       "      <th>7</th>\n",
       "      <td>f7cc9181f23d4cc7bd44ad4d57a07e1f</td>\n",
       "      <td>False</td>\n",
       "      <td>time_exec</td>\n",
       "      <td>751.532161</td>\n",
       "    </tr>\n",
       "    <tr>\n",
       "      <th>8</th>\n",
       "      <td>a8c6d9d20ced47ba9abecb55c4aaf7b4</td>\n",
       "      <td>False</td>\n",
       "      <td>time_exec</td>\n",
       "      <td>809.211444</td>\n",
       "    </tr>\n",
       "    <tr>\n",
       "      <th>9</th>\n",
       "      <td>55af5879445741a8b77242484680c217</td>\n",
       "      <td>False</td>\n",
       "      <td>time_exec</td>\n",
       "      <td>731.259920</td>\n",
       "    </tr>\n",
       "    <tr>\n",
       "      <th>10</th>\n",
       "      <td>345183cc14304d69bad5cfe2d7eecbc8</td>\n",
       "      <td>False</td>\n",
       "      <td>time_exec</td>\n",
       "      <td>358.732120</td>\n",
       "    </tr>\n",
       "    <tr>\n",
       "      <th>11</th>\n",
       "      <td>7b0b9b56fd98434395c3046b58661202</td>\n",
       "      <td>False</td>\n",
       "      <td>time_exec</td>\n",
       "      <td>777.345161</td>\n",
       "    </tr>\n",
       "    <tr>\n",
       "      <th>12</th>\n",
       "      <td>7a33099e5a2640d2b6c8b5953df9b398</td>\n",
       "      <td>False</td>\n",
       "      <td>time_exec</td>\n",
       "      <td>511.757472</td>\n",
       "    </tr>\n",
       "    <tr>\n",
       "      <th>13</th>\n",
       "      <td>442abc03a28d40249d7f81165176dfb8</td>\n",
       "      <td>False</td>\n",
       "      <td>time_exec</td>\n",
       "      <td>499.846968</td>\n",
       "    </tr>\n",
       "    <tr>\n",
       "      <th>14</th>\n",
       "      <td>5c4a57677ea64304adc7b022ec21fb71</td>\n",
       "      <td>False</td>\n",
       "      <td>time_exec</td>\n",
       "      <td>517.171640</td>\n",
       "    </tr>\n",
       "    <tr>\n",
       "      <th>15</th>\n",
       "      <td>44cea4f47d044750af1bf0c8f8a3af79</td>\n",
       "      <td>False</td>\n",
       "      <td>time_exec</td>\n",
       "      <td>571.761242</td>\n",
       "    </tr>\n",
       "    <tr>\n",
       "      <th>16</th>\n",
       "      <td>c81762697432445e990add513b552961</td>\n",
       "      <td>False</td>\n",
       "      <td>time_exec</td>\n",
       "      <td>1178.014572</td>\n",
       "    </tr>\n",
       "    <tr>\n",
       "      <th>17</th>\n",
       "      <td>1da87df4df0b4e35bc63e34f4d5540c1</td>\n",
       "      <td>False</td>\n",
       "      <td>time_exec</td>\n",
       "      <td>338.064416</td>\n",
       "    </tr>\n",
       "    <tr>\n",
       "      <th>18</th>\n",
       "      <td>d34321f2686e4ecaa50ac9aabe461c10</td>\n",
       "      <td>False</td>\n",
       "      <td>time_exec</td>\n",
       "      <td>389.234665</td>\n",
       "    </tr>\n",
       "    <tr>\n",
       "      <th>19</th>\n",
       "      <td>bea0dee41fea4014bca4b3b330b2933b</td>\n",
       "      <td>False</td>\n",
       "      <td>time_exec</td>\n",
       "      <td>900.726287</td>\n",
       "    </tr>\n",
       "  </tbody>\n",
       "</table>\n",
       "</div>"
      ],
      "text/plain": [
       "                          program_id  generated_a_crash   variable  \\\n",
       "0   dac1a10f66ad4d7d96d85e8aed8116c6              False  time_exec   \n",
       "1   2a3a0e3151ae481f9bf00521531eeebc              False  time_exec   \n",
       "2   0ffd6f559939492ea2435d4352b499bb              False  time_exec   \n",
       "3   566cab9dc28640228674c71df7cad526              False  time_exec   \n",
       "4   1ed4c832cc714b67974c0b32b15447c8              False  time_exec   \n",
       "5   d4aec57fb3fe4c4e979013a98d5d8450              False  time_exec   \n",
       "6   ac02d65df0f44df28c38452fb20474f2              False  time_exec   \n",
       "7   f7cc9181f23d4cc7bd44ad4d57a07e1f              False  time_exec   \n",
       "8   a8c6d9d20ced47ba9abecb55c4aaf7b4              False  time_exec   \n",
       "9   55af5879445741a8b77242484680c217              False  time_exec   \n",
       "10  345183cc14304d69bad5cfe2d7eecbc8              False  time_exec   \n",
       "11  7b0b9b56fd98434395c3046b58661202              False  time_exec   \n",
       "12  7a33099e5a2640d2b6c8b5953df9b398              False  time_exec   \n",
       "13  442abc03a28d40249d7f81165176dfb8              False  time_exec   \n",
       "14  5c4a57677ea64304adc7b022ec21fb71              False  time_exec   \n",
       "15  44cea4f47d044750af1bf0c8f8a3af79              False  time_exec   \n",
       "16  c81762697432445e990add513b552961              False  time_exec   \n",
       "17  1da87df4df0b4e35bc63e34f4d5540c1              False  time_exec   \n",
       "18  d34321f2686e4ecaa50ac9aabe461c10              False  time_exec   \n",
       "19  bea0dee41fea4014bca4b3b330b2933b              False  time_exec   \n",
       "\n",
       "          value  \n",
       "0    602.342189  \n",
       "1   1748.648876  \n",
       "2    364.279979  \n",
       "3    603.390702  \n",
       "4    759.526142  \n",
       "5    983.742525  \n",
       "6    300.404136  \n",
       "7    751.532161  \n",
       "8    809.211444  \n",
       "9    731.259920  \n",
       "10   358.732120  \n",
       "11   777.345161  \n",
       "12   511.757472  \n",
       "13   499.846968  \n",
       "14   517.171640  \n",
       "15   571.761242  \n",
       "16  1178.014572  \n",
       "17   338.064416  \n",
       "18   389.234665  \n",
       "19   900.726287  "
      ]
     },
     "execution_count": 14,
     "metadata": {},
     "output_type": "execute_result"
    }
   ],
   "source": [
    "df_time_melt = pd.melt(\n",
    "    df_time, id_vars=['program_id', 'generated_a_crash'], \n",
    "    value_vars=relevant_time_cols.remove('program_id'))\n",
    "df_time_melt[\"value\"] = df_time_melt[\"value\"].apply(lambda e: 1000 * e)\n",
    "df_time_melt.head(20)"
   ]
  },
  {
   "cell_type": "code",
   "execution_count": 15,
   "id": "6f35b695",
   "metadata": {
    "ExecuteTime": {
     "end_time": "2022-03-16T16:44:51.552703Z",
     "start_time": "2022-03-16T16:44:48.133201Z"
    }
   },
   "outputs": [
    {
     "name": "stdout",
     "output_type": "stream",
     "text": [
      "% RQ3\n",
      "\\newcommand{\\avgTimeMsGenerationAndTransf}{36.8}\n",
      "\\newcommand{\\avgTimeMsGenerationOnly}{6.2}\n",
      "\\newcommand{\\avgTimeMsTransfOnly}{30.6}\n"
     ]
    },
    {
     "data": {
      "image/png": "[encoded data removed]",
      "text/plain": [
       "<Figure size 360x108 with 1 Axes>"
      ]
     },
     "metadata": {
      "needs_background": "light"
     },
     "output_type": "display_data"
    }
   ],
   "source": [
    "fig, ax = plt.subplots(figsize=(5, 1.5))\n",
    "\n",
    "mapping = {\n",
    "    \"source.time_generation\": 'Generation (source)',\n",
    "    \"followup.time_metamorph\": 'Transformation (follow-up)',\n",
    "    \"time_exec\": \"Execution\",\n",
    "    #\"divergence.ks.time\": \"Divergence Check\"\n",
    "}\n",
    "\n",
    "sns.barplot(\n",
    "    data=df_time_melt,\n",
    "    y='variable',\n",
    "    x='value',\n",
    "    order=list(mapping.keys()),\n",
    "    ax=ax\n",
    ")\n",
    "\n",
    "print(\"% RQ3\")\n",
    "avg_ms_gen_and_transf = df_time_melt[df_time_melt[\"variable\"].isin([\n",
    "    \"source.time_generation\", \n",
    "    \"followup.time_metamorph\"]\n",
    ")].groupby(by=\"program_id\").sum().reset_index()[\"value\"].mean()\n",
    "print(\"\\\\newcommand{\\\\avgTimeMsGenerationAndTransf}{\" + f\"{avg_ms_gen_and_transf:.1f}\" + \"}\")\n",
    "\n",
    "avg_ms_gen_only = df_time_melt[\n",
    "    df_time_melt[\"variable\"] == \"source.time_generation\"].reset_index()[\"value\"].mean()\n",
    "print(\"\\\\newcommand{\\\\avgTimeMsGenerationOnly}{\" + f\"{avg_ms_gen_only:.1f}\" + \"}\")\n",
    "avg_ms_transf_only = df_time_melt[\n",
    "    df_time_melt[\"variable\"] == \"followup.time_metamorph\"].reset_index()[\"value\"].mean()\n",
    "print(\"\\\\newcommand{\\\\avgTimeMsTransfOnly}{\" + f\"{avg_ms_transf_only:.1f}\" + \"}\")\n",
    "\n",
    "original_labels = ax.get_yticklabels()\n",
    "ax.set_yticklabels(labels=[\n",
    "    mapping.get(e._text, e._text)\n",
    "    for e in original_labels\n",
    "])\n",
    "ax.grid(axis='x', which='both')\n",
    "ax.set_xscale('log')\n",
    "ax.set_ylabel('Stage')\n",
    "ax.set_xlabel('Average time (ms) in log scale')\n",
    "\n",
    "plt.tight_layout()\n",
    "#fig.savefig(os.path.join(OUT_FOLDER, \"RQ4_time_analysis.pdf\"))"
   ]
  },
  {
   "cell_type": "markdown",
   "id": "00b4f822",
   "metadata": {},
   "source": [
    "# Sample some warinings for manual inspection\n",
    "Pick those which are raised by STATIC THRESHOLD but not by HOLM & CO"
   ]
  },
  {
   "cell_type": "code",
   "execution_count": 16,
   "id": "6624086b",
   "metadata": {
    "ExecuteTime": {
     "end_time": "2022-03-16T16:44:51.873808Z",
     "start_time": "2022-03-16T16:44:51.553886Z"
    }
   },
   "outputs": [
    {
     "data": {
      "text/plain": [
       "['1a23f0088de542e7a778ea2bbbea3538',\n",
       " '2d939ba211fe43868f151e8137dab409',\n",
       " 'fdc3d59c0e924819ab9809bb4d1c9bd3',\n",
       " 'bef8386c5f7346eba1df9def780bb84e',\n",
       " '6b66a08cb92c42bebaadb1bc5b2c5143',\n",
       " '8f10ee1b1f014c89bbf7b012c90ee028',\n",
       " 'd5515441b35a44dbbddcc39242190db2',\n",
       " '0ae6aeaaf6a84682b45578104ee70106',\n",
       " 'eb42857708c94b41a28fcd3704511f94',\n",
       " 'ae53f9caeccf45d0a8958aafa5aed828']"
      ]
     },
     "execution_count": 16,
     "metadata": {},
     "output_type": "execute_result"
    }
   ],
   "source": [
    "program_ids_static = get_alarms_with_method(\n",
    "    df=df_data, \n",
    "    pval_col=PVAL_COL,\n",
    "    alpha_level=ALPHA_LEVEL,\n",
    "    method='static')\n",
    "program_ids_static[:10]"
   ]
  },
  {
   "cell_type": "code",
   "execution_count": 19,
   "id": "101b8046",
   "metadata": {
    "ExecuteTime": {
     "end_time": "2022-03-16T16:45:20.641453Z",
     "start_time": "2022-03-16T16:45:20.613551Z"
    }
   },
   "outputs": [
    {
     "ename": "Exception",
     "evalue": "Official code is over here. Rest is extra.",
     "output_type": "error",
     "traceback": [
      "\u001b[0;31m---------------------------------------------------------------------------\u001b[0m",
      "\u001b[0;31mException\u001b[0m                                 Traceback (most recent call last)",
      "\u001b[0;32m/tmp/ipykernel_2785/1670339182.py\u001b[0m in \u001b[0;36m<module>\u001b[0;34m\u001b[0m\n\u001b[0;32m----> 1\u001b[0;31m \u001b[0;32mraise\u001b[0m \u001b[0mException\u001b[0m\u001b[0;34m(\u001b[0m\u001b[0;34m\"Official code is over here. Rest is extra.\"\u001b[0m\u001b[0;34m)\u001b[0m\u001b[0;34m\u001b[0m\u001b[0;34m\u001b[0m\u001b[0m\n\u001b[0m",
      "\u001b[0;31mException\u001b[0m: Official code is over here. Rest is extra."
     ]
    }
   ],
   "source": [
    "raise Exception(\"Official code is over here. Rest is extra.\")"
   ]
  },
  {
   "cell_type": "markdown",
   "id": "3e8ef6cd",
   "metadata": {
    "heading_collapsed": true
   },
   "source": [
    "# Miscellanea"
   ]
  },
  {
   "cell_type": "markdown",
   "id": "74f4bb9c",
   "metadata": {
    "hidden": true
   },
   "source": [
    "## Circuit image"
   ]
  },
  {
   "cell_type": "code",
   "execution_count": null,
   "id": "9156051d",
   "metadata": {
    "ExecuteTime": {
     "end_time": "2022-03-16T16:44:51.998515Z",
     "start_time": "2022-03-16T16:44:51.998501Z"
    },
    "hidden": true
   },
   "outputs": [],
   "source": [
    "from qiskit import QuantumCircuit, Aer, transpile\n",
    "from qiskit.tools.visualization import plot_histogram\n",
    "\n",
    "# Create circuit\n",
    "circ = QuantumCircuit(2)\n",
    "circ.h(0)\n",
    "circ.cx(0, 1)\n",
    "circ.measure_all()\n",
    "\n",
    "# Transpile for simulator\n",
    "simulator = Aer.get_backend('aer_simulator')\n",
    "circ = transpile(circ, simulator)\n",
    "\n",
    "# Run and get counts\n",
    "result = simulator.run(circ).result()\n",
    "result.get_counts(circ)"
   ]
  },
  {
   "cell_type": "code",
   "execution_count": null,
   "id": "4c07bc81",
   "metadata": {
    "ExecuteTime": {
     "end_time": "2022-03-16T16:44:51.999666Z",
     "start_time": "2022-03-16T16:44:51.999654Z"
    },
    "hidden": true,
    "scrolled": false
   },
   "outputs": [],
   "source": [
    "fig = plt.figure(constrained_layout=True, figsize=(7, 2.6))\n",
    "gs = fig.add_gridspec(1, 24)\n",
    "ax_circuit = fig.add_subplot(gs[:17])\n",
    "ax_histogram = fig.add_subplot(gs[17:])\n",
    "\n",
    "circ.draw(\n",
    "    output='mpl', \n",
    "    justify=None,\n",
    "    style={\"margin\": [1.23, 0, 0, 0]},\n",
    "    ax=ax_circuit\n",
    ")\n",
    "#ax_circuit.set_title(\"Gate Model\")\n",
    "\n",
    "\n",
    "plot_histogram(\n",
    "    counts, \n",
    "    #title='Output Distribution',\n",
    "    ax=ax_histogram    \n",
    ")\n",
    "\n",
    "plt.tight_layout()\n",
    "\n",
    "#fig.savefig(os.path.join(OUT_FOLDER, \"example_circuit.pdf\"))"
   ]
  },
  {
   "cell_type": "markdown",
   "id": "51ca8780",
   "metadata": {
    "hidden": true
   },
   "source": [
    "## RQ-A: how many syntactically different programs?\n",
    "can be generated by QMFuzz in a fixed time (2 days, as used by QDiff [31] for the execution)?"
   ]
  },
  {
   "cell_type": "code",
   "execution_count": null,
   "id": "8e4b251b",
   "metadata": {
    "ExecuteTime": {
     "end_time": "2022-03-16T16:44:52.000656Z",
     "start_time": "2022-03-16T16:44:52.000643Z"
    },
    "hidden": true
   },
   "outputs": [],
   "source": [
    "# IDEA: we could cluster them in different groups (e.g. single circuit, two circuits, etc...)\n",
    "# IDEA: we could check which gates were used by each group \n",
    "# (i.e. plot the statistic about the use of a certain type of gate)\n",
    "# plot the stats on the length of the sequence of operations, n.qubits"
   ]
  },
  {
   "cell_type": "code",
   "execution_count": null,
   "id": "b6135640",
   "metadata": {
    "ExecuteTime": {
     "end_time": "2022-03-16T16:44:52.001580Z",
     "start_time": "2022-03-16T16:44:52.001568Z"
    },
    "hidden": true
   },
   "outputs": [],
   "source": [
    "relevant_columns = [c for c in df_data.columns if c.startswith(\"source.\")]\n",
    "df_generated_programs = pd.concat(\n",
    "    [\n",
    "        df_data[relevant_columns].assign(crash_dataset=False),\n",
    "        df_crash[relevant_columns].assign(crash_dataset=True)\n",
    "    ],\n",
    "    axis=0\n",
    ")\n",
    "df_generated_programs.reset_index(drop=True, inplace=True)\n",
    "df_generated_programs.info()"
   ]
  },
  {
   "cell_type": "code",
   "execution_count": null,
   "id": "1a1b015f",
   "metadata": {
    "ExecuteTime": {
     "end_time": "2022-03-16T16:44:52.002697Z",
     "start_time": "2022-03-16T16:44:52.002684Z"
    },
    "hidden": true
   },
   "outputs": [],
   "source": [
    "def plot_numeric_attirbute(df, attribute, x_label=None, title=None, **pltargs):\n",
    "    \"\"\"Show the distplot of the given attribute.\"\"\"\n",
    "    ax = sns.histplot(\n",
    "        data=df,\n",
    "        x=attribute,\n",
    "        bins=np.arange(0.5, df_generated_programs[attribute].max() + 1),\n",
    "        **pltargs\n",
    "    )\n",
    "    if x_label:\n",
    "        ax.set_xlabel(x_label)\n",
    "    if title:\n",
    "        ax.set_title(title)"
   ]
  },
  {
   "cell_type": "code",
   "execution_count": null,
   "id": "e2955b80",
   "metadata": {
    "ExecuteTime": {
     "end_time": "2022-03-16T16:44:52.003662Z",
     "start_time": "2022-03-16T16:44:52.003649Z"
    },
    "hidden": true,
    "scrolled": true
   },
   "outputs": [],
   "source": [
    "fig, axes = plt.subplots(2, 1, figsize=(5,5))\n",
    "\n",
    "ax_gates, ax_qubits = axes\n",
    "plot_numeric_attirbute(\n",
    "    df=df_generated_programs, \n",
    "    attribute='source.n_ops', \n",
    "    x_label=\"Number of gates\",\n",
    "    ax=ax_gates)\n",
    "plot_numeric_attirbute(\n",
    "    df=df_generated_programs, \n",
    "    attribute='source.n_qubits', \n",
    "    x_label=\"Number of qubits\",\n",
    "    color='orange',\n",
    "    ax=ax_qubits)\n",
    "plt.tight_layout()\n",
    "#fig.savefig(os.path.join(OUT_FOLDER, \"RQ1_distribution_n_gates_n_qubits.pdf\"))"
   ]
  },
  {
   "cell_type": "markdown",
   "id": "e79e28ea",
   "metadata": {
    "hidden": true
   },
   "source": [
    "## RQ-B: how effective is the varying-threshold approach in reducing the number of false positives?"
   ]
  },
  {
   "cell_type": "code",
   "execution_count": null,
   "id": "9a2ff6a8",
   "metadata": {
    "ExecuteTime": {
     "end_time": "2022-03-16T16:44:52.004655Z",
     "start_time": "2022-03-16T16:44:52.004642Z"
    },
    "hidden": true
   },
   "outputs": [],
   "source": [
    "sns.histplot(\n",
    "    data=df_data,\n",
    "    x='divergence.ks.p-value'\n",
    ")"
   ]
  },
  {
   "cell_type": "code",
   "execution_count": null,
   "id": "22a504f8",
   "metadata": {
    "ExecuteTime": {
     "end_time": "2022-03-16T16:44:52.005359Z",
     "start_time": "2022-03-16T16:44:52.005347Z"
    },
    "hidden": true
   },
   "outputs": [],
   "source": [
    "static_treshold = 0.05\n",
    "\n",
    "threshold_col = \"divergence.ks.p-value\"\n",
    "df_programs_w_static_threshold = df_data[\n",
    "    df_data[threshold_col] <= static_treshold\n",
    "]\n",
    "n_alarms_w_static_threshold = len(df_programs_w_static_threshold)\n",
    "print(f\"STATIC THRESHOLD APPROACH produces {n_alarms_w_static_threshold} alarms.\")"
   ]
  },
  {
   "cell_type": "code",
   "execution_count": null,
   "id": "e894e9e1",
   "metadata": {
    "ExecuteTime": {
     "end_time": "2022-03-16T16:44:52.006344Z",
     "start_time": "2022-03-16T16:44:52.006332Z"
    },
    "code_folding": [
     27
    ],
    "hidden": true
   },
   "outputs": [],
   "source": [
    "method = 'holm'\n",
    "pval_col = threshold_col\n",
    "alpha_level = static_treshold\n",
    "\n",
    "def get_alarms_with_method(df, pval_col, alpha_level, method):\n",
    "    \"\"\"Get the program ids of the warnings raised by a method.\"\"\"\n",
    "    df_sorted_pvals = df.sort_values(by=[pval_col])\n",
    "    k = len(df_sorted_pvals)\n",
    "    i_star = None\n",
    "    program_ids = []\n",
    "    for i, (idx, row) in enumerate(df_sorted_pvals.iterrows()):\n",
    "        ordinal_i = i + 1\n",
    "        program_ids.append(row[\"program_id\"])\n",
    "        P_i = row[pval_col]\n",
    "        if method == 'holm':\n",
    "            threshold = alpha_level / (k - ordinal_i + 1)\n",
    "        elif method == 'bonferroni':\n",
    "            threshold = alpha_level / (k)\n",
    "        elif method == 'bh':\n",
    "            threshold = (alpha_level / (k)) * ordinal_i\n",
    "        # print(f\"(i: {ordinal_i}) current p-value: {P_i} vs threshold: {threshold}\")\n",
    "        elif method == 'static':\n",
    "            threshold = alpha_level        \n",
    "        if P_i > threshold:\n",
    "            i_star = i\n",
    "            #print(f\"i*: {i_star}\")\n",
    "            break\n",
    "    return program_ids\n",
    "\n",
    "\n",
    "def count_alarm_with_method(df, pval_col, alpha_level, method):\n",
    "    \"\"\"Count the number of warnings raised by a method.\"\"\"\n",
    "    return len(get_alarms_with_method(\n",
    "        df=df,\n",
    "        pval_col=pval_col,\n",
    "        alpha_level=alpha_level,\n",
    "        method=method        \n",
    "    ))  \n",
    "\n",
    "\n",
    "def get_first_n(df, col_time, n=1000):\n",
    "    \"\"\"Get the first n records as ordered by the time column.\"\"\"\n",
    "    return df.sort_values(by=col_time).iloc[:n]\n",
    "\n",
    "#n_alarms_w_varying_threshold = i_star\n",
    "#print(f\"VARYING THRESHOLD APPROACH produces {n_alarms_w_varying_threshold} alarms.\")"
   ]
  },
  {
   "cell_type": "code",
   "execution_count": null,
   "id": "f3377a5f",
   "metadata": {
    "ExecuteTime": {
     "end_time": "2022-03-16T16:44:52.007372Z",
     "start_time": "2022-03-16T16:44:52.007361Z"
    },
    "hidden": true
   },
   "outputs": [],
   "source": [
    "fig, ax = plt.subplots(figsize=(5, 3))\n",
    "\n",
    "mapping = {\n",
    "    \"bonferroni\": 'Bonferroni',\n",
    "    \"holm\": 'Holm',\n",
    "    \"bh\": \"BH\"\n",
    "}\n",
    "\n",
    "methods_to_try = ['bonferroni', 'holm', 'bh']\n",
    "n_alarms_w_methods = [\n",
    "    count_alarm_with_method(\n",
    "        df=df_data, \n",
    "        pval_col=threshold_col,\n",
    "        alpha_level=static_treshold,\n",
    "        method=m) for m in methods_to_try]\n",
    "\n",
    "\n",
    "n_alarms = [n_alarms_w_static_threshold] + n_alarms_w_methods\n",
    "bars = ['Static\\nthreshold'] + list(map(mapping.get, methods_to_try))\n",
    "y_pos = np.arange(len(bars))\n",
    "\n",
    "reductions = [\n",
    "    ((n_alarms_w_static_threshold - abs_val) / n_alarms_w_static_threshold) * 100\n",
    "    for abs_val in n_alarms\n",
    "]\n",
    "bars = [l + f\"\\n(-{red:.1f}%)\" if red > 0 else l\n",
    "        for l, red in zip(bars, reductions)]\n",
    "\n",
    "ax.bar(y_pos, n_alarms, color=sns.color_palette()[:len(bars)])\n",
    "ax.grid(axis='y')\n",
    "ax.set_ylabel(\"Number of warnings\")\n",
    "ax.set_xlabel(f\"Threshold method (alpha = {static_treshold})\")\n",
    "plt.xticks(y_pos, bars)\n",
    "plt.show()\n",
    "#fig.savefig(os.path.join(OUT_FOLDER, \"RQ3_n_alarms_per_threshold_approach.pdf\"))"
   ]
  },
  {
   "cell_type": "markdown",
   "id": "f792b260",
   "metadata": {
    "hidden": true
   },
   "source": [
    "## RQ-B.2 compute the reduction as a function of n pairs"
   ]
  },
  {
   "cell_type": "code",
   "execution_count": null,
   "id": "43582331",
   "metadata": {
    "ExecuteTime": {
     "end_time": "2022-03-16T16:44:52.008364Z",
     "start_time": "2022-03-16T16:44:52.008346Z"
    },
    "hidden": true
   },
   "outputs": [],
   "source": [
    "df_data.shape"
   ]
  },
  {
   "cell_type": "code",
   "execution_count": null,
   "id": "5d1c2baf",
   "metadata": {
    "ExecuteTime": {
     "end_time": "2022-03-16T16:44:52.009344Z",
     "start_time": "2022-03-16T16:44:52.009327Z"
    },
    "hidden": true
   },
   "outputs": [],
   "source": [
    "mapping = {\n",
    "    \"bonferroni\": 'Bonferroni',\n",
    "    \"holm\": 'Holm',\n",
    "    \"bh\": \"BH\",\n",
    "    \"static\": \"Static Threshold\"\n",
    "}\n",
    "\n",
    "tot_n_records = len(df_data)\n",
    "print(f\"The dataset has {tot_n_records} records in total.\")\n",
    "\n",
    "methods_to_try = mapping.keys()\n",
    "\n",
    "records = []\n",
    "for n in tqdm(np.arange(100, tot_n_records, 100)):\n",
    "    new_record = {\"n\": n}\n",
    "    for method in methods_to_try:\n",
    "        c_method_n_warinings = count_alarm_with_method(\n",
    "            df=get_first_n(\n",
    "                df=df_data, col_time=\"abs_start_time\", n=n), \n",
    "            pval_col=PVAL_COL,\n",
    "            alpha_level=ALPHA_LEVEL,\n",
    "            method=method)\n",
    "        new_record[method] = c_method_n_warinings\n",
    "    records.append(new_record)\n",
    "    \n",
    "df_warnings_w_n = pd.DataFrame.from_records(records)\n",
    "df_warnings_w_n = df_warnings_w_n.rename(columns=mapping)\n",
    "df_warnings_w_n = pd.melt(\n",
    "    df_warnings_w_n, \n",
    "    id_vars=['n'], \n",
    "    value_vars=[v for k, v in mapping.items()])\n",
    "df_warnings_w_n.head()\n"
   ]
  },
  {
   "cell_type": "code",
   "execution_count": null,
   "id": "5b6e5c8e",
   "metadata": {
    "ExecuteTime": {
     "end_time": "2022-03-16T16:44:52.010712Z",
     "start_time": "2022-03-16T16:44:52.010693Z"
    },
    "hidden": true,
    "scrolled": true
   },
   "outputs": [],
   "source": [
    "fig, ax = plt.subplots(figsize=(5, 3))\n",
    "\n",
    "sns.lineplot(\n",
    "    data=df_warnings_w_n.rename(columns={\n",
    "        'variable': 'Method'\n",
    "    }),\n",
    "    x='n',\n",
    "    y='value',\n",
    "    hue=\"Method\",\n",
    "    ax=ax\n",
    ")\n",
    "ax.set_ylabel('Number of warnings')\n",
    "ax.set_xlabel('Number of (non-crashing) programs pairs')\n",
    "plt.tight_layout()\n",
    "#fig.savefig(os.path.join(OUT_FOLDER, \"RQ3_n_warning_as_function_of_n.pdf\"))"
   ]
  },
  {
   "cell_type": "markdown",
   "id": "19f2dd86",
   "metadata": {
    "hidden": true
   },
   "source": [
    "## Sample warning with Bonferroni"
   ]
  },
  {
   "cell_type": "code",
   "execution_count": null,
   "id": "4842111d",
   "metadata": {
    "ExecuteTime": {
     "end_time": "2022-03-16T16:44:52.011845Z",
     "start_time": "2022-03-16T16:44:52.011827Z"
    },
    "hidden": true
   },
   "outputs": [],
   "source": [
    "program_ids_bonferroni = get_alarms_with_method(\n",
    "    df=df_data, \n",
    "    pval_col=PVAL_COL,\n",
    "    alpha_level=ALPHA_LEVEL,\n",
    "    method='bonferroni')\n",
    "program_ids_bonferroni"
   ]
  },
  {
   "cell_type": "code",
   "execution_count": null,
   "id": "6eb83553",
   "metadata": {
    "ExecuteTime": {
     "end_time": "2022-03-16T16:44:52.012726Z",
     "start_time": "2022-03-16T16:44:52.012710Z"
    },
    "hidden": true
   },
   "outputs": [],
   "source": [
    "static_and_not_bonferroni = np.array(list(set(program_ids_static).difference(set(program_ids_bonferroni))))\n",
    "SAMPLE_SIZE = 20\n",
    "to_inspect = list(np.random.choice(static_and_not_bonferroni, size=SAMPLE_SIZE, replace=False))\n",
    "print(EXP_FOLDER)\n",
    "to_inspect"
   ]
  },
  {
   "cell_type": "markdown",
   "id": "f2d43b1d",
   "metadata": {
    "hidden": true
   },
   "source": [
    "## Average no. transf. families applied together"
   ]
  },
  {
   "cell_type": "code",
   "execution_count": null,
   "id": "1fdbe32a",
   "metadata": {
    "ExecuteTime": {
     "end_time": "2022-03-16T16:44:52.013790Z",
     "start_time": "2022-03-16T16:44:52.013773Z"
    },
    "hidden": true
   },
   "outputs": [],
   "source": [
    "ALL_TRANSFORMATIONS = list(df_flat[COL_TRANSF].unique())\n",
    "\n",
    "n_other_transf = []\n",
    "\n",
    "for transf in ALL_TRANSFORMATIONS:\n",
    "    program_ids_w_transf = df_flat[df_flat[COL_TRANSF] == transf][\"program_id\"]\n",
    "    df_program_w_this_transf = df[df[\"program_id\"].isin(program_ids_w_transf)]\n",
    "    df_program_w_this_transf[\"n_transf\"] = df_program_w_this_transf[COL_TRANSF].apply(\n",
    "        lambda e: len(e)\n",
    "    )\n",
    "    avg_n_other_transf = float(df_program_w_this_transf[\"n_transf\"].mean())\n",
    "    n_other_transf.append(avg_n_other_transf)"
   ]
  },
  {
   "cell_type": "code",
   "execution_count": null,
   "id": "34c1dda6",
   "metadata": {
    "ExecuteTime": {
     "end_time": "2022-03-16T16:44:52.015182Z",
     "start_time": "2022-03-16T16:44:52.015164Z"
    },
    "hidden": true,
    "scrolled": true
   },
   "outputs": [],
   "source": [
    "fig, ax = plt.subplots(figsize=(5, 5))\n",
    "ax.barh(\n",
    "    y=ALL_TRANSFORMATIONS,\n",
    "    width=n_other_transf    \n",
    ")"
   ]
  },
  {
   "cell_type": "markdown",
   "id": "8cedeb75",
   "metadata": {
    "hidden": true
   },
   "source": [
    "## Sankey: CrashMsg <==> MR"
   ]
  },
  {
   "cell_type": "code",
   "execution_count": null,
   "id": "6f1c5f11",
   "metadata": {
    "ExecuteTime": {
     "end_time": "2022-03-16T16:44:52.018446Z",
     "start_time": "2022-03-16T16:44:52.018427Z"
    },
    "hidden": true
   },
   "outputs": [],
   "source": [
    "relevant_columns = list(df_bugs.columns)\n",
    "relevant_columns.remove(\"program_id\")\n",
    "df_crash_to_MR = pd.merge(\n",
    "    left=df_crash_norm,\n",
    "    right=df_bugs[relevant_columns],\n",
    "    left_on=\"exceptions.followup\",\n",
    "    right_on=\"crash_category\",\n",
    ")\n",
    "df_crash_to_MR = df_crash_to_MR.groupby(\n",
    "    by=[\"crash_category\", \"mr_used\", \"status\"]\n",
    ")[\"program_id\"].count().reset_index().rename(columns={\n",
    "    \"program_id\": \"count\"\n",
    "})\n",
    "df_crash_to_MR.head(20)"
   ]
  },
  {
   "cell_type": "code",
   "execution_count": null,
   "id": "46c90613",
   "metadata": {
    "ExecuteTime": {
     "end_time": "2022-03-16T16:44:52.019565Z",
     "start_time": "2022-03-16T16:44:52.019547Z"
    },
    "code_folding": [
     0,
     6
    ],
    "hidden": true
   },
   "outputs": [],
   "source": [
    "all_labels = list(set(\n",
    "    df_crash_to_MR[\"mr_used\"].tolist() + \n",
    "    df_crash_to_MR[\"crash_category\"].tolist() +\n",
    "    df_crash_to_MR[\"status\"].tolist()\n",
    "))\n",
    "\n",
    "mapping_labels_to_node_ids = {\n",
    "    e: i\n",
    "    for i, e in enumerate(all_labels)\n",
    "}"
   ]
  },
  {
   "cell_type": "code",
   "execution_count": null,
   "id": "faf54645",
   "metadata": {
    "ExecuteTime": {
     "end_time": "2022-03-16T16:44:52.020557Z",
     "start_time": "2022-03-16T16:44:52.020539Z"
    },
    "hidden": true
   },
   "outputs": [],
   "source": [
    "mapping_labels_to_node_ids"
   ]
  },
  {
   "cell_type": "code",
   "execution_count": null,
   "id": "2e9f1128",
   "metadata": {
    "ExecuteTime": {
     "end_time": "2022-03-16T16:44:52.021623Z",
     "start_time": "2022-03-16T16:44:52.021605Z"
    },
    "code_folding": [
     4,
     19
    ],
    "hidden": true
   },
   "outputs": [],
   "source": [
    "import plotly.graph_objects as go\n",
    "\n",
    "crash_msg_true_bugs = list(df_bugs[df_bugs[\"status\"] == \"confirmed\"][\"crash_category\"])\n",
    "\n",
    "fig = go.Figure(data=[go.Sankey(\n",
    "    node = dict(\n",
    "      pad = 10,\n",
    "      thickness = 30,\n",
    "      line = dict(color = \"black\", width = 0),\n",
    "      label = list(mapping_labels_to_node_ids.keys()),\n",
    "      color = [\"orange\" if node_name in crash_msg_true_bugs else 'gray'\n",
    "               for node_name in mapping_labels_to_node_ids.keys()]\n",
    "    ),\n",
    "    link = dict(\n",
    "      target = df_crash_to_MR[\"mr_used\"].map(mapping_labels_to_node_ids),\n",
    "      source = df_crash_to_MR[\"crash_category\"].map(mapping_labels_to_node_ids), # indices correspond to labels, eg A1, A2, A1, B1, ...\n",
    "      value = df_crash_to_MR[\"count\"]\n",
    "  ))])\n",
    "\n",
    "fig.update_layout(\n",
    "    autosize=False,\n",
    "    width=520,\n",
    "    height=400,\n",
    "    margin=dict(l=20, r=20, t=20, b=20)\n",
    ")\n",
    "\n",
    "fig.show()\n",
    "#fig.write_image(os.path.join(OUT_FOLDER, \"RQ3_sankey_crash_to_MR.pdf\"))"
   ]
  },
  {
   "cell_type": "markdown",
   "id": "5f0199d4",
   "metadata": {
    "hidden": true
   },
   "source": [
    "## How crashes lead to the different bugs?"
   ]
  },
  {
   "cell_type": "code",
   "execution_count": null,
   "id": "2eaf0785",
   "metadata": {
    "ExecuteTime": {
     "end_time": "2022-03-16T16:44:52.022714Z",
     "start_time": "2022-03-16T16:44:52.022696Z"
    },
    "code_folding": [
     2
    ],
    "hidden": true
   },
   "outputs": [],
   "source": [
    "from copy import deepcopy\n",
    "\n",
    "def normalize_names(df: pd.DataFrame, col: str, mapping:List[Tuple[str, str]]):\n",
    "    \"\"\"Replace the value of the given column according to the mapping.\n",
    "    \n",
    "    Each cell that contains the first string, will be replaced completely \n",
    "    with the second string of the tuple.\"\"\"\n",
    "    df = deepcopy(df)\n",
    "    for hook, replacement in mapping:\n",
    "        if isinstance(hook, list):\n",
    "            for sub_hook in hook:\n",
    "                df.loc[df[col].str.contains(sub_hook), col] = replacement\n",
    "        else:\n",
    "            df.loc[df[col].str.contains(hook), col] = replacement\n",
    "    return df"
   ]
  },
  {
   "cell_type": "code",
   "execution_count": null,
   "id": "8c4a4428",
   "metadata": {
    "ExecuteTime": {
     "end_time": "2022-03-16T16:44:52.023873Z",
     "start_time": "2022-03-16T16:44:52.023855Z"
    },
    "hidden": true
   },
   "outputs": [],
   "source": [
    "from collections import Counter\n",
    "\n",
    "K = 10\n",
    "print(f\"TOP {K} CRASH MESSAGES (without normalization)\")\n",
    "c = Counter(df_crash[\"exceptions.followup\"])\n",
    "c.most_common(3)"
   ]
  },
  {
   "cell_type": "code",
   "execution_count": null,
   "id": "c02f3616",
   "metadata": {
    "ExecuteTime": {
     "end_time": "2022-03-16T16:44:52.024781Z",
     "start_time": "2022-03-16T16:44:52.024763Z"
    },
    "hidden": true,
    "scrolled": true
   },
   "outputs": [],
   "source": [
    "exception_mapping = list(zip(df_bugs[\"hook_hint\"], df_bugs[\"crash_category\"]))\n",
    "# remove spurious tuple (\"-\", \"-\") comuning from bugs detected via divergence\n",
    "# in the dataset\n",
    "exception_mapping = [\n",
    "    e\n",
    "    for e in exception_mapping\n",
    "    if (e[0] != \"-\" and e[1] != \"-\")\n",
    "]\n",
    "# separate those with multiple hooks separated by the comma\n",
    "# this happens because we might have multiple messages which maps back to the\n",
    "# same crash category\n",
    "exception_mapping = [\n",
    "    (e[0].split(\",\"), e[1]) if \",\" in e[0] else e \n",
    "    for e in exception_mapping\n",
    "]\n",
    "\n",
    "[print(e[0], \" > \", e[1]) for e in exception_mapping]\n",
    "\n",
    "df_crash_norm = normalize_names(\n",
    "    df=df_first_2_days_crash, \n",
    "    col=\"exceptions.followup\",\n",
    "    mapping=exception_mapping\n",
    ")\n",
    "\n",
    "fig, ax = plt.subplots(figsize=(5, 3.5))\n",
    "\n",
    "sns.countplot(\n",
    "    data=df_crash_norm,\n",
    "    y=\"exceptions.followup\",\n",
    "    ax=ax\n",
    ")\n",
    "ax.set_ylabel(\"Crash Message Category\")\n",
    "ax.set_xlabel(\"No. crashes\")\n",
    "ax.grid(axis='x')\n",
    "ax.set_xscale('log')\n",
    "#ax.set_xlim(0, 100)\n",
    "#ax.set_title(\"Crash Messages (Normalized)\")\n",
    "plt.tight_layout()\n",
    "#fig.savefig(os.path.join(OUT_FOLDER, \"RQ2_count_plot_crash_messages.pdf\"))"
   ]
  }
 ],
 "metadata": {
  "kernelspec": {
   "display_name": "Python 3 (ipykernel)",
   "language": "python",
   "name": "python3"
  },
  "language_info": {
   "codemirror_mode": {
    "name": "ipython",
    "version": 3
   },
   "file_extension": ".py",
   "mimetype": "text/x-python",
   "name": "python",
   "nbconvert_exporter": "python",
   "pygments_lexer": "ipython3",
   "version": "3.8.0"
  },
  "toc": {
   "base_numbering": 1,
   "nav_menu": {},
   "number_sections": true,
   "sideBar": true,
   "skip_h1_title": false,
   "title_cell": "Table of Contents",
   "title_sidebar": "Contents",
   "toc_cell": false,
   "toc_position": {
    "height": "calc(100% - 180px)",
    "left": "10px",
    "top": "150px",
    "width": "288px"
   },
   "toc_section_display": true,
   "toc_window_display": true
  }
 },
 "nbformat": 4,
 "nbformat_minor": 5
}
