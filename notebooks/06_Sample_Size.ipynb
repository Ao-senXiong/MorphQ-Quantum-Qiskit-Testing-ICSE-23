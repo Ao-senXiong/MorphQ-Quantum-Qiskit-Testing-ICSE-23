{
 "cells": [
  {
   "cell_type": "markdown",
   "id": "d83ec80a",
   "metadata": {},
   "source": [
    "# QDiff formula\n",
    "They estimate the number of shots they need to compare two distributions with a formula from previous work:\n",
    "\n",
    "- m = number of qubits\n",
    "- t = 0.1  (user-defined threshold)\n",
    "- p = ⅔ it represents “confidence”, set from previous work in quantum volume tests\n",
    "- A = platform specific constant … maybe depending n the error rate (?)"
   ]
  },
  {
   "cell_type": "code",
   "execution_count": 1,
   "id": "cda20d9b",
   "metadata": {
    "ExecuteTime": {
     "end_time": "2021-11-08T14:14:41.056314Z",
     "start_time": "2021-11-08T14:14:41.051784Z"
    }
   },
   "outputs": [],
   "source": [
    "A = 12\n",
    "t = 0.1\n",
    "p = 2/3\n"
   ]
  },
  {
   "cell_type": "code",
   "execution_count": 3,
   "id": "e5fe8eb5",
   "metadata": {
    "ExecuteTime": {
     "end_time": "2021-11-08T14:16:20.915189Z",
     "start_time": "2021-11-08T14:16:20.909681Z"
    }
   },
   "outputs": [],
   "source": [
    "from math import sqrt\n",
    "\n",
    "def f(m, A=A, t=t, p=p):\n",
    "    return A * (1 / sqrt(1 - p)) * sqrt(m) * t**(-2)"
   ]
  },
  {
   "cell_type": "code",
   "execution_count": 4,
   "id": "a85c30bb",
   "metadata": {
    "ExecuteTime": {
     "end_time": "2021-11-08T14:17:05.420301Z",
     "start_time": "2021-11-08T14:17:05.412194Z"
    }
   },
   "outputs": [
    {
     "name": "stdout",
     "output_type": "stream",
     "text": [
      "For 5 qubits we need 4647.5800154489 samples\n",
      "For 10 qubits we need 6572.670690061992 samples\n",
      "For 15 qubits we need 8049.84471899924 samples\n",
      "For 20 qubits we need 9295.1600308978 samples\n"
     ]
    }
   ],
   "source": [
    "for n_quibits in range(5, 25, 5):\n",
    "    print(f\"For {n_quibits} qubits we need {f(n_quibits)} samples\")"
   ]
  },
  {
   "cell_type": "code",
   "execution_count": null,
   "id": "ee368d4d",
   "metadata": {},
   "outputs": [],
   "source": []
  }
 ],
 "metadata": {
  "kernelspec": {
   "display_name": "Python 3 (ipykernel)",
   "language": "python",
   "name": "python3"
  },
  "language_info": {
   "codemirror_mode": {
    "name": "ipython",
    "version": 3
   },
   "file_extension": ".py",
   "mimetype": "text/x-python",
   "name": "python",
   "nbconvert_exporter": "python",
   "pygments_lexer": "ipython3",
   "version": "3.8.0"
  },
  "toc": {
   "base_numbering": 1,
   "nav_menu": {},
   "number_sections": true,
   "sideBar": true,
   "skip_h1_title": false,
   "title_cell": "Table of Contents",
   "title_sidebar": "Contents",
   "toc_cell": false,
   "toc_position": {},
   "toc_section_display": true,
   "toc_window_display": false
  }
 },
 "nbformat": 4,
 "nbformat_minor": 5
}
