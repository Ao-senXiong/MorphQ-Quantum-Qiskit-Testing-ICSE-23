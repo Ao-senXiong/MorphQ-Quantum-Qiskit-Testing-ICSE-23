{
 "cells": [
  {
   "cell_type": "code",
   "execution_count": 1,
   "id": "c5726275",
   "metadata": {
    "ExecuteTime": {
     "end_time": "2022-03-09T10:39:49.775270Z",
     "start_time": "2022-03-09T10:39:45.365766Z"
    }
   },
   "outputs": [],
   "source": [
    "import project_path\n",
    "\n",
    "import matplotlib.pyplot as plt\n",
    "import numpy as np\n",
    "import os\n",
    "import pandas as pd\n",
    "import seaborn as sns\n",
    "import sqlite3 as sl\n",
    "from tqdm import tqdm\n",
    "from typing import List, Any, Tuple, Dict\n",
    "\n",
    "from lib.utils import iterate_over\n",
    "from lib.utils import load_config_and_check\n",
    "from lib.inspector import Inspector\n",
    "\n",
    "%load_ext autoreload\n",
    "%autoreload 2"
   ]
  },
  {
   "cell_type": "markdown",
   "id": "41f5a47e",
   "metadata": {},
   "source": [
    "# Parameters"
   ]
  },
  {
   "cell_type": "code",
   "execution_count": 77,
   "id": "14b6ca87",
   "metadata": {
    "ExecuteTime": {
     "end_time": "2022-03-09T18:57:43.157632Z",
     "start_time": "2022-03-09T18:57:43.117658Z"
    }
   },
   "outputs": [],
   "source": [
    "EXP_FOLDER = \"qmt_v12\" \n",
    "SQL_PATH = os.path.join(\"..\", \"data\", EXP_FOLDER, \"qfl.db\")\n",
    "LOG_PATH = os.path.join(\"..\", \"data\", EXP_FOLDER, \"log_fuzzy.txt\")\n",
    "SQL_CONNECTION = sl.connect(SQL_PATH)\n"
   ]
  },
  {
   "cell_type": "code",
   "execution_count": 78,
   "id": "c5e64709",
   "metadata": {
    "ExecuteTime": {
     "end_time": "2022-03-09T18:57:44.381799Z",
     "start_time": "2022-03-09T18:57:44.351409Z"
    }
   },
   "outputs": [],
   "source": [
    "OUT_FOLDER = \"../data/paper_images\"\n",
    "PVAL_COL = \"divergence.ks.p-value\" \n",
    "ALPHA_LEVEL = 0.05"
   ]
  },
  {
   "cell_type": "markdown",
   "id": "8c04263e",
   "metadata": {},
   "source": [
    "# Load Data"
   ]
  },
  {
   "cell_type": "code",
   "execution_count": 79,
   "id": "a4adc75e",
   "metadata": {
    "ExecuteTime": {
     "end_time": "2022-03-09T18:57:46.619242Z",
     "start_time": "2022-03-09T18:57:46.331393Z"
    }
   },
   "outputs": [],
   "source": [
    "df_crash = pd.read_sql(\"\"\"SELECT * from CRASHDATA\"\"\", SQL_CONNECTION)\n",
    "df_data = pd.read_sql(\"\"\"SELECT * from QFLDATA\"\"\", SQL_CONNECTION)\n",
    "LOG_CONTENT = open(LOG_PATH, 'r').read()\n",
    "LOG_LINES = LOG_CONTENT.split(\"\\n\")"
   ]
  },
  {
   "cell_type": "markdown",
   "id": "74f4bb9c",
   "metadata": {},
   "source": [
    "# Preface"
   ]
  },
  {
   "cell_type": "code",
   "execution_count": 62,
   "id": "9156051d",
   "metadata": {
    "ExecuteTime": {
     "end_time": "2022-03-09T15:03:15.957158Z",
     "start_time": "2022-03-09T15:03:15.904125Z"
    }
   },
   "outputs": [
    {
     "data": {
      "text/plain": [
       "{'00': 530, '11': 494}"
      ]
     },
     "execution_count": 62,
     "metadata": {},
     "output_type": "execute_result"
    }
   ],
   "source": [
    "from qiskit import QuantumCircuit, Aer, transpile\n",
    "from qiskit.tools.visualization import plot_histogram\n",
    "\n",
    "# Create circuit\n",
    "circ = QuantumCircuit(2)\n",
    "circ.h(0)\n",
    "circ.cx(0, 1)\n",
    "circ.measure_all()\n",
    "\n",
    "# Transpile for simulator\n",
    "simulator = Aer.get_backend('aer_simulator')\n",
    "circ = transpile(circ, simulator)\n",
    "\n",
    "# Run and get counts\n",
    "result = simulator.run(circ).result()\n",
    "result.get_counts(circ)"
   ]
  },
  {
   "cell_type": "code",
   "execution_count": 76,
   "id": "4c07bc81",
   "metadata": {
    "ExecuteTime": {
     "end_time": "2022-03-09T15:14:49.746172Z",
     "start_time": "2022-03-09T15:14:48.922816Z"
    }
   },
   "outputs": [
    {
     "name": "stderr",
     "output_type": "stream",
     "text": [
      "/tmp/ipykernel_23792/708910746.py:21: UserWarning: Tight layout not applied. tight_layout cannot make axes width small enough to accommodate all axes decorations\n",
      "  plt.tight_layout()\n"
     ]
    },
    {
     "data": {
      "image/png": "[encoded data removed]",
      "text/plain": [
       "<Figure size 504x187.2 with 2 Axes>"
      ]
     },
     "metadata": {
      "needs_background": "light"
     },
     "output_type": "display_data"
    }
   ],
   "source": [
    "fig = plt.figure(constrained_layout=True, figsize=(7, 2.6))\n",
    "gs = fig.add_gridspec(1, 24)\n",
    "ax_circuit = fig.add_subplot(gs[:17])\n",
    "ax_histogram = fig.add_subplot(gs[17:])\n",
    "\n",
    "circ.draw(\n",
    "    output='mpl', \n",
    "    justify=None,\n",
    "    style={\"margin\": [1.23, 0, 0, 0]},\n",
    "    ax=ax_circuit\n",
    ")\n",
    "#ax_circuit.set_title(\"Gate Model\")\n",
    "\n",
    "\n",
    "plot_histogram(\n",
    "    counts, \n",
    "    #title='Output Distribution',\n",
    "    ax=ax_histogram    \n",
    ")\n",
    "\n",
    "plt.tight_layout()\n",
    "\n",
    "fig.savefig(os.path.join(OUT_FOLDER, \"example_circuit.pdf\"))"
   ]
  },
  {
   "cell_type": "markdown",
   "id": "51ca8780",
   "metadata": {},
   "source": [
    "# RQ1: how many syntactically different programs?\n",
    "can be generated by QMFuzz in a fixed time (2 days, as used by QDiff [31] for the execution)?"
   ]
  },
  {
   "cell_type": "code",
   "execution_count": 5,
   "id": "8e4b251b",
   "metadata": {
    "ExecuteTime": {
     "end_time": "2022-03-09T10:40:00.991076Z",
     "start_time": "2022-03-09T10:40:00.960000Z"
    }
   },
   "outputs": [],
   "source": [
    "# IDEA: we could cluster them in different groups (e.g. single circuit, two circuits, etc...)\n",
    "# IDEA: we could check which gates were used by each group \n",
    "# (i.e. plot the statistic about the use of a certain type of gate)\n",
    "# plot the stats on the length of the sequence of operations, n.qubits"
   ]
  },
  {
   "cell_type": "code",
   "execution_count": 16,
   "id": "b6135640",
   "metadata": {
    "ExecuteTime": {
     "end_time": "2022-03-06T13:38:59.470918Z",
     "start_time": "2022-03-06T13:38:59.414650Z"
    }
   },
   "outputs": [
    {
     "name": "stdout",
     "output_type": "stream",
     "text": [
      "<class 'pandas.core.frame.DataFrame'>\n",
      "RangeIndex: 9535 entries, 0 to 9534\n",
      "Data columns (total 16 columns):\n",
      " #   Column                        Non-Null Count  Dtype  \n",
      "---  ------                        --------------  -----  \n",
      " 0   source.program_id             9535 non-null   object \n",
      " 1   source.selected_gate_set      9535 non-null   object \n",
      " 2   source.selected_optimization  9535 non-null   object \n",
      " 3   source.shots                  9535 non-null   int64  \n",
      " 4   source.n_qubits               9535 non-null   int64  \n",
      " 5   source.n_ops                  9535 non-null   int64  \n",
      " 6   source.opt_level              9535 non-null   int64  \n",
      " 7   source.target_gates           0 non-null      object \n",
      " 8   source.py_file_path           9535 non-null   object \n",
      " 9   source.time_generation        9535 non-null   float64\n",
      " 10  source.circuit_id             9535 non-null   object \n",
      " 11  source.id_quantum_reg         9535 non-null   object \n",
      " 12  source.id_classical_reg       9535 non-null   object \n",
      " 13  source.gate_set               9535 non-null   object \n",
      " 14  source.gates_in_circuit       9535 non-null   object \n",
      " 15  crash_dataset                 9535 non-null   bool   \n",
      "dtypes: bool(1), float64(1), int64(4), object(10)\n",
      "memory usage: 1.1+ MB\n"
     ]
    }
   ],
   "source": [
    "relevant_columns = [c for c in df_data.columns if c.startswith(\"source.\")]\n",
    "df_generated_programs = pd.concat(\n",
    "    [\n",
    "        df_data[relevant_columns].assign(crash_dataset=False),\n",
    "        df_crash[relevant_columns].assign(crash_dataset=True)\n",
    "    ],\n",
    "    axis=0\n",
    ")\n",
    "df_generated_programs.reset_index(drop=True, inplace=True)\n",
    "df_generated_programs.info()"
   ]
  },
  {
   "cell_type": "code",
   "execution_count": 143,
   "id": "1a1b015f",
   "metadata": {
    "ExecuteTime": {
     "end_time": "2022-03-06T15:25:42.121892Z",
     "start_time": "2022-03-06T15:25:42.092650Z"
    }
   },
   "outputs": [],
   "source": [
    "def plot_numeric_attirbute(df, attribute, x_label=None, title=None, **pltargs):\n",
    "    \"\"\"Show the distplot of the given attribute.\"\"\"\n",
    "    ax = sns.histplot(\n",
    "        data=df,\n",
    "        x=attribute,\n",
    "        bins=np.arange(0.5, df_generated_programs[attribute].max() + 1),\n",
    "        **pltargs\n",
    "    )\n",
    "    if x_label:\n",
    "        ax.set_xlabel(x_label)\n",
    "    if title:\n",
    "        ax.set_title(title)"
   ]
  },
  {
   "cell_type": "code",
   "execution_count": 148,
   "id": "e2955b80",
   "metadata": {
    "ExecuteTime": {
     "end_time": "2022-03-06T15:28:37.159865Z",
     "start_time": "2022-03-06T15:28:36.588522Z"
    }
   },
   "outputs": [
    {
     "data": {
      "image/png": "[encoded data removed]",
      "text/plain": [
       "<Figure size 360x360 with 2 Axes>"
      ]
     },
     "metadata": {
      "needs_background": "light"
     },
     "output_type": "display_data"
    }
   ],
   "source": [
    "fig, axes = plt.subplots(2, 1, figsize=(5,5))\n",
    "\n",
    "ax_gates, ax_qubits = axes\n",
    "plot_numeric_attirbute(\n",
    "    df=df_generated_programs, \n",
    "    attribute='source.n_ops', \n",
    "    x_label=\"Number of gates\",\n",
    "    ax=ax_gates)\n",
    "plot_numeric_attirbute(\n",
    "    df=df_generated_programs, \n",
    "    attribute='source.n_qubits', \n",
    "    x_label=\"Number of qubits\",\n",
    "    color='orange',\n",
    "    ax=ax_qubits)\n",
    "plt.tight_layout()\n",
    "\n",
    "fig.savefig(os.path.join(OUT_FOLDER, \"RQ1_distribution_n_gates_n_qubits.pdf\"))"
   ]
  },
  {
   "cell_type": "markdown",
   "id": "95eef7a5",
   "metadata": {},
   "source": [
    "# RQ2: which is the most time expensive step in QMFuzz?"
   ]
  },
  {
   "cell_type": "code",
   "execution_count": 38,
   "id": "0595e498",
   "metadata": {
    "ExecuteTime": {
     "end_time": "2022-03-06T14:07:41.469233Z",
     "start_time": "2022-03-06T14:07:41.446852Z"
    }
   },
   "outputs": [],
   "source": [
    "# IDEA: measure the time of each step and create a barchart with percentage and one with absolute values"
   ]
  },
  {
   "cell_type": "code",
   "execution_count": 7,
   "id": "11e982e9",
   "metadata": {
    "ExecuteTime": {
     "end_time": "2022-03-09T10:40:44.068507Z",
     "start_time": "2022-03-09T10:40:43.998332Z"
    }
   },
   "outputs": [
    {
     "data": {
      "text/html": [
       "<div>\n",
       "<style scoped>\n",
       "    .dataframe tbody tr th:only-of-type {\n",
       "        vertical-align: middle;\n",
       "    }\n",
       "\n",
       "    .dataframe tbody tr th {\n",
       "        vertical-align: top;\n",
       "    }\n",
       "\n",
       "    .dataframe thead th {\n",
       "        text-align: right;\n",
       "    }\n",
       "</style>\n",
       "<table border=\"1\" class=\"dataframe\">\n",
       "  <thead>\n",
       "    <tr style=\"text-align: right;\">\n",
       "      <th></th>\n",
       "      <th>abs_start_time</th>\n",
       "      <th>program_id</th>\n",
       "      <th>time_exec</th>\n",
       "      <th>source.time_generation</th>\n",
       "      <th>followup.time_metamorph</th>\n",
       "      <th>divergence.ks.time</th>\n",
       "      <th>crash_dataset</th>\n",
       "    </tr>\n",
       "  </thead>\n",
       "  <tbody>\n",
       "    <tr>\n",
       "      <th>0</th>\n",
       "      <td>1646327998</td>\n",
       "      <td>bfbab82d5ab141129eee7175026e941d</td>\n",
       "      <td>0.589901</td>\n",
       "      <td>0.011909</td>\n",
       "      <td>0.021907</td>\n",
       "      <td>0.000989</td>\n",
       "      <td>False</td>\n",
       "    </tr>\n",
       "    <tr>\n",
       "      <th>1</th>\n",
       "      <td>1646327999</td>\n",
       "      <td>c5873934b10c49dd8d0405f58ea5f0c8</td>\n",
       "      <td>0.624222</td>\n",
       "      <td>0.010102</td>\n",
       "      <td>0.018670</td>\n",
       "      <td>0.001826</td>\n",
       "      <td>False</td>\n",
       "    </tr>\n",
       "    <tr>\n",
       "      <th>2</th>\n",
       "      <td>1646328001</td>\n",
       "      <td>bc41adcf8fa645ad9062bb917a0fb14d</td>\n",
       "      <td>0.427686</td>\n",
       "      <td>0.013167</td>\n",
       "      <td>0.022862</td>\n",
       "      <td>0.000912</td>\n",
       "      <td>False</td>\n",
       "    </tr>\n",
       "    <tr>\n",
       "      <th>3</th>\n",
       "      <td>1646328002</td>\n",
       "      <td>525327197f884e24a3f94f9f8c05ae58</td>\n",
       "      <td>0.518616</td>\n",
       "      <td>0.009727</td>\n",
       "      <td>0.014531</td>\n",
       "      <td>0.001079</td>\n",
       "      <td>False</td>\n",
       "    </tr>\n",
       "    <tr>\n",
       "      <th>4</th>\n",
       "      <td>1646328170</td>\n",
       "      <td>7f50901fc127422eb6150b59d3ab163f</td>\n",
       "      <td>0.431299</td>\n",
       "      <td>0.006374</td>\n",
       "      <td>0.014831</td>\n",
       "      <td>0.005250</td>\n",
       "      <td>False</td>\n",
       "    </tr>\n",
       "  </tbody>\n",
       "</table>\n",
       "</div>"
      ],
      "text/plain": [
       "   abs_start_time                        program_id  time_exec  \\\n",
       "0      1646327998  bfbab82d5ab141129eee7175026e941d   0.589901   \n",
       "1      1646327999  c5873934b10c49dd8d0405f58ea5f0c8   0.624222   \n",
       "2      1646328001  bc41adcf8fa645ad9062bb917a0fb14d   0.427686   \n",
       "3      1646328002  525327197f884e24a3f94f9f8c05ae58   0.518616   \n",
       "4      1646328170  7f50901fc127422eb6150b59d3ab163f   0.431299   \n",
       "\n",
       "   source.time_generation  followup.time_metamorph  divergence.ks.time  \\\n",
       "0                0.011909                 0.021907            0.000989   \n",
       "1                0.010102                 0.018670            0.001826   \n",
       "2                0.013167                 0.022862            0.000912   \n",
       "3                0.009727                 0.014531            0.001079   \n",
       "4                0.006374                 0.014831            0.005250   \n",
       "\n",
       "   crash_dataset  \n",
       "0          False  \n",
       "1          False  \n",
       "2          False  \n",
       "3          False  \n",
       "4          False  "
      ]
     },
     "execution_count": 7,
     "metadata": {},
     "output_type": "execute_result"
    }
   ],
   "source": [
    "relevant_time_cols = [\n",
    "    'program_id',\n",
    "    'time_exec',\n",
    "    'source.time_generation',\n",
    "    #'followup.time_generation', # this attribute is statically copied form source\n",
    "    'followup.time_metamorph',\n",
    "    'divergence.ks.time'\n",
    "]\n",
    "\n",
    "df_time = pd.concat(\n",
    "    [\n",
    "        df_data[relevant_time_cols].assign(crash_dataset=False),\n",
    "        df_crash[relevant_time_cols].assign(crash_dataset=True)\n",
    "    ],\n",
    "    axis=0\n",
    ")\n",
    "\n",
    "df_time.head()"
   ]
  },
  {
   "cell_type": "code",
   "execution_count": 72,
   "id": "6f51f5b8",
   "metadata": {
    "ExecuteTime": {
     "end_time": "2022-03-06T14:32:27.376842Z",
     "start_time": "2022-03-06T14:32:27.336221Z"
    }
   },
   "outputs": [
    {
     "data": {
      "text/html": [
       "<div>\n",
       "<style scoped>\n",
       "    .dataframe tbody tr th:only-of-type {\n",
       "        vertical-align: middle;\n",
       "    }\n",
       "\n",
       "    .dataframe tbody tr th {\n",
       "        vertical-align: top;\n",
       "    }\n",
       "\n",
       "    .dataframe thead th {\n",
       "        text-align: right;\n",
       "    }\n",
       "</style>\n",
       "<table border=\"1\" class=\"dataframe\">\n",
       "  <thead>\n",
       "    <tr style=\"text-align: right;\">\n",
       "      <th></th>\n",
       "      <th>program_id</th>\n",
       "      <th>crash_dataset</th>\n",
       "      <th>variable</th>\n",
       "      <th>value</th>\n",
       "    </tr>\n",
       "  </thead>\n",
       "  <tbody>\n",
       "    <tr>\n",
       "      <th>0</th>\n",
       "      <td>bfbab82d5ab141129eee7175026e941d</td>\n",
       "      <td>False</td>\n",
       "      <td>time_exec</td>\n",
       "      <td>0.589901</td>\n",
       "    </tr>\n",
       "    <tr>\n",
       "      <th>1</th>\n",
       "      <td>c5873934b10c49dd8d0405f58ea5f0c8</td>\n",
       "      <td>False</td>\n",
       "      <td>time_exec</td>\n",
       "      <td>0.624222</td>\n",
       "    </tr>\n",
       "    <tr>\n",
       "      <th>2</th>\n",
       "      <td>bc41adcf8fa645ad9062bb917a0fb14d</td>\n",
       "      <td>False</td>\n",
       "      <td>time_exec</td>\n",
       "      <td>0.427686</td>\n",
       "    </tr>\n",
       "    <tr>\n",
       "      <th>3</th>\n",
       "      <td>525327197f884e24a3f94f9f8c05ae58</td>\n",
       "      <td>False</td>\n",
       "      <td>time_exec</td>\n",
       "      <td>0.518616</td>\n",
       "    </tr>\n",
       "    <tr>\n",
       "      <th>4</th>\n",
       "      <td>7f50901fc127422eb6150b59d3ab163f</td>\n",
       "      <td>False</td>\n",
       "      <td>time_exec</td>\n",
       "      <td>0.431299</td>\n",
       "    </tr>\n",
       "    <tr>\n",
       "      <th>5</th>\n",
       "      <td>8b4791f4f557453e88618e251755f0f0</td>\n",
       "      <td>False</td>\n",
       "      <td>time_exec</td>\n",
       "      <td>0.611226</td>\n",
       "    </tr>\n",
       "    <tr>\n",
       "      <th>6</th>\n",
       "      <td>fbf352fc8312487585258d798b02dc4e</td>\n",
       "      <td>False</td>\n",
       "      <td>time_exec</td>\n",
       "      <td>5.667439</td>\n",
       "    </tr>\n",
       "    <tr>\n",
       "      <th>7</th>\n",
       "      <td>00786effe2614bcdb6fb0d74c3c0c815</td>\n",
       "      <td>False</td>\n",
       "      <td>time_exec</td>\n",
       "      <td>0.445372</td>\n",
       "    </tr>\n",
       "    <tr>\n",
       "      <th>8</th>\n",
       "      <td>e732454b511d4b519bef2a60c0bffc58</td>\n",
       "      <td>False</td>\n",
       "      <td>time_exec</td>\n",
       "      <td>0.514020</td>\n",
       "    </tr>\n",
       "    <tr>\n",
       "      <th>9</th>\n",
       "      <td>8c642de04f794471b96ad2619c51bf4a</td>\n",
       "      <td>False</td>\n",
       "      <td>time_exec</td>\n",
       "      <td>0.486126</td>\n",
       "    </tr>\n",
       "    <tr>\n",
       "      <th>10</th>\n",
       "      <td>53bb72466c854df391043f3b96e520ad</td>\n",
       "      <td>False</td>\n",
       "      <td>time_exec</td>\n",
       "      <td>0.434925</td>\n",
       "    </tr>\n",
       "    <tr>\n",
       "      <th>11</th>\n",
       "      <td>9c187f2cf1d54146abb668b8a4d7c56e</td>\n",
       "      <td>False</td>\n",
       "      <td>time_exec</td>\n",
       "      <td>0.553300</td>\n",
       "    </tr>\n",
       "    <tr>\n",
       "      <th>12</th>\n",
       "      <td>b3d03efeb8614fe59ba20fa5421fe986</td>\n",
       "      <td>False</td>\n",
       "      <td>time_exec</td>\n",
       "      <td>0.472694</td>\n",
       "    </tr>\n",
       "    <tr>\n",
       "      <th>13</th>\n",
       "      <td>8d1b331786ca450890476cf8729ec41b</td>\n",
       "      <td>False</td>\n",
       "      <td>time_exec</td>\n",
       "      <td>0.575134</td>\n",
       "    </tr>\n",
       "    <tr>\n",
       "      <th>14</th>\n",
       "      <td>a9e1cf7d1b1b42819edf8871760e2b5a</td>\n",
       "      <td>False</td>\n",
       "      <td>time_exec</td>\n",
       "      <td>0.738834</td>\n",
       "    </tr>\n",
       "    <tr>\n",
       "      <th>15</th>\n",
       "      <td>c947acdb4c7947f18df94cc809d5ad5e</td>\n",
       "      <td>False</td>\n",
       "      <td>time_exec</td>\n",
       "      <td>0.635046</td>\n",
       "    </tr>\n",
       "    <tr>\n",
       "      <th>16</th>\n",
       "      <td>21366ceed9ea424cab475e13630351a0</td>\n",
       "      <td>False</td>\n",
       "      <td>time_exec</td>\n",
       "      <td>0.580624</td>\n",
       "    </tr>\n",
       "    <tr>\n",
       "      <th>17</th>\n",
       "      <td>bbad542fe82743ce819eacd54aaaf8c9</td>\n",
       "      <td>False</td>\n",
       "      <td>time_exec</td>\n",
       "      <td>0.464812</td>\n",
       "    </tr>\n",
       "    <tr>\n",
       "      <th>18</th>\n",
       "      <td>c2abb9ddebf24e5a87d44c2f122a1aa5</td>\n",
       "      <td>False</td>\n",
       "      <td>time_exec</td>\n",
       "      <td>0.487464</td>\n",
       "    </tr>\n",
       "    <tr>\n",
       "      <th>19</th>\n",
       "      <td>658a202c4be848c2889635e0e788a85d</td>\n",
       "      <td>False</td>\n",
       "      <td>time_exec</td>\n",
       "      <td>0.750922</td>\n",
       "    </tr>\n",
       "  </tbody>\n",
       "</table>\n",
       "</div>"
      ],
      "text/plain": [
       "                          program_id  crash_dataset   variable     value\n",
       "0   bfbab82d5ab141129eee7175026e941d          False  time_exec  0.589901\n",
       "1   c5873934b10c49dd8d0405f58ea5f0c8          False  time_exec  0.624222\n",
       "2   bc41adcf8fa645ad9062bb917a0fb14d          False  time_exec  0.427686\n",
       "3   525327197f884e24a3f94f9f8c05ae58          False  time_exec  0.518616\n",
       "4   7f50901fc127422eb6150b59d3ab163f          False  time_exec  0.431299\n",
       "5   8b4791f4f557453e88618e251755f0f0          False  time_exec  0.611226\n",
       "6   fbf352fc8312487585258d798b02dc4e          False  time_exec  5.667439\n",
       "7   00786effe2614bcdb6fb0d74c3c0c815          False  time_exec  0.445372\n",
       "8   e732454b511d4b519bef2a60c0bffc58          False  time_exec  0.514020\n",
       "9   8c642de04f794471b96ad2619c51bf4a          False  time_exec  0.486126\n",
       "10  53bb72466c854df391043f3b96e520ad          False  time_exec  0.434925\n",
       "11  9c187f2cf1d54146abb668b8a4d7c56e          False  time_exec  0.553300\n",
       "12  b3d03efeb8614fe59ba20fa5421fe986          False  time_exec  0.472694\n",
       "13  8d1b331786ca450890476cf8729ec41b          False  time_exec  0.575134\n",
       "14  a9e1cf7d1b1b42819edf8871760e2b5a          False  time_exec  0.738834\n",
       "15  c947acdb4c7947f18df94cc809d5ad5e          False  time_exec  0.635046\n",
       "16  21366ceed9ea424cab475e13630351a0          False  time_exec  0.580624\n",
       "17  bbad542fe82743ce819eacd54aaaf8c9          False  time_exec  0.464812\n",
       "18  c2abb9ddebf24e5a87d44c2f122a1aa5          False  time_exec  0.487464\n",
       "19  658a202c4be848c2889635e0e788a85d          False  time_exec  0.750922"
      ]
     },
     "execution_count": 72,
     "metadata": {},
     "output_type": "execute_result"
    }
   ],
   "source": [
    "df_time_melt = pd.melt(\n",
    "    df_time, id_vars=['program_id', 'crash_dataset'], \n",
    "    value_vars=relevant_time_cols.remove('program_id'))\n",
    "df_time_melt.head(20)"
   ]
  },
  {
   "cell_type": "code",
   "execution_count": 156,
   "id": "6f35b695",
   "metadata": {
    "ExecuteTime": {
     "end_time": "2022-03-06T16:06:10.037412Z",
     "start_time": "2022-03-06T16:06:09.089241Z"
    }
   },
   "outputs": [
    {
     "data": {
      "image/png": "[encoded data removed]",
      "text/plain": [
       "<Figure size 360x216 with 1 Axes>"
      ]
     },
     "metadata": {
      "needs_background": "light"
     },
     "output_type": "display_data"
    }
   ],
   "source": [
    "fig, ax = plt.subplots(figsize=(5, 3))\n",
    "\n",
    "mapping = {\n",
    "    \"source.time_generation\": 'Generation (source)',\n",
    "    \"followup.time_metamorph\": 'Transformation (follow-up)',\n",
    "    \"time_exec\": \"Execution\",\n",
    "    \"divergence.ks.time\": \"Divergence Check\"\n",
    "}\n",
    "\n",
    "sns.barplot(\n",
    "    data=df_time_melt,\n",
    "    y='variable',\n",
    "    x='value',\n",
    "    order=list(mapping.keys()),\n",
    "    ax=ax\n",
    ")\n",
    "\n",
    "original_labels = ax.get_yticklabels()\n",
    "ax.set_yticklabels(labels=[\n",
    "    mapping.get(e._text, e._text)\n",
    "    for e in original_labels\n",
    "])\n",
    "ax.grid(axis='x', which='both')\n",
    "ax.set_xscale('log')\n",
    "ax.set_ylabel('Stage of the approach')\n",
    "ax.set_xlabel('Average time (sec)')\n",
    "\n",
    "plt.tight_layout()\n",
    "fig.savefig(os.path.join(OUT_FOLDER, \"RQ2_time_analysis.pdf\"))"
   ]
  },
  {
   "cell_type": "markdown",
   "id": "e79e28ea",
   "metadata": {},
   "source": [
    "# RQ3: how effective is the varying-threshold approach in reducing the number of false positives?"
   ]
  },
  {
   "cell_type": "code",
   "execution_count": 80,
   "id": "9a2ff6a8",
   "metadata": {
    "ExecuteTime": {
     "end_time": "2022-03-09T18:58:14.676698Z",
     "start_time": "2022-03-09T18:58:14.441014Z"
    }
   },
   "outputs": [
    {
     "data": {
      "text/plain": [
       "<AxesSubplot:xlabel='divergence.ks.p-value', ylabel='Count'>"
      ]
     },
     "execution_count": 80,
     "metadata": {},
     "output_type": "execute_result"
    },
    {
     "data": {
      "image/png": "[encoded data removed]",
      "text/plain": [
       "<Figure size 432x288 with 1 Axes>"
      ]
     },
     "metadata": {
      "needs_background": "light"
     },
     "output_type": "display_data"
    }
   ],
   "source": [
    "sns.histplot(\n",
    "    data=df_data,\n",
    "    x='divergence.ks.p-value'\n",
    ")"
   ]
  },
  {
   "cell_type": "code",
   "execution_count": 81,
   "id": "22a504f8",
   "metadata": {
    "ExecuteTime": {
     "end_time": "2022-03-09T18:58:15.733071Z",
     "start_time": "2022-03-09T18:58:15.688321Z"
    }
   },
   "outputs": [
    {
     "name": "stdout",
     "output_type": "stream",
     "text": [
      "STATIC THRESHOLD APPROACH produces 85 alarms.\n"
     ]
    }
   ],
   "source": [
    "static_treshold = 0.05\n",
    "\n",
    "threshold_col = \"divergence.ks.p-value\"\n",
    "df_programs_w_static_threshold = df_data[\n",
    "    df_data[threshold_col] <= static_treshold\n",
    "]\n",
    "n_alarms_w_static_threshold = len(df_programs_w_static_threshold)\n",
    "print(f\"STATIC THRESHOLD APPROACH produces {n_alarms_w_static_threshold} alarms.\")"
   ]
  },
  {
   "cell_type": "code",
   "execution_count": 82,
   "id": "e894e9e1",
   "metadata": {
    "ExecuteTime": {
     "end_time": "2022-03-09T18:58:17.599196Z",
     "start_time": "2022-03-09T18:58:17.551792Z"
    },
    "code_folding": [
     27
    ]
   },
   "outputs": [],
   "source": [
    "method = 'holm'\n",
    "pval_col = threshold_col\n",
    "alpha_level = static_treshold\n",
    "\n",
    "def get_alarms_with_method(df, pval_col, alpha_level, method):\n",
    "    \"\"\"Get the program ids of the warnings raised by a method.\"\"\"\n",
    "    df_sorted_pvals = df.sort_values(by=[pval_col])\n",
    "    k = len(df_sorted_pvals)\n",
    "    i_star = None\n",
    "    program_ids = []\n",
    "    for i, (idx, row) in enumerate(df_sorted_pvals.iterrows()):\n",
    "        ordinal_i = i + 1\n",
    "        program_ids.append(row[\"program_id\"])\n",
    "        P_i = row[pval_col]\n",
    "        if method == 'holm':\n",
    "            threshold = alpha_level / (k - ordinal_i + 1)\n",
    "        elif method == 'bonferroni':\n",
    "            threshold = alpha_level / (k)\n",
    "        elif method == 'bh':\n",
    "            threshold = (alpha_level / (k)) * ordinal_i\n",
    "        # print(f\"(i: {ordinal_i}) current p-value: {P_i} vs threshold: {threshold}\")\n",
    "        elif method == 'static':\n",
    "            threshold = alpha_level        \n",
    "        if P_i > threshold:\n",
    "            i_star = i\n",
    "            #print(f\"i*: {i_star}\")\n",
    "            break\n",
    "    return program_ids\n",
    "\n",
    "\n",
    "def count_alarm_with_method(df, pval_col, alpha_level, method):\n",
    "    \"\"\"Count the number of warnings raised by a method.\"\"\"\n",
    "    return len(get_alarms_with_method(\n",
    "        df=df,\n",
    "        pval_col=pval_col,\n",
    "        alpha_level=alpha_level,\n",
    "        method=method        \n",
    "    ))  \n",
    "\n",
    "\n",
    "def get_first_n(df, col_time, n=1000):\n",
    "    \"\"\"Get the first n records as ordered by the time column.\"\"\"\n",
    "    return df.sort_values(by=col_time).iloc[:n]\n",
    "\n",
    "#n_alarms_w_varying_threshold = i_star\n",
    "#print(f\"VARYING THRESHOLD APPROACH produces {n_alarms_w_varying_threshold} alarms.\")"
   ]
  },
  {
   "cell_type": "code",
   "execution_count": 83,
   "id": "f3377a5f",
   "metadata": {
    "ExecuteTime": {
     "end_time": "2022-03-09T18:58:18.866975Z",
     "start_time": "2022-03-09T18:58:18.598187Z"
    }
   },
   "outputs": [
    {
     "data": {
      "image/png": "[encoded data removed]",
      "text/plain": [
       "<Figure size 360x216 with 1 Axes>"
      ]
     },
     "metadata": {
      "needs_background": "light"
     },
     "output_type": "display_data"
    }
   ],
   "source": [
    "fig, ax = plt.subplots(figsize=(5, 3))\n",
    "\n",
    "mapping = {\n",
    "    \"bonferroni\": 'Bonferroni',\n",
    "    \"holm\": 'Holm',\n",
    "    \"bh\": \"BH\"\n",
    "}\n",
    "\n",
    "methods_to_try = ['bonferroni', 'holm', 'bh']\n",
    "n_alarms_w_methods = [\n",
    "    count_alarm_with_method(\n",
    "        df=df_data, \n",
    "        pval_col=threshold_col,\n",
    "        alpha_level=static_treshold,\n",
    "        method=m) for m in methods_to_try]\n",
    "\n",
    "\n",
    "n_alarms = [n_alarms_w_static_threshold] + n_alarms_w_methods\n",
    "bars = ['Static\\nthreshold'] + list(map(mapping.get, methods_to_try))\n",
    "y_pos = np.arange(len(bars))\n",
    "\n",
    "reductions = [\n",
    "    ((n_alarms_w_static_threshold - abs_val) / n_alarms_w_static_threshold) * 100\n",
    "    for abs_val in n_alarms\n",
    "]\n",
    "bars = [l + f\"\\n(-{red:.1f}%)\" if red > 0 else l\n",
    "        for l, red in zip(bars, reductions)]\n",
    "\n",
    "ax.bar(y_pos, n_alarms, color=sns.color_palette()[:len(bars)])\n",
    "ax.grid(axis='y')\n",
    "ax.set_ylabel(\"Number of warnings\")\n",
    "ax.set_xlabel(f\"Threshold method (alpha = {static_treshold})\")\n",
    "plt.xticks(y_pos, bars)\n",
    "plt.show()\n",
    "fig.savefig(os.path.join(OUT_FOLDER, \"RQ3_n_alarms_per_threshold_approach.pdf\"))"
   ]
  },
  {
   "cell_type": "markdown",
   "id": "f792b260",
   "metadata": {},
   "source": [
    "## RQ3.2 compute the reduction as a function of n pairs"
   ]
  },
  {
   "cell_type": "code",
   "execution_count": 84,
   "id": "43582331",
   "metadata": {
    "ExecuteTime": {
     "end_time": "2022-03-09T18:58:22.788804Z",
     "start_time": "2022-03-09T18:58:22.756175Z"
    }
   },
   "outputs": [
    {
     "data": {
      "text/plain": [
       "(3495, 42)"
      ]
     },
     "execution_count": 84,
     "metadata": {},
     "output_type": "execute_result"
    }
   ],
   "source": [
    "df_data.shape"
   ]
  },
  {
   "cell_type": "code",
   "execution_count": 85,
   "id": "5d1c2baf",
   "metadata": {
    "ExecuteTime": {
     "end_time": "2022-03-09T18:58:38.769895Z",
     "start_time": "2022-03-09T18:58:37.898354Z"
    }
   },
   "outputs": [
    {
     "name": "stdout",
     "output_type": "stream",
     "text": [
      "The dataset has 3495 records in total.\n"
     ]
    },
    {
     "name": "stderr",
     "output_type": "stream",
     "text": [
      "100%|█████████████████████████████████████████████████████████████████████████████████████████████████████████████████████████████████| 34/34 [00:00<00:00, 41.60it/s]\n"
     ]
    },
    {
     "data": {
      "text/html": [
       "<div>\n",
       "<style scoped>\n",
       "    .dataframe tbody tr th:only-of-type {\n",
       "        vertical-align: middle;\n",
       "    }\n",
       "\n",
       "    .dataframe tbody tr th {\n",
       "        vertical-align: top;\n",
       "    }\n",
       "\n",
       "    .dataframe thead th {\n",
       "        text-align: right;\n",
       "    }\n",
       "</style>\n",
       "<table border=\"1\" class=\"dataframe\">\n",
       "  <thead>\n",
       "    <tr style=\"text-align: right;\">\n",
       "      <th></th>\n",
       "      <th>n</th>\n",
       "      <th>variable</th>\n",
       "      <th>value</th>\n",
       "    </tr>\n",
       "  </thead>\n",
       "  <tbody>\n",
       "    <tr>\n",
       "      <th>0</th>\n",
       "      <td>100</td>\n",
       "      <td>Bonferroni</td>\n",
       "      <td>1</td>\n",
       "    </tr>\n",
       "    <tr>\n",
       "      <th>1</th>\n",
       "      <td>200</td>\n",
       "      <td>Bonferroni</td>\n",
       "      <td>1</td>\n",
       "    </tr>\n",
       "    <tr>\n",
       "      <th>2</th>\n",
       "      <td>300</td>\n",
       "      <td>Bonferroni</td>\n",
       "      <td>1</td>\n",
       "    </tr>\n",
       "    <tr>\n",
       "      <th>3</th>\n",
       "      <td>400</td>\n",
       "      <td>Bonferroni</td>\n",
       "      <td>1</td>\n",
       "    </tr>\n",
       "    <tr>\n",
       "      <th>4</th>\n",
       "      <td>500</td>\n",
       "      <td>Bonferroni</td>\n",
       "      <td>1</td>\n",
       "    </tr>\n",
       "  </tbody>\n",
       "</table>\n",
       "</div>"
      ],
      "text/plain": [
       "     n    variable  value\n",
       "0  100  Bonferroni      1\n",
       "1  200  Bonferroni      1\n",
       "2  300  Bonferroni      1\n",
       "3  400  Bonferroni      1\n",
       "4  500  Bonferroni      1"
      ]
     },
     "execution_count": 85,
     "metadata": {},
     "output_type": "execute_result"
    }
   ],
   "source": [
    "mapping = {\n",
    "    \"bonferroni\": 'Bonferroni',\n",
    "    \"holm\": 'Holm',\n",
    "    \"bh\": \"BH\",\n",
    "    \"static\": \"Static Threshold\"\n",
    "}\n",
    "\n",
    "tot_n_records = len(df_data)\n",
    "print(f\"The dataset has {tot_n_records} records in total.\")\n",
    "\n",
    "methods_to_try = mapping.keys()\n",
    "\n",
    "records = []\n",
    "for n in tqdm(np.arange(100, tot_n_records, 100)):\n",
    "    new_record = {\"n\": n}\n",
    "    for method in methods_to_try:\n",
    "        c_method_n_warinings = count_alarm_with_method(\n",
    "            df=get_first_n(\n",
    "                df=df_data, col_time=\"abs_start_time\", n=n), \n",
    "            pval_col=PVAL_COL,\n",
    "            alpha_level=ALPHA_LEVEL,\n",
    "            method=method)\n",
    "        new_record[method] = c_method_n_warinings\n",
    "    records.append(new_record)\n",
    "    \n",
    "df_warnings_w_n = pd.DataFrame.from_records(records)\n",
    "df_warnings_w_n = df_warnings_w_n.rename(columns=mapping)\n",
    "df_warnings_w_n = pd.melt(\n",
    "    df_warnings_w_n, \n",
    "    id_vars=['n'], \n",
    "    value_vars=[v for k, v in mapping.items()])\n",
    "df_warnings_w_n.head()\n"
   ]
  },
  {
   "cell_type": "code",
   "execution_count": 86,
   "id": "5b6e5c8e",
   "metadata": {
    "ExecuteTime": {
     "end_time": "2022-03-09T18:58:43.969768Z",
     "start_time": "2022-03-09T18:58:43.673780Z"
    }
   },
   "outputs": [
    {
     "data": {
      "image/png": "[encoded data removed]",
      "text/plain": [
       "<Figure size 360x216 with 1 Axes>"
      ]
     },
     "metadata": {
      "needs_background": "light"
     },
     "output_type": "display_data"
    }
   ],
   "source": [
    "fig, ax = plt.subplots(figsize=(5, 3))\n",
    "\n",
    "sns.lineplot(\n",
    "    data=df_warnings_w_n.rename(columns={\n",
    "        'variable': 'Method'\n",
    "    }),\n",
    "    x='n',\n",
    "    y='value',\n",
    "    hue=\"Method\",\n",
    "    ax=ax\n",
    ")\n",
    "ax.set_ylabel('Number of warnings')\n",
    "ax.set_xlabel('Number of (non-crashing) programs pairs')\n",
    "plt.tight_layout()\n",
    "#fig.savefig(os.path.join(OUT_FOLDER, \"RQ3_n_warning_as_function_of_n.pdf\"))"
   ]
  },
  {
   "cell_type": "markdown",
   "id": "00b4f822",
   "metadata": {},
   "source": [
    "## RQ3.3: sample some warinings for manual inspection\n",
    "Pick those which are raised by STATIC THRESHOLD but not by HOLM & CO"
   ]
  },
  {
   "cell_type": "code",
   "execution_count": 87,
   "id": "6624086b",
   "metadata": {
    "ExecuteTime": {
     "end_time": "2022-03-09T18:58:59.665034Z",
     "start_time": "2022-03-09T18:58:59.611803Z"
    }
   },
   "outputs": [],
   "source": [
    "program_ids_static = get_alarms_with_method(\n",
    "    df=df_data, \n",
    "    pval_col=PVAL_COL,\n",
    "    alpha_level=ALPHA_LEVEL,\n",
    "    method='static')\n",
    "program_ids_bonferroni = get_alarms_with_method(\n",
    "    df=df_data, \n",
    "    pval_col=PVAL_COL,\n",
    "    alpha_level=ALPHA_LEVEL,\n",
    "    method='bonferroni')"
   ]
  },
  {
   "cell_type": "code",
   "execution_count": 88,
   "id": "bf8820eb",
   "metadata": {
    "ExecuteTime": {
     "end_time": "2022-03-09T18:59:01.711904Z",
     "start_time": "2022-03-09T18:59:01.681874Z"
    }
   },
   "outputs": [
    {
     "data": {
      "text/plain": [
       "['facbe4f34bd540d78f311cd76099dfab']"
      ]
     },
     "execution_count": 88,
     "metadata": {},
     "output_type": "execute_result"
    }
   ],
   "source": [
    "program_ids_bonferroni"
   ]
  },
  {
   "cell_type": "code",
   "execution_count": 32,
   "id": "2278bb74",
   "metadata": {
    "ExecuteTime": {
     "end_time": "2022-03-09T11:38:12.255186Z",
     "start_time": "2022-03-09T11:38:12.218292Z"
    }
   },
   "outputs": [
    {
     "data": {
      "text/plain": [
       "['a72f970553aa40f7b7a57f5b111dc5df',\n",
       " '29d5e306618a471f8d1b5cd95918d2c4',\n",
       " '3fa7d36aeb2b4cfe890102b05fe368f5',\n",
       " 'b4759f36f35f47b392bcff56acce6023',\n",
       " 'ccfdc77316714af19593fe1a47c8a934',\n",
       " '1e73180ce8fb43159f102238e237a223',\n",
       " '2bd88c1df0264570ab0937a2a6ca8399',\n",
       " '296ceddbffc1450a818ed5fe7945d35e',\n",
       " 'c0accb860e8b4f2ca58a6eb6b6e37139',\n",
       " '440b81571ab54e87afbc28dc3ad4371f',\n",
       " '3398ea9361034afea8ef582c85685c94',\n",
       " 'acc1bf6f904b4829b085dce0635dabd6',\n",
       " '1a59a301e2d04b40b1042341bb9bdd91',\n",
       " '578b8a5dbf9a4667a0a2521e1353359e',\n",
       " '2e7c2605987c432cbfed7721fe9d6087',\n",
       " '53fc786902a24f389f2a92246ba6028d',\n",
       " '84c729d4b94043889de65f5cca28fe2e',\n",
       " '238241eede514c338dc31d6407b7a7f5',\n",
       " 'f997c24e2ef2475c86b39b426f068ba9',\n",
       " '9cd21236a4aa4806ad98c71f1d9f223d',\n",
       " '3b0bdc986a6347a2a31bbc7e417facdc',\n",
       " '3673b1768ed7410ba10f20fa7ee01af5',\n",
       " 'c5bc7c63e9694b1ca66656ef2ecdf594',\n",
       " 'cc5df128c70e44438e8ae36c34f4e9a9',\n",
       " 'ed3ee448077d4b5b9d2791d0a0878d33',\n",
       " '45642086e9b447ea9f194438bf22a49f',\n",
       " '679f53e94a624525800a0c9285decab4',\n",
       " '8bc23c00c8ec4a3f963d14c0510944d4',\n",
       " '0b77d24eb43844b38a15aac3cfe23d5e',\n",
       " '202b5dc29c8a419ca31d5c1abaedf3b6',\n",
       " '9832599adad745089fdde0d81fcf5493',\n",
       " '12d697e7a34f4640a50d06927968245a',\n",
       " 'fe7e241bb22e43af93edb8e1633b6b45',\n",
       " 'd872d60c1da343cea4e0a2f3327dbeaa',\n",
       " 'a0e1948207fa4eccbadc00ea49b9cc14',\n",
       " '680cdc0949d34c49ad100ba4617aae03',\n",
       " 'eb0f9389a81746c692983b4e61ed188e',\n",
       " 'd77cc111a1a749418597c11bf6247a56',\n",
       " '16241cc336a64a37afd3c7c3e64d03cb',\n",
       " 'd317e86d23f943ef80f9e504d1f5e02c',\n",
       " '281c29aaabde4d3c8baf2b0147ab311e',\n",
       " '1e5d1799e6c34da08ecff3d4dec316e7',\n",
       " '3f7d248c8b8046e7bf49e6e4cdd25c9f',\n",
       " 'abb02f6910ea4f4b9c60571c92dd2873',\n",
       " '899c6f01c5434bea8538b088decb09d9',\n",
       " '670a566fb5234256b808437642139ab6',\n",
       " '07a6bcca31534fc28d6bc1c6e9a440a3',\n",
       " 'c788e82fa1c64eb0bc91688b5e44e462',\n",
       " '6f7f845cbccd485fba658d776686bf28',\n",
       " 'e466018477ab4ae292dd7dbdc8528870',\n",
       " 'b6080d9ced6448289230c8111fe5755d',\n",
       " 'd6775c89d49d4e27b25a9d1a72f85ed4',\n",
       " 'b82e7788f6f345c8b2cfbcf4981b3d6d',\n",
       " '9624ff2f6d0144488e5ff76b5edfd638',\n",
       " 'e1993ee9e2354cffbb71b36415773cd0',\n",
       " '889a1289cc13496ca9e197c76e90db72',\n",
       " '5d4f07ee27aa4b5aa73f78e18d3070fa',\n",
       " '24ec084465b6464185db2ec1b534fe1b',\n",
       " '138c3e3be1b44bb5ba610aea0b8004bd',\n",
       " 'f472fefb368a49bbacc1c2a61ae6ae84',\n",
       " 'a8ef966121744139a993ad60953d20cf',\n",
       " '029e458cd45c4f10a64a27dda3293ca2',\n",
       " '2b9f906341b44b49a2affc66d5e12868',\n",
       " '268397b709b14e71b753bc57fe87c559',\n",
       " '17e7930f868b4984b37beeb12a1440cc',\n",
       " '24eee15c1c7349d7b6e722275dcf92b1',\n",
       " '99e26a246d734faabe52706b79e9360f',\n",
       " '9bdba2deb73942efb7cee08617fbb45c',\n",
       " '0824c65a55c2461d9e51046d7aa28722',\n",
       " '4eee6c4b4ad2447ba3ae74131288d168',\n",
       " 'b56af0dd4bb94d5488a21d94d020fe8c',\n",
       " '04c6b439d6684966ab2bb9a1cd88d0c4',\n",
       " 'fbad6d36fcff4cbb99224a202fea41b7',\n",
       " '82d8b94d38df420d9abf3f841ab055fd',\n",
       " '73af20eb21524f529ff14f5fd3622716',\n",
       " '0a4f91cef1a44f9f92a745bf4d3d9dae',\n",
       " '0c715ef22fae4d81bddc440f77de48e0',\n",
       " '200ca019a6194ac09a31335881b910ce',\n",
       " '0b85224bdb694b64a2b7a7c35e71bc3a',\n",
       " '56024e995a0f4b018f9803db6c4ab1fd',\n",
       " '4b877fafc0e540f2a15c29e465ec598d',\n",
       " '6589165358a1408fb9c6d9e68c2f060a',\n",
       " 'dc55ebb74818417888bd8426fceb929c',\n",
       " 'dc6465c3fa6643118d0132a55b76c5c3',\n",
       " '91e1195a395d44449c949d76e7b1e8d9',\n",
       " '83ce21bef75a4f3ebc301c245a3f8dae',\n",
       " 'f73f056fcd324e65a23c8bea1632e2e4',\n",
       " '66f956b252a046f1a1d09f0f749994fa',\n",
       " '583efc09214d44afb9d0239ac3b47c43',\n",
       " '565ce99f70f64c4d9faecd680ff2cd26',\n",
       " '76948ebba5dd44bba81557b9d7ab7a2a',\n",
       " '1c3d5ab00a454fc7ba9c42fff970784c',\n",
       " 'd94b3b30470545c88fb0b651c2409a62',\n",
       " '3a10686c3a0644c2beaeef1e9701f3ed',\n",
       " '29adbfc926564796a930bc9f74820329',\n",
       " '8cc67d2d2f8e478793e2a22d044d066a',\n",
       " '8b0693cd7e8f4a6bbe501430ff03aa4e',\n",
       " '27ad50ec07c84906b5cd43aacfac5d6a',\n",
       " '534542b3c27b4ce0a0f6e0136473c860',\n",
       " 'c2fd8732bed44735b9b30cde5f29037b',\n",
       " 'c03ff5c9903444cba5cdf889ab975d2b',\n",
       " 'e24794609b514601a89331bf29ef1819',\n",
       " 'a0426c4c3e314c0da20a315885385398',\n",
       " '013efcb3475f4559bd93a89a5300e55c',\n",
       " 'ce886097d94b43cd9b527921d5e58921',\n",
       " '3816368c900440bfa7f333a1ae335eaf',\n",
       " '4143b82b8b314f638bcaaeb3d8439998',\n",
       " 'a6ab8623f04841a38d68421bf0382f29',\n",
       " 'cfe5e5db5bb54261952d36dfc84a2224',\n",
       " '4feac08c9b0f4775aeae4e59d3fcc004',\n",
       " '43efd006828a48a5b52356dc679d7167',\n",
       " '2a5ed9c5395c4ca6a3f4ce7dda0e8911',\n",
       " '15bbe79733ef4d88837aa7d62d588726',\n",
       " 'a22b168cd9b146dda808171f827c2a90',\n",
       " 'a754f886d2794c9eb3c6878b5a705eb0',\n",
       " '9e6a713e9ee04fc6876de1dd4e3fd10d',\n",
       " 'd696a02f92474ada99a795526c911945',\n",
       " 'f56101e316bd48b6ac975faef5feea8d',\n",
       " '9897c3755fb14a0386f4a8358c8e400f',\n",
       " '20a147b65c3f43b7a9f94dbe75eac473',\n",
       " 'bbd236ed1489427b8712882bb3b830a3',\n",
       " 'f5d02fc302de41118a07c133307fe6a3',\n",
       " '3676a2c3740c441c82a542d020f0c655',\n",
       " '2d89ed64958a424bb64021050f1657b9',\n",
       " '1fab3be056384615a7e734fc8e7bffb5',\n",
       " '0dda78764bef4ac1b6159696c7943307',\n",
       " '617d95e2042e40ad87743a093e06bc71',\n",
       " '205dde7e49fe407f98d2ee8eadf833bf',\n",
       " 'ea6d3d9f8b004ec8890841998faaf877',\n",
       " '7ac86b2d71c14085a37dc3be48608e04',\n",
       " '422e12fb568a41a58502d96c41887963',\n",
       " 'cb85362cbb4e4d5da197ae70f8d6ef74',\n",
       " '691df68c8e20439fbf1ad4a39bae8a32',\n",
       " '02af695692b8498c8f41f5e3c6e80124',\n",
       " '89755b7049984ecd9fa8b012116cc2da',\n",
       " 'c5ac8828db954b6d8586b33d1014da66',\n",
       " 'f8759d33b0074526b963cc6685d61326',\n",
       " 'e0549f2381fb4c32b8c8ced2d413bc50',\n",
       " '907a5e07b33a4c62b8327f4ed9dedb4d',\n",
       " '3d8166a2a4cd40419faa59d9cba03ad2',\n",
       " '19767e78b95047e99eebb2feb19c69dd',\n",
       " '13eb7bac18e94f24b55f0459709aa991',\n",
       " '9432f84551b042fe9f4dc0cabd92c3ae',\n",
       " 'd6a933073c08475c8cb5d086159507aa',\n",
       " '88b80f09c97e48a1a6438b4bd52600b9',\n",
       " '5083e15caf0d41a5a761e365ee9e1041',\n",
       " '59b4d274258b45a3b1bdff046bd36e68',\n",
       " '6c798edf1b5f4892a0c603fa623b413e',\n",
       " '0f3e01f2d6514130a42adc05f5ed8e3c',\n",
       " 'ee54e8ff8e6042f597952f1916632f45',\n",
       " '7b254e2f905544208540e462951dc786',\n",
       " '45c3b2173836459e8abdb24ed2dca486',\n",
       " '2f5540ebafed48c4be249ba56c40077e',\n",
       " '4f94dae46d11432298df7ae3d4c8c993',\n",
       " '153264c42d0c43c3b60cbc9f0314bbda',\n",
       " 'cd5966ea4a5d4625bfa2c0cd7111b776',\n",
       " '83d773edd030460f822a111e2bb251fa',\n",
       " 'b52e90b7f78b4b609ed710496783bcf4',\n",
       " '0cf044b764594915a655414d11cac097',\n",
       " '2ac9883d3878471ea15df868ff8d6527',\n",
       " 'c6c5073279e849699fbe9355aaf13b32',\n",
       " '927c791af00946c1aa93c99564936abf',\n",
       " 'b652a0910eac48149c4152294f5548f0',\n",
       " '655ba75c8df842938ca6551f1ca14d4d',\n",
       " '4332a14fe3e04666a2ef583b1fd12518',\n",
       " 'e80422827f0c45439a7534b73ed8419c',\n",
       " 'b038169e0ff54b4b809999a5295305e2',\n",
       " '58a948a7dac048f3a012b996282f320d',\n",
       " '6264a4b3072b43da9e029d49594a10c9',\n",
       " '2057c898e6004864a3ba7c5894b48570',\n",
       " '19b2826a1fcc415bb20ecfcc2f46f36e',\n",
       " '334a5da11f544a55bafc5e6e094d0e42',\n",
       " 'f37e9b30598a4a438662d982d0608995',\n",
       " 'e9ddb17fbfd847bfa7ae94c86ab05b9d',\n",
       " '98c6de7ff6314abd97d833c5f41d0f2c',\n",
       " '74d20432635247e0ac01b5c566d665fa',\n",
       " '64ede72392af47d0a3aba7030b8fad78',\n",
       " '4270e1b6c2b2452ebcaad64d357e1c55',\n",
       " 'f07933addcca4425b8b003b4da67e048',\n",
       " 'd08342d86d264a6598f27616770abe65',\n",
       " 'ab1f570f01a54dfa983d1b5285065651',\n",
       " 'd633beabefaf4527828f54d59dcd2fb2',\n",
       " '56aaf9e085484028a922ec3c3d1da248',\n",
       " 'e922049e2497409d9d02bbded2c2c719',\n",
       " '9c14aed1271d4d3f827c8898bf04db6d',\n",
       " '9b3aae842ae947128c0634c298b6c720',\n",
       " 'ba12121b470f40038b739e4ebd85cc84',\n",
       " '80fad697695d4ecd936a08fa20a7d3a7',\n",
       " 'ff6f57cc27034ff190a989669699f79f',\n",
       " '123f6cbeee294601b9a1400fc2d9dd80',\n",
       " '1a15bd42f0ef460fad05d1b9c8312d5d',\n",
       " 'f2be723d34264eb0b07ecf756e72ad33',\n",
       " '5ede46c8ee49403abab00205c01cedc8',\n",
       " 'd11648f0d0074b55ab483da11ab410b9',\n",
       " 'ab3f53a9f5354b2fb5e60e970080fb60',\n",
       " 'be13a6a7995343f9bd4bbca3aa41229e',\n",
       " '096dcb98422a46a18033522a8932111a',\n",
       " 'c852b05f45d044c682a6823d6579f906',\n",
       " 'e6797d6ffe254677a02e24a5a09ca341',\n",
       " '399ced9bd14c46028d85ce6aa7ba0f03',\n",
       " '87f5d2f2267e4152a705468617b94853',\n",
       " 'f44a35b47a5e415aa6ab0c9508ddca65',\n",
       " 'f20d705228d74bd7815d6aac5d5ffa4d',\n",
       " '1e5749969c7d4ed7a759f31403045a56',\n",
       " 'a2ad88e474764ea09cf3d20863ef2ceb',\n",
       " '77776965d8e44a509d7491a0bdc79d7c',\n",
       " 'b634359654284872bd2de4b8d1e1a057',\n",
       " '9c9327f92503461195ea1c6d05df5c1b',\n",
       " '1c2c5a0e4e3c4c3f9a818196a20ae4df',\n",
       " '8f6665957fae4e4c9b423267b17356bc',\n",
       " 'eeff56925e2b44478b23d45eda0e2353',\n",
       " '3e059c2ccb8140e7ade511811548d7e7',\n",
       " '413e5813d50c442094d122e764fc331c',\n",
       " '1c4e43dffffd4d2fbff8189939d2f4c6',\n",
       " '1267197474474d66afdd27bccea36e76',\n",
       " '49ddb900a5364b5a95f76d7cb24edbf1',\n",
       " '7ba70882a72a443eb439d565e15c2cdf',\n",
       " '8cb70225398d4f2ea9d362b74e99af2b',\n",
       " '5a3a8bd16dfb48daa8497ef4c68bbd5d',\n",
       " '33030cf0c92a47868aa1abf50dfc8e9e',\n",
       " '7246d13a39fa47018d4bb8e0c8b75495',\n",
       " '2dcceddd5ac44fa7974751f155be0275',\n",
       " 'df17b92be38243118cf86d2514f96f33',\n",
       " 'a6faa5ac58844cc092f47e8f99db1721',\n",
       " '9ad9005e926d486d9b1deb9ad52472d3',\n",
       " '3af48e21139c4580b98b3a2377363ce6',\n",
       " '1fbc5f428bdd4f30901ecbf04c51740e',\n",
       " 'b0b44f50bf544b0dba1ab48f9ba819f3',\n",
       " '5ddcda06728441079ff93f39137a88f1',\n",
       " '5ef6fcd8e1ad4aa7b3c27c42a34ead62',\n",
       " '4561a36f8ad6469b8e8a79b516e79347',\n",
       " 'd81d285f2f5a47e4916d38f001e04e67',\n",
       " '6666f9335b0b4b06ab4d86a5a8de4a2d',\n",
       " '43156e2e408c4197a10171001366de29',\n",
       " 'e001a2d718814953986e524b0772782a',\n",
       " 'f526f3fa489143608e4731a43262d611',\n",
       " '836c827a0c3d46e2ba87b5bcb008f640',\n",
       " '657dc18c5c374d27a1d7da18c0a7729e',\n",
       " 'c927c07405ad448c8d7b3d0adeac0912',\n",
       " '31667faf83b34f1fa9bfef3880628ea2',\n",
       " 'af91c27c128e47f99b3217d19126806d',\n",
       " '33e611e9330c4c0c884e3d291d5ac6f7',\n",
       " 'ab6dda3368104a9596282cd24365fa68',\n",
       " 'd90f8978bae741deb5949bf7f9525c96',\n",
       " '1f783e5db4bc45d2b32f47b4c6fa4814',\n",
       " '34148d6beed043e5a906b29132ea764f',\n",
       " 'a81a282d26cd4dd08a95648c0dff6d42',\n",
       " 'c0f4f0aae58841f1855113cac4c0d2f2',\n",
       " '7ae83bf016ed4b188760436d3307f3c0',\n",
       " '25e4bcc2fc4343dba224dcf06df61702',\n",
       " 'd874628f83b5450a88428992768f1b93',\n",
       " '8798156e3b534ceb9821d83d1b1d3002',\n",
       " '9ded0068297546498c3e9a932b7d3856',\n",
       " '91891f518f4e4530a7e1ed5b2e6b48d9',\n",
       " 'c5dcc5aa24c44d208a4805ff7faa23c0',\n",
       " 'c5506b0ee3854ca1bf42b77afafd2a7c',\n",
       " '800bb666340d441eb0b73e92de1615da',\n",
       " 'd5db890201a44910b5e4a878f6dba3d5',\n",
       " '1be0b5b537fd45dd97f57a21568d8b5c',\n",
       " '88ef483ff256482b8ac8241fb49c290e',\n",
       " '0e80edeeafbb4bc181d3c38aac5cc1e8',\n",
       " 'db61c051d5834a24926c92881ab9b787',\n",
       " 'a9641f0d521c47e2ab2c39696877ebfc',\n",
       " '1e97a37a184b4a75be281843539d2c48',\n",
       " 'd4fbbab8dfeb4cddb1cb886db6a15aae',\n",
       " '28b4163bb919433988039798475d97a3',\n",
       " '1e99156dbe0e45f0aea439ce89d49ba8',\n",
       " '73ccbfd3e22a4c3f96e53877538131b9',\n",
       " '1b543a7855ea497e9ef69950a580d690']"
      ]
     },
     "execution_count": 32,
     "metadata": {},
     "output_type": "execute_result"
    }
   ],
   "source": [
    "program_ids_static"
   ]
  },
  {
   "cell_type": "code",
   "execution_count": 35,
   "id": "834a967a",
   "metadata": {
    "ExecuteTime": {
     "end_time": "2022-03-09T11:38:54.137904Z",
     "start_time": "2022-03-09T11:38:54.107059Z"
    }
   },
   "outputs": [
    {
     "name": "stdout",
     "output_type": "stream",
     "text": [
      "qmt_v08\n"
     ]
    },
    {
     "data": {
      "text/plain": [
       "['e24794609b514601a89331bf29ef1819',\n",
       " '1c2c5a0e4e3c4c3f9a818196a20ae4df',\n",
       " '3676a2c3740c441c82a542d020f0c655',\n",
       " 'd6a933073c08475c8cb5d086159507aa',\n",
       " '73ccbfd3e22a4c3f96e53877538131b9',\n",
       " 'f20d705228d74bd7815d6aac5d5ffa4d',\n",
       " '1be0b5b537fd45dd97f57a21568d8b5c',\n",
       " '153264c42d0c43c3b60cbc9f0314bbda',\n",
       " '3af48e21139c4580b98b3a2377363ce6',\n",
       " 'd5db890201a44910b5e4a878f6dba3d5',\n",
       " '1fab3be056384615a7e734fc8e7bffb5',\n",
       " '334a5da11f544a55bafc5e6e094d0e42',\n",
       " 'f56101e316bd48b6ac975faef5feea8d',\n",
       " '534542b3c27b4ce0a0f6e0136473c860',\n",
       " 'd94b3b30470545c88fb0b651c2409a62',\n",
       " '8f6665957fae4e4c9b423267b17356bc',\n",
       " 'db61c051d5834a24926c92881ab9b787',\n",
       " 'e001a2d718814953986e524b0772782a',\n",
       " '83d773edd030460f822a111e2bb251fa',\n",
       " 'b52e90b7f78b4b609ed710496783bcf4']"
      ]
     },
     "execution_count": 35,
     "metadata": {},
     "output_type": "execute_result"
    }
   ],
   "source": [
    "static_and_not_bonferroni = np.array(list(set(program_ids_static).difference(set(program_ids_bonferroni))))\n",
    "SAMPLE_SIZE = 20\n",
    "to_inspect = list(np.random.choice(static_and_not_bonferroni, size=SAMPLE_SIZE, replace=False))\n",
    "print(EXP_FOLDER)\n",
    "to_inspect"
   ]
  },
  {
   "cell_type": "markdown",
   "id": "ccedc814",
   "metadata": {},
   "source": [
    "# RQ4: how many bugs are detected via a divergence as opposed to those detected because of a crash?"
   ]
  },
  {
   "cell_type": "code",
   "execution_count": 43,
   "id": "2eaf0785",
   "metadata": {
    "ExecuteTime": {
     "end_time": "2022-03-06T14:09:04.205539Z",
     "start_time": "2022-03-06T14:09:04.181352Z"
    }
   },
   "outputs": [],
   "source": [
    "from copy import deepcopy\n",
    "\n",
    "def normalize_names(df: pd.DataFrame, col: str, mapping:List[Tuple[str, str]]):\n",
    "    \"\"\"Replace the value of the given column according to the mapping.\n",
    "    \n",
    "    Each cell that contains the first string, will be replaced completely \n",
    "    with the second string of the tuple.\"\"\"\n",
    "    df = deepcopy(df)\n",
    "    for hook, replacement in mapping:\n",
    "        df.loc[df[col].str.contains(hook), col] = replacement\n",
    "    return df"
   ]
  },
  {
   "cell_type": "code",
   "execution_count": 44,
   "id": "8c4a4428",
   "metadata": {
    "ExecuteTime": {
     "end_time": "2022-03-06T14:09:04.799979Z",
     "start_time": "2022-03-06T14:09:04.768516Z"
    }
   },
   "outputs": [
    {
     "name": "stdout",
     "output_type": "stream",
     "text": [
      "TOP 10 CRASH MESSAGES (without normalization)\n"
     ]
    },
    {
     "data": {
      "text/plain": [
       "[(\"'qargs not in this circuit'\", 2519),\n",
       " ('\"Cannot unroll the circuit to the given basis, [\\'rx\\', \\'ry\\', \\'rz\\', \\'p\\', \\'cx\\']. Instruction id not found in equivalence library and no rule found to expand.\"',\n",
       "  31),\n",
       " ('too many subscripts in einsum', 22),\n",
       " ('\"Cannot unroll the circuit to the given basis, [\\'ccx\\', \\'h\\']. Instruction id not found in equivalence library and no rule found to expand.\"',\n",
       "  15),\n",
       " ('\"Cannot unroll the circuit to the given basis, [\\'cx\\', \\'h\\', \\'s\\', \\'t\\']. Instruction id not found in equivalence library and no rule found to expand.\"',\n",
       "  12),\n",
       " ('\"Unable to map source basis {(\\'cu1\\', 2), (\\'cu3\\', 2), (\\'u3\\', 1), (\\'sxdg\\', 1), (\\'rxx\\', 2), (\\'swap\\', 2), (\\'cz\\', 2), (\\'ecr\\', 2), (\\'sx\\', 1)} to target basis {\\'reset\\', \\'t\\', \\'h\\', \\'s\\', \\'measure\\', \\'delay\\', \\'snapshot\\', \\'cx\\', \\'barrier\\'} over library <qiskit.circuit.equivalence.EquivalenceLibrary object at 0x7f6256a20eb0>.\"',\n",
       "  4),\n",
       " ('\"Unable to map source basis {(\\'swap\\', 2), (\\'rxx\\', 2)} to target basis {\\'reset\\', \\'t\\', \\'h\\', \\'s\\', \\'measure\\', \\'delay\\', \\'snapshot\\', \\'cx\\', \\'barrier\\'} over library <qiskit.circuit.equivalence.EquivalenceLibrary object at 0x7f6256a23a90>.\"',\n",
       "  4),\n",
       " ('\"Unable to map source basis {(\\'sxdg\\', 1), (\\'cz\\', 2), (\\'rxx\\', 2)} to target basis {\\'reset\\', \\'h\\', \\'measure\\', \\'delay\\', \\'ccx\\', \\'snapshot\\', \\'barrier\\'} over library <qiskit.circuit.equivalence.EquivalenceLibrary object at 0x7f6256a23c70>.\"',\n",
       "  3),\n",
       " ('\"Unable to map source basis {(\\'rxx\\', 2)} to target basis {\\'reset\\', \\'t\\', \\'h\\', \\'s\\', \\'measure\\', \\'delay\\', \\'snapshot\\', \\'cx\\', \\'barrier\\'} over library <qiskit.circuit.equivalence.EquivalenceLibrary object at 0x7f6256a23a90>.\"',\n",
       "  3),\n",
       " ('\"Unable to map source basis {(\\'x\\', 1), (\\'p\\', 1), (\\'ecr\\', 2), (\\'rxx\\', 2)} to target basis {\\'reset\\', \\'t\\', \\'h\\', \\'s\\', \\'measure\\', \\'delay\\', \\'snapshot\\', \\'cx\\', \\'barrier\\'} over library <qiskit.circuit.equivalence.EquivalenceLibrary object at 0x7f6256a23a60>.\"',\n",
       "  3)]"
      ]
     },
     "execution_count": 44,
     "metadata": {},
     "output_type": "execute_result"
    }
   ],
   "source": [
    "from collections import Counter\n",
    "\n",
    "K = 10\n",
    "print(f\"TOP {K} CRASH MESSAGES (without normalization)\")\n",
    "c = Counter(df_crash[\"exceptions.followup\"])\n",
    "c.most_common(10)"
   ]
  },
  {
   "cell_type": "code",
   "execution_count": 157,
   "id": "c02f3616",
   "metadata": {
    "ExecuteTime": {
     "end_time": "2022-03-06T16:06:17.756201Z",
     "start_time": "2022-03-06T16:06:17.536360Z"
    }
   },
   "outputs": [
    {
     "data": {
      "image/png": "[encoded data removed]",
      "text/plain": [
       "<Figure size 360x216 with 1 Axes>"
      ]
     },
     "metadata": {
      "needs_background": "light"
     },
     "output_type": "display_data"
    }
   ],
   "source": [
    "exception_mapping = [\n",
    "    [\"Unable to map source basis\", \"Unable to map source basis\"],\n",
    "    [\"Instruction id not found\", \"Instruction id not found\"],\n",
    "]\n",
    "\n",
    "df_crash_norm = normalize_names(\n",
    "    df=df_crash, \n",
    "    col=\"exceptions.followup\",\n",
    "    mapping=exception_mapping\n",
    ")\n",
    "\n",
    "fig, ax = plt.subplots(figsize=(5, 3))\n",
    "\n",
    "sns.countplot(\n",
    "    data=df_crash_norm,\n",
    "    y=\"exceptions.followup\",\n",
    "    ax=ax\n",
    ")\n",
    "ax.set_ylabel(\"Crash message (normalized)\")\n",
    "ax.grid(axis='x')\n",
    "#ax.set_title(\"Crash Messages (Normalized)\")\n",
    "plt.tight_layout()\n",
    "fig.savefig(os.path.join(OUT_FOLDER, \"RQ4_count_plot_crash_messages.pdf\"))"
   ]
  },
  {
   "cell_type": "markdown",
   "id": "7b0f4072",
   "metadata": {},
   "source": [
    "# RQ5: which real bugs have been found in Qiskit via metamorphic testing?\n",
    "See interesting cases folders + discussion section + qiskit issues (Notebook number 37)"
   ]
  },
  {
   "cell_type": "code",
   "execution_count": null,
   "id": "bb5f1ac1",
   "metadata": {},
   "outputs": [],
   "source": []
  }
 ],
 "metadata": {
  "kernelspec": {
   "display_name": "Python 3 (ipykernel)",
   "language": "python",
   "name": "python3"
  },
  "language_info": {
   "codemirror_mode": {
    "name": "ipython",
    "version": 3
   },
   "file_extension": ".py",
   "mimetype": "text/x-python",
   "name": "python",
   "nbconvert_exporter": "python",
   "pygments_lexer": "ipython3",
   "version": "3.8.0"
  },
  "toc": {
   "base_numbering": 1,
   "nav_menu": {},
   "number_sections": true,
   "sideBar": true,
   "skip_h1_title": false,
   "title_cell": "Table of Contents",
   "title_sidebar": "Contents",
   "toc_cell": false,
   "toc_position": {
    "height": "calc(100% - 180px)",
    "left": "10px",
    "top": "150px",
    "width": "288px"
   },
   "toc_section_display": true,
   "toc_window_display": true
  }
 },
 "nbformat": 4,
 "nbformat_minor": 5
}
