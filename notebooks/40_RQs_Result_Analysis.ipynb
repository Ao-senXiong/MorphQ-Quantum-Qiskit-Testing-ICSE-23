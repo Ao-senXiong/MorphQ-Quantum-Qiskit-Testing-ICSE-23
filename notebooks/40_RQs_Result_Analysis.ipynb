{
 "cells": [
  {
   "cell_type": "code",
   "execution_count": 2,
   "id": "c5726275",
   "metadata": {
    "ExecuteTime": {
     "end_time": "2022-03-13T20:13:57.689862Z",
     "start_time": "2022-03-13T20:13:53.091211Z"
    }
   },
   "outputs": [],
   "source": [
    "import project_path\n",
    "\n",
    "import matplotlib.pyplot as plt\n",
    "import numpy as np\n",
    "import os\n",
    "import pandas as pd\n",
    "import seaborn as sns\n",
    "import sqlite3 as sl\n",
    "from tqdm import tqdm\n",
    "from typing import List, Any, Tuple, Dict\n",
    "\n",
    "from lib.utils import iterate_over\n",
    "from lib.utils import load_config_and_check\n",
    "from lib.inspector import Inspector\n",
    "\n",
    "%load_ext autoreload\n",
    "%autoreload 2"
   ]
  },
  {
   "cell_type": "markdown",
   "id": "41f5a47e",
   "metadata": {},
   "source": [
    "# Parameters"
   ]
  },
  {
   "cell_type": "code",
   "execution_count": 3,
   "id": "14b6ca87",
   "metadata": {
    "ExecuteTime": {
     "end_time": "2022-03-13T20:13:57.713095Z",
     "start_time": "2022-03-13T20:13:57.692782Z"
    }
   },
   "outputs": [],
   "source": [
    "EXP_FOLDER = \"qmt_v12\" \n",
    "SQL_PATH = os.path.join(\"..\", \"data\", EXP_FOLDER, \"qfl.db\")\n",
    "LOG_PATH = os.path.join(\"..\", \"data\", EXP_FOLDER, \"log_fuzzy.txt\")\n",
    "SQL_CONNECTION = sl.connect(SQL_PATH)\n"
   ]
  },
  {
   "cell_type": "code",
   "execution_count": 4,
   "id": "c5e64709",
   "metadata": {
    "ExecuteTime": {
     "end_time": "2022-03-13T20:13:57.731666Z",
     "start_time": "2022-03-13T20:13:57.714819Z"
    }
   },
   "outputs": [],
   "source": [
    "OUT_FOLDER = \"../data/paper_images\"\n",
    "PVAL_COL = \"divergence.ks.p-value\" \n",
    "ALPHA_LEVEL = 0.05"
   ]
  },
  {
   "cell_type": "markdown",
   "id": "8c04263e",
   "metadata": {},
   "source": [
    "# Load Data"
   ]
  },
  {
   "cell_type": "code",
   "execution_count": 5,
   "id": "a4adc75e",
   "metadata": {
    "ExecuteTime": {
     "end_time": "2022-03-13T20:13:58.402846Z",
     "start_time": "2022-03-13T20:13:57.733690Z"
    }
   },
   "outputs": [
    {
     "name": "stdout",
     "output_type": "stream",
     "text": [
      "Total (potentially divergent) comparisons: 16800\n",
      "Total crash in programs: 6535\n",
      "\tcrashing source: 0\n",
      "\tcrashing follow-up: 6535\n"
     ]
    }
   ],
   "source": [
    "df_crash = pd.read_sql(\"\"\"SELECT * from CRASHDATA\"\"\", SQL_CONNECTION)\n",
    "df_data = pd.read_sql(\"\"\"SELECT * from QFLDATA\"\"\", SQL_CONNECTION)\n",
    "#LOG_CONTENT = open(LOG_PATH, 'r').read()\n",
    "#LOG_LINES = LOG_CONTENT.split(\"\\n\")\n",
    "print(f\"Total (potentially divergent) comparisons: {len(df_data)}\")\n",
    "print(f\"Total crash in programs: {len(df_crash)}\")\n",
    "print(f\"\\tcrashing source: {len(df_crash[~df_crash['exceptions.source'].isna()])}\")\n",
    "print(f\"\\tcrashing follow-up: {len(df_crash[~df_crash['exceptions.followup'].isna()])}\")"
   ]
  },
  {
   "cell_type": "code",
   "execution_count": 6,
   "id": "dd3c1a84",
   "metadata": {
    "ExecuteTime": {
     "end_time": "2022-03-13T20:13:59.034169Z",
     "start_time": "2022-03-13T20:13:58.898825Z"
    }
   },
   "outputs": [
    {
     "name": "stdout",
     "output_type": "stream",
     "text": [
      "<class 'pandas.core.frame.DataFrame'>\n",
      "Int64Index: 23335 entries, 0 to 6534\n",
      "Data columns (total 43 columns):\n",
      " #   Column                                      Non-Null Count  Dtype  \n",
      "---  ------                                      --------------  -----  \n",
      " 0   index                                       23335 non-null  int64  \n",
      " 1   program_id                                  23335 non-null  object \n",
      " 2   time_exec                                   23335 non-null  float64\n",
      " 3   abs_start_time                              23335 non-null  int64  \n",
      " 4   source.program_id                           23335 non-null  object \n",
      " 5   source.selected_gate_set                    23335 non-null  object \n",
      " 6   source.selected_optimization                23335 non-null  object \n",
      " 7   source.shots                                23335 non-null  int64  \n",
      " 8   source.n_qubits                             23335 non-null  int64  \n",
      " 9   source.n_ops                                23335 non-null  int64  \n",
      " 10  source.opt_level                            23335 non-null  int64  \n",
      " 11  source.target_gates                         0 non-null      object \n",
      " 12  source.py_file_path                         23335 non-null  object \n",
      " 13  source.time_generation                      23335 non-null  float64\n",
      " 14  source.circuit_id                           23335 non-null  object \n",
      " 15  source.id_quantum_reg                       23335 non-null  object \n",
      " 16  source.id_classical_reg                     23335 non-null  object \n",
      " 17  source.gate_set                             23335 non-null  object \n",
      " 18  source.gates_in_circuit                     23335 non-null  object \n",
      " 19  followup.program_id                         23335 non-null  object \n",
      " 20  followup.selected_gate_set                  23335 non-null  object \n",
      " 21  followup.selected_optimization              23335 non-null  object \n",
      " 22  followup.shots                              23335 non-null  int64  \n",
      " 23  followup.n_qubits                           23335 non-null  int64  \n",
      " 24  followup.n_ops                              23335 non-null  int64  \n",
      " 25  followup.opt_level                          23335 non-null  int64  \n",
      " 26  followup.target_gates                       0 non-null      object \n",
      " 27  followup.py_file_path                       23335 non-null  object \n",
      " 28  followup.time_generation                    23335 non-null  float64\n",
      " 29  followup.circuit_id                         23335 non-null  object \n",
      " 30  followup.id_quantum_reg                     23335 non-null  object \n",
      " 31  followup.id_classical_reg                   23335 non-null  object \n",
      " 32  followup.gate_set                           23335 non-null  object \n",
      " 33  followup.gates_in_circuit                   23335 non-null  object \n",
      " 34  followup.metamorphic_transformations        23335 non-null  object \n",
      " 35  followup.time_metamorph                     23335 non-null  float64\n",
      " 36  followup.metamorphic_transformations_times  23335 non-null  object \n",
      " 37  divergence.ks.statistic                     23335 non-null  float64\n",
      " 38  divergence.ks.p-value                       23335 non-null  float64\n",
      " 39  divergence.ks.time                          23335 non-null  float64\n",
      " 40  exceptions.source                           0 non-null      object \n",
      " 41  exceptions.followup                         6535 non-null   object \n",
      " 42  generated_a_crash                           23335 non-null  bool   \n",
      "dtypes: bool(1), float64(7), int64(10), object(25)\n",
      "memory usage: 7.7+ MB\n"
     ]
    }
   ],
   "source": [
    "df_generated_programs = pd.concat(\n",
    "    [\n",
    "        df_data.assign(generated_a_crash=False),\n",
    "        df_crash.assign(generated_a_crash=True)\n",
    "    ],\n",
    "    axis=0\n",
    ")\n",
    "df_generated_programs.info()"
   ]
  },
  {
   "cell_type": "markdown",
   "id": "74f4bb9c",
   "metadata": {
    "heading_collapsed": true
   },
   "source": [
    "# Preface"
   ]
  },
  {
   "cell_type": "code",
   "execution_count": 52,
   "id": "9156051d",
   "metadata": {
    "ExecuteTime": {
     "end_time": "2022-03-12T20:58:55.397364Z",
     "start_time": "2022-03-12T20:58:51.500535Z"
    },
    "hidden": true
   },
   "outputs": [
    {
     "data": {
      "text/plain": [
       "{'11': 511, '00': 513}"
      ]
     },
     "execution_count": 52,
     "metadata": {},
     "output_type": "execute_result"
    }
   ],
   "source": [
    "from qiskit import QuantumCircuit, Aer, transpile\n",
    "from qiskit.tools.visualization import plot_histogram\n",
    "\n",
    "# Create circuit\n",
    "circ = QuantumCircuit(2)\n",
    "circ.h(0)\n",
    "circ.cx(0, 1)\n",
    "circ.measure_all()\n",
    "\n",
    "# Transpile for simulator\n",
    "simulator = Aer.get_backend('aer_simulator')\n",
    "circ = transpile(circ, simulator)\n",
    "\n",
    "# Run and get counts\n",
    "result = simulator.run(circ).result()\n",
    "result.get_counts(circ)"
   ]
  },
  {
   "cell_type": "code",
   "execution_count": 76,
   "id": "4c07bc81",
   "metadata": {
    "ExecuteTime": {
     "end_time": "2022-03-09T15:14:49.746172Z",
     "start_time": "2022-03-09T15:14:48.922816Z"
    },
    "hidden": true
   },
   "outputs": [
    {
     "name": "stderr",
     "output_type": "stream",
     "text": [
      "/tmp/ipykernel_23792/708910746.py:21: UserWarning: Tight layout not applied. tight_layout cannot make axes width small enough to accommodate all axes decorations\n",
      "  plt.tight_layout()\n"
     ]
    },
    {
     "data": {
      "image/png": "[encoded data removed]",
      "text/plain": [
       "<Figure size 504x187.2 with 2 Axes>"
      ]
     },
     "metadata": {
      "needs_background": "light"
     },
     "output_type": "display_data"
    }
   ],
   "source": [
    "fig = plt.figure(constrained_layout=True, figsize=(7, 2.6))\n",
    "gs = fig.add_gridspec(1, 24)\n",
    "ax_circuit = fig.add_subplot(gs[:17])\n",
    "ax_histogram = fig.add_subplot(gs[17:])\n",
    "\n",
    "circ.draw(\n",
    "    output='mpl', \n",
    "    justify=None,\n",
    "    style={\"margin\": [1.23, 0, 0, 0]},\n",
    "    ax=ax_circuit\n",
    ")\n",
    "#ax_circuit.set_title(\"Gate Model\")\n",
    "\n",
    "\n",
    "plot_histogram(\n",
    "    counts, \n",
    "    #title='Output Distribution',\n",
    "    ax=ax_histogram    \n",
    ")\n",
    "\n",
    "plt.tight_layout()\n",
    "\n",
    "fig.savefig(os.path.join(OUT_FOLDER, \"example_circuit.pdf\"))"
   ]
  },
  {
   "cell_type": "markdown",
   "id": "a66cfc0f",
   "metadata": {},
   "source": [
    "# RQ 1: how many warnings in a fixed budget time (2 days)?\n",
    "2 days = as used by QDiff "
   ]
  },
  {
   "cell_type": "code",
   "execution_count": 75,
   "id": "929ded80",
   "metadata": {
    "ExecuteTime": {
     "end_time": "2022-03-13T21:20:45.638446Z",
     "start_time": "2022-03-13T21:20:45.480771Z"
    }
   },
   "outputs": [
    {
     "name": "stdout",
     "output_type": "stream",
     "text": [
      "In the first 48 hours we tested 9007 program pairs\n",
      "2548 (28.29 %) crashes\n",
      "6459 (71.71 %) complete executions\n",
      "% RQ1\n",
      "\\newcommand{\\percCrashesBenchmark}{28.29\\%}\n",
      "\n",
      "\\begin{table}[t]\n",
      "  \\centering\n",
      "  % qmt_v12\n",
      "  \\caption{Distribution of warnings over two days.}\n",
      "  \\begin{tabular}{lrr}\n",
      "  \\toprule\n",
      "  & Number & Percentage \\\\\n",
      "  \\midrule\n",
      "  Total Program Pairs Tested& 9007& - \\\\\n",
      "  Crash in Source Program & 0 & (0.00 \\%)\\\\\n",
      "  Crash in Follow-up Program & 2548 & (28.29 \\%)\\\\\n",
      "  Successful Execution & 6459 & (71.71 \\%)\\\\\n",
      "  (of which divergent) & 0 & (0.00 \\%)\\\\\n",
      "  \\bottomrule\n",
      "  \\end{tabular}\n",
      "  \\label{tab:warnings_distribution}\n",
      "\\end{table}\n",
      "\n"
     ]
    }
   ],
   "source": [
    "from lib.inspector import get_alarms_with_method\n",
    "\n",
    "def get_program_within_first_hours(df, n_hours: int, col_time: str = \"abs_start_time\"):\n",
    "    \"\"\"Get the programs generated in the first n hours.\"\"\"\n",
    "    df = df.sort_values(by=col_time)\n",
    "    approach_start_time = int(df[col_time].min())\n",
    "    df[\"time_since_start\"] = df[col_time].apply(\n",
    "        lambda c_program_start_time: c_program_start_time - approach_start_time\n",
    "    )\n",
    "    return df[df[\"time_since_start\"] < 3600 * n_hours]\n",
    "\n",
    "N_HOURS = 48\n",
    "\n",
    "df_first_2_days = get_program_within_first_hours(\n",
    "    df=df_generated_programs,\n",
    "    n_hours=N_HOURS\n",
    ")\n",
    "df_first_2_days_crash = df_first_2_days[df_first_2_days[\"generated_a_crash\"]]\n",
    "df_first_2_days_complete = df_first_2_days[~df_first_2_days[\"generated_a_crash\"]]\n",
    "\n",
    "print(f\"In the first {N_HOURS} hours we tested {len(df_first_2_days)} program pairs\")\n",
    "\n",
    "n_tot_pairs = len(df_first_2_days)\n",
    "n_crash = len(df_first_2_days_crash)\n",
    "n_complete_execution = len(df_first_2_days_complete)\n",
    "assert n_crash + n_complete_execution == n_tot_pairs\n",
    "\n",
    "perc_crash = (n_crash / n_tot_pairs) * 100\n",
    "perc_complete_execution = (n_complete_execution / n_tot_pairs) * 100\n",
    "\n",
    "print(f\"{n_crash} ({perc_crash:.2f} %) crashes\")\n",
    "print(f\"{n_complete_execution} ({perc_complete_execution:.2f} %) complete executions\")\n",
    "\n",
    "\n",
    "n_crash_source = len(df_first_2_days_crash[~df_first_2_days_crash['exceptions.source'].isna()])\n",
    "n_crash_followup = len(df_first_2_days_crash[~df_first_2_days_crash['exceptions.followup'].isna()]) \n",
    "perc_crash_source = (n_crash_source / n_tot_pairs) * 100\n",
    "perc_crash_followup = (n_crash_followup / n_tot_pairs) * 100\n",
    "\n",
    "PVAL_COL = \"divergence.ks.p-value\"\n",
    "ALPHA_LEVEL = 0.05\n",
    "\n",
    "program_ids_bonferroni = get_alarms_with_method(\n",
    "    df=df_first_2_days_complete, \n",
    "    pval_col=PVAL_COL,\n",
    "    alpha_level=ALPHA_LEVEL,\n",
    "    method='bonferroni')\n",
    "n_divergence = len(program_ids_bonferroni)\n",
    "perc_divergence = (n_divergence / n_tot_pairs) * 100\n",
    "\n",
    "print(\"% RQ1\")\n",
    "print(\"\\\\newcommand{\\percCrashesBenchmark}{\"+f\"{perc_crash:.2f}\"+\"\\%}\")\n",
    "\n",
    "print(\"\"\"\n",
    "\\\\begin{table}[t]\n",
    "  \\centering\n",
    "  % \"\"\" + EXP_FOLDER + \"\"\"\n",
    "  \\caption{Distribution of warnings over two days.}\n",
    "  \\\\begin{tabular}{lrr}\n",
    "  \\\\toprule\n",
    "  & Number & Percentage \\\\\\\\\n",
    "  \\\\midrule\n",
    "  Total Program Pairs Tested& \"\"\" + f\"{len(df_first_2_days)}\"+ \"\"\"& - \\\\\\\\\n",
    "  Crash in Source Program & \"\"\" + f\"{n_crash_source} & ({perc_crash_source:.2f} \\\\%)\"+ \"\"\"\\\\\\\\\n",
    "  Crash in Follow-up Program & \"\"\" + f\"{n_crash_followup} & ({perc_crash_followup:.2f} \\\\%)\"+ \"\"\"\\\\\\\\\n",
    "  Successful Execution & \"\"\" + f\"{n_complete_execution} & ({perc_complete_execution:.2f} \\\\%)\"+ \"\"\"\\\\\\\\\n",
    "  (of which divergent) & \"\"\" + f\"{n_divergence} & ({perc_divergence:.2f} \\\\%)\"+ \"\"\"\\\\\\\\\n",
    "  \\\\bottomrule\n",
    "  \\end{tabular}\n",
    "  \\label{tab:warnings_distribution}\n",
    "\\end{table}\n",
    "\"\"\")"
   ]
  },
  {
   "cell_type": "markdown",
   "id": "7b0f4072",
   "metadata": {},
   "source": [
    "# RQ 2: which real bugs have been found in Qiskit via metamorphic testing?\n",
    "See interesting cases folders + discussion section + qiskit issues (Notebook number 37)"
   ]
  },
  {
   "cell_type": "code",
   "execution_count": 117,
   "id": "2dbe32d2",
   "metadata": {
    "ExecuteTime": {
     "end_time": "2022-03-13T22:28:09.426374Z",
     "start_time": "2022-03-13T22:28:09.372333Z"
    }
   },
   "outputs": [
    {
     "data": {
      "text/html": [
       "<div>\n",
       "<style scoped>\n",
       "    .dataframe tbody tr th:only-of-type {\n",
       "        vertical-align: middle;\n",
       "    }\n",
       "\n",
       "    .dataframe tbody tr th {\n",
       "        vertical-align: top;\n",
       "    }\n",
       "\n",
       "    .dataframe thead th {\n",
       "        text-align: right;\n",
       "    }\n",
       "</style>\n",
       "<table border=\"1\" class=\"dataframe\">\n",
       "  <thead>\n",
       "    <tr style=\"text-align: right;\">\n",
       "      <th></th>\n",
       "      <th>index</th>\n",
       "      <th>bug_id</th>\n",
       "      <th>experiment</th>\n",
       "      <th>program_id</th>\n",
       "      <th>date_found</th>\n",
       "      <th>date_reported</th>\n",
       "      <th>manifestation</th>\n",
       "      <th>hook_hint</th>\n",
       "      <th>crash_category</th>\n",
       "      <th>present_also_in_final_run</th>\n",
       "      <th>root_cause</th>\n",
       "      <th>API_usage</th>\n",
       "      <th>mr_used</th>\n",
       "      <th>bug_description</th>\n",
       "      <th>link_to_issue</th>\n",
       "      <th>developer_reaction</th>\n",
       "      <th>developer comment</th>\n",
       "      <th>component</th>\n",
       "      <th>known_before</th>\n",
       "      <th>status</th>\n",
       "    </tr>\n",
       "  </thead>\n",
       "  <tbody>\n",
       "    <tr>\n",
       "      <th>0</th>\n",
       "      <td>0</td>\n",
       "      <td>01_6e8363</td>\n",
       "      <td>qmt_v01</td>\n",
       "      <td>6e8363d301e44b0c833f51d6918af826</td>\n",
       "      <td>9-feb-22</td>\n",
       "      <td>9-feb-22</td>\n",
       "      <td>crash</td>\n",
       "      <td>Instruction id not found in equivalence library</td>\n",
       "      <td>Instruction id not found</td>\n",
       "      <td>True</td>\n",
       "      <td>IDGate</td>\n",
       "      <td>correct</td>\n",
       "      <td>ChangeTargetBasis</td>\n",
       "      <td>Circuit with identity gate fails to transpile ...</td>\n",
       "      <td>https://github.com/Qiskit/qiskit-terra/issues/...</td>\n",
       "      <td>comment \"bug due to legacy reason\"; confirmed;...</td>\n",
       "      <td>\"This is because id in Terra isn't actually an...</td>\n",
       "      <td>-</td>\n",
       "      <td>duplicate</td>\n",
       "      <td>confirmed</td>\n",
       "    </tr>\n",
       "    <tr>\n",
       "      <th>1</th>\n",
       "      <td>1</td>\n",
       "      <td>01_accidental</td>\n",
       "      <td>qmt_v01</td>\n",
       "      <td>-</td>\n",
       "      <td>8-feb-22</td>\n",
       "      <td>8-feb-22</td>\n",
       "      <td>timeout</td>\n",
       "      <td>-</td>\n",
       "      <td>-</td>\n",
       "      <td>False</td>\n",
       "      <td>inefficient translation basis</td>\n",
       "      <td>non-existent gate names</td>\n",
       "      <td>ChangeTargetBasis</td>\n",
       "      <td>Compiler hangs (infinite loop), when transpile...</td>\n",
       "      <td>https://github.com/Qiskit/qiskit-terra/issues/...</td>\n",
       "      <td>comment; confirmed; similar issue; fix is read...</td>\n",
       "      <td>\"This is similar to #5539, perhaps a slightly ...</td>\n",
       "      <td>-</td>\n",
       "      <td>duplicate (different manifestation)</td>\n",
       "      <td>confirmed</td>\n",
       "    </tr>\n",
       "    <tr>\n",
       "      <th>2</th>\n",
       "      <td>2</td>\n",
       "      <td>06_59a0eb</td>\n",
       "      <td>qmt_v06</td>\n",
       "      <td>59a0eb956a0d4e6b8720f272136f2799</td>\n",
       "      <td>21-feb-22</td>\n",
       "      <td>21-feb-22</td>\n",
       "      <td>crash</td>\n",
       "      <td>qargs not in this circuit</td>\n",
       "      <td>qargs not in this circuit</td>\n",
       "      <td>False</td>\n",
       "      <td>ApplyLayout pass</td>\n",
       "      <td>borderline</td>\n",
       "      <td>ChangeOptLevel, ChangeCouplingMap</td>\n",
       "      <td>Transpilation (level 3 + custom Coupling Map) ...</td>\n",
       "      <td>https://github.com/Qiskit/qiskit-terra/issues/...</td>\n",
       "      <td>comment</td>\n",
       "      <td>\"It is a slightly strange and non-ideal behavi...</td>\n",
       "      <td>-</td>\n",
       "      <td>new</td>\n",
       "      <td>confirmed</td>\n",
       "    </tr>\n",
       "    <tr>\n",
       "      <th>3</th>\n",
       "      <td>3</td>\n",
       "      <td>06_948f90</td>\n",
       "      <td>qmt_v06</td>\n",
       "      <td>948f90de9947418289b220bd2e61caa3</td>\n",
       "      <td>23-feb-22</td>\n",
       "      <td>23-feb-22</td>\n",
       "      <td>crash</td>\n",
       "      <td>too many subscripts in einsum</td>\n",
       "      <td>too many subscripts in einsum (numpy)</td>\n",
       "      <td>True</td>\n",
       "      <td>Numpy limits</td>\n",
       "      <td>correct</td>\n",
       "      <td>ChangeOptLevel, InjectNullEffect</td>\n",
       "      <td>Transpilation (Opt. Level 2) fails with regist...</td>\n",
       "      <td>https://github.com/Qiskit/qiskit-terra/issues/...</td>\n",
       "      <td>comment</td>\n",
       "      <td>\"it shakes out that once your operators have 1...</td>\n",
       "      <td>-</td>\n",
       "      <td>new</td>\n",
       "      <td>confirmed</td>\n",
       "    </tr>\n",
       "    <tr>\n",
       "      <th>4</th>\n",
       "      <td>4</td>\n",
       "      <td>09_f8a306</td>\n",
       "      <td>qmt_v09</td>\n",
       "      <td>f8a306d8953f4e46a2b8ecec434f9cc0</td>\n",
       "      <td>8-mar-22</td>\n",
       "      <td>-</td>\n",
       "      <td>crash</td>\n",
       "      <td>Mismatch between run_config.parameter_binds, u...</td>\n",
       "      <td>Mismatch between parameter_binds</td>\n",
       "      <td>True</td>\n",
       "      <td>CUGate</td>\n",
       "      <td>correct</td>\n",
       "      <td>InjectParameters</td>\n",
       "      <td>CUGate's params getter does not comply with ci...</td>\n",
       "      <td>https://github.com/Qiskit/qiskit-terra/issues/...</td>\n",
       "      <td>duplicated; confirmed by developer</td>\n",
       "      <td>-</td>\n",
       "      <td>-</td>\n",
       "      <td>duplicate</td>\n",
       "      <td>confirmed</td>\n",
       "    </tr>\n",
       "  </tbody>\n",
       "</table>\n",
       "</div>"
      ],
      "text/plain": [
       "   index         bug_id experiment                        program_id  \\\n",
       "0      0      01_6e8363    qmt_v01  6e8363d301e44b0c833f51d6918af826   \n",
       "1      1  01_accidental    qmt_v01                                 -   \n",
       "2      2      06_59a0eb    qmt_v06  59a0eb956a0d4e6b8720f272136f2799   \n",
       "3      3      06_948f90    qmt_v06  948f90de9947418289b220bd2e61caa3   \n",
       "4      4      09_f8a306    qmt_v09  f8a306d8953f4e46a2b8ecec434f9cc0   \n",
       "\n",
       "  date_found date_reported manifestation  \\\n",
       "0   9-feb-22      9-feb-22         crash   \n",
       "1   8-feb-22      8-feb-22       timeout   \n",
       "2  21-feb-22     21-feb-22         crash   \n",
       "3  23-feb-22     23-feb-22         crash   \n",
       "4   8-mar-22             -         crash   \n",
       "\n",
       "                                           hook_hint  \\\n",
       "0    Instruction id not found in equivalence library   \n",
       "1                                                  -   \n",
       "2                          qargs not in this circuit   \n",
       "3                      too many subscripts in einsum   \n",
       "4  Mismatch between run_config.parameter_binds, u...   \n",
       "\n",
       "                          crash_category present_also_in_final_run  \\\n",
       "0               Instruction id not found                      True   \n",
       "1                                      -                     False   \n",
       "2              qargs not in this circuit                     False   \n",
       "3  too many subscripts in einsum (numpy)                      True   \n",
       "4       Mismatch between parameter_binds                      True   \n",
       "\n",
       "                      root_cause                API_usage  \\\n",
       "0                         IDGate                  correct   \n",
       "1  inefficient translation basis  non-existent gate names   \n",
       "2               ApplyLayout pass               borderline   \n",
       "3                   Numpy limits                  correct   \n",
       "4                         CUGate                  correct   \n",
       "\n",
       "                             mr_used  \\\n",
       "0                  ChangeTargetBasis   \n",
       "1                  ChangeTargetBasis   \n",
       "2  ChangeOptLevel, ChangeCouplingMap   \n",
       "3   ChangeOptLevel, InjectNullEffect   \n",
       "4                   InjectParameters   \n",
       "\n",
       "                                     bug_description  \\\n",
       "0  Circuit with identity gate fails to transpile ...   \n",
       "1  Compiler hangs (infinite loop), when transpile...   \n",
       "2  Transpilation (level 3 + custom Coupling Map) ...   \n",
       "3  Transpilation (Opt. Level 2) fails with regist...   \n",
       "4  CUGate's params getter does not comply with ci...   \n",
       "\n",
       "                                       link_to_issue  \\\n",
       "0  https://github.com/Qiskit/qiskit-terra/issues/...   \n",
       "1  https://github.com/Qiskit/qiskit-terra/issues/...   \n",
       "2  https://github.com/Qiskit/qiskit-terra/issues/...   \n",
       "3  https://github.com/Qiskit/qiskit-terra/issues/...   \n",
       "4  https://github.com/Qiskit/qiskit-terra/issues/...   \n",
       "\n",
       "                                  developer_reaction  \\\n",
       "0  comment \"bug due to legacy reason\"; confirmed;...   \n",
       "1  comment; confirmed; similar issue; fix is read...   \n",
       "2                                            comment   \n",
       "3                                            comment   \n",
       "4                 duplicated; confirmed by developer   \n",
       "\n",
       "                                   developer comment component  \\\n",
       "0  \"This is because id in Terra isn't actually an...         -   \n",
       "1  \"This is similar to #5539, perhaps a slightly ...         -   \n",
       "2  \"It is a slightly strange and non-ideal behavi...         -   \n",
       "3  \"it shakes out that once your operators have 1...         -   \n",
       "4                                                  -         -   \n",
       "\n",
       "                          known_before     status  \n",
       "0                            duplicate  confirmed  \n",
       "1  duplicate (different manifestation)  confirmed  \n",
       "2                                  new  confirmed  \n",
       "3                                  new  confirmed  \n",
       "4                            duplicate  confirmed  "
      ]
     },
     "execution_count": 117,
     "metadata": {},
     "output_type": "execute_result"
    }
   ],
   "source": [
    "# create latex table\n",
    "PATH_DATASET = \"../intersting_cases/curated_google_sheet/Qiskit_Bug_Dataset - main_dataset.csv\"\n",
    "df_bugs = pd.read_csv(PATH_DATASET)\n",
    "df_bugs = df_bugs.sort_values(by=[\n",
    "    \"status\"\n",
    "], ascending=True)\n",
    "df_bugs = df_bugs.reset_index(drop=True)\n",
    "df_bugs = df_bugs.reset_index(drop=False)\n",
    "df_bugs = df_bugs.fillna(\"-\")\n",
    "df_bugs.head()"
   ]
  },
  {
   "cell_type": "code",
   "execution_count": 118,
   "id": "6e92c4d6",
   "metadata": {
    "ExecuteTime": {
     "end_time": "2022-03-13T22:28:10.500567Z",
     "start_time": "2022-03-13T22:28:10.475004Z"
    }
   },
   "outputs": [],
   "source": [
    "df_bugs[\"Dev discovery\"] = df_bugs.apply(\n",
    "    lambda row: \"✓\" if not row[\"present_also_in_final_run\"] else \"\",\n",
    "    axis=1\n",
    ")"
   ]
  },
  {
   "cell_type": "code",
   "execution_count": 119,
   "id": "e53a03c8",
   "metadata": {
    "ExecuteTime": {
     "end_time": "2022-03-13T22:28:13.384625Z",
     "start_time": "2022-03-13T22:28:13.357385Z"
    }
   },
   "outputs": [],
   "source": [
    "ANONYMOUS = False\n",
    "KEEP_ONLY_CONFIRMED = True \n",
    "\n",
    "col_renaming = {\n",
    "    \"index\": \"ID\",\n",
    "    \"mr_used\": \"Metamorphic Transf.\",\n",
    "    \"link_to_issue\": \"Report\",\n",
    "    \"status\": \"Status\",\n",
    "    #\"API_usage\": \"API usage\",\n",
    "    \"manifestation\": \"How\",\n",
    "    \"crash_category\": \"Crash Msg\",\n",
    "    \"known_before\": \"Novelty\",\n",
    "    #\"bug_description\": \"Description\",\n",
    "    #\"root_cause\": \"Root Cause\",\n",
    "}\n",
    "\n",
    "if ANONYMOUS:\n",
    "    df_bugs[\"link_to_issue\"] = \"#XXXX\"\n",
    "else:\n",
    "    df_bugs[\"link_to_issue\"] = df_bugs[\"link_to_issue\"].apply(\n",
    "        lambda e: e.replace(\"https://github.com/Qiskit/qiskit-terra/issues/\", \"#\")\n",
    "    )\n",
    "\n",
    "df_bugs[\"known_before\"] = df_bugs[\"known_before\"].apply(\n",
    "    lambda e: str(e).replace(\"duplicate (different manifestation)\", \"duplicate*\")\n",
    ")"
   ]
  },
  {
   "cell_type": "code",
   "execution_count": 120,
   "id": "c42383bc",
   "metadata": {
    "ExecuteTime": {
     "end_time": "2022-03-13T22:28:15.751955Z",
     "start_time": "2022-03-13T22:28:15.709616Z"
    }
   },
   "outputs": [
    {
     "name": "stdout",
     "output_type": "stream",
     "text": [
      "\\begin{tabular}{lp{3cm}lllp{6.5cm}l}\n",
      "\\toprule\n",
      " ID &                  Metamorphic Transf. & Report &         Status &        How &                                         Crash Msg &    Novelty \\\\\n",
      "\\midrule\n",
      "  0 &                    ChangeTargetBasis &  \\#7641 &      confirmed &      crash &                          Instruction id not found &  duplicate \\\\\n",
      "  1 &                    ChangeTargetBasis &  \\#7636 &      confirmed &    timeout &                                                 - & duplicate* \\\\\n",
      "  2 &    ChangeOptLevel, ChangeCouplingMap &  \\#7694 &      confirmed &      crash &                         qargs not in this circuit &        new \\\\\n",
      "  3 &     ChangeOptLevel, InjectNullEffect &  \\#7700 &      confirmed &      crash &             too many subscripts in einsum (numpy) &        new \\\\\n",
      "  4 &                     InjectParameters &  \\#7326 &      confirmed &      crash &                  Mismatch between parameter\\_binds &  duplicate \\\\\n",
      "  5 &                     InjectParameters &  \\#7748 &      confirmed &      crash & Cannot bind parameters not present in the circuit &        new \\\\\n",
      "  6 &                        ToQasmAndBack &  \\#7749 &      confirmed &      crash &              Duplicate declaration for gate 'rzx' & duplicate* \\\\\n",
      "  7 &                        ToQasmAndBack &  \\#7750 &      confirmed &      crash &               Gate or opaque call to 'subcircuit' &        new \\\\\n",
      "  8 &                        ToQasmAndBack &  \\#7756 &      confirmed &      crash &            Cannot find gate definition for 'c3sx' &  duplicate \\\\\n",
      "  9 &                       ChangeOptLevel &  \\#7642 & false positive & divergence &                                                 - &          - \\\\\n",
      " 10 &                    ChangeTargetBasis &      - & false positive &      crash &                        Unable to map source basis &          - \\\\\n",
      " 11 & ChangeCouplingMap, AddUnusedRegister &      - & false positive &      crash &         Number of qubits larger than coupling\\_map &          - \\\\\n",
      " 12 &                    AddUnusedRegister &      - & false positive &      crash &                        QREG size must be positive &          - \\\\\n",
      " 13 &                       SectionWiseOpt &      - &              - & divergence &                                                 - &          - \\\\\n",
      " 14 &        ToQasmAndBack, ChangeOptLevel &  \\#7770 &              - & divergence &                                                 - &          - \\\\\n",
      " 15 &                        ToQasmAndBack &  \\#7769 &              - &      crash &             Cannot find gate definition for 'rzx' &          - \\\\\n",
      " 16 &                        ToQasmAndBack &  \\#7771 &              - &      crash &              Duplicate declaration for gate 'ryy' &          - \\\\\n",
      "\\bottomrule\n",
      "\\end{tabular}\n",
      "\n"
     ]
    }
   ],
   "source": [
    "relevant_columns = col_renaming.keys()\n",
    "df_table = df_bugs[relevant_columns].rename(columns=col_renaming)\n",
    "df_table.head()\n",
    "\n",
    "print(df_table.to_latex(\n",
    "    column_format='lp{3cm}lllp{6.5cm}l',\n",
    "    index=False))"
   ]
  },
  {
   "cell_type": "markdown",
   "id": "5f0199d4",
   "metadata": {},
   "source": [
    "## How crashes lead to the different bugs?"
   ]
  },
  {
   "cell_type": "code",
   "execution_count": 121,
   "id": "2eaf0785",
   "metadata": {
    "ExecuteTime": {
     "end_time": "2022-03-13T22:28:25.263560Z",
     "start_time": "2022-03-13T22:28:25.239108Z"
    }
   },
   "outputs": [],
   "source": [
    "from copy import deepcopy\n",
    "\n",
    "def normalize_names(df: pd.DataFrame, col: str, mapping:List[Tuple[str, str]]):\n",
    "    \"\"\"Replace the value of the given column according to the mapping.\n",
    "    \n",
    "    Each cell that contains the first string, will be replaced completely \n",
    "    with the second string of the tuple.\"\"\"\n",
    "    df = deepcopy(df)\n",
    "    for hook, replacement in mapping:\n",
    "        if isinstance(hook, list):\n",
    "            for sub_hook in hook:\n",
    "                df.loc[df[col].str.contains(sub_hook), col] = replacement\n",
    "        else:\n",
    "            df.loc[df[col].str.contains(hook), col] = replacement\n",
    "    return df"
   ]
  },
  {
   "cell_type": "code",
   "execution_count": 122,
   "id": "8c4a4428",
   "metadata": {
    "ExecuteTime": {
     "end_time": "2022-03-13T22:28:26.452606Z",
     "start_time": "2022-03-13T22:28:26.422500Z"
    }
   },
   "outputs": [
    {
     "name": "stdout",
     "output_type": "stream",
     "text": [
      "TOP 10 CRASH MESSAGES (without normalization)\n"
     ]
    },
    {
     "data": {
      "text/plain": [
       "[('\"Duplicate declaration for gate \\'rzx\\' at line 4, file .\\\\nPrevious occurrence at line 3, file \"',\n",
       "  3588),\n",
       " ('\"Duplicate declaration for gate \\'rzx\\' at line 6, file .\\\\nPrevious occurrence at line 5, file \"',\n",
       "  645),\n",
       " ('\"Cannot find gate definition for \\'rzx\\', line 3 file \"', 126)]"
      ]
     },
     "execution_count": 122,
     "metadata": {},
     "output_type": "execute_result"
    }
   ],
   "source": [
    "from collections import Counter\n",
    "\n",
    "K = 10\n",
    "print(f\"TOP {K} CRASH MESSAGES (without normalization)\")\n",
    "c = Counter(df_crash[\"exceptions.followup\"])\n",
    "c.most_common(3)"
   ]
  },
  {
   "cell_type": "code",
   "execution_count": 160,
   "id": "c02f3616",
   "metadata": {
    "ExecuteTime": {
     "end_time": "2022-03-13T22:51:42.410564Z",
     "start_time": "2022-03-13T22:51:41.750730Z"
    },
    "scrolled": false
   },
   "outputs": [
    {
     "name": "stdout",
     "output_type": "stream",
     "text": [
      "Instruction id not found in equivalence library  >  Instruction id not found\n",
      "qargs not in this circuit  >  qargs not in this circuit\n",
      "too many subscripts in einsum  >  too many subscripts in einsum (numpy)\n",
      "['Mismatch between run_config.parameter_binds', ' unbound parameters']  >  Mismatch between parameter_binds\n",
      "Cannot bind parameters  >  Cannot bind parameters not present in the circuit\n",
      "Duplicate declaration for gate 'rzx'  >  Duplicate declaration for gate 'rzx'\n",
      "Gate or opaque call to 'subcircuit'  >  Gate or opaque call to 'subcircuit'\n",
      "Cannot find gate definition for 'c3sx'  >  Cannot find gate definition for 'c3sx'\n",
      "Unable to map source basis  >  Unable to map source basis\n",
      "greater than maximum  >  Number of qubits larger than coupling_map\n",
      "QREG size must be positive  >  QREG size must be positive\n",
      "Cannot find gate definition for 'rzx'  >  Cannot find gate definition for 'rzx'\n",
      "Duplicate declaration for gate 'ryy'  >  Duplicate declaration for gate 'ryy'\n"
     ]
    },
    {
     "data": {
      "image/png": "[encoded data removed]",
      "text/plain": [
       "<Figure size 360x252 with 1 Axes>"
      ]
     },
     "metadata": {
      "needs_background": "light"
     },
     "output_type": "display_data"
    }
   ],
   "source": [
    "exception_attribution = [\n",
    "    {\n",
    "        \"hint\": \"Mismatch between run_config.parameter_binds\",\n",
    "        \"desc\": \"Mismatch between run_config.parameter_binds\",\n",
    "        \"short\": \"CUGate\",\n",
    "        \"mr\": [\"InjectParameters\"],\n",
    "        \"status\": \"confirmed\",\n",
    "        \"n_bugs\": 1\n",
    "    },\n",
    "    {\n",
    "        \"hint\": [\"Cannot bind parameters\", \"unbound parameters\"],\n",
    "        \"desc\": \"Cannot bind parameters\",\n",
    "        \"short\": \"C3XGate,CU3Gate\",\n",
    "        \"mr\": [\"InjectParameters\"],\n",
    "        \"status\": \"confirmed\",\n",
    "        \"n_bugs\": 2\n",
    "    },\n",
    "    {\n",
    "        \"hint\": \"greater than maximum\",\n",
    "        \"desc\": \"Number of qubits larger than coupling_map\",\n",
    "        \"short\": \"Coupling+NewRegister\",\n",
    "        \"mr\": [\"AddUnusedRegister\"],\n",
    "        \"status\": \"false positive\",\n",
    "        \"n_bugs\": 0\n",
    "    },\n",
    "    {\n",
    "        \"hint\": \"Unable to map source basis\",\n",
    "        \"desc\": \"Unable to map source basis\",\n",
    "        \"short\": \"NoEquivalenceInLib\",\n",
    "        \"mr\": [\"ChangeCouplingMap\"],\n",
    "        \"status\": \"false positive\",\n",
    "        \"n_bugs\": 0\n",
    "    },\n",
    "    {\n",
    "        \"hint\": \"QREG size must be positive\",\n",
    "        \"desc\": \"Add zero size register\",\n",
    "        \"short\": \"NoEquivalenceInLib\",\n",
    "        \"mr\": [\"AddUnusedRegister\"],\n",
    "        \"status\": \"false positive\",\n",
    "        \"n_bugs\": 0\n",
    "    },\n",
    "    {\n",
    "        \"hint\": \"Instruction id not found\",\n",
    "        \"desc\": \"Instruction id not found\",\n",
    "        \"short\": \"IDGate\",\n",
    "        \"mr\": [\"ChangeCouplingMap\"],\n",
    "        \"status\": \"confirmed\",\n",
    "        \"n_bugs\": 1\n",
    "    },\n",
    "    {\n",
    "        \"hint\": \"Cannot find gate definition for 'c3sx'\",\n",
    "        \"desc\": \"Cannot find gate definition for 'c3sx'\",\n",
    "        \"short\": \"c3sx wrong def\",\n",
    "        \"mr\": [\"ToQasmAndBack\"],\n",
    "        \"status\": \"confirmed\",\n",
    "        \"n_bugs\": 1\n",
    "    },\n",
    "    {\n",
    "        \"hint\": \"Gate or opaque call to 'subcircuit'\",\n",
    "        \"desc\": \"Gate or opaque call to 'subcircuit'\",\n",
    "        \"short\": \"no classic reg in gate\",\n",
    "        \"mr\": [\"ToQasmAndBack\"],\n",
    "        \"status\": \"confirmed\",\n",
    "        \"n_bugs\": 1\n",
    "    },\n",
    "    {\n",
    "        \"hint\": \"Duplicate declaration for gate 'rzx'\",\n",
    "        \"desc\": \"Duplicate declaration for gate 'rzx'\",\n",
    "        \"short\": \"ECRGate\",\n",
    "        \"mr\": [\"ToQasmAndBack\"],\n",
    "        \"status\": \"confirmed\",\n",
    "        \"n_bugs\": 1\n",
    "    },\n",
    "    {\n",
    "        \"hint\": \"Duplicate declaration for gate 'ryy'\",\n",
    "        \"desc\": \"Duplicate declaration for gate 'ryy'\",\n",
    "        \"short\": \"RYYGate in Subcircuit\",\n",
    "        \"mr\": [\"ToQasmAndBack\", \"InjectNullEffect\"],\n",
    "        \"status\": \"confirmed\",\n",
    "        \"n_bugs\": 1\n",
    "    },\n",
    "    {\n",
    "        \"hint\": \"Cannot find gate definition for 'rzx'\",\n",
    "        \"desc\": \"Cannot find gate definition for 'rzx'\",\n",
    "        \"short\": \"ECRate in subcircuit + inverse\",\n",
    "        \"mr\": [\"ToQasmAndBack\", \"InjectNullEffect\"],\n",
    "        \"status\": \"confirmed\",\n",
    "        \"n_bugs\": 1\n",
    "    },\n",
    "    {\n",
    "        \"hint\": \"too many subscripts in einsum\",\n",
    "        \"desc\": \"too many subscripts in einsum (Numpy)\",\n",
    "        \"short\": \"Too big subcricuit\",\n",
    "        \"mr\": [\"InjectNullEffect\"],\n",
    "        \"status\": \"confirmed\",\n",
    "        \"n_bugs\": 1\n",
    "    }\n",
    "]\n",
    "\n",
    "exception_mapping = [\n",
    "    [e['hint'], e['desc']] for e in exception_attribution\n",
    "]\n",
    "\n",
    "exception_mapping = list(zip(df_bugs[\"hook_hint\"], df_bugs[\"crash_category\"]))\n",
    "# remove spurious tuple (\"-\", \"-\") comuning from bugs detected via divergence\n",
    "# in the dataset\n",
    "exception_mapping = [\n",
    "    e\n",
    "    for e in exception_mapping\n",
    "    if (e[0] != \"-\" and e[1] != \"-\")\n",
    "]\n",
    "# separate those with multiple hooks separated by the comma\n",
    "# this happens because we might have multiple messages which maps back to the\n",
    "# same crash category\n",
    "exception_mapping = [\n",
    "    (e[0].split(\",\"), e[1]) if \",\" in e[0] else e \n",
    "    for e in exception_mapping\n",
    "]\n",
    "\n",
    "[print(e[0], \" > \", e[1]) for e in exception_mapping]\n",
    "\n",
    "df_crash_norm = normalize_names(\n",
    "    df=df_first_2_days_crash, \n",
    "    col=\"exceptions.followup\",\n",
    "    mapping=exception_mapping\n",
    ")\n",
    "\n",
    "fig, ax = plt.subplots(figsize=(5, 3.5))\n",
    "\n",
    "sns.countplot(\n",
    "    data=df_crash_norm,\n",
    "    y=\"exceptions.followup\",\n",
    "    ax=ax\n",
    ")\n",
    "ax.set_ylabel(\"Crash Message Category\")\n",
    "ax.set_xlabel(\"No. crashes\")\n",
    "ax.grid(axis='x')\n",
    "ax.set_xscale('log')\n",
    "#ax.set_xlim(0, 100)\n",
    "#ax.set_title(\"Crash Messages (Normalized)\")\n",
    "plt.tight_layout()\n",
    "fig.savefig(os.path.join(OUT_FOLDER, \"RQ2_count_plot_crash_messages.pdf\"))"
   ]
  },
  {
   "cell_type": "markdown",
   "id": "599d0e92",
   "metadata": {},
   "source": [
    "# RQ 3: how do the different metamorphic relations contribute?"
   ]
  },
  {
   "cell_type": "markdown",
   "id": "8cedeb75",
   "metadata": {},
   "source": [
    "## Relationship between MR and unique crashes messages"
   ]
  },
  {
   "cell_type": "code",
   "execution_count": 153,
   "id": "6f1c5f11",
   "metadata": {
    "ExecuteTime": {
     "end_time": "2022-03-13T22:43:49.187247Z",
     "start_time": "2022-03-13T22:43:49.134683Z"
    }
   },
   "outputs": [
    {
     "data": {
      "text/html": [
       "<div>\n",
       "<style scoped>\n",
       "    .dataframe tbody tr th:only-of-type {\n",
       "        vertical-align: middle;\n",
       "    }\n",
       "\n",
       "    .dataframe tbody tr th {\n",
       "        vertical-align: top;\n",
       "    }\n",
       "\n",
       "    .dataframe thead th {\n",
       "        text-align: right;\n",
       "    }\n",
       "</style>\n",
       "<table border=\"1\" class=\"dataframe\">\n",
       "  <thead>\n",
       "    <tr style=\"text-align: right;\">\n",
       "      <th></th>\n",
       "      <th>crash_category</th>\n",
       "      <th>mr_used</th>\n",
       "      <th>status</th>\n",
       "      <th>count</th>\n",
       "    </tr>\n",
       "  </thead>\n",
       "  <tbody>\n",
       "    <tr>\n",
       "      <th>0</th>\n",
       "      <td>Cannot bind parameters not present in the circuit</td>\n",
       "      <td>InjectParameters</td>\n",
       "      <td>confirmed</td>\n",
       "      <td>101</td>\n",
       "    </tr>\n",
       "    <tr>\n",
       "      <th>1</th>\n",
       "      <td>Cannot find gate definition for 'c3sx'</td>\n",
       "      <td>ToQasmAndBack</td>\n",
       "      <td>confirmed</td>\n",
       "      <td>15</td>\n",
       "    </tr>\n",
       "    <tr>\n",
       "      <th>2</th>\n",
       "      <td>Cannot find gate definition for 'rzx'</td>\n",
       "      <td>ToQasmAndBack</td>\n",
       "      <td>-</td>\n",
       "      <td>60</td>\n",
       "    </tr>\n",
       "    <tr>\n",
       "      <th>3</th>\n",
       "      <td>Duplicate declaration for gate 'ryy'</td>\n",
       "      <td>ToQasmAndBack</td>\n",
       "      <td>-</td>\n",
       "      <td>19</td>\n",
       "    </tr>\n",
       "    <tr>\n",
       "      <th>4</th>\n",
       "      <td>Duplicate declaration for gate 'rzx'</td>\n",
       "      <td>ToQasmAndBack</td>\n",
       "      <td>confirmed</td>\n",
       "      <td>1719</td>\n",
       "    </tr>\n",
       "    <tr>\n",
       "      <th>5</th>\n",
       "      <td>Gate or opaque call to 'subcircuit'</td>\n",
       "      <td>ToQasmAndBack</td>\n",
       "      <td>confirmed</td>\n",
       "      <td>11</td>\n",
       "    </tr>\n",
       "    <tr>\n",
       "      <th>6</th>\n",
       "      <td>Instruction id not found</td>\n",
       "      <td>ChangeTargetBasis</td>\n",
       "      <td>confirmed</td>\n",
       "      <td>37</td>\n",
       "    </tr>\n",
       "    <tr>\n",
       "      <th>7</th>\n",
       "      <td>Mismatch between parameter_binds</td>\n",
       "      <td>InjectParameters</td>\n",
       "      <td>confirmed</td>\n",
       "      <td>31</td>\n",
       "    </tr>\n",
       "    <tr>\n",
       "      <th>8</th>\n",
       "      <td>Number of qubits larger than coupling_map</td>\n",
       "      <td>ChangeCouplingMap, AddUnusedRegister</td>\n",
       "      <td>false positive</td>\n",
       "      <td>297</td>\n",
       "    </tr>\n",
       "    <tr>\n",
       "      <th>9</th>\n",
       "      <td>QREG size must be positive</td>\n",
       "      <td>AddUnusedRegister</td>\n",
       "      <td>false positive</td>\n",
       "      <td>3</td>\n",
       "    </tr>\n",
       "    <tr>\n",
       "      <th>10</th>\n",
       "      <td>Unable to map source basis</td>\n",
       "      <td>ChangeTargetBasis</td>\n",
       "      <td>false positive</td>\n",
       "      <td>250</td>\n",
       "    </tr>\n",
       "    <tr>\n",
       "      <th>11</th>\n",
       "      <td>too many subscripts in einsum (numpy)</td>\n",
       "      <td>ChangeOptLevel, InjectNullEffect</td>\n",
       "      <td>confirmed</td>\n",
       "      <td>5</td>\n",
       "    </tr>\n",
       "  </tbody>\n",
       "</table>\n",
       "</div>"
      ],
      "text/plain": [
       "                                       crash_category  \\\n",
       "0   Cannot bind parameters not present in the circuit   \n",
       "1              Cannot find gate definition for 'c3sx'   \n",
       "2               Cannot find gate definition for 'rzx'   \n",
       "3                Duplicate declaration for gate 'ryy'   \n",
       "4                Duplicate declaration for gate 'rzx'   \n",
       "5                 Gate or opaque call to 'subcircuit'   \n",
       "6                            Instruction id not found   \n",
       "7                    Mismatch between parameter_binds   \n",
       "8           Number of qubits larger than coupling_map   \n",
       "9                          QREG size must be positive   \n",
       "10                         Unable to map source basis   \n",
       "11              too many subscripts in einsum (numpy)   \n",
       "\n",
       "                                 mr_used          status  count  \n",
       "0                       InjectParameters       confirmed    101  \n",
       "1                          ToQasmAndBack       confirmed     15  \n",
       "2                          ToQasmAndBack               -     60  \n",
       "3                          ToQasmAndBack               -     19  \n",
       "4                          ToQasmAndBack       confirmed   1719  \n",
       "5                          ToQasmAndBack       confirmed     11  \n",
       "6                      ChangeTargetBasis       confirmed     37  \n",
       "7                       InjectParameters       confirmed     31  \n",
       "8   ChangeCouplingMap, AddUnusedRegister  false positive    297  \n",
       "9                      AddUnusedRegister  false positive      3  \n",
       "10                     ChangeTargetBasis  false positive    250  \n",
       "11      ChangeOptLevel, InjectNullEffect       confirmed      5  "
      ]
     },
     "execution_count": 153,
     "metadata": {},
     "output_type": "execute_result"
    }
   ],
   "source": [
    "relevant_columns = list(df_bugs.columns)\n",
    "relevant_columns.remove(\"program_id\")\n",
    "df_crash_to_MR = pd.merge(\n",
    "    left=df_crash_norm,\n",
    "    right=df_bugs[relevant_columns],\n",
    "    left_on=\"exceptions.followup\",\n",
    "    right_on=\"crash_category\",\n",
    ")\n",
    "df_crash_to_MR = df_crash_to_MR.groupby(\n",
    "    by=[\"crash_category\", \"mr_used\", \"status\"]\n",
    ")[\"program_id\"].count().reset_index().rename(columns={\n",
    "    \"program_id\": \"count\"\n",
    "})\n",
    "df_crash_to_MR.head(20)"
   ]
  },
  {
   "cell_type": "code",
   "execution_count": 154,
   "id": "46c90613",
   "metadata": {
    "ExecuteTime": {
     "end_time": "2022-03-13T22:44:29.883549Z",
     "start_time": "2022-03-13T22:44:29.852480Z"
    }
   },
   "outputs": [],
   "source": [
    "all_labels = list(set(\n",
    "    df_crash_to_MR[\"mr_used\"].tolist() + \n",
    "    df_crash_to_MR[\"crash_category\"].tolist() +\n",
    "    df_crash_to_MR[\"status\"].tolist()\n",
    "))\n",
    "\n",
    "mapping_labels_to_node_ids = {\n",
    "    e: i\n",
    "    for i, e in enumerate(all_labels)\n",
    "}"
   ]
  },
  {
   "cell_type": "code",
   "execution_count": 155,
   "id": "faf54645",
   "metadata": {
    "ExecuteTime": {
     "end_time": "2022-03-13T22:44:30.930933Z",
     "start_time": "2022-03-13T22:44:30.904602Z"
    }
   },
   "outputs": [
    {
     "data": {
      "text/plain": [
       "{'too many subscripts in einsum (numpy)': 0,\n",
       " 'false positive': 1,\n",
       " 'InjectParameters': 2,\n",
       " 'AddUnusedRegister': 3,\n",
       " 'ToQasmAndBack': 4,\n",
       " 'confirmed': 5,\n",
       " 'Mismatch between parameter_binds': 6,\n",
       " 'ChangeOptLevel, InjectNullEffect': 7,\n",
       " 'ChangeTargetBasis': 8,\n",
       " 'Number of qubits larger than coupling_map': 9,\n",
       " \"Duplicate declaration for gate 'ryy'\": 10,\n",
       " 'QREG size must be positive': 11,\n",
       " \"Duplicate declaration for gate 'rzx'\": 12,\n",
       " 'ChangeCouplingMap, AddUnusedRegister': 13,\n",
       " '-': 14,\n",
       " 'Instruction id not found': 15,\n",
       " 'Cannot bind parameters not present in the circuit': 16,\n",
       " 'Unable to map source basis': 17,\n",
       " \"Gate or opaque call to 'subcircuit'\": 18,\n",
       " \"Cannot find gate definition for 'c3sx'\": 19,\n",
       " \"Cannot find gate definition for 'rzx'\": 20}"
      ]
     },
     "execution_count": 155,
     "metadata": {},
     "output_type": "execute_result"
    }
   ],
   "source": [
    "mapping_labels_to_node_ids"
   ]
  },
  {
   "cell_type": "code",
   "execution_count": 159,
   "id": "2e9f1128",
   "metadata": {
    "ExecuteTime": {
     "end_time": "2022-03-13T22:47:25.574160Z",
     "start_time": "2022-03-13T22:47:25.462825Z"
    }
   },
   "outputs": [
    {
     "data": {
      "application/vnd.plotly.v1+json": {
       "config": {
        "plotlyServerURL": "https://plot.ly"
       },
       "data": [
        {
         "link": {
          "source": [
           16,
           19,
           20,
           10,
           12,
           18,
           15,
           6,
           9,
           11,
           17,
           0
          ],
          "target": [
           2,
           4,
           4,
           4,
           4,
           4,
           8,
           2,
           13,
           3,
           8,
           7
          ],
          "value": [
           101,
           15,
           60,
           19,
           1719,
           11,
           37,
           31,
           297,
           3,
           250,
           5
          ]
         },
         "node": {
          "color": [
           "orange",
           "gray",
           "gray",
           "gray",
           "gray",
           "gray",
           "orange",
           "gray",
           "gray",
           "gray",
           "gray",
           "gray",
           "orange",
           "gray",
           "orange",
           "orange",
           "orange",
           "gray",
           "orange",
           "orange",
           "gray"
          ],
          "label": [
           "too many subscripts in einsum (numpy)",
           "false positive",
           "InjectParameters",
           "AddUnusedRegister",
           "ToQasmAndBack",
           "confirmed",
           "Mismatch between parameter_binds",
           "ChangeOptLevel, InjectNullEffect",
           "ChangeTargetBasis",
           "Number of qubits larger than coupling_map",
           "Duplicate declaration for gate 'ryy'",
           "QREG size must be positive",
           "Duplicate declaration for gate 'rzx'",
           "ChangeCouplingMap, AddUnusedRegister",
           "-",
           "Instruction id not found",
           "Cannot bind parameters not present in the circuit",
           "Unable to map source basis",
           "Gate or opaque call to 'subcircuit'",
           "Cannot find gate definition for 'c3sx'",
           "Cannot find gate definition for 'rzx'"
          ],
          "line": {
           "color": "black",
           "width": 0
          },
          "pad": 10,
          "thickness": 30
         },
         "type": "sankey"
        }
       ],
       "layout": {
        "autosize": false,
        "height": 400,
        "margin": {
         "b": 20,
         "l": 20,
         "r": 20,
         "t": 20
        },
        "template": {
         "data": {
          "bar": [
           {
            "error_x": {
             "color": "#2a3f5f"
            },
            "error_y": {
             "color": "#2a3f5f"
            },
            "marker": {
             "line": {
              "color": "#E5ECF6",
              "width": 0.5
             },
             "pattern": {
              "fillmode": "overlay",
              "size": 10,
              "solidity": 0.2
             }
            },
            "type": "bar"
           }
          ],
          "barpolar": [
           {
            "marker": {
             "line": {
              "color": "#E5ECF6",
              "width": 0.5
             },
             "pattern": {
              "fillmode": "overlay",
              "size": 10,
              "solidity": 0.2
             }
            },
            "type": "barpolar"
           }
          ],
          "carpet": [
           {
            "aaxis": {
             "endlinecolor": "#2a3f5f",
             "gridcolor": "white",
             "linecolor": "white",
             "minorgridcolor": "white",
             "startlinecolor": "#2a3f5f"
            },
            "baxis": {
             "endlinecolor": "#2a3f5f",
             "gridcolor": "white",
             "linecolor": "white",
             "minorgridcolor": "white",
             "startlinecolor": "#2a3f5f"
            },
            "type": "carpet"
           }
          ],
          "choropleth": [
           {
            "colorbar": {
             "outlinewidth": 0,
             "ticks": ""
            },
            "type": "choropleth"
           }
          ],
          "contour": [
           {
            "colorbar": {
             "outlinewidth": 0,
             "ticks": ""
            },
            "colorscale": [
             [
              0,
              "#0d0887"
             ],
             [
              0.1111111111111111,
              "#46039f"
             ],
             [
              0.2222222222222222,
              "#7201a8"
             ],
             [
              0.3333333333333333,
              "#9c179e"
             ],
             [
              0.4444444444444444,
              "#bd3786"
             ],
             [
              0.5555555555555556,
              "#d8576b"
             ],
             [
              0.6666666666666666,
              "#ed7953"
             ],
             [
              0.7777777777777778,
              "#fb9f3a"
             ],
             [
              0.8888888888888888,
              "#fdca26"
             ],
             [
              1,
              "#f0f921"
             ]
            ],
            "type": "contour"
           }
          ],
          "contourcarpet": [
           {
            "colorbar": {
             "outlinewidth": 0,
             "ticks": ""
            },
            "type": "contourcarpet"
           }
          ],
          "heatmap": [
           {
            "colorbar": {
             "outlinewidth": 0,
             "ticks": ""
            },
            "colorscale": [
             [
              0,
              "#0d0887"
             ],
             [
              0.1111111111111111,
              "#46039f"
             ],
             [
              0.2222222222222222,
              "#7201a8"
             ],
             [
              0.3333333333333333,
              "#9c179e"
             ],
             [
              0.4444444444444444,
              "#bd3786"
             ],
             [
              0.5555555555555556,
              "#d8576b"
             ],
             [
              0.6666666666666666,
              "#ed7953"
             ],
             [
              0.7777777777777778,
              "#fb9f3a"
             ],
             [
              0.8888888888888888,
              "#fdca26"
             ],
             [
              1,
              "#f0f921"
             ]
            ],
            "type": "heatmap"
           }
          ],
          "heatmapgl": [
           {
            "colorbar": {
             "outlinewidth": 0,
             "ticks": ""
            },
            "colorscale": [
             [
              0,
              "#0d0887"
             ],
             [
              0.1111111111111111,
              "#46039f"
             ],
             [
              0.2222222222222222,
              "#7201a8"
             ],
             [
              0.3333333333333333,
              "#9c179e"
             ],
             [
              0.4444444444444444,
              "#bd3786"
             ],
             [
              0.5555555555555556,
              "#d8576b"
             ],
             [
              0.6666666666666666,
              "#ed7953"
             ],
             [
              0.7777777777777778,
              "#fb9f3a"
             ],
             [
              0.8888888888888888,
              "#fdca26"
             ],
             [
              1,
              "#f0f921"
             ]
            ],
            "type": "heatmapgl"
           }
          ],
          "histogram": [
           {
            "marker": {
             "pattern": {
              "fillmode": "overlay",
              "size": 10,
              "solidity": 0.2
             }
            },
            "type": "histogram"
           }
          ],
          "histogram2d": [
           {
            "colorbar": {
             "outlinewidth": 0,
             "ticks": ""
            },
            "colorscale": [
             [
              0,
              "#0d0887"
             ],
             [
              0.1111111111111111,
              "#46039f"
             ],
             [
              0.2222222222222222,
              "#7201a8"
             ],
             [
              0.3333333333333333,
              "#9c179e"
             ],
             [
              0.4444444444444444,
              "#bd3786"
             ],
             [
              0.5555555555555556,
              "#d8576b"
             ],
             [
              0.6666666666666666,
              "#ed7953"
             ],
             [
              0.7777777777777778,
              "#fb9f3a"
             ],
             [
              0.8888888888888888,
              "#fdca26"
             ],
             [
              1,
              "#f0f921"
             ]
            ],
            "type": "histogram2d"
           }
          ],
          "histogram2dcontour": [
           {
            "colorbar": {
             "outlinewidth": 0,
             "ticks": ""
            },
            "colorscale": [
             [
              0,
              "#0d0887"
             ],
             [
              0.1111111111111111,
              "#46039f"
             ],
             [
              0.2222222222222222,
              "#7201a8"
             ],
             [
              0.3333333333333333,
              "#9c179e"
             ],
             [
              0.4444444444444444,
              "#bd3786"
             ],
             [
              0.5555555555555556,
              "#d8576b"
             ],
             [
              0.6666666666666666,
              "#ed7953"
             ],
             [
              0.7777777777777778,
              "#fb9f3a"
             ],
             [
              0.8888888888888888,
              "#fdca26"
             ],
             [
              1,
              "#f0f921"
             ]
            ],
            "type": "histogram2dcontour"
           }
          ],
          "mesh3d": [
           {
            "colorbar": {
             "outlinewidth": 0,
             "ticks": ""
            },
            "type": "mesh3d"
           }
          ],
          "parcoords": [
           {
            "line": {
             "colorbar": {
              "outlinewidth": 0,
              "ticks": ""
             }
            },
            "type": "parcoords"
           }
          ],
          "pie": [
           {
            "automargin": true,
            "type": "pie"
           }
          ],
          "scatter": [
           {
            "marker": {
             "colorbar": {
              "outlinewidth": 0,
              "ticks": ""
             }
            },
            "type": "scatter"
           }
          ],
          "scatter3d": [
           {
            "line": {
             "colorbar": {
              "outlinewidth": 0,
              "ticks": ""
             }
            },
            "marker": {
             "colorbar": {
              "outlinewidth": 0,
              "ticks": ""
             }
            },
            "type": "scatter3d"
           }
          ],
          "scattercarpet": [
           {
            "marker": {
             "colorbar": {
              "outlinewidth": 0,
              "ticks": ""
             }
            },
            "type": "scattercarpet"
           }
          ],
          "scattergeo": [
           {
            "marker": {
             "colorbar": {
              "outlinewidth": 0,
              "ticks": ""
             }
            },
            "type": "scattergeo"
           }
          ],
          "scattergl": [
           {
            "marker": {
             "colorbar": {
              "outlinewidth": 0,
              "ticks": ""
             }
            },
            "type": "scattergl"
           }
          ],
          "scattermapbox": [
           {
            "marker": {
             "colorbar": {
              "outlinewidth": 0,
              "ticks": ""
             }
            },
            "type": "scattermapbox"
           }
          ],
          "scatterpolar": [
           {
            "marker": {
             "colorbar": {
              "outlinewidth": 0,
              "ticks": ""
             }
            },
            "type": "scatterpolar"
           }
          ],
          "scatterpolargl": [
           {
            "marker": {
             "colorbar": {
              "outlinewidth": 0,
              "ticks": ""
             }
            },
            "type": "scatterpolargl"
           }
          ],
          "scatterternary": [
           {
            "marker": {
             "colorbar": {
              "outlinewidth": 0,
              "ticks": ""
             }
            },
            "type": "scatterternary"
           }
          ],
          "surface": [
           {
            "colorbar": {
             "outlinewidth": 0,
             "ticks": ""
            },
            "colorscale": [
             [
              0,
              "#0d0887"
             ],
             [
              0.1111111111111111,
              "#46039f"
             ],
             [
              0.2222222222222222,
              "#7201a8"
             ],
             [
              0.3333333333333333,
              "#9c179e"
             ],
             [
              0.4444444444444444,
              "#bd3786"
             ],
             [
              0.5555555555555556,
              "#d8576b"
             ],
             [
              0.6666666666666666,
              "#ed7953"
             ],
             [
              0.7777777777777778,
              "#fb9f3a"
             ],
             [
              0.8888888888888888,
              "#fdca26"
             ],
             [
              1,
              "#f0f921"
             ]
            ],
            "type": "surface"
           }
          ],
          "table": [
           {
            "cells": {
             "fill": {
              "color": "#EBF0F8"
             },
             "line": {
              "color": "white"
             }
            },
            "header": {
             "fill": {
              "color": "#C8D4E3"
             },
             "line": {
              "color": "white"
             }
            },
            "type": "table"
           }
          ]
         },
         "layout": {
          "annotationdefaults": {
           "arrowcolor": "#2a3f5f",
           "arrowhead": 0,
           "arrowwidth": 1
          },
          "autotypenumbers": "strict",
          "coloraxis": {
           "colorbar": {
            "outlinewidth": 0,
            "ticks": ""
           }
          },
          "colorscale": {
           "diverging": [
            [
             0,
             "#8e0152"
            ],
            [
             0.1,
             "#c51b7d"
            ],
            [
             0.2,
             "#de77ae"
            ],
            [
             0.3,
             "#f1b6da"
            ],
            [
             0.4,
             "#fde0ef"
            ],
            [
             0.5,
             "#f7f7f7"
            ],
            [
             0.6,
             "#e6f5d0"
            ],
            [
             0.7,
             "#b8e186"
            ],
            [
             0.8,
             "#7fbc41"
            ],
            [
             0.9,
             "#4d9221"
            ],
            [
             1,
             "#276419"
            ]
           ],
           "sequential": [
            [
             0,
             "#0d0887"
            ],
            [
             0.1111111111111111,
             "#46039f"
            ],
            [
             0.2222222222222222,
             "#7201a8"
            ],
            [
             0.3333333333333333,
             "#9c179e"
            ],
            [
             0.4444444444444444,
             "#bd3786"
            ],
            [
             0.5555555555555556,
             "#d8576b"
            ],
            [
             0.6666666666666666,
             "#ed7953"
            ],
            [
             0.7777777777777778,
             "#fb9f3a"
            ],
            [
             0.8888888888888888,
             "#fdca26"
            ],
            [
             1,
             "#f0f921"
            ]
           ],
           "sequentialminus": [
            [
             0,
             "#0d0887"
            ],
            [
             0.1111111111111111,
             "#46039f"
            ],
            [
             0.2222222222222222,
             "#7201a8"
            ],
            [
             0.3333333333333333,
             "#9c179e"
            ],
            [
             0.4444444444444444,
             "#bd3786"
            ],
            [
             0.5555555555555556,
             "#d8576b"
            ],
            [
             0.6666666666666666,
             "#ed7953"
            ],
            [
             0.7777777777777778,
             "#fb9f3a"
            ],
            [
             0.8888888888888888,
             "#fdca26"
            ],
            [
             1,
             "#f0f921"
            ]
           ]
          },
          "colorway": [
           "#636efa",
           "#EF553B",
           "#00cc96",
           "#ab63fa",
           "#FFA15A",
           "#19d3f3",
           "#FF6692",
           "#B6E880",
           "#FF97FF",
           "#FECB52"
          ],
          "font": {
           "color": "#2a3f5f"
          },
          "geo": {
           "bgcolor": "white",
           "lakecolor": "white",
           "landcolor": "#E5ECF6",
           "showlakes": true,
           "showland": true,
           "subunitcolor": "white"
          },
          "hoverlabel": {
           "align": "left"
          },
          "hovermode": "closest",
          "mapbox": {
           "style": "light"
          },
          "paper_bgcolor": "white",
          "plot_bgcolor": "#E5ECF6",
          "polar": {
           "angularaxis": {
            "gridcolor": "white",
            "linecolor": "white",
            "ticks": ""
           },
           "bgcolor": "#E5ECF6",
           "radialaxis": {
            "gridcolor": "white",
            "linecolor": "white",
            "ticks": ""
           }
          },
          "scene": {
           "xaxis": {
            "backgroundcolor": "#E5ECF6",
            "gridcolor": "white",
            "gridwidth": 2,
            "linecolor": "white",
            "showbackground": true,
            "ticks": "",
            "zerolinecolor": "white"
           },
           "yaxis": {
            "backgroundcolor": "#E5ECF6",
            "gridcolor": "white",
            "gridwidth": 2,
            "linecolor": "white",
            "showbackground": true,
            "ticks": "",
            "zerolinecolor": "white"
           },
           "zaxis": {
            "backgroundcolor": "#E5ECF6",
            "gridcolor": "white",
            "gridwidth": 2,
            "linecolor": "white",
            "showbackground": true,
            "ticks": "",
            "zerolinecolor": "white"
           }
          },
          "shapedefaults": {
           "line": {
            "color": "#2a3f5f"
           }
          },
          "ternary": {
           "aaxis": {
            "gridcolor": "white",
            "linecolor": "white",
            "ticks": ""
           },
           "baxis": {
            "gridcolor": "white",
            "linecolor": "white",
            "ticks": ""
           },
           "bgcolor": "#E5ECF6",
           "caxis": {
            "gridcolor": "white",
            "linecolor": "white",
            "ticks": ""
           }
          },
          "title": {
           "x": 0.05
          },
          "xaxis": {
           "automargin": true,
           "gridcolor": "white",
           "linecolor": "white",
           "ticks": "",
           "title": {
            "standoff": 15
           },
           "zerolinecolor": "white",
           "zerolinewidth": 2
          },
          "yaxis": {
           "automargin": true,
           "gridcolor": "white",
           "linecolor": "white",
           "ticks": "",
           "title": {
            "standoff": 15
           },
           "zerolinecolor": "white",
           "zerolinewidth": 2
          }
         }
        },
        "width": 520
       }
      },
      "text/html": [
       "<div>                            <div id=\"dd79d8de-62e2-4a36-8d32-276fddbbb5e7\" class=\"plotly-graph-div\" style=\"height:400px; width:520px;\"></div>            <script type=\"text/javascript\">                require([\"plotly\"], function(Plotly) {                    window.PLOTLYENV=window.PLOTLYENV || {};                                    if (document.getElementById(\"dd79d8de-62e2-4a36-8d32-276fddbbb5e7\")) {                    Plotly.newPlot(                        \"dd79d8de-62e2-4a36-8d32-276fddbbb5e7\",                        [{\"link\":{\"source\":[16,19,20,10,12,18,15,6,9,11,17,0],\"target\":[2,4,4,4,4,4,8,2,13,3,8,7],\"value\":[101,15,60,19,1719,11,37,31,297,3,250,5]},\"node\":{\"color\":[\"orange\",\"gray\",\"gray\",\"gray\",\"gray\",\"gray\",\"orange\",\"gray\",\"gray\",\"gray\",\"gray\",\"gray\",\"orange\",\"gray\",\"orange\",\"orange\",\"orange\",\"gray\",\"orange\",\"orange\",\"gray\"],\"label\":[\"too many subscripts in einsum (numpy)\",\"false positive\",\"InjectParameters\",\"AddUnusedRegister\",\"ToQasmAndBack\",\"confirmed\",\"Mismatch between parameter_binds\",\"ChangeOptLevel, InjectNullEffect\",\"ChangeTargetBasis\",\"Number of qubits larger than coupling_map\",\"Duplicate declaration for gate 'ryy'\",\"QREG size must be positive\",\"Duplicate declaration for gate 'rzx'\",\"ChangeCouplingMap, AddUnusedRegister\",\"-\",\"Instruction id not found\",\"Cannot bind parameters not present in the circuit\",\"Unable to map source basis\",\"Gate or opaque call to 'subcircuit'\",\"Cannot find gate definition for 'c3sx'\",\"Cannot find gate definition for 'rzx'\"],\"line\":{\"color\":\"black\",\"width\":0},\"pad\":10,\"thickness\":30},\"type\":\"sankey\"}],                        {\"template\":{\"data\":{\"bar\":[{\"error_x\":{\"color\":\"#2a3f5f\"},\"error_y\":{\"color\":\"#2a3f5f\"},\"marker\":{\"line\":{\"color\":\"#E5ECF6\",\"width\":0.5},\"pattern\":{\"fillmode\":\"overlay\",\"size\":10,\"solidity\":0.2}},\"type\":\"bar\"}],\"barpolar\":[{\"marker\":{\"line\":{\"color\":\"#E5ECF6\",\"width\":0.5},\"pattern\":{\"fillmode\":\"overlay\",\"size\":10,\"solidity\":0.2}},\"type\":\"barpolar\"}],\"carpet\":[{\"aaxis\":{\"endlinecolor\":\"#2a3f5f\",\"gridcolor\":\"white\",\"linecolor\":\"white\",\"minorgridcolor\":\"white\",\"startlinecolor\":\"#2a3f5f\"},\"baxis\":{\"endlinecolor\":\"#2a3f5f\",\"gridcolor\":\"white\",\"linecolor\":\"white\",\"minorgridcolor\":\"white\",\"startlinecolor\":\"#2a3f5f\"},\"type\":\"carpet\"}],\"choropleth\":[{\"colorbar\":{\"outlinewidth\":0,\"ticks\":\"\"},\"type\":\"choropleth\"}],\"contour\":[{\"colorbar\":{\"outlinewidth\":0,\"ticks\":\"\"},\"colorscale\":[[0.0,\"#0d0887\"],[0.1111111111111111,\"#46039f\"],[0.2222222222222222,\"#7201a8\"],[0.3333333333333333,\"#9c179e\"],[0.4444444444444444,\"#bd3786\"],[0.5555555555555556,\"#d8576b\"],[0.6666666666666666,\"#ed7953\"],[0.7777777777777778,\"#fb9f3a\"],[0.8888888888888888,\"#fdca26\"],[1.0,\"#f0f921\"]],\"type\":\"contour\"}],\"contourcarpet\":[{\"colorbar\":{\"outlinewidth\":0,\"ticks\":\"\"},\"type\":\"contourcarpet\"}],\"heatmap\":[{\"colorbar\":{\"outlinewidth\":0,\"ticks\":\"\"},\"colorscale\":[[0.0,\"#0d0887\"],[0.1111111111111111,\"#46039f\"],[0.2222222222222222,\"#7201a8\"],[0.3333333333333333,\"#9c179e\"],[0.4444444444444444,\"#bd3786\"],[0.5555555555555556,\"#d8576b\"],[0.6666666666666666,\"#ed7953\"],[0.7777777777777778,\"#fb9f3a\"],[0.8888888888888888,\"#fdca26\"],[1.0,\"#f0f921\"]],\"type\":\"heatmap\"}],\"heatmapgl\":[{\"colorbar\":{\"outlinewidth\":0,\"ticks\":\"\"},\"colorscale\":[[0.0,\"#0d0887\"],[0.1111111111111111,\"#46039f\"],[0.2222222222222222,\"#7201a8\"],[0.3333333333333333,\"#9c179e\"],[0.4444444444444444,\"#bd3786\"],[0.5555555555555556,\"#d8576b\"],[0.6666666666666666,\"#ed7953\"],[0.7777777777777778,\"#fb9f3a\"],[0.8888888888888888,\"#fdca26\"],[1.0,\"#f0f921\"]],\"type\":\"heatmapgl\"}],\"histogram\":[{\"marker\":{\"pattern\":{\"fillmode\":\"overlay\",\"size\":10,\"solidity\":0.2}},\"type\":\"histogram\"}],\"histogram2d\":[{\"colorbar\":{\"outlinewidth\":0,\"ticks\":\"\"},\"colorscale\":[[0.0,\"#0d0887\"],[0.1111111111111111,\"#46039f\"],[0.2222222222222222,\"#7201a8\"],[0.3333333333333333,\"#9c179e\"],[0.4444444444444444,\"#bd3786\"],[0.5555555555555556,\"#d8576b\"],[0.6666666666666666,\"#ed7953\"],[0.7777777777777778,\"#fb9f3a\"],[0.8888888888888888,\"#fdca26\"],[1.0,\"#f0f921\"]],\"type\":\"histogram2d\"}],\"histogram2dcontour\":[{\"colorbar\":{\"outlinewidth\":0,\"ticks\":\"\"},\"colorscale\":[[0.0,\"#0d0887\"],[0.1111111111111111,\"#46039f\"],[0.2222222222222222,\"#7201a8\"],[0.3333333333333333,\"#9c179e\"],[0.4444444444444444,\"#bd3786\"],[0.5555555555555556,\"#d8576b\"],[0.6666666666666666,\"#ed7953\"],[0.7777777777777778,\"#fb9f3a\"],[0.8888888888888888,\"#fdca26\"],[1.0,\"#f0f921\"]],\"type\":\"histogram2dcontour\"}],\"mesh3d\":[{\"colorbar\":{\"outlinewidth\":0,\"ticks\":\"\"},\"type\":\"mesh3d\"}],\"parcoords\":[{\"line\":{\"colorbar\":{\"outlinewidth\":0,\"ticks\":\"\"}},\"type\":\"parcoords\"}],\"pie\":[{\"automargin\":true,\"type\":\"pie\"}],\"scatter\":[{\"marker\":{\"colorbar\":{\"outlinewidth\":0,\"ticks\":\"\"}},\"type\":\"scatter\"}],\"scatter3d\":[{\"line\":{\"colorbar\":{\"outlinewidth\":0,\"ticks\":\"\"}},\"marker\":{\"colorbar\":{\"outlinewidth\":0,\"ticks\":\"\"}},\"type\":\"scatter3d\"}],\"scattercarpet\":[{\"marker\":{\"colorbar\":{\"outlinewidth\":0,\"ticks\":\"\"}},\"type\":\"scattercarpet\"}],\"scattergeo\":[{\"marker\":{\"colorbar\":{\"outlinewidth\":0,\"ticks\":\"\"}},\"type\":\"scattergeo\"}],\"scattergl\":[{\"marker\":{\"colorbar\":{\"outlinewidth\":0,\"ticks\":\"\"}},\"type\":\"scattergl\"}],\"scattermapbox\":[{\"marker\":{\"colorbar\":{\"outlinewidth\":0,\"ticks\":\"\"}},\"type\":\"scattermapbox\"}],\"scatterpolar\":[{\"marker\":{\"colorbar\":{\"outlinewidth\":0,\"ticks\":\"\"}},\"type\":\"scatterpolar\"}],\"scatterpolargl\":[{\"marker\":{\"colorbar\":{\"outlinewidth\":0,\"ticks\":\"\"}},\"type\":\"scatterpolargl\"}],\"scatterternary\":[{\"marker\":{\"colorbar\":{\"outlinewidth\":0,\"ticks\":\"\"}},\"type\":\"scatterternary\"}],\"surface\":[{\"colorbar\":{\"outlinewidth\":0,\"ticks\":\"\"},\"colorscale\":[[0.0,\"#0d0887\"],[0.1111111111111111,\"#46039f\"],[0.2222222222222222,\"#7201a8\"],[0.3333333333333333,\"#9c179e\"],[0.4444444444444444,\"#bd3786\"],[0.5555555555555556,\"#d8576b\"],[0.6666666666666666,\"#ed7953\"],[0.7777777777777778,\"#fb9f3a\"],[0.8888888888888888,\"#fdca26\"],[1.0,\"#f0f921\"]],\"type\":\"surface\"}],\"table\":[{\"cells\":{\"fill\":{\"color\":\"#EBF0F8\"},\"line\":{\"color\":\"white\"}},\"header\":{\"fill\":{\"color\":\"#C8D4E3\"},\"line\":{\"color\":\"white\"}},\"type\":\"table\"}]},\"layout\":{\"annotationdefaults\":{\"arrowcolor\":\"#2a3f5f\",\"arrowhead\":0,\"arrowwidth\":1},\"autotypenumbers\":\"strict\",\"coloraxis\":{\"colorbar\":{\"outlinewidth\":0,\"ticks\":\"\"}},\"colorscale\":{\"diverging\":[[0,\"#8e0152\"],[0.1,\"#c51b7d\"],[0.2,\"#de77ae\"],[0.3,\"#f1b6da\"],[0.4,\"#fde0ef\"],[0.5,\"#f7f7f7\"],[0.6,\"#e6f5d0\"],[0.7,\"#b8e186\"],[0.8,\"#7fbc41\"],[0.9,\"#4d9221\"],[1,\"#276419\"]],\"sequential\":[[0.0,\"#0d0887\"],[0.1111111111111111,\"#46039f\"],[0.2222222222222222,\"#7201a8\"],[0.3333333333333333,\"#9c179e\"],[0.4444444444444444,\"#bd3786\"],[0.5555555555555556,\"#d8576b\"],[0.6666666666666666,\"#ed7953\"],[0.7777777777777778,\"#fb9f3a\"],[0.8888888888888888,\"#fdca26\"],[1.0,\"#f0f921\"]],\"sequentialminus\":[[0.0,\"#0d0887\"],[0.1111111111111111,\"#46039f\"],[0.2222222222222222,\"#7201a8\"],[0.3333333333333333,\"#9c179e\"],[0.4444444444444444,\"#bd3786\"],[0.5555555555555556,\"#d8576b\"],[0.6666666666666666,\"#ed7953\"],[0.7777777777777778,\"#fb9f3a\"],[0.8888888888888888,\"#fdca26\"],[1.0,\"#f0f921\"]]},\"colorway\":[\"#636efa\",\"#EF553B\",\"#00cc96\",\"#ab63fa\",\"#FFA15A\",\"#19d3f3\",\"#FF6692\",\"#B6E880\",\"#FF97FF\",\"#FECB52\"],\"font\":{\"color\":\"#2a3f5f\"},\"geo\":{\"bgcolor\":\"white\",\"lakecolor\":\"white\",\"landcolor\":\"#E5ECF6\",\"showlakes\":true,\"showland\":true,\"subunitcolor\":\"white\"},\"hoverlabel\":{\"align\":\"left\"},\"hovermode\":\"closest\",\"mapbox\":{\"style\":\"light\"},\"paper_bgcolor\":\"white\",\"plot_bgcolor\":\"#E5ECF6\",\"polar\":{\"angularaxis\":{\"gridcolor\":\"white\",\"linecolor\":\"white\",\"ticks\":\"\"},\"bgcolor\":\"#E5ECF6\",\"radialaxis\":{\"gridcolor\":\"white\",\"linecolor\":\"white\",\"ticks\":\"\"}},\"scene\":{\"xaxis\":{\"backgroundcolor\":\"#E5ECF6\",\"gridcolor\":\"white\",\"gridwidth\":2,\"linecolor\":\"white\",\"showbackground\":true,\"ticks\":\"\",\"zerolinecolor\":\"white\"},\"yaxis\":{\"backgroundcolor\":\"#E5ECF6\",\"gridcolor\":\"white\",\"gridwidth\":2,\"linecolor\":\"white\",\"showbackground\":true,\"ticks\":\"\",\"zerolinecolor\":\"white\"},\"zaxis\":{\"backgroundcolor\":\"#E5ECF6\",\"gridcolor\":\"white\",\"gridwidth\":2,\"linecolor\":\"white\",\"showbackground\":true,\"ticks\":\"\",\"zerolinecolor\":\"white\"}},\"shapedefaults\":{\"line\":{\"color\":\"#2a3f5f\"}},\"ternary\":{\"aaxis\":{\"gridcolor\":\"white\",\"linecolor\":\"white\",\"ticks\":\"\"},\"baxis\":{\"gridcolor\":\"white\",\"linecolor\":\"white\",\"ticks\":\"\"},\"bgcolor\":\"#E5ECF6\",\"caxis\":{\"gridcolor\":\"white\",\"linecolor\":\"white\",\"ticks\":\"\"}},\"title\":{\"x\":0.05},\"xaxis\":{\"automargin\":true,\"gridcolor\":\"white\",\"linecolor\":\"white\",\"ticks\":\"\",\"title\":{\"standoff\":15},\"zerolinecolor\":\"white\",\"zerolinewidth\":2},\"yaxis\":{\"automargin\":true,\"gridcolor\":\"white\",\"linecolor\":\"white\",\"ticks\":\"\",\"title\":{\"standoff\":15},\"zerolinecolor\":\"white\",\"zerolinewidth\":2}}},\"margin\":{\"l\":20,\"r\":20,\"t\":20,\"b\":20},\"autosize\":false,\"width\":520,\"height\":400},                        {\"responsive\": true}                    ).then(function(){\n",
       "                            \n",
       "var gd = document.getElementById('dd79d8de-62e2-4a36-8d32-276fddbbb5e7');\n",
       "var x = new MutationObserver(function (mutations, observer) {{\n",
       "        var display = window.getComputedStyle(gd).display;\n",
       "        if (!display || display === 'none') {{\n",
       "            console.log([gd, 'removed!']);\n",
       "            Plotly.purge(gd);\n",
       "            observer.disconnect();\n",
       "        }}\n",
       "}});\n",
       "\n",
       "// Listen for the removal of the full notebook cells\n",
       "var notebookContainer = gd.closest('#notebook-container');\n",
       "if (notebookContainer) {{\n",
       "    x.observe(notebookContainer, {childList: true});\n",
       "}}\n",
       "\n",
       "// Listen for the clearing of the current output cell\n",
       "var outputEl = gd.closest('.output');\n",
       "if (outputEl) {{\n",
       "    x.observe(outputEl, {childList: true});\n",
       "}}\n",
       "\n",
       "                        })                };                });            </script>        </div>"
      ]
     },
     "metadata": {},
     "output_type": "display_data"
    }
   ],
   "source": [
    "import plotly.graph_objects as go\n",
    "\n",
    "crash_msg_true_bugs = list(df_bugs[df_bugs[\"status\"] == \"confirmed\"][\"crash_category\"])\n",
    "\n",
    "fig = go.Figure(data=[go.Sankey(\n",
    "    node = dict(\n",
    "      pad = 10,\n",
    "      thickness = 30,\n",
    "      line = dict(color = \"black\", width = 0),\n",
    "      label = list(mapping_labels_to_node_ids.keys()),\n",
    "      color = [\"orange\" if node_name in crash_msg_true_bugs else 'gray'\n",
    "               for node_name in mapping_labels_to_node_ids.keys()]\n",
    "    ),\n",
    "    link = dict(\n",
    "      target = df_crash_to_MR[\"mr_used\"].map(mapping_labels_to_node_ids),\n",
    "      source = df_crash_to_MR[\"crash_category\"].map(mapping_labels_to_node_ids), # indices correspond to labels, eg A1, A2, A1, B1, ...\n",
    "      value = df_crash_to_MR[\"count\"]\n",
    "  ))])\n",
    "\n",
    "fig.update_layout(\n",
    "    autosize=False,\n",
    "    width=520,\n",
    "    height=400,\n",
    "    margin=dict(l=20, r=20, t=20, b=20)\n",
    ")\n",
    "\n",
    "fig.show()\n",
    "fig.write_image(os.path.join(OUT_FOLDER, \"RQ3_sankey_crash_to_MR.pdf\"))"
   ]
  },
  {
   "cell_type": "markdown",
   "id": "9daa60ca",
   "metadata": {},
   "source": [
    "## To crashes\n",
    "How do the different warnings distribute over the MR?\n",
    "When a program pair fails > attributes 1 point to each MR involved, then count how many “crash-points” each MR got.\n",
    "(focus only on crashes related to real bug)"
   ]
  },
  {
   "cell_type": "code",
   "execution_count": 57,
   "id": "83e5ae3c",
   "metadata": {
    "ExecuteTime": {
     "end_time": "2022-03-12T18:06:04.847505Z",
     "start_time": "2022-03-12T18:06:04.555016Z"
    }
   },
   "outputs": [
    {
     "name": "stderr",
     "output_type": "stream",
     "text": [
      "/home/paltenmo/.local/lib/python3.8/site-packages/pandas/core/indexing.py:1773: SettingWithCopyWarning: \n",
      "A value is trying to be set on a copy of a slice from a DataFrame.\n",
      "Try using .loc[row_indexer,col_indexer] = value instead\n",
      "\n",
      "See the caveats in the documentation: https://pandas.pydata.org/pandas-docs/stable/user_guide/indexing.html#returning-a-view-versus-a-copy\n",
      "  self._setitem_single_column(ilocs[0], value, pi)\n"
     ]
    },
    {
     "data": {
      "text/html": [
       "<div>\n",
       "<style scoped>\n",
       "    .dataframe tbody tr th:only-of-type {\n",
       "        vertical-align: middle;\n",
       "    }\n",
       "\n",
       "    .dataframe tbody tr th {\n",
       "        vertical-align: top;\n",
       "    }\n",
       "\n",
       "    .dataframe thead th {\n",
       "        text-align: right;\n",
       "    }\n",
       "</style>\n",
       "<table border=\"1\" class=\"dataframe\">\n",
       "  <thead>\n",
       "    <tr style=\"text-align: right;\">\n",
       "      <th></th>\n",
       "      <th>program_id</th>\n",
       "      <th>generated_a_crash</th>\n",
       "      <th>exceptions.followup</th>\n",
       "      <th>followup.metamorphic_transformations</th>\n",
       "    </tr>\n",
       "  </thead>\n",
       "  <tbody>\n",
       "    <tr>\n",
       "      <th>0</th>\n",
       "      <td>09b76b74e7fa4bed9b8e153e2b8c228b</td>\n",
       "      <td>False</td>\n",
       "      <td>None</td>\n",
       "      <td>InjectNullEffect</td>\n",
       "    </tr>\n",
       "    <tr>\n",
       "      <th>0</th>\n",
       "      <td>09b76b74e7fa4bed9b8e153e2b8c228b</td>\n",
       "      <td>False</td>\n",
       "      <td>None</td>\n",
       "      <td>ChangeBackend</td>\n",
       "    </tr>\n",
       "    <tr>\n",
       "      <th>1</th>\n",
       "      <td>d733d94d007e42498ed2d7504669aa87</td>\n",
       "      <td>False</td>\n",
       "      <td>None</td>\n",
       "      <td>InjectParameters</td>\n",
       "    </tr>\n",
       "    <tr>\n",
       "      <th>2</th>\n",
       "      <td>844ff4a7fa4143d38dabe28d1454cc3a</td>\n",
       "      <td>False</td>\n",
       "      <td>None</td>\n",
       "      <td>AddUnusedRegister</td>\n",
       "    </tr>\n",
       "    <tr>\n",
       "      <th>3</th>\n",
       "      <td>fef380c735f5417f8f329f27e4733234</td>\n",
       "      <td>False</td>\n",
       "      <td>None</td>\n",
       "      <td>AddUnusedRegister</td>\n",
       "    </tr>\n",
       "  </tbody>\n",
       "</table>\n",
       "</div>"
      ],
      "text/plain": [
       "                         program_id  generated_a_crash exceptions.followup  \\\n",
       "0  09b76b74e7fa4bed9b8e153e2b8c228b              False                None   \n",
       "0  09b76b74e7fa4bed9b8e153e2b8c228b              False                None   \n",
       "1  d733d94d007e42498ed2d7504669aa87              False                None   \n",
       "2  844ff4a7fa4143d38dabe28d1454cc3a              False                None   \n",
       "3  fef380c735f5417f8f329f27e4733234              False                None   \n",
       "\n",
       "  followup.metamorphic_transformations  \n",
       "0                     InjectNullEffect  \n",
       "0                        ChangeBackend  \n",
       "1                     InjectParameters  \n",
       "2                    AddUnusedRegister  \n",
       "3                    AddUnusedRegister  "
      ]
     },
     "execution_count": 57,
     "metadata": {},
     "output_type": "execute_result"
    }
   ],
   "source": [
    "import ast\n",
    "\n",
    "COL_TRANSF = \"followup.metamorphic_transformations\"\n",
    "\n",
    "relevant_columns = [\n",
    "    \"program_id\",\n",
    "    \"generated_a_crash\",\n",
    "    \"exceptions.followup\",  \n",
    "    COL_TRANSF\n",
    "]\n",
    "df = df_generated_programs[relevant_columns]\n",
    "df.loc[:, COL_TRANSF] = df[COL_TRANSF].apply(ast.literal_eval)\n",
    "df.loc[:, COL_TRANSF] = df[COL_TRANSF].apply(lambda e: list(set(e)))\n",
    "df_flat = df.explode(COL_TRANSF)\n",
    "df_flat.head()"
   ]
  },
  {
   "cell_type": "code",
   "execution_count": 57,
   "id": "c5d2348b",
   "metadata": {
    "ExecuteTime": {
     "end_time": "2022-03-12T21:37:30.853958Z",
     "start_time": "2022-03-12T21:37:30.586821Z"
    }
   },
   "outputs": [
    {
     "ename": "NameError",
     "evalue": "name 'df_flat' is not defined",
     "output_type": "error",
     "traceback": [
      "\u001b[0;31m---------------------------------------------------------------------------\u001b[0m",
      "\u001b[0;31mNameError\u001b[0m                                 Traceback (most recent call last)",
      "\u001b[0;32m/tmp/ipykernel_48305/7812844.py\u001b[0m in \u001b[0;36m<module>\u001b[0;34m\u001b[0m\n\u001b[1;32m      2\u001b[0m \u001b[0;34m\u001b[0m\u001b[0m\n\u001b[1;32m      3\u001b[0m sns.countplot(\n\u001b[0;32m----> 4\u001b[0;31m     \u001b[0mdata\u001b[0m\u001b[0;34m=\u001b[0m\u001b[0mdf_flat\u001b[0m\u001b[0;34m,\u001b[0m\u001b[0;34m\u001b[0m\u001b[0;34m\u001b[0m\u001b[0m\n\u001b[0m\u001b[1;32m      5\u001b[0m     \u001b[0my\u001b[0m\u001b[0;34m=\u001b[0m\u001b[0mCOL_TRANSF\u001b[0m\u001b[0;34m,\u001b[0m\u001b[0;34m\u001b[0m\u001b[0;34m\u001b[0m\u001b[0m\n\u001b[1;32m      6\u001b[0m     \u001b[0mhue\u001b[0m\u001b[0;34m=\u001b[0m\u001b[0;34m'generated_a_crash'\u001b[0m\u001b[0;34m,\u001b[0m\u001b[0;34m\u001b[0m\u001b[0;34m\u001b[0m\u001b[0m\n",
      "\u001b[0;31mNameError\u001b[0m: name 'df_flat' is not defined"
     ]
    },
    {
     "data": {
      "image/png": "[encoded data removed]",
      "text/plain": [
       "<Figure size 360x360 with 1 Axes>"
      ]
     },
     "metadata": {
      "needs_background": "light"
     },
     "output_type": "display_data"
    }
   ],
   "source": [
    "fig, ax = plt.subplots(figsize=(5, 5))\n",
    "\n",
    "sns.countplot(\n",
    "    data=df_flat,\n",
    "    y=COL_TRANSF,\n",
    "    hue='generated_a_crash',\n",
    "    ax=ax\n",
    ")\n",
    "ax.set_xlabel(\"No. program pairs containing the transformation\")\n",
    "ax.set_ylabel(\"Metamorphic transformation\")\n",
    "ax.legend(title=\"Lead to crash\")"
   ]
  },
  {
   "cell_type": "markdown",
   "id": "f2d43b1d",
   "metadata": {},
   "source": [
    "## Which is the average number of other (different) transformation families applied with each transformation family?"
   ]
  },
  {
   "cell_type": "code",
   "execution_count": 60,
   "id": "1fdbe32a",
   "metadata": {
    "ExecuteTime": {
     "end_time": "2022-03-12T18:12:14.835794Z",
     "start_time": "2022-03-12T18:12:14.687062Z"
    }
   },
   "outputs": [
    {
     "name": "stderr",
     "output_type": "stream",
     "text": [
      "/tmp/ipykernel_21158/4145143245.py:8: SettingWithCopyWarning: \n",
      "A value is trying to be set on a copy of a slice from a DataFrame.\n",
      "Try using .loc[row_indexer,col_indexer] = value instead\n",
      "\n",
      "See the caveats in the documentation: https://pandas.pydata.org/pandas-docs/stable/user_guide/indexing.html#returning-a-view-versus-a-copy\n",
      "  df_program_w_this_transf[\"n_transf\"] = df_program_w_this_transf[COL_TRANSF].apply(\n"
     ]
    }
   ],
   "source": [
    "ALL_TRANSFORMATIONS = list(df_flat[COL_TRANSF].unique())\n",
    "\n",
    "n_other_transf = []\n",
    "\n",
    "for transf in ALL_TRANSFORMATIONS:\n",
    "    program_ids_w_transf = df_flat[df_flat[COL_TRANSF] == transf][\"program_id\"]\n",
    "    df_program_w_this_transf = df[df[\"program_id\"].isin(program_ids_w_transf)]\n",
    "    df_program_w_this_transf[\"n_transf\"] = df_program_w_this_transf[COL_TRANSF].apply(\n",
    "        lambda e: len(e)\n",
    "    )\n",
    "    avg_n_other_transf = float(df_program_w_this_transf[\"n_transf\"].mean())\n",
    "    n_other_transf.append(avg_n_other_transf)"
   ]
  },
  {
   "cell_type": "code",
   "execution_count": 66,
   "id": "34c1dda6",
   "metadata": {
    "ExecuteTime": {
     "end_time": "2022-03-12T18:14:55.392036Z",
     "start_time": "2022-03-12T18:14:55.207977Z"
    }
   },
   "outputs": [
    {
     "data": {
      "text/plain": [
       "<BarContainer object of 10 artists>"
      ]
     },
     "execution_count": 66,
     "metadata": {},
     "output_type": "execute_result"
    },
    {
     "data": {
      "image/png": "[encoded data removed]",
      "text/plain": [
       "<Figure size 360x360 with 1 Axes>"
      ]
     },
     "metadata": {
      "needs_background": "light"
     },
     "output_type": "display_data"
    }
   ],
   "source": [
    "fig, ax = plt.subplots(figsize=(5, 5))\n",
    "ax.barh(\n",
    "    y=ALL_TRANSFORMATIONS,\n",
    "    width=n_other_transf    \n",
    ")"
   ]
  },
  {
   "cell_type": "markdown",
   "id": "8d7e29c1",
   "metadata": {},
   "source": [
    "## To real bugs (unique root causes)"
   ]
  },
  {
   "cell_type": "code",
   "execution_count": null,
   "id": "6abf5a21",
   "metadata": {},
   "outputs": [],
   "source": []
  },
  {
   "cell_type": "markdown",
   "id": "95eef7a5",
   "metadata": {},
   "source": [
    "# RQ4: which is the most time expensive step in QMFuzz?"
   ]
  },
  {
   "cell_type": "code",
   "execution_count": 38,
   "id": "0595e498",
   "metadata": {
    "ExecuteTime": {
     "end_time": "2022-03-06T14:07:41.469233Z",
     "start_time": "2022-03-06T14:07:41.446852Z"
    }
   },
   "outputs": [],
   "source": [
    "# IDEA: measure the time of each step and create a barchart with percentage and one with absolute values"
   ]
  },
  {
   "cell_type": "code",
   "execution_count": 15,
   "id": "11e982e9",
   "metadata": {
    "ExecuteTime": {
     "end_time": "2022-03-12T15:41:20.688480Z",
     "start_time": "2022-03-12T15:41:20.655022Z"
    }
   },
   "outputs": [
    {
     "data": {
      "text/html": [
       "<div>\n",
       "<style scoped>\n",
       "    .dataframe tbody tr th:only-of-type {\n",
       "        vertical-align: middle;\n",
       "    }\n",
       "\n",
       "    .dataframe tbody tr th {\n",
       "        vertical-align: top;\n",
       "    }\n",
       "\n",
       "    .dataframe thead th {\n",
       "        text-align: right;\n",
       "    }\n",
       "</style>\n",
       "<table border=\"1\" class=\"dataframe\">\n",
       "  <thead>\n",
       "    <tr style=\"text-align: right;\">\n",
       "      <th></th>\n",
       "      <th>program_id</th>\n",
       "      <th>time_exec</th>\n",
       "      <th>source.time_generation</th>\n",
       "      <th>followup.time_metamorph</th>\n",
       "      <th>divergence.ks.time</th>\n",
       "      <th>generated_a_crash</th>\n",
       "    </tr>\n",
       "  </thead>\n",
       "  <tbody>\n",
       "    <tr>\n",
       "      <th>0</th>\n",
       "      <td>09b76b74e7fa4bed9b8e153e2b8c228b</td>\n",
       "      <td>0.520480</td>\n",
       "      <td>0.006663</td>\n",
       "      <td>0.029449</td>\n",
       "      <td>0.000857</td>\n",
       "      <td>False</td>\n",
       "    </tr>\n",
       "    <tr>\n",
       "      <th>1</th>\n",
       "      <td>d733d94d007e42498ed2d7504669aa87</td>\n",
       "      <td>0.529619</td>\n",
       "      <td>0.004189</td>\n",
       "      <td>0.018908</td>\n",
       "      <td>0.007440</td>\n",
       "      <td>False</td>\n",
       "    </tr>\n",
       "    <tr>\n",
       "      <th>2</th>\n",
       "      <td>844ff4a7fa4143d38dabe28d1454cc3a</td>\n",
       "      <td>0.466335</td>\n",
       "      <td>0.006113</td>\n",
       "      <td>0.007506</td>\n",
       "      <td>0.005073</td>\n",
       "      <td>False</td>\n",
       "    </tr>\n",
       "    <tr>\n",
       "      <th>3</th>\n",
       "      <td>fef380c735f5417f8f329f27e4733234</td>\n",
       "      <td>0.451260</td>\n",
       "      <td>0.006208</td>\n",
       "      <td>0.025475</td>\n",
       "      <td>0.001749</td>\n",
       "      <td>False</td>\n",
       "    </tr>\n",
       "    <tr>\n",
       "      <th>4</th>\n",
       "      <td>e031814553554c81a625588c2fc05159</td>\n",
       "      <td>1.865207</td>\n",
       "      <td>0.005532</td>\n",
       "      <td>0.023781</td>\n",
       "      <td>0.006965</td>\n",
       "      <td>False</td>\n",
       "    </tr>\n",
       "  </tbody>\n",
       "</table>\n",
       "</div>"
      ],
      "text/plain": [
       "                         program_id  time_exec  source.time_generation  \\\n",
       "0  09b76b74e7fa4bed9b8e153e2b8c228b   0.520480                0.006663   \n",
       "1  d733d94d007e42498ed2d7504669aa87   0.529619                0.004189   \n",
       "2  844ff4a7fa4143d38dabe28d1454cc3a   0.466335                0.006113   \n",
       "3  fef380c735f5417f8f329f27e4733234   0.451260                0.006208   \n",
       "4  e031814553554c81a625588c2fc05159   1.865207                0.005532   \n",
       "\n",
       "   followup.time_metamorph  divergence.ks.time  generated_a_crash  \n",
       "0                 0.029449            0.000857              False  \n",
       "1                 0.018908            0.007440              False  \n",
       "2                 0.007506            0.005073              False  \n",
       "3                 0.025475            0.001749              False  \n",
       "4                 0.023781            0.006965              False  "
      ]
     },
     "execution_count": 15,
     "metadata": {},
     "output_type": "execute_result"
    }
   ],
   "source": [
    "relevant_time_cols = [\n",
    "    'program_id',\n",
    "    'time_exec',\n",
    "    'source.time_generation',\n",
    "    #'followup.time_generation', # this attribute is statically copied form source\n",
    "    'followup.time_metamorph',\n",
    "    'divergence.ks.time',\n",
    "    'generated_a_crash'\n",
    "]\n",
    "\n",
    "df_time = df_generated_programs[relevant_time_cols]\n",
    "df_time.head()"
   ]
  },
  {
   "cell_type": "code",
   "execution_count": 16,
   "id": "6f51f5b8",
   "metadata": {
    "ExecuteTime": {
     "end_time": "2022-03-12T15:41:21.781770Z",
     "start_time": "2022-03-12T15:41:21.746008Z"
    }
   },
   "outputs": [
    {
     "data": {
      "text/html": [
       "<div>\n",
       "<style scoped>\n",
       "    .dataframe tbody tr th:only-of-type {\n",
       "        vertical-align: middle;\n",
       "    }\n",
       "\n",
       "    .dataframe tbody tr th {\n",
       "        vertical-align: top;\n",
       "    }\n",
       "\n",
       "    .dataframe thead th {\n",
       "        text-align: right;\n",
       "    }\n",
       "</style>\n",
       "<table border=\"1\" class=\"dataframe\">\n",
       "  <thead>\n",
       "    <tr style=\"text-align: right;\">\n",
       "      <th></th>\n",
       "      <th>program_id</th>\n",
       "      <th>generated_a_crash</th>\n",
       "      <th>variable</th>\n",
       "      <th>value</th>\n",
       "    </tr>\n",
       "  </thead>\n",
       "  <tbody>\n",
       "    <tr>\n",
       "      <th>0</th>\n",
       "      <td>09b76b74e7fa4bed9b8e153e2b8c228b</td>\n",
       "      <td>False</td>\n",
       "      <td>time_exec</td>\n",
       "      <td>0.520480</td>\n",
       "    </tr>\n",
       "    <tr>\n",
       "      <th>1</th>\n",
       "      <td>d733d94d007e42498ed2d7504669aa87</td>\n",
       "      <td>False</td>\n",
       "      <td>time_exec</td>\n",
       "      <td>0.529619</td>\n",
       "    </tr>\n",
       "    <tr>\n",
       "      <th>2</th>\n",
       "      <td>844ff4a7fa4143d38dabe28d1454cc3a</td>\n",
       "      <td>False</td>\n",
       "      <td>time_exec</td>\n",
       "      <td>0.466335</td>\n",
       "    </tr>\n",
       "    <tr>\n",
       "      <th>3</th>\n",
       "      <td>fef380c735f5417f8f329f27e4733234</td>\n",
       "      <td>False</td>\n",
       "      <td>time_exec</td>\n",
       "      <td>0.451260</td>\n",
       "    </tr>\n",
       "    <tr>\n",
       "      <th>4</th>\n",
       "      <td>e031814553554c81a625588c2fc05159</td>\n",
       "      <td>False</td>\n",
       "      <td>time_exec</td>\n",
       "      <td>1.865207</td>\n",
       "    </tr>\n",
       "    <tr>\n",
       "      <th>5</th>\n",
       "      <td>ced8ce74368e4bc98d49d4eb1781b09c</td>\n",
       "      <td>False</td>\n",
       "      <td>time_exec</td>\n",
       "      <td>0.822178</td>\n",
       "    </tr>\n",
       "    <tr>\n",
       "      <th>6</th>\n",
       "      <td>cbe7b0a3724045e3bad2f92e700d78c7</td>\n",
       "      <td>False</td>\n",
       "      <td>time_exec</td>\n",
       "      <td>0.750860</td>\n",
       "    </tr>\n",
       "    <tr>\n",
       "      <th>7</th>\n",
       "      <td>994871e3bf744cdfac6e036808e0b724</td>\n",
       "      <td>False</td>\n",
       "      <td>time_exec</td>\n",
       "      <td>0.594772</td>\n",
       "    </tr>\n",
       "    <tr>\n",
       "      <th>8</th>\n",
       "      <td>912c45960a5a49dab0163dcb21ddcf9d</td>\n",
       "      <td>False</td>\n",
       "      <td>time_exec</td>\n",
       "      <td>0.311148</td>\n",
       "    </tr>\n",
       "    <tr>\n",
       "      <th>9</th>\n",
       "      <td>5b3a12f45b5445b4b265c239f079200c</td>\n",
       "      <td>False</td>\n",
       "      <td>time_exec</td>\n",
       "      <td>0.504680</td>\n",
       "    </tr>\n",
       "    <tr>\n",
       "      <th>10</th>\n",
       "      <td>5eaaa05200b64284b14107741884322f</td>\n",
       "      <td>False</td>\n",
       "      <td>time_exec</td>\n",
       "      <td>1.093996</td>\n",
       "    </tr>\n",
       "    <tr>\n",
       "      <th>11</th>\n",
       "      <td>9b472ca68e284592ae223d3ac67c534f</td>\n",
       "      <td>False</td>\n",
       "      <td>time_exec</td>\n",
       "      <td>0.442484</td>\n",
       "    </tr>\n",
       "    <tr>\n",
       "      <th>12</th>\n",
       "      <td>db31b7fec31e4629a67744e98cb7023e</td>\n",
       "      <td>False</td>\n",
       "      <td>time_exec</td>\n",
       "      <td>0.428031</td>\n",
       "    </tr>\n",
       "    <tr>\n",
       "      <th>13</th>\n",
       "      <td>916e87db1ebb4c969f7fedb07daf9e87</td>\n",
       "      <td>False</td>\n",
       "      <td>time_exec</td>\n",
       "      <td>0.861366</td>\n",
       "    </tr>\n",
       "    <tr>\n",
       "      <th>14</th>\n",
       "      <td>828331bc244048668b3d44d88f07ebee</td>\n",
       "      <td>False</td>\n",
       "      <td>time_exec</td>\n",
       "      <td>0.338054</td>\n",
       "    </tr>\n",
       "    <tr>\n",
       "      <th>15</th>\n",
       "      <td>7a879976c88446b8a0efe952aca32850</td>\n",
       "      <td>False</td>\n",
       "      <td>time_exec</td>\n",
       "      <td>0.419679</td>\n",
       "    </tr>\n",
       "    <tr>\n",
       "      <th>16</th>\n",
       "      <td>ff31e17cfd054ce1aeb77070a781f7c7</td>\n",
       "      <td>False</td>\n",
       "      <td>time_exec</td>\n",
       "      <td>1.158550</td>\n",
       "    </tr>\n",
       "    <tr>\n",
       "      <th>17</th>\n",
       "      <td>31007932a40342d99e07e738b645807e</td>\n",
       "      <td>False</td>\n",
       "      <td>time_exec</td>\n",
       "      <td>0.567645</td>\n",
       "    </tr>\n",
       "    <tr>\n",
       "      <th>18</th>\n",
       "      <td>dc2dee1dd7474d21b90e10a82ec1e7aa</td>\n",
       "      <td>False</td>\n",
       "      <td>time_exec</td>\n",
       "      <td>0.566431</td>\n",
       "    </tr>\n",
       "    <tr>\n",
       "      <th>19</th>\n",
       "      <td>5a24aadbdb9749659d47c85ce7a10b8a</td>\n",
       "      <td>False</td>\n",
       "      <td>time_exec</td>\n",
       "      <td>0.988196</td>\n",
       "    </tr>\n",
       "  </tbody>\n",
       "</table>\n",
       "</div>"
      ],
      "text/plain": [
       "                          program_id  generated_a_crash   variable     value\n",
       "0   09b76b74e7fa4bed9b8e153e2b8c228b              False  time_exec  0.520480\n",
       "1   d733d94d007e42498ed2d7504669aa87              False  time_exec  0.529619\n",
       "2   844ff4a7fa4143d38dabe28d1454cc3a              False  time_exec  0.466335\n",
       "3   fef380c735f5417f8f329f27e4733234              False  time_exec  0.451260\n",
       "4   e031814553554c81a625588c2fc05159              False  time_exec  1.865207\n",
       "5   ced8ce74368e4bc98d49d4eb1781b09c              False  time_exec  0.822178\n",
       "6   cbe7b0a3724045e3bad2f92e700d78c7              False  time_exec  0.750860\n",
       "7   994871e3bf744cdfac6e036808e0b724              False  time_exec  0.594772\n",
       "8   912c45960a5a49dab0163dcb21ddcf9d              False  time_exec  0.311148\n",
       "9   5b3a12f45b5445b4b265c239f079200c              False  time_exec  0.504680\n",
       "10  5eaaa05200b64284b14107741884322f              False  time_exec  1.093996\n",
       "11  9b472ca68e284592ae223d3ac67c534f              False  time_exec  0.442484\n",
       "12  db31b7fec31e4629a67744e98cb7023e              False  time_exec  0.428031\n",
       "13  916e87db1ebb4c969f7fedb07daf9e87              False  time_exec  0.861366\n",
       "14  828331bc244048668b3d44d88f07ebee              False  time_exec  0.338054\n",
       "15  7a879976c88446b8a0efe952aca32850              False  time_exec  0.419679\n",
       "16  ff31e17cfd054ce1aeb77070a781f7c7              False  time_exec  1.158550\n",
       "17  31007932a40342d99e07e738b645807e              False  time_exec  0.567645\n",
       "18  dc2dee1dd7474d21b90e10a82ec1e7aa              False  time_exec  0.566431\n",
       "19  5a24aadbdb9749659d47c85ce7a10b8a              False  time_exec  0.988196"
      ]
     },
     "execution_count": 16,
     "metadata": {},
     "output_type": "execute_result"
    }
   ],
   "source": [
    "df_time_melt = pd.melt(\n",
    "    df_time, id_vars=['program_id', 'generated_a_crash'], \n",
    "    value_vars=relevant_time_cols.remove('program_id'))\n",
    "df_time_melt.head(20)"
   ]
  },
  {
   "cell_type": "code",
   "execution_count": 18,
   "id": "6f35b695",
   "metadata": {
    "ExecuteTime": {
     "end_time": "2022-03-12T15:41:48.742375Z",
     "start_time": "2022-03-12T15:41:47.212801Z"
    }
   },
   "outputs": [
    {
     "data": {
      "image/png": "[encoded data removed]",
      "text/plain": [
       "<Figure size 360x144 with 1 Axes>"
      ]
     },
     "metadata": {
      "needs_background": "light"
     },
     "output_type": "display_data"
    }
   ],
   "source": [
    "fig, ax = plt.subplots(figsize=(5, 2))\n",
    "\n",
    "mapping = {\n",
    "    \"source.time_generation\": 'Generation (source)',\n",
    "    \"followup.time_metamorph\": 'Transformation (follow-up)',\n",
    "    \"time_exec\": \"Execution\",\n",
    "    \"divergence.ks.time\": \"Divergence Check\"\n",
    "}\n",
    "\n",
    "sns.barplot(\n",
    "    data=df_time_melt,\n",
    "    y='variable',\n",
    "    x='value',\n",
    "    order=list(mapping.keys()),\n",
    "    ax=ax\n",
    ")\n",
    "\n",
    "original_labels = ax.get_yticklabels()\n",
    "ax.set_yticklabels(labels=[\n",
    "    mapping.get(e._text, e._text)\n",
    "    for e in original_labels\n",
    "])\n",
    "ax.grid(axis='x', which='both')\n",
    "ax.set_xscale('log')\n",
    "ax.set_ylabel('Stage of the approach')\n",
    "ax.set_xlabel('Average time (sec)')\n",
    "\n",
    "plt.tight_layout()\n",
    "fig.savefig(os.path.join(OUT_FOLDER, \"RQ4_time_analysis.pdf\"))"
   ]
  },
  {
   "cell_type": "markdown",
   "id": "ccedc814",
   "metadata": {},
   "source": [
    "# RQ4: how many bugs are detected via a divergence as opposed to those detected because of a crash?"
   ]
  },
  {
   "cell_type": "code",
   "execution_count": null,
   "id": "bb5f1ac1",
   "metadata": {},
   "outputs": [],
   "source": []
  },
  {
   "cell_type": "markdown",
   "id": "00b4f822",
   "metadata": {},
   "source": [
    "# Sample some warinings for manual inspection\n",
    "Pick those which are raised by STATIC THRESHOLD but not by HOLM & CO"
   ]
  },
  {
   "cell_type": "code",
   "execution_count": 87,
   "id": "6624086b",
   "metadata": {
    "ExecuteTime": {
     "end_time": "2022-03-09T18:58:59.665034Z",
     "start_time": "2022-03-09T18:58:59.611803Z"
    }
   },
   "outputs": [],
   "source": [
    "program_ids_static = get_alarms_with_method(\n",
    "    df=df_data, \n",
    "    pval_col=PVAL_COL,\n",
    "    alpha_level=ALPHA_LEVEL,\n",
    "    method='static')\n",
    "program_ids_bonferroni = get_alarms_with_method(\n",
    "    df=df_data, \n",
    "    pval_col=PVAL_COL,\n",
    "    alpha_level=ALPHA_LEVEL,\n",
    "    method='bonferroni')"
   ]
  },
  {
   "cell_type": "code",
   "execution_count": 88,
   "id": "bf8820eb",
   "metadata": {
    "ExecuteTime": {
     "end_time": "2022-03-09T18:59:01.711904Z",
     "start_time": "2022-03-09T18:59:01.681874Z"
    }
   },
   "outputs": [
    {
     "data": {
      "text/plain": [
       "['facbe4f34bd540d78f311cd76099dfab']"
      ]
     },
     "execution_count": 88,
     "metadata": {},
     "output_type": "execute_result"
    }
   ],
   "source": [
    "program_ids_bonferroni"
   ]
  },
  {
   "cell_type": "code",
   "execution_count": 32,
   "id": "2278bb74",
   "metadata": {
    "ExecuteTime": {
     "end_time": "2022-03-09T11:38:12.255186Z",
     "start_time": "2022-03-09T11:38:12.218292Z"
    }
   },
   "outputs": [
    {
     "data": {
      "text/plain": [
       "['a72f970553aa40f7b7a57f5b111dc5df',\n",
       " '29d5e306618a471f8d1b5cd95918d2c4',\n",
       " '3fa7d36aeb2b4cfe890102b05fe368f5',\n",
       " 'b4759f36f35f47b392bcff56acce6023',\n",
       " 'ccfdc77316714af19593fe1a47c8a934',\n",
       " '1e73180ce8fb43159f102238e237a223',\n",
       " '2bd88c1df0264570ab0937a2a6ca8399',\n",
       " '296ceddbffc1450a818ed5fe7945d35e',\n",
       " 'c0accb860e8b4f2ca58a6eb6b6e37139',\n",
       " '440b81571ab54e87afbc28dc3ad4371f',\n",
       " '3398ea9361034afea8ef582c85685c94',\n",
       " 'acc1bf6f904b4829b085dce0635dabd6',\n",
       " '1a59a301e2d04b40b1042341bb9bdd91',\n",
       " '578b8a5dbf9a4667a0a2521e1353359e',\n",
       " '2e7c2605987c432cbfed7721fe9d6087',\n",
       " '53fc786902a24f389f2a92246ba6028d',\n",
       " '84c729d4b94043889de65f5cca28fe2e',\n",
       " '238241eede514c338dc31d6407b7a7f5',\n",
       " 'f997c24e2ef2475c86b39b426f068ba9',\n",
       " '9cd21236a4aa4806ad98c71f1d9f223d',\n",
       " '3b0bdc986a6347a2a31bbc7e417facdc',\n",
       " '3673b1768ed7410ba10f20fa7ee01af5',\n",
       " 'c5bc7c63e9694b1ca66656ef2ecdf594',\n",
       " 'cc5df128c70e44438e8ae36c34f4e9a9',\n",
       " 'ed3ee448077d4b5b9d2791d0a0878d33',\n",
       " '45642086e9b447ea9f194438bf22a49f',\n",
       " '679f53e94a624525800a0c9285decab4',\n",
       " '8bc23c00c8ec4a3f963d14c0510944d4',\n",
       " '0b77d24eb43844b38a15aac3cfe23d5e',\n",
       " '202b5dc29c8a419ca31d5c1abaedf3b6',\n",
       " '9832599adad745089fdde0d81fcf5493',\n",
       " '12d697e7a34f4640a50d06927968245a',\n",
       " 'fe7e241bb22e43af93edb8e1633b6b45',\n",
       " 'd872d60c1da343cea4e0a2f3327dbeaa',\n",
       " 'a0e1948207fa4eccbadc00ea49b9cc14',\n",
       " '680cdc0949d34c49ad100ba4617aae03',\n",
       " 'eb0f9389a81746c692983b4e61ed188e',\n",
       " 'd77cc111a1a749418597c11bf6247a56',\n",
       " '16241cc336a64a37afd3c7c3e64d03cb',\n",
       " 'd317e86d23f943ef80f9e504d1f5e02c',\n",
       " '281c29aaabde4d3c8baf2b0147ab311e',\n",
       " '1e5d1799e6c34da08ecff3d4dec316e7',\n",
       " '3f7d248c8b8046e7bf49e6e4cdd25c9f',\n",
       " 'abb02f6910ea4f4b9c60571c92dd2873',\n",
       " '899c6f01c5434bea8538b088decb09d9',\n",
       " '670a566fb5234256b808437642139ab6',\n",
       " '07a6bcca31534fc28d6bc1c6e9a440a3',\n",
       " 'c788e82fa1c64eb0bc91688b5e44e462',\n",
       " '6f7f845cbccd485fba658d776686bf28',\n",
       " 'e466018477ab4ae292dd7dbdc8528870',\n",
       " 'b6080d9ced6448289230c8111fe5755d',\n",
       " 'd6775c89d49d4e27b25a9d1a72f85ed4',\n",
       " 'b82e7788f6f345c8b2cfbcf4981b3d6d',\n",
       " '9624ff2f6d0144488e5ff76b5edfd638',\n",
       " 'e1993ee9e2354cffbb71b36415773cd0',\n",
       " '889a1289cc13496ca9e197c76e90db72',\n",
       " '5d4f07ee27aa4b5aa73f78e18d3070fa',\n",
       " '24ec084465b6464185db2ec1b534fe1b',\n",
       " '138c3e3be1b44bb5ba610aea0b8004bd',\n",
       " 'f472fefb368a49bbacc1c2a61ae6ae84',\n",
       " 'a8ef966121744139a993ad60953d20cf',\n",
       " '029e458cd45c4f10a64a27dda3293ca2',\n",
       " '2b9f906341b44b49a2affc66d5e12868',\n",
       " '268397b709b14e71b753bc57fe87c559',\n",
       " '17e7930f868b4984b37beeb12a1440cc',\n",
       " '24eee15c1c7349d7b6e722275dcf92b1',\n",
       " '99e26a246d734faabe52706b79e9360f',\n",
       " '9bdba2deb73942efb7cee08617fbb45c',\n",
       " '0824c65a55c2461d9e51046d7aa28722',\n",
       " '4eee6c4b4ad2447ba3ae74131288d168',\n",
       " 'b56af0dd4bb94d5488a21d94d020fe8c',\n",
       " '04c6b439d6684966ab2bb9a1cd88d0c4',\n",
       " 'fbad6d36fcff4cbb99224a202fea41b7',\n",
       " '82d8b94d38df420d9abf3f841ab055fd',\n",
       " '73af20eb21524f529ff14f5fd3622716',\n",
       " '0a4f91cef1a44f9f92a745bf4d3d9dae',\n",
       " '0c715ef22fae4d81bddc440f77de48e0',\n",
       " '200ca019a6194ac09a31335881b910ce',\n",
       " '0b85224bdb694b64a2b7a7c35e71bc3a',\n",
       " '56024e995a0f4b018f9803db6c4ab1fd',\n",
       " '4b877fafc0e540f2a15c29e465ec598d',\n",
       " '6589165358a1408fb9c6d9e68c2f060a',\n",
       " 'dc55ebb74818417888bd8426fceb929c',\n",
       " 'dc6465c3fa6643118d0132a55b76c5c3',\n",
       " '91e1195a395d44449c949d76e7b1e8d9',\n",
       " '83ce21bef75a4f3ebc301c245a3f8dae',\n",
       " 'f73f056fcd324e65a23c8bea1632e2e4',\n",
       " '66f956b252a046f1a1d09f0f749994fa',\n",
       " '583efc09214d44afb9d0239ac3b47c43',\n",
       " '565ce99f70f64c4d9faecd680ff2cd26',\n",
       " '76948ebba5dd44bba81557b9d7ab7a2a',\n",
       " '1c3d5ab00a454fc7ba9c42fff970784c',\n",
       " 'd94b3b30470545c88fb0b651c2409a62',\n",
       " '3a10686c3a0644c2beaeef1e9701f3ed',\n",
       " '29adbfc926564796a930bc9f74820329',\n",
       " '8cc67d2d2f8e478793e2a22d044d066a',\n",
       " '8b0693cd7e8f4a6bbe501430ff03aa4e',\n",
       " '27ad50ec07c84906b5cd43aacfac5d6a',\n",
       " '534542b3c27b4ce0a0f6e0136473c860',\n",
       " 'c2fd8732bed44735b9b30cde5f29037b',\n",
       " 'c03ff5c9903444cba5cdf889ab975d2b',\n",
       " 'e24794609b514601a89331bf29ef1819',\n",
       " 'a0426c4c3e314c0da20a315885385398',\n",
       " '013efcb3475f4559bd93a89a5300e55c',\n",
       " 'ce886097d94b43cd9b527921d5e58921',\n",
       " '3816368c900440bfa7f333a1ae335eaf',\n",
       " '4143b82b8b314f638bcaaeb3d8439998',\n",
       " 'a6ab8623f04841a38d68421bf0382f29',\n",
       " 'cfe5e5db5bb54261952d36dfc84a2224',\n",
       " '4feac08c9b0f4775aeae4e59d3fcc004',\n",
       " '43efd006828a48a5b52356dc679d7167',\n",
       " '2a5ed9c5395c4ca6a3f4ce7dda0e8911',\n",
       " '15bbe79733ef4d88837aa7d62d588726',\n",
       " 'a22b168cd9b146dda808171f827c2a90',\n",
       " 'a754f886d2794c9eb3c6878b5a705eb0',\n",
       " '9e6a713e9ee04fc6876de1dd4e3fd10d',\n",
       " 'd696a02f92474ada99a795526c911945',\n",
       " 'f56101e316bd48b6ac975faef5feea8d',\n",
       " '9897c3755fb14a0386f4a8358c8e400f',\n",
       " '20a147b65c3f43b7a9f94dbe75eac473',\n",
       " 'bbd236ed1489427b8712882bb3b830a3',\n",
       " 'f5d02fc302de41118a07c133307fe6a3',\n",
       " '3676a2c3740c441c82a542d020f0c655',\n",
       " '2d89ed64958a424bb64021050f1657b9',\n",
       " '1fab3be056384615a7e734fc8e7bffb5',\n",
       " '0dda78764bef4ac1b6159696c7943307',\n",
       " '617d95e2042e40ad87743a093e06bc71',\n",
       " '205dde7e49fe407f98d2ee8eadf833bf',\n",
       " 'ea6d3d9f8b004ec8890841998faaf877',\n",
       " '7ac86b2d71c14085a37dc3be48608e04',\n",
       " '422e12fb568a41a58502d96c41887963',\n",
       " 'cb85362cbb4e4d5da197ae70f8d6ef74',\n",
       " '691df68c8e20439fbf1ad4a39bae8a32',\n",
       " '02af695692b8498c8f41f5e3c6e80124',\n",
       " '89755b7049984ecd9fa8b012116cc2da',\n",
       " 'c5ac8828db954b6d8586b33d1014da66',\n",
       " 'f8759d33b0074526b963cc6685d61326',\n",
       " 'e0549f2381fb4c32b8c8ced2d413bc50',\n",
       " '907a5e07b33a4c62b8327f4ed9dedb4d',\n",
       " '3d8166a2a4cd40419faa59d9cba03ad2',\n",
       " '19767e78b95047e99eebb2feb19c69dd',\n",
       " '13eb7bac18e94f24b55f0459709aa991',\n",
       " '9432f84551b042fe9f4dc0cabd92c3ae',\n",
       " 'd6a933073c08475c8cb5d086159507aa',\n",
       " '88b80f09c97e48a1a6438b4bd52600b9',\n",
       " '5083e15caf0d41a5a761e365ee9e1041',\n",
       " '59b4d274258b45a3b1bdff046bd36e68',\n",
       " '6c798edf1b5f4892a0c603fa623b413e',\n",
       " '0f3e01f2d6514130a42adc05f5ed8e3c',\n",
       " 'ee54e8ff8e6042f597952f1916632f45',\n",
       " '7b254e2f905544208540e462951dc786',\n",
       " '45c3b2173836459e8abdb24ed2dca486',\n",
       " '2f5540ebafed48c4be249ba56c40077e',\n",
       " '4f94dae46d11432298df7ae3d4c8c993',\n",
       " '153264c42d0c43c3b60cbc9f0314bbda',\n",
       " 'cd5966ea4a5d4625bfa2c0cd7111b776',\n",
       " '83d773edd030460f822a111e2bb251fa',\n",
       " 'b52e90b7f78b4b609ed710496783bcf4',\n",
       " '0cf044b764594915a655414d11cac097',\n",
       " '2ac9883d3878471ea15df868ff8d6527',\n",
       " 'c6c5073279e849699fbe9355aaf13b32',\n",
       " '927c791af00946c1aa93c99564936abf',\n",
       " 'b652a0910eac48149c4152294f5548f0',\n",
       " '655ba75c8df842938ca6551f1ca14d4d',\n",
       " '4332a14fe3e04666a2ef583b1fd12518',\n",
       " 'e80422827f0c45439a7534b73ed8419c',\n",
       " 'b038169e0ff54b4b809999a5295305e2',\n",
       " '58a948a7dac048f3a012b996282f320d',\n",
       " '6264a4b3072b43da9e029d49594a10c9',\n",
       " '2057c898e6004864a3ba7c5894b48570',\n",
       " '19b2826a1fcc415bb20ecfcc2f46f36e',\n",
       " '334a5da11f544a55bafc5e6e094d0e42',\n",
       " 'f37e9b30598a4a438662d982d0608995',\n",
       " 'e9ddb17fbfd847bfa7ae94c86ab05b9d',\n",
       " '98c6de7ff6314abd97d833c5f41d0f2c',\n",
       " '74d20432635247e0ac01b5c566d665fa',\n",
       " '64ede72392af47d0a3aba7030b8fad78',\n",
       " '4270e1b6c2b2452ebcaad64d357e1c55',\n",
       " 'f07933addcca4425b8b003b4da67e048',\n",
       " 'd08342d86d264a6598f27616770abe65',\n",
       " 'ab1f570f01a54dfa983d1b5285065651',\n",
       " 'd633beabefaf4527828f54d59dcd2fb2',\n",
       " '56aaf9e085484028a922ec3c3d1da248',\n",
       " 'e922049e2497409d9d02bbded2c2c719',\n",
       " '9c14aed1271d4d3f827c8898bf04db6d',\n",
       " '9b3aae842ae947128c0634c298b6c720',\n",
       " 'ba12121b470f40038b739e4ebd85cc84',\n",
       " '80fad697695d4ecd936a08fa20a7d3a7',\n",
       " 'ff6f57cc27034ff190a989669699f79f',\n",
       " '123f6cbeee294601b9a1400fc2d9dd80',\n",
       " '1a15bd42f0ef460fad05d1b9c8312d5d',\n",
       " 'f2be723d34264eb0b07ecf756e72ad33',\n",
       " '5ede46c8ee49403abab00205c01cedc8',\n",
       " 'd11648f0d0074b55ab483da11ab410b9',\n",
       " 'ab3f53a9f5354b2fb5e60e970080fb60',\n",
       " 'be13a6a7995343f9bd4bbca3aa41229e',\n",
       " '096dcb98422a46a18033522a8932111a',\n",
       " 'c852b05f45d044c682a6823d6579f906',\n",
       " 'e6797d6ffe254677a02e24a5a09ca341',\n",
       " '399ced9bd14c46028d85ce6aa7ba0f03',\n",
       " '87f5d2f2267e4152a705468617b94853',\n",
       " 'f44a35b47a5e415aa6ab0c9508ddca65',\n",
       " 'f20d705228d74bd7815d6aac5d5ffa4d',\n",
       " '1e5749969c7d4ed7a759f31403045a56',\n",
       " 'a2ad88e474764ea09cf3d20863ef2ceb',\n",
       " '77776965d8e44a509d7491a0bdc79d7c',\n",
       " 'b634359654284872bd2de4b8d1e1a057',\n",
       " '9c9327f92503461195ea1c6d05df5c1b',\n",
       " '1c2c5a0e4e3c4c3f9a818196a20ae4df',\n",
       " '8f6665957fae4e4c9b423267b17356bc',\n",
       " 'eeff56925e2b44478b23d45eda0e2353',\n",
       " '3e059c2ccb8140e7ade511811548d7e7',\n",
       " '413e5813d50c442094d122e764fc331c',\n",
       " '1c4e43dffffd4d2fbff8189939d2f4c6',\n",
       " '1267197474474d66afdd27bccea36e76',\n",
       " '49ddb900a5364b5a95f76d7cb24edbf1',\n",
       " '7ba70882a72a443eb439d565e15c2cdf',\n",
       " '8cb70225398d4f2ea9d362b74e99af2b',\n",
       " '5a3a8bd16dfb48daa8497ef4c68bbd5d',\n",
       " '33030cf0c92a47868aa1abf50dfc8e9e',\n",
       " '7246d13a39fa47018d4bb8e0c8b75495',\n",
       " '2dcceddd5ac44fa7974751f155be0275',\n",
       " 'df17b92be38243118cf86d2514f96f33',\n",
       " 'a6faa5ac58844cc092f47e8f99db1721',\n",
       " '9ad9005e926d486d9b1deb9ad52472d3',\n",
       " '3af48e21139c4580b98b3a2377363ce6',\n",
       " '1fbc5f428bdd4f30901ecbf04c51740e',\n",
       " 'b0b44f50bf544b0dba1ab48f9ba819f3',\n",
       " '5ddcda06728441079ff93f39137a88f1',\n",
       " '5ef6fcd8e1ad4aa7b3c27c42a34ead62',\n",
       " '4561a36f8ad6469b8e8a79b516e79347',\n",
       " 'd81d285f2f5a47e4916d38f001e04e67',\n",
       " '6666f9335b0b4b06ab4d86a5a8de4a2d',\n",
       " '43156e2e408c4197a10171001366de29',\n",
       " 'e001a2d718814953986e524b0772782a',\n",
       " 'f526f3fa489143608e4731a43262d611',\n",
       " '836c827a0c3d46e2ba87b5bcb008f640',\n",
       " '657dc18c5c374d27a1d7da18c0a7729e',\n",
       " 'c927c07405ad448c8d7b3d0adeac0912',\n",
       " '31667faf83b34f1fa9bfef3880628ea2',\n",
       " 'af91c27c128e47f99b3217d19126806d',\n",
       " '33e611e9330c4c0c884e3d291d5ac6f7',\n",
       " 'ab6dda3368104a9596282cd24365fa68',\n",
       " 'd90f8978bae741deb5949bf7f9525c96',\n",
       " '1f783e5db4bc45d2b32f47b4c6fa4814',\n",
       " '34148d6beed043e5a906b29132ea764f',\n",
       " 'a81a282d26cd4dd08a95648c0dff6d42',\n",
       " 'c0f4f0aae58841f1855113cac4c0d2f2',\n",
       " '7ae83bf016ed4b188760436d3307f3c0',\n",
       " '25e4bcc2fc4343dba224dcf06df61702',\n",
       " 'd874628f83b5450a88428992768f1b93',\n",
       " '8798156e3b534ceb9821d83d1b1d3002',\n",
       " '9ded0068297546498c3e9a932b7d3856',\n",
       " '91891f518f4e4530a7e1ed5b2e6b48d9',\n",
       " 'c5dcc5aa24c44d208a4805ff7faa23c0',\n",
       " 'c5506b0ee3854ca1bf42b77afafd2a7c',\n",
       " '800bb666340d441eb0b73e92de1615da',\n",
       " 'd5db890201a44910b5e4a878f6dba3d5',\n",
       " '1be0b5b537fd45dd97f57a21568d8b5c',\n",
       " '88ef483ff256482b8ac8241fb49c290e',\n",
       " '0e80edeeafbb4bc181d3c38aac5cc1e8',\n",
       " 'db61c051d5834a24926c92881ab9b787',\n",
       " 'a9641f0d521c47e2ab2c39696877ebfc',\n",
       " '1e97a37a184b4a75be281843539d2c48',\n",
       " 'd4fbbab8dfeb4cddb1cb886db6a15aae',\n",
       " '28b4163bb919433988039798475d97a3',\n",
       " '1e99156dbe0e45f0aea439ce89d49ba8',\n",
       " '73ccbfd3e22a4c3f96e53877538131b9',\n",
       " '1b543a7855ea497e9ef69950a580d690']"
      ]
     },
     "execution_count": 32,
     "metadata": {},
     "output_type": "execute_result"
    }
   ],
   "source": [
    "program_ids_static"
   ]
  },
  {
   "cell_type": "code",
   "execution_count": 35,
   "id": "834a967a",
   "metadata": {
    "ExecuteTime": {
     "end_time": "2022-03-09T11:38:54.137904Z",
     "start_time": "2022-03-09T11:38:54.107059Z"
    },
    "scrolled": true
   },
   "outputs": [
    {
     "name": "stdout",
     "output_type": "stream",
     "text": [
      "qmt_v08\n"
     ]
    },
    {
     "data": {
      "text/plain": [
       "['e24794609b514601a89331bf29ef1819',\n",
       " '1c2c5a0e4e3c4c3f9a818196a20ae4df',\n",
       " '3676a2c3740c441c82a542d020f0c655',\n",
       " 'd6a933073c08475c8cb5d086159507aa',\n",
       " '73ccbfd3e22a4c3f96e53877538131b9',\n",
       " 'f20d705228d74bd7815d6aac5d5ffa4d',\n",
       " '1be0b5b537fd45dd97f57a21568d8b5c',\n",
       " '153264c42d0c43c3b60cbc9f0314bbda',\n",
       " '3af48e21139c4580b98b3a2377363ce6',\n",
       " 'd5db890201a44910b5e4a878f6dba3d5',\n",
       " '1fab3be056384615a7e734fc8e7bffb5',\n",
       " '334a5da11f544a55bafc5e6e094d0e42',\n",
       " 'f56101e316bd48b6ac975faef5feea8d',\n",
       " '534542b3c27b4ce0a0f6e0136473c860',\n",
       " 'd94b3b30470545c88fb0b651c2409a62',\n",
       " '8f6665957fae4e4c9b423267b17356bc',\n",
       " 'db61c051d5834a24926c92881ab9b787',\n",
       " 'e001a2d718814953986e524b0772782a',\n",
       " '83d773edd030460f822a111e2bb251fa',\n",
       " 'b52e90b7f78b4b609ed710496783bcf4']"
      ]
     },
     "execution_count": 35,
     "metadata": {},
     "output_type": "execute_result"
    }
   ],
   "source": [
    "static_and_not_bonferroni = np.array(list(set(program_ids_static).difference(set(program_ids_bonferroni))))\n",
    "SAMPLE_SIZE = 20\n",
    "to_inspect = list(np.random.choice(static_and_not_bonferroni, size=SAMPLE_SIZE, replace=False))\n",
    "print(EXP_FOLDER)\n",
    "to_inspect"
   ]
  },
  {
   "cell_type": "markdown",
   "id": "3e8ef6cd",
   "metadata": {},
   "source": [
    "# Miscellanea"
   ]
  },
  {
   "cell_type": "markdown",
   "id": "51ca8780",
   "metadata": {},
   "source": [
    "## RQ-A: how many syntactically different programs?\n",
    "can be generated by QMFuzz in a fixed time (2 days, as used by QDiff [31] for the execution)?"
   ]
  },
  {
   "cell_type": "code",
   "execution_count": 5,
   "id": "8e4b251b",
   "metadata": {
    "ExecuteTime": {
     "end_time": "2022-03-09T10:40:00.991076Z",
     "start_time": "2022-03-09T10:40:00.960000Z"
    }
   },
   "outputs": [],
   "source": [
    "# IDEA: we could cluster them in different groups (e.g. single circuit, two circuits, etc...)\n",
    "# IDEA: we could check which gates were used by each group \n",
    "# (i.e. plot the statistic about the use of a certain type of gate)\n",
    "# plot the stats on the length of the sequence of operations, n.qubits"
   ]
  },
  {
   "cell_type": "code",
   "execution_count": 16,
   "id": "b6135640",
   "metadata": {
    "ExecuteTime": {
     "end_time": "2022-03-06T13:38:59.470918Z",
     "start_time": "2022-03-06T13:38:59.414650Z"
    }
   },
   "outputs": [
    {
     "name": "stdout",
     "output_type": "stream",
     "text": [
      "<class 'pandas.core.frame.DataFrame'>\n",
      "RangeIndex: 9535 entries, 0 to 9534\n",
      "Data columns (total 16 columns):\n",
      " #   Column                        Non-Null Count  Dtype  \n",
      "---  ------                        --------------  -----  \n",
      " 0   source.program_id             9535 non-null   object \n",
      " 1   source.selected_gate_set      9535 non-null   object \n",
      " 2   source.selected_optimization  9535 non-null   object \n",
      " 3   source.shots                  9535 non-null   int64  \n",
      " 4   source.n_qubits               9535 non-null   int64  \n",
      " 5   source.n_ops                  9535 non-null   int64  \n",
      " 6   source.opt_level              9535 non-null   int64  \n",
      " 7   source.target_gates           0 non-null      object \n",
      " 8   source.py_file_path           9535 non-null   object \n",
      " 9   source.time_generation        9535 non-null   float64\n",
      " 10  source.circuit_id             9535 non-null   object \n",
      " 11  source.id_quantum_reg         9535 non-null   object \n",
      " 12  source.id_classical_reg       9535 non-null   object \n",
      " 13  source.gate_set               9535 non-null   object \n",
      " 14  source.gates_in_circuit       9535 non-null   object \n",
      " 15  crash_dataset                 9535 non-null   bool   \n",
      "dtypes: bool(1), float64(1), int64(4), object(10)\n",
      "memory usage: 1.1+ MB\n"
     ]
    }
   ],
   "source": [
    "relevant_columns = [c for c in df_data.columns if c.startswith(\"source.\")]\n",
    "df_generated_programs = pd.concat(\n",
    "    [\n",
    "        df_data[relevant_columns].assign(crash_dataset=False),\n",
    "        df_crash[relevant_columns].assign(crash_dataset=True)\n",
    "    ],\n",
    "    axis=0\n",
    ")\n",
    "df_generated_programs.reset_index(drop=True, inplace=True)\n",
    "df_generated_programs.info()"
   ]
  },
  {
   "cell_type": "code",
   "execution_count": 143,
   "id": "1a1b015f",
   "metadata": {
    "ExecuteTime": {
     "end_time": "2022-03-06T15:25:42.121892Z",
     "start_time": "2022-03-06T15:25:42.092650Z"
    }
   },
   "outputs": [],
   "source": [
    "def plot_numeric_attirbute(df, attribute, x_label=None, title=None, **pltargs):\n",
    "    \"\"\"Show the distplot of the given attribute.\"\"\"\n",
    "    ax = sns.histplot(\n",
    "        data=df,\n",
    "        x=attribute,\n",
    "        bins=np.arange(0.5, df_generated_programs[attribute].max() + 1),\n",
    "        **pltargs\n",
    "    )\n",
    "    if x_label:\n",
    "        ax.set_xlabel(x_label)\n",
    "    if title:\n",
    "        ax.set_title(title)"
   ]
  },
  {
   "cell_type": "code",
   "execution_count": 148,
   "id": "e2955b80",
   "metadata": {
    "ExecuteTime": {
     "end_time": "2022-03-06T15:28:37.159865Z",
     "start_time": "2022-03-06T15:28:36.588522Z"
    },
    "scrolled": true
   },
   "outputs": [
    {
     "data": {
      "image/png": "[encoded data removed]",
      "text/plain": [
       "<Figure size 360x360 with 2 Axes>"
      ]
     },
     "metadata": {
      "needs_background": "light"
     },
     "output_type": "display_data"
    }
   ],
   "source": [
    "fig, axes = plt.subplots(2, 1, figsize=(5,5))\n",
    "\n",
    "ax_gates, ax_qubits = axes\n",
    "plot_numeric_attirbute(\n",
    "    df=df_generated_programs, \n",
    "    attribute='source.n_ops', \n",
    "    x_label=\"Number of gates\",\n",
    "    ax=ax_gates)\n",
    "plot_numeric_attirbute(\n",
    "    df=df_generated_programs, \n",
    "    attribute='source.n_qubits', \n",
    "    x_label=\"Number of qubits\",\n",
    "    color='orange',\n",
    "    ax=ax_qubits)\n",
    "plt.tight_layout()\n",
    "\n",
    "fig.savefig(os.path.join(OUT_FOLDER, \"RQ1_distribution_n_gates_n_qubits.pdf\"))"
   ]
  },
  {
   "cell_type": "markdown",
   "id": "e79e28ea",
   "metadata": {},
   "source": [
    "## RQ-B: how effective is the varying-threshold approach in reducing the number of false positives?"
   ]
  },
  {
   "cell_type": "code",
   "execution_count": 80,
   "id": "9a2ff6a8",
   "metadata": {
    "ExecuteTime": {
     "end_time": "2022-03-09T18:58:14.676698Z",
     "start_time": "2022-03-09T18:58:14.441014Z"
    }
   },
   "outputs": [
    {
     "data": {
      "text/plain": [
       "<AxesSubplot:xlabel='divergence.ks.p-value', ylabel='Count'>"
      ]
     },
     "execution_count": 80,
     "metadata": {},
     "output_type": "execute_result"
    },
    {
     "data": {
      "image/png": "[encoded data removed]",
      "text/plain": [
       "<Figure size 432x288 with 1 Axes>"
      ]
     },
     "metadata": {
      "needs_background": "light"
     },
     "output_type": "display_data"
    }
   ],
   "source": [
    "sns.histplot(\n",
    "    data=df_data,\n",
    "    x='divergence.ks.p-value'\n",
    ")"
   ]
  },
  {
   "cell_type": "code",
   "execution_count": 81,
   "id": "22a504f8",
   "metadata": {
    "ExecuteTime": {
     "end_time": "2022-03-09T18:58:15.733071Z",
     "start_time": "2022-03-09T18:58:15.688321Z"
    }
   },
   "outputs": [
    {
     "name": "stdout",
     "output_type": "stream",
     "text": [
      "STATIC THRESHOLD APPROACH produces 85 alarms.\n"
     ]
    }
   ],
   "source": [
    "static_treshold = 0.05\n",
    "\n",
    "threshold_col = \"divergence.ks.p-value\"\n",
    "df_programs_w_static_threshold = df_data[\n",
    "    df_data[threshold_col] <= static_treshold\n",
    "]\n",
    "n_alarms_w_static_threshold = len(df_programs_w_static_threshold)\n",
    "print(f\"STATIC THRESHOLD APPROACH produces {n_alarms_w_static_threshold} alarms.\")"
   ]
  },
  {
   "cell_type": "code",
   "execution_count": 82,
   "id": "e894e9e1",
   "metadata": {
    "ExecuteTime": {
     "end_time": "2022-03-09T18:58:17.599196Z",
     "start_time": "2022-03-09T18:58:17.551792Z"
    },
    "code_folding": [
     27
    ]
   },
   "outputs": [],
   "source": [
    "method = 'holm'\n",
    "pval_col = threshold_col\n",
    "alpha_level = static_treshold\n",
    "\n",
    "def get_alarms_with_method(df, pval_col, alpha_level, method):\n",
    "    \"\"\"Get the program ids of the warnings raised by a method.\"\"\"\n",
    "    df_sorted_pvals = df.sort_values(by=[pval_col])\n",
    "    k = len(df_sorted_pvals)\n",
    "    i_star = None\n",
    "    program_ids = []\n",
    "    for i, (idx, row) in enumerate(df_sorted_pvals.iterrows()):\n",
    "        ordinal_i = i + 1\n",
    "        program_ids.append(row[\"program_id\"])\n",
    "        P_i = row[pval_col]\n",
    "        if method == 'holm':\n",
    "            threshold = alpha_level / (k - ordinal_i + 1)\n",
    "        elif method == 'bonferroni':\n",
    "            threshold = alpha_level / (k)\n",
    "        elif method == 'bh':\n",
    "            threshold = (alpha_level / (k)) * ordinal_i\n",
    "        # print(f\"(i: {ordinal_i}) current p-value: {P_i} vs threshold: {threshold}\")\n",
    "        elif method == 'static':\n",
    "            threshold = alpha_level        \n",
    "        if P_i > threshold:\n",
    "            i_star = i\n",
    "            #print(f\"i*: {i_star}\")\n",
    "            break\n",
    "    return program_ids\n",
    "\n",
    "\n",
    "def count_alarm_with_method(df, pval_col, alpha_level, method):\n",
    "    \"\"\"Count the number of warnings raised by a method.\"\"\"\n",
    "    return len(get_alarms_with_method(\n",
    "        df=df,\n",
    "        pval_col=pval_col,\n",
    "        alpha_level=alpha_level,\n",
    "        method=method        \n",
    "    ))  \n",
    "\n",
    "\n",
    "def get_first_n(df, col_time, n=1000):\n",
    "    \"\"\"Get the first n records as ordered by the time column.\"\"\"\n",
    "    return df.sort_values(by=col_time).iloc[:n]\n",
    "\n",
    "#n_alarms_w_varying_threshold = i_star\n",
    "#print(f\"VARYING THRESHOLD APPROACH produces {n_alarms_w_varying_threshold} alarms.\")"
   ]
  },
  {
   "cell_type": "code",
   "execution_count": 83,
   "id": "f3377a5f",
   "metadata": {
    "ExecuteTime": {
     "end_time": "2022-03-09T18:58:18.866975Z",
     "start_time": "2022-03-09T18:58:18.598187Z"
    }
   },
   "outputs": [
    {
     "data": {
      "image/png": "[encoded data removed]",
      "text/plain": [
       "<Figure size 360x216 with 1 Axes>"
      ]
     },
     "metadata": {
      "needs_background": "light"
     },
     "output_type": "display_data"
    }
   ],
   "source": [
    "fig, ax = plt.subplots(figsize=(5, 3))\n",
    "\n",
    "mapping = {\n",
    "    \"bonferroni\": 'Bonferroni',\n",
    "    \"holm\": 'Holm',\n",
    "    \"bh\": \"BH\"\n",
    "}\n",
    "\n",
    "methods_to_try = ['bonferroni', 'holm', 'bh']\n",
    "n_alarms_w_methods = [\n",
    "    count_alarm_with_method(\n",
    "        df=df_data, \n",
    "        pval_col=threshold_col,\n",
    "        alpha_level=static_treshold,\n",
    "        method=m) for m in methods_to_try]\n",
    "\n",
    "\n",
    "n_alarms = [n_alarms_w_static_threshold] + n_alarms_w_methods\n",
    "bars = ['Static\\nthreshold'] + list(map(mapping.get, methods_to_try))\n",
    "y_pos = np.arange(len(bars))\n",
    "\n",
    "reductions = [\n",
    "    ((n_alarms_w_static_threshold - abs_val) / n_alarms_w_static_threshold) * 100\n",
    "    for abs_val in n_alarms\n",
    "]\n",
    "bars = [l + f\"\\n(-{red:.1f}%)\" if red > 0 else l\n",
    "        for l, red in zip(bars, reductions)]\n",
    "\n",
    "ax.bar(y_pos, n_alarms, color=sns.color_palette()[:len(bars)])\n",
    "ax.grid(axis='y')\n",
    "ax.set_ylabel(\"Number of warnings\")\n",
    "ax.set_xlabel(f\"Threshold method (alpha = {static_treshold})\")\n",
    "plt.xticks(y_pos, bars)\n",
    "plt.show()\n",
    "fig.savefig(os.path.join(OUT_FOLDER, \"RQ3_n_alarms_per_threshold_approach.pdf\"))"
   ]
  },
  {
   "cell_type": "markdown",
   "id": "f792b260",
   "metadata": {},
   "source": [
    "## RQ-B.2 compute the reduction as a function of n pairs"
   ]
  },
  {
   "cell_type": "code",
   "execution_count": 84,
   "id": "43582331",
   "metadata": {
    "ExecuteTime": {
     "end_time": "2022-03-09T18:58:22.788804Z",
     "start_time": "2022-03-09T18:58:22.756175Z"
    }
   },
   "outputs": [
    {
     "data": {
      "text/plain": [
       "(3495, 42)"
      ]
     },
     "execution_count": 84,
     "metadata": {},
     "output_type": "execute_result"
    }
   ],
   "source": [
    "df_data.shape"
   ]
  },
  {
   "cell_type": "code",
   "execution_count": 85,
   "id": "5d1c2baf",
   "metadata": {
    "ExecuteTime": {
     "end_time": "2022-03-09T18:58:38.769895Z",
     "start_time": "2022-03-09T18:58:37.898354Z"
    }
   },
   "outputs": [
    {
     "name": "stdout",
     "output_type": "stream",
     "text": [
      "The dataset has 3495 records in total.\n"
     ]
    },
    {
     "name": "stderr",
     "output_type": "stream",
     "text": [
      "100%|█████████████████████████████████████████████████████████████████████████████████████████████████████████████████████████████████| 34/34 [00:00<00:00, 41.60it/s]\n"
     ]
    },
    {
     "data": {
      "text/html": [
       "<div>\n",
       "<style scoped>\n",
       "    .dataframe tbody tr th:only-of-type {\n",
       "        vertical-align: middle;\n",
       "    }\n",
       "\n",
       "    .dataframe tbody tr th {\n",
       "        vertical-align: top;\n",
       "    }\n",
       "\n",
       "    .dataframe thead th {\n",
       "        text-align: right;\n",
       "    }\n",
       "</style>\n",
       "<table border=\"1\" class=\"dataframe\">\n",
       "  <thead>\n",
       "    <tr style=\"text-align: right;\">\n",
       "      <th></th>\n",
       "      <th>n</th>\n",
       "      <th>variable</th>\n",
       "      <th>value</th>\n",
       "    </tr>\n",
       "  </thead>\n",
       "  <tbody>\n",
       "    <tr>\n",
       "      <th>0</th>\n",
       "      <td>100</td>\n",
       "      <td>Bonferroni</td>\n",
       "      <td>1</td>\n",
       "    </tr>\n",
       "    <tr>\n",
       "      <th>1</th>\n",
       "      <td>200</td>\n",
       "      <td>Bonferroni</td>\n",
       "      <td>1</td>\n",
       "    </tr>\n",
       "    <tr>\n",
       "      <th>2</th>\n",
       "      <td>300</td>\n",
       "      <td>Bonferroni</td>\n",
       "      <td>1</td>\n",
       "    </tr>\n",
       "    <tr>\n",
       "      <th>3</th>\n",
       "      <td>400</td>\n",
       "      <td>Bonferroni</td>\n",
       "      <td>1</td>\n",
       "    </tr>\n",
       "    <tr>\n",
       "      <th>4</th>\n",
       "      <td>500</td>\n",
       "      <td>Bonferroni</td>\n",
       "      <td>1</td>\n",
       "    </tr>\n",
       "  </tbody>\n",
       "</table>\n",
       "</div>"
      ],
      "text/plain": [
       "     n    variable  value\n",
       "0  100  Bonferroni      1\n",
       "1  200  Bonferroni      1\n",
       "2  300  Bonferroni      1\n",
       "3  400  Bonferroni      1\n",
       "4  500  Bonferroni      1"
      ]
     },
     "execution_count": 85,
     "metadata": {},
     "output_type": "execute_result"
    }
   ],
   "source": [
    "mapping = {\n",
    "    \"bonferroni\": 'Bonferroni',\n",
    "    \"holm\": 'Holm',\n",
    "    \"bh\": \"BH\",\n",
    "    \"static\": \"Static Threshold\"\n",
    "}\n",
    "\n",
    "tot_n_records = len(df_data)\n",
    "print(f\"The dataset has {tot_n_records} records in total.\")\n",
    "\n",
    "methods_to_try = mapping.keys()\n",
    "\n",
    "records = []\n",
    "for n in tqdm(np.arange(100, tot_n_records, 100)):\n",
    "    new_record = {\"n\": n}\n",
    "    for method in methods_to_try:\n",
    "        c_method_n_warinings = count_alarm_with_method(\n",
    "            df=get_first_n(\n",
    "                df=df_data, col_time=\"abs_start_time\", n=n), \n",
    "            pval_col=PVAL_COL,\n",
    "            alpha_level=ALPHA_LEVEL,\n",
    "            method=method)\n",
    "        new_record[method] = c_method_n_warinings\n",
    "    records.append(new_record)\n",
    "    \n",
    "df_warnings_w_n = pd.DataFrame.from_records(records)\n",
    "df_warnings_w_n = df_warnings_w_n.rename(columns=mapping)\n",
    "df_warnings_w_n = pd.melt(\n",
    "    df_warnings_w_n, \n",
    "    id_vars=['n'], \n",
    "    value_vars=[v for k, v in mapping.items()])\n",
    "df_warnings_w_n.head()\n"
   ]
  },
  {
   "cell_type": "code",
   "execution_count": 86,
   "id": "5b6e5c8e",
   "metadata": {
    "ExecuteTime": {
     "end_time": "2022-03-09T18:58:43.969768Z",
     "start_time": "2022-03-09T18:58:43.673780Z"
    },
    "scrolled": true
   },
   "outputs": [
    {
     "data": {
      "image/png": "[encoded data removed]",
      "text/plain": [
       "<Figure size 360x216 with 1 Axes>"
      ]
     },
     "metadata": {
      "needs_background": "light"
     },
     "output_type": "display_data"
    }
   ],
   "source": [
    "fig, ax = plt.subplots(figsize=(5, 3))\n",
    "\n",
    "sns.lineplot(\n",
    "    data=df_warnings_w_n.rename(columns={\n",
    "        'variable': 'Method'\n",
    "    }),\n",
    "    x='n',\n",
    "    y='value',\n",
    "    hue=\"Method\",\n",
    "    ax=ax\n",
    ")\n",
    "ax.set_ylabel('Number of warnings')\n",
    "ax.set_xlabel('Number of (non-crashing) programs pairs')\n",
    "plt.tight_layout()\n",
    "#fig.savefig(os.path.join(OUT_FOLDER, \"RQ3_n_warning_as_function_of_n.pdf\"))"
   ]
  }
 ],
 "metadata": {
  "kernelspec": {
   "display_name": "Python 3 (ipykernel)",
   "language": "python",
   "name": "python3"
  },
  "language_info": {
   "codemirror_mode": {
    "name": "ipython",
    "version": 3
   },
   "file_extension": ".py",
   "mimetype": "text/x-python",
   "name": "python",
   "nbconvert_exporter": "python",
   "pygments_lexer": "ipython3",
   "version": "3.8.0"
  },
  "toc": {
   "base_numbering": 1,
   "nav_menu": {},
   "number_sections": true,
   "sideBar": true,
   "skip_h1_title": false,
   "title_cell": "Table of Contents",
   "title_sidebar": "Contents",
   "toc_cell": false,
   "toc_position": {
    "height": "calc(100% - 180px)",
    "left": "10px",
    "top": "150px",
    "width": "288px"
   },
   "toc_section_display": true,
   "toc_window_display": true
  }
 },
 "nbformat": 4,
 "nbformat_minor": 5
}
