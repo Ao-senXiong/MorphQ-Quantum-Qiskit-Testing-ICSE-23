{
 "cells": [
  {
   "cell_type": "code",
   "execution_count": 1,
   "id": "717973d8",
   "metadata": {
    "ExecuteTime": {
     "end_time": "2021-12-29T16:31:56.450390Z",
     "start_time": "2021-12-29T16:31:56.445855Z"
    }
   },
   "outputs": [],
   "source": [
    "# here we test the results of two platforms against each other \n",
    "# while running the same QASM file (take form benchmark datasets)\n",
    "# - QASMBench\n",
    "# - Tket benchmark dataset"
   ]
  },
  {
   "cell_type": "code",
   "execution_count": 3,
   "id": "a9928f6d",
   "metadata": {
    "ExecuteTime": {
     "end_time": "2021-12-29T18:14:26.832941Z",
     "start_time": "2021-12-29T18:14:22.001770Z"
    }
   },
   "outputs": [],
   "source": [
    "import pandas as pd\n",
    "import sys\n",
    "sys.path.append(\"../lib\")\n",
    "import seaborn as sns\n",
    "import matplotlib.pyplot as plt\n",
    "from utils import iterate_over\n",
    "from utils import load_config_and_check\n",
    "import os"
   ]
  },
  {
   "cell_type": "code",
   "execution_count": 72,
   "id": "54d3e556",
   "metadata": {
    "ExecuteTime": {
     "end_time": "2021-12-30T00:15:11.421684Z",
     "start_time": "2021-12-30T00:15:11.376689Z"
    }
   },
   "outputs": [],
   "source": [
    "config = load_config_and_check(\"../config/experiment_v06.yaml\")"
   ]
  },
  {
   "cell_type": "code",
   "execution_count": 68,
   "id": "573e407b",
   "metadata": {
    "ExecuteTime": {
     "end_time": "2021-12-30T00:12:53.640424Z",
     "start_time": "2021-12-30T00:12:53.609634Z"
    }
   },
   "outputs": [
    {
     "name": "stdout",
     "output_type": "stream",
     "text": [
      "The autoreload extension is already loaded. To reload it, use:\n",
      "  %reload_ext autoreload\n"
     ]
    }
   ],
   "source": [
    "%load_ext autoreload\n",
    "%autoreload 2"
   ]
  },
  {
   "cell_type": "code",
   "execution_count": 69,
   "id": "a4df7f32",
   "metadata": {
    "ExecuteTime": {
     "end_time": "2021-12-30T00:12:55.202328Z",
     "start_time": "2021-12-30T00:12:55.176294Z"
    }
   },
   "outputs": [],
   "source": [
    "from analyser import Explorer"
   ]
  },
  {
   "cell_type": "code",
   "execution_count": 73,
   "id": "3fe5a065",
   "metadata": {
    "ExecuteTime": {
     "end_time": "2021-12-30T00:15:15.506111Z",
     "start_time": "2021-12-30T00:15:14.229559Z"
    },
    "scrolled": false
   },
   "outputs": [
    {
     "name": "stdout",
     "output_type": "stream",
     "text": [
      "BENCHMARK: qasm_bench_mid - PROGRAM INFO - reading ...  \n",
      "BENCHMARK: tket_bench_1 - PROGRAM INFO - reading ...  \n",
      "BENCHMARK: qasm_bench_mid - EXECUTION INFO - reading ...  \n",
      "BENCHMARK: tket_bench_1 - EXECUTION INFO - reading ...  \n",
      "BENCHMARK: qasm_bench_mid - GROUND TRUTH - reading ...  \n",
      "BENCHMARK: tket_bench_1 - GROUND TRUTH - reading ...  \n",
      "BENCHMARK: qasm_bench_mid - DETECTOR: ../data/experiment_v06/qasm_bench_mid/predictions/ks - reading ...  \n",
      "Reading: 8\n",
      "Reading: 0\n",
      "Reading: 4\n",
      "Reading: 5\n",
      "Reading: 1\n",
      "Reading: 7\n",
      "Reading: 2\n",
      "Reading: 3\n",
      "Reading: 10\n",
      "Reading: 9\n",
      "Reading: 6\n",
      "BENCHMARK: tket_bench_1 - DETECTOR: ../data/experiment_v06/tket_bench_1/predictions/ks - reading ...  \n",
      "Reading: 115\n",
      "Reading: 101\n",
      "Reading: 56\n",
      "Reading: 79\n",
      "Reading: 8\n",
      "Reading: 100\n",
      "Reading: 69\n",
      "Reading: 19\n",
      "Reading: 78\n",
      "Reading: 39\n",
      "Reading: 32\n",
      "Reading: 89\n",
      "Reading: 96\n",
      "Reading: 58\n",
      "Reading: 121\n",
      "Reading: 94\n",
      "Reading: 33\n",
      "Reading: 0\n",
      "Reading: 16\n",
      "Reading: 30\n",
      "Reading: 55\n",
      "Reading: 34\n",
      "Reading: 93\n",
      "Reading: 119\n",
      "Reading: 4\n",
      "Reading: 111\n",
      "Reading: 59\n",
      "Reading: 12\n",
      "Reading: 71\n",
      "Reading: 65\n",
      "Reading: 41\n",
      "Reading: 66\n",
      "Reading: 29\n",
      "Reading: 5\n",
      "Reading: 123\n",
      "Reading: 31\n",
      "Reading: 51\n",
      "Reading: 122\n",
      "Reading: 1\n",
      "Reading: 67\n",
      "Reading: 37\n",
      "Reading: 25\n",
      "Reading: 88\n",
      "Reading: 24\n",
      "Reading: 120\n",
      "Reading: 83\n",
      "Reading: 98\n",
      "Reading: 64\n",
      "Reading: 42\n",
      "Reading: 76\n",
      "Reading: 57\n",
      "Reading: 20\n",
      "Reading: 105\n",
      "Reading: 118\n",
      "Reading: 11\n",
      "Reading: 54\n",
      "Reading: 62\n",
      "Reading: 36\n",
      "Reading: 53\n",
      "Reading: 7\n",
      "Reading: 117\n",
      "Reading: 38\n",
      "Reading: 2\n",
      "Reading: 48\n",
      "Reading: 97\n",
      "Reading: 18\n",
      "Reading: 27\n",
      "Reading: 86\n",
      "Reading: 21\n",
      "Reading: 40\n",
      "Reading: 49\n",
      "Reading: 26\n",
      "Reading: 44\n",
      "Reading: 81\n",
      "Reading: 112\n",
      "Reading: 52\n",
      "Reading: 46\n",
      "Reading: 85\n",
      "Reading: 87\n",
      "Reading: 99\n",
      "Reading: 68\n",
      "Reading: 106\n",
      "Reading: 113\n",
      "Reading: 3\n",
      "Reading: 73\n",
      "Reading: 125\n",
      "Reading: 13\n",
      "Reading: 22\n",
      "Reading: 110\n",
      "Reading: 75\n",
      "Reading: 23\n",
      "Reading: 17\n",
      "Reading: 15\n",
      "Reading: 63\n",
      "Reading: 43\n",
      "Reading: 35\n",
      "Reading: 60\n",
      "Reading: 50\n",
      "Reading: 61\n",
      "Reading: 116\n",
      "Reading: 70\n",
      "Reading: 91\n",
      "Reading: 82\n",
      "Reading: 90\n",
      "Reading: 107\n",
      "Reading: 10\n",
      "Reading: 74\n",
      "Reading: 77\n",
      "Reading: 14\n",
      "Reading: 28\n",
      "Reading: 102\n",
      "Reading: 80\n",
      "Reading: 103\n",
      "Reading: 72\n",
      "Reading: 109\n",
      "Reading: 9\n",
      "Reading: 124\n",
      "Reading: 84\n",
      "Reading: 108\n",
      "Reading: 6\n",
      "Reading: 45\n",
      "Reading: 92\n",
      "Reading: 114\n",
      "Reading: 47\n",
      "Reading: 104\n",
      "Reading: 95\n"
     ]
    }
   ],
   "source": [
    "exp = Explorer(config)"
   ]
  },
  {
   "cell_type": "code",
   "execution_count": 74,
   "id": "f374a361",
   "metadata": {
    "ExecuteTime": {
     "end_time": "2021-12-30T00:15:25.321540Z",
     "start_time": "2021-12-30T00:15:24.908443Z"
    }
   },
   "outputs": [
    {
     "data": {
      "image/png": "[encoded data removed]",
      "text/plain": [
       "<Figure size 504x216 with 1 Axes>"
      ]
     },
     "metadata": {
      "needs_background": "light"
     },
     "output_type": "display_data"
    }
   ],
   "source": [
    "exp.classify_based_on_pvalue()\n",
    "exp.focus_on_detector(\"ks\")\n",
    "exp.plot_benchmark_categories()"
   ]
  },
  {
   "cell_type": "code",
   "execution_count": 59,
   "id": "fadbb826",
   "metadata": {
    "ExecuteTime": {
     "end_time": "2021-12-29T21:47:14.313487Z",
     "start_time": "2021-12-29T21:47:14.177227Z"
    }
   },
   "outputs": [
    {
     "name": "stderr",
     "output_type": "stream",
     "text": [
      "/home/paltenmo/.conda/envs/ML4Quantum/lib/python3.8/site-packages/sklearn/metrics/_ranking.py:998: UndefinedMetricWarning: No positive samples in y_true, true positive value should be meaningless\n",
      "  warnings.warn(\n"
     ]
    },
    {
     "data": {
      "image/png": "[encoded data removed]",
      "text/plain": [
       "<Figure size 432x288 with 1 Axes>"
      ]
     },
     "metadata": {
      "needs_background": "light"
     },
     "output_type": "display_data"
    }
   ],
   "source": [
    "exp.plot_ROC()"
   ]
  },
  {
   "cell_type": "code",
   "execution_count": 7,
   "id": "3a1ab2a4",
   "metadata": {
    "ExecuteTime": {
     "end_time": "2021-12-29T18:15:51.344519Z",
     "start_time": "2021-12-29T18:15:51.327927Z"
    }
   },
   "outputs": [
    {
     "name": "stdout",
     "output_type": "stream",
     "text": [
      "Reading: 8\n",
      "Reading: 0\n",
      "Reading: 4\n",
      "Reading: 5\n",
      "Reading: 1\n",
      "Reading: 7\n",
      "Reading: 2\n",
      "Reading: 3\n",
      "Reading: 10\n",
      "Reading: 9\n",
      "Reading: 6\n"
     ]
    }
   ],
   "source": [
    "FOLDER_DETECTOR = \"../data/experiment_v06/qasm_bench_mid/predictions/ks\"\n",
    "FOLDER_INFO = \"../data/experiment_v06/qasm_bench_mid/original_programs\"\n",
    "\n",
    "all_records = []\n",
    "\n",
    "for filename, detector_res in iterate_over(FOLDER_DETECTOR, filetype=\".json\", parse_json=True):\n",
    "    print(f\"Reading: {filename}\")\n",
    "    # remove the comparison\n",
    "    pairs = detector_res.pop('comparisons', None)\n",
    "        \n",
    "    for pair in pairs:\n",
    "        new_record = {**pair, **detector_res}\n",
    "        all_records.append(new_record)\n",
    "        \n",
    "df_detector_results = pd.DataFrame.from_records(all_records)"
   ]
  },
  {
   "cell_type": "code",
   "execution_count": 12,
   "id": "83009dbe",
   "metadata": {
    "ExecuteTime": {
     "end_time": "2021-12-29T18:49:54.211739Z",
     "start_time": "2021-12-29T18:49:54.187452Z"
    }
   },
   "outputs": [
    {
     "data": {
      "text/html": [
       "<div>\n",
       "<style scoped>\n",
       "    .dataframe tbody tr th:only-of-type {\n",
       "        vertical-align: middle;\n",
       "    }\n",
       "\n",
       "    .dataframe tbody tr th {\n",
       "        vertical-align: top;\n",
       "    }\n",
       "\n",
       "    .dataframe thead th {\n",
       "        text-align: right;\n",
       "    }\n",
       "</style>\n",
       "<table border=\"1\" class=\"dataframe\">\n",
       "  <thead>\n",
       "    <tr style=\"text-align: right;\">\n",
       "      <th></th>\n",
       "      <th>platform_a</th>\n",
       "      <th>platform_b</th>\n",
       "      <th>path_exec_a</th>\n",
       "      <th>path_exec_b</th>\n",
       "      <th>statistic</th>\n",
       "      <th>p_value</th>\n",
       "      <th>test</th>\n",
       "      <th>test_long_name</th>\n",
       "      <th>comparison_name</th>\n",
       "      <th>circuit_id</th>\n",
       "      <th>random_seed</th>\n",
       "    </tr>\n",
       "  </thead>\n",
       "  <tbody>\n",
       "    <tr>\n",
       "      <th>0</th>\n",
       "      <td>cirq</td>\n",
       "      <td>qiskit</td>\n",
       "      <td>../data/experiment_v06/qasm_bench_mid/executio...</td>\n",
       "      <td>../data/experiment_v06/qasm_bench_mid/executio...</td>\n",
       "      <td>0.494385</td>\n",
       "      <td>0.0</td>\n",
       "      <td>ks</td>\n",
       "      <td>Kolmogorov–Smirnov Test</td>\n",
       "      <td>qasm_bench_mid</td>\n",
       "      <td>8</td>\n",
       "      <td>None</td>\n",
       "    </tr>\n",
       "    <tr>\n",
       "      <th>1</th>\n",
       "      <td>cirq</td>\n",
       "      <td>qiskit</td>\n",
       "      <td>../data/experiment_v06/qasm_bench_mid/executio...</td>\n",
       "      <td>../data/experiment_v06/qasm_bench_mid/executio...</td>\n",
       "      <td>0.499634</td>\n",
       "      <td>0.0</td>\n",
       "      <td>ks</td>\n",
       "      <td>Kolmogorov–Smirnov Test</td>\n",
       "      <td>qasm_bench_mid</td>\n",
       "      <td>8</td>\n",
       "      <td>None</td>\n",
       "    </tr>\n",
       "    <tr>\n",
       "      <th>2</th>\n",
       "      <td>cirq</td>\n",
       "      <td>qiskit</td>\n",
       "      <td>../data/experiment_v06/qasm_bench_mid/executio...</td>\n",
       "      <td>../data/experiment_v06/qasm_bench_mid/executio...</td>\n",
       "      <td>0.494385</td>\n",
       "      <td>0.0</td>\n",
       "      <td>ks</td>\n",
       "      <td>Kolmogorov–Smirnov Test</td>\n",
       "      <td>qasm_bench_mid</td>\n",
       "      <td>8</td>\n",
       "      <td>None</td>\n",
       "    </tr>\n",
       "    <tr>\n",
       "      <th>3</th>\n",
       "      <td>cirq</td>\n",
       "      <td>qiskit</td>\n",
       "      <td>../data/experiment_v06/qasm_bench_mid/executio...</td>\n",
       "      <td>../data/experiment_v06/qasm_bench_mid/executio...</td>\n",
       "      <td>0.492065</td>\n",
       "      <td>0.0</td>\n",
       "      <td>ks</td>\n",
       "      <td>Kolmogorov–Smirnov Test</td>\n",
       "      <td>qasm_bench_mid</td>\n",
       "      <td>8</td>\n",
       "      <td>None</td>\n",
       "    </tr>\n",
       "    <tr>\n",
       "      <th>4</th>\n",
       "      <td>cirq</td>\n",
       "      <td>qiskit</td>\n",
       "      <td>../data/experiment_v06/qasm_bench_mid/executio...</td>\n",
       "      <td>../data/experiment_v06/qasm_bench_mid/executio...</td>\n",
       "      <td>0.493530</td>\n",
       "      <td>0.0</td>\n",
       "      <td>ks</td>\n",
       "      <td>Kolmogorov–Smirnov Test</td>\n",
       "      <td>qasm_bench_mid</td>\n",
       "      <td>8</td>\n",
       "      <td>None</td>\n",
       "    </tr>\n",
       "  </tbody>\n",
       "</table>\n",
       "</div>"
      ],
      "text/plain": [
       "  platform_a platform_b                                        path_exec_a  \\\n",
       "0       cirq     qiskit  ../data/experiment_v06/qasm_bench_mid/executio...   \n",
       "1       cirq     qiskit  ../data/experiment_v06/qasm_bench_mid/executio...   \n",
       "2       cirq     qiskit  ../data/experiment_v06/qasm_bench_mid/executio...   \n",
       "3       cirq     qiskit  ../data/experiment_v06/qasm_bench_mid/executio...   \n",
       "4       cirq     qiskit  ../data/experiment_v06/qasm_bench_mid/executio...   \n",
       "\n",
       "                                         path_exec_b  statistic  p_value test  \\\n",
       "0  ../data/experiment_v06/qasm_bench_mid/executio...   0.494385      0.0   ks   \n",
       "1  ../data/experiment_v06/qasm_bench_mid/executio...   0.499634      0.0   ks   \n",
       "2  ../data/experiment_v06/qasm_bench_mid/executio...   0.494385      0.0   ks   \n",
       "3  ../data/experiment_v06/qasm_bench_mid/executio...   0.492065      0.0   ks   \n",
       "4  ../data/experiment_v06/qasm_bench_mid/executio...   0.493530      0.0   ks   \n",
       "\n",
       "            test_long_name comparison_name circuit_id random_seed  \n",
       "0  Kolmogorov–Smirnov Test  qasm_bench_mid          8        None  \n",
       "1  Kolmogorov–Smirnov Test  qasm_bench_mid          8        None  \n",
       "2  Kolmogorov–Smirnov Test  qasm_bench_mid          8        None  \n",
       "3  Kolmogorov–Smirnov Test  qasm_bench_mid          8        None  \n",
       "4  Kolmogorov–Smirnov Test  qasm_bench_mid          8        None  "
      ]
     },
     "execution_count": 12,
     "metadata": {},
     "output_type": "execute_result"
    }
   ],
   "source": [
    "df_detector_results.head()"
   ]
  },
  {
   "cell_type": "code",
   "execution_count": 13,
   "id": "8db42d55",
   "metadata": {
    "ExecuteTime": {
     "end_time": "2021-12-29T18:50:47.224826Z",
     "start_time": "2021-12-29T18:50:47.196898Z"
    }
   },
   "outputs": [
    {
     "name": "stdout",
     "output_type": "stream",
     "text": [
      "TOP_K=20 most evident divergences\n"
     ]
    },
    {
     "data": {
      "text/html": [
       "<div>\n",
       "<style scoped>\n",
       "    .dataframe tbody tr th:only-of-type {\n",
       "        vertical-align: middle;\n",
       "    }\n",
       "\n",
       "    .dataframe tbody tr th {\n",
       "        vertical-align: top;\n",
       "    }\n",
       "\n",
       "    .dataframe thead th {\n",
       "        text-align: right;\n",
       "    }\n",
       "</style>\n",
       "<table border=\"1\" class=\"dataframe\">\n",
       "  <thead>\n",
       "    <tr style=\"text-align: right;\">\n",
       "      <th></th>\n",
       "      <th>circuit_id</th>\n",
       "      <th>comparison_name</th>\n",
       "      <th>test</th>\n",
       "      <th>platform_a</th>\n",
       "      <th>platform_b</th>\n",
       "      <th>statistic</th>\n",
       "      <th>p_value</th>\n",
       "    </tr>\n",
       "  </thead>\n",
       "  <tbody>\n",
       "    <tr>\n",
       "      <th>0</th>\n",
       "      <td>8</td>\n",
       "      <td>qasm_bench_mid</td>\n",
       "      <td>ks</td>\n",
       "      <td>cirq</td>\n",
       "      <td>qiskit</td>\n",
       "      <td>0.488525</td>\n",
       "      <td>0.000000e+00</td>\n",
       "    </tr>\n",
       "    <tr>\n",
       "      <th>1</th>\n",
       "      <td>1</td>\n",
       "      <td>qasm_bench_mid</td>\n",
       "      <td>ks</td>\n",
       "      <td>cirq</td>\n",
       "      <td>qiskit</td>\n",
       "      <td>0.258911</td>\n",
       "      <td>1.214427e-241</td>\n",
       "    </tr>\n",
       "    <tr>\n",
       "      <th>2</th>\n",
       "      <td>4</td>\n",
       "      <td>qasm_bench_mid</td>\n",
       "      <td>ks</td>\n",
       "      <td>cirq</td>\n",
       "      <td>qiskit</td>\n",
       "      <td>0.102661</td>\n",
       "      <td>5.508902e-38</td>\n",
       "    </tr>\n",
       "    <tr>\n",
       "      <th>3</th>\n",
       "      <td>3</td>\n",
       "      <td>qasm_bench_mid</td>\n",
       "      <td>ks</td>\n",
       "      <td>cirq</td>\n",
       "      <td>qiskit</td>\n",
       "      <td>0.013794</td>\n",
       "      <td>4.169149e-01</td>\n",
       "    </tr>\n",
       "    <tr>\n",
       "      <th>4</th>\n",
       "      <td>7</td>\n",
       "      <td>qasm_bench_mid</td>\n",
       "      <td>ks</td>\n",
       "      <td>cirq</td>\n",
       "      <td>qiskit</td>\n",
       "      <td>0.012573</td>\n",
       "      <td>5.365621e-01</td>\n",
       "    </tr>\n",
       "    <tr>\n",
       "      <th>5</th>\n",
       "      <td>0</td>\n",
       "      <td>qasm_bench_mid</td>\n",
       "      <td>ks</td>\n",
       "      <td>cirq</td>\n",
       "      <td>qiskit</td>\n",
       "      <td>0.011841</td>\n",
       "      <td>6.140617e-01</td>\n",
       "    </tr>\n",
       "    <tr>\n",
       "      <th>6</th>\n",
       "      <td>2</td>\n",
       "      <td>qasm_bench_mid</td>\n",
       "      <td>ks</td>\n",
       "      <td>cirq</td>\n",
       "      <td>qiskit</td>\n",
       "      <td>0.008545</td>\n",
       "      <td>9.259451e-01</td>\n",
       "    </tr>\n",
       "    <tr>\n",
       "      <th>7</th>\n",
       "      <td>10</td>\n",
       "      <td>qasm_bench_mid</td>\n",
       "      <td>ks</td>\n",
       "      <td>cirq</td>\n",
       "      <td>qiskit</td>\n",
       "      <td>0.000000</td>\n",
       "      <td>1.000000e+00</td>\n",
       "    </tr>\n",
       "    <tr>\n",
       "      <th>8</th>\n",
       "      <td>5</td>\n",
       "      <td>qasm_bench_mid</td>\n",
       "      <td>ks</td>\n",
       "      <td>cirq</td>\n",
       "      <td>qiskit</td>\n",
       "      <td>0.000000</td>\n",
       "      <td>1.000000e+00</td>\n",
       "    </tr>\n",
       "    <tr>\n",
       "      <th>9</th>\n",
       "      <td>6</td>\n",
       "      <td>qasm_bench_mid</td>\n",
       "      <td>ks</td>\n",
       "      <td>cirq</td>\n",
       "      <td>qiskit</td>\n",
       "      <td>0.000000</td>\n",
       "      <td>1.000000e+00</td>\n",
       "    </tr>\n",
       "    <tr>\n",
       "      <th>10</th>\n",
       "      <td>9</td>\n",
       "      <td>qasm_bench_mid</td>\n",
       "      <td>ks</td>\n",
       "      <td>cirq</td>\n",
       "      <td>qiskit</td>\n",
       "      <td>0.000000</td>\n",
       "      <td>1.000000e+00</td>\n",
       "    </tr>\n",
       "  </tbody>\n",
       "</table>\n",
       "</div>"
      ],
      "text/plain": [
       "   circuit_id comparison_name test platform_a platform_b  statistic  \\\n",
       "0           8  qasm_bench_mid   ks       cirq     qiskit   0.488525   \n",
       "1           1  qasm_bench_mid   ks       cirq     qiskit   0.258911   \n",
       "2           4  qasm_bench_mid   ks       cirq     qiskit   0.102661   \n",
       "3           3  qasm_bench_mid   ks       cirq     qiskit   0.013794   \n",
       "4           7  qasm_bench_mid   ks       cirq     qiskit   0.012573   \n",
       "5           0  qasm_bench_mid   ks       cirq     qiskit   0.011841   \n",
       "6           2  qasm_bench_mid   ks       cirq     qiskit   0.008545   \n",
       "7          10  qasm_bench_mid   ks       cirq     qiskit   0.000000   \n",
       "8           5  qasm_bench_mid   ks       cirq     qiskit   0.000000   \n",
       "9           6  qasm_bench_mid   ks       cirq     qiskit   0.000000   \n",
       "10          9  qasm_bench_mid   ks       cirq     qiskit   0.000000   \n",
       "\n",
       "          p_value  \n",
       "0    0.000000e+00  \n",
       "1   1.214427e-241  \n",
       "2    5.508902e-38  \n",
       "3    4.169149e-01  \n",
       "4    5.365621e-01  \n",
       "5    6.140617e-01  \n",
       "6    9.259451e-01  \n",
       "7    1.000000e+00  \n",
       "8    1.000000e+00  \n",
       "9    1.000000e+00  \n",
       "10   1.000000e+00  "
      ]
     },
     "execution_count": 13,
     "metadata": {},
     "output_type": "execute_result"
    }
   ],
   "source": [
    "TOP_K = 20\n",
    "print(f\"TOP_K={TOP_K} most evident divergences\")\n",
    "df_grouped = df_detector_results.groupby(by=[\n",
    "    \"circuit_id\", \"comparison_name\", \"test\", \"platform_a\", \"platform_b\"\n",
    "]).median().sort_values(by=\"p_value\").reset_index()\n",
    "df_grouped.head(TOP_K)"
   ]
  },
  {
   "cell_type": "code",
   "execution_count": 9,
   "id": "b0f3d227",
   "metadata": {
    "ExecuteTime": {
     "end_time": "2021-12-29T18:15:54.122215Z",
     "start_time": "2021-12-29T18:15:54.076445Z"
    }
   },
   "outputs": [
    {
     "data": {
      "text/html": [
       "<div>\n",
       "<style scoped>\n",
       "    .dataframe tbody tr th:only-of-type {\n",
       "        vertical-align: middle;\n",
       "    }\n",
       "\n",
       "    .dataframe tbody tr th {\n",
       "        vertical-align: top;\n",
       "    }\n",
       "\n",
       "    .dataframe thead th {\n",
       "        text-align: right;\n",
       "    }\n",
       "</style>\n",
       "<table border=\"1\" class=\"dataframe\">\n",
       "  <thead>\n",
       "    <tr style=\"text-align: right;\">\n",
       "      <th></th>\n",
       "      <th>n_qubits</th>\n",
       "      <th>strategy_program_generation</th>\n",
       "      <th>circuit_id</th>\n",
       "      <th>benchmark_name</th>\n",
       "    </tr>\n",
       "  </thead>\n",
       "  <tbody>\n",
       "    <tr>\n",
       "      <th>0</th>\n",
       "      <td>8</td>\n",
       "      <td>FamousCircuitGenerator</td>\n",
       "      <td>8</td>\n",
       "      <td>qasm_bench_mid</td>\n",
       "    </tr>\n",
       "    <tr>\n",
       "      <th>1</th>\n",
       "      <td>6</td>\n",
       "      <td>FamousCircuitGenerator</td>\n",
       "      <td>0</td>\n",
       "      <td>qasm_bench_mid</td>\n",
       "    </tr>\n",
       "    <tr>\n",
       "      <th>2</th>\n",
       "      <td>6</td>\n",
       "      <td>FamousCircuitGenerator</td>\n",
       "      <td>4</td>\n",
       "      <td>qasm_bench_mid</td>\n",
       "    </tr>\n",
       "    <tr>\n",
       "      <th>3</th>\n",
       "      <td>13</td>\n",
       "      <td>FamousCircuitGenerator</td>\n",
       "      <td>5</td>\n",
       "      <td>qasm_bench_mid</td>\n",
       "    </tr>\n",
       "    <tr>\n",
       "      <th>4</th>\n",
       "      <td>11</td>\n",
       "      <td>FamousCircuitGenerator</td>\n",
       "      <td>1</td>\n",
       "      <td>qasm_bench_mid</td>\n",
       "    </tr>\n",
       "  </tbody>\n",
       "</table>\n",
       "</div>"
      ],
      "text/plain": [
       "   n_qubits strategy_program_generation circuit_id  benchmark_name\n",
       "0         8      FamousCircuitGenerator          8  qasm_bench_mid\n",
       "1         6      FamousCircuitGenerator          0  qasm_bench_mid\n",
       "2         6      FamousCircuitGenerator          4  qasm_bench_mid\n",
       "3        13      FamousCircuitGenerator          5  qasm_bench_mid\n",
       "4        11      FamousCircuitGenerator          1  qasm_bench_mid"
      ]
     },
     "execution_count": 9,
     "metadata": {},
     "output_type": "execute_result"
    }
   ],
   "source": [
    "\n",
    "records = list(zip(*iterate_over(FOLDER_INFO, filetype=\".json\", parse_json=True)))[1]\n",
    "df_info = pd.DataFrame.from_records(records)\n",
    "df_info.head()"
   ]
  },
  {
   "cell_type": "code",
   "execution_count": 10,
   "id": "eb018898",
   "metadata": {
    "ExecuteTime": {
     "end_time": "2021-12-29T18:16:04.816769Z",
     "start_time": "2021-12-29T18:16:04.797253Z"
    }
   },
   "outputs": [
    {
     "data": {
      "text/html": [
       "<div>\n",
       "<style scoped>\n",
       "    .dataframe tbody tr th:only-of-type {\n",
       "        vertical-align: middle;\n",
       "    }\n",
       "\n",
       "    .dataframe tbody tr th {\n",
       "        vertical-align: top;\n",
       "    }\n",
       "\n",
       "    .dataframe thead th {\n",
       "        text-align: right;\n",
       "    }\n",
       "</style>\n",
       "<table border=\"1\" class=\"dataframe\">\n",
       "  <thead>\n",
       "    <tr style=\"text-align: right;\">\n",
       "      <th></th>\n",
       "      <th>circuit_id</th>\n",
       "      <th>statistic</th>\n",
       "      <th>p_value</th>\n",
       "      <th>n_qubits</th>\n",
       "      <th>strategy_program_generation</th>\n",
       "      <th>benchmark_name</th>\n",
       "    </tr>\n",
       "  </thead>\n",
       "  <tbody>\n",
       "    <tr>\n",
       "      <th>0</th>\n",
       "      <td>8</td>\n",
       "      <td>0.488525</td>\n",
       "      <td>0.000000e+00</td>\n",
       "      <td>8</td>\n",
       "      <td>FamousCircuitGenerator</td>\n",
       "      <td>qasm_bench_mid</td>\n",
       "    </tr>\n",
       "    <tr>\n",
       "      <th>1</th>\n",
       "      <td>1</td>\n",
       "      <td>0.258911</td>\n",
       "      <td>1.214427e-241</td>\n",
       "      <td>11</td>\n",
       "      <td>FamousCircuitGenerator</td>\n",
       "      <td>qasm_bench_mid</td>\n",
       "    </tr>\n",
       "    <tr>\n",
       "      <th>2</th>\n",
       "      <td>4</td>\n",
       "      <td>0.102661</td>\n",
       "      <td>5.508902e-38</td>\n",
       "      <td>6</td>\n",
       "      <td>FamousCircuitGenerator</td>\n",
       "      <td>qasm_bench_mid</td>\n",
       "    </tr>\n",
       "    <tr>\n",
       "      <th>3</th>\n",
       "      <td>3</td>\n",
       "      <td>0.013794</td>\n",
       "      <td>4.169149e-01</td>\n",
       "      <td>15</td>\n",
       "      <td>FamousCircuitGenerator</td>\n",
       "      <td>qasm_bench_mid</td>\n",
       "    </tr>\n",
       "    <tr>\n",
       "      <th>4</th>\n",
       "      <td>7</td>\n",
       "      <td>0.012573</td>\n",
       "      <td>5.365621e-01</td>\n",
       "      <td>10</td>\n",
       "      <td>FamousCircuitGenerator</td>\n",
       "      <td>qasm_bench_mid</td>\n",
       "    </tr>\n",
       "  </tbody>\n",
       "</table>\n",
       "</div>"
      ],
      "text/plain": [
       "  circuit_id  statistic        p_value  n_qubits strategy_program_generation  \\\n",
       "0          8   0.488525   0.000000e+00         8      FamousCircuitGenerator   \n",
       "1          1   0.258911  1.214427e-241        11      FamousCircuitGenerator   \n",
       "2          4   0.102661   5.508902e-38         6      FamousCircuitGenerator   \n",
       "3          3   0.013794   4.169149e-01        15      FamousCircuitGenerator   \n",
       "4          7   0.012573   5.365621e-01        10      FamousCircuitGenerator   \n",
       "\n",
       "   benchmark_name  \n",
       "0  qasm_bench_mid  \n",
       "1  qasm_bench_mid  \n",
       "2  qasm_bench_mid  \n",
       "3  qasm_bench_mid  \n",
       "4  qasm_bench_mid  "
      ]
     },
     "execution_count": 10,
     "metadata": {},
     "output_type": "execute_result"
    }
   ],
   "source": [
    "df_all = pd.merge(df_grouped, df_info, on=\"circuit_id\")\n",
    "df_all.head()"
   ]
  },
  {
   "cell_type": "markdown",
   "id": "3d86df65",
   "metadata": {},
   "source": [
    "## Keep only qasm with less than 20 qubits"
   ]
  },
  {
   "cell_type": "code",
   "execution_count": 44,
   "id": "e285510b",
   "metadata": {
    "ExecuteTime": {
     "end_time": "2021-12-29T20:42:20.507592Z",
     "start_time": "2021-12-29T20:42:20.486425Z"
    }
   },
   "outputs": [],
   "source": [
    "from utils import iterate_over\n",
    "from qasm_manipulation import detect_registers"
   ]
  },
  {
   "cell_type": "code",
   "execution_count": null,
   "id": "c29c25e9",
   "metadata": {},
   "outputs": [],
   "source": []
  },
  {
   "cell_type": "code",
   "execution_count": 42,
   "id": "66cae5e2",
   "metadata": {
    "ExecuteTime": {
     "end_time": "2021-12-29T20:40:01.159687Z",
     "start_time": "2021-12-29T20:40:01.135295Z"
    }
   },
   "outputs": [],
   "source": [
    "TKET_QASM = \"../data/tket_benchmarking/arxiv-2003-10611/qasm_files\""
   ]
  },
  {
   "cell_type": "code",
   "execution_count": 54,
   "id": "d5e3d4f5",
   "metadata": {
    "ExecuteTime": {
     "end_time": "2021-12-29T20:51:01.905068Z",
     "start_time": "2021-12-29T20:51:01.878031Z"
    }
   },
   "outputs": [],
   "source": [
    "# move programs under 20 bits in the tket folder\n",
    "DEST_FOLDER = \"../data/tket_benchmarking/executable_algos\""
   ]
  },
  {
   "cell_type": "code",
   "execution_count": 60,
   "id": "856b67f4",
   "metadata": {
    "ExecuteTime": {
     "end_time": "2021-12-29T22:16:31.943919Z",
     "start_time": "2021-12-29T22:16:31.920004Z"
    }
   },
   "outputs": [],
   "source": [
    "MEASURE_ALL = \"\"\"\n",
    "barrier q;\n",
    "measure q -> c;\n",
    "\"\"\""
   ]
  },
  {
   "cell_type": "code",
   "execution_count": 66,
   "id": "87619bde",
   "metadata": {
    "ExecuteTime": {
     "end_time": "2021-12-29T22:25:48.558801Z",
     "start_time": "2021-12-29T22:25:47.210500Z"
    }
   },
   "outputs": [
    {
     "name": "stdout",
     "output_type": "stream",
     "text": [
      "[('qreg', 'q', 16), ('creg', 'c', 16)]\n",
      "[('qreg', 'q', 16), ('creg', 'c', 16)]\n",
      "[('qreg', 'q', 16), ('creg', 'c', 16)]\n",
      "[('qreg', 'q', 16), ('creg', 'c', 16)]\n",
      "[('qreg', 'q', 16), ('creg', 'c', 16)]\n",
      "[('qreg', 'q', 16), ('creg', 'c', 16)]\n",
      "[('qreg', 'q', 16), ('creg', 'c', 16)]\n",
      "[('qreg', 'q', 16), ('creg', 'c', 16)]\n",
      "[('qreg', 'q', 16), ('creg', 'c', 16)]\n",
      "[('qreg', 'q', 16), ('creg', 'c', 16)]\n",
      "[('qreg', 'q', 16), ('creg', 'c', 16)]\n",
      "[('qreg', 'q', 16), ('creg', 'c', 16)]\n",
      "[('qreg', 'q', 16), ('creg', 'c', 16)]\n",
      "[('qreg', 'q', 16), ('creg', 'c', 16)]\n",
      "[('qreg', 'q', 16), ('creg', 'c', 16)]\n",
      "[('qreg', 'q', 16), ('creg', 'c', 16)]\n",
      "[('qreg', 'q', 16), ('creg', 'c', 16)]\n",
      "[('qreg', 'q', 16), ('creg', 'c', 16)]\n",
      "[('qreg', 'q', 16), ('creg', 'c', 16)]\n",
      "[('qreg', 'q', 16), ('creg', 'c', 16)]\n",
      "[('qreg', 'q', 16), ('creg', 'c', 16)]\n",
      "[('qreg', 'q', 16), ('creg', 'c', 16)]\n",
      "[('qreg', 'q', 16), ('creg', 'c', 16)]\n",
      "[('qreg', 'q', 16), ('creg', 'c', 16)]\n",
      "[('qreg', 'q', 16), ('creg', 'c', 16)]\n",
      "[('qreg', 'q', 16), ('creg', 'c', 16)]\n",
      "[('qreg', 'q', 16), ('creg', 'c', 16)]\n",
      "[('qreg', 'q', 16), ('creg', 'c', 16)]\n",
      "[('qreg', 'q', 16), ('creg', 'c', 16)]\n",
      "[('qreg', 'q', 16), ('creg', 'c', 16)]\n",
      "[('qreg', 'q', 16), ('creg', 'c', 16)]\n",
      "[('qreg', 'q', 16), ('creg', 'c', 16)]\n",
      "[('qreg', 'q', 16), ('creg', 'c', 16)]\n",
      "[('qreg', 'q', 16), ('creg', 'c', 16)]\n",
      "[('qreg', 'q', 16), ('creg', 'c', 16)]\n",
      "[('qreg', 'q', 16), ('creg', 'c', 16)]\n",
      "[('qreg', 'q', 16), ('creg', 'c', 16)]\n",
      "[('qreg', 'q', 16), ('creg', 'c', 16)]\n",
      "[('qreg', 'q', 16), ('creg', 'c', 16)]\n",
      "[('qreg', 'q', 16), ('creg', 'c', 16)]\n",
      "[('qreg', 'q', 16), ('creg', 'c', 16)]\n",
      "[('qreg', 'q', 16), ('creg', 'c', 16)]\n",
      "[('qreg', 'q', 16), ('creg', 'c', 16)]\n",
      "[('qreg', 'q', 16), ('creg', 'c', 16)]\n",
      "[('qreg', 'q', 16), ('creg', 'c', 16)]\n",
      "[('qreg', 'q', 16), ('creg', 'c', 16)]\n",
      "[('qreg', 'q', 16), ('creg', 'c', 16)]\n",
      "[('qreg', 'q', 16), ('creg', 'c', 16)]\n",
      "[('qreg', 'q', 16), ('creg', 'c', 16)]\n",
      "[('qreg', 'q', 16), ('creg', 'c', 16)]\n",
      "[('qreg', 'q', 16), ('creg', 'c', 16)]\n",
      "[('qreg', 'q', 16), ('creg', 'c', 16)]\n",
      "[('qreg', 'q', 16), ('creg', 'c', 16)]\n",
      "[('qreg', 'q', 16), ('creg', 'c', 16)]\n",
      "[('qreg', 'q', 16), ('creg', 'c', 16)]\n",
      "[('qreg', 'q', 16), ('creg', 'c', 16)]\n",
      "[('qreg', 'q', 16), ('creg', 'c', 16)]\n",
      "[('qreg', 'q', 16), ('creg', 'c', 16)]\n",
      "[('qreg', 'q', 16), ('creg', 'c', 16)]\n",
      "[('qreg', 'q', 16), ('creg', 'c', 16)]\n",
      "[('qreg', 'q', 16), ('creg', 'c', 16)]\n",
      "[('qreg', 'q', 16), ('creg', 'c', 16)]\n",
      "[('qreg', 'q', 16), ('creg', 'c', 16)]\n",
      "[('qreg', 'q', 16), ('creg', 'c', 16)]\n",
      "[('qreg', 'q', 16), ('creg', 'c', 16)]\n",
      "[('qreg', 'q', 16), ('creg', 'c', 16)]\n",
      "[('qreg', 'q', 16), ('creg', 'c', 16)]\n",
      "[('qreg', 'q', 16), ('creg', 'c', 16)]\n",
      "[('qreg', 'q', 16), ('creg', 'c', 16)]\n",
      "[('qreg', 'q', 16), ('creg', 'c', 16)]\n",
      "[('qreg', 'q', 16), ('creg', 'c', 16)]\n",
      "[('qreg', 'q', 16), ('creg', 'c', 16)]\n",
      "[('qreg', 'q', 16), ('creg', 'c', 16)]\n",
      "[('qreg', 'q', 16), ('creg', 'c', 16)]\n",
      "[('qreg', 'q', 16), ('creg', 'c', 16)]\n",
      "[('qreg', 'q', 16), ('creg', 'c', 16)]\n",
      "[('qreg', 'q', 16), ('creg', 'c', 16)]\n",
      "[('qreg', 'q', 16), ('creg', 'c', 16)]\n",
      "[('qreg', 'q', 16), ('creg', 'c', 16)]\n",
      "[('qreg', 'q', 16), ('creg', 'c', 16)]\n",
      "[('qreg', 'q', 16), ('creg', 'c', 16)]\n",
      "[('qreg', 'q', 16), ('creg', 'c', 16)]\n",
      "[('qreg', 'q', 16), ('creg', 'c', 16)]\n",
      "[('qreg', 'q', 16), ('creg', 'c', 16)]\n",
      "[('qreg', 'q', 16), ('creg', 'c', 16)]\n",
      "[('qreg', 'q', 16), ('creg', 'c', 16)]\n",
      "[('qreg', 'q', 16), ('creg', 'c', 16)]\n",
      "[('qreg', 'q', 16), ('creg', 'c', 16)]\n",
      "[('qreg', 'q', 16), ('creg', 'c', 16)]\n",
      "[('qreg', 'q', 16), ('creg', 'c', 16)]\n",
      "[('qreg', 'q', 16), ('creg', 'c', 16)]\n",
      "[('qreg', 'q', 16), ('creg', 'c', 16)]\n",
      "[('qreg', 'q', 16), ('creg', 'c', 16)]\n",
      "[('qreg', 'q', 16), ('creg', 'c', 16)]\n",
      "[('qreg', 'q', 16), ('creg', 'c', 16)]\n",
      "[('qreg', 'q', 16), ('creg', 'c', 16)]\n",
      "[('qreg', 'q', 16), ('creg', 'c', 16)]\n",
      "[('qreg', 'q', 16), ('creg', 'c', 16)]\n",
      "[('qreg', 'q', 16), ('creg', 'c', 16)]\n",
      "[('qreg', 'q', 16), ('creg', 'c', 16)]\n",
      "[('qreg', 'q', 16), ('creg', 'c', 16)]\n",
      "[('qreg', 'q', 16), ('creg', 'c', 16)]\n",
      "[('qreg', 'q', 16), ('creg', 'c', 16)]\n",
      "[('qreg', 'q', 16), ('creg', 'c', 16)]\n",
      "[('qreg', 'q', 16), ('creg', 'c', 16)]\n",
      "[('qreg', 'q', 16), ('creg', 'c', 16)]\n",
      "[('qreg', 'q', 16), ('creg', 'c', 16)]\n",
      "[('qreg', 'q', 16), ('creg', 'c', 16)]\n",
      "[('qreg', 'q', 16), ('creg', 'c', 16)]\n",
      "[('qreg', 'q', 16), ('creg', 'c', 16)]\n",
      "[('qreg', 'q', 16), ('creg', 'c', 16)]\n",
      "[('qreg', 'q', 16), ('creg', 'c', 16)]\n",
      "[('qreg', 'q', 16), ('creg', 'c', 16)]\n",
      "[('qreg', 'q', 16), ('creg', 'c', 16)]\n",
      "[('qreg', 'q', 16), ('creg', 'c', 16)]\n",
      "[('qreg', 'q', 16), ('creg', 'c', 16)]\n",
      "[('qreg', 'q', 16), ('creg', 'c', 16)]\n",
      "[('qreg', 'q', 16), ('creg', 'c', 16)]\n",
      "[('qreg', 'q', 16), ('creg', 'c', 16)]\n",
      "[('qreg', 'q', 16), ('creg', 'c', 16)]\n",
      "[('qreg', 'q', 16), ('creg', 'c', 16)]\n",
      "[('qreg', 'q', 16), ('creg', 'c', 16)]\n",
      "[('qreg', 'q', 16), ('creg', 'c', 16)]\n",
      "[('qreg', 'q', 16), ('creg', 'c', 16)]\n",
      "[('qreg', 'q', 16), ('creg', 'c', 16)]\n",
      "[('qreg', 'q', 16), ('creg', 'c', 16)]\n"
     ]
    }
   ],
   "source": [
    "executable_circuits = []\n",
    "CUTOFF_QUBITS = 20\n",
    "for filename, qasm_content in iterate_over(TKET_QASM, \".qasm\", parse_json=False):\n",
    "    #print(qasm_content)\n",
    "    c_registers = detect_registers(qasm_content)\n",
    "    quantum_bits = sum([\n",
    "        reg[2]\n",
    "        for reg in c_registers if reg[0] =='qreg' \n",
    "    ])\n",
    "    \n",
    "    if quantum_bits <= CUTOFF_QUBITS and len(c_registers) == 2:\n",
    "        q_reg = [r for r in c_registers if r[1] == 'q']\n",
    "        c_reg = [r for r in c_registers if r[1] == 'c']\n",
    "        if (len(q_reg) > 0 and len(c_reg) > 0) and \\\n",
    "                (q_reg[0][1] == 'q' and q_reg[0][0] == 'qreg') and \\\n",
    "                (c_reg[0][1] == 'c' and c_reg[0][0] == 'creg') and \\\n",
    "                (c_reg[0][2] >= q_reg[0][2]):                 \n",
    "            # save new file\n",
    "            new_qasm = qasm_content + MEASURE_ALL\n",
    "            print(c_registers)\n",
    "            with open(os.path.join(DEST_FOLDER, f\"{filename}.qasm\"), 'w') as f:\n",
    "                f.write(new_qasm)\n",
    "                f.close()\n",
    "            executable_circuits.append(f\"{filename}.qasm\")"
   ]
  },
  {
   "cell_type": "code",
   "execution_count": 53,
   "id": "1ecc6c60",
   "metadata": {
    "ExecuteTime": {
     "end_time": "2021-12-29T20:45:54.655138Z",
     "start_time": "2021-12-29T20:45:54.628039Z"
    }
   },
   "outputs": [
    {
     "data": {
      "text/plain": [
       "137"
      ]
     },
     "execution_count": 53,
     "metadata": {},
     "output_type": "execute_result"
    }
   ],
   "source": [
    "len(executable_circuits)"
   ]
  },
  {
   "cell_type": "code",
   "execution_count": 58,
   "id": "64cc0442",
   "metadata": {
    "ExecuteTime": {
     "end_time": "2021-12-29T20:53:14.778452Z",
     "start_time": "2021-12-29T20:53:13.811665Z"
    }
   },
   "outputs": [
    {
     "name": "stdout",
     "output_type": "stream",
     "text": [
      "Moving: one-two-three-v1_99.qasm\n",
      "Moving: 4gt12-v0_87.qasm\n",
      "Moving: 4gt5_75.qasm\n",
      "Moving: ham7_104.qasm\n",
      "Moving: hwb5_53.qasm\n",
      "Moving: sym9_146.qasm\n",
      "Moving: pf2_20_after.qasm\n",
      "Moving: 4gt4-v0_72.qasm\n",
      "Moving: cnt3-5_180.qasm\n",
      "Moving: 4mod5-v0_20.qasm\n",
      "Moving: rd32_270.qasm\n",
      "Moving: rd73_140.qasm\n",
      "Moving: one-two-three-v2_100.qasm\n",
      "Moving: 4mod5-v0_18.qasm\n",
      "Moving: 4gt4-v0_79.qasm\n",
      "Moving: rd84_142.qasm\n",
      "Moving: pf2_10_after.qasm\n",
      "Moving: 4gt12-v1_89.qasm\n",
      "Moving: mod8-10_178.qasm\n",
      "Moving: 4gt13_92.qasm\n",
      "Moving: ising_model_10.qasm\n",
      "Moving: dc1_220.qasm\n",
      "Moving: ex-1_166.qasm\n",
      "Moving: C17_204.qasm\n",
      "Moving: ex2_227.qasm\n",
      "Moving: ex3_229.qasm\n",
      "Moving: radd_250.qasm\n",
      "Moving: cm82a_208.qasm\n",
      "Moving: majority_239.qasm\n",
      "Moving: rd53_138.qasm\n",
      "Moving: aj-e11_165.qasm\n",
      "Moving: qft_10.qasm\n",
      "Moving: pf4_10_after.qasm\n",
      "Moving: sqrt8_260.qasm\n",
      "Moving: rd53_133.qasm\n",
      "Moving: 4mod5-v1_23.qasm\n",
      "Moving: rd53_130.qasm\n",
      "Moving: mod5d1_63.qasm\n",
      "Moving: alu-v4_36.qasm\n",
      "Moving: pm1_249.qasm\n",
      "Moving: z4_268.qasm\n",
      "Moving: ising_model_13.qasm\n",
      "Moving: alu-v0_26.qasm\n",
      "Moving: mini_alu_305.qasm\n",
      "Moving: pf4_20_after.qasm\n",
      "Moving: decod24-enable_126.qasm\n",
      "Moving: alu-v0_27.qasm\n",
      "Moving: alu-v3_34.qasm\n",
      "Moving: con1_216.qasm\n",
      "Moving: mod5mils_65.qasm\n",
      "Moving: mini-alu_167.qasm\n",
      "Moving: rd73_252.qasm\n",
      "Moving: 4gt11_84.qasm\n",
      "Moving: 4gt10-v1_81.qasm\n",
      "Moving: ham3_102.qasm\n",
      "Moving: 4gt4-v1_74.qasm\n",
      "Moving: one-two-three-v0_97.qasm\n",
      "Moving: 4gt13-v1_93.qasm\n",
      "Moving: misex1_241.qasm\n",
      "Moving: 4gt13_90.qasm\n",
      "Moving: decod24-bdd_294.qasm\n",
      "Moving: mod5adder_127.qasm\n",
      "Moving: 4gt11_83.qasm\n",
      "Moving: rd32-v0_66.qasm\n",
      "Moving: 4mod5-v0_19.qasm\n",
      "Moving: ising_model_16.qasm\n",
      "Moving: rd32-v1_68.qasm\n",
      "Moving: pf4_20_before.qasm\n",
      "Moving: miller_11.qasm\n",
      "Moving: alu-v2_33.qasm\n",
      "Moving: rd53_311.qasm\n",
      "Moving: ham15_107.qasm\n",
      "Moving: pf1_20_after.qasm\n",
      "Moving: one-two-three-v3_101.qasm\n",
      "Moving: pf2_20_before.qasm\n",
      "Moving: alu-v2_30.qasm\n",
      "Moving: rd53_135.qasm\n",
      "Moving: cnt3-5_179.qasm\n",
      "Moving: squar5_261.qasm\n",
      "Moving: cycle10_2_110.qasm\n",
      "Moving: mod10_176.qasm\n",
      "Moving: 4mod5-bdd_287.qasm\n",
      "Moving: 4mod7-v0_94.qasm\n",
      "Moving: alu-bdd_288.qasm\n",
      "Moving: cm42a_207.qasm\n",
      "Moving: mod8-10_177.qasm\n",
      "Moving: decod24-v2_43.qasm\n",
      "Moving: pf4_10_before.qasm\n",
      "Moving: decod24-v0_38.qasm\n",
      "Moving: alu-v1_28.qasm\n",
      "Moving: 0410184_169.qasm\n",
      "Moving: cm152a_212.qasm\n",
      "Moving: decod24-v1_41.qasm\n",
      "Moving: hwb4_49.qasm\n",
      "Moving: hwb6_56.qasm\n",
      "Moving: 4gt4-v0_73.qasm\n",
      "Moving: mod5d2_64.qasm\n",
      "Moving: pf2_10_before.qasm\n",
      "Moving: 4mod5-v1_24.qasm\n",
      "Moving: dc2_222.qasm\n",
      "Moving: adr4_197.qasm\n",
      "Moving: mod10_171.qasm\n",
      "Moving: xor5_254.qasm\n",
      "Moving: rd53_131.qasm\n",
      "Moving: ex1_226.qasm\n",
      "Moving: one-two-three-v0_98.qasm\n",
      "Moving: sym6_316.qasm\n",
      "Moving: 4gt5_77.qasm\n",
      "Moving: qft_16.qasm\n",
      "Moving: 4gt11_82.qasm\n",
      "Moving: 4mod7-v1_96.qasm\n",
      "Moving: alu-v2_32.qasm\n",
      "Moving: sf_274.qasm\n",
      "Moving: f2_232.qasm\n",
      "Moving: decod24-v3_45.qasm\n",
      "Moving: 4gt12-v0_88.qasm\n",
      "Moving: 4gt4-v0_78.qasm\n",
      "Moving: alu-v1_29.qasm\n",
      "Moving: 4gt12-v0_86.qasm\n",
      "Moving: alu-v3_35.qasm\n",
      "Moving: alu-v4_37.qasm\n",
      "Moving: 3_17_13.qasm\n",
      "Moving: pf1_10_before.qasm\n",
      "Moving: pf1_20_before.qasm\n",
      "Moving: graycode6_47.qasm\n",
      "Moving: sys6-v0_111.qasm\n",
      "Moving: sf_276.qasm\n",
      "Moving: 4mod5-v1_22.qasm\n",
      "Moving: 4_49_16.qasm\n",
      "Moving: 4gt13_91.qasm\n",
      "Moving: 4gt5_76.qasm\n",
      "Moving: wim_266.qasm\n",
      "Moving: alu-v2_31.qasm\n",
      "Moving: sym6_145.qasm\n",
      "Moving: square_root_7.qasm\n",
      "Moving: 4gt4-v0_80.qasm\n",
      "Moving: rd53_251.qasm\n"
     ]
    }
   ],
   "source": [
    "import shutil\n",
    "\n",
    "for filename in executable_circuits:\n",
    "    filepath = os.path.join(TKET_QASM, filename)\n",
    "    destpath = os.path.join(DEST_FOLDER, filename)\n",
    "    print(f\"Moving: {filename}\")\n",
    "    #shutil.copyfile(filepath, destpath)"
   ]
  },
  {
   "cell_type": "code",
   "execution_count": null,
   "id": "c6187b5c",
   "metadata": {},
   "outputs": [],
   "source": []
  }
 ],
 "metadata": {
  "kernelspec": {
   "display_name": "Python 3 (ipykernel)",
   "language": "python",
   "name": "python3"
  },
  "language_info": {
   "codemirror_mode": {
    "name": "ipython",
    "version": 3
   },
   "file_extension": ".py",
   "mimetype": "text/x-python",
   "name": "python",
   "nbconvert_exporter": "python",
   "pygments_lexer": "ipython3",
   "version": "3.8.0"
  },
  "toc": {
   "base_numbering": 1,
   "nav_menu": {},
   "number_sections": true,
   "sideBar": true,
   "skip_h1_title": false,
   "title_cell": "Table of Contents",
   "title_sidebar": "Contents",
   "toc_cell": false,
   "toc_position": {},
   "toc_section_display": true,
   "toc_window_display": false
  }
 },
 "nbformat": 4,
 "nbformat_minor": 5
}
