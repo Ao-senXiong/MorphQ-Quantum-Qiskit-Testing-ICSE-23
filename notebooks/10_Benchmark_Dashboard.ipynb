{
 "cells": [
  {
   "cell_type": "code",
   "execution_count": 48,
   "id": "6b668c25",
   "metadata": {
    "ExecuteTime": {
     "end_time": "2021-12-13T15:20:09.172527Z",
     "start_time": "2021-12-13T15:20:09.166570Z"
    }
   },
   "outputs": [],
   "source": [
    "import matplotlib.pyplot as plt\n",
    "import seaborn as sns\n",
    "import os\n",
    "import yaml\n",
    "import json\n",
    "import pandas as pd\n",
    "import numpy as np\n",
    "import sys\n",
    "sys.path.append(\"../lib\")\n",
    "from benchmark import *"
   ]
  },
  {
   "cell_type": "code",
   "execution_count": 49,
   "id": "2918961f",
   "metadata": {
    "ExecuteTime": {
     "end_time": "2021-12-13T15:20:09.702474Z",
     "start_time": "2021-12-13T15:20:09.679313Z"
    }
   },
   "outputs": [],
   "source": [
    "CONFIG = \"../config/experiment_v01.yaml\"\n",
    "with open(CONFIG, \"r\") as f:\n",
    "    config = yaml.load(f, Loader=yaml.FullLoader)"
   ]
  },
  {
   "cell_type": "code",
   "execution_count": 50,
   "id": "e3a90827",
   "metadata": {
    "ExecuteTime": {
     "end_time": "2021-12-13T15:20:10.183209Z",
     "start_time": "2021-12-13T15:20:10.178675Z"
    }
   },
   "outputs": [],
   "source": [
    "BENCHMARKS = config[\"benchmarks_configurations\"]\n",
    "DETECTORS = config[\"detectors\"]"
   ]
  },
  {
   "cell_type": "code",
   "execution_count": 57,
   "id": "aa966bda",
   "metadata": {
    "ExecuteTime": {
     "end_time": "2021-12-13T15:22:10.276250Z",
     "start_time": "2021-12-13T15:22:10.252074Z"
    }
   },
   "outputs": [
    {
     "name": "stdout",
     "output_type": "stream",
     "text": [
      "BENCHMARK:  program_vs_random\n",
      "GROUND TRUTH - reading ...  \n",
      "({'expected_divergence': True, 'circuit_id': '0', 'benchmark_name': 'program_vs_random'}, {'expected_divergence': True, 'circuit_id': '1', 'benchmark_name': 'program_vs_random'}, {'expected_divergence': True, 'circuit_id': '2', 'benchmark_name': 'program_vs_random'})\n",
      "PROGRAM INFO - reading ...  \n",
      "[{'n_qubits': 5, 'circuit_id': '0', 'benchmark_name': 'program_vs_random', 'strategy_a': 'WeightedRandomCircuitGenerator', 'strategy_b': 'FakeCircuitGenerator'}, {'n_qubits': 10, 'circuit_id': '1', 'benchmark_name': 'program_vs_random', 'strategy_a': 'WeightedRandomCircuitGenerator', 'strategy_b': 'FakeCircuitGenerator'}, {'n_qubits': 9, 'circuit_id': '2', 'benchmark_name': 'program_vs_random', 'strategy_a': 'WeightedRandomCircuitGenerator', 'strategy_b': 'FakeCircuitGenerator'}]\n",
      "DETECTOR:  ks\n",
      "({'statistic': 0.413818359375, 'p_value': 0.0, 'test': 'ks', 'test_long_name': 'Kolmogorov–Smirnov Test', 'circuit_id': '0', 'benchmark_name': 'program_vs_random'}, {'statistic': 0.0579833984375, 'p_value': 2.156063144718124e-12, 'test': 'ks', 'test_long_name': 'Kolmogorov–Smirnov Test', 'circuit_id': '1', 'benchmark_name': 'program_vs_random'}, {'statistic': 0.112060546875, 'p_value': 3.413782886949437e-45, 'test': 'ks', 'test_long_name': 'Kolmogorov–Smirnov Test', 'circuit_id': '2', 'benchmark_name': 'program_vs_random'})\n",
      "BENCHMARK:  famous_algos\n",
      "GROUND TRUTH - reading ...  \n",
      "({'expected_divergence': False, 'circuit_id': '0', 'benchmark_name': 'famous_algos'}, {'expected_divergence': False, 'circuit_id': '1', 'benchmark_name': 'famous_algos'}, {'expected_divergence': False, 'circuit_id': '2', 'benchmark_name': 'famous_algos'})\n",
      "PROGRAM INFO - reading ...  \n",
      "[{'n_qubits': 6, 'circuit_id': '0', 'benchmark_name': 'famous_algos', 'strategy_a': 'FamousCircuitGenerator', 'strategy_b': 'FamousCircuitGenerator'}, {'n_qubits': 11, 'circuit_id': '1', 'benchmark_name': 'famous_algos', 'strategy_a': 'FamousCircuitGenerator', 'strategy_b': 'FamousCircuitGenerator'}, {'n_qubits': 11, 'circuit_id': '2', 'benchmark_name': 'famous_algos', 'strategy_a': 'FamousCircuitGenerator', 'strategy_b': 'FamousCircuitGenerator'}]\n",
      "DETECTOR:  ks\n",
      "({'statistic': 0.506103515625, 'p_value': 0.0, 'test': 'ks', 'test_long_name': 'Kolmogorov–Smirnov Test', 'circuit_id': '0', 'benchmark_name': 'famous_algos'}, {'statistic': 0.2537841796875, 'p_value': 4.455115375648399e-232, 'test': 'ks', 'test_long_name': 'Kolmogorov–Smirnov Test', 'circuit_id': '1', 'benchmark_name': 'famous_algos'}, {'statistic': 0.200927734375, 'p_value': 4.950334857584763e-145, 'test': 'ks', 'test_long_name': 'Kolmogorov–Smirnov Test', 'circuit_id': '2', 'benchmark_name': 'famous_algos'})\n",
      "BENCHMARK:  across_runs\n",
      "GROUND TRUTH - reading ...  \n",
      "({'expected_divergence': False, 'circuit_id': '0', 'benchmark_name': 'across_runs'}, {'expected_divergence': False, 'circuit_id': '1', 'benchmark_name': 'across_runs'}, {'expected_divergence': False, 'circuit_id': '2', 'benchmark_name': 'across_runs'})\n",
      "PROGRAM INFO - reading ...  \n",
      "[{'n_qubits': 5, 'circuit_id': '0', 'benchmark_name': 'across_runs', 'strategy_a': 'WeightedRandomCircuitGenerator', 'strategy_b': 'WeightedRandomCircuitGenerator'}, {'n_qubits': 10, 'circuit_id': '1', 'benchmark_name': 'across_runs', 'strategy_a': 'WeightedRandomCircuitGenerator', 'strategy_b': 'WeightedRandomCircuitGenerator'}, {'n_qubits': 9, 'circuit_id': '2', 'benchmark_name': 'across_runs', 'strategy_a': 'WeightedRandomCircuitGenerator', 'strategy_b': 'WeightedRandomCircuitGenerator'}]\n",
      "DETECTOR:  ks\n",
      "({'statistic': 0.0147705078125, 'p_value': 0.3332906026888351, 'test': 'ks', 'test_long_name': 'Kolmogorov–Smirnov Test', 'circuit_id': '0', 'benchmark_name': 'across_runs'}, {'statistic': 0.0140380859375, 'p_value': 0.3949112411836618, 'test': 'ks', 'test_long_name': 'Kolmogorov–Smirnov Test', 'circuit_id': '1', 'benchmark_name': 'across_runs'}, {'statistic': 0.018310546875, 'p_value': 0.1282614910481345, 'test': 'ks', 'test_long_name': 'Kolmogorov–Smirnov Test', 'circuit_id': '2', 'benchmark_name': 'across_runs'})\n",
      "BENCHMARK:  negation\n",
      "GROUND TRUTH - reading ...  \n",
      "({'expected_divergence': True, 'circuit_id': '0', 'benchmark_name': 'negation'}, {'expected_divergence': True, 'circuit_id': '1', 'benchmark_name': 'negation'}, {'expected_divergence': True, 'circuit_id': '2', 'benchmark_name': 'negation'})\n",
      "PROGRAM INFO - reading ...  \n",
      "[{'n_qubits': 5, 'circuit_id': '0', 'benchmark_name': 'negation', 'strategy_a': 'WeightedRandomCircuitGenerator', 'strategy_b': 'WeightedRandomCircuitGenerator'}, {'n_qubits': 10, 'circuit_id': '1', 'benchmark_name': 'negation', 'strategy_a': 'WeightedRandomCircuitGenerator', 'strategy_b': 'WeightedRandomCircuitGenerator'}, {'n_qubits': 9, 'circuit_id': '2', 'benchmark_name': 'negation', 'strategy_a': 'WeightedRandomCircuitGenerator', 'strategy_b': 'WeightedRandomCircuitGenerator'}]\n",
      "DETECTOR:  ks\n",
      "({'statistic': 0.5054931640625, 'p_value': 0.0, 'test': 'ks', 'test_long_name': 'Kolmogorov–Smirnov Test', 'circuit_id': '0', 'benchmark_name': 'negation'}, {'statistic': 0.0264892578125, 'p_value': 0.006375178002789301, 'test': 'ks', 'test_long_name': 'Kolmogorov–Smirnov Test', 'circuit_id': '1', 'benchmark_name': 'negation'}, {'statistic': 0.14599609375, 'p_value': 1.5894782405320184e-76, 'test': 'ks', 'test_long_name': 'Kolmogorov–Smirnov Test', 'circuit_id': '2', 'benchmark_name': 'negation'})\n",
      "BENCHMARK:  program_x_vs_program_y\n",
      "GROUND TRUTH - reading ...  \n",
      "({'expected_divergence': True, 'circuit_id': '0', 'benchmark_name': 'program_x_vs_program_y'}, {'expected_divergence': True, 'circuit_id': '1', 'benchmark_name': 'program_x_vs_program_y'}, {'expected_divergence': True, 'circuit_id': '2', 'benchmark_name': 'program_x_vs_program_y'})\n",
      "PROGRAM INFO - reading ...  \n",
      "[{'n_qubits': 5, 'circuit_id': '0', 'benchmark_name': 'program_x_vs_program_y', 'strategy_a': 'WeightedRandomCircuitGenerator', 'strategy_b': 'WeightedRandomCircuitGenerator'}, {'n_qubits': 9, 'circuit_id': '1', 'benchmark_name': 'program_x_vs_program_y', 'strategy_a': 'WeightedRandomCircuitGenerator', 'strategy_b': 'WeightedRandomCircuitGenerator'}, {'n_qubits': 5, 'circuit_id': '2', 'benchmark_name': 'program_x_vs_program_y', 'strategy_a': 'WeightedRandomCircuitGenerator', 'strategy_b': 'WeightedRandomCircuitGenerator'}]\n",
      "DETECTOR:  ks\n",
      "({'statistic': 0.5528564453125, 'p_value': 0.0, 'test': 'ks', 'test_long_name': 'Kolmogorov–Smirnov Test', 'circuit_id': '0', 'benchmark_name': 'program_x_vs_program_y'}, {'statistic': 0.1339111328125, 'p_value': 2.064537825859384e-64, 'test': 'ks', 'test_long_name': 'Kolmogorov–Smirnov Test', 'circuit_id': '1', 'benchmark_name': 'program_x_vs_program_y'}, {'statistic': 0.2056884765625, 'p_value': 5.13674008930041e-152, 'test': 'ks', 'test_long_name': 'Kolmogorov–Smirnov Test', 'circuit_id': '2', 'benchmark_name': 'program_x_vs_program_y'})\n"
     ]
    }
   ],
   "source": [
    "detector_result = {}\n",
    "ground_truth = []\n",
    "program_info = []\n",
    "\n",
    "for benchmark in BENCHMARK:\n",
    "    print(\"BENCHMARK: \", benchmark[\"name\"])\n",
    "    \n",
    "    print(\"GROUND TRUTH - reading ...  \")\n",
    "    ground_truth_folder = get_benchmark_folder(config, benchmark[\"name\"], \"ground_truth\")\n",
    "    _, records_ground_truth = zip(*list(\n",
    "        iterate_over(ground_truth_folder, \".json\", parse_json=True)))\n",
    "    print(records_ground_truth)\n",
    "    ground_truth.extend(records_ground_truth)\n",
    "    \n",
    "    print(\"PROGRAM INFO - reading ...  \")\n",
    "    folder_a = get_benchmark_folder(config, benchmark[\"name\"], \"programs\", \"sample_a\")\n",
    "    folder_b = get_benchmark_folder(config, benchmark[\"name\"], \"programs\", \"sample_b\")\n",
    "    pairs_program_info = list(\n",
    "        iterate_parallel(folder_a, folder_b, \".json\", parse_json=True))\n",
    "    records_program_info = [ \n",
    "        {\n",
    "            \"n_qubits\": program_a[\"n_qubits\"],\n",
    "            \"circuit_id\": program_a[\"circuit_id\"],\n",
    "            \"benchmark_name\": program_a[\"benchmark_name\"],\n",
    "            \"strategy_a\": program_a[\"strategy_program_generation\"],\n",
    "            \"strategy_b\": program_b[\"strategy_program_generation\"],\n",
    "        }\n",
    "        for _, program_a, program_b in pairs_program_info\n",
    "    ] \n",
    "    print(records_program_info)\n",
    "    program_info.extend(records_program_info)\n",
    "    \n",
    "    \n",
    "    for detector in DETECTORS:\n",
    "        old_detector_predictions = detector_result.get(detector[\"name\"], [])\n",
    "        print(\"DETECTOR: \", detector[\"name\"])\n",
    "        # READ PREDICTIONS\n",
    "        pred_folder = get_benchmark_folder(config, benchmark[\"name\"], \"predictions\")\n",
    "        detector_prediction_folder = os.path.join(pred_folder, detector[\"name\"])\n",
    "        _, records_predictions = zip(*list(\n",
    "            iterate_over(detector_prediction_folder, \".json\", parse_json=True)))\n",
    "        print(records_predictions)\n",
    "        old_detector_predictions.extend(records_predictions)\n",
    "        detector_result[detector[\"name\"]] = old_detector_predictions\n",
    "        "
   ]
  },
  {
   "cell_type": "code",
   "execution_count": 56,
   "id": "fe0cf349",
   "metadata": {
    "ExecuteTime": {
     "end_time": "2021-12-13T15:21:41.140018Z",
     "start_time": "2021-12-13T15:21:41.131815Z"
    }
   },
   "outputs": [
    {
     "data": {
      "text/plain": [
       "dict_keys(['ks'])"
      ]
     },
     "execution_count": 56,
     "metadata": {},
     "output_type": "execute_result"
    }
   ],
   "source": [
    "detector_result.keys()"
   ]
  },
  {
   "cell_type": "code",
   "execution_count": 46,
   "id": "295dfa7c",
   "metadata": {
    "ExecuteTime": {
     "end_time": "2021-12-13T15:00:10.734089Z",
     "start_time": "2021-12-13T15:00:10.719721Z"
    }
   },
   "outputs": [
    {
     "data": {
      "text/html": [
       "<div>\n",
       "<style scoped>\n",
       "    .dataframe tbody tr th:only-of-type {\n",
       "        vertical-align: middle;\n",
       "    }\n",
       "\n",
       "    .dataframe tbody tr th {\n",
       "        vertical-align: top;\n",
       "    }\n",
       "\n",
       "    .dataframe thead th {\n",
       "        text-align: right;\n",
       "    }\n",
       "</style>\n",
       "<table border=\"1\" class=\"dataframe\">\n",
       "  <thead>\n",
       "    <tr style=\"text-align: right;\">\n",
       "      <th></th>\n",
       "      <th>expected_divergence</th>\n",
       "      <th>circuit_id</th>\n",
       "      <th>benchmark_name</th>\n",
       "    </tr>\n",
       "  </thead>\n",
       "  <tbody>\n",
       "    <tr>\n",
       "      <th>0</th>\n",
       "      <td>True</td>\n",
       "      <td>0</td>\n",
       "      <td>program_vs_random</td>\n",
       "    </tr>\n",
       "    <tr>\n",
       "      <th>1</th>\n",
       "      <td>True</td>\n",
       "      <td>1</td>\n",
       "      <td>program_vs_random</td>\n",
       "    </tr>\n",
       "    <tr>\n",
       "      <th>2</th>\n",
       "      <td>True</td>\n",
       "      <td>2</td>\n",
       "      <td>program_vs_random</td>\n",
       "    </tr>\n",
       "  </tbody>\n",
       "</table>\n",
       "</div>"
      ],
      "text/plain": [
       "   expected_divergence circuit_id     benchmark_name\n",
       "0                 True          0  program_vs_random\n",
       "1                 True          1  program_vs_random\n",
       "2                 True          2  program_vs_random"
      ]
     },
     "execution_count": 46,
     "metadata": {},
     "output_type": "execute_result"
    }
   ],
   "source": [
    "df_truth = pd.DataFrame.from_records(ground_truth)\n",
    "df_truth.head(3)"
   ]
  },
  {
   "cell_type": "code",
   "execution_count": 58,
   "id": "7450c074",
   "metadata": {
    "ExecuteTime": {
     "end_time": "2021-12-13T15:22:18.979929Z",
     "start_time": "2021-12-13T15:22:18.959807Z"
    }
   },
   "outputs": [
    {
     "data": {
      "text/html": [
       "<div>\n",
       "<style scoped>\n",
       "    .dataframe tbody tr th:only-of-type {\n",
       "        vertical-align: middle;\n",
       "    }\n",
       "\n",
       "    .dataframe tbody tr th {\n",
       "        vertical-align: top;\n",
       "    }\n",
       "\n",
       "    .dataframe thead th {\n",
       "        text-align: right;\n",
       "    }\n",
       "</style>\n",
       "<table border=\"1\" class=\"dataframe\">\n",
       "  <thead>\n",
       "    <tr style=\"text-align: right;\">\n",
       "      <th></th>\n",
       "      <th>n_qubits</th>\n",
       "      <th>circuit_id</th>\n",
       "      <th>benchmark_name</th>\n",
       "      <th>strategy_a</th>\n",
       "      <th>strategy_b</th>\n",
       "    </tr>\n",
       "  </thead>\n",
       "  <tbody>\n",
       "    <tr>\n",
       "      <th>0</th>\n",
       "      <td>5</td>\n",
       "      <td>0</td>\n",
       "      <td>program_vs_random</td>\n",
       "      <td>WeightedRandomCircuitGenerator</td>\n",
       "      <td>FakeCircuitGenerator</td>\n",
       "    </tr>\n",
       "    <tr>\n",
       "      <th>1</th>\n",
       "      <td>10</td>\n",
       "      <td>1</td>\n",
       "      <td>program_vs_random</td>\n",
       "      <td>WeightedRandomCircuitGenerator</td>\n",
       "      <td>FakeCircuitGenerator</td>\n",
       "    </tr>\n",
       "    <tr>\n",
       "      <th>2</th>\n",
       "      <td>9</td>\n",
       "      <td>2</td>\n",
       "      <td>program_vs_random</td>\n",
       "      <td>WeightedRandomCircuitGenerator</td>\n",
       "      <td>FakeCircuitGenerator</td>\n",
       "    </tr>\n",
       "  </tbody>\n",
       "</table>\n",
       "</div>"
      ],
      "text/plain": [
       "   n_qubits circuit_id     benchmark_name                      strategy_a  \\\n",
       "0         5          0  program_vs_random  WeightedRandomCircuitGenerator   \n",
       "1        10          1  program_vs_random  WeightedRandomCircuitGenerator   \n",
       "2         9          2  program_vs_random  WeightedRandomCircuitGenerator   \n",
       "\n",
       "             strategy_b  \n",
       "0  FakeCircuitGenerator  \n",
       "1  FakeCircuitGenerator  \n",
       "2  FakeCircuitGenerator  "
      ]
     },
     "execution_count": 58,
     "metadata": {},
     "output_type": "execute_result"
    }
   ],
   "source": [
    "df_program_info = pd.DataFrame.from_records(program_info)\n",
    "df_program_info.head(3)"
   ]
  },
  {
   "cell_type": "code",
   "execution_count": 59,
   "id": "69dbf8ae",
   "metadata": {
    "ExecuteTime": {
     "end_time": "2021-12-13T15:22:21.516883Z",
     "start_time": "2021-12-13T15:22:21.495971Z"
    }
   },
   "outputs": [
    {
     "data": {
      "text/html": [
       "<div>\n",
       "<style scoped>\n",
       "    .dataframe tbody tr th:only-of-type {\n",
       "        vertical-align: middle;\n",
       "    }\n",
       "\n",
       "    .dataframe tbody tr th {\n",
       "        vertical-align: top;\n",
       "    }\n",
       "\n",
       "    .dataframe thead th {\n",
       "        text-align: right;\n",
       "    }\n",
       "</style>\n",
       "<table border=\"1\" class=\"dataframe\">\n",
       "  <thead>\n",
       "    <tr style=\"text-align: right;\">\n",
       "      <th></th>\n",
       "      <th>statistic</th>\n",
       "      <th>p_value</th>\n",
       "      <th>test</th>\n",
       "      <th>test_long_name</th>\n",
       "      <th>circuit_id</th>\n",
       "      <th>benchmark_name</th>\n",
       "    </tr>\n",
       "  </thead>\n",
       "  <tbody>\n",
       "    <tr>\n",
       "      <th>0</th>\n",
       "      <td>0.413818</td>\n",
       "      <td>0.000000e+00</td>\n",
       "      <td>ks</td>\n",
       "      <td>Kolmogorov–Smirnov Test</td>\n",
       "      <td>0</td>\n",
       "      <td>program_vs_random</td>\n",
       "    </tr>\n",
       "    <tr>\n",
       "      <th>1</th>\n",
       "      <td>0.057983</td>\n",
       "      <td>2.156063e-12</td>\n",
       "      <td>ks</td>\n",
       "      <td>Kolmogorov–Smirnov Test</td>\n",
       "      <td>1</td>\n",
       "      <td>program_vs_random</td>\n",
       "    </tr>\n",
       "    <tr>\n",
       "      <th>2</th>\n",
       "      <td>0.112061</td>\n",
       "      <td>3.413783e-45</td>\n",
       "      <td>ks</td>\n",
       "      <td>Kolmogorov–Smirnov Test</td>\n",
       "      <td>2</td>\n",
       "      <td>program_vs_random</td>\n",
       "    </tr>\n",
       "  </tbody>\n",
       "</table>\n",
       "</div>"
      ],
      "text/plain": [
       "   statistic       p_value test           test_long_name circuit_id  \\\n",
       "0   0.413818  0.000000e+00   ks  Kolmogorov–Smirnov Test          0   \n",
       "1   0.057983  2.156063e-12   ks  Kolmogorov–Smirnov Test          1   \n",
       "2   0.112061  3.413783e-45   ks  Kolmogorov–Smirnov Test          2   \n",
       "\n",
       "      benchmark_name  \n",
       "0  program_vs_random  \n",
       "1  program_vs_random  \n",
       "2  program_vs_random  "
      ]
     },
     "execution_count": 59,
     "metadata": {},
     "output_type": "execute_result"
    }
   ],
   "source": [
    "df_ks = pd.DataFrame.from_records(detector_result['ks'])\n",
    "df_ks.head(3)"
   ]
  },
  {
   "cell_type": "code",
   "execution_count": 133,
   "id": "430ffdc3",
   "metadata": {
    "ExecuteTime": {
     "end_time": "2021-12-13T16:06:47.174307Z",
     "start_time": "2021-12-13T16:06:47.147917Z"
    }
   },
   "outputs": [],
   "source": [
    "from sklearn.metrics import RocCurveDisplay \n",
    "# import libraries\n",
    "import seaborn as sns\n",
    "import numpy as np\n",
    "import matplotlib.pyplot as plt\n",
    "import matplotlib.patches as mpatches\n",
    "\n",
    "\n",
    "\n",
    "\n",
    "class Analyzer(object):\n",
    "    \n",
    "    def __init__(self, df_detector, df_ground_truth, df_program_info):\n",
    "        # derive the column label form the ground truth\n",
    "        df_ground_truth = self._create_label(df_ground_truth)\n",
    "        \n",
    "        self.df_detector = df_detector\n",
    "        self.df_ground_truth = df_ground_truth\n",
    "        self.df_program_info = program_info\n",
    "        self.df_all = pd.merge(df_detector, df_ground_truth, on=[\"circuit_id\", \"benchmark_name\"])\n",
    "        self.df_all = pd.merge(self.df_all, df_program_info, on=[\"circuit_id\", \"benchmark_name\"])\n",
    "        \n",
    "    def _create_label(self, df_ground_truth):\n",
    "        df_ground_truth[\"label\"] = df_ground_truth[\"expected_divergence\"].apply(\n",
    "            lambda e: 1 if e else 0)\n",
    "        return df_ground_truth\n",
    "        \n",
    "    def plot_ROC(self, prediction_column=\"p_value\"):\n",
    "        RocCurveDisplay.from_predictions(self.df_all[\"label\"], self.df_all[prediction_column])\n",
    "        \n",
    "    def classify_based_on_pvalue(self, treshold=0.05):\n",
    "        self.df_all[\"prediction_divergence\"] = self.df_all[\"p_value\"].apply(lambda e: e < treshold)\n",
    "        self.df_all[\"correct_prediction\"] = self.df_all.apply(\n",
    "            lambda row: row[\"prediction_divergence\"] == row[\"expected_divergence\"],\n",
    "            axis=1\n",
    "        )\n",
    "        \n",
    "    def plot_benchmark_categories(self):\n",
    "        \n",
    "        df = self.df_all\n",
    "        \n",
    "        # set the figure size\n",
    "        fig, ax = plt.subplots(figsize=(10, 5))\n",
    "\n",
    "        # from raw value to percentage\n",
    "        total = df.groupby('benchmark_name')['correct_prediction'].count().reset_index()\n",
    "        correct = df[df[\"correct_prediction\"]].groupby('benchmark_name')['correct_prediction'].count().reset_index()\n",
    "        \n",
    "        difference = set(total[\"benchmark_name\"]).difference(set(correct[\"benchmark_name\"]))\n",
    "        if len(difference) > 0:\n",
    "            for missing_bench in list(difference):\n",
    "                new_row = {'benchmark_name':missing_bench, 'correct_prediction':0, 'samples':0}\n",
    "                #append row to the dataframe\n",
    "                correct = correct.append(new_row, ignore_index=True)\n",
    "        \n",
    "        correct['samples'] = [i / j * 100 for i,j in zip(correct['correct_prediction'], total['correct_prediction'])]\n",
    "        print(correct)\n",
    "        total['samples'] = [i / j * 100 for i,j in zip(total['correct_prediction'], total['correct_prediction'])]\n",
    "        print(total)\n",
    "        \n",
    "        # bar chart 1 -> top bars (group of 'smoker=No')\n",
    "        bar1 = sns.barplot(y=\"benchmark_name\",  x=\"samples\", data=total, color='orange', ax=ax)\n",
    "\n",
    "\n",
    "        # bar chart 2 -> bottom bars (group of 'smoker=Yes')\n",
    "        bar2 = sns.barplot(y=\"benchmark_name\", x=\"samples\", data=correct, color='blue', ax=ax)\n",
    "        \n",
    "        # add legend\n",
    "        top_bar = mpatches.Patch(color='orange', label='correct = No')\n",
    "        bottom_bar = mpatches.Patch(color='blue', label='correct = Yes')\n",
    "        plt.legend(handles=[top_bar, bottom_bar])\n",
    "\n",
    "        # show the graph\n",
    "        fig.show()"
   ]
  },
  {
   "cell_type": "code",
   "execution_count": 134,
   "id": "aaf58f62",
   "metadata": {
    "ExecuteTime": {
     "end_time": "2021-12-13T16:06:47.427842Z",
     "start_time": "2021-12-13T16:06:47.411195Z"
    }
   },
   "outputs": [],
   "source": [
    "analyzer = Analyzer(df_ks, df_truth, df_program_info)"
   ]
  },
  {
   "cell_type": "code",
   "execution_count": 135,
   "id": "6f15cbf1",
   "metadata": {
    "ExecuteTime": {
     "end_time": "2021-12-13T16:06:47.963567Z",
     "start_time": "2021-12-13T16:06:47.670731Z"
    }
   },
   "outputs": [
    {
     "name": "stdout",
     "output_type": "stream",
     "text": [
      "           benchmark_name  correct_prediction  samples\n",
      "0             across_runs                   3    100.0\n",
      "1                negation                   3    100.0\n",
      "2       program_vs_random                   3    100.0\n",
      "3  program_x_vs_program_y                   3    100.0\n",
      "4            famous_algos                   0      0.0\n",
      "           benchmark_name  correct_prediction  samples\n",
      "0             across_runs                   3    100.0\n",
      "1            famous_algos                   3    100.0\n",
      "2                negation                   3    100.0\n",
      "3       program_vs_random                   3    100.0\n",
      "4  program_x_vs_program_y                   3    100.0\n"
     ]
    },
    {
     "data": {
      "image/png": "[encoded data removed]",
      "text/plain": [
       "<Figure size 720x360 with 1 Axes>"
      ]
     },
     "metadata": {
      "needs_background": "light"
     },
     "output_type": "display_data"
    }
   ],
   "source": [
    "analyzer.classify_based_on_pvalue(treshold=0.05)\n",
    "analyzer.plot_benchmark_categories()"
   ]
  },
  {
   "cell_type": "code",
   "execution_count": 136,
   "id": "3c107c0d",
   "metadata": {
    "ExecuteTime": {
     "end_time": "2021-12-13T16:07:48.042710Z",
     "start_time": "2021-12-13T16:07:48.018569Z"
    }
   },
   "outputs": [
    {
     "data": {
      "text/html": [
       "<div>\n",
       "<style scoped>\n",
       "    .dataframe tbody tr th:only-of-type {\n",
       "        vertical-align: middle;\n",
       "    }\n",
       "\n",
       "    .dataframe tbody tr th {\n",
       "        vertical-align: top;\n",
       "    }\n",
       "\n",
       "    .dataframe thead th {\n",
       "        text-align: right;\n",
       "    }\n",
       "</style>\n",
       "<table border=\"1\" class=\"dataframe\">\n",
       "  <thead>\n",
       "    <tr style=\"text-align: right;\">\n",
       "      <th></th>\n",
       "      <th>statistic</th>\n",
       "      <th>p_value</th>\n",
       "      <th>test</th>\n",
       "      <th>test_long_name</th>\n",
       "      <th>circuit_id</th>\n",
       "      <th>benchmark_name</th>\n",
       "      <th>expected_divergence</th>\n",
       "      <th>label</th>\n",
       "      <th>n_qubits</th>\n",
       "      <th>strategy_a</th>\n",
       "      <th>strategy_b</th>\n",
       "      <th>prediction_divergence</th>\n",
       "      <th>correct_prediction</th>\n",
       "    </tr>\n",
       "  </thead>\n",
       "  <tbody>\n",
       "    <tr>\n",
       "      <th>0</th>\n",
       "      <td>0.413818</td>\n",
       "      <td>0.000000e+00</td>\n",
       "      <td>ks</td>\n",
       "      <td>Kolmogorov–Smirnov Test</td>\n",
       "      <td>0</td>\n",
       "      <td>program_vs_random</td>\n",
       "      <td>True</td>\n",
       "      <td>1</td>\n",
       "      <td>5</td>\n",
       "      <td>WeightedRandomCircuitGenerator</td>\n",
       "      <td>FakeCircuitGenerator</td>\n",
       "      <td>True</td>\n",
       "      <td>True</td>\n",
       "    </tr>\n",
       "    <tr>\n",
       "      <th>1</th>\n",
       "      <td>0.057983</td>\n",
       "      <td>2.156063e-12</td>\n",
       "      <td>ks</td>\n",
       "      <td>Kolmogorov–Smirnov Test</td>\n",
       "      <td>1</td>\n",
       "      <td>program_vs_random</td>\n",
       "      <td>True</td>\n",
       "      <td>1</td>\n",
       "      <td>10</td>\n",
       "      <td>WeightedRandomCircuitGenerator</td>\n",
       "      <td>FakeCircuitGenerator</td>\n",
       "      <td>True</td>\n",
       "      <td>True</td>\n",
       "    </tr>\n",
       "    <tr>\n",
       "      <th>2</th>\n",
       "      <td>0.112061</td>\n",
       "      <td>3.413783e-45</td>\n",
       "      <td>ks</td>\n",
       "      <td>Kolmogorov–Smirnov Test</td>\n",
       "      <td>2</td>\n",
       "      <td>program_vs_random</td>\n",
       "      <td>True</td>\n",
       "      <td>1</td>\n",
       "      <td>9</td>\n",
       "      <td>WeightedRandomCircuitGenerator</td>\n",
       "      <td>FakeCircuitGenerator</td>\n",
       "      <td>True</td>\n",
       "      <td>True</td>\n",
       "    </tr>\n",
       "    <tr>\n",
       "      <th>3</th>\n",
       "      <td>0.506104</td>\n",
       "      <td>0.000000e+00</td>\n",
       "      <td>ks</td>\n",
       "      <td>Kolmogorov–Smirnov Test</td>\n",
       "      <td>0</td>\n",
       "      <td>famous_algos</td>\n",
       "      <td>False</td>\n",
       "      <td>0</td>\n",
       "      <td>6</td>\n",
       "      <td>FamousCircuitGenerator</td>\n",
       "      <td>FamousCircuitGenerator</td>\n",
       "      <td>True</td>\n",
       "      <td>False</td>\n",
       "    </tr>\n",
       "    <tr>\n",
       "      <th>4</th>\n",
       "      <td>0.253784</td>\n",
       "      <td>4.455115e-232</td>\n",
       "      <td>ks</td>\n",
       "      <td>Kolmogorov–Smirnov Test</td>\n",
       "      <td>1</td>\n",
       "      <td>famous_algos</td>\n",
       "      <td>False</td>\n",
       "      <td>0</td>\n",
       "      <td>11</td>\n",
       "      <td>FamousCircuitGenerator</td>\n",
       "      <td>FamousCircuitGenerator</td>\n",
       "      <td>True</td>\n",
       "      <td>False</td>\n",
       "    </tr>\n",
       "  </tbody>\n",
       "</table>\n",
       "</div>"
      ],
      "text/plain": [
       "   statistic        p_value test           test_long_name circuit_id  \\\n",
       "0   0.413818   0.000000e+00   ks  Kolmogorov–Smirnov Test          0   \n",
       "1   0.057983   2.156063e-12   ks  Kolmogorov–Smirnov Test          1   \n",
       "2   0.112061   3.413783e-45   ks  Kolmogorov–Smirnov Test          2   \n",
       "3   0.506104   0.000000e+00   ks  Kolmogorov–Smirnov Test          0   \n",
       "4   0.253784  4.455115e-232   ks  Kolmogorov–Smirnov Test          1   \n",
       "\n",
       "      benchmark_name  expected_divergence  label  n_qubits  \\\n",
       "0  program_vs_random                 True      1         5   \n",
       "1  program_vs_random                 True      1        10   \n",
       "2  program_vs_random                 True      1         9   \n",
       "3       famous_algos                False      0         6   \n",
       "4       famous_algos                False      0        11   \n",
       "\n",
       "                       strategy_a              strategy_b  \\\n",
       "0  WeightedRandomCircuitGenerator    FakeCircuitGenerator   \n",
       "1  WeightedRandomCircuitGenerator    FakeCircuitGenerator   \n",
       "2  WeightedRandomCircuitGenerator    FakeCircuitGenerator   \n",
       "3          FamousCircuitGenerator  FamousCircuitGenerator   \n",
       "4          FamousCircuitGenerator  FamousCircuitGenerator   \n",
       "\n",
       "   prediction_divergence  correct_prediction  \n",
       "0                   True                True  \n",
       "1                   True                True  \n",
       "2                   True                True  \n",
       "3                   True               False  \n",
       "4                   True               False  "
      ]
     },
     "execution_count": 136,
     "metadata": {},
     "output_type": "execute_result"
    }
   ],
   "source": [
    "analyzer.df_all.head()"
   ]
  },
  {
   "cell_type": "code",
   "execution_count": 138,
   "id": "63486b7f",
   "metadata": {
    "ExecuteTime": {
     "end_time": "2021-12-13T16:08:08.945156Z",
     "start_time": "2021-12-13T16:08:08.936619Z"
    }
   },
   "outputs": [
    {
     "data": {
      "text/plain": [
       "12"
      ]
     },
     "execution_count": 138,
     "metadata": {},
     "output_type": "execute_result"
    }
   ],
   "source": [
    "sum(analyzer.df_all[\"correct_prediction\"])"
   ]
  },
  {
   "cell_type": "code",
   "execution_count": 137,
   "id": "d144b135",
   "metadata": {
    "ExecuteTime": {
     "end_time": "2021-12-13T16:07:48.689631Z",
     "start_time": "2021-12-13T16:07:48.516620Z"
    }
   },
   "outputs": [
    {
     "data": {
      "image/png": "[encoded data removed]",
      "text/plain": [
       "<Figure size 432x288 with 1 Axes>"
      ]
     },
     "metadata": {
      "needs_background": "light"
     },
     "output_type": "display_data"
    }
   ],
   "source": [
    "analyzer.plot_ROC()"
   ]
  },
  {
   "cell_type": "code",
   "execution_count": null,
   "id": "fa893b40",
   "metadata": {},
   "outputs": [],
   "source": []
  }
 ],
 "metadata": {
  "kernelspec": {
   "display_name": "Python 3 (ipykernel)",
   "language": "python",
   "name": "python3"
  },
  "language_info": {
   "codemirror_mode": {
    "name": "ipython",
    "version": 3
   },
   "file_extension": ".py",
   "mimetype": "text/x-python",
   "name": "python",
   "nbconvert_exporter": "python",
   "pygments_lexer": "ipython3",
   "version": "3.8.0"
  },
  "toc": {
   "base_numbering": 1,
   "nav_menu": {},
   "number_sections": true,
   "sideBar": true,
   "skip_h1_title": false,
   "title_cell": "Table of Contents",
   "title_sidebar": "Contents",
   "toc_cell": false,
   "toc_position": {},
   "toc_section_display": true,
   "toc_window_display": false
  }
 },
 "nbformat": 4,
 "nbformat_minor": 5
}
