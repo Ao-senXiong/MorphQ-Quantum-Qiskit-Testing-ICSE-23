{
 "cells": [
  {
   "cell_type": "markdown",
   "id": "0de7a145",
   "metadata": {
    "ExecuteTime": {
     "end_time": "2021-11-23T15:53:00.350574Z",
     "start_time": "2021-11-23T15:53:00.343193Z"
    }
   },
   "source": [
    "# Description\n",
    "1. Focus on a single platform (e.g. Qiskit)\n",
    "2. Create a random circuit\n",
    "3. Create a function that, given a progam, tells you which part of the software has been called (e.g. using cProfile)\n",
    "4. Create a fitness function that given a databased of function called gives a score of fitness to the current quantum algorithm\n",
    "5. Run an end-to-end optimization algorithm"
   ]
  },
  {
   "cell_type": "code",
   "execution_count": 90,
   "id": "543fd9c2",
   "metadata": {
    "ExecuteTime": {
     "end_time": "2021-11-23T17:00:29.688202Z",
     "start_time": "2021-11-23T17:00:28.774700Z"
    }
   },
   "outputs": [],
   "source": [
    "# initialization\n",
    "import numpy as np\n",
    "import qiskit\n",
    "import matplotlib.pyplot as plt\n",
    "import pandas as pd\n",
    "import seaborn as sns\n",
    "\n",
    "# importing Qiskit\n",
    "from qiskit import IBMQ, Aer\n",
    "from qiskit.providers.ibmq import least_busy\n",
    "from qiskit import QuantumCircuit, assemble, transpile\n",
    "\n",
    "# import basic plot tools\n",
    "from qiskit.visualization import plot_histogram"
   ]
  },
  {
   "cell_type": "code",
   "execution_count": 3,
   "id": "8650abb3",
   "metadata": {
    "ExecuteTime": {
     "end_time": "2021-11-23T15:55:10.653060Z",
     "start_time": "2021-11-23T15:55:10.648000Z"
    }
   },
   "outputs": [],
   "source": [
    "from qiskit import Aer, transpile\n",
    "from qiskit.providers.aer import AerError\n",
    "\n",
    "# Initialize a GPU backend\n",
    "# Note that the cloud instance for tutorials does not have a GPU\n",
    "# so this will raise an exception.\n",
    "try:\n",
    "    simulator_gpu = Aer.get_backend('aer_simulator')\n",
    "    simulator_gpu.set_options(device='GPU')\n",
    "except AerError as e:\n",
    "    print(e)"
   ]
  },
  {
   "cell_type": "code",
   "execution_count": 86,
   "id": "17cbf9fd",
   "metadata": {
    "ExecuteTime": {
     "end_time": "2021-11-23T16:58:34.949753Z",
     "start_time": "2021-11-23T16:58:34.792591Z"
    },
    "code_folding": [
     22,
     32
    ]
   },
   "outputs": [
    {
     "data": {
      "text/html": [
       "<pre style=\"word-wrap: normal;white-space: pre;background: #fff0;line-height: 1.1;font-family: &quot;Courier New&quot;,Courier,monospace\">            ░                                                   ┌────────────┐»\n",
       " q_0: ──────░───────■────────────────────────────────────────■──┤ Rz(3.3584) ├»\n",
       "            ░       │         ┌────────────┐ ┌────────────┐  │  └────────────┘»\n",
       " q_1: ──────░───────┼─────────┤ Rz(5.1766) ├─┤ Ry(3.3197) ├──┼────────────────»\n",
       "            ░       │         └───┬───┬────┘ └────────────┘  │                »\n",
       " q_2: ──────░───────┼─────────────┤ X ├──────────────────────┼────────────────»\n",
       "            ░       │             └─┬─┘          ┌───┐       │  ┌────────────┐»\n",
       " q_3: ──────░───────┼───────────────┼────────────┤ X ├───────┼──┤ Ry(1.1216) ├»\n",
       "            ░       │               │            └─┬─┘       │  ├────────────┤»\n",
       " q_4: ──────░───────┼───────────────■──────────────┼─────────┼──┤ Rx(3.3334) ├»\n",
       "      ┌───┐ ░       │         ┌────────────┐       │         │  └────────────┘»\n",
       " q_5: ┤ X ├─░───────┼─────────┤ Rz(2.0083) ├───────┼─────────┼────────────────»\n",
       "      ├───┤ ░     ┌─┴─┐     ┌─┴────────────┴┐      │         │                »\n",
       " q_6: ┤ X ├─░─────┤ X ├─────┤ U(0,1.9698,0) ├──────┼─────────┼────────────────»\n",
       "      ├───┤ ░     └───┘     └───────────────┘      │         │                »\n",
       " q_7: ┤ X ├─░──────────────────────────────────────■─────────┼────────────────»\n",
       "      ├───┤ ░ ┌────────────┐                                 │                »\n",
       " q_8: ┤ X ├─░─┤ Rz(1.3679) ├─────────────────────────────────┼────────────────»\n",
       "      └───┘ ░ └────────────┘                               ┌─┴─┐┌───────────┐ »\n",
       " q_9: ──────░──────────────────────────────────────────────┤ X ├┤ Rz(4.924) ├─»\n",
       "            ░                                              └───┘└───────────┘ »\n",
       "c: 10/════════════════════════════════════════════════════════════════════════»\n",
       "                                                                              »\n",
       "«                                                                           »\n",
       "« q_0: ─────────────────────────────────────────────────────────────────────»\n",
       "«                                                          ┌───┐            »\n",
       "« q_1: ────────────────────────────────────────────────────┤ X ├────────────»\n",
       "«                    ┌─────────────┐  ┌───────────┐        └─┬─┘            »\n",
       "« q_2: ──────■───────┤ Rz(0.31381) ├──┤ Ry(2.133) ├──────────┼───────────■──»\n",
       "«            │       └┬────────────┤┌─┴───────────┴─┐        │           │  »\n",
       "« q_3: ──────┼────────┤ Rz(6.0526) ├┤ U(0,4.5527,0) ├────────┼───────────┼──»\n",
       "«            │        ├────────────┤└─┬────────────┬┘        │           │  »\n",
       "« q_4: ──────┼────────┤ Rz(2.8866) ├──┤ Rz(5.0282) ├─────────■───────────┼──»\n",
       "«          ┌─┴─┐      ├────────────┤  └────────────┘                     │  »\n",
       "« q_5: ────┤ X ├──────┤ Ry(2.6748) ├────────■────────────────────────────┼──»\n",
       "«          └───┘      └────────────┘        │                            │  »\n",
       "« q_6: ─────────────────────────────────────┼────────────────────────────┼──»\n",
       "«                                           │                          ┌─┴─┐»\n",
       "« q_7: ─────────────────────────────────────┼──────────────────────────┤ X ├»\n",
       "«                                           │                          └───┘»\n",
       "« q_8: ─────────────────────────────────────┼───────────────────────────────»\n",
       "«      ┌────────────┐ ┌────────────┐      ┌─┴─┐      ┌────────────────┐     »\n",
       "« q_9: ┤ Ry(1.8549) ├─┤ Ry(3.4653) ├──────┤ X ├──────┤ U(0,0.70612,0) ├─────»\n",
       "«      └────────────┘ └────────────┘      └───┘      └────────────────┘     »\n",
       "«c: 10/═════════════════════════════════════════════════════════════════════»\n",
       "«                                                                           »\n",
       "«                    ┌───┐                         ░ ┌─┐                     »\n",
       "« q_0: ──────────────┤ X ├──■──────────────────────░─┤M├─────────────────────»\n",
       "«                    └─┬─┘  │                      ░ └╥┘┌─┐                  »\n",
       "« q_1: ────────────────┼────┼──────────────────────░──╫─┤M├──────────────────»\n",
       "«                      │    │                      ░  ║ └╥┘┌─┐               »\n",
       "« q_2: ────────────────┼────┼──────────────────────░──╫──╫─┤M├───────────────»\n",
       "«      ┌────────────┐  │    │                      ░  ║  ║ └╥┘┌─┐            »\n",
       "« q_3: ┤ Rz(5.7576) ├──┼────┼──────────────────────░──╫──╫──╫─┤M├────────────»\n",
       "«      └───┬───┬────┘  │    │  ┌────────────┐      ░  ║  ║  ║ └╥┘┌─┐         »\n",
       "« q_4: ────┤ X ├───────┼────┼──┤ Rx(5.7651) ├──■───░──╫──╫──╫──╫─┤M├─────────»\n",
       "«          └─┬─┘       │    │  └────────────┘  │   ░  ║  ║  ║  ║ └╥┘┌─┐      »\n",
       "« q_5: ──────┼─────────┼────┼──────────────────┼───░──╫──╫──╫──╫──╫─┤M├──────»\n",
       "«            │         │    │                ┌─┴─┐ ░  ║  ║  ║  ║  ║ └╥┘┌─┐   »\n",
       "« q_6: ──────┼─────────┼────┼────────────────┤ X ├─░──╫──╫──╫──╫──╫──╫─┤M├───»\n",
       "«            │         │  ┌─┴─┐              └───┘ ░  ║  ║  ║  ║  ║  ║ └╥┘┌─┐»\n",
       "« q_7: ──────┼─────────■──┤ X ├────────────────────░──╫──╫──╫──╫──╫──╫──╫─┤M├»\n",
       "«            │            └───┘                    ░  ║  ║  ║  ║  ║  ║  ║ └╥┘»\n",
       "« q_8: ──────┼─────────────────────────────────────░──╫──╫──╫──╫──╫──╫──╫──╫─»\n",
       "«            │                                     ░  ║  ║  ║  ║  ║  ║  ║  ║ »\n",
       "« q_9: ──────■─────────────────────────────────────░──╫──╫──╫──╫──╫──╫──╫──╫─»\n",
       "«                                                  ░  ║  ║  ║  ║  ║  ║  ║  ║ »\n",
       "«c: 10/═══════════════════════════════════════════════╩══╩══╩══╩══╩══╩══╩══╩═»\n",
       "«                                                     0  1  2  3  4  5  6  7 »\n",
       "«            \n",
       "« q_0: ──────\n",
       "«            \n",
       "« q_1: ──────\n",
       "«            \n",
       "« q_2: ──────\n",
       "«            \n",
       "« q_3: ──────\n",
       "«            \n",
       "« q_4: ──────\n",
       "«            \n",
       "« q_5: ──────\n",
       "«            \n",
       "« q_6: ──────\n",
       "«            \n",
       "« q_7: ──────\n",
       "«      ┌─┐   \n",
       "« q_8: ┤M├───\n",
       "«      └╥┘┌─┐\n",
       "« q_9: ─╫─┤M├\n",
       "«       ║ └╥┘\n",
       "«c: 10/═╩══╩═\n",
       "«       8  9 </pre>"
      ],
      "text/plain": [
       "            ░                                                   ┌────────────┐»\n",
       " q_0: ──────░───────■────────────────────────────────────────■──┤ Rz(3.3584) ├»\n",
       "            ░       │         ┌────────────┐ ┌────────────┐  │  └────────────┘»\n",
       " q_1: ──────░───────┼─────────┤ Rz(5.1766) ├─┤ Ry(3.3197) ├──┼────────────────»\n",
       "            ░       │         └───┬───┬────┘ └────────────┘  │                »\n",
       " q_2: ──────░───────┼─────────────┤ X ├──────────────────────┼────────────────»\n",
       "            ░       │             └─┬─┘          ┌───┐       │  ┌────────────┐»\n",
       " q_3: ──────░───────┼───────────────┼────────────┤ X ├───────┼──┤ Ry(1.1216) ├»\n",
       "            ░       │               │            └─┬─┘       │  ├────────────┤»\n",
       " q_4: ──────░───────┼───────────────■──────────────┼─────────┼──┤ Rx(3.3334) ├»\n",
       "      ┌───┐ ░       │         ┌────────────┐       │         │  └────────────┘»\n",
       " q_5: ┤ X ├─░───────┼─────────┤ Rz(2.0083) ├───────┼─────────┼────────────────»\n",
       "      ├───┤ ░     ┌─┴─┐     ┌─┴────────────┴┐      │         │                »\n",
       " q_6: ┤ X ├─░─────┤ X ├─────┤ U(0,1.9698,0) ├──────┼─────────┼────────────────»\n",
       "      ├───┤ ░     └───┘     └───────────────┘      │         │                »\n",
       " q_7: ┤ X ├─░──────────────────────────────────────■─────────┼────────────────»\n",
       "      ├───┤ ░ ┌────────────┐                                 │                »\n",
       " q_8: ┤ X ├─░─┤ Rz(1.3679) ├─────────────────────────────────┼────────────────»\n",
       "      └───┘ ░ └────────────┘                               ┌─┴─┐┌───────────┐ »\n",
       " q_9: ──────░──────────────────────────────────────────────┤ X ├┤ Rz(4.924) ├─»\n",
       "            ░                                              └───┘└───────────┘ »\n",
       "c: 10/════════════════════════════════════════════════════════════════════════»\n",
       "                                                                              »\n",
       "«                                                                           »\n",
       "« q_0: ─────────────────────────────────────────────────────────────────────»\n",
       "«                                                          ┌───┐            »\n",
       "« q_1: ────────────────────────────────────────────────────┤ X ├────────────»\n",
       "«                    ┌─────────────┐  ┌───────────┐        └─┬─┘            »\n",
       "« q_2: ──────■───────┤ Rz(0.31381) ├──┤ Ry(2.133) ├──────────┼───────────■──»\n",
       "«            │       └┬────────────┤┌─┴───────────┴─┐        │           │  »\n",
       "« q_3: ──────┼────────┤ Rz(6.0526) ├┤ U(0,4.5527,0) ├────────┼───────────┼──»\n",
       "«            │        ├────────────┤└─┬────────────┬┘        │           │  »\n",
       "« q_4: ──────┼────────┤ Rz(2.8866) ├──┤ Rz(5.0282) ├─────────■───────────┼──»\n",
       "«          ┌─┴─┐      ├────────────┤  └────────────┘                     │  »\n",
       "« q_5: ────┤ X ├──────┤ Ry(2.6748) ├────────■────────────────────────────┼──»\n",
       "«          └───┘      └────────────┘        │                            │  »\n",
       "« q_6: ─────────────────────────────────────┼────────────────────────────┼──»\n",
       "«                                           │                          ┌─┴─┐»\n",
       "« q_7: ─────────────────────────────────────┼──────────────────────────┤ X ├»\n",
       "«                                           │                          └───┘»\n",
       "« q_8: ─────────────────────────────────────┼───────────────────────────────»\n",
       "«      ┌────────────┐ ┌────────────┐      ┌─┴─┐      ┌────────────────┐     »\n",
       "« q_9: ┤ Ry(1.8549) ├─┤ Ry(3.4653) ├──────┤ X ├──────┤ U(0,0.70612,0) ├─────»\n",
       "«      └────────────┘ └────────────┘      └───┘      └────────────────┘     »\n",
       "«c: 10/═════════════════════════════════════════════════════════════════════»\n",
       "«                                                                           »\n",
       "«                    ┌───┐                         ░ ┌─┐                     »\n",
       "« q_0: ──────────────┤ X ├──■──────────────────────░─┤M├─────────────────────»\n",
       "«                    └─┬─┘  │                      ░ └╥┘┌─┐                  »\n",
       "« q_1: ────────────────┼────┼──────────────────────░──╫─┤M├──────────────────»\n",
       "«                      │    │                      ░  ║ └╥┘┌─┐               »\n",
       "« q_2: ────────────────┼────┼──────────────────────░──╫──╫─┤M├───────────────»\n",
       "«      ┌────────────┐  │    │                      ░  ║  ║ └╥┘┌─┐            »\n",
       "« q_3: ┤ Rz(5.7576) ├──┼────┼──────────────────────░──╫──╫──╫─┤M├────────────»\n",
       "«      └───┬───┬────┘  │    │  ┌────────────┐      ░  ║  ║  ║ └╥┘┌─┐         »\n",
       "« q_4: ────┤ X ├───────┼────┼──┤ Rx(5.7651) ├──■───░──╫──╫──╫──╫─┤M├─────────»\n",
       "«          └─┬─┘       │    │  └────────────┘  │   ░  ║  ║  ║  ║ └╥┘┌─┐      »\n",
       "« q_5: ──────┼─────────┼────┼──────────────────┼───░──╫──╫──╫──╫──╫─┤M├──────»\n",
       "«            │         │    │                ┌─┴─┐ ░  ║  ║  ║  ║  ║ └╥┘┌─┐   »\n",
       "« q_6: ──────┼─────────┼────┼────────────────┤ X ├─░──╫──╫──╫──╫──╫──╫─┤M├───»\n",
       "«            │         │  ┌─┴─┐              └───┘ ░  ║  ║  ║  ║  ║  ║ └╥┘┌─┐»\n",
       "« q_7: ──────┼─────────■──┤ X ├────────────────────░──╫──╫──╫──╫──╫──╫──╫─┤M├»\n",
       "«            │            └───┘                    ░  ║  ║  ║  ║  ║  ║  ║ └╥┘»\n",
       "« q_8: ──────┼─────────────────────────────────────░──╫──╫──╫──╫──╫──╫──╫──╫─»\n",
       "«            │                                     ░  ║  ║  ║  ║  ║  ║  ║  ║ »\n",
       "« q_9: ──────■─────────────────────────────────────░──╫──╫──╫──╫──╫──╫──╫──╫─»\n",
       "«                                                  ░  ║  ║  ║  ║  ║  ║  ║  ║ »\n",
       "«c: 10/═══════════════════════════════════════════════╩══╩══╩══╩══╩══╩══╩══╩═»\n",
       "«                                                     0  1  2  3  4  5  6  7 »\n",
       "«            \n",
       "« q_0: ──────\n",
       "«            \n",
       "« q_1: ──────\n",
       "«            \n",
       "« q_2: ──────\n",
       "«            \n",
       "« q_3: ──────\n",
       "«            \n",
       "« q_4: ──────\n",
       "«            \n",
       "« q_5: ──────\n",
       "«            \n",
       "« q_6: ──────\n",
       "«            \n",
       "« q_7: ──────\n",
       "«      ┌─┐   \n",
       "« q_8: ┤M├───\n",
       "«      └╥┘┌─┐\n",
       "« q_9: ─╫─┤M├\n",
       "«       ║ └╥┘\n",
       "«c: 10/═╩══╩═\n",
       "«       8  9 "
      ]
     },
     "execution_count": 86,
     "metadata": {},
     "output_type": "execute_result"
    }
   ],
   "source": [
    "# generation function\n",
    "from qiskit.circuit import qpy_serialization\n",
    "from typing import List\n",
    "import math\n",
    "\n",
    "QASM_HEADER = \"\"\"\n",
    "OPENQASM 2.0;\n",
    "include \"qelib1.inc\";\n",
    "\"\"\"\n",
    "\n",
    "gate_set = {\n",
    "   \"cx\": 3, \n",
    "    \"rx\": 1, \n",
    "    \"ry\": 1, \n",
    "    \"rz\": 1, \n",
    "    \"p\": 1\n",
    "}\n",
    "\n",
    "# create a random circuit's encoding\n",
    "instance_of_random_encoding = np.random.rand(100)\n",
    "\n",
    "# convert the encoding in a quantum computer\n",
    "def slot_to_gate(gates, gate_weights):\n",
    "    mapping_dict = dict()\n",
    "    slot_to_assign = 0\n",
    "    for gate, number_of_slots in zip(gates, gate_weights):\n",
    "        for slot in range(number_of_slots):\n",
    "            mapping_dict[slot_to_assign] = gate\n",
    "            slot_to_assign += 1\n",
    "    return mapping_dict\n",
    "\n",
    "\n",
    "def param_to_gate(param, gate_set):\n",
    "    map_slot_to_gate = slot_to_gate(gate_set.keys(), gate_set.values())\n",
    "    slots = sum(gate_set.values())\n",
    "    op_type = map_slot_to_gate[int(param / (float(1) / slots))]\n",
    "    return op_type\n",
    "\n",
    "#def param_to_qubit(param, available_indices):\n",
    "    \n",
    "\n",
    "# Convert that encoding to a qasm string\n",
    "def encoding_to_circuit(encoding: List[float], n_qubits: int, classical_input: int = None):\n",
    "    \"\"\"Convert encoding to a qasm string.\n",
    "    \n",
    "    We have a list to encode the single operation, the final list looks like:\n",
    "    (0.23, 0.75, 0.76, 0.44, etc)\n",
    "    (gate_type, qubit, parameter, gate_type, qubit, parameter, etc...)\n",
    "    The single operation is made of three floats: \n",
    "    (gate_type, qubit, parameter)\n",
    "    The first float encodes the gate. We divide the interval uniformly \n",
    "    on the available gates:\n",
    "    - CNOT\n",
    "    - pauli X\n",
    "    - pauli Y\n",
    "    - pauli Z\n",
    "    - pahse shift\n",
    "    The second float encodes the qubit on which it applies to. We divide the\n",
    "    interval uniformly on the available qubits.\n",
    "    The third float is used only by:\n",
    "    - cnot gate: to select a target qubit (similarly to the first flaot)\n",
    "    - phase shift: to select the rotation\n",
    "    Based on the second digit we decide on which qubit it acts on\n",
    "    \n",
    "    \"\"\"\n",
    "    circuit_qasm = QASM_HEADER\n",
    "    qubits = range(n_qubits)\n",
    "    \n",
    "    # add quantum and classical registers\n",
    "    circuit_qasm += f\"qreg q[{n_qubits}];\\n\"\n",
    "    circuit_qasm += f\"creg c[{n_qubits}];\\n\"\n",
    "    \n",
    "    \n",
    "    if classical_input != None:\n",
    "        assert isinstance(classical_input, int)\n",
    "        format_string = \"{0:\" + str(n_qubits) + \"b}\"\n",
    "        string_input = format_string.format(classical_input).zfill(n_qubits)\n",
    "        for i, c in enumerate(string_input):\n",
    "            if c == \"1\": \n",
    "                circuit_qasm += f\"x q[{i}];\\n\"\n",
    "    \n",
    "    circuit_qasm += f\"barrier q;\\n\"\n",
    "    \n",
    "    \n",
    "    # get the single chunks\n",
    "    n = 3  # number of parameters per operation\n",
    "    chunks = [encoding[i:i + n] for i in range(0, len(encoding), n)]\n",
    "    for op in chunks:\n",
    "        # discard incomplete sequences\n",
    "        if len(op) != 3: \n",
    "            continue\n",
    "        # get the type of gate\n",
    "        op_type = param_to_gate(param=op[0], gate_set=gate_set)\n",
    "        #print(op_type, \" : \", op[0])        \n",
    "        \n",
    "        try:\n",
    "            # get target qubit\n",
    "            qubit = qubits[int(op[1] / (float(1) / (len(qubits))))]\n",
    "            #print(qubit, \" : \", op[1])\n",
    "\n",
    "            # extra parameter\n",
    "            if op_type == \"cx\":\n",
    "                # get second target qubit\n",
    "                index_target = int(op[2] / (float(1) / (len(qubits) - 1)))\n",
    "                if index_target >= qubit:\n",
    "                    index_target += 1\n",
    "                second_target_qubit = qubits[index_target]\n",
    "                #print(second_target_qubit, \" : \", op[2])\n",
    "                #assert qubit == second_target_qubit, \"Invalid encoding CNOT gate with same control and target qubit.\"\n",
    "                circuit_qasm += f\"cx q[{qubit}], q[{second_target_qubit}];\\n\"\n",
    "            elif op_type == \"p\":\n",
    "                # get rotation parameter\n",
    "                parameter = 2 * math.pi * op[2]\n",
    "                #print(parameter, \" : \", op[2])\n",
    "                circuit_qasm += f\"U(0,{parameter},0) q[{qubit}];\\n\"\n",
    "            else:\n",
    "                parameter = 2 * math.pi * op[2]\n",
    "                # call the simple X, Y, Z gate on a single qubit\n",
    "                circuit_qasm += f\"{op_type}({parameter}) q[{qubit}];\\n\"\n",
    "        \n",
    "        except IndexError: \n",
    "            print(f\"op[0]: {op[0]}\")\n",
    "            print(f\"op[1]: {op[1]}\")\n",
    "            print(f\"op[2]: {op[2]}\")\n",
    "            print(f\"op_type: {op_type}\")\n",
    "            print(f\"qubit: {qubit}\")\n",
    "            print(f\"second_target_qubit: {second_target_qubit}\")\n",
    "    circuit_qasm += f\"barrier q;\\n\"\n",
    "    # Measure\n",
    "    circuit_qasm += f\"measure q -> c;\\n\"\n",
    "    return circuit_qasm\n",
    "\n",
    "\n",
    "qasm_string = encoding_to_circuit(instance_of_random_encoding, n_qubits=10, classical_input=30)\n",
    "\n",
    "random_circuit = QuantumCircuit.from_qasm_str(qasm_string)\n",
    "\n",
    "random_circuit.draw()\n"
   ]
  },
  {
   "cell_type": "code",
   "execution_count": 66,
   "id": "f6a8db0d",
   "metadata": {
    "ExecuteTime": {
     "end_time": "2021-11-23T16:43:42.810674Z",
     "start_time": "2021-11-23T16:43:42.802751Z"
    },
    "code_folding": [
     2
    ]
   },
   "outputs": [],
   "source": [
    "import re \n",
    "\n",
    "def extract_function_calls(filepath):\n",
    "    function_calls = []\n",
    "    with open(filepath, 'r') as input_file:\n",
    "        lines = input_file.readlines()\n",
    "        for line in lines:\n",
    "            m = re.search('site-packages(.+?)\\n', line)\n",
    "            if m:\n",
    "                i_function_call = m.group(1)\n",
    "                #i_function_call = l[l.rfind(\"site-packages\"):]\n",
    "                function_calls.append(i_function_call)\n",
    "            \n",
    "    return function_calls"
   ]
  },
  {
   "cell_type": "code",
   "execution_count": 67,
   "id": "8ff61bf3",
   "metadata": {
    "ExecuteTime": {
     "end_time": "2021-11-23T16:43:43.351839Z",
     "start_time": "2021-11-23T16:43:43.342387Z"
    },
    "code_folding": [
     5
    ]
   },
   "outputs": [],
   "source": [
    "# profile\n",
    "import cProfile\n",
    "import pstats\n",
    "from qiskit import execute\n",
    "\n",
    "def profile_program(circuit, backend, shots=1024):\n",
    "    \"\"\"Run the program and return results and called functions.\"\"\"\n",
    "    #print(circuit)\n",
    "    #cProfile.runctx('my_job = execute(circuit, backend)', globals(), locals(), filename='c_profile_result.cprof')\n",
    "    \n",
    "    tmp_filepath = \"c_profile_result.cprof\"\n",
    "    tmp_human_readable_filepath = \"c_profile_result\"\n",
    "    \n",
    "    prof = cProfile.Profile()\n",
    "    my_job = prof.runcall(execute, circuit, backend)\n",
    "    prof.dump_stats(tmp_filepath)\n",
    "    \n",
    "    result =  my_job.result()\n",
    "    out_dict = result.get_counts()\n",
    "    \n",
    "    # write in a readable format\n",
    "    with open(tmp_human_readable_filepath, \"w\") as f:\n",
    "        ps = pstats.Stats(tmp_filepath, stream=f)\n",
    "        ps.sort_stats('cumulative')\n",
    "        ps.print_stats()\n",
    "    \n",
    "    # get the function calls\n",
    "    function_calls = extract_function_calls(tmp_human_readable_filepath)\n",
    "    \n",
    "    return out_dict, function_calls \n",
    "\n"
   ]
  },
  {
   "cell_type": "code",
   "execution_count": 74,
   "id": "c6d7c8f0",
   "metadata": {
    "ExecuteTime": {
     "end_time": "2021-11-23T16:44:33.462641Z",
     "start_time": "2021-11-23T16:44:33.286434Z"
    }
   },
   "outputs": [],
   "source": [
    "i_result, i_fn_calls =  profile_program(circuit=random_circuit, backend=simulator_gpu)"
   ]
  },
  {
   "cell_type": "code",
   "execution_count": 69,
   "id": "a067d899",
   "metadata": {
    "ExecuteTime": {
     "end_time": "2021-11-23T16:43:44.793896Z",
     "start_time": "2021-11-23T16:43:44.787429Z"
    }
   },
   "outputs": [
    {
     "data": {
      "text/plain": [
       "{'0111110101': 1024}"
      ]
     },
     "execution_count": 69,
     "metadata": {},
     "output_type": "execute_result"
    }
   ],
   "source": [
    "i_result"
   ]
  },
  {
   "cell_type": "code",
   "execution_count": 71,
   "id": "18a6b699",
   "metadata": {
    "ExecuteTime": {
     "end_time": "2021-11-23T16:44:01.982239Z",
     "start_time": "2021-11-23T16:44:01.975598Z"
    }
   },
   "outputs": [
    {
     "data": {
      "text/plain": [
       "393"
      ]
     },
     "execution_count": 71,
     "metadata": {},
     "output_type": "execute_result"
    }
   ],
   "source": [
    "len(i_fn_calls)"
   ]
  },
  {
   "cell_type": "code",
   "execution_count": 72,
   "id": "c74aec06",
   "metadata": {
    "ExecuteTime": {
     "end_time": "2021-11-23T16:44:10.462602Z",
     "start_time": "2021-11-23T16:44:10.454924Z"
    }
   },
   "outputs": [
    {
     "data": {
      "text/plain": [
       "393"
      ]
     },
     "execution_count": 72,
     "metadata": {},
     "output_type": "execute_result"
    }
   ],
   "source": [
    "len(set(i_fn_calls))"
   ]
  },
  {
   "cell_type": "code",
   "execution_count": 75,
   "id": "1cdb3bd4",
   "metadata": {
    "ExecuteTime": {
     "end_time": "2021-11-23T16:44:37.871009Z",
     "start_time": "2021-11-23T16:44:37.862835Z"
    }
   },
   "outputs": [
    {
     "data": {
      "text/plain": [
       "393"
      ]
     },
     "execution_count": 75,
     "metadata": {},
     "output_type": "execute_result"
    }
   ],
   "source": [
    "len(i_fn_calls)"
   ]
  },
  {
   "cell_type": "code",
   "execution_count": 76,
   "id": "7d7a67d2",
   "metadata": {
    "ExecuteTime": {
     "end_time": "2021-11-23T16:44:40.973806Z",
     "start_time": "2021-11-23T16:44:40.967044Z"
    }
   },
   "outputs": [
    {
     "data": {
      "text/plain": [
       "393"
      ]
     },
     "execution_count": 76,
     "metadata": {},
     "output_type": "execute_result"
    }
   ],
   "source": [
    "len(set(i_fn_calls))"
   ]
  },
  {
   "cell_type": "markdown",
   "id": "fe8afdba",
   "metadata": {},
   "source": [
    "# Fuzzing with random programs"
   ]
  },
  {
   "cell_type": "code",
   "execution_count": 83,
   "id": "a480bc1d",
   "metadata": {
    "ExecuteTime": {
     "end_time": "2021-11-23T16:56:18.160946Z",
     "start_time": "2021-11-23T16:56:18.155525Z"
    }
   },
   "outputs": [],
   "source": [
    "def random_circuit_encoding(n_ops, random_state=None):\n",
    "    if random_state is not None:\n",
    "        assert isinstance(random_state, int)\n",
    "        np.random.seed(random_state)\n",
    "    return np.random.rand(3 * n_ops)"
   ]
  },
  {
   "cell_type": "code",
   "execution_count": 107,
   "id": "cb71063d",
   "metadata": {
    "ExecuteTime": {
     "end_time": "2021-11-23T17:10:21.023558Z",
     "start_time": "2021-11-23T17:08:40.223187Z"
    }
   },
   "outputs": [
    {
     "name": "stdout",
     "output_type": "stream",
     "text": [
      "Try 0 with 15 qubits and input: 25199\n",
      "Try 1 with 11 qubits and input: 1331\n",
      "Try 2 with 26 qubits and input: 3066241\n",
      "Try 3 with 20 qubits and input: 411469\n",
      "Try 4 with 12 qubits and input: 847\n",
      "Try 5 with 14 qubits and input: 10389\n",
      "Try 6 with 7 qubits and input: 122\n",
      "Try 7 with 19 qubits and input: 233656\n",
      "Try 8 with 16 qubits and input: 14920\n",
      "Try 9 with 10 qubits and input: 493\n",
      "Try 10 with 15 qubits and input: 23150\n",
      "Try 11 with 25 qubits and input: 11131441\n",
      "Try 12 with 25 qubits and input: 30399178\n",
      "Try 13 with 14 qubits and input: 8773\n",
      "Try 14 with 23 qubits and input: 6988017\n",
      "Try 15 with 3 qubits and input: 5\n",
      "Try 16 with 13 qubits and input: 16\n",
      "Try 17 with 19 qubits and input: 469361\n",
      "Try 18 with 8 qubits and input: 109\n",
      "Try 19 with 22 qubits and input: 2702828\n",
      "Try 20 with 18 qubits and input: 59922\n",
      "Try 21 with 22 qubits and input: 2747024\n",
      "Try 22 with 17 qubits and input: 110058\n",
      "Try 23 with 14 qubits and input: 3492\n",
      "Try 24 with 18 qubits and input: 215708\n",
      "Try 25 with 2 qubits and input: 1\n",
      "Try 26 with 2 qubits and input: 3\n",
      "Try 27 with 23 qubits and input: 7191451\n",
      "Try 28 with 11 qubits and input: 1927\n",
      "Try 29 with 6 qubits and input: 46\n",
      "Try 30 with 17 qubits and input: 94070\n",
      "Try 31 with 2 qubits and input: 1\n",
      "Try 32 with 18 qubits and input: 132928\n",
      "Try 33 with 2 qubits and input: 3\n",
      "Try 34 with 10 qubits and input: 848\n",
      "Try 35 with 12 qubits and input: 1213\n",
      "Try 36 with 23 qubits and input: 3202103\n",
      "Try 37 with 3 qubits and input: 2\n",
      "Try 38 with 3 qubits and input: 5\n",
      "Try 39 with 6 qubits and input: 36\n",
      "Try 40 with 26 qubits and input: 50130240\n",
      "Try 41 with 17 qubits and input: 28440\n",
      "Try 42 with 14 qubits and input: 3680\n",
      "Try 43 with 9 qubits and input: 48\n",
      "Try 44 with 6 qubits and input: 63\n",
      "Try 45 with 22 qubits and input: 1311801\n",
      "Try 46 with 15 qubits and input: 30998\n",
      "Try 47 with 16 qubits and input: 59281\n",
      "Try 48 with 23 qubits and input: 2416188\n",
      "Try 49 with 12 qubits and input: 885\n",
      "Try 50 with 17 qubits and input: 38188\n",
      "Try 51 with 8 qubits and input: 215\n",
      "Try 52 with 14 qubits and input: 12740\n",
      "Try 53 with 25 qubits and input: 1425858\n",
      "Try 54 with 13 qubits and input: 7517\n",
      "Try 55 with 23 qubits and input: 5697650\n",
      "Try 56 with 18 qubits and input: 93188\n",
      "Try 57 with 8 qubits and input: 63\n",
      "Try 58 with 6 qubits and input: 5\n",
      "Try 59 with 6 qubits and input: 15\n",
      "Try 60 with 25 qubits and input: 20260299\n",
      "Try 61 with 5 qubits and input: 10\n",
      "Try 62 with 17 qubits and input: 3063\n",
      "Try 63 with 26 qubits and input: 59062745\n",
      "Try 64 with 21 qubits and input: 144785\n",
      "Try 65 with 20 qubits and input: 189638\n",
      "Try 66 with 7 qubits and input: 7\n",
      "Try 67 with 11 qubits and input: 1041\n",
      "Try 68 with 10 qubits and input: 645\n",
      "Try 69 with 12 qubits and input: 2163\n",
      "Try 70 with 22 qubits and input: 4101354\n",
      "Try 71 with 10 qubits and input: 114\n",
      "Try 72 with 20 qubits and input: 464024\n",
      "Try 73 with 13 qubits and input: 2017\n",
      "Try 74 with 23 qubits and input: 1844077\n",
      "Try 75 with 17 qubits and input: 18650\n",
      "Try 76 with 2 qubits and input: 0\n",
      "Try 77 with 11 qubits and input: 1581\n",
      "Try 78 with 23 qubits and input: 4931142\n",
      "Try 79 with 8 qubits and input: 89\n",
      "Try 80 with 2 qubits and input: 0\n",
      "Try 81 with 15 qubits and input: 10605\n",
      "Try 82 with 15 qubits and input: 1880\n",
      "Try 83 with 5 qubits and input: 0\n",
      "Try 84 with 11 qubits and input: 875\n",
      "Try 85 with 23 qubits and input: 7441062\n",
      "Try 86 with 15 qubits and input: 2741\n",
      "Try 87 with 6 qubits and input: 26\n",
      "Try 88 with 23 qubits and input: 1742462\n",
      "Try 89 with 24 qubits and input: 5285030\n",
      "Try 90 with 6 qubits and input: 21\n",
      "Try 91 with 24 qubits and input: 6105337\n",
      "Try 92 with 3 qubits and input: 4\n",
      "Try 93 with 17 qubits and input: 106443\n",
      "Try 94 with 15 qubits and input: 6769\n",
      "Try 95 with 13 qubits and input: 2640\n",
      "Try 96 with 8 qubits and input: 82\n",
      "Try 97 with 19 qubits and input: 123585\n",
      "Try 98 with 16 qubits and input: 35913\n",
      "Try 99 with 15 qubits and input: 23231\n"
     ]
    }
   ],
   "source": [
    "from random import randint\n",
    "\n",
    "N_FUZZ = 100\n",
    "MAX_QUBITS = 25\n",
    "MAX_OPS = 100\n",
    "MIN_OPS = 30\n",
    "RANDOM_STATE = 42\n",
    "\n",
    "records = []\n",
    "\n",
    "\n",
    "for i in range(N_FUZZ):\n",
    "    \n",
    "    i_features = {}\n",
    "    \n",
    "    # choose how many operations\n",
    "    i_ops = randint(MIN_OPS, MAX_OPS)\n",
    "    i_ops['ops'] = i_ops\n",
    "    \n",
    "    # generate a random circuit\n",
    "    i_encoding = random_circuit_encoding(\n",
    "        n_ops=i_ops, random_state=RANDOM_STATE)\n",
    "    i_features['encoding'] = i_encoding    \n",
    "    \n",
    "    # generate a random number of qubits\n",
    "    i_qubits = randint(2, MAX_QUBITS + 1)\n",
    "    i_features['qubits'] = i_qubits\n",
    "    \n",
    "    # generate a random input\n",
    "    i_input = randint(0, 2**i_qubits)\n",
    "    i_features['input'] = i_input\n",
    "    \n",
    "    print(f\"Try {i} with {i_qubits} qubits and input: {i_input}\")\n",
    "    # create the qasm string (universal for cirq)\n",
    "    i_qasm_string = encoding_to_circuit(\n",
    "        i_encoding, \n",
    "        n_qubits=i_qubits, \n",
    "        classical_input=i_input)\n",
    "    \n",
    "    # create the circuit\n",
    "    i_circuit = QuantumCircuit.from_qasm_str(i_qasm_string)\n",
    "    \n",
    "    # run and record\n",
    "    i_result, i_fn_calls =  profile_program(\n",
    "        circuit=i_circuit, backend=simulator_gpu)\n",
    "    i_features['results'] = str(i_result)\n",
    "    i_features['fn_calls'] = str(i_fn_calls)\n",
    "    i_features['n_fn_calls'] = len(i_fn_calls)\n",
    "    \n",
    "    records.append(i_features)\n",
    "    \n",
    "df = pd.DataFrame.from_records(records)"
   ]
  },
  {
   "cell_type": "code",
   "execution_count": 108,
   "id": "f64bd72c",
   "metadata": {
    "ExecuteTime": {
     "end_time": "2021-11-23T17:11:05.544855Z",
     "start_time": "2021-11-23T17:11:05.521824Z"
    }
   },
   "outputs": [
    {
     "data": {
      "text/html": [
       "<div>\n",
       "<style scoped>\n",
       "    .dataframe tbody tr th:only-of-type {\n",
       "        vertical-align: middle;\n",
       "    }\n",
       "\n",
       "    .dataframe tbody tr th {\n",
       "        vertical-align: top;\n",
       "    }\n",
       "\n",
       "    .dataframe thead th {\n",
       "        text-align: right;\n",
       "    }\n",
       "</style>\n",
       "<table border=\"1\" class=\"dataframe\">\n",
       "  <thead>\n",
       "    <tr style=\"text-align: right;\">\n",
       "      <th></th>\n",
       "      <th>random_encoding</th>\n",
       "      <th>qubits</th>\n",
       "      <th>input</th>\n",
       "      <th>results</th>\n",
       "      <th>fn_calls</th>\n",
       "      <th>n_fn_calls</th>\n",
       "    </tr>\n",
       "  </thead>\n",
       "  <tbody>\n",
       "    <tr>\n",
       "      <th>0</th>\n",
       "      <td>[0.3745401188473625, 0.9507143064099162, 0.731...</td>\n",
       "      <td>15</td>\n",
       "      <td>25199</td>\n",
       "      <td>{'100101100001101': 1, '100001101011101': 1, '...</td>\n",
       "      <td>['/qiskit/execute_function.py:39(execute)', '/...</td>\n",
       "      <td>396</td>\n",
       "    </tr>\n",
       "    <tr>\n",
       "      <th>1</th>\n",
       "      <td>[0.3745401188473625, 0.9507143064099162, 0.731...</td>\n",
       "      <td>11</td>\n",
       "      <td>1331</td>\n",
       "      <td>{'11111101011': 1, '00001111001': 1, '10000110...</td>\n",
       "      <td>['/qiskit/execute_function.py:39(execute)', '/...</td>\n",
       "      <td>395</td>\n",
       "    </tr>\n",
       "    <tr>\n",
       "      <th>2</th>\n",
       "      <td>[0.3745401188473625, 0.9507143064099162, 0.731...</td>\n",
       "      <td>26</td>\n",
       "      <td>3066241</td>\n",
       "      <td>{'10110101101000110001001010': 1, '10110111100...</td>\n",
       "      <td>['/qiskit/execute_function.py:39(execute)', '/...</td>\n",
       "      <td>396</td>\n",
       "    </tr>\n",
       "    <tr>\n",
       "      <th>3</th>\n",
       "      <td>[0.3745401188473625, 0.9507143064099162, 0.731...</td>\n",
       "      <td>20</td>\n",
       "      <td>411469</td>\n",
       "      <td>{'11010110011000001000': 1, '11011110011000000...</td>\n",
       "      <td>['/qiskit/execute_function.py:39(execute)', '/...</td>\n",
       "      <td>395</td>\n",
       "    </tr>\n",
       "    <tr>\n",
       "      <th>4</th>\n",
       "      <td>[0.3745401188473625, 0.9507143064099162, 0.731...</td>\n",
       "      <td>12</td>\n",
       "      <td>847</td>\n",
       "      <td>{'101110000101': 1, '001110000001': 1, '101101...</td>\n",
       "      <td>['/qiskit/execute_function.py:39(execute)', '/...</td>\n",
       "      <td>395</td>\n",
       "    </tr>\n",
       "  </tbody>\n",
       "</table>\n",
       "</div>"
      ],
      "text/plain": [
       "                                     random_encoding  qubits    input  \\\n",
       "0  [0.3745401188473625, 0.9507143064099162, 0.731...      15    25199   \n",
       "1  [0.3745401188473625, 0.9507143064099162, 0.731...      11     1331   \n",
       "2  [0.3745401188473625, 0.9507143064099162, 0.731...      26  3066241   \n",
       "3  [0.3745401188473625, 0.9507143064099162, 0.731...      20   411469   \n",
       "4  [0.3745401188473625, 0.9507143064099162, 0.731...      12      847   \n",
       "\n",
       "                                             results  \\\n",
       "0  {'100101100001101': 1, '100001101011101': 1, '...   \n",
       "1  {'11111101011': 1, '00001111001': 1, '10000110...   \n",
       "2  {'10110101101000110001001010': 1, '10110111100...   \n",
       "3  {'11010110011000001000': 1, '11011110011000000...   \n",
       "4  {'101110000101': 1, '001110000001': 1, '101101...   \n",
       "\n",
       "                                            fn_calls  n_fn_calls  \n",
       "0  ['/qiskit/execute_function.py:39(execute)', '/...         396  \n",
       "1  ['/qiskit/execute_function.py:39(execute)', '/...         395  \n",
       "2  ['/qiskit/execute_function.py:39(execute)', '/...         396  \n",
       "3  ['/qiskit/execute_function.py:39(execute)', '/...         395  \n",
       "4  ['/qiskit/execute_function.py:39(execute)', '/...         395  "
      ]
     },
     "execution_count": 108,
     "metadata": {},
     "output_type": "execute_result"
    }
   ],
   "source": [
    "df.head()"
   ]
  },
  {
   "cell_type": "code",
   "execution_count": 109,
   "id": "e3b37e5c",
   "metadata": {
    "ExecuteTime": {
     "end_time": "2021-11-23T17:11:06.559058Z",
     "start_time": "2021-11-23T17:11:06.402771Z"
    }
   },
   "outputs": [
    {
     "name": "stderr",
     "output_type": "stream",
     "text": [
      "/home/paltenmo/.conda/envs/ML4Quantum/lib/python3.8/site-packages/seaborn/distributions.py:2619: FutureWarning: `distplot` is a deprecated function and will be removed in a future version. Please adapt your code to use either `displot` (a figure-level function with similar flexibility) or `histplot` (an axes-level function for histograms).\n",
      "  warnings.warn(msg, FutureWarning)\n"
     ]
    },
    {
     "data": {
      "text/plain": [
       "<AxesSubplot:xlabel='n_fn_calls'>"
      ]
     },
     "execution_count": 109,
     "metadata": {},
     "output_type": "execute_result"
    },
    {
     "data": {
      "image/png": "[encoded data removed]",
      "text/plain": [
       "<Figure size 432x288 with 1 Axes>"
      ]
     },
     "metadata": {
      "needs_background": "light"
     },
     "output_type": "display_data"
    }
   ],
   "source": [
    "sns.distplot(df['n_fn_calls'], kde=False)"
   ]
  },
  {
   "cell_type": "code",
   "execution_count": 110,
   "id": "027b9d7b",
   "metadata": {
    "ExecuteTime": {
     "end_time": "2021-11-23T17:11:11.157925Z",
     "start_time": "2021-11-23T17:11:10.994694Z"
    }
   },
   "outputs": [
    {
     "data": {
      "text/plain": [
       "<AxesSubplot:xlabel='n_fn_calls', ylabel='qubits'>"
      ]
     },
     "execution_count": 110,
     "metadata": {},
     "output_type": "execute_result"
    },
    {
     "data": {
      "image/png": "[encoded data removed]",
      "text/plain": [
       "<Figure size 432x288 with 1 Axes>"
      ]
     },
     "metadata": {
      "needs_background": "light"
     },
     "output_type": "display_data"
    }
   ],
   "source": [
    "sns.scatterplot(\n",
    "    data=df,\n",
    "    x='n_fn_calls',\n",
    "    y='qubits'\n",
    ")"
   ]
  },
  {
   "cell_type": "code",
   "execution_count": 134,
   "id": "7117729e",
   "metadata": {
    "ExecuteTime": {
     "end_time": "2021-11-23T17:16:42.103499Z",
     "start_time": "2021-11-23T17:16:42.096936Z"
    }
   },
   "outputs": [],
   "source": [
    "def inspect_encoding(encoding, n_qubits, classical_input):\n",
    "    qasm_string = encoding_to_circuit(\n",
    "        encoding, \n",
    "        n_qubits=n_qubits, \n",
    "        classical_input=classical_input)\n",
    "    \n",
    "    # create the circuit\n",
    "    circuit = QuantumCircuit.from_qasm_str(qasm_string)\n",
    "    print(circuit)"
   ]
  },
  {
   "cell_type": "code",
   "execution_count": 141,
   "id": "153610ec",
   "metadata": {
    "ExecuteTime": {
     "end_time": "2021-11-23T17:19:08.855391Z",
     "start_time": "2021-11-23T17:19:08.840180Z"
    }
   },
   "outputs": [
    {
     "data": {
      "text/html": [
       "<div>\n",
       "<style scoped>\n",
       "    .dataframe tbody tr th:only-of-type {\n",
       "        vertical-align: middle;\n",
       "    }\n",
       "\n",
       "    .dataframe tbody tr th {\n",
       "        vertical-align: top;\n",
       "    }\n",
       "\n",
       "    .dataframe thead th {\n",
       "        text-align: right;\n",
       "    }\n",
       "</style>\n",
       "<table border=\"1\" class=\"dataframe\">\n",
       "  <thead>\n",
       "    <tr style=\"text-align: right;\">\n",
       "      <th></th>\n",
       "      <th>random_encoding</th>\n",
       "      <th>qubits</th>\n",
       "      <th>input</th>\n",
       "      <th>results</th>\n",
       "      <th>fn_calls</th>\n",
       "      <th>n_fn_calls</th>\n",
       "    </tr>\n",
       "  </thead>\n",
       "  <tbody>\n",
       "    <tr>\n",
       "      <th>76</th>\n",
       "      <td>[0.3745401188473625, 0.9507143064099162, 0.731...</td>\n",
       "      <td>2</td>\n",
       "      <td>0</td>\n",
       "      <td>{'01': 171, '11': 268, '00': 56, '10': 529}</td>\n",
       "      <td>['/qiskit/execute_function.py:39(execute)', '/...</td>\n",
       "      <td>393</td>\n",
       "    </tr>\n",
       "    <tr>\n",
       "      <th>80</th>\n",
       "      <td>[0.3745401188473625, 0.9507143064099162, 0.731...</td>\n",
       "      <td>2</td>\n",
       "      <td>0</td>\n",
       "      <td>{'11': 283, '01': 169, '00': 60, '10': 512}</td>\n",
       "      <td>['/qiskit/execute_function.py:39(execute)', '/...</td>\n",
       "      <td>393</td>\n",
       "    </tr>\n",
       "  </tbody>\n",
       "</table>\n",
       "</div>"
      ],
      "text/plain": [
       "                                      random_encoding  qubits  input  \\\n",
       "76  [0.3745401188473625, 0.9507143064099162, 0.731...       2      0   \n",
       "80  [0.3745401188473625, 0.9507143064099162, 0.731...       2      0   \n",
       "\n",
       "                                        results  \\\n",
       "76  {'01': 171, '11': 268, '00': 56, '10': 529}   \n",
       "80  {'11': 283, '01': 169, '00': 60, '10': 512}   \n",
       "\n",
       "                                             fn_calls  n_fn_calls  \n",
       "76  ['/qiskit/execute_function.py:39(execute)', '/...         393  \n",
       "80  ['/qiskit/execute_function.py:39(execute)', '/...         393  "
      ]
     },
     "execution_count": 141,
     "metadata": {},
     "output_type": "execute_result"
    }
   ],
   "source": [
    "subset = df[df['n_fn_calls'] == 393]\n",
    "if len(subset) > 0:\n",
    "    first_record = subset.iloc[0]\n",
    "else:\n",
    "    print('Empty')\n",
    "subset.head()"
   ]
  },
  {
   "cell_type": "code",
   "execution_count": 142,
   "id": "7a1ae379",
   "metadata": {
    "ExecuteTime": {
     "end_time": "2021-11-23T17:19:09.420759Z",
     "start_time": "2021-11-23T17:19:09.333285Z"
    }
   },
   "outputs": [
    {
     "name": "stdout",
     "output_type": "stream",
     "text": [
      "      ░ ┌───┐┌─────────────┐┌───┐┌────────────┐┌────────────┐     »\n",
      "q_0: ─░─┤ X ├┤ Ry(0.98014) ├┤ X ├┤ Ry(6.0941) ├┤ Rz(1.1424) ├──■──»\n",
      "      ░ └─┬─┘└─────────────┘└─┬─┘└────────────┘└────────────┘┌─┴─┐»\n",
      "q_1: ─░───■───────────────────■──────────────────────────────┤ X ├»\n",
      "      ░                                                      └───┘»\n",
      "c: 2/═════════════════════════════════════════════════════════════»\n",
      "                                                                  »\n",
      "«     ┌────────────┐     ┌─────────────┐                                     »\n",
      "«q_0: ┤ Rx(3.8444) ├──■──┤ Ry(0.40873) ├──────────────────────────────────■──»\n",
      "«     └────────────┘┌─┴─┐└┬────────────┤┌─────────────┐┌───────────────┐┌─┴─┐»\n",
      "«q_1: ──────────────┤ X ├─┤ Rx(1.2546) ├┤ Rx(0.29186) ├┤ U(0,5.0793,0) ├┤ X ├»\n",
      "«                   └───┘ └────────────┘└─────────────┘└───────────────┘└───┘»\n",
      "«c: 2/═══════════════════════════════════════════════════════════════════════»\n",
      "«                                                                            »\n",
      "«     ┌────────────┐┌───┐┌────────────┐ ┌────────────┐               ┌───┐»\n",
      "«q_0: ┤ Rx(3.1113) ├┤ X ├┤ Ry(3.2677) ├─┤ Rx(6.0921) ├──■────■────■──┤ X ├»\n",
      "«     └────────────┘└─┬─┘├────────────┤┌┴────────────┤┌─┴─┐┌─┴─┐┌─┴─┐└─┬─┘»\n",
      "«q_1: ────────────────■──┤ Rz(5.6224) ├┤ Ry(0.55601) ├┤ X ├┤ X ├┤ X ├──■──»\n",
      "«                        └────────────┘└─────────────┘└───┘└───┘└───┘     »\n",
      "«c: 2/════════════════════════════════════════════════════════════════════»\n",
      "«                                                                         »\n",
      "«                      ┌───┐                    ┌─────────────┐     »\n",
      "«q_0: ─────────────────┤ X ├─────────────────■──┤ Ry(0.39935) ├──■──»\n",
      "«     ┌───────────────┐└─┬─┘┌─────────────┐┌─┴─┐└─────────────┘┌─┴─┐»\n",
      "«q_1: ┤ U(0,1.2486,0) ├──■──┤ Rz(0.46524) ├┤ X ├───────────────┤ X ├»\n",
      "«     └───────────────┘     └─────────────┘└───┘               └───┘»\n",
      "«c: 2/══════════════════════════════════════════════════════════════»\n",
      "«                                                                   »\n",
      "«                  ┌───┐┌─────────────┐ ░ ┌─┐   \n",
      "«q_0: ─────────────┤ X ├┤ Rx(0.15971) ├─░─┤M├───\n",
      "«     ┌───────────┐└─┬─┘└┬────────────┤ ░ └╥┘┌─┐\n",
      "«q_1: ┤ Ry(2.967) ├──■───┤ Rx(3.1026) ├─░──╫─┤M├\n",
      "«     └───────────┘      └────────────┘ ░  ║ └╥┘\n",
      "«c: 2/═════════════════════════════════════╩══╩═\n",
      "«                                          0  1 \n"
     ]
    }
   ],
   "source": [
    "inspect_encoding(\n",
    "    encoding=first_record['random_encoding'],\n",
    "    n_qubits=first_record['qubits'],\n",
    "    classical_input=int(first_record['input']))"
   ]
  },
  {
   "cell_type": "code",
   "execution_count": 147,
   "id": "a62252e4",
   "metadata": {
    "ExecuteTime": {
     "end_time": "2021-11-23T17:21:22.753743Z",
     "start_time": "2021-11-23T17:21:22.748390Z"
    }
   },
   "outputs": [],
   "source": []
  },
  {
   "cell_type": "code",
   "execution_count": 148,
   "id": "19087167",
   "metadata": {
    "ExecuteTime": {
     "end_time": "2021-11-23T17:21:26.717015Z",
     "start_time": "2021-11-23T17:21:26.700625Z"
    }
   },
   "outputs": [
    {
     "data": {
      "text/plain": [
       "['/qiskit/execute_function.py:39(execute)',\n",
       " '/qiskit/tools/parallel.py:96(parallel_map)',\n",
       " '/qiskit/compiler/transpiler.py:47(transpile)',\n",
       " '/qiskit/compiler/transpiler.py:341(_transpile_circuit)',\n",
       " '/qiskit/transpiler/passmanager.py:174(run)',\n",
       " '/qiskit/transpiler/passmanager.py:257(_run_single_circuit)',\n",
       " '/qiskit/transpiler/runningpassmanager.py:103(run)',\n",
       " '/qiskit/transpiler/runningpassmanager.py:134(_do_pass)',\n",
       " '/qiskit/transpiler/runningpassmanager.py:161(_run_this_pass)',\n",
       " '/qiskit/transpiler/passes/optimization/optimize_1q_decomposition.py:67(run)',\n",
       " '/qiskit/transpiler/passes/optimization/optimize_1q_decomposition.py:96(<dictcomp>)',\n",
       " '/qiskit/quantum_info/synthesis/one_qubit_decompose.py:166(_decompose)',\n",
       " '/qiskit/quantum_info/synthesis/one_qubit_decompose.py:466(_circuit_psx_gen)',\n",
       " '/qiskit/quantum_info/synthesis/one_qubit_decompose.py:221(_params_zyz)',\n",
       " '/qiskit/quantum_info/synthesis/one_qubit_decompose.py:297(_circuit_kak)',\n",
       " '/qiskit/circuit/quantumcircuit.py:152(__init__)',\n",
       " '/scipy/linalg/basic.py:977(det)',\n",
       " '/qiskit/circuit/quantumcircuit.py:1089(_append)',\n",
       " '/qiskit/circuit/register.py:40(__init__)',\n",
       " '/qiskit/quantum_info/synthesis/one_qubit_decompose.py:556(_circuit_zsxx)',\n",
       " '/qiskit/circuit/gate.py:28(__init__)',\n",
       " '/qiskit/quantum_info/synthesis/one_qubit_decompose.py:540(_circuit_u1x)',\n",
       " '/qiskit/quantum_info/synthesis/one_qubit_decompose.py:509(_circuit_psx)',\n",
       " '/scipy/_lib/_util.py:247(_asarray_validated)',\n",
       " '/qiskit/quantum_info/synthesis/one_qubit_decompose.py:288(_params_u1x)',\n",
       " '/qiskit/circuit/instruction.py:56(__init__)',\n",
       " '/qiskit/quantum_info/synthesis/one_qubit_decompose.py:398(_circuit_xzx)',\n",
       " '/qiskit/transpiler/passes/basis/basis_translator.py:68(run)',\n",
       " '/qiskit/quantum_info/synthesis/one_qubit_decompose.py:269(_params_xzx)',\n",
       " '/qiskit/quantum_info/synthesis/one_qubit_decompose.py:577(_circuit_rr)',\n",
       " '/numpy/lib/function_base.py:422(asarray_chkfinite)',\n",
       " '/qiskit/quantum_info/synthesis/one_qubit_decompose.py:368(_circuit_zyz)',\n",
       " '/qiskit/circuit/quantumcircuit.py:1155(add_register)',\n",
       " '/qiskit/quantum_info/synthesis/one_qubit_decompose.py:413(_circuit_xyx)',\n",
       " '/qiskit/quantum_info/synthesis/one_qubit_decompose.py:278(_params_u3)',\n",
       " '/qiskit/quantum_info/synthesis/one_qubit_decompose.py:438(_circuit_u321)',\n",
       " '/qiskit/transpiler/passes/basis/basis_translator.py:309(_compose_transforms)',\n",
       " '/qiskit/quantum_info/synthesis/one_qubit_decompose.py:454(_circuit_u)',\n",
       " '/qiskit/circuit/register.py:121(<listcomp>)',\n",
       " '/qiskit/circuit/quantumregister.py:26(__init__)',\n",
       " '/qiskit/quantum_info/synthesis/one_qubit_decompose.py:247(_params_xyx)',\n",
       " '/qiskit/circuit/quantumcircuit.py:1229(_check_qargs)',\n",
       " '/scipy/linalg/flinalg.py:27(get_flinalg_funcs)',\n",
       " '/qiskit/circuit/instruction.py:198(params)',\n",
       " '/qiskit/quantum_info/synthesis/one_qubit_decompose.py:561(fnz)',\n",
       " '/qiskit/transpiler/preset_passmanagers/level1.py:61(level_1_pass_manager)',\n",
       " '/qiskit/converters/circuit_to_dag.py:18(circuit_to_dag)',\n",
       " '/qiskit/transpiler/basepasses.py:28(__call__)',\n",
       " '/qiskit/quantum_info/synthesis/one_qubit_decompose.py:514(fnz)',\n",
       " '/qiskit/circuit/quantumcircuit.py:312(_name_update)',\n",
       " '/qiskit/circuit/bit.py:26(__init__)',\n",
       " '/qiskit/quantum_info/synthesis/one_qubit_decompose.py:545(fnz)',\n",
       " '/numpy/core/_methods.py:59(_all)',\n",
       " '/qiskit/quantum_info/synthesis/one_qubit_decompose.py:241(_params_zxz)',\n",
       " '/qiskit/circuit/quantumcircuit.py:1236(_check_cargs)',\n",
       " '/qiskit/circuit/instruction.py:408(copy)',\n",
       " '/qiskit/quantum_info/synthesis/one_qubit_decompose.py:550(fnx)',\n",
       " '/qiskit/circuit/quantumcircuit.py:1223(_check_dups)',\n",
       " '/qiskit/dagcircuit/dagcircuit.py:412(apply_operation_back)',\n",
       " '/qiskit/circuit/library/standard_gates/rz.py:57(__init__)',\n",
       " '/qiskit/utils/multiprocessing.py:39(is_main_process)',\n",
       " '/qiskit/circuit/register.py:141(__getitem__)',\n",
       " '/qiskit/transpiler/basepasses.py:33(_freeze_init_parameters)',\n",
       " '/qiskit/circuit/quantumcircuit.py:1125(_update_parameter_table)',\n",
       " '/qiskit/circuit/library/standard_gates/rx.py:47(__init__)',\n",
       " '/qiskit/quantum_info/synthesis/one_qubit_decompose.py:519(fnx)',\n",
       " '/qiskit/quantum_info/synthesis/one_qubit_decompose.py:567(fnx)',\n",
       " '/qiskit/quantum_info/synthesis/one_qubit_decompose.py:591(_mod_2pi)',\n",
       " '/qiskit/circuit/instruction.py:426(__deepcopy__)',\n",
       " '/numpy/linalg/linalg.py:2104(det)',\n",
       " '/qiskit/dagcircuit/dagcircuit.py:269(add_qreg)',\n",
       " '/qiskit/circuit/quantumcircuit.py:1186(<listcomp>)',\n",
       " '/qiskit/dagcircuit/dagcircuit.py:1004(substitute_node_with_dag)',\n",
       " '/qiskit/circuit/gate.py:45(to_matrix)',\n",
       " '/qiskit/circuit/library/standard_gates/p.py:72(__init__)',\n",
       " '/qiskit/transpiler/passes/scheduling/time_unit_conversion.py:46(run)',\n",
       " '/qiskit/converters/dag_to_circuit.py:18(dag_to_circuit)',\n",
       " '/qiskit/quantum_info/synthesis/one_qubit_decompose.py:599(_h_conjugate)',\n",
       " '/qiskit/circuit/library/standard_gates/r.py:46(__init__)',\n",
       " '/qiskit/circuit/quantumcircuit.py:2047(global_phase)',\n",
       " '/qiskit/circuit/parametertable.py:27(__init__)',\n",
       " '/qiskit/circuit/gate.py:217(validate_parameter)',\n",
       " '/numpy/core/numeric.py:2186(allclose)',\n",
       " '/qiskit/circuit/library/standard_gates/u1.py:77(__init__)',\n",
       " '/qiskit/circuit/parametervector.py:72(__init__)',\n",
       " '/qiskit/dagcircuit/dagcircuit.py:295(_add_wire)',\n",
       " '/qiskit/circuit/library/standard_gates/sx.py:57(__init__)',\n",
       " '/numpy/core/numeric.py:2264(isclose)',\n",
       " '/qiskit/circuit/controlledgate.py:229(__deepcopy__)',\n",
       " '/qiskit/transpiler/passes/basis/unroll_custom_definitions.py:38(run)',\n",
       " '/qiskit/utils/deprecation.py:58(wrapper)',\n",
       " '/qiskit/providers/aer/backends/aerbackend.py:143(run)',\n",
       " '/qiskit/dagcircuit/dagcircuit.py:1512(collect_1q_runs)',\n",
       " '/qiskit/circuit/bit.py:94(__hash__)',\n",
       " '/qiskit/transpiler/passes/utils/gate_direction.py:44(__init__)',\n",
       " '/qiskit/dagcircuit/dagcircuit.py:377(_add_op_node)',\n",
       " '/qiskit/providers/aer/backends/aerbackend.py:339(_assemble)',\n",
       " '/qiskit/compiler/assembler.py:43(assemble)',\n",
       " '/qiskit/dagcircuit/dagnode.py:60(name)',\n",
       " '/qiskit/circuit/quantumcircuit.py:1231(<genexpr>)',\n",
       " '/qiskit/circuit/library/standard_gates/ry.py:47(__init__)',\n",
       " '/numpy/core/_asarray.py:23(asarray)',\n",
       " '/qiskit/dagcircuit/dagcircuit.py:1515(filter_fn)',\n",
       " '/qiskit/circuit/library/standard_gates/u.py:62(__init__)',\n",
       " '/qiskit/dagcircuit/dagnode.py:31(__init__)',\n",
       " '/qiskit/circuit/library/standard_gates/u3.py:61(__init__)',\n",
       " '/qiskit/circuit/controlledgate.py:135(name)',\n",
       " '/qiskit/circuit/parametervector.py:23(__new__)',\n",
       " '/qiskit/transpiler/passes/optimization/optimize_1q_decomposition.py:99(<lambda>)',\n",
       " '/qiskit/circuit/register.py:166(__iter__)',\n",
       " '/qiskit/circuit/quantumcircuit.py:153(<genexpr>)',\n",
       " '/qiskit/circuit/quantumcircuit.py:297(_increment_instances)',\n",
       " '/qiskit/circuit/controlledgate.py:236(_open_ctrl)',\n",
       " '/qiskit/transpiler/passes/optimization/cx_cancellation.py:21(run)',\n",
       " '/qiskit/assembler/assemble_circuits.py:301(assemble_circuits)',\n",
       " '/numpy/core/numeric.py:2344(within_tol)',\n",
       " '/qiskit/circuit/instruction.py:224(definition)',\n",
       " '/qiskit/assembler/assemble_circuits.py:43(_assemble_circuit)',\n",
       " '/qiskit/dagcircuit/dagcircuit.py:243(add_qubits)',\n",
       " '/qiskit/circuit/library/standard_gates/u3.py:98(__array__)',\n",
       " '/qiskit/dagcircuit/dagnode.py:49(op)',\n",
       " '/qiskit/circuit/quantumcircuit.py:1160(<genexpr>)',\n",
       " '/qiskit/dagcircuit/dagcircuit.py:1493(collect_runs)',\n",
       " '/scipy/linalg/flinalg.py:20(has_column_major_storage)',\n",
       " '/qiskit/dagcircuit/dagcircuit.py:1211(op_nodes)',\n",
       " '/qiskit/circuit/register.py:170(__eq__)',\n",
       " '/qiskit/transpiler/instruction_durations.py:133(get)',\n",
       " '/qiskit/circuit/instruction.py:193(params)',\n",
       " '/qiskit/transpiler/passes/basis/basis_translator.py:327(<dictcomp>)',\n",
       " '/qiskit/circuit/parametervector.py:37(__init__)',\n",
       " '/qiskit/compiler/transpiler.py:450(_parse_transpile_args)',\n",
       " '/qiskit/transpiler/passes/optimization/optimize_1q_decomposition.py:32(__init__)',\n",
       " '/numpy/core/fromnumeric.py:2355(all)',\n",
       " '/qiskit/dagcircuit/dagcircuit.py:1506(filter_fn)',\n",
       " '/scipy/sparse/base.py:1205(isspmatrix)',\n",
       " '/qiskit/circuit/quantumcircuit.py:962(__len__)',\n",
       " '/qiskit/dagcircuit/dagcircuit.py:53(__init__)',\n",
       " '/numpy/linalg/linalg.py:135(_commonType)',\n",
       " '/qiskit/circuit/library/standard_gates/ry.py:92(__array__)',\n",
       " '/qiskit/circuit/register.py:128(size)',\n",
       " '/qiskit/dagcircuit/dagcircuit.py:222(has_calibration_for)',\n",
       " '/numpy/core/fromnumeric.py:70(_wrapreduction)',\n",
       " '/qiskit/providers/aer/backends/aer_simulator.py:599(configuration)',\n",
       " '/qiskit/circuit/library/standard_gates/rx.py:92(__array__)',\n",
       " '/qiskit/dagcircuit/dagcircuit.py:494(_check_edgemap_registers)',\n",
       " '/qiskit/circuit/instruction.py:211(is_parameterized)',\n",
       " '/numpy/core/_ufunc_config.py:32(seterr)',\n",
       " '/qiskit/circuit/quantumcircuit.py:1238(<genexpr>)',\n",
       " '/qiskit/circuit/bit.py:87(__repr__)',\n",
       " '/qiskit/circuit/parameter.py:51(__init__)',\n",
       " '/numpy/ma/core.py:6370(isMaskedArray)',\n",
       " '/qiskit/dagcircuit/dagcircuit.py:186(calibrations)',\n",
       " '/qiskit/dagcircuit/dagcircuit.py:452(<listcomp>)',\n",
       " '/qiskit/circuit/instruction.py:272(assemble)',\n",
       " '/qiskit/circuit/parametertable.py:34(<setcomp>)',\n",
       " '/qiskit/transpiler/passes/optimization/optimize_1q_decomposition.py:111(<genexpr>)',\n",
       " '/qiskit/dagcircuit/dagcircuit.py:337(_check_bits)',\n",
       " '/qiskit/circuit/library/standard_gates/u.py:98(__array__)',\n",
       " '/qiskit/transpiler/runningpassmanager.py:213(_update_valid_passes)',\n",
       " '/qiskit/dagcircuit/dagcircuit.py:995(topological_op_nodes)',\n",
       " '/qiskit/circuit/quantumcircuit.py:307(cls_prefix)',\n",
       " '/qiskit/dagcircuit/dagcircuit.py:884(_make_pred_succ_maps)',\n",
       " '/qiskit/transpiler/runningpassmanager.py:209(_log_pass)',\n",
       " '/qiskit/transpiler/passes/basis/basis_translator.py:197(_basis_search)',\n",
       " '/qiskit/transpiler/instruction_durations.py:183(_get)',\n",
       " '/numpy/core/_ufunc_config.py:438(__exit__)',\n",
       " '/qiskit/circuit/quantumcircuit.py:1176(<genexpr>)',\n",
       " '/qiskit/transpiler/passes/optimization/optimize_1q_decomposition.py:104(<genexpr>)',\n",
       " '/qiskit/dagcircuit/dagcircuit.py:982(topological_nodes)',\n",
       " '/qiskit/transpiler/passes/analysis/depth.py:21(run)',\n",
       " '/qiskit/circuit/quantumcircuit.py:301(cls_instances)',\n",
       " '/qiskit/circuit/register.py:123(name)',\n",
       " '/scipy/linalg/misc.py:180(_datacopied)',\n",
       " '/qiskit/compiler/transpiler.py:592(_parse_basis_gates)',\n",
       " '/qiskit/circuit/parametervector.py:102(__iter__)',\n",
       " '/qiskit/circuit/register.py:200(__hash__)',\n",
       " '/qiskit/compiler/assembler.py:230(_parse_common_args)',\n",
       " '/numpy/core/_ufunc_config.py:433(__enter__)',\n",
       " '/qiskit/circuit/library/standard_gates/rz.py:103(__array__)',\n",
       " '/qiskit/dagcircuit/dagcircuit.py:820(depth)',\n",
       " '/qiskit/dagcircuit/dagcircuit.py:256(add_clbits)',\n",
       " '/qiskit/transpiler/passmanager.py:222(_create_running_passmanager)',\n",
       " '/qiskit/circuit/register.py:133(__repr__)',\n",
       " '/qiskit/circuit/library/standard_gates/x.py:179(__init__)',\n",
       " '/qiskit/circuit/quantumcircuit.py:2042(global_phase)',\n",
       " '/numpy/lib/twodim_base.py:156(eye)',\n",
       " '/qiskit/exceptions.py:22(__init__)',\n",
       " '/qiskit/circuit/controlledgate.py:182(ctrl_state)',\n",
       " '/qiskit/circuit/controlledgate.py:30(__init__)',\n",
       " '/qiskit/transpiler/basepasses.py:52(__init__)',\n",
       " '/qiskit/circuit/controlledgate.py:158(num_ctrl_qubits)',\n",
       " '/qiskit/dagcircuit/dagcircuit.py:859(_check_wires_list)',\n",
       " '/qiskit/circuit/instruction.py:213(<genexpr>)',\n",
       " '/qiskit/transpiler/runningpassmanager.py:59(append)',\n",
       " '/qiskit/dagcircuit/dagcircuit.py:900(_full_pred_succ_maps)',\n",
       " '/qiskit/transpiler/runningpassmanager.py:320(__iter__)',\n",
       " '/qiskit/circuit/library/standard_gates/h.py:50(__init__)',\n",
       " '/qiskit/quantum_info/synthesis/one_qubit_decompose.py:119(__init__)',\n",
       " '/qiskit/dagcircuit/dagnode.py:100(qargs)',\n",
       " '/qiskit/providers/aer/jobs/aerjob.py:48(submit)',\n",
       " '/qiskit/circuit/quantumcircuitdata.py:29(__getitem__)',\n",
       " '/qiskit/dagcircuit/dagcircuit.py:1348(remove_op_node)',\n",
       " '/numpy/linalg/linalg.py:112(isComplexType)',\n",
       " '/numpy/core/_ufunc_config.py:132(geterr)',\n",
       " '/numpy/linalg/linalg.py:125(_realType)',\n",
       " '/numpy/linalg/linalg.py:199(_assert_stacked_square)',\n",
       " '/qiskit/compiler/assembler.py:476(_parse_circuit_args)',\n",
       " '/qiskit/circuit/parameterexpression.py:40(__init__)',\n",
       " '/qiskit/quantum_info/synthesis/one_qubit_decompose.py:176(basis)',\n",
       " '/qiskit/dagcircuit/dagcircuit.py:516(<dictcomp>)',\n",
       " '/qiskit/user_config.py:210(get_config)',\n",
       " '/qiskit/transpiler/passes/optimization/remove_reset_in_zero_state.py:22(run)',\n",
       " '/qiskit/assembler/assemble_circuits.py:207(_extract_common_calibrations)',\n",
       " '/qiskit/dagcircuit/dagcircuit.py:896(<dictcomp>)',\n",
       " '/qiskit/dagcircuit/dagcircuit.py:195(calibrations)',\n",
       " '/qiskit/transpiler/passes/utils/fixed_point.py:37(run)',\n",
       " '/qiskit/dagcircuit/dagcircuit.py:169(global_phase)',\n",
       " '/numpy/linalg/linalg.py:193(_assert_stacked_2d)',\n",
       " '/qiskit/transpiler/passes/scheduling/time_unit_conversion.py:93(<listcomp>)',\n",
       " '/qiskit/assembler/assemble_circuits.py:115(<genexpr>)',\n",
       " '/qiskit/compiler/transpiler.py:864(_parse_timing_constraints)',\n",
       " '/qiskit/transpiler/runningpassmanager.py:274(controller_factory)',\n",
       " '/qiskit/circuit/quantumcircuit.py:213(data)',\n",
       " '/qiskit/transpiler/passes/basis/basis_translator.py:189(_basis_heuristic)',\n",
       " '/qiskit/transpiler/passes/scheduling/time_unit_conversion.py:102(_units_used_in_delays)',\n",
       " '/qiskit/dagcircuit/dagcircuit.py:354(_bits_in_condition)',\n",
       " '/qiskit/compiler/assembler.py:544(_expand_parameters)',\n",
       " '/qiskit/circuit/controlledgate.py:199(params)',\n",
       " '/qiskit/dagcircuit/dagcircuit.py:537(_check_wiremap_validity)',\n",
       " '/qiskit/assembler/assemble_circuits.py:126(<listcomp>)',\n",
       " '/qiskit/compiler/transpiler.py:606(_parse_coupling_map)',\n",
       " '/qiskit/transpiler/basepasses.py:88(is_analysis_pass)',\n",
       " '/qiskit/dagcircuit/dagcircuit.py:1002(<genexpr>)',\n",
       " '/qiskit/providers/aer/backends/aer_simulator.py:553(name)',\n",
       " '/qiskit/compiler/transpiler.py:313(_check_circuits_coupling_map)',\n",
       " '/qiskit/transpiler/passmanager.py:48(append)',\n",
       " '/qiskit/transpiler/preset_passmanagers/level1.py:196(_opt_control)',\n",
       " '/qiskit/circuit/parametervector.py:105(__len__)',\n",
       " '/qiskit/compiler/transpiler.py:599(<genexpr>)',\n",
       " '/qiskit/compiler/assembler.py:563(<genexpr>)',\n",
       " '/qiskit/compiler/transpiler.py:752(_parse_instruction_durations)',\n",
       " '/qiskit/dagcircuit/dagcircuit.py:1360(<lambda>)',\n",
       " '/qiskit/providers/models/backendconfiguration.py:382(__getattr__)',\n",
       " '/qiskit/circuit/quantumcircuit.py:1199(add_bits)',\n",
       " '/qiskit/circuit/bit.py:97(__eq__)',\n",
       " '/qiskit/compiler/transpiler.py:682(_parse_backend_num_qubits)',\n",
       " '/qiskit/dagcircuit/dagcircuit.py:897(<dictcomp>)',\n",
       " '/qiskit/circuit/quantumcircuit.py:2064(parameters)',\n",
       " '/qiskit/dagcircuit/dagcircuit.py:320(_check_condition)',\n",
       " '/qiskit/transpiler/fencedobjs.py:67(__init__)',\n",
       " '/qiskit/transpiler/basepasses.py:79(is_transformation_pass)',\n",
       " '/qiskit/transpiler/fencedobjs.py:30(__getitem__)',\n",
       " '/numpy/core/_asarray.py:110(asanyarray)',\n",
       " '/numpy/core/fromnumeric.py:71(<dictcomp>)',\n",
       " '/qiskit/dagcircuit/dagcircuit.py:1091(<lambda>)',\n",
       " '/qiskit/transpiler/passmanager.py:161(_normalize_passes)',\n",
       " '/qiskit/dagcircuit/dagnode.py:56(op)',\n",
       " '/qiskit/transpiler/basepasses.py:58(__hash__)',\n",
       " '/qiskit/dagcircuit/dagcircuit.py:282(add_creg)',\n",
       " '/qiskit/dagcircuit/dagcircuit.py:990(_key)',\n",
       " '/qiskit/circuit/parametervector.py:84(params)',\n",
       " '/qiskit/transpiler/basepasses.py:64(name)',\n",
       " '/qiskit/dagcircuit/dagcircuit.py:245(<genexpr>)',\n",
       " '/numpy/linalg/linalg.py:472(_unary_dispatcher)',\n",
       " '/qiskit/transpiler/fencedobjs.py:26(__getattribute__)',\n",
       " '/qiskit/circuit/quantumcircuit.py:226(calibrations)',\n",
       " '/qiskit/qobj/qasm_qobj.py:33(__init__)',\n",
       " '/qiskit/compiler/transpiler.py:817(_parse_faulty_qubits_map)',\n",
       " '/qiskit/transpiler/runningpassmanager.py:233(__iter__)',\n",
       " '/qiskit/circuit/quantumcircuitdata.py:26(__init__)',\n",
       " '/qiskit/providers/aer/backends/aerbackend.py:257(properties)',\n",
       " '/qiskit/circuit/instruction.py:277(<listcomp>)',\n",
       " '/qiskit/dagcircuit/dagcircuit.py:1510(<setcomp>)',\n",
       " '/qiskit/circuit/library/standard_gates/ecr.py:79(__init__)',\n",
       " '/qiskit/transpiler/runningpassmanager.py:33(__init__)',\n",
       " '/numpy/core/_ufunc_config.py:429(__init__)',\n",
       " '/qiskit/circuit/library/standard_gates/x.py:73(__init__)',\n",
       " '/qiskit/qobj/converters/lo_config.py:26(__init__)',\n",
       " '/qiskit/circuit/parametervector.py:79(name)',\n",
       " '/qiskit/transpiler/passes/routing/stochastic_swap.py:52(__init__)',\n",
       " '/qiskit/transpiler/runningpassmanager.py:315(__init__)',\n",
       " '/qiskit/transpiler/runningpassmanager.py:95(_normalize_flow_controller)',\n",
       " '/qiskit/transpiler/fencedobjs.py:22(__init__)',\n",
       " '/qiskit/transpiler/passes/layout/set_layout.py:26(__init__)',\n",
       " '/qiskit/transpiler/passes/layout/dense_layout.py:37(__init__)',\n",
       " '/qiskit/providers/backend.py:191(options)',\n",
       " '/qiskit/compiler/transpiler.py:559(_create_faulty_qubits_map)',\n",
       " '/qiskit/transpiler/fencedobjs.py:38(_check_if_fenced)',\n",
       " '/qiskit/providers/aer/jobs/aerjob.py:29(__init__)',\n",
       " '/qiskit/circuit/parameter.py:96(__hash__)',\n",
       " '/qiskit/dagcircuit/dagcircuit.py:164(global_phase)',\n",
       " '/qiskit/circuit/library/standard_gates/u.py:100(<genexpr>)',\n",
       " '/qiskit/dagcircuit/dagcircuit.py:152(wires)',\n",
       " '/qiskit/compiler/transpiler.py:336(_log_transpile_time)',\n",
       " '/qiskit/circuit/controlledgate.py:187(ctrl_state)',\n",
       " '/qiskit/transpiler/passes/basis/unroll_custom_definitions.py:24(__init__)',\n",
       " '/qiskit/circuit/instruction.py:294(label)',\n",
       " '/qiskit/transpiler/passes/basis/basis_translator.py:194(<setcomp>)',\n",
       " '/qiskit/transpiler/passes/scheduling/time_unit_conversion.py:37(__init__)',\n",
       " '/qiskit/transpiler/passes/layout/full_ancilla_allocation.py:34(__init__)',\n",
       " '/qiskit/compiler/transpiler.py:645(_parse_backend_properties)',\n",
       " '/qiskit/transpiler/passes/utils/check_map.py:26(__init__)',\n",
       " '/numpy/core/fromnumeric.py:2350(_all_dispatcher)',\n",
       " '/qiskit/transpiler/passes/scheduling/instruction_alignment.py:202(__init__)',\n",
       " '/qiskit/transpiler/instruction_durations.py:57(from_backend)',\n",
       " '/qiskit/circuit/quantumcircuit.py:912(clbits)',\n",
       " '/qiskit/circuit/quantumcircuit.py:2080(_unsorted_parameters)',\n",
       " '/qiskit/transpiler/passes/utils/fixed_point.py:28(__init__)',\n",
       " '/qiskit/transpiler/passes/scheduling/instruction_alignment.py:90(__init__)',\n",
       " '/qiskit/transpiler/passes/basis/basis_translator.py:53(__init__)',\n",
       " '/qiskit/execute_function.py:34(_log_submission_time)',\n",
       " '/qiskit/circuit/quantumcircuit.py:265(metadata)',\n",
       " '/qiskit/transpiler/passes/utils/check_gate_direction.py:24(__init__)',\n",
       " '/qiskit/transpiler/passes/layout/layout_2q_distance.py:33(__init__)',\n",
       " '/qiskit/transpiler/passes/scheduling/instruction_alignment.py:101(run)',\n",
       " '/qiskit/transpiler/timing_constraints.py:21(__init__)',\n",
       " '/qiskit/transpiler/runningpassmanager.py:228(__init__)',\n",
       " '/qiskit/qobj/qasm_qobj.py:288(__init__)',\n",
       " '/qiskit/dagcircuit/dagcircuit.py:258(<genexpr>)',\n",
       " '/qiskit/circuit/quantumcircuit.py:905(qubits)',\n",
       " '/qiskit/circuit/parametertable.py:117(__init__)',\n",
       " '/qiskit/dagcircuit/dagcircuit.py:563(_map_condition)',\n",
       " '/qiskit/transpiler/passes/basis/basis_translator.py:249(<setcomp>)',\n",
       " '/qiskit/transpiler/fencedobjs.py:59(__init__)',\n",
       " '/qiskit/compiler/assembler.py:37(_log_assembly_time)',\n",
       " '/qiskit/qobj/common.py:36(__init__)',\n",
       " '/qiskit/assembler/assemble_circuits.py:264(_configure_experiment_los)',\n",
       " '/qiskit/compiler/transpiler.py:693(_parse_initial_layout)',\n",
       " '/qiskit/compiler/assembler.py:161(<genexpr>)',\n",
       " '/qiskit/transpiler/runningpassmanager.py:307(__init__)',\n",
       " '/qiskit/circuit/quantumcircuit.py:1191(<listcomp>)',\n",
       " '/qiskit/transpiler/passes/layout/trivial_layout.py:32(__init__)',\n",
       " '/qiskit/circuit/_utils.py:65(_ctrl_state_to_int)',\n",
       " '/qiskit/transpiler/instruction_durations.py:89(update)',\n",
       " '/qiskit/qobj/qasm_qobj.py:427(__init__)',\n",
       " '/qiskit/transpiler/passmanager_config.py:19(__init__)',\n",
       " '/qiskit/pulse/configuration.py:119(__init__)',\n",
       " '/numpy/core/numeric.py:2182(_allclose_dispatcher)',\n",
       " '/qiskit/compiler/transpiler.py:785(_parse_approximation_degree)',\n",
       " '/qiskit/assembler/run_config.py:30(__init__)',\n",
       " '/qiskit/transpiler/instruction_durations.py:220(units_used)',\n",
       " '/qiskit/compiler/transpiler.py:828(_parse_output_name)',\n",
       " '/qiskit/assembler/assemble_circuits.py:174(_assemble_pulse_gates)',\n",
       " '/qiskit/circuit/controlledgate.py:214(params)',\n",
       " '/qiskit/qobj/qasm_qobj.py:558(__init__)',\n",
       " '/numpy/core/numeric.py:2260(_isclose_dispatcher)',\n",
       " '/qiskit/utils/deprecation.py:95(_rename_kwargs)',\n",
       " '/qiskit/transpiler/passes/scheduling/time_unit_conversion.py:88(<dictcomp>)',\n",
       " '/qiskit/providers/job.py:49(__init__)',\n",
       " '/qiskit/assembler/assemble_circuits.py:82(<dictcomp>)',\n",
       " '/qiskit/compiler/assembler.py:502(<dictcomp>)',\n",
       " '/qiskit/transpiler/passmanager.py:30(__init__)',\n",
       " '/qiskit/transpiler/passes/scheduling/instruction_alignment.py:260(_check_alignment_required)',\n",
       " '/qiskit/assembler/assemble_circuits.py:248(<genexpr>)',\n",
       " '/qiskit/transpiler/instruction_durations.py:33(__init__)',\n",
       " '/numpy/core/multiarray.py:644(result_type)',\n",
       " '/qiskit/compiler/transpiler.py:223(<genexpr>)',\n",
       " '/qiskit/qobj/qasm_qobj.py:210(__init__)',\n",
       " '/qiskit/circuit/quantumcircuit.py:235(calibrations)',\n",
       " '/qiskit/assembler/assemble_circuits.py:83(<dictcomp>)',\n",
       " '/qiskit/assembler/assemble_circuits.py:128(<listcomp>)',\n",
       " '/qiskit/circuit/controlledgate.py:167(num_ctrl_qubits)',\n",
       " '/qiskit/compiler/transpiler.py:640(<listcomp>)',\n",
       " '/qiskit/circuit/instruction.py:257(duration)',\n",
       " '/qiskit/compiler/transpiler.py:861(<listcomp>)',\n",
       " '/qiskit/compiler/transpiler.py:720(<listcomp>)',\n",
       " '/qiskit/transpiler/passes/scheduling/instruction_alignment.py:221(run)',\n",
       " '/qiskit/circuit/parametertable.py:76(__iter__)',\n",
       " '/qiskit/compiler/assembler.py:182(<genexpr>)',\n",
       " '/qiskit/circuit/quantumcircuit.py:278(metadata)',\n",
       " '/qiskit/circuit/controlledgate.py:127(definition)',\n",
       " '/qiskit/circuit/instruction.py:267(unit)',\n",
       " '/qiskit/compiler/assembler.py:308(<dictcomp>)',\n",
       " '/qiskit/assembler/run_config.py:77(to_dict)',\n",
       " '/qiskit/circuit/controlledgate.py:151(name)',\n",
       " '/qiskit/compiler/transpiler.py:315(<genexpr>)',\n",
       " '/qiskit/compiler/transpiler.py:746(_parse_scheduling_method)',\n",
       " '/qiskit/compiler/transpiler.py:728(_parse_layout_method)',\n",
       " '/qiskit/circuit/parametertable.py:232(__len__)',\n",
       " '/qiskit/transpiler/passes/scheduling/time_unit_conversion.py:109(_unified)',\n",
       " '/qiskit/transpiler/propertyset.py:20(__missing__)',\n",
       " '/qiskit/compiler/transpiler.py:793(_parse_seed_transpiler)',\n",
       " '/qiskit/compiler/assembler.py:378(_check_lo_freqs)',\n",
       " '/qiskit/compiler/transpiler.py:507(<genexpr>)',\n",
       " '/qiskit/compiler/transpiler.py:734(_parse_routing_method)',\n",
       " '/qiskit/compiler/transpiler.py:799(_parse_optimization_level)',\n",
       " '/qiskit/compiler/transpiler.py:811(_parse_callback)',\n",
       " '/qiskit/compiler/transpiler.py:740(_parse_translation_method)',\n",
       " '/qiskit/assembler/assemble_circuits.py:270(<listcomp>)',\n",
       " '/qiskit/compiler/assembler.py:353(<listcomp>)',\n",
       " '/qiskit/compiler/transpiler.py:788(<genexpr>)',\n",
       " '/qiskit/providers/aer/jobs/utils.py:58(split_qobj)',\n",
       " '/qiskit/compiler/transpiler.py:696(_layout_from_raw)']"
      ]
     },
     "execution_count": 148,
     "metadata": {},
     "output_type": "execute_result"
    }
   ],
   "source": [
    "functions"
   ]
  },
  {
   "cell_type": "code",
   "execution_count": 149,
   "id": "0e1492e3",
   "metadata": {
    "ExecuteTime": {
     "end_time": "2021-11-23T17:23:33.914871Z",
     "start_time": "2021-11-23T17:23:33.907881Z"
    }
   },
   "outputs": [],
   "source": [
    "import json\n",
    "\n",
    "def check_different_function_calls(record_a, record_b):\n",
    "    \n",
    "    functions_a = set(json.loads(record_a['fn_calls'].replace(\"'\", '\"')))\n",
    "    functions_b = set(json.loads(record_b['fn_calls'].replace(\"'\", '\"')))\n",
    "    \n",
    "    instersection = functions_a.intersection(functions_b)\n",
    "    \n",
    "    print('function only in a:')\n",
    "    print(functions_a.difference(instersection))\n",
    "    print('function only in b:')\n",
    "    print(functions_b.difference(instersection))"
   ]
  },
  {
   "cell_type": "code",
   "execution_count": 150,
   "id": "eeeb3248",
   "metadata": {
    "ExecuteTime": {
     "end_time": "2021-11-23T17:24:04.431414Z",
     "start_time": "2021-11-23T17:24:04.420138Z"
    }
   },
   "outputs": [
    {
     "name": "stdout",
     "output_type": "stream",
     "text": [
      "function only in a:\n",
      "set()\n",
      "function only in b:\n",
      "{'/qiskit/circuit/library/standard_gates/u1.py:121(__array__)'}\n"
     ]
    }
   ],
   "source": [
    "check_different_function_calls(\n",
    "    record_a=df[df['n_fn_calls'] == 393].iloc[0], \n",
    "    record_b=df[df['n_fn_calls'] == 394].iloc[0])"
   ]
  },
  {
   "cell_type": "code",
   "execution_count": 151,
   "id": "4ee79f1c",
   "metadata": {
    "ExecuteTime": {
     "end_time": "2021-11-23T17:24:21.566151Z",
     "start_time": "2021-11-23T17:24:21.554991Z"
    }
   },
   "outputs": [
    {
     "name": "stdout",
     "output_type": "stream",
     "text": [
      "function only in a:\n",
      "set()\n",
      "function only in b:\n",
      "{'/qiskit/circuit/library/standard_gates/x.py:115(__array__)', '/qiskit/quantum_info/synthesis/one_qubit_decompose.py:570(fnxpi)'}\n"
     ]
    }
   ],
   "source": [
    "check_different_function_calls(\n",
    "    record_a=df[df['n_fn_calls'] == 393].iloc[0], \n",
    "    record_b=df[df['n_fn_calls'] == 395].iloc[0])"
   ]
  },
  {
   "cell_type": "code",
   "execution_count": 152,
   "id": "2b27bd84",
   "metadata": {
    "ExecuteTime": {
     "end_time": "2021-11-23T17:24:36.349515Z",
     "start_time": "2021-11-23T17:24:36.338968Z"
    }
   },
   "outputs": [
    {
     "name": "stdout",
     "output_type": "stream",
     "text": [
      "function only in a:\n",
      "set()\n",
      "function only in b:\n",
      "{'/qiskit/circuit/library/standard_gates/u1.py:121(__array__)', '/qiskit/circuit/library/standard_gates/x.py:115(__array__)', '/qiskit/quantum_info/synthesis/one_qubit_decompose.py:570(fnxpi)'}\n"
     ]
    }
   ],
   "source": [
    "check_different_function_calls(\n",
    "    record_a=df[df['n_fn_calls'] == 393].iloc[0], \n",
    "    record_b=df[df['n_fn_calls'] == 396].iloc[0])"
   ]
  },
  {
   "cell_type": "code",
   "execution_count": 153,
   "id": "6821879b",
   "metadata": {
    "ExecuteTime": {
     "end_time": "2021-11-23T17:24:41.663904Z",
     "start_time": "2021-11-23T17:24:41.653635Z"
    }
   },
   "outputs": [
    {
     "name": "stdout",
     "output_type": "stream",
     "text": [
      "function only in a:\n",
      "set()\n",
      "function only in b:\n",
      "{'/qiskit/circuit/library/standard_gates/u1.py:121(__array__)'}\n"
     ]
    }
   ],
   "source": [
    "check_different_function_calls(\n",
    "    record_a=df[df['n_fn_calls'] == 395].iloc[0], \n",
    "    record_b=df[df['n_fn_calls'] == 396].iloc[0])"
   ]
  },
  {
   "cell_type": "code",
   "execution_count": null,
   "id": "80b3296a",
   "metadata": {},
   "outputs": [],
   "source": []
  }
 ],
 "metadata": {
  "kernelspec": {
   "display_name": "Python 3 (ipykernel)",
   "language": "python",
   "name": "python3"
  },
  "language_info": {
   "codemirror_mode": {
    "name": "ipython",
    "version": 3
   },
   "file_extension": ".py",
   "mimetype": "text/x-python",
   "name": "python",
   "nbconvert_exporter": "python",
   "pygments_lexer": "ipython3",
   "version": "3.8.0"
  },
  "toc": {
   "base_numbering": 1,
   "nav_menu": {},
   "number_sections": true,
   "sideBar": true,
   "skip_h1_title": false,
   "title_cell": "Table of Contents",
   "title_sidebar": "Contents",
   "toc_cell": false,
   "toc_position": {},
   "toc_section_display": true,
   "toc_window_display": false
  }
 },
 "nbformat": 4,
 "nbformat_minor": 5
}
