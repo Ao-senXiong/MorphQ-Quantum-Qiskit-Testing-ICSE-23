{
 "cells": [
  {
   "cell_type": "code",
   "execution_count": 1,
   "id": "9018a6ee",
   "metadata": {
    "ExecuteTime": {
     "end_time": "2022-02-17T11:45:40.926918Z",
     "start_time": "2022-02-17T11:45:40.922794Z"
    }
   },
   "outputs": [],
   "source": [
    "# goal: given a source program. Check that there is only one main circuit, \n",
    "# then split it into sections and optimize only some of them with the optimization\n",
    "# manager"
   ]
  },
  {
   "cell_type": "code",
   "execution_count": 9,
   "id": "ecb3d108",
   "metadata": {
    "ExecuteTime": {
     "end_time": "2022-02-17T21:35:36.479385Z",
     "start_time": "2022-02-17T21:35:34.364711Z"
    }
   },
   "outputs": [],
   "source": [
    "import pandas as pd\n",
    "import sys\n",
    "sys.path.append(\"../lib\")\n",
    "import seaborn as sns\n",
    "import matplotlib.pyplot as plt\n",
    "from utils import iterate_over\n",
    "from utils import load_config_and_check\n",
    "from inspector import Inspector\n",
    "from tqdm import tqdm\n",
    "import sqlite3 as sl\n",
    "import os"
   ]
  },
  {
   "cell_type": "code",
   "execution_count": 10,
   "id": "5605defb",
   "metadata": {
    "ExecuteTime": {
     "end_time": "2022-02-17T21:35:36.521890Z",
     "start_time": "2022-02-17T21:35:36.482582Z"
    }
   },
   "outputs": [],
   "source": [
    "%load_ext autoreload\n",
    "%autoreload 2"
   ]
  },
  {
   "cell_type": "code",
   "execution_count": 33,
   "id": "c8dcee8a",
   "metadata": {
    "ExecuteTime": {
     "end_time": "2022-02-17T16:04:26.135224Z",
     "start_time": "2022-02-17T16:04:26.015638Z"
    }
   },
   "outputs": [],
   "source": [
    "config = load_config_and_check(\"../config/qmt_v05.yaml\")"
   ]
  },
  {
   "cell_type": "code",
   "execution_count": 4,
   "id": "22e09e7c",
   "metadata": {
    "ExecuteTime": {
     "end_time": "2022-02-17T15:40:08.028229Z",
     "start_time": "2022-02-17T15:40:03.430671Z"
    }
   },
   "outputs": [],
   "source": [
    "from metamorph import *\n",
    "from qmt import get_mr_function_and_kwargs\n",
    "from metamorph_test import show_tree"
   ]
  },
  {
   "cell_type": "markdown",
   "id": "be3aa71f",
   "metadata": {},
   "source": [
    "## Source Generation"
   ]
  },
  {
   "cell_type": "code",
   "execution_count": 5,
   "id": "e874cce5",
   "metadata": {
    "ExecuteTime": {
     "end_time": "2022-02-17T15:40:08.071345Z",
     "start_time": "2022-02-17T15:40:08.030037Z"
    }
   },
   "outputs": [],
   "source": [
    "from generation_strategy_python import QiskitFuzzer\n",
    "import numpy as np\n",
    "import random"
   ]
  },
  {
   "cell_type": "code",
   "execution_count": 6,
   "id": "6d72fd3d",
   "metadata": {
    "ExecuteTime": {
     "end_time": "2022-02-17T15:40:08.117395Z",
     "start_time": "2022-02-17T15:40:08.073096Z"
    }
   },
   "outputs": [],
   "source": [
    "np.random.seed(42)\n",
    "random.seed(42)\n",
    "\n",
    "config_generator = config[\"generation_strategy\"]\n",
    "generator =  QiskitFuzzer()\n",
    "\n",
    "\n",
    "py_file, metadata = generator.generate_file(\n",
    "    gate_set=config_generator[\"gate_set\"],\n",
    "    n_qubits=10,\n",
    "    n_ops=10,\n",
    "    optimizations=[],\n",
    "    backend=\"qasm_simulator\",\n",
    "    shots=1024,\n",
    "    level_auto_optimization=3,\n",
    "    target_gates=None\n",
    ")"
   ]
  },
  {
   "cell_type": "code",
   "execution_count": 7,
   "id": "1d008fc3",
   "metadata": {
    "ExecuteTime": {
     "end_time": "2022-02-17T15:40:08.164496Z",
     "start_time": "2022-02-17T15:40:08.120962Z"
    }
   },
   "outputs": [
    {
     "name": "stdout",
     "output_type": "stream",
     "text": [
      "\n",
      "# SECTION\n",
      "# NAME: PROLOGUE\n",
      "\n",
      "import qiskit\n",
      "from qiskit import QuantumCircuit, ClassicalRegister, QuantumRegister\n",
      "from qiskit.circuit.library.standard_gates import *\n",
      "\n",
      "# SECTION\n",
      "# NAME: CIRCUIT\n",
      "\n",
      "qr = QuantumRegister(10, name='qr')\n",
      "cr = ClassicalRegister(10, name='cr')\n",
      "qc = QuantumCircuit(qr, cr, name='qc')\n",
      "qc.append(UGate(5.004827191577157,1.1525547765126551,4.898943037054019), qargs=[qr[9]], cargs=[])\n",
      "qc.append(U1Gate(4.448951217224888), qargs=[qr[8]], cargs=[])\n",
      "qc.append(CUGate(3.843130151069924,0.04439890513257482,0.14490549016815404,3.2972564349156697), qargs=[qr[1], qr[5]], cargs=[])\n",
      "qc.append(CRXGate(1.0714346684716647), qargs=[qr[2], qr[5]], cargs=[])\n",
      "qc.append(C4XGate(), qargs=[qr[8], qr[5], qr[1], qr[7], qr[0]], cargs=[])\n",
      "qc.append(DCXGate(), qargs=[qr[0], qr[7]], cargs=[])\n",
      "qc.append(YGate(), qargs=[qr[4]], cargs=[])\n",
      "qc.append(RCCXGate(), qargs=[qr[6], qr[2], qr[5]], cargs=[])\n",
      "qc.append(RZXGate(5.040352282937607), qargs=[qr[1], qr[5]], cargs=[])\n",
      "qc.append(CZGate(), qargs=[qr[6], qr[3]], cargs=[])\n",
      "\n",
      "# SECTION\n",
      "# NAME: OPTIMIZATION_PASSES\n",
      "\n",
      "from qiskit.transpiler import PassManager\n",
      "from qiskit.transpiler.passes import *\n",
      "passmanager = PassManager()\n",
      "qc = passmanager.run(qc)\n",
      "\n",
      "# SECTION\n",
      "# NAME: OPTIMIZATION_LEVEL\n",
      "\n",
      "from qiskit import transpile\n",
      "qc = transpile(qc, basis_gates=None, optimization_level=3, coupling_map=None)\n",
      "\n",
      "# SECTION\n",
      "# NAME: MEASUREMENT\n",
      "\n",
      "qc.measure(qr, cr)\n",
      "\n",
      "# SECTION\n",
      "# NAME: EXECUTION\n",
      "\n",
      "from qiskit import Aer, transpile, execute\n",
      "backend_7abe5979f93342ae86435c0f383eb5a1 = Aer.get_backend('qasm_simulator')\n",
      "counts = execute(qc, backend=backend_7abe5979f93342ae86435c0f383eb5a1, shots=1024).result().get_counts(qc)\n",
      "RESULT = counts\n"
     ]
    }
   ],
   "source": [
    "print(py_file)"
   ]
  },
  {
   "cell_type": "code",
   "execution_count": 8,
   "id": "c30d3660",
   "metadata": {
    "ExecuteTime": {
     "end_time": "2022-02-17T15:40:08.208430Z",
     "start_time": "2022-02-17T15:40:08.166175Z"
    }
   },
   "outputs": [
    {
     "name": "stdout",
     "output_type": "stream",
     "text": [
      "Module(\n",
      "    body=[\n",
      "        Assign(\n",
      "            lineno=1,\n",
      "            col_offset=0,\n",
      "            end_lineno=1,\n",
      "            end_col_offset=38,\n",
      "            targets=[Name(lineno=1, col_offset=0, end_lineno=1, end_col_offset=2, id='qc', ctx=Store())],\n",
      "            value=Call(\n",
      "                lineno=1,\n",
      "                col_offset=5,\n",
      "                end_lineno=1,\n",
      "                end_col_offset=38,\n",
      "                func=Name(lineno=1, col_offset=5, end_lineno=1, end_col_offset=19, id='QuantumCircuit', ctx=Load()),\n",
      "                args=[\n",
      "                    Name(lineno=1, col_offset=20, end_lineno=1, end_col_offset=22, id='qr', ctx=Load()),\n",
      "                    Name(lineno=1, col_offset=24, end_lineno=1, end_col_offset=26, id='cr', ctx=Load()),\n",
      "                ],\n",
      "                keywords=[\n",
      "                    keyword(\n",
      "                        arg='name',\n",
      "                        value=Constant(lineno=1, col_offset=33, end_lineno=1, end_col_offset=37, value='qc', kind=None),\n",
      "                    ),\n",
      "                ],\n",
      "            ),\n",
      "            type_comment=None,\n",
      "        ),\n",
      "    ],\n",
      "    type_ignores=[],\n",
      ")\n"
     ]
    }
   ],
   "source": [
    "show_tree(\"qc = QuantumCircuit(qr, cr, name='qc')\")"
   ]
  },
  {
   "cell_type": "code",
   "execution_count": 9,
   "id": "fe5b2b45",
   "metadata": {
    "ExecuteTime": {
     "end_time": "2022-02-17T15:40:08.251028Z",
     "start_time": "2022-02-17T15:40:08.209969Z"
    }
   },
   "outputs": [
    {
     "name": "stdout",
     "output_type": "stream",
     "text": [
      "Module(\n",
      "    body=[\n",
      "        Expr(\n",
      "            lineno=1,\n",
      "            col_offset=0,\n",
      "            end_lineno=1,\n",
      "            end_col_offset=61,\n",
      "            value=Call(\n",
      "                lineno=1,\n",
      "                col_offset=0,\n",
      "                end_lineno=1,\n",
      "                end_col_offset=61,\n",
      "                func=Attribute(\n",
      "                    lineno=1,\n",
      "                    col_offset=0,\n",
      "                    end_lineno=1,\n",
      "                    end_col_offset=9,\n",
      "                    value=Name(lineno=1, col_offset=0, end_lineno=1, end_col_offset=2, id='qc', ctx=Load()),\n",
      "                    attr='append',\n",
      "                    ctx=Load(),\n",
      "                ),\n",
      "                args=[\n",
      "                    Call(\n",
      "                        lineno=1,\n",
      "                        col_offset=10,\n",
      "                        end_lineno=1,\n",
      "                        end_col_offset=35,\n",
      "                        func=Name(lineno=1, col_offset=10, end_lineno=1, end_col_offset=16, id='U1Gate', ctx=Load()),\n",
      "                        args=[Constant(lineno=1, col_offset=17, end_lineno=1, end_col_offset=34, value=4.448951217224888, kind=None)],\n",
      "                        keywords=[],\n",
      "                    ),\n",
      "                ],\n",
      "                keywords=[\n",
      "                    keyword(\n",
      "                        arg='qargs',\n",
      "                        value=List(\n",
      "                            lineno=1,\n",
      "                            col_offset=43,\n",
      "                            end_lineno=1,\n",
      "                            end_col_offset=50,\n",
      "                            elts=[\n",
      "                                Subscript(\n",
      "                                    lineno=1,\n",
      "                                    col_offset=44,\n",
      "                                    end_lineno=1,\n",
      "                                    end_col_offset=49,\n",
      "                                    value=Name(lineno=1, col_offset=44, end_lineno=1, end_col_offset=46, id='qr', ctx=Load()),\n",
      "                                    slice=Index(\n",
      "                                        value=Constant(lineno=1, col_offset=47, end_lineno=1, end_col_offset=48, value=8, kind=None),\n",
      "                                    ),\n",
      "                                    ctx=Load(),\n",
      "                                ),\n",
      "                            ],\n",
      "                            ctx=Load(),\n",
      "                        ),\n",
      "                    ),\n",
      "                    keyword(\n",
      "                        arg='cargs',\n",
      "                        value=List(lineno=1, col_offset=58, end_lineno=1, end_col_offset=60, elts=[], ctx=Load()),\n",
      "                    ),\n",
      "                ],\n",
      "            ),\n",
      "        ),\n",
      "    ],\n",
      "    type_ignores=[],\n",
      ")\n"
     ]
    }
   ],
   "source": [
    "show_tree(\"qc.append(U1Gate(4.448951217224888), qargs=[qr[8]], cargs=[])\")"
   ]
  },
  {
   "cell_type": "code",
   "execution_count": 10,
   "id": "0f53c4a5",
   "metadata": {
    "ExecuteTime": {
     "end_time": "2022-02-17T15:40:08.304815Z",
     "start_time": "2022-02-17T15:40:08.252509Z"
    }
   },
   "outputs": [
    {
     "data": {
      "text/plain": [
       "'qc_1.append(U1Gate(4.448951217224888), qargs=[qr[8]], cargs=[])\\n'"
      ]
     },
     "execution_count": 10,
     "metadata": {},
     "output_type": "execute_result"
    }
   ],
   "source": [
    "from metamorph import replace_identifier\n",
    "replace_identifier(\"qc.append(U1Gate(4.448951217224888), qargs=[qr[8]], cargs=[])\", identifier=\"qc\", replacement=\"qc_1\")"
   ]
  },
  {
   "cell_type": "markdown",
   "id": "d1159bcd",
   "metadata": {},
   "source": [
    "## Create followup"
   ]
  },
  {
   "cell_type": "code",
   "execution_count": 22,
   "id": "98e8c14b",
   "metadata": {
    "ExecuteTime": {
     "end_time": "2022-02-17T15:52:27.335333Z",
     "start_time": "2022-02-17T15:52:27.284519Z"
    }
   },
   "outputs": [],
   "source": [
    "# extract the main circuit and the size of its registers\n",
    "# create n empty circuits with the same sized register, but empty\n",
    "# scan all the operations\n",
    "# allocate some lines to different n sub-sections\n",
    "\n",
    "# replace identifiers in every section with those specific of the given sub-section\n",
    "\n",
    "# FOLLOW-UP SPECIFIC\n",
    "# run m random optimizations pass for each sub-section\n",
    "\n",
    "# assemble the original circuit with those parts"
   ]
  },
  {
   "cell_type": "code",
   "execution_count": 87,
   "id": "1f4ca758",
   "metadata": {
    "ExecuteTime": {
     "end_time": "2022-02-17T21:20:39.347842Z",
     "start_time": "2022-02-17T21:20:39.186006Z"
    }
   },
   "outputs": [
    {
     "name": "stdout",
     "output_type": "stream",
     "text": [
      "# SECTION\n",
      "# NAME: PROLOGUE\n",
      "\n",
      "import qiskit\n",
      "from qiskit import QuantumCircuit, ClassicalRegister, QuantumRegister\n",
      "from qiskit.circuit.library.standard_gates import *\n",
      "# SECTION\n",
      "# NAME: CIRCUIT\n",
      "\n",
      "qr = QuantumRegister(10, name='qr')\n",
      "cr = ClassicalRegister(10, name='cr')\n",
      "qc = QuantumCircuit(qr, cr, name='qc')\n",
      "\n",
      "\n",
      "qr_0 = QuantumRegister(10, name='qr_0')\n",
      "cr_0 = ClassicalRegister(10, name='cr_0')\n",
      "qc_0 = QuantumCircuit(qr_0, cr_0, name='qc_0')\n",
      "\n",
      "qc_0.append(UGate(5.004827191577157, 1.1525547765126551, 4.898943037054019),\n",
      "    qargs=[qr_0[9]], cargs=[])\n",
      "qc_0.append(U1Gate(4.448951217224888), qargs=[qr_0[8]], cargs=[])\n",
      "qc_0.append(CUGate(3.843130151069924, 0.04439890513257482, \n",
      "    0.14490549016815404, 3.2972564349156697), qargs=[qr_0[1], qr_0[5]],\n",
      "    cargs=[])\n",
      "qc_0.append(CRXGate(1.0714346684716647), qargs=[qr_0[2], qr_0[5]], cargs=[])\n",
      "qc_0.append(C4XGate(), qargs=[qr_0[8], qr_0[5], qr_0[1], qr_0[7], qr_0[0]],\n",
      "    cargs=[])\n",
      "qc_0.append(DCXGate(), qargs=[qr_0[0], qr_0[7]], cargs=[])\n",
      "qc_0.append(YGate(), qargs=[qr_0[4]], cargs=[])\n",
      "\n",
      "qr_1 = QuantumRegister(10, name='qr_1')\n",
      "cr_1 = ClassicalRegister(10, name='cr_1')\n",
      "qc_1 = QuantumCircuit(qr_1, cr_1, name='qc_1')\n",
      "\n",
      "qc_1.append(RCCXGate(), qargs=[qr_1[6], qr_1[2], qr_1[5]], cargs=[])\n",
      "qc_1.append(RZXGate(5.040352282937607), qargs=[qr_1[1], qr_1[5]], cargs=[])\n",
      "qc_1.append(CZGate(), qargs=[qr_1[6], qr_1[3]], cargs=[])\n",
      "# SECTION\n",
      "# NAME: OPTIMIZATION_PASSES\n",
      "\n",
      "from qiskit.transpiler import PassManager\n",
      "from qiskit.transpiler.passes import *\n",
      "passmanager = PassManager()\n",
      "qc = passmanager.run(qc)\n",
      "\n",
      "passmanager = PassManager()\n",
      "passmanager.append(Optimize1qGates(**{'basis': ['u3']}))\n",
      "passmanager.append(Optimize1qGatesSimpleCommutation(**{'basis': ['sx', 'rz'], 'run_to_completion': False}))\n",
      "qc_0 = passmanager.run(qc_0)\n",
      "\n",
      "passmanager = PassManager()\n",
      "passmanager.append(Optimize1qGatesDecomposition(**{'basis': ['p', 'sx']}))\n",
      "passmanager.append(RemoveResetInZeroState(**{}))\n",
      "qc_1 = passmanager.run(qc_1)\n",
      "qc.append(qc_0, qargs=qr, cargs=cr)\n",
      "qc.append(qc_1, qargs=qr, cargs=cr)\n",
      "# SECTION\n",
      "# NAME: OPTIMIZATION_LEVEL\n",
      "\n",
      "from qiskit import transpile\n",
      "qc = transpile(qc, basis_gates=None, optimization_level=3, coupling_map=None)\n",
      "# SECTION\n",
      "# NAME: MEASUREMENT\n",
      "\n",
      "qc.measure(qr, cr)\n",
      "# SECTION\n",
      "# NAME: EXECUTION\n",
      "\n",
      "from qiskit import Aer, transpile, execute\n",
      "backend_7abe5979f93342ae86435c0f383eb5a1 = Aer.get_backend('qasm_simulator')\n",
      "counts = execute(qc, backend=backend_7abe5979f93342ae86435c0f383eb5a1, shots=1024).result().get_counts(qc)\n",
      "RESULT = counts\n",
      "\n"
     ]
    }
   ],
   "source": [
    "SEED = 42\n",
    "np.random.seed(SEED)\n",
    "random.seed(SEED)\n",
    "config_5 = load_config_and_check(\"../config/qmt_v05.yaml\")\n",
    "\n",
    "morph, kwargs = get_mr_function_and_kwargs(config_5, metamorphic_strategy=\"add_section_optimizations\")\n",
    "out_code = morph(py_file, **kwargs)[0]\n",
    "print(out_code)"
   ]
  },
  {
   "cell_type": "code",
   "execution_count": 69,
   "id": "3277da6b",
   "metadata": {
    "ExecuteTime": {
     "end_time": "2022-02-17T20:54:10.305249Z",
     "start_time": "2022-02-17T20:53:52.721344Z"
    }
   },
   "outputs": [
    {
     "name": "stdout",
     "output_type": "stream",
     "text": [
      "> \u001b[0;32m/home/paltenmo/projects/ML4Quantum/notebooks/mtrand.pyx\u001b[0m(905)\u001b[0;36mnumpy.random.mtrand.RandomState.choice\u001b[0;34m()\u001b[0m\n",
      "\n",
      "--KeyboardInterrupt--\n",
      "--KeyboardInterrupt--\n",
      "ipdb> q\n"
     ]
    }
   ],
   "source": [
    "%debug"
   ]
  },
  {
   "cell_type": "code",
   "execution_count": 60,
   "id": "5a85ee0a",
   "metadata": {
    "ExecuteTime": {
     "end_time": "2022-02-17T20:47:29.337412Z",
     "start_time": "2022-02-17T20:47:29.263574Z"
    }
   },
   "outputs": [
    {
     "data": {
      "text/plain": [
       "{'01': 213, '00': 811}"
      ]
     },
     "execution_count": 60,
     "metadata": {},
     "output_type": "execute_result"
    }
   ],
   "source": [
    "qc = QuantumCircuit(2)\n",
    "qc.rx(0.5, 0)\n",
    "qc.rx(0.5, 0)\n",
    "qc.draw()\n",
    "\n",
    "qc.measure_all()\n",
    "\n",
    "# SECTION\n",
    "# NAME: EXECUTION\n",
    "\n",
    "from qiskit import Aer, transpile, execute\n",
    "backend_7abe5979f93342ae86435c0f383eb5a1 = Aer.get_backend('qasm_simulator')\n",
    "counts = execute(qc, backend=backend_7abe5979f93342ae86435c0f383eb5a1, shots=1024).result().get_counts(qc)\n",
    "counts"
   ]
  },
  {
   "cell_type": "markdown",
   "id": "5fae97e5",
   "metadata": {},
   "source": [
    "## Plot Diagrams"
   ]
  },
  {
   "cell_type": "code",
   "execution_count": 62,
   "id": "d530cb18",
   "metadata": {
    "ExecuteTime": {
     "end_time": "2022-02-17T20:49:49.434082Z",
     "start_time": "2022-02-17T20:49:49.370896Z"
    }
   },
   "outputs": [
    {
     "data": {
      "text/html": [
       "<pre style=\"word-wrap: normal;white-space: pre;background: #fff0;line-height: 1.1;font-family: &quot;Courier New&quot;,Courier,monospace\">                                                               ┌───┐┌──────┐                            \n",
       " qr_0: ────────────────────────────────────────────────────────┤ X ├┤0     ├────────────────────────────\n",
       "                                                               └─┬─┘│      │         ┌──────────────┐   \n",
       " qr_1: ──────────────────■───────────────────────────────────────■──┤      ├─────────┤0             ├───\n",
       "                         │                                       │  │      │┌───────┐│              │   \n",
       " qr_2: ──────────────────┼─────────────────────────────■─────────┼──┤      ├┤1      ├┤              ├───\n",
       "                         │                             │         │  │      ││       ││              │   \n",
       " qr_3: ──────────────────┼─────────────────────────────┼─────────┼──┤      ├┤       ├┤  Rzx(5.0404) ├─■─\n",
       "                         │                  ┌───┐      │         │  │  Dcx ││       ││              │ │ \n",
       " qr_4: ──────────────────┼──────────────────┤ Y ├──────┼─────────┼──┤      ├┤  Rccx ├┤              ├─┼─\n",
       "       ┌─────────────────┴─────────────────┐└───┘┌─────┴──────┐  │  │      ││       ││              │ │ \n",
       " qr_5: ┤ U(3.8431,0.044399,0.14491,3.2973) ├─────┤ Rx(1.0714) ├──■──┤      ├┤2      ├┤1             ├─┼─\n",
       "       └───────────────────────────────────┘     └────────────┘  │  │      ││       │└──────────────┘ │ \n",
       " qr_6: ──────────────────────────────────────────────────────────┼──┤      ├┤0      ├─────────────────■─\n",
       "                                                                 │  │      │└───────┘                   \n",
       " qr_7: ──────────────────────────────────────────────────────────■──┤1     ├────────────────────────────\n",
       "                   ┌───────────┐                                 │  └──────┘                            \n",
       " qr_8: ────────────┤ U1(4.449) ├─────────────────────────────────■──────────────────────────────────────\n",
       "            ┌──────┴───────────┴──────┐                                                                 \n",
       " qr_9: ─────┤ U(5.0048,1.1526,4.8989) ├─────────────────────────────────────────────────────────────────\n",
       "            └─────────────────────────┘                                                                 \n",
       "cr: 10/═════════════════════════════════════════════════════════════════════════════════════════════════\n",
       "                                                                                                        </pre>"
      ],
      "text/plain": [
       "                                                               ┌───┐┌──────┐                            \n",
       " qr_0: ────────────────────────────────────────────────────────┤ X ├┤0     ├────────────────────────────\n",
       "                                                               └─┬─┘│      │         ┌──────────────┐   \n",
       " qr_1: ──────────────────■───────────────────────────────────────■──┤      ├─────────┤0             ├───\n",
       "                         │                                       │  │      │┌───────┐│              │   \n",
       " qr_2: ──────────────────┼─────────────────────────────■─────────┼──┤      ├┤1      ├┤              ├───\n",
       "                         │                             │         │  │      ││       ││              │   \n",
       " qr_3: ──────────────────┼─────────────────────────────┼─────────┼──┤      ├┤       ├┤  Rzx(5.0404) ├─■─\n",
       "                         │                  ┌───┐      │         │  │  Dcx ││       ││              │ │ \n",
       " qr_4: ──────────────────┼──────────────────┤ Y ├──────┼─────────┼──┤      ├┤  Rccx ├┤              ├─┼─\n",
       "       ┌─────────────────┴─────────────────┐└───┘┌─────┴──────┐  │  │      ││       ││              │ │ \n",
       " qr_5: ┤ U(3.8431,0.044399,0.14491,3.2973) ├─────┤ Rx(1.0714) ├──■──┤      ├┤2      ├┤1             ├─┼─\n",
       "       └───────────────────────────────────┘     └────────────┘  │  │      ││       │└──────────────┘ │ \n",
       " qr_6: ──────────────────────────────────────────────────────────┼──┤      ├┤0      ├─────────────────■─\n",
       "                                                                 │  │      │└───────┘                   \n",
       " qr_7: ──────────────────────────────────────────────────────────■──┤1     ├────────────────────────────\n",
       "                   ┌───────────┐                                 │  └──────┘                            \n",
       " qr_8: ────────────┤ U1(4.449) ├─────────────────────────────────■──────────────────────────────────────\n",
       "            ┌──────┴───────────┴──────┐                                                                 \n",
       " qr_9: ─────┤ U(5.0048,1.1526,4.8989) ├─────────────────────────────────────────────────────────────────\n",
       "            └─────────────────────────┘                                                                 \n",
       "cr: 10/═════════════════════════════════════════════════════════════════════════════════════════════════\n",
       "                                                                                                        "
      ]
     },
     "execution_count": 62,
     "metadata": {},
     "output_type": "execute_result"
    }
   ],
   "source": [
    "source_circuit = py_file\n",
    "source_circuit = source_circuit[:source_circuit.index(\"\"\"# SECTION\n",
    "# NAME: OPTIMIZATION_LEVEL\"\"\")]\n",
    "exec(source_circuit)\n",
    "qc.draw(fold=-1)"
   ]
  },
  {
   "cell_type": "code",
   "execution_count": 76,
   "id": "5c9daf19",
   "metadata": {
    "ExecuteTime": {
     "end_time": "2022-02-17T20:57:24.850227Z",
     "start_time": "2022-02-17T20:57:24.769562Z"
    }
   },
   "outputs": [
    {
     "data": {
      "text/html": [
       "<pre style=\"word-wrap: normal;white-space: pre;background: #fff0;line-height: 1.1;font-family: &quot;Courier New&quot;,Courier,monospace\">global phase: 0.53784\n",
       "                                                                       ┌───┐┌──────┐                            \n",
       " qr_0: ────────────────────────────────────────────────────────────────┤ X ├┤0     ├────────────────────────────\n",
       "                                                                       └─┬─┘│      │         ┌──────────────┐   \n",
       " qr_1: ──────────────────────────────■───────────────────────────────────■──┤      ├─────────┤0             ├───\n",
       "                                     │                                   │  │      │┌───────┐│              │   \n",
       " qr_2: ──────────────────────────────┼─────────────────────────■─────────┼──┤      ├┤1      ├┤              ├───\n",
       "                                     │                         │         │  │      ││       ││              │   \n",
       " qr_3: ──────────────────────────────┼─────────────────────────┼─────────┼──┤      ├┤       ├┤  Rzx(5.0404) ├─■─\n",
       "       ┌──────────┐                  │                         │         │  │  Dcx ││       ││              │ │ \n",
       " qr_4: ┤ R(π,π/2) ├──────────────────┼─────────────────────────┼─────────┼──┤      ├┤  Rccx ├┤              ├─┼─\n",
       "       └──────────┘┌─────────────────┴─────────────────┐ ┌─────┴──────┐  │  │      ││       ││              │ │ \n",
       " qr_5: ────────────┤ U(3.8431,0.044399,0.14491,3.2973) ├─┤ Rx(1.0714) ├──■──┤      ├┤2      ├┤1             ├─┼─\n",
       "                   └───────────────────────────────────┘ └────────────┘  │  │      ││       │└──────────────┘ │ \n",
       " qr_6: ──────────────────────────────────────────────────────────────────┼──┤      ├┤0      ├─────────────────■─\n",
       "                                                                         │  │      │└───────┘                   \n",
       " qr_7: ──────────────────────────────────────────────────────────────────■──┤1     ├────────────────────────────\n",
       "                              ┌──────────────┐            ┌──────────┐   │  └──────┘                            \n",
       " qr_8: ───────────────────────┤ R(-π,2.4879) ├────────────┤ R(π,π/2) ├───■──────────────────────────────────────\n",
       "                          ┌───┴──────────────┴──┐       ┌─┴──────────┴┐                                         \n",
       " qr_9: ───────────────────┤ R(-1.8632,-0.18655) ├───────┤ R(π,2.8392) ├─────────────────────────────────────────\n",
       "                          └─────────────────────┘       └─────────────┘                                         \n",
       "cr: 10/═════════════════════════════════════════════════════════════════════════════════════════════════════════\n",
       "                                                                                                                </pre>"
      ],
      "text/plain": [
       "global phase: 0.53784\n",
       "                                                                       ┌───┐┌──────┐                            \n",
       " qr_0: ────────────────────────────────────────────────────────────────┤ X ├┤0     ├────────────────────────────\n",
       "                                                                       └─┬─┘│      │         ┌──────────────┐   \n",
       " qr_1: ──────────────────────────────■───────────────────────────────────■──┤      ├─────────┤0             ├───\n",
       "                                     │                                   │  │      │┌───────┐│              │   \n",
       " qr_2: ──────────────────────────────┼─────────────────────────■─────────┼──┤      ├┤1      ├┤              ├───\n",
       "                                     │                         │         │  │      ││       ││              │   \n",
       " qr_3: ──────────────────────────────┼─────────────────────────┼─────────┼──┤      ├┤       ├┤  Rzx(5.0404) ├─■─\n",
       "       ┌──────────┐                  │                         │         │  │  Dcx ││       ││              │ │ \n",
       " qr_4: ┤ R(π,π/2) ├──────────────────┼─────────────────────────┼─────────┼──┤      ├┤  Rccx ├┤              ├─┼─\n",
       "       └──────────┘┌─────────────────┴─────────────────┐ ┌─────┴──────┐  │  │      ││       ││              │ │ \n",
       " qr_5: ────────────┤ U(3.8431,0.044399,0.14491,3.2973) ├─┤ Rx(1.0714) ├──■──┤      ├┤2      ├┤1             ├─┼─\n",
       "                   └───────────────────────────────────┘ └────────────┘  │  │      ││       │└──────────────┘ │ \n",
       " qr_6: ──────────────────────────────────────────────────────────────────┼──┤      ├┤0      ├─────────────────■─\n",
       "                                                                         │  │      │└───────┘                   \n",
       " qr_7: ──────────────────────────────────────────────────────────────────■──┤1     ├────────────────────────────\n",
       "                              ┌──────────────┐            ┌──────────┐   │  └──────┘                            \n",
       " qr_8: ───────────────────────┤ R(-π,2.4879) ├────────────┤ R(π,π/2) ├───■──────────────────────────────────────\n",
       "                          ┌───┴──────────────┴──┐       ┌─┴──────────┴┐                                         \n",
       " qr_9: ───────────────────┤ R(-1.8632,-0.18655) ├───────┤ R(π,2.8392) ├─────────────────────────────────────────\n",
       "                          └─────────────────────┘       └─────────────┘                                         \n",
       "cr: 10/═════════════════════════════════════════════════════════════════════════════════════════════════════════\n",
       "                                                                                                                "
      ]
     },
     "execution_count": 76,
     "metadata": {},
     "output_type": "execute_result"
    }
   ],
   "source": [
    "followup_circuit = out_code\n",
    "followup_circuit = followup_circuit[:followup_circuit.index(\"\"\"# SECTION\n",
    "# NAME: OPTIMIZATION_LEVEL\"\"\")]\n",
    "exec(followup_circuit)\n",
    "qc.decompose().draw(fold=-1)"
   ]
  },
  {
   "cell_type": "code",
   "execution_count": null,
   "id": "2bc78df4",
   "metadata": {},
   "outputs": [],
   "source": [
    "# b /home/paltenmo/.conda/envs/ML4Quantum/lib/python3.8/site-packages/qiskit/transpiler/runningpassmanager.py:166\n",
    "\n",
    "# b /home/paltenmo/.conda/envs/ML4Quantum/lib/python3.8/site-packages/qiskit/transpiler/passes/optimization/optimize_1q_gates.py:131\n",
    "\n",
    "# b /home/paltenmo/.conda/envs/ML4Quantum/lib/python3.8/site-packages/qiskit/transpiler/passes/optimization/optimize_1q_gates.py:71\n",
    "\n",
    "# b /home/paltenmo/.conda/envs/ML4Quantum/lib/python3.8/site-packages/qiskit/transpiler/passes/optimization/optimize_1q_gates.py:269"
   ]
  },
  {
   "cell_type": "code",
   "execution_count": 81,
   "id": "0e095f1e",
   "metadata": {
    "ExecuteTime": {
     "end_time": "2022-02-17T21:09:21.355559Z",
     "start_time": "2022-02-17T21:09:21.190681Z"
    }
   },
   "outputs": [],
   "source": [
    "# SECTION\n",
    "# NAME: PROLOGUE\n",
    "\n",
    "import qiskit\n",
    "from qiskit import QuantumCircuit, ClassicalRegister, QuantumRegister\n",
    "from qiskit.circuit.library.standard_gates import *\n",
    "# SECTION\n",
    "# NAME: CIRCUIT\n",
    "\n",
    "qr = QuantumRegister(10, name='qr')\n",
    "cr = ClassicalRegister(10, name='cr')\n",
    "qc = QuantumCircuit(qr, cr, name='qc')\n",
    "\n",
    "\n",
    "qr_0 = QuantumRegister(10, name='qr_0')\n",
    "cr_0 = ClassicalRegister(10, name='cr_0')\n",
    "qc_0 = QuantumCircuit(qr_0, cr_0, name='qc_0')\n",
    "\n",
    "qc_0.append(CRZGate(1.8247454048969773), qargs=[qr_0[4], qr_0[7]], cargs=[])\n",
    "qc_0.append(CUGate(5.476948687643838, 3.4124559538604733, \n",
    "    0.3424745807104799, 2.2053526120943836), qargs=[qr_0[3], qr_0[7]], cargs=[]\n",
    "    )\n",
    "qc_0.append(U2Gate(1.2349354847147693, 3.8971393660680484), qargs=[qr_0[1]],\n",
    "    cargs=[])\n",
    "qc_0.append(SXGate(), qargs=[qr_0[9]], cargs=[])\n",
    "qc_0.append(U2Gate(4.352701140819503, 1.0680192555948755), qargs=[qr_0[8]],\n",
    "    cargs=[])\n",
    "\n",
    "qr_1 = QuantumRegister(10, name='qr_1')\n",
    "cr_1 = ClassicalRegister(10, name='cr_1')\n",
    "qc_1 = QuantumCircuit(qr_1, cr_1, name='qc_1')\n",
    "\n",
    "qc_1.append(PhaseGate(1.1011617697551503), qargs=[qr_1[4]], cargs=[])\n",
    "qc_1.append(ZGate(), qargs=[qr_1[6]], cargs=[])\n",
    "qc_1.append(SdgGate(), qargs=[qr_1[5]], cargs=[])\n",
    "qc_1.append(RYGate(0.9747657404891509), qargs=[qr_1[6]], cargs=[])\n",
    "qc_1.append(CRXGate(5.8444241239849095), qargs=[qr_1[3], qr_1[9]], cargs=[])\n",
    "qc_1.append(IGate(), qargs=[qr_1[4]], cargs=[])\n",
    "qc_1.append(RYGate(1.1825501872291333), qargs=[qr_1[7]], cargs=[])\n",
    "# SECTION\n",
    "# NAME: OPTIMIZATION_PASSES\n",
    "\n",
    "from qiskit.transpiler import PassManager\n",
    "from qiskit.transpiler.passes import *\n",
    "passmanager = PassManager()\n",
    "qc = passmanager.run(qc)\n",
    "\n",
    "passmanager = PassManager()\n",
    "passmanager.append(Optimize1qGates(**{'basis': ['u']}))\n",
    "passmanager.append(Optimize1qGatesSimpleCommutation(**{'basis': 'sx', 'run_to_completion': False}))\n",
    "qc_0 = passmanager.run(qc_0)\n",
    "\n",
    "passmanager = PassManager()\n",
    "passmanager.append(CXCancellation(**{}))\n",
    "passmanager.append(Optimize1qGates(**{'basis': ['p', 'u2', 'u', 'cx', 'id']}))\n",
    "qc_1 = passmanager.run(qc_1)\n",
    "qc.append(qc_0, qargs=qr, cargs=cr)\n",
    "qc.append(qc_1, qargs=qr, cargs=cr)\n",
    "# SECTION\n",
    "# NAME: OPTIMIZATION_LEVEL\n",
    "\n",
    "from qiskit import transpile\n",
    "qc = transpile(qc, basis_gates=None, optimization_level=1, coupling_map=None)\n",
    "# SECTION\n",
    "# NAME: MEASUREMENT\n",
    "\n",
    "qc.measure(qr, cr)\n",
    "# SECTION\n",
    "# NAME: EXECUTION\n",
    "\n",
    "from qiskit import Aer, transpile, execute\n",
    "backend_d39b6cee1061482785a3bf1973b79119 = Aer.get_backend('qasm_simulator')\n",
    "counts = execute(qc, backend=backend_d39b6cee1061482785a3bf1973b79119, shots=5542).result().get_counts(qc)\n",
    "RESULT = counts\n"
   ]
  },
  {
   "cell_type": "markdown",
   "id": "a495b4d5",
   "metadata": {},
   "source": [
    "## Run Modified Code"
   ]
  },
  {
   "cell_type": "code",
   "execution_count": null,
   "id": "c20e8585",
   "metadata": {},
   "outputs": [],
   "source": [
    "from qmt import execute_single_py_program\n",
    "\n",
    "PROGRAM_ID = \"2b684bc692404d98a637751bf9cbef7e\"\n",
    "\n",
    "\n",
    "PATH_SOURCE = os.path.join(config[\"experiment_folder\"], \"programs\", \"source\", f\"{PROGRAM_ID}.py\")\n",
    "print(open(PATH_SOURCE, 'r').read())\n",
    "counts_source = execute_single_py_program(PATH_SOURCE)\n",
    "print(\"-\" * 80)"
   ]
  },
  {
   "cell_type": "markdown",
   "id": "5ce102cc",
   "metadata": {},
   "source": [
    "## Manual Usage of Optimization Passes"
   ]
  },
  {
   "cell_type": "code",
   "execution_count": null,
   "id": "3fa0062d",
   "metadata": {},
   "outputs": [],
   "source": [
    "import qiskit\n",
    "from qiskit import QuantumCircuit, ClassicalRegister, QuantumRegister\n",
    "from qiskit.circuit.library.standard_gates import *\n",
    "\n",
    "# SECTION\n",
    "# NAME: CIRCUIT\n",
    "\n",
    "qr = QuantumRegister(10, name='qr')\n",
    "cr = ClassicalRegister(10, name='cr')\n",
    "qc = QuantumCircuit(qr, cr, name='qc')\n",
    "qc.append(UGate(5.004827191577157,1.1525547765126551,4.898943037054019), qargs=[qr[9]], cargs=[])\n",
    "qc.append(U1Gate(4.448951217224888), qargs=[qr[8]], cargs=[])\n",
    "qc.append(CUGate(3.843130151069924,0.04439890513257482,0.14490549016815404,3.2972564349156697), qargs=[qr[1], qr[5]], cargs=[])\n",
    "qc.append(CRXGate(1.0714346684716647), qargs=[qr[2], qr[5]], cargs=[])\n",
    "qc.append(C4XGate(), qargs=[qr[8], qr[5], qr[1], qr[7], qr[0]], cargs=[])\n",
    "qc.append(DCXGate(), qargs=[qr[0], qr[7]], cargs=[])\n",
    "qc.append(YGate(), qargs=[qr[4]], cargs=[])\n",
    "qc.append(RCCXGate(), qargs=[qr[6], qr[2], qr[5]], cargs=[])\n",
    "qc.append(RZXGate(5.040352282937607), qargs=[qr[1], qr[5]], cargs=[])\n",
    "qc.append(CZGate(), qargs=[qr[6], qr[3]], cargs=[])\n",
    "\n",
    "# SECTION\n",
    "# NAME: OPTIMIZATION_PASSES\n",
    "\n",
    "from qiskit.transpiler import PassManager\n",
    "from qiskit.transpiler.passes import *\n",
    "passmanager = PassManager()\n",
    "passmanager.append()\n",
    "\n",
    "qc = passmanager.run(qc)\n",
    "\n",
    "qc.draw(fold=-1)"
   ]
  },
  {
   "cell_type": "code",
   "execution_count": 37,
   "id": "1755606c",
   "metadata": {
    "ExecuteTime": {
     "end_time": "2022-02-17T14:47:08.021352Z",
     "start_time": "2022-02-17T14:47:07.972139Z"
    }
   },
   "outputs": [],
   "source": [
    "\n",
    "from qiskit.transpiler import PassManager\n",
    "from qiskit.transpiler.passes import *"
   ]
  },
  {
   "cell_type": "code",
   "execution_count": 38,
   "id": "1512fa14",
   "metadata": {
    "ExecuteTime": {
     "end_time": "2022-02-17T14:47:08.627988Z",
     "start_time": "2022-02-17T14:47:08.582160Z"
    }
   },
   "outputs": [
    {
     "data": {
      "text/plain": [
       "<qiskit.transpiler.passes.optimization.optimize_1q_decomposition.Optimize1qGatesDecomposition at 0x7f6fe06f1e20>"
      ]
     },
     "execution_count": 38,
     "metadata": {},
     "output_type": "execute_result"
    }
   ],
   "source": [
    "Optimize1qGatesDecomposition(basis=['u3', 'cx'])"
   ]
  },
  {
   "cell_type": "code",
   "execution_count": 41,
   "id": "590b559f",
   "metadata": {
    "ExecuteTime": {
     "end_time": "2022-02-17T15:07:28.525018Z",
     "start_time": "2022-02-17T15:07:28.473335Z"
    }
   },
   "outputs": [
    {
     "data": {
      "text/plain": [
       "\"Opt(**{'basis': ['u3', 'cx'], 'replace': True})\""
      ]
     },
     "execution_count": 41,
     "metadata": {},
     "output_type": "execute_result"
    }
   ],
   "source": [
    "kwargs = {\"basis\": [\"u3\", 'cx'], \"replace\": True}\n",
    "f\"Opt(**{str(kwargs)})\""
   ]
  },
  {
   "cell_type": "markdown",
   "id": "cfda1c8b",
   "metadata": {},
   "source": [
    "## BUG EXPLORATION - HOARE OPTIMIZER"
   ]
  },
  {
   "cell_type": "code",
   "execution_count": 11,
   "id": "011b4a3a",
   "metadata": {
    "ExecuteTime": {
     "end_time": "2022-02-17T21:36:07.257782Z",
     "start_time": "2022-02-17T21:36:07.227894Z"
    }
   },
   "outputs": [],
   "source": [
    "# 824c28fef26e41ab8ca656c1068c5799"
   ]
  },
  {
   "cell_type": "markdown",
   "id": "2ff99605",
   "metadata": {},
   "source": [
    "### Source"
   ]
  },
  {
   "cell_type": "code",
   "execution_count": 5,
   "id": "a496a0e6",
   "metadata": {
    "ExecuteTime": {
     "end_time": "2022-02-17T21:34:44.762847Z",
     "start_time": "2022-02-17T21:34:44.712670Z"
    }
   },
   "outputs": [
    {
     "data": {
      "text/html": [
       "<pre style=\"word-wrap: normal;white-space: pre;background: #fff0;line-height: 1.1;font-family: &quot;Courier New&quot;,Courier,monospace\">           ┌──────┐              ┌──────────────────────────┐┌───┐┌────────────────────────┐┌───┐                                        ┌───────────────────────┐                                          ┌─┐   \n",
       "qr_0: ──■──┤1     ├─■──X───────X─┤ U3(3.1334,2.0783,3.8529) ├┤ X ├┤ U(3.2932,4.616,5.8079) ├┤ X ├──────────────────────────────X──────■──┤ U3(2.52,6.119,3.3816) ├────────────────────────────X──■──────────┤M├───\n",
       "        │  │  Dcx │ │  │ ┌───┐ │ └──────────────────────────┘└───┘└────────────────────────┘└─┬─┘┌───────────────────────────┐ │    ┌─┴─┐└───────────────────────┘┌─────────────────────────┐ │  │ZZ(1.255) └╥┘┌─┐\n",
       "qr_1: ──┼──┤0     ├─X──┼─┤ X ├─┼──────────────────────────────────────────────────────────────■──┤ U3(0.97808,2.5266,5.7995) ├─X──X─┤ H ├────────────■────────────┤ U(3.7317,4.5372,0.4215) ├─X──■───────────╫─┤M├\n",
       "      ┌─┴─┐└──────┘ │  │ └───┘ │                                                              │  └─────────────┬─────────────┘    │ └───┘      ┌─────┴──────┐     └───────────┬─┬───────────┘                ║ └╥┘\n",
       "qr_2: ┤ H ├─────────X──X───────X──────────────────────────────────────────────────────────────■────────────────■──────────────────X────────────┤ Rz(6.1018) ├─────────────────┤M├────────────────────────────╫──╫─\n",
       "      └───┘                                                                                                                                    └────────────┘                 └╥┘                            ║  ║ \n",
       "cr: 3/═════════════════════════════════════════════════════════════════════════════════════════════════════════════════════════════════════════════════════════════════════════╩═════════════════════════════╩══╩═\n",
       "                                                                                                                                                                               2                             0  1 </pre>"
      ],
      "text/plain": [
       "           ┌──────┐              ┌──────────────────────────┐┌───┐┌────────────────────────┐┌───┐                                        ┌───────────────────────┐                                          ┌─┐   \n",
       "qr_0: ──■──┤1     ├─■──X───────X─┤ U3(3.1334,2.0783,3.8529) ├┤ X ├┤ U(3.2932,4.616,5.8079) ├┤ X ├──────────────────────────────X──────■──┤ U3(2.52,6.119,3.3816) ├────────────────────────────X──■──────────┤M├───\n",
       "        │  │  Dcx │ │  │ ┌───┐ │ └──────────────────────────┘└───┘└────────────────────────┘└─┬─┘┌───────────────────────────┐ │    ┌─┴─┐└───────────────────────┘┌─────────────────────────┐ │  │ZZ(1.255) └╥┘┌─┐\n",
       "qr_1: ──┼──┤0     ├─X──┼─┤ X ├─┼──────────────────────────────────────────────────────────────■──┤ U3(0.97808,2.5266,5.7995) ├─X──X─┤ H ├────────────■────────────┤ U(3.7317,4.5372,0.4215) ├─X──■───────────╫─┤M├\n",
       "      ┌─┴─┐└──────┘ │  │ └───┘ │                                                              │  └─────────────┬─────────────┘    │ └───┘      ┌─────┴──────┐     └───────────┬─┬───────────┘                ║ └╥┘\n",
       "qr_2: ┤ H ├─────────X──X───────X──────────────────────────────────────────────────────────────■────────────────■──────────────────X────────────┤ Rz(6.1018) ├─────────────────┤M├────────────────────────────╫──╫─\n",
       "      └───┘                                                                                                                                    └────────────┘                 └╥┘                            ║  ║ \n",
       "cr: 3/═════════════════════════════════════════════════════════════════════════════════════════════════════════════════════════════════════════════════════════════════════════╩═════════════════════════════╩══╩═\n",
       "                                                                                                                                                                               2                             0  1 "
      ]
     },
     "execution_count": 5,
     "metadata": {},
     "output_type": "execute_result"
    }
   ],
   "source": [
    "# SECTION\n",
    "# NAME: PROLOGUE\n",
    "\n",
    "import qiskit\n",
    "from qiskit import QuantumCircuit, ClassicalRegister, QuantumRegister\n",
    "from qiskit.circuit.library.standard_gates import *\n",
    "\n",
    "# SECTION\n",
    "# NAME: CIRCUIT\n",
    "\n",
    "qr = QuantumRegister(3, name='qr')\n",
    "cr = ClassicalRegister(3, name='cr')\n",
    "qc = QuantumCircuit(qr, cr, name='qc')\n",
    "qc.append(CHGate(), qargs=[qr[0], qr[2]], cargs=[])\n",
    "qc.append(DCXGate(), qargs=[qr[1], qr[0]], cargs=[])\n",
    "qc.append(CSwapGate(), qargs=[qr[0], qr[1], qr[2]], cargs=[])\n",
    "qc.append(SwapGate(), qargs=[qr[0], qr[2]], cargs=[])\n",
    "qc.append(SwapGate(), qargs=[qr[0], qr[2]], cargs=[])\n",
    "qc.append(U3Gate(3.1333796742925704,2.0782915724294266,3.8528667493673407), qargs=[qr[0]], cargs=[])\n",
    "qc.append(XGate(), qargs=[qr[0]], cargs=[])\n",
    "qc.append(XGate(), qargs=[qr[1]], cargs=[])\n",
    "qc.append(UGate(3.2932004434738897,4.615954301356511,5.807945035399611), qargs=[qr[0]], cargs=[])\n",
    "qc.append(CCXGate(), qargs=[qr[1], qr[2], qr[0]], cargs=[])\n",
    "qc.append(CU3Gate(0.9780797026556811,2.5266379849635308,5.799484270194845), qargs=[qr[2], qr[1]], cargs=[])\n",
    "qc.append(SwapGate(), qargs=[qr[0], qr[1]], cargs=[])\n",
    "qc.append(SwapGate(), qargs=[qr[1], qr[2]], cargs=[])\n",
    "qc.append(CHGate(), qargs=[qr[0], qr[1]], cargs=[])\n",
    "qc.append(CRZGate(6.101795211804666), qargs=[qr[1], qr[2]], cargs=[])\n",
    "qc.append(U3Gate(2.5199573414643814,6.119039916799916,3.381561021165288), qargs=[qr[0]], cargs=[])\n",
    "qc.append(UGate(3.731686677882394,4.537227390583343,0.42149888050188145), qargs=[qr[1]], cargs=[])\n",
    "qc.append(SwapGate(), qargs=[qr[0], qr[1]], cargs=[])\n",
    "qc.append(RZZGate(1.2549960087029204), qargs=[qr[1], qr[0]], cargs=[])\n",
    "\n",
    "# SECTION\n",
    "# NAME: OPTIMIZATION_PASSES\n",
    "\n",
    "from qiskit.transpiler import PassManager\n",
    "from qiskit.transpiler.passes import *\n",
    "passmanager = PassManager()\n",
    "qc = passmanager.run(qc)\n",
    "\n",
    "# SECTION\n",
    "# NAME: OPTIMIZATION_LEVEL\n",
    "\n",
    "from qiskit import transpile\n",
    "qc = transpile(qc, basis_gates=None, optimization_level=2, coupling_map=None)\n",
    "\n",
    "# SECTION\n",
    "# NAME: MEASUREMENT\n",
    "\n",
    "qc.measure(qr, cr)\n",
    "qc.draw(fold=-1)"
   ]
  },
  {
   "cell_type": "code",
   "execution_count": 7,
   "id": "424db463",
   "metadata": {
    "ExecuteTime": {
     "end_time": "2022-02-17T21:35:08.672404Z",
     "start_time": "2022-02-17T21:35:08.604098Z"
    }
   },
   "outputs": [
    {
     "data": {
      "text/plain": [
       "{'110': 12, '100': 103, '001': 1, '101': 325, '111': 48}"
      ]
     },
     "execution_count": 7,
     "metadata": {},
     "output_type": "execute_result"
    }
   ],
   "source": [
    "# SECTION\n",
    "# NAME: EXECUTION\n",
    "\n",
    "from qiskit import Aer, transpile, execute\n",
    "backend_98ae9f2e9e3f4728a9fa5a427cf0751b = Aer.get_backend('qasm_simulator')\n",
    "counts_source = execute(qc, backend=backend_98ae9f2e9e3f4728a9fa5a427cf0751b, shots=489).result().get_counts(qc)\n",
    "counts_source"
   ]
  },
  {
   "cell_type": "markdown",
   "id": "f2f048cb",
   "metadata": {},
   "source": [
    "### Follow"
   ]
  },
  {
   "cell_type": "code",
   "execution_count": 13,
   "id": "9d8b6df2",
   "metadata": {
    "ExecuteTime": {
     "end_time": "2022-02-17T21:38:17.274167Z",
     "start_time": "2022-02-17T21:38:17.173733Z"
    }
   },
   "outputs": [],
   "source": [
    "# SECTION\n",
    "# NAME: PROLOGUE\n",
    "\n",
    "import qiskit\n",
    "from qiskit import QuantumCircuit, ClassicalRegister, QuantumRegister\n",
    "from qiskit.circuit.library.standard_gates import *\n",
    "# SECTION\n",
    "# NAME: CIRCUIT\n",
    "\n",
    "qr = QuantumRegister(3, name='qr')\n",
    "cr = ClassicalRegister(3, name='cr')\n",
    "qc = QuantumCircuit(qr, cr, name='qc')\n",
    "\n",
    "\n",
    "qr_0 = QuantumRegister(3, name='qr_0')\n",
    "cr_0 = ClassicalRegister(3, name='cr_0')\n",
    "qc_0 = QuantumCircuit(qr_0, cr_0, name='qc_0')\n",
    "\n",
    "qc_0.append(CHGate(), qargs=[qr_0[0], qr_0[2]], cargs=[])\n",
    "qc_0.append(DCXGate(), qargs=[qr_0[1], qr_0[0]], cargs=[])\n",
    "qc_0.append(CSwapGate(), qargs=[qr_0[0], qr_0[1], qr_0[2]], cargs=[])\n",
    "qc_0.append(SwapGate(), qargs=[qr_0[0], qr_0[2]], cargs=[])\n",
    "qc_0.append(SwapGate(), qargs=[qr_0[0], qr_0[2]], cargs=[])\n",
    "qc_0.append(U3Gate(3.1333796742925704, 2.0782915724294266, \n",
    "    3.8528667493673407), qargs=[qr_0[0]], cargs=[])\n",
    "qc_0.append(XGate(), qargs=[qr_0[0]], cargs=[])\n",
    "qc_0.append(XGate(), qargs=[qr_0[1]], cargs=[])\n",
    "qc_0.append(UGate(3.2932004434738897, 4.615954301356511, 5.807945035399611),\n",
    "    qargs=[qr_0[0]], cargs=[])\n",
    "qc_0.append(CCXGate(), qargs=[qr_0[1], qr_0[2], qr_0[0]], cargs=[])\n",
    "qc_0.append(CU3Gate(0.9780797026556811, 2.5266379849635308, \n",
    "    5.799484270194845), qargs=[qr_0[2], qr_0[1]], cargs=[])\n",
    "\n",
    "qr_1 = QuantumRegister(3, name='qr_1')\n",
    "cr_1 = ClassicalRegister(3, name='cr_1')\n",
    "qc_1 = QuantumCircuit(qr_1, cr_1, name='qc_1')\n",
    "\n",
    "qc_1.append(SwapGate(), qargs=[qr_1[0], qr_1[1]], cargs=[])\n",
    "qc_1.append(SwapGate(), qargs=[qr_1[1], qr_1[2]], cargs=[])\n",
    "qc_1.append(CHGate(), qargs=[qr_1[0], qr_1[1]], cargs=[])\n",
    "qc_1.append(CRZGate(6.101795211804666), qargs=[qr_1[1], qr_1[2]], cargs=[])\n",
    "qc_1.append(U3Gate(2.5199573414643814, 6.119039916799916, 3.381561021165288\n",
    "    ), qargs=[qr_1[0]], cargs=[])\n",
    "qc_1.append(UGate(3.731686677882394, 4.537227390583343, 0.42149888050188145\n",
    "    ), qargs=[qr_1[1]], cargs=[])\n",
    "qc_1.append(SwapGate(), qargs=[qr_1[0], qr_1[1]], cargs=[])\n",
    "qc_1.append(RZZGate(1.2549960087029204), qargs=[qr_1[1], qr_1[0]], cargs=[])\n",
    "# SECTION\n",
    "# NAME: OPTIMIZATION_PASSES\n",
    "\n",
    "from qiskit.transpiler import PassManager\n",
    "from qiskit.transpiler.passes import *\n",
    "passmanager = PassManager()\n",
    "qc = passmanager.run(qc)\n",
    "\n",
    "passmanager = PassManager()\n",
    "passmanager.append(Optimize1qGatesDecomposition(**{'basis': ['u1', 'rx']}))\n",
    "passmanager.append(OptimizeSwapBeforeMeasure(**{}))\n",
    "qc_0 = passmanager.run(qc_0)\n",
    "\n",
    "passmanager = PassManager()\n",
    "passmanager.append(HoareOptimizer(**{'size': 0}))\n",
    "passmanager.append(CommutationAnalysis())\n",
    "passmanager.append(CommutativeCancellation(**{'basis_gates': ['cx', 'p', 'sx']}))\n",
    "qc_1 = passmanager.run(qc_1)\n",
    "qc.append(qc_0, qargs=qr, cargs=cr)\n",
    "qc.append(qc_1, qargs=qr, cargs=cr)\n",
    "# SECTION\n",
    "# NAME: OPTIMIZATION_LEVEL\n",
    "\n",
    "from qiskit import transpile\n",
    "qc = transpile(qc, basis_gates=None, optimization_level=2, coupling_map=None)\n",
    "# SECTION\n",
    "# NAME: MEASUREMENT"
   ]
  },
  {
   "cell_type": "code",
   "execution_count": 34,
   "id": "2585f86f",
   "metadata": {
    "ExecuteTime": {
     "end_time": "2022-02-17T21:39:20.190963Z",
     "start_time": "2022-02-17T21:39:20.101425Z"
    }
   },
   "outputs": [
    {
     "data": {
      "text/plain": [
       "<qiskit.circuit.instructionset.InstructionSet at 0x7f9ad76bd2c0>"
      ]
     },
     "execution_count": 34,
     "metadata": {},
     "output_type": "execute_result"
    }
   ],
   "source": [
    "# SECTION\n",
    "# NAME: PROLOGUE\n",
    "\n",
    "import qiskit\n",
    "from qiskit import QuantumCircuit, ClassicalRegister, QuantumRegister\n",
    "from qiskit.circuit.library.standard_gates import *\n",
    "# SECTION\n",
    "# NAME: CIRCUIT\n",
    "\n",
    "qr = QuantumRegister(3, name='qr')\n",
    "cr = ClassicalRegister(3, name='cr')\n",
    "qc = QuantumCircuit(qr, cr, name='qc')\n",
    "\n",
    "\n",
    "qr_0 = QuantumRegister(3, name='qr_0')\n",
    "cr_0 = ClassicalRegister(3, name='cr_0')\n",
    "qc_0 = QuantumCircuit(qr_0, cr_0, name='qc_0')\n",
    "\n",
    "qc_0.append(CHGate(), qargs=[qr_0[0], qr_0[2]], cargs=[])\n",
    "qc_0.append(DCXGate(), qargs=[qr_0[1], qr_0[0]], cargs=[])\n",
    "qc_0.append(CSwapGate(), qargs=[qr_0[0], qr_0[1], qr_0[2]], cargs=[])\n",
    "qc_0.append(SwapGate(), qargs=[qr_0[0], qr_0[2]], cargs=[])\n",
    "qc_0.append(SwapGate(), qargs=[qr_0[0], qr_0[2]], cargs=[])\n",
    "qc_0.append(U3Gate(3.1333796742925704, 2.0782915724294266, \n",
    "    3.8528667493673407), qargs=[qr_0[0]], cargs=[])\n",
    "qc_0.append(XGate(), qargs=[qr_0[0]], cargs=[])\n",
    "qc_0.append(XGate(), qargs=[qr_0[1]], cargs=[])\n",
    "qc_0.append(UGate(3.2932004434738897, 4.615954301356511, 5.807945035399611),\n",
    "    qargs=[qr_0[0]], cargs=[])\n",
    "qc_0.append(CCXGate(), qargs=[qr_0[1], qr_0[2], qr_0[0]], cargs=[])\n",
    "qc_0.append(CU3Gate(0.9780797026556811, 2.5266379849635308, \n",
    "    5.799484270194845), qargs=[qr_0[2], qr_0[1]], cargs=[])\n",
    "\n",
    "qr_1 = QuantumRegister(3, name='qr_1')\n",
    "cr_1 = ClassicalRegister(3, name='cr_1')\n",
    "qc_1 = QuantumCircuit(qr_1, cr_1, name='qc_1')\n",
    "\n",
    "qc_1.append(SwapGate(), qargs=[qr_1[0], qr_1[1]], cargs=[])\n",
    "qc_1.append(SwapGate(), qargs=[qr_1[1], qr_1[2]], cargs=[])\n",
    "qc_1.append(CHGate(), qargs=[qr_1[0], qr_1[1]], cargs=[])\n",
    "qc_1.append(CRZGate(6.101795211804666), qargs=[qr_1[1], qr_1[2]], cargs=[])\n",
    "qc_1.append(U3Gate(2.5199573414643814, 6.119039916799916, 3.381561021165288\n",
    "    ), qargs=[qr_1[0]], cargs=[])\n",
    "qc_1.append(UGate(3.731686677882394, 4.537227390583343, 0.42149888050188145\n",
    "    ), qargs=[qr_1[1]], cargs=[])\n",
    "qc_1.append(SwapGate(), qargs=[qr_1[0], qr_1[1]], cargs=[])\n",
    "qc_1.append(RZZGate(1.2549960087029204), qargs=[qr_1[1], qr_1[0]], cargs=[])\n",
    "# SECTION\n",
    "# NAME: OPTIMIZATION_PASSES\n",
    "\n",
    "from qiskit.transpiler import PassManager\n",
    "from qiskit.transpiler.passes import *\n",
    "passmanager = PassManager()\n",
    "qc = passmanager.run(qc)\n",
    "\n",
    "passmanager = PassManager()\n",
    "passmanager.append(Optimize1qGatesDecomposition(**{'basis': ['u1', 'rx']}))\n",
    "passmanager.append(OptimizeSwapBeforeMeasure(**{}))\n",
    "qc_0 = passmanager.run(qc_0)\n",
    "\n",
    "passmanager = PassManager()\n",
    "passmanager.append(HoareOptimizer(**{'size': 0}))\n",
    "passmanager.append(CommutationAnalysis())\n",
    "passmanager.append(CommutativeCancellation(**{'basis_gates': ['cx', 'p', 'sx']}))\n",
    "qc_1 = passmanager.run(qc_1)\n",
    "qc.append(qc_0, qargs=qr, cargs=cr)\n",
    "qc.append(qc_1, qargs=qr, cargs=cr)\n",
    "# SECTION\n",
    "# NAME: OPTIMIZATION_LEVEL\n",
    "\n",
    "from qiskit import transpile\n",
    "qc = transpile(qc, basis_gates=None, optimization_level=2, coupling_map=None)\n",
    "# SECTION\n",
    "# NAME: MEASUREMENT\n",
    "\n",
    "qc.measure(qr, cr)"
   ]
  },
  {
   "cell_type": "code",
   "execution_count": 35,
   "id": "7f2329aa",
   "metadata": {
    "ExecuteTime": {
     "end_time": "2022-02-17T21:39:20.679581Z",
     "start_time": "2022-02-17T21:39:20.601394Z"
    }
   },
   "outputs": [
    {
     "data": {
      "text/html": [
       "<pre style=\"word-wrap: normal;white-space: pre;background: #fff0;line-height: 1.1;font-family: &quot;Courier New&quot;,Courier,monospace\">global phase: 5.2609\n",
       "           ┌──────┐                    ┌────────────┐┌─────────┐┌──────────────┐┌─────────┐┌─────────────┐┌───┐  ┌───────────────────────┐                                            ┌─┐   \n",
       "qr_0: ──■──┤1     ├─■──X─────────────X─┤ U1(1.3306) ├┤ Rx(π/2) ├┤ U1(-0.14485) ├┤ Rx(π/2) ├┤ U1(-1.6357) ├┤ X ├──┤ U3(2.52,6.119,3.3816) ├──────────────────────────────X──■──────────┤M├───\n",
       "        │  │  Dcx │ │  │ ┌─────────┐ │ └┬─────────┬─┘└─────────┘└──────────────┘└─────────┘└─────────────┘└─┬─┘┌─┴───────────────────────┴─┐┌─────────────────────────┐ │  │ZZ(1.255) └╥┘┌─┐\n",
       "qr_1: ──┼──┤0     ├─X──┼─┤ Rx(π/2) ├─┼──┤ Rx(π/2) ├─────────────────────────────────────────────────────────■──┤ U3(0.97808,2.5266,5.7995) ├┤ U(3.7317,4.5372,0.4215) ├─X──■───────────╫─┤M├\n",
       "      ┌─┴─┐└──────┘ │  │ └─────────┘ │  └─────────┘                                                         │  └─────────────┬─────────────┘└───────────┬─┬───────────┘                ║ └╥┘\n",
       "qr_2: ┤ H ├─────────X──X─────────────X──────────────────────────────────────────────────────────────────────■────────────────■──────────────────────────┤M├────────────────────────────╫──╫─\n",
       "      └───┘                                                                                                                                             └╥┘                            ║  ║ \n",
       "cr: 3/═══════════════════════════════════════════════════════════════════════════════════════════════════════════════════════════════════════════════════╩═════════════════════════════╩══╩═\n",
       "                                                                                                                                                         2                             0  1 </pre>"
      ],
      "text/plain": [
       "global phase: 5.2609\n",
       "           ┌──────┐                    ┌────────────┐┌─────────┐┌──────────────┐┌─────────┐┌─────────────┐┌───┐  ┌───────────────────────┐                                            ┌─┐   \n",
       "qr_0: ──■──┤1     ├─■──X─────────────X─┤ U1(1.3306) ├┤ Rx(π/2) ├┤ U1(-0.14485) ├┤ Rx(π/2) ├┤ U1(-1.6357) ├┤ X ├──┤ U3(2.52,6.119,3.3816) ├──────────────────────────────X──■──────────┤M├───\n",
       "        │  │  Dcx │ │  │ ┌─────────┐ │ └┬─────────┬─┘└─────────┘└──────────────┘└─────────┘└─────────────┘└─┬─┘┌─┴───────────────────────┴─┐┌─────────────────────────┐ │  │ZZ(1.255) └╥┘┌─┐\n",
       "qr_1: ──┼──┤0     ├─X──┼─┤ Rx(π/2) ├─┼──┤ Rx(π/2) ├─────────────────────────────────────────────────────────■──┤ U3(0.97808,2.5266,5.7995) ├┤ U(3.7317,4.5372,0.4215) ├─X──■───────────╫─┤M├\n",
       "      ┌─┴─┐└──────┘ │  │ └─────────┘ │  └─────────┘                                                         │  └─────────────┬─────────────┘└───────────┬─┬───────────┘                ║ └╥┘\n",
       "qr_2: ┤ H ├─────────X──X─────────────X──────────────────────────────────────────────────────────────────────■────────────────■──────────────────────────┤M├────────────────────────────╫──╫─\n",
       "      └───┘                                                                                                                                             └╥┘                            ║  ║ \n",
       "cr: 3/═══════════════════════════════════════════════════════════════════════════════════════════════════════════════════════════════════════════════════╩═════════════════════════════╩══╩═\n",
       "                                                                                                                                                         2                             0  1 "
      ]
     },
     "execution_count": 35,
     "metadata": {},
     "output_type": "execute_result"
    }
   ],
   "source": [
    "\n",
    "# SECTION\n",
    "# NAME: EXECUTION\n",
    "qc.decompose().draw(fold=-1)"
   ]
  },
  {
   "cell_type": "code",
   "execution_count": 36,
   "id": "e18fc66c",
   "metadata": {
    "ExecuteTime": {
     "end_time": "2022-02-17T21:39:21.124483Z",
     "start_time": "2022-02-17T21:39:21.004873Z"
    }
   },
   "outputs": [
    {
     "data": {
      "text/plain": [
       "{'011': 6, '001': 50, '000': 393, '010': 40}"
      ]
     },
     "execution_count": 36,
     "metadata": {},
     "output_type": "execute_result"
    }
   ],
   "source": [
    "from qiskit import Aer, transpile, execute\n",
    "backend_98ae9f2e9e3f4728a9fa5a427cf0751b = Aer.get_backend('qasm_simulator')\n",
    "counts_follow = execute(qc, backend=backend_98ae9f2e9e3f4728a9fa5a427cf0751b, shots=489).result().get_counts(qc)\n",
    "counts_follow"
   ]
  },
  {
   "cell_type": "markdown",
   "id": "d50636a3",
   "metadata": {},
   "source": [
    "### Compare"
   ]
  },
  {
   "cell_type": "code",
   "execution_count": 37,
   "id": "cbc23fbc",
   "metadata": {
    "ExecuteTime": {
     "end_time": "2022-02-17T21:39:22.346499Z",
     "start_time": "2022-02-17T21:39:21.962382Z"
    }
   },
   "outputs": [
    {
     "name": "stdout",
     "output_type": "stream",
     "text": [
      "stat: 0.9979550102249489, pval: 3.00174276774921e-290\n",
      "n_qubits: 3\n",
      "n_shots_platform_a: 489.0\n",
      "n_shots_platform_b: 489.0\n",
      "Uniform threshold: 0.125\n"
     ]
    },
    {
     "data": {
      "image/png": "[encoded data removed]",
      "text/plain": [
       "<Figure size 720x432 with 1 Axes>"
      ]
     },
     "metadata": {
      "needs_background": "light"
     },
     "output_type": "display_data"
    },
    {
     "data": {
      "text/plain": [
       "<inspector.OneNightStandInspector at 0x7f9ad7865250>"
      ]
     },
     "execution_count": 37,
     "metadata": {},
     "output_type": "execute_result"
    }
   ],
   "source": [
    "from inspector import OneNightStandInspector\n",
    "from detectors import KS_Detector, Energy_Detector\n",
    "detector = KS_Detector()\n",
    "stat, pval = detector.check(counts_source, counts_follow)\n",
    "print(f\"stat: {stat}, pval: {pval}\")\n",
    "OneNightStandInspector(counts_source, counts_follow, name_a=\"source\", name_b=\"follow\", top_perc=1)"
   ]
  },
  {
   "cell_type": "code",
   "execution_count": null,
   "id": "6b3fb738",
   "metadata": {},
   "outputs": [],
   "source": []
  }
 ],
 "metadata": {
  "kernelspec": {
   "display_name": "Python 3 (ipykernel)",
   "language": "python",
   "name": "python3"
  },
  "language_info": {
   "codemirror_mode": {
    "name": "ipython",
    "version": 3
   },
   "file_extension": ".py",
   "mimetype": "text/x-python",
   "name": "python",
   "nbconvert_exporter": "python",
   "pygments_lexer": "ipython3",
   "version": "3.8.0"
  },
  "toc": {
   "base_numbering": 1,
   "nav_menu": {},
   "number_sections": true,
   "sideBar": true,
   "skip_h1_title": false,
   "title_cell": "Table of Contents",
   "title_sidebar": "Contents",
   "toc_cell": false,
   "toc_position": {},
   "toc_section_display": true,
   "toc_window_display": true
  }
 },
 "nbformat": 4,
 "nbformat_minor": 5
}
